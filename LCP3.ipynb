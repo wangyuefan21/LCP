{
 "cells": [
  {
   "cell_type": "markdown",
   "id": "bff4ca65",
   "metadata": {},
   "source": [
    "### 20220409<a id='496'></a>\n",
    "<strong>250. Count Univalue Subtrees.py</strong>"
   ]
  },
  {
   "cell_type": "code",
   "execution_count": null,
   "id": "f8cf0e89",
   "metadata": {},
   "outputs": [],
   "source": [
    "def countUnivalSubtrees(root):\n",
    "    ans = 0\n",
    "    def check(root):\n",
    "        nonlocal ans\n",
    "        if root is None:\n",
    "            return\n",
    "        if not root.left and not root.right:\n",
    "            ans += 1\n",
    "            return root.val\n",
    "        if root.left and root.right:\n",
    "            left = check(root.left)\n",
    "            right = check(root.right)\n",
    "            if left == right == root.val:\n",
    "                ans += 1\n",
    "                return left\n",
    "            return None\n",
    "        if root.left:\n",
    "            left = check(root.left)\n",
    "            if left == root.val:\n",
    "                ans += 1\n",
    "                return left\n",
    "            return None\n",
    "        if root.right:\n",
    "            right = check(root.right)\n",
    "            if right == root.val:\n",
    "                ans += 1\n",
    "                return right\n",
    "            return None\n",
    "    check(root)\n",
    "    return ans"
   ]
  },
  {
   "cell_type": "code",
   "execution_count": null,
   "id": "b50ecee3",
   "metadata": {},
   "outputs": [],
   "source": [
    "class TreeNode:\n",
    "    def __init__(self, val=0, left=None, right=None):\n",
    "        self.val = val\n",
    "        self.left = left\n",
    "        self.right = right"
   ]
  },
  {
   "cell_type": "code",
   "execution_count": null,
   "id": "5e9c568e",
   "metadata": {},
   "outputs": [],
   "source": [
    "root = TreeNode(5)\n",
    "root.left = TreeNode(1)\n",
    "root.left.left = TreeNode(5)\n",
    "root.left.right = TreeNode(5)\n",
    "root.right = TreeNode(5)\n",
    "root.right.right = TreeNode(5)\n",
    "countUnivalSubtrees(root)==4"
   ]
  },
  {
   "cell_type": "code",
   "execution_count": null,
   "id": "b7533b1f",
   "metadata": {},
   "outputs": [],
   "source": [
    "root = TreeNode(5)\n",
    "root.left = TreeNode(5)\n",
    "root.left.left = TreeNode(5)\n",
    "root.left.right = TreeNode(5)\n",
    "root.right = TreeNode(5)\n",
    "root.right.right = TreeNode(1)\n",
    "countUnivalSubtrees(root)==4"
   ]
  },
  {
   "cell_type": "code",
   "execution_count": null,
   "id": "c194f0d9",
   "metadata": {},
   "outputs": [],
   "source": [
    "root = TreeNode(5)\n",
    "root.left = TreeNode(1)\n",
    "root.left.left = TreeNode(1)\n",
    "root.left.right = TreeNode(1)\n",
    "root.left.left.left = TreeNode(1)\n",
    "root.right = TreeNode(5)\n",
    "root.right.right = TreeNode(5)\n",
    "countUnivalSubtrees(root)==6"
   ]
  },
  {
   "cell_type": "code",
   "execution_count": null,
   "id": "367242e0",
   "metadata": {},
   "outputs": [],
   "source": [
    "root = TreeNode(5)\n",
    "root.left = TreeNode(5)\n",
    "root.right = TreeNode(1)\n",
    "countUnivalSubtrees(root)==2"
   ]
  },
  {
   "cell_type": "code",
   "execution_count": null,
   "id": "ebe8402b",
   "metadata": {},
   "outputs": [],
   "source": [
    "root = TreeNode(9)\n",
    "root.left = TreeNode(0)\n",
    "root.right = TreeNode(0)\n",
    "root.left.right = TreeNode(8)\n",
    "root.left.right.left = TreeNode(89)\n",
    "root.left.right.right = TreeNode(-38)\n",
    "root.right.left = TreeNode(8)\n",
    "root.right.left.left = TreeNode(-38)\n",
    "root.right.left.right = TreeNode(89)\n",
    "countUnivalSubtrees(root)==4"
   ]
  }
 ],
 "metadata": {
  "kernelspec": {
   "display_name": "Python 3",
   "language": "python",
   "name": "python3"
  },
  "language_info": {
   "codemirror_mode": {
    "name": "ipython",
    "version": 3
   },
   "file_extension": ".py",
   "mimetype": "text/x-python",
   "name": "python",
   "nbconvert_exporter": "python",
   "pygments_lexer": "ipython3",
   "version": "3.8.8"
  }
 },
 "nbformat": 4,
 "nbformat_minor": 5
}
