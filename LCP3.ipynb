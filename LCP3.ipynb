{
 "cells": [
  {
   "cell_type": "markdown",
   "id": "204e8327",
   "metadata": {},
   "source": [
    "### 20220409<a id='250'></a>\n",
    "<strong>250. Count Univalue Subtrees</strong>"
   ]
  },
  {
   "cell_type": "code",
   "execution_count": null,
   "id": "cfbd2102",
   "metadata": {},
   "outputs": [],
   "source": [
    "def countUnivalSubtrees(root):\n",
    "    ans = 0\n",
    "    def check(root):\n",
    "        nonlocal ans\n",
    "        if root is None:\n",
    "            return\n",
    "        if not root.left and not root.right:\n",
    "            ans += 1\n",
    "            return root.val\n",
    "        if root.left and root.right:\n",
    "            left = check(root.left)\n",
    "            right = check(root.right)\n",
    "            if left == right == root.val:\n",
    "                ans += 1\n",
    "                return left\n",
    "            return None\n",
    "        if root.left:\n",
    "            left = check(root.left)\n",
    "            if left == root.val:\n",
    "                ans += 1\n",
    "                return left\n",
    "            return None\n",
    "        if root.right:\n",
    "            right = check(root.right)\n",
    "            if right == root.val:\n",
    "                ans += 1\n",
    "                return right\n",
    "            return None\n",
    "    check(root)\n",
    "    return ans"
   ]
  },
  {
   "cell_type": "code",
   "execution_count": null,
   "id": "40c0646a",
   "metadata": {},
   "outputs": [],
   "source": [
    "class TreeNode:\n",
    "    def __init__(self, val=0, left=None, right=None):\n",
    "        self.val = val\n",
    "        self.left = left\n",
    "        self.right = right"
   ]
  },
  {
   "cell_type": "code",
   "execution_count": null,
   "id": "f2bc1826",
   "metadata": {},
   "outputs": [],
   "source": [
    "root = TreeNode(5)\n",
    "root.left = TreeNode(1)\n",
    "root.left.left = TreeNode(5)\n",
    "root.left.right = TreeNode(5)\n",
    "root.right = TreeNode(5)\n",
    "root.right.right = TreeNode(5)\n",
    "countUnivalSubtrees(root)==4"
   ]
  },
  {
   "cell_type": "code",
   "execution_count": null,
   "id": "45b56733",
   "metadata": {},
   "outputs": [],
   "source": [
    "root = TreeNode(5)\n",
    "root.left = TreeNode(5)\n",
    "root.left.left = TreeNode(5)\n",
    "root.left.right = TreeNode(5)\n",
    "root.right = TreeNode(5)\n",
    "root.right.right = TreeNode(1)\n",
    "countUnivalSubtrees(root)==4"
   ]
  },
  {
   "cell_type": "code",
   "execution_count": null,
   "id": "7ef6bb55",
   "metadata": {},
   "outputs": [],
   "source": [
    "root = TreeNode(5)\n",
    "root.left = TreeNode(1)\n",
    "root.left.left = TreeNode(1)\n",
    "root.left.right = TreeNode(1)\n",
    "root.left.left.left = TreeNode(1)\n",
    "root.right = TreeNode(5)\n",
    "root.right.right = TreeNode(5)\n",
    "countUnivalSubtrees(root)==6"
   ]
  },
  {
   "cell_type": "code",
   "execution_count": null,
   "id": "f32cd8bb",
   "metadata": {},
   "outputs": [],
   "source": [
    "root = TreeNode(5)\n",
    "root.left = TreeNode(5)\n",
    "root.right = TreeNode(1)\n",
    "countUnivalSubtrees(root)==2"
   ]
  },
  {
   "cell_type": "code",
   "execution_count": null,
   "id": "df7f1ed4",
   "metadata": {},
   "outputs": [],
   "source": [
    "root = TreeNode(9)\n",
    "root.left = TreeNode(0)\n",
    "root.right = TreeNode(0)\n",
    "root.left.right = TreeNode(8)\n",
    "root.left.right.left = TreeNode(89)\n",
    "root.left.right.right = TreeNode(-38)\n",
    "root.right.left = TreeNode(8)\n",
    "root.right.left.left = TreeNode(-38)\n",
    "root.right.left.right = TreeNode(89)\n",
    "countUnivalSubtrees(root)==4"
   ]
  },
  {
   "cell_type": "markdown",
   "id": "ebfaf1dc",
   "metadata": {},
   "source": [
    "### 20220411<a id='926'></a>\n",
    "<strong>926. Flip String to Monotone Increasing</strong>"
   ]
  },
  {
   "cell_type": "code",
   "execution_count": 5,
   "id": "69617e0a",
   "metadata": {},
   "outputs": [],
   "source": [
    "def minFlipsMonoIncr(s):\n",
    "    \"\"\"\n",
    "    :type s: str\n",
    "    :rtype: int\n",
    "    \"\"\"\n",
    "    dp = [0 for _ in range(len(s))]\n",
    "    zeros = 0\n",
    "    for i in range(len(s)-1, -1, -1):\n",
    "        dp[i] = zeros\n",
    "        if s[i] == '0':\n",
    "            zeros += 1\n",
    "\n",
    "    def branch(s, i, count):\n",
    "        if i > len(s) - 1:\n",
    "            return count\n",
    "        while i < len(s) and s[i] == '0':\n",
    "            i += 1\n",
    "        if i > len(s) - 1:\n",
    "            return count\n",
    "        not_flip = count + dp[i]\n",
    "        flip = branch(s, i+1, count+1)\n",
    "        return min(not_flip, flip)\n",
    "\n",
    "    return branch(s, i, 0)"
   ]
  },
  {
   "cell_type": "code",
   "execution_count": 6,
   "id": "a4e6f400",
   "metadata": {},
   "outputs": [
    {
     "data": {
      "text/plain": [
       "1"
      ]
     },
     "execution_count": 6,
     "metadata": {},
     "output_type": "execute_result"
    }
   ],
   "source": [
    "s = \"00110\"\n",
    "minFlipsMonoIncr(s)"
   ]
  }
 ],
 "metadata": {
  "kernelspec": {
   "display_name": "Python 3",
   "language": "python",
   "name": "python3"
  },
  "language_info": {
   "codemirror_mode": {
    "name": "ipython",
    "version": 3
   },
   "file_extension": ".py",
   "mimetype": "text/x-python",
   "name": "python",
   "nbconvert_exporter": "python",
   "pygments_lexer": "ipython3",
   "version": "3.8.8"
  }
 },
 "nbformat": 4,
 "nbformat_minor": 5
}
