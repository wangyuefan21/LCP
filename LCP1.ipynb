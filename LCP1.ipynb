{
 "cells": [
  {
   "cell_type": "markdown",
   "id": "6f49c3a0",
   "metadata": {},
   "source": [
    "### Easy:\n",
    "- [1. Two Sum](#1)\n",
    "- [303. Range Sum Query - Immutable](#303)\n",
    "- [653. Two Sum IV - Input is a BST](#653)\n",
    "- [7. Reverse Integer](#7)\n",
    "- [9. Palindrome Number](#9)\n",
    "- [598. Range Addition II](#598)\n",
    "- [13. Roman to Integer](#13)\n",
    "- [1629. Slowest Key](#1629)\n",
    "- [206. Reverse Linked List](#206)\n",
    "- [14. Longest Common Prefix](#14)\n",
    "- [1189. Maximum Number of Balloons](#1189)\n",
    "- [350. Intersection of Two Arrays II](#350)\n",
    "- [1275. Find Winner on a Tic Tac Toe Game](#1275)\n",
    "- [509. Fibonacci Number](#509)\n",
    "- [1137. N-th Tribonacci Number](#1137)\n",
    "- [485. Max Consecutive Ones](#485)\n",
    "- [746. Min Cost Climbing Stairs](#746)\n",
    "- [922. Sort Array By Parity II](#922)\n",
    "- [929. Unique Email Addresses](#929)\n",
    "- [463. Island Perimeter](#463)\n",
    "- [21. Merge Two Sorted Lists](#21)\n",
    "- [543. Diameter of Binary Tree](#543)\n",
    "- [24. Swap Nodes in Pairs](#24)\n",
    "- [374. Guess Number Higher or Lower](#374)\n",
    "- [26. Remove Duplicates from Sorted Array](#26)\n",
    "- [27. Remove Element](#27)\n",
    "- [](#)\n",
    "- [](#)\n",
    "\n",
    "### Medium\n",
    "- [49. Group Anagrams](#49)\n",
    "- [72. Set Matrix Zeroes](#72)\n",
    "- [2. Add Two Numbers](#2)\n",
    "- [3. Longest Substring Without Repeating Characters](#3)\n",
    "- [1448. Count Good Nodes in Binary Tree](#1448)\n",
    "- [91. Decode Ways](#91)\n",
    "- [1339. Maximum Product of Splitted Binary Tree](#1339)\n",
    "- [36. Valid Sudoku](#36)\n",
    "- [5. Longest Palindromic Substring](#5)\n",
    "- [537. Complex Number Multiplication](#537)\n",
    "- [633. Sum of Square Numbers](#633)\n",
    "- [6. ZigZag Conversion](#6)\n",
    "- [331. Verify Preorder Serialization of a Binary Tree](#331)\n",
    "- [522. Longest Uncommon Subsequence II](#522)\n",
    "- [8. String to Integer (atoi)](#8)\n",
    "- [11. Container With Most Water](#11)\n",
    "- [12. Integer to Roman](#12)\n",
    "- [565. Array Nesting](#565)\n",
    "- [848. Shifting Letters](#848)\n",
    "- [15. 3Sum](#15)\n",
    "- [978. Longest Turbulent Subarray](#978)\n",
    "- [54. Spiral Matrix](#54)\n",
    "- [18. 4Sum](#18)\n",
    "- [19. Remove Nth Node From End of List](#19)\n",
    "- [1239.Maximum Length of a Concatenated String with Unique Characters](#1239)\n",
    "- [198. House Robber](#198)\n",
    "- [1143. Longest Common Subsequence](#1143)\n",
    "- [442. Find All Duplicates in an Array](#442)\n",
    "- [208. Implement Trie (Prefix Tree)](#208)\n",
    "- [1008. Construct Binary Search Tree from Preorder Traversal](#1008)\n",
    "- [279. Perfect Squares](#279)\n",
    "- [](#)\n",
    "- [](#)\n",
    "- [](#)\n",
    "\n",
    "\n",
    "### Hard\n",
    "- [546. Remove Boxes (unfinished)](#546)\n",
    "\n",
    "- [](#)\n"
   ]
  },
  {
   "cell_type": "markdown",
   "id": "912b8945",
   "metadata": {},
   "source": [
    "### 20210812 <a id='49'></a>\n",
    "\n",
    "<strong> 49. Group Anagrams </strong>\n",
    "\n",
    "Given an array of strings strs, group the anagrams together. You can return the answer in any order.\n",
    "\n",
    "An Anagram is a word or phrase formed by rearranging the letters of a different word or phrase, typically using all the original letters exactly once.\n",
    "\n",
    "Example 1:\n",
    "\n",
    "Input: strs = [\"eat\",\"tea\",\"tan\",\"ate\",\"nat\",\"bat\"]\n",
    "Output: [[\"bat\"],[\"nat\",\"tan\"],[\"ate\",\"eat\",\"tea\"]]\n",
    "\n",
    "Example 2:\n",
    "\n",
    "Input: strs = [\"\"]\n",
    "Output: [[\"\"]]\n",
    "\n",
    "Example 3:\n",
    "\n",
    "Input: strs = [\"a\"]\n",
    "Output: [[\"a\"]]\n",
    " \n",
    "Constraints:\n",
    "\n",
    "1 <= strs.length <= 104\n",
    "0 <= strs[i].length <= 100\n",
    "strs[i] consists of lower-case English letters."
   ]
  },
  {
   "cell_type": "code",
   "execution_count": null,
   "id": "2024c7d1",
   "metadata": {},
   "outputs": [],
   "source": [
    "d = {'a':1,\"b\":2}\n",
    "e = {'a':1,\"b\":4}\n",
    "d == e"
   ]
  },
  {
   "cell_type": "code",
   "execution_count": null,
   "id": "80310f66",
   "metadata": {},
   "outputs": [],
   "source": [
    "s = [1,2,3]\n",
    "string = s.copy()\n",
    "string.pop()\n",
    "s"
   ]
  },
  {
   "cell_type": "code",
   "execution_count": null,
   "id": "8c75dd37",
   "metadata": {},
   "outputs": [],
   "source": [
    "def strs_helper(s):\n",
    "\n",
    "    d = {}\n",
    "    \n",
    "    if len(s) == 0:\n",
    "        return None\n",
    "    \n",
    "    for i in range(len(s)):\n",
    "        \n",
    "        if s[i] not in d.keys():\n",
    "            d[s[i]] = 1\n",
    "        \n",
    "        else:\n",
    "            d[s[i]] += 1\n",
    "    \n",
    "    return d\n",
    "        \n",
    "def groupAnagrams(s):\n",
    "    \n",
    "    strings = s.copy()\n",
    "    str_dicts = [strs_helper(string) for string in s]\n",
    "    anagram_list = []\n",
    "    \n",
    "    while len(str_dicts) != 0: \n",
    "        anagram = [strings[0]]\n",
    "        if len(str_dicts) == 1: #if there is only one element left in the remaining string array\n",
    "            anagram_list.append(anagram)\n",
    "            break\n",
    "        \n",
    "        j = 1\n",
    "        \n",
    "        while j < len(str_dicts):\n",
    "            if str_dicts [j] == str_dicts[0]:\n",
    "                anagram.append(strings[j])\n",
    "                strings.pop(j)\n",
    "                str_dicts.pop(j)\n",
    "            else:\n",
    "                j += 1\n",
    "\n",
    "        anagram_list.append(anagram)\n",
    "        str_dicts.pop(0)\n",
    "        strings.pop(0)\n",
    "        \n",
    "    return anagram_list\n",
    "    "
   ]
  },
  {
   "cell_type": "code",
   "execution_count": null,
   "id": "695dbf95",
   "metadata": {},
   "outputs": [],
   "source": [
    "strs = [\"eat\",\"tea\",\"tan\",\"ate\",\"nat\",\"bat\"]\n",
    "groupAnagrams(strs)"
   ]
  },
  {
   "cell_type": "code",
   "execution_count": null,
   "id": "c71729ca",
   "metadata": {},
   "outputs": [],
   "source": [
    "def groupAnagrams(strs):\n",
    "    ans = {}\n",
    "    for s in strs:\n",
    "        count = [0] * 26\n",
    "        for c in s:\n",
    "            count[ord(c) - ord('a')] += 1\n",
    "        if tuple(count) in ans.keys():\n",
    "            ans[tuple(count)].append(s)\n",
    "        else:\n",
    "            ans[tuple(count)]=[s]\n",
    "    return ans.values()"
   ]
  },
  {
   "cell_type": "markdown",
   "id": "8e685274",
   "metadata": {},
   "source": [
    "LeetCode solution by character count\n",
    "```python\n",
    "import collections \n",
    "def groupAnagrams(strs):\n",
    "    ans = collections.defaultdict(list)\n",
    "    for s in strs:\n",
    "        count = [0] * 26\n",
    "        for c in s:\n",
    "            count[ord(c) - ord('a')] += 1\n",
    "        ans[tuple(count)].append(s)\n",
    "    return ans.values()\n",
    "```"
   ]
  },
  {
   "cell_type": "markdown",
   "id": "81b44d3f",
   "metadata": {},
   "source": [
    "LeetCode solution by sorted string\n",
    "```python \n",
    "import collections \n",
    "def groupAnagrams(strs):\n",
    "    ans = collections.defaultdict(list)\n",
    "    for s in strs:\n",
    "        ans[tuple(sorted(s))].append(s)\n",
    "    return ans.values() \n",
    "```"
   ]
  },
  {
   "cell_type": "code",
   "execution_count": null,
   "id": "a97f9fb4",
   "metadata": {},
   "outputs": [],
   "source": [
    "strs = [\"eat\",\"tea\",\"tan\",\"ate\",\"nat\",\"bat\"]\n",
    "groupAnagrams(strs)"
   ]
  },
  {
   "cell_type": "code",
   "execution_count": null,
   "id": "8be5a8a0",
   "metadata": {},
   "outputs": [],
   "source": [
    "strs = [\"bdddddddddd\",\"bbbbbbbbbbc\"]\n",
    "groupAnagrams(strs)"
   ]
  },
  {
   "cell_type": "markdown",
   "id": "38f8f377",
   "metadata": {},
   "source": [
    "### 20210813  <a id='72'></a>\n",
    "<strong> 72. Set Matrix Zeroes </strong>\n",
    "\n",
    "Given an m x n integer matrix matrix, if an element is 0, set its entire row and column to 0's, and return the matrix.\n",
    "\n",
    "You must do it in place."
   ]
  },
  {
   "cell_type": "code",
   "execution_count": null,
   "id": "b58ee083",
   "metadata": {},
   "outputs": [],
   "source": [
    "def setZeroes(matrix):\n",
    "    \n",
    "    index = []\n",
    "    \n",
    "    for i in range(len(matrix)):\n",
    "        flag = 0\n",
    "        for j in range(len(matrix[0])):\n",
    "            if matrix[i][j] == 0:\n",
    "                index.append(j)\n",
    "                flag = 1 #set a flag to change row to zeros later\n",
    "        \n",
    "        if flag == 1:\n",
    "            matrix[i] = [0] * len(matrix[i])\n",
    "                    \n",
    "    if index is not None:\n",
    "        for k in range(len(matrix)):\n",
    "            for l in index:\n",
    "                matrix[k][l] = 0\n",
    "                "
   ]
  },
  {
   "cell_type": "code",
   "execution_count": null,
   "id": "ee4bc1a8",
   "metadata": {},
   "outputs": [],
   "source": [
    "def setZeroes(matrix):\n",
    "    m = len(matrix)\n",
    "    n = len(matrix[0])\n",
    "    is_first_row = False #since (0,0) is for both first row and column, set a separate variable for first row\n",
    "    \n",
    "    #check for the first row\n",
    "    for j in range(n):\n",
    "        if matrix[0][j] == 0:\n",
    "            is_first_row = True\n",
    "    \n",
    "    #check for the rest of the rows\n",
    "    for i in range(1,m):\n",
    "        for j in range(n):\n",
    "            if matrix[i][j] == 0:\n",
    "                matrix[i][0] = 0\n",
    "                matrix[0][j] = 0 \n",
    "    #update everything starting in the second row and second column\n",
    "    for i in range(1,m):\n",
    "        for j in range(1,n):\n",
    "            if matrix[i][0] == 0 or matrix[0][j] == 0:\n",
    "                matrix[i][j] = 0\n",
    "    #update first column\n",
    "    if matrix[0][0] == 0:\n",
    "        for i in range(m):\n",
    "            matrix[i][0] = 0\n",
    "                \n",
    "    #update first row\n",
    "    if is_first_row:\n",
    "        for j in range(n):\n",
    "            matrix[0][j] = 0\n"
   ]
  },
  {
   "cell_type": "code",
   "execution_count": null,
   "id": "c85986aa",
   "metadata": {},
   "outputs": [],
   "source": [
    "matrix = [[0,1]]\n",
    "setZeroes(matrix)\n",
    "matrix"
   ]
  },
  {
   "cell_type": "markdown",
   "id": "4312465c",
   "metadata": {},
   "source": [
    "### 20210813 <a id='546'></a>\n",
    "<strong>546. Remove Boxes </strong>\n",
    "\n",
    "You are given several boxes with different colors represented by different positive numbers.\n",
    "\n",
    "You may experience several rounds to remove boxes until there is no box left. Each time you can choose some continuous boxes with the same color (i.e., composed of k boxes, k >= 1), remove them and get k * k points.\n",
    "\n",
    "Return the maximum points you can get.\n",
    "\n",
    "Input: boxes = [1,3,2,2,2,3,4,3,1]\n",
    "\n",
    "Output: 23\n",
    "\n",
    "Explanation:\n",
    "[1, 3, 2, 2, 2, 3, 4, 3, 1] \n",
    "----> [1, 3, 3, 4, 3, 1] (3*3=9 points) \n",
    "----> [1, 3, 3, 3, 1] (1*1=1 points) \n",
    "----> [1, 1] (3*3=9 points) \n",
    "----> [] (2*2=4 points)"
   ]
  },
  {
   "cell_type": "code",
   "execution_count": null,
   "id": "bbf2c890",
   "metadata": {},
   "outputs": [],
   "source": [
    "##doesn't work\n",
    "import collections\n",
    "\n",
    "def get_num_dict(boxes): #create a box distribution with number: list of indexs of of number\n",
    "    num_dict = collections.defaultdict(list)\n",
    "    for i in range(len(boxes)):\n",
    "        num_dict[boxes[i]].append(i)\n",
    "    return num_dict\n",
    "\n",
    "def remove_continous_boxes(boxes, num_dict): #pop single numbers and the numbers with only continuous indexs\n",
    "    \n",
    "    point = 0\n",
    "    #get the numbers with single or continous index\n",
    "    remove_index = []\n",
    "    for key in num_dict.keys():\n",
    "        if num_dict[key][-1] - num_dict[key][0] == len(num_dict[key]) - 1:\n",
    "            point += len(num_dict[key])**2\n",
    "            for index in num_dict[key]:\n",
    "                remove_index.append(index)\n",
    "\n",
    "    #remove the keys and the boxes after the removal\n",
    "    new_boxes = boxes.copy()\n",
    "    if len(remove_index) != 0:\n",
    "        \n",
    "        new_boxes = [new_boxes[index] for index in range(len(new_boxes)) if index not in remove_index]\n",
    "        \n",
    "    return new_boxes, point\n",
    "\n",
    "def removeBoxes(boxes) -> int:\n",
    "    point = 0\n",
    "    \n",
    "    #remove the keys and the boxes after the removal\n",
    "    new_boxes = boxes.copy()\n",
    "    removed_boxes, removed_point = remove_continous_boxes(new_boxes, get_num_dict(new_boxes))\n",
    "    while removed_point != 0:\n",
    "        new_boxes = removed_boxes\n",
    "        point += removed_point\n",
    "        removed_boxes, removed_point = remove_continous_boxes(new_boxes, get_num_dict(new_boxes))\n",
    "    #if new boxes are empty return point        \n",
    "    if len(new_boxes) == 0:\n",
    "        return point\n",
    "    \n",
    "    new_boxes_num_dict = get_num_dict(new_boxes)\n",
    "    max_key = list(new_boxes_num_dict.keys())[0]\n",
    "    max_length = len(new_boxes_num_dict[max_key])\n",
    "    for key in new_boxes_num_dict.keys():\n",
    "        length = len(new_boxes_num_dict[key])\n",
    "        if length > max_length:\n",
    "            max_key = key\n",
    "            max_length = length\n",
    "\n",
    "    indexs = new_boxes_num_dict[max_key]\n",
    "    \n",
    "    for i in range(len(indexs)-1):\n",
    "        point += removeBoxes(new_boxes[indexs[i]+1:indexs[i+1]])\n",
    "    \n",
    "    if indexs[0] > 0 and indexs[-1] < len(new_boxes) - 1:\n",
    "        point += removeBoxes(new_boxes[0:indexs[0]]+new_boxes[indexs[-1]+1:len(new_boxes)])\n",
    "    \n",
    "    elif indexs[-1] < len(new_boxes) - 1:\n",
    "        point += removeBoxes(new_boxes[indexs[-1]+1:len(new_boxes)])\n",
    "    \n",
    "    elif indexs[0] > 0:\n",
    "        point += removeBoxes(new_boxes[0:indexs[0]])\n",
    "    \n",
    "    point += max_length **2\n",
    "    \n",
    "    return point"
   ]
  },
  {
   "cell_type": "code",
   "execution_count": null,
   "id": "050e63f6",
   "metadata": {},
   "outputs": [],
   "source": [
    "boxes = [3,8,8,5,5,3,9,2,4,4,6,5,8,4,8,6,9,6,2,8,6,4,1,9,5,3,10,5,3,3,9,8,8,6,5,3,7,4,9,6,3,9,4,3,5,10,7,6,10,7]\n",
    "removeBoxes(boxes)"
   ]
  },
  {
   "cell_type": "code",
   "execution_count": null,
   "id": "364a2938",
   "metadata": {},
   "outputs": [],
   "source": [
    "set(boxes)"
   ]
  },
  {
   "cell_type": "code",
   "execution_count": null,
   "id": "e33b5b7d",
   "metadata": {},
   "outputs": [],
   "source": [
    "boxes = [3,8,8,5,5,3,9,4,4,6,5,8,4,8,6,9,6,8,6,4,9,5,3,10,5,3,3,9,8,8,6,5,3,7,4,9,6,3,9,4,3,5,10,7,6,10,7]\n",
    "get_num_dict(remove_continous_boxes(boxes,get_num_dict(boxes))[0])"
   ]
  },
  {
   "cell_type": "code",
   "execution_count": null,
   "id": "e27be227",
   "metadata": {},
   "outputs": [],
   "source": [
    "removeBoxes(boxes)"
   ]
  },
  {
   "cell_type": "markdown",
   "id": "f8d64675",
   "metadata": {},
   "source": [
    "### 20210813 <a id='1'></a>\n",
    "<strong>1. Two Sum </strong>\n",
    "\n",
    "Given an array of integers nums and an integer target, return indices of the two numbers such that they add up to target.\n",
    "\n",
    "You may assume that each input would have exactly one solution, and you may not use the same element twice.\n",
    "\n",
    "You can return the answer in any order.\n",
    "\n",
    " \n",
    "\n",
    "Example 1:\n",
    "\n",
    "Input: nums = [2,7,11,15], target = 9\n",
    "Output: [0,1]\n",
    "Output: Because nums[0] + nums[1] == 9, we return [0, 1].\n",
    "\n",
    "Example 2:\n",
    "\n",
    "Input: nums = [3,2,4], target = 6\n",
    "Output: [1,2]\n",
    "\n",
    "Example 3:\n",
    "\n",
    "Input: nums = [3,3], target = 6\n",
    "Output: [0,1]\n",
    " \n",
    "\n",
    "Constraints:\n",
    "\n",
    "2 <= nums.length <= 104\n",
    "-109 <= nums[i] <= 109\n",
    "-109 <= target <= 109\n",
    "Only one valid answer exists."
   ]
  },
  {
   "cell_type": "code",
   "execution_count": null,
   "id": "8c6bd189",
   "metadata": {},
   "outputs": [],
   "source": [
    "#brute force O(n^2)\n",
    "def twoSum(nums, target):\n",
    "    for i in range(len(nums)):\n",
    "        find = target - nums[i]\n",
    "        for j in range(i+1, len(nums)):\n",
    "            if nums[j] == find:\n",
    "                return [i,j]"
   ]
  },
  {
   "cell_type": "code",
   "execution_count": null,
   "id": "2bd4f965",
   "metadata": {},
   "outputs": [],
   "source": [
    "#hash map O(n)\n",
    "def twoSum(nums, target):\n",
    "    mapping = {}\n",
    "    for i in range(len(nums)):\n",
    "        find = target - nums[i]\n",
    "        if find in mapping:\n",
    "            return [i, mapping[find]]\n",
    "        else:\n",
    "            mapping[nums[i]] = i"
   ]
  },
  {
   "cell_type": "code",
   "execution_count": null,
   "id": "d8ff9dbf",
   "metadata": {},
   "outputs": [],
   "source": [
    "nums = [3,3]\n",
    "target = 6\n",
    "twoSum(nums,target)"
   ]
  },
  {
   "cell_type": "markdown",
   "id": "fa63893c",
   "metadata": {},
   "source": [
    "### 20210815 <a id='2'></a>\n",
    "<strong> 2. Add Two Numbers </strong>\n",
    "\n",
    "You are given two non-empty linked lists representing two non-negative integers. The digits are stored in reverse order, and each of their nodes contains a single digit. Add the two numbers and return the sum as a linked list.\n",
    "\n",
    "You may assume the two numbers do not contain any leading zero, except the number 0 itself.\n",
    "\n",
    "```python\n",
    "class ListNode:\n",
    "    def __init__(self, val=0, next=None):\n",
    "        self.val = val\n",
    "        self.next = next\n",
    "```"
   ]
  },
  {
   "cell_type": "code",
   "execution_count": null,
   "id": "ffa2cb76",
   "metadata": {},
   "outputs": [],
   "source": [
    "#list implemation\n",
    "def addTwoNumbers(l1, l2):\n",
    "    if len(l1) >= len(l2):\n",
    "        long = l1\n",
    "        short = l2\n",
    "    else:\n",
    "        long = l2\n",
    "        short = l1\n",
    "    \n",
    "    ans = []\n",
    "    flag = False\n",
    "    for i in range(0, len(short)):\n",
    "        if flag:\n",
    "            add = long[i] + short[i] + 1\n",
    "            flag = False\n",
    "        else:\n",
    "            add = long[i] + short[i]\n",
    "        \n",
    "        if add >= 10:\n",
    "            ans.append(add-10)\n",
    "            flag = True\n",
    "        else:\n",
    "            ans.append(add)\n",
    "    \n",
    "    for i in range(len(short), len(long)):\n",
    "        add = long[i]\n",
    "        if flag:\n",
    "            add += 1\n",
    "            flag = False\n",
    "        \n",
    "        if add >= 10:\n",
    "            ans.append(add-10)\n",
    "            flag = True\n",
    "        else:\n",
    "            ans.append(add)\n",
    "            \n",
    "    if flag:\n",
    "        ans.append(1)\n",
    "            \n",
    "    return ans"
   ]
  },
  {
   "cell_type": "code",
   "execution_count": null,
   "id": "f8a438c1",
   "metadata": {},
   "outputs": [],
   "source": [
    "l1 = [2,4,3]\n",
    "l2 = [5,6,4]\n",
    "addTwoNumbers(l1,l2)"
   ]
  },
  {
   "cell_type": "code",
   "execution_count": null,
   "id": "82dbb728",
   "metadata": {},
   "outputs": [],
   "source": [
    "l1 = [0]\n",
    "l2 = [0]\n",
    "addTwoNumbers(l1,l2)"
   ]
  },
  {
   "cell_type": "code",
   "execution_count": null,
   "id": "700d24d8",
   "metadata": {},
   "outputs": [],
   "source": [
    "l1 = [9,9,9,9,9,9,9]\n",
    "l2 = [9,9,9,9]\n",
    "addTwoNumbers(l1,l2)"
   ]
  },
  {
   "cell_type": "code",
   "execution_count": null,
   "id": "9f644844",
   "metadata": {},
   "outputs": [],
   "source": [
    "l1 =[2,4,9]\n",
    "l2 =[5,6,4,9]\n",
    "addTwoNumbers(l1,l2)"
   ]
  },
  {
   "cell_type": "code",
   "execution_count": null,
   "id": "93907dbf",
   "metadata": {},
   "outputs": [],
   "source": [
    "# link list implementation\n",
    "class ListNode:\n",
    "    def __init__(self, val=0, next=None):\n",
    "        self.val = val\n",
    "        self.next = next\n",
    "        pass\n",
    "    \n",
    "    def __str__(self):\n",
    "        ans = str(self.val)\n",
    "        pointer = self.next\n",
    "        while pointer is not None:\n",
    "            ans += str(pointer.val)\n",
    "            pointer = pointer.next\n",
    "        \n",
    "        return ans\n",
    "    \n",
    "    \n",
    "def addTwoNumbers(l1, l2):\n",
    "    answer = ListNode(0)\n",
    "    \n",
    "    #set three pointer\n",
    "    ans_p = answer\n",
    "    l1_p = l1\n",
    "    l2_p = l2\n",
    "    \n",
    "    #set a flag if the summartion over 10\n",
    "    flag = 0\n",
    "    \n",
    "    while(l1_p is not None or l2_p is not None):\n",
    "        \n",
    "        #set two numbers accordingly \n",
    "        if l1_p is None:\n",
    "            num1 = 0\n",
    "        else:\n",
    "            num1 = l1_p.val    \n",
    "        if l2_p is None:\n",
    "            num2 = 0\n",
    "        else:\n",
    "            num2 = l2_p.val\n",
    "        \n",
    "        add = num1 + num2 + flag #add two number\n",
    "        flag = add//10 #set up flag for next iteration\n",
    "        ans_p.next = ListNode(add%10) #set up the number for answer\n",
    "        \n",
    "        #create next node and move all pointers\n",
    "        ans_p = ans_p.next\n",
    "        if l1_p is not None:\n",
    "            l1_p = l1_p.next\n",
    "        if l2_p is not None:\n",
    "            l2_p = l2_p.next\n",
    "        \n",
    "    if flag == 1:\n",
    "        ans_p.next = ListNode(1)\n",
    "    \n",
    "    return answer.next"
   ]
  },
  {
   "cell_type": "code",
   "execution_count": null,
   "id": "95321bc6",
   "metadata": {},
   "outputs": [],
   "source": [
    "l1 = ListNode(2,ListNode(4,ListNode(3)))\n",
    "l2 = ListNode(5,ListNode(6,ListNode(4)))\n",
    "print(addTwoNumbers(l1,l2))"
   ]
  },
  {
   "cell_type": "code",
   "execution_count": null,
   "id": "d1086689",
   "metadata": {},
   "outputs": [],
   "source": [
    "l1 = ListNode(9,ListNode(9,ListNode(9,ListNode(9,ListNode(9,ListNode(9,ListNode(9)))))))\n",
    "l2 = ListNode(9,ListNode(9,ListNode(9,ListNode(9))))\n",
    "print(addTwoNumbers(l1,l2))"
   ]
  },
  {
   "cell_type": "code",
   "execution_count": null,
   "id": "58d64cdc",
   "metadata": {},
   "outputs": [],
   "source": [
    "l1 = ListNode(2,ListNode(4,ListNode(9)))\n",
    "l2 = ListNode(5,ListNode(6,ListNode(4,ListNode(9))))\n",
    "print(addTwoNumbers(l1,l2))"
   ]
  },
  {
   "cell_type": "markdown",
   "id": "ccfd946e",
   "metadata": {},
   "source": [
    "### 20210816 <a id='303'></a>\n",
    "<strong>303. Range Sum Query - Immutable </strong>\n",
    "\n",
    "Given an integer array nums, handle multiple queries of the following type:\n",
    "\n",
    "Calculate the sum of the elements of nums between indices left and right inclusive where left <= right.\n",
    "Implement the NumArray class:\n",
    "\n",
    "<span style=\"background-color: pink; color: red\">NumArray(int[] nums)</span> Initializes the object with the integer array nums.\n",
    "\n",
    "<span style=\"background-color: pink; color: red\">int sumRange(int left, int right)</span> Returns the sum of the elements of nums between indices left and right inclusive (i.e. nums[left] + nums[left + 1] + ... + nums[right])."
   ]
  },
  {
   "cell_type": "code",
   "execution_count": null,
   "id": "671d01ca",
   "metadata": {},
   "outputs": [],
   "source": [
    "#brute force\n",
    "class NumArray:\n",
    "\n",
    "    def __init__(self, nums):\n",
    "        self.nums = nums\n",
    "        \n",
    "\n",
    "    def sumRange(self, left: int, right: int) -> int:\n",
    "        ans = 0\n",
    "        for i in range(left, right+1):\n",
    "            ans += self.nums[i]\n",
    "        return ans"
   ]
  },
  {
   "cell_type": "code",
   "execution_count": null,
   "id": "0903c61a",
   "metadata": {},
   "outputs": [],
   "source": [
    "#pre-sum when construct\n",
    "class NumArray:\n",
    "\n",
    "    def __init__(self, nums):\n",
    "        self.presum = nums\n",
    "        for i in range(len(self.presum)-1):\n",
    "            self.presum[i+1] += self.presum[i]\n",
    "        \n",
    "\n",
    "    def sumRange(self, left: int, right: int) -> int:\n",
    "        if left == 0:\n",
    "            return self.presum[right]\n",
    "        else:\n",
    "            return self.presum[right] - self.presum[left - 1]"
   ]
  },
  {
   "cell_type": "markdown",
   "id": "8c40536e",
   "metadata": {},
   "source": [
    "### 20210816 <a id='3'></a>\n",
    "<strong>3. Longest Substring Without Repeating Characters</strong>\n",
    "\n",
    "Given a string s, find the length of the longest substring without repeating characters.\n"
   ]
  },
  {
   "cell_type": "code",
   "execution_count": null,
   "id": "cafc56c5",
   "metadata": {},
   "outputs": [],
   "source": [
    "def lengthOfLongestSubstring(s: str) -> int:\n",
    "    #base case\n",
    "    if len(s) == 0 or len(s) == 1:\n",
    "        return len(s)\n",
    "    #set up two pointers, length tracker and character index dict\n",
    "    left = 0\n",
    "    pointer = 1\n",
    "    max_length = 1\n",
    "    current_length = 1\n",
    "    char = {s[0]:0}\n",
    "    \n",
    "    while pointer < len(s): #let right pointer travels through the string\n",
    "        #if the right pointer char is not in the dict \n",
    "        #or the index of right pointer in the dict is left to the current longest string (IMPORTANT!!! missed it)\n",
    "        #the right pointer char can be added to the current longest string\n",
    "        if s[pointer] not in char or char[s[pointer]] < left: \n",
    "            current_length += 1\n",
    "            if current_length > max_length:\n",
    "                max_length = current_length\n",
    "        #the remaining case is the index of right pointer in the dict was included in the current longest string\n",
    "        #terminate the current streak, chop off the current longest string\n",
    "        else:\n",
    "            current_length = pointer - char[s[pointer]]\n",
    "            left = char[s[pointer]]\n",
    "        char[s[pointer]] = pointer\n",
    "        pointer += 1\n",
    "    \n",
    "    return max_length"
   ]
  },
  {
   "cell_type": "code",
   "execution_count": null,
   "id": "e7162ace",
   "metadata": {},
   "outputs": [],
   "source": [
    "s = \"abcabcbb\"\n",
    "lengthOfLongestSubstring(s)"
   ]
  },
  {
   "cell_type": "code",
   "execution_count": null,
   "id": "f69daa31",
   "metadata": {},
   "outputs": [],
   "source": [
    "s = \"bbbbb\"\n",
    "lengthOfLongestSubstring(s)"
   ]
  },
  {
   "cell_type": "code",
   "execution_count": null,
   "id": "15c554f8",
   "metadata": {},
   "outputs": [],
   "source": [
    "s = \"pwwkew\"\n",
    "lengthOfLongestSubstring(s)"
   ]
  },
  {
   "cell_type": "code",
   "execution_count": null,
   "id": "bad83f17",
   "metadata": {},
   "outputs": [],
   "source": [
    "s = \"tmmzuxt\"\n",
    "lengthOfLongestSubstring(s)"
   ]
  },
  {
   "cell_type": "markdown",
   "id": "0bce3f94",
   "metadata": {},
   "source": [
    "### 20210817 <a id='1448'></a>\n",
    "\n",
    "<strong> 1448. Count Good Nodes in Binary Tree </strong>\n",
    "\n",
    "Given a binary tree root, a node X in the tree is named good if in the path from root to X there are no nodes with a value greater than X.\n",
    "\n",
    "Return the number of good nodes in the binary tree."
   ]
  },
  {
   "cell_type": "code",
   "execution_count": null,
   "id": "fedce1eb",
   "metadata": {},
   "outputs": [],
   "source": [
    "class TreeNode:\n",
    "    def __init__(self, val=0, left=None, right=None):\n",
    "        self.val = val\n",
    "        self.left = left\n",
    "        self.right = right\n",
    "\n",
    "        \n",
    "        \n",
    "def dfs(maximum, node):\n",
    "    count = 0\n",
    "    if node.val >= maximum:\n",
    "        count += 1\n",
    "    maximum = max(maximum, node.val)\n",
    "    \n",
    "    if isinstance(node.left, TreeNode):\n",
    "        count += dfs(maximum, node.left)\n",
    "    elif isinstance(node.left, int):\n",
    "        if node.left >= maximum:\n",
    "            count += 1\n",
    "        \n",
    "    if isinstance(node.right, TreeNode):\n",
    "        count += dfs(maximum, node.right)\n",
    "    elif isinstance(node.right, int):\n",
    "        if node.right >= maximum:\n",
    "            count += 1\n",
    "        \n",
    "    return count\n",
    "\n",
    "def goodNodes(root):\n",
    "    return dfs(root.val, root)\n",
    "    "
   ]
  },
  {
   "cell_type": "code",
   "execution_count": null,
   "id": "6aa0c887",
   "metadata": {},
   "outputs": [],
   "source": [
    "root = TreeNode(3,TreeNode(1,3), TreeNode(4,1,5))\n",
    "goodNodes(root)"
   ]
  },
  {
   "cell_type": "markdown",
   "id": "ea7929b5",
   "metadata": {},
   "source": [
    "### 20210818 <a id='91'></a>\n",
    "<strong> 91. Decode Ways</strong>\n",
    "\n",
    "A message containing letters from A-Z can be encoded into numbers using the following mapping:\n",
    "\n",
    "'A' -> \"1\"\n",
    "'B' -> \"2\"\n",
    "...\n",
    "'Z' -> \"26\"\n",
    "\n",
    "To decode an encoded message, all the digits must be grouped then mapped back into letters using the reverse of the mapping above (there may be multiple ways). For example, \"11106\" can be mapped into:\n",
    "\n",
    "\"AAJF\" with the grouping (1 1 10 6)\n",
    "\"KJF\" with the grouping (11 10 6)\n",
    "Note that the grouping (1 11 06) is invalid because \"06\" cannot be mapped into 'F' since \"6\" is different from \"06\".\n",
    "\n",
    "Given a string s containing only digits, return the number of ways to decode it.\n",
    "\n",
    "The answer is guaranteed to fit in a 32-bit integer."
   ]
  },
  {
   "cell_type": "code",
   "execution_count": null,
   "id": "7b050f94",
   "metadata": {},
   "outputs": [],
   "source": [
    "import collections\n",
    "def numDecodingsHelper(s, mapping):\n",
    "    \n",
    "    count = mapping[s]\n",
    "    if count != 0:\n",
    "        return count\n",
    "    \n",
    "    if len(s) == 1:\n",
    "        if int(s) != 0:\n",
    "            count += 1\n",
    "        mapping[s] = count\n",
    "        return count\n",
    "    \n",
    "    if len(s) == 2:\n",
    "        if int(s) >= 10 and int(s) <= 26:\n",
    "            count += 1\n",
    "        if int(s[-1]) != 0:\n",
    "            count += numDecodingsHelper(s[:-1], mapping)\n",
    "        mapping[s] = count\n",
    "        return count\n",
    "    \n",
    "    if int(s[-1]) != 0:\n",
    "        count += numDecodingsHelper(s[:-1], mapping)\n",
    "    if len(s) > 2 and int(s[-2:]) >= 10 and int(s[-2:]) <= 26:\n",
    "        count += numDecodingsHelper(s[:-2], mapping)\n",
    "    \n",
    "    mapping[s] = count\n",
    "    \n",
    "    return count\n",
    "            \n",
    "    \n",
    "\n",
    "def numDecodings(s: str):\n",
    "    if len(s) >2 and (int(s[1]) == 0) and (int(s[0]) not in [1,2]):\n",
    "        return 0\n",
    "    count = 0\n",
    "    mapping = collections.defaultdict(int)\n",
    "    count += numDecodingsHelper(s,mapping)\n",
    "    \n",
    "    return count\n",
    "        "
   ]
  },
  {
   "cell_type": "code",
   "execution_count": null,
   "id": "f952b218",
   "metadata": {},
   "outputs": [],
   "source": [
    "def numDecodings( s: str) -> int:\n",
    "        def dp(i):\n",
    "            if i == len(s): return 1\n",
    "            ans = 0\n",
    "            if s[i] != '0':  # Single digit\n",
    "                ans += dp(i + 1)\n",
    "            if i + 1 < len(s) and (s[i] == '1' or s[i] == '2' and ord(s[i + 1]) <= ord('6')):  # Two digits\n",
    "                ans += dp(i + 2)\n",
    "            return ans\n",
    "\n",
    "        return dp(0) "
   ]
  },
  {
   "cell_type": "code",
   "execution_count": null,
   "id": "cbea1139",
   "metadata": {},
   "outputs": [],
   "source": [
    "s = \"12\"\n",
    "numDecodings(s)"
   ]
  },
  {
   "cell_type": "code",
   "execution_count": null,
   "id": "fed39e7a",
   "metadata": {},
   "outputs": [],
   "source": [
    "s = \"1111\"\n",
    "numDecodings(s)"
   ]
  },
  {
   "cell_type": "code",
   "execution_count": null,
   "id": "194ea1dc",
   "metadata": {},
   "outputs": [],
   "source": [
    "s = \"0\"\n",
    "numDecodings(s)"
   ]
  },
  {
   "cell_type": "code",
   "execution_count": null,
   "id": "a7148a90",
   "metadata": {},
   "outputs": [],
   "source": [
    "s = \"06\"\n",
    "numDecodings(s)"
   ]
  },
  {
   "cell_type": "code",
   "execution_count": null,
   "id": "046fcf7a",
   "metadata": {},
   "outputs": [],
   "source": [
    "s = \"110\"\n",
    "numDecodings(s)"
   ]
  },
  {
   "cell_type": "code",
   "execution_count": null,
   "id": "9cb52d04",
   "metadata": {},
   "outputs": [],
   "source": [
    "s = \"10\"\n",
    "numDecodings(s)"
   ]
  },
  {
   "cell_type": "code",
   "execution_count": null,
   "id": "d95d8dcc",
   "metadata": {},
   "outputs": [],
   "source": [
    "s = \"207\"\n",
    "numDecodings(s)"
   ]
  },
  {
   "cell_type": "code",
   "execution_count": null,
   "id": "760d86f7",
   "metadata": {},
   "outputs": [],
   "source": [
    "s = \"307\"\n",
    "numDecodings(s)"
   ]
  },
  {
   "cell_type": "code",
   "execution_count": null,
   "id": "1fffd9ff",
   "metadata": {},
   "outputs": [],
   "source": [
    "s = \"27\"\n",
    "numDecodings(s)"
   ]
  },
  {
   "cell_type": "code",
   "execution_count": null,
   "id": "384bc10e",
   "metadata": {},
   "outputs": [],
   "source": [
    "numDecodings(\"4085393587263438197362839792651187379538218577884164713291143976212416731331985661435443671959\")"
   ]
  },
  {
   "cell_type": "code",
   "execution_count": null,
   "id": "7834c613",
   "metadata": {},
   "outputs": [],
   "source": [
    "s='207'\n",
    "len(s) >2 and (int(s[1]) == 0) and (int(s[0]) not in [1,2])"
   ]
  },
  {
   "cell_type": "markdown",
   "id": "bdbc2d9b",
   "metadata": {},
   "source": [
    "### 20210819 <a id='1339'></a>\n",
    "<strong>  1339. Maximum Product of Splitted Binary Tree</strong>\n",
    "\n",
    "Given the root of a binary tree, split the binary tree into two subtrees by removing one edge such that the product of the sums of the subtrees is maximized.\n",
    "\n",
    "Return the maximum product of the sums of the two subtrees. Since the answer may be too large, return it modulo 10^9 + 7.\n",
    "\n",
    "Note that you need to maximize the answer before taking the mod and not after taking it."
   ]
  },
  {
   "cell_type": "code",
   "execution_count": null,
   "id": "18d4baac",
   "metadata": {},
   "outputs": [],
   "source": [
    "class TreeNode:\n",
    "    def __init__(self, val=0, left=None, right=None):\n",
    "        self.val = val\n",
    "        self.left = left\n",
    "        self.right = right\n",
    "        \n",
    "def maxProductHelper(root, sum_tree_root):\n",
    "    total = root.val\n",
    "    if root.left is not None:\n",
    "        if isinstance(root.left,int):\n",
    "            sum_tree_root.left = root.left\n",
    "            total += root.left\n",
    "        else:\n",
    "            sum_tree_root.left = TreeNode(1)\n",
    "            maxProductHelper(root.left, sum_tree_root.left)\n",
    "            total += sum_tree_root.left.val\n",
    "        \n",
    "            \n",
    "    if root.right is not None:\n",
    "        if isinstance(root.right,int):\n",
    "            sum_tree_root.right = root.right\n",
    "            total += root.right\n",
    "        else:\n",
    "            sum_tree_root.right = TreeNode(1)\n",
    "            maxProductHelper(root.right, sum_tree_root.right)\n",
    "            total += sum_tree_root.right.val\n",
    "    sum_tree_root.val = total\n",
    "\n",
    "def findmax(root, total_sum):\n",
    "    max_product = 0 \n",
    "    \n",
    "    ##print(total_sum)\n",
    "        \n",
    "    if root.left is not None:\n",
    "        if isinstance(root.left,int):\n",
    "            max_product = max(max_product, (total_sum - root.left)*root.left)\n",
    "            ##print('11',root.left,max_product)\n",
    "        else:\n",
    "            max_product = max(max_product, (total_sum - root.left.val)*root.left.val)\n",
    "            max_product = max(max_product, findmax(root.left, total_sum))\n",
    "            ##print('12',root.left.val,max_product)\n",
    "    \n",
    "    if root.right is not None:\n",
    "        if isinstance(root.right,int):\n",
    "            max_product = max(max_product, (total_sum - root.right)*root.right)\n",
    "            ##print('21',root.right, max_product)\n",
    "        else:\n",
    "            max_product = max(max_product, (total_sum - root.right.val)*root.right.val)\n",
    "            max_product = max(max_product, findmax(root.right, total_sum))\n",
    "            ##print('22',root.right.val,max_product)\n",
    "\n",
    "            \n",
    "    return max_product\n",
    "            \n",
    "    \n",
    "def maxProduct(root) -> int:\n",
    "    sum_tree = TreeNode(root.val)\n",
    "    \n",
    "    if root.left is not None:\n",
    "        if isinstance(root.left,int):\n",
    "            sum_tree.left = TreeNode(root.left)\n",
    "        else:\n",
    "            sum_tree.left = TreeNode(1)\n",
    "            maxProductHelper(root.left, sum_tree.left)\n",
    "    else:\n",
    "        sum_tree.left = TreeNode(0)\n",
    "    \n",
    "    if root.right is not None:\n",
    "        if isinstance(root.right,int):\n",
    "            sum_tree.right = TreeNode(root.right)\n",
    "        else:\n",
    "            sum_tree.right = TreeNode(1)\n",
    "            maxProductHelper(root.right, sum_tree.right)\n",
    "    else:\n",
    "        sum_tree.right = TreeNode(0)\n",
    "    \n",
    "    sum_tree.val += (sum_tree.left.val) + (sum_tree.right.val)\n",
    "    \n",
    "    max_product = findmax(sum_tree, sum_tree.val)\n",
    "\n",
    "    \n",
    "    \n",
    "    return max_product % (10**9+7)"
   ]
  },
  {
   "cell_type": "code",
   "execution_count": null,
   "id": "e681c030",
   "metadata": {},
   "outputs": [],
   "source": [
    "root = TreeNode(1,TreeNode(2,4,5), TreeNode(3,6))\n",
    "a=maxProduct(root)\n",
    "a"
   ]
  },
  {
   "cell_type": "code",
   "execution_count": null,
   "id": "354d09ff",
   "metadata": {},
   "outputs": [],
   "source": [
    "root = TreeNode(1, right=TreeNode(2,3,TreeNode(4,5,6)))\n",
    "a=maxProduct(root)\n",
    "a"
   ]
  },
  {
   "cell_type": "code",
   "execution_count": null,
   "id": "5b7f0514",
   "metadata": {},
   "outputs": [],
   "source": [
    "root = [2,3,9,10,7,8,6,5,4,11,1]\n",
    "root = TreeNode(2, TreeNode(3,TreeNode(10,5,4),TreeNode(7,11,1)), TreeNode(9,8,6))\n",
    "a=maxProduct(root)\n",
    "a"
   ]
  },
  {
   "cell_type": "markdown",
   "id": "b220aed3",
   "metadata": {},
   "source": [
    "### 20210820 <a id='36'></a>\n",
    "<strong> 36. Valid Sudoku</strong>\n",
    "\n",
    "Determine if a 9 x 9 Sudoku board is valid. Only the filled cells need to be validated according to the following rules:\n",
    "\n",
    "1. Each row must contain the digits 1-9 without repetition.\n",
    "\n",
    "2. Each column must contain the digits 1-9 without repetition.\n",
    "\n",
    "3. Each of the nine 3 x 3 sub-boxes of the grid must contain the digits 1-9 without repetition.\n",
    "\n",
    "Note:\n",
    "\n",
    "- A Sudoku board (partially filled) could be valid but is not necessarily solvable.\n",
    "\n",
    "- Only the filled cells need to be validated according to the mentioned rules."
   ]
  },
  {
   "cell_type": "code",
   "execution_count": null,
   "id": "8cfc05d0",
   "metadata": {},
   "outputs": [],
   "source": [
    "def isValidSudoku(board):\n",
    "    for i in range(len(board)):\n",
    "        row = []\n",
    "        for j in range(len(board[i])):\n",
    "            if board[i][j] != '.':\n",
    "                if int(board[i][j]) >= 1 and int(board[i][j]) <= 9 and board[i][j] not in row:\n",
    "                    row.append(board[i][j])\n",
    "                else:\n",
    "                    return False\n",
    "    \n",
    "    for i in range(len(board[0])):\n",
    "        column = []\n",
    "        for j in range(len(board)):\n",
    "            if board[j][i] != '.':\n",
    "                if int(board[j][i]) >= 1 and int(board[j][i]) <= 9 and board[j][i] not in column:\n",
    "                    column.append(board[j][i])\n",
    "                else:\n",
    "                    return False\n",
    "                \n",
    "    for i in [[0,1,2],[3,4,5],[6,7,8]]:\n",
    "        for j in [[0,1,2],[3,4,5],[6,7,8]]:\n",
    "            block = []\n",
    "            for ii in range(3):\n",
    "                for jj in range(3):\n",
    "                    if board[i[ii]][j[jj]] != '.':\n",
    "                        if int(board[i[ii]][j[jj]]) >= 1 and int(board[i[ii]][j[jj]]) <= 9 and board[i[ii]][j[jj]] not in block:\n",
    "                            block.append(board[i[ii]][j[jj]])\n",
    "                        else:\n",
    "                            return False\n",
    "    \n",
    "    return True"
   ]
  },
  {
   "cell_type": "code",
   "execution_count": null,
   "id": "e9d23dd3",
   "metadata": {},
   "outputs": [],
   "source": [
    "board = [[\"8\",\"3\",\".\",\".\",\"7\",\".\",\".\",\".\",\".\"]\n",
    ",[\"6\",\".\",\".\",\"1\",\"9\",\"5\",\".\",\".\",\".\"]\n",
    ",[\".\",\"9\",\"8\",\".\",\".\",\".\",\".\",\"6\",\".\"]\n",
    ",[\"8\",\".\",\".\",\".\",\"6\",\".\",\".\",\".\",\"3\"]\n",
    ",[\"4\",\".\",\".\",\"8\",\".\",\"3\",\".\",\".\",\"1\"]\n",
    ",[\"7\",\".\",\".\",\".\",\"2\",\".\",\".\",\".\",\"6\"]\n",
    ",[\".\",\"6\",\".\",\".\",\".\",\".\",\"2\",\"8\",\".\"]\n",
    ",[\".\",\".\",\".\",\"4\",\"1\",\"9\",\".\",\".\",\"5\"]\n",
    ",[\".\",\".\",\".\",\".\",\"8\",\".\",\".\",\"7\",\"9\"]]\n",
    "isValidSudoku(board)"
   ]
  },
  {
   "cell_type": "code",
   "execution_count": null,
   "id": "54236a76",
   "metadata": {},
   "outputs": [],
   "source": [
    "board = [[\"5\",\"3\",\".\",\".\",\"7\",\".\",\".\",\".\",\".\"]\n",
    ",[\"6\",\".\",\".\",\"1\",\"9\",\"5\",\".\",\".\",\".\"]\n",
    ",[\".\",\"9\",\"8\",\".\",\".\",\".\",\".\",\"6\",\".\"]\n",
    ",[\"8\",\".\",\".\",\".\",\"6\",\".\",\".\",\".\",\"3\"]\n",
    ",[\"4\",\".\",\".\",\"8\",\".\",\"3\",\".\",\".\",\"1\"]\n",
    ",[\"7\",\".\",\".\",\".\",\"2\",\".\",\".\",\".\",\"6\"]\n",
    ",[\".\",\"6\",\".\",\".\",\".\",\".\",\"2\",\"8\",\".\"]\n",
    ",[\".\",\".\",\".\",\"4\",\"1\",\"9\",\".\",\".\",\"5\"]\n",
    ",[\".\",\".\",\".\",\".\",\"8\",\".\",\".\",\"7\",\"9\"]]\n",
    "isValidSudoku(board)"
   ]
  },
  {
   "cell_type": "code",
   "execution_count": null,
   "id": "d80eac88",
   "metadata": {},
   "outputs": [],
   "source": [
    "board = [[\".\",\".\",\".\",\".\",\"5\",\".\",\".\",\"1\",\".\"],\n",
    "         [\".\",\"4\",\".\",\"3\",\".\",\".\",\".\",\".\",\".\"],\n",
    "         [\".\",\".\",\".\",\".\",\".\",\"3\",\".\",\".\",\"1\"],\n",
    "         [\"8\",\".\",\".\",\".\",\".\",\".\",\".\",\"2\",\".\"],\n",
    "         [\".\",\".\",\"2\",\".\",\"7\",\".\",\".\",\".\",\".\"],\n",
    "         [\".\",\"1\",\"5\",\".\",\".\",\".\",\".\",\".\",\".\"],\n",
    "         [\".\",\".\",\".\",\".\",\".\",\"2\",\".\",\".\",\".\"],\n",
    "         [\".\",\"2\",\".\",\"9\",\".\",\".\",\".\",\".\",\".\"],\n",
    "         [\".\",\".\",\"4\",\".\",\".\",\".\",\".\",\".\",\".\"]]\n",
    "isValidSudoku(board)"
   ]
  },
  {
   "cell_type": "code",
   "execution_count": null,
   "id": "c2914d76",
   "metadata": {},
   "outputs": [],
   "source": [
    "for i in [[0,1,2],[3,4,5],[6,7,8]]:\n",
    "    for j in [[0,1,2],[3,4,5],[6,7,8]]:\n",
    "        for ii in range(3):\n",
    "            for jj in range(3):\n",
    "                print(i[ii], j[jj])"
   ]
  },
  {
   "cell_type": "markdown",
   "id": "25bd6ae2",
   "metadata": {},
   "source": [
    "### 20210821 <a id='5'></a>\n",
    "<strong> 5. Longest Palindromic Substring</strong>\n",
    "\n",
    "Given a string s, return the longest palindromic substring in s."
   ]
  },
  {
   "cell_type": "code",
   "execution_count": null,
   "id": "eb5df072",
   "metadata": {},
   "outputs": [],
   "source": [
    "#brute force\n",
    "def longestPalindrome(s):\n",
    "    word = s[0]\n",
    "    for i in range(len(s)):\n",
    "        if len(word) >= len(s[i:len(s)]):\n",
    "            break\n",
    "        for j in range(len(s), i+1, -1):\n",
    "            temp = s[i:j]\n",
    "            if temp[::-1] == temp and len(temp) > len(word):\n",
    "                word = temp\n",
    "                break\n",
    "                \n",
    "    return word"
   ]
  },
  {
   "cell_type": "code",
   "execution_count": null,
   "id": "c9dd0881",
   "metadata": {},
   "outputs": [],
   "source": [
    "#brute force\n",
    "def longestPalindrome(s):\n",
    "    word = s[0]\n",
    "    for i in range(len(s)):\n",
    "        if len(word) >= len(s[i:len(s)]):\n",
    "            break\n",
    "        for j in range(len(s), i+1, -1):     \n",
    "            if s[i:j] == s[i:j][::-1] and len(s[i:j]) > len(word):\n",
    "                word = s[i:j]\n",
    "                break\n",
    "                \n",
    "    return word"
   ]
  },
  {
   "cell_type": "code",
   "execution_count": null,
   "id": "b6993bba",
   "metadata": {},
   "outputs": [],
   "source": [
    "s = \"babad\"\n",
    "longestPalindrome(s)"
   ]
  },
  {
   "cell_type": "code",
   "execution_count": null,
   "id": "e9134aa5",
   "metadata": {},
   "outputs": [],
   "source": [
    "s = 'cbbd'\n",
    "longestPalindrome(s)"
   ]
  },
  {
   "cell_type": "code",
   "execution_count": null,
   "id": "39706419",
   "metadata": {},
   "outputs": [],
   "source": [
    "s = 'bb'\n",
    "longestPalindrome(s)"
   ]
  },
  {
   "cell_type": "code",
   "execution_count": null,
   "id": "26db5bb6",
   "metadata": {},
   "outputs": [],
   "source": [
    "s = 'ac'\n",
    "longestPalindrome(s)"
   ]
  },
  {
   "cell_type": "code",
   "execution_count": null,
   "id": "112c9dc2",
   "metadata": {},
   "outputs": [],
   "source": [
    "s = 'accbcaaaaaaaaaa'\n",
    "longestPalindrome(s)"
   ]
  },
  {
   "cell_type": "code",
   "execution_count": null,
   "id": "9d9cee4d",
   "metadata": {},
   "outputs": [],
   "source": [
    "s = \"aacabdkacaa\"\n",
    "longestPalindrome(s)"
   ]
  },
  {
   "cell_type": "code",
   "execution_count": null,
   "id": "19a7e71a",
   "metadata": {},
   "outputs": [],
   "source": [
    "s = 'civilwartestingwhetherthatnaptionoranynartionsoconceivedandsodedicatedcanlongendureWeareqmetonagreatbattlefiemldoftzhatwarWehavecometodedicpateaportionofthatfieldasafinalrestingplaceforthosewhoheregavetheirlivesthatthatnationmightliveItisaltogetherfangandproperthatweshoulddothisButinalargersensewecannotdedicatewecannotconsecratewecannothallowthisgroundThebravelmenlivinganddeadwhostruggledherehaveconsecrateditfaraboveourpoorponwertoaddordetractTgheworldadswfilllittlenotlenorlongrememberwhatwesayherebutitcanneverforgetwhattheydidhereItisforusthelivingrathertobededicatedheretotheulnfinishedworkwhichtheywhofoughtherehavethusfarsonoblyadvancedItisratherforustobeherededicatedtothegreattdafskremainingbeforeusthatfromthesehonoreddeadwetakeincreaseddevotiontothatcauseforwhichtheygavethelastpfullmeasureofdevotionthatweherehighlyresolvethatthesedeadshallnothavediedinvainthatthisnationunsderGodshallhaveanewbirthoffreedomandthatgovernmentofthepeoplebythepeopleforthepeopleshallnotperishfromtheearth'\n",
    "longestPalindrome(s)"
   ]
  },
  {
   "cell_type": "code",
   "execution_count": null,
   "id": "e843f4a0",
   "metadata": {},
   "outputs": [],
   "source": [
    "s = 'aaaaaaaaaaaaaaaaaaaaaaaaaaaaaaaaaaaaaaaaaaaaaaaaaaaaaaaaaaaaaaaaaaaaaaaaaaaaaaaaaaaaaaaaaaaaaaaaaaaaaaaaaaaaaaaaaaaaaaaaaaaaaaaaaaaaaaaaaaaaaaaaaaaaaaaaaaaaaaaaaaaaaaaaaaaaaaaaaaaaaaaaaaaaaaaaaaaaaaaaaaaaaaaaaaaaaaaaaaaaaaaaaaaaaaaaaaaaaaaaaaaaaaaaaaaaaaaaaaaaaaaaaaaaaaaaaaaaaaaaaaaaaaaaaaaaaaaaaaaaaaaaaaaaaaaaaaaaaaaaaaaaaaaaaaaaaaaaaaaaaaaaaaaaaaaaaaaaaaaaaaaaaaaaaaaaaaaaaaaaaaaaaaaaaaaaaaaaaaaaaaaaaaaaaaaaaaaaaaaaaaaaaaaaaaaaaaaaaaaaaaaaaaaaaaaaaaaaaaaaaaaaaaaaaaaaaaaaaaaaaaaaaaaaaaaaaaaaaaaaaaaaaaaaaaaaaaaaaaaaaaaaaaaaaaaaaaaaaaaaaaaaaaaaaaaaaaaaaaaaaaaaaaaaaaaaaaaaaaaaaaaaaaaaaaaaaaaaaaaaaaaaaaaaaaaaaaaaaaaaaaaaaaaaaaaaaaaaaaaaaaaaaaaaaaaaaaaaaaaaaaaaaaaaaaaaaaaaaaaaaaaaaaaaaaaaaaaaaaaaaaaaaaaaaaaaaaaaaaaaaaaaaaaaaaaaaaaaaaaaaaaaaaaaaaaaaaaaaaaaaaaaaaaaaaaaaaaaaaaaaaaaaaaaaaaaaaaaaaaaaaaaaaaaaaaaaaaaaaaaaaaaaaaaaaaaaaaaaaaaaaaaaaaaaaaaaaaaaaaaaaaaaaaaaaaaaaaaaaaaaaaaaaaaaaaaaaaaaaaaaaaaaaaaaaaaaaaaaaaaaaaaaaaaaaaaaaaaaaaaaaaaaaaaaaaaaaaaaaaaaaaaaaaaaaaaaaaaaaaaaaaaaaaaaaaaaaaaaaaa'\n",
    "longestPalindrome(s)"
   ]
  },
  {
   "cell_type": "code",
   "execution_count": null,
   "id": "919acfef",
   "metadata": {},
   "outputs": [],
   "source": [
    "s='abc'\n",
    "s[::-1]"
   ]
  },
  {
   "cell_type": "code",
   "execution_count": null,
   "id": "e3336b85",
   "metadata": {},
   "outputs": [],
   "source": [
    "s[3::-1]"
   ]
  },
  {
   "cell_type": "code",
   "execution_count": null,
   "id": "ea95231a",
   "metadata": {},
   "outputs": [],
   "source": [
    "s[1:3]"
   ]
  },
  {
   "cell_type": "code",
   "execution_count": null,
   "id": "76ae2ced",
   "metadata": {},
   "outputs": [],
   "source": [
    "s[3:0:-1]"
   ]
  },
  {
   "cell_type": "code",
   "execution_count": null,
   "id": "97302314",
   "metadata": {},
   "outputs": [],
   "source": [
    "s='012345'\n",
    "for i in range(len(s)):\n",
    "    for j in range(len(s), i+1, -1):\n",
    "        print(s[i:j],s[i:j][::-1])"
   ]
  },
  {
   "cell_type": "markdown",
   "id": "0173e4f5",
   "metadata": {},
   "source": [
    "### 20210823 <a id='653'></a>\n",
    "<strong> 653. Two Sum IV - Input is a BST </strong>\n",
    "\n",
    "Given the root of a Binary Search Tree and a target number k, return true if there exist two elements in the BST such that their sum is equal to the given target."
   ]
  },
  {
   "cell_type": "code",
   "execution_count": null,
   "id": "6eaa81a5",
   "metadata": {},
   "outputs": [],
   "source": [
    "import collections\n",
    "\n",
    "class TreeNode:\n",
    "    def __init__(self, val=0, left=None, right=None):\n",
    "        self.val = val\n",
    "        self.left = left\n",
    "        self.right = right\n",
    "        \n",
    "def findTargetHelper(root, k, memo):\n",
    "    count = 0\n",
    "    if root:\n",
    "        if k - root.val in memo:\n",
    "            count += 1\n",
    "            return count\n",
    "        else:\n",
    "            memo[root.val] += 1\n",
    "        count += findTargetHelper(root.left, k, memo)\n",
    "        count += findTargetHelper(root.right, k, memo)\n",
    "    \n",
    "    return count\n",
    "\n",
    "def findTarget(root, k):\n",
    "    memo = collections.defaultdict(int)\n",
    "    count = findTargetHelper(root, k, memo)\n",
    "    if count == 0:\n",
    "        return False\n",
    "    else:\n",
    "        return True\n",
    "    \n",
    "    "
   ]
  },
  {
   "cell_type": "code",
   "execution_count": null,
   "id": "d34e0de1",
   "metadata": {},
   "outputs": [],
   "source": [
    "root = TreeNode(5,TreeNode(3,TreeNode(2),TreeNode(4)), TreeNode(6,right = TreeNode(7)))\n",
    "k = 9\n",
    "findTarget(root, k)"
   ]
  },
  {
   "cell_type": "code",
   "execution_count": null,
   "id": "b29f40ee",
   "metadata": {},
   "outputs": [],
   "source": [
    "root = TreeNode(5,TreeNode(3,TreeNode(2),TreeNode(4)), TreeNode(6,right = TreeNode(7)))\n",
    "k = 28\n",
    "findTarget(root, k)"
   ]
  },
  {
   "cell_type": "code",
   "execution_count": null,
   "id": "d8d0cb56",
   "metadata": {},
   "outputs": [],
   "source": [
    "root = TreeNode(2,TreeNode(1), TreeNode(3))\n",
    "k = 4\n",
    "findTarget(root, k)"
   ]
  },
  {
   "cell_type": "code",
   "execution_count": null,
   "id": "dbc99f1d",
   "metadata": {},
   "outputs": [],
   "source": [
    "root = TreeNode(2,TreeNode(1), TreeNode(3))\n",
    "k = 1\n",
    "findTarget(root, k)"
   ]
  },
  {
   "cell_type": "code",
   "execution_count": null,
   "id": "5a327381",
   "metadata": {},
   "outputs": [],
   "source": [
    "root = TreeNode(2,TreeNode(1), TreeNode(3))\n",
    "k = 3\n",
    "findTarget(root, k)"
   ]
  },
  {
   "cell_type": "markdown",
   "id": "b21a5bc3",
   "metadata": {},
   "source": [
    "### 20210824 <a id='537'></a>\n",
    "<strong> 537. Complex Number Multiplication </strong>\n",
    "\n",
    "A complex number can be represented as a string on the form \"real+imaginaryi\" where:\n",
    "\n",
    "- real is the real part and is an integer in the range [-100, 100].\n",
    "- imaginary is the imaginary part and is an integer in the range [-100, 100].\n",
    "- i2 == -1.\n",
    "\n",
    "Given two complex numbers num1 and num2 as strings, return a string of the complex number that represents their multiplications."
   ]
  },
  {
   "cell_type": "code",
   "execution_count": null,
   "id": "b71e38f6",
   "metadata": {},
   "outputs": [],
   "source": [
    "def complexNumberMultiply(num1, num2):\n",
    "    num1_list = num1.split('+')\n",
    "    num2_list = num2.split('+')\n",
    "    real1 = int(num1_list[0])\n",
    "    img1 = int(num1_list[1][:-1])\n",
    "    real2 = int(num2_list[0])\n",
    "    img2 = int(num2_list[1][:-1])\n",
    "    \n",
    "    real = real1*real2 - img1*img2\n",
    "    img = real1*img2 + real2*img1\n",
    "    \n",
    "    return f'{real}+{img}i'"
   ]
  },
  {
   "cell_type": "code",
   "execution_count": null,
   "id": "546f8780",
   "metadata": {},
   "outputs": [],
   "source": [
    "s='1+-1i'\n",
    "num1_list = s.split('+')\n",
    "real1 = num1_list[0]\n",
    "img1 = num1_list[1][:-1]\n",
    "real1,img1"
   ]
  },
  {
   "cell_type": "code",
   "execution_count": null,
   "id": "c342426a",
   "metadata": {},
   "outputs": [],
   "source": [
    "num1 = \"1+1i\"\n",
    "num2 = \"1+1i\"\n",
    "complexNumberMultiply(num1,num2)"
   ]
  },
  {
   "cell_type": "code",
   "execution_count": null,
   "id": "b8c6567e",
   "metadata": {},
   "outputs": [],
   "source": [
    "num1 = \"1+-1i\"\n",
    "num2 = \"1+-1i\"\n",
    "complexNumberMultiply(num1,num2)"
   ]
  },
  {
   "cell_type": "markdown",
   "id": "540dc7dd",
   "metadata": {},
   "source": [
    "### 20210825 <a id='633'></a>\n",
    "<strong> 633. Sum of Square Numbers </strong>\n",
    "\n",
    "Given a non-negative integer c, decide whether there're two integers a and b such that a2 + b2 = c."
   ]
  },
  {
   "cell_type": "code",
   "execution_count": null,
   "id": "408d549d",
   "metadata": {},
   "outputs": [],
   "source": [
    "def judgeSquareSum(c):\n",
    "    i = 0\n",
    "    numbers = []\n",
    "    while i**2 <= c:\n",
    "        remain = c - i**2\n",
    "        if remain == i**2 or remain in numbers:\n",
    "            return True\n",
    "        else:\n",
    "            numbers.append(i**2)\n",
    "            i += 1\n",
    "    return False"
   ]
  },
  {
   "cell_type": "code",
   "execution_count": null,
   "id": "b9332510",
   "metadata": {},
   "outputs": [],
   "source": [
    "def judgeSquareSum(c):\n",
    "    i = int(c**0.5) #largest square root\n",
    "    half = int((c/2)**0.5) #smallest square root\n",
    "    j = 0\n",
    "    while i >= half:\n",
    "        remain = c - i**2\n",
    "        while j**2 <= remain:\n",
    "            if remain == j**2:\n",
    "                return True\n",
    "            else:\n",
    "                j += 1\n",
    "        i -= 1\n",
    "    return False"
   ]
  },
  {
   "cell_type": "code",
   "execution_count": null,
   "id": "63bc7013",
   "metadata": {},
   "outputs": [],
   "source": [
    "c = 5\n",
    "judgeSquareSum(c)"
   ]
  },
  {
   "cell_type": "code",
   "execution_count": null,
   "id": "c3e91dd8",
   "metadata": {},
   "outputs": [],
   "source": [
    "c = 4\n",
    "judgeSquareSum(c)"
   ]
  },
  {
   "cell_type": "code",
   "execution_count": null,
   "id": "7e8cf9af",
   "metadata": {},
   "outputs": [],
   "source": [
    "c = 3\n",
    "judgeSquareSum(c)"
   ]
  },
  {
   "cell_type": "code",
   "execution_count": null,
   "id": "03f7dd49",
   "metadata": {},
   "outputs": [],
   "source": [
    "c = 2\n",
    "judgeSquareSum(c)"
   ]
  },
  {
   "cell_type": "code",
   "execution_count": null,
   "id": "12b83fdd",
   "metadata": {},
   "outputs": [],
   "source": [
    "c = 1\n",
    "judgeSquareSum(c)"
   ]
  },
  {
   "cell_type": "code",
   "execution_count": null,
   "id": "c3b6644c",
   "metadata": {},
   "outputs": [],
   "source": [
    "c = 2147482647\n",
    "judgeSquareSum(c)"
   ]
  },
  {
   "cell_type": "markdown",
   "id": "d4a1032f",
   "metadata": {},
   "source": [
    "### 20210825 <a id='6'></a>\n",
    "<strong> 6. ZigZag Conversion </strong>\n",
    "\n",
    "The string \"PAYPALISHIRING\" is written in a zigzag pattern on a given number of rows like this: (you may want to display this pattern in a fixed font for better legibility)\n",
    "\n",
    "1. P   A   H   N\n",
    "2. A P L S I I G\n",
    "3. Y   I   R\n",
    "\n",
    "And then read line by line: \"PAHNAPLSIIGYIR\"\n",
    "\n",
    "Write the code that will take a string and make this conversion given a number of rows:\n",
    "\n",
    "string convert(string s, int numRows);"
   ]
  },
  {
   "cell_type": "code",
   "execution_count": null,
   "id": "01bd8f58",
   "metadata": {},
   "outputs": [],
   "source": [
    "#check pattern\n",
    "def convert(s, numRows):\n",
    "    \n",
    "    if numRows == 1 or len(s) <= numRows:\n",
    "        return s\n",
    "    \n",
    "    if numRows == 2:\n",
    "        first = ''\n",
    "        second = ''\n",
    "        for i in range(len(s)):\n",
    "            if i/2 == int(i/2):\n",
    "                first += s[i]\n",
    "            else:\n",
    "                second += s[i]\n",
    "        return first + second\n",
    "    \n",
    "    coeff = 2*numRows-2\n",
    "    col = -(-(len(s)-numRows) // (coeff))\n",
    "    \n",
    "    zigzag = ''\n",
    "    for i in range(col+1): #first row\n",
    "        if i * coeff < len(s):\n",
    "            zigzag += s[i * coeff]\n",
    "        \n",
    "    for i in range(1, numRows-1): #second to n-1 row\n",
    "        for j in range(col + 1):\n",
    "            if j == 0:\n",
    "                if j * coeff + i < len(s):\n",
    "                    zigzag += s[j * coeff + i]\n",
    "            else:\n",
    "                if j * coeff - i < len(s):\n",
    "                    zigzag += s[j * coeff - i] \n",
    "                if j * coeff + i < len(s):\n",
    "                    zigzag += s[j * coeff + i]\n",
    "\n",
    "    for i in range(col+1): #last row\n",
    "        if i * coeff + numRows - 1 < len(s):\n",
    "            zigzag += s[i * coeff + numRows - 1]\n",
    "    \n",
    "    return zigzag"
   ]
  },
  {
   "cell_type": "code",
   "execution_count": null,
   "id": "4b1ad041",
   "metadata": {},
   "outputs": [],
   "source": [
    "#construct matrix\n",
    "import collections\n",
    "def convert(s, numRows):\n",
    "    if len(s) <= numRows or numRows == 1:\n",
    "        return s\n",
    "    \n",
    "    zigzag = collections.defaultdict(str)\n",
    "    for i in range(numRows):\n",
    "        zigzag[i] = s[i]\n",
    "    \n",
    "    coeff = 2*numRows-2\n",
    "    \n",
    "    for i in range(numRows, len(s)):\n",
    "        remain = i % coeff\n",
    "        if remain < numRows:\n",
    "            zigzag[remain] += s[i]\n",
    "        else:\n",
    "            zigzag[coeff - remain] += s[i]\n",
    "    \n",
    "    s_zigzag = ''\n",
    "    for key in zigzag:\n",
    "        s_zigzag += zigzag[key]\n",
    "    \n",
    "    return s_zigzag"
   ]
  },
  {
   "cell_type": "code",
   "execution_count": null,
   "id": "d201d28f",
   "metadata": {},
   "outputs": [],
   "source": [
    "s = \"PAYPALISHIRING\"\n",
    "numRows = 3\n",
    "'PAHNAPLSIIGYIR'==convert(s, numRows)"
   ]
  },
  {
   "cell_type": "code",
   "execution_count": null,
   "id": "877eeb32",
   "metadata": {},
   "outputs": [],
   "source": [
    "s = \"PAYPALISHIRING\"\n",
    "numRows = 4\n",
    "'PINALSIGYAHRPI'==convert(s, numRows)"
   ]
  },
  {
   "cell_type": "code",
   "execution_count": null,
   "id": "51728f19",
   "metadata": {},
   "outputs": [],
   "source": [
    "s = \"ABC\"\n",
    "numRows = 2\n",
    "convert(s, numRows)"
   ]
  },
  {
   "cell_type": "code",
   "execution_count": null,
   "id": "eb30c172",
   "metadata": {},
   "outputs": [],
   "source": [
    "s = \"A\"\n",
    "numRows = 4\n",
    "convert(s, numRows)"
   ]
  },
  {
   "cell_type": "markdown",
   "id": "afb9e1a2",
   "metadata": {},
   "source": [
    "### 20210826 <a id='331'></a>\n",
    "<strong> 331. Verify Preorder Serialization of a Binary Tree </strong>\n",
    "\n",
    "One way to serialize a binary tree is to use preorder traversal. When we encounter a non-null node, we record the node's value. If it is a null node, we record using a sentinel value such as '#'.\n",
    "\n",
    "\n",
    "For example, the above binary tree can be serialized to the string \"9,3,4,#,#,1,#,#,2,#,6,#,#\", where '#' represents a null node.\n",
    "\n",
    "Given a string of comma-separated values preorder, return true if it is a correct preorder traversal serialization of a binary tree.\n",
    "\n",
    "It is guaranteed that each comma-separated value in the string must be either an integer or a character '#' representing null pointer.\n",
    "\n",
    "You may assume that the input format is always valid.\n",
    "\n",
    "For example, it could never contain two consecutive commas, such as \"1,,3\".\n",
    "Note: You are not allowed to reconstruct the tree."
   ]
  },
  {
   "cell_type": "code",
   "execution_count": null,
   "id": "e775a61f",
   "metadata": {},
   "outputs": [],
   "source": [
    "#non-null node has 1 parent node 2 child nodes +1 space\n",
    "#null node has 1 parent node 0 child nodes -1 space\n",
    "#while program runs it should not run out of space\n",
    "#at the end, it should not have space anymore\n",
    "def isValidSerialization(preorder):\n",
    "    nodes = preorder.split(',')\n",
    "    diff = 1 #there is a dummy node on top of the root\n",
    "    for i in range(len(nodes)):\n",
    "        if diff <= 0:\n",
    "            return False\n",
    "        if nodes[i] == '#':\n",
    "            diff -= 1\n",
    "        else:\n",
    "            diff += 1\n",
    "    return diff == 0"
   ]
  },
  {
   "cell_type": "code",
   "execution_count": null,
   "id": "cad35f51",
   "metadata": {},
   "outputs": [],
   "source": [
    "#stack implementation\n",
    "#see number, push to stack\n",
    "#see null, check stack\n",
    "#1.number, push null to stack\n",
    "#2.null\n",
    "##2.1 null+number, pop both check until there is none\n",
    "##2.2 null+null, return false\n",
    "## and push null\n",
    "#3.nothing return false\n",
    "def isValidSerialization(preorder):\n",
    "    \n",
    "    nodes = preorder.split(',')\n",
    "    stack = []\n",
    "    \n",
    "    for i in range(len(nodes)):\n",
    "        cur = nodes[i]\n",
    "        \n",
    "        if cur != '#':\n",
    "            stack.append(cur)\n",
    "        else:\n",
    "            while True:\n",
    "                if len(stack) <= 1:\n",
    "                    stack.append(cur)\n",
    "                    break\n",
    "                \n",
    "                if stack[-1] != '#':\n",
    "                    stack.append(cur)\n",
    "                    break\n",
    "                \n",
    "                if stack[-1] == '#' and stack[-2] == '#':\n",
    "                    return False             \n",
    "                stack.pop()\n",
    "                stack.pop()\n",
    "            else:\n",
    "                stack.append(cur)\n",
    "        print(i,cur,stack)\n",
    "            \n",
    "    return stack == ['#']"
   ]
  },
  {
   "cell_type": "code",
   "execution_count": null,
   "id": "da30e9bb",
   "metadata": {},
   "outputs": [],
   "source": [
    "preorder = \"9,3,4,#,#,1,#,#,2,#,6,#,#\"\n",
    "isValidSerialization(preorder)"
   ]
  },
  {
   "cell_type": "code",
   "execution_count": null,
   "id": "7fa9faf6",
   "metadata": {},
   "outputs": [],
   "source": [
    "preorder = \"9,#,#,1\"\n",
    "isValidSerialization(preorder)"
   ]
  },
  {
   "cell_type": "code",
   "execution_count": null,
   "id": "106595f6",
   "metadata": {},
   "outputs": [],
   "source": [
    "preorder = \"1,#\"\n",
    "isValidSerialization(preorder)"
   ]
  },
  {
   "cell_type": "markdown",
   "id": "8bfae740",
   "metadata": {},
   "source": [
    "### 20210827 <a id='522'></a>\n",
    "<strong> 522. Longest Uncommon Subsequence II </strong>\n",
    "\n",
    "Given an array of strings strs, return the length of the longest uncommon subsequence between them. If the longest uncommon subsequence does not exist, return -1.\n",
    "\n",
    "An uncommon subsequence between an array of strings is a string that is a subsequence of one string but not the others.\n",
    "\n",
    "A subsequence of a string s is a string that can be obtained after deleting any number of characters from s.\n",
    "\n",
    "For example, \"abc\" is a subsequence of \"aebdc\" because you can delete the underlined characters in \"aebdc\" to get \"abc\". Other subsequences of \"aebdc\" include \"aebdc\", \"aeb\", and \"\" (empty string)."
   ]
  },
  {
   "cell_type": "code",
   "execution_count": null,
   "id": "6a4565f0",
   "metadata": {},
   "outputs": [],
   "source": [
    "#brute force\n",
    "#compare each string if it is substring of other strings, if not, save\n",
    "#get the maxmium length of all the non_substring\n",
    "def findLUSlength(strs) -> int:\n",
    "    non_substring = []\n",
    "    for i in range(len(strs)): #current string to be checked\n",
    "        a = strs[i]\n",
    "        check = strs.copy()\n",
    "        check.pop(i)\n",
    "        flag = True\n",
    "        for j in range(len(check)): \n",
    "            \n",
    "            b = check[j] #check against\n",
    "            \n",
    "            if a == b: #if identical break\n",
    "                flag = False\n",
    "                break\n",
    "            \n",
    "            A = len(a)\n",
    "            B = len(b)\n",
    "            \n",
    "            if A >= B: #if current longer than check, continue\n",
    "                continue\n",
    "            \n",
    "            a_index = 0\n",
    "            b_index = 0\n",
    "            \n",
    "            while a_index < A and b_index < B: #only check when current is shorted than check against\n",
    "                if(a[a_index] == b[b_index]):\n",
    "                    a_index += 1\n",
    "                b_index += 1\n",
    "            \n",
    "            if a_index == A:\n",
    "                flag = False\n",
    "                break\n",
    "        \n",
    "        if flag:\n",
    "            non_substring.append(len(a))\n",
    "        \n",
    "    if non_substring == []:\n",
    "        return -1\n",
    "    else:\n",
    "        return max(non_substring)"
   ]
  },
  {
   "cell_type": "code",
   "execution_count": null,
   "id": "3b132e63",
   "metadata": {},
   "outputs": [],
   "source": [
    "strs = [\"aba\",\"cdc\",\"eae\"]\n",
    "findLUSlength(strs)"
   ]
  },
  {
   "cell_type": "code",
   "execution_count": null,
   "id": "2dfdeb9d",
   "metadata": {},
   "outputs": [],
   "source": [
    "strs = [\"sdfds\",\"sdfds\",\"eae\"]\n",
    "findLUSlength(strs)"
   ]
  },
  {
   "cell_type": "code",
   "execution_count": null,
   "id": "124deab6",
   "metadata": {},
   "outputs": [],
   "source": [
    "strs = [\"aaa\",\"aaa\",\"aa\"]\n",
    "findLUSlength(strs)"
   ]
  },
  {
   "cell_type": "markdown",
   "id": "98f615c4",
   "metadata": {},
   "source": [
    "### 20210827 <a id='7'></a>\n",
    "<strong> 7. Reverse Integer</strong>\n",
    "\n",
    "Given a signed 32-bit integer x, return x with its digits reversed. If reversing x causes the value to go outside the signed 32-bit integer range [-2^31, 2^31 - 1], then return 0.\n",
    "\n",
    "Assume the environment does not allow you to store 64-bit integers (signed or unsigned)."
   ]
  },
  {
   "cell_type": "code",
   "execution_count": null,
   "id": "9d3f2615",
   "metadata": {},
   "outputs": [],
   "source": [
    "def reverse(x):\n",
    "    if x >= 0:\n",
    "        sign = 1\n",
    "        num = str(x)\n",
    "    else:\n",
    "        sign = -1\n",
    "        num = str(x)[1:]\n",
    "    \n",
    "    n = len(num)\n",
    "    ans = 0\n",
    "    for i in range(n-1, -1, -1):\n",
    "        ans += int(num[i]) * 10 ** i\n",
    "    \n",
    "    if ans > 2**31 - 1:\n",
    "        ans = 0\n",
    "    \n",
    "    return sign*ans"
   ]
  },
  {
   "cell_type": "code",
   "execution_count": null,
   "id": "d0b0cec6",
   "metadata": {},
   "outputs": [],
   "source": [
    "def reverse(x):"
   ]
  },
  {
   "cell_type": "code",
   "execution_count": null,
   "id": "39e48e97",
   "metadata": {},
   "outputs": [],
   "source": [
    "reverse(123)"
   ]
  },
  {
   "cell_type": "code",
   "execution_count": null,
   "id": "5e5798b8",
   "metadata": {},
   "outputs": [],
   "source": [
    "reverse(-123)"
   ]
  },
  {
   "cell_type": "code",
   "execution_count": null,
   "id": "414ef7c6",
   "metadata": {},
   "outputs": [],
   "source": [
    "reverse(120)"
   ]
  },
  {
   "cell_type": "code",
   "execution_count": null,
   "id": "788a9caf",
   "metadata": {},
   "outputs": [],
   "source": [
    "reverse(0)"
   ]
  },
  {
   "cell_type": "markdown",
   "id": "6ecc381e",
   "metadata": {},
   "source": [
    "### 20210827 <a id='9'></a>\n",
    "<strong> 9. Palindrome Number</strong>\n",
    "\n",
    "Given an integer x, return true if x is palindrome integer.\n",
    "\n",
    "An integer is a palindrome when it reads the same backward as forward. For example, 121 is palindrome while 123 is not.\n",
    "\n"
   ]
  },
  {
   "cell_type": "code",
   "execution_count": null,
   "id": "17a637e0",
   "metadata": {},
   "outputs": [],
   "source": [
    "def isPalindrome(x):\n",
    "    if x < 0:\n",
    "        return False\n",
    "    \n",
    "    num = list(str(x))\n",
    "    \n",
    "    while len(num) >= 2:\n",
    "        first = num.pop(0)\n",
    "        last = num.pop(-1)\n",
    "        if first != last:\n",
    "            return False\n",
    "    \n",
    "    return True\n"
   ]
  },
  {
   "cell_type": "code",
   "execution_count": null,
   "id": "243e2d83",
   "metadata": {},
   "outputs": [],
   "source": [
    "#doesn't work with 0 in the front\n",
    "def isPalindrome(x):\n",
    "    if x < 0:\n",
    "        return False\n",
    "    num = x\n",
    "    divider = 1\n",
    "    \n",
    "    while divider*10 < num:\n",
    "        divider *= 10\n",
    "   \n",
    "    while num >= 10:\n",
    "        first = int(num/divider)\n",
    "        last = num%10\n",
    "        if first != last:\n",
    "            return False\n",
    "        num = int(num % divider)\n",
    "        num = int(num/10)\n",
    "        divider /= 100\n",
    "        print(num)\n",
    "    \n",
    "    return True"
   ]
  },
  {
   "cell_type": "code",
   "execution_count": null,
   "id": "98a5e243",
   "metadata": {},
   "outputs": [],
   "source": [
    "def isPalindrome(x):\n",
    "    if x < 0:\n",
    "        return False\n",
    "    num = x\n",
    "    divider = 1\n",
    "    half = 0\n",
    "    \n",
    "    while divider*10 < num:\n",
    "        divider *= 10\n",
    "    \n",
    "    multiple = 1\n",
    "    while divider >= 10:\n",
    "        last = num%10\n",
    "        half = half * multiple + last\n",
    "        if multiple == 1:\n",
    "            multiple *= 10\n",
    "        num = int(num/10)\n",
    "        divider /= 100\n",
    "    \n",
    "    return half == num or half == int(num/10)"
   ]
  },
  {
   "cell_type": "code",
   "execution_count": null,
   "id": "5fa7bc2c",
   "metadata": {},
   "outputs": [],
   "source": [
    "x = 121\n",
    "isPalindrome(x)"
   ]
  },
  {
   "cell_type": "code",
   "execution_count": null,
   "id": "27713178",
   "metadata": {},
   "outputs": [],
   "source": [
    "x = -121\n",
    "isPalindrome(x)"
   ]
  },
  {
   "cell_type": "code",
   "execution_count": null,
   "id": "2d16055b",
   "metadata": {},
   "outputs": [],
   "source": [
    "x = 1221\n",
    "isPalindrome(x)"
   ]
  },
  {
   "cell_type": "code",
   "execution_count": null,
   "id": "8792a34e",
   "metadata": {},
   "outputs": [],
   "source": [
    "x = 1000021\n",
    "isPalindrome(x)"
   ]
  },
  {
   "cell_type": "code",
   "execution_count": null,
   "id": "4b1f83e8",
   "metadata": {},
   "outputs": [],
   "source": [
    "x = 2222222\n",
    "isPalindrome(x)"
   ]
  },
  {
   "cell_type": "markdown",
   "id": "3302ccff",
   "metadata": {},
   "source": [
    "### 20210830 <a id='598'></a>\n",
    "<strong> 598. Range Addition II</strong>\n",
    "\n",
    "You are given an m x n matrix M initialized with all 0's and an array of operations ops, where ops[i] = [ai, bi] means M[x][y] should be incremented by one for all 0 <= x < ai and 0 <= y < bi.\n",
    "\n",
    "Count and return the number of maximum integers in the matrix after performing all the operations.\n",
    "\n"
   ]
  },
  {
   "cell_type": "code",
   "execution_count": null,
   "id": "c16cd4bb",
   "metadata": {},
   "outputs": [],
   "source": [
    "def maxCount(m, n, ops):\n",
    "    row = m\n",
    "    column = n\n",
    "    for op in ops:\n",
    "        if op[0] < row:\n",
    "            row = op[0]\n",
    "        if op[1] < column:\n",
    "            column = op[1]\n",
    "    return row * column"
   ]
  },
  {
   "cell_type": "code",
   "execution_count": null,
   "id": "8c37abdc",
   "metadata": {},
   "outputs": [],
   "source": [
    "m = 3\n",
    "n = 3\n",
    "ops = [[2,2],[3,3]]\n",
    "maxCount(m,n,ops)"
   ]
  },
  {
   "cell_type": "code",
   "execution_count": null,
   "id": "7a06faaa",
   "metadata": {},
   "outputs": [],
   "source": [
    "ops = [[2,2],[3,3],[3,3],[3,3],[2,2],[3,3],[3,3],[3,3],[2,2],[3,3],[3,3],[3,3]]\n",
    "maxCount(m,n,ops)"
   ]
  },
  {
   "cell_type": "code",
   "execution_count": null,
   "id": "81badb12",
   "metadata": {},
   "outputs": [],
   "source": [
    "ops = []\n",
    "maxCount(m,n,ops)"
   ]
  },
  {
   "cell_type": "markdown",
   "id": "50ab809a",
   "metadata": {},
   "source": [
    "### 20210830 <a id='8'></a>\n",
    "<strong> 8. String to Integer (atoi)</strong>\n",
    "\n",
    "Implement the myAtoi(string s) function, which converts a string to a 32-bit signed integer (similar to C/C++'s atoi function).\n",
    "\n",
    "The algorithm for myAtoi(string s) is as follows:\n",
    "\n",
    "1. Read in and ignore any leading whitespace.\n",
    "2. Check if the next character (if not already at the end of the string) is '-' or '+'. Read this character in if it is either. This determines if the final result is negative or positive respectively. Assume the result is positive if neither is present.\n",
    "3. Read in next the characters until the next non-digit charcter or the end of the input is reached. The rest of the string is ignored.\n",
    "4. Convert these digits into an integer (i.e. \"123\" -> 123, \"0032\" -> 32). If no digits were read, then the integer is 0. Change the sign as necessary (from step 2).\n",
    "5. If the integer is out of the 32-bit signed integer range [-2^31, 2^31 - 1], then clamp the integer so that it remains in the range. Specifically, integers less than -2^31 should be clamped to -2^31, and integers greater than 2^31 - 1 should be clamped to 2^31 - 1.\n",
    "6. Return the integer as the final result.\n",
    "\n",
    "Note:\n",
    "\n",
    "Only the space character ' ' is considered a whitespace character.\n",
    "Do not ignore any characters other than the leading whitespace or the rest of the string after the digits."
   ]
  },
  {
   "cell_type": "code",
   "execution_count": null,
   "id": "4fc65b1c",
   "metadata": {},
   "outputs": [],
   "source": [
    "def myAtoi(s):\n",
    "    sstrip = s.strip()\n",
    "    sign = 0\n",
    "    number_str = '0'\n",
    "    \n",
    "    for char in sstrip:\n",
    "        if sign == 0:\n",
    "            if char == '+':\n",
    "                sign = 1\n",
    "                continue\n",
    "            elif char.isdigit():\n",
    "                sign = 1\n",
    "                number_str += char\n",
    "                continue\n",
    "            elif char == '-':\n",
    "                sign = -1\n",
    "                continue\n",
    "            else:\n",
    "                break\n",
    "        else:\n",
    "            if char.isdigit():\n",
    "                number_str += char\n",
    "            else:\n",
    "                break\n",
    "    \n",
    "    number = sign * int(number_str)\n",
    "    \n",
    "    if number > 2**31 - 1:\n",
    "        number = 2**31 - 1\n",
    "    \n",
    "    if number < -2**31:\n",
    "        number = -1*2**31\n",
    "        \n",
    "    return number"
   ]
  },
  {
   "cell_type": "code",
   "execution_count": null,
   "id": "687fc602",
   "metadata": {},
   "outputs": [],
   "source": [
    "s = \"42\"\n",
    "myAtoi(s)"
   ]
  },
  {
   "cell_type": "code",
   "execution_count": null,
   "id": "7747d22f",
   "metadata": {},
   "outputs": [],
   "source": [
    "s = \"   -42\"\n",
    "myAtoi(s)"
   ]
  },
  {
   "cell_type": "code",
   "execution_count": null,
   "id": "72a24334",
   "metadata": {},
   "outputs": [],
   "source": [
    "s = \"4193 with words\"\n",
    "myAtoi(s)"
   ]
  },
  {
   "cell_type": "code",
   "execution_count": null,
   "id": "0034371f",
   "metadata": {},
   "outputs": [],
   "source": [
    "s = \"words and 987\"\n",
    "myAtoi(s)"
   ]
  },
  {
   "cell_type": "markdown",
   "id": "65d4fab8",
   "metadata": {},
   "source": [
    "### 20210830 <a id='11'></a>\n",
    "<strong> 11. Container With Most Water</strong>\n",
    "\n",
    "Given n non-negative integers a1, a2, ..., an , where each represents a point at coordinate (i, ai). n vertical lines are drawn such that the two endpoints of the line i is at (i, ai) and (i, 0). Find two lines, which, together with the x-axis forms a container, such that the container contains the most water.\n",
    "\n",
    "Notice that you may not slant the container."
   ]
  },
  {
   "cell_type": "code",
   "execution_count": null,
   "id": "a8b73c59",
   "metadata": {},
   "outputs": [],
   "source": [
    "#Brute force with slight improvment, exceed time limit for worst case, do not work\n",
    "def maxArea(height):\n",
    "    max_volumn = 0\n",
    "    skip = height[0]\n",
    "    max_height = height[0]\n",
    "    \n",
    "    for i in range(len(height) - 1):\n",
    "        if height[i] < skip:\n",
    "            continue\n",
    "        else:\n",
    "            skip = height[i]\n",
    "        for j in range(i+1, len(height)):\n",
    "            volumn = (j-i) * min(height[i],height[j])\n",
    "            if volumn > max_volumn:\n",
    "                max_volumn = volumn\n",
    "    \n",
    "    return max_volumn"
   ]
  },
  {
   "cell_type": "code",
   "execution_count": null,
   "id": "cf167a4c",
   "metadata": {},
   "outputs": [],
   "source": [
    "#Brute force with slight improvment, exceed time limit for worst case, do not work\n",
    "def maxArea(height):\n",
    "    max_volumn = 0\n",
    "    skip = height[0]\n",
    "    max_height = height[0]\n",
    "    \n",
    "    for i in range(len(height) - 1):\n",
    "        if height[i] < skip:\n",
    "            continue\n",
    "        else:\n",
    "            skip = height[i]\n",
    "        for j in range(len(height)-1, i, -1):\n",
    "            volumn = (j-i) * min(height[i],height[j])\n",
    "            if volumn > max_volumn:\n",
    "                max_volumn = volumn\n",
    "            if height[j] >= height[i]:\n",
    "                break\n",
    "    \n",
    "    return max_volumn"
   ]
  },
  {
   "cell_type": "code",
   "execution_count": null,
   "id": "aeb1e6ce",
   "metadata": {},
   "outputs": [],
   "source": [
    "def maxArea(height):\n",
    "    left = 0\n",
    "    right = len(height) - 1\n",
    "    max_v = min(height[left], height[right]) * (right - left)\n",
    "    while left != right:\n",
    "        if height[left] >= height[right]:\n",
    "            right -= 1\n",
    "        else:\n",
    "            left += 1\n",
    "        area = min(height[left], height[right]) * (right - left)\n",
    "        if  area > max_v:\n",
    "            max_v = area\n",
    "    return max_v"
   ]
  },
  {
   "cell_type": "code",
   "execution_count": null,
   "id": "036c3fab",
   "metadata": {},
   "outputs": [],
   "source": [
    "height = [1,8,6,2,5,4,8,3,7]\n",
    "maxArea(height)"
   ]
  },
  {
   "cell_type": "code",
   "execution_count": null,
   "id": "f1dff5dc",
   "metadata": {},
   "outputs": [],
   "source": [
    "height = [1,1]\n",
    "maxArea(height)"
   ]
  },
  {
   "cell_type": "code",
   "execution_count": null,
   "id": "a99595af",
   "metadata": {},
   "outputs": [],
   "source": [
    "height = [4,3,2,1,4]\n",
    "maxArea(height)"
   ]
  },
  {
   "cell_type": "code",
   "execution_count": null,
   "id": "f39c2e54",
   "metadata": {},
   "outputs": [],
   "source": [
    "height = [1,2,1]\n",
    "maxArea(height)"
   ]
  },
  {
   "cell_type": "code",
   "execution_count": null,
   "id": "96b54816",
   "metadata": {},
   "outputs": [],
   "source": [
    "height = [488,8584,8144,7414,6649,3463,3453,8665,8006,1313,3815,7404,6969,7759,3643,8530,9792,1815,2480,6996,1151,2849,3432,1198,6125,1666,978,930,1678,3348,5223,2167,1932,3367,5933,4933,6830,9386,9951,1188,7051,118,8593,373,7877,2236,5255,7669,4051,7735,1018,1554,584,4450,9105,3061,2468,83,3992,498,9784,5567,2665,8068,8935,4951,3002,5765,4337,9305,3306,7741,9423,1899,8114,7301,487,3369,4970,890,7456,2340,8797,4392,6790,7902,3805,5610,7985,4149,6109,4121,9717,5126,2190,8652,77,1544,769,767,849,4075,8508,272,2326,2974,7573,9165,2695,8896,56,6503,1236,8853,7247,4379,6755,1052,9989,1092,5202,6098,5214,4919,7577,3756,9923,7654,5300,7044,8421,6149,1120,3281,6421,9798,2607,347,8964,5302,9243,5372,1805,479,4225,9052,1210,7332,6457,1200,8424,8011,3650,9990,9282,1227,3746,9205,5234,9046,6249,7,1547,3721,3289,4321,9872,5896,4668,8836,1199,3911,560,9356,742,4785,4761,1953,8469,1218,9505,3245,5581,9507,3236,4863,7087,3334,4068,2321,8733,6669,2328,280,391,1969,4601,6615,7866,9269,1803,5417,9532,2363,1125,6627,7148,5886,4932,1969,3456,4437,5214,9037,296,4802,252,7383,8137,4320,9704,6870,7342,8385,3502,4085,354,8104,700,4572,3725,2503,9989,9610,4866,7467,6237,8366,9705,1169,335,9514,1958,1901,4903,2254,6704,5156,9638,1193,9476,5694,8063,3170,4079,7917,7255,4434,2373,7955,9006,6099,458,5348,2061,1676,2815,8298,42,2520,5819,6729,2034,7777,8631,6938,31,5335,8446,6021,6528,7922,1716,943,1093,5795,8860,4700,6581,7586,2656,1940,3685,3114,3640,5746,4791,2807,396,1185,1679,6215,7915,3714,3992,6546,7004,375,8233,5450,6397,1113,9724,8113,8408,7169,260,3620,1870,3194,1206,4526,5134,4891,3992,5126,6989,5135,7933,3737,2673,9612,9952,588,9678,296,3486,3034,672,8071,4836,3421,9184,4561,1534,7592,8082,8146,7564,9952,1340,8771,830,2826,14,1175,7952,3356,2662,2237,7093,5335,1850,3398,2275,7880,3694,2113,915,718,184,5751,491,5720,6664,2025,3312,4747,6524,877,1051,7864,6000,8234,7043,6014,5761,1347,9370,8423,3585,6464,111,1787,6214,8738,9667,6260,852,6934,6979,1036,2686,3822,3109,5702,5848,6421,449,8724,3650,7853,6588,6002,2439,9983,2017,8200,1331,7739,2975,4916,555,9438,3055,6769,8177,9074,3030,5381,6009,6361,6417,5047,183,5878,749,2383,2300,7551,1107,2302,5404,4048,4657,7843,4031,6674,2395,1714,4413,5370,6630,4969,4809,6037,1738,9338,5112,1120,4719,1121,7481,7488,6168,4017,3367,6917,6400,2019,4468,7508,673,6224,7908,5330,419,8291,2004,2814,6,2770,8185,2988,4091,9346,9026,2181,8684,4138,3302,3403,1611,7135,891,7779,1152,4258,1048,7553,6277,1869,1413,6951,4445,5673,2281,4865,3964,638,7679,3970,3408,5864,6959,3851,5210,5985,6032,3894,6475,5686,3649,8086,2822,4541,5865,326,8799,3265,4231,5077,5134,5644,8380,9580,7669,661,797,1634,7651,8476,5604,7411,693,8915,1262,5903,4900,3647,6150,7727,9333,9799,5813,2155,692,8030,8834,9492,1296,3065,921,2782,5062,5653,8714,2731,2666,9511,4365,318,4340,6322,7729,5033,5237,8992,7288,6490,8991,9790,4217,8324,9590,31,6832,6634,4413,5666,6126,5709,8731,3399,4844,3793,9052,9910,6525,1719,9422,7242,8389,114,3564,6118,5147,8802,1462,2435,1644,453,2226,5861,8778,8168,2244,1962,4802,6658,7628,7281,8719,6359,7032,9915,153,6085,9826,3030,4156,5600,272,2545,5714,3837,5015,861,8991,6478,9648,6987,3283,8226,2848,8413,6394,1445,375,7549,4455,8003,1182,3174,715,8214,3090,7220,651,9268,250,1159,4868,6874,3704,582,7063,5072,7795,6054,1550,7443,3041,1185,5670,2242,9599,8416,39,6326,2317,4494,4330,3499,4020,1397,8066,3462,8617,5069,2730,5219,6229,7598,2093,6285,8180,9157,1357,5975,1563,9259,9771,957,445,5441,3199,6396,209,3238,2722,2527,4084,3404,2378,8104,4801,6796,1567,3418,1866,4297,4989,8095,8248,7083,732,6428,2592,2090,8756,4155,1349,8527,1464,1794,3968,4663,8190,529,4253,7265,9408,4689,669,8139,2794,5471,4935,713,5241,3153,1362,6583,7600,9610,3666,8333,6039,2610,423,1147,3117,1772,9674,4582,9919,9994,5597,4461,523,6203,1726,9932,892,8748,4423,38,571,9358,7103,2164,8864,8466,8747,6464,8076,8765,1149,467,1375,1572,1614,4493,9697,7640,5427,9616,7634,1024,429,4510,7227,8508,794,4472,7256,5217,4510,4179,927,1614,6343,9791,80,1443,2608,4508,208,3757,1328,1584,5330,9294,2429,1379,6935,7856,7347,921,8880,7776,5431,2460,2636,6225,6932,6244,7794,7794,423,8722,9408,3119,4865,5840,4562,7473,6701,4770,1231,4381,2706,2913,3675,5135,4292,6962,9343,1639,7884,8224,5767,9667,7036,8404,2245,3968,4648,39,1762,1424,5113,7523,4543,9979,9715,9105,7452,6416,227,8683,797,2934,1596,825,8069,2240,7787,3765,3879,2023,1989,9647,8043,5377,4403,288,5697,9051,327,3811,475,1793,1334,1370,1772,1050,475,9224,3818,703,4260,4616,9989,2208,5441,8058,4449,9580,8175,4680,7956,164,679,5999,1893,5082,6287,7590,486,2966,1402,7313,4759,2736,8684,6531,138,9159,2108,3957,6214,2720,4925,6203,4928,6718,614,5729,6298,8789,6762,4254,5306,7441,6605,3551,8876,2892,1142,9362,2211,2544,6675,6970,1632,5359,9854,8123,871,8314,2080,3437,1034,3357,5993,2314,75,2959,4396,2725,1748,1158,3332,3406,4951,9937,6958,3827,2830,4452,3189,5041,6996,6217,8363,4980,7928,4569,3103,8799,2883,1535,8589,269,4892,4582,8936,4967,7541,3332,7693,5641,842,1025,5400,5793,962,2358,9621,144,6810,9162,1537,158,5379,6253,1490,9660,822,4594,8459,58,6129,7048,327,7374,7982,5615,2341,5523,5299,6386,7517,6141,3763,2917,8287,1078,1627,4260,7574,4789,3422,9112,4947,5154,5365,2789,4814,2539,7383,9625,2597,9865,3026,9277,7239,1008,4892,5932,2884,192,8671,6753,2685,2434,9670,972,3512,7649,5232,1087,2438,5007,6551,3737,6513,8268,6526,1327,807,3910,7304,9757,127,330,9034,3718,7691,278,9650,6927,6822,8321,32,5860,7108,9702,6832,6972,7351,8417,8059,6141,3424,962,9878,9937,9230,6404,7616,6390,6666,1272,6147,3145,7955,1533,6863,1998,8163,2866,5277,4986,1187,5309,846,4647,1363,4030,1620,5066,2447,6031,1207,2223,6994,1085,8512,2576,3841,2480,8966,6860,3753,1465,5,1708,2998,6869,3706,7514,9735,8983,2500,7274,4292,9698,1922,2007,80,3542,7073,2528,9573,8280,1103,2919,5717,9616,5496,9558,2096,814,6418,2201,2280,6424,3909,1630,9645,3967,9144,9380,9302,7996,6654,9946,4046,4928,1953,4127,8470,9026,3007,4396,7306,462,7315,9375,6430,9163,8934,8527,9978,1704,7080,8610,4480,7342,240,4125,1309,5737,3505,612,85,6512,6910,4132,1440,8864,4611,6263,7890,3970,659,1549,4432,4326,7276,863,3490,6210,5742,9820,4267,2822,8430,5099,164,5022,9225,7826,759,9082,4790,7197,1946,1700,7681,3387,6916,2292,6002,1159,2614,6661,9060,7046,7339,6336,4261,829,8899,6355,7001,3166,5530,5431,4617,2046,454,3842,9872,7565,9277,1014,4762,7575,2715,2443,7314,5983,1087,3316,7142,3701,9977,6202,7100,3669,2539,1361,850,1438,4069,7852,956,9599,3283,5573,1645,3737,5768,1518,1303,1397,2532,2417,8972,1599,4861,6287,3935,5948,9603,1077,9650,5933,7280,6750,9602,6171,4463,452,3961,8532,8304,4917,4483,7940,6842,6129,8029,2610,3999,5684,4007,2883,8102,9332,4483,2963,5619,4770,5263,1574,5847,4913,7507,9479,8015,3461,5650,8831,266,9611,7363,4922,880,1847,2862,7723,4328,7244,6685,8327,2928,7045,1210,1030,6377,2045,345,8348,6815,5609,9922,2663,6874,3782,8494,4890,3595,4145,3721,3861,108,7436,8784,7341,5635,7998,1416,9963,5242,8101,4642,4523,5146,5853,1905,7875,4250,2251,2575,1066,4212,8850,81,1086,2632,8575,2328,2579,9072,6049,6441,5533,9838,1577,2874,1825,5927,4290,8141,1170,8743,2783,2045,242,4988,3950,4469,9239,6201,7045,305,6765,5895,6738,7852,4879,5313,180,7458,738,2582,251,6271,8772,8180,5497,597,4108,6139,5090,1630,4882,4226,3675,1476,9214,7625,5946,8453,179,2991,5110,6944,5238,1848,4796,6469,3514,1329,279,4252,263,6883,6875,9035,5063,2372,5984,9171,4863,1075,801,9745,5301,828,1222,867,8454,3520,5673,8633,2863,783,1929,8101,8984,6726,922,8850,4407,1201,9454,4670,8084,6329,3705,3148,5053,6041,8671,9916,7116,5825,6013,8769,6653,7235,9637,5107,7107,1662,92,9970,8797,2022,4423,7781,5100,5345,2983,9507,2899,2437,529,7335,8766,4234,483,171,275,5507,87,3744,1332,6101,8865,4337,9688,4854,9445,6796,6516,5889,6766,5314,4263,1190,9447,9363,2887,2431,5222,5786,4868,5751,3122,9987,6337,9957,158,2965,1816,6598,6709,3148,2699,1926,7486,8739,6781,3283,5535,9649,5524,8654,4963,9788,6196,4411,5503,9083,3194,726,1222,4414,2829,4344,753,9167,653,7264,2132,2470,3862,5193,1970,2913,7119,5808,1652,252,9091,3540,9902,968,2194,1217,7108,4742,1980,2611,3825,5174,9689,5047,5941,8871,5743,6694,8038,2749,3958,6522,5219,7820,8067,7189,7085,1538,9350,5090,1791,8441,8630,8045,5761,7176,9262,2869,1918,1243,5481,2095,2769,1522,3495,8710,393,9238,5405,4783,8339,9363,7657,3558,3536,5724,7100,6973,7263,6450,2063,5406,1243,7045,3451,7005,4221,9065,6226,2491,308,8059,4587,3078,9582,8082,8140,6327,3672,3545,1111,2012,9261,5120,1922,9149,845,9022,6122,4460,1824,4538,9866,3068,1583,9669,6425,5805,8734,9003,4648,5395,7063,9235,8473,2997,3669,2965,9324,3694,6511,6787,5706,2124,1908,3980,1273,9105,3003,3747,3565,1179,8285,9783,599,9869,9452,3376,2026,4538,2380,6674,9933,9443,2262,4758,8792,5931,7724,8116,9625,587,1256,1683,2711,9516,5664,3984,8621,5019,4083,2186,6198,2369,8321,3150,8590,4125,6526,616,8663,5258,3642,4949,4701,5904,6059,9845,8188,3783,7962,4165,722,5570,2201,3433,5086,7865,3769,3707,9236,7853,2245,1786,222,566,4936,8812,4691,7815,5780,9706,3073,5774,4655,4127,1679,7067,3972,6219,7202,8286,6736,7925,3856,8937,1358,8942,3154,1480,9001,2390,9333,1246,4177,5907,8164,5465,1071,2855,3280,6851,8914,2706,2625,9921,6833,656,6988,805,3227,4191,9092,9964,2116,9300,5253,9826,8243,8408,1306,3596,798,6991,4843,1327,9250,3007,3145,321,2215,2777,3524,7481,5483,2502,7402,2316,9510,4391,9474,2738,4934,4918,9054,7050,4218,4307,3228,8813,9067,887,2410,6218,7878,3605,7545,7129,2964,7042,3802,1531,9820,7327,9012,1655,9829,6415,324,9339,7158,9798,8429,2092,1068,3835,5494,5286,8143,5074,452,7210,5961,9214,3428,192,9171,7326,3673,2135,720,7475,19,540,1154,9031,2196,7335,1798,2520,6675,5308,8670,1456,7400,9738,5292,9246,1376,9787,4321,8180,3349,6634,7394,3130,6826,2917,456,499,1405,1176,4327,1424,8069,5481,6807,6617,2817,4958,9137,5844,266,4159,7300,4019,249,8944,3265,1625,8731,3938,6158,2081,573,9904,5211,7399,2822,2019,4251,4227,9547,8578,2003,7616,4059,8810,4233,3228,3768,9722,9072,387,233,2725,4406,482,1669,4023,8460,6753,4314,4618,8834,4887,4522,397,8638,3696,2416,2889,4275,8315,7819,6278,2284,1879,5089,2869,1459,5209,2592,532,1948,9177,3257,6354,9660,4926,6730,4472,1679,1044,9090,6865,5931,9964,3614,921,3661,2382,163,7936,698,7982,567,2982,6213,2008,5851,7673,3569,4795,8205,5518,3973,7814,8224,9985,9092,4954,4457,7124,5998,9899,3989,8281,6215,7604,5555,6228,6338,5718,517,7036,3700,1084,18,6266,3092,2222,3939,6661,7017,8496,2179,7342,6310,404,3679,5402,1710,4488,2526,4061,4387,2868,2342,6955,6824,4249,3183,3162,9967,3700,199,20,4784,6569,6286,4228,5143,225,890,8513,8721,9421,5855,5031,6177,5887,6785,4240,375,5664,8301,1115,8532,6995,8070,1708,1245,1253,4870,1212,1306,1421,1232,6090,4343,7518,6671,9486,4095,3913,7999,2816,9686,207,4199,5864,6094,7337,104,2821,3001,4757,3936,7885,1752,8358,9593,2997,5964,815,562,7270,2237,1794,9712,6580,5665,6383,2418,6112,296,418,5281,9983,625,5832,2199,3071,3169,8655,2244,2522,3412,2533,407,5164,891,0,4514,6855,7168,5076,477,9405,3222,190,2337,5239,2925,1107,1352,3222,1525,6633,9557,8502,2465,1756,7925,1987,6763,170,4509,175,2703,1269,1691,3594,7621,2557,6802,4789,7633,3631,546,7208,173,2883,8799,3099,343,151,2673,1868,3136,2230,6723,1954,338,4648,3941,7101,1170,4802,3628,3873,6071,1671,3820,3693,4229,6974,8482,8214,605,5381,5422,7131,4616,4222,230,4959,725,2903,3180,214,5133,9903,2168,1823,903,2461,8924,2074,7263,8904,2299,9687,575,2471,9732,4804,9445,4566,9371,6403,9947,1145,3534,4564,1719,116,9523,2445,3019,2703,2659,4504,8958,1179,2679,6214,3640,1603,4640,7255,507,6939,3294,7434,9411,3026,8591,5208,7593,7962,7963,7540,9107,1497,8456,827,7965,7980,9624,984,7035,2283,1840,5994,9814,4519,2208,3454,2474,6848,7061,9333,139,356,6768,5902,3382,1711,1111,7327,9673,9074,1220,8780,6924,9676,9607,4889,4008,9231,2226,1044,7866,418,3390,7680,1290,1950,7486,116,5150,4548,9450,1641,1256,2570,7544,990,4281,8655,8318,306,4081,9538,9086,7357,5566,5046,8599,9575,629,825,6971,4848,7595,361,2528,8885,8663,6367,9002,3813,7267,4804,5454,8523,3726,2998,9513,4359,8005,4183,4665,8439,3721,103,5796,5640,5149,4395,5215,5779,1572,2186,627,9168,8899,9507,4405,7562,5874,9759,1375,9493,915,3181,8016,993,2532,3882,5352,537,8065,6369,5328,8139,6473,1125,3779,1622,1872,5346,3753,3445,7532,4380,8965,2783,240,3370,345,2466,9482,8072,1960,397,1253,6328,1391,137,6562,3095,675,4628,9465,2355,9119,5938,9832,9250,3912,1705,4596,7666,1502,8480,8398,467,1263,8638,189,7960,7457,9671,6032,9417,6421,3637,2097,4164,3775,8660,7259,802,9640,3076,3157,8759,9014,2990,8009,9279,1047,8957,6945,2549,7437,5343,9368,5052,334,9557,3012,7791,5581,5396,3560,8354,9033,5657,2518,9160,669,6129,9962,309,9206,9472,9068,4572,8814,3429,3851,9861,8738,7148,8762,6175,2492,8130,7579,9178,7687,6943,3321,9620,2339,6881,7974,7725,8890,492,3237,9560,2974,9552,9869,8532,9024,5290,3104,4190,5071,3308,4051,3810,456,9165,6337,9300,7295,3917,4830,4982,860,8151,955,9552,5032,8929,3629,275,5774,6866,9835,8748,6418,9704,7280,1794,1346,6736,5984,6418,44,6387,228,6853,5552,6565,2505,9199,6834,7336,534,7695,5487,1489,3599,6872,418,3580,7147,6192,446,6982,4940,3217,3038,8572,1363,737,5309,3700,7155,1705,87,3735,4910,1992,300,7416,1191,7135,4752,1725,1182,6591,9566,1133,9815,9985,4713,6962,2529,1511,296,7470,1080,9687,2394,2444,424,4055,6144,3931,5761,2583,7666,671,927,4318,4439,8471,7805,5543,6548,5339,2135,6115,6472,8302,6100,7537,1617,8629,5401,1913,2451,6481,7952,1198,5277,4728,5253,7773,8659,1014,357,2677,8038,1284,6996,2477,6107,4801,8021,2656,141,6508,8771,2965,4810,1223,6855,6427,9852,2256,4693,8656,8737,8997,9854,367,3726,5107,8140,8737,2474,8497,1415,6864,6134,8411,5693,2241,9564,3714,1249,6057,6574,20,5375,7737,1243,2230,516,7448,4486,1561,2456,9575,559,2310,9942,4285,3769,4435,3022,2595,9284,789,9459,5418,9200,5153,4012,5117,5219,5261,1174,8146,1634,6549,5883,2877,5131,2751,6677,9617,4313,9133,5545,1224,7795,5487,5509,7917,9922,4883,512,9207,5673,6324,977,1225,7829,1341,6342,9400,2955,3869,7546,4589,6770,9781,3818,1902,8885,496,1519,3198,9629,7064,4422,7425,8904,6283,5342,5178,7518,2206,737,9543,4882,1715,769,2711,9408,3463,2112,2363,7332,6010,3304,455,2144,7123,2357,1029,7619,228,579,3600,3645,1353,7377,8901,3988,2719,4079,1506,1278,4817,1050,6160,2884,8171,8872,8644,1634,7336,7360,5319,9698,664,2126,8194,7787,4483,9223,1758,1063,6154,1711,1060,7507,9088,9961,7847,8160,393,5706,9438,1562,6756,5598,798,1279,822,9442,9265,4510,6802,936,4209,7467,3062,2403,1606,3897,7979,9717,1313,4133,1428,2373,7993,516,2335,2192,8676,9080,7898,4466,642,1006,65,1440,2285,7239,882,7903,1750,7685,8839,2311,1504,8254,1066,9462,2151,9045,9179,9816,9531,607,2190,3876,7476,877,6068,2504,9957,3967,6971,6951,4973,3388,8391,3611,627,9273,1514,8729,3310,353,1040,1166,4959,2107,629,3463,7504,6160,3279,7035,6768,1821,7263,596,2698,3332,3100,9007,3651,6423,5958,4976,9811,701,8587,439,6327,101,9168,5989,6807,6561,7156,1766,8668,4137,5229,2524,297,4861,5912,3417,6682,3175,365,5733,2859,3466,1092,2862,9889,3403,7839,6053,4104,6426,6492,431,2880,2012,6421,9687,4925,9929,7805,9945,418,3035,2470,7067,7896,8382,485,930,7909,7202,6663,7121,668,7756,9983,6910,1159,4174,2963,5263,601,5807,2047,9833,4171,4820,9520,9097,1101,7325,9042,1519,6712,7864,4938,960,2598,1775,1891,508,8978,4906,3981,9646,2662,3964,2908,173,4491,5871,1789,5092,8030,3836,4925,2202,5008,797,7651,6109,4474,3045,3980,7539,910,8918,8499,3508,7046,6742,368,6024,1649,701,5670,4311,1018,4931,837,5509,802,2626,601,5185,2814,1878,7387,7822,9027,1390,283,9853,4435,615,7392,5345,5885,5892,5206,2931,8986,1926,8955,635,2628,978,1299,3646,5909,2136,9155,3063,4762,6108,8248,3928,4338,1987,1750,9717,3377,8385,9570,7813,5352,6963,9510,1237,9207,1068,4169,8193,2995,9476,5181,1975,454,6480,1973,2715,8616,1128,5779,9730,3588,379,10,4278,2367,1760,3995,2096,6497,9917,6261,1849,6880,5772,3086,2439,3192,3607,6985,2539,9436,2166,4514,9890,8646,6487,8958,3614,3967,4737,9696,3907,1468,9706,8185,187,7818,8532,2284,667,8450,8545,2516,1682,669,1954,4122,3862,1914,7459,2753,1350,9625,7268,7592,4623,107,6550,4589,427,7639,4285,4334,5460,343,8872,5647,8161,3756,4283,5180,2206,9181,7696,241,9850,6002,715,64,7916,8174,2818,5618,4151,6438,3211,8774,2897,6113,3363,3324,3753,4000,4011,9213,4343,9235,1212,8856,2991,5496,4036,1550,4677,8084,1791,879,4086,2506,944,8355,7032,114,3973,1183,2904,7184,9957,5801,9650,9672,5478,3403,3672,9489,8968,4367,5076,6532,3223,8067,2028,3611,5969,6705,1695,7760,3937,2133,6618,1233,488,3650,1347,4462,1185,603,7998,7494,6404,7648,7166,1882,7403,838,7723,6371,1557,2799,9256,4780,867,1284,4743,3188,4342,6438,949,8279,8572,3919,9512,9060,3922,7211,9874,5107,4166,7873,2602,570,5521,6120,8805,2925,3311,6528,5648,4868,9328,4904,9649,6547,2541,4392,9735,3235,7183,7036,1514,2107,7308,7378,7519,1230,941,7394,2689,5107,1619,1643,2029,7140,7764,834,6417,1075,3715,8418,5943,9395,9674,1944,2294,2215,2689,8381,5450,9872,5418,3316,8331,2726,7046,5850,308,7987,9596,2997,9446,1215,4641,7828,4708,8757,5014,7477,9832,8729,2247,5775,4476,1922,4072,6770,489,6761,5152,5940,2985,6922,5608,1316,9648,2655,3518,6308,6994,9467,5657,2793,7034,6650,621,1742,5407,5635,5572,5239,4365,7819,7367,8841,9741,1439,1964,231,8200,7116,2523,7537,4038,8131,5205,38,7138,8723,2698,4133,4542,8355,6926,1577,5006,7547,9671,413,9534,5243,2005,251,9415,9372,5445,9156,7163,7409,5739,1715,4525,4614,9252,4915,9098,4457,1305,6236,9532,4003,369,4075,2358,3647,5652,3716,7546,5323,482,7081,6919,2487,7332,6334,1859,2777,1842,5374,6538,7582,7089,7415,8548,6341,2330,7646,7150,9987,3883,3034,3990,604,7109,2701,604,9113,6417,8150,789,6899,1583,7708,5738,5268,4042,3949,4397,5884,9323,936,9818,6412,8351,8367,9105,7034,2365,6255,7021,2600,5642,7364,9557,2751,6417,161,8217,2834,4663,9006,6086,6247,6714,1824,7867,7108,2126,2264,9344,1449,3200,9163,7862,7904,3882,3319,1290,2599,5927,4663,5200,1569,8379,4757,672,4796,1270,8889,3983,5933,7895,69,8532,961,8245,6399,4421,371,5016,3766,8173,4568,9281,6035,8824,9515,5706,114,2114,1633,4778,3666,3202,9509,8423,3875,4306,9693,9116,8289,1979,3364,4710,511,4325,9307,3263,5099,6031,8279,8865,4204,2847,4498,6591,1672,4013,2297,8138,2479,3931,9268,6146,3485,8778,4569,3712,3084,615,2829,7725,2594,6193,2435,9457,6870,1742,2720,1969,4125,7351,7186,8329,6551,8036,4920,4575,2049,3570,2713,881,3853,8334,7027,3690,7112,7948,7403,6548,4915,232,4273,3861,2777,3060,3319,5999,4802,2391,7969,8928,9743,1507,3609,2646,9544,4882,7221,7945,8452,6286,8826,8657,4620,2205,2347,1732,6506,9750,4632,1421,6334,8905,5283,9111,1965,4954,5111,3120,7345,9432,8400,3440,7291,8361,6086,6835,3243,9659,4781,8047,5946,9959,6704,566,8517,9052,8651,5023,8802,3283,2796,5137,8541,4431,600,6858,9385,2063,6330,3083,7847,1082,6523,5139,9444,8962,8326,2687,8621,9459,7087,4567,9419,3791,1486,4288,2843,137,9311,7998,9772,2107,3135,8313,6539,87,5172,2276,8503,7854,5359,6350,8937,8235,7841,4733,7197,6168,3772,2170,5627,859,3090,1398,4651,4576,5686,7494,4713,1349,1844,4485,3457,1331,9151,6348,1419,675,4976,6274,8529,6688,8976,3818,4923,6818,8551,8472,2986,2324,642,4965,3183,3732,6364,7834,8308,8402,1681,9373,9752,3525,211,9561,1209,9362,2261,2628,37,7237,5254,8566,3925,4230,2385,5200,1048,936,3672,386,3260,667,1704,2796,751,8068,6982,5412,2822,5015,4785,2574,4893,4996,2135,6102,4358,4396,5082,747,7986,336,9314,1911,4566,8051,7112,1967,5339,7136,2353,4952,7803,4057,7748,8555,8477,4730,3967,1300,6098,5104,3874,991,6453,2362,7093,7163,6758,2175,7911,4744,2511,3577,3008,3429,1628,6472,5396,3319,3608,7750,8271,7764,8159,2371,6319,2989,3454,6638,4289,9552,8094,4515,543,4547,6877,7636,8063,9988,6163,5974,1084,8674,5903,4092,2103,3883,6916,3852,7202,525,1602,1826,8289,6113,4197,960,9102,7651,3950,9743,7203,8396,611,4098,9296,7488,1734,7359,3828,4249,9685,4913,9275,5588,5357,7731,9471,2274,1583,3025,9151,9537,4851,3792,5650,9049,1104,1105,6700,1406,848,256,9802,1459,4354,9098,5300,2441,6457,5480,6690,6142,6745,5966,1730,2103,3697,7553,729,5280,579,6232,4817,5430,6376,6819,4479,7480,7924,7532,8886,5125,7788,8688,2936,8494,4139,4588,935,596,69,7626,3091,6814,9944,1173,5269,9993,8727,2350,1625,5658,4934,6442,1088,1310,9613,1920,5142,3890,5804,4028,9015,9944,9069,8303,8438,3208,2892,5726,156,9313,3352,3247,2479,9648,4421,7749,9641,9500,6451,1266,5158,1386,4060,2598,9048,3673,4518,4191,3915,6674,4571,2930,6618,3640,7586,1409,3200,6830,7135,3357,6143,6839,6604,8622,6487,7377,2723,2480,6877,9175,98,8387,6913,4158,986,2313,4183,1856,6504,8099,8531,1076,7381,1501,1068,4967,2910,4269,1797,45,7626,4292,3236,582,2915,9723,4312,1990,8555,7541,7517,8653,5929,782,9163,6915,3096,3347,5123,9600,7798,3654,7028,1531,1508,8097,6499,4418,8718,4648,816,2696,5293,4052,3278,4560,128,3942,6550,8683,1484,4068,3689,7413,4850,2852,680,4298,2551,5803,3899,349,5810,7279,1881,7318,5376,4732,8088,446,5732,5256,3142,1025,9309,2773,5585,5789,6715,8488,824,8199,8908,4513,5612,110,7366,2644,4409,9917,8448,4660,6619,610,1939,4852,7928,3668,5936,2368,4114,8020,7625,7257,9046,3286,30,983,9075,6745,5823,6251,1297,4731,765,6909,4842,4483,5906,9251,752,4354,3911,7371,4964,2202,8575,9244,5870,863,1612,9985,8884,5589,7242,4282,8875,3624,1617,4302,369,7441,554,8018,2172,7671,1280,3366,2154,7186,8969,2906,7892,9232,278,2856,1435,5205,8452,7305,6069,6416,7290,4953,2006,884,5587,7233,4508,7204,1536,1230,4645,8442,9248,3170,6113,528,6536,8267,7714,1858,1173,1958,1090,7803,4814,2525,9361,9618,9831,5430,6035,3473,6735,4393,4358,2322,1626,5218,9526,3162,2800,524,7956,8401,3694,4069,5281,6582,8688,2996,4792,6214,1306,5883,369,6121,4760,9730,2091,4591,1512,8126,4417,8247,8871,5127,6921,498,345,2800,3660,9498,3324,7969,7899,3370,2038,3180,6304,727,2528,1097,3293,3835,3332,3662,6308,8092,3393,8399,9036,4905,2878,3453,9505,1749,8580,2778,8599,5277,5578,2260,4775,8902,229,9026,8624,8619,8559,4929,5698,1087,2378,8991,1274,5710,2654,7582,3802,2399,2334,2838,3656,1564,6291,3161,9665,1223,5940,8265,6501,7870,6877,7628,3125,3458,3007,1749,8429,1566,3030,4128,9005,5408,9471,280,1118,8477,4214,1273,876,2900,4111,4533,816,6755,4046,482,7978,6338,5099,831,4209,8328,4812,7334,1786,7819,5435,215,5737,8466,695,4742,226,6519,5022,1345,4996,5589,8970,2225,8489,3081,6758,5658,6188,7156,6140,4167,3495,7591,1350,4056,5919,6162,1390,4057,333,6825,624,6070,1643,7672,813,1870,4191,2187,9567,9187,7776,8537,7764,2618,7970,874,8276,4159,8031,768,4678,7878,4711,6028,1934,630,8543,9676,4687,5228,2853,5311,1299,4497,2983,8464,6367,3526,7003,5934,9066,1132,823,6830,3750,8793,7705,8378,2952,2088,5498,3982,9966,209,6363,8252,839,4906,7928,1878,6486,781,3541,7785,5278,2877,2601,7997,6403,9605,283,5469,737,1106,8652,839,9900,6357,5569,9204,8445,1067,9539,4763,7628,5902,3015,4819,7160,943,6697,3646,8076,6590,7784,9707,9467,385,7704,2223,6342,7988,4044,7079,5446,9048,4270,1698,5405,9839,7255,202,7258,6794,1317,4886,2696,4332,9705,9856,1627,2754,3502,6056,9345,7638,5763,5164,8024,3467,3739,4366,7807,4136,7798,9606,3184,2068,1304,8590,8260,4911,5144,5518,1705,2814,405,753,7146,110,609,5126,2865,464,7534,8562,8102,3297,3726,2478,3116,3818,3197,7276,7954,995,6882,1138,9415,4538,6080,7675,9450,1225,3194,7507,391,3599,8261,7537,61,5222,9015,9278,5686,6549,7840,141,6198,1567,8971,9315,5385,2168,2943,9691,9515,9825,829,8931,715,6910,6606,6517,4487,6152,4025,4878,6103,2286,8767,6165,7508,4135,5443,9547,7036,3284,6040,3235,1203,5011,2550,2940,7180,5493,2631,6695,1670,9812,1978,8737,6722,8585,5255,1209,1089,9280,2439,7193,7918,1207,9710,1778,5342,1505,7677,2378,4789,3717,1965,2344,8729,867,1636,2261,2712,619,5308,4382,432,7287,9472,3506,2224,4727,1068,3313,359,3507,6858,4629,1066,6568,6407,6408,8074,437,5139,9215,4154,7104,7912,9235,4324,5900,7848,7036,6520,3157,7771,3304,444,7243,6810,2668,1970,7878,2333,8681,7738,9192,3310,8804,2112,6069,1565,6538,6506,6704,5754,7013,160,18,6248,836,5918,449,7873,2438,3606,5644,2094,402,2887,8905,9422,1209,3135,1755,9890,873,7299,3200,9678,9412,9269,1243,2302,2128,4299,8056,9141,811,4426,1741,1648,345,2190,9521,9135,2148,1517,1230,2550,756,6487,1972,1965,9622,80,8207,496,7379,7759,6526,3143,3380,4121,5446,5508,8420,9854,1001,5583,633,2743,7231,978,4933,3104,6465,3434,4621,4047,5984,5377,534,4309,3694,157,4389,8253,7005,8120,2364,9883,7616,5745,4004,9414,7605,2424,5620,8607,8007,6253,7702,1591,3583,8987,4695,6401,2421,5669,448,8406,7398,983,9067,7445,7492,9808,5698,849,7928,8063,732,1896,160,4736,7662,4117,3512,3283,2724,7871,5888,6778,9462,5824,5766,510,2225,8187,6179,2673,2945,9929,8,2012,7374,7500,1820,3073,4701,6101,7488,5433,4349,4000,169,2012,8117,33,1647,7194,7905,7535,3972,7367,9711,9738,4229,1936,4278,408,962,7223,338,970,9236,4064,4823,7408,7137,9524,9861,977,4958,4211,1329,1479,2575,5799,1513,4222,2993,5770,8109,3317,3137,7821,9408]\n",
    "maxArea(height)"
   ]
  },
  {
   "cell_type": "code",
   "execution_count": null,
   "id": "5e535af0",
   "metadata": {},
   "outputs": [],
   "source": [
    "height = [0,1,2,3,4,5,6,7,8,9,10,11,12,13,14,15,16,17,18,19,20,21,22,23,24,25,26,27,28,29,30,31,32,33,34,35,36,37,38,39,40,41,42,43,44,45,46,47,48,49,50,51,52,53,54,55,56,57,58,59,60,61,62,63,64,65,66,67,68,69,70,71,72,73,74,75,76,77,78,79,80,81,82,83,84,85,86,87,88,89,90,91,92,93,94,95,96,97,98,99,100,101,102,103,104,105,106,107,108,109,110,111,112,113,114,115,116,117,118,119,120,121,122,123,124,125,126,127,128,129,130,131,132,133,134,135,136,137,138,139,140,141,142,143,144,145,146,147,148,149,150,151,152,153,154,155,156,157,158,159,160,161,162,163,164,165,166,167,168,169,170,171,172,173,174,175,176,177,178,179,180,181,182,183,184,185,186,187,188,189,190,191,192,193,194,195,196,197,198,199,200,201,202,203,204,205,206,207,208,209,210,211,212,213,214,215,216,217,218,219,220,221,222,223,224,225,226,227,228,229,230,231,232,233,234,235,236,237,238,239,240,241,242,243,244,245,246,247,248,249,250,251,252,253,254,255,256,257,258,259,260,261,262,263,264,265,266,267,268,269,270,271,272,273,274,275,276,277,278,279,280,281,282,283,284,285,286,287,288,289,290,291,292,293,294,295,296,297,298,299,300,301,302,303,304,305,306,307,308,309,310,311,312,313,314,315,316,317,318,319,320,321,322,323,324,325,326,327,328,329,330,331,332,333,334,335,336,337,338,339,340,341,342,343,344,345,346,347,348,349,350,351,352,353,354,355,356,357,358,359,360,361,362,363,364,365,366,367,368,369,370,371,372,373,374,375,376,377,378,379,380,381,382,383,384,385,386,387,388,389,390,391,392,393,394,395,396,397,398,399,400,401,402,403,404,405,406,407,408,409,410,411,412,413,414,415,416,417,418,419,420,421,422,423,424,425,426,427,428,429,430,431,432,433,434,435,436,437,438,439,440,441,442,443,444,445,446,447,448,449,450,451,452,453,454,455,456,457,458,459,460,461,462,463,464,465,466,467,468,469,470,471,472,473,474,475,476,477,478,479,480,481,482,483,484,485,486,487,488,489,490,491,492,493,494,495,496,497,498,499,500,501,502,503,504,505,506,507,508,509,510,511,512,513,514,515,516,517,518,519,520,521,522,523,524,525,526,527,528,529,530,531,532,533,534,535,536,537,538,539,540,541,542,543,544,545,546,547,548,549,550,551,552,553,554,555,556,557,558,559,560,561,562,563,564,565,566,567,568,569,570,571,572,573,574,575,576,577,578,579,580,581,582,583,584,585,586,587,588,589,590,591,592,593,594,595,596,597,598,599,600,601,602,603,604,605,606,607,608,609,610,611,612,613,614,615,616,617,618,619,620,621,622,623,624,625,626,627,628,629,630,631,632,633,634,635,636,637,638,639,640,641,642,643,644,645,646,647,648,649,650,651,652,653,654,655,656,657,658,659,660,661,662,663,664,665,666,667,668,669,670,671,672,673,674,675,676,677,678,679,680,681,682,683,684,685,686,687,688,689,690,691,692,693,694,695,696,697,698,699,700,701,702,703,704,705,706,707,708,709,710,711,712,713,714,715,716,717,718,719,720,721,722,723,724,725,726,727,728,729,730,731,732,733,734,735,736,737,738,739,740,741,742,743,744,745,746,747,748,749,750,751,752,753,754,755,756,757,758,759,760,761,762,763,764,765,766,767,768,769,770,771,772,773,774,775,776,777,778,779,780,781,782,783,784,785,786,787,788,789,790,791,792,793,794,795,796,797,798,799,800,801,802,803,804,805,806,807,808,809,810,811,812,813,814,815,816,817,818,819,820,821,822,823,824,825,826,827,828,829,830,831,832,833,834,835,836,837,838,839,840,841,842,843,844,845,846,847,848,849,850,851,852,853,854,855,856,857,858,859,860,861,862,863,864,865,866,867,868,869,870,871,872,873,874,875,876,877,878,879,880,881,882,883,884,885,886,887,888,889,890,891,892,893,894,895,896,897,898,899,900,901,902,903,904,905,906,907,908,909,910,911,912,913,914,915,916,917,918,919,920,921,922,923,924,925,926,927,928,929,930,931,932,933,934,935,936,937,938,939,940,941,942,943,944,945,946,947,948,949,950,951,952,953,954,955,956,957,958,959,960,961,962,963,964,965,966,967,968,969,970,971,972,973,974,975,976,977,978,979,980,981,982,983,984,985,986,987,988,989,990,991,992,993,994,995,996,997,998,999,1000,1001,1002,1003,1004,1005,1006,1007,1008,1009,1010,1011,1012,1013,1014,1015,1016,1017,1018,1019,1020,1021,1022,1023,1024,1025,1026,1027,1028,1029,1030,1031,1032,1033,1034,1035,1036,1037,1038,1039,1040,1041,1042,1043,1044,1045,1046,1047,1048,1049,1050,1051,1052,1053,1054,1055,1056,1057,1058,1059,1060,1061,1062,1063,1064,1065,1066,1067,1068,1069,1070,1071,1072,1073,1074,1075,1076,1077,1078,1079,1080,1081,1082,1083,1084,1085,1086,1087,1088,1089,1090,1091,1092,1093,1094,1095,1096,1097,1098,1099,1100,1101,1102,1103,1104,1105,1106,1107,1108,1109,1110,1111,1112,1113,1114,1115,1116,1117,1118,1119,1120,1121,1122,1123,1124,1125,1126,1127,1128,1129,1130,1131,1132,1133,1134,1135,1136,1137,1138,1139,1140,1141,1142,1143,1144,1145,1146,1147,1148,1149,1150,1151,1152,1153,1154,1155,1156,1157,1158,1159,1160,1161,1162,1163,1164,1165,1166,1167,1168,1169,1170,1171,1172,1173,1174,1175,1176,1177,1178,1179,1180,1181,1182,1183,1184,1185,1186,1187,1188,1189,1190,1191,1192,1193,1194,1195,1196,1197,1198,1199,1200,1201,1202,1203,1204,1205,1206,1207,1208,1209,1210,1211,1212,1213,1214,1215,1216,1217,1218,1219,1220,1221,1222,1223,1224,1225,1226,1227,1228,1229,1230,1231,1232,1233,1234,1235,1236,1237,1238,1239,1240,1241,1242,1243,1244,1245,1246,1247,1248,1249,1250,1251,1252,1253,1254,1255,1256,1257,1258,1259,1260,1261,1262,1263,1264,1265,1266,1267,1268,1269,1270,1271,1272,1273,1274,1275,1276,1277,1278,1279,1280,1281,1282,1283,1284,1285,1286,1287,1288,1289,1290,1291,1292,1293,1294,1295,1296,1297,1298,1299,1300,1301,1302,1303,1304,1305,1306,1307,1308,1309,1310,1311,1312,1313,1314,1315,1316,1317,1318,1319,1320,1321,1322,1323,1324,1325,1326,1327,1328,1329,1330,1331,1332,1333,1334,1335,1336,1337,1338,1339,1340,1341,1342,1343,1344,1345,1346,1347,1348,1349,1350,1351,1352,1353,1354,1355,1356,1357,1358,1359,1360,1361,1362,1363,1364,1365,1366,1367,1368,1369,1370,1371,1372,1373,1374,1375,1376,1377,1378,1379,1380,1381,1382,1383,1384,1385,1386,1387,1388,1389,1390,1391,1392,1393,1394,1395,1396,1397,1398,1399,1400,1401,1402,1403,1404,1405,1406,1407,1408,1409,1410,1411,1412,1413,1414,1415,1416,1417,1418,1419,1420,1421,1422,1423,1424,1425,1426,1427,1428,1429,1430,1431,1432,1433,1434,1435,1436,1437,1438,1439,1440,1441,1442,1443,1444,1445,1446,1447,1448,1449,1450,1451,1452,1453,1454,1455,1456,1457,1458,1459,1460,1461,1462,1463,1464,1465,1466,1467,1468,1469,1470,1471,1472,1473,1474,1475,1476,1477,1478,1479,1480,1481,1482,1483,1484,1485,1486,1487,1488,1489,1490,1491,1492,1493,1494,1495,1496,1497,1498,1499,1500,1501,1502,1503,1504,1505,1506,1507,1508,1509,1510,1511,1512,1513,1514,1515,1516,1517,1518,1519,1520,1521,1522,1523,1524,1525,1526,1527,1528,1529,1530,1531,1532,1533,1534,1535,1536,1537,1538,1539,1540,1541,1542,1543,1544,1545,1546,1547,1548,1549,1550,1551,1552,1553,1554,1555,1556,1557,1558,1559,1560,1561,1562,1563,1564,1565,1566,1567,1568,1569,1570,1571,1572,1573,1574,1575,1576,1577,1578,1579,1580,1581,1582,1583,1584,1585,1586,1587,1588,1589,1590,1591,1592,1593,1594,1595,1596,1597,1598,1599,1600,1601,1602,1603,1604,1605,1606,1607,1608,1609,1610,1611,1612,1613,1614,1615,1616,1617,1618,1619,1620,1621,1622,1623,1624,1625,1626,1627,1628,1629,1630,1631,1632,1633,1634,1635,1636,1637,1638,1639,1640,1641,1642,1643,1644,1645,1646,1647,1648,1649,1650,1651,1652,1653,1654,1655,1656,1657,1658,1659,1660,1661,1662,1663,1664,1665,1666,1667,1668,1669,1670,1671,1672,1673,1674,1675,1676,1677,1678,1679,1680,1681,1682,1683,1684,1685,1686,1687,1688,1689,1690,1691,1692,1693,1694,1695,1696,1697,1698,1699,1700,1701,1702,1703,1704,1705,1706,1707,1708,1709,1710,1711,1712,1713,1714,1715,1716,1717,1718,1719,1720,1721,1722,1723,1724,1725,1726,1727,1728,1729,1730,1731,1732,1733,1734,1735,1736,1737,1738,1739,1740,1741,1742,1743,1744,1745,1746,1747,1748,1749,1750,1751,1752,1753,1754,1755,1756,1757,1758,1759,1760,1761,1762,1763,1764,1765,1766,1767,1768,1769,1770,1771,1772,1773,1774,1775,1776,1777,1778,1779,1780,1781,1782,1783,1784,1785,1786,1787,1788,1789,1790,1791,1792,1793,1794,1795,1796,1797,1798,1799,1800,1801,1802,1803,1804,1805,1806,1807,1808,1809,1810,1811,1812,1813,1814,1815,1816,1817,1818,1819,1820,1821,1822,1823,1824,1825,1826,1827,1828,1829,1830,1831,1832,1833,1834,1835,1836,1837,1838,1839,1840,1841,1842,1843,1844,1845,1846,1847,1848,1849,1850,1851,1852,1853,1854,1855,1856,1857,1858,1859,1860,1861,1862,1863,1864,1865,1866,1867,1868,1869,1870,1871,1872,1873,1874,1875,1876,1877,1878,1879,1880,1881,1882,1883,1884,1885,1886,1887,1888,1889,1890,1891,1892,1893,1894,1895,1896,1897,1898,1899,1900,1901,1902,1903,1904,1905,1906,1907,1908,1909,1910,1911,1912,1913,1914,1915,1916,1917,1918,1919,1920,1921,1922,1923,1924,1925,1926,1927,1928,1929,1930,1931,1932,1933,1934,1935,1936,1937,1938,1939,1940,1941,1942,1943,1944,1945,1946,1947,1948,1949,1950,1951,1952,1953,1954,1955,1956,1957,1958,1959,1960,1961,1962,1963,1964,1965,1966,1967,1968,1969,1970,1971,1972,1973,1974,1975,1976,1977,1978,1979,1980,1981,1982,1983,1984,1985,1986,1987,1988,1989,1990,1991,1992,1993,1994,1995,1996,1997,1998,1999,2000,2001,2002,2003,2004,2005,2006,2007,2008,2009,2010,2011,2012,2013,2014,2015,2016,2017,2018,2019,2020,2021,2022,2023,2024,2025,2026,2027,2028,2029,2030,2031,2032,2033,2034,2035,2036,2037,2038,2039,2040,2041,2042,2043,2044,2045,2046,2047,2048,2049,2050,2051,2052,2053,2054,2055,2056,2057,2058,2059,2060,2061,2062,2063,2064,2065,2066,2067,2068,2069,2070,2071,2072,2073,2074,2075,2076,2077,2078,2079,2080,2081,2082,2083,2084,2085,2086,2087,2088,2089,2090,2091,2092,2093,2094,2095,2096,2097,2098,2099,2100,2101,2102,2103,2104,2105,2106,2107,2108,2109,2110,2111,2112,2113,2114,2115,2116,2117,2118,2119,2120,2121,2122,2123,2124,2125,2126,2127,2128,2129,2130,2131,2132,2133,2134,2135,2136,2137,2138,2139,2140,2141,2142,2143,2144,2145,2146,2147,2148,2149,2150,2151,2152,2153,2154,2155,2156,2157,2158,2159,2160,2161,2162,2163,2164,2165,2166,2167,2168,2169,2170,2171,2172,2173,2174,2175,2176,2177,2178,2179,2180,2181,2182,2183,2184,2185,2186,2187,2188,2189,2190,2191,2192,2193,2194,2195,2196,2197,2198,2199,2200,2201,2202,2203,2204,2205,2206,2207,2208,2209,2210,2211,2212,2213,2214,2215,2216,2217,2218,2219,2220,2221,2222,2223,2224,2225,2226,2227,2228,2229,2230,2231,2232,2233,2234,2235,2236,2237,2238,2239,2240,2241,2242,2243,2244,2245,2246,2247,2248,2249,2250,2251,2252,2253,2254,2255,2256,2257,2258,2259,2260,2261,2262,2263,2264,2265,2266,2267,2268,2269,2270,2271,2272,2273,2274,2275,2276,2277,2278,2279,2280,2281,2282,2283,2284,2285,2286,2287,2288,2289,2290,2291,2292,2293,2294,2295,2296,2297,2298,2299,2300,2301,2302,2303,2304,2305,2306,2307,2308,2309,2310,2311,2312,2313,2314,2315,2316,2317,2318,2319,2320,2321,2322,2323,2324,2325,2326,2327,2328,2329,2330,2331,2332,2333,2334,2335,2336,2337,2338,2339,2340,2341,2342,2343,2344,2345,2346,2347,2348,2349,2350,2351,2352,2353,2354,2355,2356,2357,2358,2359,2360,2361,2362,2363,2364,2365,2366,2367,2368,2369,2370,2371,2372,2373,2374,2375,2376,2377,2378,2379,2380,2381,2382,2383,2384,2385,2386,2387,2388,2389,2390,2391,2392,2393,2394,2395,2396,2397,2398,2399,2400,2401,2402,2403,2404,2405,2406,2407,2408,2409,2410,2411,2412,2413,2414,2415,2416,2417,2418,2419,2420,2421,2422,2423,2424,2425,2426,2427,2428,2429,2430,2431,2432,2433,2434,2435,2436,2437,2438,2439,2440,2441,2442,2443,2444,2445,2446,2447,2448,2449,2450,2451,2452,2453,2454,2455,2456,2457,2458,2459,2460,2461,2462,2463,2464,2465,2466,2467,2468,2469,2470,2471,2472,2473,2474,2475,2476,2477,2478,2479,2480,2481,2482,2483,2484,2485,2486,2487,2488,2489,2490,2491,2492,2493,2494,2495,2496,2497,2498,2499,2500,2501,2502,2503,2504,2505,2506,2507,2508,2509,2510,2511,2512,2513,2514,2515,2516,2517,2518,2519,2520,2521,2522,2523,2524,2525,2526,2527,2528,2529,2530,2531,2532,2533,2534,2535,2536,2537,2538,2539,2540,2541,2542,2543,2544,2545,2546,2547,2548,2549,2550,2551,2552,2553,2554,2555,2556,2557,2558,2559,2560,2561,2562,2563,2564,2565,2566,2567,2568,2569,2570,2571,2572,2573,2574,2575,2576,2577,2578,2579,2580,2581,2582,2583,2584,2585,2586,2587,2588,2589,2590,2591,2592,2593,2594,2595,2596,2597,2598,2599,2600,2601,2602,2603,2604,2605,2606,2607,2608,2609,2610,2611,2612,2613,2614,2615,2616,2617,2618,2619,2620,2621,2622,2623,2624,2625,2626,2627,2628,2629,2630,2631,2632,2633,2634,2635,2636,2637,2638,2639,2640,2641,2642,2643,2644,2645,2646,2647,2648,2649,2650,2651,2652,2653,2654,2655,2656,2657,2658,2659,2660,2661,2662,2663,2664,2665,2666,2667,2668,2669,2670,2671,2672,2673,2674,2675,2676,2677,2678,2679,2680,2681,2682,2683,2684,2685,2686,2687,2688,2689,2690,2691,2692,2693,2694,2695,2696,2697,2698,2699,2700,2701,2702,2703,2704,2705,2706,2707,2708,2709,2710,2711,2712,2713,2714,2715,2716,2717,2718,2719,2720,2721,2722,2723,2724,2725,2726,2727,2728,2729,2730,2731,2732,2733,2734,2735,2736,2737,2738,2739,2740,2741,2742,2743,2744,2745,2746,2747,2748,2749,2750,2751,2752,2753,2754,2755,2756,2757,2758,2759,2760,2761,2762,2763,2764,2765,2766,2767,2768,2769,2770,2771,2772,2773,2774,2775,2776,2777,2778,2779,2780,2781,2782,2783,2784,2785,2786,2787,2788,2789,2790,2791,2792,2793,2794,2795,2796,2797,2798,2799,2800,2801,2802,2803,2804,2805,2806,2807,2808,2809,2810,2811,2812,2813,2814,2815,2816,2817,2818,2819,2820,2821,2822,2823,2824,2825,2826,2827,2828,2829,2830,2831,2832,2833,2834,2835,2836,2837,2838,2839,2840,2841,2842,2843,2844,2845,2846,2847,2848,2849,2850,2851,2852,2853,2854,2855,2856,2857,2858,2859,2860,2861,2862,2863,2864,2865,2866,2867,2868,2869,2870,2871,2872,2873,2874,2875,2876,2877,2878,2879,2880,2881,2882,2883,2884,2885,2886,2887,2888,2889,2890,2891,2892,2893,2894,2895,2896,2897,2898,2899,2900,2901,2902,2903,2904,2905,2906,2907,2908,2909,2910,2911,2912,2913,2914,2915,2916,2917,2918,2919,2920,2921,2922,2923,2924,2925,2926,2927,2928,2929,2930,2931,2932,2933,2934,2935,2936,2937,2938,2939,2940,2941,2942,2943,2944,2945,2946,2947,2948,2949,2950,2951,2952,2953,2954,2955,2956,2957,2958,2959,2960,2961,2962,2963,2964,2965,2966,2967,2968,2969,2970,2971,2972,2973,2974,2975,2976,2977,2978,2979,2980,2981,2982,2983,2984,2985,2986,2987,2988,2989,2990,2991,2992,2993,2994,2995,2996,2997,2998,2999,3000,3001,3002,3003,3004,3005,3006,3007,3008,3009,3010,3011,3012,3013,3014,3015,3016,3017,3018,3019,3020,3021,3022,3023,3024,3025,3026,3027,3028,3029,3030,3031,3032,3033,3034,3035,3036,3037,3038,3039,3040,3041,3042,3043,3044,3045,3046,3047,3048,3049,3050,3051,3052,3053,3054,3055,3056,3057,3058,3059,3060,3061,3062,3063,3064,3065,3066,3067,3068,3069,3070,3071,3072,3073,3074,3075,3076,3077,3078,3079,3080,3081,3082,3083,3084,3085,3086,3087,3088,3089,3090,3091,3092,3093,3094,3095,3096,3097,3098,3099,3100,3101,3102,3103,3104,3105,3106,3107,3108,3109,3110,3111,3112,3113,3114,3115,3116,3117,3118,3119,3120,3121,3122,3123,3124,3125,3126,3127,3128,3129,3130,3131,3132,3133,3134,3135,3136,3137,3138,3139,3140,3141,3142,3143,3144,3145,3146,3147,3148,3149,3150,3151,3152,3153,3154,3155,3156,3157,3158,3159,3160,3161,3162,3163,3164,3165,3166,3167,3168,3169,3170,3171,3172,3173,3174,3175,3176,3177,3178,3179,3180,3181,3182,3183,3184,3185,3186,3187,3188,3189,3190,3191,3192,3193,3194,3195,3196,3197,3198,3199,3200,3201,3202,3203,3204,3205,3206,3207,3208,3209,3210,3211,3212,3213,3214,3215,3216,3217,3218,3219,3220,3221,3222,3223,3224,3225,3226,3227,3228,3229,3230,3231,3232,3233,3234,3235,3236,3237,3238,3239,3240,3241,3242,3243,3244,3245,3246,3247,3248,3249,3250,3251,3252,3253,3254,3255,3256,3257,3258,3259,3260,3261,3262,3263,3264,3265,3266,3267,3268,3269,3270,3271,3272,3273,3274,3275,3276,3277,3278,3279,3280,3281,3282,3283,3284,3285,3286,3287,3288,3289,3290,3291,3292,3293,3294,3295,3296,3297,3298,3299,3300,3301,3302,3303,3304,3305,3306,3307,3308,3309,3310,3311,3312,3313,3314,3315,3316,3317,3318,3319,3320,3321,3322,3323,3324,3325,3326,3327,3328,3329,3330,3331,3332,3333,3334,3335,3336,3337,3338,3339,3340,3341,3342,3343,3344,3345,3346,3347,3348,3349,3350,3351,3352,3353,3354,3355,3356,3357,3358,3359,3360,3361,3362,3363,3364,3365,3366,3367,3368,3369,3370,3371,3372,3373,3374,3375,3376,3377,3378,3379,3380,3381,3382,3383,3384,3385,3386,3387,3388,3389,3390,3391,3392,3393,3394,3395,3396,3397,3398,3399,3400,3401,3402,3403,3404,3405,3406,3407,3408,3409,3410,3411,3412,3413,3414,3415,3416,3417,3418,3419,3420,3421,3422,3423,3424,3425,3426,3427,3428,3429,3430,3431,3432,3433,3434,3435,3436,3437,3438,3439,3440,3441,3442,3443,3444,3445,3446,3447,3448,3449,3450,3451,3452,3453,3454,3455,3456,3457,3458,3459,3460,3461,3462,3463,3464,3465,3466,3467,3468,3469,3470,3471,3472,3473,3474,3475,3476,3477,3478,3479,3480,3481,3482,3483,3484,3485,3486,3487,3488,3489,3490,3491,3492,3493,3494,3495,3496,3497,3498,3499,3500,3501,3502,3503,3504,3505,3506,3507,3508,3509,3510,3511,3512,3513,3514,3515,3516,3517,3518,3519,3520,3521,3522,3523,3524,3525,3526,3527,3528,3529,3530,3531,3532,3533,3534,3535,3536,3537,3538,3539,3540,3541,3542,3543,3544,3545,3546,3547,3548,3549,3550,3551,3552,3553,3554,3555,3556,3557,3558,3559,3560,3561,3562,3563,3564,3565,3566,3567,3568,3569,3570,3571,3572,3573,3574,3575,3576,3577,3578,3579,3580,3581,3582,3583,3584,3585,3586,3587,3588,3589,3590,3591,3592,3593,3594,3595,3596,3597,3598,3599,3600,3601,3602,3603,3604,3605,3606,3607,3608,3609,3610,3611,3612,3613,3614,3615,3616,3617,3618,3619,3620,3621,3622,3623,3624,3625,3626,3627,3628,3629,3630,3631,3632,3633,3634,3635,3636,3637,3638,3639,3640,3641,3642,3643,3644,3645,3646,3647,3648,3649,3650,3651,3652,3653,3654,3655,3656,3657,3658,3659,3660,3661,3662,3663,3664,3665,3666,3667,3668,3669,3670,3671,3672,3673,3674,3675,3676,3677,3678,3679,3680,3681,3682,3683,3684,3685,3686,3687,3688,3689,3690,3691,3692,3693,3694,3695,3696,3697,3698,3699,3700,3701,3702,3703,3704,3705,3706,3707,3708,3709,3710,3711,3712,3713,3714,3715,3716,3717,3718,3719,3720,3721,3722,3723,3724,3725,3726,3727,3728,3729,3730,3731,3732,3733,3734,3735,3736,3737,3738,3739,3740,3741,3742,3743,3744,3745,3746,3747,3748,3749,3750,3751,3752,3753,3754,3755,3756,3757,3758,3759,3760,3761,3762,3763,3764,3765,3766,3767,3768,3769,3770,3771,3772,3773,3774,3775,3776,3777,3778,3779,3780,3781,3782,3783,3784,3785,3786,3787,3788,3789,3790,3791,3792,3793,3794,3795,3796,3797,3798,3799,3800,3801,3802,3803,3804,3805,3806,3807,3808,3809,3810,3811,3812,3813,3814,3815,3816,3817,3818,3819,3820,3821,3822,3823,3824,3825,3826,3827,3828,3829,3830,3831,3832,3833,3834,3835,3836,3837,3838,3839,3840,3841,3842,3843,3844,3845,3846,3847,3848,3849,3850,3851,3852,3853,3854,3855,3856,3857,3858,3859,3860,3861,3862,3863,3864,3865,3866,3867,3868,3869,3870,3871,3872,3873,3874,3875,3876,3877,3878,3879,3880,3881,3882,3883,3884,3885,3886,3887,3888,3889,3890,3891,3892,3893,3894,3895,3896,3897,3898,3899,3900,3901,3902,3903,3904,3905,3906,3907,3908,3909,3910,3911,3912,3913,3914,3915,3916,3917,3918,3919,3920,3921,3922,3923,3924,3925,3926,3927,3928,3929,3930,3931,3932,3933,3934,3935,3936,3937,3938,3939,3940,3941,3942,3943,3944,3945,3946,3947,3948,3949,3950,3951,3952,3953,3954,3955,3956,3957,3958,3959,3960,3961,3962,3963,3964,3965,3966,3967,3968,3969,3970,3971,3972,3973,3974,3975,3976,3977,3978,3979,3980,3981,3982,3983,3984,3985,3986,3987,3988,3989,3990,3991,3992,3993,3994,3995,3996,3997,3998,3999,4000,4001,4002,4003,4004,4005,4006,4007,4008,4009,4010,4011,4012,4013,4014,4015,4016,4017,4018,4019,4020,4021,4022,4023,4024,4025,4026,4027,4028,4029,4030,4031,4032,4033,4034,4035,4036,4037,4038,4039,4040,4041,4042,4043,4044,4045,4046,4047,4048,4049,4050,4051,4052,4053,4054,4055,4056,4057,4058,4059,4060,4061,4062,4063,4064,4065,4066,4067,4068,4069,4070,4071,4072,4073,4074,4075,4076,4077,4078,4079,4080,4081,4082,4083,4084,4085,4086,4087,4088,4089,4090,4091,4092,4093,4094,4095,4096,4097,4098,4099,4100,4101,4102,4103,4104,4105,4106,4107,4108,4109,4110,4111,4112,4113,4114,4115,4116,4117,4118,4119,4120,4121,4122,4123,4124,4125,4126,4127,4128,4129,4130,4131,4132,4133,4134,4135,4136,4137,4138,4139,4140,4141,4142,4143,4144,4145,4146,4147,4148,4149,4150,4151,4152,4153,4154,4155,4156,4157,4158,4159,4160,4161,4162,4163,4164,4165,4166,4167,4168,4169,4170,4171,4172,4173,4174,4175,4176,4177,4178,4179,4180,4181,4182,4183,4184,4185,4186,4187,4188,4189,4190,4191,4192,4193,4194,4195,4196,4197,4198,4199,4200,4201,4202,4203,4204,4205,4206,4207,4208,4209,4210,4211,4212,4213,4214,4215,4216,4217,4218,4219,4220,4221,4222,4223,4224,4225,4226,4227,4228,4229,4230,4231,4232,4233,4234,4235,4236,4237,4238,4239,4240,4241,4242,4243,4244,4245,4246,4247,4248,4249,4250,4251,4252,4253,4254,4255,4256,4257,4258,4259,4260,4261,4262,4263,4264,4265,4266,4267,4268,4269,4270,4271,4272,4273,4274,4275,4276,4277,4278,4279,4280,4281,4282,4283,4284,4285,4286,4287,4288,4289,4290,4291,4292,4293,4294,4295,4296,4297,4298,4299,4300,4301,4302,4303,4304,4305,4306,4307,4308,4309,4310,4311,4312,4313,4314,4315,4316,4317,4318,4319,4320,4321,4322,4323,4324,4325,4326,4327,4328,4329,4330,4331,4332,4333,4334,4335,4336,4337,4338,4339,4340,4341,4342,4343,4344,4345,4346,4347,4348,4349,4350,4351,4352,4353,4354,4355,4356,4357,4358,4359,4360,4361,4362,4363,4364,4365,4366,4367,4368,4369,4370,4371,4372,4373,4374,4375,4376,4377,4378,4379,4380,4381,4382,4383,4384,4385,4386,4387,4388,4389,4390,4391,4392,4393,4394,4395,4396,4397,4398,4399,4400,4401,4402,4403,4404,4405,4406,4407,4408,4409,4410,4411,4412,4413,4414,4415,4416,4417,4418,4419,4420,4421,4422,4423,4424,4425,4426,4427,4428,4429,4430,4431,4432,4433,4434,4435,4436,4437,4438,4439,4440,4441,4442,4443,4444,4445,4446,4447,4448,4449,4450,4451,4452,4453,4454,4455,4456,4457,4458,4459,4460,4461,4462,4463,4464,4465,4466,4467,4468,4469,4470,4471,4472,4473,4474,4475,4476,4477,4478,4479,4480,4481,4482,4483,4484,4485,4486,4487,4488,4489,4490,4491,4492,4493,4494,4495,4496,4497,4498,4499,4500,4501,4502,4503,4504,4505,4506,4507,4508,4509,4510,4511,4512,4513,4514,4515,4516,4517,4518,4519,4520,4521,4522,4523,4524,4525,4526,4527,4528,4529,4530,4531,4532,4533,4534,4535,4536,4537,4538,4539,4540,4541,4542,4543,4544,4545,4546,4547,4548,4549,4550,4551,4552,4553,4554,4555,4556,4557,4558,4559,4560,4561,4562,4563,4564,4565,4566,4567,4568,4569,4570,4571,4572,4573,4574,4575,4576,4577,4578,4579,4580,4581,4582,4583,4584,4585,4586,4587,4588,4589,4590,4591,4592,4593,4594,4595,4596,4597,4598,4599,4600,4601,4602,4603,4604,4605,4606,4607,4608,4609,4610,4611,4612,4613,4614,4615,4616,4617,4618,4619,4620,4621,4622,4623,4624,4625,4626,4627,4628,4629,4630,4631,4632,4633,4634,4635,4636,4637,4638,4639,4640,4641,4642,4643,4644,4645,4646,4647,4648,4649,4650,4651,4652,4653,4654,4655,4656,4657,4658,4659,4660,4661,4662,4663,4664,4665,4666,4667,4668,4669,4670,4671,4672,4673,4674,4675,4676,4677,4678,4679,4680,4681,4682,4683,4684,4685,4686,4687,4688,4689,4690,4691,4692,4693,4694,4695,4696,4697,4698,4699,4700,4701,4702,4703,4704,4705,4706,4707,4708,4709,4710,4711,4712,4713,4714,4715,4716,4717,4718,4719,4720,4721,4722,4723,4724,4725,4726,4727,4728,4729,4730,4731,4732,4733,4734,4735,4736,4737,4738,4739,4740,4741,4742,4743,4744,4745,4746,4747,4748,4749,4750,4751,4752,4753,4754,4755,4756,4757,4758,4759,4760,4761,4762,4763,4764,4765,4766,4767,4768,4769,4770,4771,4772,4773,4774,4775,4776,4777,4778,4779,4780,4781,4782,4783,4784,4785,4786,4787,4788,4789,4790,4791,4792,4793,4794,4795,4796,4797,4798,4799,4800,4801,4802,4803,4804,4805,4806,4807,4808,4809,4810,4811,4812,4813,4814,4815,4816,4817,4818,4819,4820,4821,4822,4823,4824,4825,4826,4827,4828,4829,4830,4831,4832,4833,4834,4835,4836,4837,4838,4839,4840,4841,4842,4843,4844,4845,4846,4847,4848,4849,4850,4851,4852,4853,4854,4855,4856,4857,4858,4859,4860,4861,4862,4863,4864,4865,4866,4867,4868,4869,4870,4871,4872,4873,4874,4875,4876,4877,4878,4879,4880,4881,4882,4883,4884,4885,4886,4887,4888,4889,4890,4891,4892,4893,4894,4895,4896,4897,4898,4899,4900,4901,4902,4903,4904,4905,4906,4907,4908,4909,4910,4911,4912,4913,4914,4915,4916,4917,4918,4919,4920,4921,4922,4923,4924,4925,4926,4927,4928,4929,4930,4931,4932,4933,4934,4935,4936,4937,4938,4939,4940,4941,4942,4943,4944,4945,4946,4947,4948,4949,4950,4951,4952,4953,4954,4955,4956,4957,4958,4959,4960,4961,4962,4963,4964,4965,4966,4967,4968,4969,4970,4971,4972,4973,4974,4975,4976,4977,4978,4979,4980,4981,4982,4983,4984,4985,4986,4987,4988,4989,4990,4991,4992,4993,4994,4995,4996,4997,4998,4999,5000,5001,5002,5003,5004,5005,5006,5007,5008,5009,5010,5011,5012,5013,5014,5015,5016,5017,5018,5019,5020,5021,5022,5023,5024,5025,5026,5027,5028,5029,5030,5031,5032,5033,5034,5035,5036,5037,5038,5039,5040,5041,5042,5043,5044,5045,5046,5047,5048,5049,5050,5051,5052,5053,5054,5055,5056,5057,5058,5059,5060,5061,5062,5063,5064,5065,5066,5067,5068,5069,5070,5071,5072,5073,5074,5075,5076,5077,5078,5079,5080,5081,5082,5083,5084,5085,5086,5087,5088,5089,5090,5091,5092,5093,5094,5095,5096,5097,5098,5099,5100,5101,5102,5103,5104,5105,5106,5107,5108,5109,5110,5111,5112,5113,5114,5115,5116,5117,5118,5119,5120,5121,5122,5123,5124,5125,5126,5127,5128,5129,5130,5131,5132,5133,5134,5135,5136,5137,5138,5139,5140,5141,5142,5143,5144,5145,5146,5147,5148,5149,5150,5151,5152,5153,5154,5155,5156,5157,5158,5159,5160,5161,5162,5163,5164,5165,5166,5167,5168,5169,5170,5171,5172,5173,5174,5175,5176,5177,5178,5179,5180,5181,5182,5183,5184,5185,5186,5187,5188,5189,5190,5191,5192,5193,5194,5195,5196,5197,5198,5199,5200,5201,5202,5203,5204,5205,5206,5207,5208,5209,5210,5211,5212,5213,5214,5215,5216,5217,5218,5219,5220,5221,5222,5223,5224,5225,5226,5227,5228,5229,5230,5231,5232,5233,5234,5235,5236,5237,5238,5239,5240,5241,5242,5243,5244,5245,5246,5247,5248,5249,5250,5251,5252,5253,5254,5255,5256,5257,5258,5259,5260,5261,5262,5263,5264,5265,5266,5267,5268,5269,5270,5271,5272,5273,5274,5275,5276,5277,5278,5279,5280,5281,5282,5283,5284,5285,5286,5287,5288,5289,5290,5291,5292,5293,5294,5295,5296,5297,5298,5299,5300,5301,5302,5303,5304,5305,5306,5307,5308,5309,5310,5311,5312,5313,5314,5315,5316,5317,5318,5319,5320,5321,5322,5323,5324,5325,5326,5327,5328,5329,5330,5331,5332,5333,5334,5335,5336,5337,5338,5339,5340,5341,5342,5343,5344,5345,5346,5347,5348,5349,5350,5351,5352,5353,5354,5355,5356,5357,5358,5359,5360,5361,5362,5363,5364,5365,5366,5367,5368,5369,5370,5371,5372,5373,5374,5375,5376,5377,5378,5379,5380,5381,5382,5383,5384,5385,5386,5387,5388,5389,5390,5391,5392,5393,5394,5395,5396,5397,5398,5399,5400,5401,5402,5403,5404,5405,5406,5407,5408,5409,5410,5411,5412,5413,5414,5415,5416,5417,5418,5419,5420,5421,5422,5423,5424,5425,5426,5427,5428,5429,5430,5431,5432,5433,5434,5435,5436,5437,5438,5439,5440,5441,5442,5443,5444,5445,5446,5447,5448,5449,5450,5451,5452,5453,5454,5455,5456,5457,5458,5459,5460,5461,5462,5463,5464,5465,5466,5467,5468,5469,5470,5471,5472,5473,5474,5475,5476,5477,5478,5479,5480,5481,5482,5483,5484,5485,5486,5487,5488,5489,5490,5491,5492,5493,5494,5495,5496,5497,5498,5499,5500,5501,5502,5503,5504,5505,5506,5507,5508,5509,5510,5511,5512,5513,5514,5515,5516,5517,5518,5519,5520,5521,5522,5523,5524,5525,5526,5527,5528,5529,5530,5531,5532,5533,5534,5535,5536,5537,5538,5539,5540,5541,5542,5543,5544,5545,5546,5547,5548,5549,5550,5551,5552,5553,5554,5555,5556,5557,5558,5559,5560,5561,5562,5563,5564,5565,5566,5567,5568,5569,5570,5571,5572,5573,5574,5575,5576,5577,5578,5579,5580,5581,5582,5583,5584,5585,5586,5587,5588,5589,5590,5591,5592,5593,5594,5595,5596,5597,5598,5599,5600,5601,5602,5603,5604,5605,5606,5607,5608,5609,5610,5611,5612,5613,5614,5615,5616,5617,5618,5619,5620,5621,5622,5623,5624,5625,5626,5627,5628,5629,5630,5631,5632,5633,5634,5635,5636,5637,5638,5639,5640,5641,5642,5643,5644,5645,5646,5647,5648,5649,5650,5651,5652,5653,5654,5655,5656,5657,5658,5659,5660,5661,5662,5663,5664,5665,5666,5667,5668,5669,5670,5671,5672,5673,5674,5675,5676,5677,5678,5679,5680,5681,5682,5683,5684,5685,5686,5687,5688,5689,5690,5691,5692,5693,5694,5695,5696,5697,5698,5699,5700,5701,5702,5703,5704,5705,5706,5707,5708,5709,5710,5711,5712,5713,5714,5715,5716,5717,5718,5719,5720,5721,5722,5723,5724,5725,5726,5727,5728,5729,5730,5731,5732,5733,5734,5735,5736,5737,5738,5739,5740,5741,5742,5743,5744,5745,5746,5747,5748,5749,5750,5751,5752,5753,5754,5755,5756,5757,5758,5759,5760,5761,5762,5763,5764,5765,5766,5767,5768,5769,5770,5771,5772,5773,5774,5775,5776,5777,5778,5779,5780,5781,5782,5783,5784,5785,5786,5787,5788,5789,5790,5791,5792,5793,5794,5795,5796,5797,5798,5799,5800,5801,5802,5803,5804,5805,5806,5807,5808,5809,5810,5811,5812,5813,5814,5815,5816,5817,5818,5819,5820,5821,5822,5823,5824,5825,5826,5827,5828,5829,5830,5831,5832,5833,5834,5835,5836,5837,5838,5839,5840,5841,5842,5843,5844,5845,5846,5847,5848,5849,5850,5851,5852,5853,5854,5855,5856,5857,5858,5859,5860,5861,5862,5863,5864,5865,5866,5867,5868,5869,5870,5871,5872,5873,5874,5875,5876,5877,5878,5879,5880,5881,5882,5883,5884,5885,5886,5887,5888,5889,5890,5891,5892,5893,5894,5895,5896,5897,5898,5899,5900,5901,5902,5903,5904,5905,5906,5907,5908,5909,5910,5911,5912,5913,5914,5915,5916,5917,5918,5919,5920,5921,5922,5923,5924,5925,5926,5927,5928,5929,5930,5931,5932,5933,5934,5935,5936,5937,5938,5939,5940,5941,5942,5943,5944,5945,5946,5947,5948,5949,5950,5951,5952,5953,5954,5955,5956,5957,5958,5959,5960,5961,5962,5963,5964,5965,5966,5967,5968,5969,5970,5971,5972,5973,5974,5975,5976,5977,5978,5979,5980,5981,5982,5983,5984,5985,5986,5987,5988,5989,5990,5991,5992,5993,5994,5995,5996,5997,5998,5999,6000,6001,6002,6003,6004,6005,6006,6007,6008,6009,6010,6011,6012,6013,6014,6015,6016,6017,6018,6019,6020,6021,6022,6023,6024,6025,6026,6027,6028,6029,6030,6031,6032,6033,6034,6035,6036,6037,6038,6039,6040,6041,6042,6043,6044,6045,6046,6047,6048,6049,6050,6051,6052,6053,6054,6055,6056,6057,6058,6059,6060,6061,6062,6063,6064,6065,6066,6067,6068,6069,6070,6071,6072,6073,6074,6075,6076,6077,6078,6079,6080,6081,6082,6083,6084,6085,6086,6087,6088,6089,6090,6091,6092,6093,6094,6095,6096,6097,6098,6099,6100,6101,6102,6103,6104,6105,6106,6107,6108,6109,6110,6111,6112,6113,6114,6115,6116,6117,6118,6119,6120,6121,6122,6123,6124,6125,6126,6127,6128,6129,6130,6131,6132,6133,6134,6135,6136,6137,6138,6139,6140,6141,6142,6143,6144,6145,6146,6147,6148,6149,6150,6151,6152,6153,6154,6155,6156,6157,6158,6159,6160,6161,6162,6163,6164,6165,6166,6167,6168,6169,6170,6171,6172,6173,6174,6175,6176,6177,6178,6179,6180,6181,6182,6183,6184,6185,6186,6187,6188,6189,6190,6191,6192,6193,6194,6195,6196,6197,6198,6199,6200,6201,6202,6203,6204,6205,6206,6207,6208,6209,6210,6211,6212,6213,6214,6215,6216,6217,6218,6219,6220,6221,6222,6223,6224,6225,6226,6227,6228,6229,6230,6231,6232,6233,6234,6235,6236,6237,6238,6239,6240,6241,6242,6243,6244,6245,6246,6247,6248,6249,6250,6251,6252,6253,6254,6255,6256,6257,6258,6259,6260,6261,6262,6263,6264,6265,6266,6267,6268,6269,6270,6271,6272,6273,6274,6275,6276,6277,6278,6279,6280,6281,6282,6283,6284,6285,6286,6287,6288,6289,6290,6291,6292,6293,6294,6295,6296,6297,6298,6299,6300,6301,6302,6303,6304,6305,6306,6307,6308,6309,6310,6311,6312,6313,6314,6315,6316,6317,6318,6319,6320,6321,6322,6323,6324,6325,6326,6327,6328,6329,6330,6331,6332,6333,6334,6335,6336,6337,6338,6339,6340,6341,6342,6343,6344,6345,6346,6347,6348,6349,6350,6351,6352,6353,6354,6355,6356,6357,6358,6359,6360,6361,6362,6363,6364,6365,6366,6367,6368,6369,6370,6371,6372,6373,6374,6375,6376,6377,6378,6379,6380,6381,6382,6383,6384,6385,6386,6387,6388,6389,6390,6391,6392,6393,6394,6395,6396,6397,6398,6399,6400,6401,6402,6403,6404,6405,6406,6407,6408,6409,6410,6411,6412,6413,6414,6415,6416,6417,6418,6419,6420,6421,6422,6423,6424,6425,6426,6427,6428,6429,6430,6431,6432,6433,6434,6435,6436,6437,6438,6439,6440,6441,6442,6443,6444,6445,6446,6447,6448,6449,6450,6451,6452,6453,6454,6455,6456,6457,6458,6459,6460,6461,6462,6463,6464,6465,6466,6467,6468,6469,6470,6471,6472,6473,6474,6475,6476,6477,6478,6479,6480,6481,6482,6483,6484,6485,6486,6487,6488,6489,6490,6491,6492,6493,6494,6495,6496,6497,6498,6499,6500,6501,6502,6503,6504,6505,6506,6507,6508,6509,6510,6511,6512,6513,6514,6515,6516,6517,6518,6519,6520,6521,6522,6523,6524,6525,6526,6527,6528,6529,6530,6531,6532,6533,6534,6535,6536,6537,6538,6539,6540,6541,6542,6543,6544,6545,6546,6547,6548,6549,6550,6551,6552,6553,6554,6555,6556,6557,6558,6559,6560,6561,6562,6563,6564,6565,6566,6567,6568,6569,6570,6571,6572,6573,6574,6575,6576,6577,6578,6579,6580,6581,6582,6583,6584,6585,6586,6587,6588,6589,6590,6591,6592,6593,6594,6595,6596,6597,6598,6599,6600,6601,6602,6603,6604,6605,6606,6607,6608,6609,6610,6611,6612,6613,6614,6615,6616,6617,6618,6619,6620,6621,6622,6623,6624,6625,6626,6627,6628,6629,6630,6631,6632,6633,6634,6635,6636,6637,6638,6639,6640,6641,6642,6643,6644,6645,6646,6647,6648,6649,6650,6651,6652,6653,6654,6655,6656,6657,6658,6659,6660,6661,6662,6663,6664,6665,6666,6667,6668,6669,6670,6671,6672,6673,6674,6675,6676,6677,6678,6679,6680,6681,6682,6683,6684,6685,6686,6687,6688,6689,6690,6691,6692,6693,6694,6695,6696,6697,6698,6699,6700,6701,6702,6703,6704,6705,6706,6707,6708,6709,6710,6711,6712,6713,6714,6715,6716,6717,6718,6719,6720,6721,6722,6723,6724,6725,6726,6727,6728,6729,6730,6731,6732,6733,6734,6735,6736,6737,6738,6739,6740,6741,6742,6743,6744,6745,6746,6747,6748,6749,6750,6751,6752,6753,6754,6755,6756,6757,6758,6759,6760,6761,6762,6763,6764,6765,6766,6767,6768,6769,6770,6771,6772,6773,6774,6775,6776,6777,6778,6779,6780,6781,6782,6783,6784,6785,6786,6787,6788,6789,6790,6791,6792,6793,6794,6795,6796,6797,6798,6799,6800,6801,6802,6803,6804,6805,6806,6807,6808,6809,6810,6811,6812,6813,6814,6815,6816,6817,6818,6819,6820,6821,6822,6823,6824,6825,6826,6827,6828,6829,6830,6831,6832,6833,6834,6835,6836,6837,6838,6839,6840,6841,6842,6843,6844,6845,6846,6847,6848,6849,6850,6851,6852,6853,6854,6855,6856,6857,6858,6859,6860,6861,6862,6863,6864,6865,6866,6867,6868,6869,6870,6871,6872,6873,6874,6875,6876,6877,6878,6879,6880,6881,6882,6883,6884,6885,6886,6887,6888,6889,6890,6891,6892,6893,6894,6895,6896,6897,6898,6899,6900,6901,6902,6903,6904,6905,6906,6907,6908,6909,6910,6911,6912,6913,6914,6915,6916,6917,6918,6919,6920,6921,6922,6923,6924,6925,6926,6927,6928,6929,6930,6931,6932,6933,6934,6935,6936,6937,6938,6939,6940,6941,6942,6943,6944,6945,6946,6947,6948,6949,6950,6951,6952,6953,6954,6955,6956,6957,6958,6959,6960,6961,6962,6963,6964,6965,6966,6967,6968,6969,6970,6971,6972,6973,6974,6975,6976,6977,6978,6979,6980,6981,6982,6983,6984,6985,6986,6987,6988,6989,6990,6991,6992,6993,6994,6995,6996,6997,6998,6999,7000,7001,7002,7003,7004,7005,7006,7007,7008,7009,7010,7011,7012,7013,7014,7015,7016,7017,7018,7019,7020,7021,7022,7023,7024,7025,7026,7027,7028,7029,7030,7031,7032,7033,7034,7035,7036,7037,7038,7039,7040,7041,7042,7043,7044,7045,7046,7047,7048,7049,7050,7051,7052,7053,7054,7055,7056,7057,7058,7059,7060,7061,7062,7063,7064,7065,7066,7067,7068,7069,7070,7071,7072,7073,7074,7075,7076,7077,7078,7079,7080,7081,7082,7083,7084,7085,7086,7087,7088,7089,7090,7091,7092,7093,7094,7095,7096,7097,7098,7099,7100,7101,7102,7103,7104,7105,7106,7107,7108,7109,7110,7111,7112,7113,7114,7115,7116,7117,7118,7119,7120,7121,7122,7123,7124,7125,7126,7127,7128,7129,7130,7131,7132,7133,7134,7135,7136,7137,7138,7139,7140,7141,7142,7143,7144,7145,7146,7147,7148,7149,7150,7151,7152,7153,7154,7155,7156,7157,7158,7159,7160,7161,7162,7163,7164,7165,7166,7167,7168,7169,7170,7171,7172,7173,7174,7175,7176,7177,7178,7179,7180,7181,7182,7183,7184,7185,7186,7187,7188,7189,7190,7191,7192,7193,7194,7195,7196,7197,7198,7199,7200,7201,7202,7203,7204,7205,7206,7207,7208,7209,7210,7211,7212,7213,7214,7215,7216,7217,7218,7219,7220,7221,7222,7223,7224,7225,7226,7227,7228,7229,7230,7231,7232,7233,7234,7235,7236,7237,7238,7239,7240,7241,7242,7243,7244,7245,7246,7247,7248,7249,7250,7251,7252,7253,7254,7255,7256,7257,7258,7259,7260,7261,7262,7263,7264,7265,7266,7267,7268,7269,7270,7271,7272,7273,7274,7275,7276,7277,7278,7279,7280,7281,7282,7283,7284,7285,7286,7287,7288,7289,7290,7291,7292,7293,7294,7295,7296,7297,7298,7299,7300,7301,7302,7303,7304,7305,7306,7307,7308,7309,7310,7311,7312,7313,7314,7315,7316,7317,7318,7319,7320,7321,7322,7323,7324,7325,7326,7327,7328,7329,7330,7331,7332,7333,7334,7335,7336,7337,7338,7339,7340,7341,7342,7343,7344,7345,7346,7347,7348,7349,7350,7351,7352,7353,7354,7355,7356,7357,7358,7359,7360,7361,7362,7363,7364,7365,7366,7367,7368,7369,7370,7371,7372,7373,7374,7375,7376,7377,7378,7379,7380,7381,7382,7383,7384,7385,7386,7387,7388,7389,7390,7391,7392,7393,7394,7395,7396,7397,7398,7399,7400,7401,7402,7403,7404,7405,7406,7407,7408,7409,7410,7411,7412,7413,7414,7415,7416,7417,7418,7419,7420,7421,7422,7423,7424,7425,7426,7427,7428,7429,7430,7431,7432,7433,7434,7435,7436,7437,7438,7439,7440,7441,7442,7443,7444,7445,7446,7447,7448,7449,7450,7451,7452,7453,7454,7455,7456,7457,7458,7459,7460,7461,7462,7463,7464,7465,7466,7467,7468,7469,7470,7471,7472,7473,7474,7475,7476,7477,7478,7479,7480,7481,7482,7483,7484,7485,7486,7487,7488,7489,7490,7491,7492,7493,7494,7495,7496,7497,7498,7499,7500,7501,7502,7503,7504,7505,7506,7507,7508,7509,7510,7511,7512,7513,7514,7515,7516,7517,7518,7519,7520,7521,7522,7523,7524,7525,7526,7527,7528,7529,7530,7531,7532,7533,7534,7535,7536,7537,7538,7539,7540,7541,7542,7543,7544,7545,7546,7547,7548,7549,7550,7551,7552,7553,7554,7555,7556,7557,7558,7559,7560,7561,7562,7563,7564,7565,7566,7567,7568,7569,7570,7571,7572,7573,7574,7575,7576,7577,7578,7579,7580,7581,7582,7583,7584,7585,7586,7587,7588,7589,7590,7591,7592,7593,7594,7595,7596,7597,7598,7599,7600,7601,7602,7603,7604,7605,7606,7607,7608,7609,7610,7611,7612,7613,7614,7615,7616,7617,7618,7619,7620,7621,7622,7623,7624,7625,7626,7627,7628,7629,7630,7631,7632,7633,7634,7635,7636,7637,7638,7639,7640,7641,7642,7643,7644,7645,7646,7647,7648,7649,7650,7651,7652,7653,7654,7655,7656,7657,7658,7659,7660,7661,7662,7663,7664,7665,7666,7667,7668,7669,7670,7671,7672,7673,7674,7675,7676,7677,7678,7679,7680,7681,7682,7683,7684,7685,7686,7687,7688,7689,7690,7691,7692,7693,7694,7695,7696,7697,7698,7699,7700,7701,7702,7703,7704,7705,7706,7707,7708,7709,7710,7711,7712,7713,7714,7715,7716,7717,7718,7719,7720,7721,7722,7723,7724,7725,7726,7727,7728,7729,7730,7731,7732,7733,7734,7735,7736,7737,7738,7739,7740,7741,7742,7743,7744,7745,7746,7747,7748,7749,7750,7751,7752,7753,7754,7755,7756,7757,7758,7759,7760,7761,7762,7763,7764,7765,7766,7767,7768,7769,7770,7771,7772,7773,7774,7775,7776,7777,7778,7779,7780,7781,7782,7783,7784,7785,7786,7787,7788,7789,7790,7791,7792,7793,7794,7795,7796,7797,7798,7799,7800,7801,7802,7803,7804,7805,7806,7807,7808,7809,7810,7811,7812,7813,7814,7815,7816,7817,7818,7819,7820,7821,7822,7823,7824,7825,7826,7827,7828,7829,7830,7831,7832,7833,7834,7835,7836,7837,7838,7839,7840,7841,7842,7843,7844,7845,7846,7847,7848,7849,7850,7851,7852,7853,7854,7855,7856,7857,7858,7859,7860,7861,7862,7863,7864,7865,7866,7867,7868,7869,7870,7871,7872,7873,7874,7875,7876,7877,7878,7879,7880,7881,7882,7883,7884,7885,7886,7887,7888,7889,7890,7891,7892,7893,7894,7895,7896,7897,7898,7899,7900,7901,7902,7903,7904,7905,7906,7907,7908,7909,7910,7911,7912,7913,7914,7915,7916,7917,7918,7919,7920,7921,7922,7923,7924,7925,7926,7927,7928,7929,7930,7931,7932,7933,7934,7935,7936,7937,7938,7939,7940,7941,7942,7943,7944,7945,7946,7947,7948,7949,7950,7951,7952,7953,7954,7955,7956,7957,7958,7959,7960,7961,7962,7963,7964,7965,7966,7967,7968,7969,7970,7971,7972,7973,7974,7975,7976,7977,7978,7979,7980,7981,7982,7983,7984,7985,7986,7987,7988,7989,7990,7991,7992,7993,7994,7995,7996,7997,7998,7999,8000,8001,8002,8003,8004,8005,8006,8007,8008,8009,8010,8011,8012,8013,8014,8015,8016,8017,8018,8019,8020,8021,8022,8023,8024,8025,8026,8027,8028,8029,8030,8031,8032,8033,8034,8035,8036,8037,8038,8039,8040,8041,8042,8043,8044,8045,8046,8047,8048,8049,8050,8051,8052,8053,8054,8055,8056,8057,8058,8059,8060,8061,8062,8063,8064,8065,8066,8067,8068,8069,8070,8071,8072,8073,8074,8075,8076,8077,8078,8079,8080,8081,8082,8083,8084,8085,8086,8087,8088,8089,8090,8091,8092,8093,8094,8095,8096,8097,8098,8099,8100,8101,8102,8103,8104,8105,8106,8107,8108,8109,8110,8111,8112,8113,8114,8115,8116,8117,8118,8119,8120,8121,8122,8123,8124,8125,8126,8127,8128,8129,8130,8131,8132,8133,8134,8135,8136,8137,8138,8139,8140,8141,8142,8143,8144,8145,8146,8147,8148,8149,8150,8151,8152,8153,8154,8155,8156,8157,8158,8159,8160,8161,8162,8163,8164,8165,8166,8167,8168,8169,8170,8171,8172,8173,8174,8175,8176,8177,8178,8179,8180,8181,8182,8183,8184,8185,8186,8187,8188,8189,8190,8191,8192,8193,8194,8195,8196,8197,8198,8199,8200,8201,8202,8203,8204,8205,8206,8207,8208,8209,8210,8211,8212,8213,8214,8215,8216,8217,8218,8219,8220,8221,8222,8223,8224,8225,8226,8227,8228,8229,8230,8231,8232,8233,8234,8235,8236,8237,8238,8239,8240,8241,8242,8243,8244,8245,8246,8247,8248,8249,8250,8251,8252,8253,8254,8255,8256,8257,8258,8259,8260,8261,8262,8263,8264,8265,8266,8267,8268,8269,8270,8271,8272,8273,8274,8275,8276,8277,8278,8279,8280,8281,8282,8283,8284,8285,8286,8287,8288,8289,8290,8291,8292,8293,8294,8295,8296,8297,8298,8299,8300,8301,8302,8303,8304,8305,8306,8307,8308,8309,8310,8311,8312,8313,8314,8315,8316,8317,8318,8319,8320,8321,8322,8323,8324,8325,8326,8327,8328,8329,8330,8331,8332,8333,8334,8335,8336,8337,8338,8339,8340,8341,8342,8343,8344,8345,8346,8347,8348,8349,8350,8351,8352,8353,8354,8355,8356,8357,8358,8359,8360,8361,8362,8363,8364,8365,8366,8367,8368,8369,8370,8371,8372,8373,8374,8375,8376,8377,8378,8379,8380,8381,8382,8383,8384,8385,8386,8387,8388,8389,8390,8391,8392,8393,8394,8395,8396,8397,8398,8399,8400,8401,8402,8403,8404,8405,8406,8407,8408,8409,8410,8411,8412,8413,8414,8415,8416,8417,8418,8419,8420,8421,8422,8423,8424,8425,8426,8427,8428,8429,8430,8431,8432,8433,8434,8435,8436,8437,8438,8439,8440,8441,8442,8443,8444,8445,8446,8447,8448,8449,8450,8451,8452,8453,8454,8455,8456,8457,8458,8459,8460,8461,8462,8463,8464,8465,8466,8467,8468,8469,8470,8471,8472,8473,8474,8475,8476,8477,8478,8479,8480,8481,8482,8483,8484,8485,8486,8487,8488,8489,8490,8491,8492,8493,8494,8495,8496,8497,8498,8499,8500,8501,8502,8503,8504,8505,8506,8507,8508,8509,8510,8511,8512,8513,8514,8515,8516,8517,8518,8519,8520,8521,8522,8523,8524,8525,8526,8527,8528,8529,8530,8531,8532,8533,8534,8535,8536,8537,8538,8539,8540,8541,8542,8543,8544,8545,8546,8547,8548,8549,8550,8551,8552,8553,8554,8555,8556,8557,8558,8559,8560,8561,8562,8563,8564,8565,8566,8567,8568,8569,8570,8571,8572,8573,8574,8575,8576,8577,8578,8579,8580,8581,8582,8583,8584,8585,8586,8587,8588,8589,8590,8591,8592,8593,8594,8595,8596,8597,8598,8599,8600,8601,8602,8603,8604,8605,8606,8607,8608,8609,8610,8611,8612,8613,8614,8615,8616,8617,8618,8619,8620,8621,8622,8623,8624,8625,8626,8627,8628,8629,8630,8631,8632,8633,8634,8635,8636,8637,8638,8639,8640,8641,8642,8643,8644,8645,8646,8647,8648,8649,8650,8651,8652,8653,8654,8655,8656,8657,8658,8659,8660,8661,8662,8663,8664,8665,8666,8667,8668,8669,8670,8671,8672,8673,8674,8675,8676,8677,8678,8679,8680,8681,8682,8683,8684,8685,8686,8687,8688,8689,8690,8691,8692,8693,8694,8695,8696,8697,8698,8699,8700,8701,8702,8703,8704,8705,8706,8707,8708,8709,8710,8711,8712,8713,8714,8715,8716,8717,8718,8719,8720,8721,8722,8723,8724,8725,8726,8727,8728,8729,8730,8731,8732,8733,8734,8735,8736,8737,8738,8739,8740,8741,8742,8743,8744,8745,8746,8747,8748,8749,8750,8751,8752,8753,8754,8755,8756,8757,8758,8759,8760,8761,8762,8763,8764,8765,8766,8767,8768,8769,8770,8771,8772,8773,8774,8775,8776,8777,8778,8779,8780,8781,8782,8783,8784,8785,8786,8787,8788,8789,8790,8791,8792,8793,8794,8795,8796,8797,8798,8799,8800,8801,8802,8803,8804,8805,8806,8807,8808,8809,8810,8811,8812,8813,8814,8815,8816,8817,8818,8819,8820,8821,8822,8823,8824,8825,8826,8827,8828,8829,8830,8831,8832,8833,8834,8835,8836,8837,8838,8839,8840,8841,8842,8843,8844,8845,8846,8847,8848,8849,8850,8851,8852,8853,8854,8855,8856,8857,8858,8859,8860,8861,8862,8863,8864,8865,8866,8867,8868,8869,8870,8871,8872,8873,8874,8875,8876,8877,8878,8879,8880,8881,8882,8883,8884,8885,8886,8887,8888,8889,8890,8891,8892,8893,8894,8895,8896,8897,8898,8899,8900,8901,8902,8903,8904,8905,8906,8907,8908,8909,8910,8911,8912,8913,8914,8915,8916,8917,8918,8919,8920,8921,8922,8923,8924,8925,8926,8927,8928,8929,8930,8931,8932,8933,8934,8935,8936,8937,8938,8939,8940,8941,8942,8943,8944,8945,8946,8947,8948,8949,8950,8951,8952,8953,8954,8955,8956,8957,8958,8959,8960,8961,8962,8963,8964,8965,8966,8967,8968,8969,8970,8971,8972,8973,8974,8975,8976,8977,8978,8979,8980,8981,8982,8983,8984,8985,8986,8987,8988,8989,8990,8991,8992,8993,8994,8995,8996,8997,8998,8999,9000,9001,9002,9003,9004,9005,9006,9007,9008,9009,9010,9011,9012,9013,9014,9015,9016,9017,9018,9019,9020,9021,9022,9023,9024,9025,9026,9027,9028,9029,9030,9031,9032,9033,9034,9035,9036,9037,9038,9039,9040,9041,9042,9043,9044,9045,9046,9047,9048,9049,9050,9051,9052,9053,9054,9055,9056,9057,9058,9059,9060,9061,9062,9063,9064,9065,9066,9067,9068,9069,9070,9071,9072,9073,9074,9075,9076,9077,9078,9079,9080,9081,9082,9083,9084,9085,9086,9087,9088,9089,9090,9091,9092,9093,9094,9095,9096,9097,9098,9099,9100,9101,9102,9103,9104,9105,9106,9107,9108,9109,9110,9111,9112,9113,9114,9115,9116,9117,9118,9119,9120,9121,9122,9123,9124,9125,9126,9127,9128,9129,9130,9131,9132,9133,9134,9135,9136,9137,9138,9139,9140,9141,9142,9143,9144,9145,9146,9147,9148,9149,9150,9151,9152,9153,9154,9155,9156,9157,9158,9159,9160,9161,9162,9163,9164,9165,9166,9167,9168,9169,9170,9171,9172,9173,9174,9175,9176,9177,9178,9179,9180,9181,9182,9183,9184,9185,9186,9187,9188,9189,9190,9191,9192,9193,9194,9195,9196,9197,9198,9199,9200,9201,9202,9203,9204,9205,9206,9207,9208,9209,9210,9211,9212,9213,9214,9215,9216,9217,9218,9219,9220,9221,9222,9223,9224,9225,9226,9227,9228,9229,9230,9231,9232,9233,9234,9235,9236,9237,9238,9239,9240,9241,9242,9243,9244,9245,9246,9247,9248,9249,9250,9251,9252,9253,9254,9255,9256,9257,9258,9259,9260,9261,9262,9263,9264,9265,9266,9267,9268,9269,9270,9271,9272,9273,9274,9275,9276,9277,9278,9279,9280,9281,9282,9283,9284,9285,9286,9287,9288,9289,9290,9291,9292,9293,9294,9295,9296,9297,9298,9299,9300,9301,9302,9303,9304,9305,9306,9307,9308,9309,9310,9311,9312,9313,9314,9315,9316,9317,9318,9319,9320,9321,9322,9323,9324,9325,9326,9327,9328,9329,9330,9331,9332,9333,9334,9335,9336,9337,9338,9339,9340,9341,9342,9343,9344,9345,9346,9347,9348,9349,9350,9351,9352,9353,9354,9355,9356,9357,9358,9359,9360,9361,9362,9363,9364,9365,9366,9367,9368,9369,9370,9371,9372,9373,9374,9375,9376,9377,9378,9379,9380,9381,9382,9383,9384,9385,9386,9387,9388,9389,9390,9391,9392,9393,9394,9395,9396,9397,9398,9399,9400,9401,9402,9403,9404,9405,9406,9407,9408,9409,9410,9411,9412,9413,9414,9415,9416,9417,9418,9419,9420,9421,9422,9423,9424,9425,9426,9427,9428,9429,9430,9431,9432,9433,9434,9435,9436,9437,9438,9439,9440,9441,9442,9443,9444,9445,9446,9447,9448,9449,9450,9451,9452,9453,9454,9455,9456,9457,9458,9459,9460,9461,9462,9463,9464,9465,9466,9467,9468,9469,9470,9471,9472,9473,9474,9475,9476,9477,9478,9479,9480,9481,9482,9483,9484,9485,9486,9487,9488,9489,9490,9491,9492,9493,9494,9495,9496,9497,9498,9499,9500,9501,9502,9503,9504,9505,9506,9507,9508,9509,9510,9511,9512,9513,9514,9515,9516,9517,9518,9519,9520,9521,9522,9523,9524,9525,9526,9527,9528,9529,9530,9531,9532,9533,9534,9535,9536,9537,9538,9539,9540,9541,9542,9543,9544,9545,9546,9547,9548,9549,9550,9551,9552,9553,9554,9555,9556,9557,9558,9559,9560,9561,9562,9563,9564,9565,9566,9567,9568,9569,9570,9571,9572,9573,9574,9575,9576,9577,9578,9579,9580,9581,9582,9583,9584,9585,9586,9587,9588,9589,9590,9591,9592,9593,9594,9595,9596,9597,9598,9599,9600,9601,9602,9603,9604,9605,9606,9607,9608,9609,9610,9611,9612,9613,9614,9615,9616,9617,9618,9619,9620,9621,9622,9623,9624,9625,9626,9627,9628,9629,9630,9631,9632,9633,9634,9635,9636,9637,9638,9639,9640,9641,9642,9643,9644,9645,9646,9647,9648,9649,9650,9651,9652,9653,9654,9655,9656,9657,9658,9659,9660,9661,9662,9663,9664,9665,9666,9667,9668,9669,9670,9671,9672,9673,9674,9675,9676,9677,9678,9679,9680,9681,9682,9683,9684,9685,9686,9687,9688,9689,9690,9691,9692,9693,9694,9695,9696,9697,9698,9699,9700,9701,9702,9703,9704,9705,9706,9707,9708,9709,9710,9711,9712,9713,9714,9715,9716,9717,9718,9719,9720,9721,9722,9723,9724,9725,9726,9727,9728,9729,9730,9731,9732,9733,9734,9735,9736,9737,9738,9739,9740,9741,9742,9743,9744,9745,9746,9747,9748,9749,9750,9751,9752,9753,9754,9755,9756,9757,9758,9759,9760,9761,9762,9763,9764,9765,9766,9767,9768,9769,9770,9771,9772,9773,9774,9775,9776,9777,9778,9779,9780,9781,9782,9783,9784,9785,9786,9787,9788,9789,9790,9791,9792,9793,9794,9795,9796,9797,9798,9799,9800,9801,9802,9803,9804,9805,9806,9807,9808,9809,9810,9811,9812,9813,9814,9815,9816,9817,9818,9819,9820,9821,9822,9823,9824,9825,9826,9827,9828,9829,9830,9831,9832,9833,9834,9835,9836,9837,9838,9839,9840,9841,9842,9843,9844,9845,9846,9847,9848,9849,9850,9851,9852,9853,9854,9855,9856,9857,9858,9859,9860,9861,9862,9863,9864,9865,9866,9867,9868,9869,9870,9871,9872,9873,9874,9875,9876,9877,9878,9879,9880,9881,9882,9883,9884,9885,9886,9887,9888,9889,9890,9891,9892,9893,9894,9895,9896,9897,9898,9899,9900,9901,9902,9903,9904,9905,9906,9907,9908,9909,9910,9911,9912,9913,9914,9915,9916,9917,9918,9919,9920,9921,9922,9923,9924,9925,9926,9927,9928,9929,9930,9931,9932,9933,9934,9935,9936,9937,9938,9939,9940,9941,9942,9943,9944,9945,9946,9947,9948,9949,9950,9951,9952,9953,9954,9955,9956,9957,9958,9959,9960,9961,9962,9963,9964,9965,9966,9967,9968,9969,9970,9971,9972,9973,9974,9975,9976,9977,9978,9979,9980,9981,9982,9983,9984,9985,9986,9987,9988,9989,9990,9991,9992,9993,9994,9995,9996,9997,9998,9999,10000,9999,9998,9997,9996,9995,9994,9993,9992,9991,9990,9989,9988,9987,9986,9985,9984,9983,9982,9981,9980,9979,9978,9977,9976,9975,9974,9973,9972,9971,9970,9969,9968,9967,9966,9965,9964,9963,9962,9961,9960,9959,9958,9957,9956,9955,9954,9953,9952,9951,9950,9949,9948,9947,9946,9945,9944,9943,9942,9941,9940,9939,9938,9937,9936,9935,9934,9933,9932,9931,9930,9929,9928,9927,9926,9925,9924,9923,9922,9921,9920,9919,9918,9917,9916,9915,9914,9913,9912,9911,9910,9909,9908,9907,9906,9905,9904,9903,9902,9901,9900,9899,9898,9897,9896,9895,9894,9893,9892,9891,9890,9889,9888,9887,9886,9885,9884,9883,9882,9881,9880,9879,9878,9877,9876,9875,9874,9873,9872,9871,9870,9869,9868,9867,9866,9865,9864,9863,9862,9861,9860,9859,9858,9857,9856,9855,9854,9853,9852,9851,9850,9849,9848,9847,9846,9845,9844,9843,9842,9841,9840,9839,9838,9837,9836,9835,9834,9833,9832,9831,9830,9829,9828,9827,9826,9825,9824,9823,9822,9821,9820,9819,9818,9817,9816,9815,9814,9813,9812,9811,9810,9809,9808,9807,9806,9805,9804,9803,9802,9801,9800,9799,9798,9797,9796,9795,9794,9793,9792,9791,9790,9789,9788,9787,9786,9785,9784,9783,9782,9781,9780,9779,9778,9777,9776,9775,9774,9773,9772,9771,9770,9769,9768,9767,9766,9765,9764,9763,9762,9761,9760,9759,9758,9757,9756,9755,9754,9753,9752,9751,9750,9749,9748,9747,9746,9745,9744,9743,9742,9741,9740,9739,9738,9737,9736,9735,9734,9733,9732,9731,9730,9729,9728,9727,9726,9725,9724,9723,9722,9721,9720,9719,9718,9717,9716,9715,9714,9713,9712,9711,9710,9709,9708,9707,9706,9705,9704,9703,9702,9701,9700,9699,9698,9697,9696,9695,9694,9693,9692,9691,9690,9689,9688,9687,9686,9685,9684,9683,9682,9681,9680,9679,9678,9677,9676,9675,9674,9673,9672,9671,9670,9669,9668,9667,9666,9665,9664,9663,9662,9661,9660,9659,9658,9657,9656,9655,9654,9653,9652,9651,9650,9649,9648,9647,9646,9645,9644,9643,9642,9641,9640,9639,9638,9637,9636,9635,9634,9633,9632,9631,9630,9629,9628,9627,9626,9625,9624,9623,9622,9621,9620,9619,9618,9617,9616,9615,9614,9613,9612,9611,9610,9609,9608,9607,9606,9605,9604,9603,9602,9601,9600,9599,9598,9597,9596,9595,9594,9593,9592,9591,9590,9589,9588,9587,9586,9585,9584,9583,9582,9581,9580,9579,9578,9577,9576,9575,9574,9573,9572,9571,9570,9569,9568,9567,9566,9565,9564,9563,9562,9561,9560,9559,9558,9557,9556,9555,9554,9553,9552,9551,9550,9549,9548,9547,9546,9545,9544,9543,9542,9541,9540,9539,9538,9537,9536,9535,9534,9533,9532,9531,9530,9529,9528,9527,9526,9525,9524,9523,9522,9521,9520,9519,9518,9517,9516,9515,9514,9513,9512,9511,9510,9509,9508,9507,9506,9505,9504,9503,9502,9501,9500,9499,9498,9497,9496,9495,9494,9493,9492,9491,9490,9489,9488,9487,9486,9485,9484,9483,9482,9481,9480,9479,9478,9477,9476,9475,9474,9473,9472,9471,9470,9469,9468,9467,9466,9465,9464,9463,9462,9461,9460,9459,9458,9457,9456,9455,9454,9453,9452,9451,9450,9449,9448,9447,9446,9445,9444,9443,9442,9441,9440,9439,9438,9437,9436,9435,9434,9433,9432,9431,9430,9429,9428,9427,9426,9425,9424,9423,9422,9421,9420,9419,9418,9417,9416,9415,9414,9413,9412,9411,9410,9409,9408,9407,9406,9405,9404,9403,9402,9401,9400,9399,9398,9397,9396,9395,9394,9393,9392,9391,9390,9389,9388,9387,9386,9385,9384,9383,9382,9381,9380,9379,9378,9377,9376,9375,9374,9373,9372,9371,9370,9369,9368,9367,9366,9365,9364,9363,9362,9361,9360,9359,9358,9357,9356,9355,9354,9353,9352,9351,9350,9349,9348,9347,9346,9345,9344,9343,9342,9341,9340,9339,9338,9337,9336,9335,9334,9333,9332,9331,9330,9329,9328,9327,9326,9325,9324,9323,9322,9321,9320,9319,9318,9317,9316,9315,9314,9313,9312,9311,9310,9309,9308,9307,9306,9305,9304,9303,9302,9301,9300,9299,9298,9297,9296,9295,9294,9293,9292,9291,9290,9289,9288,9287,9286,9285,9284,9283,9282,9281,9280,9279,9278,9277,9276,9275,9274,9273,9272,9271,9270,9269,9268,9267,9266,9265,9264,9263,9262,9261,9260,9259,9258,9257,9256,9255,9254,9253,9252,9251,9250,9249,9248,9247,9246,9245,9244,9243,9242,9241,9240,9239,9238,9237,9236,9235,9234,9233,9232,9231,9230,9229,9228,9227,9226,9225,9224,9223,9222,9221,9220,9219,9218,9217,9216,9215,9214,9213,9212,9211,9210,9209,9208,9207,9206,9205,9204,9203,9202,9201,9200,9199,9198,9197,9196,9195,9194,9193,9192,9191,9190,9189,9188,9187,9186,9185,9184,9183,9182,9181,9180,9179,9178,9177,9176,9175,9174,9173,9172,9171,9170,9169,9168,9167,9166,9165,9164,9163,9162,9161,9160,9159,9158,9157,9156,9155,9154,9153,9152,9151,9150,9149,9148,9147,9146,9145,9144,9143,9142,9141,9140,9139,9138,9137,9136,9135,9134,9133,9132,9131,9130,9129,9128,9127,9126,9125,9124,9123,9122,9121,9120,9119,9118,9117,9116,9115,9114,9113,9112,9111,9110,9109,9108,9107,9106,9105,9104,9103,9102,9101,9100,9099,9098,9097,9096,9095,9094,9093,9092,9091,9090,9089,9088,9087,9086,9085,9084,9083,9082,9081,9080,9079,9078,9077,9076,9075,9074,9073,9072,9071,9070,9069,9068,9067,9066,9065,9064,9063,9062,9061,9060,9059,9058,9057,9056,9055,9054,9053,9052,9051,9050,9049,9048,9047,9046,9045,9044,9043,9042,9041,9040,9039,9038,9037,9036,9035,9034,9033,9032,9031,9030,9029,9028,9027,9026,9025,9024,9023,9022,9021,9020,9019,9018,9017,9016,9015,9014,9013,9012,9011,9010,9009,9008,9007,9006,9005,9004,9003,9002,9001,9000,8999,8998,8997,8996,8995,8994,8993,8992,8991,8990,8989,8988,8987,8986,8985,8984,8983,8982,8981,8980,8979,8978,8977,8976,8975,8974,8973,8972,8971,8970,8969,8968,8967,8966,8965,8964,8963,8962,8961,8960,8959,8958,8957,8956,8955,8954,8953,8952,8951,8950,8949,8948,8947,8946,8945,8944,8943,8942,8941,8940,8939,8938,8937,8936,8935,8934,8933,8932,8931,8930,8929,8928,8927,8926,8925,8924,8923,8922,8921,8920,8919,8918,8917,8916,8915,8914,8913,8912,8911,8910,8909,8908,8907,8906,8905,8904,8903,8902,8901,8900,8899,8898,8897,8896,8895,8894,8893,8892,8891,8890,8889,8888,8887,8886,8885,8884,8883,8882,8881,8880,8879,8878,8877,8876,8875,8874,8873,8872,8871,8870,8869,8868,8867,8866,8865,8864,8863,8862,8861,8860,8859,8858,8857,8856,8855,8854,8853,8852,8851,8850,8849,8848,8847,8846,8845,8844,8843,8842,8841,8840,8839,8838,8837,8836,8835,8834,8833,8832,8831,8830,8829,8828,8827,8826,8825,8824,8823,8822,8821,8820,8819,8818,8817,8816,8815,8814,8813,8812,8811,8810,8809,8808,8807,8806,8805,8804,8803,8802,8801,8800,8799,8798,8797,8796,8795,8794,8793,8792,8791,8790,8789,8788,8787,8786,8785,8784,8783,8782,8781,8780,8779,8778,8777,8776,8775,8774,8773,8772,8771,8770,8769,8768,8767,8766,8765,8764,8763,8762,8761,8760,8759,8758,8757,8756,8755,8754,8753,8752,8751,8750,8749,8748,8747,8746,8745,8744,8743,8742,8741,8740,8739,8738,8737,8736,8735,8734,8733,8732,8731,8730,8729,8728,8727,8726,8725,8724,8723,8722,8721,8720,8719,8718,8717,8716,8715,8714,8713,8712,8711,8710,8709,8708,8707,8706,8705,8704,8703,8702,8701,8700,8699,8698,8697,8696,8695,8694,8693,8692,8691,8690,8689,8688,8687,8686,8685,8684,8683,8682,8681,8680,8679,8678,8677,8676,8675,8674,8673,8672,8671,8670,8669,8668,8667,8666,8665,8664,8663,8662,8661,8660,8659,8658,8657,8656,8655,8654,8653,8652,8651,8650,8649,8648,8647,8646,8645,8644,8643,8642,8641,8640,8639,8638,8637,8636,8635,8634,8633,8632,8631,8630,8629,8628,8627,8626,8625,8624,8623,8622,8621,8620,8619,8618,8617,8616,8615,8614,8613,8612,8611,8610,8609,8608,8607,8606,8605,8604,8603,8602,8601,8600,8599,8598,8597,8596,8595,8594,8593,8592,8591,8590,8589,8588,8587,8586,8585,8584,8583,8582,8581,8580,8579,8578,8577,8576,8575,8574,8573,8572,8571,8570,8569,8568,8567,8566,8565,8564,8563,8562,8561,8560,8559,8558,8557,8556,8555,8554,8553,8552,8551,8550,8549,8548,8547,8546,8545,8544,8543,8542,8541,8540,8539,8538,8537,8536,8535,8534,8533,8532,8531,8530,8529,8528,8527,8526,8525,8524,8523,8522,8521,8520,8519,8518,8517,8516,8515,8514,8513,8512,8511,8510,8509,8508,8507,8506,8505,8504,8503,8502,8501,8500,8499,8498,8497,8496,8495,8494,8493,8492,8491,8490,8489,8488,8487,8486,8485,8484,8483,8482,8481,8480,8479,8478,8477,8476,8475,8474,8473,8472,8471,8470,8469,8468,8467,8466,8465,8464,8463,8462,8461,8460,8459,8458,8457,8456,8455,8454,8453,8452,8451,8450,8449,8448,8447,8446,8445,8444,8443,8442,8441,8440,8439,8438,8437,8436,8435,8434,8433,8432,8431,8430,8429,8428,8427,8426,8425,8424,8423,8422,8421,8420,8419,8418,8417,8416,8415,8414,8413,8412,8411,8410,8409,8408,8407,8406,8405,8404,8403,8402,8401,8400,8399,8398,8397,8396,8395,8394,8393,8392,8391,8390,8389,8388,8387,8386,8385,8384,8383,8382,8381,8380,8379,8378,8377,8376,8375,8374,8373,8372,8371,8370,8369,8368,8367,8366,8365,8364,8363,8362,8361,8360,8359,8358,8357,8356,8355,8354,8353,8352,8351,8350,8349,8348,8347,8346,8345,8344,8343,8342,8341,8340,8339,8338,8337,8336,8335,8334,8333,8332,8331,8330,8329,8328,8327,8326,8325,8324,8323,8322,8321,8320,8319,8318,8317,8316,8315,8314,8313,8312,8311,8310,8309,8308,8307,8306,8305,8304,8303,8302,8301,8300,8299,8298,8297,8296,8295,8294,8293,8292,8291,8290,8289,8288,8287,8286,8285,8284,8283,8282,8281,8280,8279,8278,8277,8276,8275,8274,8273,8272,8271,8270,8269,8268,8267,8266,8265,8264,8263,8262,8261,8260,8259,8258,8257,8256,8255,8254,8253,8252,8251,8250,8249,8248,8247,8246,8245,8244,8243,8242,8241,8240,8239,8238,8237,8236,8235,8234,8233,8232,8231,8230,8229,8228,8227,8226,8225,8224,8223,8222,8221,8220,8219,8218,8217,8216,8215,8214,8213,8212,8211,8210,8209,8208,8207,8206,8205,8204,8203,8202,8201,8200,8199,8198,8197,8196,8195,8194,8193,8192,8191,8190,8189,8188,8187,8186,8185,8184,8183,8182,8181,8180,8179,8178,8177,8176,8175,8174,8173,8172,8171,8170,8169,8168,8167,8166,8165,8164,8163,8162,8161,8160,8159,8158,8157,8156,8155,8154,8153,8152,8151,8150,8149,8148,8147,8146,8145,8144,8143,8142,8141,8140,8139,8138,8137,8136,8135,8134,8133,8132,8131,8130,8129,8128,8127,8126,8125,8124,8123,8122,8121,8120,8119,8118,8117,8116,8115,8114,8113,8112,8111,8110,8109,8108,8107,8106,8105,8104,8103,8102,8101,8100,8099,8098,8097,8096,8095,8094,8093,8092,8091,8090,8089,8088,8087,8086,8085,8084,8083,8082,8081,8080,8079,8078,8077,8076,8075,8074,8073,8072,8071,8070,8069,8068,8067,8066,8065,8064,8063,8062,8061,8060,8059,8058,8057,8056,8055,8054,8053,8052,8051,8050,8049,8048,8047,8046,8045,8044,8043,8042,8041,8040,8039,8038,8037,8036,8035,8034,8033,8032,8031,8030,8029,8028,8027,8026,8025,8024,8023,8022,8021,8020,8019,8018,8017,8016,8015,8014,8013,8012,8011,8010,8009,8008,8007,8006,8005,8004,8003,8002,8001,8000,7999,7998,7997,7996,7995,7994,7993,7992,7991,7990,7989,7988,7987,7986,7985,7984,7983,7982,7981,7980,7979,7978,7977,7976,7975,7974,7973,7972,7971,7970,7969,7968,7967,7966,7965,7964,7963,7962,7961,7960,7959,7958,7957,7956,7955,7954,7953,7952,7951,7950,7949,7948,7947,7946,7945,7944,7943,7942,7941,7940,7939,7938,7937,7936,7935,7934,7933,7932,7931,7930,7929,7928,7927,7926,7925,7924,7923,7922,7921,7920,7919,7918,7917,7916,7915,7914,7913,7912,7911,7910,7909,7908,7907,7906,7905,7904,7903,7902,7901,7900,7899,7898,7897,7896,7895,7894,7893,7892,7891,7890,7889,7888,7887,7886,7885,7884,7883,7882,7881,7880,7879,7878,7877,7876,7875,7874,7873,7872,7871,7870,7869,7868,7867,7866,7865,7864,7863,7862,7861,7860,7859,7858,7857,7856,7855,7854,7853,7852,7851,7850,7849,7848,7847,7846,7845,7844,7843,7842,7841,7840,7839,7838,7837,7836,7835,7834,7833,7832,7831,7830,7829,7828,7827,7826,7825,7824,7823,7822,7821,7820,7819,7818,7817,7816,7815,7814,7813,7812,7811,7810,7809,7808,7807,7806,7805,7804,7803,7802,7801,7800,7799,7798,7797,7796,7795,7794,7793,7792,7791,7790,7789,7788,7787,7786,7785,7784,7783,7782,7781,7780,7779,7778,7777,7776,7775,7774,7773,7772,7771,7770,7769,7768,7767,7766,7765,7764,7763,7762,7761,7760,7759,7758,7757,7756,7755,7754,7753,7752,7751,7750,7749,7748,7747,7746,7745,7744,7743,7742,7741,7740,7739,7738,7737,7736,7735,7734,7733,7732,7731,7730,7729,7728,7727,7726,7725,7724,7723,7722,7721,7720,7719,7718,7717,7716,7715,7714,7713,7712,7711,7710,7709,7708,7707,7706,7705,7704,7703,7702,7701,7700,7699,7698,7697,7696,7695,7694,7693,7692,7691,7690,7689,7688,7687,7686,7685,7684,7683,7682,7681,7680,7679,7678,7677,7676,7675,7674,7673,7672,7671,7670,7669,7668,7667,7666,7665,7664,7663,7662,7661,7660,7659,7658,7657,7656,7655,7654,7653,7652,7651,7650,7649,7648,7647,7646,7645,7644,7643,7642,7641,7640,7639,7638,7637,7636,7635,7634,7633,7632,7631,7630,7629,7628,7627,7626,7625,7624,7623,7622,7621,7620,7619,7618,7617,7616,7615,7614,7613,7612,7611,7610,7609,7608,7607,7606,7605,7604,7603,7602,7601,7600,7599,7598,7597,7596,7595,7594,7593,7592,7591,7590,7589,7588,7587,7586,7585,7584,7583,7582,7581,7580,7579,7578,7577,7576,7575,7574,7573,7572,7571,7570,7569,7568,7567,7566,7565,7564,7563,7562,7561,7560,7559,7558,7557,7556,7555,7554,7553,7552,7551,7550,7549,7548,7547,7546,7545,7544,7543,7542,7541,7540,7539,7538,7537,7536,7535,7534,7533,7532,7531,7530,7529,7528,7527,7526,7525,7524,7523,7522,7521,7520,7519,7518,7517,7516,7515,7514,7513,7512,7511,7510,7509,7508,7507,7506,7505,7504,7503,7502,7501,7500,7499,7498,7497,7496,7495,7494,7493,7492,7491,7490,7489,7488,7487,7486,7485,7484,7483,7482,7481,7480,7479,7478,7477,7476,7475,7474,7473,7472,7471,7470,7469,7468,7467,7466,7465,7464,7463,7462,7461,7460,7459,7458,7457,7456,7455,7454,7453,7452,7451,7450,7449,7448,7447,7446,7445,7444,7443,7442,7441,7440,7439,7438,7437,7436,7435,7434,7433,7432,7431,7430,7429,7428,7427,7426,7425,7424,7423,7422,7421,7420,7419,7418,7417,7416,7415,7414,7413,7412,7411,7410,7409,7408,7407,7406,7405,7404,7403,7402,7401,7400,7399,7398,7397,7396,7395,7394,7393,7392,7391,7390,7389,7388,7387,7386,7385,7384,7383,7382,7381,7380,7379,7378,7377,7376,7375,7374,7373,7372,7371,7370,7369,7368,7367,7366,7365,7364,7363,7362,7361,7360,7359,7358,7357,7356,7355,7354,7353,7352,7351,7350,7349,7348,7347,7346,7345,7344,7343,7342,7341,7340,7339,7338,7337,7336,7335,7334,7333,7332,7331,7330,7329,7328,7327,7326,7325,7324,7323,7322,7321,7320,7319,7318,7317,7316,7315,7314,7313,7312,7311,7310,7309,7308,7307,7306,7305,7304,7303,7302,7301,7300,7299,7298,7297,7296,7295,7294,7293,7292,7291,7290,7289,7288,7287,7286,7285,7284,7283,7282,7281,7280,7279,7278,7277,7276,7275,7274,7273,7272,7271,7270,7269,7268,7267,7266,7265,7264,7263,7262,7261,7260,7259,7258,7257,7256,7255,7254,7253,7252,7251,7250,7249,7248,7247,7246,7245,7244,7243,7242,7241,7240,7239,7238,7237,7236,7235,7234,7233,7232,7231,7230,7229,7228,7227,7226,7225,7224,7223,7222,7221,7220,7219,7218,7217,7216,7215,7214,7213,7212,7211,7210,7209,7208,7207,7206,7205,7204,7203,7202,7201,7200,7199,7198,7197,7196,7195,7194,7193,7192,7191,7190,7189,7188,7187,7186,7185,7184,7183,7182,7181,7180,7179,7178,7177,7176,7175,7174,7173,7172,7171,7170,7169,7168,7167,7166,7165,7164,7163,7162,7161,7160,7159,7158,7157,7156,7155,7154,7153,7152,7151,7150,7149,7148,7147,7146,7145,7144,7143,7142,7141,7140,7139,7138,7137,7136,7135,7134,7133,7132,7131,7130,7129,7128,7127,7126,7125,7124,7123,7122,7121,7120,7119,7118,7117,7116,7115,7114,7113,7112,7111,7110,7109,7108,7107,7106,7105,7104,7103,7102,7101,7100,7099,7098,7097,7096,7095,7094,7093,7092,7091,7090,7089,7088,7087,7086,7085,7084,7083,7082,7081,7080,7079,7078,7077,7076,7075,7074,7073,7072,7071,7070,7069,7068,7067,7066,7065,7064,7063,7062,7061,7060,7059,7058,7057,7056,7055,7054,7053,7052,7051,7050,7049,7048,7047,7046,7045,7044,7043,7042,7041,7040,7039,7038,7037,7036,7035,7034,7033,7032,7031,7030,7029,7028,7027,7026,7025,7024,7023,7022,7021,7020,7019,7018,7017,7016,7015,7014,7013,7012,7011,7010,7009,7008,7007,7006,7005,7004,7003,7002,7001,7000,6999,6998,6997,6996,6995,6994,6993,6992,6991,6990,6989,6988,6987,6986,6985,6984,6983,6982,6981,6980,6979,6978,6977,6976,6975,6974,6973,6972,6971,6970,6969,6968,6967,6966,6965,6964,6963,6962,6961,6960,6959,6958,6957,6956,6955,6954,6953,6952,6951,6950,6949,6948,6947,6946,6945,6944,6943,6942,6941,6940,6939,6938,6937,6936,6935,6934,6933,6932,6931,6930,6929,6928,6927,6926,6925,6924,6923,6922,6921,6920,6919,6918,6917,6916,6915,6914,6913,6912,6911,6910,6909,6908,6907,6906,6905,6904,6903,6902,6901,6900,6899,6898,6897,6896,6895,6894,6893,6892,6891,6890,6889,6888,6887,6886,6885,6884,6883,6882,6881,6880,6879,6878,6877,6876,6875,6874,6873,6872,6871,6870,6869,6868,6867,6866,6865,6864,6863,6862,6861,6860,6859,6858,6857,6856,6855,6854,6853,6852,6851,6850,6849,6848,6847,6846,6845,6844,6843,6842,6841,6840,6839,6838,6837,6836,6835,6834,6833,6832,6831,6830,6829,6828,6827,6826,6825,6824,6823,6822,6821,6820,6819,6818,6817,6816,6815,6814,6813,6812,6811,6810,6809,6808,6807,6806,6805,6804,6803,6802,6801,6800,6799,6798,6797,6796,6795,6794,6793,6792,6791,6790,6789,6788,6787,6786,6785,6784,6783,6782,6781,6780,6779,6778,6777,6776,6775,6774,6773,6772,6771,6770,6769,6768,6767,6766,6765,6764,6763,6762,6761,6760,6759,6758,6757,6756,6755,6754,6753,6752,6751,6750,6749,6748,6747,6746,6745,6744,6743,6742,6741,6740,6739,6738,6737,6736,6735,6734,6733,6732,6731,6730,6729,6728,6727,6726,6725,6724,6723,6722,6721,6720,6719,6718,6717,6716,6715,6714,6713,6712,6711,6710,6709,6708,6707,6706,6705,6704,6703,6702,6701,6700,6699,6698,6697,6696,6695,6694,6693,6692,6691,6690,6689,6688,6687,6686,6685,6684,6683,6682,6681,6680,6679,6678,6677,6676,6675,6674,6673,6672,6671,6670,6669,6668,6667,6666,6665,6664,6663,6662,6661,6660,6659,6658,6657,6656,6655,6654,6653,6652,6651,6650,6649,6648,6647,6646,6645,6644,6643,6642,6641,6640,6639,6638,6637,6636,6635,6634,6633,6632,6631,6630,6629,6628,6627,6626,6625,6624,6623,6622,6621,6620,6619,6618,6617,6616,6615,6614,6613,6612,6611,6610,6609,6608,6607,6606,6605,6604,6603,6602,6601,6600,6599,6598,6597,6596,6595,6594,6593,6592,6591,6590,6589,6588,6587,6586,6585,6584,6583,6582,6581,6580,6579,6578,6577,6576,6575,6574,6573,6572,6571,6570,6569,6568,6567,6566,6565,6564,6563,6562,6561,6560,6559,6558,6557,6556,6555,6554,6553,6552,6551,6550,6549,6548,6547,6546,6545,6544,6543,6542,6541,6540,6539,6538,6537,6536,6535,6534,6533,6532,6531,6530,6529,6528,6527,6526,6525,6524,6523,6522,6521,6520,6519,6518,6517,6516,6515,6514,6513,6512,6511,6510,6509,6508,6507,6506,6505,6504,6503,6502,6501,6500,6499,6498,6497,6496,6495,6494,6493,6492,6491,6490,6489,6488,6487,6486,6485,6484,6483,6482,6481,6480,6479,6478,6477,6476,6475,6474,6473,6472,6471,6470,6469,6468,6467,6466,6465,6464,6463,6462,6461,6460,6459,6458,6457,6456,6455,6454,6453,6452,6451,6450,6449,6448,6447,6446,6445,6444,6443,6442,6441,6440,6439,6438,6437,6436,6435,6434,6433,6432,6431,6430,6429,6428,6427,6426,6425,6424,6423,6422,6421,6420,6419,6418,6417,6416,6415,6414,6413,6412,6411,6410,6409,6408,6407,6406,6405,6404,6403,6402,6401,6400,6399,6398,6397,6396,6395,6394,6393,6392,6391,6390,6389,6388,6387,6386,6385,6384,6383,6382,6381,6380,6379,6378,6377,6376,6375,6374,6373,6372,6371,6370,6369,6368,6367,6366,6365,6364,6363,6362,6361,6360,6359,6358,6357,6356,6355,6354,6353,6352,6351,6350,6349,6348,6347,6346,6345,6344,6343,6342,6341,6340,6339,6338,6337,6336,6335,6334,6333,6332,6331,6330,6329,6328,6327,6326,6325,6324,6323,6322,6321,6320,6319,6318,6317,6316,6315,6314,6313,6312,6311,6310,6309,6308,6307,6306,6305,6304,6303,6302,6301,6300,6299,6298,6297,6296,6295,6294,6293,6292,6291,6290,6289,6288,6287,6286,6285,6284,6283,6282,6281,6280,6279,6278,6277,6276,6275,6274,6273,6272,6271,6270,6269,6268,6267,6266,6265,6264,6263,6262,6261,6260,6259,6258,6257,6256,6255,6254,6253,6252,6251,6250,6249,6248,6247,6246,6245,6244,6243,6242,6241,6240,6239,6238,6237,6236,6235,6234,6233,6232,6231,6230,6229,6228,6227,6226,6225,6224,6223,6222,6221,6220,6219,6218,6217,6216,6215,6214,6213,6212,6211,6210,6209,6208,6207,6206,6205,6204,6203,6202,6201,6200,6199,6198,6197,6196,6195,6194,6193,6192,6191,6190,6189,6188,6187,6186,6185,6184,6183,6182,6181,6180,6179,6178,6177,6176,6175,6174,6173,6172,6171,6170,6169,6168,6167,6166,6165,6164,6163,6162,6161,6160,6159,6158,6157,6156,6155,6154,6153,6152,6151,6150,6149,6148,6147,6146,6145,6144,6143,6142,6141,6140,6139,6138,6137,6136,6135,6134,6133,6132,6131,6130,6129,6128,6127,6126,6125,6124,6123,6122,6121,6120,6119,6118,6117,6116,6115,6114,6113,6112,6111,6110,6109,6108,6107,6106,6105,6104,6103,6102,6101,6100,6099,6098,6097,6096,6095,6094,6093,6092,6091,6090,6089,6088,6087,6086,6085,6084,6083,6082,6081,6080,6079,6078,6077,6076,6075,6074,6073,6072,6071,6070,6069,6068,6067,6066,6065,6064,6063,6062,6061,6060,6059,6058,6057,6056,6055,6054,6053,6052,6051,6050,6049,6048,6047,6046,6045,6044,6043,6042,6041,6040,6039,6038,6037,6036,6035,6034,6033,6032,6031,6030,6029,6028,6027,6026,6025,6024,6023,6022,6021,6020,6019,6018,6017,6016,6015,6014,6013,6012,6011,6010,6009,6008,6007,6006,6005,6004,6003,6002,6001,6000,5999,5998,5997,5996,5995,5994,5993,5992,5991,5990,5989,5988,5987,5986,5985,5984,5983,5982,5981,5980,5979,5978,5977,5976,5975,5974,5973,5972,5971,5970,5969,5968,5967,5966,5965,5964,5963,5962,5961,5960,5959,5958,5957,5956,5955,5954,5953,5952,5951,5950,5949,5948,5947,5946,5945,5944,5943,5942,5941,5940,5939,5938,5937,5936,5935,5934,5933,5932,5931,5930,5929,5928,5927,5926,5925,5924,5923,5922,5921,5920,5919,5918,5917,5916,5915,5914,5913,5912,5911,5910,5909,5908,5907,5906,5905,5904,5903,5902,5901,5900,5899,5898,5897,5896,5895,5894,5893,5892,5891,5890,5889,5888,5887,5886,5885,5884,5883,5882,5881,5880,5879,5878,5877,5876,5875,5874,5873,5872,5871,5870,5869,5868,5867,5866,5865,5864,5863,5862,5861,5860,5859,5858,5857,5856,5855,5854,5853,5852,5851,5850,5849,5848,5847,5846,5845,5844,5843,5842,5841,5840,5839,5838,5837,5836,5835,5834,5833,5832,5831,5830,5829,5828,5827,5826,5825,5824,5823,5822,5821,5820,5819,5818,5817,5816,5815,5814,5813,5812,5811,5810,5809,5808,5807,5806,5805,5804,5803,5802,5801,5800,5799,5798,5797,5796,5795,5794,5793,5792,5791,5790,5789,5788,5787,5786,5785,5784,5783,5782,5781,5780,5779,5778,5777,5776,5775,5774,5773,5772,5771,5770,5769,5768,5767,5766,5765,5764,5763,5762,5761,5760,5759,5758,5757,5756,5755,5754,5753,5752,5751,5750,5749,5748,5747,5746,5745,5744,5743,5742,5741,5740,5739,5738,5737,5736,5735,5734,5733,5732,5731,5730,5729,5728,5727,5726,5725,5724,5723,5722,5721,5720,5719,5718,5717,5716,5715,5714,5713,5712,5711,5710,5709,5708,5707,5706,5705,5704,5703,5702,5701,5700,5699,5698,5697,5696,5695,5694,5693,5692,5691,5690,5689,5688,5687,5686,5685,5684,5683,5682,5681,5680,5679,5678,5677,5676,5675,5674,5673,5672,5671,5670,5669,5668,5667,5666,5665,5664,5663,5662,5661,5660,5659,5658,5657,5656,5655,5654,5653,5652,5651,5650,5649,5648,5647,5646,5645,5644,5643,5642,5641,5640,5639,5638,5637,5636,5635,5634,5633,5632,5631,5630,5629,5628,5627,5626,5625,5624,5623,5622,5621,5620,5619,5618,5617,5616,5615,5614,5613,5612,5611,5610,5609,5608,5607,5606,5605,5604,5603,5602,5601,5600,5599,5598,5597,5596,5595,5594,5593,5592,5591,5590,5589,5588,5587,5586,5585,5584,5583,5582,5581,5580,5579,5578,5577,5576,5575,5574,5573,5572,5571,5570,5569,5568,5567,5566,5565,5564,5563,5562,5561,5560,5559,5558,5557,5556,5555,5554,5553,5552,5551,5550,5549,5548,5547,5546,5545,5544,5543,5542,5541,5540,5539,5538,5537,5536,5535,5534,5533,5532,5531,5530,5529,5528,5527,5526,5525,5524,5523,5522,5521,5520,5519,5518,5517,5516,5515,5514,5513,5512,5511,5510,5509,5508,5507,5506,5505,5504,5503,5502,5501,5500,5499,5498,5497,5496,5495,5494,5493,5492,5491,5490,5489,5488,5487,5486,5485,5484,5483,5482,5481,5480,5479,5478,5477,5476,5475,5474,5473,5472,5471,5470,5469,5468,5467,5466,5465,5464,5463,5462,5461,5460,5459,5458,5457,5456,5455,5454,5453,5452,5451,5450,5449,5448,5447,5446,5445,5444,5443,5442,5441,5440,5439,5438,5437,5436,5435,5434,5433,5432,5431,5430,5429,5428,5427,5426,5425,5424,5423,5422,5421,5420,5419,5418,5417,5416,5415,5414,5413,5412,5411,5410,5409,5408,5407,5406,5405,5404,5403,5402,5401,5400,5399,5398,5397,5396,5395,5394,5393,5392,5391,5390,5389,5388,5387,5386,5385,5384,5383,5382,5381,5380,5379,5378,5377,5376,5375,5374,5373,5372,5371,5370,5369,5368,5367,5366,5365,5364,5363,5362,5361,5360,5359,5358,5357,5356,5355,5354,5353,5352,5351,5350,5349,5348,5347,5346,5345,5344,5343,5342,5341,5340,5339,5338,5337,5336,5335,5334,5333,5332,5331,5330,5329,5328,5327,5326,5325,5324,5323,5322,5321,5320,5319,5318,5317,5316,5315,5314,5313,5312,5311,5310,5309,5308,5307,5306,5305,5304,5303,5302,5301,5300,5299,5298,5297,5296,5295,5294,5293,5292,5291,5290,5289,5288,5287,5286,5285,5284,5283,5282,5281,5280,5279,5278,5277,5276,5275,5274,5273,5272,5271,5270,5269,5268,5267,5266,5265,5264,5263,5262,5261,5260,5259,5258,5257,5256,5255,5254,5253,5252,5251,5250,5249,5248,5247,5246,5245,5244,5243,5242,5241,5240,5239,5238,5237,5236,5235,5234,5233,5232,5231,5230,5229,5228,5227,5226,5225,5224,5223,5222,5221,5220,5219,5218,5217,5216,5215,5214,5213,5212,5211,5210,5209,5208,5207,5206,5205,5204,5203,5202,5201,5200,5199,5198,5197,5196,5195,5194,5193,5192,5191,5190,5189,5188,5187,5186,5185,5184,5183,5182,5181,5180,5179,5178,5177,5176,5175,5174,5173,5172,5171,5170,5169,5168,5167,5166,5165,5164,5163,5162,5161,5160,5159,5158,5157,5156,5155,5154,5153,5152,5151,5150,5149,5148,5147,5146,5145,5144,5143,5142,5141,5140,5139,5138,5137,5136,5135,5134,5133,5132,5131,5130,5129,5128,5127,5126,5125,5124,5123,5122,5121,5120,5119,5118,5117,5116,5115,5114,5113,5112,5111,5110,5109,5108,5107,5106,5105,5104,5103,5102,5101,5100,5099,5098,5097,5096,5095,5094,5093,5092,5091,5090,5089,5088,5087,5086,5085,5084,5083,5082,5081,5080,5079,5078,5077,5076,5075,5074,5073,5072,5071,5070,5069,5068,5067,5066,5065,5064,5063,5062,5061,5060,5059,5058,5057,5056,5055,5054,5053,5052,5051,5050,5049,5048,5047,5046,5045,5044,5043,5042,5041,5040,5039,5038,5037,5036,5035,5034,5033,5032,5031,5030,5029,5028,5027,5026,5025,5024,5023,5022,5021,5020,5019,5018,5017,5016,5015,5014,5013,5012,5011,5010,5009,5008,5007,5006,5005,5004,5003,5002,5001,5000,4999,4998,4997,4996,4995,4994,4993,4992,4991,4990,4989,4988,4987,4986,4985,4984,4983,4982,4981,4980,4979,4978,4977,4976,4975,4974,4973,4972,4971,4970,4969,4968,4967,4966,4965,4964,4963,4962,4961,4960,4959,4958,4957,4956,4955,4954,4953,4952,4951,4950,4949,4948,4947,4946,4945,4944,4943,4942,4941,4940,4939,4938,4937,4936,4935,4934,4933,4932,4931,4930,4929,4928,4927,4926,4925,4924,4923,4922,4921,4920,4919,4918,4917,4916,4915,4914,4913,4912,4911,4910,4909,4908,4907,4906,4905,4904,4903,4902,4901,4900,4899,4898,4897,4896,4895,4894,4893,4892,4891,4890,4889,4888,4887,4886,4885,4884,4883,4882,4881,4880,4879,4878,4877,4876,4875,4874,4873,4872,4871,4870,4869,4868,4867,4866,4865,4864,4863,4862,4861,4860,4859,4858,4857,4856,4855,4854,4853,4852,4851,4850,4849,4848,4847,4846,4845,4844,4843,4842,4841,4840,4839,4838,4837,4836,4835,4834,4833,4832,4831,4830,4829,4828,4827,4826,4825,4824,4823,4822,4821,4820,4819,4818,4817,4816,4815,4814,4813,4812,4811,4810,4809,4808,4807,4806,4805,4804,4803,4802,4801,4800,4799,4798,4797,4796,4795,4794,4793,4792,4791,4790,4789,4788,4787,4786,4785,4784,4783,4782,4781,4780,4779,4778,4777,4776,4775,4774,4773,4772,4771,4770,4769,4768,4767,4766,4765,4764,4763,4762,4761,4760,4759,4758,4757,4756,4755,4754,4753,4752,4751,4750,4749,4748,4747,4746,4745,4744,4743,4742,4741,4740,4739,4738,4737,4736,4735,4734,4733,4732,4731,4730,4729,4728,4727,4726,4725,4724,4723,4722,4721,4720,4719,4718,4717,4716,4715,4714,4713,4712,4711,4710,4709,4708,4707,4706,4705,4704,4703,4702,4701,4700,4699,4698,4697,4696,4695,4694,4693,4692,4691,4690,4689,4688,4687,4686,4685,4684,4683,4682,4681,4680,4679,4678,4677,4676,4675,4674,4673,4672,4671,4670,4669,4668,4667,4666,4665,4664,4663,4662,4661,4660,4659,4658,4657,4656,4655,4654,4653,4652,4651,4650,4649,4648,4647,4646,4645,4644,4643,4642,4641,4640,4639,4638,4637,4636,4635,4634,4633,4632,4631,4630,4629,4628,4627,4626,4625,4624,4623,4622,4621,4620,4619,4618,4617,4616,4615,4614,4613,4612,4611,4610,4609,4608,4607,4606,4605,4604,4603,4602,4601,4600,4599,4598,4597,4596,4595,4594,4593,4592,4591,4590,4589,4588,4587,4586,4585,4584,4583,4582,4581,4580,4579,4578,4577,4576,4575,4574,4573,4572,4571,4570,4569,4568,4567,4566,4565,4564,4563,4562,4561,4560,4559,4558,4557,4556,4555,4554,4553,4552,4551,4550,4549,4548,4547,4546,4545,4544,4543,4542,4541,4540,4539,4538,4537,4536,4535,4534,4533,4532,4531,4530,4529,4528,4527,4526,4525,4524,4523,4522,4521,4520,4519,4518,4517,4516,4515,4514,4513,4512,4511,4510,4509,4508,4507,4506,4505,4504,4503,4502,4501,4500,4499,4498,4497,4496,4495,4494,4493,4492,4491,4490,4489,4488,4487,4486,4485,4484,4483,4482,4481,4480,4479,4478,4477,4476,4475,4474,4473,4472,4471,4470,4469,4468,4467,4466,4465,4464,4463,4462,4461,4460,4459,4458,4457,4456,4455,4454,4453,4452,4451,4450,4449,4448,4447,4446,4445,4444,4443,4442,4441,4440,4439,4438,4437,4436,4435,4434,4433,4432,4431,4430,4429,4428,4427,4426,4425,4424,4423,4422,4421,4420,4419,4418,4417,4416,4415,4414,4413,4412,4411,4410,4409,4408,4407,4406,4405,4404,4403,4402,4401,4400,4399,4398,4397,4396,4395,4394,4393,4392,4391,4390,4389,4388,4387,4386,4385,4384,4383,4382,4381,4380,4379,4378,4377,4376,4375,4374,4373,4372,4371,4370,4369,4368,4367,4366,4365,4364,4363,4362,4361,4360,4359,4358,4357,4356,4355,4354,4353,4352,4351,4350,4349,4348,4347,4346,4345,4344,4343,4342,4341,4340,4339,4338,4337,4336,4335,4334,4333,4332,4331,4330,4329,4328,4327,4326,4325,4324,4323,4322,4321,4320,4319,4318,4317,4316,4315,4314,4313,4312,4311,4310,4309,4308,4307,4306,4305,4304,4303,4302,4301,4300,4299,4298,4297,4296,4295,4294,4293,4292,4291,4290,4289,4288,4287,4286,4285,4284,4283,4282,4281,4280,4279,4278,4277,4276,4275,4274,4273,4272,4271,4270,4269,4268,4267,4266,4265,4264,4263,4262,4261,4260,4259,4258,4257,4256,4255,4254,4253,4252,4251,4250,4249,4248,4247,4246,4245,4244,4243,4242,4241,4240,4239,4238,4237,4236,4235,4234,4233,4232,4231,4230,4229,4228,4227,4226,4225,4224,4223,4222,4221,4220,4219,4218,4217,4216,4215,4214,4213,4212,4211,4210,4209,4208,4207,4206,4205,4204,4203,4202,4201,4200,4199,4198,4197,4196,4195,4194,4193,4192,4191,4190,4189,4188,4187,4186,4185,4184,4183,4182,4181,4180,4179,4178,4177,4176,4175,4174,4173,4172,4171,4170,4169,4168,4167,4166,4165,4164,4163,4162,4161,4160,4159,4158,4157,4156,4155,4154,4153,4152,4151,4150,4149,4148,4147,4146,4145,4144,4143,4142,4141,4140,4139,4138,4137,4136,4135,4134,4133,4132,4131,4130,4129,4128,4127,4126,4125,4124,4123,4122,4121,4120,4119,4118,4117,4116,4115,4114,4113,4112,4111,4110,4109,4108,4107,4106,4105,4104,4103,4102,4101,4100,4099,4098,4097,4096,4095,4094,4093,4092,4091,4090,4089,4088,4087,4086,4085,4084,4083,4082,4081,4080,4079,4078,4077,4076,4075,4074,4073,4072,4071,4070,4069,4068,4067,4066,4065,4064,4063,4062,4061,4060,4059,4058,4057,4056,4055,4054,4053,4052,4051,4050,4049,4048,4047,4046,4045,4044,4043,4042,4041,4040,4039,4038,4037,4036,4035,4034,4033,4032,4031,4030,4029,4028,4027,4026,4025,4024,4023,4022,4021,4020,4019,4018,4017,4016,4015,4014,4013,4012,4011,4010,4009,4008,4007,4006,4005,4004,4003,4002,4001,4000,3999,3998,3997,3996,3995,3994,3993,3992,3991,3990,3989,3988,3987,3986,3985,3984,3983,3982,3981,3980,3979,3978,3977,3976,3975,3974,3973,3972,3971,3970,3969,3968,3967,3966,3965,3964,3963,3962,3961,3960,3959,3958,3957,3956,3955,3954,3953,3952,3951,3950,3949,3948,3947,3946,3945,3944,3943,3942,3941,3940,3939,3938,3937,3936,3935,3934,3933,3932,3931,3930,3929,3928,3927,3926,3925,3924,3923,3922,3921,3920,3919,3918,3917,3916,3915,3914,3913,3912,3911,3910,3909,3908,3907,3906,3905,3904,3903,3902,3901,3900,3899,3898,3897,3896,3895,3894,3893,3892,3891,3890,3889,3888,3887,3886,3885,3884,3883,3882,3881,3880,3879,3878,3877,3876,3875,3874,3873,3872,3871,3870,3869,3868,3867,3866,3865,3864,3863,3862,3861,3860,3859,3858,3857,3856,3855,3854,3853,3852,3851,3850,3849,3848,3847,3846,3845,3844,3843,3842,3841,3840,3839,3838,3837,3836,3835,3834,3833,3832,3831,3830,3829,3828,3827,3826,3825,3824,3823,3822,3821,3820,3819,3818,3817,3816,3815,3814,3813,3812,3811,3810,3809,3808,3807,3806,3805,3804,3803,3802,3801,3800,3799,3798,3797,3796,3795,3794,3793,3792,3791,3790,3789,3788,3787,3786,3785,3784,3783,3782,3781,3780,3779,3778,3777,3776,3775,3774,3773,3772,3771,3770,3769,3768,3767,3766,3765,3764,3763,3762,3761,3760,3759,3758,3757,3756,3755,3754,3753,3752,3751,3750,3749,3748,3747,3746,3745,3744,3743,3742,3741,3740,3739,3738,3737,3736,3735,3734,3733,3732,3731,3730,3729,3728,3727,3726,3725,3724,3723,3722,3721,3720,3719,3718,3717,3716,3715,3714,3713,3712,3711,3710,3709,3708,3707,3706,3705,3704,3703,3702,3701,3700,3699,3698,3697,3696,3695,3694,3693,3692,3691,3690,3689,3688,3687,3686,3685,3684,3683,3682,3681,3680,3679,3678,3677,3676,3675,3674,3673,3672,3671,3670,3669,3668,3667,3666,3665,3664,3663,3662,3661,3660,3659,3658,3657,3656,3655,3654,3653,3652,3651,3650,3649,3648,3647,3646,3645,3644,3643,3642,3641,3640,3639,3638,3637,3636,3635,3634,3633,3632,3631,3630,3629,3628,3627,3626,3625,3624,3623,3622,3621,3620,3619,3618,3617,3616,3615,3614,3613,3612,3611,3610,3609,3608,3607,3606,3605,3604,3603,3602,3601,3600,3599,3598,3597,3596,3595,3594,3593,3592,3591,3590,3589,3588,3587,3586,3585,3584,3583,3582,3581,3580,3579,3578,3577,3576,3575,3574,3573,3572,3571,3570,3569,3568,3567,3566,3565,3564,3563,3562,3561,3560,3559,3558,3557,3556,3555,3554,3553,3552,3551,3550,3549,3548,3547,3546,3545,3544,3543,3542,3541,3540,3539,3538,3537,3536,3535,3534,3533,3532,3531,3530,3529,3528,3527,3526,3525,3524,3523,3522,3521,3520,3519,3518,3517,3516,3515,3514,3513,3512,3511,3510,3509,3508,3507,3506,3505,3504,3503,3502,3501,3500,3499,3498,3497,3496,3495,3494,3493,3492,3491,3490,3489,3488,3487,3486,3485,3484,3483,3482,3481,3480,3479,3478,3477,3476,3475,3474,3473,3472,3471,3470,3469,3468,3467,3466,3465,3464,3463,3462,3461,3460,3459,3458,3457,3456,3455,3454,3453,3452,3451,3450,3449,3448,3447,3446,3445,3444,3443,3442,3441,3440,3439,3438,3437,3436,3435,3434,3433,3432,3431,3430,3429,3428,3427,3426,3425,3424,3423,3422,3421,3420,3419,3418,3417,3416,3415,3414,3413,3412,3411,3410,3409,3408,3407,3406,3405,3404,3403,3402,3401,3400,3399,3398,3397,3396,3395,3394,3393,3392,3391,3390,3389,3388,3387,3386,3385,3384,3383,3382,3381,3380,3379,3378,3377,3376,3375,3374,3373,3372,3371,3370,3369,3368,3367,3366,3365,3364,3363,3362,3361,3360,3359,3358,3357,3356,3355,3354,3353,3352,3351,3350,3349,3348,3347,3346,3345,3344,3343,3342,3341,3340,3339,3338,3337,3336,3335,3334,3333,3332,3331,3330,3329,3328,3327,3326,3325,3324,3323,3322,3321,3320,3319,3318,3317,3316,3315,3314,3313,3312,3311,3310,3309,3308,3307,3306,3305,3304,3303,3302,3301,3300,3299,3298,3297,3296,3295,3294,3293,3292,3291,3290,3289,3288,3287,3286,3285,3284,3283,3282,3281,3280,3279,3278,3277,3276,3275,3274,3273,3272,3271,3270,3269,3268,3267,3266,3265,3264,3263,3262,3261,3260,3259,3258,3257,3256,3255,3254,3253,3252,3251,3250,3249,3248,3247,3246,3245,3244,3243,3242,3241,3240,3239,3238,3237,3236,3235,3234,3233,3232,3231,3230,3229,3228,3227,3226,3225,3224,3223,3222,3221,3220,3219,3218,3217,3216,3215,3214,3213,3212,3211,3210,3209,3208,3207,3206,3205,3204,3203,3202,3201,3200,3199,3198,3197,3196,3195,3194,3193,3192,3191,3190,3189,3188,3187,3186,3185,3184,3183,3182,3181,3180,3179,3178,3177,3176,3175,3174,3173,3172,3171,3170,3169,3168,3167,3166,3165,3164,3163,3162,3161,3160,3159,3158,3157,3156,3155,3154,3153,3152,3151,3150,3149,3148,3147,3146,3145,3144,3143,3142,3141,3140,3139,3138,3137,3136,3135,3134,3133,3132,3131,3130,3129,3128,3127,3126,3125,3124,3123,3122,3121,3120,3119,3118,3117,3116,3115,3114,3113,3112,3111,3110,3109,3108,3107,3106,3105,3104,3103,3102,3101,3100,3099,3098,3097,3096,3095,3094,3093,3092,3091,3090,3089,3088,3087,3086,3085,3084,3083,3082,3081,3080,3079,3078,3077,3076,3075,3074,3073,3072,3071,3070,3069,3068,3067,3066,3065,3064,3063,3062,3061,3060,3059,3058,3057,3056,3055,3054,3053,3052,3051,3050,3049,3048,3047,3046,3045,3044,3043,3042,3041,3040,3039,3038,3037,3036,3035,3034,3033,3032,3031,3030,3029,3028,3027,3026,3025,3024,3023,3022,3021,3020,3019,3018,3017,3016,3015,3014,3013,3012,3011,3010,3009,3008,3007,3006,3005,3004,3003,3002,3001,3000,2999,2998,2997,2996,2995,2994,2993,2992,2991,2990,2989,2988,2987,2986,2985,2984,2983,2982,2981,2980,2979,2978,2977,2976,2975,2974,2973,2972,2971,2970,2969,2968,2967,2966,2965,2964,2963,2962,2961,2960,2959,2958,2957,2956,2955,2954,2953,2952,2951,2950,2949,2948,2947,2946,2945,2944,2943,2942,2941,2940,2939,2938,2937,2936,2935,2934,2933,2932,2931,2930,2929,2928,2927,2926,2925,2924,2923,2922,2921,2920,2919,2918,2917,2916,2915,2914,2913,2912,2911,2910,2909,2908,2907,2906,2905,2904,2903,2902,2901,2900,2899,2898,2897,2896,2895,2894,2893,2892,2891,2890,2889,2888,2887,2886,2885,2884,2883,2882,2881,2880,2879,2878,2877,2876,2875,2874,2873,2872,2871,2870,2869,2868,2867,2866,2865,2864,2863,2862,2861,2860,2859,2858,2857,2856,2855,2854,2853,2852,2851,2850,2849,2848,2847,2846,2845,2844,2843,2842,2841,2840,2839,2838,2837,2836,2835,2834,2833,2832,2831,2830,2829,2828,2827,2826,2825,2824,2823,2822,2821,2820,2819,2818,2817,2816,2815,2814,2813,2812,2811,2810,2809,2808,2807,2806,2805,2804,2803,2802,2801,2800,2799,2798,2797,2796,2795,2794,2793,2792,2791,2790,2789,2788,2787,2786,2785,2784,2783,2782,2781,2780,2779,2778,2777,2776,2775,2774,2773,2772,2771,2770,2769,2768,2767,2766,2765,2764,2763,2762,2761,2760,2759,2758,2757,2756,2755,2754,2753,2752,2751,2750,2749,2748,2747,2746,2745,2744,2743,2742,2741,2740,2739,2738,2737,2736,2735,2734,2733,2732,2731,2730,2729,2728,2727,2726,2725,2724,2723,2722,2721,2720,2719,2718,2717,2716,2715,2714,2713,2712,2711,2710,2709,2708,2707,2706,2705,2704,2703,2702,2701,2700,2699,2698,2697,2696,2695,2694,2693,2692,2691,2690,2689,2688,2687,2686,2685,2684,2683,2682,2681,2680,2679,2678,2677,2676,2675,2674,2673,2672,2671,2670,2669,2668,2667,2666,2665,2664,2663,2662,2661,2660,2659,2658,2657,2656,2655,2654,2653,2652,2651,2650,2649,2648,2647,2646,2645,2644,2643,2642,2641,2640,2639,2638,2637,2636,2635,2634,2633,2632,2631,2630,2629,2628,2627,2626,2625,2624,2623,2622,2621,2620,2619,2618,2617,2616,2615,2614,2613,2612,2611,2610,2609,2608,2607,2606,2605,2604,2603,2602,2601,2600,2599,2598,2597,2596,2595,2594,2593,2592,2591,2590,2589,2588,2587,2586,2585,2584,2583,2582,2581,2580,2579,2578,2577,2576,2575,2574,2573,2572,2571,2570,2569,2568,2567,2566,2565,2564,2563,2562,2561,2560,2559,2558,2557,2556,2555,2554,2553,2552,2551,2550,2549,2548,2547,2546,2545,2544,2543,2542,2541,2540,2539,2538,2537,2536,2535,2534,2533,2532,2531,2530,2529,2528,2527,2526,2525,2524,2523,2522,2521,2520,2519,2518,2517,2516,2515,2514,2513,2512,2511,2510,2509,2508,2507,2506,2505,2504,2503,2502,2501,2500,2499,2498,2497,2496,2495,2494,2493,2492,2491,2490,2489,2488,2487,2486,2485,2484,2483,2482,2481,2480,2479,2478,2477,2476,2475,2474,2473,2472,2471,2470,2469,2468,2467,2466,2465,2464,2463,2462,2461,2460,2459,2458,2457,2456,2455,2454,2453,2452,2451,2450,2449,2448,2447,2446,2445,2444,2443,2442,2441,2440,2439,2438,2437,2436,2435,2434,2433,2432,2431,2430,2429,2428,2427,2426,2425,2424,2423,2422,2421,2420,2419,2418,2417,2416,2415,2414,2413,2412,2411,2410,2409,2408,2407,2406,2405,2404,2403,2402,2401,2400,2399,2398,2397,2396,2395,2394,2393,2392,2391,2390,2389,2388,2387,2386,2385,2384,2383,2382,2381,2380,2379,2378,2377,2376,2375,2374,2373,2372,2371,2370,2369,2368,2367,2366,2365,2364,2363,2362,2361,2360,2359,2358,2357,2356,2355,2354,2353,2352,2351,2350,2349,2348,2347,2346,2345,2344,2343,2342,2341,2340,2339,2338,2337,2336,2335,2334,2333,2332,2331,2330,2329,2328,2327,2326,2325,2324,2323,2322,2321,2320,2319,2318,2317,2316,2315,2314,2313,2312,2311,2310,2309,2308,2307,2306,2305,2304,2303,2302,2301,2300,2299,2298,2297,2296,2295,2294,2293,2292,2291,2290,2289,2288,2287,2286,2285,2284,2283,2282,2281,2280,2279,2278,2277,2276,2275,2274,2273,2272,2271,2270,2269,2268,2267,2266,2265,2264,2263,2262,2261,2260,2259,2258,2257,2256,2255,2254,2253,2252,2251,2250,2249,2248,2247,2246,2245,2244,2243,2242,2241,2240,2239,2238,2237,2236,2235,2234,2233,2232,2231,2230,2229,2228,2227,2226,2225,2224,2223,2222,2221,2220,2219,2218,2217,2216,2215,2214,2213,2212,2211,2210,2209,2208,2207,2206,2205,2204,2203,2202,2201,2200,2199,2198,2197,2196,2195,2194,2193,2192,2191,2190,2189,2188,2187,2186,2185,2184,2183,2182,2181,2180,2179,2178,2177,2176,2175,2174,2173,2172,2171,2170,2169,2168,2167,2166,2165,2164,2163,2162,2161,2160,2159,2158,2157,2156,2155,2154,2153,2152,2151,2150,2149,2148,2147,2146,2145,2144,2143,2142,2141,2140,2139,2138,2137,2136,2135,2134,2133,2132,2131,2130,2129,2128,2127,2126,2125,2124,2123,2122,2121,2120,2119,2118,2117,2116,2115,2114,2113,2112,2111,2110,2109,2108,2107,2106,2105,2104,2103,2102,2101,2100,2099,2098,2097,2096,2095,2094,2093,2092,2091,2090,2089,2088,2087,2086,2085,2084,2083,2082,2081,2080,2079,2078,2077,2076,2075,2074,2073,2072,2071,2070,2069,2068,2067,2066,2065,2064,2063,2062,2061,2060,2059,2058,2057,2056,2055,2054,2053,2052,2051,2050,2049,2048,2047,2046,2045,2044,2043,2042,2041,2040,2039,2038,2037,2036,2035,2034,2033,2032,2031,2030,2029,2028,2027,2026,2025,2024,2023,2022,2021,2020,2019,2018,2017,2016,2015,2014,2013,2012,2011,2010,2009,2008,2007,2006,2005,2004,2003,2002,2001,2000,1999,1998,1997,1996,1995,1994,1993,1992,1991,1990,1989,1988,1987,1986,1985,1984,1983,1982,1981,1980,1979,1978,1977,1976,1975,1974,1973,1972,1971,1970,1969,1968,1967,1966,1965,1964,1963,1962,1961,1960,1959,1958,1957,1956,1955,1954,1953,1952,1951,1950,1949,1948,1947,1946,1945,1944,1943,1942,1941,1940,1939,1938,1937,1936,1935,1934,1933,1932,1931,1930,1929,1928,1927,1926,1925,1924,1923,1922,1921,1920,1919,1918,1917,1916,1915,1914,1913,1912,1911,1910,1909,1908,1907,1906,1905,1904,1903,1902,1901,1900,1899,1898,1897,1896,1895,1894,1893,1892,1891,1890,1889,1888,1887,1886,1885,1884,1883,1882,1881,1880,1879,1878,1877,1876,1875,1874,1873,1872,1871,1870,1869,1868,1867,1866,1865,1864,1863,1862,1861,1860,1859,1858,1857,1856,1855,1854,1853,1852,1851,1850,1849,1848,1847,1846,1845,1844,1843,1842,1841,1840,1839,1838,1837,1836,1835,1834,1833,1832,1831,1830,1829,1828,1827,1826,1825,1824,1823,1822,1821,1820,1819,1818,1817,1816,1815,1814,1813,1812,1811,1810,1809,1808,1807,1806,1805,1804,1803,1802,1801,1800,1799,1798,1797,1796,1795,1794,1793,1792,1791,1790,1789,1788,1787,1786,1785,1784,1783,1782,1781,1780,1779,1778,1777,1776,1775,1774,1773,1772,1771,1770,1769,1768,1767,1766,1765,1764,1763,1762,1761,1760,1759,1758,1757,1756,1755,1754,1753,1752,1751,1750,1749,1748,1747,1746,1745,1744,1743,1742,1741,1740,1739,1738,1737,1736,1735,1734,1733,1732,1731,1730,1729,1728,1727,1726,1725,1724,1723,1722,1721,1720,1719,1718,1717,1716,1715,1714,1713,1712,1711,1710,1709,1708,1707,1706,1705,1704,1703,1702,1701,1700,1699,1698,1697,1696,1695,1694,1693,1692,1691,1690,1689,1688,1687,1686,1685,1684,1683,1682,1681,1680,1679,1678,1677,1676,1675,1674,1673,1672,1671,1670,1669,1668,1667,1666,1665,1664,1663,1662,1661,1660,1659,1658,1657,1656,1655,1654,1653,1652,1651,1650,1649,1648,1647,1646,1645,1644,1643,1642,1641,1640,1639,1638,1637,1636,1635,1634,1633,1632,1631,1630,1629,1628,1627,1626,1625,1624,1623,1622,1621,1620,1619,1618,1617,1616,1615,1614,1613,1612,1611,1610,1609,1608,1607,1606,1605,1604,1603,1602,1601,1600,1599,1598,1597,1596,1595,1594,1593,1592,1591,1590,1589,1588,1587,1586,1585,1584,1583,1582,1581,1580,1579,1578,1577,1576,1575,1574,1573,1572,1571,1570,1569,1568,1567,1566,1565,1564,1563,1562,1561,1560,1559,1558,1557,1556,1555,1554,1553,1552,1551,1550,1549,1548,1547,1546,1545,1544,1543,1542,1541,1540,1539,1538,1537,1536,1535,1534,1533,1532,1531,1530,1529,1528,1527,1526,1525,1524,1523,1522,1521,1520,1519,1518,1517,1516,1515,1514,1513,1512,1511,1510,1509,1508,1507,1506,1505,1504,1503,1502,1501,1500,1499,1498,1497,1496,1495,1494,1493,1492,1491,1490,1489,1488,1487,1486,1485,1484,1483,1482,1481,1480,1479,1478,1477,1476,1475,1474,1473,1472,1471,1470,1469,1468,1467,1466,1465,1464,1463,1462,1461,1460,1459,1458,1457,1456,1455,1454,1453,1452,1451,1450,1449,1448,1447,1446,1445,1444,1443,1442,1441,1440,1439,1438,1437,1436,1435,1434,1433,1432,1431,1430,1429,1428,1427,1426,1425,1424,1423,1422,1421,1420,1419,1418,1417,1416,1415,1414,1413,1412,1411,1410,1409,1408,1407,1406,1405,1404,1403,1402,1401,1400,1399,1398,1397,1396,1395,1394,1393,1392,1391,1390,1389,1388,1387,1386,1385,1384,1383,1382,1381,1380,1379,1378,1377,1376,1375,1374,1373,1372,1371,1370,1369,1368,1367,1366,1365,1364,1363,1362,1361,1360,1359,1358,1357,1356,1355,1354,1353,1352,1351,1350,1349,1348,1347,1346,1345,1344,1343,1342,1341,1340,1339,1338,1337,1336,1335,1334,1333,1332,1331,1330,1329,1328,1327,1326,1325,1324,1323,1322,1321,1320,1319,1318,1317,1316,1315,1314,1313,1312,1311,1310,1309,1308,1307,1306,1305,1304,1303,1302,1301,1300,1299,1298,1297,1296,1295,1294,1293,1292,1291,1290,1289,1288,1287,1286,1285,1284,1283,1282,1281,1280,1279,1278,1277,1276,1275,1274,1273,1272,1271,1270,1269,1268,1267,1266,1265,1264,1263,1262,1261,1260,1259,1258,1257,1256,1255,1254,1253,1252,1251,1250,1249,1248,1247,1246,1245,1244,1243,1242,1241,1240,1239,1238,1237,1236,1235,1234,1233,1232,1231,1230,1229,1228,1227,1226,1225,1224,1223,1222,1221,1220,1219,1218,1217,1216,1215,1214,1213,1212,1211,1210,1209,1208,1207,1206,1205,1204,1203,1202,1201,1200,1199,1198,1197,1196,1195,1194,1193,1192,1191,1190,1189,1188,1187,1186,1185,1184,1183,1182,1181,1180,1179,1178,1177,1176,1175,1174,1173,1172,1171,1170,1169,1168,1167,1166,1165,1164,1163,1162,1161,1160,1159,1158,1157,1156,1155,1154,1153,1152,1151,1150,1149,1148,1147,1146,1145,1144,1143,1142,1141,1140,1139,1138,1137,1136,1135,1134,1133,1132,1131,1130,1129,1128,1127,1126,1125,1124,1123,1122,1121,1120,1119,1118,1117,1116,1115,1114,1113,1112,1111,1110,1109,1108,1107,1106,1105,1104,1103,1102,1101,1100,1099,1098,1097,1096,1095,1094,1093,1092,1091,1090,1089,1088,1087,1086,1085,1084,1083,1082,1081,1080,1079,1078,1077,1076,1075,1074,1073,1072,1071,1070,1069,1068,1067,1066,1065,1064,1063,1062,1061,1060,1059,1058,1057,1056,1055,1054,1053,1052,1051,1050,1049,1048,1047,1046,1045,1044,1043,1042,1041,1040,1039,1038,1037,1036,1035,1034,1033,1032,1031,1030,1029,1028,1027,1026,1025,1024,1023,1022,1021,1020,1019,1018,1017,1016,1015,1014,1013,1012,1011,1010,1009,1008,1007,1006,1005,1004,1003,1002,1001,1000,999,998,997,996,995,994,993,992,991,990,989,988,987,986,985,984,983,982,981,980,979,978,977,976,975,974,973,972,971,970,969,968,967,966,965,964,963,962,961,960,959,958,957,956,955,954,953,952,951,950,949,948,947,946,945,944,943,942,941,940,939,938,937,936,935,934,933,932,931,930,929,928,927,926,925,924,923,922,921,920,919,918,917,916,915,914,913,912,911,910,909,908,907,906,905,904,903,902,901,900,899,898,897,896,895,894,893,892,891,890,889,888,887,886,885,884,883,882,881,880,879,878,877,876,875,874,873,872,871,870,869,868,867,866,865,864,863,862,861,860,859,858,857,856,855,854,853,852,851,850,849,848,847,846,845,844,843,842,841,840,839,838,837,836,835,834,833,832,831,830,829,828,827,826,825,824,823,822,821,820,819,818,817,816,815,814,813,812,811,810,809,808,807,806,805,804,803,802,801,800,799,798,797,796,795,794,793,792,791,790,789,788,787,786,785,784,783,782,781,780,779,778,777,776,775,774,773,772,771,770,769,768,767,766,765,764,763,762,761,760,759,758,757,756,755,754,753,752,751,750,749,748,747,746,745,744,743,742,741,740,739,738,737,736,735,734,733,732,731,730,729,728,727,726,725,724,723,722,721,720,719,718,717,716,715,714,713,712,711,710,709,708,707,706,705,704,703,702,701,700,699,698,697,696,695,694,693,692,691,690,689,688,687,686,685,684,683,682,681,680,679,678,677,676,675,674,673,672,671,670,669,668,667,666,665,664,663,662,661,660,659,658,657,656,655,654,653,652,651,650,649,648,647,646,645,644,643,642,641,640,639,638,637,636,635,634,633,632,631,630,629,628,627,626,625,624,623,622,621,620,619,618,617,616,615,614,613,612,611,610,609,608,607,606,605,604,603,602,601,600,599,598,597,596,595,594,593,592,591,590,589,588,587,586,585,584,583,582,581,580,579,578,577,576,575,574,573,572,571,570,569,568,567,566,565,564,563,562,561,560,559,558,557,556,555,554,553,552,551,550,549,548,547,546,545,544,543,542,541,540,539,538,537,536,535,534,533,532,531,530,529,528,527,526,525,524,523,522,521,520,519,518,517,516,515,514,513,512,511,510,509,508,507,506,505,504,503,502,501,500,499,498,497,496,495,494,493,492,491,490,489,488,487,486,485,484,483,482,481,480,479,478,477,476,475,474,473,472,471,470,469,468,467,466,465,464,463,462,461,460,459,458,457,456,455,454,453,452,451,450,449,448,447,446,445,444,443,442,441,440,439,438,437,436,435,434,433,432,431,430,429,428,427,426,425,424,423,422,421,420,419,418,417,416,415,414,413,412,411,410,409,408,407,406,405,404,403,402,401,400,399,398,397,396,395,394,393,392,391,390,389,388,387,386,385,384,383,382,381,380,379,378,377,376,375,374,373,372,371,370,369,368,367,366,365,364,363,362,361,360,359,358,357,356,355,354,353,352,351,350,349,348,347,346,345,344,343,342,341,340,339,338,337,336,335,334,333,332,331,330,329,328,327,326,325,324,323,322,321,320,319,318,317,316,315,314,313,312,311,310,309,308,307,306,305,304,303,302,301,300,299,298,297,296,295,294,293,292,291,290,289,288,287,286,285,284,283,282,281,280,279,278,277,276,275,274,273,272,271,270,269,268,267,266,265,264,263,262,261,260,259,258,257,256,255,254,253,252,251,250,249,248,247,246,245,244,243,242,241,240,239,238,237,236,235,234,233,232,231,230,229,228,227,226,225,224,223,222,221,220,219,218,217,216,215,214,213,212,211,210,209,208,207,206,205,204,203,202,201,200,199,198,197,196,195,194,193,192,191,190,189,188,187,186,185,184,183,182,181,180,179,178,177,176,175,174,173,172,171,170,169,168,167,166,165,164,163,162,161,160,159,158,157,156,155,154,153,152,151,150,149,148,147,146,145,144,143,142,141,140,139,138,137,136,135,134,133,132,131,130,129,128,127,126,125,124,123,122,121,120,119,118,117,116,115,114,113,112,111,110,109,108,107,106,105,104,103,102,101,100,99,98,97,96,95,94,93,92,91,90,89,88,87,86,85,84,83,82,81,80,79,78,77,76,75,74,73,72,71,70,69,68,67,66,65,64,63,62,61,60,59,58,57,56,55,54,53,52,51,50,49,48,47,46,45,44,43,42,41,40,39,38,37,36,35,34,33,32,31,30,29,28,27,26,25,24,23,22,21,20,19,18,17,16,15,14,13,12,11,10,9,8,7,6,5,4,3,2,1]\n",
    "maxArea(height)"
   ]
  },
  {
   "cell_type": "markdown",
   "id": "61ee9891",
   "metadata": {},
   "source": [
    "### 20210831 <a id='153'></a>\n",
    "<strong> 153. Find Minimum in Rotated Sorted Array</strong>\n",
    "\n",
    "Suppose an array of length n sorted in ascending order is rotated between 1 and n times. For example, the array nums = \n",
    "\n",
    "[0,1,2,4,5,6,7] might become:\n",
    "\n",
    "[4,5,6,7,0,1,2] if it was rotated 4 times.\n",
    "\n",
    "[0,1,2,4,5,6,7] if it was rotated 7 times.\n",
    "\n",
    "Notice that rotating an array [a[0], a[1], a[2], ..., a[n-1]] 1 time results in the array [a[n-1], a[0], a[1], a[2], ..., a[n-2]].\n",
    "\n",
    "Given the sorted rotated array nums of unique elements, return the minimum element of this array.\n",
    "\n",
    "You must write an algorithm that runs in O(log n) time."
   ]
  },
  {
   "cell_type": "code",
   "execution_count": null,
   "id": "0b63d94e",
   "metadata": {},
   "outputs": [],
   "source": [
    "#single pointer finding from beginning\n",
    "def findMin(nums):\n",
    "    previous = nums[0]\n",
    "    \n",
    "    for i in range(len(nums)):\n",
    "        if nums[i] >= previous:\n",
    "            previous = nums[i]\n",
    "        else:\n",
    "            return nums[i]\n",
    "    \n",
    "    return nums[0]"
   ]
  },
  {
   "cell_type": "code",
   "execution_count": null,
   "id": "454ad454",
   "metadata": {},
   "outputs": [],
   "source": [
    "#binary search\n",
    "def findMin(nums):\n",
    "    if len(nums) == 1:\n",
    "        return nums[0]\n",
    "    \n",
    "    left = 0\n",
    "    right = len(nums) - 1\n",
    "    if nums[left] <= nums[right]:\n",
    "        return nums[left]\n",
    "    while left <= right:\n",
    "        mid = int(left + (right - left)/2)\n",
    "        \n",
    "        if nums[mid] > nums[mid+1]:\n",
    "            return nums[mid+1]\n",
    "        \n",
    "        if nums[mid] < nums[mid-1]:\n",
    "            return nums[mid]\n",
    "        \n",
    "        if nums[mid] >= nums[0]:\n",
    "            left = mid + 1\n",
    "        else:\n",
    "            right = mid - 1"
   ]
  },
  {
   "cell_type": "code",
   "execution_count": null,
   "id": "e3772894",
   "metadata": {},
   "outputs": [],
   "source": [
    "nums = [3,4,5,1,2]\n",
    "findMin(nums)"
   ]
  },
  {
   "cell_type": "code",
   "execution_count": null,
   "id": "881aa574",
   "metadata": {},
   "outputs": [],
   "source": [
    "nums = [4,5,6,7,0,1,2]\n",
    "findMin(nums)"
   ]
  },
  {
   "cell_type": "code",
   "execution_count": null,
   "id": "75db7a62",
   "metadata": {},
   "outputs": [],
   "source": [
    "nums = [11,13,15,17]\n",
    "findMin(nums)"
   ]
  },
  {
   "cell_type": "markdown",
   "id": "dbda5546",
   "metadata": {},
   "source": [
    "### 20210831<a id='12'></a>\n",
    "<strong> 12. Integer to Roman</strong>\n",
    "\n",
    "Roman numerals are represented by seven different symbols: I, V, X, L, C, D and M.\n",
    "\n",
    "| Symbol      | Description |\n",
    "| ----------- | ----------- |\n",
    "| I | 1       |\n",
    "| V | 5       |\n",
    "| X | 10       |\n",
    "| L | 50       |\n",
    "| C | 100       |\n",
    "| D | 500       |\n",
    "| M | 1000       |\n",
    "\n",
    "For example, 2 is written as II in Roman numeral, just two one's added together. 12 is written as XII, which is simply X + II. The number 27 is written as XXVII, which is XX + V + II.\n",
    "\n",
    "Roman numerals are usually written largest to smallest from left to right. However, the numeral for four is not IIII. Instead, the number four is written as IV. Because the one is before the five we subtract it making four. The same principle applies to the number nine, which is written as IX. There are six instances where subtraction is used:\n",
    "\n",
    "- I can be placed before V (5) and X (10) to make 4 and 9. \n",
    "\n",
    "- X can be placed before L (50) and C (100) to make 40 and 90. \n",
    "\n",
    "- C can be placed before D (500) and M (1000) to make 400 and 900.\n",
    "\n",
    "Given an integer, convert it to a roman numeral."
   ]
  },
  {
   "cell_type": "code",
   "execution_count": null,
   "id": "409057e0",
   "metadata": {},
   "outputs": [],
   "source": [
    "#list implementation\n",
    "def intToRoman(num):\n",
    "    divder = [1000, 900, 500, 400, 100, 90, 50, 40, 10, 9, 5, 4, 1]\n",
    "    roman = ['M', 'CM', 'D', 'CD', 'C', 'XC', 'L', 'XL', 'X', 'IX', 'V', 'IV', 'I']\n",
    "    \n",
    "    i = 0\n",
    "    target = num\n",
    "    letter = ''\n",
    "    \n",
    "    while i < len(divder):\n",
    "        if target < divder[i]:\n",
    "            i += 1\n",
    "        else:\n",
    "            target -= divder[i]\n",
    "            letter += roman[i]\n",
    "            \n",
    "    return letter"
   ]
  },
  {
   "cell_type": "code",
   "execution_count": null,
   "id": "26dafea3",
   "metadata": {},
   "outputs": [],
   "source": [
    "#dict implementation\n",
    "def intToRoman(num):\n",
    "    divder = {1000:'M', 900:'CM', 500:'D', 400:'CD', 100:'C', 90:'XC', 50:'L', 40:'XL', 10:'X', 9:'IX', 5:'V', 4:'IV', 1:'I'}\n",
    "    letter = ''\n",
    "    \n",
    "    for v,l in divder.items():\n",
    "        while num >= v:\n",
    "            num -= v\n",
    "            letter += l\n",
    "    \n",
    "    return letter"
   ]
  },
  {
   "cell_type": "code",
   "execution_count": null,
   "id": "17c6c7b2",
   "metadata": {},
   "outputs": [],
   "source": [
    "divder = {1000:'M', 900:'CM', 500:'D', 400:'CD', 100:'C', 90:'XC', 50:'L', 40:'XL', 10:'X', 9:'IX', 5:'V', 4:'IV', 1:'I'}\n",
    "[a for a in divder.values()]"
   ]
  },
  {
   "cell_type": "code",
   "execution_count": null,
   "id": "545cfd45",
   "metadata": {},
   "outputs": [],
   "source": [
    "num = 3\n",
    "intToRoman(num)"
   ]
  },
  {
   "cell_type": "code",
   "execution_count": null,
   "id": "18bb8a4c",
   "metadata": {},
   "outputs": [],
   "source": [
    "num = 4\n",
    "intToRoman(num)"
   ]
  },
  {
   "cell_type": "code",
   "execution_count": null,
   "id": "221fb704",
   "metadata": {},
   "outputs": [],
   "source": [
    "num = 9\n",
    "intToRoman(num)"
   ]
  },
  {
   "cell_type": "code",
   "execution_count": null,
   "id": "413e3809",
   "metadata": {},
   "outputs": [],
   "source": [
    "num = 58\n",
    "intToRoman(num)"
   ]
  },
  {
   "cell_type": "code",
   "execution_count": null,
   "id": "8027daa7",
   "metadata": {},
   "outputs": [],
   "source": [
    "num = 3899\n",
    "intToRoman(num)"
   ]
  },
  {
   "cell_type": "markdown",
   "id": "fc294b2a",
   "metadata": {},
   "source": [
    "### 20210831<a id='13'></a>\n",
    "<strong> 13. Roman to Integer</strong>\n",
    "\n",
    "Roman numerals are represented by seven different symbols: I, V, X, L, C, D and M.\n",
    "\n",
    "| Symbol      | Description |\n",
    "| ----------- | ----------- |\n",
    "| I | 1       |\n",
    "| V | 5       |\n",
    "| X | 10       |\n",
    "| L | 50       |\n",
    "| C | 100       |\n",
    "| D | 500       |\n",
    "| M | 1000       |\n",
    "\n",
    "For example, 2 is written as II in Roman numeral, just two one's added together. 12 is written as XII, which is simply X + II. The number 27 is written as XXVII, which is XX + V + II.\n",
    "\n",
    "Roman numerals are usually written largest to smallest from left to right. However, the numeral for four is not IIII. Instead, the number four is written as IV. Because the one is before the five we subtract it making four. The same principle applies to the number nine, which is written as IX. There are six instances where subtraction is used:\n",
    "\n",
    "- I can be placed before V (5) and X (10) to make 4 and 9. \n",
    "\n",
    "- X can be placed before L (50) and C (100) to make 40 and 90. \n",
    "\n",
    "- C can be placed before D (500) and M (1000) to make 400 and 900.\n",
    "\n",
    "Given a roman numeral, convert it to an integer."
   ]
  },
  {
   "cell_type": "code",
   "execution_count": null,
   "id": "88e3cb82",
   "metadata": {},
   "outputs": [],
   "source": [
    "def romanToInt(s):\n",
    "    single = {'M': 1000, 'D': 500, 'C': 100, 'L': 50, 'X': 10, 'V': 5, 'I': 1}\n",
    "    double = {'CM': 900, 'CD': 400, 'XC': 90, 'XL': 40, 'IX': 9, 'IV': 4}\n",
    "    num = 0\n",
    "    \n",
    "    i = 0\n",
    "    while i < len(s):\n",
    "        if s[i:i+2] in double:\n",
    "            num += double[s[i:i+2]]\n",
    "            i += 2\n",
    "        else:\n",
    "            num += single[s[i]]\n",
    "            i += 1\n",
    "    \n",
    "    return num"
   ]
  },
  {
   "cell_type": "code",
   "execution_count": null,
   "id": "fbbb0c80",
   "metadata": {},
   "outputs": [],
   "source": [
    "divder = [1000, 900, 500, 400, 100, 90, 50, 40, 10, 9, 5, 4, 1]\n",
    "roman = ['M', 'CM', 'D', 'CD', 'C', 'XC', 'L', 'XL', 'X', 'IX', 'V', 'IV', 'I']\n",
    "x = [roman.index(a) for a in roman if len(a) == 1]\n",
    "[divder[a] for a in x]"
   ]
  },
  {
   "cell_type": "code",
   "execution_count": null,
   "id": "66e99c28",
   "metadata": {},
   "outputs": [],
   "source": [
    "single = ['M', 'D', 'C', 'L', 'X', 'V', 'I']\n",
    "single_n = [1000, 500, 100, 50, 10, 5, 1]\n",
    "double = ['CM', 'CD', 'XC', 'XL', 'IX', 'IV']\n",
    "double_n = [900, 400, 90, 40, 9, 4]\n",
    "single_dict = {a:b for a,b in zip(single,single_n)}\n",
    "double_dict = {a:b for a,b in zip(double,double_n)}\n",
    "single_dict,double_dict"
   ]
  },
  {
   "cell_type": "code",
   "execution_count": null,
   "id": "8a1f1dfa",
   "metadata": {},
   "outputs": [],
   "source": [
    "s = \"D\"\n",
    "romanToInt(s)"
   ]
  },
  {
   "cell_type": "code",
   "execution_count": null,
   "id": "1129d681",
   "metadata": {},
   "outputs": [],
   "source": [
    "s = \"III\"\n",
    "romanToInt(s)"
   ]
  },
  {
   "cell_type": "code",
   "execution_count": null,
   "id": "d04b400c",
   "metadata": {},
   "outputs": [],
   "source": [
    "s = \"LVIII\"\n",
    "romanToInt(s)"
   ]
  },
  {
   "cell_type": "code",
   "execution_count": null,
   "id": "063e0444",
   "metadata": {},
   "outputs": [],
   "source": [
    "s = \"MCMXCIV\"\n",
    "romanToInt(s)"
   ]
  },
  {
   "cell_type": "markdown",
   "id": "1d16fe5d",
   "metadata": {},
   "source": [
    "### 20210901<a id='565'></a>\n",
    "<strong> 565. Array Nesting</strong>\n",
    "\n",
    "You are given an integer array nums of length n where nums is a permutation of the numbers in the range [0, n - 1].\n",
    "\n",
    "You should build a set s[k] = {nums[k], nums[nums[k]], nums[nums[nums[k]]], ... } subjected to the following rule:\n",
    "\n",
    "- The first element in s[k] starts with the selection of the element nums[k] of index = k.\n",
    "- The next element in s[k] should be nums[nums[k]], and then nums[nums[nums[k]]], and so on.\n",
    "- We stop adding right before a duplicate element occurs in s[k].\n",
    "\n",
    "Return the longest length of a set s[k]."
   ]
  },
  {
   "cell_type": "code",
   "execution_count": null,
   "id": "2ae4fe84",
   "metadata": {},
   "outputs": [],
   "source": [
    "#for the ones are visit, dont need to check again\n",
    "#use list past to track all the values that went through\n",
    "#use list nest to track all the value is going through in each loop\n",
    "def arrayNesting(nums):\n",
    "\n",
    "    past = []\n",
    "    max_length = 0\n",
    "\n",
    "    for i in range(len(nums)):\n",
    "        cur = nums[i]\n",
    "        if cur not in past:\n",
    "            nest = []\n",
    "            while cur not in nest:\n",
    "                past.append(cur)\n",
    "                nest.append(cur)\n",
    "                cur = nums[cur]\n",
    "            max_length = max(max_length, len(nest))\n",
    "        if len(past) == len(nums):\n",
    "            break\n",
    "\n",
    "    return max_length\n",
    "        "
   ]
  },
  {
   "cell_type": "code",
   "execution_count": null,
   "id": "8fbfdc1c",
   "metadata": {},
   "outputs": [],
   "source": [
    "#better with past as a list the check the index went through\n",
    "#use list nest to track all the value is going through in each loop\n",
    "def arrayNesting(nums):\n",
    "    past = [False for i in range(len(nums))]\n",
    "    max_length = 0\n",
    "    \n",
    "    for i in range(len(nums)):\n",
    "        if not past[i]:\n",
    "            cur = nums[i]\n",
    "            nest = []\n",
    "            while cur not in nest:\n",
    "                past[cur] = True\n",
    "                nest.append(cur)\n",
    "                cur = nums[cur]\n",
    "            max_length = max(max_length, len(nest))\n",
    "    \n",
    "    return max_length"
   ]
  },
  {
   "cell_type": "code",
   "execution_count": null,
   "id": "5fd65a15",
   "metadata": {},
   "outputs": [],
   "source": [
    "#best\n",
    "#since it would always travel to the number where is start, no need list nest to track for the while condition\n",
    "def arrayNesting(nums):\n",
    "    past = [False for i in range(len(nums))]\n",
    "    max_length = 0\n",
    "    \n",
    "    for i in range(len(nums)):\n",
    "        if not past[i]:\n",
    "            cur = nums[nums[i]]\n",
    "            count = 1\n",
    "            while cur != nums[i]:\n",
    "                past[cur] = True\n",
    "                count += 1\n",
    "                cur = nums[cur]\n",
    "            max_length = max(max_length, count)\n",
    "    \n",
    "    return max_length"
   ]
  },
  {
   "cell_type": "code",
   "execution_count": null,
   "id": "a80d06c6",
   "metadata": {},
   "outputs": [],
   "source": [
    "nums = [5,4,0,3,1,6,2]\n",
    "%time arrayNesting(nums)"
   ]
  },
  {
   "cell_type": "code",
   "execution_count": null,
   "id": "48250a3d",
   "metadata": {},
   "outputs": [],
   "source": [
    "nums = [0,1,2]\n",
    "arrayNesting(nums)"
   ]
  },
  {
   "cell_type": "code",
   "execution_count": null,
   "id": "bf799f6e",
   "metadata": {},
   "outputs": [],
   "source": [
    "nums = [6529,4295,2682,12158,10662,6945,1740,16727,11574,15130,6186,9422,3850,11668,13422,5385,4686,478,9976,1936,18180,19050,3706,15794,6320,5630,14722,11308,19705,15038,15716,17765,16026,3466,8055,18857,11973,17929,11333,11801,16605,14345,16479,10448,58,13910,8913,4486,10208,19323,2550,12950,2337,9641,7972,2511,19652,5467,10445,11238,8749,6599,10142,12449,19981,4488,16117,5588,2172,16109,10177,7392,10234,3879,7729,17107,16826,11636,13410,8520,1122,16634,16355,15426,59,2214,10799,8098,2264,13574,15079,3513,2094,10333,10506,11017,12968,19654,18724,19932,13831,2777,7362,1397,18658,1588,3563,19167,11091,14403,12644,8430,5724,9631,19304,2310,4155,1324,14620,1763,15169,17294,11330,11032,4101,4648,16927,8666,1749,16808,19505,7122,2869,17150,11927,14485,437,2393,15114,17896,7861,453,9207,16559,11764,4195,4908,14461,18949,1502,7336,1681,15191,639,18095,17330,2706,14568,2367,17842,8672,8242,14481,519,1366,18776,15758,4664,18028,16178,7897,13405,14428,1846,724,8594,15401,1682,9992,10599,10165,19685,3829,1612,2158,3084,16807,5970,4313,13296,3883,6848,7404,17467,16501,18517,729,4634,149,3017,8385,4299,7420,12323,8944,314,15369,672,12291,7205,7012,6466,6212,16289,2983,12247,10751,6271,18897,783,8401,9581,11799,7871,13906,18887,11106,6839,6086,14599,15485,1637,9840,16167,13654,17162,6000,15140,2317,15883,2680,17463,6952,8803,6350,7148,15142,4987,308,12782,12395,18363,18565,1820,4950,8929,19327,13577,17040,5111,4536,17690,12283,15189,18851,3235,10038,15653,14164,3362,2124,1334,17279,15722,16619,17497,15711,16214,12350,9982,19362,5646,14623,18133,17218,8683,8061,17284,9177,10616,8102,19108,10481,19027,14504,12473,3486,2099,16674,4705,4883,9055,4965,5523,18784,19512,11405,1476,14392,3447,6144,7054,12369,16792,2253,4309,4516,19203,733,11644,7210,17437,1103,6761,5689,2864,19133,874,9927,7250,4341,10425,4076,17390,19149,12465,12213,15068,945,3068,4946,5339,253,12650,5,17563,7657,5092,13702,2202,6766,10503,10699,7519,13084,4403,1561,7854,18118,13304,1932,5696,15848,17109,19154,14251,2582,8634,11241,653,8413,10243,5375,6665,3456,5708,15094,8332,15373,8949,6481,18858,12042,9786,3382,18003,14201,12820,7840,12278,5985,2578,2736,7380,3232,1818,18232,19214,2999,196,3380,19934,17924,10598,14638,17846,15819,5051,197,18772,1814,1619,16851,5390,19521,16313,4610,9087,19871,2989,9151,13285,10170,6794,12759,17000,1503,15798,12503,10748,2366,14234,17771,3866,17275,7669,9029,4593,16840,13519,1474,1302,3617,10875,5650,7098,16457,13759,1677,17586,6723,208,686,13068,2794,11842,11518,17883,9822,18801,14200,4777,10943,17408,9004,8792,11623,11242,4180,11903,18228,9188,10835,13925,13171,4765,7553,484,4183,5093,4310,3904,12631,16820,6457,14313,8478,19067,814,5507,4241,5179,2361,8462,7988,12458,8669,17897,18214,10468,19299,19708,18954,13974,4067,18446,9877,10902,5229,16691,8053,8251,2870,17525,5328,4698,2641,13200,19625,2003,2852,4901,13876,10876,2176,7316,16550,15730,3185,6934,1941,112,11805,12936,5873,19768,10632,4988,16097,5542,19719,8579,15523,11796,19535,1621,8918,5667,6230,16516,12311,7968,8618,11888,14354,1685,5060,14627,5636,10484,15717,10568,6954,6893,7705,6871,16108,5815,1022,6279,3261,10758,13692,1942,12976,7484,17805,6143,14721,6475,17356,11936,11433,9658,6688,7938,1220,13915,9795,8121,12324,17891,13789,12861,17521,3957,12605,18054,1212,7592,9920,1276,18642,18100,5854,9870,736,7230,5285,19615,5901,5007,12265,1447,3076,5747,4681,3903,12679,5684,985,7623,15857,14196,5168,12748,567,13817,19807,14434,8963,40,13012,10068,8050,17146,933,13468,11599,2023,5201,4398,9585,19531,8743,8492,10666,321,18082,6669,3542,5796,11352,14171,10309,19529,1828,10368,5182,9876,13569,8837,1859,6795,15458,17241,11923,5844,11655,12180,209,17825,13776,13363,9760,12938,1987,11661,17229,8638,12453,12344,7474,9378,13936,18819,4228,8586,10030,14261,6431,10866,5297,5014,9650,10804,19997,1835,16855,13780,17088,11045,16236,2941,14293,1874,4114,6633,1348,9381,12296,14712,19369,9669,2962,13322,8002,11836,12557,17178,3112,8037,13695,6937,762,5125,19173,4617,16504,17124,9516,17430,13175,8968,11868,12159,1780,5734,1452,10718,5392,2251,1274,1924,5095,7613,14928,3102,15186,19007,18697,5389,5821,19432,10941,8419,10905,12459,6750,3036,17759,12263,12268,817,12831,15454,7770,5110,8996,222,7327,19080,9402,4546,4321,2594,6832,3721,15393,7815,4818,7193,12217,12401,19737,7113,10048,2364,5776,15502,10698,961,17841,6002,16170,4708,13806,2890,17650,10783,15203,4111,15630,9609,3802,6961,8604,19112,15028,820,19876,7768,6511,6950,14750,7799,5406,536,6376,3351,9330,17990,1063,18065,14555,9768,18641,2059,2449,10064,3862,12874,15514,14245,2080,3549,3281,9277,10124,13470,602,11758,17530,3808,11506,4274,18587,4394,6208,4996,7935,10496,8073,6452,4962,1335,7962,17636,11977,16078,17898,7234,11396,17251,3379,1993,16781,12055,4272,19816,18645,4498,17026,12506,330,7300,13575,19641,8665,18750,12817,15355,477,1313,7816,7537,14168,15782,13761,13298,1798,7061,15345,7715,5192,18637,16288,15601,433,9250,5972,11980,6640,13250,14925,11649,11178,12439,7328,15642,4020,5896,228,16339,15908,8746,17490,1999,9045,7191,19194,11040,4014,19650,17496,13265,9796,10393,11773,160,5411,13929,17655,561,3279,62,17731,1732,9856,5739,15158,10583,11797,12114,7924,6967,1938,11489,9042,548,16203,18580,8602,8185,11314,7182,1330,1680,19967,4070,226,496,17237,16027,15459,17605,17455,12119,11848,17959,13336,19393,12414,19700,11549,19229,17776,4677,237,4325,14478,13006,4685,8230,3210,19837,18960,11046,4995,16432,3414,11913,9626,10930,8831,11216,16809,381,3268,6185,3885,2973,572,9119,9304,4151,15922,19073,18342,11741,15298,2044,9196,19472,9487,9648,10859,195,18604,318,5516,17700,7600,8894,13869,3718,2119,14512,9014,19682,2803,14453,7083,7450,9009,5553,15965,12260,5483,6664,19159,10873,538,18939,4319,6363,10301,1879,17865,18394,11505,4307,8537,3982,19649,6213,10055,4514,13060,17495,1911,11268,19311,16788,3494,4080,16414,12115,310,6476,18062,17819,11861,12993,5394,14122,12895,13009,6771,9722,7477,940,13472,15893,2798,5393,9058,14378,13149,15145,6648,6581,7442,17678,9524,13141,2576,10205,16296,13917,16898,16566,5742,3475,11073,282,829,12376,15388,13381,18999,16271,4582,3400,7184,9620,17410,5914,8731,11078,19102,12333,3416,1265,2724,2631,17491,14980,19424,19784,8898,8052,13271,12995,18426,19392,3672,16754,10883,4637,9694,1550,1537,10717,19283,17696,3646,15199,19746,16588,13589,18831,42,10016,5540,4868,17346,4699,17613,728,9847,1090,3436,14037,19688,17892,6836,17991,18461,135,10355,117,8388,18317,15281,2135,4861,119,9763,6976,19782,19749,16275,6190,2409,5753,16263,18681,19892,5533,2669,7103,9236,5574,13685,16416,4624,6016,13590,19777,3119,335,15983,4221,16488,2585,16929,888,10244,18860,7227,13163,4176,18615,12379,3229,6613,7363,14976,17272,3820,16286,9143,18207,8222,2604,5133,12880,8355,7156,1140,9153,6399,11628,18975,2102,1587,14592,16229,4885,5539,2270,14792,18320,16440,18620,16849,11890,11792,8434,7402,14995,16679,7794,13703,5773,5863,1566,18356,11651,11720,12977,4970,16937,5771,4253,8031,12952,3809,14889,7479,13651,1613,3189,7631,9187,19571,4104,7829,12262,15676,19774,14781,14085,3796,17515,6072,17694,11631,13384,11965,1137,4493,4949,10457,18644,6752,17285,6735,17575,11559,11482,3503,11691,10910,2142,89,12985,13411,412,12738,14852,9240,13105,17182,7605,3174,4415,3389,17668,2981,6078,9096,15025,351,11210,1472,15059,14077,10944,5002,14024,258,12004,12978,6756,12683,9727,9441,172,16631,1505,12514,15823,11058,5429,3163,6275,18997,4784,19733,19829,16531,16648,9105,11901,1451,1263,4851,2258,19943,1507,921,15220,4573,7295,7237,13236,7469,17439,9444,12007,11957,15244,9081,18893,13387,6489,118,2477,14589,19767,13268,14316,4636,2709,223,2746,5801,17918,11996,12468,15287,2169,9765,11226,1946,7894,12008,3024,12443,12322,2025,1283,7512,10369,3888,8821,8137,13973,12192,10838,7273,3717,2749,5977,12835,12309,1611,10115,233,13976,19722,9733,17866,3062,12573,18019,14773,13134,3253,5857,15256,2470,10097,4924,14360,4019,7086,8681,14264,3103,9095,16558,984,3006,9205,16512,3126,8892,4414,16058,10615,936,12539,11971,7708,6321,9345,4458,13181,356,7510,16729,11284,10731,19136,15030,13221,5884,15918,11838,3565,16858,19244,7381,9866,19656,10146,10533,12332,13483,10279,1562,454,3520,5102,14135,16764,13073,5869,6646,15666,5277,19274,18741,206,8942,16047,13741,2808,18477,12603,2255,13631,6117,15050,13176,268,9895,19919,9741,3285,7102,12035,16615,2569,18107,14860,10714,6456,11119,15332,5226,4505,11003,8416,429,18390,12624,3572,12922,9916,16664,7159,14123,13979,2283,5304,4095,16280,8735,4145,6673,15905,17988,12911,5001,18828,6550,4805,14233,13166,8120,9893,8463,11588,7610,11643,7659,16482,1752,6572,10526,12969,6608,16068,9436,6590,16268,10786,2626,10499,13237,16737,19098,15156,17033,15707,1769,1518,4975,9543,18757,6657,6631,18205,344,13640,19135,16197,16687,18676,4674,7397,19128,9407,2204,18965,19123,2377,19186,19619,9235,14895,2615,15880,11111,5905,4162,4285,12124,16576,14150,2125,3248,5191,5473,18215,7900,423,14681,14945,10980,12536,18297,10874,10071,11373,17276,3141,2821,2586,17920,13008,315,4093,12712,9588,6092,3661,907,13943,15608,8380,7271,7483,5767,5245,12549,3091,17637,4742,18503,2575,1445,9060,4044,8263,13581,14072,2520,1914,12919,3794,14693,6240,14043,8012,19821,6310,17818,12850,18304,15682,3480,1405,11320,13458,232,15612,8373,4072,2091,6895,1654,5793,2013,7818,9701,19982,19266,5401,14083,14121,18778,16818,6413,12729,11259,15929,5490,13424,4217,2521,3460,7286,16804,12575,6710,5617,8889,8574,19581,541,2928,9930,8223,18774,10139,10916,4279,19662,6199,19765,15647,13902,614,16342,803,3183,3749,10482,14438,16021,19973,9460,14922,1142,1786,13493,10683,17027,10161,5071,3271,6606,6449,6885,4184,5612,17895,18455,13927,4263,5924,5381,4835,3968,17982,10147,13665,16101,5020,12981,6970,6170,2027,1684,9878,16435,6557,11423,15097,11348,748,15263,12783,9435,15471,4406,9705,9583,12330,14398,6757,1443,16935,15163,3517,11956,19378,183,345,14766,10462,13449,16871,6219,13747,9595,4454,7080,9915,6793,4751,2245,16701,10625,17257,3159,8510,8852,6352,13811,1549,14124,6384,13641,3491,3702,8397,9184,14734,3822,19985,4187,6079,18168,16860,9689,16738,12825,8482,544,13022,7917,18014,16403,8331,11711,10023,279,8987,6093,16154,16557,13527,7810,5941,19492,5346,5301,18767,269,8607,7388,5727,4054,9116,4018,6811,3470,15482,11545,10277,4213,16635,408,1733,19776,15797,9812,14154,5700,16161,4468,10947,2339,5134,13727,7773,7248,17342,19234,2655,10460,7755,4342,10560,13426,12953,18264,13572,16315,4712,5364,4052,4489,18115,18387,19002,16083,1365,5583,8563,7528,4789,15253,11054,4956,9710,7751,18553,12273,6313,7994,1812,18287,19368,3209,14806,10992,8152,14269,14653,7674,1887,6099,19290,1144,10605,12252,7348,5593,1905,7825,8049,2914,5520,17743,4293,1510,16506,18698,6356,9549,13576,18415,1296,3849,14843,12205,3280,8545,7884,8663,13013,8589,1355,13666,9398,1707,19081,5101,526,9662,17177,13952,13718,13170,18646,3951,2498,18323,14335,14985,15637,5798,4816,11542,6149,16798,2616,3430,18932,7137,894,2297,1558,5314,5517,4242,4430,9834,10323,5261,13606,3308,11143,5471,16084,14622,14741,18783,13059,12700,12235,13744,12562,19775,15368,2435,3402,14988,2936,13478,550,2299,9052,15509,19562,2398,12802,2963,9016,13306,7478,5367,16982,551,1408,969,19528,10817,16663,2581,9575,19122,15593,3532,5978,14217,3790,5434,8630,7132,3947,19271,11160,13720,19061,18261,5108,17123,4616,9295,14365,8953,4472,6454,18713,19374,16498,18136,19875,3949,19936,17426,1219,11098,15270,10507,492,17671,6160,1407,15924,270,4002,10769,14949,11381,18262,9108,9646,15137,2011,7615,19421,8730,4732,2853,12749,16611,13101,10573,6255,2208,2715,2246,14100,2726,2144,16677,7401,10991,14270,11603,10450,8315,5478,18409,19945,15976,1367,19990,6799,2350,14161,19089,15215,17200,7539,5581,18413,12096,16996,18480,19585,12239,12190,13661,3250,16400,2933,4373,11217,13243,417,14745,15573,7358,10767,12226,13448,16160,5988,3072,1431,18298,14608,5870,19751,13852,17669,5156,13599,3936,13538,15413,1697,18114,19475,14647,2649,6695,18546,15909,14950,2287,19036,8486,5351,11264,16696,13653,19681,12643,3366,5843,8600,7545,16391,19906,1375,18942,6034,6485,18436,15865,14674,17465,3277,9859,8540,5013,19653,8644,14017,10214,2938,17144,8626,2624,939,13858,18855,19511,4113,15785,16143,5421,2391,6292,10971,6617,9778,9531,14053,6412,14484,18780,637,1410,19479,14551,19174,10969,10585,4268,18218,11732,8170,763,11809,15951,17997,2719,3511,15640,16079,7020,19937,17871,10480,14838,6196,12212,17762,14334,15948,1160,7576,4364,1207,15356,1598,2536,17751,12720,1430,17925,169,18570,4281,7242,11997,18530,11185,3461,6082,16060,298,18610,10844,16317,1794,10833,19342,4964,1875,13396,6758,19799,19690,11906,10695,14588,15698,15614,16607,14262,4421,14294,1059,13990,13416,16406,9501,7324,9751,7886,6483,15769,368,18123,6338,9513,2333,17943,3025,17572,13232,18130,2751,7721,11474,11361,3433,3860,6150,5737,11541,4781,16694,4825,17056,4968,15269,151,1961,8815,2541,18496,6632,9546,13355,11902,15501,6386,9941,15282,10681,6781,12812,19764,1801,19144,216,15397,6309,9966,4040,3233,7930,16886,15561,9297,18595,19741,12792,6289,6319,1659,9539,5930,15273,16001,10702,12352,12899,1543,15654,14062,751,18034,19989,2173,4336,15822,17133,13420,5147,8304,4503,3360,10989,6484,14034,18212,13814,5196,18109,7918,6184,7532,2187,881,8544,14748,12763,7129,18563,14610,11738,16970,11444,15188,11626,11414,2280,19939,8428,9003,3864,3322,19840,14751,4259,3961,15321,14535,12103,5198,16184,10151,10664,14451,8679,80,1796,19032,17283,9220,9677,2430,5519,4951,19438,16240,15409,4163,15911,8124,9229,16612,11458,8583,16052,5535,2637,1280,3978,18396,7413,6641,7811,4062,5994,18450,16261,14367,13450,723,14157,16564,37,7138,11908,9459,12781,13375,9574,14178,14187,17601,1050,8990,14363,8835,10114,9065,5123,8328,8519,6013,19078,13172,4384,4890,4504,12740,6567,10334,1223,5129,17348,18559,11910,12714,16669,8738,19326,5492,18469,6628,11948,12368,7373,15306,17335,15248,3626,1106,11846,6177,3910,3772,8762,1788,13274,1601,2500,8691,2761,5258,18163,16345,6845,11115,10096,9120,3630,411,5665,11663,1101,14287,14684,9913,12553,12098,13868,2320,10825,3974,10407,9951,15309,11520,15574,8024,15265,13326,14229,15107,6909,18121,5867,13393,2553,10041,14763,14331,8013,5559,13139,9606,10565,11607,11954,14542,3115,19303,8280,1527,5252,12370,152,8311,12111,6494,18391,11250,4590,4533,1098,6378,18810,9905,245,11499,7655,12426,19651,17716,19721,12771,10772,3262,6743,1623,12271,17732,11354,16906,7680,13632,2863,11675,9233,12546,18524,10929,17683,10999,17562,5256,17322,2879,14632,3742,10621,9382,7844,8910,6215,15444,13397,7966,16205,1992,7272,12676,7808,732,54,2757,389,14435,18808,2868,8286,10340,5240,1986,8339,11880,1463,18093,10697,6256,246,14440,12021,918,14839,6438,5021,15461,11449,12,7476,8872,11095,16062,13031,3576,1847,12199,6800,605,8074,19168,15005,8955,14737,8811,17875,17334,2771,7589,11532,14385,3254,19803,1789,13530,8496,980,10138,5949,18146,7470,13469,10740,18206,13767,18388,14325,1931,17534,11918,2830,19579,320,6921,9863,9142,1199,16985,10006,6650,8499,3976,9039,8334,8533,11570,11504,19055,1645,8699,3161,8006,10180,2387,16366,1025,13156,4262,17210,10082,805,11734,12106,8429,11814,6323,7885,19414,17448,505,18055,10671,13561,3548,312,926,6691,2458,3069,7750,1556,9998,6764,19825,8896,7266,7595,14884,19259,6510,18744,13211,10508,14066,2506,773,5515,8071,18866,2179,14624,1948,16377,17131,11347,5214,14524,16455,12380,7396,8796,12409,18059,5267,8295,10266,11249,3349,10129,11103,9316,12097,523,13047,2145,3283,6584,2613,1713,11425,13833,1553,13972,6417,17673,2113,18483,11004,2503,8196,2748,14648,18025,9592,16352,11875,2792,4075,15141,17760,2716,3220,9282,4866,5945,2029,3029,18203,11704,17565,15886,14659,19525,731,12292,16718,9900,1129,10853,12916,19927,18357,4543,15297,14285,17677,7843,6995,9122,15746,15806,12351,4165,7629,2834,18346,16120,1147,15718,7489,10650,11594,5858,16652,11964,17503,4615,7853,14431,10479,19296,3746,10675,17006,3720,14172,10542,2753,18081,18460,5342,19870,12838,17234,155,1185,16700,11857,1368,11874,848,1802,5216,10549,3202,1837,19151,4474,19860,15658,1209,2388,90,16989,19828,18881,17911,16837,13629,4896,1639,6864,16997,6299,9077,1075,6374,1401,1603,3590,850,2380,11245,13452,13198,15204,15490,8301,16147,8758,11362,2438,6744,2386,12598,18859,5899,11516,19142,2547,3602,7616,13540,7050,3212,11295,16395,4798,18740,8818,16316,552,7702,13010,7425,1533,146,5283,3905,13162,18386,3765,11324,15325,18902,21,2695,15135,12184,14253,12054,5856,17329,6366,134,9385,12189,598,3272,4459,2605,12480,17878,1242,2580,10059,5563,13279,19209,10555,4269,12761,8470,11686,13127,13256,1767,2105,4031,14300,11120,19608,13843,4210,8557,13926,603,460,19622,3004,15398,10051,11962,18792,16876,6767,2475,753,5671,12538,18111,7690,1131,3042,5186,8150,7937,12178,14282,4567,18950,2598,1636,9970,6644,11509,11894,11783,15118,10400,14619,3215,7734,14818,10692,18753,3658,15185,14355,6437,6315,4344,16199,13499,12970,1702,4005,1815,16693,7461,17243,1244,1729,7513,2654,19898,2282,14277,4588,18549,13733,11713,14030,16683,10966,3458,3445,3703,5560,17037,5034,1028,2793,10610,12548,4640,12244,1415,16260,12646,14113,73,15671,7453,15196,9311,19643,7733,11007,15371,11718,9783,5589,18440,18148,11491,13509,8884,17138,19456,14106,7303,9104,6889,4916,11439,16628,11951,19686,1143,8664,7034,18943,16544,2634,18381,10318,5691,2665,9033,11081,11654,7495,18665,734,6488,14189,12001,9457,9974,5039,19256,13570,3509,16099,11593,3104,11043,2017,1390,15147,4779,16919,5633,18151,10291,7984,3142,6263,9152,7432,14855,6804,10009,46,616,19647,5097,19130,2324,15576,12602,10162,10840,83,2247,15370,1799,10225,13109,19975,10668,10945,2404,5336,8320,3448,5913,2147,16126,18128,15266,5616,18331,13573,11267,7203,18680,2403,3569,2340,8270,3482,19942,13230,17413,13510,1112,2092,7340,4609,9714,8068,18016,8133,9544,7661,4117,7208,4554,17706,11898,10755,13373,9019,10546,17972,2543,7999,10925,11221,18957,15839,4612,7465,9195,11110,15361,14904,3527,19279,1925,13349,18868,13524,9697,13739,6445,7535,10083,17433,9225,11154,6293,8516,596,2643,3040,19295,5232,2400,3370,4006,15516,2327,16514,12153,8592,5270,16988,16751,14114,789,1094,10931,15277,17618,10033,8274,11779,2021,10544,7786,16667,108,14655,16814,18752,3373,6956,6112,15778,15833,19804,12413,3687,3172,8394,14506,9988,2820,6717,1444,6515,9785,9417,5173,4857,11421,19309,2516,13885,3852,7780,12799,4480,19218,11606,18101,11466,8296,8123,16023,5119,14469,11909,697,5828,2909,4252,10956,8998,2298,17057,4338,8798,10350,4528,17392,5382,17884,10541,16771,7684,14675,19704,256,5963,948,11368,13360,10019,1058,8869,17117,16806,12928,19920,14417,615,2609,8902,17949,16384,4012,1376,6724,14803,18049,17995,6383,1641,5324,9729,18196,6459,18729,13436,17616,7045,4776,3599,19944,10120,15821,8717,11432,14350,14071,9767,7692,7384,12751,7064,1035,10312,13123,341,917,3303,12164,17880,3378,1426,8866,7357,18176,15772,15210,19238,3998,13610,10474,4081,17856,19867,13330,18732,15004,19211,7636,11569,11679,4541,3637,14974,3287,116,3129,1900,1962,15475,671,2478,17005,2497,1171,928,13299,12241,1078,11515,36,11022,6919,18764,4043,3452,4121,14587,17626,8444,3255,2710,11011,15506,11975,12746,16354,13535,16575,8418,17507,240,346,9593,10612,18501,7551,15464,12364,1290,1745,9023,7338,15349,14001,13495,3650,1187,14317,13196,12452,15663,14025,584,5334,6084,13602,8899,8756,17874,5146,592,16360,13548,18348,6526,7162,9317,14507,7564,11497,11034,15704,19105,10630,9041,1618,3492,12493,1318,3454,19216,2318,5618,14576,4555,12100,157,4746,12745,10379,9737,15554,12972,669,11139,276,11365,4512,17834,3776,1264,3624,12635,14613,12793,1208,13358,18190,14957,14087,14147,17148,13675,6203,4434,4096,18586,14244,10965,14227,15934,720,9453,8405,5151,3607,15513,2008,14749,13300,6687,19156,19852,4758,7114,4909,7876,8039,10703,7123,4464,16779,13327,3817,8448,16195,12596,3686,826,11254,10570,17596,5850,1132,14492,13658,4910,8357,14870,14614,10458,12274,16920,11070,2496,14553,2487,13185,5959,5407,11665,3085,6686,6322,13317,16553,18598,1919,15662,4194,9750,17703,18556,1761,5557,14832,1243,3913,7662,10633,11602,5541,6169,3347,5274,18799,7171,11590,9170,11578,11150,13847,17302,9204,7653,12015,18762,12648,8789,6316,6114,9577,19198,11016,18224,14310,14468,3079,6964,13054,10509,1877,4802,13649,6623,11786,8517,17863,7677,14634,7792,8645,5927,14821,56,14630,6879,1239,2831,7165,5764,8722,1029,17980,16877,8797,6388,8704,6907,10119,4958,12821,7172,9798,747,2221,2919,8875,7590,14565,11539,18958,3652,14777,13315,10363,18526,7783,12079,18255,17364,17070,2344,12045,16975,15780,585,3127,4553,13053,16704,2131,1195,4982,8201,16269,4806,1647,17351,2980,13376,11905,5547,3659,6589,19137,1731,10026,11298,7614,19000,17584,1824,7760,3479,8165,11009,15245,4807,4893,9994,13568,13812,4572,1453,7714,7544,9321,651,18156,12010,17326,18609,19691,9704,15788,14975,15061,6671,3733,834,13523,1593,6397,15310,7583,6198,7057,14658,17821,3033,1250,6330,12628,9268,3288,17096,11876,19220,12478,19550,2360,16393,2545,5926,4016,17824,19731,7375,16206,6482,16408,10587,9010,17576,1648,19727,5639,18412,17941,13194,13496,19552,15515,3911,3677,8319,13095,14539,16309,12284,6183,415,10577,14937,11230,3027,14120,1371,10215,19025,76,12910,14239,1701,18779,11239,11789,8581,554,16232,6273,6236,15046,12025,7322,18164,12408,4191,7504,4873,9054,1836,72,8474,11503,9012,19192,12800,8829,5499,10985,17031,2223,6626,12200,571,4948,10485,18160,13650,12537,16371,19956,18548,2078,10814,9527,17822,5361,2237,15607,2823,13217,16245,775,17923,19679,6137,8054,2232,4812,5760,15860,19039,13212,6943,5790,12747,19642,15022,14127,5504,6814,1572,6151,17201,7772,19458,13427,7543,18042,8195,10444,3105,17233,2384,11624,5089,8272,10264,19738,6573,19213,11317,7738,11055,14475,4810,1718,18086,12093,18310,16599,10906,17913,18995,10950,12377,18742,15232,9657,5637,10074,1849,18031,4672,16538,19935,4878,5462,3184,8088,5786,11344,2427,7577,18226,10777,8087,9349,17431,12703,12778,2953,12175,2945,17578,3594,14645,17660,9157,4074,9712,12682,13928,6244,7046,5316,17795,16295,15396,2570,11164,10184,12136,8840,14344,5030,10466,17593,10623,2640,9107,11068,2882,4094,16381,41,2790,11495,10237,7686,18564,14977,6975,9957,4659,9939,7759,17404,2171,5881,3710,13745,383,6554,1529,14348,587,14879,7502,8396,7053,6436,16095,9530,6439,8937,14391,456,3044,16089,19603,8547,10562,15937,15584,993,16958,8010,17319,19869,15522,16330,19444,2638,1434,16110,14795,8853,18769,11872,8647,7788,5344,1440,3655,19107,11237,14388,3920,15350,10515,9504,8750,214,11392,8305,2143,13169,14979,5605,12996,4416,9149,7127,6257,17592,5398,7581,3694,15366,8203,9818,1032,18119,12404,6205,842,18557,11234,12374,4774,10076,12336,19301,17106,10784,8961,11972,1465,10150,12196,849,7701,1674,10973,17055,14394,9209,7014,8423,212,4190,13536,15152,13700,784,5070,6910,5859,6224,2146,11949,824,15411,15316,10750,1436,9663,2679,17537,1272,7152,13042,14309,6595,19676,19086,12085,11765,9399,2108,10778,16302,12169,12390,1513,12191,13227,5946,15633,18036,8340,1797,7722,6630,10376,16689,14525,114,2148,13229,16497,15619,14427,12500,130,7981,14221,1865,7246,15935,16318,14425,14163,3021,10601,9180,6120,10761,14714,11275,10524,5482,6276,6553,7204,6501,2705,12930,4131,2694,17532,17594,16780,9049,8329,12059,13615,14119,1394,16829,1760,8614,5413,8642,9825,9541,6540,6354,13096,18245,10983,13140,13968,6277,15493,18276,19766,15295,16889,6539,8661,12451,11579,7587,17436,4837,12994,19117,8696,10523,18846,16922,2600,10556,10773,1635,14738,15449,5286,1210,7737,3643,13696,6228,9860,1096,14873,17850,291,2892,17409,12662,18916,15292,3954,11434,18885,2240,12116,18754,10087,14833,716,4383,14910,16065,4353,8967,13103,13341,9753,5803,12477,16883,12464,17417,17445,7862,14080,16945,17538,14724,1241,3830,14021,3208,6020,10477,6666,10078,11312,10976,2288,4557,10060,15138,7118,19190,11420,6997,14307,12123,17948,5200,1419,3889,16227,8560,10850,19556,6872,5600,4291,13694,15541,6053,17976,13937,2051,8182,5142,14235,4146,9952,4815,17836,12349,13704,3918,7700,19903,12582,5130,8163,17627,11116,10809,11155,16954,13732,19843,19053,5672,8209,16735,5465,7835,17800,15383,12216,16226,19160,8399,15652,17550,9996,18894,2744,13148,9068,3481,11377,14984,10872,846,5266,5882,13771,4694,18904,3391,3573,15406,10561,3169,13187,17474,11667,9573,2672,1781,17205,4726,13893,1230,12600,14518,18804,7637,17305,10249,1844,19497,14379,10062,19881,15590,4404,16183,17036,5432,11467,10247,5791,450,9636,13465,14656,14274,11052,8566,1958,7125,10463,15562,6516,1990,13711,8441,12340,15283,9203,2491,16336,19395,19001,11271,11638,17094,19848,4461,4864,19355,1488,6536,18429,126,17989,11133,17352,13356,19889,9173,17634,13918,2122,3615,6123,13985,5303,15813,9731,8277,7940,16668,6157,2711,18508,11774,954,7771,4669,12149,2461,18687,4599,16481,6538,17112,2089,2149,1310,14457,15649,10426,4345,15877,16552,14672,6704,16832,2968,4595,16790,13331,3234,3412,4744,2383,242,9294,10600,12636,17258,11634,17400,6719,16511,10295,10260,19987,8508,3570,17968,16461,358,19559,1671,3621,3242,14799,3695,6615,2292,9814,18018,15719,1805,8144,10865,10437,3989,3795,5711,16469,19538,5836,6528,7209,13026,10175,19338,16787,16671,2978,3843,12488,5239,6914,16955,11754,16314,15313,11999,14667,11488,2239,16799,18592,12893,18305,4128,16025,19398,7110,879,11265,12491,8512,19350,12619,15689,14216,10806,12006,5624,13598,10745,9008,18333,1404,16627,3043,9984,16169,3726,4983,13484,16593,16266,16323,6158,3003,17839,16795,16367,5571,19813,9616,13716,3688,12905,4477,620,9145,19324,10504,5264,19403,17059,14059,14678,5243,8378,12744,11994,15020,6014,2532,9983,10710,6068,4735,11209,6075,8940,5514,6119,12434,17907,4317,4839,3567,16752,9747,5820,3190,13111,6812,17831,7280,8569,9987,17559,17366,3529,4743,11136,9831,15803,4219,17118,11179,17718,19543,4959,6197,11641,2721,3473,16075,10431,12963,2170,1393,4507,17289,3537,17434,11886,5348,13258,19427,15241,18910,6409,10285,11257,3788,18329,1118,304,3543,10879,13829,4836,7965,19847,16909,18915,15488,8567,15670,8194,7527,11337,19085,8229,8858,8129,15950,6425,8707,10253,9015,15804,1077,19470,13645,19544,8809,11553,1867,16698,1087,15527,12261,3404,6443,2987,11529,1829,5494,12440,6153,12766,6990,10537,17654,5916,13735,4891,1054,13693,3114,17045,15997,13614,2812,11470,5175,2880,9556,9270,16353,7682,17021,8047,3329,17999,8193,15533,13542,12425,15946,2087,8773,16018,10304,9808,8040,6460,11864,19786,4598,18636,17705,18588,13956,6345,4223,18085,9219,4865,7471,19810,17223,7372,9537,10743,18080,6721,632,12315,19199,16061,13836,1643,11753,16961,2343,4921,3207,18094,8093,19701,6807,8439,7323,1076,19005,3531,1036,10070,5255,6371,10759,1286,16624,13686,12896,9623,19499,13034,10857,16655,16993,12888,19388,9742,11952,13547,234,11191,5580,14432,16622,635,18398,16012,11353,17753,6829,11646,391,11175,2482,8621,18251,3804,8952,2661,17919,3758,2358,12067,16957,3933,14943,8694,2248,2436,2494,13890,16843,6537,16321,10823,3179,9799,5331,1402,4172,9043,11200,7934,6355,6655,16478,7838,6932,6619,15170,6860,3915,4764,13726,5503,4225,9437,13454,12855,17513,19072,1262,13559,15629,7223,16008,18024,4762,12933,6395,71,15429,18241,10682,10063,4425,8183,3816,17141,19747,6790,8085,9356,12756,5433,11684,4544,14612,16427,12819,14954,18516,12298,7079,1966,16913,9171,2986,13940,12593,11090,7741,17785,4547,13324,12161,12653,13191,2814,9861,14176,3768,895,6341,7887,2564,5897,18948,6491,13864,9782,7161,14582,13168,10404,10378,11002,3623,7578,7087,19940,13768,7939,3675,13539,164,10770,11351,12962,14052,17580,18369,15375,13374,420,7377,14292,3393,1577,11005,2534,3440,1747,4045,4370,2778,17220,9222,9521,9858,15195,19887,10167,16270,15400,7278,11084,14694,11189,1559,15943,13207,10432,9730,19567,3668,5664,10520,19546,7914,13150,19508,16930,8175,17090,2300,6096,4591,17952,1045,1708,18487,12737,1898,18811,2509,19994,4710,8920,14841,4311,15705,4993,8009,19862,9942,990,10108,4116,564,2841,5311,6012,13385,9133,14202,18798,19604,225,15835,3152,11621,2433,13866,18605,11803,1554,4937,18686,2293,13223,6089,8246,13480,11521,12640,18284,4852,17926,3178,6278,13730,2677,5043,7197,5584,7925,833,8971,12447,10517,14347,10531,10797,8345,19720,9634,2796,4147,11893,1868,11839,19986,17030,2167,11895,2742,3714,16775,10235,3425,16219,10111,10049,15600,14159,15978,5289,18601,15598,7568,2,441,5654,7228,10382,17202,18664,880,7063,4000,1184,17073,19390,15650,15836,18673,5065,18263,11496,19964,1552,14767,5604,10012,9452,9949,1742,8982,7058,4118,13841,17187,161,18141,3266,18674,15732,17287,4085,17789,1439,17260,19718,5554,7842,9224,2342,3136,6566,2562,6851,7241,19021,17791,6357,13220,15664,8262,7828,18099,3657,470,7263,18172,2129,5391,19712,16604,13626,13545,6841,17624,15257,12948,12455,779,12917,2642,12915,10721,5282,1088,10938,9359,15690,9613,5551,5098,19312,3302,10922,3698,1047,3331,13352,3759,12642,15018,14683,7455,6527,5323,14828,15712,19343,11310,8744,12515,16452,12530,3754,15793,19730,4678,9869,15211,14574,3289,14597,10137,3081,14969,8179,7076,15537,2267,19258,19146,4412,5053,13083,1052,8761,14175,4665,15867,12193,7325,5299,2625,16705,15971,5259,791,1970,18126,17023,4632,9090,9266,11610,11830,4135,13027,19780,8360,3227,16914,4646,11158,19175,10940,5369,1652,1448,1169,1889,17089,8554,18712,18020,18154,19988,17659,11858,15987,4413,7109,9183,18621,3204,15258,8253,4033,9022,17130,7525,4056,3868,13235,6561,9447,10949,19891,18219,19150,12758,17981,3711,3151,10964,6379,15105,7961,4335,13219,18271,15221,10497,13709,1178,11746,9569,109,5477,6362,14326,15992,14003,10453,18795,807,15734,8461,665,13489,15205,2781,7830,16822,14246,16374,8306,11465,10644,19384,7889,5050,19382,10724,18946,5853,6404,9676,12145,5402,14343,3187,12765,3420,15744,19429,16587,5599,10246,5485,1546,5681,11214,14248,10331,5137,3428,18092,7834,18660,13214,8524,12949,11318,9929,16274,3431,11387,2559,17271,16515,12715,675,11327,5265,872,9212,6304,12084,15404,3467,10189,8993,2376,4483,17511,4134,9063,14874,12858,2308,16896,18891,4164,9503,14362,18714,38,244,9499,14573,1657,5697,4082,10395,9590,440,19040,7628,6118,8362,13280,18890,16086,19208,1509,1065,1016,18870,19954,11658,2233,7386,19908,19042,14203,16340,16592,15054,10674,10345,7982,10470,17166,7026,13628,8841,6693,19554,10388,15604,802,8142,18427,16451,9174,1994,11140,4794,16509,11311,18864,19277,9523,428,1980,15447,11201,8529,4108,1965,13286,7107,11706,12326,15234,28,14026,12492,5074,9958,16536,19092,3031,14685,4189,16368,3680,13760,18899,4397,376,4435,7511,13669,815,4917,171,6986,1234,19900,14474,14778,6962,14330,12803,15594,1772,8216,4447,16364,10275,9253,2390,17339,4143,13562,5291,1528,4526,3942,7710,13897,5721,17438,19058,1696,735,7196,13912,14951,14529,2268,14480,3558,7896,18538,19532,7947,14695,16570,17816,12501,5647,10122,5864,2120,12787,19170,2802,10282,18169,17516,3618,15314,12672,18968,1638,13199,16633,16686,749,16903,14746,10640,10680,16763,3593,16029,10028,2064,17646,14881,19980,5802,13701,18221,17485,15460,17179,14849,5903,12960,17206,19233,14051,15747,11647,10547,14103,19491,3135,9445,9891,2653,5040,16423,5982,17466,18839,12774,2127,17555,3973,14991,9603,7032,201,10918,2629,16124,16739,11961,2934,16641,10351,2687,18721,19404,5592,1182,13851,18590,13717,7253,10181,10298,6382,17214,7634,7187,3392,5687,9919,3339,11385,8091,16129,13430,7069,1996,16446,11945,14513,4714,5812,1042,1501,6653,14006,5250,5420,13752,11985,793,16246,17304,3311,754,13476,10842,7008,6010,96,4201,9026,10958,8338,1504,10439,3538,15881,8452,9217,893,1515,13203,100,1508,4725,18717,18324,1248,11650,6083,19513,15892,19713,17085,14502,8232,8344,15897,11171,13966,14152,6028,11172,8302,7612,17504,6165,3278,17216,19714,6668,9736,3097,9089,4884,2871,9138,2123,10720,251,15928,16014,15721,685,7598,19230,5178,9137,10490,8822,17581,16823,19132,5162,19022,14570,991,7001,14501,9256,6500,18384,959,18761,8965,15680,19054,1034,11033,1848,19345,6884,17286,6269,5841,7817,15873,17713,18288,11778,13765,9993,4687,1861,9146,10548,9959,8167,5459,13849,17395,3157,15536,4548,8525,10077,13486,15051,13878,3924,7179,14960,8169,4530,19195,9661,7345,12847,3546,4899,19853,17372,1357,2417,4204,13664,3988,7969,19660,3327,10185,13328,10085,6163,10837,14312,14377,6863,6110,18648,1773,19814,19732,15548,16464,9528,15109,16247,16882,17823,19907,17051,15024,15800,7038,13142,14955,3857,9416,8860,19282,4755,8247,12128,18380,4850,4465,16724,16673,6876,1107,3821,7011,3368,8220,19031,14761,17132,9947,1409,4940,1337,18710,14278,5396,3608,6142,9692,18432,19863,10196,16828,8489,4763,360,17295,13832,6953,4667,18632,2474,2505,4236,7468,3300,10217,9777,8725,7408,11740,6603,6672,6360,17269,11282,7493,2472,17068,15254,334,18827,1913,15202,14519,14280,7326,7673,5371,13961,2760,13821,516,4106,19106,17642,15818,13389,6465,11540,13400,1349,8252,13159,4290,13655,16644,18127,17520,8271,15419,13867,11947,18720,1427,7720,5726,15078,19044,1790,14603,162,18256,4216,9160,12984,14996,1897,11597,14936,2164,15026,3394,12833,9370,510,12939,19319,8276,16657,11911,15033,9904,16959,16560,18122,6220,17061,2405,4453,19466,9261,1705,6982,14692,5241,18880,11049,3257,9128,7775,5099,14848,11586,1461,6891,6474,17300,13871,8986,11023,9466,10796,16854,1275,1583,4212,18803,1594,4998,17259,11749,3979,8931,426,10586,7136,7220,8094,1121,15326,1056,9293,1190,6059,18467,947,7421,8966,9423,18618,13994,1624,8415,16554,9228,10251,10732,12633,12957,17665,9925,236,2486,14810,12902,16474,9365,1233,2666,9199,7019,2949,17829,9901,4827,12479,10187,10371,18159,7983,5066,19020,275,9124,10628,1180,10953,10271,7833,19288,2942,4289,19196,9358,14011,9912,6429,9679,4587,18504,15599,12353,18869,10354,17450,9587,5932,18435,11038,8212,15925,15280,16387,11036,19606,7758,8235,18147,4821,1478,16402,14373,13804,6023,13321,19663,17552,19236,9545,2137,13222,7143,10997,9740,12736,11791,17066,17050,14552,8805,12780,5562,8293,7651,17175,8330,7619,3560,1661,3188,16398,9800,17215,1690,15752,9960,13353,9465,8455,13088,19308,4558,7460,7787,5626,14338,113,16022,3298,8828,5363,18191,1086,9607,14090,3674,4110,3693,3713,3692,1584,8842,19445,13766,9845,1326,14466,16365,6377,1656,7567,1631,641,14824,7712,5921,14817,10027,18411,12466,13252,10738,16834,5703,2464,1651,13600,19164,10017,7986,1167,8457,513,2867,12971,2635,13660,15853,8192,4077,8382,6164,16135,7845,12272,7198,18591,16756,13934,2020,17459,1428,4939,3381,18993,7407,4035,12755,16579,7481,9772,7915,2161,1070,4920,597,4007,6328,3010,5989,14999,19178,1655,19496,5928,5026,6106,13637,16968,1204,9625,6866,1555,15391,11061,2068,17602,19657,12805,7704,8757,15311,18551,13435,11530,19334,3944,10,15155,6025,15119,13839,18845,8719,16991,13344,9815,18005,14625,10708,4302,18073,19561,13316,12407,11165,16944,5231,18666,5448,5246,11192,13588,968,12721,5518,14802,3969,1413,6477,6731,16658,17879,13722,18537,13652,8662,5635,7099,2720,13151,16349,6131,9415,9267,2577,5536,1881,13965,1289,8233,7354,5438,16646,18888,14237,1974,14433,2034,2385,9635,12422,17741,11771,10754,13461,2499,11340,17947,14566,11591,17973,17264,7111,9963,15330,3013,4566,2515,18981,9674,8713,9088,2235,11938,11088,10330,8131,17784,17222,7134,17957,12527,5984,7447,16596,13582,12599,15518,12146,17781,19095,10155,18131,3664,12798,2683,12776,17406,5699,1590,3016,12894,11101,2463,17698,15618,1738,1385,11777,4401,1291,4061,19185,9366,6680,8736,10408,17621,12258,10522,13118,14097,9141,3575,11092,2758,12873,2563,17393,14131,16931,16824,3358,2322,962,15736,9331,7694,9336,16031,16443,15955,16438,12606,10107,4775,18392,10176,12181,11727,12131,11410,16054,18619,7016,5832,18293,3101,11946,15420,18708,14005,7017,14789,16748,6593,17598,15150,15556,7485,198,10685,18473,6852,3556,19684,10311,15134,9668,5906,4501,1168,10792,1486,11329,8425,9485,19791,18378,11510,1871,12882,7374,7400,4120,10559,10257,7666,14048,14389,10415,15638,18183,3871,15542,2567,2198,887,10660,5679,3683,9156,9302,6835,18087,6440,10104,15781,11742,3052,2885,18568,7318,9882,2611,7371,8466,8728,11028,1547,6200,9135,9923,7630,17711,18444,9464,17357,16863,6045,382,9511,16606,3037,5383,13681,5701,12494,277,9273,271,1649,2007,7168,13361,17614,7292,17853,18406,7006,19359,979,5140,10241,19240,19354,870,18494,4251,6610,14032,9493,12967,530,15580,3014,18202,2469,9044,6231,14757,14467,6808,5911,18515,16688,19551,13311,6206,18561,16356,9776,15341,15262,875,10406,17719,17595,8576,4905,16093,16073,19694,11825,15284,12841,18987,7642,17199,17022,12925,4739,8427,17484,19280,16063,7688,4955,6435,265,1726,13350,15535,18746,19541,7429,15944,5807,14964,9608,6983,17176,8787,16981,2067,17099,13335,7244,8096,11800,15861,11389,628,15699,17456,17010,51,8598,2939,7995,18737,7252,16905,3679,12430,11039,5510,10328,2937,810,3246,2219,6749,7366,7426,2226,18738,10411,13526,12121,4206,11471,11157,694,17489,16942,18290,1048,16144,11889,6708,12540,7270,14225,14926,14406,5049,7916,863,15473,19796,15660,11424,15724,12511,19533,18152,7424,19387,1360,14454,19305,885,13587,6507,9857,1186,17546,17590,11795,4662,7996,16563,7494,11224,10656,5278,9743,11403,14396,17316,16347,1816,9693,6122,15557,6126,12944,13923,7003,2441,3803,17873,19902,1904,7317,9702,10166,12808,1884,17794,16036,7290,12641,17775,4088,9841,12017,8578,1698,13270,7664,10831,1880,10513,12267,14888,6977,2242,3634,19724,7181,19292,16071,12294,12724,570,16591,12177,10423,8217,3341,3892,18633,11100,13061,13756,15193,1130,10642,19370,6427,12677,17786,17603,16033,12941,3793,18010,15566,311,15250,13643,7385,12707,12087,16875,12505,17091,14463,6046,17617,950,15019,9252,8643,4231,5498,13276,9200,7851,9852,3891,3427,4292,5464,347,17032,11514,13099,11454,2979,15841,8322,14040,12862,1522,16312,4448,15784,5195,5733,10133,9828,1438,8655,3442,7974,3252,19015,8970,4832,10670,13383,13048,3256,4003,8901,19415,1000,5115,1988,16467,6855,1351,10822,17488,4969,797,9111,11448,8770,14772,12879,12316,3413,3638,6187,17553,4759,15930,4375,4911,17645,19999,8978,4266,4834,16749,14723,4976,17837,681,5068,17886,3912,1161,10094,18046,10915,14208,583,14166,7927,19441,15552,15659,7255,3725,5673,12400,8106,8934,3895,17113,18273,1676,6741,2993,17240,988,7839,18482,13888,10021,10402,16373,11502,9478,11769,16492,19267,14637,3293,19695,17692,9412,15226,6923,17004,6549,15920,11582,10213,7462,3586,13173,7005,17386,4153,12071,9981,10367,9037,15344,5248,16861,9973,9924,2929,15644,16527,8593,7781,3495,11375,16626,18853,1155,19613,1354,9719,8671,4420,16333,6609,1714,13905,13680,18070,3786,11322,9833,8294,19839,4227,16617,13595,14104,12623,8791,8134,4793,19291,7166,16500,7819,11788,14579,17239,4822,11128,18178,18490,8292,11826,10988,3022,658,1104,17630,5719,18442,7656,2850,2856,13167,19459,7349,3213,3071,9797,14585,5035,2141,13446,1023,12356,11688,17145,12900,12980,3919,14968,17370,18877,1347,7391,385,17674,19921,2915,9,18300,6493,7882,4327,15588,11117,12091,8864,11963,278,13351,12281,4575,12329,283,3319,9943,8582,9806,12512,1569,18399,15870,1855,9154,8005,4099,10288,14151,3651,11873,19372,16297,4719,9550,14445,10268,17219,6087,3106,210,8113,1841,14340,459,4042,4586,8257,15706,768,3967,12009,2420,284,8353,3067,6675,8464,9725,14558,19728,6448,2593,7565,5907,7435,1179,12264,14081,10707,17082,5387,10412,8897,12716,3507,5797,11575,18189,13081,5830,8523,7797,18669,2926,6574,8882,19396,4756,15302,6578,12909,3755,10224,18319,12251,7890,6733,5120,1978,16496,19463,8709,16684,5222,18793,3977,9754,19504,6243,18930,11673,9683,18434,9526,18566,6639,9296,3223,13178,1254,19228,16000,10588,14728,18199,1004,12521,8352,19310,18571,10239,14450,10292,7333,17588,610,19483,11313,12058,19583,18120,788,8026,15592,6011,15661,4395,2117,15187,14596,3353,5548,8160,15826,6081,19257,10160,5710,12209,13507,19416,19624,3406,11429,6833,9290,17297,17648,1575,13619,10454,6502,19090,18066,14961,10694,18267,14556,9836,7342,5400,5690,18542,14473,11816,13160,15504,11829,722,10148,14149,17940,12741,3627,11763,17750,11307,380,6857,8188,15805,15179,16656,9136,5368,17615,5765,5094,9241,2150,2712,17468,17190,18878,6992,4436,9570,15183,11528,19317,7190,13520,3841,8335,14199,12000,18247,17778,53,6716,17809,14387,1229,5611,12788,2445,19702,7315,4249,14255,4376,6472,16259,17157,17708,6564,537,3138,15657,12848,992,12454,503,2770,1778,10926,4766,527,853,409,7607,3444,1183,8432,15477,6533,16908,8912,12143,4138,13941,14352,9318,5683,3211,1267,17080,15110,11231,7437,10860,9338,15007,187,12666,12339,18208,7563,16044,2847,7108,4244,15192,14276,3722,16204,16123,9509,19859,12152,2002,18364,17498,5582,18977,6948,11772,19242,11174,9989,3601,9579,10342,508,13037,10839,4973,3199,4445,13837,13365,18282,16228,12023,5723,9099,10525,2330,4324,12516,16042,16904,742,13551,3166,18735,4902,11900,10871,16623,12427,5208,2234,7302,132,5772,15720,10661,16728,11768,17651,1819,9369,18456,1145,6423,7579,7762,6700,181,5287,6658,7696,12312,12826,7622,6978,1460,19838,9000,14015,4174,17046,9564,721,13001,14422,4389,13020,1485,2932,3407,2504,8278,14126,16638,9097,12811,649,13492,10638,352,15832,17556,14247,1061,14409,1099,11664,7183,192,5197,5010,15463,2561,2621,11648,18370,12990,3595,17231,6817,15381,10126,5889,14633,5209,15993,11930,16998,221,15543,86,13106,9027,7740,4343,11715,12719,13266,13819,2572,11202,16273,19558,9899,5486,17730,17290,5829,1066,13481,11723,13807,18709,8070,10218,4783,10787,6447,18368,9134,9434,17533,3457,11944,17858,11478,10869,6762,13995,12579,12877,15379,16797,4071,5603,15840,15952,4860,6805,1314,5851,15417,10319,4790,17922,12083,14836,10297,17543,448,2671,14725,16540,16444,2028,5625,15089,944,18822,19885,6654,5669,15289,16816,8608,4985,5213,12897,4718,5366,3137,16819,354,19794,8995,4666,7549,6329,14897,15116,5648,2413,17662,16848,10903,3375,9565,10216,11653,309,15565,3438,17173,9070,12908,15852,5766,1315,15448,12561,9001,6468,7144,17905,8682,8421,18495,2693,13209,6698,9308,1174,16534,13981,4509,3167,18210,5310,2967,12489,8654,15146,2839,18002,15000,13182,14238,7260,10410,680,11642,19051,17065,18653,18249,16158,8119,5632,10005,1120,1520,10986,2069,15,2988,7824,14909,10667,5513,4585,17541,18410,3251,1257,4604,11255,2166,10337,8186,8283,7800,8625,15172,18289,10069,661,13343,16348,15088,5935,19736,12467,16594,3405,17407,12367,14091,5755,10098,822,6831,19970,18628,3476,657,683,6670,12167,12036,910,5754,4407,13346,19287,15101,7261,16215,9334,2913,2943,14584,8273,10518,6661,10657,15469,4368,11464,12951,1282,12837,18807,13947,15216,5573,3767,1294,16926,10597,11408,15027,14629,15308,7633,7243,6858,6514,6925,10066,11332,14102,1922,8500,18165,9977,2111,15418,1757,14252,11409,5015,16887,9660,5171,3471,5983,9488,18731,16098,19278,17377,12050,2806,6585,3499,1908,9639,1014,7095,16598,13777,5103,6898,19522,1126,8414,2372,6732,7584,3745,17529,19674,9832,1417,9938,19633,15476,10153,1496,11159,14019,10209,12871,11487,10619,19658,7893,19059,19833,3313,12739,6380,3712,2216,1105,11225,10031,560,16505,7211,1787,6192,3922,2827,19371,18711,6946,8386,7369,13294,6579,18281,15762,16341,8962,16378,18315,12019,5169,12461,913,3960,14598,18134,4972,12403,10952,17888,17191,14038,5488,7459,18313,98,10254,355,14959,14057,1910,5895,10347,11021,13433,15710,9598,12357,3387,8601,12203,19912,15489,11492,13145,5957,5321,19761,19888,10455,14056,12520,3443,14299,8225,10452,17882,11096,1240,19817,8361,10464,18192,5729,4564,1062,4123,15626,407,4039,11328,5416,139,17416,8172,1249,7883,2471,7798,11493,4760,6340,5161,5491,6486,8755,3030,3143,12378,8981,19946,8766,634,19270,15569,4105,15790,7836,1482,977,11184,9684,326,8135,12198,18873,12705,307,19587,13721,2612,13208,19161,15453,18688,14064,7126,15303,19659,5150,9572,12556,2997,9844,2332,7538,4723,15327,16703,1479,2662,566,1238,15763,1599,13329,17942,6297,2073,6432,12397,13110,18475,103,8992,13986,19318,699,8845,16118,10057,9558,14688,153,5883,336,18931,14173,3155,5792,11554,15622,859,10116,9375,4502,861,15416,6944,17670,15246,13201,4602,2670,465,14146,7314,2673,3580,9158,1810,7524,899,16777,10238,19047,14762,1080,7472,15553,4372,2352,17631,1381,6565,15923,5116,17415,9769,13017,17720,16262,8025,16681,6759,7394,16351,15606,2194,16949,15331,19849,855,19894,1039,11132,2199,19224,12032,4912,10173,6747,12027,633,14775,3064,827,3468,16768,5113,14039,11676,6736,6346,12187,16842,15495,4736,13164,3578,5487,2865,4396,3359,1934,4935,11535,2815,19844,10079,501,9911,782,7051,15497,6348,11550,14036,1260,10963,17193,13418,14689,15385,3506,1997,12072,14690,18106,8076,18076,16311,4820,8034,13177,19494,8367,13032,3851,3421,16494,19041,11246,15066,5718,17523,5745,12211,16971,3039,13715,5174,6018,87,17341,3740,19120,11125,16211,6043,19517,5998,9132,17566,12892,16610,15603,13077,11445,15428,1373,3099,12418,1411,18834,2627,18166,9746,16285,8146,14956,17900,13036,15017,10156,4186,851,13728,16784,2688,15863,12386,3005,5475,10495,3900,8624,2918,12343,17424,15751,12428,14092,11710,2402,2700,9835,16386,10564,10344,5537,16601,7018,8521,8678,6625,10538,16774,17075,5080,13138,332,16077,9333,19346,6167,16155,1442,8878,11712,7654,15587,18627,5395,10626,16865,3760,11804,4749,18472,8984,7706,419,11512,8347,11486,3493,6827,6147,16037,14061,6546,19204,7638,8042,4638,7728,15799,17396,8646,6588,2508,13457,7346,19212,9053,5912,3739,19237,916,14401,2454,11232,13997,10635,10346,4450,10240,14834,18716,16523,7094,14812,13870,10596,3515,17689,6260,6073,14400,18824,8723,17441,7343,5746,11708,8733,2448,8572,739,11480,18422,6347,8375,8854,18499,8856,2116,12092,7948,9025,16319,296,12435,9419,11546,9584,8256,9873,5594,14069,16382,4060,16151,13677,15844,13857,18921,17502,5442,14987,15685,1499,2151,4841,11724,7239,1490,15878,12113,16419,2883,19184,4457,4757,16803,1084,12049,14993,14660,3363,3867,13736,18600,16112,13119,3510,6065,4882,3728,2822,17478,625,8559,5290,7139,17649,11573,9538,2849,12685,18771,3552,8104,11700,11990,5638,3990,12675,10891,19792,3814,8716,2884,125,19706,439,6302,2775,9535,16725,9075,10284,12499,8817,9038,4239,14301,18470,15359,17984,11619,4423,13505,16282,10937,3633,11122,10341,9505,12844,6458,14141,2236,15575,9121,11891,16468,4838,16846,16016,1258,5218,11841,16308,16940,2473,16569,14545,3935,5939,2301,9670,3108,16254,13475,14042,6690,5205,10327,5954,203,3831,2197,7433,10348,6707,17814,238,6498,14298,10996,3649,6015,8187,12523,12695,14477,9247,9713,7550,6562,13959,1192,19941,8337,2786,3884,7726,17347,3150,2215,1943,11476,2752,4144,7321,2911,5230,4456,17024,7746,10608,13859,15866,12542,17657,13161,11357,18690,396,19221,9306,384,19391,11472,1719,3987,6400,14420,19140,8116,8189,14046,2972,10211,17345,3173,4387,8674,18861,18458,15065,13740,12966,5794,8917,3709,4346,5500,18351,10634,3128,10679,1833,7514,4064,17038,11048,2455,12310,1956,15087,17908,14192,5055,886,12621,12929,17782,18060,18021,18944,11583,7647,8000,5019,14170,9624,6737,5207,16369,5908,12594,4340,14125,8633,7222,5280,13062,3463,12645,3701,272,2133,15981,8435,5980,854,18973,14935,6705,2529,1926,14240,8471,14605,3691,1100,17139,15175,6391,14933,16880,1703,3773,8498,4561,9076,10144,10429,6569,1424,14158,10960,12988,14342,15049,12658,5225,11524,1469,10390,15655,8239,4428,19473,18011,2205,7403,9484,19819,17446,4305,19406,18934,8603,9491,2874,15551,19298,11776,455,586,8883,14523,13082,5837,7689,14704,7992,8843,6193,6044,9997,9562,15243,2289,9377,9167,13558,4918,18817,1464,13828,13347,5835,10781,15595,7518,14796,2773,10927,4515,18703,5455,13434,11637,14698,14284,7194,9223,11508,2514,18145,6261,2617,14941,3364,12411,15888,16141,5674,785,15315,14089,7926,4773,4523,18419,16827,18527,16057,9237,7040,18826,19052,1420,14205,14319,3422,19983,7617,2825,19474,3663,13428,6367,9283,4329,13479,5931,2971,7097,10803,13354,4371,12591,19993,4237,4630,12842,13875,19756,13713,5105,6624,3941,7683,16159,9514,12299,7608,17472,3886,13056,4847,14395,13942,17729,5237,12554,8082,14590,1596,8964,11360,2729,9600,5823,16489,9248,5042,5349,10719,12240,4675,11834,9409,15597,8089,17238,18991,9718,17812,6580,14756,1770,7254,19104,19971,13508,5048,7383,4220,17902,3783,12669,14448,18797,2134,5529,18006,594,1008,11744,16973,12533,6583,897,6773,11000,13494,11690,13318,5423,4639,3340,1455,17369,17338,14967,15545,15166,16890,18064,16363,13813,19018,9547,4429,1217,14195,11584,17680,17579,9910,3902,1019,14521,10737,5628,13003,8938,10909,13638,13781,9630,13916,3323,15623,17684,12078,1194,19992,10934,13224,1092,15809,1356,16899,12668,6520,4199,15003,7225,15264,19011,19485,16310,11278,14476,16518,11787,937,11456,18230,11306,16064,16137,4169,7116,4980,17248,5139,6998,2431,7236,13184,6681,6401,13504,14583,801,13407,4471,5645,9811,8366,18937,10733,17486,10713,5774,7556,978,13591,13439,9249,449,14887,4202,6694,10007,2636,6134,7224,13607,10540,1885,18029,17903,10805,16465,7973,8783,1163,9242,9723,18464,2035,1211,9470,16179,7229,16390,5075,17014,19155,13016,16495,6899,5234,511,12334,1560,17315,18211,11726,2811,12760,15783,1768,4724,1784,9165,1343,11564,15082,714,12709,659,6894,2741,6041,14128,5546,7911,4232,1010,2957,15123,6859,16223,3355,13687,2103,1765,2432,14664,16140,4846,10438,19215,19046,7091,14311,10434,11928,18372,8046,11460,17851,16437,8914,2284,1764,4179,18989,15288,8904,18423,9344,6418,941,7609,13515,91,4655,9612,11916,2275,16471,3792,14503,7898,10789,9155,3508,3505,15427,10110,13983,8148,1475,19612,17385,13853,1967,7505,12954,17508,569,6614,4938,16287,5281,16517,14798,1717,11071,14654,13241,12246,8069,3741,18334,14677,6792,13838,16974,2685,10527,15267,3789,9109,14578,2896,8627,2014,17742,9112,6368,3419,11755,15894,9902,13623,8551,18454,14459,4083,2844,19745,10203,343,10338,1551,9376,2807,7805,6274,50,15507,17374,13749,11229,10349,11823,15829,1843,1165,4418,9386,9519,8994,2540,5077,101,11277,14866,4551,17967,3539,19570,3310,8314,4817,2314,12743,18155,14944,9659,13052,9438,19914,7672,16304,18479,6480,10845,14224,8769,3449,19166,4853,7929,7695,11422,7723,2951,674,13370,8351,4929,398,16148,17526,12048,18238,4390,6888,10854,5018,13977,4754,16682,18362,11484,19589,12481,18510,16573,11325,1669,13367,1372,19957,19754,3785,15538,4740,17914,11426,11031,8018,19131,2356,8616,5079,2554,9781,19868,799,4769,18366,7667,15122,19689,931,13798,17135,10877,11693,5136,14028,6505,4552,4130,12388,15583,11080,14410,9473,1735,3528,2607,11220,10603,6109,2628,8907,14249,4889,3046,5437,12912,8650,14820,8862,4679,3267,1074,7449,16535,19037,13802,13371,17049,17161,14321,16421,9069,18924,3158,6605,4015,6973,3639,5308,15812,9690,12634,16442,16731,14965,16548,16473,6442,5199,10848,6270,8905,8849,18692,3263,13261,2906,12157,696,13064,18522,10472,6444,8281,3146,18110,11283,19950,10086,5591,2209,1492,10483,11079,2326,13398,12660,7232,14851,606,16194,12029,10782,18802,14505,10768,239,4050,8485,17184,17013,4627,13023,7541,15625,3423,5763,2428,13459,13757,19655,19524,15042,10035,14549,5217,5219,1716,3075,10039,3705,12056,13790,12279,6541,15238,12569,5688,17134,18947,1328,2982,2747,5440,18770,9914,16986,12673,12794,10968,1462,14901,8381,13293,1350,18171,8531,17573,18775,2763,14697,16785,6968,765,17802,16643,8684,2354,11376,11094,2875,12197,12381,13898,5061,14816,11615,19634,9672,8527,416,8999,1108,14209,12581,7540,6178,15457,1392,14707,18964,10747,19874,1285,6217,3784,17308,6880,11441,4642,3597,16503,12692,7516,1089,12979,9185,2056,19723,463,16251,11697,4936,17479,18186,8437,12830,93,8285,16005,10830,6734,18337,6769,5971,4843,4385,14022,1188,285,18578,17766,14835,13834,2286,6763,2331,19515,3496,2118,13528,12182,14008,17622,2049,15602,6301,11969,4211,9354,6702,2791,2016,6100,2306,6052,2365,13126,12541,17487,5353,4203,16670,18998,9965,1723,2797,8442,1660,5566,7173,5085,3243,17403,6463,3699,10864,179,3901,6810,6159,2100,16128,13827,15677,18012,11316,10948,16507,7552,15430,10488,6696,11366,12881,18257,3568,19030,12154,5263,18222,6088,5789,9896,8689,3547,94,4229,8400,8469,6616,11929,6830,7870,3035,3162,12179,464,15609,16866,15596,18813,18695,17378,15178,8336,16597,6725,16753,3631,889,227,8387,11069,6738,18292,8456,12518,17722,7285,19284,18489,14983,18789,4828,2872,11025,17936,9492,12201,16111,17835,13554,15912,12355,4222,3610,12686,7153,2881,8921,1899,7294,2745,7849,1370,249,9373,17119,3139,18699,19961,4538,8376,7434,2895,15932,15901,964,18978,5028,2795,9315,7531,9819,13746,819,5157,11953,5521,15926,15012,10553,18063,7978,6280,4510,13862,16213,6622,452,12224,325,12026,1759,18096,316,14489,15931,1135,11457,6729,13291,15478,11168,18693,18231,5090,18013,5426,6031,16676,4306,2022,4716,294,16706,14369,17938,14029,13892,2369,6596,6221,17647,7761,4904,1009,4008,19646,17983,3107,14606,13820,7764,5947,7601,16551,8240,9810,576,890,9567,9082,2522,4214,17600,4010,10923,11006,3465,250,5659,8870,1580,16546,11659,5159,2019,9093,13443,16833,2265,15090,7821,16411,7164,19082,9664,17887,3395,4887,8408,11560,1369,18545,6455,13305,35,15827,12597,9387,19729,16675,9849,7868,12940,4173,9476,13516,15452,3959,17724,12609,13795,4367,16283,3230,1228,2424,491,14191,2723,19017,10886,4984,646,2452,14423,8080,3304,11338,16603,19077,9759,18536,9732,2309,1222,1852,14279,18599,5976,11633,16584,7289,262,9343,4487,17481,7427,9826,3521,15324,18344,18260,19503,8166,4027,19029,1933,66,15036,19028,4025,2783,10040,3596,2599,6677,16448,16811,2062,19193,8101,16995,11571,3469,14726,8983,636,6130,10320,15121,19056,7668,2755,2651,18576,3504,18863,5642,18502,9888,5522,18108,2994,14375,18466,2363,17086,10862,9013,11555,4235,11280,1783,5224,14927,9011,17172,7417,13989,13456,10053,16543,689,3124,10757,2727,3858,540,14257,17394,4692,15966,3459,11625,18790,6820,17964,2894,19846,5675,19353,18815,2190,13682,19012,12441,14241,11051,2408,8880,18838,7112,16513,19586,15294,16805,19779,92,19959,12532,12550,11536,7365,15953,7004,9147,2701,14953,1766,293,10589,15173,11780,31,6365,16844,4831,19979,15786,10461,12906,14436,14883,7754,18507,9532,13429,16460,9969,6375,9388,7517,998,9405,12391,19806,4871,13900,6846,5238,19486,1878,16133,11076,3130,16483,15945,18575,9936,2241,2456,14572,7120,9179,4594,7645,18814,11151,11131,2813,15499,7359,11967,5076,2602,17273,3383,15450,8267,2090,8687,4925,16187,12604,10622,10353,57,2250,10013,15960,2574,15099,16529,6786,13340,18359,8861,16770,5356,14193,17838,8058,7691,12859,15737,4999,9801,12314,7010,2630,11390,16953,14858,248,18840,18383,10102,14452,14616,13895,6971,12219,6173,19984,13441,9691,10636,520,9883,16324,18649,14291,9784,7856,10760,865,14715,5814,18506,43,19366,5743,14890,8839,8383,7560,836,17539,2285,3023,16050,8447,14500,3930,6828,8680,3497,14236,8922,14972,12592,1516,15947,19824,17154,9106,9775,1930,12678,11269,2557,12595,630,8371,16878,5950,6906,11856,8827,15128,5456,6027,19410,2467,461,10100,18751,9791,14719,4671,4738,10957,15792,6582,11685,11729,12638,16934,13074,16733,6532,11937,15815,5403,15555,11620,14532,8548,6406,17803,4479,4142,12649,12076,12601,3165,7716,19850,3550,18374,7330,16609,10422,13189,6902,8558,8851,5564,1073,17687,17549,1582,4780,4417,8022,387,10212,16359,3753,7028,10684,17072,8265,8467,19518,15252,4315,14315,1839,3193,15276,2106,18439,15621,17211,9083,14561,19076,4051,290,7945,3744,19380,16132,9735,4752,443,9711,4218,13080,5086,11563,12081,13406,18626,7106,7497,16445,4348,19669,16685,8947,12611,18672,16284,1531,5534,17702,16545,5531,4629,18805,7145,15902,509,6905,18533,3584,957,6239,9502,4661,14383,16242,19315,15328,8505,1586,8299,1626,6917,9084,7959,13,15041,15127,7970,13116,2032,18689,11576,1271,11513,14823,12288,8173,15616,9040,6933,938,17054,7141,17464,11114,17585,2096,11845,7361,15838,12130,11177,13734,8443,14642,8693,6290,7049,16210,6928,1466,14088,14759,17236,8542,11925,9140,10132,17506,11029,2833,13904,12218,19481,1585,798,14546,5215,15229,12545,7649,13453,6542,2667,16303,19683,17963,16430,4992,19771,18418,856,12432,8782,16574,13896,18090,534,10430,435,4727,3834,7892,8221,4785,69,2873,15882,19201,11372,14891,18655,8066,6038,15686,6782,5204,3956,18041,17994,3799,9961,15307,16185,11581,3472,4332,18312,13028,6637,16172,1876,14289,1051,7857,8771,18907,9251,6129,10765,14184,2633,13245,15374,2502,11770,3034,16980,15651,11709,5260,14082,6882,860,5860,18072,8234,1808,2960,760,1261,17531,9589,16813,18723,7906,19607,12362,11860,19812,4892,2645,16477,7072,14878,18583,11483,5799,16088,14366,17606,18272,9230,7216,11733,10936,16522,7707,1152,12112,12525,6091,67,746,19617,11798,26,14490,13967,9655,7329,4115,17008,18017,4017,956,2703,6162,2394,4296,204,9164,16257,10672,1526,5756,16936,11892,5135,5419,6801,19138,2610,11984,2767,11701,5572,5372,12731,1642,16862,14787,6709,15936,8438,8697,19495,9615,19755,8885,5676,18952,8417,14847,4132,11517,2006,867,19783,14112,3451,11824,11193,4778,15544,5454,4427,11666,14819,2859,6503,2046,9816,18911,5527,9080,15434,14181,7418,11218,17962,4460,17458,5678,9962,17799,15075,884,2178,3056,7487,2375,12584,15421,882,17500,10163,17930,10440,9744,15092,4422,19915,14938,11223,6133,8318,7648,16138,17078,17101,5298,13938,7790,7499,5340,5990,18078,15357,15765,14534,2597,4696,15047,5997,2057,2303,18274,16964,4499,3715,17517,11843,16069,4175,1246,15810,7130,14390,6470,15125,2965,4009,1300,16649,9821,7452,15080,19883,16502,1418,6229,1947,16343,15723,6870,2826,13117,2923,1644,6403,4569,7561,13874,2836,2916,4621,1247,15424,2488,2222,9734,17632,4542,6935,6246,7464,4379,16484,4463,6132,11013,19008,11748,2946,4690,5685,5112,14786,11236,12926,16491,11289,5558,17399,19065,15048,13313,4695,3051,3390,14885,405,12706,15681,14054,3801,8969,12088,9048,5975,16463,12563,17570,11044,9110,13281,11215,4506,4943,4691,19620,12849,19306,9300,14010,15898,19610,960,7387,4298,1380,12989,556,4876,15941,15372,22,2244,17387,995,9467,9824,12572,7104,10229,16736,13899,18197,18157,19048,14720,666,10125,10935,8715,16121,5657,17461,10381,17577,14618,19697,11988,2702,547,539,18979,13679,10042,4808,3092,18656,18667,12141,9289,3899,18715,5825,17658,1662,10267,8145,19163,16602,14966,3063,9064,11198,15648,2990,15904,19325,2970,14211,999,10233,11323,12823,13775,3873,10093,15547,3118,5320,7052,3265,18961,12670,18662,18008,8667,16933,6222,13697,11683,11863,1153,17321,4339,8611,5709,7950,6659,30,14947,9773,2465,9898,9894,13278,14670,1181,9715,14696,5187,2974,6826,16094,8200,13090,10816,3338,7809,5057,9380,12946,17686,13788,19645,18316,1832,15181,18240,10558,16454,19004,14827,19530,7989,15233,10722,930,18035,1317,9189,7023,1136,10646,9426,10314,19045,4233,3833,19103,11613,16413,1266,946,11552,8497,5849,4796,3965,14421,5886,19707,18286,12345,12779,15403,4519,7188,8806,2257,16782,10329,10199,17230,2052,5329,12876,7160,16519,14540,10489,5686,13971,18135,16526,5212,18047,13855,11844,14809,14908,17792,4922,9166,12612,14604,431,6361,16424,4928,13253,6335,10105,5376,10889,1006,4577,7115,5167,15352,8585,17382,4963,7066,14430,13482,15364,13754,18182,13085,19553,1011,19928,5345,13348,6019,4626,4243,7888,1378,3824,2278,1113,5601,7693,5405,14913,11852,9262,13067,481,6960,743,14482,902,175,10648,10851,7074,15684,9933,8045,10614,10121,12923,13770,18748,12618,1457,15632,2660,17691,10014,1724,17180,3273,10018,2552,12208,16480,8300,10791,5940,17494,1989,7347,5712,1067,16122,165,8930,16293,8774,9617,11356,613,4055,13154,1489,9745,12727,7492,2188,8308,14458,19397,2368,15620,621,111,18052,19113,17985,5194,15760,15268,12769,15290,11176,15201,5271,9208,15239,12222,670,15218,3736,19217,4527,19750,7490,17079,9986,11346,17476,12134,14516,14717,15643,7744,19272,13388,1329,18397,11696,9887,10578,288,11435,17158,3201,16853,18102,15106,394,3385,9218,7288,11812,12068,6896,18438,1164,6467,7029,14765,9533,14867,6140,13070,13674,16608,813,13380,19488,16715,8341,19394,16290,12674,16307,1664,7305,2315,7101,12813,4491,12417,15777,19009,3636,3579,10436,11511,19349,6334,14782,3111,19335,16730,10467,4337,10321,7155,1906,13842,9979,16032,9787,19509,8612,582,6253,15272,18248,16103,13072,8906,4023,11438,18612,3483,8290,19787,9418,12983,14212,2450,15362,9127,5100,322,15907,9456,19916,5749,4355,1396,3925,5107,18923,12934,5414,16485,7312,15040,10058,1916,15117,15899,9288,3038,4565,9518,4863,6951,18252,17460,2738,12109,18430,4906,6188,9482,12639,8122,9279,14268,15293,10223,15009,17270,14548,14868,5384,8282,15895,1500,6602,16017,13613,4525,7048,12651,7444,11260,14735,7,10358,8729,18567,8072,14842,11785,13447,6076,9390,1795,11808,10283,14989,8784,15037,5172,16235,474,4900,19636,11406,7776,8948,17721,14758,5047,13234,3555,18057,901,105,12617,10112,1737,10374,4722,12785,5233,8830,15081,13556,4090,18129,9346,8588,17332,663,1727,10424,14182,5397,15200,107,15500,847,10391,13758,8530,16070,7414,1709,17916,13988,16046,16952,10742,5472,10602,16783,1215,9945,5826,17697,15505,4467,1625,14074,19923,10819,8402,13958,13846,15436,16107,7713,14013,10075,843,19482,15511,13399,16209,10843,10567,6780,9688,1205,2269,8935,17306,18497,3826,17901,7756,3225,3237,11430,14747,2591,16561,3777,16436,17360,717,17909,15131,12691,13226,17793,11781,17384,12156,4870,18200,1771,5354,13911,16076,9254,15850,5655,2192,10315,11126,14495,5800,18951,10024,17477,5430,18254,18428,4331,7411,19592,29,7147,18983,14109,15300,2842,2459,5501,8168,7801,16188,12522,976,8451,14111,13881,8176,2765,8284,5827,1072,3087,12807,6063,14718,19307,2691,7419,16645,2088,6394,9086,5735,2444,15811,13133,18253,17376,2095,18335,1484,18361,12236,7149,4208,1951,13288,8067,2184,8108,5352,2780,13069,4867,10356,19241,19364,11735,17921,10649,16106,6389,14701,6487,13386,15674,10201,2325,3019,8651,497,2888,2959,11276,14538,10316,10433,19716,1776,15884,6883,5296,18867,6332,10894,3981,2273,9995,8198,6797,13115,18303,19091,16030,16325,6327,5958,15071,14258,19407,5785,6519,14713,5579,1148,17725,16895,16541,16620,3811,8333,6202,15972,19332,6903,3771,15567,4855,8109,6353,7454,19601,8919,2229,4874,7998,12399,15213,13621,7033,12225,10981,19991,15560,1888,5056,15432,7665,9479,17870,7022,4947,9721,8149,5824,5578,15126,19873,5083,12625,18677,8356,8886,8004,1015,10140,16028,9214,19953,13835,4786,577,925,10303,19834,14515,9353,9842,6818,3439,10134,2632,9789,19666,13617,9510,766,18177,1117,154,14364,19926,3997,15095,8909,13799,10366,9542,3708,8236,3769,15970,4334,12160,5038,13485,16040,3245,19328,17267,1872,3598,10972,14508,11567,4556,19933,3991,8688,5084,15808,8424,13616,1493,7658,17102,4492,19858,7486,342,1782,12446,19402,4112,522,11815,6398,16401,4160,13784,5552,8900,18841,15735,359,19116,15982,11983,5943,10384,10307,5809,15615,8591,17197,17020,806,15115,13122,13824,16072,19385,8275,4167,10469,4350,13964,224,5953,5872,6039,17955,1030,7573,2279,18631,11490,3168,10198,11142,19896,5784,13571,14437,7128,5012,1834,5996,11020,12385,2618,18421,14716,5493,12277,14825,15301,18638,15014,5656,9597,7021,7364,19630,16180,3611,19469,8027,16841,11030,15491,12220,15508,12607,6778,18794,11739,1477,7067,1303,2897,7082,11273,19440,13580,17388,923,3752,2764,970,8832,13810,16901,19519,5118,9649,12448,12822,1281,14621,648,9406,18513,5293,1216,11121,3894,9255,3667,18531,14007,399,8241,15843,16096,15154,14973,5058,14636,12875,13949,10478,643,7335,10446,14133,17512,7467,6036,281,16487,8503,231,17105,4653,16250,982,15212,16869,11871,14413,12429,17797,3077,16174,1777,14808,3780,5852,638,13186,5495,9299,10727,12733,12421,14676,19831,287,706,9667,16264,13244,3574,16475,5158,468,12305,7117,3696,7725,15791,16082,7498,19476,68,1057,447,14754,5695,2107,15052,3134,3286,5476,4941,15700,5143,11766,9843,13035,3247,12373,18889,16568,16721,14651,7077,19434,3985,11274,14411,19337,10230,531,194,16595,1830,13998,14899,4226,12253,7410,18075,5122,17928,9342,9031,13673,19210,11652,9991,9181,9115,17226,4476,15825,19526,7813,9159,6722,3764,7013,5508,4978,989,656,1840,17391,9239,994,15611,11692,16758,15773,7121,15337,15367,13783,189,17185,19313,5777,15190,7500,8502,4518,18842,17830,11243,10892,19124,2762,12775,12860,10159,12965,6033,13724,5154,15526,9006,4628,4264,11130,708,10428,5227,17881,15756,1511,5183,19845,14640,10095,7201,7832,18929,9580,317,9553,13007,18045,1937,18879,1268,17281,7047,17114,14510,7186,5461,19948,780,5004,8001,2181,13002,18032,10893,19798,12713,264,12469,8126,3474,138,17365,19300,1235,7586,4676,3640,17327,17560,4809,786,5449,2050,19289,401,191,11728,14479,6296,12039,15103,4750,13982,19454,17340,5166,17292,19573,3171,19187,10050,4170,13951,6674,7591,12932,434,14214,705,13914,16248,5505,3109,14286,7585,18103,9978,5568,7594,11258,12567,12513,1494,919,15180,184,205,13801,11904,7088,13377,2977,4139,2565,13944,8231,19231,533,3647,927,10627,121,12173,14607,7526,13401,17682,12080,12463,17212,10045,4197,6410,11548,1456,2345,14657,2733,11932,7214,18675,11538,7575,4073,13818,4330,13249,3798,10476,7554,1646,13248,19375,19760,9629,14318,18758,5273,16409,878,1389,7782,563,16884,578,6286,10820,17764,12534,4623,13633,9362,19477,6462,19176,3186,11682,1728,14876,9161,4583,2828,5365,4903,13471,13612,5623,14382,18763,9653,9576,11461,5073,18597,16394,13913,12718,19861,1491,1115,16456,5919,3800,9313,13490,11394,11152,15876,17225,8859,10073,19978,17739,2112,7389,7878,9651,5677,4990,8724,7056,10157,14296,16893,4150,11896,9433,19901,4620,9726,6558,7298,10613,2274,16713,7977,5965,3047,15153,5453,4377,1921,13939,7611,1712,6090,16835,11689,4490,3367,5698,7382,12041,7370,5915,8825,16838,17064,17666,1589,13625,1119,1166,12828,1964,137,8490,15455,9448,202,17780,11440,18874,6667,2676,2901,7337,10868,15846,6706,12012,11694,5141,9036,14880,11207,16625,2512,15933,6913,17536,19672,11917,3299,3008,11883,1866,10510,2659,17554,17804,3737,12375,5127,15304,9424,3898,16439,2024,8561,607,19752,14044,8244,2425,15011,8191,4647,645,17773,2412,4053,14600,11614,14905,12726,6989,4029,18307,13094,3090,15854,12699,13955,2779,19038,6225,7245,10419,4388,10373,12419,11833,12839,12723,9496,17389,6189,14078,7081,5016,18700,18976,15702,19644,19447,9931,4622,7859,17254,8030,11855,19687,9194,11698,11431,16441,10530,3845,3839,17826,2518,16962,361,39,6161,7867,11585,9854,7445,110,17087,10528,18554,3952,15754,2489,19890,12406,10897,9749,1406,1917,6611,1688,3446,19895,16410,12583,9202,2005,8873,17860,6689,2606,10618,4230,19264,16202,8048,4584,16177,2335,5748,19977,2177,6408,10054,8868,13033,3345,12804,2804,6415,2347,16278,19715,10779,15617,6981,10652,3775,19049,6450,17806,16702,9319,17129,9850,8279,16769,15104,15023,11112,5121,5900,6886,12402,9948,12135,12188,11203,8248,13104,13390,6996,8575,15098,14563,4549,12420,7957,15456,19465,6942,16747,2708,755,3500,7812,4877,16449,4084,13153,14232,6821,13030,14266,11335,17832,3093,18539,10227,4633,5404,11600,9578,12728,6259,7646,6001,10994,2411,3441,12232,1321,13004,16458,12289,12290,3388,6592,13738,12509,16493,19013,10593,14663,7217,17597,3403,4989,18696,15083,7488,6238,19377,15530,17432,2121,17744,13497,3842,4400,8125,19062,4399,17142,12301,719,14740,13063,7964,2899,6172,9364,10231,2538,12320,14871,11183,1091,6094,2415,19329,13197,5848,19534,545,16662,8259,5839,9260,11253,2189,13907,711,16134,4745,12286,2261,7742,10572,17147,11077,15224,5880,8532,8932,16632,3606,13269,15628,4517,10392,15570,14580,6862,17167,14009,981,1287,16746,830,17754,11301,10764,3148,12508,16404,835,4994,12433,12151,3534,6464,15521,6478,19726,10691,18809,14865,2224,1609,9774,13136,7644,438,6035,4304,12526,17756,3058,19158,13460,11197,15879,1433,4157,14994,13255,14595,1744,7872,17469,7221,6823,7398,12750,11205,16762,14027,18596,2048,7282,13772,17796,8812,8164,5309,18125,15402,6748,7170,1842,18832,11979,2249,5598,6373,11167,5967,18420,5781,18233,19958,11450,5302,10576,4283,5024,19549,5251,5951,7031,14359,8139,5109,15743,6838,1150,19917,14063,1573,11526,12891,9922,5904,12865,19739,3239,5783,8657,6760,5575,11757,17849,8622,4933,7908,13098,6660,11714,3887,18969,18161,16888,774,12627,8288,8206,19115,13337,6216,15581,1189,2739,18311,18966,4275,16845,2495,9875,3226,18277,6779,9429,14455,5096,17331,730,5415,2857,17681,1198,6411,6282,13712,1823,13391,17714,295,10471,6195,12504,2346,5399,8346,5300,15977,8705,618,8706,16966,14626,17848,19162,400,9123,11349,8833,14067,9619,2466,6868,14418,8639,12806,3490,6652,5082,9162,13639,11281,4748,19864,19431,10143,12773,3953,13290,15312,10882,5840,15236,2731,18302,7901,102,104,12547,12544,2663,15217,3206,14380,1720,15231,3411,9890,15696,9557,11914,965,136,17012,1563,3837,2083,17196,9685,1622,908,122,4100,1110,4898,5878,2442,12754,5443,16,3145,8250,14220,5660,5569,17970,1495,1725,7909,6055,6064,6718,17772,6281,2658,319,3301,14581,2560,10188,11087,19297,9361,3940,13029,13537,7071,18138,2085,2490,12711,1673,18765,19096,5184,852,8153,5694,11747,12943,1668,13392,2041,11960,16428,19740,8255,11974,934,2070,13860,2519,7803,19101,6850,14811,16015,19548,8155,1342,17582,12997,1003,8799,13137,19527,6048,16697,6396,7866,10493,9855,19877,8261,333,11605,13124,15807,15828,13078,5920,15605,3487,15395,8652,8543,3274,6783,3729,12040,1959,16941,10383,19139,4260,3654,12558,3992,14136,5412,6051,3962,5350,7802,19226,19223,18543,9005,3682,11674,9872,9627,10846,8879,11304,5643,18053,4161,11153,8245,14497,9935,8836,15759,11981,7378,17931,2735,9393,1345,11399,1251,17757,10090,9706,7503,5565,2608,11391,15534,5000,8565,17318,6135,5651,19251,11934,11093,1454,929,18498,16850,8536,19143,18906,7436,14577,11195,182,17712,14320,12101,3177,10715,5244,15184,16734,13647,9529,15132,974,19321,8092,168,19070,12325,9486,11388,19609,17869,15988,13364,17454,17228,758,15159,15086,11369,3603,5834,15167,15100,3533,14559,11622,2153,17833,19800,7711,11334,17195,17029,2468,19569,1694,14487,3164,2351,3551,19490,7441,1159,4981,6370,17737,19680,18223,8036,18935,17740,12038,12568,4872,3876,2995,12471,45,8795,9150,11468,7944,19882,18246,3318,7954,18295,4431,12615,1359,12002,4663,378,11182,6104,3964,11941,19006,3536,18301,7060,6867,9348,15380,17685,507,1331,19351,11596,16923,973,12762,1869,17867,19412,4444,8504,17018,12412,10723,1882,2935,11831,16772,18309,17906,1382,16338,2551,10924,18555,14414,12565,19842,5045,19537,9823,1568,19557,15305,18459,16580,4801,19742,12105,6007,18457,13437,2689,3397,10322,11041,1822,1298,4819,1384,1468,15847,6070,12018,11123,15683,14206,207,6008,4521,9771,10535,15715,1437,13534,13257,19419,6264,17862,2927,4651,17777,16637,1363,14230,14641,13180,15916,15665,13301,16915,15008,12610,2818,18225,13277,17081,18639,958,4181,17151,19735,19913,8043,14493,14840,19453,14304,4961,4644,19333,479,14543,17808,12230,5041,11442,11818,6453,14183,14256,4234,2845,16499,13157,7379,17188,3589,13487,2231,19487,1614,14439,156,17421,1064,4859,14509,6904,9020,2312,9865,11762,17483,7093,19696,11702,18484,3993,4049,13605,17979,18635,1633,10998,5145,8980,9703,5176,8863,13440,17097,12331,10010,14807,1377,8956,11062,1346,3929,18722,14856,14130,8767,13751,10849,392,16200,1197,4888,190,1977,1653,19247,4668,2523,17774,11082,5944,12576,9839,15433,10262,1196,2696,6547,14665,5877,5759,7958,7979,8976,10280,7291,9469,17679,10475,12935,4352,402,7262,832,15333,12437,19638,16910,10887,7955,18213,15091,9440,13980,5751,5036,9335,273,8204,14837,13155,123,13135,11336,15958,16156,7678,12165,7903,16891,8312,7663,4442,11063,11507,12708,6062,7146,7090,3878,6492,5779,13143,17159,19182,5126,4322,4248,12904,19502,11500,9094,150,16653,8077,1400,16630,18755,14337,8924,4405,7158,6679,8162,15889,10688,6685,3269,10396,15198,4086,2323,4894,13585,15938,8617,17266,11884,18953,2460,3835,17314,17876,16716,13146,1995,8147,11067,7393,1620,8099,10995,9286,17278,2037,10317,1870,15834,12974,1940,6984,6499,9874,7044,14179,10753,5680,16539,9285,19596,7980,14210,12987,1640,13193,79,4424,2648,9582,4580,10686,9940,12797,2956,16750,7131,4282,7529,4842,11485,4473,19330,515,8445,19618,6168,11920,12543,10220,3554,4119,15842,17411,1666,5149,8571,6226,10365,6697,15347,218,16796,2157,18739,3080,10359,4747,9078,10813,19802,16744,1128,16741,15462,13563,17160,4001,757,5269,14755,7297,9790,8742,1012,12194,4650,11350,18220,4618,10465,4531,13815,16666,14323,19851,6711,15394,12810,1002,13879,6223,6642,11180,1473,4267,18996,6405,3191,17996,7971,3848,13015,13984,11687,2681,14167,7415,16864,10127,8509,3371,19462,6420,19574,4844,11544,7301,10807,18862,5528,3453,4246,12022,13102,4278,2810,4485,11240,575,8692,11463,16791,10828,16524,16182,11370,2382,17246,15896,6497,15124,16127,6272,13611,10815,19094,299,14341,6683,9227,18336,15334,14733,11604,6929,2168,3410,7562,514,47,12517,8420,1224,14530,10659,4926,19909,16332,932,14397,375,1037,6242,4224,17367,14918,3945,4032,488,14399,2349,4028,3348,5067,1151,19757,1055,5358,17189,3399,12524,4688,12655,17462,10651,7440,15338,11199,7533,1534,10242,19661,2898,11878,8556,18153,18613,13404,2212,12626,18476,18040,17993,17492,2754,11213,2787,8063,2964,6877,18623,9643,9758,871,10293,16951,1957,6407,14902,8701,18683,11534,11072,8714,11127,18244,12795,18702,12214,1312,14263,13840,776,5206,16422,7309,4193,10987,13635,13816,14646,13800,11699,12836,327,13425,16740,5587,15412,427,5561,5044,709,4182,11086,486,10135,10827,2714,18242,3337,17204,397,7546,1053,9396,10417,2743,1894,16836,5609,18089,12790,18150,15913,9497,13242,13491,14033,8939,6634,13921,16208,18371,9018,8781,8226,6392,11383,2348,8100,14846,14148,6101,10900,11186,19960,17664,9059,14639,2296,10221,15174,13522,3284,19183,6058,10210,16857,8619,18407,14611,600,19367,19963,1693,869,17854,219,144,11104,12903,17752,8008,3088,10832,9234,8686,4907,2966,19626,16091,6941,9446,14770,2910,17628,15589,1650,17414,6570,3336,13395,1173,9813,406,1398,13233,4568,4635,8019,18558,6618,5317,5276,8218,3923,14303,17034,8180,18318,17263,14952,19832,6881,3656,12566,9671,2434,7536,13273,3264,14898,5610,17265,7331,1227,19100,14730,13432,6988,19,12174,8712,12238,12476,10080,9560,10933,1570,1395,19598,5608,6955,11978,5484,2846,5003,15323,2925,9400,10863,18097,1976,292,4159,16249,257,14073,15445,5326,718,13518,14854,10313,1807,19093,3296,9779,17244,19857,8377,19899,2079,11163,8410,16678,18294,8549,9103,19461,17639,6927,18105,15223,2485,19818,13737,6113,1024,16709,85,9788,11402,6265,9332,18895,15816,6451,15679,10645,18259,2447,4715,8363,8374,1523,15539,11716,7422,4247,7007,7956,16650,13861,10109,15060,13794,7789,8640,2704,476,14215,14207,13183,12964,11616,6288,6433,16344,1327,7951,6936,5732,16907,19699,557,9884,13292,15714,14727,15111,6727,16917,15591,7557,5307,12681,19905,4356,5131,3676,18375,10858,4886,12183,1299,17128,1607,18234,1125,19998,8057,469,7732,16586,10047,4478,19580,18682,6715,9820,3588,19439,11026,313,16932,6816,9201,9092,11319,8112,14499,16900,3670,9757,2276,4092,6656,16041,19069,9885,13112,4701,11244,1592,12698,1687,10192,5808,1944,18425,14829,17007,8174,16412,18306,8752,10775,1627,11309,6061,4581,11251,12444,8514,2785,15479,1379,9322,4768,2457,10103,13039,19331,11285,8659,3175,19972,9461,6469,3732,10663,13667,6713,517,8033,13333,19594,11926,11019,1383,9024,5934,5706,12338,17710,6285,6006,17110,16852,12308,14978,10052,9739,13323,8390,12195,11477,16186,2396,14850,6211,14522,17482,15727,4200,13945,2908,7748,19673,14140,8136,18416,13051,19520,13309,2838,19075,7580,18417,18562,1361,10004,4374,6284,17510,4349,17574,15438,17855,4576,18071,3484,14912,2947,8260,10811,6314,15789,11085,16105,4323,14273,7785,2876,9329,5816,7975,11657,5720,3117,1817,11629,9472,7240,15214,11252,16346,8876,14047,3544,14942,1691,11208,10300,8695,10197,8426,19523,14900,3224,13593,17311,17840,13671,14494,1667,2902,15279,3054,19823,668,19758,10617,8389,2603,1026,17965,4562,11743,13586,12927,13079,1344,17890,19347,8083,13764,623,13462,9323,19593,13845,1985,18525,4684,16562,8958,16191,13254,2060,10974,19710,13884,17960,11525,14602,4923,14601,13307,14682,11519,243,2527,9601,19744,6979,5210,16139,18441,10164,10604,8297,10563,8972,1340,19506,4497,2042,3818,3417,13578,15512,14228,11279,1020,10152,10647,260,7548,2061,5682,12358,7875,13325,13993,9232,10421,6714,18347,16153,10885,6712,11705,17383,494,11437,14929,16081,7877,60,18821,8903,10494,17310,18569,18009,5435,13543,16868,2000,9216,8128,17587,11982,10362,5078,188,17337,12342,841,12060,11272,10092,7625,3763,15673,15247,12485,3716,14353,19801,2371,13414,4700,9307,9665,2657,15991,18382,18773,8130,7157,6049,16294,3156,7913,2877,13466,3561,17950,15443,15382,7059,13514,7475,6770,3815,1998,15299,715,14671,17419,7774,4126,8178,3819,11235,13882,14703,1539,6742,2180,7218,3026,15339,2920,3432,771,8365,972,16921,8157,6875,15043,2539,14753,457,16695,6037,905,8264,5768,14769,52,9954,15979,7451,230,17946,626,16720,1206,9483,1483,14346,16276,5305,9310,2313,11681,2549,19118,10245,2058,81,1806,2210,1001,19516,9176,7268,5865,19621,16712,10287,6746,9792,7178,900,19068,13218,9594,17092,11562,7837,17998,16162,6837,1470,8158,9403,3934,8021,13830,17944,13525,1256,19577,6024,5063,3781,9474,5725,704,4496,95,7826,9432,6629,1982,2556,5377,8926,14932,14652,1141,9700,6009,10967,16433,18500,6207,15274,11806,8760,5064,14526,3909,16567,12016,17280,4689,14107,662,9871,17798,6798,10255,8745,17992,1305,11065,13366,19273,19165,13359,11459,7506,12394,10928,3605,6235,18919,19856,3409,13310,15795,10735,6522,19417,11885,19955,3330,6030,15055,18914,8573,12020,16256,13319,12300,5550,5062,15563,16839,16571,2243,14169,3018,13314,14517,9355,14162,7100,7439,15668,4152,6424,7687,10534,10594,19409,4559,4261,1441,8007,10701,17540,6,4945,11592,6813,15985,14691,896,324,655,11108,7283,15939,4932,14488,11413,8973,2277,4408,5257,5506,512,13076,18113,6145,8848,5496,14997,8597,19670,15318,11750,14218,2294,3060,6865,13421,8449,5489,19255,3181,1319,19286,12120,2075,1753,5741,1412,12347,14862,6939,13769,10265,9169,18505,7507,14729,4058,10056,17203,2063,15058,4,2782,15053,809,15069,7588,3938,2174,14404,12613,14863,17470,10878,27,6517,7604,7891,8075,18922,6307,18912,1040,3807,8946,17790,19275,12242,16035,17535,15776,9738,6446,14680,16157,4795,8460,5992,7559,4103,17213,1743,5220,14155,15701,6524,5417,362,7206,3346,725,17039,18000,12269,19809,11162,11105,10123,10914,9879,667,2114,3094,7501,3525,18882,14805,7765,2389,1170,6077,5481,5567,18258,13935,816,1093,6930,13087,7953,14560,18634,12360,2074,9752,12361,1969,13000,7515,11018,9327,14333,9392,13231,18069,524,18830,7035,17877,6056,7027,15446,12125,5447,446,6080,10449,5025,8959,10491,17429,13125,7847,14673,9644,10512,7304,6434,19665,18659,7039,13604,10195,1755,11835,912,5606,11378,17758,5202,13636,8313,180,13044,18843,3216,1049,2824,16978,1421,6678,18844,3562,19555,8473,4823,1450,1803,2517,4137,11190,2524,18678,16847,2254,10473,11869,18367,7409,10677,17368,16389,11134,19145,267,12898,16164,698,16556,13188,17564,1422,4046,19788,1591,9766,17861,6026,2622,17252,13678,5470,4845,16680,6139,8808,17358,2955,4869,11315,13657,2991,15917,16759,5288,9926,8350,13025,19884,15346,4308,7643,904,12150,2093,10022,8629,1683,13050,10978,13055,2392,10982,10375,14591,12090,6067,3147,9257,11066,10401,6636,9522,7430,19360,652,17288,18745,3282,8526,17379,18823,14986,16043,13903,11761,3020,18791,9172,2395,16181,14075,16222,10557,8615,5386,10700,8349,15984,1097,7855,9401,422,7747,4539,11589,17343,14859,7344,3082,1083,10403,7804,18039,3276,12147,7942,9687,3424,12887,4122,18955,949,11543,15044,18908,10278,12784,16462,17122,12046,19442,6682,7189,4250,9534,2338,11473,19250,3066,7739,10801,761,9017,2697,1038,18143,12248,9838,1715,6359,7881,10420,3307,17609,16521,10149,5918,7523,11639,15942,535,8820,15225,17120,14562,5480,15322,6054,16983,10932,17611,17126,8721,17699,13071,15392,16115,4318,4930,601,17933,14768,16239,4728,942,14470,5875,17011,17864,955,328,9175,7671,364,12346,9197,13152,8609,11297,8511,18437,13107,5436,1146,9934,4495,7520,12061,4358,7997,13962,13408,682,1658,7185,4141,4799,4063,4136,10959,3827,16710,11587,2566,12654,10274,17250,404,8653,2084,34,8975,8317,17253,18849,1519,9312,16614,18142,1857,4494,8023,7202,14110,5661,12696,8816,17353,9830,18340,9263,19389,18345,9420,1273,2756,8014,5011,12914,9515,17447,16358,8208,14779,18806,2018,13320,8703,12086,4277,3559,17768,10447,9395,10861,3354,9956,13560,17889,2887,10942,9238,7990,393,6071,1333,16370,16977,19437,6597,629,17028,11056,8491,15974,12063,9666,10200,11057,17457,128,16277,9724,17381,11627,15996,2546,173,5544,14429,1487,14250,12982,6017,11194,12991,7299,4787,15753,12037,2072,909,8056,3324,1111,17688,12172,3619,16815,3356,2772,6237,6692,2614,16034,12295,2196,4470,12753,4149,2453,3906,3855,2328,18491,19141,19507,693,13566,1912,654,18886,19947,6754,4433,4320,10046,2165,707,2788,831,2805,13691,17755,1845,6182,16717,1193,8348,17336,4441,18972,10131,8433,5634,8289,18431,9903,10788,12070,3498,16589,235,2528,17527,6647,13302,9566,7603,19854,8765,19952,12886,16817,3730,5388,15285,14981,5596,10762,5942,12529,75,8132,9964,7582,338,10141,5738,3002,15045,9243,13041,442,14464,12366,12551,1231,8847,9500,3761,9802,11940,11233,13719,18982,2656,553,10084,8392,2976,3620,11968,1471,10361,3653,6414,2401,3854,500,6176,3095,4238,15162,5716,6924,487,2558,10551,9967,4914,19588,10785,14939,12768,12257,14921,14894,15858,7458,13040,3592,6032,2537,19692,18266,5644,8893,9101,11640,5968,1634,14702,19026,16357,13707,18339,2930,229,18187,16168,15136,12866,8159,4455,18201,7226,1895,15635,1750,5909,18974,10829,8115,18278,12127,13987,17966,9780,5009,1945,19322,6108,9944,15275,4550,5892,15261,12878,1269,8210,12064,868,16672,18896,17181,2568,862,10847,2186,9215,11137,5866,2893,16051,19294,17242,13057,5652,19572,17002,371,6638,11989,5894,5570,10539,4392,17872,14709,12502,18443,13533,15675,12089,11141,2295,3757,1200,18837,1031,15770,13627,17398,7735,15921,19931,17077,16472,9980,5180,19709,16396,7055,1864,9999,4273,1670,726,2439,306,8342,11498,9953,12044,19363,451,372,5469,9061,11751,3766,1929,10611,9259,11083,13826,3241,8015,10290,6097,2784,9379,8844,1079,764,49,5736,18941,10993,7703,16965,17653,16221,5543,9571,10529,13646,1069,9707,11443,16963,17333,2066,3927,13708,10128,19753,0,15940,13246,11173,5410,12697,10725,473,13762,10705,10890,9206,14915,6768,9190,15222,5597,8895,7724,15801,19157,13920,9793,12057,19435,124,12843,14288,5425,13557,14198,24,14594,6600,11451,18216,10581,13477,8732,4854,8943,14498,13228,12796,15524,3113,13883,5164,8648,6303,16399,19675,12255,10003,6774,357,11717,9837,12956,5253,8515,8422,7412,12275,9678,1548,5509,9431,367,1,7681,12206,16212,8979,61,11367,12732,543,8370,15435,19922,4109,18209,5424,6607,11035,9339,18994,14813,18033,5439,15610,16426,14564,1467,5902,6926,9506,5770,14736,15989,7698,15423,9455,4579,18560,9908,5956,7558,7697,5457,15864,16053,10808,17480,3516,14903,10970,4258,2334,2851,19087,6103,792,5418,11859,15467,4522,11557,5242,17194,8599,18321,15161,6545,7092,12069,14801,3723,18630,2766,3810,9654,5744,4328,15336,3316,18083,15496,6594,14116,2311,16175,16812,7257,4791,19836,9937,6337,6127,15695,11671,18162,12657,11580,3612,4188,17291,19254,8391,7177,176,403,16171,11446,15219,12552,8287,17917,9829,18379,5993,8800,13583,19480,10179,5446,482,10136,6138,8881,19281,19365,13303,14739,6209,10655,4171,9046,12722,7949,2730,18573,8580,6124,15259,10088,10206,1138,17149,15995,159,5862,593,17969,12423,1853,4697,3522,7621,14794,18474,12234,6254,11531,9276,19418,2596,17043,4529,3369,13880,5235,15399,549,15442,13622,18825,3325,4508,5662,9341,5538,10511,17232,200,11302,8044,18328,6555,17328,3260,8740,18007,4596,9428,4036,4600,5806,462,611,19734,12667,14260,7571,19938,5641,7777,14520,9525,5031,19285,14332,11270,485,2878,17738,14700,14533,4971,8406,14329,9443,555,3258,120,3662,16692,6116,8925,17098,1323,13121,1018,18377,11286,8748,8658,3059,13954,6343,3600,9756,1604,5189,13963,5627,15015,131,17301,19405,5497,3613,18492,13369,12869,13683,18704,10034,14070,17444,10920,12276,12456,19263,5254,19974,10774,17667,16640,12142,19793,12282,18330,12559,10566,17733,1127,5817,12438,2493,167,16337,10590,12245,15486,14686,15439,16131,3502,18786,10236,12185,3948,14569,16600,8118,10130,5333,14259,19451,19865,6598,10841,19129,8060,12293,13567,16429,8151,17612,5964,9350,9471,3685,3512,11933,19565,11865,6156,6699,8747,3372,3435,3540,16990,12730,8501,9442,7293,6473,11294,19400,11662,18852,16755,1756,286,13297,14016,1610,5104,18624,12303,8105,2195,193,17561,10043,6938,12872,5842,19411,800,558,8985,5952,1157,11537,16207,1706,18606,6900,7140,16999,13791,15973,12889,5422,6245,10532,10441,11866,1628,14098,18905,13284,17728,16306,12287,14791,9191,4270,18174,11854,17640,480,9971,2728,8141,13058,1792,3731,10276,12772,11677,2399,7269,8227,14142,18528,3290,8475,532,5602,10219,1704,12457,4484,7341,8546,16470,9357,4380,13863,18511,17015,837,2998,19698,3874,19064,10571,5893,17493,14511,3931,11156,17894,839,12233,18532,7827,2975,7405,12266,10072,5955,12857,14970,12498,18679,18116,9066,9680,1027,18015,11595,8156,2272,19498,1579,8865,11331,17405,3309,14308,16405,16726,1602,1068,17551,2462,1686,7943,3222,16874,13108,3219,6258,8266,14615,16163,14408,15498,13748,8213,19177,13865,7482,7267,3501,13889,16013,11363,3999,12227,7522,19628,9591,787,7602,4540,4449,9867,16193,4148,13247,3553,9454,19066,13785,18463,13601,2555,9427,8711,3236,17256,8465,11204,13132,14079,11598,19408,9007,2038,19631,12387,1512,2407,759,14776,15837,12398,11386,16281,4314,9091,19510,5631,16938,6218,4560,8359,13114,379,15962,3015,1902,4294,10836,1939,13710,579,8631,2584,12832,16979,8090,17547,6283,6102,6551,19063,17847,6726,1123,15849,3955,16420,2207,7135,3131,3275,2004,19748,15415,11462,7749,23,3334,14349,9889,6785,1102,12586,178,410,18030,2639,14456,15039,19467,3485,8224,10308,3231,1979,7652,3666,12302,5069,8708,5707,16918,18760,17610,17363,3524,12824,2759,11736,13089,13793,6803,88,1307,8035,17745,3622,17103,363,13165,16508,5545,5275,14108,3738,10744,9168,8143,9696,9131,9717,14023,18985,15915,18001,15376,15890,9148,4713,16510,16925,781,263,4359,14370,15669,9605,7919,15779,11024,19450,10435,5428,16045,12327,14669,12588,1907,1175,2668,5052,18970,13438,13174,16130,1827,11027,12306,9868,1896,1514,7865,19930,14358,12393,1338,19602,7778,1960,8628,12854,1432,4382,6252,13924,10001,12389,7922,5619,11364,14095,5445,4848,13950,8568,6974,14864,16010,4168,15235,2302,1893,12424,13809,17452,17016,6003,17170,14649,18519,8813,9374,14018,10834,11300,129,16102,13038,3684,18901,7334,13423,6107,11211,11998,7265,4570,7463,15571,8675,2531,15572,2647,3921,2307,4707,15871,17048,10582,13417,9326,7566,19457,12297,10802,3519,5466,6920,11959,17362,2213,13312,15540,16114,14045,1860,15074,3669,3917,6560,11991,9770,4967,10794,499,4862,580,10810,1352,13555,15021,13225,1608,7075,9618,9552,14783,811,3194,12870,506,18971,1811,18936,18552,4944,14491,19252,15487,4782,1339,10500,18509,9274,4660,3897,11802,14514,5463,16960,99,6047,2110,4709,9614,1692,9186,11014,19071,13755,15354,18038,261,7142,4439,17893,3228,12132,10921,11475,4079,16301,19035,963,9462,3011,11879,6815,10898,10639,2220,11293,504,14998,1734,8326,14160,9071,11161,6326,7976,19886,17255,11703,3856,8877,11292,5441,7319,17672,4856,6809,7065,529,1201,18651,10394,18782,3872,7306,12555,12764,15645,10186,1574,18291,10609,3065,14465,5037,5615,1851,10377,4410,14105,5335,12986,12947,18727,6701,12319,17207,6649,8354,14940,6980,3326,11547,5190,3995,475,19910,8323,12013,18918,18275,12384,1134,2140,18149,17820,18193,7175,10653,300,8211,10880,10000,12011,2259,18611,18607,14486,19401,12155,12168,8325,16237,4797,18785,18962,12383,17116,13594,18945,6556,14174,3870,8670,10397,3365,5663,8584,2033,17249,11262,11849,11939,812,9351,1918,664,1862,9280,4717,5357,5427,18768,1225,19611,16972,5087,1955,4608,8720,13131,241,9067,2421,19539,7124,19866,9410,18670,5929,9621,13394,5795,752,14780,1226,18296,12372,16218,141,14254,17052,4652,15740,3314,9517,17041,19815,3154,7015,18026,8690,11149,16708,14243,3462,11064,8620,19501,772,16238,18967,5228,3844,7215,16334,5468,16192,1403,414,18338,143,10302,14041,14444,1751,5555,18451,7456,13260,16659,6364,559,3376,12074,1270,3312,608,7941,16537,17471,2535,1060,8110,17,15016,1162,13368,8369,8436,10299,1535,11817,4312,1890,4409,19464,8177,16542,4986,3648,4177,18408,10486,14076,2200,11992,12975,17247,14992,4078,2573,16947,2542,14194,8888,5717,3045,13511,10543,8032,11248,5549,18541,19344,19599,7350,19629,13957,19627,18608,3249,2544,19361,432,4166,19219,17108,2043,15410,9340,3591,5715,14800,2601,7640,1374,13267,17844,17542,9264,4365,6422,4730,12495,8084,14962,2922,6869,13634,15708,4772,9568,19648,4265,17608,18585,11837,5910,1536,6612,4326,10800,4386,3812,8327,12507,6972,3823,10442,9633,15032,13502,4215,10977,18694,11012,18847,1891,11144,975,10306,12270,1915,7192,11181,13779,3110,11501,9946,15070,8269,1854,18194,4466,8779,3295,3907,2950,15096,14869,6069,744,16618,14742,19110,581,17324,4021,19023,15613,4606,562,5704,2217,16104,3240,9602,10065,11261,8513,7596,18928,15693,14361,8431,14020,2065,9210,4534,10372,19600,17815,9035,7062,14528,13662,7150,6266,6577,9265,17695,19493,12051,996,8450,5876,3343,6339,18243,12335,10250,10190,8303,6416,3530,6040,8479,13742,8488,11752,11305,1423,6191,4658,14536,5526,10818,11188,17961,19489,1525,11206,14086,16928,9352,2126,14426,5008,13541,1821,12661,5284,7163,644,495,17003,19924,10884,14145,15906,16801,11384,2115,9051,11882,18820,2416,8237,1252,11630,15377,11015,18550,18389,2071,6066,11358,16459,12693,5731,4462,17807,2437,10386,10706,4360,3939,2357,9632,10637,12133,2225,1606,8372,19010,4366,5962,8111,14471,808,12254,8718,4537,8171,13969,11219,13782,15441,18023,15001,13130,9481,2952,4631,2191,3386,17076,16074,7820,4140,6248,17001,18726,7727,3007,16231,10741,14550,18179,3770,11427,13512,10552,5380,13978,12913,2185,16581,12840,3645,18582,1541,6128,684,2684,7822,4654,18787,12851,11767,11790,16924,3748,12486,18584,14708,1825,9638,5846,11380,15755,5861,6095,6651,14760,13624,12052,12801,11995,6985,15407,1214,8384,6305,4880,19893,16298,9328,12137,18984,17635,16327,3719,3865,16375,8577,2026,19084,10261,14384,4381,18663,16616,15139,17910,5474,7779,13825,11832,1963,17313,12999,3196,3192,17115,17192,5359,688,6250,6965,7993,17208,5148,5223,2138,2510,5319,17009,16087,8727,6419,9862,6911,796,19088,9198,1678,18657,19428,1309,6021,3053,7923,11050,9244,15470,15875,3357,6381,9559,6057,19191,18986,14139,2492,15775,5023,14666,1544,12752,6496,19265,3635,13379,170,2316,13128,1391,7530,12510,3197,2862,19830,1304,6426,9764,627,13455,16230,11725,2263,11371,14527,7717,18535,5106,1545,10669,19249,678,16166,17245,10335,1284,700,17093,2211,15317,10418,5769,546,15129,6509,3975,10336,7905,19114,7846,1689,337,4481,5757,6552,13909,12827,15927,13295,8677,13018,4333,2109,3681,13901,12590,12845,840,12868,17169,15963,2336,7277,4347,8793,3116,18593,15365,7806,14971,14472,4771,19171,11222,8518,17312,5221,11921,14668,6525,5022,4196,13463,14407,16085,5325,13778,6740,340,3582,15750,9909,528,5922,19436,12237,8446,9906,3700,14,18403,15954,2860,3747,14055,11401,18022,14744,6146,11782,10550,6878,9490,15207,17152,8928,16252,9030,8951,19443,3437,15242,15422,17770,1741,19119,11958,7231,19560,2698,12853,3238,5868,12014,3315,8041,2136,17545,19540,8867,14643,9761,13787,17779,1530,8623,12140,7932,9408,15980,16149,12883,8846,17769,1158,1949,9807,14185,7960,2418,10554,15237,14115,11393,17317,10443,13501,3869,4030,6506,4721,5607,17783,1950,695,10955,6963,14281,17707,10852,10002,1629,3332,3320,19206,19340,15002,16867,11813,11935,9397,8020,4361,12689,3294,16800,19781,17262,6873,14567,4107,8810,18468,8095,1325,17977,17557,8637,1480,15320,6155,19835,13216,19179,14934,10606,18079,8941,9383,11303,2992,17309,647,12108,3859,483,14156,9178,15468,17643,18521,12396,2480,18175,17323,11551,8826,17227,5670,14351,767,16125,12416,15549,13873,2675,18140,1952,2664,15057,9880,18719,11862,6847,8117,6267,19584,2010,14990,9057,13488,2451,213,883,19126,12228,11853,12834,2128,10913,386,17019,9050,16415,17062,13663,6776,17443,5362,9163,8649,4545,10821,3614,15731,10289,6601,10908,2590,11417,2905,11118,3813,5330,19024,13403,12647,18603,17427,9360,8587,8710,8458,2866,8777,15967,16265,10207,13532,8114,10696,369,3125,16152,19872,9130,17986,12229,13045,8254,7627,15451,18725,5752,10370,8606,18963,6576,19227,7858,8911,9675,16528,15728,7043,8316,19207,1279,14699,12328,9391,8038,8403,2183,12144,10409,5888,13202,17025,14419,5155,11756,7355,4734,17726,967,17198,9548,13592,18640,12043,16533,3061,19449,2858,15208,3566,16453,5337,6531,7928,10310,16376,7675,8029,11147,8838,16856,8477,2040,6210,6662,565,10592,6788,16810,17083,7920,6892,19880,2414,5577,13564,16776,12030,8855,2587,1524,12955,5408,19827,12920,11411,4711,19248,16300,11089,10270,2907,55,2353,1984,12307,15578,14822,14424,11566,18647,366,13357,3642,9125,18098,15431,16879,3581,9287,4209,16136,8685,15519,10912,16639,10678,18158,14547,3774,14635,10272,18616,3073,15492,16233,10911,11820,1739,5081,9610,7473,17748,1903,1754,8476,5692,9126,2481,19034,16577,10398,1565,502,9520,18341,19302,16629,10624,2081,11299,6844,13991,4087,3585,13190,13195,10990,4607,12735,13413,3,15968,2086,6822,11228,573,15961,3415,13975,16372,11343,4826,4942,2156,19376,5761,8874,19805,15641,7907,1972,16946,640,9292,16711,18195,6775,18920,2969,17442,5640,2799,12629,18452,6856,19639,15227,3916,17121,10689,9047,12690,4419,6125,10263,6887,17375,4919,13005,6897,6991,1293,14907,7249,17217,15694,15868,15741,10631,15768,5668,3877,11170,17852,19703,18540,12484,15010,10492,18871,6060,12863,1695,15228,1597,436,10795,15855,217,13144,3535,19664,3587,3697,750,17676,12616,17607,14919,9886,16583,13743,1909,331,1255,609,13264,1459,19677,6987,7807,12770,3671,9324,19386,12570,9656,13699,4303,619,7320,712,18204,2479,18299,7848,16150,18462,17125,11828,4833,14814,2644,3846,18112,8440,3660,16745,877,4670,16450,13011,2410,19536,9102,17282,15035,19172,3704,6791,15520,1033,16881,7213,821,6621,13670,9363,16059,6204,10296,12680,8,3153,18395,542,8737,845,12945,5979,5027,14306,9846,9918,12210,710,12094,11966,13521,3377,19995,15073,10294,19616,16326,12202,2801,12725,11678,3050,10113,14197,14797,8788,2921,17868,7119,14662,7743,6214,10951,329,211,17440,5479,14752,13506,17747,7685,6563,3317,10643,11821,6441,6568,13529,18449,10343,1081,6663,15874,3734,10591,4091,7466,4440,6234,9231,302,7508,12318,16431,5460,18104,2193,3270,2175,14302,16038,11950,10389,16870,3083,48,6004,4240,19169,9716,1387,11341,15425,1278,2076,15143,2734,6730,11047,5451,14844,3986,3751,4127,2203,13579,16555,18927,1758,9508,18529,14447,14275,2423,15481,18854,1277,12816,17675,2440,3333,3847,790,220,650,2159,10904,1177,7593,9728,18579,8409,17501,10946,10029,1021,12622,16100,18514,15919,15093,2370,2182,8028,15149,6915,9955,17047,6105,18865,15206,8539,6819,14679,10711,3292,10256,2817,8974,2379,18777,2889,19773,5032,518,14537,8954,19180,9056,18812,259,10716,12694,5614,1831,13723,16267,17845,7154,3122,15787,15342,18833,15503,5775,10325,18043,9809,10516,19452,935,9192,3121,3806,14877,14531,6916,17209,2800,16291,12918,5855,17568,2163,15796,11146,11060,7869,15296,7745,1617,1538,9480,6508,127,13729,19623,4927,9907,9985,6940,14415,15113,6344,5313,857,19478,390,15742,19770,3478,14554,18051,12138,13960,11943,14593,7864,3797,8197,11719,8590,2378,7542,5017,2130,6372,8908,16217,18481,18917,10037,14826,8243,8890,4589,8741,14449,13872,7555,15176,18402,16019,19014,19016,13206,458,1237,3861,1449,15738,498,2592,906,13289,5160,17453,15634,7496,4037,16066,11670,5088,289,373,16039,15582,4673,15160,17644,4840,4811,14784,3328,2646,10106,348,1800,5188,19148,6772,9303,12129,16253,10514,8534,18933,2097,14372,4475,7105,17164,15774,19576,9897,10798,6074,11635,15869,9320,10687,18701,1793,6430,11145,14571,8324,12684,10763,18800,16732,17599,16067,8673,15639,9853,2321,1567,4185,11955,16119,12620,5818,8553,18872,14557,7606,11617,15510,4645,1156,10380,7534,7406,7085,13345,19099,9144,11881,11412,10812,6291,11568,11840,1218,18355,11565,6461,8181,679,8807,15260,19448,74,4156,13922,1809,77,3604,8801,5262,17418,911,8309,3342,6336,1288,13996,2944,11822,3609,12846,1920,10729,2031,3932,10824,14093,9637,4770,3526,2722,11827,17978,9645,142,15067,8207,5458,4803,2238,703,19079,7769,15062,8298,4578,10519,15363,876,418,2036,12656,19637,13097,466,13672,12809,12578,737,11113,3665,13251,2443,6227,17401,5294,9414,17954,3970,18050,1576,9258,8794,2579,14886,9463,7353,10919,12864,15531,5585,18447,18728,11169,1774,8804,14804,1710,10259,16490,10099,3523,8538,5114,18766,6999,17071,18883,18544,14861,8763,19232,12139,12104,12371,14049,13953,10856,11759,18084,19929,19563,8698,14460,4102,1665,1564,14374,7987,5431,14231,4829,16530,370,10899,2525,14271,2623,7284,3305,15585,13948,8635,16146,4205,6174,15108,9551,19667,3984,8404,6317,2961,7084,14711,18471,6796,12734,16165,177,7443,4452,3078,19468,5811,4605,18691,14441,10089,12243,10360,14931,6042,5211,2725,17380,16565,15291,13338,9073,5502,19336,2290,966,18512,5332,14376,14327,10712,19147,7570,3756,11970,14219,14771,6308,5780,4124,2650,10414,17569,1971,4426,10416,11415,17060,1133,15692,17171,14213,12034,986,4611,794,9803,5788,1571,15408,10776,5787,8398,838,15006,17763,11196,17127,3625,5512,11572,4704,11608,9827,9281,10286,19373,17163,8802,1202,8775,17629,915,2260,3644,15177,7874,4649,13656,8078,4571,5360,3074,4731,6969,3455,7428,3352,5144,377,16189,1700,14050,14328,10281,16766,9314,14896,16279,16350,1838,16116,10975,8785,9284,13797,15761,18405,6251,15745,19188,521,13786,3450,18088,9085,15636,3100,11345,7752,12102,4004,14190,5236,13431,9563,6787,6181,12924,13932,3882,4133,9892,4952,16802,8011,2829,1605,15872,14948,11355,17140,17663,10171,3221,16003,1481,12665,6922,2843,9950,17451,5705,3089,7902,17987,13339,19356,1341,5312,4614,14872,5658,2699,16383,17355,19379,9494,11037,2206,19711,9682,10498,10888,11397,9421,8887,8379,4693,18668,17589,16048,19381,6591,19260,5177,10793,16831,16055,7037,7002,9072,17912,15532,13093,14272,15405,14138,13603,19795,11398,17619,15525,15120,2769,2526,10387,2686,2912,16056,16362,16216,15133,7279,5165,9389,9932,6300,17915,2809,445,11010,19153,4683,4411,18602,7814,18988,14631,10746,10584,5620,6824,4362,18594,17373,9301,4059,16272,18332,17359,15749,10352,8412,18373,19152,568,11533,17349,525,6806,12024,7287,17153,1114,17958,140,7718,1746,10739,8824,16425,677,11609,7073,13894,4934,4875,11400,14058,5805,6849,4706,18749,7921,11870,3762,11135,8641,14644,2422,8059,11672,7332,6115,5272,4393,5871,6428,6901,12410,2958,14785,13043,11263,3628,9451,6298,14920,2619,1762,16434,7670,8472,18733,7660,8506,1292,2620,19109,5948,4437,11404,8927,17261,19484,8528,8819,6635,9695,15914,7446,5117,14875,18061,18650,4792,9475,18574,5713,14153,12341,8550,1213,5833,1399,12348,16335,6958,12126,8891,14368,14853,7753,18308,6745,11680,11669,8823,5005,5132,4098,19222,2476,19500,15112,14356,6385,11074,14144,4022,10405,11811,3678,6306,9079,19640,9100,4066,16198,19514,3418,14094,8310,8660,5046,6861,14710,9921,14117,3514,8062,2789,18925,18876,13046,5322,898,3943,8778,12531,6643,5279,5974,15466,13342,18198,11374,4271,3689,2419,15494,349,15437,5879,6152,19595,8190,12614,10501,8202,804,1785,12354,3972,18577,13019,1600,624,19904,3361,15856,5966,1154,10183,15831,16987,5758,5450,2774,1517,13259,17063,16789,13474,6703,12359,14661,16613,1139,2900,14371,9291,631,13419,2341,15480,13848,10451,19789,15900,4974,1005,15990,1498,4129,7307,10676,6175,13464,18170,11660,20,5778,16894,11645,1388,8991,13705,18139,12365,18132,11730,7308,13850,12587,4256,15957,12460,745,16379,5315,6620,16329,7650,2054,9495,2750,14143,19578,5586,3218,7912,15517,12047,13500,13891,11247,19962,6201,3629,17927,8945,11296,13282,7256,9129,10011,18385,13205,17412,17736,4500,8562,17827,5379,12931,2055,17787,17641,1044,2940,5347,18350,11418,10399,1927,11922,19897,17156,18445,1632,17620,6966,19778,13630,1232,4603,4255,14412,19003,2548,19597,12117,4960,11416,11382,13049,11419,323,10202,7275,424,5714,15529,16486,14000,8051,15474,6148,701,12701,6890,19316,5370,6312,4625,5874,9762,9686,11612,1748,13238,778,15151,15994,12937,4438,8668,12901,14223,8238,14035,11737,18285,8676,9347,15085,2227,3707,17505,3983,7238,14911,1085,11102,18004,18453,10867,425,7416,19614,12907,13147,18188,8555,4643,8154,2155,15764,13192,15209,2266,7899,10574,3198,6387,1886,14496,8228,10790,13808,3577,3306,13544,11455,18349,10521,11656,6777,14012,16299,18048,15251,7036,12921,11877,6402,4047,18718,14617,14386,8081,3863,3750,7679,9975,8493,5730,12890,2355,828,6022,5622,9794,7985,12789,8834,18836,3429,19019,6333,612,14305,15766,2717,6324,16956,8454,18068,14906,18137,11469,5838,8358,13498,2262,4316,2015,8857,17524,3182,13451,493,983,14002,3958,10193,15343,13442,14101,18654,11097,174,7078,2948,14857,12110,12442,18124,14650,2740,2903,18661,9604,19568,12250,9032,17817,9118,19808,10326,10736,10654,2984,3880,4041,3160,6720,18283,16092,17104,14290,3926,11919,1116,5621,11867,16642,4354,13886,14923,16719,19253,18759,7174,9917,17544,12777,16241,8726,13618,702,10456,15550,2530,10939,15034,9554,6179,12829,12065,7767,16660,7376,16024,5530,7736,4915,17956,13933,6249,7167,16520,2835,17354,1557,12170,13946,10690,6586,7620,16532,4720,10881,1804,15999,4957,17165,6825,4997,7850,18756,11793,1540,3735,11288,13750,11794,7235,1320,8751,3291,3690,4788,8214,14930,11760,3144,8003,8764,9430,2104,16322,3344,3557,18520,17975,18358,14946,471,158,10269,14443,17811,8753,15579,1923,1663,2690,16699,13517,13179,2996,10907,1711,8772,1362,17567,8790,12961,9325,11993,14060,6959,12317,6523,676,1308,13263,5054,12005,13086,713,9755,5937,3963,3616,16196,18816,12207,8097,16757,13553,18433,12496,3464,7873,15959,9699,10896,17638,2737,2256,13473,16761,5193,12637,15885,4753,10248,599,15351,14402,8307,9596,8364,19111,12122,595,16244,10979,303,7313,1675,1630,3401,16916,14892,16572,14336,17268,14099,18037,11291,16976,14204,14882,5804,17074,16380,6587,6325,1736,1850,13688,13513,33,8541,10008,13698,10324,15887,1332,6548,13774,6194,16872,3426,17885,2848,14628,16142,5847,13378,4280,2501,18956,11129,16892,11212,3632,8484,13272,10487,844,18365,3012,17067,11527,13931,7296,12405,16007,3908,16722,18404,1203,1892,9748,11810,10339,9555,11601,3086,9411,6513,16897,2154,7676,1364,16992,12659,6471,952,13213,2373,12285,10385,4741,12392,17727,18,12535,16525,7042,19822,14129,4511,19769,3791,4931,6908,2039,15084,14339,3787,12053,5138,920,11558,3049,14357,12462,11290,8535,2230,10579,18848,12483,10545,8161,19426,17746,4520,19127,4069,2047,12815,4897,472,10117,590,18892,15387,10222,254,5991,15384,18926,7207,13444,1856,18044,13503,12259,10364,11166,15076,16690,13856,18478,14324,7831,15390,17813,11915,3070,16002,4804,8249,1109,6853,1578,7796,9881,2228,65,6789,11897,9211,9489,10954,9114,9384,6342,19446,19547,13014,12470,10081,18360,8411,78,17953,17717,5999,13240,8480,19261,15969,987,18237,15197,15168,2001,15255,4592,252,3176,5292,13550,3914,15230,5810,12704,5444,4733,864,11342,5247,5986,17137,15063,1095,5452,7730,1245,19966,11,5728,4702,17042,3321,7281,14180,1043,14483,14137,11707,6874,18898,16654,19422,1497,15631,4469,10728,18572,10413,690,444,12107,18518,14322,4300,15956,106,17307,7233,16943,2329,9458,11256,2718,15271,14416,9367,11577,10629,19423,10258,11059,18900,3743,727,8636,11075,2855,18959,7356,6627,6535,5981,14917,12445,17168,9002,17428,10620,3001,13854,6571,13887,5831,14393,9477,19043,3217,17788,12814,12852,19820,19678,15165,4657,9213,15748,8064,16911,10118,18265,3828,3477,13204,3434,15891,11001,8950,2446,16011,2595,4991,18027,4849,14831,9271,1616,6287,8850,15949,1721,12671,1306,9272,903,4013,374,10665,7599,16447,1975,4680,10641,15360,12663,7025,2678,17174,16407,4357,17519,14242,7509,5923,17514,17749,15240,19262,12171,10766,14982,12223,11784,1615,1429,12958,18706,11099,3489,19339,8219,7731,19797,10709,3028,13210,17371,6232,4287,1901,16773,5722,17303,2571,7212,6534,14283,5961,15656,18236,17971,13129,14118,3488,19225,9673,7176,9804,1386,6171,19545,17320,5740,11556,13609,8215,3825,14743,4881,11850,17857,7180,17422,1935,7757,17155,1699,1928,8127,18589,16547,12204,16984,9642,4011,10172,18488,8933,9628,13877,15697,11326,17518,15340,14793,2152,19352,13648,17143,350,4601,6351,18818,12077,1981,770,1046,7351,6136,6521,1542,3778,5525,10036,274,3098,10178,591,17701,19949,891,10771,8291,16224,4737,4641,13021,9507,14381,13113,7368,14541,8759,14031,7823,18354,16665,12033,4192,14165,7151,1221,4824,7793,7133,4378,6504,2082,3335,4532,18325,10158,16385,9368,18424,6840,13100,4446,6331,8086,2012,11407,17053,17652,16328,13549,5170,795,19878,11481,2030,12942,16049,15164,10502,5845,7264,12215,7491,18279,11618,2484,17937,12166,2816,17296,7709,971,12062,4026,6358,1506,14405,9113,4369,5318,6931,19969,1124,15171,12856,12095,2692,12959,17843,15465,19460,1595,16767,16243,17767,12474,6957,18058,15378,12589,4513,11731,6739,7641,13402,2583,2840,8017,9182,4024,1311,6268,2674,16020,9536,266,5153,2045,10032,3673,15558,15102,16305,741,7626,16743,5898,6543,12786,19763,5181,11107,4800,8595,5124,10569,17425,6854,10734,5128,9851,18707,4814,15903,18227,3149,7399,19635,395,9817,18250,12652,489,17656,7390,14065,1435,16590,7574,11561,11721,15733,10228,9698,17095,13803,186,5059,3055,7952,7247,4767,17221,8184,19181,16173,7895,8977,19060,13684,5938,6784,10901,3350,17361,19357,16392,13642,18465,8814,1991,9449,13092,6530,18239,19125,19918,4977,7195,17235,873,18144,5960,18938,1813,4895,16830,11847,5072,19083,12321,5649,18781,3545,15249,8610,19246,18523,18909,5306,19841,8343,5613,12450,17974,10984,19575,14222,8268,12231,15678,2768,9709,15182,19743,15830,11339,3980,858,18875,17111,9622,3946,17084,1791,1082,3200,13531,1858,1316,12818,10704,15278,3133,19632,12742,16090,2589,44,14442,10332,17224,18269,8495,5524,4154,8494,5666,15757,17625,15483,17939,19200,63,15667,10575,19564,16397,15546,5995,8487,12717,18534,19121,8871,15414,12490,13659,9404,12998,6918,8199,1253,16585,7068,9098,9450,15817,17475,9599,18705,4038,8960,4125,18217,589,18326,10756,1297,12791,16821,14845,9413,467,6295,10044,199,2854,692,18747,12256,2359,11907,12073,3564,9337,2281,12992,11924,16786,19268,14544,17277,7931,3214,10536,2201,16651,16234,11436,16621,6495,15691,19951,11042,18314,13992,19425,1775,14265,16967,7936,1446,3259,84,17604,10855,18940,7259,4574,3408,6949,18322,133,7274,13689,17186,4524,4913,10427,777,18652,16994,15688,6993,6834,15348,6753,9117,15319,13792,14132,13676,2483,622,15031,19189,3244,32,13597,3890,9681,16292,2397,16950,12528,1672,1425,15709,185,4402,10273,6684,19245,9561,10595,8459,4297,7946,17473,2053,5925,5338,11138,8079,17761,2304,19269,11053,14188,18671,421,15472,16578,9652,5629,3203,12867,687,14134,16707,4288,17715,4761,9275,5341,11266,866,8936,5409,12313,19205,642,8957,8989,16320,9021,7339,64,13334,1017,17735,3838,7024,19671,8997,11227,7784,16969,1954,1679,18788,15771,8258,11899,2132,7258,2861,15802,19057,12415,1336,19348,15564,2713,1983,3937,13644,9221,17509,297,13823,4954,4065,16006,4034,3996,15148,19790,148,16080,9439,6141,3641,15767,16417,5813,5887,6098,18581,166,12608,3541,18734,13584,14068,13120,574,18181,7070,3398,14186,7632,3971,14177,1581,10752,2507,19591,3048,2362,9074,8915,12431,16902,7448,11321,5033,7860,15029,5343,19314,6294,5762,18401,15577,16466,1353,13930,2924,15144,14446,1191,5702,13215,82,10961,11479,2588,1236,4068,18990,3140,12482,823,12436,6728,4813,18614,19668,2886,4451,7169,15627,17623,1973,6421,740,13773,17058,19074,4703,16582,14731,8483,14687,13753,19811,10357,15687,17298,11494,6050,951,19430,11453,1259,6765,15440,7880,17828,70,5185,15624,17899,1176,17945,6559,8205,3966,17449,11807,19590,353,11912,12973,17548,18343,10749,2707,2776,16190,5576,18393,19968,953,8754,12560,19097,3120,3132,2291,4979,6154,10101,1953,5249,13415,673,18730,19996,15814,7763,9246,15528,5969,2917,1149,19433,6233,17035,3875,17069,660,12580,8780,7423,3836,3727,2954,17951,18376,13565,17397,12118,9540,15820,4276,6802,12688,9586,7438,4682,2891,9394,17693,4254,17934,5556,5203,3195,15713,13714,9647,14575,18167,4363,9805,12487,13409,8702,365,6180,3950,8138,16778,18353,13608,4966,1358,18091,1968,19826,18625,19717,2904,5917,4057,19420,5782,11775,19383,17935,16255,12519,3096,6247,3518,4351,7863,10169,3000,19235,13999,19320,7963,18736,6029,9226,11359,11931,617,9498,17801,12564,6318,10870,8776,9245,13275,15910,10895,17558,7089,943,15013,163,1416,10091,18184,1826,4858,18992,8552,11611,19582,8507,13075,13362,11523,12363,12099,818,4391,10067,7311,15845,2732,15389,17183,7841,18448,18684,18067,8596,14314,10693,18622,8656,12221,14963,19855,5295,15064,19762,1172,17734,1322,5891,1521,17528,3724,4178,769,3009,7521,17344,1863,2652,2374,12574,10730,18117,914,10917,7199,19976,16549,13668,2381,3041,9468,19566,2819,17522,9305,12162,13091,9062,16661,16723,14267,5091,18229,15056,4089,19239,16388,5819,430,15358,11124,4563,18077,13412,16418,19033,7910,18829,3583,14914,16794,5595,9028,15862,9278,4198,3832,9371,15072,10204,18903,9193,6490,18913,15157,10607,6912,8321,17904,8368,11428,12630,8453,8468,7030,16331,2271,3374,17723,1414,10673,6842,11745,6262,2101,2429,13763,17017,6390,1013,16885,15559,5693,2009,5152,9720,18352,3297,8700,7360,8393,9640,16201,25,12249,19772,13796,12382,4482,490,7967,16361,15286,892,15194,5987,10194,3805,18629,3782,2533,12082,10962,16825,13262,10226,4597,12163,18235,4830,11819,825,4257,15964,14958,2837,4207,4286,17661,6575,12710,145,8395,3384,8570,10726,4432,4158,17299,13283,17704,4443,12337,9864,13552,9848,924,11522,10145,19542,17402,17044,4301,10168,11695,7933,6518,16145,6241,17633,9512,305,13308,18685,6005,7699,6604,16793,16742,8107,255,17709,18493,8016,13287,6751,12585,4097,16714,5936,19785,13445,8988,4656,18268,13970,6512,4535,5355,301,7310,16476,14815,3928,7572,8768,17859,1883,12031,19276,10252,18980,15851,14096,7395,8564,1041,16113,14830,11942,15859,756,18617,2832,12066,14916,2513,1295,15975,13725,10826,18327,17932,388,19134,18400,6479,18850,15726,14226,19202,5822,9708,19925,12003,4245,9425,10154,15586,15386,19413,13066,5268,8632,13332,12687,11287,3170,12885,18643,8140,18280,4953,18173,7200,12028,19471,2406,17100,7000,11379,604,15725,5374,2985,5653,16760,7367,12767,1007,7991,3893,5750,3205,11187,6994,12757,5029,5590,7547,17423,2077,11851,18485,5973,12280,5511,14732,16636,2319,19879,10174,15703,17435,6544,17350,17591,13467,6085,8916,10061,17293,16912,18547,3896,19965,19293,7597,10232,2098,15484,2162,7219,1301,4613,7904,14004,18835,4284,13731,12571,3840,247,9972,11976,8739,215,7480,7569,9990,10580,115,9139,12176,10025,18884,16220,13372,5006,8613,1532,17499,8481,738,11395,5327,12475,7457,17571,9034,3180,13620,3853,14893,13158,2305,13844,17325,5378,15077,8407,3994,1779,2160,11008,19605,2139,13919,18074,5885,147,16225,14586,16859,18743,13690,7352,5532,14788,12702,6393,14297,18056,10182,3779,19243,10459,17420,14764,15739,15729,339,17583,18796,15824,15353,3123,13239,4879,3032,2218,11986,13805,8065,2252,13382,19197,922,14295,7096,15335,15568,15646,1730,997,16176,6166,12632,8734,12148,413,1873,14706,19341,12472,11109,13065,3057,6121,13706,16765,7766,3881,9611,6349,15986,5933,11447,4048,7795,280,1071,9372,9298,12664,7009,19358,6369,6311,4619,16009,13596,7431,7276,6111,13024,17136,7719,15672,10191,588,2931,7618,18414,18486,5163,7251,97,18856,12497,14774,9269,14084,11452,2426,16873,10020,1458,11987,14462,7852,11887,15329,16004,12577,8923,13822,7791,8605,8786,14609,16939,16948,6676,13546,7635,12186,10780,14790,12075,691,12304,19455,9928,7879,10505,17810,1722,7639,3396,14014,19911,14705,16258,6755,6947,10305,7624,16647,9968,7041,18270,11148,10658,11632,6645,4729,5890,19693,19399,17274,10015,6843,13908,19759,8103,19725,18185,15998,8522,12884,11722,9309,3571,5373,14924]\n",
    "%time arrayNesting(nums)"
   ]
  },
  {
   "cell_type": "markdown",
   "id": "ed6858da",
   "metadata": {},
   "source": [
    "### 20210902<a id='95'></a>\n",
    "<strong>95. Unique Binary Search Trees II</strong>\n",
    "\n",
    "Given an integer n, return all the structurally unique BST's (binary search trees), which has exactly n nodes of unique values from 1 to n. Return the answer in any order."
   ]
  },
  {
   "cell_type": "code",
   "execution_count": null,
   "id": "01e8e732",
   "metadata": {},
   "outputs": [],
   "source": [
    "class TreeNode:\n",
    "    def __init__(self, val=0, left=None, right=None):\n",
    "        self.val = val\n",
    "        self.left = left\n",
    "        self.right = right\n",
    "\n",
    "def generateTrees(n: int):\n",
    "    def dfs(left, right):\n",
    "        if left > right: return [None]\n",
    "        if left == right: return [TreeNode(left)]\n",
    "        ans = []\n",
    "        for root in range(left, right+1):\n",
    "            leftNodes = dfs(left, root - 1)\n",
    "            rightNodes = dfs(root+1, right)\n",
    "            for leftNode in leftNodes:\n",
    "                for rightNode in rightNodes:\n",
    "                    rootNode = TreeNode(root, leftNode, rightNode)\n",
    "                    ans.append(rootNode)\n",
    "        return ans\n",
    "\n",
    "    return dfs(1, n)"
   ]
  },
  {
   "cell_type": "code",
   "execution_count": null,
   "id": "5259113f",
   "metadata": {},
   "outputs": [],
   "source": [
    "class TreeNode:\n",
    "    def __init__(self, val=0, left=None, right=None):\n",
    "        self.val = val\n",
    "        self.left = left\n",
    "        self.right = right\n",
    "\n",
    "def generateTrees(n):\n",
    "    def helper(left, right):\n",
    "        if left >= right:\n",
    "            return [None]\n",
    "        if left == right:\n",
    "            return [TreeNode(left)]\n",
    "        ans = []\n",
    "        for root in range(left, right + 1):\n",
    "            leftnodes = helper(left, root-1)\n",
    "            rightnodes = helper(root+1, right)\n",
    "            for leftnode in leftnodes:\n",
    "                for rightnode in rightnodes:\n",
    "                    rootnode = (root,leftnode,rightnode)\n",
    "                    ans.append(rootnode)\n",
    "        return ans\n",
    "    \n",
    "    return helper(1,n)\n",
    "            \n",
    "        "
   ]
  },
  {
   "cell_type": "code",
   "execution_count": null,
   "id": "a89d06b1",
   "metadata": {},
   "outputs": [],
   "source": [
    "generateTrees(3)"
   ]
  },
  {
   "cell_type": "markdown",
   "id": "fe86b804",
   "metadata": {},
   "source": [
    "### 20210906<a id='1629'></a>\n",
    "<strong>1629. Slowest Key</strong>\n",
    "\n",
    "A newly designed keypad was tested, where a tester pressed a sequence of n keys, one at a time.\n",
    "\n",
    "You are given a string keysPressed of length n, where keysPressed[i] was the ith key pressed in the testing sequence, and a sorted list releaseTimes, where releaseTimes[i] was the time the ith key was released. Both arrays are 0-indexed. The 0th key was pressed at the time 0, and every subsequent key was pressed at the exact time the previous key was released.\n",
    "\n",
    "The tester wants to know the key of the keypress that had the longest duration. The ith keypress had a duration of releaseTimes[i] - releaseTimes[i - 1], and the 0th keypress had a duration of releaseTimes[0].\n",
    "\n",
    "Note that the same key could have been pressed multiple times during the test, and these multiple presses of the same key may not have had the same duration.\n",
    "\n",
    "Return the key of the keypress that had the longest duration. If there are multiple such keypresses, return the lexicographically largest key of the keypresses."
   ]
  },
  {
   "cell_type": "code",
   "execution_count": null,
   "id": "2c00e6dc",
   "metadata": {},
   "outputs": [],
   "source": [
    "def slowestKey(releaseTimes, keysPressed):\n",
    "    key = keysPressed[0]\n",
    "    time = releaseTimes[0]\n",
    "    \n",
    "    for i in range(1,len(keysPressed)):\n",
    "        if releaseTimes[i] - releaseTimes[i-1] > time or (releaseTimes[i] - releaseTimes[i-1] == time and keysPressed[i] > key):\n",
    "            time = releaseTimes[i] - releaseTimes[i-1]\n",
    "            key = keysPressed[i]\n",
    "    return key"
   ]
  },
  {
   "cell_type": "code",
   "execution_count": null,
   "id": "6af3494e",
   "metadata": {},
   "outputs": [],
   "source": [
    "releaseTimes = [9,29,49,50] \n",
    "keysPressed = \"cbcd\"\n",
    "slowestKey(releaseTimes, keysPressed)"
   ]
  },
  {
   "cell_type": "code",
   "execution_count": null,
   "id": "708305d0",
   "metadata": {},
   "outputs": [],
   "source": [
    "releaseTimes = [12,23,36,46,62]\n",
    "keysPressed = \"spuda\"\n",
    "slowestKey(releaseTimes, keysPressed)"
   ]
  },
  {
   "cell_type": "markdown",
   "id": "32643d39",
   "metadata": {},
   "source": [
    "### 20210907<a id='206'></a>\n",
    "<strong>206. Reverse Linked List</strong>\n",
    "\n",
    "Given the head of a singly linked list, reverse the list, and return the reversed list.\n"
   ]
  },
  {
   "cell_type": "code",
   "execution_count": null,
   "id": "e46aadbe",
   "metadata": {},
   "outputs": [],
   "source": [
    "class ListNode:\n",
    "    def __init__(self, val=0, next=None):\n",
    "        self.val = val\n",
    "        self.next = next\n",
    "\n",
    "def reverseList(head):\n",
    "    cur = head\n",
    "    ans = None\n",
    "    \n",
    "    while cur:\n",
    "        temp = ListNode(cur.val, ans)\n",
    "        cur = cur.next\n",
    "        ans = temp\n",
    "    \n",
    "    return ans    \n",
    "\n",
    "def printlistnode(head):\n",
    "    while head is not None:\n",
    "        print(head.val, end =' '),\n",
    "        head = head.next"
   ]
  },
  {
   "cell_type": "code",
   "execution_count": null,
   "id": "f0c7aeb1",
   "metadata": {},
   "outputs": [],
   "source": [
    "def reverseList(head):\n",
    "    if head is None or head.next is None:\n",
    "        return head\n",
    "\n",
    "    # Reverse the rest list\n",
    "    rest = reverseList(head.next)\n",
    "\n",
    "    # Put first element at the end\n",
    "    head.next.next = head\n",
    "    head.next = None\n",
    "    \n",
    "    # Fix the header pointer\n",
    "    return rest"
   ]
  },
  {
   "cell_type": "code",
   "execution_count": null,
   "id": "f58fe3e2",
   "metadata": {},
   "outputs": [],
   "source": [
    "head = ListNode(1,ListNode(2,ListNode(3,ListNode(4,ListNode(5)))))\n",
    "printlistnode(reverseList(head))"
   ]
  },
  {
   "cell_type": "code",
   "execution_count": null,
   "id": "d4708424",
   "metadata": {},
   "outputs": [],
   "source": [
    "printlistnode((head))"
   ]
  },
  {
   "cell_type": "code",
   "execution_count": null,
   "id": "389b5e5a",
   "metadata": {},
   "outputs": [],
   "source": [
    "reverseList(head)"
   ]
  },
  {
   "cell_type": "code",
   "execution_count": null,
   "id": "bc14f16e",
   "metadata": {},
   "outputs": [],
   "source": [
    "head = ListNode(None)\n",
    "printlistnode(reverseList(head))"
   ]
  },
  {
   "cell_type": "markdown",
   "id": "5c68c796",
   "metadata": {},
   "source": [
    "### 20210908<a id='848'></a>\n",
    "<strong>848. Shifting Letters</strong>\n",
    "\n",
    "You are given a string s of lowercase English letters and an integer array shifts of the same length.\n",
    "\n",
    "Call the shift() of a letter, the next letter in the alphabet, (wrapping around so that 'z' becomes 'a').\n",
    "\n",
    "For example, shift('a') = 'b', shift('t') = 'u', and shift('z') = 'a'.\n",
    "Now for each shifts[i] = x, we want to shift the first i + 1 letters of s, x times.\n",
    "\n",
    "Return the final string after all such shifts to s are applied."
   ]
  },
  {
   "cell_type": "code",
   "execution_count": null,
   "id": "a99beac4",
   "metadata": {},
   "outputs": [],
   "source": [
    "def shiftingLetters(s, shifts):\n",
    "    letter_num = [ord(s[i]) - ord('a') for i in range(len(s))]\n",
    "    cur = 0\n",
    "    for i in range(len(shifts)-1, -1, -1):\n",
    "        cur += shifts[i]\n",
    "        letter_num[i] += cur\n",
    "    \n",
    "    letter = [chr(letter_num[i] % 26 + ord('a')) for i in range(len(letter_num))]\n",
    "    ans = ''.join(letter)\n",
    "    return ans"
   ]
  },
  {
   "cell_type": "code",
   "execution_count": null,
   "id": "41c1ec16",
   "metadata": {},
   "outputs": [],
   "source": [
    "s = \"abc\"\n",
    "shifts = [3,5,9]\n",
    "shiftingLetters(s, shifts)"
   ]
  },
  {
   "cell_type": "code",
   "execution_count": null,
   "id": "bb8b59b6",
   "metadata": {},
   "outputs": [],
   "source": [
    "s = \"aaa\"\n",
    "shifts = [1,2,3]\n",
    "shiftingLetters(s, shifts)"
   ]
  },
  {
   "cell_type": "code",
   "execution_count": null,
   "id": "32957792",
   "metadata": {},
   "outputs": [],
   "source": [
    "s = \"bad\"\n",
    "shifts = [10,20,30]\n",
    "shiftingLetters(s, shifts)"
   ]
  },
  {
   "cell_type": "code",
   "execution_count": null,
   "id": "aef50f0f",
   "metadata": {},
   "outputs": [],
   "source": [
    "s = \"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\"\n",
    "shifts = [918626230,520749458,524182212,765785280,503255674,886672457,968840290,645209959,558533241,992607879,885841055,813131490,354566406,752819476,817925784,801565914,894359346,912785632,159573270,766802347,601518098,356697075,812805856,146990398,528996344,83250376,22817403,332122420,688586423,361856378,720124897,820826392,968850054,580109071,307490252,281121804,57248650,455307034,659880083,900176525,818659647,590087557,833938153,219651169,309646137,109020123,992702550,737633485,390294935,236672129,610562250,277469163,397914457,703090966,608869914,593070663,751319646,820094307,970234503,136792704,269394021,686414049,639397260,581659482,293141559,284377510,946290514,120887010,261989180,81063862,535139061,952652118,725594435,790472006,860266743,975097005,397738696,919540244,15955208,427982635,712336352,786267669,102817928,870549420,496573695,197640504,708571793,633197090,885588881,59455825,413301780,246427747,394146271,897659551,30074849,905598846,417202986,32949793,351050087,175380929,724126637,342008015,949474945,924874946,858330732,264532970,159022225,82717870,714290029,912473258,17130025,315506647,79033193,137818226,585529250,60055258,780286324,477514069,687403712,210945497,903543727,802841364,217353427,934161700,978254792,605242801,914209267,136102626,293743650,229211166,395290851,773740721,543275017,243139437,60200340,242897001,740101688,771219819,862284789,562957458,632526699,865976556,488186119,893025084,230704210,212383474,555915361,471257949,970484897,388258375,831614877,194362613,774137477,336941175,80466714,129448888,1117187,280168511,361065887,817182923,320349275,686377907,869882336,639588666,408607693,666248784,512639094,694477323,183705887,316180533,454367286,768271330,788243516,176690304,755189977,821418279,767089064,73723151,892569913,411838090,855644408,463436315,585979711,690129881,70229045,997760413,340285859,315811687,183453725,768000924,251184624,679343319,821306502,51378897,996646121,862555929,477191055,252317892,913158295,888038206,494762411,708696735,353331485,672259418,50535414,814378629,488304716,932491960,798568485,437124436,421077297,699584289,89169709,938789439,949388148,398203634,740935676,100237471,989888609,255047989,87316551,250793486,365509184,908870638,191783152,396970374,757323081,734745523,656068127,414219561,495664917,331803334,256771345,358769847,629684099,675308338,5934744,877797522,445352887,515259536,445000087,578397983,802121399,132604844,978260798,29813213,809372920,162212436,131295171,599418131,707868414,414299851,161167456,760552040,801730709,567225358,157318369,664151035,434907429,160871142,148957762,651260128,203030762,760849503,500891594,386711765,654270615,398469774,685123615,27031979,439047375,418669487,610529822,888226781,765592918,996432080,831341102,239197983,178063708,755664675,318905387,478605020,755945778,978905487,756312198,865002987,582691778,639435089,680337217,869869646,826981830,855043277,214844557,694267599,677941656,340843554,849761745,440500501,178385539,491432775,459855534,353152537,232536585,639876486,615402840,6911165,264906813,560906050,407542733,687826153,780558481,726284127,812926213,443908692,388313281,982696365,65112705,491299503,89186580,672320277,115850342,819345301,59664601,685496692,790862973,739010162,445229244,73389582,744870634,825968571,521953921,762470380,818641484,130174371,579986652,438774188,231578264,716051349,131878573,524419839,906139524,276843840,368539286,704062577,402787073,818835260,520017570,607621857,740903860,714487231,347539916,134692090,181865463,597587922,510021087,782140748,341002963,346049564,836470741,600952405,168902684,227616466,369811927,536368013,382068247,273688102,587441187,688650629,627924679,364495677,692869137,718610287,239123333,730147389,541105742,191409002,488823941,188337754,312933471,856384870,795698503,653766248,668498157,268422543,235966111,111179801,298678686,263301041,395530103,373665940,27697047,67786503,100861523,642740167,894711280,658806217,646645929,16549125,645156617,566584134,299939363,415715795,672971327,786602528,305724726,47975334,372415596,530230575,201243781,99428562,842477410,746712513,795273079,9340695,632348916,56418763,220146895,471621430,346357929,377420194,687348120,510646133,630403210,218559719,831877456,825069243,227426400,697306895,792028977,932980404,64476428,783097134,52343103,902900168,392325506,400971838,377871444,246573986,920236592,19315391,101687598,864601039,522136441,384030639,46768595,665387267,854738834,470087077,532654796,615286980,89806637,51077549,50630381,521970196,430735345,691680290,311171468,958071810,15042505,617965719,83007800,226660383,175240250,157731748,397380766,140205586,563021718,701517599,464845397,5912429,546268768,276742288,221570685,493303450,590100522,448848803,676120714,449012406,763310709,575826420,919165872,208777125,437109343,462560628,284463961,506147859,721469365,467996605,782964853,23168190,761887206,134559097,808964077,884944434,863599426,952248615,971705889,669584421,849035327,445062367,718478541,979281630,448293918,829822250,850074339,906291148,990640670,247092991,833076616,820869559,910938195,256857764,297357728,422819209,829884696,151934417,289661804,352257971,976208288,870029123,294832897,943894740,408109682,898360733,713292825,509981393,635965539,124348031,440949582,668050319,269622848,246820163,211981587,574990558,347784078,99681885,581383152,850681731,427572271,788510387,249991814,279903064,796120081,643243482,44868623,610341078,718535673,980177647,533945511,701742926,245805724,222555137,226406887,978766039,773337961,166147785,686055535,242943344,982227534,512833736,476089490,615148280,124721251,405291763,718655299,251438524,939689237,79534580,678077842,618397735,490254147,507476965,667628053,804603302,340208403,274437159,74750779,57679550,2860432,837234966,785226625,571287325,692439124,368724611,820988789,513537513,849273619,918413185,889887641,614536615,488435581,536897938,19759415,774123237,767166825,329921542,775906887,115622563,475519876,247873931,6943135,426827509,995281510,756083162,889537074,543696201,83056439,961690439,642920296,572578653,384828598,26858989,421324286,591213786,396118490,56623841,11004495,170177382,145031140,231861341,328760011,941723359,989958261,17867781,661371180,568593708,960575555,902606727,729401236,205135756,11668918,400718403,168448258,254226405,257772054,440178789,474591159,846506393,266047098,193261695,916226064,564219987,687257466,191506975,539323576,1739296,940130938,112692865,910179376,845647713,374595488,747378852,351184799,531256790,969132715,411902848,119952879,346021733,141124936,376948991,233452105,455014381,994637263,305816776,445991839,523525518,991542794,718516778,231237938,221782588,551914830,155744397,490914367,398944018,84963365,136028800,602349439,413176178,110186446,790485307,319333437,233878386,35014391,196107922,172395753,477491823,811358275,772336004,843696543,205030281,362325283,101704637,135000477,742474178,621875121,609936437,211574250,615135562,418883307,942812833,367608545,784278171,517921282,187926125,309228611,435503874,3493093,63553167,762248101,306419593,84438459,888136064,179421013,45052512,944758659,114351286,957846645,601474294,551134027,778197828,941046914,122054596,600225681,577380414,740727932,898321041,357917520,703835160,239193375,250443639,38062333,280246411,403552965,63986956,845917514,518728448,101645146,285519720,856440888,461174087,165709817,247909680,134522713,214069175,123132490,89953997,433330600,389436415,670815111,183721275,495524892,951067439,40591442,517029285,565479602,470115992,961457568,202259852,364612903,507298780,507102547,988791646,362467403,832131820,878733426,664584328,231963303,600670231,885195523,124617000,953385066,490916292,738966274,874550627,901861081,300769291,795872050,827571272,235575178,19162057,362134565,643898480,800833178,626771891,243787563,208153518,621258703,98445860,588727586,151640394,73214528,690481156,480056864,215153949,876343847,869073642,346520454,586696039,825817791,889447866,252940119,666387330,905696155,77760981,16283800,71068134,186004578,868388869,873912664,622956912,360004183,526278690,918171246,509678550,292687548,619604856,777410235,187730318,648031561,648694263,577710546,831050582,724858775,24686522,926915011,556999157,675415318,362066541,717654019,259861103,793998865,145014461,732726170,265438737,303154165,486419218,126966100,218218238,267888852,952968104,94855935,48477688,788015956,29573705,402503775,778384241,414785420,493784016,137227501,164671383,633816093,806397523,656857912,171509598,975318541,34489296,645193650,758971442,778523243,541319035,351561208,490539135,320812259,104071097,24435141,891456340,111741907,613659861,227099018,402438867,193270117,918189280,725621960,556336129,103604123,749992642,242993444,670429279,48690083,984238877,335104526,338369970,82451374,601197380,175964667,513654636,104723429,385540848,903439057,320033872,746547599,141434693,726465401,896452289,170717310,844164584,485825793,262574058,976363748,95827186,747666868,240265313,697620124,116562544,274972039,417335707,73238240,907715893,358762177,727295701,195503148,41488917,609846212,547255405,125415076,752013594,541004264,628164258,336345510,708151845,192665808,174330775,776987228,795617250,959222387,128778337,777008278,388822525,125449014,370337301,684638327,305975440,972725753,364090474,329009750,36036307,226148123,790034894,596134378,143883117,332705882,43631300,409553351,91156313,45713583,236620735,686483365,389891855,996718733,227473133,15753464,196815804,321125887,434735829,685918031,436856802,856833649,884304116,818563557,81918145,287250460,217969043,848895902,400483919,701411975,622990131,958880825,683052487,848978224,312903743,985745959,1185460,384702681,899776436,922823627,487950507,644906783,785513919,859881332,382284120,41202563,576788022,628118743,629749402,415124164,605259833,690255954,136296154,910856717,870730187,63814935,446455540,969930523,991145983,265370788,721636100,685926946,633258292,818455398,309995680,960155287,188708093,31637761,921159766,817092144,88433026,396492973,791682588,628868884,468678903,894531203,904890611,369563534,180370327,231806875,217703924,412987956,832083691,479603221,886456151,560620346,793346166,954787737,774601227,416905670,979140353,115857102,578765332,864075131,521279752,917393418,131711058,1714558,548300783,842443285,825926973,202689659,11860734,814338014,896555595,135748754,496699804,244719610,214164196,6530701,551803302,756579484,630957980,49842501,315231660,361106807,891854203,144400035,857489971,389186070,943258814,911723436,964062683,630005991,348167724,612078534,236517119,241711292,741545004,871617192,300498700,339987607,253733894,787594145,162404536,224446363,154390409,406983263,87784643,268991638,617071649,689842176,994276534,451610979,939440319,549575038,208414692,563692554,144176207,357010009,544039036,334283100,751814881,746181439,728788816,94659754,271757399,440770673,776560083,667272870,113580365,122774363,12101010,476386327,436304287,231284203,363370083,853939108,871825097,705685091,832474265,460215185,276017114,322712814,96066391,206082258,919982311,552349376,470947101,275914452,482752832,490773040,563165348,290816092,89793246,227477713,135477860,475336139,966068033,409932284,31845156,7761277,301356922,53678789,479922084,883288026,853412657,500572259,471586933,771795257,112192544,446111351,292869080,816756640,194390316,510311903,346165017,693968866,194400287,541150218,964083860,908792254,80605226,538272998,132312245,157904533,437772814,236775586,934025557,307762010,39366800,214341146,456418840,375050293,56835405,888853285,459143987,129475106,600520818,365119561,777984379,578613627,658083561,603565862,697699017,464018254,382412743,993295298,221271474,690751846,81580277,691342285,127508633,498210039,178688891,26563845,633232878,431080816,527331194,8945341,299658134,100473327,613048521,299272106,356050040,834490333,308779388,576314369,536425777,495097854,340686436,133745993,894553072,785617747,970302794,854110382,355743458,973376468,315300237,244140620,247358761,699548419,672960532,923296062,490115281,806500572,635743932,770104705,664968016,764845620,560601011,567685817,120203930,484360556,626437303,564008731,762059896,795553065,217919303,478766727,927264487,659121063,257124305,401021622,820862047,822112733,451642058,606789517,425466499,101696812,580301549,618657816,683547788,471014193,246508907,361282522,622622246,735295665,858654783,507656781,708230733,907049926,800200408,39463971,984461224,891098903,999719792,81572998,151843398,953067278,689720626,195568218,795358544,690430395,271148383,441508335,975089745,294006220,842215637,958108223,79129427,257658392,568420634,326463135,813504410,535187274,93182373,556219963,736112646,155740538,592224908,439904048,538743727,142589404,976106639,766847313,324700743,772702702,240188109,572688297,514960583,106537995,587848935,773925031,766244278,409692892,75735478,182534633,426589686,667331272,9255713,82493374,884004654,268918239,848561622,616966793,700977372,481853881,970269268,781004082,496165319,757537380,520918772,618548420,8537888,980288586,901213789,970570880,464237727,362950299,430123526,598287317,936426864,452500352,656002780,459692780,320562747,345944930,853682843,71148805,328695568,271816752,694552638,347546075,711951743,11154184,535968051,10129260,25785288,976731929,566433311,209558978,280192111,708430376,366141606,21736038,255124465,415390691,781698778,529814553,23119799,18965041,523800369,166578347,918957180,588543692,533788329,670035599,410289409,891095520,809727425,876214743,536310574,475901882,221671607,530890203,189830851,28786842,219516166,325651835,77779345,683604482,28551029,760862493,453600059,267999935,832652786,239423144,499326425,553447520,352769913,859395303,978566644,572313917,532454861,614422615,92533073,996992045,368276046,55443998,927495203,68847225,960815622,520982479,483043178,343366668,619809598,703232264,418155168,453897518,14328609,234552890,210726008,927242154,400302577,699676502,682554881,919341181,840803624,191223615,157771140,757716505,483087402,543230472,415514206,902204229,754512016,707304787,20582133,155671779,628302131,573347577,231534503,367191667,685889732,134826487,564017432,574220963,310220478,916715992,112945370,748677597,651786201,430509763,253992262,6685624,430138249,25604233,948601556,325443722,567691239,187655398,987699929,718996007,279413306,901848748,548926871,915933970,490337717,966219177,866870179,787705027,970816214,248751207,729322332,62542876,515530010,405682558,417746311,762884941,449149147,558592777,242916010,224582206,815397675,816134695,724757104,32351258,350802421,778060023,876164126,561024075,185754007,588213556,637070440,834326016,459501302,590746926,378351936,884508348,647262678,107216148,52046960,261999060,530079759,730585155,494279107,472230744,431254619,75092999,792933277,707730050,242038352,313443013,685597912,424891425,970928694,965136909,44424441,507804924,267785320,320407549,333973008,23965982,242980409,988455095,811763796,882443824,265446865,908299030,460525962,775261397,688061365,157912077,329622404,938738243,307573490,39752946,732372547,159102335,959561474,79019146,699421984,523156284,434109048,795765654,414172658,855966871,348949462,30610491,915813270,648941309,260911126,875704111,911401069,447314767,645173964,681565239,91709450,934096890,903873831,777382388,161777989,924550364,408488293,967406702,538308887,519014947,909648019,358100410,983617179,615179711,410260790,588027873,187207990,3978597,198799780,794384322,544398213,561796925,657726460,353498406,677895166,957165208,472015144,681679586,621616442,155675096,828324885,208979449,18072023,618896725,227609605,99735969,961870885,590638363,19869143,47868530,478541850,545303168,458869599,263798852,5149526,464399093,555681818,183557160,264955771,332955501,587616745,663345497,600029849,274393635,596261920,525648348,801233367,937884107,694235068,883368631,824349460,462439342,685287920,162971540,653954784,783849914,928180828,9930571,114266417,464556610,633197981,321135837,601600396,868963244,794737098,441889326,602069719,280914490,530613449,358816380,33285305,73449185,562429016,429597730,134837117,309001656,201496302,599602952,109442055,572823734,295774071,453683928,584987173,334102579,235475674,568989966,383254153,568765187,277998545,986171745,428512188,668796915,550617367,418567792,18735522,624553294,422244716,364160319,602889313,9829531,870492026,306804457,958637837,445041985,614449433,961820195,400396758,761498290,498265664,859473226,706272481,622051430,649426600,958196221,437896370,226885776,148412990,130748521,370664268,85124038,571671642,70765336,70786088,269815730,316879882,782815047,147035312,729834327,778278234,155716834,663796011,474398703,670356765,56570946,196207163,400038041,453211904,622225628,543478500,882323001,822301976,636452998,722278385,302622530,862585500,246137073,656239365,276662515,653836075,619336042,772820895,767230483,558962439,841112004,906476322,149584485,650137413,775049901,365378905,12408019,892212043,690791669,37181860,611273311,461696736,262177214,99623288,827041383,500088376,233943471,792476469,803512066,243626093,578994647,630074358,862547164,7115896,419730283,753036986,65299379,361975398,777158140,538893364,846183528,687729678,869222636,617839619,587240332,687845100,242113574,498962502,270817985,435140426,267021826,465699811,341751882,641709990,884834208,341056927,206662799,75712861,350197779,815298364,371351148,939798297,225733702,844315959,307555662,745693288,490777718,592755968,961147017,134806208,35328392,720585969,490062876,234525853,335762089,753765179,969386155,977034023,972265956,112722294,231195747,515359563,102518992,734685591,929528459,102732237,398954999,995272756,711175162,562075978,273462014,456756037,875981280,471240090,225145825,938757909,566306310,588710967,711919415,130809324,162945578,494773505,124226675,43175851,439386932,656197719,400776659,299518702,390769060,367465240,277965787,798607560,67732280,474517276,624928390,609486255,87632637,514192223,627554747,9682190,765074600,322987717,349814459,263174398,132485058,807976963,773549567,253329799,842576646,303428832,813037495,468329461,776770846,664718406,127776465,294904879,64617933,423323911,574383075,278428614,493614303,825460366,351839951,907726138,62640072,135805901,888899755,185310181,473157363,962866649,632524509,677064596,863455712,888716132,189862342,405629377,43123908,61843505,576230482,260912694,357378228,703476358,218386948,184574090,60941787,378241935,790442318,107320732,568435048,912977613,892308880,645282028,468357496,423693420,976080563,792076230,711891950,817755112,319562608,276001476,578260573,902546411,779675478,175432424,760337557,751889714,484577397,303764872,368131177,658693634,27628291,690014963,574414009,931042777,422643242,427347303,662448779,915254731,696507793,378541652,761620349,865599291,28792902,110635337,867707345,687062097,210883610,237796700,916546778,228675656,827413259,175425887,735026488,86630917,916714446,685748958,313284662,46721476,664774656,705770784,281846575,742386749,59159308,669978927,968421726,672197601,442695610,770354498,889854360,239047984,208055480,663359357,359224014,109972464,713544538,621956939,489135757,772273808,683037186,137136422,436205457,971935665,405885620,1701866,113132555,747244557,313845580,628272858,817445512,471615876,920376039,328900622,498123361,747769547,339328582,721374416,386500110,399167139,870950058,974152580,929787747,140373547,179507665,303737681,704671354,735572078,304849301,306484675,945954569,612331122,455050589,76711644,505686465,269390668,675203014,89984627,76999771,109559383,106558852,981260499,19111458,940503973,97130540,992023769,873515600,570810100,458200730,915803048,722890726,963448151,553198145,454930801,625255776,254022883,574645024,791080859,4676044,192646882,737379830,189989163,40385551,847283057,593808757,605079,599863867,911243494,799337996,414295771,185875525,645934093,103207404,926120460,360427231,570392632,398133181,819379762,830349814,977304032,432002873,848346243,593071202,201455711,522685429,367774889,455721845,804939676,314126561,996037530,721320593,397050120,727457221,401021565,628274868,74870388,658080925,678434501,470861980,838342383,570189800,477979205,973887858,680207699,114689578,350012194,156350245,983344366,779482651,527504672,488639302,989542428,94807218,270448233,442328027,367051814,147557898,121699006,322960213,627366593,620853704,982591720,505654663,288887947,637446018,454914395,250955949,177919083,947803642,77781940,600531081,977935458,596154775,124498532,980751597,396390140,232010717,868938285,433161115,618778351,612698868,457572653,169543602,849569435,613863880,637456627,943680422,224284166,719424872,395611441,337743710,750247761,25435132,434496816,180992010,845177490,223650039,709829861,786969154,928113672,939606197,742084490,131388096,418577701,824449290,250776724,202829566,636291377,981475369,644709993,235017178,541680659,895701556,721716864,50196628,714195604,437098739,178681675,334294593,735338907,466083115,854066372,591086436,548233003,209843857,866715953,36550204,891184785,849275839,816520455,390597835,498980281,473877089,529265980,330536301,17523894,237506746,735912187,336593774,430144680,276131311,999318587,893079629,933919874,382885610,147705611,323125690,949235084,238621382,641757078,59722309,990314157,36395745,502904368,380240747,648894146,654449078,277944629,229088795,904937340,498647161,494903193,404061966,989182341,278644985,117292373,747279162,404562506,204147259,181548253,70732082,186752707,886912863,142878607,788565080,714129887,237768084,375917530,729160713,981127667,856941418,31957495,497024648,105558491,814463750,921879560,956933850,830611589,169384716,14454290,514115214,719592433,472388143,646581663,611668876,501397596,213198088,480137564,928467054,118484623,101444706,989081713,987345596,606638423,462016353,884745392,751527027,456907431,893474157,414904191,61877312,580211555,452050457,348143930,82771164,365610585,922658401,661513487,759335134,665605370,675792006,216245585,756524393,330131710,183335102,578947852,719811691,245632153,540466091,684758652,770035790,946790544,393734842,263008652,110660204,322391227,544819263,654314745,134767345,236522387,26569200,196448115,977139242,248849962,510906588,183779279,114640948,202393075,545595795,661767895,430368027,488179590,729649750,220666517,226992029,600668663,830543460,633713585,867366149,280501496,103890506,310291681,19620335,854077880,541997488,424386817,30463,902742405,874088577,630613060,940207046,922467324,781461839,301716410,257374629,665572632,400071875,963481095,400692297,422984408,936695813,33769695,78638077,889264709,890712985,665755044,97195314,850603903,739570234,616721178,786235015,10934553,160039122,884193018,519082036,882210465,728027351,727171978,664630575,556257793,96973926,764677593,194810854,57182113,392731270,793185526,342708186,264252192,657780717,450857869,785566840,751567176,168443498,738129665,346535141,370259708,181841425,383978747,384916825,75427596,242633775,517936264,587949747,270153619,760904926,335957240,858189850,731955324,804876554,854737008,929492926,497529861,603206303,389162844,264665601,626787518,996667609,935985443,181139813,841004783,30697005,980419893,553662397,399015096,813607079,51346920,952401128,419043807,31808478,68819202,578705021,483878454,256328876,224922021,7599174,503674039,140013059,800009221,461969904,863471068,692710385,496098193,633722261,226296013,331957660,554979749,827961669,367797906,864055368,557507318,796880733,266533291,697811118,245815305,455852260,314466625,222837151,111060489,734790715,995130104,156365998,314538270,218870410,533001830,824292994,235995082,321711663,326250083,404882521,788147435,175038317,686012953,175487036,18260286,959997685,836991153,817724057,309442485,461021350,986108445,684618758,82968201,853769030,598769532,282801038,391755812,303924188,300992605,225526108,890477168,106171042,896934671,293798876,501036495,467933860,780819917,796379807,386782704,869711323,634335749,677345130,342322468,456849871,592335454,321291034,80498702,919142938,241066705,315024700,331636711,53477728,326949856,587206517,5327265,497301390,991326033,932544518,999879941,512063021,378347394,278830697,344893173,113168907,214224215,130588421,322972737,39184352,611071476,152290849,521377354,65542293,900255609,950477421,512169472,713172324,12424867,993463149,463461712,757305137,247268508,694263813,964401150,316285511,481820740,825430822,469314319,510502770,424639051,397876902,995778997,187136913,344815315,141225984,975759281,982359040,370514327,937568952,502814745,575116493,574834876,355210423,104422590,805897535,781289889,958333610,215194767,439734762,377389368,121986922,854485779,708542091,513539273,363815628,778025928,587990868,548229473,779690243,353883415,800141248,306516095,877515341,72657209,580897200,659947450,457599681,460327010,911080421,109471408,343425556,663864513,784995145,928724167,340777885,373117712,827823035,919794068,915902891,287211460,595868114,966643891,706661335,109389146,251040677,560982773,680956691,464663467,793976730,661911904,883438558,111389659,829121137,754168640,15839296,812270599,387096934,776265207,375862140,405069789,243621892,724267794,353644318,816989192,891942100,645056275,509222019,485781991,843209637,554539605,321433140,564285381,114414675,945563436,905332284,620793791,101948805,488743199,812236568,21549672,671244521,258338137,335980661,686751888,765526227,525553621,234559943,31317459,185677411,800272236,43290212,691964503,37708844,516774891,694907989,677740016,350496201,977860334,956916800,536313045,977294826,630197572,945670645,847649622,756090840,783720165,145649062,777599063,255995586,134415728,849758925,940559520,173146724,781207272,599598092,530808806,690807732,462729,578239958,764522673,867245914,368683551,357933898,216613318,195445878,925451609,550262410,520747545,681994307,644860858,189930975,799354262,918776477,188428834,633923795,249015522,938246825,688973484,184005130,635930005,278879008,181167941,442438299,405770352,291731810,810324771,900783383,163483337,44792801,767876313,113034238,510954827,650573635,983640523,914565347,618906043,674568498,529786224,989994445,741769111,552459813,249545865,32053732,205279619,170941958,197029246,440001769,431365337,509078147,542024439,541893976,437265106,117005026,831584377,979347162,146485763,723166272,803454521,815301340,642435531,224728010,249926555,857263943,877510324,611552021,545843031,786160480,830271683,259977064,649159998,98758505,483407855,498359667,443053143,902013051,51604502,386251499,723783881,634158597,239978420,360978905,121571607,145478366,726765191,540163484,786018396,965181149,773735618,592101175,25406293,890982620,287161949,23854608,201974001,364468101,562215701,267544258,686115955,925850305,19634682,748838153,837667448,511012388,697102146,678556578,486236613,234829078,765641538,428655619,855060341,232977526,101938352,275926106,148161193,566411252,264917990,117779894,568897723,781761875,586290037,730047997,54939368,730616396,42458549,235871451,444548283,277099761,121255836,993893306,144281596,769399758,201827559,509044372,504308302,184991578,805231004,524711782,898863977,612546262,162035193,80746003,369983913,138210296,783002996,937935612,331332692,851770284,152281775,970817636,347212010,687889223,875534872,308156797,666788366,736854700,232818038,230589508,211837145,280268282,668282712,882742984,352070551,313856891,166668326,284009856,280692490,383445511,40622180,429141229,674269877,101663549,173044466,834776291,744995281,610043567,814909673,373708762,915810148,963281459,608354901,396193017,668699721,388548685,613286284,657918673,73453290,889153530,265470739,93619560,521506109,812901558,809393547,640459941,42440474,19715776,935084180,943309564,655220260,372117729,823219110,770959402,135499572,681451038,764438279,231093233,137637889,302326047,595034958,778211138,265578644,448081748,375469110,577103630,144976222,69623902,975549523,338208355,652554471,109434631,980345728,869831965,752278551,690888853,536503196,806189489,914391701,423651578,27909018,295074032,761806503,457261390,370429435,757992916,67153273,993212895,374985096,265072939,507947826,170955037,497036105,197120447,376726719,133659917,409293182,686672281,747671151,976791121,471484505,746244290,54415371,955663676,597079612,929337929,463343987,671473391,610125739,850924441,115156327,407672120,254518362,405138596,705424222,9233297,918034067,843710388,297758399,330676434,830280138,700728398,929507699,431189112,190793418,838999653,204764021,554953817,976876965,519128475,853131262,510179418,850821104,53502808,655948083,352703332,213706379,422437819,535795630,682337908,667638471,921248296,248425819,641023864,224849280,908822544,826454662,155536242,854579688,271942320,617792789,920603677,561455997,326016025,171590857,921885525,438721211,988629566,255921543,128840980,97387693,578878171,29028912,521239057,909336911,196376472,984162378,782892103,581338148,967782942,739638589,988130118,183253725,485125386,412883950,73957077,183889038,987471883,611523298,367628652,64330021,581299958,566087956,104167383,909596719,328175399,684740300,628193952,875588015,107650202,929513387,963311562,380930692,115676217,356115981,628528693,637291128,267295822,549721554,758172418,520340561,735615573,57620832,922240362,958465313,576547290,44060256,169433940,462931840,820241893,718129707,384718160,869353670,870015570,604592462,216796970,97112863,305874539,705354721,420562920,985801731,790081631,174680516,872363697,22614211,566091430,430779957,99142825,30185400,499323287,59114143,340182497,155564314,517754911,492020128,790829854,57999249,150767756,12279220,518903023,276434865,408477675,772225095,888156293,93315867,247095280,171768929,516859169,418334766,927731186,595608607,964065244,655503345,153000090,451359085,912757215,192416302,696227078,574419910,295722102,493295294,872593024,538299188,565659730,941683948,516764240,69856955,168504832,286547652,232101279,103959468,912395490,997904749,731862709,668289176,508157029,890159034,672778909,465497910,208410069,285660318,730489508,766615187,744514239,327625466,285321633,931049667,291093786,265993254,981840244,269403458,697081806,419220663,242767485,999261740,229647242,273227884,898828676,38081421,752051400,605351086,681375273,560750703,504615251,600010547,300370509,720479643,451187142,817243823,723132869,956182654,278388408,603631753,104779862,735144931,750376806,878754723,639515916,634083693,265788170,141542401,946870092,132875278,79054250,70290570,980518146,728401509,463418626,175818311,543862228,779779069,358203289,435878491,49559930,306543774,98660877,515682982,113343281,460256620,35330160,551300731,291467988,613383965,280887657,156125415,392503939,811558126,882604883,774733643,288507582,627488551,216038474,653314474,804066296,914295389,584073482,95665722,394889782,762521360,893472758,627105574,433105070,892142731,580791919,197494000,272159285,193332433,159832449,279148939,412435229,713347984,544559168,88810210,255212530,810591338,215150803,829894124,903764540,88919398,863211750,154647395,659028125,950228952,44279957,751872330,594099382,803373873,282172699,906769404,241298931,542959494,224172169,312736023,666083763,90497305,334829164,829192214,407455250,416203106,349148812,650413894,995972094,126224671,377294339,893965766,689022625,159846700,33216828,984906033,221550281,753247089,116155256,748100366,501319005,937351204,949985182,451716778,567282696,48525758,60819842,45638126,905022563,255003949,716237468,866041488,698883992,400306629,163719110,873413356,884983112,941220615,942198871,80888804,524017176,696103401,312570922,844211473,361052797,142922644,674211338,869940750,329880565,382134174,972149641,398932395,987393706,299470462,599776106,925404573,797788661,104671830,152107705,205081289,339429521,410074998,857958015,649874643,704106198,284044728,553719011,557912592,414320756,774875662,242533756,861056950,679409178,112046761,174485099,117693173,987305244,23823634,208218003,917743346,278561999,156928678,795790049,284142471,613256349,322909918,90329537,289157361,775213922,746791904,742140637,813566656,625801933,741222560,760543103,315601425,389845742,212746163,380005423,674354868,49405064,718265261,395927201,494363245,847196963,380170187,627919107,737657917,47264708,935824994,13009487,817505079,475047150,553330304,808125818,953166417,970253359,154739293,163127114,23016760,242617106,765260896,375549914,890192141,889711258,280187712,417009193,439166903,647673252,806617179,932491940,193689437,682519033,784509621,861846378,792591410,692275670,50842584,728100813,312996855,210135279,843476071,812362857,950456435,858935211,774916714,726466053,197795696,644556947,312879617,56768101,457298498,564606675,399657699,368949474,606942090,615926339,43921945,163225180,627115369,481129214,484467,861577065,319013654,459960436,886105543,243875516,497702837,829187426,288524934,474606090,462360291,314925250,483821292,940385539,215537743,685795818,649102814,227066069,275150635,557533335,463443262,89206165,76137912,369494491,728947026,899591072,832981029,260985618,149698031,679182594,252466577,994663366,661460713,251700182,61374205,311648588,286463670,604381536,152516655,114913103,407751836,667033616,642336809,15414008,676743660,717713490,947378687,423220394,410752665,420026833,444040292,495133964,516317650,166368263,828703242,601867665,268387670,647454394,281515959,330160699,744970548,513363656,973272306,961497580,15280720,344594488,249774096,533072964,753728679,804738211,345063379,383266145,974492976,388099274,888765260,746521497,503528618,90906397,620795912,284115309,392879933,719595610,472741219,778741455,520119950,954230992,383612558,671802159,972083519,492434362,455268992,871831911,482323446,447392549,125554262,427828914,280217755,211149878,749347950,279916293,18280564,368101489,818605889,391747373,437483502,28632750,739813681,809654068,434623906,85947604,265509522,195656555,559022325,172699603,864043786,981027694,434947593,672023465,773173603,223029800,488887859,807168133,341891576,584601920,500996962,992669867,311144499,280039375,479176327,679777712,191419269,875613794,692041268,232083705,581140428,962571266,103409017,208098106,958376582,92459647,540582623,99912538,437961310,884065750,878821569,969977099,78175786,740637692,81449234,801745748,68886789,479352458,312358929,74060566,990727578,765922073,781046542,595988458,56859372,246178253,46180316,142420819,718506546,634372079,612878420,819466536,238597161,336377936,148113787,261460487,614033103,933818735,994915900,723970451,681780494,589344158,424162754,665356937,980922878,718043311,206603402,759932794,660554110,188209735,7219958,581834348,14891149,480860381,702247291,276882810,273809413,100931347,287853744,553259091,368627935,744719529,299684568,37926187,244110168,603949387,258160055,953462376,167665370,197423541,245305094,464147247,515434090,459477776,470802887,105463797,7009654,80829415,752695402,333382823,6139875,585928498,815150967,509582892,283469031,528812029,644515717,293480724,935229467,739765285,497422071,997306094,518684443,819323450,678359000,692605359,490358616,452441273,951659726,856777818,464266301,464642895,310343664,916719657,965525030,4807083,243010900,346719174,532395928,932208971,362876585,960955092,220849761,749457541,142498707,126738293,512249407,2935844,372533169,113602576,879143138,752166526,904062565,987010765,721896093,267577442,974176674,88860085,338337491,623394270,927398129,980481238,571748609,573679856,358889909,419167906,780950449,768292122,713018464,29757126,241472228,504852422,484638039,499216117,878280514,890978756,219757079,126125297,52224591,279653731,633884708,271132465,926725710,990923911,842045526,123926077,791431915,202916024,280438484,192954914,57511456,608259912,163657349,620573974,347447172,815149229,134615665,35673163,422283530,715619968,280357839,347330055,65356300,427798389,259970897,384534693,124310954,38391974,299358505,592188952,574959444,769008195,963133390,510571683,290208855,777988459,172868811,723354082,729961984,792441350,319789623,401621261,458881041,21996545,166815028,827878724,644255417,866129436,919148861,323281705,412650589,764925086,677811596,988870337,613601785,428709477,436537956,261481208,253086329,610880343,201644076,284855324,957978233,995019705,917420936,587910514,842280725,692431853,7108909,135245532,159832105,739570057,189366134,782081410,169139046,3044637,603803535,309747903,321696234,918991213,994218110,483604863,572150986,685754857,680937604,780599355,910409332,288712643,157681660,572286726,207681300,904963304,797419665,966968821,157776538,909381073,53366703,411652405,767483599,687311421,988601961,953325279,771102061,168524110,285207407,637365126,872640800,216009159,426526052,787856661,216481377,823582249,864894953,642854538,342242933,716310680,199306874,215377641,529604895,551540102,763781897,658618559,325647224,665700423,901434904,62288978,99368944,592245723,32313348,106191078,551792305,524089750,950586768,199594947,145108745,8762507,954272113,389126808,256798114,441753280,192961688,903504838,2713220,815277685,581641520,17798705,333330896,670866388,337313709,132002353,930655786,988661512,868732204,863613908,796155266,117110391,618200564,960785021,764425257,14329995,696813219,131066461,980155701,851116103,317864724,184565174,918229526,601230364,312754487,940523655,971723017,265134817,500646146,277084196,231213050,80888638,441260746,977062889,442108313,943946531,548899879,346529613,918248388,674385438,974300467,611224443,749416207,798271232,85717067,48792711,393042266,209055810,395470940,699470155,4693945,685437900,896078424,404602901,105413357,845590982,637304825,435832954,279193553,906401083,798508658,664276544,435177691,995328733,407511384,346291339,47128071,12923004,686980235,797128558,657838236,887065973,561332063,424596243,14539374,395317774,848338140,308229078,300886746,262224169,723221620,586451709,693292363,323628479,234513227,252712847,932572261,924486058,824277152,259615395,314795278,777569552,287141183,592166559,272581175,415996638,975893994,174817948,972790966,6259852,884185061,534564545,6073202,647639642,803025092,997601548,448918128,801030110,838558160,777934960,831827211,533755774,161928298,498331552,154063942,649191637,138558194,775771868,182979376,831036449,822079939,115137773,989222356,513205922,171285421,125434883,245184679,581050222,539485279,865001537,376916985,745089930,910327135,773643098,251879361,707604294,855339688,413804139,674582800,887801141,861237616,977226240,223376055,975369362,88141303,723668174,305829651,961114642,83033856,848499519,926889158,980905702,699454755,917987789,809252662,357071274,291116003,668288043,70207560,740120628,956235387,521047417,397573458,535321411,77783733,127185491,558063902,985612818,425790536,148009265,199927825,59880915,622238679,535489316,207837020,347690710,323840701,878543648,575109993,825037087,296313303,333595578,175971167,282577678,33582633,99299369,106025558,842434897,33599454,732648701,243086829,985171109,121643511,631305732,286417125,793494054,530254482,46528911,499595474,715703127,349621730,581179180,741596753,292303108,105547788,139233024,205895521,867752906,443212810,261527587,730429120,533496790,404037869,463851013,564579343,631068588,483428396,908459501,821670337,219791751,400583341,319119216,873252448,1439309,490242914,563724587,492163223,978637135,514383089,111837938,272099448,574183453,915361712,157860070,307983156,123043088,28585306,799408760,810951995,170338057,950753065,706684122,997231047,716252200,627361427,647648064,410505097,422520809,231981775,56558268,274248865,495134477,83331319,946084867,860059040,101207021,356225660,468903410,717987170,902673644,445311842,271966681,110218875,63314119,354883680,477935130,223043299,97419482,76557938,927904850,344809943,341786385,213380656,586826518,226384651,214496086,343483974,908009569,227361224,425078117,538458951,394798703,387653483,674452681,49957191,328294053,375427942,586043796,501129850,443494063,374907645,563534272,676724533,769792889,290867144,969977202,830703517,447528634,71811738,73656986,260789498,408120241,36621912,677673682,482431852,235969393,820199681,998230453,758586669,57358470,91479314,28047917,905412573,312516119,315028533,969290655,910669572,19015443,208056566,856527340,192618220,856381118,959588138,163755193,726948772,499802384,983799795,402040840,450141081,904428226,323533382,401587579,297776327,774225840,82227738,692936648,94629852,822955207,287034471,623548297,517884026,968713729,278463220,826069894,981177556,632974768,650901214,774767282,245857723,416737711,995421831,646221292,179782075,823559539,454714009,832056719,407294454,288046831,399696817,293078898,819082076,163461680,392593729,754152842,26666468,632940306,989903136,811689658,927576998,576313299,5598435,497040485,314134106,478381200,708846293,235572855,925745256,75769884,662217682,373311252,321087494,957947701,730435094,285427979,612695363,774660167,997892743,623011395,77193002,128132475,607408675,687374334,236706135,220396463,562509056,342162693,208941311,658284760,582815429,384818336,877274285,699466303,25944870,45906387,89382104,955343683,901854945,716318530,837072231,252798490,790892807,646584302,354655054,436565303,881375129,539671800,928847252,525269219,824523695,580100383,446829289,344120851,827045019,74792582,30878370,492671919,710098477,346507108,276877790,27320124,147351364,349266446,844881401,989560856,78093268,434041166,226217145,503932832,568659598,942136975,989711805,857459179,616831606,253655508,863329861,151645185,421018595,537884164,301831457,960976120,582834138,433482038,89019971,476190809,656308667,129795719,187768410,414918184,83450044,63944515,54090515,180173881,956140162,511217244,688522152,602330907,609748854,119650220,239642868,860821727,545574603,14224422,971339669,903736971,162579733,580274883,681686834,242776232,192698324,439970626,159851095,831144501,223993809,524431674,824494240,731923838,604333769,767443683,120064256,691005310,129682934,605500288,213124740,207584863,980822056,848086749,352606039,721034671,719182376,592854636,487031620,601328456,206355992,651961243,231152527,424227698,944992852,57506466,223338820,957974258,63868784,231785514,182013884,129331220,141320280,472364922,700661142,937254335,409048161,834513234,383411129,341217505,391642899,30136445,847238576,597207801,5634352,929899459,440035710,509288186,869043238,800653127,533007574,613843637,470211773,939625311,517039672,769581184,24445058,647837266,835685070,222685793,564159795,434040188,579548728,94720257,948943124,971598670,921135694,39089594,180025022,815403154,405900549,395418037,848560136,617282170,641647262,992767624,609882428,597791864,961434183,873470559,199509809,102052143,990129483,718784508,435561047,875690194,290191312,692825936,748495899,42715292,647455794,209869936,53509487,687423529,286412990,755062474,236936466,581295354,246904880,944533034,488412271,881783725,696647856,195297663,909599888,688334497,537957953,681288671,949968467,174071425,523783430,983411521,626158780,862446992,601207062,660995544,918912143,105259519,890980229,706373155,185933650,414787393,557564915,379392876,183357800,336413611,286329343,75881353,672665681,85411646,452689239,371776125,567039413,360014506,891050185,725388988,877853095,681340527,298743400,574384760,924526401,821167820,356013576,622092442,988452362,808266510,181480294,36839448,209689167,176043699,66366368,497119142,918774533,745979381,938519633,219052616,713040257,694089685,112740653,411769040,139647046,213195462,245568252,33005657,549287820,448419356,692187351,285604790,992673078,918930114,329602832,915652292,519085820,304339764,309479902,833186324,972129609,89602552,15296571,375190466,709446713,819463115,565920213,583061902,751545145,896040630,543015758,560900603,762044286,841019988,634910632,574047675,637586957,155331654,854057705,840260386,85514152,773317878,771589345,612305280,237673632,479043465,390110771,331234583,831260035,772807984,704820643,298169298,299842825,453502651,911010302,492857841,322419981,729848631,297937715,128734605,503363755,731683543,217261755,276038167,436471382,559872671,878277340,355365796,484321286,390228944,975472494,424471899,596839146,8079731,453668680,890374290,485976922,229409900,981428879,99766632,259026249,536635216,473247065,170610750,599115651,552646540,413334532,599019796,11116571,654216212,543175939,758369612,677503945,649269774,515165496,178147363,499449308,845196845,812567792,753969299,698561476,636999269,431655489,311194080,650390333,723661731,70765674,478673402,974936932,75057128,429679130,441696016,230987180,68655839,989417994,492579156,511339342,400877569,479251992,255381381,247158216,67542830,307089709,504737637,913718724,459764203,560657933,32315898,11332748,597132258,167754623,525412757,150344561,316666782,829814459,28636343,671128142,853321862,427133382,33989645,121684543,760488474,971520015,536875003,349496909,486910392,700158199,188125228,469885895,73345526,487529167,646924999,58099320,492393085,97943487,669766917,354790489,960210709,776695056,383291619,100611307,667094616,524164821,42886602,56513214,218387963,422188363,115506896,618913083,42874431,736654067,431271494,288173934,12177167,541978244,413598505,29358677,8369339,360115622,883782464,12092004,891945957,418460842,442776243,711922939,733967439,339586790,718838341,733377909,567666904,471065916,593557341,774760442,923859945,581917570,280574944,320213050,464399608,279103099,479311574,969064141,108571868,712946247,748414921,736699493,188665188,83520888,161778860,901216477,34714296,173191801,584472699,321492390,577452285,31319451,472852454,819666616,721241489,159556616,593008785,88109516,122660622,759088418,58841883,309710842,999232444,972343292,257118613,702630931,592609895,845510314,25910524,569428934,40647464,788005884,649607166,531924224,171967394,920034736,87532411,854930314,171229567,781509168,809761245,676188203,814873939,579613540,205101371,901837267,951399961,272824487,769044875,817417848,997370615,433169444,338134744,101346202,377593880,856409890,451720066,935170154,444442761,934025717,470963177,77509139,150313695,222000686,764453565,21612634,406650170,406108553,392840537,650197391,34360119,566346230,345210355,719890642,353232062,838404778,683643628,703656860,464941197,185373633,263374963,360785886,307772282,918710644,535871778,533044220,64983968,378397048,605271724,517937043,670625896,605915038,685990840,219688471,999043440,240312594,68149232,943404278,872294310,282096317,170813426,175270697,439315834,30065755,978524052,314067439,335196294,253463256,799346386,789725612,7679436,619718651,39226934,134515114,37813390,281003061,978761672,356780023,888798290,664474485,928208905,262219604,712508706,856629187,61737554,731504943,477846301,21077042,275883619,891927890,833205605,291467451,856964249,70343685,422507293,24381501,305521672,708852783,859305235,974563722,495634870,620285723,54665778,24174596,770217238,70945265,911941130,728941863,597063842,21888505,115109560,527128994,518150301,742865319,434515304,785333910,435872214,882385954,569725981,554820997,997331180,125010260,30912987,161182633,905935844,938536748,147102888,11304657,607519648,585742072,44156808,380270404,667980812,324992540,650026648,260402215,241569001,370141770,711691915,952932257,963003261,545292829,173817858,920304235,904270966,888104657,256412079,878688096,683306427,701970998,819967626,342388804,188188122,802301193,182454549,267279620,348914891,388083299,645308108,582346753,532490193,964444406,790754767,61725603,17401583,964273868,795501529,809043983,831490551,223660836,528981967,487406259,634220280,841284884,392780834,529349841,344745146,927583577,519147023,186561530,393379370,889113301,148078725,53005163,423116592,49384017,678655972,415560382,869337541,595623941,964375868,881493118,632116335,655313141,597418001,735441852,464182525,957044694,974857385,65480733,443773869,664096825,936812326,674535085,677853753,658345776,232415193,495538366,829406212,448070876,804530909,28566380,694770792,444113774,32453483,159196783,461204586,955502014,891465479,80512028,416427510,194880375,652967549,534427832,860573894,289847056,706163451,719181816,494106290,377386941,684477796,604097166,312543486,450775807,100433835,889458357,667992020,487634273,742417115,123146705,454999293,896993309,91717345,436993606,282162355,253866513,481580193,527243503,762909116,995265475,506604919,199332113,271073254,97251233,488554760,139878577,221588171,754540188,143753263,697089816,356783476,50492230,549001741,308135364,12653922,230377019,986201273,827367146,393279910,387334531,968799646,20982980,99052474,10909236,133773707,54531847,141803853,435857194,189592882,804131654,913947049,208080759,462798568,76740478,895604001,637323656,86137789,617954136,36192656,640759827,614195389,38198130,699658486,499824268,928726465,522059558,586286581,895388956,202350564,379902490,129906441,704951515,875817843,301549591,826046401,858724098,668109445,805344602,529732231,218671546,111961663,77866712,456281618,46320498,277339930,155651215,831039891,612339526,382385887,949156724,964692177,836226057,769709122,535883004,581558631,766420103,107571164,726486539,300774076,252329375,563759439,743669154,131819279,432708667,842504173,413089715,269191859,576880004,753316513,240842416,833092080,97556914,747942245,585278645,954999585,205666476,903297956,65681857,91733221,566471572,302401688,457163205,446269620,361284303,998636390,995785692,508147556,410162014,190655191,305933399,3647367,785216922,636884282,191518601,870110380,315278942,169483982,808890788,212169161,198823938,784260632,612878453,444079815,702907917,553928287,688551261,359166686,346789195,124076529,758192014,278931183,292086345,614610970,998205604,463544828,661430360,191936414,789826910,710958375,409164147,201396608,127260340,69963976,580577051,684031049,671338010,926487158,22627795,880219427,422912993,836053899,335953869,793441172,311918521,921547233,688680423,941732259,762036658,166194992,978560575,414843171,701261967,56834177,539477368,739233193,396758149,539136912,594344396,284123982,840320113,3939395,701407316,88766290,126444729,718230667,72541907,571139216,865359134,511148857,243636,114744379,346326823,309747903,844469049,506683541,473551556,361511273,671496194,325089376,968480838,794983537,877956634,768141519,36251784,991468879,37652220,919322416,111217247,934204891,18940095,135094616,58085399,500203402,17267328,834907172,368835774,439613661,367415196,102413655,764349721,28551581,192972470,842509881,52230644,176695721,490897097,282547333,666632704,323483417,182547421,806146291,50051612,480950216,913044038,944131138,775230689,873483343,212261587,820497461,550140123,118928709,119727921,458003651,779372805,121819634,349233667,599157244,657352735,955160343,935571643,222440974,973626525,64797552,173257225,642509478,851173334,606731262,275487027,355887399,402069014,503741957,30066134,709627579,278832785,783213447,871685628,338919441,492462157,49583348,922605918,223848475,528000792,598744169,310512088,970006143,939730766,154650018,348625570,782543810,559713670,285016745,334272942,301932282,282930566,991745411,993222533,736963138,126463574,950819136,400791491,69121398,826784371,764654976,259385042,208890221,250634378,181673155,168763222,411037721,654063586,261269021,549750488,328531759,87316343,489822431,288128415,381929549,781153822,112836388,138781127,745600019,247224391,744150654,847797076,747535988,334875892,882718774,30550349,711742262,678698817,358064687,634145828,719216219,414717176,74606181,22029825,854131889,667171120,499149818,522140843,977503862,710929926,298822769,516140121,740963593,563785565,221938661,947283646,881375803,819077173,709853388,445168489,230869605,442085818,302702671,384709078,6895024,317764600,807047387,462984086,518981495,589875117,820296072,793053835,178965866,18738924,169297625,407576262,146667593,680471353,504178148,536653173,592832363,686449921,508198377,387867528,936513182,806912909,178167210,678522351,951120744,994994787,210573744,699915435,786108699,258270483,824822192,840306078,702656872,432041327,823464775,549542925,434883907,561602382,443703678,53799218,972744953,540070471,306265344,799808993,294365088,568212470,208566707,696821552,284517536,727230313,758625536,593211488,13705048,686826796,259148709,474819905,556401925,705284093,514947492,162703244,172833528,219981652,957552996,946972497,388909728,871035813,929149291,428428451,658323973,903633940,770392588,655877267,309211155,40313518,993490470,49316318,476616591,709253281,437882864,751342590,368875344,545431528,612220182,641153305,568459583,573473409,527614778,746634320,229311011,936334258,560807043,981440084,1270160,665349101,531382084,279601583,241284599,136520655,694034284,750304795,59025863,127282097,927108324,846080061,77317699,101362033,156366683,920799236,173923136,396582660,906047556,589844831,274491935,864942605,85540848,385374208,567477434,662137624,717755156,125318067,837512629,508903025,895663288,245936486,375241669,47505238,587604861,381226762,82298942,529917261,538296312,822048609,291287264,140621005,607538836,512100700,658107237,766900483,400551143,625220815,400118052,905252371,791570463,867828591,449095916,118874494,8754160,112226356,122917276,954812289,526015248,92020061,325371476,463500115,215803784,433086705,972835727,259482239,645889860,625594157,680002772,995757437,538901612,616557625,104222121,280715636,242419696,693797954,6983987,607579095,663711845,221648747,810883881,534884272,874463982,180131742,185254304,155425411,186787757,858099982,796210879,277669377,123148900,388557074,972629862,61441314,432866971,183448041,615266657,526030921,898975301,796580685,942264232,347183635,286103209,426818979,224641537,374106968,828712416,820709501,47349830,257704143,852898480,460057935,709834174,79354092,590258396,973165563,324245405,976553653,14850068,582923143,431227565,808514591,132720622,221203718,205211386,395955803,278083438,172095237,443856211,791937435,297898738,960261091,545084123,378021666,762956338,509524418,297232392,471208087,166043813,683604118,490846587,624371108,171780032,175822477,360627341,354680086,451044707,21364653,196070700,76390363,473921698,913660998,151625432,797999448,948045067,833632475,779397878,845781455,39082293,616299383,118359326,934618187,732503559,694178188,101281104,527183274,202378994,939214981,973017241,448806844,654106322,763015675,65004150,932992164,902018330,873533668,889405040,924399411,132518144,143719940,938201714,29211032,917152941,747757486,199596984,265781414,186982653,134952698,487441232,690209279,113016033,286660881,49252323,615864246,256382236,833517047,397367674,557422462,754966836,461764806,338304026,639097687,430286763,83715341,548684626,868250645,348948775,601788016,805461569,823381970,420471964,217974007,356478270,641671744,896093754,787416700,465719194,571407404,197484144,734880942,152099367,582721939,704813581,959755707,760768487,2860416,139903440,778827165,310435892,294819383,103329568,891406365,129853219,565140210,52527738,29463017,368848702,614895743,490358074,872638492,305579668,191204347,347233793,624459550,693348908,72492953,425782256,98342785,313862905,746994887,856698414,716766325,724363001,217217071,476504312,309465932,397983798,166023235,709990434,603996375,161058634,527036327,63751301,986716219,675004326,866487139,509543625,521016380,635718565,994230404,599363321,194563692,342333701,341913966,786065728,881423147,859627057,216873982,778964050,789239718,827270244,786863612,396160799,281555901,130855595,594216568,21686056,241834491,713572155,507007477,996739945,637876695,121846550,490806842,14775707,107209687,755120802,837651353,861807215,221187124,937685675,810076719,904928972,419648596,364843302,987992387,278347918,66803958,781527153,584654672,498360007,442071204,857673734,904710375,515223830,248998069,476088817,131571238,311876104,354403051,705044509,357853128,817550738,825672788,736146625,940070316,812811217,762167034,624322904,664181848,239158429,802109432,58124380,147808451,3961461,411215800,854279616,69395105,593422509,390249881,917416078,324422239,540047873,80862057,336774820,289055797,795962011,607664302,454266250,787463803,400471775,212293764,337218481,556525699,355403923,945085665,5321455,100238648,226301027,394706982,371676096,527144739,708939224,133539733,468537712,664751723,353866698,600218350,643053860,727685561,151816650,794852644,404626135,135246865,590750364,165139037,846665070,726954133,486538847,230532906,408129530,301383972,610548824,959538801,255101927,91683514,449456826,601686451,807351088,653921623,903665160,651516717,201915376,227650143,893329612,485441590,75823540,960712799,410841596,733257087,866123417,82018077,977929891,106019507,252789759,941418661,525760807,384822137,94252247,737681533,200212585,965118247,733141626,669835076,520427672,576960551,833328533,125640250,453285706,196249506,490319999,392791677,249649777,49964004,190508545,513324775,411708251,283641572,571769738,358411810,720510913,973134323,328831449,291041548,877970830,304900759,281935747,643857524,805414543,850383331,28419040,734269769,145161460,48890144,712889821,453785203,337662410,483401186,113057692,924603295,293062096,629103781,199761193,830377162,684159079,571167951,400482692,828796308,579381540,986636710,621292353,363859464,903513403,129252440,501446549,290122251,697625006,435920372,605505063,774486224,198128321,445915949,90672220,480253995,141764823,980977880,835050370,26030403,563247660,493500042,889553409,991738018,767498159,6216678,898043317,413833467,717931671,120908327,771066465,232278205,460490091,504063267,629530933,759259891,611077846,464079343,180984850,558559169,684486899,75578190,309928590,11178226,142724971,736472050,178798869,232770383,112180892,963291280,73405227,683080893,281519031,517550217,208920200,145433781,629175753,259096928,6312919,360950987,987190290,232657596,202126429,665212287,871641909,139470393,395338334,269889387,961688500,477265247,72002038,643673794,998797148,492915063,827077631,456732317,868131658,106806906,715823754,480257302,459998187,530111457,737310363,471902605,842091180,320452302,485415755,374773564,931042150,429326891,700053828,780431662,351997348,459750332,991151081,869422789,498500286,310701845,189145258,212798761,527739774,437162921,150203732,38481451,680299696,10665489,926949257,475987432,415012560,383216986,790389836,435438156,607573074,24150718,844187704,330063839,632601312,349474345,336467769,944233634,90459541,4836884,654213533,852324724,160686485,695115577,530021618,991367388,125255095,621129928,945896126,616367004,237851503,795697081,740117026,594934870,39892672,222925861,907766058,492035839,599784376,904511086,500035195,650325501,997486956,451308743,762291451,59067799,389604455,7808931,387384114,575923418,212490833,23463156,227592880,327825343,138374659,642878881,149163373,100586262,607576368,28354607,273000974,367249297,382919843,396661866,257361243,499055265,332537085,70732493,763337495,284208368,376830490,996700008,207386819,119054281,932402589,562225626,898991054,790125027,692568840,293938414,515877937,554142694,438439813,439940419,950911371,201886040,760454825,481675406,160686865,109687614,926516658,683422199,272684657,840832582,925041108,571929202,585811763,289353655,290685729,223012982,950572907,129477493,150338387,370358882,889788108,728574175,51689764,885988554,668826675,813343974,198807157,322866361,245241463,317784445,909351753,782952913,356331040,170654293,49174731,290373943,766341476,511088636,817207148,647560654,574559739,620077149,890965657,895152820,671017388,32414298,990569121,789809321,365190281,758228659,928622422,190744111,302695900,612662260,30269346,26305744,989628662,625962500,144696847,196912841,291277494,396387113,130718462,861791889,24003940,618508691,387946753,470104503,826760812,669893618,363309128,443713642,149451105,980572755,225748164,744939922,629359883,307616843,749507580,486363520,925749267,433933252,932601687,410266294,105565679,419380883,544066265,849283445,227018697,759860026,801670776,11577840,466048901,626573055,336136400,908795643,238723193,218952263,627767256,486245538,757786336,660337919,905444644,195979830,157141686,701486710,793287324,624930128,904568822,535387591,5378089,614581646,317855354,475850635,656412041,467699586,635551847,957405379,747630395,390003331,611628100,206947889,934838830,762196377,874187070,867174608,513242312,941531541,132067635,735454311,279898390,495559562,804171055,329509211,946593730,94216856,991637361,453836782,827029490,708558431,427141849,706186764,312553708,749703602,283584120,466372462,404005115,494046979,875438039,434707509,421984863,283685141,702077452,821884538,368936347,754271194,634451205,901916506,965182649,406787060,129335851,127357013,660111111,283097860,394146357,999282897,449908718,49536147,211513545,608417418,428447784,795747448,566256322,258759512,602020391,777789403,377720151,22682600,737450888,293654590,405092373,135345485,251125005,304680993,509525536,369614470,67550744,449367835,494938378,701799579,143558870,884328991,974339929,176381112,970067619,252072514,924225130,301388096,498405621,404764606,443249098,650927087,602666867,979299983,582343612,951909382,633805996,442929305,828887927,983164946,336429724,833946914,177306390,449142029,447036288,976155894,346075432,232602093,701622457,58935565,645172713,602503326,574421673,762707148,351415529,464936512,346909464,188519900,168984893,117139962,745580440,962426603,88266222,416173044,581246329,687877791,30581529,306093737,597413369,422205729,124889337,180243770,433295108,21718010,108852249,81372386,774817386,301414718,601446687,56514189,906655004,553030522,898750021,983158421,653657105,275769110,323440962,77552133,36851336,590011777,302487086,909190699,104312480,868175561,192817408,576014970,96252876,527990747,882522068,783574563,468100060,812195136,384966564,491463000,171166758,640140832,601102110,229783901,235236011,731053332,507026552,869876898,712541334,1590043,39843978,367504097,416891530,469634437,574123066,458121507,692178660,585202807,96266244,300522007,973838087,91247937,800460859,368287813,56788051,996695447,523683184,942800521,22968912,404866288,686260822,114033189,584902336,722142256,470739363,1724943,169555601,462163666,155260434,854599256,944544209,539318167,28953392,879527159,150555524,467153410,851834610,278540511,205477522,873972376,403686432,289148714,615711752,469509737,326458823,609942979,594477678,180996609,994720260,482195003,616378155,589220912,80918759,946159329,480483155,770871344,227538893,875237652,931590875,470045640,637337319,199029023,802964815,418206529,422134351,282298483,35773981,861778387,779241119,899442625,641553279,326403184,868943632,596690287,384225849,784185995,205402058,343690879,9186488,642275664,946834272,839569955,513821960,255593804,73987051,283309780,61300095,673345683,521408096,642872373,301970937,850703400,488551874,402871502,495318620,728124540,932572254,721710211,335286883,943872203,330959557,418606077,470670480,196094732,203252399,849283194,568840730,600661270,812833551,270215959,256225607,805099346,496976906,167830951,715263884,798279533,488555100,66798739,356040998,896163390,928648340,727310150,612914724,334783509,556965085,420531050,259743037,845406330,47171676,503316721,310874890,438174378,157754977,513741652,999009877,784707818,847520967,944321371,941611224,789552752,123948140,38961157,538933846,412751640,772453342,253792551,512032826,782128144,503234595,97238584,645696882,548666869,155993778,347638940,528503945,427459479,951590167,49626719,277378265,467469505,556723475,745573163,519795128,868515365,653844664,586345388,11040278,673129882,992813701,783520194,730681303,348795970,525889085,671319969,449003887,640321256,876024113,943556251,583286757,372449947,454926629,990437049,571349382,83554746,665457868,946925897,730239227,765413545,598758947,139918617,704225294,640010042,470157848,355526105,949336276,432263888,501556229,530292319,896048804,812211879,623979614,661651960,889535384,349647350,364166727,386860937,636647450,616210373,943476147,747063517,6562352,950216087,545780747,826762852,421770470,34806259,201462955,514829520,221331486,954115073,564158687,100248997,822412394,592392116,809737923,74988755,281467695,640741254,150377704,216316552,852861794,716933137,725587310,912903816,895730648,85521068,346968374,852191734,647730936,758343879,142521121,634975337,582759752,814634905,531784219,753543586,542158846,164476471,235742363,149486189,752190412,641823263,13308998,393032167,165302208,929012288,689711156,167156546,542967960,673442586,29595392,613498305,45774972,660121414,651712839,343602978,568066455,952402467,766060269,265036073,593497459,190391002,440594359,708861206,412065956,799596492,317021324,602410963,482876699,35698372,836000810,26593189,656327883,161738852,42296278,28616251,970526582,279215510,625935358,25726267,639317924,181701121,869934105,769795592,60183439,599671841,654570011,570519121,349148235,32567620,457513331,352027586,901665896,738166403,750395686,989197286,302038485,21826201,254619002,26307526,902603929,92337967,648792687,74737664,50046771,12144740,724769921,306474934,426573481,747498026,482087924,797525259,894896206,368101817,463696443,994500575,38228246,353417072,445182820,496137861,723261453,896884124,618177974,232817388,59736269,832418772,953158014,519170552,247614578,220864483,912787423,804441283,196714994,225788423,965805650,712476748,19484394,936029257,298133038,929980543,278719161,55932330,752838708,754356040,724060863,582801408,209567192,223257055,477794876,168402735,23377767,126030292,574296408,354015977,271277253,376843631,915067876,640033483,925588933,723199366,616886970,355199164,765857952,599211249,218330656,44023769,19833844,998919981,45653484,126520730,795181147,969369201,58087407,769247020,372856845,915593844,761410929,987512943,387260895,813999526,327538741,790504813,39223445,429327286,405874756,722057966,593983652,674786233,56461844,502565928,98863713,27958512,772049132,673131209,178507234,166846000,91642168,367212690,281738110,488135954,655043042,514430579,261995624,731171241,727881047,953852517,556330071,504794294,102349886,788593320,344601100,707901302,307565102,209675862,700600402,117083427,636675806,200525810,527607277,7585981,240918664,705959560,575156895,398921862,541619493,39744543,481474077,200601165,489819231,545654501,558216605,159212331,644680820,852316713,105110927,224309495,968410302,145327516,810159522,312281040,381060493,725141068,21129069,624901200,494833440,449849042,644829594,512642106,12184260,369308511,955392997,309777242,984181441,813532203,606574147,604111604,246695338,393131416,598679821,309911287,766907665,147460230,691517100,562256877,533163304,137458583,508612089,434936353,577508045,590307049,200317052,354889374,975721080,877408890,144054698,260696277,904011538,527988813,372428162,414649389,705170175,628501581,762568304,50137051,240428508,984215506,619455308,342755700,818459677,279706437,584517789,55395141,212470182,152662929,92196463,950954420,470936715,217139078,543296606,336994665,586181939,476435724,259275619,791000296,624600160,723034598,967567169,239849406,252366332,838796365,440485383,360986666,134563673,530715590,202257413,994268494,13494719,377542411,3688563,14876959,646353845,775576452,473242354,517926558,891886983,929704645,378409923,294769434,881174513,973098599,89183857,310146756,464418646,970448958,776134979,632584376,699545748,80428449,810907847,536810353,360622803,197326073,716673609,515137729,404156367,683122881,147683809,350062311,419033515,357361430,865171782,721906191,490294581,398621726,625950629,126769125,725938705,662922748,62145388,356345628,171840456,276795858,118321668,321766230,691679960,149082082,634379067,829538222,730038582,141984743,247352633,23371322,463277743,327237136,525686092,704725537,142723928,670621892,446493850,287700702,72590380,445937238,203289137,305119166,59207061,142247432,845943804,256713050,211705946,937324152,638273209,392602041,818663881,72957017,431998638,283366744,64631845,319679069,395456815,592611590,346098100,935705850,221540367,172580867,956774022,814141147,163301723,358670034,44570609,935134529,11103511,475313949,634869905,128874460,672804027,617747019,909203115,822226425,574961619,929259410,163506317,213070107,10374697,863676335,702099412,480415250,23020404,677445210,411874060,380323447,684022531,199386647,207795070,976348901,6340135,332691820,168341760,558141945,115905324,529130397,724711240,591954709,646096898,910592402,118665240,264079142,11746415,105407067,766727908,455988646,611057778,840394573,577135647,624922618,474165411,697619428,226197689,314221400,941356918,214558550,401808771,816144241,385941411,848060656,290095747,563401109,70597549,373165282,824156041,143884277,634257868,424309506,221759248,412552826,128068416,186539540,804111752,9028510,421881455,753492112,583229103,335216721,216859652,92896905,354360060,536258834,235719897,668756522,551290369,35777468,262389721,843294921,57906081,734173501,994057619,744674514,395451537,239632849,474898729,389074603,818970514,646209336,247374521,855788030,437648862,386208838,124348212,999047314,530089155,156693452,878664788,634732106,397912396,271984454,399646519,181221652,848479918,153587461,902727509,711165286,183606085,333977010,881685251,979632599,713142384,200583364,768528228,739580607,442114242,619994498,205672653,150277122,3212862,152567034,844685711,949215753,790718125,105307247,189207827,183756986,730523050,321445012,829940181,703607186,113305127,265180231,489620647,958674672,665410133,692251090,91533633,558856326,382655772,747697798,171826648,918683775,384118729,595910359,289199296,152947739,683753729,280259206,487989292,726542034,603268329,662119494,963826971,870971327,105710082,801707804,97503134,867705428,548299865,212567667,4696392,326031039,984840028,81047686,973865247,562121263,220914339,368150957,696059976,420614004,428978122,106100518,963699130,269420659,266683036,427163589,380576143,283883708,970606037,996657593,706097996,797511276,842128891,31807664,412354681,167780386,835456234,788224484,336256732,215119489,300062529,868855929,136653294,930020616,153186890,527561909,153027904,708646427,910101179,900300847,754601790,295703811,96578392,145041271,877336703,592973910,931953842,470409423,690005099,639862576,352461830,927967638,234580735,958320914,430355154,784670467,466196401,665163224,947752356,210775294,802078885,700571468,904780396,192208357,895355413,942384241,197460915,510049841,312282401,444231539,863564596,567412875,462598026,180228264,608337657,85548780,789394009,614050374,348449815,790615690,964896385,836003346,217049526,371841071,851519836,781293234,325003888,32507316,153224254,40356573,802121404,626275549,541323615,760271653,453419956,250923481,163602536,577011888,264394489,650997715,194387526,748820089,463121385,467419201,79607205,592190870,150298337,722232267,521320211,946069979,528360426,783512114,448676606,943485992,203223480,514288117,324386715,952334369,797877660,993229588,716176088,833216495,819851163,498282335,930010700,284948777,716820497,12688014,892507234,958493047,845332842,558156415,830719978,62715897,133782511,622769516,596603889,623311874,615807577,749536572,621020601,93426921,222617581,211644915,554248439,419726089,835042172,977381223,250358886,467355593,431084668,247566141,547001934,304600475,966805913,176370172,878173588,774801220,634009197,453476490,792484039,79707920,175734753,410605333,569385496,612361168,406672216,439790265,236598164,733487808,561510342,960213859,55845385,675984166,707998747,941110530,303937283,963460066,35898106,800229953,384520655,283246912,152662181,691891591,84518288,154262369,203088127,814049913,656568016,805257450,713088890,583684797,346769759,812436711,710522557,528884578,488146983,461477896,327625389,688143104,556728793,953775395,987341647,576844630,892559458,858668955,596982030,703382984,590902375,167522730,68190205,304930285,171210331,747005905,641847759,842172359,826467793,685675973,5450448,659880425,204092688,988449742,730372180,795306305,137752593,748311690,75930483,491984407,965639686,539455738,952969565,612954066,796145234,6093826,625487730,806677550,948955891,546756656,359004261,730002574,990276167,227788192,392914456,26783836,570365498,395235505,574478768,754473374,153512767,198868063,316691574,764308291,39160874,859114365,451207244,218030903,633241993,811477031,305681390,531856443,852211344,690826932,731999392,25259084,896057525,294541762,814008814,812402029,696454906,100192866,501436935,855681913,242377561,80666851,188758075,787750445,962192010,528318789,104159503,286261598,359142170,967346601,698679753,484985765,894119135,285976359,978422515,67443936,924996484,307373764,395666950,606021808,517673206,722758337,857248346,789190321,267559188,640848241,221006065,542980560,522785032,480529678,714931847,653059017,814589562,149690512,390807680,793718633,121367032,627302443,4795715,339803360,638570217,528168742,940350111,22261462,885220926,376552907,301271936,588815010,765806316,549259575,139325,689206071,437043917,468815172,501485268,413935521,923854426,753302400,208905797,316598649,68311099,536414502,520531580,836796504,136202757,370948553,675563826,822233641,934437824,92544040,967133541,755057634,122194348,816149382,928059485,534256411,805128684,998449164,645174408,116183617,523058203,223408654,985738119,224581778,487621870,882696367,35258599,625799348,227963773,992997843,672525983,603085915,777627225,13560666,545262125,285975764,832215356,309238282,322816475,599509103,374474296,182202305,893336448,179134877,150609440,984079156,24562955,284229727,794431534,321569961,759885968,190940804,513325249,879153709,89716830,900311345,958600743,485714520,659376296,23867783,118405495,730517592,772620820,361420985,477601989,96232759,775311365,579406723,291276148,622472055,971891242,188215113,707786328,24284838,319106776,612213123,926303169,795857499,977676692,510278012,46924197,929600483,123164735,12547706,93231847,205351350,62213733,888290304,75340843,183810833,157142127,264762606,392033271,805488963,74008905,58883233,316460866,514430652,990794815,186920855,297146118,3615646,240644325,488597830,973244336,98047782,559376280,240335320,238312381,482005977,657936147,860315830,572533017,375542021,43651837,440141257,477647996,492175182,48421163,350725603,769005756,470684004,198471228,984370094,179047362,286229686,619486108,35052121,594939772,899483528,983243054,753882680,562435860,140213694,446708806,214183316,21357966,429507411,365213805,214998832,941119661,881087274,324550819,22581693,462391982,792762343,536205364,136916497,714022646,507574987,90497567,970894549,151516024,931542181,840677337,380185419,65707806,607199871,42648277,938372572,93306711,423648350,512817099,830755683,407909757,938818483,789510595,128325587,411481423,3390323,379783638,199915794,156670474,719154614,987943792,413800633,293111954,459613699,882272407,406938270,854861789,925686423,547843627,451935202,913822672,691610428,691452726,578610834,938589037,356662941,483769630,877478867,814440397,158615206,669624003,192608065,103586174,158504727,387251560,250324898,827921382,757984970,391621398,547089778,136298417,181168048,353759395,132141185,738923491,797603522,530843853,84534397,903790544,352321150,547801641,40748362,610092747,312576003,660259085,857369600,258104805,905199969,653742111,878733315,222018617,831509047,394322217,976809259,316340768,725691609,680190769,714481452,529609649,868074610,599564938,423423238,668303712,739119629,477977734,37909766,651335501,924840342,845689770,238762400,216631799,400776307,219532509,304693516,187784211,879522790,110066145,127988737,890137179,906181094,793967103,469404793,545534480,950802608,546457045,121231288,209473393,482267089,639235528,690429613,481739633,526622020,965243026,470088906,402619869,478450570,234543639,741356423,613136277,148390314,151740107,80250269,600863513,946677059,769665713,974281162,467784832,443230514,921354345,588796338,98512793,495763993,478184522,531120986,566250332,92304717,577729983,343176388,41046395,952771412,42674597,17925272,230323042,811981031,847464173,681404934,637415912,398475983,850863951,310378051,968314891,391578491,695193287,523636603,483380463,290451555,962983152,184939934,317353384,632685760,690144187,512679466,729358086,821389175,592946263,13480453,863954407,218801451,705773257,348815297,352473720,586611486,201833066,839649415,382599942,883627588,69625561,823165807,237650428,461523194,429482169,140331869,929699083,257394184,505796371,473623971,680354277,399381968,891936288,279346313,973787873,183478450,710213581,113156867,721248674,490367762,68763841,327851417,394758553,471891708,889086882,774522914,60077664,726760119,666165298,645578699,911268952,626335709,60181482,298657891,803380204,380591972,69954759,897076809,429516273,503406319,903441821,776930794,807108064,838904743,990085068,376682856,679364231,675093522,168109002,897396471,215458514,170473369,462000303,264087376,937549146,52165272,989780834,394470319,472109610,620471323,916181476,496041562,130958366,110431648,303956814,606307731,228658301,413924402,422874313,443581791,106572180,915215607,419026962,118129355,113509740,388201901,848730362,995047353,165083992,814614956,467778493,147242746,155837384,571405949,984643830,430228397,487514553,557236170,265296872,129970746,841603924,524885006,618494836,189789415,593302535,681799447,191669380,110570015,422324178,373462153,976817604,955186239,263136416,976880514,334603039,43666724,521219474,929629154,907452172,806174376,887469205,152595456,113265877,718545835,915360213,542893132,420109587,458070437,956842954,504054125,504888694,987683312,922862775,410036794,651193664,97776581,257173638,981786355,600723831,326830331,773422446,453814752,608390434,663529006,885015922,655694423,193772490,347179028,997810630,925689035,475970800,230423708,361456087,645345108,259801138,883112278,254645137,382827003,487623234,540763402,422573293,230445676,386131266,4371292,550155477,105874885,952592236,44178393,498615619,349088390,32704586,707057980,387750835,356240918,804506120,601529835,737589099,680234549,925249118,249272043,355358562,894359308,356868539,966711139,140146448,179239293,171110176,789525154,40822961,803103561,207078509,716210512,764832259,61289476,703065788,611270511,992701939,305144235,394753950,691920638,606760619,583229053,592278406,658642125,579173222,330401033,243563214,279749802,494026521,65920601,155688235,88160550,416838024,861280743,126490902,359729968,656340183,529969274,549800884,560463800,724936332,268765632,794956528,808063252,419338333,96247535,646994753,763206574,493864563,478018429,957301390,425705854,462647869,507162157,938847549,93353989,389963028,747088036,321234501,992411666,307890776,119904449,410505954,189589547,517746008,703346475,437257966,807070233,966726618,246308258,938481046,817200750,285750556,313138498,855608921,726824172,548548701,228392746,85069098,141483963,382659703,894102321,375615434,229227834,282969564,514150851,268226995,911759302,722029594,363219922,200217003,217204177,725683443,168463475,626814468,825368236,997820294,699571241,93494698,420172810,306334874,537577868,672355541,527013772,513804144,274009764,259057386,547878605,624828271,565571507,335385334,14808470,874424859,660194532,870542190,512952086,436642668,959446633,532361116,253815268,974222067,177957920,655328156,897255005,276473725,592128621,148648848,442447785,751408992,142627507,712489250,702270980,713561491,84057482,802500159,569131302,512257035,542109431,308805557,11872364,696056039,894464075,549423697,953425968,38360212,303423429,948531117,8369683,885286236,638809279,35947342,752881561,398132685,404388942,155520917,206785131,54566791,864641852,648047659,171087333,606843100,357834281,247568237,251696402,65719013,813681273,173789404,53098011,917383834,651389060,481951978,498402636,42266414,968774018,435162813,764426331,906126723,254473637,120263514,994481461,949683056,429538478,68141660,44082907,827897636,355017119,96041992,758941705,834669581,202232071,494580504,846399627,659860408,74393897,846518758,993356580,880943507,744513562,338449686,466314964,28216038,410721554,81419080,888604255,698514552,588920020,98191418,99663752,862322098,581891506,783473716,893262672,342648801,833157539,983018911,330631375,733738014,78175507,813005852,474389157,955617280,707499333,928266291,608197342,971769585,337317759,802369166,570180566,512060064,62292611,205176645,234403880,278458302,166318714,604419414,729977998,476251740,688187035,711060592,602147743,169959281,910225339,405942034,962247181,504705620,958270956,685109729,518870991,369088998,809095596,871090367,647060816,776877323,621631148,352626210,923199995,405162788,213089131,329213467,918882654,756712511,58040959,958314967,546767502,761554148,423768614,543410237,906310953,707525634,130315767,775204119,489278096,711716943,738595513,618750438,302601096,274723744,606160193,349327086,337884733,205476414,724223350,240274163,256126394,845950067,286217811,172439966,197239561,576598595,840073240,839774016,828013091,585182754,230659787,227743858,578175235,136333097,787752585,430524255,381114048,338693610,607307631,560274395,246789090,541053310,299252898,866510724,879886745,309644030,809236591,830931290,43150881,766032978,317837463,147604923,901069549,734546712,304896824,824419219,453527484,898642968,456672281,697358455,584489391,549538063,104092753,572354792,934482800,116220267,319090661,483134551,92069054,740163605,895995683,819733243,432177414,474971798,831876164,370044394,57588879,761164532,941165212,186539768,939254495,324354491,59846096,251661392,422305539,558790742,766025728,910993495,320489566,220484111,169051871,765913761,516046455,526554505,7076533,105487368,869354486,495825433,734410388,625799054,953448027,404493049,708492342,421420105,49148923,874443105,624985862,785831374,801871703,447271707,843859444,330344169,410848916,746143371,95598016,822825909,363750719,346407659,225239341,32060592,895464880,520402236,534264438,173619187,756727160,344134960,919426338,330867809,147974864,583863294,885629638,91628585,270726911,955356602,263708807,874888048,877033856,213977166,615726518,5371640,376555413,399845144,685982656,876519538,836806674,580418573,992589441,375948725,780173492,409827681,355776080,314597671,691622450,465149990,930951408,188745598,872410878,12913640,147657310,560511640,704371211,928742794,105719600,522136640,872437473,83013307,506363615,604547340,864562920,28901491,679683148,819502704,933146526,193017413,578947887,855918729,741184057,588008783,152226175,48257669,768101550,558271723,423412012,689205984,397100121,817736906,814175086,453654552,986296408,912503497,158824991,719393604,21073915,330375010,380239334,682895487,445254973,582727252,783096849,20842755,550589331,493263792,149228500,93558486,161036958,530881191,737473894,733126222,987225576,474447436,182652848,270317637,646962197,323302117,689724374,128070496,427014073,348892205,53514047,902772918,123882316,915054826,481748352,812486638,901759681,154256143,860409865,912664043,663930311,494111662,507569319,335224129,900024636,539751619,906601006,694872977,756098697,167565910,160401597,475215890,468366035,129618502,910148458,317380266,751216816,686265309,76283786,914921894,669623017,153312902,33624826,106413076,723597875,568390803,767898522,463225801,746125210,356916864,129027206,431180607,856201428,494571365,32448277,209801262,995270126,547088790,735468340,292283558,951245679,466890686,38621427,806829789,23553926,167184887,952205995,244540034,209676878,387593543,712498104,527829057,699704754,989753531,974580532,82183290,247545374,252829736,437026554,627114158,774052143,659822544,434636183,168001364,531437971,395768861,835929339,38221724,304044425,20540204,779025191,314325876,722713014,316642698,384499125,12483526,895510084,707518413,888696813,11830505,363351373,425188100,851808202,89601320,885487034,726376222,906302458,965493958,546829583,330100194,557193099,361833821,718373051,451591742,118319760,877983633,320518204,707099001,677148255,948600776,879178745,404503404,722596833,436181124,126047342,894932350,362865991,898084052,127951481,336572652,62489271,46019269,40456203,281339002,729022466,18785237,436645631,976150943,501413488,491253672,167772882,192750205,12226549,803488106,298085229,541458071,378385404,795889325,473569113,398560785,973969674,646735228,569819344,936667426,216052621,925377900,43579773,542899124,669675362,720695525,18539557,349596343,310763819,529874429,582502096,706571587,323324975,460739999,575854008,45384257,87334063,799359437,769791723,918316067,741297107,237392778,569062765,311493933,483945834,947026641,463533084,655770580,641585034,284004645,777290428,839393532,870032956,338468339,699543407,677619487,478881024,165178817,899729104,412318870,231911535,671835770,524758143,361419625,663272503,489056446,181597162,295713515,331326985,625967966,441547955,233786515,96227706,599463575,43152667,974525063,708305253,242838638,707919347,3235303,909349279,185495307,972050596,849260750,446345102,593013447,250619151,737215753,342401909,960042774,463596728,399747834,469772677,226199689,701354000,428519175,880232247,289493263,20954294,587061802,298086821,758122614,588404876,670373976,737966509,20341111,916471520,99974207,979592421,146120502,914046603,643266206,274425586,839933180,505835937,124490864,30211211,130190257,278754221,424709640,551512444,634844123,589314241,998955953,528226942,108348554,365479421,226826158,392446812,987288414,340285236,467657753,416978034,854195055,576382284,240854645,84636964,457035841,34726066,891232642,316120527,628576698,578704558,14298920,551755575,295165017,951748845,998351810,221598419,391233686,701411235,745675739,754006588,12265430,965341352,480497830,656430922,481912643,543741380,640521027,149924719,747634604,924829424,483725447,839999894,336906628,635317632,724720377,378564718,519709545,317904573,965356386,666034716,752849351,411710103,92259576,947442718,470607512,261006369,298458989,6469787,238125547,564988252,2523011,643188979,630627250,621775019,263668635,149052834,849641866,273913875,132663355,69782156,809718394,108140059,518177921,38591850,968025256,534294458,16277387,95151155,76762033,348029493,999560959,976299505,569496332,165739528,715062700,846351101,944487441,857174312,892228627,211324736,261773622,316276403,668106416,782723969,378363932,802755344,596671106,599098120,217243264,358547706,705726467,377776562,842866170,840174666,664604270,297270977,84990711,23273884,891380787,910407670,876702893,360157581,722002891,958048747,152876306,686693936,118551317,250865769,819359092,667068765,922195567,262600116,512553088,501860628,876638112,586590257,535633743,367981419,150990293,459082985,228019602,665572438,668355758,264555248,34773628,480000307,825965207,966820862,16459799,989631222,611164085,63094494,322201301,763293344,621240322,326086978,361397373,717879902,270425175,330956391,744721484,484387152,483746227,434449317,704284563,959201940,950265518,369225917,462194023,953249096,98751036,749084290,244627843,833584099,618833961,415831809,356838074,847164584,251658243,661926111,756401396,806028127,980090109,902254416,821424212,439210961,452180779,5159650,455453116,306485954,605130611,200204968,591475241,16097967,246333302,100857235,539450415,305808875,559703774,122132641,638243008,838147256,881363752,853704976,755799977,314341778,885063647,472357044,467757130,591382928,199625776,997504418,803058030,320516632,952629181,971766012,291926059,704183384,210373257,901869250,643358972,319713083,364342249,534165122,567245161,314730983,789098781,842095502,160664110,603460711,521461111,955019743,623952629,227469751,710797930,652759591,463299634,511192896,627061466,551514679,283810340,114924820,555343468,922664314,805852530,723192577,31448910,782621329,713823611,376752294,699934416,479318968,185031948,8981405,9373512,1414234,83244066,62148199,943705406,416108941,902544716,462525942,152570056,44371808,832595433,393283013,991250316,544082214,910272376,832121994,375576263,557767449,43756010,316226133,293325443,870696500,188311948,627399959,117656756,932150157,695792817,220167727,123913334,153425718,618578132,708240910,375980138,935179231,374775389,923545462,494892573,867276506,852769416,167527253,552434261,338896182,893489766,553213328,585252966,58140097,314396910,610641054,159967095,641564962,956714904,513317653,373736370,199688965,59435422,692707157,73749813,79713702,716211522,645057579,659805218,981110529,162997651,502574716,853546708,620053060,911077100,46931605,35453350,996204626,638595712,797729550,182999638,45840594,181999310,259505818,802444863,643484225,167018728,381871703,914427236,145449358,561676805,910067883,279476893,158173852,815949748,548586129,907157785,155379813,474575493,138650677,703079120,776056333,707618066,858349206,539230387,308289037,727946808,589066479,634760683,199517739,364064761,69207917,594972445,960588962,131174043,729443479,61531003,315916117,69677292,710076089,231783376,768705830,736552580,507182239,713462557,990407548,981805385,633606754,273883627,754406681,491702663,847674015,101638495,582441282,522811741,397778892,664385130,949424377,843049294,918206219,96875735,7815254,257715981,130287719,150164254,8027075,76465667,377363826,228567174,874944977,601687500,168361425,243387115,263389072,251887244,504762719,621113175,79965992,384842145,642337667,249596238,778186128,24238701,4115081,178151148,727317615,290721993,18944614,619869320,497829681,363457335,520652040,127069134,770641964,18238133,629311218,59023585,529237350,983872218,892407351,197852927,383162046,560688516,513550383,764463052,294338418,446452558,888547576,808535602,160849514,738517430,772587823,147472515,942939460,194008136,295880333,234847957,468767255,385146882,437278817,174400444,442374625,501062874,77850864,597168396,764154222,297317251,472222677,584975800,97056843,168942833,275887045,805071495,839261257,232366934,180445012,802373011,139510407,595786273,910943303,710190130,425043146,637354213,679308030,676961234,338282355,363235502,675625286,10999636,340802420,288695550,914092924,758354234,746828808,426479912,82021993,748325911,678302752,880307125,130726074,781485730,206093505,277619630,191309741,986095630,312129924,677192706,951878906,99517618,962043258,904755058,782834083,691918664,233404190,914327803,679886900,983510837,206776607,36478131,383021449,215812738,483581414,99578378,174712650,857541839,567095410,566314942,822677721,454360619,665715901,838492538,857141950,345915881,357424519,351700942,184658504,491708742,513431429,185644913,292291362,640270188,696470613,218493127,559806800,586964553,118836291,13874008,589715248,908120725,630332750,449656129,4422894,70984821,198114748,48809044,759278881,951599758,992765373,453659201,467223339,652018885,173738307,420019484,859476650,310827125,711940311,55090610,17758216,299340186,511684217,641568555,611730827,636364659,920565815,161619759,283166163,454047047,97313874,343823890,477208535,597381825,159270691,441267825,273283610,26737856,764071257,196224203,626462468,207931677,707318925,830520751,66743150,878891281,287632892,876709697,675258344,316314924,87044257,278713848,349722295,904155444,398544295,974317109,643846026,720585255,83097540,350737871,78253415,966084035,731450920,24351568,133671140,847849339,346393398,161551828,381906350,435623075,380575560,368544910,316057344,359153978,686122041,50530510,135969528,434384289,858590773,60151478,690178473,359377357,609486226,863111210,414783633,858429194,838119257,869398265,86112824,18149579,30074477,949872144,938389439,972116639,279491312,869822102,101487962,223732685,515986270,514109522,475055589,900157956,981472676,357397639,386495558,291211203,705758873,923459972,742047129,197125818,457475704,163416097,248598942,860755727,362903656,390473442,390970174,582780673,122795019,585325494,460153830,860846881,619327425,568571420,368954649,545411741,707930912,6348580,780709495,990904465,27247421,208295789,126799745,483057326,544006877,643600769,229221268,541451321,975532014,20979997,747504635,392077004,39420474,447579086,274157263,663539113,258477075,740294452,196696144,330886050,237723569,437762155,218453195,464547376,636522902,159628669,273339480,527637812,569833295,481310890,41861223,747410379,197520143,255130155,76093065,253443814,84191825,985677156,33020574,50969248,7241188,856164973,832600801,597067815,82118410,613973716,931090123,144438441,848189497,572675759,538936122,517884038,276663274,841803821,470374844,971856681,506342402,509924003,614376917,327076435,111847683,148323013,816227982,148331512,984428279,119315209,939882083,936523043,395904424,82173874,442532731,929500231,442583517,307873422,865687780,431022266,431801422,693703719,825896991,340339072,54705917,972701004,461474804,401403322,534493593,229763898,760097322,957909751,35755501,509539570,79457293,683376436,914423474,565350491,66175657,133727708,62689744,222220227,373164261,888202266,1051213,425986996,979586130,359010094,182057251,881634212,410320055,119969791,60808738,996431102,903957070,619045274,106103593,11613079,318552950,899505506,932554475,226221979,26325195,537811357,77872139,255179590,657927593,817595067,967542905,685702890,507433095,983971581,479920725,796217273,961718982,368484752,257392959,614980906,944206604,579823777,973200830,783863031,309202635,62595655,133275890,149413508,128050203,638331018,63245114,443135528,540019529,936484434,899148337,343918579,71708015,845820831,992893194,839743567,820102613,502058908,565415857,455745667,992857059,671406811,821531329,583859063,931520982,620830668,614162833,342349597,753965611,241739476,490322213,380890385,750760032,800604769,760196079,202770021,711315234,533064923,897881470,537330785,984697092,619887081,88289913,981961757,796953633,230316803,518596850,534527988,298757645,677260238,24721722,471922012,397472849,198668166,590196958,412197547,68911718,495491730,393789439,987100746,903035622,851205363,236299337,881795158,60640509,36301313,297465963,282817675,123653927,283406707,777729104,938082533,742271653,918931265,281629392,633104165,877762369,546900393,440330680,756095595,589986520,515857369,799860868,290230825,599010414,80843200,624367974,984234690,571403730,399758153,868126762,789161114,464005677,186669388,344487940,290168668,323835747,691430734,330749297,408821196,269798863,63436970,945010981,328962048,403941919,54857596,732577822,204814516,611794010,368252266,847756466,89283039,358407383,213182505,965931601,949377153,179908735,683879694,985960549,351928006,227004879,112841528,211816938,51837197,467675100,473810303,895966964,785491961,816172054,623924644,206020707,812073679,16709848,959561506,401857675,965174098,708686187,3930894,884410079,731739606,518441149,515966553,391572471,366723312,818222919,989733718,175384593,416544572,256466198,134151653,286957068,769431513,220928812,208497058,892673176,61996272,869271799,84520592,741095496,382199630,4100106,886151522,163941668,149606543,575546992,856839697,908045521,159765599,470372413,709837558,331783968,544730186,20696015,8940592,694160907,602590697,255394694,369963580,326466184,573121035,211939569,493371221,544387259,649165836,73196385,507956912,564241224,283520300,429246733,290016939,709666971,822686326,84203565,142521627,387893874,998894737,973888175,784033785,669079359,316632369,54130569,423442459,232478989,797603103,420154882,763166557,694123396,628572734,841791166,601907708,678729203,953358798,681751135,133705675,632708233,979690727,266299843,13830067,78186795,277964354,184599934,496845444,227571915,388656266,674588058,999576750,956583878,643680599,164103620,477173311,55313819,216997002,186540574,363224659,444655711,92936554,772049043,728625292,937154653,447200445,181888315,929802379,528086325,453855994,467431417,535721529,582886297,607372787,312507400,42182858,645809662,812277143,974204688,571024335,300958194,155187778,158210636,155866129,858149070,441854648,528721065,623316839,242683884,61638142,450134180,184012595,620113219,117726046,113429186,247496887,133168111,183342503,544738408,872049647,249912855,220932676,477782952,50438639,678203175,644761301,123159799,231508269,271977342,764571839,482849505,9057829,884852003,984870274,945390008,839616040,270185089,305044493,968394302,259217522,414301282,481844922,267554223,373628205,77181749,277005716,210621025,491799389,22029946,26190935,390187992,138737375,82282961,465751412,140694559,321907029,717746459,49403952,460107644,414018159,245183373,288145068,927766687,940277180,533194201,309348284,981350580,332859686,941002563,560757336,470836628,945786235,248656466,111785398,602518399,74156267,165701686,776278169,8183070,871641387,419325144,312656142,287538711,115030853,333260323,749519820,56802435,383841422,251000795,404301840,195247284,765388155,67840467,873869226,502974780,284465965,995915565,845710034,277766843,533876074,269106794,650204466,261490043,747523379,156723035,451869794,897949966,899764724,640077555,650958302,808271471,998105634,824085959,313676337,603486393,516612148,599543491,532744112,904368090,872327159,363939872,123297688,462835754,274011820,664864655,527696611,798390721,640952870,95784642,543620555,458758792,681527336,520504592,754242125,477758971,474299117,552300467,489987099,704186484,578203597,387342088,59507947,264287376,118843016,261845019,653833435,662231969,758667942,680994882,120684470,410594714,924553895,976614721,557026657,706058715,899388115,327959590,908566789,241292267,718538324,30927687,399804199,672908001,643847161,382690814,683673466,407248448,821440935,221327338,136640867,436557318,748314536,385286835,368054838,272767336,689115743,133219921,277976368,525522204,831904348,827711459,939999462,2501473,893546513,965480679,180448311,754778365,456004412,945647692,656557069,659960137,551716015,350212353,294420251,906232520,785181365,849768699,355737804,934909052,27396238,813124337,257829903,380020036,419355469,91416030,168931670,700307516,137250607,705524004,777144306,250109181,657013035,366002400,282828430,584737672,907432435,693180818,10225571,316656454,313837699,891741269,204563704,226641428,717240448,798665715,418688203,119080018,253561098,95754700,828005398,340319252,453958998,599025378,639800591,223182108,289239703,18169412,534974541,101991095,136528016,962659549,47153183,956902683,53414795,551031002,751680917,914586402,85188419,608269345,984713256,26652060,80559280,644799389,367093617,313626641,998674493,481755593,894741201,391876661,568856045,618033105,11721682,271722934,531190420,836538222,899487855,260252284,242329575,286665502,609901663,304219372,917864160,253982470,1183957,904662140,142179760,451529170,373180156,97209741,174549992,686274924,541878975,684392912,488343215,364439079,987479328,56216407,141360286,359042664,97207342,768838401,651446925,722836541,493971159,209096744,140105212,319106712,244989772,345207616,283528260,140738341,563438432,31648047,315985311,957821156,959325315,443546690,920966131,168129448,781660720,541009484,469961147,508471238,306508760,142438919,577255296,385027005,154575803,546189074,459280227,212506007,869464185,706028267,254659079,78593223,723291751,172741059,542828214,384512968,780624788,423047235,435369929,5640229,666120164,362854754,493898413,608899295,605236642,720284014,930210810,950072941,447076198,648114793,181990053,916156249,703335259,491932147,880614514,76633991,660730244,642159655,403346771,327087477,570047583,764038403,751167397,883329704,271867938,552764284,328655031,648394949,86158650,258723605,121586115,301799777,84813650,897642597,266902069,136317202,591923308,711757955,868869439,923382577,935351819,459569228,789361447,446372096,690466818,770566070,428584054,274168806,996442229,774889540,451835136,430614096,354657467,500844027,928574556,49692978,331759286,556009728,412123697,633229055,162592082,605919692,636663443,443248218,587736612,633295679,936747618,800403340,965585655,863231024,39553919,84884680,57220947,511627320,745252525,121933412,929737702,161726909,180996707,643978557,88639236,495952345,245184353,386742067,95971547,251335956,162172129,627426138,494621956,335051510,501856998,81951523,952678246,961367679,880195150,561763223,241247737,829273153,678393791,390390354,818542992,106826981,919471987,599824184,217461218,199786057,114575341,609337777,331208229,527057274,353638773,559395147,37520099,699557329,93189214,128288650,787812901,59236764,705283467,27794407,74388516,751138671,426976256,824815132,118801647,475858360,504895288,599533010,680580463,110686628,238149439,727443746,819962421,212103470,841792157,703918359,998122576,663691645,726196983,723885145,267179129,341410856,173400496,799531057,162609503,253260127,91622819,37911540,240096675,690023530,485416730,195586101,208108629,872103995,97843085,170274397,450662533,479552819,850661260,642773647,731711620,356825794,369963078,715115201,876717767,999951398,610854516,331750631,572691621,356190514,769573647,591524558,529882029,93058158,938081118,426978770,695827410,188291088,667885282,550792811,775238263,895661969,93363187,955106191,633185272,160395320,281313612,538872726,726613369,320460114,630462996,363103286,252994367,446847885,760071435,895682816,760968975,104707317,591851119,158665387,963465590,236827292,678998504,741937791,118320162,265348529,228026006,287008192,351675373,759463146,7908266,749042273,251515788,57713488,146152631,819853283,229940049,153880490,700088325,531552087,7364381,312403928,230871612,25718814,919863429,667823052,523993644,690276041,287176131,588197490,679501354,200177284,652957515,669987281,854303264,319640821,389313172,755282652,461630938,16267588,567041560,258543763,406597288,187434206,711916448,600882034,189630494,639930457,856289886,777793586,388050698,653527540,168523362,678029520,760549554,441528586,1064375,688551739,912413534,270751594,648370141,186999173,724790610,216627213,779359827,539953579,942333522,429203362,734564720,247520296,798548018,215884579,586065171,115255730,616941161,457516043,108334682,421570785,121564050,773560382,759028213,338465290,832166438,853277282,757387166,413202512,622924211,927701785,73057741,782738595,40756889,889658101,29328382,690052272,178355402,503106973,38357982,512202003,820022880,972290908,371837758,243461326,677709242,879873029,554285375,704026821,884346452,619409214,156636557,838655627,52791752,949614885,299667024,206503739,592434097,622604173,327838258,706202986,573547336,983185083,213933883,110366309,668277882,863182903,872598733,601106927,319201926,572884594,673993685,612484158,748950260,183281369,793393753,212026510,720998441,12756000,469898379,333117674,204133421,941971281,619883654,680546014,723319183,432032732,678569648,152504246,565474595,787481527,317659126,922141203,138941785,502331451,472257549,493204353,315052293,59527662,943693688,340393623,354600193,349595634,83409022,611731776,179068243,428392472,498103265,650844073,729096543,73803467,571870688,194202807,452252386,517494000,310768015,184290907,784958455,246712301,721092888,629454419,461820538,80346613,506424836,273249589,816414036,175501458,500381364,926442608,569748359,853301373,766280802,678521113,224616112,739069473,960015203,520677030,343751636,464565000,362744163,168103182,528749598,385551436,129674186,453878063,789238920,215432965,784395849,744970594,491712498,547540851,51887966,32510078,688675335,326565834,426520103,853213574,129750077,982548776,765740120,177768542,76744681,958163889,357517889,979841813,602901708,478499140,940139722,347222504,133449552,65372060,931116334,688972949,242574957,955382673,942093920,372836814,920252730,767794974,440697200,481334703,788876439,950842976,651547207,171007635,344297347,766119709,394957270,739089556,639824618,574583760,32931080,363840519,800449757,228628717,495177231,406464335,36397015,796175072,184836867,683863653,181010784,975613379,453627558,718902218,680505673,484844044,827124306,769340265,403174413,356721788,594623277,41380296,345650667,579938025,498327752,637495625,694569684,734088875,196587812,896492161,509040375,396134113,771450959,644888700,154368661,331085266,785831876,144065376,285480468,930723507,337336657,452577178,374550647,599093383,206816107,588404517,738833453,591505943,659791195,946297319,205488881,47185344,431745594,822975971,457508930,388703893,923079372,813318949,605019455,185830216,973541510,716467564,484395564,219829785,317537838,144787633,710152753,380487533,713692172,214116655,381935269,795230008,226515170,283555227,599414598,35674687,589918426,303696443,48005653,200852635,977322973,155533024,414856057,198643269,629903840,702712690,806634093,880430416,136234817,759038882,629377184,781320400,159207275,120511513,524959580,424690535,395614570,597433120,501230173,687238667,559903396,260476178,426256707,600779104,263941340,964268264,983753738,539400359,942209899,39087140,807160160,314461985,534465529,506764415,65960642,10577518,216163814,901848724,823979427,60534189,923183291,768126520,435291360,714562912,331802895,240895494,484825131,748393111,468362372,861316731,738858794,229582475,786722631,379669915,474122025,497558246,820204481,357181301,180605225,854780149,136733139,995106160,300154704,676963299,491753328,194198246,321604277,537662550,817999852,368677048,662067417,638934323,284904995,595243012,695098672,522614400,918053055,291050029,151600020,117807588,540170228,909826277,789958449,383729048,686806185,903198867,303106481,970352366,392048737,989883079,556315058,40289267,878889597,497825697,349971995,110983627,344372553,558463071,782370104,110454412,725583539,296657455,513523899,141349702,86786762,554134571,647070262,970558191,736442203,35207289,595274674,554331915,812992943,890633934,370279925,362077026,343650229,610275927,623249236,366306654,707211425,703807090,904152302,676101130,564443457,917805822,793212546,632362336,827554946,345181351,538955736,697759120,791170678,162392126,132209733,663561197,99187667,165787309,857103449,748551894,366413248,748314298,423704398,225919602,171327155,604062822,995580212,928290222,18434645,178118406,698497486,962776214,388942504,926885527,128799553,775824265,706226970,304779024,914519823,38433922,206222056,168068419,380446767,565060758,94447527,895866750,85598918,714537649,759892465,805196113,152247588,264647813,4442334,170952899,632981239,233075704,206486174,357791912,316267198,683322875,410674384,706414150,900211375,900450015,789321679,969600220,85280080,613623414,734278125,413529006,235785462,257978535,537481615,847147146,613823686,102138308,888326016,994044286,385864332,773993609,314410275,950463055,233392981,204415999,804217032,432281406,946004306,544829314,794451144,986079759,630585284,851364862,525702334,550797047,224069322,622602406,638463310,414150857,919421313,715876477,972786725,694955035,595751840,390124342,431959926,983282414,812138162,879948698,239636120,569386003,96114477,599152694,183302737,732976033,646920835,152948575,793612271,244957365,453479116,568939565,616059812,849509373,925132802,773731126,741412655,788346252,113183085,521251473,69394929,101451354,35606913,6982440,903852655,383854839,787168480,231785042,772737463,239852991,913228423,998673353,146615509,231314524,341777964,343524727,551507535,74631090,666809257,165783262,892216070,291454382,18866970,908132239,725030177,783237076,102954166,327641150,349798699,288586513,131963459,790400271,571489035,146896574,713577162,366127198,107750289,304229378,384874540,272643492,524358864,181106543,451332562,520993171,36665219,684310725,125491713,667108437,75381207,441758230,149455876,658778280,55252907,793347739,149088029,586750715,454559585,259278490,293329694,5285524,37126656,602099094,640553440,66351579,208585717,820307075,826589893,707966432,138182823,760374128,310310446,676269389,995295332,781630206,781648895,649669266,852904998,666267867,909986705,636174769,91197745,623168566,330185702,860191847,36570918,100613750,247453846,497236615,320724439,778829363,433917188,214725100,743931254,415490829,643465744,859130170,994592345,494983240,638311067,859021674,377319534,571731665,289243640,511565940,671572297,998291197,507520101,528542127,836203783,293476269,393905830,173547455,486692044,627089413,241303952,419846294,235397814,712658601,845025758,472726294,655507524,401044522,548969927,527868229,667301639,837001593,866378094,252213777,557600117,24783534,427778554,931732224,490146677,626351265,398664479,349435581,623679381,474973453,921094698,954288577,48226213,439355045,886736841,56835777,973647431,580184468,902786221,608843553,387857580,50063259,354259334,671831724,306092282,617221295,612465533,37469721,284568795,686198548,287104603,35214269,187559160,89765465,321387295,880377396,323499728,916540162,43645079,122261087,199445779,114314961,791305015,43868775,170816228,488841167,772387093,898409995,169852706,780066489,695690242,514082527,25423193,828583486,233111400,928011038,717197505,510545175,39117479,831814380,524462887,932721037,406216103,263190773,868155238,378503957,487974460,273238568,971606383,697732922,853910006,721441499,90138425,885661504,769909051,470287596,134495987,342169016,572898921,218296112,170703065,940728006,451757740,909006937,564562118,927132254,811339599,569800965,769377384,296277540,597939004,989545126,125834931,114618817,274111817,747327638,778693282,240825461,322604123,906599726,264309666,351896762,818131208,671234797,680681716,761013892,430602836,597186741,290336140,262351744,967009935,642021912,585151994,957354150,82520711,814382619,958104487,861252099,790697627,91090058,231067660,538710922,737867926,620411394,858813938,705416477,22468435,182713789,775673374,590289166,321791537,152605751,452938938,660799714,818736518,370929374,537087188,78663871,34868507,479099536,80533064,525920933,990481641,105954981,902591852,426904546,927320126,927392967,362669607,913652009,676194111,845214759,699800107,21333253,401732222,239725440,112844911,949286862,482752088,682018148,733222727,822112068,661228823,620335151,699299297,97639577,77534328,168090275,514168826,45250159,179868598,502938062,443695928,803527034,468022051,738001914,63924427,78451860,315652468,788438806,779312981,655179131,945303594,549260552,272861568,154150588,932666926,512692920,58075715,477494444,506830784,311569164,256160380,701850817,614507773,22331312,983492781,727825428,595212534,436529569,486624829,397971515,818208758,217706598,901731180,755963618,572749501,225301842,165795130,910657082,810702727,763020777,267138378,884455296,238237463,854486990,452767706,172959369,854164113,688891758,984804146,973469630,196257666,905634643,924622361,102721469,465334540,656783329,58058213,588604595,896144059,825915360,232903989,785319349,855156288,80633342,137138627,820551785,873350021,310282230,607479072,806554815,621591450,8639253,964903573,551897132,53464716,929876435,408267902,715191055,393471257,765482080,119989603,945734926,515415450,277616290,324014620,732448013,3703339,257702071,482592178,577669255,257753697,715822280,842226349,974614681,655389557,797194930,332444046,442212673,158467505,277429837,191973265,519729453,406273587,821151381,197555294,327018466,5767610,589849673,975735440,443643366,510878433,672714102,871050050,481518838,806358974,133712387,596869233,279515182,352753780,712949858,447135104,53136863,527350346,362876493,576958868,801017292,498175737,478163226,262929304,168249387,742435630,355830325,20007196,709904573,160422410,585357102,926071893,496923322,69283096,828400123,891532575,461595808,195146384,383153833,387268046,654148497,996655653,448659729,562698123,286716745,751671118,132030377,613988190,858266742,678131538,904897605,267985829,769877354,320594348,62388143,853024190,303110420,606890652,554428393,191285051,909562281,775300532,541705403,276095774,148486856,919440572,648113008,381067382,807303662,504779652,441520257,594955518,307187468,487441360,915432555,149192727,566204771,932045651,311826957,683162646,932960450,263118774,985101961,159495831,962696559,561783709,620488574,791408245,407229117,847880914,193410940,589175788,777687954,503724650,585411169,825872709,10174861,730761405,568018632,626380827,405833731,351178877,570995360,914819148,731850715,318720178,477763207,615949658,578263766,620318565,244056976,818486300,275407534,388343832,724362623,409158687,829726204,592037378,878961313,708471944,317602600,626823267,529903541,152336654,469555479,340318550,546645384,338308073,349360069,230460746,210878037,166497983,783092823,664027806,734055697,297760351,809688181,123849657,486280216,231301674,75384257,675836985,722287645,130850162,560583179,214891552,676569639,281572457,826251340,960119231,642481391,121120648,573336586,281713631,57175381,89654384,657876593,373069560,937196598,219041832,262768672,90156906,852891302,200271308,176265917,898072451,753737769,571846745,639816106,252301931,801201625,666075521,447865236,332170850,147021566,564593578,431765846,92191755,274581773,664191467,738447911,254071712,288544534,40642391,604323000,847147020,105770126,436748173,267566102,94994648,395671143,860069685,777680967,461142840,727558385,240139205,189361655,811396658,243058042,676941941,807224888,908397559,29244494,796774925,61490884,37928771,202950947,887325333,896012096,799975611,467677951,68010139,451786560,115052384,307026582,768848590,811822988,812676924,268371386,409388147,184393382,427705571,655215117,126222325,236540401,95567182,112421037,791428263,363153894,173568776,15729312,924165731,636333911,658655221,717344030,551775773,72288017,13694772,746093099,189681099,977194888,79967741,133827762,826253282,736704075,525875874,709859638,700592604,132549228,605613437,45799734,861072716,313722311,312737967,66316053,864757163,258066879,417597110,694069177,181872218,263419118,201530749,871727940,349774995,772212359,679532739,685432863,590851098,835489446,926250870,590993960,647718380,271359911,942116257,494433150,141322024,515147038,450820434,41662419,387611690,490160556,398589966,759708148,244121965,15842843,667950508,746490973,351399440,723170654,20251181,270760679,685808853,378385358,49914903,444341160,212940119,823914092,284670187,871631601,801471821,867394728,392590682,20359822,322705731,495344602,194237166,933754178,582698273,600482211,361745308,621274688,578813896,100157360,960966588,513066885,805053952,384778809,150505400,946791300,902711564,493882509,702093589,258771373,237224951,413511778,246829839,251370992,942413900,372060772,251724903,502249949,499569907,381452750,877170925,534048716,789283110,432353740,869374007,71730275,320226800,918944252,943824917,409227146,534154461,975577493,337634402,687248864,582051582,380915151,739400491,62378683,710416673,492118793,274615801,504694144,879980925,549029143,159008158,871425836,291631610,893381863,872740745,897431583,648198770,114375504,939647458,838181978,61940774,128268035,404929068,16444449,596300217,3660173,79677142,940009336,420954829,477012894,219920187,316928842,413393420,258372625,13761433,714722596,193087091,526169797,750388610,632585924,772583136,123545609,516650253,732645306,670594425,510422500,995944621,611436674,378419604,360682139,729749753,736975625,443466512,844333916,118800178,15122610,15612394,577570635,935020249,189767730,325384730,101642113,507842258,523303239,364314591,37317725,953354006,987088323,605318856,700398894,891588022,271894832,317482439,998419234,828367785,455829872,506606882,419210975,115238363,888370518,444985134,221485890,149439301,713027331,395877620,985624767,443764328,869105625,67033478,607662297,152577635,718540328,301199095,393575491,922878806,75122760,259181700,680523990,111130121,669656816,748798368,792922615,960128661,640673492,933607107,891094884,686131481,371493272,863088412,253142063,133585759,875652791,29777491,227333983,638752359,932990723,373892892,363533543,19755480,716138442,282763051,123450657,897467901,250583512,396865914,571678992,298605060,620218400,787571838,730515296,492271998,761755662,899943784,945389759,375806455,240294146,772294281,314761764,339709350,56293925,669837459,164968053,520971482,851917115,437968016,859106402,148850331,229489406,615408679,137068414,798306110,989671565,673460381,502825468,955057943,358286428,244656794,364986875,889800886,285958738,484715557,214285173,282943840,681802864,907139203,510903893,999247245,978013723,781357369,27713862,533726279,242298435,163137867,14197256,503856768,867531205,612640535,49416988,672060509,442831167,66453477,194211827,573129704,223348143,115671549,960079132,467614529,867147752,639987152,387340173,536346429,98921047,753537278,452678683,873088457,197619591,3309875,69425692,6249446,152022001,434948568,398895297,473136677,396949639,430469978,436303698,759807288,19380055,29062723,948110878,175473491,467071903,454412100,192683752,761925727,943409908,942979584,950174155,713959721,141604395,550402007,449806474,220676138,1418381,69337947,950570154,424657333,708704420,366974469,678092736,257481726,264672321,482248273,320375322,308717664,75968785,35879688,491591754,576197685,153155089,243663886,955819288,760090539,784514729,343021290,787067956,214511408,339245402,693508127,947085981,551870682,953919513,924386328,469985004,664330347,287612945,60621815,691690952,120961888,368392781,289905026,596472679,502022700,875619595,654000679,738767453,211234974,17818079,51513813,726625711,596352431,180064735,461980598,426775007,802901122,492320588,761308099,252074806,920429123,151751403,808433121,350709759,804452590,880196041,881389919,206718316,858274205,467830587,580369332,317106036,798707141,613565420,245138571,102995211,413477021,535587675,183078248,44695166,76302844,760425415,378674850,827617536,134104540,510641576,372687536,6856622,444421012,904577998,272422937,706091027,427170688,737260246,81028465,908563874,977229660,47855343,782647574,745355307,587971517,628154043,548178181,214802254,158680609,937756592,442588007,642531929,961916839,742135472,695012634,152970055,626119397,148355506,589831628,532418500,26412834,597718844,547078319,395968893,800163935,727050782,182167362,173945220,898788851,996775585,856712001,803113100,523461810,197630362,651119001,960447096,921390412,999887506,479244262,890619989,483904344,655230204,690137085,703862072,218753066,889966600,991815055,698569519,313441520,214315060,811283716,16083205,886785834,390271010,110755550,705859163,985302333,161818783,340248067,995444826,48270443,381096998,563120027,918299830,770556182,38492561,358238034,963788585,862323302,161373080,213163295,716856204,712167728,163503569,699501483,234289960,847545800,287689948,344971632,317775204,166111381,321029437,820201723,353464714,638658266,269280035,534350347,410342083,100957254,503089994,927834477,537090301,550217505,490848491,549004401,295279532,954191853,17618497,642240305,566704105,913118057,592453083,892785515,335948157,523687456,587315054,281568435,304569329,322506479,51985192,412504633,840975991,210706042,431151858,916724724,282515429,302957698,680551393,497202210,828357603,900882521,296310306,992333029,120168858,880632818,603878719,76787301,155107544,609268063,143636259,440980842,404510534,489182467,739682630,562186681,773598190,770589084,498449948,463915706,768765680,882866234,15015187,515001111,986112053,839586851,288984775,430560696,729684645,546022839,219712746,286535653,340826320,547639849,627720432,265410679,324755996,531158408,150990551,641052685,800753176,156655897,836890225,908792544,827870490,969392882,402209041,399654896,393154563,623455708,110332834,317457194,527033557,987075755,414899881,183133774,419897412,912530334,438116451,232842350,821173488,581099101,557751500,697311379,312365785,583810223,756281825,886916662,818633015,355145410,237231409,97107011,61455942,760993544,281312036,132467293,86846937,462124471,417295715,664540466,840013583,769988217,944022286,982073072,151996741,438381654,306257405,550402952,386830975,530271227,957024195,772727412,699854349,189597120,741355084,398338911,974188775,557310233,764140695,786385196,387563808,886835080,923720703,828188322,489444589,731428176,430666241,79618495,700417443,434003470,257880394,644317038,140428487,123398208,57809832,809800943,723664912,720017253,883063065,171446683,899327354,427070077,984405242,19512320,175461078,330988912,785541851,438438054,548995252,842812530,272849321,602843618,489535196,252712520,757433635,782095433,610062449,976381863,2915630,753101791,258880583,896931200,224424344,491750244,832093128,778063471,279589745,365972562,599951051,324221979,389679872,23867820,9128311,793203562,328418498,196105791,498371554,54283713,736630348,357894394,954427169,705957069,212676557,655344543,452983205,449464016,431118217,435283354,997715919,630456706,615252453,379586544,64156981,401930516,42233362,855238719,181469802,941701600,989355463,704437879,664116903,246852477,724282760,389156,762690629,80605319,130371894,221601767,382664272,623774213,580428131,125905343,201247536,910082018,724922840,591377610,319905706,500720293,530026307,527895230,880256563,309594676,938237500,351677182,522095976,350107962,187945018,839320758,559027671,589917916,278906143,538091109,945556377,691260918,847060623,527973683,804009679,508945506,586367652,907281172,96537011,117095384,737093905,333690847,672488611,812985038,273935461,147061948,570400050,918090877,775665781,690734483,796524012,328965827,761531375,803402194,972235745,173259931,743406362,521104453,478560586,864826762,286896469,683053262,523570044,278930003,304453912,91855887,474262166,342367939,566826501,46371256,1647762,71784693,723941687,109097224,344105324,541652769,588594208,761699956,562025590,236046133,482075112,215601000,136653480,486851344,463693398,140935419,237661062,81551250,493979801,612045708,492446692,670741457,126393061,452090817,343953892,881855220,124824950,180426939,188912908,378412383,541133191,205001306,442760621,961556537,843289565,434348825,413060174,750223508,316300245,885294838,836433128,499508770,181341681,379972996,737570941,116690974,75421687,13819599,632401199,998867971,752175039,590943983,406086806,122282583,563687483,579750193,720874837,706963116,573603133,207608152,550074638,218851092,735285307,590354984,71117157,651667032,925504789,989847440,227643203,835386652,410586513,572481691,515743780,792821301,151557455,772899790,503147989,454758429,997176490,808087015,203690708,261084398,369710866,802097609,473714748,961417266,529254249,542741450,389734578,412544071,177991255,254263635,620351936,700085831,980399622,492268873,701978949,477217664,689117428,328126331,342574496,862922123,841941933,382696489,165279484,657505270,528525024,554109088,223374805,387631085,930762936,870644330,680154695,639493712,373998901,103817152,127577647,834322827,902102853,886630330,395734934,784612424,483235786,830869191,576079042,957621632,817947619,767108391,54206688,584727646,950022628,239913271,492842618,399711097,66965028,120803849,89287726,802191446,1266057,223456985,319500825,32932393,536866843,334695048,831710354,399803923,982822516,880236828,348206275,510894627,872683148,417970910,111889499,342004575,728440615,238636492,677968815,191958540,358506604,491660445,621588579,620851321,236609757,599045843,621866428,126184777,367798013,607033345,591857655,268796409,66655233,682105889,758510452,279432085,703199962,329680064,802349583,258345839,323377841,968794643,530628478,851286092,144429516,489541646,147219781,955318417,736666000,449048491,660867865,563409841,348721900,317356961,44960565,598368416,739482362,45593351,7337903,522213826,362259523,330449804,731158687,852214121,7213584,414068553,542241097,419922657,145817067,16331444,683285709,703275650,515667327,479915889,553074841,745377032,742604256,893436193,496467122,274765443,43918024,991469419,152935307,244335175,607175505,101951104,216988482,169740410,331615360,132023189,629609250,256907285,403961258,232414156,58511225,172277873,897995887,810606958,984001578,612899026,844069711,690681454,680100348,325645958,49843945,190656122,210394108,712860453,897345545,613389661,651358634,445547032,685200355,234137380,908359012,290016654,321785203,470976376,612802364,940666222,921024606,389317479,865234722,80812146,215635793,722335962,376332517,831750473,94338902,268807006,257587936,28825567,937675814,866498072,564119922,668708404,893712186,854204111,363065553,638447017,943269967,317461577,806065067,51503985,102363479,482099409,252416337,997818974,744142366,306205440,833668956,140081755,658904751,940086272,430947744,114697049,600887528,519626498,63649584,414650972,246603316,721359516,464966182,906460148,349685238,515305930,168195460,699791668,315120576,973681294,232892317,104265556,697892687,172176529,412212756,590565827,19127653,416546247,860211736,875108073,353072705,173663487,287184558,525167419,629925664,214457962,781676598,951018114,573659231,106790800,928745611,193096084,16002267,917065388,302337576,817909794,989054034,391543690,559081138,297861222,57311126,197099723,259199766,486283517,745300845,856383954,121656058,952273336,481177097,577172463,934642158,373370482,416859827,830330490,230469421,77170728,720773306,859449442,285158078,238492920,975611575,841656219,587348778,413424413,592843978,932173376,951996331,995009069,37135301,844483011,469480990,917188765,223834077,66636264,379497578,684569335,915864774,406914849,384270592,582322422,115758917,92393530,419264160,547032961,807341397,819427929,4648339,61496714,557901237,4817045,191573779,467181191,977055608,704613049,170605143,513133594,771351817,207359200,550245367,575154964,54249335,229537695,857909162,763061431,232326096,230978437,425715811,404223934,314921124,165588168,381762290,670691825,342210525,291671475,304690930,717787729,772068450,77596211,571933641,266621115,146564291,201796261,937897462,643495168,726587071,949732657,884653764,312075106,904409158,731394781,456609826,637849605,542879371,28437797,384654835,139974926,112834862,104094612,876040042,204763029,742776657,38506745,867022705,269492541,287831507,642799288,960790771,435926623,217182892,62666850,847419918,975955022,715702165,295888402,815438121,499662919,623049992,553890797,699004941,512360254,233851754,448097241,519554086,857985397,724258384,928088009,635264016,497098238,431918040,175973957,591156438,650724135,780785244,271601931,415902738,91040710,469802771,95986161,970723840,71319557,771240052,655983130,724621410,898093790,944185838,88042966,389799622,738464111,194874444,536400354,776557127,846184098,36458536,451245140,15472076,304591227,254282830,96501374,998813936,46846867,21814963,1017544,464557254,152910409,87823457,648211465,848356731,377308032,749947622,39054745,850371166,552120518,725790376,164718125,147386567,196427073,148588627,562546463,649883405,704398864,827789257,372974975,734327649,627785840,111146668,59936824,148431142,96832176,228794121,927892735,314381047,15831899,273992406,873522470,322140930,592665691,713387686,184127230,104087063,125299257,126792841,799311061,111344033,660605019,407980502,740981119,153641988,135171516,580118982,647077806,912540903,348151264,994777916,589756738,905782651,231428001,881397002,411820014,450275651,809002260,583227626,878170924,845210862,309988452,754993715,125864639,377051247,699755913,187858973,880182134,812637187,120359033,137288993,662985143,968448768,456770856,476006857,906053602,391739823,477200656,580370762,233430525,127572185,955933811,459252903,563110585,408124002,812181382,760159426,6681681,642662455,144732317,216817949,573665280,542920157,387332858,329732736,329599620,445291545,998740883,406783672,334055655,683836800,559021387,464990791,121599923,227190311,209817712,293310617,223734025,276368010,791840610,955297101,52075345,186935329,532692848,400006520,105808547,189835680,843965918,950438925,671816051,927802294,483578981,402153205,863247537,152293348,801225904,729734702,496468580,513641594,927552560,881598798,428120137,461502707,289966289,356716623,111252394,936592001,307909530,464579920,280436895,346063826,664685000,233528863,544117076,371592008,855656780,3276119,558284775,905969199,496723912,393402333,29886261,224896295,37984670,801415517,18369583,793467968,643605758,388613291,573823284,748241312,546562586,636870875,363266841,328967048,950237425,899746130,332481702,310648286,5621722,423178142,511249125,323212181,551946239,90041027,151168004,936791715,226258475,971586175,11995384,229751875,994152216,554141717,851598303,725329320,658809537,684614081,775127591,589954912,510858530,521435217,32904484,932690180,120733359,884149519,732001180,901208132,441336532,898607334,406686143,172397052,548793768,777031646,85205000,998497839,187493705,653356337,638840114,452549748,81977896,294711673,453908239,241047106,85433365,278892288,506086996,753348358,854674080,601629757,105354348,699198338,92919941,109727060,331192963,866040223,708372678,250449451,944101897,268431593,362908312,564810736,850448312,610771442,96198098,783618449,473761309,67246658,266086958,956892335,834129143,351955525,845925874,196279588,282971460,764620475,137661499,393652380,768616368,459661320,722518824,554625712,122269118,437810420,332458317,847932677,426093663,978167067,867994157,96977460,335280017,64827567,266308839,513677164,530523358,448654187,130171505,7995304,666517002,479644328,793118515,492755974,299347536,856678680,958671516,88810224,504514701,472806545,292438083,531517916,776707140,191335592,690978577,408604347,545785953,153357654,200123234,333560293,390730867,706434597,275030205,454395397,768649312,168307808,888183404,763387180,229960442,197120362,697243350,156988339,409027276,727457626,60447221,518697231,430931956,536843870,899561233,159456934,694151697,343464380,560904685,674509661,381765817,64816160,141099910,300822082,356881723,837084843,977271582,792144410,252442304,338978321,392773929,753143661,865711307,171053087,617266776,256233078,518981247,970291393,147405986,807747495,509310039,73835720,290964013,952197223,237144476,951508307,243766488,304901532,578924008,881435719,789988807,74706497,513330096,204698617,658021807,604937085,810883307,55154316,364355778,85440677,441051310,983746751,488590663,926943105,883113834,978174156,726325350,403949287,468763726,873991478,241210605,824645376,391145258,119881563,629909334,585882194,562161312,783040661,881888080,959809044,155775113,725060891,730336667,29857273,655073156,71265384,154749007,881628996,516826675,259589653,438986745,208706251,269929551,812608084,744486489,482989438,818949617,702909565,40858886,633897120,142870522,565483658,446019268,698608972,978692100,181571802,724663356,375149948,956051217,493074752,29550710,581913341,452708486,20864278,293842049,65015267,910413848,966546183,730968026,691747260,680178070,184903892,334660871,192336560,375362598,106842702,795123627,227065105,164572483,568994748,272986185,493585206,975998344,883372548,101354959,564113507,149934327,853577520,582178240,537644438,698157015,919337247,535817527,778159562,782212619,949545469,625521511,849598315,34922575,973038158,205239840,966212659,10120355,348298357,94486045,521844665,99169129,890039222,148992117,981874166,216685301,53614804,358484110,670360761,448635326,4271745,508468815,633082748,978979521,900176605,399005593,144147991,466582640,14821542,308423550,686857103,213590789,123895809,107416186,720540547,570866192,209358815,920060648,609301701,133217566,208711308,87339561,518395742,435738574,319845163,314808646,132518963,468788414,463294710,404334908,284116197,711142983,630237830,214093191,328374236,382436830,750208595,410331038,131617244,742595584,801574196,38425635,651517090,258812321,926111416,562956272,409448477,875553312,524036582,66990498,233111328,110090759,119965726,358766837,318021932,177911283,903940706,831356125,41169109,987729186,127533382,503710417,871096177,265175937,719790869,896188204,18331180,479126418,815858925,621233814,876281210,881593264,769898906,330190229,210323219,989635713,308648808,916478829,374194492,249966620,61201137,910739806,950009594,209955193,699175048,837959897,54900542,910734727,981710461,650071753,901669403,713623116,265179690,71195984,840197613,780431588,853846435,205953732,932271308,259823054,737294527,240251106,437495095,88274041,523719443,814423935,922123984,982938088,702416704,402294754,293242605,552818664,507768008,940548328,387420825,500089691,702912696,708902430,852353707,512807420,376115184,107547103,589041100,740439839,863596244,45390985,314029050,106574115,383395094,19974980,797810347,971717881,914707025,773601330,605542472,359726742,862042579,859548371,296021914,853037575,592371282,381856624,835471335,444605942,573813305,825801641,427613375,1134284,511842464,678515557,647612989,871935832,94357485,465195263,434283148,38340796,479491681,142345301,416091594,682129807,444000292,866512223,420961399,579930602,472950849,868277959,753371739,531007652,752938988,35513067,671841841,740119529,842999717,900092691,842416469,718967884,661600881,743224101,263495758,600666095,601358736,249017207,48992736,368655165,375785941,433788778,899738072,207977221,679501533,103122548,942261585,343654116,165501775,805288742,293201348,419354720,178601472,983392935,193982009,355103677,815090874,199257349,417795954,603921962,498326294,822782593,783679032,388490221,15514499,615791956,309608762,206446120,705830682,698135627,504893879,826406813,865211625,141117478,353652393,165007490,557218541,935190154,190646157,592721416,106169415,459528681,571409156,509643174,714527660,537623797,506779391,41368419,8785064,663306613,713443517,644051899,537862764,147238144,97773791,764901205,941844042,692855535,493819875,676238261,797153065,271676800,758933683,30741092,548107880,7553180,93084230,724835288,9617880,87153125,231505376,515269146,318312525,66833636,957601244,926451357,591711765,783332499,653945092,824047156,527372239,342976551,135333364,337707097,883356379,742868479,637720217,724825938,107867768,31715465,421909725,460150556,441442228,272108440,496102222,236376381,705569981,69198728,217248639,610896291,681392857,159137355,712888063,61195802,167906458,753476145,664475789,219684045,494418661,901093552,258391463,304769034,971075701,397702364,904880661,658059978,739108268,591608963,830693063,438127390,175055181,567411660,853410686,347779101,719690141,260282005,63831426,154102324,143161264,243360214,228601765,479594335,981633499,626508376,188778358,673519886,966198613,308829412,435498703,102320381,901027992,141791096,344091241,818712598,86725279,751918660,79928464,563730884,669196700,27787076,275376522,929282058,381157458,272376624,203566329,888172747,733334776,426714673,785877281,215351530,413511143,464692229,882881539,831515910,239589704,688661873,835226293,681242208,26696640,618251372,996135137,538057063,152334566,157136588,209269032,837947912,136769347,756037447,919669336,311939492,745435337,483860463,614594446,255327059,957563056,201285035,516001374,667970119,192729239,545904361,140554127,755173203,125517204,631469600,278783097,484349336,53340070,585323589,893291005,433070171,416036198,892937404,596220955,31108688,165903679,161237895,560609342,993091894,577317717,352146554,950701901,691103561,326207267,743897118,139373342,771045120,440148924,186926142,326807255,89901368,988802572,918430295,482986235,54560939,722000516,772674073,113830623,241413501,289865853,528524755,624219191,648197543,870008504,860030251,454901118,286653229,841286605,221210423,37296521,49923526,200792859,517711652,770779307,697337185,564945845,232797953,418222034,435073937,914074115,488742380,257986238,333510280,602641212,512324745,862008381,91665534,595997351,541766337,400587264,580462425,531604719,137519885,839393815,455199018,636781739,468733180,551973657,639194490,376746397,444366179,244018033,989855813,350107055,482778600,921215043,485194841,58390480,248300229,448990063,192241193,270570405,103010250,240192199,7829874,478531036,899170108,722214378,936368711,327525158,487832130,252994908,649656241,764700609,299773305,330776023,409353287,334372009,651358359,132532716,246669399,152897272,23021,988387150,667212734,434984967,532581046,770825742,812047098,284592398,600536507,178257683,938384475,833631624,23055910,794074572,527007890,699422579,256851938,593545943,50321499,828507127,863322803,982992155,258078366,438886653,649720528,420969915,909912975,437948410,360995845,425464950,1068759,202166203,447802172,274228397,104665513,743275402,413188777,292284213,850334430,499585131,545621048,220387465,662082734,563606713,240212477,258787071,226502739,50021851,708077197,341589917,996011484,794473811,782473904,446465027,403305495,222909079,890990446,953322668,725216023,561137887,359303266,445626570,149752256,204275471,532910437,363218464,649616575,775340830,893439569,412657663,772505107,68309626,960083274,528360791,781631801,65117662,268787591,702805571,162423940,962606823,242477917,164479384,11972944,643737500,254389561,942818278,392311423,781371692,284558146,622807103,748159231,889557735,183452750,277856236,388850862,340615900,748360527,712732406,587231314,943942605,778459840,314920537,869519509,235127657,818989965,247765975,243299166,850568987,857764510,684920095,733285810,327321128,519850732,577363809,504028105,283265438,25147410,318629387,345329003,718913674,118768474,55038309,852894123,148965412,21384646,357288068,556723886,922085174,598213921,956456354,295533107,544285817,101989171,84759314,532537921,638455676,888623017,658879572,997540201,726327286,420987622,87166025,520314771,877873083,981661843,81434580,592730684,115982032,394227229,39270102,424182897,151548876,724390841,647737729,937964590,755290863,182788748,708232316,859481009,716293972,91569161,795257730,938465257,547558864,849926298,638208292,582985158,582798261,260690006,172582138,52428757,626434223,277562388,504992539,299893904,514080327,769381710,8293793,253203922,289796278,573313645,673076171,684115812,810013083,419510043,94517928,221962558,490838141,689740396,656653312,10796421,496256552,211866406,223739712,151074047,670275860,794729130,742646578,195041911,977349085,321895719,416497407,507092694,999581982,942858955,648632138,625140212,776912866,206903133,894920911,530184028,853593609,706637082,143537374,686195029,288830224,789893624,614314362,543911829,49510252,159684505,664508325,367037445,169032969,811511030,618964378,244869989,389608125,949730743,383474078,801223337,465887471,845932456,932781451,703793344,463346633,166966489,78441374,874746955,899377352,505887140,744006504,323276087,369882157,460496194,322814139,968417535,63177771,398354331,289127869,446734671,825385360,217375180,817904126,583519191,812743593,379283848,412995142,754322093,496390367,106541316,391766634,365258891,226566857,138895670,827522489,693431687,430833973,557783889,798029039,412821680,50201391,431867878,303200530,351163559,728944065,535817631,483799612,255778250,400209099,624759330,340892105,315015549,37314507,406422845,794105784,370736835,325028541,678958894,422084083,857768012,106753427,731446254,590876081,261862077,117633687,662893902,428372458,582090106,789408049,53929501,482684001,757689867,541467876,964504018,794310150,917408685,608694301,376723033,488631536,879006512,264376855,202600325,398305054,806912243,163805980,847069014,301298190,19979211,438762455,177009354,560811559,855446388,89330443,19116781,937620988,523762745,920733777,955182082,964561025,356026791,433501336,642335922,7532674,315795418,215738785,361991375,672222207,131046274,210948031,26703802,136317901,248951548,669663149,436537343,759979492,521767242,979222857,89543439,759718412,432656971,576393164,854269501,479059023,460716971,245557991,26360946,873326528,675758343,921469602,469617478,634938853,33867315,92007049,194234308,709479705,843907641,617375816,292595056,180368661,214718352,163540585,589932291,871999101,312488192,179841584,469454460,282622131,478035971,346244278,784573403,50130919,206861196,930800322,895148341,797432479,609092317,891849124,592000255,978460376,121658035,815062781,257187327,913328545,112328484,621688198,284577246,380895222,703100736,572494383,467208147,437190512,48359647,798475596,472936027,873588367,348186233,759705502,783504678,767305964,604328480,186663773,270379906,886198814,740217731,931712123,755821539,680185424,435518788,103172227,395647328,350863640,833890279,433275291,632304561,518602212,267869392,918263414,798845403,748426412,109846495,57607044,4063110,162426874,220886003,808010134,955765381,428491598,343492627,638890066,9071638,206543624,750479090,811815127,222764429,786386033,735152022,632726440,487729219,505161686,197852519,968216179,76907458,363193446,342441618,531164960,391028523,599286766,243397094,569759480,191929497,97047177,97069822,24383566,794140902,136083531,502349092,48749890,710100342,618044174,703990644,89429328,352390261,28721876,847689800,883555397,380891969,788917798,682362941,756633779,664358758,959297836,401256547,117141097,674984486,378847571,731077757,50286896,94982958,953690974,512677100,159443779,984267995,277855063,526879080,528929737,292837715,559242044,518520991,611872351,776668507,797995237,983564445,814027497,17712300,679695945,255069660,762625964,650522618,107174172,248349309,296101172,258537063,844390314,102332665,281118129,568283596,25806947,540911918,255212002,753835596,589823082,34758129,750851249,676378228,785414570,692276250,591393863,431086661,41314106,253944885,245926827,508117341,849614165,293411654,435927713,816314247,753654680,384225466,272545599,994733122,210450080,738655535,134565854,498013262,191211348,35987135,344620288,935051904,884243243,481017207,445878346,513768068,481238939,692070026,176254429,954902418,579374428,173329616,209985678,581250421,952418190,440939367,408433549,267201094,174546769,905916000,605451247,840785780,232955986,397167614,723449849,179496056,277596072,583923132,401866006,907829746,512137184,884496543,171796599,193885584,390389029,690163259,96163401,558043657,378287489,736648083,816314841,927082604,985114666,399217115,667352651,801980281,575902707,564230910,887297968,58041776,360193998,618625658,195271376,497153271,57800963,593936550,722407994,260672351,219742085,283021943,728161138,282419926,805653693,865948306,412271915,645767516,903053291,666559716,864134823,76201440,942983517,821791379,498897702,536126019,738586862,240097097,509862090,200609501,423646169,461793124,43574669,406461222,759226085,374516588,457061185,217397280,594626388,469732011,429589596,382465622,102448481,964500620,672456822,56304524,315950873,597853010,100330824,85625451,919690752,350491660,139581788,325589946,649983117,227915250,518371190,652314760,994292195,677350704,685320032,814661836,72936207,945688577,488394089,612120421,169461167,149201916,390657397,812760337,25805324,390332480,180552131,789059193,604810769,710160667,114211412,783467465,550957212,62253148,616140951,50080964,104521549,213445085,617080683,855051192,233927579,505260990,702047172,415401827,28004612,861202814,198256831,888829907,237496955,655189927,761387646,795357693,222406988,758523668,147435383,85062640,279678625,25961435,783611362,840861035,199846268,530889518,941373800,87664251,781153757,395676081,391169955,580321410,613265041,139256007,631655209,119639684,75916807,315899612,892453794,798801167,228852472,872448532,460338229,693333040,965509774,990440045,30002515,374060242,628206352,432099783,998743704,967920026,757974129,487278240,676138530,364236224,641527688,46970451,625554119,871107318,944356631,775821539,577274699,294092191,943063420,4409267,327621763,158213365,198854402,537588079,299556144,301984256,60718397,753427598,996790036,71609550,38766900,867672124,73784901,217872518,305997197,921970653,413406354,562646096,485004114,841075218,420375632,339090211,4877049,170079388,88979807,173338263,999508493,331028310,769503414,722396057,439310225,494746647,899802175,762269823,572754805,379920054,661842826,908286026,416317396,378365301,227745605,66739468,696287886,903378738,460678848,185046133,669826063,376870443,702153479,443871318,980940522,283924263,246323883,605048619,526581572,504474278,723133491,306799296,523683166,717027620,507746015,619024024,722222778,291759973,862454788,515898877,923484669,792635370,865909701,552616257,256575166,196908342,835779790,930404591,710485380,695642444,971275334,760235194,769236579,434577655,542808935,629771404,321382280,673157547,71460307,228000531,210549802,804898137,155395790,787849505,505452997,44482531,853830224,533374172,982865261,880244299,757172868,896568210,325468958,954780777,693825159,411138982,580249494,342127857,820961637,773572562,885139938,15452726,415384169,92042140,64406757,205168774,285675399,811848937,15673847,757136075,40647217,8440285,259122401,120296072,26938334,874587923,109247787,928303884,979751904,517156878,732787678,424550689,368261574,134963109,636661306,463827588,777084547,382406833,436486883,702088096,221558456,733881112,572567700,561042069,7480881,576583452,980618522,57029003,582489279,518937306,623512757,991228338,665098303,372563058,12545462,810832365,346386340,699276715,736086436,53450036,789422282,34601668,48025557,879680248,297226807,334310276,353424042,799303127,762851239,849851636,729235006,446544329,290741872,618885906,78319849,616981795,668523148,994373745,172557265,96484801,967651905,94654551,842322910,866894739,672735022,477413476,307374919,601508498,873627393,106817099,174516212,635625301,200218794,914029104,177768618,585517908,293645870,787599744,970986628,216050400,503187804,539040671,626769177,615614102,596888569,607799361,510935445,282812909,198617918,471212799,209924357,284240355,51655301,811317340,878483607,442022664,368305205,242950615,380530673,828435042,979877293,153556787,700377774,324112700,533828132,333923780,6486017,824486391,419811475,257979165,62359123,751041067,954545144,71928924,593520876,412186947,277706941,931925908,865727375,452232094,987854307,421918914,365375273,943241058,387601599,768400593,107930866,189613456,361999159,942445204,908346232,128588369,604772560,746835349,329707869,295624037,434917636,719040707,400654669,764219804,82105295,44480105,844680634,82787154,942493105,703777868,868796541,198894638,670717338,459712020,514612222,286118275,973258210,482872719,760894190,22651272,314471137,31199568,295019440,464387763,997859827,280075830,372898917,304694998,28372279,85338712,359281515,518618187,439066772,440364174,548637019,865916304,898192883,950055490,633928954,588432881,826017206,377597782,514394566,759368488,327247639,727648585,697176212,999206519,26471226,425642228,226299539,533590082,755092367,974497871,942304579,389083565,56218963,119299834,695883040,12777916,987209982,333290083,770262265,180465350,695297799,924952182,99711600,11210076,535703388,162196039,43065992,425864583,347374060,896964876,600176826,470022637,341545887,425289686,474028133,795899324,47136675,86802140,217219778,862632309,630972343,714239234,323549330,753353695,665231646,71014372,596889680,435227312,545294324,834627762,552378301,498514106,163541222,796247387,715425668,392127993,996416531,225930129,53948180,626089185,524788765,394522543,795880979,434848934,253180582,918117605,466432367,938092848,521375041,577355512,923175878,905403957,964741737,152553013,460179661,160001813,314080647,262887587,967672198,670087217,616377882,936765161,205091973,26629480,749278701,323917864,486314484,860772605,172138631,92370122,578951676,752672682,624437188,87151133,344915905,671724357,627882367,667072618,957409502,734046316,276815831,782199338,486777916,801993155,862530950,332828783,118133573,577581643,765997623,569363316,74350885,769576234,14601775,16772925,240066058,986287593,852295652,557791307,323161552,762600736,798757706,625891808,761210846,594245801,295400837,739003966,833344511,371951961,70255289,962458252,891769061,652316422,890926510,210844254,962015266,786441174,387076671,26586059,584516982,765513341,839739201,588451044,770759860,607325780,767228026,403278850,115141312,282394907,43363610,812095261,317398598,162134266,973290998,481629702,675726819,514944678,281108117,897981394,485132987,328758873,218204956,774870575,576868522,236689186,968641905,163994018,496182083,804261782,807284016,577847197,557454807,281853144,539550718,542754094,435707883,533179974,166386687,927902027,783048117,593856351,374852656,785971972,852254871,637969309,554928199,688376923,260858139,355201144,496690466,631320408,553764083,219287646,141797028,162784742,842320034,612415392,326076013,911392387,560684495,354145009,799752575,538314090,180436263,511611614,587303020,653462826,205547395,738101852,996027374,78861781,231787675,122943913,274158440,849500299,181011771,449632266,397974348,224579151,104863315,328887524,90849041,187532344,960779876,241987649,803207345,43753226,605808848,151394058,295428416,630447882,192820099,513951592,346104255,943049732,22824278,598061431,931253463,521056695,709036870,38533423,535181166,801247169,512071800,524293053,576906900,912193665,432628155,229761575,153244751,636658558,516677317,75328999,884250092,901635074,646527300,645473681,800380047,498153240,27360212,182122713,918941161,537912568,938142497,408623921,336701631,144085039,665829181,525736336,753595247,108535297,855215487,146661101,593910792,156643155,703327853,150911325,334562555,944859105,385340718,421941593,178470830,996572671,243547182,379057426,595628304,965983646,852881961,446889868,697209448,398933651,977717964,55424190,887973086,166300226,757810466,973455254,874332112,879552025,886324692,897108836,674779579,296471708,788440697,312887772,997602573,240064585,153414310,974128595,33782015,895943240,9901551,568734083,182181497,911561295,17576979,805330377,768677257,900130483,985740249,242899961,457132681,427107319,802188410,191372061,717692963,654952736,507572845,690853586,873765562,954526721,408849327,148240527,3737777,340954844,678253506,330172032,107836737,807048417,828198116,945753703,468081396,859683095,858615935,553409093,959339882,680436495,969245625,679899159,774675296,742756040,148632439,125983486,961635229,872022717,110246862,738363434,239287267,56658625,796257520,478003181,986946131,397477726,562919326,67872588,391034403,928777117,58551267,28514856,868927980,321969177,905640392,515584427,960967869,798437867,899121828,977279779,997906724,767852974,12111555,488115938,148864864,374935867,730623442,221500034,393180106,146548815,493699780,312228501,206001689,31859736,503466676,985558627,525930166,607886313,113771751,509535992,169805988,300228197,448375442,359195237,438419014,724383031,636184939,585366434,199191449,994624385,273976161,550733406,998100658,75012882,828288366,396297292,616525934,85719958,155137671,855952006,873718743,266454058,585717018,275892827,237980715,621671141,161438030,583928513,235079195,737936749,766605016,829943999,101560402,129102459,268416918,907802642,758452257,255492931,740158407,444304158,697100066,771048846,585702166,964061972,496402570,601000095,350786984,864611653,193581571,473093231,913676123,822438393,965507861,924539378,309203807,206909929,498403913,687029904,334900752,807724158,566843211,46747440,782632388,135323845,442841556,676674344,410384017,467363165,294599796,97037228,767653963,833339572,288869083,324422841,712278071,503195240,160254355,660224336,291109730,631908830,71550555,679666622,991150769,819226098,212513106,354564316,108456575,373106893,667513294,303682132,974316516,807863982,861799726,408955045,77644592,651148666,823780644,52474382,106703788,598050673,993164974,167025639,809029696,670808358,429699464,197542149,73850502,534794958,338943441,295737372,639954936,388508042,317301933,952822443,905899556,467486722,939990354,206791203,73681600,283577191,555752009,111287500,576245387,514587249,848043286,986575727,770829112,169717806,171184576,327479914,512295903,26971197,321692150,823468517,391082224,340358400,382694436,486818030,881165768,906220274,133551062,327052742,669804279,209278082,570271247,373313316,439328505,620266630,793594220,578965043,290695151,307065819,949394640,177045682,602212826,96049494,328757174,210247838,422862257,719060153,954921658,24226103,773092338,953463149,968194564,290041165,982971366,845314942,279215830,495864033,451748156,827872987,340080151,184805345,610607754,535884825,299013656,269078728,677518421,179713935,989046727,18301660,57920683,731483724,900848214,52825904,696214300,401189475,824151027,105252073,603832192,593003112,762604209,406125539,984601187,33139561,653906283,999498703,447996505,582310320,855061343,46906558,22276361,321933977,764087871,749435702,142276337,128735209,326978717,249633571,543286627,289304347,978776525,87160147,353445877,378732570,801791936,894377080,621138480,924077546,190480035,256115125,364312386,811311918,681707947,211387535,281280468,628131283,952570763,130309544,201440610,831384993,880176580,993567292,22234999,972170946,189859980,153185024,166714494,664261877,35191827,665187240,654561652,243675097,968766401,31408975,769994671,487597210,314033248,887171078,241205099,622781292,534545435,336659136,622414886,373661144,923143837,551208046,667844838,905438546,824013148,748427250,488483193,587114979,310887714,640897813,893003243,601860024,195642160,890510691,305584360,54695279,567399543,971755249,753343949,234162011,409060960,530087451,501871699,86868806,651750568,297346920,992649985,416999681,383813938,540059771,518239015,590801937,992761071,894621529,440377782,558791608,623587964,304548625,243342273,639422665,898508597,436592197,642758691,271898036,119348319,253158224,660992444,536741570,695103778,156656767,896478995,351620837,799489482,101707620,251936478,865262047,100771514,687647351,255719551,243081326,675202918,868238244,806048128,354443174,345209722,499818135,412003709,275833799,780378306,642032345,131179207,994644456,434573881,572609366,109202696,247736549,45548499,168305540,25855552,539028644,838084178,195634569,877881999,795153630,612143199,99649234,953591950,910524734,348716781,264097680,663392284,434287461,803365939,952310829,267350773,326819885,966281692,899235678,900936163,914435349,88505520,952487755,688284218,451294511,236478278,131977114,246924892,142181807,264969720,551019971,988818511,426905166,834841473,525938130,262467072,472297577,385150458,805844143,141998040,392416025,373686670,731016144,986818070,576578277,61646346,162478427,555562850,921179370,113038038,734839064,730411212,101464902,902247796,289500490,164886038,361257526,271134648,443585811,978093540,989789707,932612831,970122644,627057654,486599714,261109191,557203830,474232492,301200640,99716000,436906676,616399995,683561555,537487248,436941180,199829354,285384162,762878534,924493896,498059468,123030675,695681815,963979975,510548758,285428715,165013805,203956418,49707070,760414197,615432650,306479414,960286486,985956335,728706938,456285815,219008386,423971553,832471345,58662485,984331881,857231094,513444371,481055286,966564175,470632816,645381497,441261384,806914105,795265526,962138168,418996722,41370507,52149007,517142171,529813428,78468022,230616086,829403483,884706201,291613170,262998406,607185705,752534067,594965353,274790343,44001581,990466320,544098895,558492878,471886576,943014147,554791708,1874979,781880722,280173212,99250399,756229936,177498028,414936368,412834623,475168518,725509397,523945421,761661322,256721942,154780319,529288725,230948775,318502761,512502253,537477494,717748747,198430987,304995688,330145207,427817873,763696881,785988347,522150373,606362416,416075134,644804717,352417152,641799984,621962595,876507237,695395326,725677071,179642486,216472619,311506652,824354528,910949027,251403452,1726315,486733062,221525975,947878183,402525610,535523433,821511745,443194141,581169925,564265124,977884300,880645739,741919837,684356159,749891534,33001678,978592597,267127149,253610184,568053779,776906682,721881439,841487769,975809642,925570481,441483697,189380721,366198041,161721356,410215100,992516947,593021218,240321926,537009937,203230994,3144260,642577586,713155008,760596040,912820341,254623424,128049922,326923856,968445748,457778365,21054877,535206496,466862825,270811712,824798781,941883690,444349507,707226260,772987589,793800264,886086834,640426477,50227608,564749465,305885558,727642831,289014595,614051573,407512076,739834940,14648849,99186616,660158856,285562996,825482382,621021736,62057540,276031156,276699082,790276406,260041680,627404661,734583971,717296828,967738786,159029564,739561436,332212576,870925092,468201976,169048396,817823493,485235858,403511062,631202849,296638678,157957139,375507838,665378861,420841333,778775817,114860752,79663969,227021519,446801892,513058339,666682184,636031460,395828854,913226029,623838928,453283950,19046958,151462489,200491897,827768431,956787051,883587741,854007569,382314275,249942594,20971012,99450860,455315193,399499123,471451867,905982506,228969185,182712068,896773349,363085705,180191290,703752015,418703660,57481196,592967462,49544848,401920591,64458558,464641887,103447015,433327439,513799205,40638869,79420069,602247730,317428122,364651337,340716629,898254876,309083419,519416644,682619715,49668738,374474901,927821086,11653562,269317881,343188111,924221783,763612063,328506143,89352966,334020119,407430640,78221119,97465350,383234621,202738216,645383190,699443847,298582735,247769056,119153600,568101338,749906164,263911750,13106417,515445178,507448406,274987627,596268910,92285168,903531807,964955196,835677851,301278985,856587904,521109050,580523956,406204449,581456396,248259332,278321283,418169702,477558903,768413099,440839322,546728986,210598254,419540972,590486807,722882013,873971570,204989094,463474400,70538689,63131683,308420162,514210025,167390661,184022736,196243219,284302438,657395862,808591450,454119793,471447118,555906393,5470735,191715979,881969042,736827567,498265505,169433688,482164997,605307043,987102158,247951227,406818851,862029641,412781650,956735258,674982731,437200999,332954413,464201480,186463115,859373754,845770708,447764351,535668723,498025980,771364940,631990955,784029017,261084270,788625087,985101801,198289699,48823163,688558680,724379237,328188856,959599205,312652758,653613872,980676845,232324029,671445435,618164938,546862593,577485420,289239838,271825811,766099283,661479668,697357674,58113855,523283423,783856062,390672199,902760716,961986225,400389377,202323631,159177623,760513351,457263194,912735866,114490523,231333697,817536431,540594920,424231660,69323838,931584770,794108971,449362813,277664537,323707825,280250869,454668490,726818961,856690701,200908181,599701471,937173533,9931662,93377474,378619768,1759551,117290550,987114674,677015739,96967429,865632585,408327811,588279592,144304775,883980126,187043067,368717521,541630887,666358916,670465720,906503714,894256811,991405442,70944718,997866464,348832272,471677101,951531004,755175327,303289655,426894306,45501738,26102094,135393525,162997770,490318755,11676303,759070527,540776010,454053520,520608260,918896240,117868866,972716778,969164195,191323225,379030176,388966280,437510300,53740030,796722033,581842935,274008750,161634552,638355274,26203180,483494353,916423495,856037872,847598723,718383109,931311368,601943183,359164888,839224728,843123059,792101875,133852038,790510211,267701766,981402042,898016591,500588016,876295571,342249150,596360378,138142632,899485920,130017178,581623972,882717011,801049252,538029056,539705018,392565153,80064098,690711698,755658132,126569857,600553860,361121174,741206612,957106762,265120433,587440913,826441806,147817907,782167071,672311077,867387187,221679950,45781691,880742455,686774897,620733133,123171266,701039743,253808526,455466303,873197579,414019911,489974224,702865489,361410642,79731784,980279437,8926379,772161223,322978171,13922971,845666184,568910070,638528591,925806397,395083788,762404960,432848773,326707426,965866484,19301613,949386881,628181142,247942160,501231058,12928037,493300132,42520866,148498185,163247435,142349671,762866498,412353933,453150469,853217253,264730342,214434690,268686747,143235947,872748283,225081457,982627268,240200625,747429279,840141455,912529169,627815034,141337214,794738336,32171638,223908137,772106131,254076562,93858575,721040272,859605612,183933807,217293431,830065037,163504995,75024987,826293315,639203739,811019315,678071310,453965886,887534739,127361844,312474674,907551426,58639737,63854949,941781517,503874842,701568881,302354862,368865116,966162047,368839881,576531774,281475550,258332895,693727144,707596193,479463,547331772,986088378,527635737,589169551,58680304,989457557,791821217,578664469,543713485,146860267,663264473,614305447,687115696,973597764,526897570,352232629,202466180,908013100,700233236,163258206,120305632,159639380,359368842,734462776,993451692,250862724,577661206,969705486,665486090,741180665,206054950,4229487,464511656,337331683,436458139,316007977,301328957,861747212,789396964,377465303,741473524,482311961,582989859,562796898,821711968,562629361,489702723,705571509,999596331,3079165,851341441,4438802,401800274,951405591,308874253,178997481,982950610,752347040,63195703,72126592,70364161,78410268,428871277,672739021,579862809,793892422,960816088,318184856,679659674,502505363,51222130,889282205,815819074,1812464,846845117,881733403,752903953,634463715,590775825,141277658,788869110,754568807,780877317,190930561,649209470,667346726,980138017,775442973,263552836,197536071,976771041,209834771,143692918,686078755,879572909,954713317,412941829,400807325,196617283,954919889,660108392,760570758,518874927,133750244,93215489,806696126,234120403,139502089,857452161,844076104,767756659,814349545,34606235,759738024,226023983,961254685,705621046,147800351,915721458,139860071,246602563,858354974,318472686,810801541,314218843,5194235,821263575,693238309,211810832,941649840,296531623,362431108,802163994,784635057,98407208,292633493,812222568,171440453,490909025,861701731,402922141,482843542,620435028,660954051,646960119,890563228,419433776,925107818,586199923,235473735,672874580,765391894,869612709,124836032,972351947,467700125,612457355,65071502,221546685,421701801,885278138,546530777,327338689,604984738,162526959,535020324,463012163,274413047,271077839,609891750,541563660,223154054,89094353,30827655,134704289,457934868,562835129,531041379,844205616,185261755,57096070,215924970,556873250,158357839,660896027,565388916,498134680,743409474,641333361,947253404,353561321,904926141,120973495,396468249,625887568,69747199,676219968,820193281,613769880,584991786,15614746,591093499,613526429,445011679,989246791,221779849,912959259,703114598,617744234,791063877,528524270,39852480,539684507,809630948,762789564,922162701,873037711,472989754,658592721,331637053,917015101,571630900,584086478,409181757,60272332,705506922,525591163,65741438,739653068,257460656,539308259,290380835,382044249,361157832,884943322,20054630,556102871,279491211,151761087,279386429,402101592,391851709,490512668,829888137,49967531,445961311,825388857,822508286,233659192,958970365,747869919,496561789,714401191,327628904,215894876,891802990,770297780,972337181,318471910,330943333,399645306,760502856,477105965,378770864,315753976,55280149,929361680,666404335,392631345,318249432,478303335,157933462,69692715,981855691,19864178,985852884,425080705,933440712,772474868,541063424,460064982,874794121,382684203,367807064,381808988,496167454,240890076,201333252,173752732,828458113,423288652,843115129,474316984,456335842,541599620,352508420,660551724,736363349,106396271,723159994,99894802,264298230,643236409,581592504,448332531,560854755,361777905,198337036,629708137,105259717,785921025,605691150,305027306,476204352,668391163,558178007,817385466,765330841,851572420,130481267,656224156,535894442,55930516,292686524,330983890,745465687,441331610,954857960,208010239,828975945,514835042,274660398,994905442,847472173,467254578,973904920,663054039,321747173,983264887,970016357,871291409,752523982,972265141,403776777,119607948,188021879,720697694,649955577,581731489,281302973,551456586,62219378,753309460,405348275,915350552,721011737,600817226,849931258,476323829,459708765,857508069,897756989,465382099,888159244,173175958,508403153,249648882,122286886,571368328,56386676,190909305,357641812,734992128,806897964,237293832,228789569,673990987,941582597,114446601,551553835,645522553,394207097,979374883,598715477,283733605,998123645,624951814,834439433,701930727,149303196,533186214,939423538,451966254,963516835,818662531,959147852,361020781,110439877,960398831,287800239,300981394,722179271,146870805,778717440,673230167,403808019,521637760,145938312,857557581,85955972,454959219,937129020,926182690,124090117,999678582,282963269,321695114,887821892,254570032,355965467,2366814,846618064,737923197,21188440,557281842,836945407,553729683,18925906,196357372,871926539,73199787,160152922,964642542,942737460,513101353,597752419,135893138,201032163,881399113,823152379,138807027,293702600,943620287,384252857,690307425,640808677,819454216,687695971,932095518,954869565,727990514,155399122,686200216,499649425,960830714,912660128,153131259,663880335,97948848,39636508,137246338,395177923,79450246,118807398,694282296,466160213,579181209,755245490,219498471,754890317,636275881,948680438,547074406,879877619,506253304,53819145,738145699,753776766,123006402,144626581,728083642,762375076,460283478,536021112,716283164,709884669,428129107,985109253,633076341,331652621,74915430,231962251,276353246,965091216,830269525,651455750,40969902,534073474,886984731,146720018,315308953,730577108,875025064,102439712,692454835,765032228,919248257,522771610,237102028,44375261,206499480,300345139,426849761,378126968,647093373,569682780,471730042,358541252,665173635,950640048,475495358,230893810,746928557,260924153,789107458,815763568,570142471,815321506,913016180,577090302,278874119,500821371,955493137,617080782,581235267,380961306,130042745,733407617,915179630,243225752,515736558,737427721,276285323,101323110,8563591,909234559,196978307,74700042,354923915,390247735,554865133,79696023,111412175,261338434,421593767,106451842,76429407,133260495,73079708,758781893,719466192,109309072,227356239,716978682,141685480,767795776,509083326,304636929,134670769,677891379,227335081,841697606,348124884,650034290,604095412,355790243,621548039,914670292,640153325,618568363,632196911,100714387,916867866,211542312,974663305,26174595,734664659,407895890,793929663,487640148,723296290,302605830,992334790,909279009,521573184,916520469,377739413,532525932,626914517,167109491,380710952,681469578,18999230,867594465,653805929,902508829,286874485,680294033,508371585,625586172,41796201,672033070,396033014,719582767,378720474,161026585,992207403,134948472,450565467,764106338,51496727,467009259,407064302,532281860,867518595,759128543,701169897,975704989,541366161,856678410,621208988,153817683,399574796,946631198,291566996,103277680,598657793,605674428,301951914,556169707,276403816,532576153,997752671,157280904,912278121,720624843,720002616,6014134,231707734,191288308,303224578,768197685,731052741,174267802,451108504,420635095,937284202,962900781,956277512,532427365,916571114,647440816,926565862,536766314,261809372,557899078,392951806,188514556,706179690,564465343,413950724,388904447,443878958,362656923,48623598,198557397,520531700,324259327,611388027,560831688,144339236,28588569,433175737,138122896,189110334,772791552,754567491,171321372,18711829,783587332,808650231,146691958,547412133,722901553,798606226,957573205,502461495,217356833,744028155,420927665,370476676,985444064,740220233,216218,50807761,919735810,290149999,409983253,503236390,46255500,953624580,328100760,595629327,640061425,586848004,695817286,281827635,90760393,138316057,246856196,434567143,136647477,250458341,357123098,209165042,795143388,706302914,862016523,604182726,839777447,16863091,958138387,112512415,627147534,978742156,959640147,818444957,631892201,933433406,23551912,484469433,597344513,556484626,681548563,356610786,4702757,843041335,724076823,735807569,997816616,326571580,637782160,565117074,860374754,735426633,529297544,425311659,430085125,453024856,349283987,180177055,725612697,208010365,466203661,809538949,605645656,483863835,465098527,521711482,586667864,858406609,333815112,762379244,168091423,456492626,52985816,201219200,854269531,901813517,485969840,55124401,626512861,276562581,806601032,900252648,203859271,217612564,652999052,3993235,457789931,226980384,883053984,498398431,256325258,64389358,655064202,286796334,215103714,596624684,976482372,349412806,902752039,772304264,39056371,105390464,623814606,640452656,137272451,968647797,775317252,617303692,872522273,296668923,431433921,161469756,166988805,750795822,520625118,107801666,50662398,233027195,307028516,647790567,705023526,268796117,627841412,856258617,28057928,672030291,835566493,437169008,725675213,457743818,868155325,564435301,499308739,222105546,542787100,360170228,121474213,627418288,923133870,942900783,147095578,941475183,210298634,197992146,487028787,278124110,1550450,159823915,583740613,455413759,433824941,312871994,786240645,289257720,381443135,771083647,358886687,249586927,99484981,825775063,548204709,291954330,347007084,719310910,851428233,359529651,960339084,979982111,764389938,840310512,555260092,295471989,426330855,855219173,661504794,453608980,401777563,850210687,824687245,414199912,622800056,315087969,320302803,862281756,446538455,136694088,161849178,929039574,531361966,330646043,511448518,456508071,304519673,920932053,172242913,740438990,429436408,193149449,736671548,207979884,363980757,539507624,803006467,899158899,422332580,736206632,346926774,927093775,207932551,104719478,994182180,789521215,972351849,90669553,449574478,171675644,739582887,753345491,505109227,309764401,802615415,356776673,77118984,462366743,619648207,602073819,552690391,301291278,23991898,420233093,200016709,362592493,248145044,659220339,659371117,32944159,909014879,4788290,403295794,31959283,850478343,101728125,299636636,237251783,650501223,838871819,645633615,533552924,218582673,777129581,951440650,841667840,627169239,712303694,791933706,243279516,511333914,818972754,313017257,949510461,61326954,55553746,703105759,651125244,980002860,157527162,75676029,737475439,769847289,248144581,976578782,967456293,994541634,944276529,710953218,350603056,567059966,524864935,231236714,687244650,202511824,542674464,173234999,163371282,505439323,25875387,999674252,722765128,717386877,351126867,397236281,242395908,348824851,57865317,680145555,195034960,469410315,808461963,234011614,706244745,904220677,654632636,482829580,609031007,640731760,793959240,459174292,880444313,444010661,459181693,205364824,200467081,911762310,726994745,537085493,221817999,362619890,679269253,234138138,550523064,926899014,554517506,222191679,657137617,252851507,241494094,43694345,429313687,672742751,497389218,68001820,933251117,578779100,536818767,868567937,993466873,822364109,939862914,531711785,241510833,102593411,431113035,980148314,440098619,213202722,411993133,240363452,867807747,211281291,393985044,802525067,485502959,469065925,379872775,613847578,59790990,918521597,643987605,281627367,140825993,407459752,191997073,638613757,930410109,969556005,461698608,715332684,858135384,214805904,124991614,166666856,401076770,771499176,377351047,20575121,355360504,820361256,885788901,31233376,212681458,828163548,513564113,163038701,221056767,127649653,609061522,331269543,693536288,93556479,469104259,50573101,818619081,370711187,535982512,423923628,762779505,310806241,799341376,946151067,3960223,783646035,857771212,843426255,704966002,782619457,275917967,61770533,751084851,230523737,564784662,353868528,123504128,153098052,410555763,360604438,35073557,471953549,301729493,635323976,42649977,821188592,662313845,681953711,57336454,379048760,452296545,314648162,303449386,539555062,404794748,627777500,29510082,798341596,683809682,101743525,65714924,68427157,490845782,952563337,926128403,876986962,802194567,337315521,15802358,58141432,387813728,208283963,39393028,956922424,992910398,886615923,909345821,464049162,866985351,678786397,128336205,881657557,761891361,277169709,337997004,232461506,318904378,556244436,285946599,855681301,638277607,884496565,42816127,313435786,213739443,841007863,476829028,395214147,807608775,958440693,908924073,369357858,818383695,535862567,714893575,418403650,282679852,202389908,696754006,8221558,859632237,116714456,521621964,472803821,135872646,931602767,933668946,909441594,490039292,385084722,857150847,204495481,323899113,984896423,628513860,673288500,155970938,785897902,118680208,941528213,276948865,630476122,499472033,52260048,338669894,962286552,323279931,744119327,926564500,940815793,797392149,391316729,441702709,25565988,951725490,495607255,136997644,648047316,486488103,42638659,577708979,571351281,988136038,864306615,449503632,755245174,261520402,878172560,919028647,10166481,502289385,41594275,554647179,86595520,701057722,516649626,273878906,346534755,880495465,150735494,318877910,107312611,562406881,453159847,764914283,36464457,251079923,450930537,194886681,469732245,291754851,437599595,339543117,430859937,53168292,809111554,408678297,272766984,614000088,307992935,568652761,327400157,295636277,934310965,780993741,367170236,907321815,949575225,947887253,220984371,149122629,512853720,407730457,278413736,993592174,752134747,765215404,877495586,669171736,926288086,741051721,539781365,862166883,855580542,582444375,964995545,117385330,296824061,658641889,642870898,720997733,124321281,60582246,344154942,865078438,315491644,555533789,473718087,992194488,242412654,374612234,144458917,854631890,57224347,828651771,248452432,166997303,310070696,535163309,52648875,454611931,600407619,560632253,88886393,391815597,757928737,821424655,103258391,467992923,388061415,515743327,514200510,891437161,636736025,46333228,333143677,897521842,925226900,508236570,202671502,673826584,279663080,536377451,734923940,647474757,85836296,638042053,401379187,252536216,102101558,100525737,393650171,333432731,889576646,62401101,338791562,399310088,849876097,396339105,548214215,383882038,312360332,27455920,595222641,571214428,478966994,784763655,349235752,572519924,873547300,498181499,150440555,680679126,141889012,278991695,336553248,8921143,548786576,603722012,136040038,663273023,564021171,697426386,227788138,565134272,628788780,905290309,24653131,77776532,860220787,257712754,811267518,804177543,376488333,424320224,68496688,131624993,171658817,123244108,845785283,78988941,977372139,857269702,871747361,254386459,272605186,451269695,906941088,508224802,894480398,363207739,763562666,455896686,201859013,506188689,744989425,47140295,162162439,808200272,996493791,475401267,988145868,659810047,436620502,143977729,121474848,713606609,327086158,802296303,621437672,430749644,656096744,809767044,822576278,97453744,732444817,340438095,816924068,825656062,160379491,98469055,527163371,270293024,726550349,464533267,445611548,916646716,23063085,435192476,64312306,195201305,110820841,208346466,216309310,945020454,203803254,683548248,114465912,794296974,584549643,384326627,606691851,831477122,756274208,860689028,935843389,283599291,4468527,98970744,980634965,800989273,779411176,992317662,54423089,995557470,947722306,97706211,667514671,706038610,335950484,984229651,861492590,593930018,456167902,217193869,552475929,305185825,527506940,877452491,109820754,183732798,772925528,531355484,220065349,398456216,318907861,337618458,491821211,734557005,935668222,698774147,155393870,931719756,706082167,316140346,335061582,35477916,267551062,314005453,816720238,861158967,856690177,871790531,280529427,104546883,962577162,333344464,532502637,483053306,326101898,899270546,402521898,652288563,651075342,738447796,314833150,756092358,783238257,328212670,606673609,416503086,798848873,370753928,525824015,376340569,286512060,544393933,715782211,824457051,516440111,497838941,345023600,408401969,198363043,737777357,343849677,390202932,486119556,935447843,648429277,807035696,553335004,695026529,243518613,515118936,405841241,63289368,418654178,531013089,374106017,444100349,713839039,921611338,121475398,945571623,84917067,649271968,822788193,769968203,2003389,921003059,115255953,325386387,584257454,897376546,449943987,242160958,572803850,610570553,76568431,475417674,303378948,195695174,626628564,765751259,592735973,960962996,568201100,769644904,379558529,903539876,219531127,714780845,36560161,601742318,388784193,697086188,341313646,603060539,457219935,175168117,389922353,355068731,721928824,731710534,226079808,260281771,893758701,300440159,655378819,135723411,118200461,245211671,812006880,103700504,942234694,144324307,894394465,780471434,510996774,72478729,856478694,787225277,632998213,931684741,775846026,464866876,277558419,447634995,300802845,444070482,250251481,385167839,799265561,296736530,236276298,296184287,681266398,774966424,446862489,313863083,850830395,901084720,394846521,227212786,331095015,383202984,321857121,281396737,199021857,935944621,459490740,54124459,667218245,863513153,710517655,821719992,283061705,421129389,24435981,431160939,610819015,383207716,670543177,7924799,739594478,385168401,778638281,532246924,17711174,356584858,259597695,295308915,737279727,48995912,917207202,938527187,639165620,817980572,774027366,743687087,787293211,963005908,472102133,750538057,985936856,227018196,641053052,285728937,173114620,400615894,85384032,85227924,68245624,652766134,415418537,204154272,280674683,280645444,360681206,715152361,313300322,147240609,455890354,670654287,243568972,583096254,549498415,747648607,192779843,744349883,999510253,515333874,566884111,662356214,288585467,671158688,525577531,554816900,242310621,278340004,15246909,437216395,727977693,630621522,661737011,647015315,624957561,61404841,876904306,705748118,476749041,7018015,944989156,721809888,377127553,416382070,882523922,219352,32885946,626589220,165898100,470087070,454959865,191255220,452071528,795405980,297099466,509515136,137929847,996591702,986076909,751599388,583776608,512022388,61494529,212815493,651236864,268725883,52923012,114907428,249016736,609688655,936962582,33869102,307792084,780921619,260031696,160227467,826554870,494628516,868020196,944108991,883580920,999724389,390282350,402384077,952029230,815998221,53406663,593814771,508177353,814406192,198381054,66141821,514498158,724138819,542722675,220649257,640416825,390279363,683204820,976738941,853373983,160393652,584450745,685980995,796164916,438865151,359092965,514367656,704893459,650366263,261642929,606408666,826613759,334281366,710827558,826403833,966287082,136606230,184149948,881647365,876014900,570779698,733309949,658259318,734943571,785677179,988209049,426824364,557027647,197565271,198704881,155528137,568836093,507743074,540580129,60006153,778009040,584219977,197501868,935429837,375020479,189839921,921792891,283144435,879866899,894227205,545051823,40663883,867995130,671716270,158386782,883485152,354718481,805254076,962781156,724447917,880066679,250905297,336628214,782842037,533475253,249900953,359278584,194217360,688305393,230966441,493714485,206438084,793156367,50144823,856317106,875893636,659533988,157609166,866490097,876057372,896080205,329853220,257924897,108528824,206869848,832595396,876722138,450353417,678170658,303643652,871445536,394698402,455301108,215787185,503767320,38297135,270933695,225243752,797892918,716820157,564640099,905707176,289414803,238702753,82987182,208803660,834390903,329840506,24401788,164590165,224328525,476272278,452782631,2477739,523688891,856270562,373101239,338910356,756858895,926878457,909065435,843645467,910738052,764691729,458789182,778310417,716607225,435358894,507426690,907630372,39253513,313475971,978012191,762975753,227068085,851781227,485084253,390749589,784798572,425787057,474698486,730783945,14797806,661800859,409986096,192991055,746657298,194818146,673996452,681699084,771265856,534343068,795665326,695756403,260146133,299241857,295477938,522924613,942252546,170388700,639540572,867094859,224854191,615695478,930456982,27453024,240348152,95587826,672628907,216584178,898898324,297439899,459790635,244377046,817376306,163033038,701817085,727446814,413803075,140706721,339238546,663885445,765075279,255347580,750529195,521119218,956194005,138520675,10997571,535793717,128237885,901199024,570937087,362268595,87068178,706372103,394706707,132116953,207016075,724639906,223407117,471004794,399873566,349312579,552734465,742588157,834475897,651075800,197835140,15810038,649799957,656427359,109592150,512464383,611030716,622186096,108094138,201732810,995636599,631931045,273549032,628485,139288109,231960592,147258909,562050831,309860348,115696196,775671666,948240946,711576367,383280721,652592487,173532814,148131679,83417500,538675245,134184794,639309342,963716660,32689876,78179317,478929968,276885609,855168310,83321509,38695393,366484220,801947362,369939160,239838131,23436117,453119923,361419918,820427067,873486125,741568723,116289234,68564941,265686422,724529031,976148398,676762508,470931524,263822592,634885707,61358670,933841990,835553148,764513143,404313327,613717803,635066834,231186638,755124546,647314589,715028866,18680045,933593688,536637923,830446031,996802574,24700890,684273653,672311283,189767711,786822223,777794579,444904019,867755651,713078963,786037061,825396472,971145665,517690447,664620879,107054067,129383127,352705374,450335159,56887110,492936967,415060912,887577513,768276393,759339500,953936486,611757399,207092003,712875467,889040476,963510056,584462257,851633997,43671350,744609268,748036021,357161198,346731964,552080445,891045515,305212304,711010915,530088156,15298566,867273549,777034667,907864602,470501800,373392662,851871264,892772002,469182940,169291253,935389580,337007423,625502603,988080053,406465305,913566925,964383368,57754919,529403053,729588455,50754230,578351544,951622654,638877682,450956728,214371734,321365342,853238829,278529367,972744361,403282816,344401121,612834374,633946061,856311577,443039185,170048188,202990088,101089662,560092017,809740896,477052847,969915628,485879164,788086254,117167587,122741210,150726047,763347987,648775962,423664370,891979414,494135438,66081679,365619016,963535765,839528910,666497995,884747931,321318971,828118574,19790820,370340154,254941322,776474759,729174917,619466139,68812157,810886561,257089797,532234002,677431466,966405138,944686544,269153302,65229260,761835753,286857082,571969653,673711021,668117941,167136444,527881679,705354502,156826022,587025205,912087863,619574896,601875852,936422047,690011813,935066231,439673006,362549370,389478681,599422850,169030089,6416230,404219024,737920947,563049884,961630548,318982969,53126913,60973738,7844217,937541366,853626769,459220143,378708547,262053515,953960441,665331,828222134,155280703,947811880,43603399,868551100,15920514,608812227,349276701,252376538,881308241,312995590,610176361,566273805,777903789,262913571,287220297,224504911,734287502,62131309,843587788,440340192,879100404,948645570,102294992,318964669,9843167,293685152,231816491,142772666,455128796,5103661,158122946,643928225,793772847,764843511,257621809,873823880,417842331,320093097,275756920,924633328,291843714,842608318,39538519,615678187,120965324,316701470,221452920,222216116,914873417,230489912,593551894,336638089,802754784,230847130,648201684,513748658,565234777,539469503,697354715,383180872,44826254,34562572,300244659,745516320,427838016,28440583,860658269,980412792,166243971,718007423,733979051,399979824,942067520,754719426,269944922,681165536,564676153,909443226,646194780,171933270,948776063,198227120,259740318,351229649,451471299,727529115,664319533,522289217,343466944,90489726,148866932,294194513,91861612,66153522,891225677,947734957,213662582,588554948,167725584,795374177,49408635,303560075,566815094,120611677,686089283,156897881,144703893,771522361,207191063,926762001,367095391,248486092,15716383,711001488,31461391,72593824,910793729,747892789,388476691,208468709,303863592,511144000,80830207,822458480,108852580,918485505,327394407,261841178,909979205,967219559,913407173,955358645,101054603,907311491,168326932,568752691,810671110,603898429,965649950,76964110,575779225,407857431,776180111,678277182,390466324,399624461,167099185,240317062,160071418,44953428,33299734,625964317,877100756,203714184,890057534,462715883,130717045,483827505,722983461,62593361,83745797,295878577,20855020,17117369,838930547,570511689,767455348,145612332,135728942,388088117,498181748,205662483,539275556,166313055,588679619,340748357,809874548,782190613,236381251,122710356,272457806,95049701,467482962,537755348,411576475,264506711,674617650,571283757,659119862,980255541,7339986,253087596,111517630,389575728,287516844,680594998,661288147,213073176,238024375,718484673,531498661,611158383,544869752,578044266,896279331,500796425,49937933,755973076,736007603,608296257,755591672,509343673,629628313,143942405,738647456,462259072,984920586,338495769,183126490,884204754,665358849,365709988,312100405,991261133,56847355,391131613,100383433,405043909,497294671,815459982,544957390,224521192,76827124,238625321,721673053,814914816,543814858,636740769,190942068,195636868,113420346,338706050,694562406,819166544,144174314,205152809,98834916,48588664,956881994,759903659,586195816,839372111,859838092,746689247,686267542,90195685,900253990,833092256,2208926,782975137,632289558,919363153,83931581,671726322,384868664,723134788,308383613,709499298,328124686,31805553,246341746,709766671,870996758,154243894,174920564,247503165,474470058,333061435,959952795,409793960,647008892,189869209,525264349,323512258,968591330,670727490,296202602,645170082,362453308,76811996,534327948,318285892,528351397,612694926,878699607,30899982,678290013,495511749,691946518,907067505,324002672,828584036,683795315,984824321,606990196,590670816,894033957,888979442,848843945,184445121,433658251,759343247,718783998,841334890,237148301,273087922,819034835,114042946,172321533,63780727,200899363,506771596,19144357,594460650,326979803,17920114,391910102,708363860,221300877,85571428,28421010,248959945,566580884,832514478,102595125,962962514,803859640,455652059,929434446,976546422,839461377,718551065,215599943,715440509,481196138,602881300,382576817,144548146,989308838,285999966,872934987,476246312,109072012,681448571,121785927,255807472,367817513,421413706,467321384,839976554,804553637,841160275,892184223,978467871,37119606,394476047,702813164,206722500,181313101,596379820,928769420,508968260,773871107,504312344,366386878,49909774,482287536,649284385,618684754,323483473,174018239,303073054,674773847,825237767,256244806,244828238,653222275,61878265,842903064,4827435,156907945,27394495,589353832,349590765,293388716,405340492,1523045,527113567,787450589,994190974,353963446,868399696,608269787,564253943,605997245,107012830,641477549,238217673,68344761,21747771,397420231,40313935,277216417,27936671,186499826,288200858,173841458,15053501,983040204,348401901,903593336,80701485,646278467,268614579,450591353,631192733,474912401,320094218,621987324,492076304,579064275,115390891,868707062,111820103,201901004,792762286,803588492,947621235,567102008,717928789,238422916,944186723,517443820,640946485,327796333,5947130,778381366,317334335,977580785,7216268,61826611,244832426,413608004,320366122,48983675,957097736,918335957,972467975,375346721,719676321,101609529,567250848,201610152,664265361,948974389,263704014,819937462,895799543,528453468,627722093,721543213,617491914,73818255,191992096,5394129,71851697,606287334,78946980,823178865,846116899,74761631,448577638,543780388,868876265,214354657,234875175,329470305,215997412,867336158,344318155,173212484,907228814,222471560,463169812,536773046,182010095,301533798,891173521,404729324,340534877,995953986,659507417,454161690,514253981,727389577,640821208,207403134,596812306,855153701,452005434,808245080,551310248,754194902,82315073,474466306,4351296,553950790,675700079,814086787,431332608,97151404,884377883,612466767,49706787,462714630,775800457,116079504,270793104,624505864,680812576,68911984,897102808,55940292,808838338,736166770,871745601,409053509,955888760,32783796,385493505,918923190,808879854,328915643,678006707,422957627,180836764,649922575,904023998,144896689,748788154,402480633,860193055,817476903,857472980,918195773,11661818,825100747,264869093,821264381,112465168,337439341,831178938,175077593,465608027,884657478,604520870,564323892,282878249,85344912,484075639,412066384,930244050,459532367,971332326,470327231,269290163,290819392,683848398,587842181,152773888,473160179,792899261,552609804,715261511,850194823,322962459,153917127,405379514,827758937,733975911,375251717,976102183,399589056,715590437,467328718,620499574,678441527,891905274,870169328,606400159,880466258,971499534,267527915,180412406,91241253,869081640,365677112,694955905,254252234,544688613,613288931,458303761,912144114,737014721,24984219,96301630,365365740,968393770,82508742,863869456,220881790,269072995,396235524,563875876,984158182,693408168,188273659,435536751,796400187,196326986,768535618,600935836,221739561,163620712,124856659,682709232,428296048,433288595,4696166,621079679,581265092,170188860,328820681,58550067,306909274,990864338,738064867,826636119,436992625,219004776,17510559,546230523,278208402,618203663,125715971,765853400,605346629,235550750,161245353,177674236,577594584,385754453,592206056,313965382,306238690,346481172,44262819,112440354,812747272,836488772,814659738,543068199,161289534,518776007,956941440,718717846,709132222,897301577,903616970,636093227,665395679,140808415,279188159,403869942,990679704,899683399,335820172,849968952,286759202,990940962,663019110,641007382,662340694,146969951,931008501,623088697,858981998,476862387,984006549,934948627,394332214,608535321,145496236,542591698,836039360,330054288,830143272,865743561,365626973,479209179,763013388,663114148,523864006,583246098,193092800,534381095,387020007,385585471,627626185,602057495,251365373,831217210,156631877,373906014,475434732,1284572,955630780,841781201,232917984,701522951,971605689,322567576,363009331,442816590,272647350,431340372,871442262,669628592,223364998,131965207,295271545,37740501,874359701,344396386,546319980,813182392,331034626,536394404,898790515,782249753,299714570,546161963,45696715,575677511,22497353,495488313,996006986,376360664,914324173,567592220,52722418,321082017,34423124,91010292,402497731,449648018,165090130,326146018,417129788,522704169,214706361,688188250,993716076,398595974,121283594,295201836,369683340,994791779,474674579,149806763,893735413,117554216,988882713,523811561,299725144,407400403,658891229,332128765,505373023,426053452,816976404,824792934,295172833,896144731,905884000,39074135,313116086,988280987,907873913,632064278,81001008,389680784,344940600,486108479,176667664,357891284,196731469,777885385,443068422,187791590,354712764,17329945,657360912,202236358,109312486,376178069,257986105,419969255,616494876,2200030,679940641,814245380,709867795,541622408,913296531,406320996,127164552,670003496,134014275,514620935,533869984,774434776,628951078,449754115,155412096,842824651,356999719,586059305,307107118,634443914,234934551,979068267,987072769,666494339,576762394,208934512,918371116,639143492,810772656,426552063,734780669,769446830,462635037,409731739,526626302,47523207,925514007,480233457,350060901,647752558,991202260,872601274,291434712,280171914,487310326,360835481,288891402,384617111,730566148,947360109,608284766,896247050,678330134,682060112,826984336,732205146,775266484,556926163,954103099,790012901,291650342,522704788,958640496,614398995,517798200,649370204,535207988,958702491,9034256,137480512,745224070,704505292,285075641,962253249,995412662,265535405,822632670,153103976,799767834,144549755,871482780,374948815,33630750,999072134,304453026,165175011,881143724,656196166,511651598,30114571,428854811,530952497,983444680,669453474,217848176,854647545,819621293,257304790,764904106,139680396,453642727,224191675,484820870,19968050,212908460,690923202,388072575,916197482,615249609,645088562,446903093,529518975,160528086,282408005,416563365,159693567,646868850,117649378,871769655,653667218,750685913,679853807,721779915,804963832,575579790,662032102,992886598,178326580,438527776,45953666,509211648,59116543,661634323,994026837,169223039,400727903,295987380,513378726,531998765,648273318,945821807,49979970,141185675,536386772,580133882,216389810,909740808,708373584,579089343,440716101,939150444,73018223,816004753,673552381,495354988,889594858,175105531,4578225,183492206,29821252,492967346,297430043,905816400,273521377,643532649,976778360,709931468,195923852,347532759,894758365,101266257,735439303,936543254,969609029,473739052,449073983,8449383,747126826,518186656,474045794,645433478,564369444,996448809,445988377,559579875,534661543,885054730,616573609,614406086,917848130,660836479,194004411,258565931,404990522,720112985,753472195,511761945,226994280,140042872,966394922,213382457,943371412,930472473,50272282,815452004,222224032,867540344,864359354,916273491,601327799,656205167,814597857,76668648,149916170,745937038,937281048,493785366,361719464,505553104,707163921,160475219,930242717,100545594,417489200,122770958,940795821,351631704,757319262,823463853,309970852,825026854,902220271,35634343,614544624,710282598,329798540,245621199,878109441,973129768,512792377,456947955,646725920,250884278,537493399,335263295,401051703,227246116,142023866,371714455,136930636,382450575,999265458,428346323,496926296,407112895,880379338,638332787,638851539,491165185,444132029,571960105,860791988,148156007,196179334,619602175,419108790,86562390,503263225,259646099,17814567,876681909,356952483,804371796,790561128,874542708,321143369,782313402,735228253,890987865,302338828,605874242,954934573,8860431,3293796,713811171,589375029,438621656,667248271,92226958,147083510,998469480,754929270,306386770,139681531,379770849,843358817,163961453,818621457,969619026,61374382,222548801,10051667,498157229,312401874,32573822,334424106,30836761,748706430,790725568,100221342,239965731,580089687,168904357,572208108,69819253,448591143,405615217,793421299,591058461,108598144,515768685,27360591,602493467,736050609,997503903,323715607,540974564,306882976,568689762,561447651,748617478,228889806,389459605,887051918,769231407,468728310,100936879,312044337,889322493,15947735,159488069,13542712,392762516,538346648,989743090,130653799,448813720,133616635,106915556,453758134,745621851,963929726,455565439,889891610,316705741,873916259,956023796,548191423,685633560,197721406,971512224,342398484,474613054,637671612,424098657,958293390,275436776,5350793,270993283,151074874,657113274,249855422,22445792,438574557,613101001,496482413,271015540,619699687,148754160,149010325,659913172,837281495,226365993,745182761,768191015,24566049,740462938,100896564,360005059,49833673,716743047,253900664,830773013,101949730,943708059,696630435,907853902,565599364,75041610,248515305,881147903,725637350,872133342,119830742,314949199,890351392,275877248,987968806,562961727,38016487,344352172,882588158,921337044,535203555,311530458,880415200,379345874,376730547,284607060,343941204,520767034,595170896,36939490,569164272,681966044,248835510,679134142,206811155,266946804,537645190,140880555,877027263,555538736,153058066,308134450,381175890,790242306,510593017,18880281,217742796,990941514,121889899,178006509,971403321,344873438,537522084,978403489,562345710,879011481,808652851,947062486,433862494,679574789,435252022,457931136,409581919,71419470,435958585,207915809,492031004,51299637,74743669,64909429,514140707,977617285,809400696,415823184,180800034,631991358,778304468,338397753,691848568,969187243,813760135,977744229,946042700,289803549,361882032,202374679,443025607,443267483,200074251,693162475,502910904,816186204,85036355,572354415,21806196,209348017,611171316,291633231,314122386,844021211,550822719,43856719,916756946,923850877,444106002,241222497,509575212,743535845,227043643,228413976,515159702,820392980,777379741,245637369,454618213,102660625,123511757,125844577,771808135,716607370,677593324,846388350,626780922,432089528,674820640,814096278,429468609,763152109,154021770,455104502,152076460,320246829,650824671,918850840,995827849,916566522,849865311,700924621,503415528,650533979,195178326,847405314,424488086,285492303,828385776,698566494,899433343,203234243,412057948,415909139,768821622,434339268,396038003,732977015,125013473,809346344,587423394,264102525,914694150,325140336,355726266,433615430,732045211,6359416,519840109,776739771,105397903,564649507,205518923,242765560,584653136,460818416,76861767,373267740,390048141,54157605,135548694,269081039,374220051,43143250,127346402,12419532,107536534,402315852,707768302,338442005,566299067,77455537,469023376,70272693,789798795,555512534,672655297,108561107,202241319,78070537,775621236,991832212,132384445,16711717,705584356,347821782,86853698,308676576,216189347,187427445,312962726,466148894,524832025,696642381,660136106,517305912,187858644,367213178,201537948,269032583,985878271,386984896,675885593,425398486,217233196,562299619,307906147,168446775,385200018,650417602,640648512,930885849,666682510,393415469,875060288,112792746,113244861,664968586,652923941,259434465,382989955,513253093,906322942,84169955,374858,353122393,172208508,645752088,583696044,897881295,946405860,609378072,111943114,942772839,429545109,626111463,439261660,596038069,116720626,192273427,812143396,34641204,100835364,347322264,990452086,413774019,555462675,71409980,362542669,138758965,110092053,646253509,546480949,82667899,660927363,433238152,138088806,631306236,364702285,793841502,253017078,226055777,477786696,654610738,256091396,657793081,252331750,679161369,959879800,67751854,544783858,729563046,299804678,245014337,617532677,512721415,401480840,43378884,575496819,120791666,429405158,231776855,101719898,149863618,68659769,659555287,855329022,507469039,393019110,257634675,430912810,802687211,987480966,960225594,194356063,906277575,600852351,223373356,990305889,632424175,361630560,597595330,9625856,844683867,8102382,899853916,364209458,164742251,55943524,300075905,547300730,663715445,952373409,784871426,419379584,117069871,189652167,647247078,808739284,160309102,495170330,126736101,109662553,683184345,21097077,445955686,173125966,814178118,66107269,577294494,971677393,229972451,664644821,704690460,842319001,811304159,43613795,605904087,271966106,42118165,433800197,351635148,454325703,37212243,877192634,666127770,858278552,322529243,203421772,894245170,442966140,27707533,987362441,254441936,710902095,802312540,660543880,426690073,559836554,259123841,385104002,914386970,416752480,279729431,283654112,982738703,578856348,533779972,794833550,13855094,201695534,8487126,775528725,539292033,148683190,259697960,628602439,719200029,420586614,747894608,37389869,14543772,946159079,669654160,827543869,253143485,160276325,120416396,490918918,208173741,95234548,563183032,136757783,902881510,330614507,685722113,375247851,457627219,56157321,316117596,527937585,756972293,234750472,371808638,623968726,577418100,798885739,779732144,85946801,483766550,431969402,85839685,438494296,312716551,301096803,927557534,714615976,107585732,270383424,533642659,29748512,416315161,290659023,764519017,197275761,410693504,76083229,550166655,922237103,299732787,295201382,311712793,834987068,130807855,488882618,47767175,11439974,1461861,506330986,433424091,857477867,323740012,871378873,267633099,890148887,337650380,343336089,422253605,179434849,728037538,610463957,429144823,739132013,427163548,567428404,449009926,873222005,665377839,608963133,154519865,283947431,124737112,634853075,214524578,517828205,966380997,487599102,110185953,175957743,650677533,45728976,984649502,957126365,886202605,24563249,569607822,985583707,255028661,582478972,412508472,501619392,351997917,934200924,563380168,571011714,277880433,891639667,873875023,177075154,9848648,396335641,98374400,921360898,338307852,892261139,745392752,561625363,672760530,989512167,797188200,520955816,428223438,191998531,573109071,832777219,357662174,327417757,396022190,196683636,372758566,233172502,722741071,31239710,989076494,80516691,773325903,13237191,413459323,814544984,190685327,560710110,584334039,464620285,18109922,473127574,292037399,800849997,167942598,122399382,865555904,515399606,760592100,50393159,973880138,89142516,269242009,192391540,669175178,106909682,348438842,236429924,401970368,446940596]\n",
    "%time shiftingLetters(s, shifts)"
   ]
  },
  {
   "cell_type": "code",
   "execution_count": null,
   "id": "c3ba007c",
   "metadata": {},
   "outputs": [],
   "source": [
    "a = 'abc'\n",
    "b = [a[i] for i in range(len(a))]"
   ]
  },
  {
   "cell_type": "code",
   "execution_count": null,
   "id": "46541fb8",
   "metadata": {},
   "outputs": [],
   "source": [
    "chr(111)"
   ]
  },
  {
   "cell_type": "code",
   "execution_count": null,
   "id": "6fdd5ced",
   "metadata": {},
   "outputs": [],
   "source": [
    "27%27"
   ]
  },
  {
   "cell_type": "markdown",
   "id": "72db8f17",
   "metadata": {},
   "source": [
    "### 20210909<a id='764'></a>\n",
    "<strong>764. Largest Plus Sign</strong>\n",
    "\n",
    "You are given an integer n. You have an n x n binary grid grid with all values initially 1's except for some indices given in the array mines. The ith element of the array mines is defined as mines[i] = [xi, yi] where grid[xi][yi] == 0.\n",
    "\n",
    "Return the order of the largest axis-aligned plus sign of 1's contained in grid. If there is none, return 0.\n",
    "\n",
    "An axis-aligned plus sign of 1's of order k has some center grid[r][c] == 1 along with four arms of length k - 1 going up, down, left, and right, and made of 1's. Note that there could be 0's or 1's beyond the arms of the plus sign, only the relevant area of the plus sign is checked for 1's."
   ]
  },
  {
   "cell_type": "code",
   "execution_count": null,
   "id": "9f8777e8",
   "metadata": {},
   "outputs": [],
   "source": [
    "def orderOfLargestPlusSign(n, mines):\n",
    "    def dp(n, r, c, direction, row=[], column=[]):\n",
    "        if direction == 'left':\n",
    "            for i in range(len(mines)):\n",
    "                if mines[i][0] == r:\n",
    "                    column.append(mines[i][1])\n",
    "            left = 0\n",
    "            for i in range(len(column)):\n",
    "                if column[i] < c:\n",
    "                    left = max(left,column[i]+1)\n",
    "            return c - left\n",
    "        \n",
    "        if direction == 'right':\n",
    "            right = n - 1\n",
    "            for i in range(len(column)):\n",
    "                if column[i] > c:\n",
    "                    right = min(right,column[i]-1)\n",
    "            return right - c\n",
    "        \n",
    "        if direction == 'up':\n",
    "            for i in range(len(mines)):\n",
    "                if mines[i][1] == c:\n",
    "                    row.append(mines[i][0])\n",
    "            up = 0\n",
    "            for i in range(len(row)):\n",
    "                if row[i] < r:\n",
    "                    up = max(up,row[i]+1)\n",
    "            return r - up\n",
    "        \n",
    "        if direction == 'down':\n",
    "            down = n - 1\n",
    "            for i in range(len(row)):\n",
    "                if row[i] > r:\n",
    "                    down = min(down,row[i]-1)\n",
    "            return down - r\n",
    "    \n",
    "    ans = 0\n",
    "    for r in range(n):\n",
    "        for c in range(n):\n",
    "            if [r,c] not in mines:\n",
    "                row = []\n",
    "                column = []\n",
    "                left = dp(n, r, c, 'left',row, column)\n",
    "                right = dp(n, r, c, 'right',row, column)\n",
    "                up = dp(n, r, c, 'up',row, column)\n",
    "                down = dp(n, r, c, 'down',row, column)\n",
    "                ans = max(ans, min(left, right, up, down) + 1)\n",
    "    return ans"
   ]
  },
  {
   "cell_type": "code",
   "execution_count": null,
   "id": "4a2478d7",
   "metadata": {},
   "outputs": [],
   "source": [
    "def orderOfLargestPlusSign(N, mines):\n",
    "    banned = {tuple(mine) for mine in mines}\n",
    "    dp = [[0] * N for _ in range(N)]\n",
    "    ans = 0\n",
    "\n",
    "    for r in range(N):\n",
    "        count = 0\n",
    "        for c in range(N):\n",
    "            count = 0 if (r,c) in banned else count+1\n",
    "            dp[r][c] = count\n",
    "            \n",
    "#         print(r, c, dp)\n",
    "\n",
    "        count = 0\n",
    "        for c in range(N-1, -1, -1):\n",
    "            count = 0 if (r,c) in banned else count+1\n",
    "            if count < dp[r][c]: dp[r][c] = count\n",
    "        \n",
    "#         print(r, c, dp)\n",
    "\n",
    "    for c in range(N):\n",
    "        count = 0\n",
    "        for r in range(N):\n",
    "            count = 0 if (r,c) in banned else count+1\n",
    "            if count < dp[r][c]: dp[r][c] = count\n",
    "                \n",
    "#         print(r, c, dp)\n",
    "\n",
    "        count = 0\n",
    "        for r in range(N-1, -1, -1):\n",
    "            count = 0 if (r, c) in banned else count+1\n",
    "            if count < dp[r][c]: dp[r][c] = count\n",
    "            if dp[r][c] > ans: ans = dp[r][c]\n",
    "        \n",
    "#         print(r, c, dp)\n",
    "\n",
    "    return ans"
   ]
  },
  {
   "cell_type": "code",
   "execution_count": null,
   "id": "845a55e0",
   "metadata": {},
   "outputs": [],
   "source": [
    "def orderOfLargestPlusSign(n, mines):\n",
    "    boom = {tuple(mine) for mine in mines}\n",
    "    dp = [[0] * n for x in range(n)]\n",
    "    ans = 0\n",
    "    \n",
    "    for r in range(n):\n",
    "        count = 0\n",
    "        for c in range(n): #going through each row from left to right, longest on left, inital dp\n",
    "            if (r,c) in boom:\n",
    "                count = 0\n",
    "            else:\n",
    "                count += 1\n",
    "            dp[r][c] = count\n",
    "\n",
    "        count = 0\n",
    "        for c in range(n-1, -1, -1): #going through each row from right to left, longest on right, update dp\n",
    "            if (r,c) in boom:\n",
    "                count = 0\n",
    "            else:\n",
    "                count += 1\n",
    "            dp[r][c] = min(dp[r][c], count)\n",
    "\n",
    "    for c in range(n):\n",
    "        count = 0\n",
    "        for r in range(n): #going through each column from top to bottom, longest above, update dp\n",
    "            if (r,c) in boom:\n",
    "                count = 0\n",
    "            else:\n",
    "                count += 1\n",
    "            dp[r][c] = min(dp[r][c], count)\n",
    "\n",
    "        count = 0\n",
    "        for r in range(n-1, -1, -1): #going through each column from bottome to top, longest below, update dp\n",
    "            if (r,c) in boom:\n",
    "                count = 0\n",
    "            else:\n",
    "                count += 1\n",
    "            dp[r][c] = min(dp[r][c], count)\n",
    "            ans = max(dp[r][c], ans)\n",
    "\n",
    "    return ans"
   ]
  },
  {
   "cell_type": "code",
   "execution_count": null,
   "id": "0b002751",
   "metadata": {},
   "outputs": [],
   "source": [
    "n = 5 \n",
    "mines = [[4,2]]\n",
    "orderOfLargestPlusSign(n, mines)"
   ]
  },
  {
   "cell_type": "code",
   "execution_count": null,
   "id": "1c527177",
   "metadata": {},
   "outputs": [],
   "source": [
    "n = 5 \n",
    "mines = [[4,2],[0,2],[1,1],[1,3],[3,1],[3,3],[2,2]]\n",
    "orderOfLargestPlusSign(n, mines)"
   ]
  },
  {
   "cell_type": "code",
   "execution_count": null,
   "id": "b819fe06",
   "metadata": {},
   "outputs": [],
   "source": [
    "n = 0\n",
    "mines = [[0,0]]\n",
    "orderOfLargestPlusSign(n, mines)"
   ]
  },
  {
   "cell_type": "code",
   "execution_count": null,
   "id": "d062606b",
   "metadata": {},
   "outputs": [],
   "source": [
    "n = 500\n",
    "mines = [[0,82],[0,166],[0,195],[0,263],[0,282],[0,342],[0,401],[0,415],[0,440],[0,466],[0,473],[1,99],[1,192],[1,220],[1,236],[1,303],[1,337],[1,340],[1,373],[1,374],[1,455],[1,499],[2,7],[2,16],[2,18],[2,25],[2,59],[2,108],[2,147],[2,207],[2,291],[2,408],[2,410],[2,474],[2,481],[2,488],[3,51],[3,69],[3,109],[3,179],[3,211],[3,220],[3,263],[3,384],[3,483],[4,323],[4,331],[4,492],[5,62],[5,69],[5,83],[5,122],[5,123],[5,179],[5,256],[5,291],[5,320],[5,355],[5,414],[5,477],[6,8],[6,37],[6,69],[6,95],[6,128],[6,183],[6,235],[6,309],[6,387],[7,5],[7,26],[7,30],[7,43],[7,72],[7,143],[7,156],[7,192],[7,223],[7,313],[7,458],[8,29],[8,150],[8,238],[8,245],[8,253],[8,347],[8,379],[8,474],[8,489],[9,111],[9,129],[9,353],[9,373],[9,491],[10,101],[10,147],[10,161],[10,255],[10,350],[10,446],[10,491],[11,34],[11,54],[11,114],[11,164],[11,260],[11,287],[11,323],[11,384],[11,414],[11,454],[12,29],[12,78],[12,128],[12,167],[12,344],[12,362],[13,31],[13,60],[13,86],[13,125],[13,240],[13,291],[13,300],[13,327],[13,349],[13,363],[13,374],[13,396],[13,450],[13,484],[14,63],[14,157],[14,240],[14,267],[14,413],[14,457],[15,64],[15,70],[15,138],[15,164],[15,188],[15,260],[16,53],[16,75],[16,95],[16,120],[16,122],[16,166],[16,281],[17,27],[17,35],[17,66],[17,222],[17,243],[17,279],[17,288],[17,357],[17,402],[17,441],[17,486],[18,34],[18,37],[18,111],[18,211],[18,252],[18,387],[18,484],[19,127],[19,190],[19,192],[19,261],[19,284],[19,355],[19,374],[19,387],[19,475],[20,150],[20,166],[20,170],[20,188],[20,202],[20,233],[20,250],[20,279],[20,299],[20,474],[21,2],[21,4],[21,12],[21,29],[21,44],[21,46],[21,62],[21,151],[21,153],[21,246],[21,247],[21,469],[21,493],[22,16],[22,103],[22,117],[22,157],[22,164],[22,240],[22,297],[22,332],[22,397],[22,461],[23,2],[23,6],[23,37],[23,263],[23,453],[24,30],[24,143],[24,228],[24,238],[24,252],[24,275],[24,318],[24,447],[25,78],[25,101],[25,189],[25,227],[25,282],[25,324],[25,328],[25,355],[25,368],[26,79],[26,207],[26,281],[26,326],[26,337],[26,398],[26,415],[27,166],[27,222],[27,258],[27,277],[27,296],[27,364],[27,442],[28,99],[28,174],[28,193],[28,246],[28,260],[28,347],[28,466],[29,2],[29,57],[29,58],[29,62],[29,79],[29,387],[29,435],[29,448],[29,486],[29,490],[30,113],[30,121],[30,257],[30,311],[30,363],[30,470],[31,34],[31,56],[31,59],[31,64],[31,87],[31,256],[31,275],[31,338],[31,463],[32,73],[32,115],[32,162],[32,174],[32,232],[32,309],[32,340],[32,380],[32,401],[32,480],[33,23],[33,48],[33,117],[33,163],[33,168],[33,257],[33,392],[33,397],[33,419],[34,29],[34,53],[34,60],[34,91],[34,139],[34,175],[34,179],[34,446],[34,462],[34,485],[35,42],[35,64],[35,215],[35,448],[35,487],[36,24],[36,153],[36,163],[36,211],[36,219],[36,291],[36,353],[36,369],[36,393],[36,425],[37,5],[37,75],[37,115],[37,172],[37,175],[37,176],[37,240],[37,285],[37,308],[37,382],[37,443],[37,466],[37,467],[38,4],[38,37],[38,82],[38,93],[38,94],[38,95],[38,109],[38,167],[38,272],[38,302],[38,309],[38,347],[38,412],[38,458],[39,0],[39,20],[39,50],[39,115],[39,257],[39,267],[39,312],[39,340],[39,392],[39,430],[39,447],[39,467],[39,470],[40,46],[40,57],[40,135],[40,161],[40,174],[40,259],[40,308],[40,359],[40,375],[40,463],[41,215],[41,238],[41,356],[41,362],[41,412],[41,458],[42,42],[42,44],[42,60],[42,68],[42,79],[42,107],[42,166],[42,187],[42,354],[42,362],[42,389],[43,6],[43,40],[43,154],[43,164],[43,201],[43,232],[43,393],[43,394],[43,470],[43,484],[44,65],[44,137],[44,230],[44,331],[44,344],[44,474],[45,2],[45,226],[45,271],[45,275],[45,382],[46,41],[46,123],[46,168],[46,324],[47,48],[47,78],[47,113],[47,148],[47,312],[47,324],[47,328],[47,357],[47,450],[47,455],[47,490],[48,113],[48,122],[48,185],[48,200],[48,234],[48,271],[48,316],[48,392],[48,403],[48,438],[49,28],[49,82],[49,90],[49,94],[49,106],[49,168],[49,209],[49,299],[49,304],[49,379],[49,419],[49,437],[49,481],[50,19],[50,75],[50,157],[50,228],[50,231],[50,244],[50,266],[50,347],[50,357],[50,414],[50,431],[50,495],[51,8],[51,32],[51,127],[51,202],[51,324],[51,354],[51,431],[51,436],[52,75],[52,187],[52,203],[52,212],[52,368],[52,454],[52,495],[53,8],[53,42],[53,74],[53,193],[53,206],[53,228],[53,352],[53,499],[54,12],[54,18],[54,68],[54,87],[54,94],[54,161],[54,224],[54,304],[54,476],[55,58],[55,68],[55,116],[55,185],[55,240],[55,253],[55,309],[55,331],[56,19],[56,89],[56,106],[56,188],[56,282],[56,336],[56,369],[56,371],[56,486],[57,52],[57,155],[57,266],[57,335],[57,372],[57,492],[58,20],[58,49],[58,55],[58,141],[58,159],[58,173],[58,176],[58,181],[58,201],[58,230],[58,270],[58,335],[58,390],[58,438],[58,444],[58,465],[59,158],[59,195],[59,313],[59,358],[59,389],[59,395],[59,469],[60,83],[60,161],[60,206],[60,210],[60,224],[60,242],[60,261],[60,284],[60,301],[60,404],[60,430],[60,473],[61,34],[61,73],[61,124],[61,174],[61,197],[61,206],[61,238],[61,260],[61,293],[61,310],[61,361],[61,435],[62,15],[62,62],[62,86],[62,117],[62,130],[62,329],[62,344],[62,356],[62,382],[62,383],[62,495],[63,33],[63,127],[63,144],[63,148],[63,289],[63,292],[63,297],[63,365],[64,211],[64,214],[64,233],[64,263],[64,306],[64,333],[64,477],[65,80],[65,199],[65,250],[65,255],[65,281],[65,334],[65,382],[66,46],[66,63],[66,87],[66,147],[66,307],[66,309],[66,316],[66,329],[66,334],[66,341],[66,372],[66,379],[66,388],[66,406],[66,428],[66,478],[67,6],[67,51],[67,83],[67,107],[67,138],[67,205],[67,346],[67,355],[67,413],[67,421],[68,18],[68,25],[68,182],[68,216],[68,231],[68,254],[68,435],[68,455],[69,42],[69,57],[69,108],[69,122],[69,166],[69,193],[69,270],[69,271],[69,319],[69,336],[69,352],[69,473],[69,483],[70,16],[70,52],[70,106],[70,115],[70,243],[70,250],[70,320],[70,331],[70,358],[70,410],[70,418],[70,431],[71,2],[71,21],[71,48],[71,91],[71,161],[71,189],[71,202],[71,318],[71,340],[71,409],[71,423],[72,62],[72,108],[72,133],[72,144],[72,150],[72,195],[72,236],[72,263],[72,270],[72,306],[72,404],[72,422],[72,468],[73,100],[73,212],[73,233],[73,290],[73,292],[73,307],[73,317],[73,376],[73,384],[73,386],[73,405],[73,496],[74,35],[74,55],[74,113],[74,132],[74,135],[74,139],[74,160],[74,207],[74,374],[74,438],[75,0],[75,15],[75,111],[75,141],[75,147],[75,148],[75,203],[75,214],[75,284],[75,387],[75,422],[76,19],[76,21],[76,53],[76,224],[76,235],[76,336],[76,413],[76,445],[76,493],[77,16],[77,54],[77,141],[77,228],[77,271],[77,330],[77,403],[78,39],[78,134],[78,141],[78,264],[78,339],[78,357],[78,431],[79,22],[79,64],[79,104],[79,165],[79,218],[79,236],[79,264],[79,400],[79,463],[80,147],[80,165],[80,245],[80,280],[80,409],[81,79],[81,142],[81,212],[81,274],[81,384],[81,415],[81,418],[81,419],[81,426],[81,469],[82,44],[82,76],[82,106],[82,142],[82,158],[82,176],[82,269],[82,275],[82,365],[82,480],[83,61],[83,66],[83,102],[83,124],[83,136],[83,152],[83,203],[83,240],[83,319],[83,354],[83,378],[83,447],[83,491],[84,107],[84,132],[84,454],[85,6],[85,45],[85,148],[85,420],[85,478],[86,236],[86,283],[86,368],[86,381],[86,428],[86,463],[86,475],[87,305],[87,435],[87,440],[88,62],[88,161],[88,202],[88,295],[88,300],[88,382],[88,455],[88,498],[89,2],[89,4],[89,17],[89,64],[89,131],[89,179],[89,187],[89,247],[89,275],[90,35],[90,36],[90,44],[90,63],[90,262],[90,318],[90,328],[90,412],[91,126],[91,174],[91,240],[91,265],[91,292],[91,315],[91,326],[91,328],[91,465],[91,476],[92,3],[92,6],[92,10],[92,121],[92,158],[92,314],[92,418],[92,436],[93,71],[93,94],[93,124],[93,161],[93,238],[93,263],[93,285],[93,357],[93,380],[93,444],[93,471],[93,477],[94,21],[94,54],[94,165],[94,238],[94,250],[94,332],[94,365],[94,454],[94,463],[94,494],[95,85],[95,177],[95,302],[95,359],[95,365],[96,150],[96,156],[96,210],[96,300],[96,363],[96,379],[96,463],[97,10],[97,36],[97,44],[97,103],[97,161],[97,252],[97,473],[97,496],[98,52],[98,140],[98,231],[98,236],[98,276],[98,287],[98,345],[98,365],[98,381],[98,389],[98,433],[99,0],[99,8],[99,69],[99,150],[99,158],[99,224],[99,254],[99,257],[99,318],[99,391],[99,418],[99,450],[99,455],[100,17],[100,26],[100,126],[100,144],[100,231],[100,402],[100,411],[100,442],[101,14],[101,50],[101,134],[101,188],[101,209],[101,266],[101,305],[101,350],[101,415],[101,424],[101,465],[102,50],[102,75],[102,76],[102,90],[102,309],[102,417],[102,425],[102,469],[103,120],[103,247],[103,259],[103,305],[103,357],[103,386],[103,401],[103,490],[104,44],[104,102],[104,103],[104,171],[104,250],[104,261],[104,348],[105,50],[105,124],[105,128],[105,136],[105,146],[105,173],[105,181],[105,210],[105,305],[105,391],[106,174],[106,188],[106,287],[106,407],[106,454],[106,496],[107,24],[107,56],[107,152],[107,191],[107,204],[107,205],[107,410],[108,51],[108,116],[108,165],[108,276],[108,279],[108,291],[108,411],[109,30],[109,41],[109,64],[109,73],[109,79],[109,102],[109,288],[109,334],[109,437],[110,7],[110,21],[110,44],[110,59],[110,126],[110,134],[110,174],[110,194],[110,300],[110,323],[110,325],[110,388],[110,483],[111,17],[111,77],[111,148],[111,170],[111,173],[111,186],[111,192],[111,243],[111,320],[111,326],[111,466],[112,48],[112,68],[112,98],[112,146],[112,194],[112,337],[112,425],[113,48],[113,80],[113,133],[113,138],[113,144],[113,145],[113,185],[113,354],[113,364],[113,449],[113,481],[114,87],[114,107],[114,133],[114,159],[114,168],[114,204],[114,215],[114,271],[114,390],[114,441],[114,491],[114,497],[115,26],[115,123],[115,159],[115,210],[115,242],[115,265],[115,318],[115,321],[115,326],[115,418],[116,26],[116,37],[116,45],[116,120],[116,167],[116,295],[116,330],[116,335],[116,341],[116,358],[116,405],[117,184],[117,212],[117,271],[117,285],[117,340],[117,346],[117,383],[117,392],[118,17],[118,24],[118,44],[118,56],[118,86],[118,214],[118,256],[118,268],[118,401],[118,477],[119,5],[119,37],[119,52],[119,73],[119,127],[119,211],[119,220],[119,235],[119,302],[119,406],[119,435],[119,459],[120,42],[120,300],[120,353],[120,370],[121,38],[121,48],[121,76],[121,144],[121,267],[121,310],[121,431],[121,465],[121,492],[122,70],[122,241],[122,309],[122,376],[122,384],[122,413],[122,454],[123,8],[123,14],[123,63],[123,130],[123,187],[123,398],[123,456],[124,209],[124,218],[124,233],[124,245],[124,302],[124,475],[124,498],[125,76],[125,91],[125,230],[125,302],[125,355],[125,412],[125,419],[126,6],[126,161],[126,165],[126,221],[126,254],[126,270],[126,353],[126,485],[127,14],[127,44],[127,102],[127,480],[128,15],[128,108],[128,155],[128,214],[128,223],[128,231],[128,243],[128,256],[128,290],[128,359],[128,472],[129,51],[129,177],[129,206],[129,247],[129,340],[129,350],[129,353],[129,355],[129,477],[130,317],[130,328],[130,337],[130,393],[130,401],[130,440],[131,5],[131,27],[131,96],[131,100],[131,192],[131,264],[131,265],[131,319],[131,327],[131,354],[131,355],[131,369],[131,370],[132,25],[132,63],[132,64],[132,69],[132,111],[132,135],[132,297],[132,310],[132,327],[132,339],[132,432],[132,496],[133,22],[133,111],[133,117],[133,225],[133,320],[133,338],[133,412],[133,457],[134,10],[134,79],[134,107],[134,182],[134,215],[134,245],[134,250],[134,252],[134,376],[134,422],[134,452],[135,30],[135,82],[135,116],[135,149],[135,370],[135,437],[136,37],[136,112],[136,140],[136,213],[136,260],[136,345],[136,356],[137,20],[137,21],[137,49],[137,115],[137,159],[137,204],[137,234],[137,282],[137,293],[137,449],[137,467],[138,18],[138,39],[138,42],[138,98],[138,159],[138,203],[138,278],[138,363],[138,371],[138,469],[139,45],[139,64],[139,102],[139,132],[139,177],[139,266],[139,305],[139,403],[139,407],[139,446],[139,491],[140,9],[140,106],[140,171],[140,199],[140,249],[140,267],[140,355],[140,372],[140,452],[141,17],[141,26],[141,79],[141,254],[141,293],[141,322],[141,328],[141,416],[141,456],[142,127],[142,136],[142,154],[142,184],[142,246],[142,346],[143,66],[143,142],[143,186],[143,238],[143,252],[143,309],[143,313],[143,360],[143,410],[143,488],[144,86],[144,96],[144,99],[144,148],[144,152],[144,259],[144,291],[144,306],[144,315],[144,432],[145,12],[145,126],[145,150],[145,176],[145,254],[145,260],[145,296],[145,299],[145,439],[146,1],[146,24],[146,139],[146,313],[146,345],[146,402],[146,457],[147,3],[147,92],[147,94],[147,117],[147,237],[147,252],[147,272],[147,289],[147,305],[147,331],[147,352],[147,355],[147,357],[147,371],[147,394],[148,43],[148,45],[148,97],[148,101],[148,131],[148,203],[148,250],[148,271],[148,401],[148,413],[148,430],[148,457],[148,459],[148,460],[148,492],[149,61],[149,103],[149,193],[149,347],[149,378],[149,397],[149,416],[150,28],[150,59],[150,115],[150,117],[150,147],[150,149],[150,235],[150,263],[150,291],[150,310],[150,413],[150,489],[151,8],[151,74],[151,132],[151,198],[151,215],[151,312],[151,321],[151,381],[151,416],[152,50],[152,126],[152,182],[152,229],[152,253],[152,389],[152,397],[152,433],[152,437],[152,453],[152,481],[152,493],[153,42],[153,56],[153,109],[153,149],[153,157],[153,390],[153,436],[153,474],[154,10],[154,39],[154,197],[154,223],[154,367],[154,392],[154,476],[154,489],[155,131],[155,219],[155,259],[155,279],[155,336],[155,357],[155,360],[155,398],[155,460],[155,463],[156,57],[156,133],[156,178],[156,208],[156,253],[156,343],[156,415],[156,496],[157,58],[157,148],[157,242],[157,299],[157,356],[157,358],[157,367],[157,456],[157,484],[158,54],[158,97],[158,100],[158,252],[158,275],[158,285],[158,311],[158,339],[158,353],[158,373],[158,445],[159,16],[159,40],[159,176],[159,310],[159,331],[159,424],[159,437],[160,31],[160,144],[160,242],[160,316],[160,317],[160,328],[160,330],[160,430],[160,458],[160,462],[160,466],[160,488],[161,3],[161,16],[161,63],[161,176],[161,238],[161,347],[161,366],[161,477],[161,491],[162,175],[162,195],[162,210],[162,469],[162,475],[162,483],[162,490],[163,4],[163,105],[163,166],[163,206],[163,405],[163,465],[164,2],[164,16],[164,27],[164,134],[164,161],[164,186],[164,222],[164,252],[164,473],[165,31],[165,101],[165,151],[165,169],[165,182],[165,268],[165,364],[165,438],[165,494],[166,143],[166,201],[166,203],[166,348],[166,392],[166,457],[167,19],[167,135],[167,148],[167,200],[167,280],[167,313],[167,368],[168,73],[168,104],[168,119],[168,152],[168,164],[168,196],[168,230],[168,235],[168,246],[168,379],[168,384],[168,431],[168,482],[169,119],[169,171],[169,196],[169,266],[169,340],[170,64],[170,74],[170,141],[170,180],[170,200],[170,262],[170,272],[170,301],[170,326],[171,0],[171,15],[171,92],[171,138],[171,150],[171,227],[171,412],[171,429],[171,438],[171,442],[171,460],[171,491],[171,498],[172,25],[172,186],[172,251],[172,269],[172,309],[172,349],[172,352],[172,449],[173,24],[173,59],[173,64],[173,87],[173,185],[173,188],[173,193],[173,196],[173,288],[173,294],[173,393],[174,100],[174,148],[174,189],[174,238],[174,274],[174,299],[174,361],[174,460],[175,44],[175,104],[175,135],[175,137],[175,144],[175,172],[175,185],[176,10],[176,35],[176,228],[176,276],[176,284],[176,344],[176,466],[176,485],[176,499],[177,20],[177,35],[177,60],[177,71],[177,132],[177,151],[177,203],[177,228],[177,260],[177,361],[177,419],[178,1],[178,79],[178,152],[178,294],[178,361],[178,414],[178,443],[178,459],[178,472],[179,49],[179,69],[179,79],[179,82],[179,105],[179,268],[179,331],[179,399],[180,105],[180,149],[180,201],[181,123],[181,150],[181,230],[181,420],[181,436],[181,457],[181,467],[181,486],[182,119],[182,130],[182,253],[182,332],[182,365],[182,499],[183,44],[183,55],[183,119],[183,292],[183,347],[183,399],[183,407],[183,408],[183,431],[183,435],[183,458],[184,1],[184,29],[184,111],[184,205],[184,289],[184,350],[184,352],[184,399],[185,35],[185,74],[185,75],[185,137],[185,157],[185,191],[185,193],[185,339],[185,360],[185,458],[186,23],[186,96],[186,140],[186,203],[186,240],[186,331],[186,413],[186,482],[186,496],[187,29],[187,156],[187,161],[187,195],[187,442],[188,146],[188,281],[188,356],[189,256],[189,415],[190,15],[190,88],[190,109],[190,131],[190,142],[190,244],[190,279],[190,291],[190,419],[190,427],[190,496],[191,28],[191,37],[191,125],[191,220],[191,253],[191,358],[191,399],[191,430],[192,14],[192,138],[192,172],[192,175],[192,203],[192,287],[192,298],[192,316],[192,461],[193,5],[193,101],[193,112],[193,179],[193,184],[193,218],[193,310],[193,405],[193,449],[194,85],[194,207],[194,347],[194,350],[194,434],[194,497],[195,78],[195,138],[195,192],[195,356],[195,357],[196,2],[196,19],[196,53],[196,70],[196,86],[196,317],[196,369],[196,396],[196,457],[196,460],[197,15],[197,84],[197,87],[197,209],[197,219],[197,352],[197,460],[197,497],[198,29],[198,60],[198,72],[198,83],[198,181],[198,310],[198,374],[198,447],[198,461],[198,469],[198,499],[199,34],[199,49],[199,75],[199,76],[199,351],[199,406],[199,442],[199,462],[200,4],[200,45],[200,64],[200,221],[200,246],[200,306],[200,307],[200,309],[200,375],[200,467],[201,9],[201,23],[201,58],[201,239],[201,242],[201,302],[201,349],[202,45],[202,62],[202,74],[202,135],[202,164],[202,169],[202,171],[202,322],[202,407],[202,417],[202,445],[202,460],[203,0],[203,63],[203,67],[203,91],[203,110],[203,114],[203,202],[203,269],[203,290],[203,425],[203,470],[204,43],[204,123],[204,204],[204,247],[204,257],[204,329],[204,342],[204,343],[204,345],[204,373],[204,390],[204,407],[204,496],[205,23],[205,65],[205,67],[205,126],[205,195],[205,319],[205,423],[205,438],[205,455],[206,110],[206,125],[206,195],[206,210],[206,246],[206,322],[207,7],[207,104],[207,137],[207,147],[207,297],[207,392],[207,410],[208,35],[208,55],[208,107],[208,132],[208,161],[208,212],[208,232],[208,257],[208,282],[208,342],[208,400],[208,409],[208,455],[208,475],[208,491],[209,70],[209,134],[209,155],[209,254],[209,396],[210,10],[210,120],[210,167],[210,334],[210,399],[210,422],[210,475],[211,39],[211,178],[211,194],[211,260],[211,310],[211,415],[211,446],[212,26],[212,33],[212,101],[212,113],[212,118],[212,176],[212,194],[212,217],[212,294],[212,329],[212,348],[212,357],[213,159],[213,374],[213,447],[213,448],[214,20],[214,57],[214,58],[214,170],[214,186],[214,198],[214,299],[214,350],[214,380],[215,0],[215,43],[215,78],[215,79],[215,119],[215,136],[215,211],[215,316],[215,446],[215,448],[215,468],[215,476],[215,495],[216,24],[216,158],[216,287],[216,288],[216,297],[216,396],[216,406],[216,411],[216,452],[216,464],[216,479],[217,11],[217,32],[217,37],[217,150],[217,176],[217,387],[217,407],[217,483],[218,47],[218,73],[218,215],[218,323],[218,330],[218,345],[218,421],[218,486],[219,294],[219,305],[219,490],[220,26],[220,38],[220,184],[220,267],[220,337],[220,347],[220,360],[221,6],[221,27],[221,33],[221,82],[221,214],[221,222],[221,239],[221,284],[221,473],[222,2],[222,53],[222,65],[222,87],[222,91],[222,171],[222,221],[222,240],[222,309],[222,484],[223,38],[223,46],[223,109],[223,118],[223,158],[223,268],[223,275],[223,475],[224,1],[224,66],[224,208],[224,231],[224,306],[224,309],[224,329],[224,429],[224,463],[224,494],[225,50],[225,222],[225,241],[225,282],[225,313],[225,323],[226,173],[226,227],[226,250],[226,288],[226,364],[226,386],[226,405],[226,443],[226,468],[227,58],[227,151],[227,165],[227,211],[227,217],[227,218],[227,236],[227,243],[227,347],[227,360],[227,376],[227,377],[227,438],[227,461],[228,36],[228,101],[228,388],[228,471],[229,10],[229,19],[229,55],[229,89],[229,157],[229,229],[229,475],[229,478],[230,102],[230,425],[230,427],[230,434],[230,468],[231,57],[231,73],[231,99],[231,101],[231,149],[231,169],[231,201],[231,209],[231,254],[231,361],[232,95],[232,160],[232,170],[232,191],[232,193],[232,273],[232,294],[232,364],[232,389],[232,399],[233,383],[233,408],[233,423],[234,67],[234,81],[234,183],[234,221],[234,228],[234,304],[234,336],[235,67],[235,69],[235,75],[235,211],[235,351],[235,359],[235,397],[235,444],[235,486],[236,13],[236,71],[236,114],[236,116],[236,131],[236,133],[236,157],[236,192],[236,228],[236,290],[236,466],[237,48],[237,71],[237,94],[237,188],[237,259],[237,308],[237,389],[237,407],[237,419],[237,467],[238,7],[238,12],[238,32],[238,86],[238,284],[238,307],[238,360],[238,369],[238,426],[238,462],[239,47],[239,161],[239,256],[239,360],[239,376],[239,421],[239,424],[239,428],[239,440],[239,481],[240,100],[240,106],[240,134],[240,308],[240,351],[240,446],[240,498],[241,213],[241,343],[241,344],[241,432],[242,90],[242,119],[242,151],[242,228],[242,464],[242,483],[243,21],[243,73],[243,96],[243,109],[243,118],[243,138],[243,150],[243,185],[243,322],[243,438],[244,13],[244,28],[244,61],[244,152],[244,162],[244,166],[244,341],[244,439],[245,16],[245,67],[245,108],[245,123],[245,168],[245,176],[245,182],[245,238],[245,308],[245,337],[245,398],[245,452],[245,493],[246,31],[246,50],[246,60],[246,83],[246,150],[246,165],[246,166],[246,190],[246,211],[246,349],[246,370],[246,393],[246,425],[246,462],[247,52],[247,96],[247,166],[247,191],[247,219],[247,325],[247,340],[247,445],[247,453],[248,26],[248,27],[248,103],[248,178],[248,239],[248,321],[248,327],[248,393],[248,414],[248,463],[248,473],[248,490],[249,53],[249,76],[249,107],[249,159],[249,189],[249,195],[249,277],[249,340],[249,416],[249,427],[249,455],[250,13],[250,45],[250,75],[250,115],[250,148],[250,213],[250,228],[250,294],[250,386],[250,389],[250,414],[250,471],[250,493],[251,48],[251,69],[251,125],[251,132],[251,176],[251,179],[251,271],[251,286],[251,366],[251,428],[251,455],[251,480],[251,485],[251,489],[252,68],[252,74],[252,269],[252,290],[252,320],[252,400],[252,459],[253,30],[253,156],[253,171],[253,235],[253,332],[253,416],[254,138],[254,162],[254,312],[254,319],[254,354],[254,380],[254,426],[254,433],[254,462],[255,0],[255,6],[255,108],[255,130],[255,145],[255,212],[255,216],[255,257],[255,374],[255,424],[255,448],[256,5],[256,59],[256,166],[256,196],[256,230],[256,263],[256,270],[256,297],[256,303],[256,330],[256,395],[256,472],[257,9],[257,16],[257,117],[257,134],[257,184],[257,226],[257,292],[257,326],[257,348],[257,375],[257,409],[257,491],[258,14],[258,172],[258,226],[258,230],[258,243],[258,375],[258,392],[258,420],[258,491],[259,34],[259,54],[259,96],[259,111],[259,117],[259,143],[259,162],[259,194],[259,199],[259,216],[259,349],[259,386],[259,459],[259,491],[260,28],[260,56],[260,281],[260,318],[260,321],[260,375],[260,378],[260,450],[261,37],[261,99],[261,128],[261,177],[261,270],[261,327],[261,337],[261,447],[261,472],[262,14],[262,35],[262,86],[262,104],[262,184],[262,244],[262,268],[262,398],[262,422],[263,206],[263,386],[263,414],[263,475],[263,481],[264,2],[264,90],[264,125],[264,173],[264,217],[264,336],[264,344],[264,439],[264,499],[265,3],[265,39],[265,165],[265,290],[265,301],[265,307],[265,355],[265,386],[265,468],[266,88],[266,136],[266,151],[266,208],[266,283],[266,350],[266,352],[266,363],[266,371],[266,383],[266,421],[267,82],[267,239],[267,284],[267,307],[267,349],[267,374],[267,401],[267,441],[267,496],[268,79],[268,88],[268,134],[268,167],[268,336],[268,346],[268,395],[268,417],[269,83],[269,125],[269,248],[269,272],[269,348],[269,418],[269,476],[270,45],[270,155],[270,323],[270,341],[270,391],[270,430],[270,446],[270,464],[271,146],[271,147],[271,255],[271,262],[271,271],[271,313],[271,445],[272,41],[272,71],[272,78],[272,171],[272,395],[272,399],[272,425],[272,437],[272,484],[272,485],[272,493],[273,0],[273,139],[273,145],[273,267],[273,312],[273,444],[273,461],[274,16],[274,40],[274,84],[274,193],[274,265],[274,310],[274,416],[274,419],[274,459],[275,18],[275,23],[275,117],[275,191],[275,228],[275,277],[275,281],[275,305],[275,402],[275,411],[275,433],[276,1],[276,22],[276,53],[276,173],[276,287],[276,378],[276,427],[276,454],[276,499],[277,15],[277,17],[277,41],[277,49],[277,67],[277,209],[277,237],[277,246],[277,314],[277,353],[277,365],[277,366],[277,378],[277,433],[277,491],[277,492],[278,6],[278,32],[278,72],[278,89],[278,155],[278,277],[278,296],[278,321],[278,348],[278,487],[278,488],[279,44],[279,87],[279,227],[279,327],[279,346],[279,358],[279,415],[279,422],[279,438],[279,459],[279,466],[280,63],[280,66],[280,112],[280,134],[280,161],[280,187],[280,196],[280,198],[280,206],[280,388],[280,398],[280,469],[280,491],[281,87],[281,226],[281,227],[281,245],[281,356],[282,20],[282,44],[282,47],[282,115],[282,151],[282,226],[282,241],[282,253],[282,276],[282,355],[282,356],[282,400],[283,12],[283,194],[283,211],[283,239],[283,251],[283,270],[283,277],[283,323],[283,340],[283,344],[283,389],[283,399],[283,430],[284,100],[284,104],[284,276],[284,280],[284,317],[284,333],[284,441],[284,453],[285,74],[285,97],[285,146],[285,194],[285,205],[285,212],[285,244],[285,304],[285,346],[285,373],[285,385],[286,55],[286,123],[286,340],[286,346],[286,423],[286,428],[286,457],[286,462],[286,464],[286,469],[287,161],[287,168],[287,330],[287,408],[288,177],[288,196],[288,260],[288,266],[288,292],[288,325],[288,385],[288,453],[288,458],[288,467],[289,70],[289,93],[289,122],[289,192],[289,201],[289,227],[289,230],[289,299],[289,367],[289,479],[290,31],[290,273],[290,282],[290,315],[290,350],[290,367],[290,430],[290,437],[290,438],[290,460],[291,11],[291,30],[291,90],[291,118],[291,156],[291,205],[291,271],[291,285],[291,331],[291,353],[291,439],[292,17],[292,55],[292,118],[292,226],[292,276],[292,322],[292,384],[293,17],[293,132],[293,180],[293,198],[293,201],[293,226],[293,257],[293,258],[293,275],[293,430],[293,435],[293,452],[293,495],[294,58],[294,198],[294,206],[294,270],[294,309],[294,434],[295,144],[295,175],[295,274],[295,311],[295,327],[295,437],[296,16],[296,83],[296,123],[296,183],[296,214],[296,272],[296,296],[296,304],[296,315],[296,328],[296,345],[297,9],[297,70],[297,121],[297,127],[297,131],[297,137],[297,157],[297,213],[297,445],[297,473],[298,3],[298,40],[298,45],[298,121],[298,251],[298,260],[298,278],[298,290],[298,296],[298,310],[298,333],[298,368],[299,26],[299,109],[299,130],[299,225],[299,254],[299,268],[299,358],[299,366],[299,394],[299,426],[299,498],[300,12],[300,13],[300,36],[300,196],[300,262],[300,308],[300,309],[300,463],[300,483],[300,498],[301,3],[301,49],[301,62],[301,80],[301,119],[301,152],[301,249],[301,267],[301,331],[301,342],[301,375],[301,417],[302,9],[302,41],[302,87],[302,144],[302,227],[302,234],[302,251],[302,258],[302,429],[302,446],[302,458],[302,491],[302,496],[303,1],[303,14],[303,52],[303,66],[303,231],[303,271],[303,356],[303,473],[304,77],[304,105],[304,115],[304,176],[304,277],[304,369],[304,372],[304,388],[304,398],[304,403],[304,489],[305,127],[305,155],[305,256],[305,341],[305,457],[306,67],[306,122],[306,124],[306,162],[306,269],[306,283],[306,295],[306,307],[306,470],[307,216],[307,300],[307,407],[307,450],[308,113],[308,130],[308,134],[308,243],[308,264],[308,277],[308,281],[308,412],[309,17],[309,35],[309,70],[309,160],[309,215],[309,227],[309,306],[309,336],[309,419],[309,476],[309,485],[310,49],[310,120],[310,174],[310,235],[310,323],[310,335],[310,366],[310,368],[310,383],[310,400],[310,460],[310,478],[310,491],[311,32],[311,113],[311,168],[311,205],[311,214],[311,397],[311,425],[311,449],[311,466],[311,468],[312,43],[312,120],[312,203],[312,313],[312,326],[312,405],[312,439],[313,54],[313,154],[313,170],[313,321],[313,328],[313,368],[313,433],[314,86],[314,232],[314,343],[314,378],[314,381],[314,434],[314,462],[314,493],[315,67],[315,331],[315,342],[315,494],[316,10],[316,121],[316,212],[316,262],[316,293],[316,365],[316,434],[316,485],[316,489],[317,44],[317,114],[317,124],[317,152],[317,222],[317,355],[317,479],[318,70],[318,82],[318,173],[318,226],[318,279],[318,346],[318,360],[319,15],[319,24],[319,26],[319,90],[319,123],[319,133],[319,173],[319,208],[319,209],[319,222],[319,237],[319,241],[319,298],[319,315],[320,47],[320,120],[320,254],[320,278],[320,284],[320,304],[320,326],[320,419],[320,426],[320,485],[321,16],[321,33],[321,49],[321,73],[321,114],[321,215],[321,230],[321,294],[321,320],[321,326],[321,450],[321,466],[321,496],[322,134],[322,281],[322,361],[322,456],[322,471],[323,79],[323,117],[323,119],[323,159],[323,234],[323,353],[323,431],[324,20],[324,21],[324,43],[324,108],[324,179],[324,189],[324,401],[324,446],[325,54],[325,246],[325,293],[325,360],[326,47],[326,74],[326,136],[326,154],[326,408],[326,432],[326,446],[327,36],[327,61],[327,90],[327,108],[327,182],[327,202],[327,284],[327,307],[327,348],[327,499],[328,3],[328,76],[328,116],[328,155],[328,186],[328,338],[328,341],[328,397],[328,432],[329,159],[329,177],[329,284],[329,469],[330,31],[330,36],[330,58],[330,64],[330,72],[330,83],[330,87],[330,94],[330,146],[330,162],[330,209],[330,213],[330,230],[330,256],[330,257],[331,16],[331,73],[331,88],[331,257],[331,267],[331,387],[331,439],[332,19],[332,126],[332,146],[332,190],[332,208],[332,210],[332,318],[332,321],[332,336],[332,407],[333,2],[333,21],[333,115],[333,139],[333,166],[333,168],[333,213],[333,280],[333,360],[333,399],[333,427],[334,6],[334,10],[334,164],[334,166],[334,242],[334,254],[334,331],[334,363],[334,458],[335,3],[335,43],[335,51],[335,75],[335,95],[335,143],[335,170],[335,210],[336,10],[336,97],[336,120],[336,132],[336,215],[336,288],[336,318],[336,396],[336,419],[337,58],[337,112],[337,163],[337,238],[337,276],[337,312],[337,400],[337,439],[337,441],[338,43],[338,56],[338,217],[338,222],[338,245],[338,272],[338,296],[338,447],[339,65],[339,67],[339,93],[339,183],[339,267],[339,345],[339,360],[339,454],[340,16],[340,24],[340,30],[340,258],[340,293],[340,299],[340,301],[340,318],[340,402],[341,63],[341,83],[341,194],[341,205],[341,234],[341,273],[341,303],[341,332],[341,454],[341,461],[341,469],[341,482],[341,488],[342,175],[342,203],[342,329],[342,355],[342,366],[342,387],[342,441],[342,497],[343,49],[343,265],[343,271],[343,311],[343,354],[343,362],[343,387],[343,401],[344,7],[344,72],[344,76],[344,106],[344,112],[344,159],[344,173],[344,218],[344,274],[344,288],[344,383],[344,384],[344,387],[344,470],[344,485],[345,238],[345,304],[345,352],[346,66],[346,95],[346,218],[346,439],[346,474],[346,484],[347,62],[347,121],[347,324],[347,361],[347,402],[347,431],[347,458],[348,65],[348,343],[348,368],[348,425],[348,432],[348,485],[349,8],[349,155],[349,461],[349,480],[350,94],[350,400],[350,449],[350,499],[351,76],[351,122],[351,204],[351,215],[351,225],[351,348],[351,435],[352,3],[352,17],[352,70],[352,138],[352,377],[352,413],[352,427],[352,450],[352,487],[353,40],[353,60],[353,67],[353,231],[353,259],[353,265],[353,294],[353,300],[353,326],[353,336],[353,341],[353,405],[353,474],[353,480],[354,52],[354,225],[354,295],[354,368],[354,395],[355,375],[355,393],[355,396],[355,427],[355,430],[356,215],[356,243],[356,337],[356,344],[356,387],[356,430],[357,48],[357,172],[357,219],[357,262],[357,267],[357,332],[357,454],[358,21],[358,111],[358,137],[358,221],[358,280],[358,281],[358,318],[358,388],[358,444],[359,142],[359,189],[359,289],[359,317],[359,343],[359,382],[360,71],[360,82],[360,206],[360,229],[360,294],[360,313],[360,320],[360,365],[360,396],[360,400],[360,406],[360,443],[360,462],[361,66],[361,74],[361,78],[361,210],[361,219],[361,220],[361,226],[361,238],[361,247],[361,325],[361,352],[361,435],[362,44],[362,142],[362,185],[362,250],[362,298],[362,313],[362,411],[362,479],[362,499],[363,35],[363,72],[363,167],[363,175],[363,200],[363,222],[363,239],[363,262],[363,299],[363,399],[363,411],[363,433],[363,477],[363,490],[364,50],[364,66],[364,96],[364,166],[364,362],[364,458],[365,1],[365,9],[365,28],[365,169],[365,185],[365,323],[365,349],[365,374],[365,425],[365,448],[366,37],[366,76],[366,258],[366,315],[366,354],[366,367],[366,448],[367,92],[367,160],[367,193],[367,269],[367,298],[367,339],[367,363],[367,466],[368,3],[368,21],[368,98],[368,184],[368,208],[368,333],[368,396],[368,455],[368,456],[369,23],[369,88],[369,150],[369,168],[369,399],[369,416],[369,438],[369,461],[370,58],[370,119],[370,242],[370,253],[370,341],[370,349],[370,415],[370,476],[371,41],[371,147],[371,215],[371,243],[371,414],[371,480],[372,49],[372,74],[372,87],[372,111],[372,136],[372,199],[372,203],[372,208],[372,234],[372,281],[373,2],[373,55],[373,178],[373,212],[373,339],[374,27],[374,80],[374,83],[374,139],[374,230],[374,337],[374,449],[374,486],[375,21],[375,131],[375,132],[375,237],[375,271],[375,343],[375,347],[375,357],[376,71],[376,92],[376,103],[376,112],[376,140],[376,142],[376,156],[376,229],[376,473],[377,46],[377,102],[377,105],[377,131],[377,133],[377,182],[377,244],[377,279],[377,366],[377,393],[377,479],[378,47],[378,87],[378,159],[378,189],[378,204],[378,261],[378,302],[378,333],[378,390],[378,409],[378,415],[379,14],[379,185],[379,248],[379,274],[379,336],[379,339],[379,359],[379,465],[379,478],[380,45],[380,112],[380,123],[380,124],[380,234],[380,236],[380,295],[380,317],[380,343],[380,372],[380,374],[380,376],[381,208],[381,242],[381,263],[381,304],[381,335],[381,392],[381,422],[381,425],[381,426],[382,16],[382,24],[382,117],[382,290],[382,313],[382,395],[382,413],[382,484],[383,78],[383,117],[383,136],[383,146],[383,263],[383,318],[383,357],[383,397],[383,404],[384,1],[384,91],[384,126],[384,142],[384,153],[384,232],[384,307],[384,331],[384,343],[384,386],[385,18],[385,140],[385,186],[385,231],[385,253],[385,281],[385,307],[385,339],[385,404],[385,409],[385,425],[385,426],[385,440],[385,459],[386,13],[386,67],[386,120],[386,123],[386,175],[386,181],[386,190],[386,270],[386,283],[386,330],[386,353],[386,359],[386,392],[386,410],[386,420],[386,423],[386,464],[387,9],[387,47],[387,50],[387,83],[387,118],[387,121],[387,168],[387,222],[387,287],[387,290],[387,303],[387,368],[387,410],[387,458],[387,483],[388,47],[388,140],[388,179],[388,248],[388,311],[388,385],[388,431],[388,433],[389,15],[389,208],[389,214],[389,282],[389,316],[389,325],[389,429],[390,10],[390,43],[390,117],[390,155],[390,175],[390,251],[390,334],[390,383],[391,37],[391,145],[391,161],[391,162],[391,180],[391,282],[391,398],[391,428],[391,456],[392,19],[392,33],[392,94],[392,100],[392,113],[392,152],[392,159],[392,172],[392,196],[392,210],[392,248],[392,250],[392,256],[392,277],[392,286],[392,294],[392,498],[393,120],[393,166],[393,218],[393,295],[393,302],[393,419],[394,16],[394,56],[394,274],[394,411],[394,415],[394,424],[394,461],[395,345],[395,347],[395,415],[395,498],[396,25],[396,42],[396,44],[396,131],[396,136],[396,251],[396,281],[396,308],[396,336],[396,361],[396,371],[396,376],[396,428],[397,2],[397,24],[397,35],[397,62],[397,199],[397,217],[397,245],[397,324],[397,383],[398,6],[398,77],[398,126],[398,147],[398,224],[398,265],[398,299],[398,305],[398,391],[398,427],[398,454],[398,475],[398,485],[398,499],[399,22],[399,77],[399,81],[399,175],[399,179],[399,342],[399,350],[399,376],[399,422],[399,442],[399,453],[400,25],[400,44],[400,234],[400,240],[400,318],[400,476],[401,81],[401,108],[401,111],[401,126],[401,131],[401,404],[402,180],[402,200],[402,216],[402,413],[402,499],[403,6],[403,38],[403,99],[403,293],[403,387],[403,437],[404,252],[404,288],[404,355],[404,360],[404,398],[404,425],[404,452],[404,471],[405,51],[405,143],[405,148],[405,155],[405,173],[405,203],[405,300],[405,448],[405,481],[406,17],[406,28],[406,140],[406,167],[406,229],[406,297],[406,305],[406,332],[406,393],[406,445],[406,453],[406,464],[407,31],[407,42],[407,46],[407,72],[407,93],[407,125],[407,141],[407,423],[408,39],[408,116],[408,151],[408,184],[408,251],[408,276],[408,330],[408,356],[408,372],[408,375],[408,423],[408,447],[409,6],[409,8],[409,20],[409,32],[409,55],[409,77],[409,91],[409,134],[409,155],[409,193],[409,229],[409,241],[409,243],[409,312],[409,313],[409,330],[409,404],[410,114],[410,260],[410,265],[410,371],[410,435],[410,437],[411,15],[411,31],[411,80],[411,92],[411,108],[411,110],[411,153],[411,210],[411,221],[411,243],[411,338],[411,361],[411,477],[412,58],[412,71],[412,118],[412,127],[412,138],[412,192],[412,216],[412,281],[412,396],[412,470],[412,472],[412,480],[413,59],[413,74],[413,111],[413,194],[413,253],[413,359],[413,426],[413,437],[413,440],[414,143],[414,288],[414,329],[414,370],[414,402],[414,456],[415,336],[416,192],[416,380],[416,406],[416,442],[417,25],[417,147],[417,186],[417,239],[417,240],[417,249],[417,264],[417,269],[417,278],[417,280],[417,311],[417,369],[417,389],[418,176],[418,179],[418,186],[418,298],[418,303],[418,324],[418,361],[418,420],[418,447],[419,77],[419,83],[419,198],[419,322],[419,387],[419,409],[419,413],[419,451],[420,28],[420,62],[420,67],[420,141],[420,150],[420,162],[420,187],[420,302],[420,374],[420,382],[420,411],[420,413],[420,481],[420,496],[421,194],[421,219],[421,305],[421,317],[421,337],[421,361],[421,362],[421,401],[421,483],[422,220],[422,358],[422,476],[423,88],[423,105],[423,175],[423,417],[423,433],[423,460],[424,20],[424,42],[424,47],[424,149],[424,169],[424,209],[424,245],[424,258],[424,286],[425,187],[425,348],[425,375],[426,50],[426,212],[426,258],[426,281],[426,301],[426,317],[426,352],[426,358],[426,391],[426,402],[426,403],[426,420],[426,479],[427,47],[427,179],[427,182],[427,254],[427,388],[427,472],[428,171],[428,299],[428,311],[428,442],[428,478],[429,14],[429,42],[429,55],[429,95],[429,121],[429,329],[429,332],[429,334],[429,432],[429,449],[430,5],[430,310],[430,362],[430,380],[430,480],[430,482],[431,0],[431,4],[431,80],[431,94],[431,219],[431,369],[431,390],[431,468],[431,470],[432,31],[432,138],[432,157],[432,167],[432,197],[432,204],[432,234],[432,337],[432,338],[432,407],[432,435],[433,53],[433,102],[433,138],[433,139],[433,249],[433,270],[433,284],[433,285],[433,296],[433,393],[433,468],[434,44],[434,136],[434,138],[434,140],[434,165],[434,170],[434,197],[434,203],[434,224],[434,231],[434,259],[434,270],[434,287],[434,313],[434,320],[435,8],[435,37],[435,51],[435,131],[435,182],[435,222],[435,278],[435,326],[435,340],[435,358],[435,387],[435,459],[436,163],[436,167],[436,233],[436,250],[436,274],[436,309],[436,408],[436,441],[436,476],[436,485],[436,489],[437,10],[437,94],[437,107],[437,330],[437,348],[437,371],[437,479],[437,483],[438,31],[438,125],[438,203],[438,292],[438,338],[438,365],[438,396],[438,409],[438,431],[438,443],[438,452],[439,16],[439,80],[439,110],[439,130],[439,341],[439,343],[439,366],[439,388],[439,426],[439,449],[439,480],[439,488],[439,499],[440,47],[440,168],[440,219],[440,279],[440,347],[440,374],[440,437],[441,42],[441,154],[441,155],[441,185],[441,225],[441,319],[441,354],[441,361],[441,410],[441,447],[441,477],[442,40],[442,56],[442,101],[442,117],[442,125],[442,247],[442,251],[442,275],[442,307],[442,313],[442,350],[442,360],[442,382],[442,430],[442,438],[442,478],[443,25],[443,56],[443,164],[443,184],[443,187],[443,214],[443,256],[443,267],[443,323],[443,346],[444,49],[444,52],[444,61],[444,95],[444,160],[444,214],[444,278],[444,430],[444,450],[444,477],[445,7],[445,57],[445,142],[445,183],[445,219],[445,305],[445,369],[445,416],[445,436],[445,449],[445,465],[446,0],[446,98],[446,156],[446,196],[446,268],[446,426],[446,434],[446,477],[447,53],[447,100],[447,121],[447,132],[447,183],[447,397],[447,421],[448,27],[448,90],[448,94],[448,162],[448,301],[448,365],[448,369],[448,469],[449,22],[449,63],[449,79],[449,102],[449,110],[449,135],[449,156],[449,189],[449,276],[449,371],[449,415],[449,439],[449,464],[450,96],[450,222],[450,330],[450,417],[450,430],[450,469],[451,30],[451,76],[451,127],[451,344],[451,389],[451,456],[451,497],[452,25],[452,26],[452,101],[452,107],[452,124],[452,144],[452,193],[452,309],[452,321],[452,406],[452,429],[452,436],[452,480],[453,16],[453,33],[453,102],[453,220],[453,298],[453,315],[453,439],[453,449],[453,453],[453,498],[454,3],[454,63],[454,197],[454,232],[454,259],[454,287],[454,288],[454,304],[454,469],[454,470],[454,488],[455,16],[455,113],[455,128],[455,137],[455,213],[455,252],[455,288],[455,341],[455,424],[455,494],[456,18],[456,43],[456,59],[456,73],[456,102],[456,129],[456,170],[456,252],[456,253],[456,345],[456,369],[456,441],[456,482],[457,119],[457,206],[457,220],[457,266],[457,278],[457,375],[457,392],[457,405],[457,409],[457,428],[457,432],[458,23],[458,27],[458,49],[458,55],[458,144],[458,153],[458,173],[458,218],[458,263],[458,264],[458,296],[459,20],[459,22],[459,28],[459,34],[459,89],[459,131],[459,422],[460,34],[460,72],[460,134],[460,241],[460,310],[460,332],[460,361],[460,386],[460,433],[460,438],[460,495],[461,48],[461,92],[461,100],[461,143],[461,161],[461,222],[461,229],[461,319],[461,341],[461,397],[461,453],[462,75],[462,93],[462,293],[462,313],[462,363],[462,405],[463,18],[463,55],[463,62],[463,75],[463,98],[463,328],[463,372],[463,434],[463,477],[464,54],[464,172],[464,202],[464,208],[464,364],[465,2],[465,20],[465,142],[465,176],[465,191],[465,288],[465,359],[466,143],[466,173],[466,209],[466,261],[466,328],[466,347],[466,368],[466,442],[467,80],[467,109],[467,179],[467,330],[467,339],[467,355],[467,394],[467,487],[468,47],[468,156],[468,214],[468,245],[468,377],[468,378],[468,415],[468,427],[469,71],[469,106],[469,194],[469,279],[470,42],[470,83],[470,215],[470,252],[470,282],[470,309],[470,439],[470,474],[471,40],[471,121],[471,163],[471,190],[471,203],[471,222],[471,339],[471,344],[471,363],[471,365],[471,404],[471,416],[472,9],[472,35],[472,87],[472,97],[472,107],[472,113],[472,116],[472,137],[472,140],[472,141],[472,164],[472,178],[472,185],[472,283],[472,288],[472,292],[472,357],[472,371],[472,372],[472,390],[472,440],[473,143],[473,210],[473,242],[473,352],[473,358],[473,362],[473,375],[473,432],[473,433],[474,41],[474,74],[474,158],[474,198],[474,319],[474,338],[474,419],[475,73],[475,309],[475,319],[475,401],[475,471],[475,487],[475,491],[476,41],[476,61],[476,82],[476,96],[476,108],[476,181],[476,213],[476,294],[476,367],[476,370],[476,404],[476,416],[476,484],[476,493],[477,52],[477,83],[477,235],[477,453],[477,480],[478,14],[478,46],[478,67],[478,162],[478,216],[478,270],[478,282],[478,283],[478,329],[478,362],[479,88],[479,230],[479,236],[479,432],[480,87],[480,203],[480,228],[480,263],[480,285],[480,373],[480,384],[480,388],[480,401],[480,456],[480,488],[481,17],[481,50],[481,95],[481,142],[481,201],[481,252],[481,294],[481,298],[481,301],[481,376],[481,414],[481,449],[481,461],[482,160],[482,162],[482,176],[482,190],[482,196],[482,287],[482,299],[482,399],[482,418],[483,4],[483,21],[483,33],[483,111],[483,156],[483,325],[483,351],[483,456],[484,5],[484,23],[484,40],[484,53],[484,98],[484,110],[484,118],[484,123],[484,149],[484,205],[484,224],[484,244],[484,373],[484,412],[484,417],[484,436],[484,458],[485,94],[485,145],[485,240],[485,281],[485,368],[485,406],[485,439],[486,66],[486,143],[486,172],[486,215],[486,285],[486,312],[486,380],[486,469],[487,101],[487,134],[487,240],[487,284],[487,300],[487,340],[487,346],[487,481],[488,228],[488,340],[488,454],[489,30],[489,51],[489,66],[489,87],[489,103],[489,308],[489,327],[489,382],[489,418],[489,424],[489,427],[489,471],[490,24],[490,74],[490,209],[490,303],[490,338],[490,459],[491,23],[491,74],[491,164],[491,178],[491,227],[491,246],[491,254],[491,382],[491,410],[492,15],[492,34],[492,89],[492,118],[492,174],[492,313],[492,330],[492,340],[492,369],[492,447],[492,457],[493,78],[493,97],[493,112],[493,157],[493,229],[493,284],[493,301],[493,404],[493,440],[494,53],[494,62],[494,168],[494,296],[494,333],[494,390],[494,410],[495,3],[495,171],[495,206],[495,284],[495,339],[495,350],[495,404],[495,419],[495,425],[495,457],[496,33],[496,90],[496,277],[496,348],[496,395],[496,403],[496,408],[496,447],[496,488],[496,496],[497,50],[497,110],[497,116],[497,197],[497,222],[497,272],[497,320],[497,324],[497,392],[497,480],[498,32],[498,88],[498,163],[498,167],[498,254],[498,262],[498,297],[499,30],[499,76],[499,194],[499,226],[499,329],[499,382],[499,436]]\n",
    "%time orderOfLargestPlusSign(n, mines)"
   ]
  },
  {
   "cell_type": "code",
   "execution_count": null,
   "id": "cff29e40",
   "metadata": {},
   "outputs": [],
   "source": [
    "dp = [[0] * 5 for x in range(5)]\n",
    "dp"
   ]
  },
  {
   "cell_type": "markdown",
   "id": "e9fbcea4",
   "metadata": {},
   "source": [
    "### 20210910<a id='14'></a>\n",
    "<strong>14. Longest Common Prefix</strong>\n",
    "\n",
    "Write a function to find the longest common prefix string amongst an array of strings.\n",
    "    \n",
    "If there is no common prefix, return an empty string \"\"."
   ]
  },
  {
   "cell_type": "code",
   "execution_count": null,
   "id": "8bd95e97",
   "metadata": {},
   "outputs": [],
   "source": [
    "def longestCommonPrefix(strs):\n",
    "    ans = strs[0]\n",
    "        \n",
    "    if len(strs) == 1:\n",
    "        return ans\n",
    "        \n",
    "    for i in range(1, len(strs)):\n",
    "        temp = ''\n",
    "        for j in range(0, min(len(strs[i]),len(ans))):\n",
    "            if ans[j] == strs[i][j]:\n",
    "                temp += strs[i][j]\n",
    "            else:\n",
    "                break\n",
    "        ans = temp\n",
    "        if len(ans) == 0:\n",
    "            break\n",
    "        else:\n",
    "            continue\n",
    "    return ans"
   ]
  },
  {
   "cell_type": "code",
   "execution_count": null,
   "id": "139bee67",
   "metadata": {},
   "outputs": [],
   "source": [
    "strs = [\"flower\",\"flow\",\"flight\"]\n",
    "longestCommonPrefix(strs)"
   ]
  },
  {
   "cell_type": "code",
   "execution_count": null,
   "id": "78f8a73a",
   "metadata": {},
   "outputs": [],
   "source": [
    "strs = [\"cir\",\"car\"]\n",
    "longestCommonPrefix(strs)"
   ]
  },
  {
   "cell_type": "markdown",
   "id": "21b37bd7",
   "metadata": {},
   "source": [
    "### 20210910<a id='15'></a>\n",
    "<strong>15. 3Sum</strong>\n",
    "\n",
    "Given an integer array nums, return all the triplets [nums[i], nums[j], nums[k]] such that i != j, i != k, and j != k, and nums[i] + nums[j] + nums[k] == 0.\n",
    "\n",
    "Notice that the solution set must not contain duplicate triplets."
   ]
  },
  {
   "cell_type": "code",
   "execution_count": null,
   "id": "86f0ae0b",
   "metadata": {},
   "outputs": [],
   "source": [
    "#too slow\n",
    "def threeSum(nums):\n",
    "    ans = []\n",
    "    \n",
    "    for i in range(len(nums)):\n",
    "        target = - nums[i]\n",
    "        past = []\n",
    "        for j in range(i+1, len(nums)):\n",
    "            cur = nums[j]\n",
    "            if target - nums[j] in past:\n",
    "                if set([nums[i], nums[j], target - nums[j]]) not in [set(a) for a in ans]:\n",
    "                    ans.append([nums[i], nums[j], target - nums[j]])\n",
    "            past.append(nums[j])\n",
    "            \n",
    "    return ans"
   ]
  },
  {
   "cell_type": "code",
   "execution_count": null,
   "id": "8c749731",
   "metadata": {},
   "outputs": [],
   "source": [
    "#too slow\n",
    "#sort+hashtable\n",
    "def threeSum(nums):\n",
    "    sort_nums = sorted(nums)\n",
    "    ans = []\n",
    "    \n",
    "    for i in range(len(sort_nums)):\n",
    "        if i != 0 and sort_nums[i] == sort_nums[i-1]:\n",
    "            continue\n",
    "        \n",
    "        target = - sort_nums[i]\n",
    "        past = []\n",
    "        \n",
    "        for j in range(i+1, len(sort_nums)):\n",
    "            if j > i+2 and sort_nums[j] == sort_nums[j-1] and sort_nums[j] == sort_nums[j-2]:\n",
    "                continue\n",
    "            \n",
    "            cur = sort_nums[j]\n",
    "            if target - sort_nums[j] in past:\n",
    "                ans.append([sort_nums[i], sort_nums[j], target - sort_nums[j]])\n",
    "            past.append(sort_nums[j])\n",
    "    \n",
    "    return ans"
   ]
  },
  {
   "cell_type": "code",
   "execution_count": null,
   "id": "408bad33",
   "metadata": {},
   "outputs": [],
   "source": [
    "#sort+hashtable\n",
    "def threeSum(nums):\n",
    "    sort_nums = sorted(nums)\n",
    "    ans = []\n",
    "    \n",
    "    for i in range(len(sort_nums)):\n",
    "        if i != 0 and sort_nums[i] == sort_nums[i-1]:\n",
    "            continue\n",
    "        \n",
    "        target = - sort_nums[i]   \n",
    "        j = i + 1\n",
    "        k = len(sort_nums) - 1\n",
    "        \n",
    "        while j < k:\n",
    "            if sort_nums[j] + sort_nums[k] == target:\n",
    "                ans.append([sort_nums[i], sort_nums[j], sort_nums[k]])\n",
    "                j += 1\n",
    "                while j < k and sort_nums[j] == sort_nums[j-1]:\n",
    "                    j += 1\n",
    "            elif sort_nums[j] + sort_nums[k] > target:\n",
    "                k -= 1\n",
    "            else:\n",
    "                j += 1\n",
    "    \n",
    "    return ans"
   ]
  },
  {
   "cell_type": "code",
   "execution_count": null,
   "id": "0ce1ed76",
   "metadata": {},
   "outputs": [],
   "source": [
    "nums = [-1,0,1,2,-1,-4,0,0]\n",
    "threeSum(nums)"
   ]
  },
  {
   "cell_type": "code",
   "execution_count": null,
   "id": "ba9697ba",
   "metadata": {},
   "outputs": [],
   "source": [
    "nums = []\n",
    "threeSum(nums)"
   ]
  },
  {
   "cell_type": "code",
   "execution_count": null,
   "id": "a218c9c1",
   "metadata": {},
   "outputs": [],
   "source": [
    "nums = [0,0,0]\n",
    "threeSum(nums)"
   ]
  },
  {
   "cell_type": "code",
   "execution_count": null,
   "id": "09bf3e51",
   "metadata": {},
   "outputs": [],
   "source": [
    "nums = [82597,-9243,62390,83030,-97960,-26521,-61011,83390,-38677,12333,75987,46091,83794,19355,-71037,-6242,-28801,324,1202,-90885,-2989,-95597,-34333,35528,5680,89093,-90606,50360,-29393,-27012,53313,65213,99818,-82405,-41661,-3333,-51952,72135,-1523,26377,74685,96992,92263,15929,5467,-99555,-43348,-41689,-60383,-3990,32165,65265,-72973,-58372,12741,-48568,-46596,72419,-1859,34153,62937,81310,-61823,-96770,-54944,8845,-91184,24208,-29078,31495,65258,14198,85395,70506,-40908,56740,-12228,-40072,32429,93001,68445,-73927,25731,-91859,-24150,10093,-60271,-81683,-18126,51055,48189,-6468,25057,81194,-58628,74042,66158,-14452,-49851,-43667,11092,39189,-17025,-79173,13606,83172,92647,-59741,19343,-26644,-57607,82908,-20655,1637,80060,98994,39331,-31274,-61523,91225,-72953,13211,-75116,-98421,-41571,-69074,99587,39345,42151,-2460,98236,15690,-52507,-95803,-48935,-46492,-45606,-79254,-99851,52533,73486,39948,-7240,71815,-585,-96252,90990,-93815,93340,-71848,58733,-14859,-83082,-75794,-82082,-24871,-15206,91207,-56469,-93618,67131,-8682,75719,87429,-98757,-7535,-24890,-94160,85003,33928,75538,97456,-66424,-60074,-8527,-28697,-22308,2246,-70134,-82319,-10184,87081,-34949,-28645,-47352,-83966,-60418,-15293,-53067,-25921,55172,75064,95859,48049,34311,-86931,-38586,33686,-36714,96922,76713,-22165,-80585,-34503,-44516,39217,-28457,47227,-94036,43457,24626,-87359,26898,-70819,30528,-32397,-69486,84912,-1187,-98986,-32958,4280,-79129,-65604,9344,58964,50584,71128,-55480,24986,15086,-62360,-42977,-49482,-77256,-36895,-74818,20,3063,-49426,28152,-97329,6086,86035,-88743,35241,44249,19927,-10660,89404,24179,-26621,-6511,57745,-28750,96340,-97160,-97822,-49979,52307,79462,94273,-24808,77104,9255,-83057,77655,21361,55956,-9096,48599,-40490,-55107,2689,29608,20497,66834,-34678,23553,-81400,-66630,-96321,-34499,-12957,-20564,25610,-4322,-58462,20801,53700,71527,24669,-54534,57879,-3221,33636,3900,97832,-27688,-98715,5992,24520,-55401,-57613,-69926,57377,-77610,20123,52174,860,60429,-91994,-62403,-6218,-90610,-37263,-15052,62069,-96465,44254,89892,-3406,19121,-41842,-87783,-64125,-56120,73904,-22797,-58118,-4866,5356,75318,46119,21276,-19246,-9241,-97425,57333,-15802,93149,25689,-5532,95716,39209,-87672,-29470,-16324,-15331,27632,-39454,56530,-16000,29853,46475,78242,-46602,83192,-73440,-15816,50964,-36601,89758,38375,-40007,-36675,-94030,67576,46811,-64919,45595,76530,40398,35845,41791,67697,-30439,-82944,63115,33447,-36046,-50122,-34789,43003,-78947,-38763,-89210,32756,-20389,-31358,-90526,-81607,88741,86643,98422,47389,-75189,13091,95993,-15501,94260,-25584,-1483,-67261,-70753,25160,89614,-90620,-48542,83889,-12388,-9642,-37043,-67663,28794,-8801,13621,12241,55379,84290,21692,-95906,-85617,-17341,-63767,80183,-4942,-51478,30997,-13658,8838,17452,-82869,-39897,68449,31964,98158,-49489,62283,-62209,-92792,-59342,55146,-38533,20496,62667,62593,36095,-12470,5453,-50451,74716,-17902,3302,-16760,-71642,-34819,96459,-72860,21638,47342,-69897,-40180,44466,76496,84659,13848,-91600,-90887,-63742,-2156,-84981,-99280,94326,-33854,92029,-50811,98711,-36459,-75555,79110,-88164,-97397,-84217,97457,64387,30513,-53190,-83215,252,2344,-27177,-92945,-89010,82662,-11670,86069,53417,42702,97082,3695,-14530,-46334,17910,77999,28009,-12374,15498,-46941,97088,-35030,95040,92095,-59469,-24761,46491,67357,-66658,37446,-65130,-50416,99197,30925,27308,54122,-44719,12582,-99525,-38446,-69050,-22352,94757,-56062,33684,-40199,-46399,96842,-50881,-22380,-65021,40582,53623,-76034,77018,-97074,-84838,-22953,-74205,79715,-33920,-35794,-91369,73421,-82492,63680,-14915,-33295,37145,76852,-69442,60125,-74166,74308,-1900,-30195,-16267,-60781,-27760,5852,38917,25742,-3765,49097,-63541,98612,-92865,-30248,9612,-8798,53262,95781,-42278,-36529,7252,-27394,-5021,59178,80934,-48480,-75131,-54439,-19145,-48140,98457,-6601,-51616,-89730,78028,32083,-48904,16822,-81153,-8832,48720,-80728,-45133,-86647,-4259,-40453,2590,28613,50523,-4105,-27790,-74579,-17223,63721,33489,-47921,97628,-97691,-14782,-65644,18008,-93651,-71266,80990,-76732,-47104,35368,28632,59818,-86269,-89753,34557,-92230,-5933,-3487,-73557,-13174,-43981,-43630,-55171,30254,-83710,-99583,-13500,71787,5017,-25117,-78586,86941,-3251,-23867,-36315,75973,86272,-45575,77462,-98836,-10859,70168,-32971,-38739,-12761,93410,14014,-30706,-77356,-85965,-62316,63918,-59914,-64088,1591,-10957,38004,15129,-83602,-51791,34381,-89382,-26056,8942,5465,71458,-73805,-87445,-19921,-80784,69150,-34168,28301,-68955,18041,6059,82342,9947,39795,44047,-57313,48569,81936,-2863,-80932,32976,-86454,-84207,33033,32867,9104,-16580,-25727,80157,-70169,53741,86522,84651,68480,84018,61932,7332,-61322,-69663,76370,41206,12326,-34689,17016,82975,-23386,39417,72793,44774,-96259,3213,79952,29265,-61492,-49337,14162,65886,3342,-41622,-62659,-90402,-24751,88511,54739,-21383,-40161,-96610,-24944,-602,-76842,-21856,69964,43994,-15121,-85530,12718,13170,-13547,69222,62417,-75305,-81446,-38786,-52075,-23110,97681,-82800,-53178,11474,35857,94197,-58148,-23689,32506,92154,-64536,-73930,-77138,97446,-83459,70963,22452,68472,-3728,-25059,-49405,95129,-6167,12808,99918,30113,-12641,-26665,86362,-33505,50661,26714,33701,89012,-91540,40517,-12716,-57185,-87230,29914,-59560,13200,-72723,58272,23913,-45586,-96593,-26265,-2141,31087,81399,92511,-34049,20577,2803,26003,8940,42117,40887,-82715,38269,40969,-50022,72088,21291,-67280,-16523,90535,18669,94342,-39568,-88080,-99486,-20716,23108,-28037,63342,36863,-29420,-44016,75135,73415,16059,-4899,86893,43136,-7041,33483,-67612,25327,40830,6184,61805,4247,81119,-22854,-26104,-63466,63093,-63685,60369,51023,51644,-16350,74438,-83514,99083,10079,-58451,-79621,48471,67131,-86940,99093,11855,-22272,-67683,-44371,9541,18123,37766,-70922,80385,-57513,-76021,-47890,36154,72935,84387,-92681,-88303,-7810,59902,-90,-64704,-28396,-66403,8860,13343,33882,85680,7228,28160,-14003,54369,-58893,92606,-63492,-10101,64714,58486,29948,-44679,-22763,10151,-56695,4031,-18242,-36232,86168,-14263,9883,47124,47271,92761,-24958,-73263,-79661,-69147,-18874,29546,-92588,-85771,26451,-86650,-43306,-59094,-47492,-34821,-91763,-47670,33537,22843,67417,-759,92159,63075,94065,-26988,55276,65903,30414,-67129,-99508,-83092,-91493,-50426,14349,-83216,-76090,32742,-5306,-93310,-60750,-60620,-45484,-21108,-58341,-28048,-52803,69735,78906,81649,32565,-86804,-83202,-65688,-1760,89707,93322,-72750,84134,71900,-37720,19450,-78018,22001,-23604,26276,-21498,65892,-72117,-89834,-23867,55817,-77963,42518,93123,-83916,63260,-2243,-97108,85442,-36775,17984,-58810,99664,-19082,93075,-69329,87061,79713,16296,70996,13483,-74582,49900,-27669,-40562,1209,-20572,34660,83193,75579,7344,64925,88361,60969,3114,44611,-27445,53049,-16085,-92851,-53306,13859,-33532,86622,-75666,-18159,-98256,51875,-42251,-27977,-18080,23772,38160,41779,9147,94175,99905,-85755,62535,-88412,-52038,-68171,93255,-44684,-11242,-104,31796,62346,-54931,-55790,-70032,46221,56541,-91947,90592,93503,4071,20646,4856,-63598,15396,-50708,32138,-85164,38528,-89959,53852,57915,-42421,-88916,-75072,67030,-29066,49542,-71591,61708,-53985,-43051,28483,46991,-83216,80991,-46254,-48716,39356,-8270,-47763,-34410,874,-1186,-7049,28846,11276,21960,-13304,-11433,-4913,55754,79616,70423,-27523,64803,49277,14906,-97401,-92390,91075,70736,21971,-3303,55333,-93996,76538,54603,-75899,98801,46887,35041,48302,-52318,55439,24574,14079,-24889,83440,14961,34312,-89260,-22293,-81271,-2586,-71059,-10640,-93095,-5453,-70041,66543,74012,-11662,-52477,-37597,-70919,92971,-17452,-67306,-80418,7225,-89296,24296,86547,37154,-10696,74436,-63959,58860,33590,-88925,-97814,-83664,85484,-8385,-50879,57729,-74728,-87852,-15524,-91120,22062,28134,80917,32026,49707,-54252,-44319,-35139,13777,44660,85274,25043,58781,-89035,-76274,6364,-63625,72855,43242,-35033,12820,-27460,77372,-47578,-61162,-70758,-1343,-4159,64935,56024,-2151,43770,19758,-30186,-86040,24666,-62332,-67542,73180,-25821,-27826,-45504,-36858,-12041,20017,-24066,-56625,-52097,-47239,-90694,8959,7712,-14258,-5860,55349,61808,-4423,-93703,64681,-98641,-25222,46999,-83831,-54714,19997,-68477,66073,51801,-66491,52061,-52866,79907,-39736,-68331,68937,91464,98892,910,93501,31295,-85873,27036,-57340,50412,21,-2445,29471,71317,82093,-94823,-54458,-97410,39560,-7628,66452,39701,54029,37906,46773,58296,60370,-61090,85501,-86874,71443,-72702,-72047,14848,34102,77975,-66294,-36576,31349,52493,-70833,-80287,94435,39745,-98291,84524,-18942,10236,93448,50846,94023,-6939,47999,14740,30165,81048,84935,-19177,-13594,32289,62628,-90612,-542,-66627,64255,71199,-83841,-82943,-73885,8623,-67214,-9474,-35249,62254,-14087,-90969,21515,-83303,94377,-91619,19956,-98810,96727,-91939,29119,-85473,-82153,-69008,44850,74299,-76459,-86464,8315,-49912,-28665,59052,-69708,76024,-92738,50098,18683,-91438,18096,-19335,35659,91826,15779,-73070,67873,-12458,-71440,-46721,54856,97212,-81875,35805,36952,68498,81627,-34231,81712,27100,-9741,-82612,18766,-36392,2759,41728,69743,26825,48355,-17790,17165,56558,3295,-24375,55669,-16109,24079,73414,48990,-11931,-78214,90745,19878,35673,-15317,-89086,94675,-92513,88410,-93248,-19475,-74041,-19165,32329,-26266,-46828,-18747,45328,8990,-78219,-25874,-74801,-44956,-54577,-29756,-99822,-35731,-18348,-68915,-83518,-53451,95471,-2954,-13706,-8763,-21642,-37210,16814,-60070,-42743,27697,-36333,-42362,11576,85742,-82536,68767,-56103,-63012,71396,-78464,-68101,-15917,-11113,-3596,77626,-60191,-30585,-73584,6214,-84303,18403,23618,-15619,-89755,-59515,-59103,-74308,-63725,-29364,-52376,-96130,70894,-12609,50845,-2314,42264,-70825,64481,55752,4460,-68603,-88701,4713,-50441,-51333,-77907,97412,-66616,-49430,60489,-85262,-97621,-18980,44727,-69321,-57730,66287,-92566,-64427,-14270,11515,-92612,-87645,61557,24197,-81923,-39831,-10301,-23640,-76219,-68025,92761,-76493,68554,-77734,-95620,-11753,-51700,98234,-68544,-61838,29467,46603,-18221,-35441,74537,40327,-58293,75755,-57301,-7532,-94163,18179,-14388,-22258,-46417,-48285,18242,-77551,82620,250,-20060,-79568,-77259,82052,-98897,-75464,48773,-79040,-11293,45941,-67876,-69204,-46477,-46107,792,60546,-34573,-12879,-94562,20356,-48004,-62429,96242,40594,2099,99494,25724,-39394,-2388,-18563,-56510,-83570,-29214,3015,74454,74197,76678,-46597,60630,-76093,37578,-82045,-24077,62082,-87787,-74936,58687,12200,-98952,70155,-77370,21710,-84625,-60556,-84128,925,65474,-15741,-94619,88377,89334,44749,22002,-45750,-93081,-14600,-83447,46691,85040,-66447,-80085,56308,44310,24979,-29694,57991,4675,-71273,-44508,13615,-54710,23552,-78253,-34637,50497,68706,81543,-88408,-21405,6001,-33834,-21570,-46692,-25344,20310,71258,-97680,11721,59977,59247,-48949,98955,-50276,-80844,-27935,-76102,55858,-33492,40680,66691,-33188,8284,64893,-7528,6019,-85523,8434,-64366,-56663,26862,30008,-7611,-12179,-70076,21426,-11261,-36864,-61937,-59677,929,-21052,3848,-20888,-16065,98995,-32293,-86121,-54564,77831,68602,74977,31658,40699,29755,98424,80358,-69337,26339,13213,-46016,-18331,64713,-46883,-58451,-70024,-92393,-4088,70628,-51185,71164,-75791,-1636,-29102,-16929,-87650,-84589,-24229,-42137,-15653,94825,13042,88499,-47100,-90358,-7180,29754,-65727,-42659,-85560,-9037,-52459,20997,-47425,17318,21122,20472,-23037,65216,-63625,-7877,-91907,24100,-72516,22903,-85247,-8938,73878,54953,87480,-31466,-99524,35369,-78376,89984,-15982,94045,-7269,23319,-80456,-37653,-76756,2909,81936,54958,-12393,60560,-84664,-82413,66941,-26573,-97532,64460,18593,-85789,-38820,-92575,-43663,-89435,83272,-50585,13616,-71541,-53156,727,-27644,16538,34049,57745,34348,35009,16634,-18791,23271,-63844,95817,21781,16590,59669,15966,-6864,48050,-36143,97427,-59390,96931,78939,-1958,50777,43338,-51149,39235,-27054,-43492,67457,-83616,37179,10390,85818,2391,73635,87579,-49127,-81264,-79023,-81590,53554,-74972,-83940,-13726,-39095,29174,78072,76104,47778,25797,-29515,-6493,-92793,22481,-36197,-65560,42342,15750,97556,99634,-56048,-35688,13501,63969,-74291,50911,39225,93702,-3490,-59461,-30105,-46761,-80113,92906,-68487,50742,36152,-90240,-83631,24597,-50566,-15477,18470,77038,40223,-80364,-98676,70957,-63647,99537,13041,31679,86631,37633,-16866,13686,-71565,21652,-46053,-80578,-61382,68487,-6417,4656,20811,67013,-30868,-11219,46,74944,14627,56965,42275,-52480,52162,-84883,-52579,-90331,92792,42184,-73422,-58440,65308,-25069,5475,-57996,59557,-17561,2826,-56939,14996,-94855,-53707,99159,43645,-67719,-1331,21412,41704,31612,32622,1919,-69333,-69828,22422,-78842,57896,-17363,27979,-76897,35008,46482,-75289,65799,20057,7170,41326,-76069,90840,-81253,-50749,3649,-42315,45238,-33924,62101,96906,58884,-7617,-28689,-66578,62458,50876,-57553,6739,41014,-64040,-34916,37940,13048,-97478,-11318,-89440,-31933,-40357,-59737,-76718,-14104,-31774,28001,4103,41702,-25120,-31654,63085,-3642,84870,-83896,-76422,-61520,12900,88678,85547,33132,-88627,52820,63915,-27472,78867,-51439,33005,-23447,-3271,-39308,39726,-74260,-31874,-36893,93656,910,-98362,60450,-88048,99308,13947,83996,-90415,-35117,70858,-55332,-31721,97528,82982,-86218,6822,25227,36946,97077,-4257,-41526,56795,89870,75860,-70802,21779,14184,-16511,-89156,-31422,71470,69600,-78498,74079,-19410,40311,28501,26397,-67574,-32518,68510,38615,19355,-6088,-97159,-29255,-92523,3023,-42536,-88681,64255,41206,44119,52208,39522,-52108,91276,-70514,83436,63289,-79741,9623,99559,12642,85950,83735,-21156,-67208,98088,-7341,-27763,-30048,-44099,-14866,-45504,-91704,19369,13700,10481,-49344,-85686,33994,19672,36028,60842,66564,-24919,33950,-93616,-47430,-35391,-28279,56806,74690,39284,-96683,-7642,-75232,37657,-14531,-86870,-9274,-26173,98640,88652,64257,46457,37814,-19370,9337,-22556,-41525,39105,-28719,51611,-93252,98044,-90996,21710,-47605,-64259,-32727,53611,-31918,-3555,33316,-66472,21274,-37731,-2919,15016,48779,-88868,1897,41728,46344,-89667,37848,68092,-44011,85354,-43776,38739,-31423,-66330,65167,-22016,59405,34328,-60042,87660,-67698,-59174,-1408,-46809,-43485,-88807,-60489,13974,22319,55836,-62995,-37375,-4185,32687,-36551,-75237,58280,26942,-73756,71756,78775,-40573,14367,-71622,-77338,24112,23414,-7679,-51721,87492,85066,-21612,57045,10673,-96836,52461,-62218,-9310,65862,-22748,89906,-96987,-98698,26956,-43428,46141,47456,28095,55952,67323,-36455,-60202,-43302,-82932,42020,77036,10142,60406,70331,63836,58850,-66752,52109,21395,-10238,-98647,-41962,27778,69060,98535,-28680,-52263,-56679,66103,-42426,27203,80021,10153,58678,36398,63112,34911,20515,62082,-15659,-40785,27054,43767,-20289,65838,-6954,-60228,-72226,52236,-35464,25209,-15462,-79617,-41668,-84083,62404,-69062,18913,46545,20757,13805,24717,-18461,-47009,-25779,68834,64824,34473,39576,31570,14861,-15114,-41233,95509,68232,67846,84902,-83060,17642,-18422,73688,77671,-26930,64484,-99637,73875,6428,21034,-73471,19664,-68031,15922,-27028,48137,54955,-82793,-41144,-10218,-24921,-28299,-2288,68518,-54452,15686,-41814,66165,-72207,-61986,80020,50544,-99500,16244,78998,40989,14525,-56061,-24692,-94790,21111,37296,-90794,72100,70550,-31757,17708,-74290,61910,78039,-78629,-25033,73172,-91953,10052,64502,99585,-1741,90324,-73723,68942,28149,30218,24422,16659,10710,-62594,94249,96588,46192,34251,73500,-65995,-81168,41412,-98724,-63710,-54696,-52407,19746,45869,27821,-94866,-76705,-13417,-61995,-71560,43450,67384,-8838,-80293,-28937,23330,-89694,-40586,46918,80429,-5475,78013,25309,-34162,37236,-77577,86744,26281,-29033,-91813,35347,13033,-13631,-24459,3325,-71078,-75359,81311,19700,47678,-74680,-84113,45192,35502,37675,19553,76522,-51098,-18211,89717,4508,-82946,27749,85995,89912,-53678,-64727,-14778,32075,-63412,-40524,86440,-2707,-36821,63850,-30883,67294,-99468,-23708,34932,34386,98899,29239,-23385,5897,54882,98660,49098,70275,17718,88533,52161,63340,50061,-89457,19491,-99156,24873,-17008,64610,-55543,50495,17056,-10400,-56678,-29073,-42960,-76418,98562,-88104,-96255,10159,-90724,54011,12052,45871,-90933,-69420,67039,37202,78051,-52197,-40278,-58425,65414,-23394,-1415,6912,-53447,7352,17307,-78147,63727,98905,55412,-57658,-32884,-44878,22755,39730,3638,35111,39777,74193,38736,-11829,-61188,-92757,55946,-71232,-63032,-83947,39147,-96684,-99233,25131,-32197,24406,-55428,-61941,25874,-69453,64483,-19644,-68441,12783,87338,-48676,66451,-447,-61590,50932,-11270,29035,65698,-63544,10029,80499,-9461,86368,91365,-81810,-71914,-52056,-13782,44240,-30093,-2437,24007,67581,-17365,-69164,-8420,-69289,-29370,48010,90439,13141,69243,50668,39328,61731,78266,-81313,17921,-38196,55261,9948,-24970,75712,-72106,28696,7461,31621,61047,51476,56512,11839,-96916,-82739,28924,-99927,58449,37280,69357,11219,-32119,-62050,-48745,-83486,-52376,42668,82659,68882,38773,46269,-96005,97630,25009,-2951,-67811,99801,81587,-79793,-18547,-83086,69512,33127,-92145,-88497,47703,59527,1909,88785,-88882,69188,-46131,-5589,-15086,36255,-53238,-33009,82664,53901,35939,-42946,-25571,33298,69291,53199,74746,-40127,-39050,91033,51717,-98048,87240,36172,65453,-94425,-63694,-30027,59004,88660,3649,-20267,-52565,-67321,34037,4320,91515,-56753,60115,27134,68617,-61395,-26503,-98929,-8849,-63318,10709,-16151,61905,-95785,5262,23670,-25277,90206,-19391,45735,37208,-31992,-92450,18516,-90452,-58870,-58602,93383,14333,17994,82411,-54126,-32576,35440,-60526,-78764,-25069,-9022,-394,92186,-38057,55328,-61569,67780,77169,19546,-92664,-94948,44484,-13439,83529,27518,-48333,72998,38342,-90553,-98578,-76906,81515,-16464,78439,92529,35225,-39968,-10130,-7845,-32245,-74955,-74996,67731,-13897,-82493,33407,93619,59560,-24404,-57553,19486,-45341,34098,-24978,-33612,79058,71847,76713,-95422,6421,-96075,-59130,-28976,-16922,-62203,69970,68331,21874,40551,89650,51908,58181,66480,-68177,34323,-3046,-49656,-59758,43564,-10960,-30796,15473,-20216,46085,-85355,41515,-30669,-87498,57711,56067,63199,-83805,62042,91213,-14606,4394,-562,74913,10406,96810,-61595,32564,31640,-9732,42058,98052,-7908,-72330,1558,-80301,34878,32900,3939,-8824,88316,20937,21566,-3218,-66080,-31620,86859,54289,90476,-42889,-15016,-18838,75456,30159,-67101,42328,-92703,85850,-5475,23470,-80806,68206,17764,88235,46421,-41578,74005,-81142,80545,20868,-1560,64017,83784,68863,-97516,-13016,-72223,79630,-55692,82255,88467,28007,-34686,-69049,-41677,88535,-8217,68060,-51280,28971,49088,49235,26905,-81117,-44888,40623,74337,-24662,97476,79542,-72082,-35093,98175,-61761,-68169,59697,-62542,-72965,59883,-64026,-37656,-92392,-12113,-73495,98258,68379,-21545,64607,-70957,-92254,-97460,-63436,-8853,-19357,-51965,-76582,12687,-49712,45413,-60043,33496,31539,-57347,41837,67280,-68813,52088,-13155,-86430,-15239,-45030,96041,18749,-23992,46048,35243,-79450,85425,-58524,88781,-39454,53073,-48864,-82289,39086,82540,-11555,25014,-5431,-39585,-89526,2705,31953,-81611,36985,-56022,68684,-27101,11422,64655,-26965,-63081,-13840,-91003,-78147,-8966,41488,1988,99021,-61575,-47060,65260,-23844,-21781,-91865,-19607,44808,2890,63692,-88663,-58272,15970,-65195,-45416,-48444,-78226,-65332,-24568,42833,-1806,-71595,80002,-52250,30952,48452,-90106,31015,-22073,62339,63318,78391,28699,77900,-4026,-76870,-45943,33665,9174,-84360,-22684,-16832,-67949,-38077,-38987,-32847,51443,-53580,-13505,9344,-92337,26585,70458,-52764,-67471,-68411,-1119,-2072,-93476,67981,40887,-89304,-12235,41488,1454,5355,-34855,-72080,24514,-58305,3340,34331,8731,77451,-64983,-57876,82874,62481,-32754,-39902,22451,-79095,-23904,78409,-7418,77916]\n",
    "%time len(threeSum(nums))"
   ]
  },
  {
   "cell_type": "markdown",
   "id": "049ac582",
   "metadata": {},
   "source": [
    "### 20210910<a id='16'></a>\n",
    "<strong>16. 3Sum Closest</strong>\n",
    "\n",
    "Given an integer array nums of length n and an integer target, find three integers in nums such that the sum is closest to target.\n",
    "\n",
    "Return the sum of the three integers.\n",
    "\n",
    "You may assume that each input would have exactly one solution.\n",
    "\n"
   ]
  },
  {
   "cell_type": "code",
   "execution_count": null,
   "id": "979da679",
   "metadata": {},
   "outputs": [],
   "source": [
    "#dont work\n",
    "def threeSumClosest(nums, target):\n",
    "    sort_nums = sorted(nums)\n",
    "    \n",
    "    l = 0\n",
    "    m = int(len(sort_nums)/2)\n",
    "    r = len(sort_nums) - 1\n",
    "    ans = sort_nums[l] + sort_nums[m] + sort_nums[r]\n",
    "    print(l,m,r)\n",
    "    \n",
    "    while l<m and m<r:\n",
    "        ans = sort_nums[l] + sort_nums[m] + sort_nums[r]\n",
    "        if ans == target:\n",
    "            return target\n",
    "        \n",
    "        elif ans < target:\n",
    "            l_temp = l+1\n",
    "            m_temp = m+1\n",
    "            while l_temp < m and sort_nums[l_temp] == sort_nums[l_temp-1]:\n",
    "                l_temp += 1\n",
    "            while m_temp < r and sort_nums[m_temp] == sort_nums[m_temp-1]:\n",
    "                m_temp += 1\n",
    "            if sort_nums[l_temp] - sort_nums[l] <= sort_nums[m_temp] - sort_nums[m]:\n",
    "                l = l_temp\n",
    "            else:\n",
    "                m = m_temp\n",
    "        \n",
    "        else:\n",
    "            r_temp = r-1\n",
    "            m_temp = m-1\n",
    "            while l < m_temp and sort_nums[m_temp] == sort_nums[m_temp-1]:\n",
    "                m_temp -= 1\n",
    "            while m < r_temp and sort_nums[r_temp] == sort_nums[r_temp-1]:\n",
    "                r_temp -= 1\n",
    "            if sort_nums[r_temp] - sort_nums[r] >= sort_nums[m_temp] - sort_nums[m]:\n",
    "                r = r_temp\n",
    "            else:\n",
    "                m = m_temp\n",
    "        print(sort_nums[l],sort_nums[m],sort_nums[r])\n",
    "    \n",
    "    return ans"
   ]
  },
  {
   "cell_type": "code",
   "execution_count": null,
   "id": "4fc5eeb1",
   "metadata": {},
   "outputs": [],
   "source": [
    "def threeSumClosest(nums, target):\n",
    "    sort_nums = sorted(nums)\n",
    "    ans = -99999999\n",
    "    \n",
    "    \n",
    "    for i in range(len(sort_nums)):\n",
    "        gap = target - sort_nums[i]\n",
    "        \n",
    "        j = i + 1\n",
    "        k = len(sort_nums) - 1\n",
    "        \n",
    "        while j < k:\n",
    "            if abs(ans - target) > abs(sort_nums[i] + sort_nums[j] + sort_nums[k] - target):\n",
    "                ans = sort_nums[i] + sort_nums[j] + sort_nums[k]\n",
    "            if sort_nums[j] + sort_nums[k] == gap:\n",
    "                return target\n",
    "            elif sort_nums[j] + sort_nums[k] > gap:\n",
    "                k -= 1\n",
    "            else:\n",
    "                j += 1\n",
    "            \n",
    "        \n",
    "    return ans"
   ]
  },
  {
   "cell_type": "code",
   "execution_count": null,
   "id": "75dba8ee",
   "metadata": {},
   "outputs": [],
   "source": [
    "nums = [-1,2,1,-4]\n",
    "target = 1\n",
    "threeSumClosest(nums, target)"
   ]
  },
  {
   "cell_type": "code",
   "execution_count": null,
   "id": "bf9ebd30",
   "metadata": {},
   "outputs": [],
   "source": [
    "nums = [0,0,0]\n",
    "target = 1\n",
    "threeSumClosest(nums, target)"
   ]
  },
  {
   "cell_type": "code",
   "execution_count": null,
   "id": "803b8cad",
   "metadata": {},
   "outputs": [],
   "source": [
    "nums =[1,2,5,10,11]\n",
    "target = 12\n",
    "threeSumClosest(nums, target)"
   ]
  },
  {
   "cell_type": "markdown",
   "id": "e9c88acc",
   "metadata": {},
   "source": [
    "### 20210918<a id='18'></a>\n",
    "<strong>18. 4Sum</strong>\n",
    "Given an array nums of n integers, return an array of all the unique quadruplets [nums[a], nums[b], nums[c], nums[d]] such that:\n",
    "\n",
    "- 0 <= a, b, c, d < n\n",
    "- a, b, c, and d are distinct.\n",
    "- nums[a] + nums[b] + nums[c] + nums[d] == target\n",
    "\n",
    "You may return the answer in any order."
   ]
  },
  {
   "cell_type": "code",
   "execution_count": null,
   "id": "6dc2c445",
   "metadata": {},
   "outputs": [],
   "source": [
    "def fourSum(nums, target):\n",
    "    \n",
    "    def twosum(nums, target):\n",
    "        sorted_nums = sorted(nums)\n",
    "        left = 0\n",
    "        right = len(nums) - 1 \n",
    "        ans = []\n",
    "        \n",
    "        while left < right:\n",
    "            if sorted_nums[left] + sorted_nums[right] == target:\n",
    "                ans.append([sorted_nums[left], sorted_nums[right]])\n",
    "                while left < right and sorted_nums[left] == sorted_nums[left + 1]:\n",
    "                    left += 1\n",
    "                left += 1\n",
    "            elif sorted_nums[left] + sorted_nums[right] > target:\n",
    "                right -= 1\n",
    "            else:\n",
    "                left += 1\n",
    "        \n",
    "        return ans\n",
    "        \n",
    "    def ksum(nums, target, k):\n",
    "        \n",
    "        ans = []\n",
    "        if k == 2:\n",
    "            ans += twosum(nums, target)\n",
    "        else:\n",
    "            i = 0\n",
    "            while i < len(nums) - k + 1:\n",
    "                temp = ksum(nums[i+1:], target - nums[i], k - 1)\n",
    "                if temp != []:\n",
    "                    ans += [[nums[i]] + ele for ele in temp]\n",
    "                    \n",
    "                while i+1 < len(nums) and nums[i] == nums[i+1]:\n",
    "                    i += 1\n",
    "                i += 1\n",
    "        \n",
    "        return ans\n",
    "    \n",
    "    sorted_nums = sorted(nums)\n",
    "    ans = ksum(sorted_nums, target, 4)\n",
    "    \n",
    "    return ans"
   ]
  },
  {
   "cell_type": "code",
   "execution_count": null,
   "id": "01c1147d",
   "metadata": {},
   "outputs": [],
   "source": [
    "nums = [1,0,-1,0,-2,2]\n",
    "target = 0\n",
    "fourSum(nums, target)"
   ]
  },
  {
   "cell_type": "code",
   "execution_count": null,
   "id": "45b66cd7",
   "metadata": {},
   "outputs": [],
   "source": [
    "nums = [2,2,2,2,2]\n",
    "target = 8\n",
    "fourSum(nums, target)"
   ]
  },
  {
   "cell_type": "code",
   "execution_count": null,
   "id": "88c4ad2e",
   "metadata": {},
   "outputs": [],
   "source": [
    "nums = [-1,0,1,2,-1,-4,0,0]\n",
    "sorted_nums = sorted(nums)\n",
    "ksum(sorted_nums, 0 , 3)"
   ]
  },
  {
   "cell_type": "code",
   "execution_count": null,
   "id": "8bf74c09",
   "metadata": {},
   "outputs": [],
   "source": [
    "nums = [82597,-9243,62390,83030,-97960,-26521,-61011,83390,-38677,12333,75987,46091,83794,19355,-71037,-6242,-28801,324,1202,-90885,-2989,-95597,-34333,35528,5680,89093,-90606,50360,-29393,-27012,53313,65213,99818,-82405,-41661,-3333,-51952,72135,-1523,26377,74685,96992,92263,15929,5467,-99555,-43348,-41689,-60383,-3990,32165,65265,-72973,-58372,12741,-48568,-46596,72419,-1859,34153,62937,81310,-61823,-96770,-54944,8845,-91184,24208,-29078,31495,65258,14198,85395,70506,-40908,56740,-12228,-40072,32429,93001,68445,-73927,25731,-91859,-24150,10093,-60271,-81683,-18126,51055,48189,-6468,25057,81194,-58628,74042,66158,-14452,-49851,-43667,11092,39189,-17025,-79173,13606,83172,92647,-59741,19343,-26644,-57607,82908,-20655,1637,80060,98994,39331,-31274,-61523,91225,-72953,13211,-75116,-98421,-41571,-69074,99587,39345,42151,-2460,98236,15690,-52507,-95803,-48935,-46492,-45606,-79254,-99851,52533,73486,39948,-7240,71815,-585,-96252,90990,-93815,93340,-71848,58733,-14859,-83082,-75794,-82082,-24871,-15206,91207,-56469,-93618,67131,-8682,75719,87429,-98757,-7535,-24890,-94160,85003,33928,75538,97456,-66424,-60074,-8527,-28697,-22308,2246,-70134,-82319,-10184,87081,-34949,-28645,-47352,-83966,-60418,-15293,-53067,-25921,55172,75064,95859,48049,34311,-86931,-38586,33686,-36714,96922,76713,-22165,-80585,-34503,-44516,39217,-28457,47227,-94036,43457,24626,-87359,26898,-70819,30528,-32397,-69486,84912,-1187,-98986,-32958,4280,-79129,-65604,9344,58964,50584,71128,-55480,24986,15086,-62360,-42977,-49482,-77256,-36895,-74818,20,3063,-49426,28152,-97329,6086,86035,-88743,35241,44249,19927,-10660,89404,24179,-26621,-6511,57745,-28750,96340,-97160,-97822,-49979,52307,79462,94273,-24808,77104,9255,-83057,77655,21361,55956,-9096,48599,-40490,-55107,2689,29608,20497,66834,-34678,23553,-81400,-66630,-96321,-34499,-12957,-20564,25610,-4322,-58462,20801,53700,71527,24669,-54534,57879,-3221,33636,3900,97832,-27688,-98715,5992,24520,-55401,-57613,-69926,57377,-77610,20123,52174,860,60429,-91994,-62403,-6218,-90610,-37263,-15052,62069,-96465,44254,89892,-3406,19121,-41842,-87783,-64125,-56120,73904,-22797,-58118,-4866,5356,75318,46119,21276,-19246,-9241,-97425,57333,-15802,93149,25689,-5532,95716,39209,-87672,-29470,-16324,-15331,27632,-39454,56530,-16000,29853,46475,78242,-46602,83192,-73440,-15816,50964,-36601,89758,38375,-40007,-36675,-94030,67576,46811,-64919,45595,76530,40398,35845,41791,67697,-30439,-82944,63115,33447,-36046,-50122,-34789,43003,-78947,-38763,-89210,32756,-20389,-31358,-90526,-81607,88741,86643,98422,47389,-75189,13091,95993,-15501,94260,-25584,-1483,-67261,-70753,25160,89614,-90620,-48542,83889,-12388,-9642,-37043,-67663,28794,-8801,13621,12241,55379,84290,21692,-95906,-85617,-17341,-63767,80183,-4942,-51478,30997,-13658,8838,17452,-82869,-39897,68449,31964,98158,-49489,62283,-62209,-92792,-59342,55146,-38533,20496,62667,62593,36095,-12470,5453,-50451,74716,-17902,3302,-16760,-71642,-34819,96459,-72860,21638,47342,-69897,-40180,44466,76496,84659,13848,-91600,-90887,-63742,-2156,-84981,-99280,94326,-33854,92029,-50811,98711,-36459,-75555,79110,-88164,-97397,-84217,97457,64387,30513,-53190,-83215,252,2344,-27177,-92945,-89010,82662,-11670,86069,53417,42702,97082,3695,-14530,-46334,17910,77999,28009,-12374,15498,-46941,97088,-35030,95040,92095,-59469,-24761,46491,67357,-66658,37446,-65130,-50416,99197,30925,27308,54122,-44719,12582,-99525,-38446,-69050,-22352,94757,-56062,33684,-40199,-46399,96842,-50881,-22380,-65021,40582,53623,-76034,77018,-97074,-84838,-22953,-74205,79715,-33920,-35794,-91369,73421,-82492,63680,-14915,-33295,37145,76852,-69442,60125,-74166,74308,-1900,-30195,-16267,-60781,-27760,5852,38917,25742,-3765,49097,-63541,98612,-92865,-30248,9612,-8798,53262,95781,-42278,-36529,7252,-27394,-5021,59178,80934,-48480,-75131,-54439,-19145,-48140,98457,-6601,-51616,-89730,78028,32083,-48904,16822,-81153,-8832,48720,-80728,-45133,-86647,-4259,-40453,2590,28613,50523,-4105,-27790,-74579,-17223,63721,33489,-47921,97628,-97691,-14782,-65644,18008,-93651,-71266,80990,-76732,-47104,35368,28632,59818,-86269,-89753,34557,-92230,-5933,-3487,-73557,-13174,-43981,-43630,-55171,30254,-83710,-99583,-13500,71787,5017,-25117,-78586,86941,-3251,-23867,-36315,75973,86272,-45575,77462,-98836,-10859,70168,-32971,-38739,-12761,93410,14014,-30706,-77356,-85965,-62316,63918,-59914,-64088,1591,-10957,38004,15129,-83602,-51791,34381,-89382,-26056,8942,5465,71458,-73805,-87445,-19921,-80784,69150,-34168,28301,-68955,18041,6059,82342,9947,39795,44047,-57313,48569,81936,-2863,-80932,32976,-86454,-84207,33033,32867,9104,-16580,-25727,80157,-70169,53741,86522,84651,68480,84018,61932,7332,-61322,-69663,76370,41206,12326,-34689,17016,82975,-23386,39417,72793,44774,-96259,3213,79952,29265,-61492,-49337,14162,65886,3342,-41622,-62659,-90402,-24751,88511,54739,-21383,-40161,-96610,-24944,-602,-76842,-21856,69964,43994,-15121,-85530,12718,13170,-13547,69222,62417,-75305,-81446,-38786,-52075,-23110,97681,-82800,-53178,11474,35857,94197,-58148,-23689,32506,92154,-64536,-73930,-77138,97446,-83459,70963,22452,68472,-3728,-25059,-49405,95129,-6167,12808,99918,30113,-12641,-26665,86362,-33505,50661,26714,33701,89012,-91540,40517,-12716,-57185,-87230,29914,-59560,13200,-72723,58272,23913,-45586,-96593,-26265,-2141,31087,81399,92511,-34049,20577,2803,26003,8940,42117,40887,-82715,38269,40969,-50022,72088,21291,-67280,-16523,90535,18669,94342,-39568,-88080,-99486,-20716,23108,-28037,63342,36863,-29420,-44016,75135,73415,16059,-4899,86893,43136,-7041,33483,-67612,25327,40830,6184,61805,4247,81119,-22854,-26104,-63466,63093,-63685,60369,51023,51644,-16350,74438,-83514,99083,10079,-58451,-79621,48471,67131,-86940,99093,11855,-22272,-67683,-44371,9541,18123,37766,-70922,80385,-57513,-76021,-47890,36154,72935,84387,-92681,-88303,-7810,59902,-90,-64704,-28396,-66403,8860,13343,33882,85680,7228,28160,-14003,54369,-58893,92606,-63492,-10101,64714,58486,29948,-44679,-22763,10151,-56695,4031,-18242,-36232,86168,-14263,9883,47124,47271,92761,-24958,-73263,-79661,-69147,-18874,29546,-92588,-85771,26451,-86650,-43306,-59094,-47492,-34821,-91763,-47670,33537,22843,67417,-759,92159,63075,94065,-26988,55276,65903,30414,-67129,-99508,-83092,-91493,-50426,14349,-83216,-76090,32742,-5306,-93310,-60750,-60620,-45484,-21108,-58341,-28048,-52803,69735,78906,81649,32565,-86804,-83202,-65688,-1760,89707,93322,-72750,84134,71900,-37720,19450,-78018,22001,-23604,26276,-21498,65892,-72117,-89834,-23867,55817,-77963,42518,93123,-83916,63260,-2243,-97108,85442,-36775,17984,-58810,99664,-19082,93075,-69329,87061,79713,16296,70996,13483,-74582,49900,-27669,-40562,1209,-20572,34660,83193,75579,7344,64925,88361,60969,3114,44611,-27445,53049,-16085,-92851,-53306,13859,-33532,86622,-75666,-18159,-98256,51875,-42251,-27977,-18080,23772,38160,41779,9147,94175,99905,-85755,62535,-88412,-52038,-68171,93255,-44684,-11242,-104,31796,62346,-54931,-55790,-70032,46221,56541,-91947,90592,93503,4071,20646,4856,-63598,15396,-50708,32138,-85164,38528,-89959,53852,57915,-42421,-88916,-75072,67030,-29066,49542,-71591,61708,-53985,-43051,28483,46991,-83216,80991,-46254,-48716,39356,-8270,-47763,-34410,874,-1186,-7049,28846,11276,21960,-13304,-11433,-4913,55754,79616,70423,-27523,64803,49277,14906,-97401,-92390,91075,70736,21971,-3303,55333,-93996,76538,54603,-75899,98801,46887,35041,48302,-52318,55439,24574,14079,-24889,83440,14961,34312,-89260,-22293,-81271,-2586,-71059,-10640,-93095,-5453,-70041,66543,74012,-11662,-52477,-37597,-70919,92971,-17452,-67306,-80418,7225,-89296,24296,86547,37154,-10696,74436,-63959,58860,33590,-88925,-97814,-83664,85484,-8385,-50879,57729,-74728,-87852,-15524,-91120,22062,28134,80917,32026,49707,-54252,-44319,-35139,13777,44660,85274,25043,58781,-89035,-76274,6364,-63625,72855,43242,-35033,12820,-27460,77372,-47578,-61162,-70758,-1343,-4159,64935,56024,-2151,43770,19758,-30186,-86040,24666,-62332,-67542,73180,-25821,-27826,-45504,-36858,-12041,20017,-24066,-56625,-52097,-47239,-90694,8959,7712,-14258,-5860,55349,61808,-4423,-93703,64681,-98641,-25222,46999,-83831,-54714,19997,-68477,66073,51801,-66491,52061,-52866,79907,-39736,-68331,68937,91464,98892,910,93501,31295,-85873,27036,-57340,50412,21,-2445,29471,71317,82093,-94823,-54458,-97410,39560,-7628,66452,39701,54029,37906,46773,58296,60370,-61090,85501,-86874,71443,-72702,-72047,14848,34102,77975,-66294,-36576,31349,52493,-70833,-80287,94435,39745,-98291,84524,-18942,10236,93448,50846,94023,-6939,47999,14740,30165,81048,84935,-19177,-13594,32289,62628,-90612,-542,-66627,64255,71199,-83841,-82943,-73885,8623,-67214,-9474,-35249,62254,-14087,-90969,21515,-83303,94377,-91619,19956,-98810,96727,-91939,29119,-85473,-82153,-69008,44850,74299,-76459,-86464,8315,-49912,-28665,59052,-69708,76024,-92738,50098,18683,-91438,18096,-19335,35659,91826,15779,-73070,67873,-12458,-71440,-46721,54856,97212,-81875,35805,36952,68498,81627,-34231,81712,27100,-9741,-82612,18766,-36392,2759,41728,69743,26825,48355,-17790,17165,56558,3295,-24375,55669,-16109,24079,73414,48990,-11931,-78214,90745,19878,35673,-15317,-89086,94675,-92513,88410,-93248,-19475,-74041,-19165,32329,-26266,-46828,-18747,45328,8990,-78219,-25874,-74801,-44956,-54577,-29756,-99822,-35731,-18348,-68915,-83518,-53451,95471,-2954,-13706,-8763,-21642,-37210,16814,-60070,-42743,27697,-36333,-42362,11576,85742,-82536,68767,-56103,-63012,71396,-78464,-68101,-15917,-11113,-3596,77626,-60191,-30585,-73584,6214,-84303,18403,23618,-15619,-89755,-59515,-59103,-74308,-63725,-29364,-52376,-96130,70894,-12609,50845,-2314,42264,-70825,64481,55752,4460,-68603,-88701,4713,-50441,-51333,-77907,97412,-66616,-49430,60489,-85262,-97621,-18980,44727,-69321,-57730,66287,-92566,-64427,-14270,11515,-92612,-87645,61557,24197,-81923,-39831,-10301,-23640,-76219,-68025,92761,-76493,68554,-77734,-95620,-11753,-51700,98234,-68544,-61838,29467,46603,-18221,-35441,74537,40327,-58293,75755,-57301,-7532,-94163,18179,-14388,-22258,-46417,-48285,18242,-77551,82620,250,-20060,-79568,-77259,82052,-98897,-75464,48773,-79040,-11293,45941,-67876,-69204,-46477,-46107,792,60546,-34573,-12879,-94562,20356,-48004,-62429,96242,40594,2099,99494,25724,-39394,-2388,-18563,-56510,-83570,-29214,3015,74454,74197,76678,-46597,60630,-76093,37578,-82045,-24077,62082,-87787,-74936,58687,12200,-98952,70155,-77370,21710,-84625,-60556,-84128,925,65474,-15741,-94619,88377,89334,44749,22002,-45750,-93081,-14600,-83447,46691,85040,-66447,-80085,56308,44310,24979,-29694,57991,4675,-71273,-44508,13615,-54710,23552,-78253,-34637,50497,68706,81543,-88408,-21405,6001,-33834,-21570,-46692,-25344,20310,71258,-97680,11721,59977,59247,-48949,98955,-50276,-80844,-27935,-76102,55858,-33492,40680,66691,-33188,8284,64893,-7528,6019,-85523,8434,-64366,-56663,26862,30008,-7611,-12179,-70076,21426,-11261,-36864,-61937,-59677,929,-21052,3848,-20888,-16065,98995,-32293,-86121,-54564,77831,68602,74977,31658,40699,29755,98424,80358,-69337,26339,13213,-46016,-18331,64713,-46883,-58451,-70024,-92393,-4088,70628,-51185,71164,-75791,-1636,-29102,-16929,-87650,-84589,-24229,-42137,-15653,94825,13042,88499,-47100,-90358,-7180,29754,-65727,-42659,-85560,-9037,-52459,20997,-47425,17318,21122,20472,-23037,65216,-63625,-7877,-91907,24100,-72516,22903,-85247,-8938,73878,54953,87480,-31466,-99524,35369,-78376,89984,-15982,94045,-7269,23319,-80456,-37653,-76756,2909,81936,54958,-12393,60560,-84664,-82413,66941,-26573,-97532,64460,18593,-85789,-38820,-92575,-43663,-89435,83272,-50585,13616,-71541,-53156,727,-27644,16538,34049,57745,34348,35009,16634,-18791,23271,-63844,95817,21781,16590,59669,15966,-6864,48050,-36143,97427,-59390,96931,78939,-1958,50777,43338,-51149,39235,-27054,-43492,67457,-83616,37179,10390,85818,2391,73635,87579,-49127,-81264,-79023,-81590,53554,-74972,-83940,-13726,-39095,29174,78072,76104,47778,25797,-29515,-6493,-92793,22481,-36197,-65560,42342,15750,97556,99634,-56048,-35688,13501,63969,-74291,50911,39225,93702,-3490,-59461,-30105,-46761,-80113,92906,-68487,50742,36152,-90240,-83631,24597,-50566,-15477,18470,77038,40223,-80364,-98676,70957,-63647,99537,13041,31679,86631,37633,-16866,13686,-71565,21652,-46053,-80578,-61382,68487,-6417,4656,20811,67013,-30868,-11219,46,74944,14627,56965,42275,-52480,52162,-84883,-52579,-90331,92792,42184,-73422,-58440,65308,-25069,5475,-57996,59557,-17561,2826,-56939,14996,-94855,-53707,99159,43645,-67719,-1331,21412,41704,31612,32622,1919,-69333,-69828,22422,-78842,57896,-17363,27979,-76897,35008,46482,-75289,65799,20057,7170,41326,-76069,90840,-81253,-50749,3649,-42315,45238,-33924,62101,96906,58884,-7617,-28689,-66578,62458,50876,-57553,6739,41014,-64040,-34916,37940,13048,-97478,-11318,-89440,-31933,-40357,-59737,-76718,-14104,-31774,28001,4103,41702,-25120,-31654,63085,-3642,84870,-83896,-76422,-61520,12900,88678,85547,33132,-88627,52820,63915,-27472,78867,-51439,33005,-23447,-3271,-39308,39726,-74260,-31874,-36893,93656,910,-98362,60450,-88048,99308,13947,83996,-90415,-35117,70858,-55332,-31721,97528,82982,-86218,6822,25227,36946,97077,-4257,-41526,56795,89870,75860,-70802,21779,14184,-16511,-89156,-31422,71470,69600,-78498,74079,-19410,40311,28501,26397,-67574,-32518,68510,38615,19355,-6088,-97159,-29255,-92523,3023,-42536,-88681,64255,41206,44119,52208,39522,-52108,91276,-70514,83436,63289,-79741,9623,99559,12642,85950,83735,-21156,-67208,98088,-7341,-27763,-30048,-44099,-14866,-45504,-91704,19369,13700,10481,-49344,-85686,33994,19672,36028,60842,66564,-24919,33950,-93616,-47430,-35391,-28279,56806,74690,39284,-96683,-7642,-75232,37657,-14531,-86870,-9274,-26173,98640,88652,64257,46457,37814,-19370,9337,-22556,-41525,39105,-28719,51611,-93252,98044,-90996,21710,-47605,-64259,-32727,53611,-31918,-3555,33316,-66472,21274,-37731,-2919,15016,48779,-88868,1897,41728,46344,-89667,37848,68092,-44011,85354,-43776,38739,-31423,-66330,65167,-22016,59405,34328,-60042,87660,-67698,-59174,-1408,-46809,-43485,-88807,-60489,13974,22319,55836,-62995,-37375,-4185,32687,-36551,-75237,58280,26942,-73756,71756,78775,-40573,14367,-71622,-77338,24112,23414,-7679,-51721,87492,85066,-21612,57045,10673,-96836,52461,-62218,-9310,65862,-22748,89906,-96987,-98698,26956,-43428,46141,47456,28095,55952,67323,-36455,-60202,-43302,-82932,42020,77036,10142,60406,70331,63836,58850,-66752,52109,21395,-10238,-98647,-41962,27778,69060,98535,-28680,-52263,-56679,66103,-42426,27203,80021,10153,58678,36398,63112,34911,20515,62082,-15659,-40785,27054,43767,-20289,65838,-6954,-60228,-72226,52236,-35464,25209,-15462,-79617,-41668,-84083,62404,-69062,18913,46545,20757,13805,24717,-18461,-47009,-25779,68834,64824,34473,39576,31570,14861,-15114,-41233,95509,68232,67846,84902,-83060,17642,-18422,73688,77671,-26930,64484,-99637,73875,6428,21034,-73471,19664,-68031,15922,-27028,48137,54955,-82793,-41144,-10218,-24921,-28299,-2288,68518,-54452,15686,-41814,66165,-72207,-61986,80020,50544,-99500,16244,78998,40989,14525,-56061,-24692,-94790,21111,37296,-90794,72100,70550,-31757,17708,-74290,61910,78039,-78629,-25033,73172,-91953,10052,64502,99585,-1741,90324,-73723,68942,28149,30218,24422,16659,10710,-62594,94249,96588,46192,34251,73500,-65995,-81168,41412,-98724,-63710,-54696,-52407,19746,45869,27821,-94866,-76705,-13417,-61995,-71560,43450,67384,-8838,-80293,-28937,23330,-89694,-40586,46918,80429,-5475,78013,25309,-34162,37236,-77577,86744,26281,-29033,-91813,35347,13033,-13631,-24459,3325,-71078,-75359,81311,19700,47678,-74680,-84113,45192,35502,37675,19553,76522,-51098,-18211,89717,4508,-82946,27749,85995,89912,-53678,-64727,-14778,32075,-63412,-40524,86440,-2707,-36821,63850,-30883,67294,-99468,-23708,34932,34386,98899,29239,-23385,5897,54882,98660,49098,70275,17718,88533,52161,63340,50061,-89457,19491,-99156,24873,-17008,64610,-55543,50495,17056,-10400,-56678,-29073,-42960,-76418,98562,-88104,-96255,10159,-90724,54011,12052,45871,-90933,-69420,67039,37202,78051,-52197,-40278,-58425,65414,-23394,-1415,6912,-53447,7352,17307,-78147,63727,98905,55412,-57658,-32884,-44878,22755,39730,3638,35111,39777,74193,38736,-11829,-61188,-92757,55946,-71232,-63032,-83947,39147,-96684,-99233,25131,-32197,24406,-55428,-61941,25874,-69453,64483,-19644,-68441,12783,87338,-48676,66451,-447,-61590,50932,-11270,29035,65698,-63544,10029,80499,-9461,86368,91365,-81810,-71914,-52056,-13782,44240,-30093,-2437,24007,67581,-17365,-69164,-8420,-69289,-29370,48010,90439,13141,69243,50668,39328,61731,78266,-81313,17921,-38196,55261,9948,-24970,75712,-72106,28696,7461,31621,61047,51476,56512,11839,-96916,-82739,28924,-99927,58449,37280,69357,11219,-32119,-62050,-48745,-83486,-52376,42668,82659,68882,38773,46269,-96005,97630,25009,-2951,-67811,99801,81587,-79793,-18547,-83086,69512,33127,-92145,-88497,47703,59527,1909,88785,-88882,69188,-46131,-5589,-15086,36255,-53238,-33009,82664,53901,35939,-42946,-25571,33298,69291,53199,74746,-40127,-39050,91033,51717,-98048,87240,36172,65453,-94425,-63694,-30027,59004,88660,3649,-20267,-52565,-67321,34037,4320,91515,-56753,60115,27134,68617,-61395,-26503,-98929,-8849,-63318,10709,-16151,61905,-95785,5262,23670,-25277,90206,-19391,45735,37208,-31992,-92450,18516,-90452,-58870,-58602,93383,14333,17994,82411,-54126,-32576,35440,-60526,-78764,-25069,-9022,-394,92186,-38057,55328,-61569,67780,77169,19546,-92664,-94948,44484,-13439,83529,27518,-48333,72998,38342,-90553,-98578,-76906,81515,-16464,78439,92529,35225,-39968,-10130,-7845,-32245,-74955,-74996,67731,-13897,-82493,33407,93619,59560,-24404,-57553,19486,-45341,34098,-24978,-33612,79058,71847,76713,-95422,6421,-96075,-59130,-28976,-16922,-62203,69970,68331,21874,40551,89650,51908,58181,66480,-68177,34323,-3046,-49656,-59758,43564,-10960,-30796,15473,-20216,46085,-85355,41515,-30669,-87498,57711,56067,63199,-83805,62042,91213,-14606,4394,-562,74913,10406,96810,-61595,32564,31640,-9732,42058,98052,-7908,-72330,1558,-80301,34878,32900,3939,-8824,88316,20937,21566,-3218,-66080,-31620,86859,54289,90476,-42889,-15016,-18838,75456,30159,-67101,42328,-92703,85850,-5475,23470,-80806,68206,17764,88235,46421,-41578,74005,-81142,80545,20868,-1560,64017,83784,68863,-97516,-13016,-72223,79630,-55692,82255,88467,28007,-34686,-69049,-41677,88535,-8217,68060,-51280,28971,49088,49235,26905,-81117,-44888,40623,74337,-24662,97476,79542,-72082,-35093,98175,-61761,-68169,59697,-62542,-72965,59883,-64026,-37656,-92392,-12113,-73495,98258,68379,-21545,64607,-70957,-92254,-97460,-63436,-8853,-19357,-51965,-76582,12687,-49712,45413,-60043,33496,31539,-57347,41837,67280,-68813,52088,-13155,-86430,-15239,-45030,96041,18749,-23992,46048,35243,-79450,85425,-58524,88781,-39454,53073,-48864,-82289,39086,82540,-11555,25014,-5431,-39585,-89526,2705,31953,-81611,36985,-56022,68684,-27101,11422,64655,-26965,-63081,-13840,-91003,-78147,-8966,41488,1988,99021,-61575,-47060,65260,-23844,-21781,-91865,-19607,44808,2890,63692,-88663,-58272,15970,-65195,-45416,-48444,-78226,-65332,-24568,42833,-1806,-71595,80002,-52250,30952,48452,-90106,31015,-22073,62339,63318,78391,28699,77900,-4026,-76870,-45943,33665,9174,-84360,-22684,-16832,-67949,-38077,-38987,-32847,51443,-53580,-13505,9344,-92337,26585,70458,-52764,-67471,-68411,-1119,-2072,-93476,67981,40887,-89304,-12235,41488,1454,5355,-34855,-72080,24514,-58305,3340,34331,8731,77451,-64983,-57876,82874,62481,-32754,-39902,22451,-79095,-23904,78409,-7418,77916]\n",
    "#%time sorted_nums = sorted(nums)\n",
    "%time len(fourSum(nums[:200], 0))"
   ]
  },
  {
   "cell_type": "markdown",
   "id": "e12c1499",
   "metadata": {},
   "source": [
    "### 20210913<a id='1189'></a>\n",
    "<strong>1189. Maximum Number of Balloons</strong>\n",
    "\n",
    "Given a string text, you want to use the characters of text to form as many instances of the word \"balloon\" as possible.\n",
    "\n",
    "You can use each character in text at most once. Return the maximum number of instances that can be formed."
   ]
  },
  {
   "cell_type": "code",
   "execution_count": null,
   "id": "aea4691f",
   "metadata": {},
   "outputs": [],
   "source": [
    "def maxNumberOfBalloons(text):\n",
    "    import collections\n",
    "    target = ['b', 'a', 'l', 'o', 'n']\n",
    "    count = collections.defaultdict(int)\n",
    "    \n",
    "    for char in text:\n",
    "        if char in target:\n",
    "            count[char] += 1\n",
    "    \n",
    "    return min(count['b'],count['a'],int(count['l']/2),int(count['o']/2),count['n'])"
   ]
  },
  {
   "cell_type": "code",
   "execution_count": null,
   "id": "c59f6d35",
   "metadata": {},
   "outputs": [],
   "source": [
    "text = \"nlaebolko\"\n",
    "maxNumberOfBalloons(text)"
   ]
  },
  {
   "cell_type": "code",
   "execution_count": null,
   "id": "369cb24d",
   "metadata": {},
   "outputs": [],
   "source": [
    "text = \"leetcode\"\n",
    "maxNumberOfBalloons(text)"
   ]
  },
  {
   "cell_type": "code",
   "execution_count": null,
   "id": "6f92e279",
   "metadata": {},
   "outputs": [],
   "source": [
    "text = \"loonbalxballpoon\"\n",
    "maxNumberOfBalloons(text)"
   ]
  },
  {
   "cell_type": "code",
   "execution_count": null,
   "id": "fe109774",
   "metadata": {},
   "outputs": [],
   "source": [
    "text = \"balloonballoonballoon\"\n",
    "maxNumberOfBalloons(text)"
   ]
  },
  {
   "cell_type": "markdown",
   "id": "57a7dc72",
   "metadata": {},
   "source": [
    "### 20210914<a id='917'></a>\n",
    "<strong>917. Reverse Only Letters</strong>\n",
    "\n",
    "Given a string s, reverse the string according to the following rules:\n",
    "\n",
    "- All the characters that are not English letters remain in the same position.\n",
    "- All the English letters (lowercase or uppercase) should be reversed.\n",
    "\n",
    "Return s after reversing it."
   ]
  },
  {
   "cell_type": "code",
   "execution_count": null,
   "id": "07547a1d",
   "metadata": {},
   "outputs": [],
   "source": [
    "def reverseOnlyLetters(s):\n",
    "    letter = []\n",
    "    ans = [None] * len(s)\n",
    "    for i in range(len(s) - 1, -1, -1):\n",
    "        if not s[i].isalpha():\n",
    "            ans[i] = s[i]\n",
    "        else:\n",
    "            letter.append(s[i])\n",
    "    \n",
    "    i = 0\n",
    "    j = 0\n",
    "    while i < len(ans) and j < len(letter):\n",
    "        while ans[i] is not None:\n",
    "            i += 1\n",
    "        ans[i] = letter[j]\n",
    "        j += 1\n",
    "    \n",
    "    return ''.join(ans)"
   ]
  },
  {
   "cell_type": "code",
   "execution_count": null,
   "id": "8fb33b21",
   "metadata": {},
   "outputs": [],
   "source": [
    "def reverseOnlyLetters(s):\n",
    "    letter = [c for c in s if c.isalpha()]\n",
    "    \n",
    "    ans = []\n",
    "    for char in s:\n",
    "        if char.isalpha():\n",
    "            ans.append(letter.pop())\n",
    "        else:\n",
    "            ans.append(char)\n",
    "    return ''.join(ans)"
   ]
  },
  {
   "cell_type": "code",
   "execution_count": null,
   "id": "64ff59a9",
   "metadata": {},
   "outputs": [],
   "source": [
    "def reverseOnlyLetters(s):\n",
    "    right = len(s) - 1\n",
    "    ans = []\n",
    "    for i in range(len(s)):\n",
    "        if s[i].isalpha():\n",
    "            while not s[right].isalpha():\n",
    "                right -= 1\n",
    "            ans.append(s[right])\n",
    "            right -= 1\n",
    "        else:\n",
    "            ans.append(s[i])\n",
    "    return ''.join(ans)    "
   ]
  },
  {
   "cell_type": "code",
   "execution_count": null,
   "id": "61e17985",
   "metadata": {},
   "outputs": [],
   "source": [
    "chr(33), chr(64), chr(65), chr(122), ord(']'), ord('A'), ord('Z'), ord('a'), ord('z')"
   ]
  },
  {
   "cell_type": "code",
   "execution_count": null,
   "id": "c6e53179",
   "metadata": {},
   "outputs": [],
   "source": [
    "s = \"a-bC-dEf-ghIj\"\n",
    "reverseOnlyLetters(s) == \"j-Ih-gfE-dCba\""
   ]
  },
  {
   "cell_type": "code",
   "execution_count": null,
   "id": "b6629402",
   "metadata": {},
   "outputs": [],
   "source": [
    "s = \"Test1ng-Leet=code-Q!\"\n",
    "reverseOnlyLetters(s) == \"Qedo1ct-eeLg=ntse-T!\""
   ]
  },
  {
   "cell_type": "code",
   "execution_count": null,
   "id": "40c98226",
   "metadata": {},
   "outputs": [],
   "source": [
    "s = \"7_28]\"\n",
    "reverseOnlyLetters(s) == \"7_28]\""
   ]
  },
  {
   "cell_type": "markdown",
   "id": "eb95a60e",
   "metadata": {},
   "source": [
    "### 20210914<a id='17'></a>\n",
    "<strong>17. Reverse Only Letters</strong>\n",
    "\n",
    "Given a string containing digits from 2-9 inclusive, return all possible letter combinations that the number could represent. Return the answer in any order.\n",
    "\n",
    "A mapping of digit to letters (just like on the telephone buttons) is given below. Note that 1 does not map to any letters.\n",
    "\n"
   ]
  },
  {
   "cell_type": "code",
   "execution_count": null,
   "id": "a6606e2b",
   "metadata": {},
   "outputs": [],
   "source": [
    "def letterCombinations(digits):\n",
    "    \n",
    "    if len(digits) == 0:\n",
    "        return []\n",
    "    \n",
    "    a = {i:[chr(90+i*3+1),chr(90+i*3+2),chr(90+i*3+3)] for i in range(2,7)}\n",
    "    b = {7:['p', 'q', 'r', 's'], 8:['t', 'u', 'v'], 9:['w', 'x', 'y', 'z']}\n",
    "    digit_dict = {**a, **b}\n",
    "    letters = [digit_dict[int(d)] for d in digits]\n",
    "    \n",
    "    ans = letters[0]\n",
    "    \n",
    "    for i in range(1, len(letters)):\n",
    "        temp = []\n",
    "        for j in range(len(ans)):\n",
    "            for k in range(len(letters[i])):\n",
    "                temp.append(ans[j] + letters[i][k])\n",
    "        ans = temp\n",
    "    \n",
    "    return ans\n",
    "        "
   ]
  },
  {
   "cell_type": "code",
   "execution_count": null,
   "id": "ba10c48c",
   "metadata": {},
   "outputs": [],
   "source": [
    "a = {i:[chr(90+i*3+1),chr(90+i*3+2),chr(90+i*3+3)] for i in range(2,7)}\n",
    "b = {7:['p', 'q', 'r', 's'], 8:['t', 'u', 'v'], 9:['w', 'x', 'y', 'z']}\n",
    "{**a, **b}"
   ]
  },
  {
   "cell_type": "code",
   "execution_count": null,
   "id": "d5cdf593",
   "metadata": {},
   "outputs": [],
   "source": [
    "digits = \"23\"\n",
    "letterCombinations(digits)"
   ]
  },
  {
   "cell_type": "code",
   "execution_count": null,
   "id": "205002f6",
   "metadata": {},
   "outputs": [],
   "source": [
    "digits = \"2\"\n",
    "letterCombinations(digits)"
   ]
  },
  {
   "cell_type": "code",
   "execution_count": null,
   "id": "1acb09f3",
   "metadata": {},
   "outputs": [],
   "source": [
    "digits = \"2567\"\n",
    "letterCombinations(digits)"
   ]
  },
  {
   "cell_type": "markdown",
   "id": "21fe5bc9",
   "metadata": {},
   "source": [
    "### 20210914<a id='978'></a>\n",
    "<strong>978. Longest Turbulent Subarray</strong>\n",
    "Given an integer array arr, return the length of a maximum size turbulent subarray of arr.\n",
    "\n",
    "A subarray is turbulent if the comparison sign flips between each adjacent pair of elements in the subarray.\n",
    "\n",
    "More formally, a subarray [arr[i], arr[i + 1], ..., arr[j]] of arr is said to be turbulent if and only if:\n",
    "\n",
    "- For i <= k < j:\n",
    "arr[k] > arr[k + 1] when k is odd, and\n",
    "arr[k] < arr[k + 1] when k is even.\n",
    "- Or, for i <= k < j:\n",
    "arr[k] > arr[k + 1] when k is even, and\n",
    "arr[k] < arr[k + 1] when k is odd."
   ]
  },
  {
   "cell_type": "code",
   "execution_count": null,
   "id": "c95d3bd1",
   "metadata": {},
   "outputs": [],
   "source": [
    "def maxTurbulenceSize(arr):\n",
    "    if len(arr) == 1:\n",
    "        return 1\n",
    "    \n",
    "    ans = 1\n",
    "    sign = 0\n",
    "    count = ans\n",
    "    for i in range(1, len(arr)):\n",
    "        \n",
    "        if arr[i] - arr[i-1] == 0:\n",
    "            count = 1\n",
    "            sign = 0\n",
    "        elif (arr[i] - arr[i-1])/abs(arr[i] - arr[i-1]) == sign:\n",
    "            count = 2\n",
    "            sign = (arr[i] - arr[i-1])/abs(arr[i] - arr[i-1])\n",
    "        else:\n",
    "            count += 1\n",
    "            ans = max(ans, count)\n",
    "            sign = (arr[i] - arr[i-1])/abs(arr[i] - arr[i-1])\n",
    "                    \n",
    "    return ans"
   ]
  },
  {
   "cell_type": "code",
   "execution_count": null,
   "id": "02bd0cad",
   "metadata": {},
   "outputs": [],
   "source": [
    "def maxTurbulenceSize(arr):    \n",
    "    ans = 1\n",
    "    sign = 0\n",
    "    count = ans\n",
    "    for i in range(1, len(arr)):    \n",
    "        if arr[i] == arr[i-1]:\n",
    "            count = 1\n",
    "            sign = 0\n",
    "        elif arr[i] > arr[i-1]:\n",
    "            if sign == -1:\n",
    "                count += 1\n",
    "            else:\n",
    "                count = 2\n",
    "            sign = 1\n",
    "        else:\n",
    "            if sign == 1:\n",
    "                count += 1\n",
    "            else:\n",
    "                count = 2\n",
    "            sign = -1\n",
    "        ans = max(count, ans)\n",
    "        \n",
    "    return ans"
   ]
  },
  {
   "cell_type": "code",
   "execution_count": null,
   "id": "5d8af402",
   "metadata": {},
   "outputs": [],
   "source": [
    "arr = [9,4,2,10,7,8,8,1,9]\n",
    "maxTurbulenceSize(arr)"
   ]
  },
  {
   "cell_type": "code",
   "execution_count": null,
   "id": "53149cd1",
   "metadata": {},
   "outputs": [],
   "source": [
    "arr = [9,9]\n",
    "maxTurbulenceSize(arr)"
   ]
  },
  {
   "cell_type": "code",
   "execution_count": null,
   "id": "ff227a41",
   "metadata": {},
   "outputs": [],
   "source": [
    "arr = [1]\n",
    "maxTurbulenceSize(arr)"
   ]
  },
  {
   "cell_type": "markdown",
   "id": "60c4fedd",
   "metadata": {},
   "source": [
    "### 20210916<a id='54'></a>\n",
    "<strong>54. Spiral Matrix</strong>\n",
    "Given an m x n matrix, return all elements of the matrix in spiral order."
   ]
  },
  {
   "cell_type": "code",
   "execution_count": null,
   "id": "80eefebd",
   "metadata": {},
   "outputs": [],
   "source": [
    "def spiralOrder(matrix):\n",
    "    m = len(matrix)\n",
    "    n = len(matrix[0])\n",
    "    right = n\n",
    "    bot = m\n",
    "    left = -1\n",
    "    up = -1\n",
    "    ans = []\n",
    "    i = 0\n",
    "    j = 0\n",
    "    \n",
    "    while True:\n",
    "        if right > left and j < right: #travel right\n",
    "            while j < right:\n",
    "                ans.append(matrix[i][j])\n",
    "                j += 1\n",
    "        else:\n",
    "            break\n",
    "        up += 1\n",
    "        i += 1\n",
    "        j -= 1\n",
    "        #print('r',i,j,right,ans)\n",
    "        \n",
    "        if bot > up and i < bot: #travel bottom\n",
    "            while i < bot:\n",
    "                ans.append(matrix[i][j])\n",
    "                i += 1\n",
    "        else:\n",
    "            break\n",
    "        bot -= 1\n",
    "        j -= 1\n",
    "        i -= 1\n",
    "        #print('b',i,j,bot,ans)\n",
    "        \n",
    "        if left < right and j > left: #travel left\n",
    "            while j > left:\n",
    "                ans.append(matrix[i][j])\n",
    "                j -= 1\n",
    "        else:\n",
    "            break\n",
    "        left += 1\n",
    "        i -= 1\n",
    "        j += 1\n",
    "        #print('l',i,j,left,ans)\n",
    "        \n",
    "        if up < bot and i > up: #travel up\n",
    "            while i > up:\n",
    "                ans.append(matrix[i][j])\n",
    "                i -= 1\n",
    "        else:\n",
    "            break\n",
    "        right -= 1\n",
    "        j += 1\n",
    "        i += 1\n",
    "        #print('up',i,j,up,ans)\n",
    "        \n",
    "    return ans"
   ]
  },
  {
   "cell_type": "code",
   "execution_count": null,
   "id": "4c6c03f1",
   "metadata": {},
   "outputs": [],
   "source": [
    "matrix = [[1,2,3],[4,5,6],[7,8,9]]\n",
    "spiralOrder(matrix) == [1,2,3,6,9,8,7,4,5]"
   ]
  },
  {
   "cell_type": "code",
   "execution_count": null,
   "id": "93dccab1",
   "metadata": {},
   "outputs": [],
   "source": [
    "matrix = [[1,2,3,4],[5,6,7,8],[9,10,11,12]]\n",
    "spiralOrder(matrix) == [1,2,3,4,8,12,11,10,9,5,6,7]"
   ]
  },
  {
   "cell_type": "code",
   "execution_count": null,
   "id": "0def4deb",
   "metadata": {},
   "outputs": [],
   "source": [
    "matrix = [[1,2,3,4,5],[6,7,8,9,10],[11,12,13,14,15],[16,17,18,19,20],[21,22,23,24,25]]\n",
    "spiralOrder(matrix) == [1,2,3,4,5,10,15,20,25,24,23,22,21,16,11,6,7,8,9,14,19,18,17,12,13]"
   ]
  },
  {
   "cell_type": "code",
   "execution_count": null,
   "id": "aa1e1536",
   "metadata": {},
   "outputs": [],
   "source": [
    "matrix = [[1],[2],[3]]\n",
    "spiralOrder(matrix)"
   ]
  },
  {
   "cell_type": "markdown",
   "id": "3eda4adb",
   "metadata": {},
   "source": [
    "### 20210917<a id='350'></a>\n",
    "<strong>350. Intersection of Two Arrays II </strong>\n",
    "\n",
    "Given two integer arrays nums1 and nums2, return an array of their intersection. Each element in the result must appear as many times as it shows in both arrays and you may return the result in any order."
   ]
  },
  {
   "cell_type": "code",
   "execution_count": null,
   "id": "1295f622",
   "metadata": {},
   "outputs": [],
   "source": [
    "def intersect(nums1, nums2):\n",
    "    num1_sort = sorted(nums1)\n",
    "    num2_sort = sorted(nums2)\n",
    "    first = 0\n",
    "    second = 0\n",
    "    ans = []\n",
    "    \n",
    "    while first < len(num1_sort) and second < len(num2_sort):\n",
    "        num1 = num1_sort[first]\n",
    "        num2 = num2_sort[second]\n",
    "        if num1 < num2:\n",
    "            first += 1\n",
    "        elif num1 > num2:\n",
    "            second += 1\n",
    "        else:\n",
    "            ans.append(num1)\n",
    "            first += 1\n",
    "            second += 1\n",
    "    \n",
    "    return ans"
   ]
  },
  {
   "cell_type": "code",
   "execution_count": null,
   "id": "f600da11",
   "metadata": {},
   "outputs": [],
   "source": [
    "nums1 = [1,2,2,1]\n",
    "nums2 = [2,2]\n",
    "intersect(nums1, nums2)"
   ]
  },
  {
   "cell_type": "code",
   "execution_count": null,
   "id": "ccb001e8",
   "metadata": {},
   "outputs": [],
   "source": [
    "nums1 = [4,9,5] \n",
    "nums2 = [9,4,9,8,4]\n",
    "intersect(nums1, nums2)"
   ]
  },
  {
   "cell_type": "markdown",
   "id": "4167102c",
   "metadata": {},
   "source": [
    "### 20210917<a id='19'></a>\n",
    "<strong>19. Remove Nth Node From End of List </strong>\n",
    "\n",
    "Given the head of a linked list, remove the nth node from the end of the list and return its head."
   ]
  },
  {
   "cell_type": "code",
   "execution_count": null,
   "id": "67828ba2",
   "metadata": {},
   "outputs": [],
   "source": [
    "class ListNode:\n",
    "    def __init__(self, val=0, next=None):\n",
    "        self.val = val\n",
    "        self.next = next\n",
    "    \n",
    "    def __str__(self):\n",
    "        result = \"[\"\n",
    "        node = self\n",
    "        if node != None:\n",
    "            result += str(node.val)\n",
    "            node = node.next\n",
    "            while node is not None:\n",
    "                result += \", \" + str(node.val)\n",
    "                node = node.next\n",
    "        result += \"]\"\n",
    "        return result   "
   ]
  },
  {
   "cell_type": "code",
   "execution_count": null,
   "id": "f03013ea",
   "metadata": {},
   "outputs": [],
   "source": [
    "def removeNthFromEnd(head, n):\n",
    "    dummy = ListNode(0, head)\n",
    "    \n",
    "    cur = dummy.next\n",
    "    pop = dummy\n",
    "    \n",
    "    for i in range(n-1):\n",
    "        cur = cur.next\n",
    "    \n",
    "    while cur.next is not None:\n",
    "        pop = pop.next\n",
    "        cur = cur.next\n",
    "        \n",
    "    pop.next = pop.next.next\n",
    "    \n",
    "    return dummy.next"
   ]
  },
  {
   "cell_type": "code",
   "execution_count": null,
   "id": "2a048039",
   "metadata": {},
   "outputs": [],
   "source": [
    "[1,2,3,4,5]\n",
    "head = ListNode(1,ListNode(2,ListNode(3,ListNode(4,ListNode(5)))))\n",
    "n = 2\n",
    "print(removeNthFromEnd(head,n))"
   ]
  },
  {
   "cell_type": "code",
   "execution_count": null,
   "id": "abdb69cf",
   "metadata": {},
   "outputs": [],
   "source": [
    "head = ListNode(1,ListNode(2,ListNode(3,ListNode(4,ListNode(5)))))\n",
    "n = 3\n",
    "print(removeNthFromEnd(head,n))"
   ]
  },
  {
   "cell_type": "code",
   "execution_count": null,
   "id": "78020510",
   "metadata": {},
   "outputs": [],
   "source": [
    "head = ListNode(1)\n",
    "n = 1\n",
    "print(removeNthFromEnd(head,n))"
   ]
  },
  {
   "cell_type": "code",
   "execution_count": null,
   "id": "ab52e357",
   "metadata": {},
   "outputs": [],
   "source": [
    "head = ListNode(1,ListNode(2))\n",
    "n = 2\n",
    "print(removeNthFromEnd(head,n))"
   ]
  },
  {
   "cell_type": "markdown",
   "id": "3dda6a40",
   "metadata": {},
   "source": [
    "### 20210920<a id='1275'></a>\n",
    "<strong>1275. Find Winner on a Tic Tac Toe Game </strong>\n",
    "\n",
    "Tic-tac-toe is played by two players A and B on a 3 x 3 grid.\n",
    "\n",
    "Here are the rules of Tic-Tac-Toe:\n",
    "\n",
    "Players take turns placing characters into empty squares (\" \").\n",
    "The first player A always places \"X\" characters, while the second player B always places \"O\" characters.\n",
    "\"X\" and \"O\" characters are always placed into empty squares, never on filled ones.\n",
    "The game ends when there are 3 of the same (non-empty) character filling any row, column, or diagonal.\n",
    "The game also ends if all squares are non-empty.\n",
    "No more moves can be played if the game is over.\n",
    "Given an array moves where each element is another array of size 2 corresponding to the row and column of the grid where they mark their respective character in the order in which A and B play.\n",
    "\n",
    "Return the winner of the game if it exists (A or B), in case the game ends in a draw return \"Draw\", if there are still movements to play return \"Pending\".\n",
    "\n",
    "You can assume that moves is valid (It follows the rules of Tic-Tac-Toe), the grid is initially empty and A will play first."
   ]
  },
  {
   "cell_type": "code",
   "execution_count": null,
   "id": "6f4ba0de",
   "metadata": {},
   "outputs": [],
   "source": [
    "def tictactoe(moves):\n",
    "    board = [[0]*3 for i in range(3)]\n",
    "    cur = 1\n",
    "    for i,j in moves:\n",
    "        board[i][j] = cur\n",
    "        cur *= -1\n",
    "    \n",
    "    winner = 0\n",
    "    \n",
    "    for i in range(3):\n",
    "        if board[i][0] == board[i][1] and board[i][0] == board[i][2] and board[i][0] != 0:\n",
    "            winner = board[i][0]\n",
    "            break\n",
    "        if board[0][i] == board[1][i] and board[0][i] == board[2][i] and board[0][i] != 0:\n",
    "            winner = board[0][i]\n",
    "            break\n",
    "    \n",
    "    if winner == 0:\n",
    "        if board[0][0] == board[1][1] and board[0][0] == board[2][2] and board[0][0] != 0:\n",
    "            winner = board[0][0]\n",
    "        elif board[2][0] == board[1][1] and board[2][0] == board[0][2] and board[2][0] != 0:\n",
    "            winner = board[2][0]\n",
    "    \n",
    "    if winner == 1:\n",
    "        return 'A'\n",
    "    elif winner == -1:\n",
    "        return 'B'\n",
    "    elif len(moves) == 9:\n",
    "        return 'Draw'\n",
    "    else:\n",
    "        return 'Pending'"
   ]
  },
  {
   "cell_type": "code",
   "execution_count": null,
   "id": "3fcd608b",
   "metadata": {},
   "outputs": [],
   "source": [
    "moves = [[0,0],[2,0],[1,1],[2,1],[2,2]]\n",
    "tictactoe(moves)"
   ]
  },
  {
   "cell_type": "code",
   "execution_count": null,
   "id": "12dccc5c",
   "metadata": {},
   "outputs": [],
   "source": [
    "moves = [[0,0],[1,1],[0,1],[0,2],[1,0],[2,0]]\n",
    "tictactoe(moves)"
   ]
  },
  {
   "cell_type": "code",
   "execution_count": null,
   "id": "21b5cae8",
   "metadata": {},
   "outputs": [],
   "source": [
    "moves = [[0,0],[1,1],[2,0],[1,0],[1,2],[2,1],[0,1],[0,2],[2,2]]\n",
    "tictactoe(moves)"
   ]
  },
  {
   "cell_type": "code",
   "execution_count": null,
   "id": "748fce5f",
   "metadata": {},
   "outputs": [],
   "source": [
    "moves = [[0,0],[1,1]]\n",
    "tictactoe(moves)"
   ]
  },
  {
   "cell_type": "markdown",
   "id": "a371183f",
   "metadata": {},
   "source": [
    "### 20210920<a id='509'></a>\n",
    "<strong>509. Fibonacci Number </strong>\n",
    "\n",
    "The Fibonacci numbers, commonly denoted F(n) form a sequence, called the Fibonacci sequence, such that each number is the sum of the two preceding ones, starting from 0 and 1. That is,\n",
    "\n",
    "- F(0) = 0, F(1) = 1\n",
    "- F(n) = F(n - 1) + F(n - 2), for n > 1.\n",
    "\n",
    "Given n, calculate F(n)."
   ]
  },
  {
   "cell_type": "code",
   "execution_count": null,
   "id": "0d88fc81",
   "metadata": {},
   "outputs": [],
   "source": [
    "def fib(n):\n",
    "    num = [0,1]\n",
    "    \n",
    "    def dp(n, num):\n",
    "        if n < len(num) + 1:\n",
    "            if n == 0:\n",
    "                return 0\n",
    "            elif n == 1:\n",
    "                return 1\n",
    "            else:\n",
    "                return num[n-1] + num[n-2]\n",
    "        else:\n",
    "            num.append(dp(n-1, num))\n",
    "            return num[n-1] + num[n-2]\n",
    "    \n",
    "    return dp(n, num)"
   ]
  },
  {
   "cell_type": "code",
   "execution_count": null,
   "id": "79e3e166",
   "metadata": {},
   "outputs": [],
   "source": [
    "fib(100) == 354224848179261915075"
   ]
  },
  {
   "cell_type": "markdown",
   "id": "8fab69ba",
   "metadata": {},
   "source": [
    "### 20210920<a id='1137'></a>\n",
    "<strong>1137. N-th Tribonacci Number </strong>\n",
    "\n",
    "The Tribonacci sequence Tn is defined as follows: \n",
    "\n",
    "T0 = 0, T1 = 1, T2 = 1, and Tn+3 = Tn + Tn+1 + Tn+2 for n >= 0.\n",
    "\n",
    "Given n, return the value of Tn."
   ]
  },
  {
   "cell_type": "code",
   "execution_count": null,
   "id": "4ca4b0fb",
   "metadata": {},
   "outputs": [],
   "source": [
    "def tribonacci(n):\n",
    "    num = [0, 1, 1]\n",
    "    \n",
    "    def dp(n, num):\n",
    "        if n < 3:\n",
    "            return num[n]\n",
    "        elif n < len(num) + 1:\n",
    "            return num[n-1] + num[n-2] + num[n-3]\n",
    "        else:\n",
    "            num.append(dp(n-1, num))\n",
    "            return num[n-1] + num[n-2] + num[n-3]\n",
    "    \n",
    "    return dp(n, num)"
   ]
  },
  {
   "cell_type": "code",
   "execution_count": null,
   "id": "d21e0867",
   "metadata": {},
   "outputs": [],
   "source": [
    "tribonacci(25)"
   ]
  },
  {
   "cell_type": "markdown",
   "id": "f4043089",
   "metadata": {},
   "source": [
    "### 20210921<a id='485'></a>\n",
    "<strong>485. Max Consecutive Ones</strong>\n",
    "\n",
    "Given a binary array nums, return the maximum number of consecutive 1's in the array.\n",
    "\n"
   ]
  },
  {
   "cell_type": "code",
   "execution_count": null,
   "id": "262d77d0",
   "metadata": {},
   "outputs": [],
   "source": [
    "def findMaxConsecutiveOnes(nums):\n",
    "    ans = 0\n",
    "    temp = 0 \n",
    "    for num in nums:\n",
    "        if num == 1:\n",
    "            temp += 1\n",
    "        else:\n",
    "            ans = max(ans, temp)\n",
    "            temp = 0\n",
    "    \n",
    "    ans = max(ans, temp)\n",
    "    \n",
    "    return ans"
   ]
  },
  {
   "cell_type": "code",
   "execution_count": null,
   "id": "a228e7d7",
   "metadata": {},
   "outputs": [],
   "source": [
    "nums = [1,1,0,1,1,1]\n",
    "findMaxConsecutiveOnes(nums)"
   ]
  },
  {
   "cell_type": "code",
   "execution_count": null,
   "id": "983985da",
   "metadata": {},
   "outputs": [],
   "source": [
    "nums = [1,0,1,1,0,1]\n",
    "findMaxConsecutiveOnes(nums)"
   ]
  },
  {
   "cell_type": "code",
   "execution_count": null,
   "id": "98fb0e3d",
   "metadata": {},
   "outputs": [],
   "source": [
    "nums = [0]\n",
    "findMaxConsecutiveOnes(nums)"
   ]
  },
  {
   "cell_type": "code",
   "execution_count": null,
   "id": "ac017b46",
   "metadata": {},
   "outputs": [],
   "source": [
    "nums = [1]\n",
    "findMaxConsecutiveOnes(nums)"
   ]
  },
  {
   "cell_type": "markdown",
   "id": "3834d321",
   "metadata": {},
   "source": [
    "### 20210922<a id='1239'></a>\n",
    "<strong>1239.Maximum Length of a Concatenated String with Unique Characters</strong>\n",
    "\n",
    "Given an array of strings arr. String s is a concatenation of a sub-sequence of arr which have unique characters.\n",
    "\n",
    "Return the maximum possible length of s."
   ]
  },
  {
   "cell_type": "code",
   "execution_count": null,
   "id": "edd33876",
   "metadata": {},
   "outputs": [],
   "source": [
    "def maxLength(arr):\n",
    "    words = ['']\n",
    "    def dp(word, arr):\n",
    "        if len(arr) == 1:\n",
    "            if len(set(word + arr[0])) == len(word + arr[0]):\n",
    "                words.append(word + arr[0]) \n",
    "        elif len(arr) >= 2:\n",
    "            for i in range(len(arr)):\n",
    "                cur = word + arr[i]\n",
    "                if len(set(cur)) == len(cur):\n",
    "                    words.append(cur)\n",
    "                    dp(cur, arr[i+1:])\n",
    "    word = ''\n",
    "    dp(word, arr)\n",
    "    length = [len(w) for w in words]\n",
    "    return max(length)"
   ]
  },
  {
   "cell_type": "code",
   "execution_count": null,
   "id": "3f730969",
   "metadata": {},
   "outputs": [],
   "source": [
    "arr = [\"un\",\"iq\",\"ue\"]\n",
    "maxLength(arr)"
   ]
  },
  {
   "cell_type": "code",
   "execution_count": null,
   "id": "dde9cd0c",
   "metadata": {},
   "outputs": [],
   "source": [
    "arr = [\"cha\",\"r\",\"act\",\"ers\"]\n",
    "maxLength(arr)"
   ]
  },
  {
   "cell_type": "code",
   "execution_count": null,
   "id": "d8a725d4",
   "metadata": {},
   "outputs": [],
   "source": [
    "arr = [\"abcdefghijklmnopqrstuvwxyz\",'ad','sdfs','dsfgh']\n",
    "maxLength(arr)"
   ]
  },
  {
   "cell_type": "code",
   "execution_count": null,
   "id": "712e27af",
   "metadata": {},
   "outputs": [],
   "source": [
    "arr = [\"yy\",\"bkhwmpbiisbldzknpm\"]\n",
    "maxLength(arr)"
   ]
  },
  {
   "cell_type": "code",
   "execution_count": null,
   "id": "4972f333",
   "metadata": {},
   "outputs": [],
   "source": [
    "a = '1232146'\n",
    "set(a)"
   ]
  },
  {
   "cell_type": "code",
   "execution_count": null,
   "id": "b45674a0",
   "metadata": {},
   "outputs": [],
   "source": [
    "a=[1,2,3,4,5]\n",
    "a[1:]"
   ]
  },
  {
   "cell_type": "markdown",
   "id": "96c90003",
   "metadata": {},
   "source": [
    "### 20210923<a id='1328'></a>\n",
    "<strong>1328. Break a Palindrome</strong>\n",
    "\n",
    "Given a palindromic string of lowercase English letters palindrome, replace exactly one character with any lowercase English letter so that the resulting string is not a palindrome and that it is the lexicographically smallest one possible.\n",
    "\n",
    "Return the resulting string. If there is no way to replace a character to make it not a palindrome, return an empty string.\n",
    "\n",
    "A string a is lexicographically smaller than a string b (of the same length) if in the first position where a and b differ, a has a character strictly smaller than the corresponding character in b. For example, \"abcc\" is lexicographically smaller than \"abcd\" because the first position they differ is at the fourth character, and 'c' is smaller than 'd'."
   ]
  },
  {
   "cell_type": "code",
   "execution_count": null,
   "id": "4a275cf5",
   "metadata": {},
   "outputs": [],
   "source": [
    "def breakPalindrome(palindrome):\n",
    "    if len(palindrome) == 1:\n",
    "        return ''\n",
    "    \n",
    "    word_list = list(palindrome)\n",
    "    changed = False\n",
    "    for i in range(int(len(word_list)/2)):\n",
    "        if word_list[i] != 'a':\n",
    "            word_list[i] = 'a'\n",
    "            changed = True\n",
    "            break\n",
    "    if changed == False:\n",
    "        word_list[len(word_list)-1] = 'b'\n",
    "        \n",
    "    return ''.join(word_list)      "
   ]
  },
  {
   "cell_type": "code",
   "execution_count": null,
   "id": "4637e542",
   "metadata": {},
   "outputs": [],
   "source": [
    "palindrome = \"abccba\"\n",
    "breakPalindrome(palindrome) == \"aaccba\""
   ]
  },
  {
   "cell_type": "code",
   "execution_count": null,
   "id": "a19d072e",
   "metadata": {},
   "outputs": [],
   "source": [
    "palindrome = \"a\"\n",
    "breakPalindrome(palindrome)"
   ]
  },
  {
   "cell_type": "code",
   "execution_count": null,
   "id": "f941121d",
   "metadata": {},
   "outputs": [],
   "source": [
    "palindrome = \"aa\"\n",
    "breakPalindrome(palindrome)"
   ]
  },
  {
   "cell_type": "code",
   "execution_count": null,
   "id": "e9f6c1d3",
   "metadata": {},
   "outputs": [],
   "source": [
    "palindrome = \"aba\"\n",
    "breakPalindrome(palindrome)"
   ]
  },
  {
   "cell_type": "markdown",
   "id": "5b078fc8",
   "metadata": {},
   "source": [
    "### 20210923<a id='70'></a>\n",
    "<strong>70. Climbing Stairs</strong>\n",
    "\n",
    "You are climbing a staircase. It takes n steps to reach the top.\n",
    "\n",
    "Each time you can either climb 1 or 2 steps. In how many distinct ways can you climb to the top?"
   ]
  },
  {
   "cell_type": "code",
   "execution_count": null,
   "id": "ec0ca4b0",
   "metadata": {},
   "outputs": [],
   "source": [
    "#slow\n",
    "def climbStairs(n):\n",
    "    way = [1,1,2]\n",
    "    def dp (n, ways):\n",
    "        if n >= 2:\n",
    "            one = dp(n-1, ways)\n",
    "            two = dp(n-2, ways)\n",
    "            ways += one + two\n",
    "        else:\n",
    "            ways += 1\n",
    "        return ways\n",
    "            \n",
    "    return dp(n, 0)"
   ]
  },
  {
   "cell_type": "code",
   "execution_count": null,
   "id": "4dddd16a",
   "metadata": {},
   "outputs": [],
   "source": [
    "def climbStairs(n):\n",
    "    way = [0,1,2]\n",
    "    def dp (n, way):\n",
    "        if n < len(way):\n",
    "            return way[n]\n",
    "        else:\n",
    "            two = dp(n-2, way)\n",
    "            one = dp(n-1, way)\n",
    "            way.append(one + two)\n",
    "            return way[n]\n",
    "\n",
    "    return dp(n, way)\n",
    "\n",
    "    return dp(n, 0)"
   ]
  },
  {
   "cell_type": "code",
   "execution_count": null,
   "id": "870c14de",
   "metadata": {},
   "outputs": [],
   "source": [
    "def climbStairs(n):\n",
    "    way = [0,1,2]\n",
    "    for i in range(3, n+1):\n",
    "        way.append(way[i-1]+way[i-2])\n",
    "    return way[n]"
   ]
  },
  {
   "cell_type": "code",
   "execution_count": null,
   "id": "58094f85",
   "metadata": {},
   "outputs": [],
   "source": [
    "climbStairs(4) == 5"
   ]
  },
  {
   "cell_type": "code",
   "execution_count": null,
   "id": "022da17f",
   "metadata": {},
   "outputs": [],
   "source": [
    "climbStairs(20) == 10946"
   ]
  },
  {
   "cell_type": "code",
   "execution_count": null,
   "id": "e145f258",
   "metadata": {},
   "outputs": [],
   "source": [
    "climbStairs(45) == 1836311903"
   ]
  },
  {
   "cell_type": "markdown",
   "id": "fac9b51e",
   "metadata": {},
   "source": [
    "### 20210924<a id='746'></a>\n",
    "<strong>746. Min Cost Climbing Stairs</strong>\n",
    "\n",
    "You are given an integer array cost where cost[i] is the cost of ith step on a staircase. Once you pay the cost, you can either climb one or two steps.\n",
    "\n",
    "You can either start from the step with index 0, or the step with index 1.\n",
    "\n",
    "Return the minimum cost to reach the top of the floor."
   ]
  },
  {
   "cell_type": "code",
   "execution_count": null,
   "id": "663a9517",
   "metadata": {},
   "outputs": [],
   "source": [
    "def minCostClimbingStair(cost):\n",
    "    min_cost = [cost[0], cost[1]]\n",
    "    def dp(n):\n",
    "        if n < len(min_cost):\n",
    "            return min_cost[n]\n",
    "        else:\n",
    "            min_cost.append(min(dp(n-2), dp(n-1)) + cost[n])\n",
    "            return min_cost[n]\n",
    "    n = len(cost)\n",
    "    dp(n-1)\n",
    "    return min(min_cost[n-1], min_cost[n-2])"
   ]
  },
  {
   "cell_type": "code",
   "execution_count": null,
   "id": "87bf8ad7",
   "metadata": {},
   "outputs": [],
   "source": [
    "def minCostClimbingStair(cost):\n",
    "    min_cost = [cost[0], cost[1]]\n",
    "    for i in range(2, len(cost)):\n",
    "        min_cost.append(min(min_cost[i-2], min_cost[i-1]) + cost[i])\n",
    "    n = len(cost)\n",
    "    return min(min_cost[n-1], min_cost[n-2])"
   ]
  },
  {
   "cell_type": "code",
   "execution_count": null,
   "id": "913e1dd7",
   "metadata": {},
   "outputs": [],
   "source": [
    "cost = [10,15,20]\n",
    "minCostClimbingStair(cost) == 15"
   ]
  },
  {
   "cell_type": "code",
   "execution_count": null,
   "id": "a32520b4",
   "metadata": {},
   "outputs": [],
   "source": [
    "cost = [1,100,1,1,1,100,1,1,100,1]\n",
    "minCostClimbingStair(cost) == 6"
   ]
  },
  {
   "cell_type": "markdown",
   "id": "de7f0b6c",
   "metadata": {},
   "source": [
    "### 20210924<a id='198'></a>\n",
    "<strong>198. House Robber</strong>\n",
    "\n",
    "You are a professional robber planning to rob houses along a street. Each house has a certain amount of money stashed, the only constraint stopping you from robbing each of them is that adjacent houses have security systems connected and it will automatically contact the police if two adjacent houses were broken into on the same night.\n",
    "\n",
    "Given an integer array nums representing the amount of money of each house, return the maximum amount of money you can rob tonight without alerting the police."
   ]
  },
  {
   "cell_type": "code",
   "execution_count": null,
   "id": "016e1001",
   "metadata": {},
   "outputs": [],
   "source": [
    "#dont work\n",
    "def rob(nums):\n",
    "    import collections\n",
    "    if len(nums) == 1:\n",
    "        return nums[0]\n",
    "    if len(nums) == 2:\n",
    "        return max(nums[0], nums[1])\n",
    "    \n",
    "    max_money = collections.defaultdict(int)\n",
    "    max_money[0] = nums[0]\n",
    "    max_money[1] = nums[1]\n",
    "    max_money[2] = nums[0] + nums[2]\n",
    " \n",
    "    def dp(n):\n",
    "        if n < len(max_money):\n",
    "            return max_money[n]\n",
    "        else:\n",
    "            if n  > len(max_money):\n",
    "                money = max(dp(n-3), dp(n-4)) + nums[n-1]\n",
    "                max_money[n-1] = money\n",
    "            money = max(dp(n-2), dp(n-3)) + nums[n]\n",
    "            max_money[n] = money\n",
    "\n",
    "    n = len(nums)\n",
    "    dp(n - 1)\n",
    "    print(max_money)\n",
    "    return max(max_money.values())"
   ]
  },
  {
   "cell_type": "code",
   "execution_count": null,
   "id": "71ae6084",
   "metadata": {},
   "outputs": [],
   "source": [
    "def rob(nums):\n",
    "    if len(nums) == 1:\n",
    "        return nums[0]\n",
    "    if len(nums) == 2:\n",
    "        return max(nums[0], nums[1])\n",
    "    max_money = [nums[0], nums[1], nums[0] + nums[2]]\n",
    "    \n",
    "    for i in range(3, len(nums)):\n",
    "        money = max(max_money[i-2],max_money[i-3]) + nums[i]\n",
    "        max_money.append(money)\n",
    "    \n",
    "    return max(max_money)"
   ]
  },
  {
   "cell_type": "code",
   "execution_count": null,
   "id": "2e4b4e74",
   "metadata": {},
   "outputs": [],
   "source": [
    "nums = [1,2,3,1]\n",
    "rob(nums)"
   ]
  },
  {
   "cell_type": "code",
   "execution_count": null,
   "id": "8c910937",
   "metadata": {},
   "outputs": [],
   "source": [
    "nums = [2,7,9,3,1]\n",
    "rob(nums)"
   ]
  },
  {
   "cell_type": "code",
   "execution_count": null,
   "id": "2f7ab596",
   "metadata": {},
   "outputs": [],
   "source": [
    "nums = [4,1,2,7,5,3,1]\n",
    "rob(nums)"
   ]
  },
  {
   "cell_type": "markdown",
   "id": "aa0e100c",
   "metadata": {},
   "source": [
    "### 20210927<a id='929'></a>\n",
    "<strong>929. Unique Email Addresses</strong>\n",
    "\n",
    "Every valid email consists of a local name and a domain name, separated by the '@' sign. Besides lowercase letters, the email may contain one or more '.' or '+'.\n",
    "\n",
    "- For example, in \"alice@leetcode.com\", \"alice\" is the local name, and \"leetcode.com\" is the domain name.\n",
    "\n",
    "If you add periods '.' between some characters in the local name part of an email address, mail sent there will be forwarded to the same address without dots in the local name. Note that this rule does not apply to domain names.\n",
    "\n",
    "- For example, \"alice.z@leetcode.com\" and \"alicez@leetcode.com\" forward to the same email address.\n",
    "\n",
    "If you add a plus '+' in the local name, everything after the first plus sign will be ignored. This allows certain emails to be filtered. Note that this rule does not apply to domain names.\n",
    "\n",
    "- For example, \"m.y+name@email.com\" will be forwarded to \"my@email.com\".\n",
    "\n",
    "It is possible to use both of these rules at the same time.\n",
    "\n",
    "Given an array of strings emails where we send one email to each email[i], return the number of different addresses that actually receive mails.\n",
    "\n"
   ]
  },
  {
   "cell_type": "code",
   "execution_count": null,
   "id": "3133a3f3",
   "metadata": {},
   "outputs": [],
   "source": [
    "def numUniqueEmails(emails):\n",
    "    emails_list = [email.split('@') for email in emails]\n",
    "    local = [email[0].split(\"+\")[0].replace('.','') for email in emails_list]\n",
    "    domin = [email[1] for email in emails_list]\n",
    "    email_mod = [l + '@' + d for l,d in zip(local, domin)]\n",
    "    email_unique = list(set(email_mod))\n",
    "    return len(email_unique)\n",
    "    "
   ]
  },
  {
   "cell_type": "code",
   "execution_count": null,
   "id": "15724695",
   "metadata": {},
   "outputs": [],
   "source": [
    "emails = [\"test.emailalex@leetcode.com\",\"test.email+alex@leetcode.com\",\"test.e.mail+bob.cathy@leetcode.com\",\"testemail+david@lee.tcode.com\"]\n",
    "numUniqueEmails(emails)"
   ]
  },
  {
   "cell_type": "code",
   "execution_count": null,
   "id": "2a098902",
   "metadata": {},
   "outputs": [],
   "source": [
    "emails = [\"a@leetcode.com\",\"b@leetcode.com\",\"c@leetcode.com\"]\n",
    "numUniqueEmails(emails)"
   ]
  },
  {
   "cell_type": "markdown",
   "id": "79e21891",
   "metadata": {},
   "source": [
    "### 20210928<a id='922'></a>\n",
    "<strong>922. Sort Array By Parity II</strong>\n",
    "\n",
    "Given an array of integers nums, half of the integers in nums are odd, and the other half are even.\n",
    "\n",
    "Sort the array so that whenever nums[i] is odd, i is odd, and whenever nums[i] is even, i is even.\n",
    "\n",
    "Return any answer array that satisfies this condition."
   ]
  },
  {
   "cell_type": "code",
   "execution_count": null,
   "id": "d53ab481",
   "metadata": {},
   "outputs": [],
   "source": [
    "def sortArrayByParityII(nums):\n",
    "    even = 0\n",
    "    odd = 1\n",
    "    n = len(nums)\n",
    "    \n",
    "    while odd < n and even < n - 1:\n",
    "        while odd < n and nums[odd] % 2 == 1:\n",
    "            odd += 2\n",
    "        while even < n - 1 and nums[even] % 2 == 0:\n",
    "            even += 2\n",
    "        if odd < n and even < n - 1:\n",
    "            temp = nums[odd]\n",
    "            nums[odd] = nums[even]\n",
    "            nums[even] = temp\n",
    "            odd += 2\n",
    "            even += 2\n",
    "    \n",
    "    return nums"
   ]
  },
  {
   "cell_type": "code",
   "execution_count": null,
   "id": "96f89c7f",
   "metadata": {},
   "outputs": [],
   "source": [
    "def sortArrayByParityII(nums):\n",
    "    e = 0\n",
    "    o = 1\n",
    "    \n",
    "    while o < len(nums) and e < len(nums) - 1:\n",
    "        if nums[o] % 2 == 1:\n",
    "            o += 2\n",
    "        elif nums[e] % 2 == 0:\n",
    "            e += 2\n",
    "        else:\n",
    "            nums[o], nums[e] = nums[e], nums[o]\n",
    "            o += 2\n",
    "            e += 2\n",
    "    return nums"
   ]
  },
  {
   "cell_type": "code",
   "execution_count": null,
   "id": "b19590d6",
   "metadata": {},
   "outputs": [],
   "source": [
    "def sortArrayByParityII(nums):\n",
    "    j = 1\n",
    "    for i in range(0, len(nums), 2):\n",
    "        if nums[i] % 2:\n",
    "            while nums[j] % 2:\n",
    "                j += 2\n",
    "            nums[i], nums[j] = nums[j], nums[i]\n",
    "    return nums"
   ]
  },
  {
   "cell_type": "code",
   "execution_count": null,
   "id": "22c81184",
   "metadata": {},
   "outputs": [],
   "source": [
    "nums = [4,2,5,7]\n",
    "sortArrayByParityII(nums)"
   ]
  },
  {
   "cell_type": "code",
   "execution_count": null,
   "id": "80d344d7",
   "metadata": {},
   "outputs": [],
   "source": [
    "nums = [2,3]\n",
    "sortArrayByParityII(nums)"
   ]
  },
  {
   "cell_type": "code",
   "execution_count": null,
   "id": "1f460a2e",
   "metadata": {},
   "outputs": [],
   "source": [
    "nums = [2,4,6,8,1,3,5,7]\n",
    "sortArrayByParityII(nums)"
   ]
  },
  {
   "cell_type": "markdown",
   "id": "6ac13af1",
   "metadata": {},
   "source": [
    "### 20210928<a id='21'></a>\n",
    "<strong>21. Merge Two Sorted Lists</strong>\n",
    "\n",
    "Merge two sorted linked lists and return it as a sorted list. The list should be made by splicing together the nodes of the first two lists.\n"
   ]
  },
  {
   "cell_type": "code",
   "execution_count": null,
   "id": "073f79aa",
   "metadata": {},
   "outputs": [],
   "source": [
    "class ListNode:\n",
    "    def __init__(self, val=0, next=None):\n",
    "        self.val = val\n",
    "        self.next = next"
   ]
  },
  {
   "cell_type": "code",
   "execution_count": null,
   "id": "9ddbae4e",
   "metadata": {},
   "outputs": [],
   "source": [
    "def mergeTwoLists(l1,l2):\n",
    "    dummy = ListNode()\n",
    "    tail = dummyNode\n",
    "    while True:\n",
    "        if l1 == None:\n",
    "            tail.next = l2\n",
    "            break\n",
    "\n",
    "        if l2 == None:\n",
    "            tail.next = l1\n",
    "            break\n",
    "        \n",
    "        if l1.val <= l2.val:\n",
    "            tail.next = l1\n",
    "            l1 = l1.next\n",
    "        else:\n",
    "            tail.next = l2\n",
    "            l2 = l2.next\n",
    "        \n",
    "        tail = tail.next\n",
    "    \n",
    "    return dummy.next"
   ]
  },
  {
   "cell_type": "markdown",
   "id": "285a0757",
   "metadata": {},
   "source": [
    "### 20210929<a id='725'></a>\n",
    "<strong>725. Split Linked List in Parts</strong>\n",
    "\n",
    "Given the head of a singly linked list and an integer k, split the linked list into k consecutive linked list parts.\n",
    "\n",
    "The length of each part should be as equal as possible: no two parts should have a size differing by more than one. This may lead to some parts being null.\n",
    "\n",
    "The parts should be in the order of occurrence in the input list, and parts occurring earlier should always have a size greater than or equal to parts occurring later.\n",
    "\n",
    "Return an array of the k parts.\n"
   ]
  },
  {
   "cell_type": "code",
   "execution_count": null,
   "id": "32f5ce60",
   "metadata": {},
   "outputs": [],
   "source": [
    "def splitListToParts(head, k):\n",
    "        \n",
    "    n = len(head)\n",
    "    remain = n % k\n",
    "    l = int(n/k)\n",
    "    ans = []\n",
    "    for i in range(remain):\n",
    "        temp = []\n",
    "        for j in range(l + 1):\n",
    "            temp.append(head[i * (l+1) + j])\n",
    "        ans.append(temp)\n",
    "    \n",
    "    for i in range(k - remain):\n",
    "        temp = []\n",
    "        for j in range(l):\n",
    "            temp.append(head[(remain) * (l+1) + i * (l) + j])\n",
    "        ans.append(temp)\n",
    "        \n",
    "    return ans"
   ]
  },
  {
   "cell_type": "code",
   "execution_count": null,
   "id": "61a43e68",
   "metadata": {},
   "outputs": [],
   "source": [
    "def splitListToParts(head, k):        \n",
    "    head_list = []\n",
    "    point = head\n",
    "    while point is not None:\n",
    "        head_list.append(point.val)\n",
    "        point = point.next\n",
    "\n",
    "    n = len(head_list)\n",
    "    remain = n % k\n",
    "    l = int(n/k)\n",
    "    ans = []\n",
    "    for i in range(remain):\n",
    "        temp = ListNode()\n",
    "        point = temp\n",
    "        for j in range(l + 1):\n",
    "            point.next = ListNode(head_list[i * (l+1) + j])\n",
    "            point = point.next\n",
    "        ans.append(temp.next)\n",
    "\n",
    "    for i in range(k - remain):\n",
    "        temp = ListNode()\n",
    "        point = temp\n",
    "        for j in range(l):\n",
    "            point.next = ListNode(head_list[(remain) * (l+1) + i * (l) + j])\n",
    "            point = point.next\n",
    "        ans.append(temp.next)\n",
    "\n",
    "    return ans"
   ]
  },
  {
   "cell_type": "code",
   "execution_count": null,
   "id": "47d587ea",
   "metadata": {},
   "outputs": [],
   "source": [
    "head = ListNode(1,ListNode(2,ListNode(3)))\n",
    "k = 5\n",
    "splitListToParts(head, k)"
   ]
  },
  {
   "cell_type": "code",
   "execution_count": null,
   "id": "b0d18157",
   "metadata": {},
   "outputs": [],
   "source": [
    "head = [1,2,3,4,5,6,7,8,9,10]\n",
    "k = 3\n",
    "splitListToParts(head, k)"
   ]
  },
  {
   "cell_type": "code",
   "execution_count": null,
   "id": "206d9bd0",
   "metadata": {},
   "outputs": [],
   "source": [
    "head = ListNode(1,ListNode(2,ListNode(3,ListNode(4,ListNode(5,ListNode(6,ListNode(7,ListNode(8,ListNode(9,ListNode(10))))))))))\n",
    "k = 6\n",
    "a = splitListToParts(head, k)\n",
    "for i in a:\n",
    "    c = i\n",
    "    while c is not None:\n",
    "        print(c.val, end =\" \")\n",
    "        c = c.next\n",
    "    print('|')"
   ]
  },
  {
   "cell_type": "code",
   "execution_count": null,
   "id": "e104435e",
   "metadata": {},
   "outputs": [],
   "source": [
    "head = [1,2,3,4,5,6,7,8,9,10,11,12,13]\n",
    "k = 5\n",
    "splitListToParts(head, k)"
   ]
  },
  {
   "cell_type": "markdown",
   "id": "b9d84971",
   "metadata": {},
   "source": [
    "### 20210930<a id='698'></a>\n",
    "<strong>698. Partition to K Equal Sum Subsets</strong>\n",
    "\n",
    "Given an integer array nums and an integer k, return true if it is possible to divide this array into k non-empty subsets whose sums are all equal."
   ]
  },
  {
   "cell_type": "code",
   "execution_count": null,
   "id": "b69f6888",
   "metadata": {},
   "outputs": [],
   "source": [
    "def canPartitionKSubsets(nums, k):\n",
    "    if sum(nums) % k != 0:\n",
    "        return False\n",
    "    \n",
    "    target = sum(nums) / k\n",
    "    sorted_nums = sorted(nums, reverse = True)\n",
    "    \n",
    "    def findsubset(nums, target, k):\n",
    "        print(nums,'start')\n",
    "        if k == 0:\n",
    "            print(1)\n",
    "            return True\n",
    "\n",
    "        cur = nums[0]\n",
    "        ele = [nums[0]]\n",
    "\n",
    "        if cur > target:\n",
    "            print(2)\n",
    "            return False\n",
    "        elif cur == target:\n",
    "            nums.remove(cur)\n",
    "            return findsubset(nums, target, k-1)\n",
    "        else:\n",
    "            j = 1\n",
    "            while j < len(nums) and nums[j] > target - cur:\n",
    "                j += 1\n",
    "                        \n",
    "            if cur != target:\n",
    "                print(cur,target,ele,nums,4)\n",
    "                return False\n",
    "            else:\n",
    "                for num in ele:\n",
    "                    nums.remove(num)\n",
    "                return findsubset(nums, target, k-1)\n",
    "   \n",
    "    return findsubset(sorted_nums, target, k)"
   ]
  },
  {
   "cell_type": "code",
   "execution_count": null,
   "id": "3306117b",
   "metadata": {},
   "outputs": [],
   "source": [
    "def canPartitionKSubsets(nums, k):\n",
    "    def findsubset(nums, target):\n",
    "        if len(nums) == 0:\n",
    "            return False\n",
    "        \n",
    "        i = 0\n",
    "        cur = nums[i]\n",
    "        if nums[0] == target:\n",
    "            nums.remove(cur)\n",
    "            return True\n",
    "        else:\n",
    "            while i < len(nums) and nums[i] > target - cur:\n",
    "                i += 1\n",
    "            print(1,i, nums, target, cur)\n",
    "            if i < len(nums) and nums[i] == target - cur:\n",
    "                nums.remove(nums[i])\n",
    "                nums.remove(cur)\n",
    "                return True\n",
    "            else:\n",
    "                print(2,i,target,cur)\n",
    "                return findsubset(nums[i:], target - cur)\n",
    "                \n",
    "    if sum(nums) % k != 0:\n",
    "        return False\n",
    "    \n",
    "    target = sum(nums) / k\n",
    "    sorted_nums = sorted(nums, reverse = True)\n",
    "    \n",
    "    ans = True\n",
    "    while k > 0 and ans:\n",
    "        print(sorted_nums,'k',k)\n",
    "        ans = findsubset(sorted_nums, target)\n",
    "        k -= 1\n",
    "    \n",
    "    return ans"
   ]
  },
  {
   "cell_type": "code",
   "execution_count": null,
   "id": "4a44ded3",
   "metadata": {},
   "outputs": [],
   "source": [
    "#难点为需要些findsubset，需要为nums排序方便找subset\n",
    "#findsubset是给定一个index为锚点，查nums里有没有等于target的subset\n",
    "def canPartitionKSubsets(nums, k):\n",
    "    def findsubset(index, nums, target):\n",
    "        if len(nums) <= index: \n",
    "            return False\n",
    "        \n",
    "        i = index\n",
    "        cur = nums[i]\n",
    "        if nums[0] == target: #给定的index就是target\n",
    "            nums.remove(cur)\n",
    "            return True\n",
    "        else:\n",
    "            #给定的index不是target，需要找还缺的target-nums[index]\n",
    "            j = index + 1 \n",
    "            while j < len(nums) and nums[j] > target - cur: #找第一个小于等于缺的数\n",
    "                j += 1\n",
    "            ##print('-', \"big\", j, \"cur\", cur, \"find\", target-cur, 'in', nums[i:])\n",
    "            \n",
    "            #如果那个找到的数恰好等于target-nums[index]\n",
    "            if j < len(nums) and nums[j] == target - cur: \n",
    "                nums.remove(nums[j])\n",
    "                nums.remove(cur)\n",
    "                return True\n",
    "            #如果不是\n",
    "            #需要从这个数之后的nums里找可以组成target-nums[index]的subset\n",
    "            else:\n",
    "                #锚点从头开始遍历找缺的\n",
    "                for k in range(len(nums[j:])):\n",
    "                    #print('--','big',j, \"find\", target - cur, cur, nums[i:][j:])\n",
    "                    if findsubset(k, nums[j:], target - cur):\n",
    "                        return True\n",
    "                return False\n",
    "                \n",
    "    if sum(nums) % k != 0:\n",
    "        return False\n",
    "    \n",
    "    target = sum(nums) / k\n",
    "    sorted_nums = sorted(nums, reverse = True)\n",
    "    \n",
    "    ans = True\n",
    "    while k > 0 and ans:\n",
    "        #print(k, 'start')\n",
    "        ans = findsubset(0,sorted_nums, target)\n",
    "        k -= 1\n",
    "    \n",
    "    return ans"
   ]
  },
  {
   "cell_type": "code",
   "execution_count": null,
   "id": "0b6717e1",
   "metadata": {},
   "outputs": [],
   "source": [
    "nums = [730,580,401,659,5524,405,1601,3,383,4391,4485,1024,1175,1100,2299,3908]\n",
    "k = 4\n",
    "canPartitionKSubsets(nums, k)"
   ]
  },
  {
   "cell_type": "code",
   "execution_count": null,
   "id": "3f612d30",
   "metadata": {},
   "outputs": [],
   "source": [
    "nums = [4,4,6,2,3,8,10,2,10,7]\n",
    "k = 4\n",
    "canPartitionKSubsets(nums, k)"
   ]
  },
  {
   "cell_type": "code",
   "execution_count": null,
   "id": "14d019b8",
   "metadata": {},
   "outputs": [],
   "source": [
    "nums = [3522,181,521,515,304,123,2512,312,922,407,146,1932,4037,2646,3871,269]\n",
    "k = 5\n",
    "canPartitionKSubsets(nums, k)"
   ]
  },
  {
   "cell_type": "code",
   "execution_count": null,
   "id": "b1bb93e7",
   "metadata": {},
   "outputs": [],
   "source": [
    "nums = [4,3,2,3,5,2,1] \n",
    "k = 4\n",
    "canPartitionKSubsets(nums, k)"
   ]
  },
  {
   "cell_type": "code",
   "execution_count": null,
   "id": "e8c24913",
   "metadata": {},
   "outputs": [],
   "source": [
    "nums = [1,2,3,4] \n",
    "k = 3\n",
    "canPartitionKSubsets(nums, k)"
   ]
  },
  {
   "cell_type": "code",
   "execution_count": null,
   "id": "266a567e",
   "metadata": {},
   "outputs": [],
   "source": [
    "nums = [1,2,3,4,5] \n",
    "k = 3\n",
    "canPartitionKSubsets(nums, k)"
   ]
  },
  {
   "cell_type": "code",
   "execution_count": null,
   "id": "024bbba0",
   "metadata": {},
   "outputs": [],
   "source": [
    "nums = [2,2,2,2] \n",
    "k = 2\n",
    "canPartitionKSubsets(nums, k)"
   ]
  },
  {
   "cell_type": "code",
   "execution_count": null,
   "id": "1317d6c6",
   "metadata": {},
   "outputs": [],
   "source": [
    "a = [1,34,6,6]\n",
    "sorted(a, reverse = True)"
   ]
  },
  {
   "cell_type": "markdown",
   "id": "f698676b",
   "metadata": {},
   "source": [
    "### 20211001<a id='1143'></a>\n",
    "<strong>1143. Longest Common Subsequence </strong>\n",
    "\n",
    "Given two strings text1 and text2, return the length of their longest common subsequence. If there is no common subsequence, return 0.\n",
    "\n",
    "A subsequence of a string is a new string generated from the original string with some characters (can be none) deleted without changing the relative order of the remaining characters.\n",
    "\n",
    "For example, \"ace\" is a subsequence of \"abcde\".\n",
    "A common subsequence of two strings is a subsequence that is common to both strings."
   ]
  },
  {
   "cell_type": "code",
   "execution_count": null,
   "id": "63b0a845",
   "metadata": {},
   "outputs": [],
   "source": [
    "#wrong\n",
    "def longestCommonSubsequence(text1, text2):\n",
    "    if len(text1) > len(text2):\n",
    "        l = list(text1)\n",
    "        s = list(text2)\n",
    "    else:\n",
    "        l = list(text2)\n",
    "        s = list(text1)\n",
    "    \n",
    "    ans = 0\n",
    "    word = []\n",
    "    for i in range(len(s)):\n",
    "        sp = i\n",
    "        lp = 0\n",
    "        l_temp = l.copy()\n",
    "        temp = 0\n",
    "        temp_word = []\n",
    "        while sp < len(s):\n",
    "            try:\n",
    "                lp = l_temp.index(s[sp])\n",
    "                l_temp = l_temp[lp+1:]\n",
    "                temp += 1\n",
    "                temp_word.append(s[sp])\n",
    "            except:\n",
    "                lp += 0\n",
    "            sp += 1\n",
    "        print(temp_word)\n",
    "        \n",
    "        ans = max(temp, ans)\n",
    "    return ans"
   ]
  },
  {
   "cell_type": "code",
   "execution_count": null,
   "id": "acd74141",
   "metadata": {},
   "outputs": [],
   "source": [
    "def longestCommonSubsequence(text1, text2):\n",
    "    \n",
    "    # find the length of the strings\n",
    "    m = len(text1)\n",
    "    n = len(text2)\n",
    " \n",
    "    # declaring the array for storing the dp values\n",
    "    L = [[None]*(n+1) for i in range(m+1)]\n",
    " \n",
    "    \"\"\"Following steps build L[m+1][n+1] in bottom up fashion\n",
    "    Note: L[i][j] contains length of LCS of X[0..i-1]\n",
    "    and Y[0..j-1]\"\"\"\n",
    "    for i in range(m+1):\n",
    "        for j in range(n+1):\n",
    "            if i == 0 or j == 0 :\n",
    "                L[i][j] = 0\n",
    "            elif text1[i-1] == text2[j-1]:\n",
    "                L[i][j] = L[i-1][j-1]+1\n",
    "            else:\n",
    "                L[i][j] = max(L[i-1][j] , L[i][j-1])\n",
    " \n",
    "    # L[m][n] contains the length of LCS of X[0..n-1] & Y[0..m-1]\n",
    "    return L[m][n]"
   ]
  },
  {
   "cell_type": "code",
   "execution_count": null,
   "id": "0e131198",
   "metadata": {},
   "outputs": [],
   "source": [
    "def longestCommonSubsequence(text1, text2):  \n",
    "    dp = {}\n",
    "    \n",
    "    def lcs(X, Y, m, n):\n",
    "        if m == 0 or n == 0:\n",
    "            return 0;\n",
    "        if (m, n) in dp:\n",
    "            return dp[(m,n)]\n",
    "        elif X[m-1] == Y[n-1]:\n",
    "            dp[(m,n)] = 1 + lcs(X, Y, m-1, n-1);\n",
    "        else:\n",
    "            dp[(m,n)] = max(lcs(X, Y, m, n-1), lcs(X, Y, m-1, n))\n",
    "        return dp[(m,n)]\n",
    "    \n",
    "    return lcs(text1, text2, len(text1), len(text2))"
   ]
  },
  {
   "cell_type": "code",
   "execution_count": null,
   "id": "8d54df67",
   "metadata": {},
   "outputs": [],
   "source": [
    "text1 = \"abcde\"\n",
    "text2 = \"ace\"\n",
    "longestCommonSubsequence(text1, text2)"
   ]
  },
  {
   "cell_type": "code",
   "execution_count": null,
   "id": "cab11780",
   "metadata": {},
   "outputs": [],
   "source": [
    "text1 = \"ABCDGH\"\n",
    "text2 = \"AEDFHR\"\n",
    "longestCommonSubsequence(text1, text2)"
   ]
  },
  {
   "cell_type": "code",
   "execution_count": null,
   "id": "0992e7fc",
   "metadata": {},
   "outputs": [],
   "source": [
    "text1 = \"abc\"\n",
    "text2 = \"def\"\n",
    "longestCommonSubsequence(text1, text2)"
   ]
  },
  {
   "cell_type": "code",
   "execution_count": null,
   "id": "49171f1b",
   "metadata": {},
   "outputs": [],
   "source": [
    "text1 = 'mhunuzqrkzsnidwbun'\n",
    "text2 = 'szulspmhwpazoxijwbq'\n",
    "longestCommonSubsequence(text1, text2)"
   ]
  },
  {
   "cell_type": "code",
   "execution_count": null,
   "id": "3dba6a26",
   "metadata": {},
   "outputs": [],
   "source": [
    "try:\n",
    "    x = list('cabcc').index(\"d\")\n",
    "    y = 1\n",
    "except:\n",
    "    x = -1"
   ]
  },
  {
   "cell_type": "markdown",
   "id": "646502aa",
   "metadata": {},
   "source": [
    "### 20211004<a id='463'></a>\n",
    "<strong>463. Island Perimeter </strong>\n",
    "\n",
    "You are given row x col grid representing a map where grid[i][j] = 1 represents land and grid[i][j] = 0 represents water.\n",
    "\n",
    "Grid cells are connected horizontally/vertically (not diagonally). The grid is completely surrounded by water, and there is exactly one island (i.e., one or more connected land cells).\n",
    "\n",
    "The island doesn't have \"lakes\", meaning the water inside isn't connected to the water around the island. One cell is a square with side length 1. The grid is rectangular, width and height don't exceed 100. Determine the perimeter of the island.\n",
    "\n"
   ]
  },
  {
   "cell_type": "code",
   "execution_count": null,
   "id": "6d4ea24d",
   "metadata": {},
   "outputs": [],
   "source": [
    "#idea is to find the boundaries of the island and convert whatever shape the island has \n",
    "#to the a recentage/square and calculate the perimeter since they are the same\n",
    "#does not work since there are a few line would be missing\n",
    "def islandPerimeter(grid):\n",
    "    m = len(grid)\n",
    "    n = len(grid[0])\n",
    "    top = m\n",
    "    bot = 0\n",
    "    left = n\n",
    "    right = 0\n",
    "    \n",
    "    for row in range(m):\n",
    "        for col in range(n):\n",
    "            if grid[row][col] == 1:\n",
    "                top = min(row, top)\n",
    "                bot = max(row, bot)\n",
    "                left = min(col, left)\n",
    "                right = max(col, right)\n",
    "    print(top, bot, left, right)\n",
    "    \n",
    "    length = right - left + 1\n",
    "    width = bot - top + 1\n",
    "    \n",
    "    return (length + width)*2"
   ]
  },
  {
   "cell_type": "code",
   "execution_count": null,
   "id": "9e46adbd",
   "metadata": {},
   "outputs": [],
   "source": [
    "def islandPerimeter(grid):\n",
    "    m = len(grid)\n",
    "    n = len(grid[0])\n",
    "    perimeter = 0\n",
    "    \n",
    "    for row in range(m):\n",
    "        for col in range(n):\n",
    "            if grid[row][col] == 1:\n",
    "                perimeter += 4\n",
    "                if row - 1 >= 0 and grid[row-1][col] == 1:\n",
    "                    perimeter -= 2\n",
    "                if col - 1 >= 0 and grid[row][col-1] == 1:\n",
    "                    perimeter -= 2\n",
    "    return perimeter"
   ]
  },
  {
   "cell_type": "code",
   "execution_count": null,
   "id": "8c6dc283",
   "metadata": {},
   "outputs": [],
   "source": [
    "grid = [[0,1,0,0],[1,1,1,0],[0,1,0,0],[1,1,0,0]]\n",
    "islandPerimeter(grid)"
   ]
  },
  {
   "cell_type": "code",
   "execution_count": null,
   "id": "01782549",
   "metadata": {},
   "outputs": [],
   "source": [
    "grid = [[1]]\n",
    "islandPerimeter(grid)"
   ]
  },
  {
   "cell_type": "code",
   "execution_count": null,
   "id": "f16a081f",
   "metadata": {},
   "outputs": [],
   "source": [
    "grid = [[0]]\n",
    "islandPerimeter(grid)"
   ]
  },
  {
   "cell_type": "code",
   "execution_count": null,
   "id": "eb8bc369",
   "metadata": {},
   "outputs": [],
   "source": [
    "%%time\n",
    "a = [0,1,2,3,4,5,6]\n",
    "%time a[1::6]"
   ]
  },
  {
   "cell_type": "markdown",
   "id": "a9e9026f",
   "metadata": {},
   "source": [
    "### 20211006<a id='442'></a>\n",
    "<strong>442. Find All Duplicates in an Array </strong>\n",
    "\n",
    "Given an integer array nums of length n where all the integers of nums are in the range [1, n] and each integer appears once or twice, return an array of all the integers that appears twice.\n",
    "\n",
    "You must write an algorithm that runs in O(n) time and uses only constant extra space."
   ]
  },
  {
   "cell_type": "code",
   "execution_count": null,
   "id": "055a560a",
   "metadata": {},
   "outputs": [],
   "source": [
    "def findDuplicates(nums):\n",
    "    ans = []\n",
    "    \n",
    "    for num in nums:\n",
    "        if nums[abs(num) - 1] < 0:\n",
    "            ans.append(abs(num))\n",
    "        else:\n",
    "            nums[abs(num) - 1] = -1*nums[abs(num) - 1]\n",
    "    \n",
    "    return ans"
   ]
  },
  {
   "cell_type": "code",
   "execution_count": null,
   "id": "dcce4a40",
   "metadata": {},
   "outputs": [],
   "source": [
    "nums = [4,3,2,7,8,2,3,1]\n",
    "findDuplicates(nums)"
   ]
  },
  {
   "cell_type": "code",
   "execution_count": null,
   "id": "9cef836b",
   "metadata": {},
   "outputs": [],
   "source": [
    "nums = [1,1,2]\n",
    "findDuplicates(nums)"
   ]
  },
  {
   "cell_type": "code",
   "execution_count": null,
   "id": "f9672244",
   "metadata": {},
   "outputs": [],
   "source": [
    "nums = [1]\n",
    "findDuplicates(nums)"
   ]
  },
  {
   "cell_type": "markdown",
   "id": "426bdd84",
   "metadata": {},
   "source": [
    "### 20211007<a id='79'></a>\n",
    "<strong>79. Word Search</strong>\n",
    "\n",
    "Given an m x n grid of characters board and a string word, return true if word exists in the grid.\n",
    "\n",
    "The word can be constructed from letters of sequentially adjacent cells, where adjacent cells are horizontally or vertically neighboring. The same letter cell may not be used more than once."
   ]
  },
  {
   "cell_type": "code",
   "execution_count": null,
   "id": "9ee92f6e",
   "metadata": {},
   "outputs": [],
   "source": [
    "def exist(board, word):\n",
    "    def search_word(row, col, target, board):\n",
    "        # the letter is used\n",
    "        if used[row][col] == 1:\n",
    "            return False\n",
    "        \n",
    "        # the letter is not target\n",
    "        if board[row][col] != target[0]:            \n",
    "            return False\n",
    "        \n",
    "        # find all letter(s) in the word\n",
    "        if len(target[1:]) == 0:\n",
    "            return True\n",
    "        \n",
    "        # set the letter to be used\n",
    "        used[row][col] = 1\n",
    "        \n",
    "        # check below\n",
    "        if row + 1 < m and search_word(row+1, col, target[1:], board):\n",
    "            return True\n",
    "        \n",
    "        # check above\n",
    "        if row - 1 >= 0 and search_word(row-1, col, target[1:], board):\n",
    "            return True\n",
    "        \n",
    "        # check right\n",
    "        if col + 1 < n and search_word(row, col+1, target[1:], board):\n",
    "            return True\n",
    "        \n",
    "        #check left\n",
    "        if col - 1 >= 0 and search_word(row, col-1, target[1:], board):\n",
    "            return True\n",
    "        \n",
    "        # if it does not work, need to reset the used matrix\n",
    "        used[row][col] = 0 \n",
    "        return False\n",
    "        \n",
    "    m = len(board)\n",
    "    n = len(board[0])\n",
    "    \n",
    "    \n",
    "    for i in range(m):\n",
    "        for j in range(n):\n",
    "            used = [[0] * n for i in range(m)]\n",
    "            if search_word(i, j, word, board):\n",
    "                return True\n",
    "            \n",
    "    return False"
   ]
  },
  {
   "cell_type": "code",
   "execution_count": null,
   "id": "d20f2571",
   "metadata": {},
   "outputs": [],
   "source": [
    "board = [[\"A\",\"B\",\"C\",\"E\"],[\"S\",\"F\",\"C\",\"S\"],[\"A\",\"D\",\"E\",\"E\"]]\n",
    "word = \"ABCCED\"\n",
    "exist(board, word)"
   ]
  },
  {
   "cell_type": "code",
   "execution_count": null,
   "id": "c35ceae5",
   "metadata": {},
   "outputs": [],
   "source": [
    "board = [[\"A\",\"B\",\"C\",\"E\"],[\"S\",\"F\",\"C\",\"S\"],[\"A\",\"D\",\"E\",\"E\"]] \n",
    "word = \"SEE\"\n",
    "exist(board, word)"
   ]
  },
  {
   "cell_type": "code",
   "execution_count": null,
   "id": "bb940716",
   "metadata": {},
   "outputs": [],
   "source": [
    "board = [[\"A\",\"B\",\"C\",\"E\"],[\"S\",\"F\",\"C\",\"S\"],[\"A\",\"D\",\"E\",\"E\"]] \n",
    "word = \"ABCB\"\n",
    "exist(board, word)"
   ]
  },
  {
   "cell_type": "code",
   "execution_count": null,
   "id": "2d58873f",
   "metadata": {},
   "outputs": [],
   "source": [
    "board = [[\"a\"]]\n",
    "word = \"a\"\n",
    "exist(board, word)"
   ]
  },
  {
   "cell_type": "code",
   "execution_count": null,
   "id": "feeb2381",
   "metadata": {},
   "outputs": [],
   "source": [
    "board = [[\"A\",\"B\",\"C\",\"E\"],[\"S\",\"F\",\"E\",\"S\"],[\"A\",\"D\",\"E\",\"E\"]]\n",
    "word = \"ABCESEEEFS\"\n",
    "exist(board, word)"
   ]
  },
  {
   "cell_type": "markdown",
   "id": "97c71dc0",
   "metadata": {},
   "source": [
    "### 20211007<a id='22'></a>\n",
    "<strong>22. Generate Parentheses</strong>\n",
    "\n",
    "Given n pairs of parentheses, write a function to generate all combinations of well-formed parentheses.\n",
    "\n"
   ]
  },
  {
   "cell_type": "code",
   "execution_count": null,
   "id": "460532bf",
   "metadata": {},
   "outputs": [],
   "source": [
    "def generateParenthesis(n):\n",
    "    ans = ['()']\n",
    "    \n",
    "    for i in range(1, n):\n",
    "        temp = []\n",
    "        for prev in ans:\n",
    "            for j in range(len(prev)):\n",
    "                temp_p = prev[:j] + '('\n",
    "                for k in range(j, len(prev)):\n",
    "                    temp.append(temp_p + prev[j:k] + ')' + prev[k:])\n",
    "        ans = list(set(temp))\n",
    "            \n",
    "    return ans"
   ]
  },
  {
   "cell_type": "code",
   "execution_count": null,
   "id": "666b65ba",
   "metadata": {},
   "outputs": [],
   "source": [
    "generateParenthesis(1)"
   ]
  },
  {
   "cell_type": "code",
   "execution_count": null,
   "id": "1dd0fe82",
   "metadata": {},
   "outputs": [],
   "source": [
    "generateParenthesis(8)"
   ]
  },
  {
   "cell_type": "markdown",
   "id": "83441fa1",
   "metadata": {},
   "source": [
    "### 20211008<a id='208'></a>\n",
    "<strong>208. Implement Trie (Prefix Tree)</strong>\n",
    "\n",
    "A trie (pronounced as \"try\") or prefix tree is a tree data structure used to efficiently store and retrieve keys in a dataset of strings. There are various applications of this data structure, such as autocomplete and spellchecker.\n",
    "\n",
    "Implement the Trie class:\n",
    "\n",
    "- Trie() Initializes the trie object.\n",
    "- void insert(String word) Inserts the string word into the trie.\n",
    "- boolean search(String word) Returns true if the string word is in the trie (i.e., was inserted before), and false otherwise.\n",
    "- boolean startsWith(String prefix) Returns true if there is a previously inserted string word that has the prefix prefix, and false otherwise."
   ]
  },
  {
   "cell_type": "code",
   "execution_count": null,
   "id": "94527513",
   "metadata": {},
   "outputs": [],
   "source": [
    "class TrieNode:\n",
    "    \n",
    "    def __init__(self):\n",
    "        self.children = [None] * 26\n",
    "        self.isend = False\n",
    "        \n",
    "\n",
    "class Trie:\n",
    "\n",
    "    def __init__(self):\n",
    "        self.root = TrieNode()\n",
    "    \n",
    "    def insert(self, word: str) -> None:\n",
    "        pointer = self.root\n",
    "        \n",
    "        for i in range(len(word)):\n",
    "            index = ord(word[i]) - ord('a')\n",
    "\n",
    "            if pointer.children[index] is None:\n",
    "                pointer.children[index] = TrieNode()\n",
    "            pointer = pointer.children[index]\n",
    "        \n",
    "        pointer.isend = True\n",
    "\n",
    "    def search(self, word: str) -> bool:\n",
    "        pointer = self.root\n",
    "        \n",
    "        for i in range(len(word)):\n",
    "            index = ord(word[i]) - ord('a')\n",
    "            \n",
    "            if pointer.children[index] is None:\n",
    "                return False\n",
    "            \n",
    "            pointer = pointer.children[index]\n",
    "            \n",
    "        return pointer.isend\n",
    "        \n",
    "\n",
    "    def startsWith(self, prefix: str) -> bool:\n",
    "        pointer = self.root\n",
    "        \n",
    "        for i in range(len(prefix)):\n",
    "            index = ord(prefix[i]) - ord('a')\n",
    "            \n",
    "            if pointer.children[index] is None:\n",
    "                return False\n",
    "            \n",
    "            pointer = pointer.children[index]\n",
    "        \n",
    "        return True\n",
    "        \n",
    "\n",
    "\n",
    "# Your Trie object will be instantiated and called as such:\n",
    "# obj = Trie()\n",
    "# obj.insert(word)\n",
    "# param_2 = obj.search(word)\n",
    "# param_3 = obj.startsWith(prefix)"
   ]
  },
  {
   "cell_type": "code",
   "execution_count": null,
   "id": "f5405d17",
   "metadata": {},
   "outputs": [],
   "source": [
    "trie = Trie();\n",
    "print(trie.insert(\"apple\"))\n",
    "print(trie.search(\"apple\"))\n",
    "print(trie.search(\"app\"))\n",
    "print(trie.startsWith(\"app\"))\n",
    "trie.insert(\"app\")\n",
    "trie.search(\"app\")  "
   ]
  },
  {
   "cell_type": "code",
   "execution_count": null,
   "id": "08da6f7c",
   "metadata": {},
   "outputs": [],
   "source": [
    "ord('b') - ord('a')"
   ]
  },
  {
   "cell_type": "markdown",
   "id": "ea7e4657",
   "metadata": {},
   "source": [
    "### 20211011<a id='208'></a>\n",
    "<strong>543. Diameter of Binary Tree</strong>\n",
    "\n",
    "Given the root of a binary tree, return the length of the diameter of the tree.\n",
    "\n",
    "The diameter of a binary tree is the length of the longest path between any two nodes in a tree. This path may or may not pass through the root.\n",
    "\n",
    "The length of a path between two nodes is represented by the number of edges between them."
   ]
  },
  {
   "cell_type": "code",
   "execution_count": null,
   "id": "4fd2bcea",
   "metadata": {},
   "outputs": [],
   "source": [
    "class TreeNode:\n",
    "    def __init__(self, val=0, left=None, right=None):\n",
    "        self.val = val\n",
    "        self.left = left\n",
    "        self.right = right"
   ]
  },
  {
   "cell_type": "code",
   "execution_count": null,
   "id": "55276609",
   "metadata": {},
   "outputs": [],
   "source": [
    "def diameterOfBinaryTree(root):\n",
    "    def height(node):\n",
    "\n",
    "        # Base Case : Tree is empty\n",
    "        if node is None:\n",
    "            return 0\n",
    "\n",
    "        # If tree is not empty then height = 1 + max of left\n",
    "        # height and right heights\n",
    "        return 1 + max(height(node.left), height(node.right))\n",
    "\n",
    "    # Function to get the diameter of a binary tree\n",
    "    def diameter(root):\n",
    "\n",
    "        # Base Case when tree is empty\n",
    "        if root is None:\n",
    "            return 0\n",
    "\n",
    "        # Get the height of left and right sub-trees\n",
    "        lheight = height(root.left)\n",
    "        rheight = height(root.right)\n",
    "\n",
    "        # Get the diameter of left and right sub-trees\n",
    "        ldiameter = diameter(root.left)\n",
    "        rdiameter = diameter(root.right)\n",
    "\n",
    "        # Return max of the following tree:\n",
    "        # 1) Diameter of left subtree\n",
    "        # 2) Diameter of right subtree\n",
    "        # 3) Height of left subtree + height of right subtree +1\n",
    "        return max(lheight + rheight + 1, max(ldiameter, rdiameter))\n",
    "    \n",
    "    return diameter(root) - 1"
   ]
  },
  {
   "cell_type": "code",
   "execution_count": null,
   "id": "7c09f613",
   "metadata": {},
   "outputs": [],
   "source": [
    "def diameterOfBinaryTree(root):\n",
    "    def height(root, ans):\n",
    "        if (root == None):\n",
    "            return 0\n",
    "\n",
    "        left_height = height(root.left, ans)\n",
    "\n",
    "        right_height = height(root.right, ans)\n",
    "\n",
    "        # update the answer, because diameter\n",
    "        # of a tree is nothing but maximum\n",
    "        # value of (left_height + right_height + 1)\n",
    "        # for each node\n",
    "        ans[0] = max(ans[0], 1 + left_height +\n",
    "                                 right_height)\n",
    "\n",
    "        return 1 + max(left_height,\n",
    "                       right_height)\n",
    "\n",
    "    # Computes the diameter of binary\n",
    "    # tree with given root.\n",
    "    def diameter(root):\n",
    "        if (root == None):\n",
    "            return 0\n",
    "        ans = [-999999999999] # This will store\n",
    "                              # the final answer\n",
    "        height_of_tree = height(root, ans)\n",
    "        return ans[0]\n",
    "    \n",
    "    return diameter(root) - 1"
   ]
  },
  {
   "cell_type": "code",
   "execution_count": null,
   "id": "998f3fee",
   "metadata": {},
   "outputs": [],
   "source": [
    "root = TreeNode(1)\n",
    "root.left = TreeNode(2)\n",
    "root.right = TreeNode(3)\n",
    "root.left.left = TreeNode(4)\n",
    "root.left.right = TreeNode(5)\n",
    "diameterOfBinaryTree(root)"
   ]
  },
  {
   "cell_type": "code",
   "execution_count": null,
   "id": "90bf6a9f",
   "metadata": {},
   "outputs": [],
   "source": [
    "root = TreeNode(1)\n",
    "root.left = TreeNode(2)\n",
    "diameterOfBinaryTree(root)"
   ]
  },
  {
   "cell_type": "markdown",
   "id": "e8e4d00a",
   "metadata": {},
   "source": [
    "### 20211011<a id='24'></a>\n",
    "<strong>24. Swap Nodes in Pairs</strong>\n",
    "\n",
    "Given a linked list, swap every two adjacent nodes and return its head. You must solve the problem without modifying the values in the list's nodes (i.e., only nodes themselves may be changed.)"
   ]
  },
  {
   "cell_type": "code",
   "execution_count": null,
   "id": "f0091175",
   "metadata": {},
   "outputs": [],
   "source": [
    "class ListNode:\n",
    "    def __init__(self, val=0, next=None):\n",
    "        self.val = val\n",
    "        self.next = next\n",
    "        \n",
    "    def __str__(self):\n",
    "        ans = str(self.val)\n",
    "        pointer = self.next\n",
    "        while pointer is not None:\n",
    "            ans += ',' + str(pointer.val)\n",
    "            pointer = pointer.next\n",
    "        \n",
    "        return ans"
   ]
  },
  {
   "cell_type": "code",
   "execution_count": null,
   "id": "972e4a6e",
   "metadata": {},
   "outputs": [],
   "source": [
    "def swapPairs(head):\n",
    "    first = head\n",
    "    \n",
    "    if head.next is None:\n",
    "        return head\n",
    "    \n",
    "    second = head.next\n",
    "    head = second\n",
    "    \n",
    "    rest = second.next\n",
    "    second.next = first\n",
    "    first.next = rest\n",
    "\n",
    "    \n",
    "    while rest is not None and rest.next is not None:\n",
    "        last = first\n",
    "        first = rest\n",
    "        second = rest.next\n",
    "        rest = second.next\n",
    "        \n",
    "        \n",
    "        second.next = first\n",
    "        last.next = second\n",
    "        first.next = rest\n",
    "            \n",
    "    return head"
   ]
  },
  {
   "cell_type": "code",
   "execution_count": null,
   "id": "5344d969",
   "metadata": {},
   "outputs": [],
   "source": [
    "head = ListNode(1, ListNode(2, ListNode(3, ListNode(4))))\n",
    "print(head)\n",
    "print(swapPairs(head))"
   ]
  },
  {
   "cell_type": "code",
   "execution_count": null,
   "id": "ed516880",
   "metadata": {},
   "outputs": [],
   "source": [
    "head = ListNode(1, ListNode(2, ListNode(3, ListNode(4,ListNode(5)))))\n",
    "print(head)\n",
    "print(swapPairs(head))"
   ]
  },
  {
   "cell_type": "code",
   "execution_count": null,
   "id": "cfeca3dc",
   "metadata": {},
   "outputs": [],
   "source": [
    "head = ListNode(1)\n",
    "print(head)\n",
    "print(swapPairs(head))"
   ]
  },
  {
   "cell_type": "code",
   "execution_count": null,
   "id": "dbec3263",
   "metadata": {},
   "outputs": [],
   "source": [
    "head = ListNode(None)\n",
    "print(head)\n",
    "print(swapPairs(head))"
   ]
  },
  {
   "cell_type": "markdown",
   "id": "2fc2b443",
   "metadata": {},
   "source": [
    "### 20211012<a id='374'></a>\n",
    "<strong>374. Guess Number Higher or Lower</strong>\n",
    "\n",
    "We are playing the Guess Game. The game is as follows:\n",
    "\n",
    "I pick a number from 1 to n. You have to guess which number I picked.\n",
    "\n",
    "Every time you guess wrong, I will tell you whether the number I picked is higher or lower than your guess.\n",
    "\n",
    "You call a pre-defined API int guess(int num), which returns 3 possible results:\n",
    "\n",
    "- -1: The number I picked is lower than your guess (i.e. pick < num).\n",
    "- 1: The number I picked is higher than your guess (i.e. pick > num).\n",
    "- 0: The number I picked is equal to your guess (i.e. pick == num).\n",
    "\n",
    "Return the number that I picked.\n",
    "\n",
    "Constraints:\n",
    "\n",
    "- 1 <= n <= 2^31 - 1\n",
    "- 1 <= pick <= n"
   ]
  },
  {
   "cell_type": "code",
   "execution_count": null,
   "id": "6b1386ad",
   "metadata": {},
   "outputs": [],
   "source": [
    "# The guess API is already defined for you.\n",
    "# @param num, your guess\n",
    "# @return -1 if my number is lower, 1 if my number is higher, otherwise return 0\n",
    "# def guess(num: int) -> int:\n",
    "\n",
    "def guessNumber(n):\n",
    "    l = 1\n",
    "    h = n\n",
    "    g = int((1+n)/2)\n",
    "    \n",
    "    result = guess(g)\n",
    "    while result != 0:\n",
    "        if result == 1:\n",
    "            l = g + 1\n",
    "        else:\n",
    "            h = g - 1\n",
    "        g = int((h+l+1)/2)\n",
    "        result = guess(g)\n",
    "    return g"
   ]
  },
  {
   "cell_type": "code",
   "execution_count": null,
   "id": "e314bbdf",
   "metadata": {},
   "outputs": [],
   "source": [
    "def guess(n):\n",
    "    global pick\n",
    "    if pick == n:\n",
    "        return 0\n",
    "    elif pick < n:\n",
    "        return -1\n",
    "    else:\n",
    "        return 1"
   ]
  },
  {
   "cell_type": "code",
   "execution_count": null,
   "id": "84327b66",
   "metadata": {},
   "outputs": [],
   "source": [
    "n = 10\n",
    "pick = 6\n",
    "guessNumber(n)"
   ]
  },
  {
   "cell_type": "code",
   "execution_count": null,
   "id": "a47fb06d",
   "metadata": {},
   "outputs": [],
   "source": [
    "n = 50\n",
    "pick = 25\n",
    "guessNumber(n)"
   ]
  },
  {
   "cell_type": "code",
   "execution_count": null,
   "id": "e78e7219",
   "metadata": {},
   "outputs": [],
   "source": [
    "n = 2\n",
    "pick = 2\n",
    "guessNumber(n)"
   ]
  },
  {
   "cell_type": "markdown",
   "id": "41bd2759",
   "metadata": {},
   "source": [
    "### 20211012<a id='26'></a>\n",
    "<strong>26. Remove Duplicates from Sorted Array</strong>\n",
    "\n",
    "Given an integer array nums sorted in non-decreasing order, remove the duplicates in-place such that each unique element appears only once. The relative order of the elements should be kept the same.\n",
    "\n",
    "Since it is impossible to change the length of the array in some languages, you must instead have the result be placed in the first part of the array nums. More formally, if there are k elements after removing the duplicates, then the first k elements of nums should hold the final result. It does not matter what you leave beyond the first k elements.\n",
    "\n",
    "Return k after placing the final result in the first k slots of nums.\n",
    "\n",
    "Do not allocate extra space for another array. You must do this by modifying the input array in-place with O(1) extra memory.\n",
    "\n",
    "Custom Judge:\n",
    "\n",
    "The judge will test your solution with the following code:\n",
    "\n",
    "```\n",
    "int[] nums = [...]; // Input array\n",
    "int[] expectedNums = [...]; // The expected answer with correct length\n",
    "\n",
    "int k = removeDuplicates(nums); // Calls your implementation\n",
    "\n",
    "assert k == expectedNums.length;\n",
    "for (int i = 0; i < k; i++) {\n",
    "    assert nums[i] == expectedNums[i];\n",
    "}\n",
    "```\n",
    "If all assertions pass, then your solution will be accepted.\n"
   ]
  },
  {
   "cell_type": "code",
   "execution_count": null,
   "id": "52b71303",
   "metadata": {},
   "outputs": [],
   "source": [
    "def removeDuplicates(nums):\n",
    "    if len(nums) == 0:\n",
    "        return 0\n",
    "    \n",
    "    index = 1\n",
    "    prev = nums[0]\n",
    "    \n",
    "    for i in range(1, len(nums)):\n",
    "        if nums[i] != prev:\n",
    "            nums[index] = nums[i]\n",
    "            index += 1\n",
    "            prev = nums[i]\n",
    "    \n",
    "    return index"
   ]
  },
  {
   "cell_type": "code",
   "execution_count": null,
   "id": "25409597",
   "metadata": {},
   "outputs": [],
   "source": [
    "nums = [1,1,2]\n",
    "print(removeDuplicates(nums))\n",
    "nums"
   ]
  },
  {
   "cell_type": "code",
   "execution_count": null,
   "id": "4e27a807",
   "metadata": {},
   "outputs": [],
   "source": [
    "nums = [0,0,1,1,1,2,2,3,3,4]\n",
    "print(removeDuplicates(nums))\n",
    "nums"
   ]
  },
  {
   "cell_type": "markdown",
   "id": "3efe0883",
   "metadata": {},
   "source": [
    "### 20211012<a id='27'></a>\n",
    "<strong>27. Remove Element</strong>\n",
    "\n",
    "Given an integer array nums and an integer val, remove all occurrences of val in nums in-place. The relative order of the elements may be changed.\n",
    "\n",
    "Since it is impossible to change the length of the array in some languages, you must instead have the result be placed in the first part of the array nums. More formally, if there are k elements after removing the duplicates, then the first k elements of nums should hold the final result. It does not matter what you leave beyond the first k elements.\n",
    "\n",
    "Return k after placing the final result in the first k slots of nums.\n",
    "\n",
    "Do not allocate extra space for another array. You must do this by modifying the input array in-place with O(1) extra memory."
   ]
  },
  {
   "cell_type": "code",
   "execution_count": 1,
   "id": "4e729b58",
   "metadata": {},
   "outputs": [],
   "source": [
    "def removeElement(nums, val):\n",
    "    \n",
    "    index = 0\n",
    "    \n",
    "    for num in nums:\n",
    "        if num != val:\n",
    "            nums[index] = num\n",
    "            index += 1\n",
    "    \n",
    "    return index"
   ]
  },
  {
   "cell_type": "code",
   "execution_count": 2,
   "id": "924a61aa",
   "metadata": {},
   "outputs": [
    {
     "name": "stdout",
     "output_type": "stream",
     "text": [
      "2\n"
     ]
    },
    {
     "data": {
      "text/plain": [
       "[2, 2, 2, 3]"
      ]
     },
     "execution_count": 2,
     "metadata": {},
     "output_type": "execute_result"
    }
   ],
   "source": [
    "nums = [3,2,2,3] \n",
    "val = 3\n",
    "print(removeElement(nums, val))\n",
    "nums"
   ]
  },
  {
   "cell_type": "code",
   "execution_count": 3,
   "id": "2d63618c",
   "metadata": {},
   "outputs": [
    {
     "name": "stdout",
     "output_type": "stream",
     "text": [
      "5\n"
     ]
    },
    {
     "data": {
      "text/plain": [
       "[0, 1, 3, 0, 4, 0, 4, 2]"
      ]
     },
     "execution_count": 3,
     "metadata": {},
     "output_type": "execute_result"
    }
   ],
   "source": [
    "nums = [0,1,2,2,3,0,4,2]\n",
    "val = 2\n",
    "print(removeElement(nums, val))\n",
    "nums"
   ]
  },
  {
   "cell_type": "code",
   "execution_count": 4,
   "id": "c6b46ae2",
   "metadata": {},
   "outputs": [
    {
     "name": "stdout",
     "output_type": "stream",
     "text": [
      "0\n"
     ]
    },
    {
     "data": {
      "text/plain": [
       "[]"
      ]
     },
     "execution_count": 4,
     "metadata": {},
     "output_type": "execute_result"
    }
   ],
   "source": [
    "nums = []\n",
    "val = 2\n",
    "print(removeElement(nums, val))\n",
    "nums"
   ]
  },
  {
   "cell_type": "markdown",
   "id": "35c2f411",
   "metadata": {},
   "source": [
    "### 20211012<a id='28'></a>\n",
    "<strong>28. Implement strStr()</strong>\n",
    "\n",
    "Implement strStr().\n",
    "\n",
    "Return the index of the first occurrence of needle in haystack, or -1 if needle is not part of haystack.\n",
    "\n",
    "Clarification:\n",
    "\n",
    "What should we return when needle is an empty string? This is a great question to ask during an interview.\n",
    "\n",
    "For the purpose of this problem, we will return 0 when needle is an empty string. This is consistent to C's strstr() and Java's indexOf()."
   ]
  },
  {
   "cell_type": "code",
   "execution_count": 26,
   "id": "53ad0390",
   "metadata": {},
   "outputs": [],
   "source": [
    "# does not work for mississippi\n",
    "def strStr(haystack, needle):\n",
    "    if len(needle) == 0:\n",
    "        return 0\n",
    "    \n",
    "    index = 0\n",
    "    ans = -1\n",
    "    \n",
    "    for i in range(len(haystack)):\n",
    "        if index == len(needle):\n",
    "            return ans\n",
    "        \n",
    "        if haystack[i] == needle[index]:\n",
    "            if index == 0:\n",
    "                ans = i\n",
    "            index += 1\n",
    "        else:\n",
    "            index = 0\n",
    "            ans = -1\n",
    "        \n",
    "    \n",
    "    if index == len(needle):\n",
    "        return ans\n",
    "    \n",
    "    return -1   "
   ]
  },
  {
   "cell_type": "code",
   "execution_count": 35,
   "id": "4517e471",
   "metadata": {},
   "outputs": [],
   "source": [
    "# slow\n",
    "def strStr(haystack, needle):\n",
    "    if len(needle) == 0:\n",
    "        return 0\n",
    "    \n",
    "    index = 0\n",
    "    ans = -1\n",
    "    i = 0\n",
    "    \n",
    "    while i < len(haystack):\n",
    "        if index == len(needle):\n",
    "            return ans\n",
    "        \n",
    "        if haystack[i] == needle[index]:\n",
    "            if index == 0:\n",
    "                ans = i\n",
    "            index += 1\n",
    "            i += 1\n",
    "        else:\n",
    "            if index == 0:\n",
    "                i += 1\n",
    "            else:\n",
    "                index = 0\n",
    "                i = ans + 1\n",
    "                ans = -1\n",
    "            \n",
    "    if index == len(needle):\n",
    "        return ans\n",
    "    \n",
    "    return -1   "
   ]
  },
  {
   "cell_type": "code",
   "execution_count": 53,
   "id": "429783ce",
   "metadata": {},
   "outputs": [],
   "source": [
    "def strStr(haystack, needle):\n",
    "    n = len(needle)\n",
    "    \n",
    "    if n == 0:\n",
    "        return 0\n",
    "    \n",
    "    if n > len(haystack):\n",
    "        return -1\n",
    "    \n",
    "    for i in range(len(haystack) - n + 1):\n",
    "        if haystack[i:i+n] == needle:\n",
    "            return i\n",
    "    \n",
    "    return -1   "
   ]
  },
  {
   "cell_type": "code",
   "execution_count": 54,
   "id": "e3ffc16b",
   "metadata": {},
   "outputs": [
    {
     "data": {
      "text/plain": [
       "2"
      ]
     },
     "execution_count": 54,
     "metadata": {},
     "output_type": "execute_result"
    }
   ],
   "source": [
    "haystack = \"hello\" \n",
    "needle = \"ll\"\n",
    "strStr(haystack, needle)"
   ]
  },
  {
   "cell_type": "code",
   "execution_count": 55,
   "id": "3b1b8925",
   "metadata": {},
   "outputs": [
    {
     "data": {
      "text/plain": [
       "-1"
      ]
     },
     "execution_count": 55,
     "metadata": {},
     "output_type": "execute_result"
    }
   ],
   "source": [
    "haystack = \"aaaaa\"\n",
    "needle = \"bba\"\n",
    "strStr(haystack, needle)"
   ]
  },
  {
   "cell_type": "code",
   "execution_count": 56,
   "id": "a31a9a1e",
   "metadata": {},
   "outputs": [
    {
     "data": {
      "text/plain": [
       "-1"
      ]
     },
     "execution_count": 56,
     "metadata": {},
     "output_type": "execute_result"
    }
   ],
   "source": [
    "haystack = \"aaa\"\n",
    "needle = \"aaaa\"\n",
    "strStr(haystack, needle)"
   ]
  },
  {
   "cell_type": "code",
   "execution_count": 57,
   "id": "f63b0786",
   "metadata": {},
   "outputs": [
    {
     "data": {
      "text/plain": [
       "0"
      ]
     },
     "execution_count": 57,
     "metadata": {},
     "output_type": "execute_result"
    }
   ],
   "source": [
    "haystack = \"a\"\n",
    "needle = \"a\"\n",
    "strStr(haystack, needle)"
   ]
  },
  {
   "cell_type": "code",
   "execution_count": 58,
   "id": "aa08e568",
   "metadata": {},
   "outputs": [
    {
     "data": {
      "text/plain": [
       "4"
      ]
     },
     "execution_count": 58,
     "metadata": {},
     "output_type": "execute_result"
    }
   ],
   "source": [
    "haystack = \"mississippi\"\n",
    "needle = \"issip\"\n",
    "strStr(haystack, needle)"
   ]
  },
  {
   "cell_type": "code",
   "execution_count": 59,
   "id": "f1ae2a74",
   "metadata": {},
   "outputs": [
    {
     "data": {
      "text/plain": [
       "0"
      ]
     },
     "execution_count": 59,
     "metadata": {},
     "output_type": "execute_result"
    }
   ],
   "source": [
    "haystack = 'aaaaaaaaaaaaaaaaaaaaaaaaaaaaaaaaaaaaaaaaaaaaaaaaaaaaaaaaaaaaaaaaaaaaaaaaaaaaaaaaaaaaaaaaaaaaaaaaaaaaaaaaaaaaaaaaaaaaaaaaaaaaaaaaaaaaaaaaaaaaaaaaaaaaaaaaaaaaaaaaaaaaaaaaaaaaaaaaaaaaaaaaaaaaaaaaaaaaaaaaaaaaaaaaaaaaaaaaaaaaaaaaaaaaaaaaaaaaaaaaaaaaaaaaaaaaaaaaaaaaaaaaaaaaaaaaaaaaaaaaaaaaaaaaaaaaaaaaaaaaaaaaaaaaaaaaaaaaaaaaaaaaaaaaaaaaaaaaaaaaaaaaaaaaaaaaaaaaaaaaaaaaaaaaaaaaaaaaaaaaaaaaaaaaaaaaaaaaaaaaaaaaaaaaaaaaaaaaaaaaaaaaaaaaaaaaaaaaaaaaaaaaaaaaaaaaaaaaaaaaaaaaaaaaaaaaaaaaaaaaaaaaaaaaaaaaaaaaaaaaaaaaaaaaaaaaaaaaaaaaaaaaaaaaaaaaaaaaaaaaaaaaaaaaaaaaaaaaaaaaaaaaaaaaaaaaaaaaaaaaaaaaaaaaaaaaaaaaaaaaaaaaaaaaaaaaaaaaaaaaaaaaaaaaaaaaaaaaaaaaaaaaaaaaaaaaaaaaaaaaaaaaaaaaaaaaaaaaaaaaaaaaaaaaaaaaaaaaaaaaaaaaaaaaaaaaaaaaaaaaaaaaaaaaaaaaaaaaaaaaaaaaaaaaaaaaaaaaaaaaaaaaaaaaaaaaaaaaaaaaaaaaaaaaaaaaaaaaaaaaaaaaaaaaaaaaaaaaaaaaaaaaaaaaaaaaaaaaaaaaaaaaaaaaaaaaaaaaaaaaaaaaaaaaaaaaaaaaaaaaaaaaaaaaaaaaaaaaaaaaaaaaaaaaaaaaaaaaaaaaaaaaaaaaaaaaaaaaaaaaaaaaaaaaaaaaaaaaaaaaaaaaaaaaaaaaaaaaaaaaaaaaaaaaaaaaaaaaaaa'\n",
    "needle = 'aaaaaaaaaaaaaaaaaaaaaaaaaaaaaaaaaaaaaaaaaaaaaaaaaaaaaaaaaaaaaaaaaaaaaaaaaaaaaaaaaaaaaaaaaaaaaaaaaaaaaaaaaaaaaaaaaaaaaaaaaaaaaaaaaaaaaaaaaaaaaaaaaaaaaaaaaaaaaaaaaaaaaaaaaaaaaaaaaaaaaaaaaaaaaaaaaaaaaaaaaaaaaaaaaaaaaaaaaaaaaaaaaaaaaaaaaaaaaaaaaaaaaaaaaaaaaaaaaaaaaaaaaaaaaaaaaaaaaaaaaaaaaaaaaaaaaaaaaaaaaaaaaaaaaaaaaaaaaaaaaaaaaaaaaaaaaaaaaaaaaaaaaaaaaaaaaaaaaaaaaaaaaaaaaaaaaaaaaaaaaaaaaaaaaaaaaaaaaaaaaaaaaaaaaaaaaaaaaaaaaaaaaaaaaaaaaaaaaaaaaaaaaaaaaaaaaaaaaaaaaaaaaaaaaaaaaaaaaaaaaaaaaaaaaaaaaaaaaaaaaaaaaaaaaaaaaaaaaaaaaaaaaaaaaaaaaaaaaaaaaaaaaaaaaaaaaaaaaaaaaaaaaaaaaaaaaaaaaaaaaaaaaaaaaaaaaaaaaaaaaaaaaaaaaaaaaaaaaaaaaaaaaaaaaaaaaaaaaaaaaaaaaaaaaaaaaaaaaaaaaaaaaaaaaaaaaaaaaaaaaaaaaaaaaaaaaaaaaaaaaaaaaaaaaaaaaaaaaaaaaaaaaaaaaaaaaaaaaaaaaaaaaaaaaaaaaaaaaaaaaaaaaaaaaaaaaaaaaaaaaaaaaaaaaaaaaaaaaaaaaaaaaaaaaaaaaaaaaaaaaaaaaaaaaaaaaaaaaaaaaaaaaaaaaaaaaaaaaaaaaaaaaaaaaaaaaaaaaaaaaaaaaaaaaaaaaaaaaaaaaaaaaaaaaaaaaaaaaaaaaaaaaaaaaaaaaaaaaaaaaaaaaaaaaaaaaaaaaaaaaaaaaaaaaaaaaaaaaaaaaaaaaaaaaaaaaaaaaaa'\n",
    "strStr(haystack, needle)"
   ]
  },
  {
   "cell_type": "markdown",
   "id": "6c9eb180",
   "metadata": {},
   "source": [
    "### 20211013<a id='1008'></a>\n",
    "<strong>1008. Construct Binary Search Tree from Preorder Traversal</strong>\n",
    "\n",
    "Given an array of integers preorder, which represents the preorder traversal of a BST (i.e., binary search tree), construct the tree and return its root.\n",
    "\n",
    "It is guaranteed that there is always possible to find a binary search tree with the given requirements for the given test cases.\n",
    "\n",
    "A binary search tree is a binary tree where for every node, any descendant of Node.left has a value strictly less than Node.val, and any descendant of Node.right has a value strictly greater than Node.val.\n",
    "\n",
    "A preorder traversal of a binary tree displays the value of the node first, then traverses Node.left, then traverses Node.right."
   ]
  },
  {
   "cell_type": "code",
   "execution_count": 100,
   "id": "9f07b9d1",
   "metadata": {},
   "outputs": [],
   "source": [
    "class TreeNode:\n",
    "    def __init__(self, val=0, left=None, right=None):\n",
    "        self.val = val\n",
    "        self.left = left\n",
    "        self.right = right\n",
    "        \n",
    "    def PrintTree(self):\n",
    "        print(self.val, end = ',')\n",
    "        if self.left:\n",
    "            print('left')\n",
    "            self.left.PrintTree()\n",
    "        if self.right:\n",
    "            print('right')\n",
    "            self.right.PrintTree()"
   ]
  },
  {
   "cell_type": "code",
   "execution_count": 84,
   "id": "66a9ecd8",
   "metadata": {},
   "outputs": [],
   "source": [
    "# wrong\n",
    "def bstFromPreorder(preorder):\n",
    "    \n",
    "    def tree(preorder, left, right):\n",
    "        n = right - left + 1\n",
    "        mid = int(n/2) + left\n",
    "        \n",
    "        node = TreeNode(preorder[mid])\n",
    "        \n",
    "        if left <= mid - 1:\n",
    "            node.left = tree(preorder, left, mid - 1)\n",
    "            \n",
    "        if right >= mid + 1:\n",
    "            node.right = tree(preorder, mid + 1, right)\n",
    "            \n",
    "        return node\n",
    "    \n",
    "    return tree(preorder, 0, len(preorder) - 1)"
   ]
  },
  {
   "cell_type": "code",
   "execution_count": 113,
   "id": "02278c53",
   "metadata": {},
   "outputs": [],
   "source": [
    "def bstFromPreorder(preorder):\n",
    "    \n",
    "    def tree(preorder, left, right):\n",
    "        root = preorder[left]\n",
    "        node = TreeNode(root)\n",
    "        \n",
    "        if right - left == 0:\n",
    "            return node\n",
    "        \n",
    "        index = left + 1\n",
    "        \n",
    "        while index <= right:\n",
    "            if preorder[index] < root:\n",
    "                index += 1\n",
    "            else:\n",
    "                break\n",
    "        \n",
    "        if index == right+1:\n",
    "            node.left = tree(preorder, left+1, index-1)\n",
    "        elif index == left+1:\n",
    "            node.right = tree(preorder, index, right)\n",
    "        else:\n",
    "            node.left = tree(preorder, left+1, index-1)\n",
    "            node.right = tree(preorder, index, right)\n",
    "\n",
    "        return node\n",
    "    \n",
    "    return tree(preorder, 0, len(preorder)-1)"
   ]
  },
  {
   "cell_type": "code",
   "execution_count": 114,
   "id": "b68f27e9",
   "metadata": {},
   "outputs": [
    {
     "name": "stdout",
     "output_type": "stream",
     "text": [
      "8,left\n",
      "5,left\n",
      "1,right\n",
      "7,right\n",
      "10,right\n",
      "12,"
     ]
    }
   ],
   "source": [
    "preorder = [8,5,1,7,10,12]\n",
    "bstFromPreorder(preorder).PrintTree()"
   ]
  },
  {
   "cell_type": "code",
   "execution_count": 115,
   "id": "b7764f1e",
   "metadata": {},
   "outputs": [
    {
     "name": "stdout",
     "output_type": "stream",
     "text": [
      "1,right\n",
      "3,"
     ]
    }
   ],
   "source": [
    "preorder = [1,3]\n",
    "bstFromPreorder(preorder).PrintTree()"
   ]
  },
  {
   "cell_type": "code",
   "execution_count": 116,
   "id": "d266ae45",
   "metadata": {},
   "outputs": [
    {
     "name": "stdout",
     "output_type": "stream",
     "text": [
      "1,right\n",
      "2,right\n",
      "3,"
     ]
    }
   ],
   "source": [
    "preorder = [1,2,3]\n",
    "bstFromPreorder(preorder).PrintTree()"
   ]
  },
  {
   "cell_type": "markdown",
   "id": "2fb8d5f4",
   "metadata": {},
   "source": [
    "### 20211014<a id='279'></a>\n",
    "<strong>279. Perfect Squares</strong>\n",
    "\n",
    "Given an integer n, return the least number of perfect square numbers that sum to n.\n",
    "\n",
    "A perfect square is an integer that is the square of an integer; in other words, it is the product of some integer with itself. For example, 1, 4, 9, and 16 are perfect squares while 3 and 11 are not.\n",
    "\n"
   ]
  },
  {
   "cell_type": "code",
   "execution_count": 1,
   "id": "ea9785b4",
   "metadata": {},
   "outputs": [],
   "source": [
    "# doesnt work\n",
    "def numSquares(n):\n",
    "    memo = {}\n",
    "    \n",
    "    def findnum(n, count):\n",
    "        if n in memo.keys():\n",
    "            return count + memo[n]\n",
    "        \n",
    "        if int(n**0.5) == (n**0.5):\n",
    "            memo[n] = 1\n",
    "            return count + 1\n",
    "        \n",
    "        ans = []\n",
    "        for i in range(int(n**0.5), 0, -1):\n",
    "            ans.append(findnum(n - i**2, count+1))\n",
    "        memo[n] = min(ans)\n",
    "        \n",
    "    return findnum(n, 0)"
   ]
  },
  {
   "cell_type": "code",
   "execution_count": 3,
   "id": "67615225",
   "metadata": {},
   "outputs": [],
   "source": [
    "def numSquares(n):\n",
    "    perfect_squares = [i * i for i in range(1, int(n**0.5) + 1)]\n",
    "    dp = [float(\"inf\") for i in range(n + 1)]\n",
    "    dp[0] = 0\n",
    "    dp[1] = 1\n",
    "    for i in range(2, n + 1):\n",
    "        for square in perfect_squares:\n",
    "            dp[i] = min(dp[i], dp[i - square] + 1)\n",
    "    return dp[-1]"
   ]
  },
  {
   "cell_type": "code",
   "execution_count": 4,
   "id": "cb967e74",
   "metadata": {},
   "outputs": [
    {
     "data": {
      "text/plain": [
       "3"
      ]
     },
     "execution_count": 4,
     "metadata": {},
     "output_type": "execute_result"
    }
   ],
   "source": [
    "n = 12\n",
    "numSquares(n)"
   ]
  },
  {
   "cell_type": "code",
   "execution_count": 5,
   "id": "596930a7",
   "metadata": {},
   "outputs": [
    {
     "data": {
      "text/plain": [
       "2"
      ]
     },
     "execution_count": 5,
     "metadata": {},
     "output_type": "execute_result"
    }
   ],
   "source": [
    "n = 1234\n",
    "numSquares(n)"
   ]
  },
  {
   "cell_type": "markdown",
   "id": "0d3777df",
   "metadata": {},
   "source": [
    "### 20211020<a id='496'></a>\n",
    "<strong>496. Next Greater Element I</strong>\n",
    "\n",
    "The next greater element of some element x in an array is the first greater element that is to the right of x in the same array.\n",
    "\n",
    "You are given two distinct 0-indexed integer arrays nums1 and nums2, where nums1 is a subset of nums2.\n",
    "\n",
    "For each 0 <= i < nums1.length, find the index j such that nums1[i] == nums2[j] and determine the next greater element of nums2[j] in nums2. If there is no next greater element, then the answer for this query is -1.\n",
    "\n",
    "Return an array ans of length nums1.length such that ans[i] is the next greater element as described above."
   ]
  }
 ],
 "metadata": {
  "kernelspec": {
   "display_name": "Python 3",
   "language": "python",
   "name": "python3"
  },
  "language_info": {
   "codemirror_mode": {
    "name": "ipython",
    "version": 3
   },
   "file_extension": ".py",
   "mimetype": "text/x-python",
   "name": "python",
   "nbconvert_exporter": "python",
   "pygments_lexer": "ipython3",
   "version": "3.8.8"
  }
 },
 "nbformat": 4,
 "nbformat_minor": 5
}
