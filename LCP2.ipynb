{
 "cells": [
  {
   "cell_type": "markdown",
   "id": "a3ac4027",
   "metadata": {},
   "source": [
    "### Easy: <a id='0'></a>\n",
    "- [496. Next Greater Element](#496)\n",
    "- [155. Min Stack](#155)\n",
    "- [35. Search Insert Position](#35)\n",
    "- [404. Sum of Left Leaves](#404)\n",
    "- [1413. Minimum Value to Get Positive Step by Step Sum](#1413)\n",
    "- [203. Remove Linked List Elements](#203)\n",
    "- [448. Find All Numbers Disappeared in an Array](#448)\n",
    "- [461. Hamming Distance](#461)\n",
    "- [278. First Bad Version](#278)\n",
    "- [1290. Convert Binary Number in a Linked List to Integer](#1290)\n",
    "- [704. Binary Search](#704)\n",
    "- [1200. Minimum Absolute Difference](#1200)\n",
    "- [231. Power of Two](#231)\n",
    "- [977. Squares of a Sorted Array](#977)\n",
    "- [344. Reverse String](#344)\n",
    "- [1009. Complement of Base 10 Integer](#1009)\n",
    "- [733. Flood Fill](#733)\n",
    "- [](#)\n",
    "- [](#)\n",
    "- [](#)\n",
    "- [](#)\n",
    "- [](#)\n",
    "- [](#)\n",
    "- [](#)\n",
    "\n",
    "### Medium\n",
    "- [151. Reverse Words in a String](#151)\n",
    "- [29. Divide Two Integers](#29)\n",
    "- [31. Next Permutation](#31)\n",
    "- [33. Search in Rotated Sorted Array](#33)\n",
    "- [34. Find First and Last Position of Element in Sorted Array](#34)\n",
    "- [75. Sort Colors](#75)\n",
    "- [994. Rotting Oranges](#994)\n",
    "- [130. Surrounded Regions](#130)\n",
    "- [122. Best Time to Buy and Sell Stock II](#122)\n",
    "- [62. Unique Paths](#62)\n",
    "- [540. Single Element in a Sorted Array](#540)\n",
    "- [328. Odd Even Linked List](#328)\n",
    "- [310. Minimum Height Trees](#310)\n",
    "- [143. Reorder List](#143)\n",
    "- [56. Merge Intervals](#56)\n",
    "- [210. Course Schedule II](#210)\n",
    "- [973. K Closest Points to Origin](#973)\n",
    "- [1015. Smallest Integer Divisible by K](#1015)\n",
    "- [1010. Pairs of Songs With Total Durations Divisible by 60](#1010)\n",
    "- [452. Minimum Number of Arrows to Burst Balloons](#452)\n",
    "- [](#)\n",
    "- [](#)\n",
    "- [](#)\n",
    "- [](#)\n",
    "- [](#)\n",
    "\n",
    "\n",
    "### Hard\n",
    "- [30. Substring with Concatenation of All Words](#30)\n",
    "- [](#)\n",
    "\n",
    "- [](#)\n",
    "- [](#)\n",
    "- [](#)\n",
    "- [](#)\n",
    "- [](#)"
   ]
  },
  {
   "cell_type": "code",
   "execution_count": null,
   "id": "5781fdd1",
   "metadata": {},
   "outputs": [],
   "source": [
    "from lolviz import *\n",
    "from dtreeviz.trees import *"
   ]
  },
  {
   "cell_type": "code",
   "execution_count": null,
   "id": "5a8c145e",
   "metadata": {},
   "outputs": [],
   "source": [
    "# listNode function\n",
    "# Definition for singly-linked list.\n",
    "class ListNode:\n",
    "    def __init__(self, val=0, next=None):\n",
    "        self.val = val\n",
    "        self.next = next\n",
    "        \n",
    "def convert_list2nodes(list):\n",
    "    head = ListNode()\n",
    "    pointer = head\n",
    "    for ele in list:\n",
    "        pointer.next = ListNode(ele)\n",
    "        pointer = pointer.next\n",
    "    return head.next\n",
    "\n",
    "def printlistnode(head):\n",
    "    while head is not None:\n",
    "        print(head.val, end =' '),\n",
    "        head = head.next"
   ]
  },
  {
   "cell_type": "code",
   "execution_count": null,
   "id": "58f65d38",
   "metadata": {},
   "outputs": [],
   "source": [
    "# binary tree print function\n",
    "def printInorder(root):\n",
    "    if root:\n",
    "        # First recur on left child\n",
    "        printInorder(root.left)\n",
    "        # then print the data of node\n",
    "        print(root.val),\n",
    "        # now recur on right child\n",
    "        printInorder(root.right)\n",
    "        \n",
    "# A function to do postorder tree traversal\n",
    "def printPostorder(root):\n",
    "    if root:\n",
    "        # First recur on left child\n",
    "        printPostorder(root.left)\n",
    "        # the recur on right child\n",
    "        printPostorder(root.right)\n",
    "        # now print the data of node\n",
    "        print(root.val)\n",
    "        \n",
    "# A function to do preorder tree traversal\n",
    "def printPreorder(root):\n",
    "    if root:\n",
    "        # First print the data of node\n",
    "        print(root.val),\n",
    "        # Then recur on left child\n",
    "        printPreorder(root.left)\n",
    "        # Finally recur on right child\n",
    "        printPreorder(root.right)"
   ]
  },
  {
   "cell_type": "code",
   "execution_count": null,
   "id": "1af48d52",
   "metadata": {},
   "outputs": [],
   "source": [
    "def printtree(root):\n",
    "     \n",
    "    # Base case\n",
    "    if root is None:\n",
    "        return\n",
    "    # Create an empty queue for level order traversal\n",
    "    q = []\n",
    "     \n",
    "    # Enqueue root and initialize height\n",
    "    q.append(root)\n",
    "         \n",
    "    while q:\n",
    "     \n",
    "        # nodeCount (queue size) indicates number\n",
    "        # of nodes at current level.\n",
    "        count = len(q)\n",
    "         \n",
    "        # Dequeue all nodes of current level and\n",
    "        # Enqueue all nodes of next level\n",
    "        while count > 0:\n",
    "            temp = q.pop(0)\n",
    "            if temp.val is None:\n",
    "                print('null', end = ' ')\n",
    "            else:\n",
    "                print(temp.val, end = ' ')\n",
    "            if temp.left:\n",
    "                q.append(temp.left)\n",
    "            if temp.right:\n",
    "                q.append(temp.right)\n",
    " \n",
    "            count -= 1"
   ]
  },
  {
   "cell_type": "markdown",
   "id": "56ae2aa9",
   "metadata": {},
   "source": [
    "### 20211020<a id='496'></a>\n",
    "<strong>496. Next Greater Element I</strong>\n",
    "\n",
    "The next greater element of some element x in an array is the first greater element that is to the right of x in the same array.\n",
    "\n",
    "You are given two distinct 0-indexed integer arrays nums1 and nums2, where nums1 is a subset of nums2.\n",
    "\n",
    "For each 0 <= i < nums1.length, find the index j such that nums1[i] == nums2[j] and determine the next greater element of nums2[j] in nums2. If there is no next greater element, then the answer for this query is -1.\n",
    "\n",
    "Return an array ans of length nums1.length such that ans[i] is the next greater element as described above."
   ]
  },
  {
   "cell_type": "code",
   "execution_count": null,
   "id": "0690c350",
   "metadata": {},
   "outputs": [],
   "source": [
    "# O(mn)\n",
    "def nextGreaterElement(nums1, nums2):\n",
    "    ans = []\n",
    "    for num in nums1:\n",
    "        greater = -1\n",
    "        for i in range(nums2.index(num) + 1, len(nums2)):\n",
    "            if num < nums2[i]:\n",
    "                greater = nums2[i]\n",
    "                break\n",
    "        ans.append(greater)\n",
    "\n",
    "    return ans"
   ]
  },
  {
   "cell_type": "code",
   "execution_count": null,
   "id": "60148f72",
   "metadata": {},
   "outputs": [],
   "source": [
    "# O(n)\n",
    "def nextGreaterElement(nums1, nums2):\n",
    "    dic = {}\n",
    "    stack = []\n",
    "    \n",
    "    for num in nums2[::-1]:\n",
    "        while stack and num > stack[-1]:\n",
    "            stack.pop()\n",
    "        if stack:\n",
    "            dic[num] = stack[-1]\n",
    "        stack.append(num)\n",
    "    \n",
    "    ans = [dic.get(num, -1) for num in nums1]\n",
    "    \n",
    "    return ans"
   ]
  },
  {
   "cell_type": "code",
   "execution_count": null,
   "id": "a4773e76",
   "metadata": {},
   "outputs": [],
   "source": [
    "nums1 = [4,1,2]\n",
    "nums2 = [1,3,4,2]\n",
    "nextGreaterElement(nums1, nums2)"
   ]
  },
  {
   "cell_type": "code",
   "execution_count": null,
   "id": "53b523ae",
   "metadata": {},
   "outputs": [],
   "source": [
    "nums1 = [2,4] \n",
    "nums2 = [1,2,3,4]\n",
    "nextGreaterElement(nums1, nums2)"
   ]
  },
  {
   "cell_type": "code",
   "execution_count": null,
   "id": "98d697d6",
   "metadata": {},
   "outputs": [],
   "source": [
    "nums2 = [1,3,4,2]\n",
    "dic, stack = {}, []\n",
    "\n",
    "for num in nums2[::-1]:\n",
    "    while stack and num > stack[-1]:\n",
    "        stack.pop()\n",
    "    if stack:\n",
    "        dic[num] = stack[-1]\n",
    "    stack.append(num)\n",
    "\n",
    "dic, stack"
   ]
  },
  {
   "cell_type": "code",
   "execution_count": null,
   "id": "bb8116b2",
   "metadata": {},
   "outputs": [],
   "source": [
    "nums2 = [1,3,4,2]\n",
    "dic, stack = {}, []\n",
    "\n",
    "for num in nums2:\n",
    "    while stack and num > stack[-1]:\n",
    "        stack.pop()\n",
    "    if stack:\n",
    "        dic[num] = stack[-1]\n",
    "    stack.append(num)\n",
    "\n",
    "dic, stack"
   ]
  },
  {
   "cell_type": "markdown",
   "id": "1724d4cc",
   "metadata": {},
   "source": [
    "### 20211020<a id='151'></a>\n",
    "<strong>151. Reverse Words in a Stringt I</strong>\n",
    "\n",
    "Given an input string s, reverse the order of the words.\n",
    "\n",
    "A word is defined as a sequence of non-space characters. The words in s will be separated by at least one space.\n",
    "\n",
    "Return a string of the words in reverse order concatenated by a single space.\n",
    "\n",
    "Note that s may contain leading or trailing spaces or multiple spaces between two words. The returned string should only have a single space separating the words. Do not include any extra spaces.\n"
   ]
  },
  {
   "cell_type": "code",
   "execution_count": null,
   "id": "26b5dd6c",
   "metadata": {},
   "outputs": [],
   "source": [
    "def reverseWords(s):\n",
    "    words = [string for string in s.split(' ') if string != '']\n",
    "    return ' '.join(words[::-1])"
   ]
  },
  {
   "cell_type": "code",
   "execution_count": null,
   "id": "fb5efcc6",
   "metadata": {},
   "outputs": [],
   "source": [
    "s = \"  Bob    Loves  Alice   \"\n",
    "reverseWords(s)"
   ]
  },
  {
   "cell_type": "code",
   "execution_count": null,
   "id": "a40247eb",
   "metadata": {},
   "outputs": [],
   "source": [
    "s = \"  hello world  \"\n",
    "reverseWords(s)"
   ]
  },
  {
   "cell_type": "code",
   "execution_count": null,
   "id": "b44e8f5c",
   "metadata": {},
   "outputs": [],
   "source": [
    "s = \"a good   example\"\n",
    "reverseWords(s)"
   ]
  },
  {
   "cell_type": "markdown",
   "id": "f3073683",
   "metadata": {},
   "source": [
    "### 20211020<a id='29'></a>\n",
    "<strong>29. Divide Two Integers</strong>\n",
    "\n",
    "Given two integers dividend and divisor, divide two integers without using multiplication, division, and mod operator.\n",
    "\n",
    "Return the quotient after dividing dividend by divisor.\n",
    "\n",
    "The integer division should truncate toward zero, which means losing its fractional part. For example, truncate(8.345) = 8 and truncate(-2.7335) = -2.\n",
    "\n",
    "Note: Assume we are dealing with an environment that could only store integers within the 32-bit signed integer range: [−231, 231 − 1]. For this problem, assume that your function returns 231 − 1 when the division result overflows."
   ]
  },
  {
   "cell_type": "code",
   "execution_count": null,
   "id": "b954d9cc",
   "metadata": {},
   "outputs": [],
   "source": [
    "def divide(dividend: int, divisor: int):\n",
    "    ans = 0\n",
    "    multiple = []\n",
    "    remain = abs(dividend)\n",
    "    div = abs(divisor)\n",
    "    \n",
    "    if (dividend >=0 and divisor > 0) or (dividend <=0 and divisor < 0):\n",
    "        while div <= remain:\n",
    "            multiple.append(div)\n",
    "            ans += 2**(len(multiple)-1)\n",
    "            remain -= div\n",
    "            div += div\n",
    "\n",
    "        while multiple and remain >= divisor:\n",
    "            if remain >= multiple[-1]:\n",
    "                ans += 2**(len(multiple)-1)\n",
    "                remain -= multiple[-1]\n",
    "            else:\n",
    "                multiple.pop() \n",
    "    else:\n",
    "        while div <= remain:\n",
    "            multiple.append(div)\n",
    "            ans -= 2**(len(multiple)-1)\n",
    "            remain -= div\n",
    "            div += div\n",
    "\n",
    "        while multiple and remain >= divisor:\n",
    "            if remain >= multiple[-1]:\n",
    "                ans -= 2**(len(multiple)-1)\n",
    "                remain -= multiple[-1]\n",
    "            else:\n",
    "                multiple.pop()\n",
    "    \n",
    "    if ans >= 2147483648:\n",
    "        ans = 2147483647\n",
    "\n",
    "    return ans"
   ]
  },
  {
   "cell_type": "code",
   "execution_count": null,
   "id": "65051771",
   "metadata": {},
   "outputs": [],
   "source": [
    "def divide(dividend, divisor):\n",
    "     \n",
    "    # Calculate sign of divisor\n",
    "    # i.e., sign will be negative\n",
    "    # either one of them is negative\n",
    "    # only iff otherwise it will be\n",
    "    # positive\n",
    "     \n",
    "    sign = (-1 if((dividend < 0) ^\n",
    "                  (divisor < 0)) else 1);\n",
    "     \n",
    "    # remove sign of operands\n",
    "    dividend = abs(dividend);\n",
    "    divisor = abs(divisor);\n",
    "     \n",
    "    # Initialize\n",
    "    # the quotient\n",
    "    quotient = 0;\n",
    "    temp = 0;\n",
    "     \n",
    "    # test down from the highest\n",
    "    # bit and accumulate the\n",
    "    # tentative value for valid bit\n",
    "    for i in range(31, -1, -1):\n",
    "        if (temp + (divisor << i) <= dividend):\n",
    "            temp += divisor << i;\n",
    "            quotient |= 1 << i;\n",
    "    #if the sign value computed earlier is -1 then negate the value of quotient\n",
    "    if sign ==-1 :\n",
    "        quotient=-quotient;\n",
    "    return quotient;"
   ]
  },
  {
   "cell_type": "code",
   "execution_count": null,
   "id": "a33cb1de",
   "metadata": {},
   "outputs": [],
   "source": [
    "dividend = -2147483650\n",
    "divisor = 1\n",
    "divide(dividend, divisor)"
   ]
  },
  {
   "cell_type": "code",
   "execution_count": null,
   "id": "c64e9521",
   "metadata": {},
   "outputs": [],
   "source": [
    "dividend = -2147483647\n",
    "divisor = 1\n",
    "divide(dividend, divisor)"
   ]
  },
  {
   "cell_type": "code",
   "execution_count": null,
   "id": "716eaa12",
   "metadata": {},
   "outputs": [],
   "source": [
    "dividend = 10\n",
    "divisor = 3\n",
    "divide(dividend, divisor)"
   ]
  },
  {
   "cell_type": "code",
   "execution_count": null,
   "id": "80f00445",
   "metadata": {},
   "outputs": [],
   "source": [
    "dividend = -214748365000\n",
    "divisor = 1\n",
    "divide(dividend, divisor)"
   ]
  },
  {
   "cell_type": "code",
   "execution_count": null,
   "id": "d204d4f3",
   "metadata": {},
   "outputs": [],
   "source": [
    "dividend = 3\n",
    "divisor = 10\n",
    "divide(dividend, divisor)"
   ]
  },
  {
   "cell_type": "code",
   "execution_count": null,
   "id": "ff917fc3",
   "metadata": {},
   "outputs": [],
   "source": [
    "dividend = 1\n",
    "divisor = 1\n",
    "divide(dividend, divisor)"
   ]
  },
  {
   "cell_type": "code",
   "execution_count": null,
   "id": "c1ed6ff8",
   "metadata": {},
   "outputs": [],
   "source": [
    "s = \"barfoothefoobarman\"\n",
    "words = [\"foo\",\"bar\"]\n",
    "word_list = [s[i:i+3] for i in range(0,len(s),3)]\n",
    "word_list"
   ]
  },
  {
   "cell_type": "markdown",
   "id": "037c6878",
   "metadata": {},
   "source": [
    "### 20211020<a id='30'></a>\n",
    "<strong>30. Substring with Concatenation of All Words</strong>\n",
    "\n",
    "You are given a string s and an array of strings words of the same length. Return all starting indices of substring(s) in s that is a concatenation of each word in words exactly once, in any order, and without any intervening characters.\n",
    "\n",
    "You can return the answer in any order."
   ]
  },
  {
   "cell_type": "code",
   "execution_count": null,
   "id": "c299a1ff",
   "metadata": {},
   "outputs": [],
   "source": [
    "def findSubstring(s, words):\n",
    "    \n",
    "    ans = []\n",
    "    len_word = len(words[0])\n",
    "    n_words = len(words)\n",
    "    total_len = len_word * n_words\n",
    "    hash_map = {}\n",
    "    \n",
    "    for word in words:\n",
    "        if word in hash_map:\n",
    "            hash_map[word] += 1\n",
    "        else:\n",
    "            hash_map[word] = 1\n",
    "                        \n",
    "    for i in range(len(s) - total_len + 1):\n",
    "        temp_hash = hash_map.copy()\n",
    "        j = i\n",
    "        count = n_words\n",
    "        \n",
    "        while j < i + total_len:\n",
    "            word = s[j:j+len_word]\n",
    "            \n",
    "            if word not in temp_hash or temp_hash[word] == 0:\n",
    "                break\n",
    "            else:\n",
    "                count -= 1\n",
    "                temp_hash[word] -= 1\n",
    "            \n",
    "            j += len_word\n",
    "            \n",
    "        if count == 0:\n",
    "            ans.append(i)\n",
    "    \n",
    "    return ans"
   ]
  },
  {
   "cell_type": "code",
   "execution_count": null,
   "id": "0a50a989",
   "metadata": {},
   "outputs": [],
   "source": [
    "s = \"barfoothefoobarman\"\n",
    "words = [\"foo\",\"bar\"]\n",
    "findSubstring(s, words)"
   ]
  },
  {
   "cell_type": "code",
   "execution_count": null,
   "id": "7d0fa3ce",
   "metadata": {},
   "outputs": [],
   "source": [
    "s = \"wordgoodgoodgoodbestword\"\n",
    "words = [\"word\",\"good\",\"best\",\"word\"]\n",
    "findSubstring(s, words)"
   ]
  },
  {
   "cell_type": "code",
   "execution_count": null,
   "id": "40d959e5",
   "metadata": {},
   "outputs": [],
   "source": [
    "s = \"barfoofoobarthefoobarman\"\n",
    "words = [\"bar\",\"foo\",\"the\"]\n",
    "findSubstring(s, words)"
   ]
  },
  {
   "cell_type": "markdown",
   "id": "1efc22d2",
   "metadata": {},
   "source": [
    "### 20211021<a id='380'></a>\n",
    "<strong>380. Insert Delete GetRandom O(1)</strong>\n",
    "\n",
    "Implement the RandomizedSet class:\n",
    "\n",
    "- RandomizedSet() Initializes the RandomizedSet object.\n",
    "- bool insert(int val) Inserts an item val into the set if not present. Returns true if the item was not present, false otherwise.\n",
    "- bool remove(int val) Removes an item val from the set if present. Returns true if the item was present, false otherwise.\n",
    "- int getRandom() Returns a random element from the current set of elements (it's guaranteed that at least one element exists when this method is called). Each element must have the same probability of being returned.\n",
    "\n",
    "You must implement the functions of the class such that each function works in average O(1) time complexity."
   ]
  },
  {
   "cell_type": "code",
   "execution_count": null,
   "id": "cee8870b",
   "metadata": {},
   "outputs": [],
   "source": [
    "import random\n",
    "class RandomizedSet:\n",
    "    \n",
    "    def __init__(self):\n",
    "        # dict to keep inserted val:index\n",
    "        self.indexs = {}\n",
    "        # list to keep all inserted val\n",
    "        self.numbers = []\n",
    "\n",
    "    def insert(self, val: int) -> bool:\n",
    "        if val in self.indexs:\n",
    "            return False\n",
    "        \n",
    "        self.numbers.append(val)\n",
    "        self.indexs[val] = len(self.numbers) - 1\n",
    "        return True\n",
    "\n",
    "    def remove(self, val: int) -> bool:\n",
    "        if val not in self.indexs:\n",
    "            return False\n",
    "        \n",
    "        # swap val with last element in the list, then pop\n",
    "        index = self.indexs[val]\n",
    "        last = self.numbers[-1]\n",
    "        self.indexs[last] = index\n",
    "        self.numbers[-1] = val\n",
    "        self.numbers[index] = last\n",
    "        self.numbers.pop()\n",
    "       \n",
    "        del self.indexs[val]\n",
    "        \n",
    "        return True\n",
    "\n",
    "    def getRandom(self) -> int:\n",
    "        return random.choice(self.numbers)"
   ]
  },
  {
   "cell_type": "code",
   "execution_count": null,
   "id": "7f615738",
   "metadata": {},
   "outputs": [],
   "source": [
    "obj = RandomizedSet()\n",
    "print(obj.insert(0))\n",
    "print(obj.insert(1))\n",
    "print(obj.remove(0))\n",
    "print(obj.insert(2))\n",
    "print(obj.remove(1))\n",
    "print(obj.getRandom())"
   ]
  },
  {
   "cell_type": "markdown",
   "id": "ec8c85f0",
   "metadata": {},
   "source": [
    "### 20211021<a id='451'></a>\n",
    "<strong>451. Sort Characters By Frequency</strong>\n",
    "\n",
    "Given a string s, sort it in decreasing order based on the frequency of the characters. The frequency of a character is the number of times it appears in the string.\n",
    "\n",
    "Return the sorted string. If there are multiple answers, return any of them."
   ]
  },
  {
   "cell_type": "code",
   "execution_count": null,
   "id": "0595d416",
   "metadata": {},
   "outputs": [],
   "source": [
    "def frequencySort(s):\n",
    "    dic = {}\n",
    "    \n",
    "    for char in s:\n",
    "        if char in dic:\n",
    "            dic[char] += 1\n",
    "        else:\n",
    "            dic[char] = 1\n",
    "            \n",
    "    sorted_char = sorted(dic.items(), key=lambda item: item[1], reverse = True)\n",
    "    \n",
    "    ans = ''\n",
    "    \n",
    "    for item in sorted_char:\n",
    "        ans += item[0] * item[1]\n",
    "        \n",
    "    return ans"
   ]
  },
  {
   "cell_type": "code",
   "execution_count": null,
   "id": "c728af6d",
   "metadata": {},
   "outputs": [],
   "source": [
    "s = \"tree\"\n",
    "frequencySort(s)"
   ]
  },
  {
   "cell_type": "code",
   "execution_count": null,
   "id": "a9e79dfe",
   "metadata": {},
   "outputs": [],
   "source": [
    "s = \"Aabb\"\n",
    "frequencySort(s)"
   ]
  },
  {
   "cell_type": "code",
   "execution_count": null,
   "id": "376f5bca",
   "metadata": {},
   "outputs": [],
   "source": [
    "dic = {'s':1, 'g':3, 'a':2}\n",
    "a = sorted(dic.items(), key=lambda item: item[1], reverse = True)[0]\n",
    "a[0]*a[1]"
   ]
  },
  {
   "cell_type": "markdown",
   "id": "a11bbafa",
   "metadata": {},
   "source": [
    "### 20211023<a id='222'></a>\n",
    "<strong>222. Count Complete Tree Nodes</strong>\n",
    "\n",
    "Given the root of a complete binary tree, return the number of the nodes in the tree.\n",
    "\n",
    "According to Wikipedia, every level, except possibly the last, is completely filled in a complete binary tree, and all nodes in the last level are as far left as possible. It can have between 1 and 2h nodes inclusive at the last level h.\n",
    "\n",
    "Design an algorithm that runs in less than O(n) time complexity.\n",
    "\n"
   ]
  },
  {
   "cell_type": "code",
   "execution_count": null,
   "id": "a531d3ac",
   "metadata": {},
   "outputs": [],
   "source": [
    "from lolviz import *\n",
    "from dtreeviz.trees import *\n",
    "\n",
    "class TreeNode:\n",
    "    def __init__(self, val=0, left=None, right=None):\n",
    "        self.val = val\n",
    "        self.left = left\n",
    "        self.right = right"
   ]
  },
  {
   "cell_type": "code",
   "execution_count": null,
   "id": "68f29a6d",
   "metadata": {},
   "outputs": [],
   "source": [
    "def countNodes(root):\n",
    "    \n",
    "    heights = []\n",
    "    \n",
    "    def find_height(root, h):\n",
    "        if root:\n",
    "        \n",
    "            rightans = find_height(root.right, h + 1)\n",
    "            if len(heights) == 0 or (len(heights) > 1 and rightans >= heights[-1] and heights[-2] == heights[-1]):\n",
    "                heights.append(rightans)\n",
    "\n",
    "            leftans = find_height(root.left, h + 1)\n",
    "            if (len(heights) == 1 and leftans >= heights[-1]) or (len(heights) > 1 and leftans >= heights[-1] and heights[-2] == heights[-1]):\n",
    "                heights.append(leftans)\n",
    "\n",
    "        return h\n",
    "    \n",
    "    find_height(root, -1)\n",
    "    n = len(heights)\n",
    "    \n",
    "    if n <= 1:\n",
    "        return n\n",
    "    if heights[-1] == heights[-2]:\n",
    "        return n -1\n",
    "    return 2**(heights[-1]+1) - n"
   ]
  },
  {
   "cell_type": "code",
   "execution_count": null,
   "id": "55da34c6",
   "metadata": {},
   "outputs": [],
   "source": [
    "def countNodes(root: TreeNode) -> int:\n",
    "    \n",
    "    def getLeftHeight(root):\n",
    "        count=1\n",
    "        while root.left:\n",
    "            count += 1\n",
    "            root = root.left\n",
    "        return count\n",
    "    \n",
    "    def getRightHeight(root):\n",
    "        count=1\n",
    "        while root.right:\n",
    "            count += 1\n",
    "            root = root.right\n",
    "        return count\n",
    "    \n",
    "    if not root:\n",
    "        return 0\n",
    "\n",
    "    left = getLeftHeight(root) #logn op\n",
    "    right = getRightHeight(root) #logn op\n",
    "\n",
    "    if left == right:\n",
    "        count = (2**left)-1 #if left == right then it's a complete BT. number of nodes in a comp BT is 2^h-1\n",
    "        return count\n",
    "    else:\n",
    "        #one subtree will always return immediately because it is complete. Hence time complexity is O(logn)\n",
    "        return countNodes(root.left) + countNodes(root.right) + 1 "
   ]
  },
  {
   "cell_type": "code",
   "execution_count": null,
   "id": "bcd554b7",
   "metadata": {},
   "outputs": [],
   "source": [
    "root = TreeNode(1)\n",
    "root.left = TreeNode(2)\n",
    "root.right = TreeNode(3)\n",
    "countNodes(root)"
   ]
  },
  {
   "cell_type": "code",
   "execution_count": null,
   "id": "4fd7d028",
   "metadata": {},
   "outputs": [],
   "source": [
    "root = TreeNode(1)\n",
    "root.left = TreeNode(2)\n",
    "root.right = TreeNode(3)\n",
    "root.left.left = TreeNode(4)\n",
    "countNodes(root)"
   ]
  },
  {
   "cell_type": "code",
   "execution_count": null,
   "id": "20a5f56f",
   "metadata": {},
   "outputs": [],
   "source": [
    "root = TreeNode(1)\n",
    "root.left = TreeNode(2)\n",
    "root.right = TreeNode(3)\n",
    "root.left.left = TreeNode(4)\n",
    "root.left.right = TreeNode(5)\n",
    "countNodes(root)"
   ]
  },
  {
   "cell_type": "code",
   "execution_count": null,
   "id": "1e6c0127",
   "metadata": {},
   "outputs": [],
   "source": [
    "root = TreeNode(1)\n",
    "root.left = TreeNode(2)\n",
    "root.right = TreeNode(3)\n",
    "root.left.left = TreeNode(4)\n",
    "root.left.right = TreeNode(5)\n",
    "root.right.left = TreeNode(6)\n",
    "countNodes(root)"
   ]
  },
  {
   "cell_type": "code",
   "execution_count": null,
   "id": "5b86ac22",
   "metadata": {},
   "outputs": [],
   "source": [
    "root = TreeNode(1)\n",
    "root.left = TreeNode(2)\n",
    "root.right = TreeNode(3)\n",
    "root.left.left = TreeNode(4)\n",
    "root.left.right = TreeNode(5)\n",
    "root.right.left = TreeNode(6)\n",
    "root.right.right = TreeNode(7)\n",
    "countNodes(root)"
   ]
  },
  {
   "cell_type": "code",
   "execution_count": null,
   "id": "31a43103",
   "metadata": {},
   "outputs": [],
   "source": [
    "root = TreeNode(1)\n",
    "root.left = TreeNode(2)\n",
    "root.right = TreeNode(3)\n",
    "root.left.left = TreeNode(4)\n",
    "root.left.right = TreeNode(5)\n",
    "root.right.left = TreeNode(6)\n",
    "root.right.right = TreeNode(7)\n",
    "root.left.left.left = TreeNode(8)\n",
    "countNodes(root)"
   ]
  },
  {
   "cell_type": "code",
   "execution_count": null,
   "id": "c152a725",
   "metadata": {},
   "outputs": [],
   "source": [
    "root = TreeNode(1)\n",
    "root.left = TreeNode(2)\n",
    "root.right = TreeNode(3)\n",
    "root.left.left = TreeNode(4)\n",
    "root.left.right = TreeNode(5)\n",
    "root.right.left = TreeNode(6)\n",
    "root.right.right = TreeNode(7)\n",
    "root.left.left.left = TreeNode(8)\n",
    "root.left.left.right = TreeNode(9)\n",
    "countNodes(root)"
   ]
  },
  {
   "cell_type": "markdown",
   "id": "952c61fe",
   "metadata": {},
   "source": [
    "### 20211024<a id='31'></a>\n",
    "<strong>31. Next Permutation</strong>\n",
    "\n",
    "Implement next permutation, which rearranges numbers into the lexicographically next greater permutation of numbers.\n",
    "\n",
    "If such an arrangement is not possible, it must rearrange it as the lowest possible order (i.e., sorted in ascending order).\n",
    "\n",
    "The replacement must be in place and use only constant extra memory."
   ]
  },
  {
   "cell_type": "code",
   "execution_count": null,
   "id": "51dd7bb9",
   "metadata": {},
   "outputs": [],
   "source": [
    "# check from the end the nums\n",
    "# find a pair of smaller and swap that swap > smaller and with the smallest of \n",
    "# diff = number of digits * (swap - smaller)\n",
    "# insert the swap_v to the smaller_v's index smaller\n",
    "# then sort nums[smaller+1] to ascending order\n",
    "def nextPermutation(nums):\n",
    "    n = len(nums)\n",
    "    \n",
    "    if n > 1:\n",
    "        diff = -1\n",
    "        smaller = -1\n",
    "        smaller_v = 101\n",
    "        swap = -1\n",
    "        swap_v = 101\n",
    "        for i in range(n-1, 0, -1):\n",
    "            cur = nums[i]\n",
    "            for j in range(i-1, -1, -1):\n",
    "                temp = nums[j]\n",
    "                if temp < cur:\n",
    "                    temp_diff = 10 ** (n - j)\n",
    "                    if diff == -1 or temp_diff < diff:\n",
    "                        smaller = j\n",
    "                        smaller_v = temp\n",
    "                        swap = i\n",
    "                        swap_v = cur\n",
    "                        diff = temp_diff\n",
    "                        break\n",
    "        \n",
    "        if smaller != -1:\n",
    "            nums.pop(swap)\n",
    "            nums.insert(smaller, swap_v)\n",
    "        nums[smaller+1:] = sorted(nums[smaller+1:])"
   ]
  },
  {
   "cell_type": "code",
   "execution_count": null,
   "id": "bd4fae12",
   "metadata": {},
   "outputs": [],
   "source": [
    "def nextPermutation(nums):\n",
    "    n = len(nums)\n",
    "    \n",
    "    # find descending sequence\n",
    "    swap = n - 1\n",
    "    while swap > 0 and nums[swap-1] >= nums[swap]:\n",
    "        swap-=1\n",
    "    # the number to swap is the i-1 before the desending sequence\n",
    "    swap -= 1\n",
    "        \n",
    "    # find smallest number that is bigger than swap\n",
    "    i = swap + 2\n",
    "    bigger = swap + 1\n",
    "    while i < len(nums):\n",
    "        if nums[i] > nums[swap] and nums[i] < nums[bigger]:\n",
    "            bigger = i\n",
    "        if nums[bigger] == nums[swap] + 1:\n",
    "            break\n",
    "        i+=1\n",
    "    \n",
    "    # swap with bigger\n",
    "    temp = nums[swap]\n",
    "    nums[swap] = nums[bigger]\n",
    "    nums[bigger] = temp\n",
    "    \n",
    "    # the rest of them sort in ascending order\n",
    "    nums[swap+1:] = sorted(nums[swap+1:])"
   ]
  },
  {
   "cell_type": "code",
   "execution_count": null,
   "id": "4a29720c",
   "metadata": {},
   "outputs": [],
   "source": [
    "nums = [1,2,3]\n",
    "nextPermutation(nums)\n",
    "print(nums)\n",
    "nums == [1, 3, 2]"
   ]
  },
  {
   "cell_type": "code",
   "execution_count": null,
   "id": "d93d48b5",
   "metadata": {},
   "outputs": [],
   "source": [
    "nums = [3,2,1]\n",
    "nextPermutation(nums)\n",
    "print(nums)\n",
    "nums == [1, 2, 3]"
   ]
  },
  {
   "cell_type": "code",
   "execution_count": null,
   "id": "63d243ab",
   "metadata": {},
   "outputs": [],
   "source": [
    "nums = [1,1,5]\n",
    "nextPermutation(nums)\n",
    "nums == [1, 5, 1]"
   ]
  },
  {
   "cell_type": "code",
   "execution_count": null,
   "id": "ea543552",
   "metadata": {},
   "outputs": [],
   "source": [
    "nums = [1]\n",
    "nextPermutation(nums)\n",
    "nums == [1]"
   ]
  },
  {
   "cell_type": "code",
   "execution_count": null,
   "id": "8ccdf3e8",
   "metadata": {},
   "outputs": [],
   "source": [
    "nums = [1,3,2]\n",
    "nextPermutation(nums)\n",
    "print(nums)\n",
    "nums == [2,1,3]"
   ]
  },
  {
   "cell_type": "code",
   "execution_count": null,
   "id": "b5f4f268",
   "metadata": {},
   "outputs": [],
   "source": [
    "nums = [2,1,3]\n",
    "nextPermutation(nums)\n",
    "nums == [2, 3, 1]"
   ]
  },
  {
   "cell_type": "code",
   "execution_count": null,
   "id": "6a6959dc",
   "metadata": {},
   "outputs": [],
   "source": [
    "nums = [2,3,1]\n",
    "nextPermutation(nums)\n",
    "nums == [3, 1, 2]"
   ]
  },
  {
   "cell_type": "code",
   "execution_count": null,
   "id": "ac923307",
   "metadata": {},
   "outputs": [],
   "source": [
    "nums = [4,2,0,2,3,2,0]\n",
    "nextPermutation(nums)\n",
    "print(nums)\n",
    "nums == [4,2,0,3,0,2,2]"
   ]
  },
  {
   "cell_type": "code",
   "execution_count": null,
   "id": "f80515a3",
   "metadata": {},
   "outputs": [],
   "source": [
    "nums = [1,2,0,3,0,1,2,4]\n",
    "nextPermutation(nums)\n",
    "print(nums)\n",
    "nums == [1,2,0,3,0,1,4,2]"
   ]
  },
  {
   "cell_type": "markdown",
   "id": "c912d941",
   "metadata": {},
   "source": [
    "### 20211025<a id='155'></a>\n",
    "<strong>155. Min Stack</strong>\n",
    "\n",
    "Design a stack that supports push, pop, top, and retrieving the minimum element in constant time.\n",
    "\n",
    "Implement the MinStack class:\n",
    "\n",
    "MinStack() initializes the stack object.\n",
    "void push(int val) pushes the element val onto the stack.\n",
    "void pop() removes the element on the top of the stack.\n",
    "int top() gets the top element of the stack.\n",
    "int getMin() retrieves the minimum element in the stack."
   ]
  },
  {
   "cell_type": "code",
   "execution_count": null,
   "id": "84fa7cbd",
   "metadata": {},
   "outputs": [],
   "source": [
    "class MinStack:\n",
    "\n",
    "    def __init__(self):\n",
    "        self.stack = []\n",
    "        \n",
    "\n",
    "    def push(self, val: int) -> None:\n",
    "        if self.stack:\n",
    "            self.stack.append((val, min(self.stack[-1][1], val)))\n",
    "        else:\n",
    "            self.stack.append((val, val))\n",
    "        \n",
    "\n",
    "    def pop(self) -> None:\n",
    "        self.stack.pop()\n",
    "        \n",
    "\n",
    "    def top(self) -> int:\n",
    "        if self.stack:\n",
    "            return self.stack[-1][0]\n",
    "        else:\n",
    "            return None\n",
    "        \n",
    "\n",
    "    def getMin(self) -> int:\n",
    "        if self.stack:\n",
    "            return self.stack[-1][1]\n",
    "        else:\n",
    "            return None"
   ]
  },
  {
   "cell_type": "code",
   "execution_count": null,
   "id": "6988e603",
   "metadata": {},
   "outputs": [],
   "source": [
    "class MinStack:\n",
    "    \n",
    "    def __init__(self):\n",
    "        self.stack = []\n",
    "        self.min = []\n",
    "        \n",
    "\n",
    "    def push(self, val: int) -> None:\n",
    "        self.stack.append(val)\n",
    "        if not self.min or self.min[-1] >= val:\n",
    "            self.min.append(val)\n",
    "        \n",
    "\n",
    "    def pop(self) -> None:\n",
    "        last = self.stack[-1]\n",
    "        self.stack.pop()\n",
    "        if last == self.min[-1]:\n",
    "            self.min.pop()\n",
    "\n",
    "    def top(self) -> int:\n",
    "        return self.stack[-1]\n",
    "        \n",
    "\n",
    "    def getMin(self) -> int:\n",
    "        return self.min[-1]"
   ]
  },
  {
   "cell_type": "markdown",
   "id": "c572a26c",
   "metadata": {},
   "source": [
    "### 20211025<a id='33'></a>\n",
    "<strong>33. Search in Rotated Sorted Array</strong>\n",
    "\n",
    "There is an integer array nums sorted in ascending order (with distinct values).\n",
    "\n",
    "Prior to being passed to your function, nums is possibly rotated at an unknown pivot index k (1 <= k < nums.length) such that the resulting array is [nums[k], nums[k+1], ..., nums[n-1], nums[0], nums[1], ..., nums[k-1]] (0-indexed). For example, [0,1,2,4,5,6,7] might be rotated at pivot index 3 and become [4,5,6,7,0,1,2].\n",
    "\n",
    "Given the array nums after the possible rotation and an integer target, return the index of target if it is in nums, or -1 if it is not in nums.\n",
    "\n",
    "You must write an algorithm with O(log n) runtime complexity."
   ]
  },
  {
   "cell_type": "code",
   "execution_count": null,
   "id": "f14fc6d9",
   "metadata": {},
   "outputs": [],
   "source": [
    "# two pointer solution:\n",
    "# left and right at 1/3, 2/3  \n",
    "#Case1\n",
    "# num_left < num_right -> it is either the the ascending sequence left to the pivot or right to the pivot\n",
    "# [... left, ..., right, ..., pivot, ...] or [pivot, ... left, ..., right, ...]\n",
    "# target < num_left --> left to pivot -1 search\n",
    "# num_left < target < num_right --> left to right +1 search\n",
    "# target > num_right --> right to pivot +1 search\n",
    "\n",
    "# Case2\n",
    "# num_left > num_right -> left to the pivot and right to the pivot\n",
    "# [... left, ..., pivot, ..., right, ...]\n",
    "# target < num_right --> right to pivot -1 search\n",
    "# num_right < target < num_left --> right to left +1 search\n",
    "# target > num_left --> left to pivot +1 search"
   ]
  },
  {
   "cell_type": "code",
   "execution_count": null,
   "id": "dda76916",
   "metadata": {},
   "outputs": [],
   "source": [
    "def search(nums, target):\n",
    "    def findnum(nums, start, end, step, target):\n",
    "        ans = -1\n",
    "        for i in range(start, end+step, step):\n",
    "            if nums[i] == target:\n",
    "                ans = i\n",
    "                break\n",
    "        return ans\n",
    "    \n",
    "    n = len(nums)\n",
    "    \n",
    "    if n == 1:\n",
    "        if nums[0] == target:\n",
    "            return 0\n",
    "        return -1\n",
    "    \n",
    "    l = n//3\n",
    "    r = 2*n//3\n",
    "    \n",
    "    if nums[l] < nums[r]:\n",
    "        if target <= nums[l]:\n",
    "            return findnum(nums,l,0,-1,target) if findnum(nums,l,0,-1,target)!=-1 else findnum(nums,n-1,r,-1,target)\n",
    "        elif target >= nums[r]:\n",
    "            return findnum(nums,r,n-1,1, target) if findnum(nums,r,n-1,1,target)!=-1 else findnum(nums,0,l,1,target)\n",
    "        else:\n",
    "            return findnum(nums,l,r,1,target)\n",
    "    else:\n",
    "        if target <= nums[r]:\n",
    "            return findnum(nums,r,l,-1,target)\n",
    "        elif target >= nums[l]:\n",
    "            return findnum(nums,l,r,1,target)\n",
    "        else:\n",
    "            return findnum(nums,r,n-1,1, target) if findnum(nums,r,n-1,1,target)!=-1 else findnum(nums,0,l,1,target)"
   ]
  },
  {
   "cell_type": "code",
   "execution_count": null,
   "id": "9dd77797",
   "metadata": {},
   "outputs": [],
   "source": [
    "# binary search\n",
    "def search(nums, target):\n",
    "    s = 0\n",
    "    e = len(nums) - 1\n",
    "    while s <= e:\n",
    "        m = (s+e)//2\n",
    "        if target == nums[m]:\n",
    "            return m\n",
    "        # [s, m, p, e]\n",
    "        if nums[s] <= nums[m]:\n",
    "            if target >= nums[s] and target < nums[m]:\n",
    "                e = m - 1\n",
    "            else:\n",
    "                s = m + 1\n",
    "        #[s, p, m, e]\n",
    "        else:\n",
    "            if target > nums[m] and target <= nums[e]:\n",
    "                s = m + 1\n",
    "            else:\n",
    "                e = m - 1\n",
    "                \n",
    "    return -1"
   ]
  },
  {
   "cell_type": "code",
   "execution_count": null,
   "id": "634d53d0",
   "metadata": {},
   "outputs": [],
   "source": [
    "nums = [4,5,6,7,0,1,2]\n",
    "target = 0\n",
    "search(nums, target)"
   ]
  },
  {
   "cell_type": "code",
   "execution_count": null,
   "id": "2f8f36ca",
   "metadata": {},
   "outputs": [],
   "source": [
    "nums = [4,5,6,7,0,1,2]\n",
    "target = 3\n",
    "search(nums, target)"
   ]
  },
  {
   "cell_type": "code",
   "execution_count": null,
   "id": "0164644a",
   "metadata": {},
   "outputs": [],
   "source": [
    "nums = [1]\n",
    "target = 0\n",
    "search(nums, target)"
   ]
  },
  {
   "cell_type": "code",
   "execution_count": null,
   "id": "cb18b0ed",
   "metadata": {},
   "outputs": [],
   "source": [
    "nums = [1,3]\n",
    "target = 3\n",
    "search(nums, target)"
   ]
  },
  {
   "cell_type": "code",
   "execution_count": null,
   "id": "4fe8c2b9",
   "metadata": {},
   "outputs": [],
   "source": [
    "nums = [3,1]\n",
    "target = 1\n",
    "search(nums, target)"
   ]
  },
  {
   "cell_type": "markdown",
   "id": "1a866ff5",
   "metadata": {},
   "source": [
    "### 20211025<a id='35'></a>\n",
    "<strong>35. Search Insert Position</strong>\n",
    "\n",
    "Given a sorted array of distinct integers and a target value, return the index if the target is found. If not, return the index where it would be if it were inserted in order.\n",
    "\n",
    "You must write an algorithm with O(log n) runtime complexity.\n",
    "\n"
   ]
  },
  {
   "cell_type": "code",
   "execution_count": null,
   "id": "5510da84",
   "metadata": {},
   "outputs": [],
   "source": [
    "def searchInsert(nums, target):\n",
    "    start = 0\n",
    "    end = len(nums) - 1\n",
    "    \n",
    "    while start <= end:\n",
    "        mid = (start+end)//2\n",
    "        if nums[mid] == target:\n",
    "            return mid\n",
    "        elif target < nums[mid]:\n",
    "            end = mid - 1\n",
    "        else:\n",
    "            start = mid + 1\n",
    "            \n",
    "    return start"
   ]
  },
  {
   "cell_type": "code",
   "execution_count": null,
   "id": "4630348b",
   "metadata": {},
   "outputs": [],
   "source": [
    "def searchInsert(nums, target):\n",
    "    start = 0\n",
    "    end = len(nums)\n",
    "    \n",
    "    while start < end:\n",
    "        mid = (start+end)//2\n",
    "        if nums[mid] == target:\n",
    "            return mid\n",
    "        elif target < nums[mid]:\n",
    "            end = mid\n",
    "        else:\n",
    "            start = mid + 1\n",
    "            \n",
    "    return start"
   ]
  },
  {
   "cell_type": "code",
   "execution_count": null,
   "id": "7c32e07b",
   "metadata": {},
   "outputs": [],
   "source": [
    "nums = [1,3,5,6]\n",
    "target = 5\n",
    "searchInsert(nums, target)"
   ]
  },
  {
   "cell_type": "code",
   "execution_count": null,
   "id": "dc011e5f",
   "metadata": {},
   "outputs": [],
   "source": [
    "nums = [1,3,5,6]\n",
    "target = 2\n",
    "searchInsert(nums, target)"
   ]
  },
  {
   "cell_type": "code",
   "execution_count": null,
   "id": "e4fa0d87",
   "metadata": {},
   "outputs": [],
   "source": [
    "nums = [1,3,5,6]\n",
    "target = 7\n",
    "searchInsert(nums, target)"
   ]
  },
  {
   "cell_type": "code",
   "execution_count": null,
   "id": "d9f92a1f",
   "metadata": {},
   "outputs": [],
   "source": [
    "nums = [1,3,5,6]\n",
    "target = 0\n",
    "searchInsert(nums, target)"
   ]
  },
  {
   "cell_type": "code",
   "execution_count": null,
   "id": "5ba03c57",
   "metadata": {},
   "outputs": [],
   "source": [
    "nums = [1]\n",
    "target = 0\n",
    "searchInsert(nums, target)"
   ]
  },
  {
   "cell_type": "markdown",
   "id": "71fd4ae5",
   "metadata": {},
   "source": [
    "### 20211025<a id='34'></a>\n",
    "<strong>34. Find First and Last Position of Element in Sorted Array</strong>\n",
    "\n",
    "Given an array of integers nums sorted in non-decreasing order, find the starting and ending position of a given target value.\n",
    "\n",
    "If target is not found in the array, return [-1, -1].\n",
    "\n",
    "You must write an algorithm with O(log n) runtime complexity."
   ]
  },
  {
   "cell_type": "code",
   "execution_count": null,
   "id": "4819e024",
   "metadata": {},
   "outputs": [],
   "source": [
    "# find one target index first, then expand left and right\n",
    "def searchRange(nums, target):\n",
    "    start = 0\n",
    "    end = len(nums) - 1\n",
    "    \n",
    "    while start <= end:\n",
    "        mid = (start+end)//2\n",
    "        if nums[mid] == target:\n",
    "            left = mid\n",
    "            right = mid\n",
    "            while left > 0 and nums[left-1] == target or right < len(nums)-1 and nums[right+1] == target:\n",
    "                if left > 0 and nums[left-1] == target:\n",
    "                    left -= 1\n",
    "                if right < len(nums)-1 and nums[right+1] == target:\n",
    "                    right += 1\n",
    "            return [left, right]\n",
    "            \n",
    "        elif target < nums[mid]:\n",
    "            end = mid - 1\n",
    "        else:\n",
    "            start = mid + 1\n",
    "            \n",
    "    return [-1, -1]"
   ]
  },
  {
   "cell_type": "code",
   "execution_count": null,
   "id": "e6f1afc1",
   "metadata": {},
   "outputs": [],
   "source": [
    "# find first target index, then find last target index\n",
    "def searchRange(nums, target):\n",
    "\n",
    "    start = 0\n",
    "    end = len(nums) - 1\n",
    "    first = -1\n",
    "    last = -1\n",
    "    \n",
    "    while start <= end:\n",
    "        mid = (start+end)//2\n",
    "        if nums[mid] == target:\n",
    "            first = mid\n",
    "            end = mid - 1\n",
    "        elif target < nums[mid]:\n",
    "            end = mid - 1\n",
    "        else:\n",
    "            start = mid + 1\n",
    "    \n",
    "    if first == -1:\n",
    "        return [first, last]\n",
    "    \n",
    "    start = first\n",
    "    end = len(nums) - 1\n",
    "    while start <= end:\n",
    "        mid = (start+end)//2\n",
    "        if nums[mid] == target:\n",
    "            last = mid\n",
    "            start = mid + 1\n",
    "        elif target < nums[mid]:\n",
    "            end = mid - 1\n",
    "        else:\n",
    "            start = mid + 1\n",
    "    return [first, last]"
   ]
  },
  {
   "cell_type": "code",
   "execution_count": null,
   "id": "26eb2a25",
   "metadata": {},
   "outputs": [],
   "source": [
    "nums = [5,7,7,7,7,7,7,7,7,7,8,8,8,8,8,8,8,8,10]\n",
    "target = 8\n",
    "searchRange(nums, target)"
   ]
  },
  {
   "cell_type": "code",
   "execution_count": null,
   "id": "e2c4bd4d",
   "metadata": {},
   "outputs": [],
   "source": [
    "nums = [5,7,7,8,8,10]\n",
    "target = 8\n",
    "searchRange(nums, target)"
   ]
  },
  {
   "cell_type": "code",
   "execution_count": null,
   "id": "c50d190b",
   "metadata": {},
   "outputs": [],
   "source": [
    "nums = []\n",
    "target = 6\n",
    "searchRange(nums, target)"
   ]
  },
  {
   "cell_type": "markdown",
   "id": "adf842a3",
   "metadata": {},
   "source": [
    "### 20211026<a id='226'></a>\n",
    "<strong>226. Invert Binary Tree</strong>\n",
    "\n",
    "Given the root of a binary tree, invert the tree, and return its root.\n",
    "\n"
   ]
  },
  {
   "cell_type": "code",
   "execution_count": null,
   "id": "cb7788d7",
   "metadata": {},
   "outputs": [],
   "source": [
    "from lolviz import *\n",
    "from dtreeviz.trees import *\n",
    "\n",
    "class TreeNode:\n",
    "    def __init__(self, val=0, left=None, right=None):\n",
    "        self.val = val\n",
    "        self.left = left\n",
    "        self.right = right"
   ]
  },
  {
   "cell_type": "code",
   "execution_count": null,
   "id": "ca8baf4a",
   "metadata": {},
   "outputs": [],
   "source": [
    "def invertTree(root):\n",
    "    if root is not None:\n",
    "        prev_left = root.left\n",
    "        root.left = root.right\n",
    "        root.right = prev_left\n",
    "        invertTree(root.left)\n",
    "        invertTree(root.right)\n",
    "    return root"
   ]
  },
  {
   "cell_type": "code",
   "execution_count": null,
   "id": "65be404d",
   "metadata": {},
   "outputs": [],
   "source": [
    "def invertTree(root):\n",
    "    if root is not None:\n",
    "        root.left, root.right = root.right, root.left\n",
    "        invertTree(root.left)\n",
    "        invertTree(root.right)\n",
    "    return root"
   ]
  },
  {
   "cell_type": "code",
   "execution_count": null,
   "id": "55cdf741",
   "metadata": {},
   "outputs": [],
   "source": [
    "root = TreeNode(4)\n",
    "root.left = TreeNode(2)\n",
    "root.right = TreeNode(7)\n",
    "root.left.left = TreeNode(1)\n",
    "root.left.right = TreeNode(3)\n",
    "root.right.left = TreeNode(6)\n",
    "root.right.right = TreeNode(9)\n",
    "printtree(root)\n",
    "print()\n",
    "printtree(invertTree(root))"
   ]
  },
  {
   "cell_type": "code",
   "execution_count": null,
   "id": "810f18ff",
   "metadata": {},
   "outputs": [],
   "source": [
    "root = TreeNode(4)\n",
    "root.left = TreeNode(2)\n",
    "root.right = TreeNode(7)\n",
    "root.left.left = TreeNode(1)\n",
    "root.left.right = TreeNode(3)\n",
    "root.right.left = TreeNode(6)\n",
    "root.right.right = TreeNode(9)\n",
    "treeviz(root)"
   ]
  },
  {
   "cell_type": "code",
   "execution_count": null,
   "id": "d4cea49b",
   "metadata": {},
   "outputs": [],
   "source": [
    "treeviz(invertTree(root))"
   ]
  },
  {
   "cell_type": "markdown",
   "id": "29d8d108",
   "metadata": {},
   "source": [
    "### 20211027<a id='75'></a>\n",
    "<strong>75. Sort Colors</strong>\n",
    "\n",
    "Given an array nums with n objects colored red, white, or blue, sort them in-place so that objects of the same color are adjacent, with the colors in the order red, white, and blue.\n",
    "\n",
    "We will use the integers 0, 1, and 2 to represent the color red, white, and blue, respectively.\n",
    "\n",
    "You must solve this problem without using the library's sort function."
   ]
  },
  {
   "cell_type": "code",
   "execution_count": null,
   "id": "767cafbf",
   "metadata": {},
   "outputs": [],
   "source": [
    "def sortColors(nums):\n",
    "    \n",
    "    def swap(nums, i, j):\n",
    "        temp = nums[i]\n",
    "        nums[i] = nums[j]\n",
    "        nums[j] = temp\n",
    "    \n",
    "    # set 3 pointers\n",
    "    red = -1\n",
    "    white = -1\n",
    "    blue = -1\n",
    "    for i, num in enumerate(nums):\n",
    "        # blue occurs\n",
    "        if num == 2:\n",
    "            # blue first occur, mark index\n",
    "            if blue == -1:\n",
    "                blue = i\n",
    "        \n",
    "        # white occurs\n",
    "        elif num == 1:\n",
    "            # no blue infront\n",
    "            if blue == -1:\n",
    "                # white first occur, mark index\n",
    "                if white == -1:\n",
    "                    white = i\n",
    "            \n",
    "            # blue infront, swap white with first blue\n",
    "            else:\n",
    "                swap(nums, i, blue)\n",
    "                # white first occur, mark index\n",
    "                if white == -1:\n",
    "                    white = blue\n",
    "                blue += 1\n",
    "        \n",
    "        # red occurs\n",
    "        else:\n",
    "            # no white and blue in front\n",
    "            if white == -1 and blue == -1:\n",
    "                # red first occur, mark index\n",
    "                if red == -1:\n",
    "                    red = i\n",
    "            \n",
    "            # blue but no white in front, swap red with first blue\n",
    "            elif white == -1 and blue != -1:\n",
    "                swap(nums, i, blue)\n",
    "                # red first occur, mark index\n",
    "                if red == -1:\n",
    "                    red = blue\n",
    "                blue += 1\n",
    "            \n",
    "            # white but no blue in front, swap red with first white\n",
    "            elif white != -1 and blue == -1:\n",
    "                swap(nums, i, white)\n",
    "                # red first occur, mark index\n",
    "                if red == -1:\n",
    "                    red = white\n",
    "                white += 1\n",
    "            \n",
    "            # both white and blue in front, swap red with first blue, swap red with first white\n",
    "            else:\n",
    "                swap(nums, i, blue)\n",
    "                temp_red = blue\n",
    "                blue += 1\n",
    "                swap(nums, temp_red, white)\n",
    "                if red == -1:\n",
    "                    red = white\n",
    "                white += 1"
   ]
  },
  {
   "cell_type": "code",
   "execution_count": null,
   "id": "7add5cd5",
   "metadata": {},
   "outputs": [],
   "source": [
    "def sortColors(nums):\n",
    "    # idx_first_mid\n",
    "    left = 0\n",
    "    # idx_last_mid + 1\n",
    "    right = len(nums) - 1\n",
    "    i = 0\n",
    "    \n",
    "    while i <= right:\n",
    "        if nums[i] == 0:\n",
    "            nums[left], nums[i] = nums[i], nums[left]\n",
    "            left += 1\n",
    "            i += 1\n",
    "        elif nums[i]  == 2:\n",
    "            nums[right], nums[i] = nums[i], nums[right]\n",
    "            right -= 1\n",
    "        else:\n",
    "            i += 1"
   ]
  },
  {
   "cell_type": "code",
   "execution_count": null,
   "id": "b7b3a56b",
   "metadata": {},
   "outputs": [],
   "source": [
    "nums = [2,0,1,0,2,1,1,0]\n",
    "sortColors(nums)\n",
    "nums"
   ]
  },
  {
   "cell_type": "code",
   "execution_count": null,
   "id": "8446034e",
   "metadata": {},
   "outputs": [],
   "source": [
    "nums = [2,0,2,1,1,0]\n",
    "sortColors(nums)\n",
    "nums"
   ]
  },
  {
   "cell_type": "code",
   "execution_count": null,
   "id": "d3e032d6",
   "metadata": {},
   "outputs": [],
   "source": [
    "nums = [2,0,1]\n",
    "sortColors(nums)\n",
    "nums"
   ]
  },
  {
   "cell_type": "code",
   "execution_count": null,
   "id": "7532667e",
   "metadata": {},
   "outputs": [],
   "source": [
    "nums = [0]\n",
    "sortColors(nums)\n",
    "nums"
   ]
  },
  {
   "cell_type": "code",
   "execution_count": null,
   "id": "9fabf1bc",
   "metadata": {},
   "outputs": [],
   "source": [
    "nums = [1]\n",
    "sortColors(nums)\n",
    "nums"
   ]
  },
  {
   "cell_type": "markdown",
   "id": "ef9d8112",
   "metadata": {},
   "source": [
    "### 20211029<a id='994'></a>\n",
    "<strong>994. Rotting Oranges</strong>\n",
    "\n",
    "You are given an m x n grid where each cell can have one of three values:\n",
    "\n",
    "- 0 representing an empty cell,\n",
    "- 1 representing a fresh orange, or\n",
    "- 2 representing a rotten orange.\n",
    "Every minute, any fresh orange that is 4-directionally adjacent to a rotten orange becomes rotten.\n",
    "\n",
    "Return the minimum number of minutes that must elapse until no cell has a fresh orange. If this is impossible, return -1."
   ]
  },
  {
   "cell_type": "code",
   "execution_count": null,
   "id": "ac1a99f7",
   "metadata": {},
   "outputs": [],
   "source": [
    "def orangesRotting(grid):\n",
    "    m = len(grid)\n",
    "    n = len(grid[0])\n",
    "    fresh = []\n",
    "    rotten = []\n",
    "    for i in range(m):\n",
    "        for j in range(n):\n",
    "            if grid[i][j] == 1:\n",
    "                fresh.append((i,j))\n",
    "            if grid[i][j] == 2:\n",
    "                rotten.append((i,j))\n",
    "    \n",
    "    ans = 0\n",
    "    \n",
    "    while rotten and fresh:\n",
    "        new_rotten = []\n",
    "        for fruit in rotten:\n",
    "            if fruit[0] < m-1:\n",
    "                right = (fruit[0]+1, fruit[1]) \n",
    "                if right in fresh:\n",
    "                    new_rotten.append(right)\n",
    "                    fresh.remove(right)\n",
    "            \n",
    "            if fruit[0] > 0:\n",
    "                left = (fruit[0]-1, fruit[1]) \n",
    "                if left in fresh:\n",
    "                    new_rotten.append(left)\n",
    "                    fresh.remove(left)\n",
    "            \n",
    "            if fruit[1] < n-1:\n",
    "                down = (fruit[0], fruit[1]+1) \n",
    "                if down in fresh:\n",
    "                    new_rotten.append(down)\n",
    "                    fresh.remove(down)\n",
    "            \n",
    "            if fruit[1] > 0:\n",
    "                up = (fruit[0], fruit[1]-1) \n",
    "                if up in fresh:\n",
    "                    new_rotten.append(up)\n",
    "                    fresh.remove(up)\n",
    "        ans += 1\n",
    "        rotten = new_rotten\n",
    "    \n",
    "    if len(fresh) == 0:\n",
    "        return ans\n",
    "    \n",
    "    return -1"
   ]
  },
  {
   "cell_type": "code",
   "execution_count": null,
   "id": "464a1c7a",
   "metadata": {},
   "outputs": [],
   "source": [
    "grid = [[2,1,1],[1,1,0],[0,1,1]]\n",
    "orangesRotting(grid)"
   ]
  },
  {
   "cell_type": "code",
   "execution_count": null,
   "id": "e5d1f145",
   "metadata": {},
   "outputs": [],
   "source": [
    "grid = [[2,1,1],[0,1,1],[1,0,1]]\n",
    "orangesRotting(grid)"
   ]
  },
  {
   "cell_type": "code",
   "execution_count": null,
   "id": "46096883",
   "metadata": {},
   "outputs": [],
   "source": [
    "grid = [[0,2]]\n",
    "orangesRotting(grid)"
   ]
  },
  {
   "cell_type": "code",
   "execution_count": null,
   "id": "217eed29",
   "metadata": {},
   "outputs": [],
   "source": [
    "grid = [[2,1]]\n",
    "orangesRotting(grid)"
   ]
  },
  {
   "cell_type": "markdown",
   "id": "b228f891",
   "metadata": {},
   "source": [
    "### 20211101<a id='130'></a>\n",
    "<strong>130. Surrounded Regions</strong>\n",
    "\n",
    "Given an m x n matrix board containing 'X' and 'O', capture all regions that are 4-directionally surrounded by 'X'.\n",
    "\n",
    "A region is captured by flipping all 'O's into 'X's in that surrounded region."
   ]
  },
  {
   "cell_type": "code",
   "execution_count": null,
   "id": "b2602030",
   "metadata": {},
   "outputs": [],
   "source": [
    "def solve(board):\n",
    "    m = len(board)\n",
    "    n = len(board[0])\n",
    "    \n",
    "    for i in range(m):\n",
    "        for j in range(n):\n",
    "            if board[i][j] == 'O':\n",
    "                board[i][j] = '-'\n",
    "                \n",
    "    def fill(i, j, replace, new):\n",
    "        if i < 0 or j < 0 or i > m-1 or j > n-1:\n",
    "            return\n",
    "        if board[i][j] == replace:\n",
    "            board[i][j] = new\n",
    "            fill(i-1,j,replace,new)\n",
    "            fill(i+1,j,replace,new)\n",
    "            fill(i,j-1,replace,new)\n",
    "            fill(i,j+1,replace,new)\n",
    "    \n",
    "    for i in range(m):\n",
    "        if board[i][0] == '-':\n",
    "            fill(i,0,'-','O')\n",
    "    \n",
    "    for i in range(m):\n",
    "        if board[i][n-1] == '-':\n",
    "            fill(i,n-1,'-','O')\n",
    "\n",
    "    for j in range(n):\n",
    "        if board[0][j] == '-':\n",
    "            fill(0,j,'-','O')\n",
    "    \n",
    "    for j in range(n):\n",
    "        if board[m-1][j] == '-':\n",
    "            fill(m-1,j,'-','O')\n",
    "    \n",
    "    for i in range(1,m-1):\n",
    "        for j in range(1,n-1):\n",
    "            if board[i][j] == '-':\n",
    "                board[i][j] = 'X'"
   ]
  },
  {
   "cell_type": "code",
   "execution_count": null,
   "id": "764e7384",
   "metadata": {},
   "outputs": [],
   "source": [
    "board = [[\"X\",\"X\",\"X\",\"X\"],[\"X\",\"O\",\"O\",\"X\"],[\"X\",\"X\",\"O\",\"X\"],[\"X\",\"O\",\"X\",\"X\"]]\n",
    "solve(board)\n",
    "board"
   ]
  },
  {
   "cell_type": "code",
   "execution_count": null,
   "id": "f5e0fcd9",
   "metadata": {},
   "outputs": [],
   "source": [
    "board = [[\"X\"]]\n",
    "solve(board)\n",
    "board"
   ]
  },
  {
   "cell_type": "code",
   "execution_count": null,
   "id": "1d2f77fc",
   "metadata": {},
   "outputs": [],
   "source": [
    "board =[ [ 'X', 'O', 'X', 'O', 'X', 'X' ],\n",
    "            [ 'X', 'O', 'X', 'X', 'O', 'X' ],\n",
    "            [ 'X', 'X', 'X', 'O', 'X', 'X' ],\n",
    "            [ 'O', 'X', 'X', 'X', 'X', 'X' ],\n",
    "            [ 'X', 'X', 'X', 'O', 'X', 'O' ],\n",
    "            [ 'O', 'O', 'X', 'O', 'O', 'O' ] ]\n",
    "solve(board)\n",
    "board"
   ]
  },
  {
   "cell_type": "markdown",
   "id": "b233efb0",
   "metadata": {},
   "source": [
    "### 20211101<a id='38'></a>\n",
    "<strong>38. Count and Say</strong>\n",
    "\n",
    "The count-and-say sequence is a sequence of digit strings defined by the recursive formula:\n",
    "\n",
    "countAndSay(1) = \"1\"\n",
    "countAndSay(n) is the way you would \"say\" the digit string from countAndSay(n-1), which is then converted into a different digit string.\n",
    "To determine how you \"say\" a digit string, split it into the minimal number of groups so that each group is a contiguous section all of the same character. Then for each group, say the number of characters, then say the character. To convert the saying into a digit string, replace the counts with a number and concatenate every saying.\n",
    "\n",
    "For example, the saying and conversion for digit string \"3322251\":\n",
    "\n",
    "\n",
    "Given a positive integer n, return the nth term of the count-and-say sequence."
   ]
  },
  {
   "cell_type": "code",
   "execution_count": null,
   "id": "f3b8936e",
   "metadata": {},
   "outputs": [],
   "source": [
    "def countAndSay(n):\n",
    "    def countsay(number):\n",
    "        prev = ''\n",
    "        count = 0\n",
    "        ans = ''\n",
    "        for num in number:\n",
    "            if count == 0:\n",
    "                prev = num\n",
    "                count = 1\n",
    "            elif num == prev:\n",
    "                count += 1\n",
    "            else:\n",
    "                ans += str(count) + prev\n",
    "                prev = num\n",
    "                count = 1\n",
    "        ans += str(count) + prev\n",
    "        return ans\n",
    "    \n",
    "    ans = '1'\n",
    "    for i in range(1, n):\n",
    "        ans = countsay(ans)\n",
    "    \n",
    "    return ans"
   ]
  },
  {
   "cell_type": "code",
   "execution_count": null,
   "id": "ce92991d",
   "metadata": {},
   "outputs": [],
   "source": [
    "countAndSay(1)"
   ]
  },
  {
   "cell_type": "code",
   "execution_count": null,
   "id": "0d1e082b",
   "metadata": {},
   "outputs": [],
   "source": [
    "countAndSay(4)"
   ]
  },
  {
   "cell_type": "markdown",
   "id": "7b1b4b38",
   "metadata": {},
   "source": [
    "### 20211103<a id='129'></a>\n",
    "<strong>129. Sum Root to Leaf Numbers</strong>\n",
    "\n",
    "You are given the root of a binary tree containing digits from 0 to 9 only.\n",
    "\n",
    "Each root-to-leaf path in the tree represents a number.\n",
    "\n",
    "For example, the root-to-leaf path 1 -> 2 -> 3 represents the number 123.\n",
    "Return the total sum of all root-to-leaf numbers. Test cases are generated so that the answer will fit in a 32-bit integer.\n",
    "\n",
    "A leaf node is a node with no children."
   ]
  },
  {
   "cell_type": "code",
   "execution_count": null,
   "id": "7c48c96e",
   "metadata": {},
   "outputs": [],
   "source": [
    "class TreeNode:\n",
    "    def __init__(self, val=0, left=None, right=None):\n",
    "        self.val = val\n",
    "        self.left = left\n",
    "        self.right = right"
   ]
  },
  {
   "cell_type": "code",
   "execution_count": null,
   "id": "53beeedc",
   "metadata": {},
   "outputs": [],
   "source": [
    "def sumNumbers(root):\n",
    "    nums = []\n",
    "    \n",
    "    def append_num(root, prev):\n",
    "        ans = prev * 10 + root.val\n",
    "        if root.left is None and root.right is None:\n",
    "            nums.append(ans)\n",
    "            return\n",
    "        if root.left is not None:\n",
    "            append_num(root.left, ans)\n",
    "        if root.right is not None:\n",
    "            append_num(root.right, ans)\n",
    "        \n",
    "    prev = 0\n",
    "    append_num(root, prev)\n",
    "    \n",
    "    return sum(nums)"
   ]
  },
  {
   "cell_type": "code",
   "execution_count": null,
   "id": "d2f4c848",
   "metadata": {},
   "outputs": [],
   "source": [
    "def sumNumbers(root) -> int:\n",
    "    def helper(node, num):\n",
    "        if not node:\n",
    "            return 0\n",
    "        num = num * 10 + node.val\n",
    "        if node.left is None and node.right is None:\n",
    "            return num\n",
    "        return helper(node.left, num) + helper(node.right, num)\n",
    "\n",
    "    return helper(root, 0)"
   ]
  },
  {
   "cell_type": "code",
   "execution_count": null,
   "id": "3496fc90",
   "metadata": {},
   "outputs": [],
   "source": [
    "root = TreeNode(1)\n",
    "root.left = TreeNode(2)\n",
    "root.right = TreeNode(3)\n",
    "sumNumbers(root)"
   ]
  },
  {
   "cell_type": "code",
   "execution_count": null,
   "id": "831694df",
   "metadata": {},
   "outputs": [],
   "source": [
    "root = TreeNode(4)\n",
    "root.left = TreeNode(9)\n",
    "root.right = TreeNode(0)\n",
    "root.left.left = TreeNode(5)\n",
    "root.left.right = TreeNode(1)\n",
    "sumNumbers(root)"
   ]
  },
  {
   "cell_type": "code",
   "execution_count": null,
   "id": "21316794",
   "metadata": {},
   "outputs": [],
   "source": [
    "root = TreeNode(4)\n",
    "root.left = TreeNode(9)\n",
    "root.right = TreeNode(0)\n",
    "root.left.right = TreeNode(1)\n",
    "sumNumbers(root)"
   ]
  },
  {
   "cell_type": "markdown",
   "id": "cc0a68ad",
   "metadata": {},
   "source": [
    "### 20211103<a id='404'></a>\n",
    "<strong>404. Sum of Left Leaves</strong>\n",
    "\n",
    "Given the root of a binary tree, return the sum of all left leaves."
   ]
  },
  {
   "cell_type": "code",
   "execution_count": null,
   "id": "68026f3f",
   "metadata": {},
   "outputs": [],
   "source": [
    "class TreeNode:\n",
    "    def __init__(self, val=0, left=None, right=None):\n",
    "        self.val = val\n",
    "        self.left = left\n",
    "        self.right = right"
   ]
  },
  {
   "cell_type": "code",
   "execution_count": null,
   "id": "ca28dd3a",
   "metadata": {},
   "outputs": [],
   "source": [
    "def sumOfLeftLeaves(root):\n",
    "    \n",
    "    def find_left(root, part):\n",
    "        if root is None:\n",
    "            return 0\n",
    "        if root.left is None and root.right is None:\n",
    "            if part == 'left':\n",
    "                return root.val\n",
    "            else:\n",
    "                return 0\n",
    "        return find_left(root.left,'left') + find_left(root.right, 'right')\n",
    "    \n",
    "    return find_left(root, 'inital')"
   ]
  },
  {
   "cell_type": "code",
   "execution_count": null,
   "id": "f26201fb",
   "metadata": {},
   "outputs": [],
   "source": [
    "root = TreeNode(3)\n",
    "root.left = TreeNode(9)\n",
    "root.right = TreeNode(20)\n",
    "root.right.left = TreeNode(15)\n",
    "root.right.right = TreeNode(7)\n",
    "sumOfLeftLeaves(root)"
   ]
  },
  {
   "cell_type": "code",
   "execution_count": null,
   "id": "aa67accd",
   "metadata": {},
   "outputs": [],
   "source": [
    "root = TreeNode(1)\n",
    "sumOfLeftLeaves(root)"
   ]
  },
  {
   "cell_type": "code",
   "execution_count": null,
   "id": "058351ea",
   "metadata": {},
   "outputs": [],
   "source": [
    "root = TreeNode(3)\n",
    "root.left = TreeNode(9)\n",
    "root.right = TreeNode(20)\n",
    "root.right.left = TreeNode(15)\n",
    "root.right.right = TreeNode(7)\n",
    "root.right.right.left = TreeNode(15)\n",
    "sumOfLeftLeaves(root)"
   ]
  },
  {
   "cell_type": "code",
   "execution_count": null,
   "id": "3d6115eb",
   "metadata": {},
   "outputs": [],
   "source": [
    "root = TreeNode(0)\n",
    "root.left = TreeNode(2)\n",
    "root.right = TreeNode(4)\n",
    "root.left.left = TreeNode(1)\n",
    "root.right.left = TreeNode(3)\n",
    "root.right.right = TreeNode(-1)\n",
    "root.left.left.left = TreeNode(5)\n",
    "root.left.left.right = TreeNode(1)\n",
    "root.right.left.right = TreeNode(6)\n",
    "root.right.right.right = TreeNode(8)\n",
    "sumOfLeftLeaves(root)"
   ]
  },
  {
   "cell_type": "markdown",
   "id": "f5b14ad7",
   "metadata": {},
   "source": [
    "### 20211105<a id='441'></a>\n",
    "<strong>441. Arranging Coins</strong>\n",
    "\n",
    "You have n coins and you want to build a staircase with these coins. The staircase consists of k rows where the ith row has exactly i coins. The last row of the staircase may be incomplete.\n",
    "\n",
    "Given the integer n, return the number of complete rows of the staircase you will build.\n",
    "\n"
   ]
  },
  {
   "cell_type": "code",
   "execution_count": null,
   "id": "34c20cb1",
   "metadata": {},
   "outputs": [],
   "source": [
    "def arrangeCoins(n):\n",
    "    r = int((2*n)**0.5)+1\n",
    "    l = int(n**0.5)\n",
    "    \n",
    "    while r - l > 1:\n",
    "        mid = int((r+l)/2)\n",
    "        if (mid+1)*mid/2 <= n:\n",
    "            l = mid\n",
    "        else:\n",
    "            r = mid\n",
    "    if (r+1)*r/2 == n:\n",
    "        return r\n",
    "    \n",
    "    return l"
   ]
  },
  {
   "cell_type": "code",
   "execution_count": null,
   "id": "51806d61",
   "metadata": {},
   "outputs": [],
   "source": [
    "n = 2\n",
    "arrangeCoins(n)"
   ]
  },
  {
   "cell_type": "code",
   "execution_count": null,
   "id": "37bc1e49",
   "metadata": {},
   "outputs": [],
   "source": [
    "n = 3\n",
    "arrangeCoins(n)"
   ]
  },
  {
   "cell_type": "code",
   "execution_count": null,
   "id": "4b1a2834",
   "metadata": {},
   "outputs": [],
   "source": [
    "n = 5\n",
    "arrangeCoins(n)"
   ]
  },
  {
   "cell_type": "code",
   "execution_count": null,
   "id": "84dbccc2",
   "metadata": {},
   "outputs": [],
   "source": [
    "n = 6\n",
    "arrangeCoins(n)"
   ]
  },
  {
   "cell_type": "code",
   "execution_count": null,
   "id": "8dc5f8bd",
   "metadata": {},
   "outputs": [],
   "source": [
    "n = 7\n",
    "arrangeCoins(n)"
   ]
  },
  {
   "cell_type": "code",
   "execution_count": null,
   "id": "6aa284fa",
   "metadata": {},
   "outputs": [],
   "source": [
    "n = 8\n",
    "arrangeCoins(n)"
   ]
  },
  {
   "cell_type": "code",
   "execution_count": null,
   "id": "96b8231b",
   "metadata": {},
   "outputs": [],
   "source": [
    "n = 2**31-1\n",
    "arrangeCoins(n)"
   ]
  },
  {
   "cell_type": "markdown",
   "id": "fc822f8b",
   "metadata": {},
   "source": [
    "### 20211105<a id='39'></a>\n",
    "<strong>39. Combination Sum</strong>\n",
    "\n",
    "Given an array of distinct integers candidates and a target integer target, return a list of all unique combinations of candidates where the chosen numbers sum to target. You may return the combinations in any order.\n",
    "\n",
    "The same number may be chosen from candidates an unlimited number of times. Two combinations are unique if the frequency of at least one of the chosen numbers is different.\n",
    "\n",
    "It is guaranteed that the number of unique combinations that sum up to target is less than 150 combinations for the given input."
   ]
  },
  {
   "cell_type": "code",
   "execution_count": null,
   "id": "f8080602",
   "metadata": {},
   "outputs": [],
   "source": [
    "def combinationSum(candidates, target):\n",
    "    ans = []\n",
    "    \n",
    "    def find(candidates, target, path, ans):\n",
    "        if target < 0:\n",
    "            return\n",
    "        elif target == 0:\n",
    "            ans.append(path)\n",
    "            return\n",
    "        else:\n",
    "            for i in range(len(candidates)):\n",
    "                find(candidates[i:], target-candidates[i],path+[candidates[i]],ans)\n",
    "        \n",
    "    \n",
    "    find(candidates,target,[],ans)\n",
    "    \n",
    "    return ans       "
   ]
  },
  {
   "cell_type": "code",
   "execution_count": null,
   "id": "f4b92e94",
   "metadata": {},
   "outputs": [],
   "source": [
    "def combinationSum(candidates, target):\n",
    "    def dfs(nums, target, path, ret):\n",
    "        if target < 0:\n",
    "            return \n",
    "        if target == 0:\n",
    "            ret.append(path)\n",
    "            return \n",
    "        for i in range(len(nums)):\n",
    "            dfs(nums[i:], target-nums[i], path+[nums[i]], ret)\n",
    "    \n",
    "    ret = []\n",
    "    dfs(candidates, target, [], ret)\n",
    "    return ret"
   ]
  },
  {
   "cell_type": "code",
   "execution_count": null,
   "id": "35b813e7",
   "metadata": {},
   "outputs": [],
   "source": [
    "candidates = [2,3,6,7]\n",
    "target = 7\n",
    "combinationSum(candidates, target)"
   ]
  },
  {
   "cell_type": "markdown",
   "id": "23125d26",
   "metadata": {},
   "source": [
    "### 20211106<a id='260'></a>\n",
    "<strong>260. Single Number III</strong>\n",
    "\n",
    "Given an integer array nums, in which exactly two elements appear only once and all the other elements appear exactly twice. Find the two elements that appear only once. You can return the answer in any order.\n",
    "\n",
    "You must write an algorithm that runs in linear runtime complexity and uses only constant extra space."
   ]
  },
  {
   "cell_type": "code",
   "execution_count": null,
   "id": "9828c5cd",
   "metadata": {},
   "outputs": [],
   "source": [
    "def singleNumber(nums):\n",
    "    ans = []\n",
    "    while len(ans) < 2:\n",
    "        temp = nums.pop()\n",
    "        try:\n",
    "            nums.remove(temp)\n",
    "        except:\n",
    "            ans.append(temp)\n",
    "    \n",
    "    return ans"
   ]
  },
  {
   "cell_type": "code",
   "execution_count": null,
   "id": "2a18fe31",
   "metadata": {},
   "outputs": [],
   "source": [
    "def singleNumber(nums):\n",
    "    \"\"\"\n",
    "    :type nums: List[int]\n",
    "    :rtype: List[int]\n",
    "    \"\"\"\n",
    "    st = set(nums)\n",
    "\n",
    "    xor =0\n",
    "    for num in nums:\n",
    "        print('before',num,xor)\n",
    "        xor = xor^num\n",
    "        print('after',xor)\n",
    "    print(xor)\n",
    "    for item in nums:\n",
    "        if(item^xor in st):\n",
    "            ans = [item,item^xor]\n",
    "            return ans"
   ]
  },
  {
   "cell_type": "code",
   "execution_count": null,
   "id": "91e41626",
   "metadata": {},
   "outputs": [],
   "source": [
    "2^7^6^3^7^3^6"
   ]
  },
  {
   "cell_type": "code",
   "execution_count": null,
   "id": "46f6a5ee",
   "metadata": {},
   "outputs": [],
   "source": [
    "nums = [1,2,1,3,2,5]\n",
    "singleNumber(nums)"
   ]
  },
  {
   "cell_type": "code",
   "execution_count": null,
   "id": "8e6a08e9",
   "metadata": {},
   "outputs": [],
   "source": [
    "2^6"
   ]
  },
  {
   "cell_type": "code",
   "execution_count": null,
   "id": "badf54a7",
   "metadata": {},
   "outputs": [],
   "source": [
    "nums = [-1,0]\n",
    "singleNumber(nums)"
   ]
  },
  {
   "cell_type": "code",
   "execution_count": null,
   "id": "8906dd5c",
   "metadata": {},
   "outputs": [],
   "source": [
    "a = [1,2,3].pop()\n",
    "a"
   ]
  },
  {
   "cell_type": "markdown",
   "id": "94f87f2f",
   "metadata": {},
   "source": [
    "### 20211106<a id='260'></a>\n",
    "<strong>260. Single Number III</strong>\n",
    "\n",
    "Given two non-negative integers num1 and num2 represented as strings, return the product of num1 and num2, also represented as a string.\n",
    "\n",
    "Note: You must not use any built-in BigInteger library or convert the inputs to integer directly."
   ]
  },
  {
   "cell_type": "code",
   "execution_count": null,
   "id": "aa1f35cd",
   "metadata": {},
   "outputs": [],
   "source": [
    "def multiply(num1, num2):\n",
    "    if len(num1) >= len(num2):\n",
    "        n1 = num1\n",
    "        n2 = num2\n",
    "    else:\n",
    "        n1 = num2\n",
    "        n2 = num1\n",
    "    \n",
    "    nums = []\n",
    "    for num in n2[::-1]:\n",
    "        current_num = 0\n",
    "        carry = 0\n",
    "        for i, mult in enumerate(n1[::-1]):\n",
    "            temp = int(num) * int(mult)\n",
    "            current_num += temp%10*10**i + carry*10**i\n",
    "            carry = temp//10\n",
    "        current_num += carry*10**(i+1)\n",
    "        nums.append(current_num)\n",
    "\n",
    "    ans = 0\n",
    "    for i, num in enumerate(nums):\n",
    "        ans += num * 10**i\n",
    "    \n",
    "    return str(ans)"
   ]
  },
  {
   "cell_type": "code",
   "execution_count": null,
   "id": "a1df5746",
   "metadata": {},
   "outputs": [],
   "source": [
    "num1 = \"123\"\n",
    "num2 = \"456\"\n",
    "multiply(num1, num2)"
   ]
  },
  {
   "cell_type": "code",
   "execution_count": null,
   "id": "1227bc6c",
   "metadata": {},
   "outputs": [],
   "source": [
    "num1 = \"2\"\n",
    "num2 = '3'\n",
    "multiply(num1, num2)"
   ]
  },
  {
   "cell_type": "code",
   "execution_count": null,
   "id": "448d9ead",
   "metadata": {},
   "outputs": [],
   "source": [
    "num1 = \"200\"\n",
    "num2 = '4'\n",
    "multiply(num1, num2)"
   ]
  },
  {
   "cell_type": "code",
   "execution_count": null,
   "id": "67fa027c",
   "metadata": {},
   "outputs": [],
   "source": [
    "num='6'\n",
    "n1='123'\n",
    "current_num = 0\n",
    "carry = 0\n",
    "for i, mult in enumerate(n1[::-1]):\n",
    "    temp = int(num) * int(mult)\n",
    "    current_num += temp%10*10**i + carry*10**i\n",
    "    carry = temp//10\n",
    "    print(temp,current_num,carry)\n",
    "current_num += carry*10**(i+1)\n",
    "current_num"
   ]
  },
  {
   "cell_type": "code",
   "execution_count": null,
   "id": "29e74a7b",
   "metadata": {},
   "outputs": [],
   "source": [
    "3&1"
   ]
  },
  {
   "cell_type": "markdown",
   "id": "e55e8162",
   "metadata": {},
   "source": [
    "### 20211110<a id='96'></a>\n",
    "<strong>96. Unique Binary Search Trees</strong>\n",
    "[Quesiton List](#0)\n",
    "\n",
    "Given an integer n, return the number of structurally unique BST's (binary search trees) which has exactly n nodes of unique values from 1 to n."
   ]
  },
  {
   "cell_type": "code",
   "execution_count": null,
   "id": "1af7a6fe",
   "metadata": {},
   "outputs": [],
   "source": [
    "#1.pick a root (DP)\n",
    "#2.left subtree equals to the number of remained node from root\n",
    "#3.right subtree equals to the number of remained node from root and left\n",
    "def numTrees(n: int) -> int:\n",
    "    res = [0] * (n+1)\n",
    "    res[0] = 1\n",
    "    for i in range(1, n+1):\n",
    "        for j in range(i):\n",
    "            res[i] += res[j] * res[i-1-j]\n",
    "    return res[n]"
   ]
  },
  {
   "cell_type": "code",
   "execution_count": null,
   "id": "e06ca407",
   "metadata": {},
   "outputs": [],
   "source": [
    "numTrees(2)"
   ]
  },
  {
   "cell_type": "markdown",
   "id": "c0d39e48",
   "metadata": {},
   "source": [
    "### 20211110<a id='122'></a>\n",
    "<strong>122. Best Time to Buy and Sell Stock II</strong>\n",
    "[Quesiton List](#0)\n",
    "\n",
    "You are given an integer array prices where prices[i] is the price of a given stock on the ith day.\n",
    "\n",
    "On each day, you may decide to buy and/or sell the stock. You can only hold at most one share of the stock at any time. However, you can buy it then immediately sell it on the same day.\n",
    "\n",
    "Find and return the maximum profit you can achieve."
   ]
  },
  {
   "cell_type": "code",
   "execution_count": null,
   "id": "ca4e6adc",
   "metadata": {},
   "outputs": [],
   "source": [
    "def maxProfit(prices) -> int:\n",
    "    ans = 0\n",
    "    for i in range(1,len(prices)):\n",
    "        if prices[i] > prices[i-1]:\n",
    "            ans += prices[i] - prices[i-1]\n",
    "    return ans"
   ]
  },
  {
   "cell_type": "markdown",
   "id": "6d200fd5",
   "metadata": {},
   "source": [
    "### 20211111<a id='1413'></a>\n",
    "<strong>1413. Minimum Value to Get Positive Step by Step Sum</strong>\n",
    "[Quesiton List](#0)\n",
    "\n",
    "Given an array of integers nums, you start with an initial positive value startValue.\n",
    "\n",
    "In each iteration, you calculate the step by step sum of startValue plus elements in nums (from left to right).\n",
    "\n",
    "Return the minimum positive value of startValue such that the step by step sum is never less than 1."
   ]
  },
  {
   "cell_type": "code",
   "execution_count": null,
   "id": "057309c8",
   "metadata": {},
   "outputs": [],
   "source": [
    "def minStartValue(nums) -> int:\n",
    "    ans = 100\n",
    "    total = 0\n",
    "    for num in nums:\n",
    "        total += num\n",
    "        if total < ans:\n",
    "            ans = total\n",
    "\n",
    "    return max(1, -ans+1)"
   ]
  },
  {
   "cell_type": "markdown",
   "id": "081614a4",
   "metadata": {},
   "source": [
    "### 20211112<a id='203'></a>\n",
    "<strong>203. Remove Linked List Elements</strong>\n",
    "[Quesiton List](#0)\n",
    "\n",
    "Given the head of a linked list and an integer val, remove all the nodes of the linked list that has Node.val == val, and return the new head.\n",
    "\n"
   ]
  },
  {
   "cell_type": "code",
   "execution_count": null,
   "id": "34dddd6d",
   "metadata": {},
   "outputs": [],
   "source": [
    "# Definition for singly-linked list.\n",
    "class ListNode:\n",
    "    def __init__(self, val=0, next=None):\n",
    "        self.val = val\n",
    "        self.next = next"
   ]
  },
  {
   "cell_type": "code",
   "execution_count": null,
   "id": "50b5c49c",
   "metadata": {},
   "outputs": [],
   "source": [
    "#1.Create a dummy node an connect to the orginal node\n",
    "#2.Create a pointer to raverse through the linked list\n",
    "#3.1.If find the next is val, link pointed node to its next.next\n",
    "#3.2.Else, move pointer to next\n",
    "#4.Return the next node of the dummy node\n",
    "def removeElements(head, val: int):\n",
    "    dummy = ListNode(0,head)\n",
    "    pointer = dummy\n",
    "\n",
    "    while pointer is not None:\n",
    "        if pointer.next is not None and pointer.next.val == val:\n",
    "            pointer.next = pointer.next.next\n",
    "        else:\n",
    "            pointer = pointer.next\n",
    "\n",
    "    return dummy.next"
   ]
  },
  {
   "cell_type": "markdown",
   "id": "abd53032",
   "metadata": {},
   "source": [
    "### 20211114<a id='1286'></a>\n",
    "<strong>1286. Iterator for Combination</strong>\n",
    "[Quesiton List](#0)\n",
    "\n",
    "Design the CombinationIterator class:\n",
    "\n",
    "- CombinationIterator(string characters, int combinationLength) Initializes the object with a string characters of sorted distinct lowercase English letters and a number combinationLength as arguments.\n",
    "- next() Returns the next combination of length combinationLength in lexicographical order.\n",
    "- hasNext() Returns true if and only if there exists a next combination.\n"
   ]
  },
  {
   "cell_type": "code",
   "execution_count": null,
   "id": "503d1230",
   "metadata": {},
   "outputs": [],
   "source": [
    "class CombinationIterator:\n",
    "\n",
    "    def __init__(self, characters: str, combinationLength: int):\n",
    "        self.combo = []\n",
    "        \n",
    "\n",
    "    def next(self) -> str:\n",
    "        \n",
    "\n",
    "    def hasNext(self) -> bool:"
   ]
  },
  {
   "cell_type": "code",
   "execution_count": null,
   "id": "fb3443dd",
   "metadata": {},
   "outputs": [],
   "source": [
    "from os.path import commonprefix\n",
    "\n",
    "class CombinationIterator:\n",
    "\n",
    "    def __init__(self, characters, combinationLength):\n",
    "        self.c = characters\n",
    "        self.len = combinationLength\n",
    "        self.state = \"\"\n",
    "        \n",
    "    def next(self):\n",
    "        if self.state == \"\":\n",
    "            self.state = self.c[:self.len]\n",
    "        else:\n",
    "            end = len(commonprefix([self.c[::-1], self.state[::-1]]))\n",
    "            place = self.c.index(self.state[-end-1])\n",
    "            self.state = self.state[:-end-1] + self.c[place + 1: place + 2 + end]\n",
    "        return self.state\n",
    "\n",
    "    def hasNext(self):\n",
    "        return self.state != self.c[-self.len:]"
   ]
  },
  {
   "cell_type": "code",
   "execution_count": null,
   "id": "22d63530",
   "metadata": {},
   "outputs": [],
   "source": [
    "sorted(('c','a','b'))"
   ]
  },
  {
   "cell_type": "code",
   "execution_count": null,
   "id": "a2e166ba",
   "metadata": {},
   "outputs": [],
   "source": [
    "from os.path import commonprefix\n",
    "state = 'ab'\n",
    "c = 'abcd'\n",
    "end = len(commonprefix([c[::-1], state[::-1]]))\n",
    "print(end)\n",
    "place = c.index(state[-end-1])\n",
    "print(place)\n",
    "state = state[:-end-1] + c[place + 1: place + 2 + end]\n",
    "print(state[:-end-1],c[place + 1: place + 2 + end],state)"
   ]
  },
  {
   "cell_type": "code",
   "execution_count": null,
   "id": "904b2e90",
   "metadata": {},
   "outputs": [],
   "source": [
    "'abc'[::-1]"
   ]
  },
  {
   "cell_type": "markdown",
   "id": "906cc355",
   "metadata": {},
   "source": [
    "### 20211115<a id='368'></a>\n",
    "<strong>368. Largest Divisible Subset</strong>\n",
    "[Quesiton List](#0)\n",
    "\n",
    "Given a set of distinct positive integers nums, return the largest subset answer such that every pair (answer[i], answer[j]) of elements in this subset satisfies:\n",
    "\n",
    "- answer[i] % answer[j] == 0, or\n",
    "- answer[j] % answer[i] == 0\n",
    "\n",
    "If there are multiple solutions, return any of them."
   ]
  },
  {
   "cell_type": "code",
   "execution_count": null,
   "id": "3b34767c",
   "metadata": {},
   "outputs": [],
   "source": [
    "#1.sort the list in ascending order\n",
    "#2.double loop to check if the prev numbers are the divisor of the current number\n",
    "#3.if it is, update the count and prev list \n",
    "#3.only if the current count is smaller than the prev count + 1 \n",
    "#3.(otherwise, it would overwrite the largest result)\n",
    "def largestDivisibleSubset(nums):\n",
    "    nums = sorted(nums)\n",
    "    count = [1]*len(nums)\n",
    "    prev = [-1]*len(nums)\n",
    "    max_idx = 0\n",
    "    \n",
    "    for i in range(len(nums)):\n",
    "        for j in range(i):\n",
    "            if nums[i]%nums[j] == 0:\n",
    "                 if count[i] < count[j] + 1:\n",
    "                    count[i] = count[j] + 1\n",
    "                    prev[i] = j\n",
    "        if count[max_idx] < count[i]:\n",
    "            max_idx = i\n",
    "            \n",
    "    \n",
    "    ans = []\n",
    "    k = max_idx\n",
    "    while k >= 0:\n",
    "        ans.append(nums[k])\n",
    "        k = prev[k]\n",
    "    \n",
    "    return ans"
   ]
  },
  {
   "cell_type": "code",
   "execution_count": null,
   "id": "fc6d7008",
   "metadata": {},
   "outputs": [],
   "source": [
    "nums = [1,2,3]\n",
    "largestDivisibleSubset(nums)"
   ]
  },
  {
   "cell_type": "code",
   "execution_count": null,
   "id": "051a891a",
   "metadata": {},
   "outputs": [],
   "source": [
    "nums = [1,2,4,8]\n",
    "largestDivisibleSubset(nums)"
   ]
  },
  {
   "cell_type": "code",
   "execution_count": null,
   "id": "187be2ad",
   "metadata": {},
   "outputs": [],
   "source": [
    "nums = [4,8,10,240]\n",
    "largestDivisibleSubset(nums)"
   ]
  },
  {
   "cell_type": "markdown",
   "id": "480c70fe",
   "metadata": {},
   "source": [
    "### 20211115<a id='45'></a>\n",
    "<strong>45. Jump Game II</strong>\n",
    "[Quesiton List](#0)\n",
    "\n",
    "Given an array of non-negative integers nums, you are initially positioned at the first index of the array.\n",
    "\n",
    "Each element in the array represents your maximum jump length at that position.\n",
    "\n",
    "Your goal is to reach the last index in the minimum number of jumps.\n",
    "\n",
    "You can assume that you can always reach the last index."
   ]
  },
  {
   "cell_type": "code",
   "execution_count": null,
   "id": "2d82e946",
   "metadata": {},
   "outputs": [],
   "source": [
    "#O(n^2)find the minimum step to reach each index\n",
    "#1.double loop on each index step very big step\n",
    "#2.check if the previous index that can reach to the current index\n",
    "#3.update the minimum step if minimum step from previous index + 1 is smaller\n",
    "def jump(nums):\n",
    "    dp = [0]\n",
    "    for i in range(1,len(nums)):\n",
    "        min_step = 99999\n",
    "        for j in range(i):\n",
    "            if j + nums[j] >= i:\n",
    "                if dp[j] + 1 < min_step:\n",
    "                    min_step = dp[j] + 1\n",
    "        dp.append(min_step)\n",
    "    return dp[len(nums)-1]"
   ]
  },
  {
   "cell_type": "code",
   "execution_count": null,
   "id": "e78185c1",
   "metadata": {},
   "outputs": [],
   "source": [
    "#O(n) keep two pointer that represent the range it can reach with a fixed number of step\n",
    "#1.set the left as the 0 index and right as the furthest the 0 index can reach and step = 1\n",
    "#2.find the max index this range can reach\n",
    "#2.1check if it exceeds the end of list\n",
    "#2.2if not, update left as right, right as the furthest\n",
    "def jump(nums):\n",
    "    if len(nums) <= 1:\n",
    "        return 0\n",
    "    left = 0\n",
    "    right = nums[0]\n",
    "    time = 1\n",
    "    while right < len(nums)-1:\n",
    "        temp = left\n",
    "        max_step = right\n",
    "        while temp <= right:\n",
    "            if temp + nums[temp] >= len(nums)-1:\n",
    "                return time + 1\n",
    "            if temp + nums[temp] > max_step:\n",
    "                max_step = temp + nums[temp] \n",
    "            temp += 1\n",
    "        left = right\n",
    "        right = max_step\n",
    "        time += 1\n",
    "    return time"
   ]
  },
  {
   "cell_type": "code",
   "execution_count": null,
   "id": "15358ca1",
   "metadata": {},
   "outputs": [],
   "source": [
    "def jump(nums):\n",
    "    if len(nums) <= 1: return 0\n",
    "    l, r = 0, nums[0]\n",
    "    times = 1\n",
    "    while r < len(nums) - 1:\n",
    "        times += 1\n",
    "        nxt = max(i + nums[i] for i in range(l, r + 1))\n",
    "        l, r = r, nxt\n",
    "    return times"
   ]
  },
  {
   "cell_type": "code",
   "execution_count": null,
   "id": "af438949",
   "metadata": {},
   "outputs": [],
   "source": [
    "nums = [2,3,1,1,4]\n",
    "jump(nums)"
   ]
  },
  {
   "cell_type": "code",
   "execution_count": null,
   "id": "53895800",
   "metadata": {},
   "outputs": [],
   "source": [
    "nums = [2,3,0,1,4]\n",
    "jump(nums)"
   ]
  },
  {
   "cell_type": "code",
   "execution_count": null,
   "id": "eccd13fd",
   "metadata": {},
   "outputs": [],
   "source": [
    "nums = [1,2,1,1,1]\n",
    "jump(nums)"
   ]
  },
  {
   "cell_type": "code",
   "execution_count": null,
   "id": "a96bad2e",
   "metadata": {},
   "outputs": [],
   "source": [
    "nums = [1,1,1,1,1,1,1,1,1,1,1,1,1,1,1,1,1,1,1,1,1,1,1,1,1,1,1,1,1,1,1,1,1,1,1,1,1,1,1,1,1,1,1,1,1,1,1,1,1,1,1,1,1,1,1,1,1,1,1,1,1,1,1,1,1,1,1,1,1,1,1,1,1,1,1,1,1,1,1,1,1,1,1,1,1,1,1,1,1,1,1,1,1,1,1,1,1,1,1,1,1,1,1,1,1,1,1,1,1,1,1,1,1,1,1,1,1,1,1,1,1,1,1,1,1,1,1,1,1,1,1,1,1,1,1,1,1,1,1,1,1,1,1,1,1,1,1,1,1,1,1,1,1,1,1,1,1,1,1,1,1,1,1,1,1,1,1,1,1,1,1,1,1,1,1,1,1,1,1,1,1,1,1,1,1,1,1,1,1,1,1,1,1,1,1,1,1,1,1,1,1,1,1,1,1,1,1,1,1,1,1,1,1,1,1,1,1,1,1,1,1,1,1,1,1,1,1,1,1,1,1,1,1,1,1,1,1,1,1,1,1,1,1,1,1,1,1,1,1,1,1,1,1,1,1,1,1,1,1,1,1,1,1,1,1,1,1,1,1,1,1,1,1,1,1,1,1,1,1,1,1,1,1,1,1,1,1,1,1,1,1,1,1,1,1,1,1,1,1,1,1,1,1,1,1,1,1,1,1,1,1,1,1,1,1,1,1,1,1,1,1,1,1,1,1,1,1,1,1,1,1,1,1,1,1,1,1,1,1,1,1,1,1,1,1,1,1,1,1,1,1,1,1,1,1,1,1,1,1,1,1,1,1,1,1,1,1,1,1,1,1,1,1,1,1,1,1,1,1,1,1,1,1,1,1,1,1,1,1,1,1,1,1,1,1,1,1,1,1,1,1,1,1,1,1,1,1,1,1,1,1,1,1,1,1,1,1,1,1,1,1,1,1,1,1,1,1,1,1,1,1,1,1,1,1,1,1,1,1,1,1,1,1,1,1,1,1,1,1,1,1,1,1,1,1,1,1,1,1,1,1,1,1,1,1,1,1,1,1,1,1,1,1,1,1,1,1,1,1,1,1,1,1,1,1,1,1,1,1,1,1,1,1,1,1,1,1,1,1,1,1,1,1,1,1,1,1,1,1,1,1,1,1,1,1,1,1,1,1,1,1,1,1,1,1,1,1,1,1,1,1,1,1,1,1,1,1,1,1,1,1,1,1,1,1,1,1,1,1,1,1,1,1,1,1,1,1,1,1,1,1,1,1,1,1,1,1,1,1,1,1,1,1,1,1,1,1,1,1,1,1,1,1,1,1,1,1,1,1,1,1,1,1,1,1,1,1,1,1,1,1,1,1,1,1,1,1,1,1,1,1,1,1,1,1,1,1,1,1,1,1,1,1,1,1,1,1,1,1,1,1,1,1,1,1,1,1,1,1,1,1,1,1,1,1,1,1,1,1,1,1,1,1,1,1,1,1,1,1,1,1,1,1,1,1,1,1,1,1,1,1,1,1,1,1,1,1,1,1,1,1,1,1,1,1,1,1,1,1,1,1,1,1,1,1,1,1,1,1,1,1,1,1,1,1,1,1,1,1,1,1,1,1,1,1,1,1,1,1,1,1,1,1,1,1,1,1,1,1,1,1,1,1,1,1,1,1,1,1,1,1,1,1,1,1,1,1,1,1,1,1,1,1,1,1,1,1,1,1,1,1,1,1,1,1,1,1,1,1,1,1,1,1,1,1,1,1,1,1,1,1,1,1,1,1,1,1,1,1,1,1,1,1,1,1,1,1,1,1,1,1,1,1,1,1,1,1,1,1,1,1,1,1,1,1,1,1,1,1,1,1,1,1,1,1,1,1,1,1,1,1,1,1,1,1,1,1,1,1,1,1,1,1,1,1,1,1,1,1,1,1,1,1,1,1,1,1,1,1,1,1,1,1,1,1,1,1,1,1,1,1,1,1,1,1,1,1,1,1,1,1,1,1,1,1,1,1,1,1,1,1,1,1,1,1,1,1,1,1,1,1,1,1,1,1,1,1,1,1,1,1,1,1,1,1,1,1,1,1,1,1,1,1,1,1,1,1,1,1,1,1,1,1,1,1,1,1,1,1,1,1,1,1,1,1,1,1,1,1,1,1,1,1,1,1,1,1,1,1,1,1,1,1,1,1,1,1,1,1,1,1,1,1,1,1,1,1,1,1,1,1,1,1,1,1,1,1,1,1,1,1,1,1,1,1,1,1,1,1,1,1,1,1,1,1,1,1,1,1,1,1,1,1,1,1,1,1,1,1,1,1,1,1,1,1,1,1,1,1,1,1,1,1,1,1,1,1,1,1,1,1,1,1,1,1,1,1,1,1,1,1,1,1,1,1,1,1,1,1,1,1,1,1,1,1,1,1,1,1,1,1,1,1,1,1,1,1,1,1,1,1,1,1,1,1,1,1,1,1,1,1,1,1,1,1,1,1,1,1,1,1,1,1,1,1,1,1,1,1,1,1,1,1,1,1,1,1,1,1,1,1,1,1,1,1,1,1,1,1,1,1,1,1,1,1,1,1,1,1,1,1,1,1,1,1,1,1,1,1,1,1,1,1,1,1,1,1,1,1,1,1,1,1,1,1,1,1,1,1,1,1,1,1,1,1,1,1,1,1,1,1,1,1,1,1,1,1,1,1,1,1,1,1,1,1,1,1,1,1,1,1,1,1,1,1,1,1,1,1,1,1,1,1,1,1,1,1,1,1,1,1,1,1,1,1,1,1,1,1,1,1,1,1,1,1,1,1,1,1,1,1,1,1,1,1,1,1,1,1,1,1,1,1,1,1,1,1,1,1,1,1,1,1,1,1,1,1,1,1,1,1,1,1,1,1,1,1,1,1,1,1,1,1,1,1,1,1,1,1,1,1,1,1,1,1,1,1,1,1,1,1,1,1,1,1,1,1,1,1,1,1,1,1,1,1,1,1,1,1,1,1,1,1,1,1,1,1,1,1,1,1,1,1,1,1,1,1,1,1,1,1,1,1,1,1,1,1,1,1,1,1,1,1,1,1,1,1,1,1,1,1,1,1,1,1,1,1,1,1,1,1,1,1,1,1,1,1,1,1,1,1,1,1,1,1,1,1,1,1,1,1,1,1,1,1,1,1,1,1,1,1,1,1,1,1,1,1,1,1,1,1,1,1,1,1,1,1,1,1,1,1,1,1,1,1,1,1,1,1,1,1,1,1,1,1,1,1,1,1,1,1,1,1,1,1,1,1,1,1,1,1,1,1,1,1,1,1,1,1,1,1,1,1,1,1,1,1,1,1,1,1,1,1,1,1,1,1,1,1,1,1,1,1,1,1,1,1,1,1,1,1,1,1,1,1,1,1,1,1,1,1,1,1,1,1,1,1,1,1,1,1,1,1,1,1,1,1,1,1,1,1,1,1,1,1,1,1,1,1,1,1,1,1,1,1,1,1,1,1,1,1,1,1,1,1,1,1,1,1,1,1,1,1,1,1,1,1,1,1,1,1,1,1,1,1,1,1,1,1,1,1,1,1,1,1,1,1,1,1,1,1,1,1,1,1,1,1,1,1,1,1,1,1,1,1,1,1,1,1,1,1,1,1,1,1,1,1,1,1,1,1,1,1,1,1,1,1,1,1,1,1,1,1,1,1,1,1,1,1,1,1,1,1,1,1,1,1,1,1,1,1,1,1,1,1,1,1,1,1,1,1,1,1,1,1,1,1,1,1,1,1,1,1,1,1,1,1,1,1,1,1,1,1,1,1,1,1,1,1,1,1,1,1,1,1,1,1,1,1,1,1,1,1,1,1,1,1,1,1,1,1,1,1,1,1,1,1,1,1,1,1,1,1,1,1,1,1,1,1,1,1,1,1,1,1,1,1,1,1,1,1,1,1,1,1,1,1,1,1,1,1,1,1,1,1,1,1,1,1,1,1,1,1,1,1,1,1,1,1,1,1,1,1,1,1,1,1,1,1,1,1,1,1,1,1,1,1,1,1,1,1,1,1,1,1,1,1,1,1,1,1,1,1,1,1,1,1,1,1,1,1,1,1,1,1,1,1,1,1,1,1,1,1,1,1,1,1,1,1,1,1,1,1,1,1,1,1,1,1,1,1,1,1,1,1,1,1,1,1,1,1,1,1,1,1,1,1,1,1,1,1,1,1,1,1,1,1,1,1,1,1,1,1,1,1,1,1,1,1,1,1,1,1,1,1,1,1,1,1,1,1,1,1,1,1,1,1,1,1,1,1,1,1,1,1,1,1,1,1,1,1,1,1,1,1,1,1,1,1,1,1,1,1,1,1,1,1,1,1,1,1,1,1,1,1,1,1,1,1,1,1,1,1,1,1,1,1,1,1,1,1,1,1,1,1,1,1,1,1,1,1,1,1,1,1,1,1,1,1,1,1,1,1,1,1,1,1,1,1,1,1,1,1,1,1,1,1,1,1,1,1,1,1,1,1,1,1,1,1,1,1,1,1,1,1,1,1,1,1,1,1,1,1,1,1,1,1,1,1,1,1,1,1,1,1,1,1,1,1,1,1,1,1,1,1,1,1,1,1,1,1,1,1,1,1,1,1,1,1,1,1,1,1,1,1,1,1,1,1,1,1,1,1,1,1,1,1,1,1,1,1,1,1,1,1,1,1,1,1,1,1,1,1,1,1,1,1,1,1,1,1,1,1,1,1,1,1,1,1,1,1,1,1,1,1,1,1,1,1,1,1,1,1,1,1,1,1,1,1,1,1,1,1,1,1,1,1,1,1,1,1,1,1,1,1,1,1,1,1,1,1,1,1,1,1,1,1,1,1,1,1,1,1,1,1,1,1,1,1,1,1,1,1,1,1,1,1,1,1,1,1,1,1,1,1,1,1,1,1,1,1,1,1,1,1,1,1,1,1,1,1,1,1,1,1,1,1,1,1,1,1,1,1,1,1,1,1,1,1,1,1,1,1,1,1,1,1,1,1,1,1,1,1,1,1,1,1,1,1,1,1,1,1,1,1,1,1,1,1,1,1,1,1,1,1,1,1,1,1,1,1,1,1,1,1,1,1,1,1,1,1,1,1,1,1,1,1,1,1,1,1,1,1,1,1,1,1,1,1,1,1,1,1,1,1,1,1,1,1,1,1,1,1,1,1,1,1,1,1,1,1,1,1,1,1,1,1,1,1,1,1,1,1,1,1,1,1,1,1,1,1,1,1,1,1,1,1,1,1,1,1,1,1,1,1,1,1,1,1,1,1,1,1,1,1,1,1,1,1,1,1,1,1,1,1,1,1,1,1,1,1,1,1,1,1,1,1,1,1,1,1,1,1,1,1,1,1,1,1,1,1,1,1,1,1,1,1,1,1,1,1,1,1,1,1,1,1,1,1,1,1,1,1,1,1,1,1,1,1,1,1,1,1,1,1,1,1,1,1,1,1,1,1,1,1,1,1,1,1,1,1,1,1,1,1,1,1,1,1,1,1,1,1,1,1,1,1,1,1,1,1,1,1,1,1,1,1,1,1,1,1,1,1,1,1,1,1,1,1,1,1,1,1,1,1,1,1,1,1,1,1,1,1,1,1,1,1,1,1,1,1,1,1,1,1,1,1,1,1,1,1,1,1,1,1,1,1,1,1,1,1,1,1,1,1,1,1,1,1,1,1,1,1,1,1,1,1,1,1,1,1,1,1,1,1,1,1,1,1,1,1,1,1,1,1,1,1,1,1,1,1,1,1,1,1,1,1,1,1,1,1,1,1,1,1,1,1,1,1,1,1,1,1,1,1,1,1,1,1,1,1,1,1,1,1,1,1,1,1,1,1,1,1,1,1,1,1,1,1,1,1,1,1,1,1,1,1,1,1,1,1,1,1,1,1,1,1,1,1,1,1,1,1,1,1,1,1,1,1,1,1,1,1,1,1,1,1,1,1,1,1,1,1,1,1,1,1,1,1,1,1,1,1,1,1,1,1,1,1,1,1,1,1,1,1,1,1,1,1,1,1,1,1,1,1,1,1,1,1,1,1,1,1,1,1,1,1,1,1,1,1,1,1,1,1,1,1,1,1,1,1,1,1,1,1,1,1,1,1,1,1,1,1,1,1,1,1,1,1,1,1,1,1,1,1,1,1,1,1,1,1,1,1,1,1,1,1,1,1,1,1,1,1,1,1,1,1,1,1,1,1,1,1,1,1,1,1,1,1,1,1,1,1,1,1,1,1,1,1,1,1,1,1,1,1,1,1,1,1,1,1,1,1,1,1,1,1,1,1,1,1,1,1,1,1,1,1,1,1,1,1,1,1,1,1,1,1,1,1,1,1,1,1,1,1,1,1,1,1,1,1,1,1,1,1,1,1,1,1,1,1,1,1,1,1,1,1,1,1,1,1,1,1,1,1,1,1,1,1,1,1,1,1,1,1,1,1,1,1,1,1,1,1,1,1,1,1,1,1,1,1,1,1,1,1,1,1,1,1,1,1,1,1,1,1,1,1,1,1,1,1,1,1,1,1,1,1,1,1,1,1,1,1,1,1,1,1,1,1,1,1,1,1,1,1,1,1,1,1,1,1,1,1,1,1,1,1,1,1,1,1,1,1,1,1,1,1,1,1,1,1,1,1,1,1,1,1,1,1,1,1,1,1,1,1,1,1,1,1,1,1,1,1,1,1,1,1,1,1,1,1,1,1,1,1,1,1,1,1,1,1,1,1,1,1,1,1,1,1,1,1,1,1,1,1,1,1,1,1,1,1,1,1,1,1,1,1,1,1,1,1,1,1,1,1,1,1,1,1,1,1,1,1,1,1,1,1,1,1,1,1,1,1,1,1,1,1,1,1,1,1,1,1,1,1,1,1,1,1,1,1,1,1,1,1,1,1,1,1,1,1,1,1,1,1,1,1,1,1,1,1,1,1,1,1,1,1,1,1,1,1,1,1,1,1,1,1,1,1,1,1,1,1,1,1,1,1,1,1,1,1,1,1,1,1,1,1,1,1,1,1,1,1,1,1,1,1,1,1,1,1,1,1,1,1,1,1,1,1,1,1,1,1,1,1,1,1,1,1,1,1,1,1,1,1,1,1,1,1,1,1,1,1,1,1,1,1,1,1,1,1,1,1,1,1,1,1,1,1,1,1,1,1,1,1,1,1,1,1,1,1,1,1,1,1,1,1,1,1,1,1,1,1,1,1,1,1,1,1,1,1,1,1,1,1,1,1,1,1,1,1,1,1,1,1,1,1,1,1,1,1,1,1,1,1,1,1,1,1,1,1,1,1,1,1,1,1,1,1,1,1,1,1,1,1,1,1,1,1,1,1,1,1,1,1,1,1,1,1,1,1,1,1,1,1,1,1,1,1,1,1,1,1,1,1,1,1,1,1,1,1,1,1,1,1,1,1,1,1,1,1,1,1,1,1,1,1,1,1,1,1,1,1,1,1,1,1,1,1,1,1,1,1,1,1,1,1,1,1,1,1,1,1,1,1,1,1,1,1,1,1,1,1,1,1,1,1,1,1,1,1,1,1,1,1,1,1,1,1,1,1,1,1,1,1,1,1,1,1,1,1,1,1,1,1,1,1,1,1,1,1,1,1,1,1,1,1,1,1,1,1,1,1,1,1,1,1,1,1,1,1,1,1,1,1,1,1,1,1,1,1,1,1,1,1,1,1,1,1,1,1,1,1,1,1,1,1,1,1,1,1,1,1,1,1,1,1,1,1,1,1,1,1,1,1,1,1,1,1,1,1,1,1,1,1,1,1,1,1,1,1,1,1,1,1,1,1,1,1,1,1,1,1,1,1,1,1,1,1,1,1,1,1,1,1,1,1,1,1,1,1,1,1,1,1,1,1,1,1,1,1,1,1,1,1,1,1,1,1,1,1,1,1,1,1,1,1,1,1,1,1,1,1,1,1,1,1,1,1,1,1,1,1,1,1,1,1,1,1,1,1,1,1,1,1,1,1,1,1,1,1,1,1,1,1,1,1,1,1,1,1,1,1,1,1,1,1,1,1,1,1,1,1,1,1,1,1,1,1,1,1,1,1,1,1,1,1,1,1,1,1,1,1,1,1,1,1,1,1,1,1,1,1,1,1,1,1,1,1,1,1,1,1,1,1,1,1,1,1,1,1,1,1,1,1,1,1,1,1,1,1,1,1,1,1,1,1,1,1,1,1,1,1,1,1,1,1,1,1,1,1,1,1,1,1,1,1,1,1,1,1,1,1,1,1,1,1,1,1,1,1,1,1,1,1,1,1,1,1,1,1,1,1,1,1,1,1,1,1,1,1,1,1,1,1,1,1,1,1,1,1,1,1,1,1,1,1,1,1,1,1,1,1,1,1,1,1,1,1,1,1,1,1,1,1,1,1,1,1,1,1,1,1,1,1,1,1,1,1,1,1,1,1,1,1,1,1,1,1,1,1,1,1,1,1,1,1,1,1,1,1,1,1,1,1,1,1,1,1,1,1,1,1,1,1,1,1,1,1,1,1,1,1,1,1,1,1,1,1,1,1,1,1,1,1,1,1,1,1,1,1,1,1,1,1,1,1,1,1,1,1,1,1,1,1,1,1,1,1,1,1,1,1,1,1,1,1,1,1,1,1,1,1,1,1,1,1,1,1,1,1,1,1,1,1,1,1,1,1,1,1,1,1,1,1,1,1,1,1,1,1,1,1,1,1,1,1,1,1,1,1,1,1,1,1,1,1,1,1,1,1,1,1,1,1,1,1,1,1,1,1,1,1,1,1,1,1,1,1,1,1,1,1,1,1,1,1,1,1,1,1,1,1,1,1,1,1,1,1,1,1,1,1,1,1,1,1,1,1,1,1,1,1,1,1,1,1,1,1,1,1,1,1,1,1,1,1,1,1,1,1,1,1,1,1,1,1,1,1,1,1,1,1,1,1,1,1,1,1,1,1,1,1,1,1,1,1,1,1,1,1,1,1,1,1,1,1,1,1,1,1,1,1,1,1,1,1,1,1,1,1,1,1,1,1,1,1,1,1,1,1,1,1,1,1,1,1,1,1,1,1,1,1,1,1,1,1,1,1,1,1,1,1,1,1,1,1,1,1,1,1,1,1,1,1,1,1,1,1,1,1,1,1,1,1,1,1,1,1,1,1,1,1,1,1,1,1,1,1,1,1,1,1,1,1,1,1,1,1,1,1,1,1,1,1,1,1,1,1,1,1,1,1,1,1,1,1,1,1,1,1,1,1,1,1,1,1,1,1,1,1,1,1,1,1,1,1,1,1,1,1,1,1,1,1,1,1,1,1,1,1,1,1,1,1,1,1,1,1,1,1,1,1,1,1,1,1,1,1,1,1,1,1,1,1,1,1,1,1,1,1,1,1,1,1,1,1,1,1,1,1,1,1,1,1,1,1,1,1,1,1,1,1,1,1,1,1,1,1,1,1,1,1,1,1,1,1,1,1,1,1,1,1,1,1,1,1,1,1,1,1,1,1,1,1,1,1,1,1,1,1,1,1,1,1,1,1,1,1,1,1,1,1,1,1,1,1,1,1,1,1,1,1,1,1,1,1,1,1,1,1,1,1,1,1,1,1,1,1,1,1,1,1,1,1,1,1,1,1,1,1,1,1,1,1,1,1,1,1,1,1,1,1,1,1,1,1,1,1,1,1,1,1,1,1,1,1,1,1,1,1,1,1,1,1,1,1,1,1,1,1,1,1,1,1,1,1,1,1,1,1,1,1,1,1,1,1,1,1,1,1,1,1,1,1,1,1,1,1,1,1,1,1,1,1,1,1,1,1,1,1,1,1,1,1,1,1,1,1,1,1,1,1,1,1,1,1,1,1,1,1,1,1,1,1,1,1,1,1,1,1,1,1,1,1,1,1,1,1,1,1,1,1,1,1,1,1,1,1,1,1,1,1,1,1,1,1,1,1,1,1,1,1,1,1,1,1,1,1,1,1,1,1,1,1,1,1,1,1,1,1,1,1,1,1,1,1,1,1,1,1,1,1,1,1,1,1,1,1,1,1,1,1,1,1,1,1,1,1,1,1,1,1,1,1,1,1,1,1,1,1,1,1,1,1,1,1,1,1,1,1,1,1,1,1,1,1,1,1,1,1,1,1,1,1,1,1,1,1,1,1,1,1,1,1,1,1,1,1,1,1,1,1,1,1,1,1,1,1,1,1,1,1,1,1,1,1,1,1,1,1,1,1,1,1,1,1,1,1,1,1,1,1,1,1,1,1,1,1,1,1,1,1,1,1,1,1,1,1,1,1,1,1,1,1,1,1,1,1,1,1,1,1,1,1,1,1,1,1,1,1,1,1,1,1,1,1,1,1,1,1,1,1,1,1,1,1,1,1,1,1,1,1,1,1,1,1,1,1,1,1,1,1,1,1,1,1,1,1,1,1,1,1,1,1,1,1,1,1,1,1,1,1,1,1,1,1,1,1,1,1,1,1,1,1,1,1,1,1,1,1,1,1,1,1,1,1,1,1,1,1,1,1,1,1,1,1,1,1,1,1,1,1,1,1,1,1,1,1,1,1,1,1,1,1,1,1,1,1,1,1,1,1,1,1,1,1,1,1,1,1,1,1,1,1,1,1,1,1,1,1,1,1,1,1,1,1,1,1,1,1,1,1,1,1,1,1,1,1,1,1,1,1,1,1,1,1,1,1,1,1,1,1,1,1,1,1,1,1,1,1,1,1,1,1,1,1,1,1,1,1,1,1,1,1,1,1,1,1,1,1,1,1,1,1,1,1,1,1,1,1,1,1,1,1,1,1,1,1,1,1,1,1,1,1,1,1,1,1,1,1,1,1,1,1,1,1,1,1,1,1,1,1,1,1,1,1,1,1,1,1,1,1,1,1,1,1,1,1,1,1,1,1,1,1,1,1,1,1,1,1,1,1,1,1,1,1,1,1,1,1,1,1,1,1,1,1,1,1,1,1,1,1,1,1,1,1,1,1,1,1,1,1,1,1,1,1,1,1,1,1,1,1,1,1,1,1,1,1,1,1,1,1,1,1,1,1,1,1,1,1,1,1,1,1,1,1,1,1,1,1,1,1,1,1,1,1,1,1,1,1,1,1,1,1,1,1,1,1,1,1,1,1,1,1,1,1,1,1,1,1,1,1,1,1,1,1,1,1,1,1,1,1,1,1,1,1,1,1,1,1,1,1,1,1,1,1,1,1,1,1,1,1,1,1,1,1,1,1,1,1,1,1,1,1,1,1,1,1,1,1,1,1,1,1,1,1,1,1,1,1,1,1,1,1,1,1,1,1,1,1,1,1,1,1,1,1,1,1,1,1,1,1,1,1,1,1,1,1,1,1,1,1,1,1,1,1,1,1,1,1,1,1,1,1,1,1,1,1,1,1,1,1,1,1,1,1,1,1,1,1,1,1,1,1,1,1,1,1,1,1,1,1,1,1,1,1,1,1,1,1,1,1,1,1,1,1,1,1,1,1,1,1,1,1,1,1,1,1,1,1,1,1,1,1,1,1,1,1,1,1,1,1,1,1,1,1,1,1,1,1,1,1,1,1,1,1,1,1,1,1,1,1,1,1,1,1,1,1,1,1,1,1,1,1,1,1,1,1,1,1,1,1,1,1,1,1,1,1,1,1,1,1,1,1,1,1,1,1,1,1,1,1,1,1,1,1,1,1,1,1,1,1,1,1,1,1,1,1,1,1,1,1,1,1,1,1,1,1,1,1,1,1,1,1,1,1,1,1,1,1,1,1,1,1,1,1,1,1,1,1,1,1,1,1,1,1,1,1,1,1,1,1,1,1,1,1,1,1,1,1,1,1,1,1,1,1,1,1,1,1,1,1,1,1,1,1,1,1,1,1,1,1,1,1,1,1,1,1,1,1,1,1,1,1,1,1,1,1,1,1,1,1,1,1,1,1,1,1,1,1,1,1,1,1,1,1,1,1,1,1,1,1,1,1,1,1,1,1,1,1,1,1,1,1,1,1,1,1,1,1,1,1,1,1,1,1,1,1,1,1,1,1,1,1,1,1,1,1,1,1,1,1,1,1,1,1,1,1,1,1,1,1,1,1,1,1,1,1,1,1,1,1,1,1,1,1,1,1,1,1,1,1,1,1,1,1,1,1,1,1,1,1,1,1,1,1,1,1,1,1,1,1,1,1,1,1,1,1,1,1,1,1,1,1,1,1,1,1,1,1,1,1,1,1,1,1,1,1,1,1,1,1,1,1,1,1,1,1,1,1,1,1,1,1,1,1,1,1,1,1,1,1,1,1,1,1,1,1,1,1,1,1,1,1,1,1,1,1,1,1,1,1,1,1,1,1,1,1,1,1,1,1,1,1,1,1,1,1,1,1,1,1,1,1,1,1,1,1,1,1,1,1,1,1,1,1,1,1,1,1,1,1,1,1,1,1,1,1,1,1,1,1,1,1,1,1,1,1,1,1,1,1,1,1,1,1,1,1,1,1,1,1,1,1,1,1,1,1,1,1,1,1,1,1,1,1,1,1,1,1,1,1,1,1,1,1,1,1,1,1,1,1,1,1,1,1,1,1,1,1,1,1,1,1,1,1,1,1,1,1,1,1,1,1,1,1,1,1,1,1,1,1,1,1,1,1,1,1,1,1,1,1,1,1,1,1,1,1,1,1,1,1,1,1,1,1,1,1,1,1,1,1,1,1,1,1,1,1,1,1,1,1,1,1,1,1,1,1,1,1,1,1,1,1,1,1,1,1,1,1,1,1,1,1,1,1,1,1,1,1,1,1,1,1,1,1,1,1,1,1,1,1,1,1,1,1,1,1,1,1,1,1,1,1,1,1,1,1,1,1,1,1,1,1,1,1,1,1,1,1,1,1,1,1,1,1,1,1,1,1,1,1,1,1,1,1,1,1,1,1,1,1,1,1,1,1,1,1,1,1,1,1,1,1,1,1,1,1,1,1,1,1,1,1,1,1,1,1,1,1,1,1,1,1,1,1,1,1,1,1,1,1,1,1,1,1,1,1,1,1,1,1,0]\n",
    "jump(nums)"
   ]
  },
  {
   "cell_type": "code",
   "execution_count": null,
   "id": "5e0869ea",
   "metadata": {},
   "outputs": [],
   "source": [
    "nums = [758,938,802,664,189,622,571,88,719,520,970,640,243,326,82,359,589,602,399,316,794,774,928,395,362,962,135,230,985,844,435,220,111,565,472,472,171,973,17,931,850,116,499,296,891,750,635,493,1,487,904,588,769,64,412,979,671,961,756,280,140,535,485,130,334,825,847,199,417,370,196,950,153,287,951,818,242,411,307,726,11,14,756,303,68,358,315,958,548,384,960,867,530,125,292,629,985,601,183,760,377,718,574,970,933,852,929,565,370,201,13,351,854,536,646,90,8,659,39,756,2,174,479,98,444,823,682,786,292,916,705,881,597,113,189,820,812,954,72,688,472,182,962,105,355,327,125,165,765,399,911,287,445,141,467,412,841,665,660,868,746,127,355,346,142,870,550,139,8,449,139,594,601,437,374,65,512,494,550,343,204,240,763,540,221,486,896,149,829,431,710,341,434,836,213,628,286,958,774,278,551,700,326,313,141,286,511,3,925,644,595,169,447,620,421,208,709,508,769,135,900,856,267,242,538,665,662,590,907,876,228,105,58,984,300,456,13,693,791,836,300,695,933,30,980,243,424,982,448,19,130,739,626,633,164,998,887,707,322,933,852,703,269,542,348,134,246,921,166,624,57,858,31,587,785,378,322,644,646,900,396,114,555,272,909,605,10,905,741,425,789,926,627,334,674,363,501,416,571,593,181,930,624,474,507,716,995,124,304,893,566,248,591,490,10,840,498,210,952,683,250,444,703,120,938,213,44,74,252,731,152,892,180,445,13,487,477,915,439,304,323,212,730,794,745,604,222,801,443,993,142,146,209,612,149,888,646,540,349,5,92,598,929,794,35,82,435,819,591,589,330,748,993,672,685,191,391,33,961,738,815,309,428,415,604,387,292,948,699,674,553,959,620,226,956,959,8,180,938,743,271,742,690,902,421,819,990,955,668,444,634,214,658,33,198,897,782,28,71,116,292,589,73,406,616,168,496,517,253,491,987,23,652,202,701,4,863,982,899,839,542,143,545,858,953,324,898,842,992,776,202,580,794,585,734,542,123,20,923,261,644,63,30,509,26,370,56,119,206,482,239,237,547,344,15,69,323,138,741,555,494,301,2,685,924,953,679,751,357,962,227,726,917,67,988,221,858,36,759,457,921,57,77,383,37,366,700,423,579,113,397,362,769,94,801,57,41,351,276,166,512,363,370,996,718,458,326,744,701,90,279,538,29,90,24,536,8,216,180,967,643,959,829,435,901,620,912,206,302,205,381,760,415,947,705,198,443,786,232,217,26,873,109,98,735,551,746,360,788,821,139,169,246,730,383,822,128,531,201,398,801,890,516,618,24,918,513,185,590,369,15,663,961,618,430,874,938,159,757,73,27,461,701,501,332,830,446,189,117,185,327,915,127,609,968,73,684,110,912,628,975,405,525,607,920,59,194,462,735,613,911,520,17,292,710,755,794,108,337,604,127,908,51,242,314,308,171,792,557,242,493,719,331,301,648,524,581,713,466,459,253,567,717,517,136,494,613,556,486,756,329,142,125,987,635,993,452,322,554,498,833,492,579,687,307,50,147,727,314,274,379,244,53,800,98,297,193,748,80,293,657,149,145,586,255,934,577,298,778,38,857,641,346,93,413,309,904,864,300,702,928,262,704,676,688,17,765,753,332,869,560,45,730,234,433,720,77,683,208,837,955,909,207,160,604,562,667,925,768,383,593,717,672,38,519,350,786,977,95,194,148,937,36,894,384,402,234,275,604,96,104,582,175,105,68,63,353,772,253,74,769,866,415,672,203,701,444,790,609,499,37,958,224,967,106,939,199,949,821,170,706,83,406,13,628,843,833,1000,829,678,10,71,948,869,274,856,584,957,142,340,710,249,654,383,314,302,846,838,423,856,806,536,46,101,679,688,130,475,924,613,357,270,857,48,386,931,364,985,930,457,224,250,605,458,506,954,360,448,368,371,339,332,951,743,130,520,173,358,773,982,963,507,705,312,474,333,281,264,960,87,928,961,221,916,602,830,722,878,576,453,530,714,75,186,942,360,224,380,594,809,830,231,916,663,626,123,768,348,817,307,845,695,455,487,206,924,640,896,244,485,681,252,672,624,981,85,372,275,143,290,895,335,535,968,660,839,112,759,856,913,639,434,197,32,788,780,140,270,386,316,606,282,886,610,307,436,441,216,683,450,473,992,709,712,307,570,809,411,556,532,146,695,974,901,175,602,767,141,383,465,616,574,65,595,841,623,163,777,637,274,439,472,908,782,772,713,400,305,722,985,820,644,384,837,44,596,433,457,320,1,619,993,285,298,101,248,632,389,793,85,578,384,426,177,517,798,33,651,399,236,525,216,102,381,632,245,560,145,208,61,493,372,106,628,684,791,684,326,210,959,350,499,441,352,405,740,533,948,717,468,992,125,113,701,944,794,999,302,657,703,397,579,634,449,699,530,784,888,760,851,278,857,700,525,137,909,574,28,5,239,17,556,392,390,882,519,666,374,247,723,522,741,730,131,686,398,768,7,127,651,418,619,189,889,911,546,264,985,568,461,606,165,985,2,605,741,877,455,334,761,289,894,472,149,598,498,718,632,563,288,115,221,321,52,669,531,210,692,879,490,814,551,949,80,7,367,306,507,871,462,149,502,838,263,778,620,129,612,690,563,33,428,908,311,461,641,204,629,2,131,684,874,812,902,406,908,390,603,652,972,470,945,610,275,220,962,446,563,472,133,53,944,300,420,48,405,605,694,585,790,196,701,641,40,521,64,848,998,779,924,244,474,30,10,453,776,130,250,662,958,28,845,794,813,427,430,490,132,454,75,675,143,263,444,533,584,149,966,626,17,818,86,1,656,127,318,57,993,147,22,677,444,726,622,974,85,199,442,746,476,619,552,124,716,390,166,403,881,141,963,505,705,149,882,792,323,109,683,217,380,300,331,264,634,767,12,392,100,387,587,207,618,154,10,897,977,100,98,240,32,980,950,804,31,948,536,911,103,883,239,283,794,921,903,309,109,301,498,924,49,677,994,575,916,718,972,6,51,54,27,31,578,105,892,981,259,426,195,929,530,216,356,674,362,117,784,185,319,790,218,480,468,534,237,555,678,134,877,850,699,41,659,439,442,655,872,467,748,836,650,719,185,593,177,597,9,79,871,13,186,206,917,580,124,994,384,78,125,13,111,502,575,812,298,423,268,55,427,203,657,639,762,870,828,592,865,355,457,370,43,73,629,801,391,177,739,162,914,177,526,647,317,317,921,256,622,283,446,564,40,984,577,753,846,940,213,383,241,216,98,259,95,861,839,994,858,691,224,469,87,148,755,681,474,564,355,254,458,633,643,193,683,827,30,551,705,767,25,121,566,514,772,887,682,913,429,18,60,468,361,136,244,210,860,922,64,660,129,218,21,994,338,93,404,686,58,892,707,818,340,856,526,924,859,479,83,648,959,761,188,315,555,841,165,430,554,698,186,134,140,539,646,719,215,285,998,200,642,474,77,968,991,525,76,735,422,388,810,40,274,101,749,329,318,678,929,280,356,377,594,643,378,905,414,263,343,544,446,340,496,632,405,897,683,201,578,756,429,734,599,91,824,711,155,395,456,104,3,323,40,784,820,176,464,305,218,987,50,153,100,100,46,519,466,671,264,711,784,56,732,551,271,779,193,818,404,872,695,171,200,431,673,517,383,247,730,597,577,834,506,731,650,365,31,958,934,76,297,562,950,781,432,75,53,408,732,372,856,172,295,909,977,791,291,87,73,604,111,322,760,251,483,326,268,740,259,698,397,437,646,157,212,85,694,32,358,390,485,570,658,415,657,746,373,326,481,261,987,506,556,881,143,615,597,729,215,867,564,167,158,398,51,413,256,240,150,669,194,96,284,725,338,390,490,255,211,889,971,311,164,425,81,394,397,141,522,689,811,75,139,716,950,189,954,996,204,761,682,711,446,646,609,599,665,313,794,304,64,278,415,803,713,141,621,80,647,537,687,15,584,744,675,211,473,49,24,875,938,712,644,438,622,268,311,789,13,174,895,943,938,290,431,549,877,999,46,125,128,135,51,994,439,617,686,824,490,414,212,679,259,741,350,36,29,503,472,535,202,558,798,417,695,483,902,507,659,609,454,964,432,903,870,921,510,964,811,687,802,968,960,337,169,802,473,992,561,371,309,673,752,653,500,641,199,890,368,352,349,185,245,416,636,544,928,852,664,197,656,565,56,111,288,276,45,646,986,834,561,3,800,104,630,736,777,381,310,125,402,17,608,224,708,590,992,590,481,634,125,855,901,742,76,87,700,612,945,933,22,618,925,788,281,989,691,603,800,767,972,245,9,608,69,887,735,119,920,159,168,247,572,852,165,699,21,372,898,123,950,137,275,57,150,357,845,582,647,323,649,425,187,169,952,846,346,579,825,431,711,407,992,200,265,232,519,774,64,521,834,972,387,484,310,934,656,105,26,303,866,554,726,894,887,227,693,670,910,997,202,98,334,535,408,979,587,420,593,83,17,95,168,876,526,372,125,316,884,223,407,768,249,121,548,19,171,742,850,596,186,714,201,145,610,71,427,595,467,725,940,375,956,128,845,655,704,119,794,656,753,271,932,856,253,927,230,763,1000,30,776,721,361,410,113,694,269,816,341,156,516,302,433,649,969,972,736,147,134,758,994,967,510,844,218,437,70,792,998,254,660,689,14,645,149,757,601,237,400,47,94,562,698,335,394,804,61,505,437,993,786,218,666,221,74,567,287,194,548,635,674,167,80,712,657,408,786,694,320,467,203,355,605,915,510,220,438,252,347,390,76,418,40,540,107,823,670,875,455,532,874,862,385,648,971,29,1000,808,306,82,872,272,700,924,188,754,775,273,415,569,289,242,177,136,884,898,961,779,570,457,344,687,159,107,752,437,174,103,316,787,86,280,901,209,294,13,824,817,956,254,104,931,869,568,678,882,765,410,165,583,965,107,570,739,765,914,91,354,636,975,736,289,350,958,784,885,941,800,490,789,535,108,77,974,437,589,469,4,688,571,139,574,323,932,895,812,323,600,598,30,31,753,122,814,915,513,825,843,686,960,320,278,832,600,128,863,217,21,386,435,903,390,685,315,233,775,42,140,107,329,783,522,247,388,478,541,608,590,775,998,610,401,685,943,409,120,244,73,657,473,65,484,331,679,934,189,277,466,847,855,603,601,84,758,675,93,732,252,165,882,434,92,760,155,274,146,789,958,146,410,403,306,852,77,182,643,955,904,221,771,25,857,30,69,683,460,281,763,580,409,710,905,309,414,654,472,934,874,201,359,267,244,275,259,309,905,631,119,52,862,318,213,682,638,358,454,654,694,414,908,274,480,374,771,448,812,333,369,120,104,986,507,782,584,895,666,748,456,482,973,474,413,73,667,688,518,494,722,382,308,697,93,1000,833,282,255,501,202,902,292,410,155,606,18,811,516,571,348,515,267,36,505,791,342,873,378,812,868,810,900,107,293,463,817,740,187,775,531,710,854,599,911,512,88,560,106,898,417,921,271,545,941,190,445,375,320,638,224,380,903,423,84,404,282,670,829,495,69,965,365,833,563,355,490,214,656,784,281,611,861,276,826,95,437,581,156,847,856,661,369,996,285,49,127,256,272,694,269,520,804,837,291,859,651,199,148,268,153,914,547,998,227,864,613,720,551,379,334,563,877,263,844,902,690,358,202,914,938,822,363,9,426,20,653,217,308,698,511,494,567,922,453,735,53,923,735,797,783,940,348,803,267,776,413,344,16,402,971,912,878,231,469,906,344,276,60,100,881,713,130,861,908,161,990,151,136,712,254,485,603,91,882,381,545,357,151,628,890,703,785,628,625,754,991,199,840,647,5,559,69,139,184,681,864,278,662,34,39,995,279,519,581,20,103,503,947,503,434,672,283,324,719,362,986,894,430,154,822,924,609,146,144,399,540,823,221,428,89,62,673,979,182,995,593,735,584,212,210,289,343,240,788,308,534,860,775,589,267,760,745,27,755,368,607,615,740,983,13,61,579,868,88,16,540,228,147,841,191,143,362,671,22,726,7,298,348,873,156,547,895,613,130,482,780,918,569,550,90,850,919,3,708,372,969,989,721,293,651,361,587,929,522,420,664,201,587,508,107,462,783,947,946,787,538,571,397,525,563,496,908,494,84,362,402,427,819,896,749,557,917,503,979,218,49,615,997,305,643,185,898,73,114,897,428,719,691,56,785,480,631,958,581,491,844,25,11,956,189,886,37,661,626,947,596,796,62,367,706,681,514,212,359,766,542,459,328,160,320,957,252,292,862,783,902,828,813,699,656,306,366,867,568,499,133,945,92,879,146,423,891,109,700,75,592,434,9,286,946,88,486,625,360,228,889,140,837,978,309,684,457,916,291,747,338,11,290,446,789,245,518,301,752,177,197,269,372,621,199,96,365,289,677,720,67,836,805,750,391,412,967,867,691,342,680,980,189,881,583,521,643,188,425,96,734,413,910,637,373,105,347,311,506,902,792,440,664,828,393,831,487,440,384,453,756,32,321,912,574,473,339,667,789,448,552,343,329,899,472,749,758,676,294,872,690,756,493,638,10,998,861,299,951,360,415,696,751,59,412,96,549,797,419,28,266,362,446,522,929,931,740,40,817,404,780,997,877,74,465,635,583,667,673,215,800,656,594,552,798,895,267,104,511,850,8,65,598,562,999,823,588,514,862,335,700,34,1000,962,38,597,451,823,424,345,747,514,354,644,636,192,828,933,154,227,702,320,157,32,918,264,714,367,2,687,623,182,239,534,653,654,476,514,279,888,197,519,355,824,988,308,511,540,758,91,613,36,29,554,336,515,568,933,251,689,393,540,725,96,258,605,790,608,722,84,133,370,910,34,517,554,353,256,870,530,216,704,941,489,337,721,331,301,541,504,884,556,193,980,571,577,934,897,949,856,723,372,988,122,681,208,61,708,851,777,620,639,204,906,28,235,755,61,126,393,686,68,820,534,999,669,476,361,719,303,254,651,57,241,536,967,543,536,737,12,707,266,358,353,343,492,674,16,47,537,31,151,765,525,938,343,687,576,37,896,919,552,712,579,4,788,984,246,354,102,609,390,418,13,440,433,101,993,332,191,447,219,978,571,88,554,594,317,498,545,611,7,160,474,849,932,284,705,254,240,663,1000,128,3,907,783,812,87,161,729,661,375,24,501,133,388,179,869,857,715,424,372,687,231,234,518,223,142,474,883,776,886,241,969,510,285,184,161,223,558,418,276,309,571,597,630,182,140,763,997,730,359,622,678,781,79,577,163,599,160,930,938,352,511,665,792,517,162,850,908,807,700,24,522,660,9,670,573,32,526,279,115,560,53,639,881,957,156,494,842,442,628,430,172,226,509,226,243,153,861,733,839,797,625,691,86,420,321,102,217,195,645,237,313,758,217,371,903,164,647,57,520,593,550,149,17,702,248,476,196,463,467,963,820,973,270,58,780,240,62,224,841,562,359,637,306,745,822,384,841,224,308,544,430,937,827,830,29,472,807,587,192,874,349,291,680,840,384,314,107,526,286,253,121,638,159,110,883,935,84,552,471,94,926,730,474,229,83,546,534,878,120,922,275,621,320,820,542,31,730,447,574,788,530,70,625,799,789,967,447,431,763,65,871,393,295,700,847,50,956,91,705,835,976,899,478,989,12,50,575,286,117,244,738,339,22,668,273,893,24,572,724,654,817,274,249,421,211,206,854,489,314,770,531,642,353,276,10,510,180,228,877,710,26,913,361,739,733,484,956,428,998,750,15,526,623,580,687,495,304,756,355,922,187,971,470,241,761,226,746,942,400,674,762,468,839,842,231,322,897,982,644,783,719,6,21,628,823,708,387,218,253,309,45,578,377,254,488,305,867,831,531,311,152,501,308,257,305,352,447,821,377,400,684,219,415,506,955,924,897,915,277,472,362,92,977,920,927,597,617,116,824,143,43,347,692,103,918,86,73,751,527,883,983,833,783,974,736,569,982,376,813,464,466,655,728,746,543,650,708,526,633,189,647,466,953,822,122,695,505,175,109,924,46,610,443,348,699,13,386,340,525,471,582,423,298,552,274,463,382,970,663,742,790,177,11,547,917,538,984,598,845,935,85,685,374,870,81,153,454,716,11,41,142,647,339,775,429,168,866,364,99,730,564,39,385,618,411,216,664,11,271,65,282,439,913,937,941,148,580,417,941,671,355,385,301,271,625,683,965,322,578,756,111,168,676,799,112,595,132,148,964,647,885,577,503,720,512,907,918,412,294,19,822,583,466,522,959,332,676,789,776,994,415,143,510,735,940,958,917,113,356,33,408,379,80,772,618,835,543,840,684,467,388,608,569,124,33,247,13,322,387,930,277,724,434,999,134,68,937,441,794,963,674,416,311,882,664,102,949,647,911,288,751,609,581,149,253,926,358,930,583,42,575,279,544,878,782,756,188,605,747,227,783,909,209,97,313,163,858,348,463,143,165,52,860,831,538,605,878,272,385,738,678,895,946,28,518,131,67,18,228,107,680,638,922,802,181,536,8,96,433,659,364,682,912,428,548,641,371,884,71,691,24,585,505,929,321,217,534,855,206,903,1000,303,423,935,645,424,836,311,16,328,853,714,608,684,922,494,723,552,86,135,972,711,160,209,437,851,558,234,593,670,498,942,925,933,140,835,86,910,787,478,710,478,784,93,448,347,930,300,952,987,840,804,570,81,425,33,838,369,88,641,246,614,936,806,944,261,939,79,606,434,706,658,126,597,975,516,955,466,329,491,497,577,631,140,137,137,697,820,490,384,485,936,938,138,328,53,278,209,160,880,225,254,863,444,919,118,772,758,126,931,726,506,376,716,166,280,583,855,617,330,650,716,201,533,171,507,14,362,48,98,584,65,875,975,284,955,164,775,37,420,381,950,97,420,804,965,34,600,193,875,739,392,615,123,524,936,578,164,688,935,788,459,445,98,749,51,703,259,661,787,707,71,333,392,557,230,23,583,603,643,103,737,212,824,849,714,90,734,643,410,895,291,13,824,773,318,781,514,578,705,230,172,758,422,712,488,799,920,325,500,192,821,757,285,130,505,689,651,560,668,710,127,815,50,257,565,509,676,869,156,31,702,948,219,101,678,825,432,120,147,889,185,133,124,205,394,320,294,111,280,473,839,438,420,781,463,799,640,160,209,626,829,227,919,818,217,648,312,636,310,169,336,270,372,266,284,819,751,591,680,932,929,614,678,381,970,497,733,576,450,968,795,230,132,820,123,584,268,578,484,818,923,846,718,102,978,128,898,984,469,116,477,102,492,244,484,129,517,644,191,892,109,268,680,551,327,921,603,770,838,760,547,696,189,793,982,881,805,5,977,851,476,64,592,616,560,28,787,415,569,842,291,319,578,345,869,945,426,359,916,537,353,393,113,807,858,151,981,280,61,208,69,19,785,819,800,429,528,115,855,573,200,147,56,681,97,173,969,387,337,253,102,41,337,353,745,947,193,998,214,251,341,129,126,103,169,864,378,444,322,330,11,709,27,901,417,229,561,165,887,401,159,850,530,648,393,406,955,563,390,940,622,179,277,219,835,347,663,738,702,146,435,68,992,523,680,409,651,424,213,286,313,813,841,366,48,317,150,770,465,552,921,994,461,455,125,739,839,138,687,40,509,710,423,800,610,497,676,736,188,750,16,498,848,403,420,641,798,426,767,230,536,666,383,83,858,28,48,57,503,974,449,695,403,178,492,553,649,720,926,620,785,28,727,606,759,775,117,79,854,618,433,79,45,565,643,123,859,554,344,45,626,653,300,704,347,396,79,833,803,564,996,244,700,83,323,555,210,519,155,536,661,966,371,921,806,241,584,861,557,865,60,997,850,867,944,929,497,706,305,886,517,913,80,382,151,135,214,629,189,527,362,478,600,527,135,69,43,745,45,845,227,303,498,969,18,412,335,397,863,999,248,536,374,579,591,48,367,335,275,167,753,471,705,302,941,292,34,65,705,900,576,401,301,964,197,604,851,70,369,573,188,467,545,229,212,10,234,52,636,887,534,340,932,299,731,521,846,449,409,830,908,835,121,961,158,818,530,205,439,220,164,773,226,201,988,523,164,953,53,471,470,483,213,819,982,17,900,743,567,1,761,815,802,563,827,595,239,410,927,152,778,190,607,79,961,598,398,601,546,644,807,888,224,298,849,484,893,547,783,5,963,936,163,254,111,663,810,420,490,646,461,445,398,934,448,872,856,867,736,780,43,35,750,400,725,992,520,859,772,647,2,17,215,78,429,552,204,455,988,167,951,439,509,378,835,808,39,584,859,447,752,169,774,931,400,250,364,144,611,5,361,979,665,145,892,521,293,519,723,353,78,937,389,797,407,595,732,727,633,702,939,142,809,270,629,171,685,817,265,100,965,789,567,265,251,929,14,696,80,394,252,23,649,174,419,544,832,249,429,32,722,440,383,264,778,1000,885,153,991,158,428,215,626,908,510,62,679,205,177,654,125,565,732,686,954,495,513,41,575,940,722,59,11,866,120,187,554,569,861,567,10,608,696,235,45,825,54,555,587,482,664,41,301,944,146,430,992,107,714,32,725,198,301,788,347,493,41,625,497,486,138,194,14,529,249,437,342,757,461,984,142,432,42,673,386,557,716,761,283,753,994,77,571,116,426,644,572,41,846,16,314,218,292,423,241,442,857,800,677,331,575,58,687,813,69,512,483,311,314,880,354,786,176,332,26,270,193,879,618,740,379,991,995,755,560,794,776,304,323,778,159,975,331,410,446,404,689,38,802,430,549,111,570,520,118,504,469,518,51,613,983,337,253,624,925,255,127,357,829,733,694,272,419,713,475,319,634,3,993,793,714,335,54,453,616,447,614,143,664,396,591,309,985,609,875,426,311,913,266,518,135,316,793,996,909,191,771,255,632,835,95,621,576,130,50,692,859,930,325,695,948,925,769,923,939,11,222,602,357,761,785,673,243,60,4,715,863,690,975,399,262,395,13,750,91,796,682,598,826,696,11,181,876,958,595,644,31,243,680,462,334,274,952,1000,432,671,472,128,166,394,429,181,791,967,522,462,929,318,646,831,559,464,391,395,492,915,889,828,494,858,291,757,725,535,846,927,983,75,573,716,90,312,644,31,166,11,920,936,562,587,603,586,230,222,255,1,289,440,499,399,103,520,850,426,631,525,912,366,455,432,906,447,808,802,386,855,31,4,348,690,965,414,327,260,622,977,794,12,79,338,754,362,882,324,41,464,728,951,473,337,286,363,59,82,496,384,6,635,160,578,160,378,495,333,273,509,651,99,370,412,584,470,334,930,754,873,296,205,828,700,973,329,568,174,154,864,829,116,532,436,826,109,87,420,666,961,956,292,37,992,444,228,68,805,347,487,692,957,810,877,937,415,29,115,618,610,590,859,912,148,152,935,87,867,692,89,391,949,437,473,485,459,110,220,835,797,785,926,684,980,697,737,288,599,510,330,620,170,743,668,854,575,909,700,345,794,309,862,968,587,245,998,452,36,757,172,430,800,959,342,327,837,413,441,838,863,19,173,173,65,951,54,511,906,888,121,581,886,848,773,28,307,282,407,729,960,470,121,476,973,150,855,148,831,19,209,352,638,279,314,147,6,983,565,68,965,979,601,499,50,118,379,133,572,384,153,127,780,841,685,124,608,399,118,740,261,324,83,788,502,69,463,918,82,654,575,216,547,971,407,731,308,845,202,581,536,882,498,284,558,152,119,504,719,963,912,71,997,953,234,660,702,922,809,701,628,536,23,560,728,618,199,548,187,557,52,291,152,194,233,119,792,561,786,695,513,762,733,291,74,911,330,85,498,864,2,978,550,30,434,156,593,378,360,515,719,919,166,120,56,406,189,511,823,681,64,136,610,90,776,52,948,287,895,680,248,956,138,860,322,456,964,450,460,884,566,931,419,605,940,865,74,464,693,947,649,253,781,445,35,427,64,515,604,390,860,205,875,176,741,680,297,560,517,595,805,198,185,670,221,757,858,67,125,703,522,851,597,310,837,385,694,535,20,257,694,530,870,916,614,591,262,261,541,79,822,64,552,695,60,342,371,423,186,952,620,542,478,327,868,575,254,495,545,189,412,72,418,738,30,901,3,107,986,399,206,595,720,298,109,728,284,300,132,31,608,901,913,275,264,163,61,568,610,289,404,322,256,479,797,4,118,18,364,778,609,931,815,833,113,385,422,724,256,817,597,45,685,55,759,31,642,612,669,166,490,765,518,19,218,441,551,642,965,644,907,514,151,483,43,734,130,553,985,189,574,205,780,763,891,113,269,710,982,505,568,386,522,915,43,258,657,501,374,436,578,245,32,751,801,412,31,793,307,723,768,980,413,182,940,266,766,452,868,681,909,297,120,378,692,58,398,12,667,797,580,89,330,998,640,60,816,64,398,141,517,801,565,153,472,196,177,385,590,20,853,62,348,895,533,758,647,981,378,712,671,512,697,523,48,932,509,376,89,341,509,531,457,362,93,236,366,845,11,524,458,240,984,795,136,247,296,847,502,473,356,568,895,628,829,28,295,365,712,97,715,494,540,709,115,701,682,574,771,178,476,521,369,181,592,208,631,301,821,634,432,158,948,136,280,312,792,841,558,133,358,695,313,13,702,802,765,521,945,508,166,921,918,27,822,660,702,672,807,701,854,874,584,253,451,731,834,327,869,886,542,921,730,635,209,946,942,305,357,237,223,709,17,341,425,358,956,695,538,328,614,867,659,909,364,57,377,230,814,298,935,165,190,844,875,939,219,680,299,151,74,149,413,419,123,335,809,608,918,372,518,513,788,345,642,831,334,368,839,729,969,768,791,551,161,867,73,267,537,228,956,750,758,170,791,409,567,851,236,677,681,675,232,496,53,618,639,46,321,887,614,488,165,769,198,739,835,549,626,696,493,431,591,695,276,674,566,137,826,958,163,876,547,908,429,460,436,160,866,168,804,145,552,457,856,383,216,769,414,511,186,899,779,381,368,223,565,313,221,542,639,179,845,450,10,257,5,412,434,123,590,319,56,352,520,293,118,972,434,241,699,887,615,578,947,480,4,147,350,18,176,364,254,459,455,433,260,384,582,881,61,364,740,529,639,53,196,824,582,981,353,805,747,108,352,457,293,307,730,735,262,790,54,913,422,815,287,607,349,524,45,304,955,529,692,437,7,315,59,762,262,374,340,778,111,443,408,976,437,959,909,640,196,668,755,871,306,226,467,908,832,792,74,922,302,245,492,112,375,356,438,21,178,967,985,124,740,532,538,715,683,293,788,318,619,61,410,694,34,290,756,749,513,778,987,998,872,276,668,452,969,290,542,991,474,84,151,318,327,192,759,402,41,582,607,676,896,59,132,584,442,533,339,582,348,300,19,920,511,678,349,326,300,470,398,8,607,40,319,261,893,446,755,474,337,940,577,24,210,382,424,503,374,117,807,573,884,748,53,942,324,939,29,933,345,994,524,259,280,513,271,930,210,195,120,201,979,963,573,345,609,210,791,485,179,813,778,212,353,970,386,327,443,549,250,65,212,113,242,675,209,637,814,404,136,231,295,366,267,700,299,3,736,353,584,991,599,234,412,218,715,908,790,65,86,927,728,184,686,766,912,622,658,730,201,219,711,941,598,126,645,16,63,169,96,649,99,734,120,979,174,175,409,905,869,5,585,654,608,113,555,178,11,514,98,185,435,564,387,127,426,188,400,335,795,293,845,757,682,655,242,354,3,242,406,616,606,867,905,566,355,998,178,649,599,437,164,553,722,484,751,536,995,282,48,613,631,877,960,343,416,669,743,498,816,397,945,412,894,800,878,551,585,495,327,162,872,909,217,880,602,806,891,995,396,775,723,511,795,289,381,177,387,569,135,49,502,113,686,10,596,937,997,745,311,351,589,994,437,550,333,836,424,910,669,133,771,750,635,946,129,625,855,451,420,160,312,779,665,470,458,417,916,873,804,889,398,550,857,374,373,917,793,272,335,44,519,201,955,539,415,5,338,211,599,585,306,862,905,745,590,273,910,620,145,474,412,619,940,523,984,203,55,754,460,265,879,183,554,18,867,168,700,395,670,975,207,234,570,919,68,714,45,272,937,470,957,929,86,421,967,488,776,50,432,259,928,612,646,874,54,210,305,953,233,749,30,695,548,401,157,543,588,291,705,73,968,983,824,605,822,796,8,478,852,575,782,208,292,329,683,569,89,238,457,357,490,601,184,830,872,184,176,928,324,611,741,698,556,491,29,852,286,784,314,298,454,732,108,136,920,888,578,329,764,820,365,296,874,53,788,820,817,730,427,623,237,527,385,520,433,114,187,126,430,306,401,812,398,156,355,617,325,879,146,800,676,238,163,716,218,223,388,997,660,878,432,420,615,154,390,984,380,809,893,16,998,665,808,513,73,329,533,501,408,577,133,304,778,570,505,987,272,274,890,892,783,689,585,115,579,1000,224,325,654,369,283,596,209,80,560,749,391,388,183,825,837,970,345,434,998,359,632,697,880,595,452,950,66,279,420,624,266,649,604,426,385,769,161,474,257,387,782,654,793,276,843,997,989,577,487,824,557,534,820,181,40,504,434,879,815,445,224,763,90,966,815,55,342,254,705,408,442,117,601,279,566,313,549,116,962,180,347,460,613,299,399,626,398,970,241,312,912,317,624,1,119,585,240,878,271,899,947,105,995,322,507,488,551,111,358,69,885,250,409,788,696,91,616,598,90,623,931,87,646,820,764,872,535,480,573,786,849,415,441,145,120,760,844,89,878,498,824,406,809,957,226,711,350,194,822,297,577,820,950,937,743,953,848,788,520,155,834,916,303,559,259,596,355,169,969,418,84,694,183,358,889,550,330,610,998,637,515,779,280,427,93,186,304,41,824,21,477,636,514,991,671,727,23,970,856,203,615,50,158,529,609,655,577,379,413,237,951,862,264,390,141,203,421,987,720,641,286,551,618,151,799,109,192,553,404,28,757,853,668,376,523,275,488,917,743,339,708,472,153,17,607,160,997,163,734,151,177,787,859,426,379,503,721,885,726,625,528,199,65,8,312,532,955,304,755,324,277,903,7,375,671,383,742,77,712,152,812,649,329,5,502,881,517,935,382,619,334,584,23,643,766,56,553,663,205,776,521,992,328,651,295,259,737,164,662,925,537,654,102,962,337,185,818,520,751,583,429,9,886,327,844,671,268,769,93,722,798,351,631,619,623,754,951,584,161,519,155,492,96,665,981,982,635,402,204,487,685,393,553,372,859,355,931,946,670,236,22,885,542,291,352,615,167,744,657,715,23,44,640,423,631,278,611,300,175,769,523,327,780,490,206,927,723,787,698,724,400,531,79,531,813,868,406,157,503,786,375,285,776,301,173,689,740,180,213,773,264,645,364,184,972,180,959,165,673,20,830,976,188,269,626,175,185,497,400,965,971,725,737,183,202,101,621,902,318,857,558,934,317,95,426,281,921,369,128,275,664,796,226,65,421,991,139,745,68,958,867,946,285,627,675,300,841,419,842,692,375,291,751,438,264,752,569,121,252,298,684,967,301,963,58,737,431,435,90,564,744,224,588,334,797,399,445,836,700,703,783,721,928,586,295,639,101,211,733,368,2,199,26,162,987,542,814,125,30,265,544,201,110,772,317,237,415,623,543,864,693,967,302,860,844,226,552,88,28,520,492,842,395,552,12,861,989,174,858,736,686,628,640,507,592,267,259,345,960,223,36,489,996,517,370,673,178,362,779,15,585,926,90,528,760,532,793,270,552,886,375,559,556,665,195,418,643,598,570,55,824,558,241,930,198,32,329,787,626,504,620,745,169,857,398,70,493,215,289,198,361,664,636,997,925,767,650,421,469,396,548,989,667,903,903,56,221,329,229,136,686,859,997,66,894,249,821,831,524,298,372,271,186,434,178,913,787,911,583,603,466,226,106,755,246,211,246,9,506,722,413,833,901,674,525,494,189,5,779,781,223,666,19,261,333,764,336,936,32,41,562,152,497,990,416,116,468,897,148,930,902,468,607,684,843,645,544,120,793,597,830,704,375,450,992,847,402,592,409,74,697,146,486,104,665,339,595,5,8,299,411,168,8,598,10,821,894,309,709,980,923,673,389,504,970,933,624,213,333,204,829,58,921,309,244,91,48,636,632,966,751,446,576,393,686,751,166,529,196,35,484,782,296,462,215,425,160,142,119,759,867,758,691,625,443,195,88,278,456,535,578,301,127,704,590,647,347,329,83,99,815,477,449,567,566,578,898,968,597,209,849,16,969,204,322,317,24,964,678,340,533,870,1000,294,91,765,573,925,430,597,970,753,394,567,455,567,114,776,947,191,397,31,397,885,279,453,666,854,95,964,448,163,197,3,555,694,871,422,403,899,112,667,622,886,524,726,482,313,775,515,908,112,778,108,522,940,757,244,79,37,92,393,543,450,366,846,333,993,725,58,386,608,483,570,878,259,474,75,696,320,518,23,676,49,4,102,655,324,309,168,734,209,249,104,208,62,443,323,978,139,200,168,250,521,178,47,165,509,350,758,586,789,20,560,423,645,673,120,613,766,191,710,29,468,748,133,429,782,91,487,35,671,685,48,223,634,796,909,107,829,97,676,863,852,320,894,945,592,617,905,516,327,587,659,330,803,661,84,639,674,231,508,804,36,448,355,852,395,508,116,188,603,393,404,509,589,866,542,756,940,339,576,983,541,851,748,834,972,154,446,617,568,603,87,394,576,699,70,72,38,105,931,392,553,561,982,741,883,255,836,120,132,75,286,533,724,448,108,244,604,690,499,17,690,314,933,924,597,674,956,733,719,92,414,551,145,378,139,444,956,269,243,604,397,138,560,367,464,332,489,513,952,834,169,949,80,892,50,239,541,290,384,746,790,872,313,228,105,296,711,450,301,425,344,694,117,767,113,693,556,647,90,533,172,866,990,217,306,486,968,82,72,129,697,915,16,420,530,164,253,874,291,642,78,681,775,860,111,762,648,12,542,156,619,290,457,224,845,375,318,403,182,600,814,85,398,700,393,558,952,78,753,70,634,230,687,360,305,848,484,384,728,707,337,238,851,552,394,982,774,39,477,235,470,680,866,789,507,618,304,602,739,752,562,983,938,520,99,635,793,558,806,420,941,680,614,601,427,985,698,720,29,939,801,223,780,880,316,418,614,738,46,221,981,935,704,150,976,824,837,451,401,392,853,785,266,793,21,565,82,480,866,682,12,135,981,756,17,945,486,690,848,969,378,765,397,328,281,115,692,116,472,809,985,34,150,701,238,42,881,289,558,239,794,811,867,224,415,577,631,790,107,52,153,877,279,344,905,482,151,251,362,784,208,631,21,258,623,260,55,222,237,879,418,788,86,477,363,694,455,104,843,284,944,341,86,173,264,865,258,516,418,69,274,148,144,866,365,606,787,852,88,857,906,48,293,361,317,568,8,757,857,628,324,966,774,934,39,926,554,121,732,271,528,404,451,194,181,272,564,194,772,272,945,121,694,395,906,3,441,755,351,993,716,392,723,333,214,906,802,279,773,139,494,361,343,321,242,553,427,32,963,963,748,311,254,594,366,902,42,361,72,250,372,1000,869,4,851,661,422,989,363,163,999,684,876,977,902,905,239,846,534,663,55,428,504,983,784,775,408,803,805,487,9,457,528,272,86,496,692,191,965,752,506,459,68,194,749,245,535,838,937,354,430,121,9,693,491,8,227,901,211,912,907,706,291,933,657,941,190,78,372,730,85,174,164,727,229,361,342,429,347,241,884,689,340,443,424,555,264,420,805,392,391,75,74,752,740,894,210,983,86,614,548,265,455,539,29,233,14,310,499,910,265,609,923,167,26,212,155,277,49,123,470,372,334,510,933,840,968,612,595,555,654,223,492,698,959,359,593,606,162,508,380,284,538,692,983,441,585,3,15,33,709,70,158,995,770,617,589,155,172,978,62,692,35,270,82,811,92,616,393,358,909,581,439,317,497,814,425,794,705,225,548,224,618,512,661,144,54,144,962,207,295,970,309,354,647,428,655,119,971,432,724,297,651,250,569,75,262,280,82,418,510,825,906,534,150,198,63,687,307,452,767,365,934,876,729,570,737,195,150,817,143,30,766,308,101,298,816,642,99,491,566,761,631,299,502,59,918,463,10,344,248,220,388,325,574,339,882,684,198,918,879,404,892,483,347,478,48,681,913,590,526,516,210,961,951,398,964,836,804,182,648,746,768,737,134,432,575,275,188,513,12,749,160,630,784,768,295,371,162,184,526,620,513,991,393,613,336,806,548,869,456,74,281,583,81,226,583,960,664,181,265,818,714,82,976,631,698,66,191,579,909,844,937,539,632,639,308,454,212,533,311,300,699,85,449,609,405,90,21,317,57,674,600,130,631,241,303,672,282,97,93,22,886,544,391,323,221,19,974,209,555,317,568,164,623,439,329,128,937,875,909,479,554,112,150,673,359,418,395,281,845,94,321,125,902,30,757,100,382,936,97,398,376,199,350,152,663,272,626,261,768,533,598,397,492,474,826,738,992,294,965,702,700,431,211,840,193,970,129,455,628,561,697,843,276,1,701,606,397,74,151,118,439,407,190,41,537,514,517,567,561,610,732,479,142,639,22,833,140,864,167,480,790,974,342,808,298,82,38,157,180,513,828,776,150,761,529,249,158,392,100,283,875,480,555,416,703,789,291,521,625,586,469,867,514,838,532,584,52,960,127,259,464,949,12,438,447,799,197,116,242,976,645,79,567,496,330,287,237,579,255,593,378,880,671,505,666,549,689,70,290,356,926,721,848,593,137,420,852,700,969,943,227,347,825,158,875,360,191,31,683,798,545,563,23,507,355,379,132,652,886,830,589,710,907,942,152,222,387,73,511,578,23,161,51,963,707,455,653,412,667,755,763,722,651,909,10,237,971,869,196,517,84,814,947,284,958,643,444,546,810,201,423,820,102,571,385,599,615,458,371,413,190,481,645,116,503,542,923,505,459,522,288,218,267,855,533,892,935,916,175,251,398,147,793,510,516,273,785,736,356,791,508,342,610,27,254,666,440,284,519,252,167,486,490,420,275,908,43,367,552,702,581,79,529,480,863,603,9,470,802,547,301,256,192,6,436,674,294,615,800,265,632,559,74,158,762,62,407,632,644,705,531,467,123,596,74,761,653,178,208,69,65,313,316,14,664,800,819,943,900,638,616,476,553,43,531,260,197,98,18,588,352,254,849,407,23,63,101,497,955,945,674,665,966,61,218,527,603,275,445,192,499,468,956,417,435,713,191,485,947,224,256,650,5,295,392,668,678,886,503,126,263,786,567,6,241,142,748,803,1,489,558,139,580,141,938,686,257,938,143,98,299,585,320,699,636,711,960,538,722,598,684,494,545,527,236,800,533,967,839,541,797,868,800,353,791,606,615,987,384,157,645,253,463,446,648,658,22,932,941,457,325,56,707,676,33,634,426,731,811,778,408,903,502,974,215,964,224,447,439,79,299,975,970,262,392,604,155,555,681,564,491,223,371,726,265,324,562,349,318,697,42,667,346,642,69,994,2,215,447,18,494,729,555,438,619,793,725,885,484,706,168,564,500,797,325,778,710,116,596,392,417,472,274,337,916,765,533,666,553,777,22,374,460,529,2,370,473,607,698,526,939,850,203,403,143,59,976,648,148,456,362,21,789,101,33,653,770,894,184,786,329,784,12,181,740,295,345,596,801,256,802,261,565,861,866,384,614,245,98,711,797,983,791,793,689,854,988,874,717,393,10,938,309,337,837,1,447,48,643,705,456,970,249,72,382,602,524,286,460,982,353,364,270,598,462,318,444,271,725,235,646,67,833,847,412,766,68,509,910,785,863,716,931,534,717,848,299,794,553,475,231,348,113,815,480,313,798,909,807,694,538,167,705,437,810,565,388,49,760,759,174,727,332,165,274,94,690,383,354,824,789,780,784,449,82,596,722,305,906,244,563,536,652,655,156,938,743,733,659,720,61,850,245,814,795,971,594,404,755,228,5,990,771,299,291,324,547,613,174,844,235,586,229,541,965,250,18,550,323,281,912,981,611,283,3,607,738,852,397,347,602,945,262,876,313,359,771,132,225,75,377,460,434,497,386,801,597,783,307,590,286,249,396,370,660,118,948,831,251,661,202,221,540,747,180,107,670,656,119,71,943,925,800,749,418,56,719,284,804,51,524,112,304,5,477,958,626,640,518,878,196,568,150,550,621,999,238,847,467,67,510,151,115,256,293,721,897,522,792,937,131,803,775,279,893,305,893,666,54,162,67,709,637,805,960,36,950,286,550,237,799,484,100,503,413,828,389,198,686,295,934,196,7,955,574,741,927,41,267,805,873,126,156,907,655,804,351,521,557,601,407,885,695,166,521,710,780,324,512,432,909,739,207,116,77,882,786,986,975,646,102,902,493,449,723,250,776,743,355,116,929,360,546,771,612,363,859,185,957,584,856,285,16,298,522,956,175,952,463,759,987,370,982,410,634,529,401,506,327,259,4,171,192,899,561,436,3,47,396,511,922,114,44,466,95,611,336,89,651,438,303,52,956,297,892,61,44,876,178,288,953,731,287,143,364,386,117,951,925,649,412,683,177,888,375,848,415,540,758,515,655,858,944,922,766,96,202,917,161,273,8,946,108,970,620,701,942,577,982,85,425,12,944,749,459,607,402,857,985,631,37,337,24,685,701,246,936,960,540,946,143,483,831,187,587,432,179,481,653,128,826,446,987,5,485,195,991,96,707,870,299,181,673,951,947,1,557,604,285,929,124,974,950,955,302,688,120,94,513,606,188,798,546,762,970,837,44,55,256,771,321,650,729,322,172,463,294,204,410,275,175,644,808,753,833,924,221,509,326,476,190,575,897,147,703,726,773,124,820,599,809,703,731,647,119,187,591,157,408,291,560,534,951,632,651,15,424,192,965,360,491,901,429,24,472,385,471,227,750,76,696,281,428,444,375,808,117,557,235,948,247,522,693,16,655,266,860,901,523,672,121,921,874,674,596,180,235,270,725,409,223,141,515,23,898,127,171,701,762,870,484,585,909,659,809,547,526,601,365,624,119,215,19,221,896,587,838,543,425,941,68,789,6,176,193,220,295,926,380,397,59,491,9,77,729,760,674,706,560,677,303,443,436,881,557,846,534,896,187,904,396,326,532,653,790,587,952,181,409,497,875,922,199,238,822,44,272,959,327,349,373,370,36,548,816,277,893,596,934,3,595,729,599,591,999,780,567,192,215,577,169,401,850,701,271,529,863,562,430,766,762,296,362,450,165,906,28,151,428,154,142,787,223,248,201,664,69,678,358,850,847,283,670,54,842,609,814,154,226,248,103,842,703,281,623,466,552,705,229,856,893,361,730,401,740,278,293,483,331,553,753,489,985,350,696,987,776,585,309,350,545,154,552,851,63,620,535,736,550,906,105,203,551,214,676,525,268,689,261,632,25,337,424,887,957,143,436,173,448,784,699,223,867,206,195,258,474,514,794,825,909,748,43,501,91,152,435,232,732,992,168,103,182,825,80,43,632,569,431,93,231,914,542,858,103,491,817,743,875,353,950,602,234,994,70,103,415,326,417,657,216,851,757,758,613,505,732,721,337,328,206,812,807,384,815,872,976,568,634,615,205,304,904,684,364,205,258,777,196,729,741,291,593,905,914,327,882,988,26,259,711,876,95,429,922,87,390,124,971,79,960,115,203,384,24,182,97,117,924,396,987,787,314,786,651,521,399,574,646,739,650,648,835,330,607,783,969,146,741,278,708,453,781,234,115,9,267,640,76,121,397,766,960,482,395,283,526,667,399,808,254,810,517,546,24,838,93,995,501,55,372,496,854,613,365,638,907,22,493,722,842,305,813,80,914,180,726,197,549,68,96,699,228,678,265,846,223,971,486,680,620,932,401,586,455,166,757,209,942,838,461,867,791,573,479,750,805,805,1,503,866,697,552,876,146,860,272,665,352,898,521,309,213,724,65,959,894,398,8,977,763,517,654,237,888,12,704,552,931,42,304,43,677,527,131,924,497,938,289,31,507,681,363,29,421,224,70,31,183,727,616,138,399,283,900,449,818,259,431,67,446,692,793,161,675,767,96,652,232,99,867,461,603,21,795,34,995,91,922,817,530,318,611,43,96,397,721,275,666,939,252,600,9,744,143,396,196,789,771,870,51,951,309,71,714,976,163,600,957,948,178,539,701,630,720,678,197,141,337,920,225,49,468,730,503,867,595,784,327,3,546,157,314,709,230,507,972,341,245,724,732,120,779,589,403,952,25,322,793,418,188,760,248,988,126,338,983,472,235,353,544,302,221,352,357,667,310,258,403,791,826,637,993,710,749,626,154,533,247,421,935,832,691,456,497,876,633,4,548,268,826,41,839,998,40,814,617,423,965,393,11,37,953,776,103,586,972,347,865,150,353,678,207,698,155,624,110,832,595,796,209,664,446,308,1000,167,495,37,158,938,169,992,400,482,961,913,47,218,180,564,533,533,738,354,144,632,249,832,334,444,140,720,237,135,31,698,869,194,16,272,888,244,743,474,513,900,804,172,281,544,437,420,951,138,19,886,274,207,276,628,845,81,740,477,274,306,691,745,748,109,80,689,741,469]\n",
    "%time jump(nums)"
   ]
  },
  {
   "cell_type": "code",
   "execution_count": null,
   "id": "c3a5bea3",
   "metadata": {},
   "outputs": [],
   "source": [
    "9//2"
   ]
  },
  {
   "cell_type": "markdown",
   "id": "54c23b23",
   "metadata": {},
   "source": [
    "### 20211117<a id='62'></a>\n",
    "<strong>62. Unique Paths</strong>\n",
    "[Quesiton List](#0)\n",
    "\n",
    "A robot is located at the top-left corner of a m x n grid (marked 'Start' in the diagram below).\n",
    "\n",
    "The robot can only move either down or right at any point in time. The robot is trying to reach the bottom-right corner of the grid (marked 'Finish' in the diagram below).\n",
    "\n",
    "How many possible unique paths are there?"
   ]
  },
  {
   "cell_type": "code",
   "execution_count": null,
   "id": "c834a5ed",
   "metadata": {},
   "outputs": [],
   "source": [
    "def uniquePaths(m: int, n: int) -> int:\n",
    "    dp = [[-1]*n for i in range(m)]\n",
    "\n",
    "    def path_to(i,j):\n",
    "        if i == 0 and j == 0:\n",
    "            return 1\n",
    "        if dp[i][j] != -1:\n",
    "            return dp[i][j]\n",
    "        if i == 0 and j != 0:\n",
    "            dp[i][j] = path_to(i,j-1)\n",
    "            return path_to(i,j-1)\n",
    "        elif j==0 and i!=0:\n",
    "            dp[i][j] = path_to(i-1, j)\n",
    "            return path_to(i-1, j)\n",
    "        else:\n",
    "            dp[i][j] = path_to(i-1,j) + path_to(i,j-1)\n",
    "            return path_to(i-1,j) + path_to(i,j-1)\n",
    "\n",
    "    return path_to(m-1,n-1)"
   ]
  },
  {
   "cell_type": "markdown",
   "id": "5c181823",
   "metadata": {},
   "source": [
    "### 20211118<a id='448'></a>\n",
    "<strong>448. Find All Numbers Disappeared in an Array</strong>\n",
    "[Quesiton List](#0)\n",
    "    \n",
    "Given an array nums of n integers where nums[i] is in the range [1, n], return an array of all the integers in the range [1, n] that do not appear in nums."
   ]
  },
  {
   "cell_type": "code",
   "execution_count": null,
   "id": "737a43a4",
   "metadata": {},
   "outputs": [],
   "source": [
    "def findDisappearedNumbers(nums):\n",
    "    ans = list(range(1,len(nums)+1))\n",
    "    for num in nums:\n",
    "        ans[num-1] = 0\n",
    "    i = 0\n",
    "    while i < len(ans):\n",
    "        if ans[i] == 0:\n",
    "            ans.pop(i)\n",
    "        else:\n",
    "            i+=1\n",
    "    return ans"
   ]
  },
  {
   "cell_type": "markdown",
   "id": "23d513c9",
   "metadata": {},
   "source": [
    "### 20211119<a id='461'></a>\n",
    "<strong>461. Hamming Distance</strong>\n",
    "[Quesiton List](#0)\n",
    "    \n",
    "The Hamming distance between two integers is the number of positions at which the corresponding bits are different.\n",
    "\n",
    "Given two integers x and y, return the Hamming distance between them."
   ]
  },
  {
   "cell_type": "code",
   "execution_count": null,
   "id": "416ae70b",
   "metadata": {},
   "outputs": [],
   "source": [
    "def hammingDistance(x, y):\n",
    "    l = bin(x)[2:]\n",
    "    s = bin(y)[2:]\n",
    "    \n",
    "    if len(s) > len(l):\n",
    "        temp = s\n",
    "        s = l\n",
    "        l = temp\n",
    "    \n",
    "    print(l,s)\n",
    "    diff = len(l) - len(s)\n",
    "    ans = 0\n",
    "    for i in range(diff):\n",
    "        if l[i] == '1':\n",
    "            ans += 1\n",
    "\n",
    "    for i in range(len(s)):\n",
    "        if l[i+diff] != s[i]:\n",
    "            ans += 1\n",
    "    \n",
    "    return ans"
   ]
  },
  {
   "cell_type": "code",
   "execution_count": null,
   "id": "1d0e1f20",
   "metadata": {},
   "outputs": [],
   "source": [
    "x = 1\n",
    "y = 4\n",
    "hammingDistance(x, y)"
   ]
  },
  {
   "cell_type": "code",
   "execution_count": null,
   "id": "2aae7809",
   "metadata": {},
   "outputs": [],
   "source": [
    "x = 3\n",
    "y = 1\n",
    "hammingDistance(x, y)"
   ]
  },
  {
   "cell_type": "markdown",
   "id": "d48dd5ed",
   "metadata": {},
   "source": [
    "### 20211121<a id='540'></a>\n",
    "<strong>540. Single Element in a Sorted Array</strong>\n",
    "[Quesiton List](#0)\n",
    "    \n",
    "\n",
    "You are given a sorted array consisting of only integers where every element appears exactly twice, except for one element which appears exactly once.\n",
    "\n",
    "Return the single element that appears only once.\n",
    "\n",
    "Your solution must run in O(log n) time and O(1) space."
   ]
  },
  {
   "cell_type": "code",
   "execution_count": null,
   "id": "c879f44c",
   "metadata": {},
   "outputs": [],
   "source": [
    "def singleNonDuplicate(nums):\n",
    "    l = 0\n",
    "    r = len(nums) - 1\n",
    "    while l < r:\n",
    "        mid = (l + r) // 2\n",
    "        # nums[mid] is the single element\n",
    "        if nums[mid] != nums[mid-1] and nums[mid] != nums[mid+1]: \n",
    "            return nums[mid]\n",
    "        \n",
    "        # mid is even number\n",
    "        if mid % 2 == 0:\n",
    "            if nums[mid] == nums[mid+1]:\n",
    "                l = mid + 2\n",
    "            else:\n",
    "                r = mid - 2\n",
    "                \n",
    "        # mid is odd number\n",
    "        else:\n",
    "            if nums[mid] == nums[mid+1]:\n",
    "                r = mid - 1\n",
    "            else:\n",
    "                l = mid + 1\n",
    "    \n",
    "    return nums[l]    "
   ]
  },
  {
   "cell_type": "code",
   "execution_count": null,
   "id": "d00c528d",
   "metadata": {},
   "outputs": [],
   "source": [
    "def singleNonDuplicate(nums):\n",
    "    l = 0\n",
    "    r = len(nums) - 1\n",
    "    while l < r:\n",
    "        mid = (l + r) // 2\n",
    "        \n",
    "        # mid is even number\n",
    "        if mid % 2 == 0:\n",
    "            if nums[mid] == nums[mid+1]:\n",
    "                l = mid + 2\n",
    "            else:\n",
    "                r = mid\n",
    "                \n",
    "        # mid is odd number\n",
    "        else:\n",
    "            if nums[mid] == nums[mid+1]:\n",
    "                r = mid - 1\n",
    "            else:\n",
    "                l = mid + 1\n",
    "    \n",
    "    return nums[l]    "
   ]
  },
  {
   "cell_type": "code",
   "execution_count": null,
   "id": "509860c5",
   "metadata": {},
   "outputs": [],
   "source": [
    "nums = [1,1,2,3,3,4,4,8,8]\n",
    "singleNonDuplicate(nums)"
   ]
  },
  {
   "cell_type": "code",
   "execution_count": null,
   "id": "118a1227",
   "metadata": {},
   "outputs": [],
   "source": [
    "nums = [3,3,7,7,10,11,11]\n",
    "singleNonDuplicate(nums)"
   ]
  },
  {
   "cell_type": "code",
   "execution_count": null,
   "id": "68b83739",
   "metadata": {},
   "outputs": [],
   "source": [
    "nums = [3]\n",
    "singleNonDuplicate(nums)"
   ]
  },
  {
   "cell_type": "markdown",
   "id": "17c9db8c",
   "metadata": {},
   "source": [
    "### 20211124<a id='450'></a>\n",
    "<strong>450. Delete Node in a BST</strong>\n",
    "[Quesiton List](#0)\n",
    "    \n",
    "Given a root node reference of a BST and a key, delete the node with the given key in the BST. Return the root node reference (possibly updated) of the BST.\n",
    "\n",
    "Basically, the deletion can be divided into two stages:\n",
    "\n",
    "- Search for a node to remove.\n",
    "- If the node is found, delete the node."
   ]
  },
  {
   "cell_type": "code",
   "execution_count": null,
   "id": "7e68c702",
   "metadata": {},
   "outputs": [],
   "source": [
    "# Definition for a binary tree node.\n",
    "class TreeNode:\n",
    "    def __init__(self, val=0, left=None, right=None):\n",
    "        self.val = val\n",
    "        self.left = left\n",
    "        self.right = right"
   ]
  },
  {
   "cell_type": "code",
   "execution_count": null,
   "id": "ea798a08",
   "metadata": {},
   "outputs": [],
   "source": [
    "## doesnt work\n",
    "# find the key in the BST\n",
    "# construct a new tree from the subtree of the deleted node\n",
    "# moving all left child up one (or right child up one)\n",
    "def deleteNode(root, key: int):\n",
    "    key_node = root\n",
    "    key_node_prev = key_node\n",
    "    prev_lr = ''\n",
    "    find = False\n",
    "    # travese BST to find the treeNode with key\n",
    "    while key_node is not None:\n",
    "        if key_node.val == key:\n",
    "            find = True\n",
    "            break\n",
    "        elif key_node.val > key:\n",
    "            key_node_prev = key_node\n",
    "            prev_lr = 'left'\n",
    "            key_node = key_node.left\n",
    "        else:\n",
    "            key_node_prev = key_node\n",
    "            prev_lr = 'right'\n",
    "            key_node = key_node.right\n",
    "    \n",
    "    # if not find return\n",
    "    if not find:\n",
    "        return root\n",
    "    \n",
    "    # if one subtree is empty, move the non-empty subtree up\n",
    "    if key_node.left is None:\n",
    "        if prev_lr == 'left':\n",
    "            key_node_prev.left = key_node.right\n",
    "        if prev_lr == 'right':\n",
    "            key_node_prev.right = key_node.right\n",
    "        return root\n",
    "    \n",
    "    if key_node.right is None:\n",
    "        if prev_lr == 'left':\n",
    "            key_node_prev.left = key_node.left\n",
    "        if prev_lr == 'right':\n",
    "            key_node_prev.right = key_node.left\n",
    "    \n",
    "    # if both subtree are not empty\n",
    "    # traverse down left tree and move all left node.val up and delete the last left node\n",
    "    cur = key_node\n",
    "    prev = key_node\n",
    "    while cur.left is not None:\n",
    "        cur.val = cur.left.val\n",
    "        prev = cur\n",
    "        cur = cur.left\n",
    "    prev.left = cur.right\n",
    "    \n",
    "    return root"
   ]
  },
  {
   "cell_type": "code",
   "execution_count": null,
   "id": "21bf8a0a",
   "metadata": {},
   "outputs": [],
   "source": [
    "def deleteNode(root, key: int):\n",
    "    key_node = root\n",
    "    key_node_prev = key_node\n",
    "    prev_lr = ''\n",
    "    find = False\n",
    "    # travese BST to find the treeNode with key\n",
    "    while key_node is not None:\n",
    "        if key_node.val == key:\n",
    "            find = True\n",
    "            break\n",
    "        elif key_node.val > key:\n",
    "            key_node_prev = key_node\n",
    "            prev_lr = 'left'\n",
    "            key_node = key_node.left\n",
    "        else:\n",
    "            key_node_prev = key_node\n",
    "            prev_lr = 'right'\n",
    "            key_node = key_node.right\n",
    "    \n",
    "    # if not find return\n",
    "    if not find:\n",
    "        return root\n",
    "    \n",
    "    # no child, delete\n",
    "    if key_node.left is None and key_node.right is None:\n",
    "        if key_node != root:\n",
    "            if prev_lr == 'left':\n",
    "                key_node_prev.left = None\n",
    "            else:\n",
    "                key_node_prev.right = None\n",
    "        else:\n",
    "            root = None\n",
    "    # one child, replace\n",
    "    elif key_node.left is None:\n",
    "        if key_node != root:\n",
    "            if prev_lr == 'left':\n",
    "                key_node_prev.left = key_node.right\n",
    "            else:\n",
    "                key_node_prev.right = key_node.right\n",
    "        else:\n",
    "            root = key_node.right\n",
    "    elif key_node.right is None:\n",
    "        if key_node != root:\n",
    "            if prev_lr == 'left':\n",
    "                key_node_prev.left = key_node.left\n",
    "            else:\n",
    "                key_node_prev.right = key_node.left\n",
    "        else:\n",
    "            root = key_node.left\n",
    "            \n",
    "    # two children, find inorder successor node\n",
    "    else:\n",
    "        cur = key_node.left\n",
    "        while cur.right is not None:\n",
    "            cur = cur.right\n",
    "        temp = cur.val\n",
    "        deleteNode(root, temp)\n",
    "        key_node.val = temp\n",
    "    \n",
    "    return root"
   ]
  },
  {
   "cell_type": "code",
   "execution_count": null,
   "id": "9a7929b3",
   "metadata": {},
   "outputs": [],
   "source": [
    "def deleteNode(root, key: int):\n",
    "    if root is not None:\n",
    "        if key > root.val:\n",
    "            root.right = deleteNode(root.right, key)\n",
    "        elif key < root.val:\n",
    "            root.left = deleteNode(root.left, key)\n",
    "        else:\n",
    "            # no child\n",
    "            if root.left is None and root.right is None:\n",
    "                return None\n",
    "            # one child\n",
    "            if root.left is None or root.right is None:\n",
    "                if root.left is None:\n",
    "                    return root.right\n",
    "                else:\n",
    "                    return root.left\n",
    "            # two children\n",
    "            else:\n",
    "                less_than_key = root.left\n",
    "                while less_than_key.right is not None:\n",
    "                    less_than_key = less_than_key.right\n",
    "                root.val = less_than_key.val\n",
    "                root.left = deleteNode(root.left, less_than_key.val)\n",
    "    return root"
   ]
  },
  {
   "cell_type": "code",
   "execution_count": null,
   "id": "cecbc829",
   "metadata": {},
   "outputs": [],
   "source": [
    "root = TreeNode(0)\n",
    "key = 0\n",
    "deleteNode(root, key)\n",
    "treeviz(root)"
   ]
  },
  {
   "cell_type": "code",
   "execution_count": null,
   "id": "a22c7492",
   "metadata": {},
   "outputs": [],
   "source": [
    "root = TreeNode(1)\n",
    "root.right = TreeNode(2)\n",
    "key = 1\n",
    "deleteNode(root, key)\n",
    "treeviz(root)"
   ]
  },
  {
   "cell_type": "code",
   "execution_count": null,
   "id": "fa52d476",
   "metadata": {},
   "outputs": [],
   "source": [
    "root = TreeNode(5)\n",
    "root.left = TreeNode(3)\n",
    "root.right = TreeNode(6)\n",
    "root.left.left = TreeNode(2)\n",
    "root.left.right = TreeNode(4)\n",
    "root.right.right = TreeNode(7)\n",
    "treeviz(root)\n",
    "key = 3\n",
    "deleteNode(root, key)\n",
    "treeviz(root)"
   ]
  },
  {
   "cell_type": "code",
   "execution_count": null,
   "id": "3589f26b",
   "metadata": {},
   "outputs": [],
   "source": [
    "root = TreeNode(5)\n",
    "root.left = TreeNode(3)\n",
    "root.right = TreeNode(6)\n",
    "root.left.left = TreeNode(2)\n",
    "root.left.right = TreeNode(4)\n",
    "root.right.right = TreeNode(7)\n",
    "printtree(root)\n",
    "print()\n",
    "key = 5\n",
    "deleteNode(root, key)\n",
    "treeviz(root)"
   ]
  },
  {
   "cell_type": "code",
   "execution_count": null,
   "id": "1108bb5c",
   "metadata": {},
   "outputs": [],
   "source": [
    "root = TreeNode(5)\n",
    "root.left = TreeNode(3)\n",
    "root.right = TreeNode(6)\n",
    "root.left.left = TreeNode(2)\n",
    "root.left.left.left = TreeNode(1)\n",
    "root.left.left.right = TreeNode(2.5)\n",
    "root.left.left.left.left = TreeNode(-1)\n",
    "root.left.left.left.right = TreeNode(1.5)\n",
    "root.left.right = TreeNode(4)\n",
    "root.left.right.left = TreeNode(3.5)\n",
    "root.left.right.right = TreeNode(4.5)\n",
    "root.right.right = TreeNode(7)\n",
    "treeviz(root)"
   ]
  },
  {
   "cell_type": "code",
   "execution_count": null,
   "id": "911080f6",
   "metadata": {},
   "outputs": [],
   "source": [
    "key = 3\n",
    "deleteNode(root, key)\n",
    "treeviz(root)"
   ]
  },
  {
   "cell_type": "markdown",
   "id": "73bb7f26",
   "metadata": {},
   "source": [
    "### 20211129<a id='986'></a>\n",
    "<strong>986. Interval List Intersections</strong>\n",
    "[Quesiton List](#0)\n",
    "    \n",
    "You are given two lists of closed intervals, firstList and secondList, where firstList[i] = [starti, endi] and secondList[j] = [startj, endj]. Each list of intervals is pairwise disjoint and in sorted order.\n",
    "\n",
    "Return the intersection of these two interval lists.\n",
    "\n",
    "A closed interval [a, b] (with a <= b) denotes the set of real numbers x with a <= x <= b.\n",
    "\n",
    "The intersection of two closed intervals is a set of real numbers that are either empty or represented as a closed interval. For example, the intersection of [1, 3] and [2, 4] is [2, 3]."
   ]
  },
  {
   "cell_type": "code",
   "execution_count": null,
   "id": "0f01e418",
   "metadata": {},
   "outputs": [],
   "source": [
    "def intervalIntersection(firstList, secondList):\n",
    "    m = len(firstList)\n",
    "    n = len(secondList)\n",
    "    if m * n == 0:\n",
    "        return []\n",
    "    \n",
    "    ans = []\n",
    "    i = 0\n",
    "    j = 0\n",
    "    while i < m and j < n:\n",
    "        # two interval doesnt match at all\n",
    "        if firstList[i][1] < secondList[j][0]:\n",
    "            i += 1\n",
    "        elif firstList[i][0] > secondList[j][1]:\n",
    "            j += 1\n",
    "        \n",
    "        # one cover the other\n",
    "        elif firstList[i][0] >= secondList[j][0] and firstList[i][1] <= secondList[j][1]:\n",
    "            ans.append([firstList[i][0], firstList[i][1]])\n",
    "            i += 1\n",
    "        elif secondList[j][0] >= firstList[i][0] and secondList[j][1] <= firstList[i][1]:\n",
    "            ans.append([secondList[j][0], secondList[j][1]])\n",
    "            j += 1\n",
    "        \n",
    "        # two intervals has intersection\n",
    "        elif firstList[i][1] >= secondList[j][0] and firstList[i][1] <= secondList[j][1]:\n",
    "            ans.append([secondList[j][0], firstList[i][1]])\n",
    "            i += 1\n",
    "        elif secondList[j][1] >= firstList[i][0] and secondList[j][1] <= firstList[i][1]:\n",
    "            ans.append([firstList[i][0], secondList[j][1]])\n",
    "            j += 1\n",
    "\n",
    "    return ans"
   ]
  },
  {
   "cell_type": "code",
   "execution_count": null,
   "id": "36758a94",
   "metadata": {},
   "outputs": [],
   "source": [
    "def intervalIntersection(firstList, secondList):\n",
    "    ans = []\n",
    "    i = 0\n",
    "    j = 0\n",
    "    while i < len(firstList) and j < len(secondList):\n",
    "        low = max(firstList[i][0], secondList[j][0])\n",
    "        high = min(firstList[i][1], secondList[j][1])\n",
    "        \n",
    "        # two intervals overlap, get answer\n",
    "        if low <= high:\n",
    "            ans.append([low, high])\n",
    "        \n",
    "        if firstList[i][1] <= secondList[j][1]:\n",
    "            i += 1\n",
    "        else:\n",
    "            j += 1\n",
    "    \n",
    "    return ans    "
   ]
  },
  {
   "cell_type": "code",
   "execution_count": null,
   "id": "fb03d9b7",
   "metadata": {},
   "outputs": [],
   "source": [
    "firstList = [[0,2],[5,10],[13,23],[24,25]]\n",
    "secondList = [[1,5],[8,12],[15,24],[25,26]]\n",
    "intervalIntersection(firstList, secondList)"
   ]
  },
  {
   "cell_type": "code",
   "execution_count": null,
   "id": "ecd83b8d",
   "metadata": {},
   "outputs": [],
   "source": [
    "firstList = [[1,3],[5,9]]\n",
    "secondList = []\n",
    "intervalIntersection(firstList, secondList)"
   ]
  },
  {
   "cell_type": "code",
   "execution_count": null,
   "id": "8dc8a497",
   "metadata": {},
   "outputs": [],
   "source": [
    "firstList = [[1,7]]\n",
    "secondList = [[3,10]]\n",
    "intervalIntersection(firstList, secondList)"
   ]
  },
  {
   "cell_type": "markdown",
   "id": "0ad63cba",
   "metadata": {},
   "source": [
    "### 20211129<a id='721'></a>\n",
    "<strong>721. Accounts Merge</strong>\n",
    "[Quesiton List](#0)\n",
    "    \n",
    "Given a list of accounts where each element accounts[i] is a list of strings, where the first element accounts[i][0] is a name, and the rest of the elements are emails representing emails of the account.\n",
    "\n",
    "Now, we would like to merge these accounts. Two accounts definitely belong to the same person if there is some common email to both accounts. Note that even if two accounts have the same name, they may belong to different people as people could have the same name. A person can have any number of accounts initially, but all of their accounts definitely have the same name.\n",
    "\n",
    "After merging the accounts, return the accounts in the following format: the first element of each account is the name, and the rest of the elements are emails in sorted order. The accounts themselves can be returned in any order."
   ]
  },
  {
   "cell_type": "code",
   "execution_count": null,
   "id": "88d4f376",
   "metadata": {},
   "outputs": [],
   "source": [
    "## has flaw\n",
    "# having an email lookup dict to keet track where to add the email\n",
    "# having a list of set to add all the email occurs and keep the index as the corresponding person\n",
    "def accountsMerge(accounts):\n",
    "    lookup = {}\n",
    "    emails = [set()] * len(accounts)\n",
    "    for i, account in enumerate(accounts):\n",
    "        email_to_add = []\n",
    "        same = -1\n",
    "        email_list = account[1:]\n",
    "        for email in email_list:\n",
    "            # the email occurs before\n",
    "            if email in lookup:\n",
    "                same = lookup[email]\n",
    "                continue\n",
    "            email_to_add.append(email)\n",
    "        \n",
    "        if same == -1:\n",
    "            index = i\n",
    "        else:\n",
    "            index = same\n",
    "        print(index,email_to_add)\n",
    "        emails[index] = emails[index].union(set(email_to_add))\n",
    "        for email in email_to_add:\n",
    "            lookup[email] = index\n",
    "            \n",
    "    ans = []\n",
    "    for idx, email in enumerate(emails):\n",
    "        if len(email) != 0:\n",
    "            ans.append([accounts[idx][0]] + list(sorted(email)))\n",
    "    \n",
    "    return ans"
   ]
  },
  {
   "cell_type": "code",
   "execution_count": null,
   "id": "774bbdee",
   "metadata": {},
   "outputs": [],
   "source": [
    "accounts = [[\"John\",\"johnsmith@mail.com\",\"john_newyork@mail.com\"],[\"John\",\"johnsmith@mail.com\",\"john00@mail.com\"],[\"Mary\",\"mary@mail.com\"],[\"John\",\"johnnybravo@mail.com\"]]\n",
    "accountsMerge(accounts)"
   ]
  },
  {
   "cell_type": "code",
   "execution_count": null,
   "id": "ce00e75f",
   "metadata": {},
   "outputs": [],
   "source": [
    "accounts = [[\"Gabe\",\"Gabe0@m.co\",\"Gabe3@m.co\",\"Gabe1@m.co\"],[\"Kevin\",\"Kevin3@m.co\",\"Kevin5@m.co\",\"Kevin0@m.co\"],[\"Ethan\",\"Ethan5@m.co\",\"Ethan4@m.co\",\"Ethan0@m.co\"],[\"Hanzo\",\"Hanzo3@m.co\",\"Hanzo1@m.co\",\"Hanzo0@m.co\"],[\"Fern\",\"Fern5@m.co\",\"Fern1@m.co\",\"Fern0@m.co\"]]\n",
    "accountsMerge(accounts)"
   ]
  },
  {
   "cell_type": "code",
   "execution_count": null,
   "id": "f2c7386c",
   "metadata": {},
   "outputs": [],
   "source": [
    "accounts = [[\"David\",\"David0@m.co\",\"David1@m.co\"],[\"David\",\"David3@m.co\",\"David4@m.co\"],[\"David\",\"David4@m.co\",\"David5@m.co\"],[\"David\",\"David2@m.co\",\"David3@m.co\"],[\"David\",\"David1@m.co\",\"David2@m.co\"]]\n",
    "accountsMerge(accounts)"
   ]
  },
  {
   "cell_type": "markdown",
   "id": "f4ff0ed5",
   "metadata": {},
   "source": [
    "### 20211201<a id='198'></a>\n",
    "<strong>198. House Robber</strong>\n",
    "[Quesiton List](#0)\n",
    "\n",
    "You are a professional robber planning to rob houses along a street. Each house has a certain amount of money stashed, the only constraint stopping you from robbing each of them is that adjacent houses have security systems connected and it will automatically contact the police if two adjacent houses were broken into on the same night.\n",
    "\n",
    "Given an integer array nums representing the amount of money of each house, return the maximum amount of money you can rob tonight without alerting the police.\n",
    "\n"
   ]
  },
  {
   "cell_type": "code",
   "execution_count": null,
   "id": "038bc8d6",
   "metadata": {},
   "outputs": [],
   "source": [
    "#have to it forward, not backward\n",
    "#otherwise, it will skip point\n",
    "def rob(nums):     \n",
    "    if len(nums) == 1:\n",
    "        return nums[0]\n",
    "    if len(nums) == 2:\n",
    "        return max(nums[0], nums[1])\n",
    "    max_money = [nums[0], nums[1], nums[0] + nums[2]]\n",
    "\n",
    "    for i in range(3, len(nums)):\n",
    "        money = max(max_money[i-2],max_money[i-3]) + nums[i]\n",
    "        max_money.append(money)\n",
    "\n",
    "    return max(max_money)"
   ]
  },
  {
   "cell_type": "code",
   "execution_count": null,
   "id": "82755e84",
   "metadata": {},
   "outputs": [],
   "source": [
    "# def rob(nums):\n",
    "#     if len(nums) == 1:\n",
    "#         return nums[0]\n",
    "#     if len(nums) == 2:\n",
    "#         return max(nums[0], nums[1])\n",
    "\n",
    "#     max_money = [nums[i] for i in range(2)]\n",
    "#     max_money.append(nums[0] + nums[2])\n",
    "\n",
    "#     def dp(n):\n",
    "#         print(n, max_money)\n",
    "#         if n < len(max_money):\n",
    "#             return max_money[n]\n",
    "#         else:\n",
    "#             money = max(dp(n-2), dp(n-3)) + nums[n]\n",
    "#             print(n,money)\n",
    "#             max_money.append(money)\n",
    "#             return money\n",
    "    \n",
    "#     n = len(nums)\n",
    "#     dp(n - 1)\n",
    "#     print(max_money)\n",
    "#     return max(max_money)\n",
    "        "
   ]
  },
  {
   "cell_type": "code",
   "execution_count": null,
   "id": "89e9f44e",
   "metadata": {},
   "outputs": [],
   "source": [
    "nums = [1,2,3,1]\n",
    "rob(nums)"
   ]
  },
  {
   "cell_type": "code",
   "execution_count": null,
   "id": "e3e05430",
   "metadata": {},
   "outputs": [],
   "source": [
    "nums = [2,7,9,3,1]\n",
    "rob(nums)"
   ]
  },
  {
   "cell_type": "code",
   "execution_count": null,
   "id": "d9d025be",
   "metadata": {},
   "outputs": [],
   "source": [
    "nums = [4,1,2,7,5,3,1]\n",
    "rob(nums)"
   ]
  },
  {
   "cell_type": "markdown",
   "id": "a2ee3432",
   "metadata": {},
   "source": [
    "### 20211201<a id='704'></a>\n",
    "<strong>704. Binary Search</strong>\n",
    "[Quesiton List](#0)\n",
    "\n",
    "Given an array of integers nums which is sorted in ascending order, and an integer target, write a function to search target in nums. If target exists, then return its index. Otherwise, return -1.\n",
    "\n",
    "You must write an algorithm with O(log n) runtime complexity."
   ]
  },
  {
   "cell_type": "code",
   "execution_count": null,
   "id": "09dc3c31",
   "metadata": {},
   "outputs": [],
   "source": [
    "def search(nums, target):\n",
    "    l = 0\n",
    "    r = len(nums) - 1\n",
    "    while l <= r:\n",
    "        mid = (l+r)//2\n",
    "        if nums[mid] == target:\n",
    "            return mid\n",
    "        elif nums[mid] > target:\n",
    "            r = mid - 1\n",
    "        else:\n",
    "            l = mid + 1\n",
    "    return -1"
   ]
  },
  {
   "cell_type": "code",
   "execution_count": null,
   "id": "3240d566",
   "metadata": {},
   "outputs": [],
   "source": [
    "nums = [-1,0,3,5,9,12]\n",
    "target = 9\n",
    "search(nums, target)"
   ]
  },
  {
   "cell_type": "code",
   "execution_count": null,
   "id": "08cee412",
   "metadata": {},
   "outputs": [],
   "source": [
    "nums = [-1,0,3,5,9,12]\n",
    "target = 2\n",
    "search(nums, target)"
   ]
  },
  {
   "cell_type": "markdown",
   "id": "e23dc3a0",
   "metadata": {},
   "source": [
    "### 20211202<a id='328'></a>\n",
    "<strong>328. Odd Even Linked List</strong>\n",
    "[Quesiton List](#0)\n",
    "\n",
    "Given the head of a singly linked list, group all the nodes with odd indices together followed by the nodes with even indices, and return the reordered list.\n",
    "\n",
    "The first node is considered odd, and the second node is even, and so on.\n",
    "\n",
    "Note that the relative order inside both the even and odd groups should remain as it was in the input.\n",
    "\n",
    "You must solve the problem in O(1) extra space complexity and O(n) time complexity.\n",
    "\n"
   ]
  },
  {
   "cell_type": "code",
   "execution_count": null,
   "id": "92e4dd23",
   "metadata": {},
   "outputs": [],
   "source": [
    "# Definition for singly-linked list.\n",
    "class ListNode:\n",
    "    def __init__(self, val=0, next=None):\n",
    "        self.val = val\n",
    "        self.next = next"
   ]
  },
  {
   "cell_type": "code",
   "execution_count": null,
   "id": "dd8c9b11",
   "metadata": {},
   "outputs": [],
   "source": [
    "def oddEvenList(head):\n",
    "    odd = ListNode()\n",
    "    even = ListNode()\n",
    "    pointer = head\n",
    "    o_pointer = odd\n",
    "    e_pointer = even\n",
    "    num = 1\n",
    "    \n",
    "    while pointer is not None:\n",
    "        if num%2 == 0:\n",
    "            e_pointer.next = pointer\n",
    "            e_pointer = e_pointer.next\n",
    "        else:\n",
    "            o_pointer.next = pointer\n",
    "            o_pointer = o_pointer.next\n",
    "        pointer = pointer.next\n",
    "        num += 1\n",
    "    if num % 2 == 0:\n",
    "        e_pointer.next = None\n",
    "    o_pointer.next = even.next\n",
    "    return odd.next"
   ]
  },
  {
   "cell_type": "code",
   "execution_count": null,
   "id": "4a2ffe94",
   "metadata": {},
   "outputs": [],
   "source": [
    "#code is easier, because is to do odd and even node in one iteration\n",
    "def oddEvenList(head):\n",
    "    if head is None:\n",
    "        return head\n",
    "    \n",
    "    even_head = head.next\n",
    "    odd = head\n",
    "    even = even_head\n",
    "    while even is not None and even.next is not None:\n",
    "        odd.next = even.next\n",
    "        odd = odd.next\n",
    "        even.next = odd.next\n",
    "        even = even.next\n",
    "    odd.next = even_head\n",
    "    return head"
   ]
  },
  {
   "cell_type": "code",
   "execution_count": null,
   "id": "7735dbf4",
   "metadata": {},
   "outputs": [],
   "source": [
    "head = convert_list2nodes([1,2,3,4,5])\n",
    "printlistnode(head)\n",
    "print('--------------')\n",
    "printlistnode(oddEvenList(head))"
   ]
  },
  {
   "cell_type": "code",
   "execution_count": null,
   "id": "f5ebc606",
   "metadata": {},
   "outputs": [],
   "source": [
    "head = convert_list2nodes([2,1,3,5,6,4,7])\n",
    "printlistnode(head)\n",
    "print('--------------')\n",
    "printlistnode(oddEvenList(head))"
   ]
  },
  {
   "cell_type": "markdown",
   "id": "063c7fda",
   "metadata": {},
   "source": [
    "### 20211202<a id='278'></a>\n",
    "<strong>278. First Bad Version</strong>\n",
    "[Quesiton List](#0)"
   ]
  },
  {
   "cell_type": "code",
   "execution_count": null,
   "id": "481ede15",
   "metadata": {},
   "outputs": [],
   "source": [
    "def firstBadVersion(self, n):\n",
    "    \"\"\"\n",
    "    :type n: int\n",
    "    :rtype: int\n",
    "    \"\"\"\n",
    "\n",
    "    l = 1\n",
    "    r = n\n",
    "    first = n\n",
    "\n",
    "    while l <= r:\n",
    "        m = (l+r)//2\n",
    "        if isBadVersion(m):\n",
    "            first = m\n",
    "            r = m - 1\n",
    "        else:\n",
    "            l = m + 1\n",
    "\n",
    "    return first"
   ]
  },
  {
   "cell_type": "markdown",
   "id": "382def9a",
   "metadata": {},
   "source": [
    "### 20211203<a id='152'></a>\n",
    "<strong>152. Maximum Product Subarray</strong>\n",
    "[Quesiton List](#0)\n",
    "\n",
    "Given an integer array nums, find a contiguous non-empty subarray within the array that has the largest product, and return the product.\n",
    "\n",
    "It is guaranteed that the answer will fit in a 32-bit integer.\n",
    "\n",
    "A subarray is a contiguous subsequence of the array."
   ]
  },
  {
   "cell_type": "code",
   "execution_count": null,
   "id": "b5543606",
   "metadata": {},
   "outputs": [],
   "source": [
    "#two passes left to right and right to left\n",
    "#space capcity is bad\n",
    "def maxProduct(nums):\n",
    "    n = len(nums)\n",
    "    if n == 1:\n",
    "        return nums[0]\n",
    "    \n",
    "    dp1 = [nums[0]]\n",
    "    for i in range(1,n):\n",
    "        if dp1[i-1] == 0:\n",
    "            dp1.append(nums[i])\n",
    "        else:\n",
    "            dp1.append(dp1[i-1]*nums[i])\n",
    "    \n",
    "    dp2 = [nums[-1]]\n",
    "    for j in range(1,n):\n",
    "        if dp2[j-1] == 0:\n",
    "            dp2.append(nums[n-1-j])\n",
    "        else:\n",
    "            dp2.append(dp2[j-1]*nums[n-1-j])\n",
    "    \n",
    "    ans = max(max(dp1),max(dp2))\n",
    "    \n",
    "    if ans < -2147483648:\n",
    "        ans = -2147483648\n",
    "    if ans > 2147483647:\n",
    "        ans = 2147483647\n",
    "    \n",
    "    return ans"
   ]
  },
  {
   "cell_type": "code",
   "execution_count": null,
   "id": "cd56ad3b",
   "metadata": {},
   "outputs": [],
   "source": [
    "#improved two passes algo\n",
    "def maxProduct(nums):\n",
    "    n = len(nums)\n",
    "    ans = nums[0]\n",
    "    cur = 1\n",
    "    for i in range(0,n):\n",
    "        cur *= nums[i]\n",
    "        ans = max(cur, ans)\n",
    "        if cur == 0:\n",
    "            cur = 1\n",
    "            \n",
    "    cur = 1\n",
    "    for j in range(n-1,-1,-1):\n",
    "        cur *= nums[j]\n",
    "        ans = max(cur, ans)\n",
    "        if cur == 0:\n",
    "            cur = 1\n",
    "    \n",
    "    if ans < -2147483648:\n",
    "        ans = -2147483648\n",
    "    if ans > 2147483647:\n",
    "        ans = 2147483647\n",
    "    \n",
    "    return ans"
   ]
  },
  {
   "cell_type": "code",
   "execution_count": null,
   "id": "f71f29a8",
   "metadata": {},
   "outputs": [],
   "source": [
    "#modified Kadane's algorithm to track both min and max\n",
    "#go through the list\n",
    "#track, global max, and max & min from the previous iter\n",
    "#use num[cur] multiple prev max and min to find cur max and min\n",
    "#update global max, prev max, prev min\n",
    "#return lobal max\n",
    "def maxProduct(nums):\n",
    "    max_prev = nums[0]\n",
    "    min_prev = nums[0]\n",
    "    ans = nums[0]\n",
    "    for num in nums[1:]:\n",
    "        max_cur = max(max(max_prev*num, min_prev*num), num)\n",
    "        min_cur = min(min(max_prev*num, min_prev*num), num)\n",
    "        max_prev = max_cur\n",
    "        min_prev = min_cur\n",
    "        ans = max(max_cur, ans)\n",
    "    return ans"
   ]
  },
  {
   "cell_type": "code",
   "execution_count": null,
   "id": "158f783e",
   "metadata": {},
   "outputs": [],
   "source": [
    "nums = [2,3,-2,4]\n",
    "maxProduct(nums)"
   ]
  },
  {
   "cell_type": "code",
   "execution_count": null,
   "id": "acc5225c",
   "metadata": {},
   "outputs": [],
   "source": [
    "nums = [-2,0,-1]\n",
    "maxProduct(nums)"
   ]
  },
  {
   "cell_type": "code",
   "execution_count": null,
   "id": "8ca60e8d",
   "metadata": {},
   "outputs": [],
   "source": [
    "nums = [3,-1,4]\n",
    "maxProduct(nums)"
   ]
  },
  {
   "cell_type": "markdown",
   "id": "a93ee7e8",
   "metadata": {},
   "source": [
    "### 20211206<a id='337'></a>\n",
    "<strong>337. House Robber III</strong>\n",
    "[Quesiton List](#0)\n",
    "\n",
    "The thief has found himself a new place for his thievery again. There is only one entrance to this area, called root.\n",
    "\n",
    "Besides the root, each house has one and only one parent house. After a tour, the smart thief realized that all houses in this place form a binary tree. It will automatically contact the police if two directly-linked houses were broken into on the same night.\n",
    "\n",
    "Given the root of the binary tree, return the maximum amount of money the thief can rob without alerting the police.\n",
    "\n"
   ]
  },
  {
   "cell_type": "code",
   "execution_count": null,
   "id": "76e79879",
   "metadata": {},
   "outputs": [],
   "source": [
    "class TreeNode:\n",
    "    def __init__(self, val=0, left=None, right=None):\n",
    "        self.val = val\n",
    "        self.left = left\n",
    "        self.right = right"
   ]
  },
  {
   "cell_type": "code",
   "execution_count": null,
   "id": "5f13ea8f",
   "metadata": {},
   "outputs": [],
   "source": [
    "# dfs have each node store (value_take_from_cur, value_not_take_from_cur)\n",
    "# value_take_from_cur = cur + max(value_not_take_from_left) + max(value_not_take_from_right)\n",
    "# value_not_take_from_cur = max(left) + max(right)\n",
    "def rob(root):\n",
    "    def dfs(root):\n",
    "        if root is None:\n",
    "            return (0,0)\n",
    "        left = dfs(root.left)\n",
    "        right = dfs(root.right)\n",
    "        value_take_from_cur = root.val + left[1] + right[1]\n",
    "        value_not_take_from_cur = max(left) + max(right)\n",
    "        return (value_take_from_cur, value_not_take_from_cur)\n",
    "    return max(dfs(root))"
   ]
  },
  {
   "cell_type": "code",
   "execution_count": null,
   "id": "e3121bae",
   "metadata": {},
   "outputs": [],
   "source": [
    "def minCostToMoveChips(position):\n",
    "    odd = 0\n",
    "    even = 0\n",
    "    for pos in position:\n",
    "        if pos%2 == 0:\n",
    "            even += 1\n",
    "        else:\n",
    "            odd += 1\n",
    "    if odd*even == 0:\n",
    "        return 0\n",
    "    return min(odd, even)"
   ]
  },
  {
   "cell_type": "code",
   "execution_count": null,
   "id": "c75440c4",
   "metadata": {},
   "outputs": [],
   "source": [
    "position = [1,2,3]\n",
    "minCostToMoveChips(position)"
   ]
  },
  {
   "cell_type": "code",
   "execution_count": null,
   "id": "53315052",
   "metadata": {},
   "outputs": [],
   "source": [
    "position = [2,2,2,3,3]\n",
    "minCostToMoveChips(position)"
   ]
  },
  {
   "cell_type": "code",
   "execution_count": null,
   "id": "a8e38fb2",
   "metadata": {},
   "outputs": [],
   "source": [
    "position = [1,1000000]\n",
    "minCostToMoveChips(position)"
   ]
  },
  {
   "cell_type": "markdown",
   "id": "bd0b6f8c",
   "metadata": {},
   "source": [
    "### 20211207<a id='1290'></a>\n",
    "<strong>1290. Convert Binary Number in a Linked List to Integer</strong>\n",
    "[Quesiton List](#0)\n",
    "\n",
    "Given head which is a reference node to a singly-linked list. The value of each node in the linked list is either 0 or 1. The linked list holds the binary representation of a number.\n",
    "\n",
    "Return the decimal value of the number in the linked list.\n",
    "\n"
   ]
  },
  {
   "cell_type": "code",
   "execution_count": null,
   "id": "9bde7bbb",
   "metadata": {},
   "outputs": [],
   "source": [
    "def getDecimalValue(head):\n",
    "    pointer = head\n",
    "    ans = 0\n",
    "    while pointer.val:\n",
    "        ans = ans*10 + pointer.val\n",
    "        pointer = pointer.next\n",
    "    return int(str(ans), 2)"
   ]
  },
  {
   "cell_type": "code",
   "execution_count": null,
   "id": "bb15f236",
   "metadata": {},
   "outputs": [],
   "source": [
    "def getDecimalValue(self, head: ListNode) -> int:\n",
    "    num = head.val\n",
    "    while head.next:\n",
    "        num = (num << 1) | head.next.val\n",
    "        head = head.next\n",
    "    return num"
   ]
  },
  {
   "cell_type": "code",
   "execution_count": null,
   "id": "ea9c8844",
   "metadata": {},
   "outputs": [],
   "source": [
    "def getDecimalValue(self, head: ListNode) -> int:        \n",
    "    num = head.val\n",
    "    while head.next:\n",
    "        num = num * 2 + head.next.val\n",
    "        head = head.next\n",
    "    return num"
   ]
  },
  {
   "cell_type": "markdown",
   "id": "924373be",
   "metadata": {},
   "source": [
    "### 20211208<a id='563'></a>\n",
    "<strong>563. Binary Tree Tilt</strong>\n",
    "[Quesiton List](#0)\n",
    "\n",
    "Given the root of a binary tree, return the sum of every tree node's tilt.\n",
    "\n",
    "The tilt of a tree node is the absolute difference between the sum of all left subtree node values and all right subtree node values. If a node does not have a left child, then the sum of the left subtree node values is treated as 0. The rule is similar if the node does not have a right child.\n",
    "\n",
    " "
   ]
  },
  {
   "cell_type": "code",
   "execution_count": null,
   "id": "4adedc62",
   "metadata": {},
   "outputs": [],
   "source": [
    "def findTilt(root):\n",
    "    ans = 0\n",
    "    \n",
    "    def cal_tile(root):\n",
    "        if root.left:\n",
    "            left_tile = findTilt(root.left)\n",
    "        else:\n",
    "            left_tile = 0\n",
    "\n",
    "        if root.right:\n",
    "            right_tile = findTilt(root.right)\n",
    "        else:\n",
    "            right_tile = 0\n",
    "            \n",
    "        tile = abs(left_tile - right_tile)\n",
    "        ans += tile\n",
    "        \n",
    "        return left_tile + right_tile + root.val\n",
    "    \n",
    "    cal_tile(root)\n",
    "\n",
    "    return ans"
   ]
  },
  {
   "cell_type": "markdown",
   "id": "9b2b9d9c",
   "metadata": {},
   "source": [
    "### 20211216<a id='310'></a>\n",
    "<strong>310. Minimum Height Trees</strong>\n",
    "[Quesiton List](#0)\n",
    "\n",
    "A tree is an undirected graph in which any two vertices are connected by exactly one path. In other words, any connected graph without simple cycles is a tree.\n",
    "\n",
    "Given a tree of n nodes labelled from 0 to n - 1, and an array of n - 1 edges where edges[i] = [ai, bi] indicates that there is an undirected edge between the two nodes ai and bi in the tree, you can choose any node of the tree as the root. When you select a node x as the root, the result tree has height h. Among all possible rooted trees, those with minimum height (i.e. min(h))  are called minimum height trees (MHTs).\n",
    "\n",
    "Return a list of all MHTs' root labels. You can return the answer in any order.\n",
    "\n",
    "The height of a rooted tree is the number of edges on the longest downward path between the root and a leaf."
   ]
  },
  {
   "cell_type": "code",
   "execution_count": null,
   "id": "b1fca567",
   "metadata": {},
   "outputs": [],
   "source": [
    "def findMinHeightTrees(n: int, edges: List[List[int]]):\n",
    "    # base cases\n",
    "    if n <= 2:\n",
    "        return [i for i in range(n)]\n",
    "\n",
    "    # Build the graph with the adjacency list\n",
    "    neighbors = [set() for i in range(n)]\n",
    "    for start, end in edges:\n",
    "        neighbors[start].add(end)\n",
    "        neighbors[end].add(start)\n",
    "    print(neighbors)\n",
    "\n",
    "    # Initialize the first layer of leaves\n",
    "    leaves = []\n",
    "    for i in range(n):\n",
    "        if len(neighbors[i]) == 1:\n",
    "            leaves.append(i)\n",
    "    print(leaves)\n",
    "\n",
    "    # Trim the leaves until reaching the centroids\n",
    "    remaining_nodes = n\n",
    "    while remaining_nodes > 2:\n",
    "        remaining_nodes -= len(leaves)\n",
    "        new_leaves = []\n",
    "        # remove the current leaves along with the edges\n",
    "        while leaves:\n",
    "            leaf = leaves.pop()\n",
    "            # the only neighbor left for the leaf node\n",
    "            neighbor = neighbors[leaf].pop()\n",
    "            # remove the only edge left\n",
    "            neighbors[neighbor].remove(leaf)\n",
    "            if len(neighbors[neighbor]) == 1:\n",
    "                new_leaves.append(neighbor)\n",
    "            print(leaf, neighbor, neighbors, new_leaves)\n",
    "\n",
    "        # prepare for the next round\n",
    "        leaves = new_leaves\n",
    "\n",
    "    # The remaining nodes are the centroids of the graph\n",
    "    return leaves"
   ]
  },
  {
   "cell_type": "code",
   "execution_count": null,
   "id": "38b6db30",
   "metadata": {},
   "outputs": [],
   "source": [
    "n = 6\n",
    "edges = [[3,0],[3,1],[3,2],[3,4],[5,4]]\n",
    "findMinHeightTrees(n, edges)"
   ]
  },
  {
   "cell_type": "markdown",
   "id": "fc1d16bc",
   "metadata": {},
   "source": [
    "### 20211216<a id='310'></a>\n",
    "<strong>35. Search Insert Position</strong>\n",
    "[Quesiton List](#0)\n",
    "\n",
    "Given a sorted array of distinct integers and a target value, return the index if the target is found. If not, return the index where it would be if it were inserted in order.\n",
    "\n",
    "You must write an algorithm with O(log n) runtime complexity."
   ]
  },
  {
   "cell_type": "code",
   "execution_count": null,
   "id": "492f331c",
   "metadata": {},
   "outputs": [],
   "source": [
    "def searchInsert(nums, target):\n",
    "    l = 0\n",
    "    r = len(nums)\n",
    "    while l < r:\n",
    "        mid = (l+r) // 2\n",
    "        if nums[mid] == target:\n",
    "            return mid\n",
    "        elif nums[mid] > target:\n",
    "            r = mid\n",
    "        else:\n",
    "            l = mid + 1\n",
    "    \n",
    "    return l"
   ]
  },
  {
   "cell_type": "code",
   "execution_count": null,
   "id": "93bbc21f",
   "metadata": {},
   "outputs": [],
   "source": [
    "def searchInsert(nums, target):\n",
    "    l = 0\n",
    "    r = len(nums) - 1\n",
    "    while l <= r:\n",
    "        mid = (l+r) // 2\n",
    "        if nums[mid] == target:\n",
    "            return mid\n",
    "        elif nums[mid] > target:\n",
    "            r = mid - 1\n",
    "        else:\n",
    "            l = mid + 1\n",
    "    \n",
    "    return l"
   ]
  },
  {
   "cell_type": "code",
   "execution_count": null,
   "id": "8ca43869",
   "metadata": {},
   "outputs": [],
   "source": [
    "nums = [1,3,5,6]\n",
    "target = 5\n",
    "searchInsert(nums, target)"
   ]
  },
  {
   "cell_type": "code",
   "execution_count": null,
   "id": "27b5a8cb",
   "metadata": {},
   "outputs": [],
   "source": [
    "nums = [1,3,5,6]\n",
    "target = 0\n",
    "searchInsert(nums, target)"
   ]
  },
  {
   "cell_type": "code",
   "execution_count": null,
   "id": "ac6d0108",
   "metadata": {},
   "outputs": [],
   "source": [
    "nums = [1,3,5,6]\n",
    "target = 7\n",
    "searchInsert(nums, target)"
   ]
  },
  {
   "cell_type": "code",
   "execution_count": null,
   "id": "e27c9831",
   "metadata": {},
   "outputs": [],
   "source": [
    "nums = [1,3,5,6]\n",
    "target = 2\n",
    "searchInsert(nums, target)"
   ]
  },
  {
   "cell_type": "markdown",
   "id": "370025fc",
   "metadata": {},
   "source": [
    "### 20211220<a id='1200'></a>\n",
    "<strong>1200. Minimum Absolute Difference</strong>\n",
    "[Quesiton List](#0)\n",
    "\n",
    "Given an array of distinct integers arr, find all pairs of elements with the minimum absolute difference of any two elements. \n",
    "\n",
    "Return a list of pairs in ascending order(with respect to pairs), each pair [a, b] follows\n",
    "\n",
    "- a, b are from arr\n",
    "- a < b\n",
    "- b - a equals to the minimum absolute difference of any two elements in arr"
   ]
  },
  {
   "cell_type": "code",
   "execution_count": null,
   "id": "e24e3743",
   "metadata": {},
   "outputs": [],
   "source": [
    "def minimumAbsDifference(arr):\n",
    "    sorted_arr = sorted(arr, reverse = False)\n",
    "    diff = 1000000\n",
    "    \n",
    "    for i in range(1, len(sorted_arr)):\n",
    "        if sorted_arr[i] - sorted_arr[i-1] < diff:\n",
    "            diff = sorted_arr[i] - sorted_arr[i-1]\n",
    "    \n",
    "    ans = []\n",
    "    for j in range(1, len(sorted_arr)):\n",
    "        if sorted_arr[j] - sorted_arr[j-1] == diff:\n",
    "            ans.append([sorted_arr[j-1], sorted_arr[j]])\n",
    "            \n",
    "    return ans"
   ]
  },
  {
   "cell_type": "code",
   "execution_count": null,
   "id": "a84d5122",
   "metadata": {
    "scrolled": true
   },
   "outputs": [],
   "source": [
    "arr = [3,8,-10,23,19,-4,-14,27]\n",
    "minimumAbsDifference(arr)"
   ]
  },
  {
   "cell_type": "markdown",
   "id": "780f7d41",
   "metadata": {},
   "source": [
    "### 20211221<a id='231'></a>\n",
    "<strong>231. Power of Two</strong>\n",
    "[Quesiton List](#0)\n",
    "\n",
    "Given an integer n, return true if it is a power of two. Otherwise, return false.\n",
    "\n",
    "An integer n is a power of two, if there exists an integer x such that n == 2^x.\n"
   ]
  },
  {
   "cell_type": "code",
   "execution_count": null,
   "id": "02e775c9",
   "metadata": {},
   "outputs": [],
   "source": [
    "def isPowerOfTwo(n: int) -> bool:\n",
    "    if n == 1:\n",
    "        return True\n",
    "    if n == 0:\n",
    "        return False\n",
    "    if n < 0:\n",
    "        return False\n",
    "    return int(bin(n)[3:],2) == 0"
   ]
  },
  {
   "cell_type": "code",
   "execution_count": null,
   "id": "2c406eb9",
   "metadata": {},
   "outputs": [],
   "source": [
    "def isPowerOfTwo(n: int) -> bool:\n",
    "    return n > 0 and n&(n-1) == 0"
   ]
  },
  {
   "cell_type": "code",
   "execution_count": null,
   "id": "2314745b",
   "metadata": {},
   "outputs": [],
   "source": [
    "isPowerOfTwo(6)"
   ]
  },
  {
   "cell_type": "code",
   "execution_count": null,
   "id": "5f46aff0",
   "metadata": {},
   "outputs": [],
   "source": [
    "bin(-6)"
   ]
  },
  {
   "cell_type": "code",
   "execution_count": null,
   "id": "c805d08e",
   "metadata": {},
   "outputs": [],
   "source": [
    "bin(4)"
   ]
  },
  {
   "cell_type": "code",
   "execution_count": null,
   "id": "741d99ed",
   "metadata": {},
   "outputs": [],
   "source": [
    "int(bin(2)[3:],2)"
   ]
  },
  {
   "cell_type": "code",
   "execution_count": null,
   "id": "e8165c8d",
   "metadata": {},
   "outputs": [],
   "source": [
    "1073741824%(2**7)"
   ]
  },
  {
   "cell_type": "code",
   "execution_count": null,
   "id": "ba9c381f",
   "metadata": {},
   "outputs": [],
   "source": [
    "4%2**7"
   ]
  },
  {
   "cell_type": "markdown",
   "id": "1db2abc5",
   "metadata": {},
   "source": [
    "### 20211221<a id='977'></a>\n",
    "<strong>977. Squares of a Sorted Array</strong>\n",
    "[Quesiton List](#0)\n",
    "\n",
    "Given an integer array nums sorted in non-decreasing order, return an array of the squares of each number sorted in non-decreasing order."
   ]
  },
  {
   "cell_type": "code",
   "execution_count": null,
   "id": "7c16d6d8",
   "metadata": {},
   "outputs": [],
   "source": [
    "# find left: nums[left]<0, right: nums[right]>=0\n",
    "# compare square and append bigger square\n",
    "def sortedSquares(nums):\n",
    "    n = len(nums)\n",
    "    l = n - 1\n",
    "    r = 0\n",
    "    while l >= 0 and nums[l] >= 0:\n",
    "        l -= 1\n",
    "    while r <= n-1 and nums[r] < 0:\n",
    "        r += 1\n",
    "    \n",
    "    ans = []\n",
    "    while l >= 0 and r <= n-1:\n",
    "        ls = nums[l] ** 2\n",
    "        rs = nums[r] ** 2\n",
    "        if rs <= ls:\n",
    "            ans.append(rs)\n",
    "            r += 1\n",
    "        else:\n",
    "            ans.append(ls)\n",
    "            l -= 1\n",
    "    \n",
    "    while l >= 0:\n",
    "        ans.append(nums[l]**2)\n",
    "        l -= 1\n",
    "    \n",
    "    while r <= n-1:\n",
    "        ans.append(nums[r]**2)\n",
    "        r += 1\n",
    "    \n",
    "    return ans"
   ]
  },
  {
   "cell_type": "code",
   "execution_count": null,
   "id": "329ee128",
   "metadata": {},
   "outputs": [],
   "source": [
    "# left: first index, right: last index\n",
    "# compare abs of left and right\n",
    "# append the bigger square\n",
    "# move the corresponding pointer\n",
    "def sortedSquares(nums):\n",
    "    l = 0\n",
    "    r = len(nums) - 1\n",
    "    index = len(nums) - 1\n",
    "    ans = [0]*len(nums)\n",
    "    while l <= r:\n",
    "        if abs(nums[l]) > abs(nums[r]):\n",
    "            ans[index] = nums[l] ** 2\n",
    "            l += 1\n",
    "        else:\n",
    "            ans[index] = nums[r] ** 2\n",
    "            r -= 1\n",
    "        index -= 1\n",
    "    return ans"
   ]
  },
  {
   "cell_type": "code",
   "execution_count": null,
   "id": "0ca53583",
   "metadata": {},
   "outputs": [],
   "source": [
    "nums = [-4,-1,0,3,10]\n",
    "sortedSquares(nums)"
   ]
  },
  {
   "cell_type": "code",
   "execution_count": null,
   "id": "1c2ed9b8",
   "metadata": {},
   "outputs": [],
   "source": [
    "nums = [-7,-3,2,3,11]\n",
    "sortedSquares(nums)"
   ]
  },
  {
   "cell_type": "code",
   "execution_count": null,
   "id": "2587b54c",
   "metadata": {},
   "outputs": [],
   "source": [
    "nums = [-5,-3,-2,-1]\n",
    "sortedSquares(nums)"
   ]
  },
  {
   "cell_type": "code",
   "execution_count": null,
   "id": "28d4185f",
   "metadata": {},
   "outputs": [],
   "source": [
    "nums = [1]\n",
    "sortedSquares(nums)"
   ]
  },
  {
   "cell_type": "markdown",
   "id": "2f5d3d06",
   "metadata": {},
   "source": [
    "### 20211222<a id='143'></a>\n",
    "<strong>143. Reorder List</strong>\n",
    "[Quesiton List](#0)\n",
    "    \n",
    "You are given the head of a singly linked-list. The list can be represented as:\n",
    "\n",
    "L0 → L1 → … → Ln - 1 → Ln\n",
    "\n",
    "Reorder the list to be on the following form:\n",
    "\n",
    "L0 → Ln → L1 → Ln - 1 → L2 → Ln - 2 → …\n",
    "\n",
    "You may not modify the values in the list's nodes. Only nodes themselves may be changed."
   ]
  },
  {
   "cell_type": "code",
   "execution_count": null,
   "id": "475e2124",
   "metadata": {},
   "outputs": [],
   "source": [
    "class ListNode:\n",
    "    def __init__(self, val=0, next=None):\n",
    "        self.val = val\n",
    "        self.next = next"
   ]
  },
  {
   "cell_type": "code",
   "execution_count": null,
   "id": "35bd0949",
   "metadata": {},
   "outputs": [],
   "source": [
    "#last part not right yet\n",
    "def reorderList(head) -> None:\n",
    "    half = head\n",
    "    temp = head\n",
    "    \n",
    "    # find the middle point of the list\n",
    "    while temp.next and temp.next.next:\n",
    "        half = half.next\n",
    "        temp = temp.next.next\n",
    "    \n",
    "    # reverse the second half\n",
    "    prev = None\n",
    "    cur = half.next\n",
    "    half.next = None\n",
    "\n",
    "    while cur:\n",
    "        temp_next = cur.next\n",
    "        cur.next = prev\n",
    "        prev = cur\n",
    "        cur = temp_next\n",
    "    \n",
    "    # merge two halfs together\n",
    "    first_pointer = head\n",
    "    second_pointer = prev\n",
    "    \n",
    "    while first_pointer and second_pointer:\n",
    "        temp_first = first_pointer.next\n",
    "        temp_second = second_pointer.next\n",
    "        first_pointer.next = second_pointer\n",
    "        second_pointer.next = temp_first\n",
    "        first_pointer = temp_first\n",
    "        second_pointer = temp_second\n",
    "    "
   ]
  },
  {
   "cell_type": "code",
   "execution_count": null,
   "id": "ae329a64",
   "metadata": {},
   "outputs": [],
   "source": [
    "# travse linked list find middle pointer\n",
    "# reverse the second half of the linked list\n",
    "# merge first half and reversed second half\n",
    "def reorderList(head):\n",
    "\n",
    "    if not head.next or not head.next.next:\n",
    "        return\n",
    "\n",
    "    half = head\n",
    "    temp = head\n",
    "    # find the middle point of the list\n",
    "    while temp.next and temp.next.next:\n",
    "        half = half.next\n",
    "        temp = temp.next.next\n",
    "\n",
    "    # reverse the second half\n",
    "    prev = None\n",
    "    cur = half.next\n",
    "    half.next = None\n",
    "    while cur:\n",
    "        temp_next = cur.next\n",
    "        cur.next = prev\n",
    "        prev = cur\n",
    "        cur = temp_next\n",
    "\n",
    "    # rearrange nodes as asked\n",
    "    headCur, headNext = head, head.next\n",
    "    tailCur, tailNext = prev, prev.next\n",
    "    while True:\n",
    "        headCur.next, tailCur.next = tailCur, headNext\n",
    "        if not tailNext:\n",
    "            return\n",
    "        tailCur, headCur = tailNext, headNext\n",
    "        tailNext, headNext = tailNext.next, headNext.next"
   ]
  },
  {
   "cell_type": "markdown",
   "id": "8bcc0e66",
   "metadata": {},
   "source": [
    "### 20211223<a id='210'></a>\n",
    "<strong>210. Course Schedule II</strong>\n",
    "[Quesiton List](#0)\n",
    "\n",
    "There are a total of numCourses courses you have to take, labeled from 0 to numCourses - 1. You are given an array prerequisites where prerequisites[i] = [ai, bi] indicates that you must take course bi first if you want to take course ai.\n",
    "\n",
    "For example, the pair [0, 1], indicates that to take course 0 you have to first take course 1.\n",
    "Return the ordering of courses you should take to finish all courses. If there are many valid answers, return any of them. If it is impossible to finish all courses, return an empty array."
   ]
  },
  {
   "cell_type": "code",
   "execution_count": null,
   "id": "8c6811ac",
   "metadata": {},
   "outputs": [],
   "source": [
    "def findOrder(numCourses, prerequisites):\n",
    "    from collections import defaultdict\n",
    "    courses_pre = defaultdict(set)\n",
    "    pre_courses = defaultdict(set)\n",
    "    for prerequisite in prerequisites:\n",
    "        courses_pre[prerequisite[0]].add(prerequisite[1])\n",
    "        pre_courses[prerequisite[1]].add(prerequisite[0])\n",
    "        \n",
    "    take_courses = set(range(numCourses)) - set(courses_pre.keys())\n",
    "    \n",
    "    ans = []\n",
    "    num_taken = 0\n",
    "    while take_courses:\n",
    "        num_taken += len(take_courses)\n",
    "        new_take_courses = []\n",
    "        for take_course in take_courses:\n",
    "            ans.append(take_course)\n",
    "            for course in pre_courses[take_course]:\n",
    "                courses_pre[course].remove(take_course)\n",
    "                if len(courses_pre[course]) == 0:\n",
    "                    new_take_courses.append(course)\n",
    "        take_courses = new_take_courses\n",
    "    \n",
    "    if num_taken == numCourses:\n",
    "        return ans\n",
    "    return []"
   ]
  },
  {
   "cell_type": "code",
   "execution_count": null,
   "id": "21101324",
   "metadata": {},
   "outputs": [],
   "source": [
    "numCourses = 2 \n",
    "prerequisites = [[1,0]]\n",
    "findOrder(numCourses, prerequisites)"
   ]
  },
  {
   "cell_type": "code",
   "execution_count": null,
   "id": "c50e617a",
   "metadata": {},
   "outputs": [],
   "source": [
    "numCourses = 4\n",
    "prerequisites = [[1,0],[2,0],[3,1],[3,2]]\n",
    "findOrder(numCourses, prerequisites)"
   ]
  },
  {
   "cell_type": "code",
   "execution_count": null,
   "id": "4c178fbc",
   "metadata": {},
   "outputs": [],
   "source": [
    "numCourses = 1\n",
    "prerequisites = []\n",
    "findOrder(numCourses, prerequisites)"
   ]
  },
  {
   "cell_type": "code",
   "execution_count": null,
   "id": "78af32ca",
   "metadata": {},
   "outputs": [],
   "source": [
    "a = [set(),set([1,2,3])]\n",
    "a.remove(set())\n",
    "a"
   ]
  },
  {
   "cell_type": "code",
   "execution_count": null,
   "id": "371984b6",
   "metadata": {},
   "outputs": [],
   "source": [
    "b = set([1,2,3])\n",
    "b.remove(2)\n",
    "b"
   ]
  },
  {
   "cell_type": "markdown",
   "id": "f9823912",
   "metadata": {},
   "source": [
    "### 20211224<a id='56'></a>\n",
    "<strong>56. Merge Intervals</strong>\n",
    "[Quesiton List](#0)\n",
    "\n",
    "Given an array of intervals where intervals[i] = [starti, endi], merge all overlapping intervals, and return an array of the non-overlapping intervals that cover all the intervals in the input."
   ]
  },
  {
   "cell_type": "code",
   "execution_count": null,
   "id": "14eb6c5f",
   "metadata": {},
   "outputs": [],
   "source": [
    "def merge(intervals):\n",
    "    axis = [0] * (10**4 + 1)\n",
    "    for interval in intervals:\n",
    "        for i in range(interval[0], interval[1]+1):\n",
    "            axis[i] += 1\n",
    "    \n",
    "    ans = []\n",
    "    start = -1\n",
    "    end = -1\n",
    "    for j in range(len(axis)):\n",
    "        if axis[j] != 0:\n",
    "            if start == -1:\n",
    "                start = j\n",
    "        else:\n",
    "            if start != -1:\n",
    "                end = j\n",
    "                ans.append([start, end])\n",
    "                start = -1\n",
    "                end = -1\n",
    "    \n",
    "    if start != -1:\n",
    "        end = j\n",
    "        ans.append([start, end])\n",
    " \n",
    "    return ans"
   ]
  },
  {
   "cell_type": "code",
   "execution_count": null,
   "id": "d0884582",
   "metadata": {},
   "outputs": [],
   "source": [
    "def merge(intervals):\n",
    "    sorted_intervals = sorted(intervals, key = lambda x: x[0])\n",
    "    ans = []\n",
    "    start = -1\n",
    "    end = -1\n",
    "    for interval in sorted_intervals:\n",
    "        # first interval\n",
    "        if start == -1:\n",
    "            start = interval[0]\n",
    "            end = interval[1]\n",
    "        # if the current interval overlap the interval in build\n",
    "        elif interval[0] <= end:\n",
    "            if interval[1] > end:\n",
    "                end = interval[1]\n",
    "        # if the current interval doesnt not overlap\n",
    "        else:\n",
    "            ans.append([start, end])\n",
    "            start = interval[0]\n",
    "            end = interval[1]\n",
    "    ans.append([start,end])\n",
    "    return ans"
   ]
  },
  {
   "cell_type": "code",
   "execution_count": null,
   "id": "3e2df673",
   "metadata": {},
   "outputs": [],
   "source": [
    "intervals = [[1,3],[2,6],[8,10],[15,18]]\n",
    "merge(intervals)"
   ]
  },
  {
   "cell_type": "code",
   "execution_count": null,
   "id": "09773888",
   "metadata": {},
   "outputs": [],
   "source": [
    "intervals = [[1,4],[4,5]]\n",
    "merge(intervals)"
   ]
  },
  {
   "cell_type": "code",
   "execution_count": null,
   "id": "12f6f440",
   "metadata": {},
   "outputs": [],
   "source": [
    "intervals = [[1,4]]\n",
    "merge(intervals)"
   ]
  },
  {
   "cell_type": "code",
   "execution_count": null,
   "id": "7d366229",
   "metadata": {},
   "outputs": [],
   "source": [
    "intervals = [[1,4],[5,6]]\n",
    "merge(intervals)"
   ]
  },
  {
   "cell_type": "code",
   "execution_count": null,
   "id": "ae8b60b7",
   "metadata": {},
   "outputs": [],
   "source": [
    "intervals = [[1,4],[0,4]]\n",
    "merge(intervals)"
   ]
  },
  {
   "cell_type": "code",
   "execution_count": null,
   "id": "2e651059",
   "metadata": {},
   "outputs": [],
   "source": [
    "intervals = [[1,4],[2,3]]\n",
    "merge(intervals)"
   ]
  },
  {
   "cell_type": "markdown",
   "id": "ff430342",
   "metadata": {},
   "source": [
    "### 20211226<a id='227'></a>\n",
    "<strong>227. Basic Calculator II</strong>\n",
    "[Quesiton List](#0)\n",
    "\n",
    "Given a string s which represents an expression, evaluate this expression and return its value. \n",
    "\n",
    "The integer division should truncate toward zero.\n",
    "\n",
    "You may assume that the given expression is always valid. All intermediate results will be in the range of [-231, 231 - 1].\n",
    "\n",
    "Note: You are not allowed to use any built-in function which evaluates strings as mathematical expressions, such as eval()."
   ]
  },
  {
   "cell_type": "code",
   "execution_count": null,
   "id": "b62dfebb",
   "metadata": {},
   "outputs": [],
   "source": [
    "def calculate(s):\n",
    "    stack = []\n",
    "    current_number = 0\n",
    "    operation = '+'\n",
    "    for char in s:\n",
    "        # char is a number, add to current number\n",
    "        if char.isdigit():\n",
    "            current_number = current_number*10 + int(char)\n",
    "        elif char != ' ':\n",
    "            if operation == '+':\n",
    "                stack.append(current_number)\n",
    "            if operation == '-':\n",
    "                stack.append(-current_number)\n",
    "            if operation == '*':\n",
    "                temp = stack.pop() * current_number\n",
    "                stack.append(temp)\n",
    "            if operation == '/':\n",
    "                temp = int(stack.pop() / current_number)\n",
    "                stack.append(temp)   \n",
    "            operation = char\n",
    "            current_number = 0\n",
    "    if operation == '+':\n",
    "        stack.append(current_number)\n",
    "    if operation == '-':\n",
    "        stack.append(-current_number)\n",
    "    if operation == '*':\n",
    "        temp = stack.pop() * current_number\n",
    "        stack.append(temp)\n",
    "    if operation == '/':\n",
    "        temp = int(stack.pop() / current_number)\n",
    "        stack.append(temp)   \n",
    "    ans = sum(stack)\n",
    "    return ans"
   ]
  },
  {
   "cell_type": "code",
   "execution_count": null,
   "id": "c00b32f3",
   "metadata": {},
   "outputs": [],
   "source": [
    "s = \" 3+5 / 2 \"\n",
    "calculate(s)"
   ]
  },
  {
   "cell_type": "code",
   "execution_count": null,
   "id": "805f82c7",
   "metadata": {},
   "outputs": [],
   "source": [
    "s = \"14-3/2\"\n",
    "calculate(s)"
   ]
  },
  {
   "cell_type": "markdown",
   "id": "f7964498",
   "metadata": {},
   "source": [
    "### 20211226<a id='973'></a>\n",
    "<strong>476. Number Complement</strong>\n",
    "[Quesiton List](#0)\n",
    "\n",
    "The complement of an integer is the integer you get when you flip all the 0's to 1's and all the 1's to 0's in its binary representation.\n",
    "\n",
    "For example, The integer 5 is \"101\" in binary and its complement is \"010\" which is the integer 2.\n",
    "Given an integer num, return its complement.\n",
    "\n"
   ]
  },
  {
   "cell_type": "code",
   "execution_count": null,
   "id": "cf3aeac2",
   "metadata": {},
   "outputs": [],
   "source": [
    "def findComplement(num):\n",
    "    binary = bin(num)[2:]\n",
    "    complement = ''\n",
    "    for num in binary:\n",
    "        if num == '0':\n",
    "            complement += '1'\n",
    "        else:\n",
    "            complement += '0'\n",
    "    return int(complement, 2)"
   ]
  },
  {
   "cell_type": "code",
   "execution_count": null,
   "id": "5a58d955",
   "metadata": {},
   "outputs": [],
   "source": [
    "num = 5\n",
    "findComplement(num)"
   ]
  },
  {
   "cell_type": "code",
   "execution_count": null,
   "id": "24e71cf8",
   "metadata": {},
   "outputs": [],
   "source": [
    "num = 1\n",
    "findComplement(num)"
   ]
  },
  {
   "cell_type": "markdown",
   "id": "ecf4eee7",
   "metadata": {},
   "source": [
    "### 20211226<a id='973'></a>\n",
    "<strong>973. K Closest Points to Origin</strong>\n",
    "[Quesiton List](#0)\n",
    "    \n",
    "Given an array of points where points[i] = [xi, yi] represents a point on the X-Y plane and an integer k, return the k closest points to the origin (0, 0).\n",
    "\n",
    "The distance between two points on the X-Y plane is the Euclidean distance (i.e., √(x1 - x2)2 + (y1 - y2)2).\n",
    "\n",
    "You may return the answer in any order. The answer is guaranteed to be unique (except for the order that it is in)."
   ]
  },
  {
   "cell_type": "code",
   "execution_count": null,
   "id": "edee32c6",
   "metadata": {},
   "outputs": [],
   "source": [
    "# custom sort function approach (mine)\n",
    "def kClosest(points, k):\n",
    "    distance = []\n",
    "    for point in points:\n",
    "        distance.append((point[0]**2+point[1]**2, point))\n",
    "    distance = sorted(distance, key = lambda x: x[0])\n",
    "    ans = []\n",
    "    for i in range(k):\n",
    "        ans.append(distance[i][1])\n",
    "    return ans"
   ]
  },
  {
   "cell_type": "code",
   "execution_count": null,
   "id": "b6c63bb3",
   "metadata": {},
   "outputs": [],
   "source": [
    "# customer sort (improved)\n",
    "def kClosest(points, k):\n",
    "    points = sorted(points, key = lambda x: x[0]**2+x[1]**2)\n",
    "    return points[:k]"
   ]
  },
  {
   "cell_type": "code",
   "execution_count": null,
   "id": "aaa92bbc",
   "metadata": {},
   "outputs": [],
   "source": [
    "# max heap/priority queue approach\n",
    "def kClosest(points, k):\n",
    "    import heapq\n",
    "    # Since heap is sorted in increasing order,\n",
    "    # negate the distance to simulate max heap\n",
    "    # and fill the heap with the first k elements of points\n",
    "    heap = [(-squared_distance(points[i]), i) for i in range(k)]\n",
    "    print(heap)\n",
    "    heapq.heapify(heap)\n",
    "    print(heap)\n",
    "    for i in range(k, len(points)):\n",
    "        dist = -squared_distance(points[i])\n",
    "        if dist > heap[0][0]:\n",
    "            # If this point is closer than the kth farthest,\n",
    "            # discard the farthest point and add this one\n",
    "            heapq.heappushpop(heap, (dist, i))\n",
    "\n",
    "    # Return all points stored in the max heap\n",
    "    return [points[i] for (_, i) in heap]\n",
    "\n",
    "def squared_distance(point) -> int:\n",
    "    \"\"\"Calculate and return the squared Euclidean distance.\"\"\"\n",
    "    return point[0] ** 2 + point[1] ** 2"
   ]
  },
  {
   "cell_type": "code",
   "execution_count": null,
   "id": "160c21f9",
   "metadata": {},
   "outputs": [],
   "source": [
    "points = [[1,3],[-2,2]]\n",
    "k = 1\n",
    "kClosest(points, k)"
   ]
  },
  {
   "cell_type": "code",
   "execution_count": null,
   "id": "4e9a0d25",
   "metadata": {},
   "outputs": [],
   "source": [
    "points = [[3,3],[5,-1],[-2,4]]\n",
    "k = 2\n",
    "kClosest(points, k)"
   ]
  },
  {
   "cell_type": "markdown",
   "id": "d1fd1956",
   "metadata": {},
   "source": [
    "### 20211227<a id='189'></a>\n",
    "<strong>189. Rotate Array</strong>\n",
    "[Quesiton List](#0)\n",
    "\n",
    "Given an array, rotate the array to the right by k steps, where k is non-negative.\n"
   ]
  },
  {
   "cell_type": "code",
   "execution_count": null,
   "id": "2f0bd6b5",
   "metadata": {},
   "outputs": [],
   "source": [
    "def rotate(nums, k):\n",
    "    rotate_nums = []\n",
    "    n = len(nums)\n",
    "    move = k%n\n",
    "    for i in range(n-move, n):\n",
    "        rotate_nums.append(nums[i])\n",
    "    for j in range(0, n-move):\n",
    "        rotate_nums.append(nums[j])\n",
    "    for g in range(n):\n",
    "        nums[g] = rotate_nums[g]"
   ]
  },
  {
   "cell_type": "code",
   "execution_count": null,
   "id": "10373607",
   "metadata": {},
   "outputs": [],
   "source": [
    "nums = [1,2,3,4,5,6,7]\n",
    "k = 3\n",
    "rotate(nums, k)\n",
    "nums"
   ]
  },
  {
   "cell_type": "code",
   "execution_count": null,
   "id": "3c89b438",
   "metadata": {},
   "outputs": [],
   "source": [
    "nums = [1,2]\n",
    "k = 5\n",
    "rotate(nums, k)\n",
    "nums"
   ]
  },
  {
   "cell_type": "markdown",
   "id": "957b8051",
   "metadata": {},
   "source": [
    "### 20211228<a id='876'></a>\n",
    "<strong>876. Middle of the Linked List</strong>\n",
    "[Quesiton List](#0)\n",
    "\n",
    "Given the head of a singly linked list, return the middle node of the linked list.\n",
    "\n",
    "If there are two middle nodes, return the second middle node."
   ]
  },
  {
   "cell_type": "code",
   "execution_count": null,
   "id": "e766d7b9",
   "metadata": {},
   "outputs": [],
   "source": [
    "def middleNode(head):\n",
    "    slow = head\n",
    "    fast = head\n",
    "    while fast is not None and fast.next is not None:\n",
    "        slow = slow.next\n",
    "        fast = fast.next.next\n",
    "    return slow"
   ]
  },
  {
   "cell_type": "markdown",
   "id": "f71a5d21",
   "metadata": {},
   "source": [
    "### 20211229<a id='116'></a>\n",
    "<strong>116. Populating Next Right Pointers in Each Node</strong>\n",
    "[Quesiton List](#0)\n",
    "\n",
    "You are given a perfect binary tree where all leaves are on the same level, and every parent has two children. The binary tree has the following definition:\n",
    "\n",
    "struct Node {\n",
    "  int val;\n",
    "  Node *left;\n",
    "  Node *right;\n",
    "  Node *next;\n",
    "}\n",
    "\n",
    "Populate each next pointer to point to its next right node. If there is no next right node, the next pointer should be set to NULL.\n",
    "\n",
    "Initially, all next pointers are set to NULL."
   ]
  },
  {
   "cell_type": "code",
   "execution_count": null,
   "id": "d732c8f8",
   "metadata": {},
   "outputs": [],
   "source": [
    "class Node:\n",
    "    def __init__(self, val: int = 0, left: 'Node' = None, right: 'Node' = None, next: 'Node' = None):\n",
    "        self.val = val\n",
    "        self.left = left\n",
    "        self.right = right\n",
    "        self.next = next"
   ]
  },
  {
   "cell_type": "code",
   "execution_count": null,
   "id": "9fdbfbe6",
   "metadata": {},
   "outputs": [],
   "source": [
    "def connect(root):\n",
    "    def connect_one(node):\n",
    "        node.left.next = node.right\n",
    "        if node.left:\n",
    "            connect_two(node.left, node.right)\n",
    "    def connect_two(left, right):\n",
    "        left.next = right\n",
    "        if left.left:\n",
    "            connect_two(left.left, left.right)\n",
    "            connect_two(left.right, right.left)\n",
    "            connect_two(right.left, right.right)\n",
    "\n",
    "    if not root or not root.left:\n",
    "        return root\n",
    "    connect_two(root.left, root.right)\n",
    "    return root"
   ]
  },
  {
   "cell_type": "markdown",
   "id": "993dd28d",
   "metadata": {},
   "source": [
    "### 20211229<a id='1015'></a>\n",
    "<strong>1015. Smallest Integer Divisible by K</strong>\n",
    "[Quesiton List](#0)\n",
    "\n",
    "Given a positive integer k, you need to find the length of the smallest positive integer n such that n is divisible by k, and n only contains the digit 1.\n",
    "\n",
    "Return the length of n. If there is no such n, return -1.\n",
    "\n",
    "Note: n may not fit in a 64-bit signed integer."
   ]
  },
  {
   "cell_type": "code",
   "execution_count": null,
   "id": "8b915311",
   "metadata": {},
   "outputs": [],
   "source": [
    "def smallestRepunitDivByK(k):\n",
    "    reminders = set()\n",
    "    len_n = 1\n",
    "    n = 0\n",
    "    while True:\n",
    "        n = n*10 + 1\n",
    "        reminder = n%k\n",
    "        if reminder == 0:\n",
    "            return len_n\n",
    "        elif reminder in reminders:\n",
    "            break\n",
    "        else:\n",
    "            reminders.add(reminder)\n",
    "        len_n += 1\n",
    "    return -1"
   ]
  },
  {
   "cell_type": "code",
   "execution_count": null,
   "id": "63820a7e",
   "metadata": {},
   "outputs": [],
   "source": [
    "def smallestRepunitDivByK(k):\n",
    "    remainder = 0\n",
    "    for length_N in range(1,k+1):\n",
    "        remainder = (remainder*10+1) % k\n",
    "        if remainder == 0:\n",
    "            return length_N\n",
    "    return -1"
   ]
  },
  {
   "cell_type": "code",
   "execution_count": null,
   "id": "a1759ed8",
   "metadata": {},
   "outputs": [],
   "source": [
    "k = 1\n",
    "smallestRepunitDivByK(k)"
   ]
  },
  {
   "cell_type": "code",
   "execution_count": null,
   "id": "8c39cce4",
   "metadata": {},
   "outputs": [],
   "source": [
    "k = 2\n",
    "smallestRepunitDivByK(k)"
   ]
  },
  {
   "cell_type": "code",
   "execution_count": null,
   "id": "f37c796b",
   "metadata": {},
   "outputs": [],
   "source": [
    "k = 3\n",
    "smallestRepunitDivByK(k)"
   ]
  },
  {
   "cell_type": "code",
   "execution_count": null,
   "id": "cf530081",
   "metadata": {},
   "outputs": [],
   "source": [
    "k = 7\n",
    "smallestRepunitDivByK(k)"
   ]
  },
  {
   "cell_type": "markdown",
   "id": "749162cf",
   "metadata": {},
   "source": [
    "### 20211229<a id='283'></a>\n",
    "<strong>283. Move Zeroes</strong>\n",
    "[Quesiton List](#0)\n",
    "    \n",
    "Given an integer array nums, move all 0's to the end of it while maintaining the relative order of the non-zero elements.\n",
    "\n",
    "Note that you must do this in-place without making a copy of the array."
   ]
  },
  {
   "cell_type": "code",
   "execution_count": null,
   "id": "624af6b8",
   "metadata": {},
   "outputs": [],
   "source": [
    "def moveZeroes(nums):\n",
    "    cur = 0\n",
    "    slow = 0\n",
    "    while cur < len(nums):\n",
    "        if nums[cur] != 0:\n",
    "            nums[cur], nums[slow] = nums[slow], nums[cur]\n",
    "            slow += 1\n",
    "        cur += 1\n",
    "    return nums"
   ]
  },
  {
   "cell_type": "code",
   "execution_count": null,
   "id": "448739bd",
   "metadata": {},
   "outputs": [],
   "source": [
    "nums = [0,1,0,3,12]\n",
    "moveZeroes(nums)"
   ]
  },
  {
   "cell_type": "code",
   "execution_count": null,
   "id": "68543fd5",
   "metadata": {},
   "outputs": [],
   "source": [
    "nums = [1]\n",
    "moveZeroes(nums)"
   ]
  },
  {
   "cell_type": "code",
   "execution_count": null,
   "id": "f270b1cc",
   "metadata": {},
   "outputs": [],
   "source": [
    "a = [1,2,3]\n",
    "b = [4,5,6]\n",
    "a[1:] = b[0:2]\n",
    "a"
   ]
  },
  {
   "cell_type": "markdown",
   "id": "3a55a244",
   "metadata": {},
   "source": [
    "### 20211229<a id='167'></a>\n",
    "<strong>167. Two Sum II - Input Array Is Sorted</strong>\n",
    "[Quesiton List](#0)\n",
    "    \n",
    "Given a 1-indexed array of integers numbers that is already sorted in non-decreasing order, find two numbers such that they add up to a specific target number. Let these two numbers be numbers[index1] and numbers[index2] where 1 <= index1 < index2 <= numbers.length.\n",
    "\n",
    "Return the indices of the two numbers, index1 and index2, added by one as an integer array [index1, index2] of length 2.\n",
    "\n",
    "The tests are generated such that there is exactly one solution. You may not use the same element twice."
   ]
  },
  {
   "cell_type": "code",
   "execution_count": null,
   "id": "886b9e2c",
   "metadata": {},
   "outputs": [],
   "source": [
    "def twoSum(nums, target):\n",
    "    l = 0\n",
    "    r = len(numbers) - 1\n",
    "    while numbers[l] + numbers[r] != target:\n",
    "        if numbers[l] + numbers[r] > target:\n",
    "            r -= 1\n",
    "        else:\n",
    "            l += 1\n",
    "    return [l+1, r+1]"
   ]
  },
  {
   "cell_type": "markdown",
   "id": "2f0808ff",
   "metadata": {},
   "source": [
    "### 20211229<a id='344'></a>\n",
    "<strong>344. Reverse String</strong>\n",
    "[Quesiton List](#0)\n",
    "\n",
    "Write a function that reverses a string. The input string is given as an array of characters s.\n",
    "\n",
    "You must do this by modifying the input array in-place with O(1) extra memory."
   ]
  },
  {
   "cell_type": "code",
   "execution_count": null,
   "id": "2de2f737",
   "metadata": {},
   "outputs": [],
   "source": [
    "def reverseString(s):\n",
    "    l = 0\n",
    "    r = len(s) - 1\n",
    "    while l < r:\n",
    "        s[l], s[r] = s[r], s[l]\n",
    "        l += 1\n",
    "        r -= 1"
   ]
  },
  {
   "cell_type": "code",
   "execution_count": null,
   "id": "52f0bf9b",
   "metadata": {},
   "outputs": [],
   "source": [
    "def reverseString(s):\n",
    "    s[:] = s[::-1]"
   ]
  },
  {
   "cell_type": "code",
   "execution_count": null,
   "id": "de4a7f09",
   "metadata": {},
   "outputs": [],
   "source": [
    "s = [\"h\",\"e\",\"l\",\"l\",\"o\"]\n",
    "reverseString(s)\n",
    "s"
   ]
  },
  {
   "cell_type": "code",
   "execution_count": null,
   "id": "d7ff2dda",
   "metadata": {},
   "outputs": [],
   "source": [
    "s = [\"H\",\"a\",\"n\",\"n\",\"a\",\"h\"]\n",
    "reverseString(s)\n",
    "s"
   ]
  },
  {
   "cell_type": "markdown",
   "id": "9a1dc8ff",
   "metadata": {},
   "source": [
    "### 20211230<a id='1026'></a>\n",
    "<strong>1026. Maximum Difference Between Node and Ancestor</strong>\n",
    "[Quesiton List](#0)\n",
    "\n",
    "Given the root of a binary tree, find the maximum value v for which there exist different nodes a and b where v = |a.val - b.val| and a is an ancestor of b.\n",
    "\n",
    "A node a is an ancestor of b if either: any child of a is equal to b or any child of a is an ancestor of b."
   ]
  },
  {
   "cell_type": "code",
   "execution_count": null,
   "id": "ee45b827",
   "metadata": {},
   "outputs": [],
   "source": [
    "# does not work, only looks two level not the whole path\n",
    "def maxAncestorDiff(root):\n",
    "    if root is None:\n",
    "        return 0\n",
    "    if root.left is None and root.right is None:\n",
    "        return 0\n",
    "    left_max = 0\n",
    "    left_left_max = 0\n",
    "    left_right_max = 0\n",
    "    right_max = 0\n",
    "    right_left_max = 0\n",
    "    right_right_max = 0\n",
    "    if root.left:\n",
    "        left_max = max(abs(root.val-root.left.val), self.maxAncestorDiff(root.left))\n",
    "        if root.left.left:\n",
    "            left_left_max = max(abs(root.val-root.left.left.val), self.maxAncestorDiff(root.left.left))\n",
    "        if root.left.right:\n",
    "            left_right_max = max(abs(root.val-root.left.right.val), self.maxAncestorDiff(root.left.right))\n",
    "    if root.right:\n",
    "        right_max = max(abs(root.val-root.right.val), self.maxAncestorDiff(root.right))\n",
    "        if root.right.left:\n",
    "            right_left_max = max(abs(root.val-root.right.left.val), self.maxAncestorDiff(root.right.left))\n",
    "        if root.right.right:\n",
    "            right_right_max = max(abs(root.val-root.right.right.val), self.maxAncestorDiff(root.right.right))\n",
    "    return max(left_max, left_left_max, left_right_max, right_max, right_left_max, right_right_max)"
   ]
  },
  {
   "cell_type": "markdown",
   "id": "b2fa5457",
   "metadata": {},
   "source": [
    "### 20220102<a id='1010'></a>\n",
    "<strong>1010. Pairs of Songs With Total Durations Divisible by 60</strong>\n",
    "[Quesiton List](#0)\n",
    "\n",
    "You are given a list of songs where the ith song has a duration of time[i] seconds.\n",
    "\n",
    "Return the number of pairs of songs for which their total duration in seconds is divisible by 60. Formally, we want the number of indices i, j such that i < j with (time[i] + time[j]) % 60 == 0."
   ]
  },
  {
   "cell_type": "code",
   "execution_count": null,
   "id": "aec5a501",
   "metadata": {},
   "outputs": [],
   "source": [
    "def numPairsDivisibleBy60(time):\n",
    "    \"\"\"\n",
    "    :type time: List[int]\n",
    "    :rtype: int\n",
    "    \"\"\"\n",
    "    from collections import defaultdict\n",
    "    mods = defaultdict(int)\n",
    "    ans = 0\n",
    "    for t in time:\n",
    "        mod = t % 60\n",
    "        if mod == 0:\n",
    "            ans += mods[0]\n",
    "        else:\n",
    "            ans += mods[60-mod]\n",
    "        mods[mod] += 1\n",
    "    return ans"
   ]
  },
  {
   "cell_type": "code",
   "execution_count": null,
   "id": "e0e5a8a1",
   "metadata": {},
   "outputs": [],
   "source": [
    "# 1. mod == 0 pair with each other a*(a-1)/2\n",
    "# 2. mod == 30 pair with each other a*(a-1)/2\n",
    "# 3. mod+mod == 60 pair with each other a*b\n",
    "def numPairsDivisibleBy60(time):\n",
    "    reminder = [0] * 60\n",
    "    for t in time:\n",
    "        reminder[t%60] += 1\n",
    "    ans = 0\n",
    "    for i in range(1,30):\n",
    "        ans += reminder[i] * reminder[60-i]\n",
    "    ans += (reminder[0]) * (reminder[0]-1)/2 + (reminder[30]) * (reminder[30]-1)/2\n",
    "    return int(ans)"
   ]
  },
  {
   "cell_type": "code",
   "execution_count": null,
   "id": "154503d6",
   "metadata": {},
   "outputs": [],
   "source": [
    "time = [30,20,150,100,40]\n",
    "numPairsDivisibleBy60(time)"
   ]
  },
  {
   "cell_type": "code",
   "execution_count": null,
   "id": "54efb7c2",
   "metadata": {},
   "outputs": [],
   "source": [
    "time = [60,60,60]\n",
    "numPairsDivisibleBy60(time)"
   ]
  },
  {
   "cell_type": "markdown",
   "id": "a8d1ca0d",
   "metadata": {},
   "source": [
    "### 20220102<a id='997'></a>\n",
    "<strong>997. Find the Town Judge</strong>\n",
    "[Quesiton List](#0)\n",
    "\n",
    "In a town, there are n people labeled from 1 to n. There is a rumor that one of these people is secretly the town judge.\n",
    "\n",
    "If the town judge exists, then:\n",
    "\n",
    "- The town judge trusts nobody.\n",
    "- Everybody (except for the town judge) trusts the town judge.\n",
    "- There is exactly one person that satisfies properties 1 and 2.\n",
    "\n",
    "You are given an array trust where trust[i] = [ai, bi] representing that the person labeled ai trusts the person labeled bi.\n",
    "\n",
    "Return the label of the town judge if the town judge exists and can be identified, or return -1 otherwise."
   ]
  },
  {
   "cell_type": "code",
   "execution_count": null,
   "id": "4b99bc43",
   "metadata": {},
   "outputs": [],
   "source": [
    "# trustees: for people who trust someone else will be 0, they cannot be judge\n",
    "# trusteds: num of trusts by others, needs to equal to n-1\n",
    "# go through trust by [trustee, trusted], trustees = 0, trusteds += 1\n",
    "# find max in trusteds, if it is equal to n-1, check that index in trustee if it is equal to 1\n",
    "def findJudge(n, trust):\n",
    "    trustees = [1] * n\n",
    "    trusteds = [0] * n\n",
    "    for [trustee, trusted] in trust:\n",
    "        trustees[trustee-1] = 0\n",
    "        trusteds[trusted-1] += 1\n",
    "    num_trusted = max(trusteds)\n",
    "    if num_trusted != n - 1:\n",
    "        return -1\n",
    "    judge = trusteds.index(num_trusted)\n",
    "    if trustees[judge] == 1:\n",
    "        return judge + 1\n",
    "    return -1"
   ]
  },
  {
   "cell_type": "code",
   "execution_count": null,
   "id": "b8c05225",
   "metadata": {},
   "outputs": [],
   "source": [
    "# one array to represent both\n",
    "def findJudge(n, trust):\n",
    "    trusted = [0] * n\n",
    "    for [a, b] in trust:\n",
    "        trusted[a-1] -= 1\n",
    "        trusted[b-1] += 1\n",
    "    for i, num in enumerate(trusted):\n",
    "        if num == n-1:\n",
    "            return i+1\n",
    "    return -1"
   ]
  },
  {
   "cell_type": "code",
   "execution_count": null,
   "id": "19469bc6",
   "metadata": {},
   "outputs": [],
   "source": [
    "n = 2 \n",
    "trust = [[1,2]]\n",
    "findJudge(n, trust)"
   ]
  },
  {
   "cell_type": "code",
   "execution_count": null,
   "id": "fcc3a734",
   "metadata": {},
   "outputs": [],
   "source": [
    "n = 3\n",
    "trust = [[1,3],[2,3]]\n",
    "findJudge(n, trust)"
   ]
  },
  {
   "cell_type": "code",
   "execution_count": null,
   "id": "01f517fa",
   "metadata": {},
   "outputs": [],
   "source": [
    "n = 3\n",
    "trust = [[1,3],[2,3],[3,1]]\n",
    "findJudge(n, trust)"
   ]
  },
  {
   "cell_type": "code",
   "execution_count": null,
   "id": "e7b5bac4",
   "metadata": {},
   "outputs": [],
   "source": [
    "n = 4\n",
    "trust = [[1,3],[1,4],[2,3],[2,4],[4,3]]\n",
    "findJudge(n, trust)"
   ]
  },
  {
   "cell_type": "markdown",
   "id": "2c6e41b5",
   "metadata": {},
   "source": [
    "### 20220103<a id='557'></a>\n",
    "<strong>557. Reverse Words in a String III</strong>\n",
    "[Quesiton List](#0)\n",
    "\n",
    "Given a string s, reverse the order of characters in each word within a sentence while still preserving whitespace and initial word order."
   ]
  },
  {
   "cell_type": "code",
   "execution_count": null,
   "id": "d4db56f7",
   "metadata": {},
   "outputs": [],
   "source": [
    "def reverseWords(s):\n",
    "    split = s.split(' ')\n",
    "    for i, word in enumerate(split):\n",
    "        split[i] = word[::-1]\n",
    "    return ' '.join(split)"
   ]
  },
  {
   "cell_type": "code",
   "execution_count": null,
   "id": "c4e508fc",
   "metadata": {},
   "outputs": [],
   "source": [
    "s = \"Let's take LeetCode contest\"\n",
    "reverseWords(s)"
   ]
  },
  {
   "cell_type": "markdown",
   "id": "4556dac1",
   "metadata": {},
   "source": [
    "### 20220103<a id='19'></a>\n",
    "<strong>19. Remove Nth Node From End of List</strong>\n",
    "[Quesiton List](#0)\n",
    "\n",
    "Given the head of a linked list, remove the nth node from the end of the list and return its head.\n",
    "\n"
   ]
  },
  {
   "cell_type": "code",
   "execution_count": null,
   "id": "43e5488c",
   "metadata": {},
   "outputs": [],
   "source": [
    "# need to move the index len(head)-n element\n",
    "# first travel one pointer to n, then travel two pointer to the end\n",
    "def removeNthFromEnd(head, n):\n",
    "    dummy = listNode(0, head)\n",
    "    remove = dummy\n",
    "    cur = dummy.next\n",
    "    for i in range(n-1):\n",
    "        cur = cur.next\n",
    "    while cur.next is not None:\n",
    "        remove = remove.next\n",
    "        cur = cur.next\n",
    "    remove.next = remove.next.next\n",
    "    return dummy.next"
   ]
  },
  {
   "cell_type": "markdown",
   "id": "f65f384c",
   "metadata": {},
   "source": [
    "### 20220103<a id='1009'></a>\n",
    "<strong>1009. Complement of Base 10 Integer</strong>\n",
    "[Quesiton List](#0)\n",
    "\n",
    "The complement of an integer is the integer you get when you flip all the 0's to 1's and all the 1's to 0's in its binary representation.\n",
    "\n",
    "- For example, The integer 5 is \"101\" in binary and its complement is \"010\" which is the integer 2.\n",
    "\n",
    "Given an integer n, return its complement."
   ]
  },
  {
   "cell_type": "code",
   "execution_count": null,
   "id": "f7a6a7c7",
   "metadata": {},
   "outputs": [],
   "source": [
    "def bitwiseComplement(n):\n",
    "    binary = bin(n)[2:]\n",
    "    comp = ''\n",
    "    for num in binary:\n",
    "        if num == '0':\n",
    "            comp += '1'\n",
    "        else:\n",
    "            comp += '0'\n",
    "    return int(comp, 2)"
   ]
  },
  {
   "cell_type": "code",
   "execution_count": null,
   "id": "d263bc85",
   "metadata": {},
   "outputs": [],
   "source": [
    "bitwiseComplement(5)"
   ]
  },
  {
   "cell_type": "markdown",
   "id": "67def645",
   "metadata": {},
   "source": [
    "### 20220103<a id='3'></a>\n",
    "<strong>3. Longest Substring Without Repeating Characters</strong>\n",
    "[Quesiton List](#0)"
   ]
  },
  {
   "cell_type": "code",
   "execution_count": null,
   "id": "d60bea23",
   "metadata": {},
   "outputs": [],
   "source": [
    "# 26 letter versuib\n",
    "def lengthOfLongestSubstring(s):\n",
    "    pos = [-1] * 26\n",
    "    ans = 0\n",
    "    left = 0\n",
    "    for i, letter in enumerate(s):\n",
    "        last = pos[ord(letter) - ord('a')]\n",
    "        if last != -1:\n",
    "            left = last + 1\n",
    "        ans = max(ans, i-left+1)\n",
    "        pos[ord(letter) - ord('a')] = i\n",
    "    return ans"
   ]
  },
  {
   "cell_type": "code",
   "execution_count": null,
   "id": "d9a72f20",
   "metadata": {},
   "outputs": [],
   "source": [
    "def lengthOfLongestSubstring(s):\n",
    "    pos = {}\n",
    "    ans = 0\n",
    "    left = 0\n",
    "    for i, letter in enumerate(s):\n",
    "        if letter in pos:\n",
    "            if pos[letter] >= left:\n",
    "                left = pos[letter] + 1\n",
    "        ans = max(ans, i-left+1)\n",
    "        pos[letter] = i\n",
    "    return ans"
   ]
  },
  {
   "cell_type": "code",
   "execution_count": null,
   "id": "fd4306a1",
   "metadata": {},
   "outputs": [],
   "source": [
    "s = \"abcabcbb\"\n",
    "lengthOfLongestSubstring(s)"
   ]
  },
  {
   "cell_type": "code",
   "execution_count": null,
   "id": "bc892bde",
   "metadata": {},
   "outputs": [],
   "source": [
    "s = \"pwwkew\"\n",
    "lengthOfLongestSubstring(s)"
   ]
  },
  {
   "cell_type": "code",
   "execution_count": null,
   "id": "ff543671",
   "metadata": {},
   "outputs": [],
   "source": [
    "s = \"b\"\n",
    "lengthOfLongestSubstring(s)"
   ]
  },
  {
   "cell_type": "code",
   "execution_count": null,
   "id": "fa1fc2c8",
   "metadata": {},
   "outputs": [],
   "source": [
    "s = \"abba\"\n",
    "lengthOfLongestSubstring(s)"
   ]
  },
  {
   "cell_type": "markdown",
   "id": "2b856582",
   "metadata": {},
   "source": [
    "### 20220103<a id='567'></a>\n",
    "<strong>567. Permutation in String</strong>\n",
    "[Quesiton List](#0)"
   ]
  },
  {
   "cell_type": "code",
   "execution_count": null,
   "id": "bd6c1ceb",
   "metadata": {},
   "outputs": [],
   "source": [
    "def checkInclusion(s1, s2):\n",
    "    if len(s1) > len(s2):\n",
    "        return False\n",
    "    freq = [0] * 26\n",
    "    for letter in s1:\n",
    "        freq[ord(letter) - ord('a')] += 1\n",
    "    left = 0\n",
    "    right = 0\n",
    "    while right < len(s2):\n",
    "        if freq[ord(s2[right]) - ord('a')] == 0:\n",
    "            while left < right:\n",
    "                freq[ord(s2[left]) - ord('a')] += 1\n",
    "                left += 1\n",
    "                if freq[ord(s2[right]) - ord('a')] > 0:\n",
    "                    break\n",
    "        if freq[ord(s2[right]) - ord('a')] > 0:\n",
    "            freq[ord(s2[right]) - ord('a')] -= 1\n",
    "            if sum(freq) == 0:\n",
    "                return True\n",
    "        else:\n",
    "            left += 1\n",
    "        right += 1\n",
    "    return False"
   ]
  },
  {
   "cell_type": "code",
   "execution_count": null,
   "id": "6f587ce1",
   "metadata": {},
   "outputs": [],
   "source": [
    "s1 = \"ab\"\n",
    "s2 = \"eidbaooo\"\n",
    "checkInclusion(s1, s2)"
   ]
  },
  {
   "cell_type": "code",
   "execution_count": null,
   "id": "bb22db13",
   "metadata": {},
   "outputs": [],
   "source": [
    "s1 = \"ab\"\n",
    "s2 = \"eidboaoo\"\n",
    "checkInclusion(s1, s2)"
   ]
  },
  {
   "cell_type": "code",
   "execution_count": null,
   "id": "03050add",
   "metadata": {},
   "outputs": [],
   "source": [
    "s1 = \"adc\"\n",
    "s2 = \"dcda\"\n",
    "checkInclusion(s1, s2)"
   ]
  },
  {
   "cell_type": "markdown",
   "id": "81ca5774",
   "metadata": {},
   "source": [
    "### 20220104<a id='46'></a>\n",
    "<strong>46. Permutations</strong>\n",
    "[Quesiton List](#0)\n"
   ]
  },
  {
   "cell_type": "code",
   "execution_count": null,
   "id": "428d5306",
   "metadata": {},
   "outputs": [],
   "source": [
    "def permute(nums):\n",
    "    l = 0\n",
    "    r = len(nums) - 1\n",
    "    for i in range(l,r+1):\n",
    "        nums[l], a[i] = nums[i], numsa[l]\n",
    "        permute(nums, l+1, r)\n",
    "        nums[l], nums[i] = nums[i], nums[l] "
   ]
  },
  {
   "cell_type": "markdown",
   "id": "49078454",
   "metadata": {},
   "source": [
    "### 20220104<a id='131'></a>\n",
    "<strong>131. Palindrome Partitioning</strong>\n",
    "[Quesiton List](#0)\n"
   ]
  },
  {
   "cell_type": "code",
   "execution_count": null,
   "id": "dc264c31",
   "metadata": {},
   "outputs": [],
   "source": [
    "def partition(s):\n",
    "    ans = []\n",
    "    current = []\n",
    "    def dfs(s, start, current, ans):\n",
    "        if start > len(s) - 1:\n",
    "            ans.append(list(current))\n",
    "        for end in range(start, len(s)):\n",
    "            check = s[start:end+1]\n",
    "            if check == check[::-1]:\n",
    "                current.append(check)\n",
    "                dfs(s, end+1, current, ans)\n",
    "                current.pop()\n",
    "    dfs(s, 0, current, ans)\n",
    "    return ans"
   ]
  },
  {
   "cell_type": "code",
   "execution_count": null,
   "id": "3c698064",
   "metadata": {},
   "outputs": [],
   "source": [
    "s = '12321'\n",
    "start = 1\n",
    "end = 3\n",
    "print(s[start:end+1], s[start:end+1:-1])"
   ]
  },
  {
   "cell_type": "code",
   "execution_count": null,
   "id": "42ed7088",
   "metadata": {},
   "outputs": [],
   "source": [
    "s = \"aab\"\n",
    "partition(s)"
   ]
  },
  {
   "cell_type": "code",
   "execution_count": null,
   "id": "98cf7b93",
   "metadata": {},
   "outputs": [],
   "source": [
    "s = 'a'\n",
    "partition(s)"
   ]
  },
  {
   "cell_type": "markdown",
   "id": "f172ac73",
   "metadata": {},
   "source": [
    "### 20220105<a id='733'></a>\n",
    "<strong>733. Flood Fill</strong>\n",
    "[Quesiton List](#0)\n"
   ]
  },
  {
   "cell_type": "code",
   "execution_count": null,
   "id": "c57c0357",
   "metadata": {},
   "outputs": [],
   "source": [
    "def floodFill(image, sr, sc, newColor):\n",
    "    color = image[sr][sc]\n",
    "    def dfs(image, r, c, color, new_color):\n",
    "        if image[r][c] == new_color:\n",
    "            return\n",
    "        if image[r][c] == color:\n",
    "            image[r][c] = new_color\n",
    "            if r < len(image)-1:\n",
    "                dfs(image, r+1, c, color, new_color)\n",
    "            if r > 0:\n",
    "                dfs(image, r-1, c, color, new_color)\n",
    "            if c < len(image[0])-1:\n",
    "                dfs(image, r, c+1, color, new_color)\n",
    "            if c > 0:\n",
    "                dfs(image, r, c-1, color, new_color)\n",
    "    dfs(image, sr, sc, color, newColor)\n",
    "    return image"
   ]
  },
  {
   "cell_type": "code",
   "execution_count": null,
   "id": "589e52b7",
   "metadata": {},
   "outputs": [],
   "source": [
    "image = [[1,1,1],[1,1,0],[1,0,1]]\n",
    "sr = 1\n",
    "sc = 1\n",
    "newColor = 2\n",
    "floodFill(image, sr, sc, newColor)"
   ]
  },
  {
   "cell_type": "code",
   "execution_count": null,
   "id": "ba6eb683",
   "metadata": {},
   "outputs": [],
   "source": [
    "image = [[0,0,0],[0,0,0],[0,0,0]]\n",
    "sr = 1\n",
    "sc = 1\n",
    "newColor = 2\n",
    "floodFill(image, sr, sc, newColor)"
   ]
  },
  {
   "cell_type": "code",
   "execution_count": null,
   "id": "10f1bd80",
   "metadata": {},
   "outputs": [],
   "source": [
    "image = [[0,0,0],[0,1,1]]\n",
    "sr = 1\n",
    "sc = 1\n",
    "newColor = 1\n",
    "floodFill(image, sr, sc, newColor)"
   ]
  },
  {
   "cell_type": "markdown",
   "id": "f213fc2c",
   "metadata": {},
   "source": [
    "### 20220105<a id='1094'></a>\n",
    "<strong>1094. Car Pooling</strong>\n",
    "[Quesiton List](#0)\n",
    "\n",
    "There is a car with capacity empty seats. The vehicle only drives east (i.e., it cannot turn around and drive west).\n",
    "\n",
    "You are given the integer capacity and an array trips where trip[i] = [numPassengersi, fromi, toi] indicates that the ith trip has numPassengersi passengers and the locations to pick them up and drop them off are fromi and toi respectively. The locations are given as the number of kilometers due east from the car's initial location.\n",
    "\n",
    "Return true if it is possible to pick up and drop off all passengers for all the given trips, or false otherwise."
   ]
  },
  {
   "cell_type": "code",
   "execution_count": null,
   "id": "a15c9812",
   "metadata": {},
   "outputs": [],
   "source": [
    "# sort trips by from\n",
    "# travese sorted trips\n",
    "# push (to, numPassengers) to heapq\n",
    "# pop the ones that reach destinations\n",
    "def carPooling(trips, capacity):\n",
    "    from heapq import heappush, heappop, nlargest, nsmallest\n",
    "    trips.sort(key = lambda x: x[1])    \n",
    "    seats = capacity\n",
    "    destinations = []\n",
    "    for (people, start, end) in trips:\n",
    "        while len(destinations) > 0 and nsmallest(1, destinations)[0][0] <= start:\n",
    "            temp = heappop(destinations)\n",
    "            seats += temp[1]\n",
    "        seats -= people\n",
    "        heappush(destinations, (end, people))\n",
    "        if seats < 0:\n",
    "            return False\n",
    "    return True"
   ]
  },
  {
   "cell_type": "code",
   "execution_count": null,
   "id": "83c5735f",
   "metadata": {},
   "outputs": [],
   "source": [
    "def carPooling(trips, capacity) -> bool:\n",
    "    car = 1001*[0]\n",
    "    for trip in trips:\n",
    "        # Arrival number of passengers in to car\n",
    "        car[trip[1]] += trip[0]\n",
    "        # Departure number of passengers from car\n",
    "        car[trip[2]] -= trip[0]\n",
    "        # now check total number of passengers in car at any arrival and departure point\n",
    "        # if they more than the capacity of car(given) return false\n",
    "        # else you can pick all passengers return true\n",
    "    passengers = 0\n",
    "    for p in car:\n",
    "        passengers += p\n",
    "        if passengers > capacity:\n",
    "            return False\n",
    "    return True"
   ]
  },
  {
   "cell_type": "code",
   "execution_count": null,
   "id": "7e23d05e",
   "metadata": {},
   "outputs": [],
   "source": [
    "from heapq import heappush, heappop, nlargest, nsmallest\n",
    "h = []\n",
    "#heappop(h) #out of index\n",
    "heappush(h, (5, 2))\n",
    "heappush(h, (1, 3))\n",
    "print(nsmallest(1,h))\n",
    "print(nlargest(1,h))\n",
    "print(heappop(h))\n",
    "print(h)"
   ]
  },
  {
   "cell_type": "code",
   "execution_count": null,
   "id": "9b03437f",
   "metadata": {},
   "outputs": [],
   "source": [
    "trips = [[2,1,5],[3,3,7]]\n",
    "capacity = 4\n",
    "carPooling(trips, capacity)"
   ]
  },
  {
   "cell_type": "code",
   "execution_count": null,
   "id": "96730e67",
   "metadata": {},
   "outputs": [],
   "source": [
    "trips = [[2,1,5],[3,3,7]]\n",
    "capacity = 5\n",
    "carPooling(trips, capacity)"
   ]
  },
  {
   "cell_type": "code",
   "execution_count": null,
   "id": "ee6d6d08",
   "metadata": {},
   "outputs": [],
   "source": [
    "trips = [[7,5,6],[6,7,8],[10,1,6]]\n",
    "capacity = 16\n",
    "carPooling(trips, capacity)"
   ]
  },
  {
   "cell_type": "markdown",
   "id": "e35ba74d",
   "metadata": {},
   "source": [
    "### 20220105<a id='695'></a>\n",
    "<strong>695. Max Area of Island</strong>\n",
    "[Quesiton List](#0)"
   ]
  },
  {
   "cell_type": "code",
   "execution_count": null,
   "id": "e8c648fb",
   "metadata": {},
   "outputs": [],
   "source": [
    "def maxAreaOfIsland(grid):\n",
    "    ans = 0\n",
    "    seen = set()\n",
    "    def dfs(grid, r, c):\n",
    "        if grid[r][c] == 0 or (r, c) in seen:\n",
    "            return 0\n",
    "        seen.add((r,c))\n",
    "        count = 1\n",
    "        left = 0\n",
    "        right = 0\n",
    "        top = 0\n",
    "        bottom = 0\n",
    "        if r < len(grid)-1:\n",
    "            right = dfs(grid, r+1, c)\n",
    "        if r > 0:\n",
    "            left = dfs(grid, r-1, c)\n",
    "        if c < len(grid[0])-1:\n",
    "            top = dfs(grid, r, c+1)\n",
    "        if c > 0:\n",
    "            bottom = dfs(grid, r, c-1)\n",
    "        return count + left + right + top + bottom\n",
    "    for i in range(len(grid)):\n",
    "        for j in range(len(grid[i])):\n",
    "            ans = max(ans, dfs(grid, i, j))\n",
    "    return ans"
   ]
  },
  {
   "cell_type": "code",
   "execution_count": null,
   "id": "84d94b87",
   "metadata": {},
   "outputs": [],
   "source": [
    "def maxAreaOfIsland(grid):\n",
    "    seen = set()\n",
    "    def area(r, c):\n",
    "        if not (0 <= r < len(grid) and 0 <= c < len(grid[0])\n",
    "                and (r, c) not in seen and grid[r][c]):\n",
    "            return 0\n",
    "        seen.add((r, c))\n",
    "        return (1 + area(r+1, c) + area(r-1, c) +\n",
    "                area(r, c-1) + area(r, c+1))\n",
    "\n",
    "    return max(area(r, c)\n",
    "               for r in range(len(grid))\n",
    "               for c in range(len(grid[0])))"
   ]
  },
  {
   "cell_type": "code",
   "execution_count": null,
   "id": "29d63385",
   "metadata": {},
   "outputs": [],
   "source": [
    "grid = [[0,0,1,0,0,0,0,1,0,0,0,0,0],[0,0,0,0,0,0,0,1,1,1,0,0,0],[0,1,1,0,1,0,0,0,0,0,0,0,0],[0,1,0,0,1,1,0,0,1,0,1,0,0],[0,1,0,0,1,1,0,0,1,1,1,0,0],[0,0,0,0,0,0,0,0,0,0,1,0,0],[0,0,0,0,0,0,0,1,1,1,0,0,0],[0,0,0,0,0,0,0,1,1,0,0,0,0]]\n",
    "maxAreaOfIsland(grid)"
   ]
  },
  {
   "cell_type": "code",
   "execution_count": null,
   "id": "97657a10",
   "metadata": {},
   "outputs": [],
   "source": [
    "grid = [[0,0,0,0,0,0,0,0]]\n",
    "maxAreaOfIsland(grid)"
   ]
  },
  {
   "cell_type": "code",
   "execution_count": null,
   "id": "05edc018",
   "metadata": {},
   "outputs": [],
   "source": [
    "grid = [[1,1,1,1,1,1,1,1,1,1,1,1,1,1,1,1,1,1,1,1,1,1,1,1,1,1,1,1,1,1,1,1,1,1,1,1,1,1,1,1,1,1,1,1,1,1,1,1,1,1],[0,0,0,0,0,0,0,0,0,0,0,0,0,0,0,0,0,0,0,0,0,0,0,0,0,0,0,0,0,0,0,0,0,0,0,0,0,0,0,0,0,0,0,0,0,0,0,0,0,1],[1,1,1,1,1,1,1,1,1,1,1,1,1,1,1,1,1,1,1,1,1,1,1,1,1,1,1,1,1,1,1,1,1,1,1,1,1,1,1,1,1,1,1,1,1,1,1,1,0,1],[1,0,0,0,0,0,0,0,0,0,0,0,0,0,0,0,0,0,0,0,0,0,0,0,0,0,0,0,0,0,0,0,0,0,0,0,0,0,0,0,0,0,0,0,0,0,0,1,0,1],[1,0,1,1,1,1,1,1,1,1,1,1,1,1,1,1,1,1,1,1,1,1,1,1,1,1,1,1,1,1,1,1,1,1,1,1,1,1,1,1,1,1,1,1,1,1,0,1,0,1],[1,0,1,0,0,0,0,0,0,0,0,0,0,0,0,0,0,0,0,0,0,0,0,0,0,0,0,0,0,0,0,0,0,0,0,0,0,0,0,0,0,0,0,0,0,1,0,1,0,1],[1,0,1,0,1,1,1,1,1,1,1,1,1,1,1,1,1,1,1,1,1,1,1,1,1,1,1,1,1,1,1,1,1,1,1,1,1,1,1,1,1,1,1,1,0,1,0,1,0,1],[1,0,1,0,1,0,0,0,0,0,0,0,0,0,0,0,0,0,0,0,0,0,0,0,0,0,0,0,0,0,0,0,0,0,0,0,0,0,0,0,0,0,0,1,0,1,0,1,0,1],[1,0,1,0,1,0,1,1,1,1,1,1,1,1,1,1,1,1,1,1,1,1,1,1,1,1,1,1,1,1,1,1,1,1,1,1,1,1,1,1,1,1,0,1,0,1,0,1,0,1],[1,0,1,0,1,0,1,0,0,0,0,0,0,0,0,0,0,0,0,0,0,0,0,0,0,0,0,0,0,0,0,0,0,0,0,0,0,0,0,0,0,1,0,1,0,1,0,1,0,1],[1,0,1,0,1,0,1,0,1,1,1,1,1,1,1,1,1,1,1,1,1,1,1,1,1,1,1,1,1,1,1,1,1,1,1,1,1,1,1,1,0,1,0,1,0,1,0,1,0,1],[1,0,1,0,1,0,1,0,1,0,0,0,0,0,0,0,0,0,0,0,0,0,0,0,0,0,0,0,0,0,0,0,0,0,0,0,0,0,0,1,0,1,0,1,0,1,0,1,0,1],[1,0,1,0,1,0,1,0,1,0,1,1,1,1,1,1,1,1,1,1,1,1,1,1,1,1,1,1,1,1,1,1,1,1,1,1,1,1,0,1,0,1,0,1,0,1,0,1,0,1],[1,0,1,0,1,0,1,0,1,0,1,0,0,0,0,0,0,0,0,0,0,0,0,0,0,0,0,0,0,0,0,0,0,0,0,0,0,1,0,1,0,1,0,1,0,1,0,1,0,1],[1,0,1,0,1,0,1,0,1,0,1,0,1,1,1,1,1,1,1,1,1,1,1,1,1,1,1,1,1,1,1,1,1,1,1,1,0,1,0,1,0,1,0,1,0,1,0,1,0,1],[1,0,1,0,1,0,1,0,1,0,1,0,1,0,0,0,0,0,0,0,0,0,0,0,0,0,0,0,0,0,0,0,0,0,0,1,0,1,0,1,0,1,0,1,0,1,0,1,0,1],[1,0,1,0,1,0,1,0,1,0,1,0,1,0,1,1,1,1,1,1,1,1,1,1,1,1,1,1,1,1,1,1,1,1,0,1,0,1,0,1,0,1,0,1,0,1,0,1,0,1],[1,0,1,0,1,0,1,0,1,0,1,0,1,0,1,0,0,0,0,0,0,0,0,0,0,0,0,0,0,0,0,0,0,1,0,1,0,1,0,1,0,1,0,1,0,1,0,1,0,1],[1,0,1,0,1,0,1,0,1,0,1,0,1,0,1,0,1,1,1,1,1,1,1,1,1,1,1,1,1,1,1,1,0,1,0,1,0,1,0,1,0,1,0,1,0,1,0,1,0,1],[1,0,1,0,1,0,1,0,1,0,1,0,1,0,1,0,1,0,0,0,0,0,0,0,0,0,0,0,0,0,0,1,0,1,0,1,0,1,0,1,0,1,0,1,0,1,0,1,0,1],[1,0,1,0,1,0,1,0,1,0,1,0,1,0,1,0,1,0,1,1,1,1,1,1,1,1,1,1,1,1,0,1,0,1,0,1,0,1,0,1,0,1,0,1,0,1,0,1,0,1],[1,0,1,0,1,0,1,0,1,0,1,0,1,0,1,0,1,0,1,0,0,0,0,0,0,0,0,0,0,1,0,1,0,1,0,1,0,1,0,1,0,1,0,1,0,1,0,1,0,1],[1,0,1,0,1,0,1,0,1,0,1,0,1,0,1,0,1,0,1,0,1,1,1,1,1,1,1,1,0,1,0,1,0,1,0,1,0,1,0,1,0,1,0,1,0,1,0,1,0,1],[1,0,1,0,1,0,1,0,1,0,1,0,1,0,1,0,1,0,1,0,1,0,0,0,0,0,0,1,0,1,0,1,0,1,0,1,0,1,0,1,0,1,0,1,0,1,0,1,0,1],[1,0,1,0,1,0,1,0,1,0,1,0,1,0,1,0,1,0,1,0,1,0,1,1,1,1,0,1,0,1,0,1,0,1,0,1,0,1,0,1,0,1,0,1,0,1,0,1,0,1],[1,0,1,0,1,0,1,0,1,0,1,0,1,0,1,0,1,0,1,0,1,0,1,0,1,1,0,1,0,1,0,1,0,1,0,1,0,1,0,1,0,1,0,1,0,1,0,1,0,1],[1,0,1,0,1,0,1,0,1,0,1,0,1,0,1,0,1,0,1,0,1,0,1,0,0,0,0,1,0,1,0,1,0,1,0,1,0,1,0,1,0,1,0,1,0,1,0,1,0,1],[1,0,1,0,1,0,1,0,1,0,1,0,1,0,1,0,1,0,1,0,1,0,1,1,1,1,1,1,0,1,0,1,0,1,0,1,0,1,0,1,0,1,0,1,0,1,0,1,0,1],[1,0,1,0,1,0,1,0,1,0,1,0,1,0,1,0,1,0,1,0,1,0,0,0,0,0,0,0,0,1,0,1,0,1,0,1,0,1,0,1,0,1,0,1,0,1,0,1,0,1],[1,0,1,0,1,0,1,0,1,0,1,0,1,0,1,0,1,0,1,0,1,1,1,1,1,1,1,1,1,1,0,1,0,1,0,1,0,1,0,1,0,1,0,1,0,1,0,1,0,1],[1,0,1,0,1,0,1,0,1,0,1,0,1,0,1,0,1,0,1,0,0,0,0,0,0,0,0,0,0,0,0,1,0,1,0,1,0,1,0,1,0,1,0,1,0,1,0,1,0,1],[1,0,1,0,1,0,1,0,1,0,1,0,1,0,1,0,1,0,1,1,1,1,1,1,1,1,1,1,1,1,1,1,0,1,0,1,0,1,0,1,0,1,0,1,0,1,0,1,0,1],[1,0,1,0,1,0,1,0,1,0,1,0,1,0,1,0,1,0,0,0,0,0,0,0,0,0,0,0,0,0,0,0,0,1,0,1,0,1,0,1,0,1,0,1,0,1,0,1,0,1],[1,0,1,0,1,0,1,0,1,0,1,0,1,0,1,0,1,1,1,1,1,1,1,1,1,1,1,1,1,1,1,1,1,1,0,1,0,1,0,1,0,1,0,1,0,1,0,1,0,1],[1,0,1,0,1,0,1,0,1,0,1,0,1,0,1,0,0,0,0,0,0,0,0,0,0,0,0,0,0,0,0,0,0,0,0,1,0,1,0,1,0,1,0,1,0,1,0,1,0,1],[1,0,1,0,1,0,1,0,1,0,1,0,1,0,1,1,1,1,1,1,1,1,1,1,1,1,1,1,1,1,1,1,1,1,1,1,0,1,0,1,0,1,0,1,0,1,0,1,0,1],[1,0,1,0,1,0,1,0,1,0,1,0,1,0,0,0,0,0,0,0,0,0,0,0,0,0,0,0,0,0,0,0,0,0,0,0,0,1,0,1,0,1,0,1,0,1,0,1,0,1],[1,0,1,0,1,0,1,0,1,0,1,0,1,1,1,1,1,1,1,1,1,1,1,1,1,1,1,1,1,1,1,1,1,1,1,1,1,1,0,1,0,1,0,1,0,1,0,1,0,1],[1,0,1,0,1,0,1,0,1,0,1,0,0,0,0,0,0,0,0,0,0,0,0,0,0,0,0,0,0,0,0,0,0,0,0,0,0,0,0,1,0,1,0,1,0,1,0,1,0,1],[1,0,1,0,1,0,1,0,1,0,1,1,1,1,1,1,1,1,1,1,1,1,1,1,1,1,1,1,1,1,1,1,1,1,1,1,1,1,1,1,0,1,0,1,0,1,0,1,0,1],[1,0,1,0,1,0,1,0,1,0,0,0,0,0,0,0,0,0,0,0,0,0,0,0,0,0,0,0,0,0,0,0,0,0,0,0,0,0,0,0,0,1,0,1,0,1,0,1,0,1],[1,0,1,0,1,0,1,0,1,1,1,1,1,1,1,1,1,1,1,1,1,1,1,1,1,1,1,1,1,1,1,1,1,1,1,1,1,1,1,1,1,1,0,1,0,1,0,1,0,1],[1,0,1,0,1,0,1,0,0,0,0,0,0,0,0,0,0,0,0,0,0,0,0,0,0,0,0,0,0,0,0,0,0,0,0,0,0,0,0,0,0,0,0,1,0,1,0,1,0,1],[1,0,1,0,1,0,1,1,1,1,1,1,1,1,1,1,1,1,1,1,1,1,1,1,1,1,1,1,1,1,1,1,1,1,1,1,1,1,1,1,1,1,1,1,0,1,0,1,0,1],[1,0,1,0,1,0,0,0,0,0,0,0,0,0,0,0,0,0,0,0,0,0,0,0,0,0,0,0,0,0,0,0,0,0,0,0,0,0,0,0,0,0,0,0,0,1,0,1,0,1],[1,0,1,0,1,1,1,1,1,1,1,1,1,1,1,1,1,1,1,1,1,1,1,1,1,1,1,1,1,1,1,1,1,1,1,1,1,1,1,1,1,1,1,1,1,1,0,1,0,1],[1,0,1,0,0,0,0,0,0,0,0,0,0,0,0,0,0,0,0,0,0,0,0,0,0,0,0,0,0,0,0,0,0,0,0,0,0,0,0,0,0,0,0,0,0,0,0,1,0,1],[1,0,1,1,1,1,1,1,1,1,1,1,1,1,1,1,1,1,1,1,1,1,1,1,1,1,1,1,1,1,1,1,1,1,1,1,1,1,1,1,1,1,1,1,1,1,1,1,0,1],[1,0,0,0,0,0,0,0,0,0,0,0,0,0,0,0,0,0,0,0,0,0,0,0,0,0,0,0,0,0,0,0,0,0,0,0,0,0,0,0,0,0,0,0,0,0,0,0,0,1],[1,1,1,1,1,1,1,1,1,1,1,1,1,1,1,1,1,1,1,1,1,1,1,1,1,1,1,1,1,1,1,1,1,1,1,1,1,1,1,1,1,1,1,1,1,1,1,1,1,1]]\n",
    "maxAreaOfIsland(grid)"
   ]
  },
  {
   "cell_type": "markdown",
   "id": "02b9bbeb",
   "metadata": {},
   "source": [
    "### 20220106<a id='617'></a>\n",
    "<strong>617. Merge Two Binary Trees</strong>\n",
    "[Quesiton List](#0)\n"
   ]
  },
  {
   "cell_type": "code",
   "execution_count": null,
   "id": "97b1ca4c",
   "metadata": {},
   "outputs": [],
   "source": [
    "def mergeTrees(self, root1, root2):\n",
    "    \"\"\"\n",
    "    :type root1: TreeNode\n",
    "    :type root2: TreeNode\n",
    "    :rtype: TreeNode\n",
    "    \"\"\"\n",
    "\n",
    "    if root1 is None and root2 is None:\n",
    "        return\n",
    "    if root1 and root2:\n",
    "        value = root1.val + root2.val\n",
    "        left1 = root1.left\n",
    "        left2 = root2.left\n",
    "        right1 = root1.right\n",
    "        right2 = root2.right\n",
    "    elif root1:\n",
    "        value = root1.val\n",
    "        left1 = root1.left\n",
    "        left2 = None\n",
    "        right1 = root1.right\n",
    "        right2 = None\n",
    "    else:\n",
    "        value = root2.val\n",
    "        left1 = None\n",
    "        left2 = root2.left\n",
    "        right1 = None\n",
    "        right2 = root2.right\n",
    "    ans = TreeNode(value, self.mergeTrees(left1, left2), self.mergeTrees(right1, right2))\n",
    "    return ans"
   ]
  },
  {
   "cell_type": "code",
   "execution_count": null,
   "id": "f7d3d3b0",
   "metadata": {},
   "outputs": [],
   "source": [
    "def mergeTrees(self, root1, root2):\n",
    "    if root1 is None:\n",
    "        return root2\n",
    "    if root2 is None:\n",
    "        return root1\n",
    "    root1.val += root2.val\n",
    "    root1.left = self.mergeTrees(root1.left, root2.left)\n",
    "    root1.right = self.mergeTrees(root1.right, root2.right)\n",
    "    return root1"
   ]
  },
  {
   "cell_type": "markdown",
   "id": "274535ea",
   "metadata": {},
   "source": [
    "### 20220108<a id='1041'></a>\n",
    "<strong>1041. Robot Bounded In Circle</strong>\n",
    "[Quesiton List](#0)"
   ]
  },
  {
   "cell_type": "code",
   "execution_count": null,
   "id": "0724e4b8",
   "metadata": {},
   "outputs": [],
   "source": [
    "# At the end of instructions, when it is facing north, \n",
    "# the position must be the origin in order to be in the circle. \n",
    "def isRobotBounded(instructions):\n",
    "    position = [0,0]\n",
    "    direction = 0 #0:up, 1:right, 2:down, 3:left\n",
    "    move = {0: [0, 1], 1: [1,0], 2: [0, -1], 3: [-1, 0]}\n",
    "    while True:\n",
    "        for ins in instructions:\n",
    "            if ins == 'G':\n",
    "                position = [a + b for a, b in zip(position, move[direction])]\n",
    "            elif ins == 'L':\n",
    "                direction = (direction - 1)%4\n",
    "            elif ins == 'R':\n",
    "                direction = (direction + 1)%4\n",
    "        if direction == 0:\n",
    "            if position == [0,0]:\n",
    "                return True\n",
    "            else:\n",
    "                return False"
   ]
  },
  {
   "cell_type": "code",
   "execution_count": null,
   "id": "67f5e88a",
   "metadata": {},
   "outputs": [],
   "source": [
    "x = (0,0) \n",
    "y =(1,0)\n",
    "[a + b for a, b in zip(x, y)]"
   ]
  },
  {
   "cell_type": "code",
   "execution_count": null,
   "id": "f02c35ab",
   "metadata": {},
   "outputs": [],
   "source": [
    "instructions = \"GGLLGG\"\n",
    "isRobotBounded(instructions)"
   ]
  },
  {
   "cell_type": "code",
   "execution_count": null,
   "id": "5c6bb382",
   "metadata": {},
   "outputs": [],
   "source": [
    "instructions = \"GG\"\n",
    "isRobotBounded(instructions)"
   ]
  },
  {
   "cell_type": "code",
   "execution_count": null,
   "id": "29eb56da",
   "metadata": {},
   "outputs": [],
   "source": [
    "instructions = \"GL\"\n",
    "isRobotBounded(instructions)"
   ]
  },
  {
   "cell_type": "code",
   "execution_count": null,
   "id": "7969b57d",
   "metadata": {},
   "outputs": [],
   "source": [
    "instructions = \"GLGLGGLGL\"\n",
    "isRobotBounded(instructions)"
   ]
  },
  {
   "cell_type": "markdown",
   "id": "d6092905",
   "metadata": {},
   "source": [
    "### 20220109<a id='67'></a>\n",
    "<strong>67. Add Binary</strong>\n",
    "[Quesiton List](#0)"
   ]
  },
  {
   "cell_type": "code",
   "execution_count": null,
   "id": "87e7f865",
   "metadata": {},
   "outputs": [],
   "source": [
    "def addBinary(a, b):\n",
    "    return bin(int(a, 2) + int(b, 2))[2:]"
   ]
  },
  {
   "cell_type": "code",
   "execution_count": null,
   "id": "9af9485a",
   "metadata": {},
   "outputs": [],
   "source": [
    "# fill out 0 to match length\n",
    "# add one by one: carry+a+b, 0:0,0 1:1,0 2:0,1 3:1,1\n",
    "# return the reseverse of the ans\n",
    "def addBinary(a, b):\n",
    "    max_len = max(len(a), len(b))\n",
    "    a = a.zfill(max_len)\n",
    "    b = b.zfill(max_len)\n",
    "    ans = ''\n",
    "    carry = 0\n",
    "    for i in range(max_len-1, -1, -1):\n",
    "        x = 1 if a[i] == '1' else 0\n",
    "        y = 1 if b[i] == '1' else 0\n",
    "        add = carry + x + y\n",
    "        carry = 1 if add > 1 else 0\n",
    "        ans += str(add%2)\n",
    "    if carry != 0:\n",
    "        ans += '1'\n",
    "    return ans[::-1]"
   ]
  },
  {
   "cell_type": "code",
   "execution_count": null,
   "id": "eced4dfb",
   "metadata": {},
   "outputs": [],
   "source": [
    "a = \"11\"\n",
    "b = \"1\"\n",
    "addBinary(a, b)"
   ]
  },
  {
   "cell_type": "code",
   "execution_count": null,
   "id": "617cd228",
   "metadata": {},
   "outputs": [],
   "source": [
    "a = \"1010\"\n",
    "b = \"1011\"\n",
    "addBinary(a, b)"
   ]
  },
  {
   "cell_type": "code",
   "execution_count": null,
   "id": "bc09ebbf",
   "metadata": {},
   "outputs": [],
   "source": [
    "int('11',2)"
   ]
  },
  {
   "cell_type": "markdown",
   "id": "e77e27cc",
   "metadata": {},
   "source": [
    "### 20220110<a id='1022'></a>\n",
    "<strong>1022. Sum of Root To Leaf Binary Numbers</strong>\n",
    "[Quesiton List](#0)"
   ]
  },
  {
   "cell_type": "code",
   "execution_count": null,
   "id": "55a75aad",
   "metadata": {},
   "outputs": [],
   "source": [
    "class TreeNode:\n",
    "    def __init__(self, val=0, left=None, right=None):\n",
    "        self.val = val\n",
    "        self.left = left\n",
    "        self.right = right"
   ]
  },
  {
   "cell_type": "code",
   "execution_count": null,
   "id": "9179c421",
   "metadata": {},
   "outputs": [],
   "source": [
    "def sumRootToLeaf(root):\n",
    "    result = 0\n",
    "    def dfs(root, ans):\n",
    "        nonlocal result \n",
    "        ans += str(root.val)\n",
    "        if root.left is None and root.right is None:\n",
    "            result += int(ans, 2)\n",
    "        if root.left:\n",
    "            dfs(root.left, ans)\n",
    "        if root.right:\n",
    "            dfs(root.right, ans)\n",
    "    dfs(root, '')\n",
    "    return result"
   ]
  },
  {
   "cell_type": "code",
   "execution_count": null,
   "id": "cba25cfa",
   "metadata": {},
   "outputs": [],
   "source": [
    "# bit mainipulation, shift the number 1 position to the left, then add the current node.val\n",
    "def sumRootToLeaf(root):        \n",
    "    result = 0\n",
    "    def dfs(root, ans):\n",
    "        nonlocal result \n",
    "        ans = (ans << 1) | root.val\n",
    "        if root.left is None and root.right is None:\n",
    "            result += ans\n",
    "        if root.left:\n",
    "            dfs(root.left, ans)\n",
    "        if root.right:\n",
    "            dfs(root.right, ans)\n",
    "    dfs(root, 0)\n",
    "    return result"
   ]
  },
  {
   "cell_type": "code",
   "execution_count": null,
   "id": "effcb2d9",
   "metadata": {},
   "outputs": [],
   "source": [
    "root = TreeNode(1)\n",
    "root.left = TreeNode(0)\n",
    "root.left.left = TreeNode(0)\n",
    "root.left.right = TreeNode(1)\n",
    "root.right = TreeNode(1)\n",
    "root.right.left = TreeNode(0)\n",
    "root.right.right = TreeNode(1)\n",
    "sumRootToLeaf(root)"
   ]
  },
  {
   "cell_type": "code",
   "execution_count": null,
   "id": "55dadc0f",
   "metadata": {},
   "outputs": [],
   "source": [
    "curr_number = 2\n",
    "(curr_number << 1) | 1"
   ]
  },
  {
   "cell_type": "markdown",
   "id": "5f4908f6",
   "metadata": {},
   "source": [
    "### 20220111<a id='701'></a>\n",
    "<strong>701. Insert into a Binary Search Tree</strong>\n",
    "[Quesiton List](#0)\n"
   ]
  },
  {
   "cell_type": "code",
   "execution_count": null,
   "id": "68a6556b",
   "metadata": {},
   "outputs": [],
   "source": [
    "# can find the leaf to insert the val\n",
    "# iterative traverse\n",
    "def insertIntoBST(root, val):\n",
    "    if root is None:\n",
    "        return TreeNode(val)\n",
    "    prev = None\n",
    "    pointer = root\n",
    "    while pointer is not None:\n",
    "        if val > pointer.val:\n",
    "            prev = pointer\n",
    "            pointer = pointer.right\n",
    "        else:\n",
    "            prev = pointer\n",
    "            pointer = pointer.left\n",
    "    if val > prev.val:\n",
    "        prev.right = TreeNode(val)\n",
    "    else:\n",
    "        prev.left = TreeNode(val)\n",
    "    return root"
   ]
  },
  {
   "cell_type": "code",
   "execution_count": null,
   "id": "f33d35f2",
   "metadata": {},
   "outputs": [],
   "source": [
    "# can find the leaf to insert the val\n",
    "# better iterative traverse\n",
    "def insertIntoBST(root, val):\n",
    "    if root is None:\n",
    "        return TreeNode(val)\n",
    "    pointer = root\n",
    "    while True:\n",
    "        if val > pointer.val:\n",
    "            if pointer.right is not None:\n",
    "                pointer = pointer.right\n",
    "            else:\n",
    "                pointer.right = TreeNode(val)\n",
    "                break\n",
    "        else:\n",
    "            if pointer.left is not None:\n",
    "                pointer = pointer.left\n",
    "            else:\n",
    "                pointer.left = TreeNode(val)\n",
    "                break\n",
    "    return root"
   ]
  },
  {
   "cell_type": "code",
   "execution_count": null,
   "id": "383ebd5b",
   "metadata": {},
   "outputs": [],
   "source": [
    "# recursive\n",
    "def insertIntoBST(root, val):\n",
    "    if root is None:\n",
    "        return TreeNode(val)\n",
    "    if val > root.val:\n",
    "        root.right = self.insertIntoBST(root.right, val)\n",
    "    else:\n",
    "        root.left = self.insertIntoBST(root.left, val)\n",
    "    return root"
   ]
  },
  {
   "cell_type": "markdown",
   "id": "f53ed3ea",
   "metadata": {},
   "source": [
    "### 20220112<a id='452'></a>\n",
    "<strong>452. Minimum Number of Arrows to Burst Balloons</strong>\n",
    "[Quesiton List](#0)\n"
   ]
  },
  {
   "cell_type": "code",
   "execution_count": null,
   "id": "f4ad0ae3",
   "metadata": {},
   "outputs": [],
   "source": [
    "def findMinArrowShots(points):\n",
    "    points = sorted(points, key = lambda x: x[0])\n",
    "    ans = 1\n",
    "    low = points[0][0]\n",
    "    high = points[0][1]\n",
    "    for i in range(1, len(points)):\n",
    "        if points[i][0] > high:\n",
    "            ans += 1\n",
    "            low = points[i][0]\n",
    "            high = points[i][1]\n",
    "        else:\n",
    "            low = points[i][0]\n",
    "            high = min(points[i][1], high)\n",
    "    return ans"
   ]
  },
  {
   "cell_type": "code",
   "execution_count": null,
   "id": "e00182d0",
   "metadata": {},
   "outputs": [],
   "source": [
    "points = [[10,16],[2,8],[1,6],[7,12]]\n",
    "findMinArrowShots(points)"
   ]
  },
  {
   "cell_type": "code",
   "execution_count": null,
   "id": "41f051c8",
   "metadata": {},
   "outputs": [],
   "source": [
    "points = [[1,2],[3,4],[5,6],[7,8]]\n",
    "findMinArrowShots(points)"
   ]
  },
  {
   "cell_type": "markdown",
   "id": "0e5f7720",
   "metadata": {},
   "source": [
    "### 20220114<a id='1345'></a>\n",
    "<strong>1345. Jump Game IV</strong>\n",
    "[Quesiton List](#0)\n"
   ]
  },
  {
   "cell_type": "code",
   "execution_count": null,
   "id": "5b222e31",
   "metadata": {},
   "outputs": [],
   "source": [
    "def minJumps(arr):\n",
    "    map = {}\n",
    "    for i, num in enumerate(arr):\n",
    "        if num in map:\n",
    "            map[num].append(i)\n",
    "        else:\n",
    "            map[num] = [i]\n",
    "\n",
    "    visited = {0}\n",
    "    cur = [0]\n",
    "    ans = 0\n",
    "\n",
    "    while cur:\n",
    "        nex = []\n",
    "        for index in cur:\n",
    "            if index == len(arr)-1:\n",
    "                return ans\n",
    "\n",
    "            for same_value_index in map[arr[index]]:\n",
    "                if same_value_index not in visited:\n",
    "                    nex.append(same_value_index)\n",
    "                    visited.add(same_value_index)\n",
    "            map[arr[index]] = [] # clear the map. dont visit again\n",
    "\n",
    "            if index - 1 > 0 and index - 1 not in visited:\n",
    "                nex.append(index - 1)\n",
    "                visited.add(index - 1)\n",
    "            if index + 1 < len(arr) and index + 1 not in visited:\n",
    "                nex.append(index + 1)\n",
    "                visited.add(index + 1)\n",
    "        cur = nex\n",
    "        ans += 1\n",
    "\n",
    "    return -1"
   ]
  },
  {
   "cell_type": "code",
   "execution_count": null,
   "id": "42eba3d0",
   "metadata": {},
   "outputs": [],
   "source": [
    "def minJumps(arr):    \n",
    "    if len(arr) <= 1:\n",
    "        return 0\n",
    "    map = {}\n",
    "    for i, num in enumerate(arr):\n",
    "        if num in map:\n",
    "            map[num].append(i)\n",
    "        else:\n",
    "            map[num] = [i]\n",
    "\n",
    "    visited = {0, len(arr)-1}\n",
    "    cur = {0}\n",
    "    ans = 0\n",
    "    other = {len(arr)-1}\n",
    "\n",
    "    while cur:\n",
    "        if len(cur) > len(other):\n",
    "            cur, other = other, cur\n",
    "        nex = set()\n",
    "        for index in cur:\n",
    "            for same_value_index in map[arr[index]]:\n",
    "                if same_value_index in other:\n",
    "                    return ans + 1\n",
    "                if same_value_index not in visited:\n",
    "                    visited.add(same_value_index)\n",
    "                    nex.add(same_value_index)\n",
    "            map[arr[index]] = [] # clear the map. dont visit again\n",
    "\n",
    "            if index - 1 in other:\n",
    "                return ans + 1\n",
    "            if index - 1 > 0 and index - 1 not in visited:\n",
    "                nex.add(index - 1)\n",
    "                visited.add(index - 1)\n",
    "            if index + 1 in other:\n",
    "                return ans + 1\n",
    "            if index + 1 < len(arr) and index + 1 not in visited:\n",
    "                nex.add(index + 1)\n",
    "                visited.add(index + 1)\n",
    "\n",
    "        cur = nex\n",
    "        ans += 1\n",
    "\n",
    "    return -1"
   ]
  },
  {
   "cell_type": "markdown",
   "id": "3eea9afb",
   "metadata": {},
   "source": [
    "### 20220116<a id='849'></a>\n",
    "<strong>849. Maximize Distance to Closest Person</strong>\n",
    "[Quesiton List](#0)\n"
   ]
  },
  {
   "cell_type": "code",
   "execution_count": null,
   "id": "0acfb1f3",
   "metadata": {},
   "outputs": [],
   "source": [
    "def maxDistToClosest(seats):\n",
    "    prev = -1\n",
    "    distance = -1\n",
    "    for i, seat in enumerate(seats):\n",
    "        if seat == 1:\n",
    "            if prev == -1:\n",
    "                distance = i\n",
    "                prev = i\n",
    "            else:\n",
    "                distance = max(distance, (i-prev)//2)\n",
    "                prev = i\n",
    "    distance = max(distance, len(seats)-1-prev)\n",
    "    return distance"
   ]
  },
  {
   "cell_type": "code",
   "execution_count": null,
   "id": "31f7def6",
   "metadata": {},
   "outputs": [],
   "source": [
    "seats = [1,0,0,0,1,0,1]\n",
    "maxDistToClosest(seats)"
   ]
  },
  {
   "cell_type": "markdown",
   "id": "4f892429",
   "metadata": {},
   "source": [
    "### 20220116<a id='290'></a>\n",
    "<strong>290. Word Pattern</strong>\n",
    "[Quesiton List](#0)\n"
   ]
  },
  {
   "cell_type": "code",
   "execution_count": null,
   "id": "ee87e3e1",
   "metadata": {},
   "outputs": [],
   "source": [
    "def wordPattern(pattern, s):\n",
    "    words = s.split(' ')\n",
    "    if len(words) != len(pattern):\n",
    "        return False\n",
    "    dic = {}\n",
    "    word_dic = {}\n",
    "    for i, word in enumerate(words):\n",
    "        if pattern[i] not in dic:\n",
    "            dic[pattern[i]] = word\n",
    "        else:\n",
    "            if word != dic[pattern[i]]:\n",
    "                return False\n",
    "        if word not in word_dic:\n",
    "            word_dic[word] = pattern[i]\n",
    "        else:\n",
    "            if pattern[i] != word_dic[word]:\n",
    "                return False\n",
    "    return True"
   ]
  },
  {
   "cell_type": "markdown",
   "id": "651cc2bd",
   "metadata": {},
   "source": [
    "### 20220117<a id='605'></a>\n",
    "<strong>605. Can Place Flowers</strong>\n",
    "[Quesiton List](#0)\n"
   ]
  },
  {
   "cell_type": "code",
   "execution_count": null,
   "id": "9a4d544a",
   "metadata": {},
   "outputs": [],
   "source": [
    "def canPlaceFlowers(flowerbed, n):\n",
    "    slot = 0\n",
    "    i = 0\n",
    "    while i < len(flowerbed):\n",
    "        if flowerbed[i]==1 or (i-1>=0 and flowerbed[i-1]==1) or (i+1<len(flowerbed) and flowerbed[i+1]==1):\n",
    "            i += 1\n",
    "            continue\n",
    "        slot += 1\n",
    "        flowerbed[i] = 1\n",
    "    return slot >= n"
   ]
  },
  {
   "cell_type": "code",
   "execution_count": null,
   "id": "8f081e2c",
   "metadata": {},
   "outputs": [],
   "source": [
    "flowerbed = [1,0,0,0,0,1]\n",
    "n = 2\n",
    "canPlaceFlowers(flowerbed, n)"
   ]
  },
  {
   "cell_type": "markdown",
   "id": "78940b56",
   "metadata": {},
   "source": [
    "### 20220118<a id='141'></a>\n",
    "<strong>141. Linked List Cycle</strong>\n",
    "[Quesiton List](#0)"
   ]
  },
  {
   "cell_type": "code",
   "execution_count": null,
   "id": "45979d05",
   "metadata": {},
   "outputs": [],
   "source": [
    "def hasCycle(head):\n",
    "    slow, fast = head, head\n",
    "    while fast and fast.next:\n",
    "        slow = slow.next\n",
    "        fast = fast.next.next\n",
    "        if slow == fast:\n",
    "            return True\n",
    "    return False"
   ]
  },
  {
   "cell_type": "markdown",
   "id": "aa707e9a",
   "metadata": {},
   "source": [
    "### 20220118<a id='142'></a>\n",
    "<strong>142. Linked List Cycle II</strong>\n",
    "[Quesiton List](#0)"
   ]
  },
  {
   "cell_type": "code",
   "execution_count": null,
   "id": "b6dbc14e",
   "metadata": {},
   "outputs": [],
   "source": [
    "def detectCycle(head):\n",
    "    dic = {}\n",
    "    i = 0\n",
    "    pointer = head\n",
    "    while pointer and pointer.next:\n",
    "        if pointer not in dic:\n",
    "            dic[pointer] = i\n",
    "            i += 1\n",
    "            pointer = pointer.next\n",
    "        else:\n",
    "            return pointer\n",
    "    return None"
   ]
  },
  {
   "cell_type": "code",
   "execution_count": null,
   "id": "e793eb50",
   "metadata": {},
   "outputs": [],
   "source": [
    "def detectCycle(head):\n",
    "    slow = fast = head\n",
    "    while fast and fast.next:\n",
    "        slow, fast = slow.next, fast.next.next\n",
    "        if slow == fast: break\n",
    "    else: return None  # if not (fast and fast.next): return None\n",
    "    while head != slow:\n",
    "        head, slow = head.next, slow.next\n",
    "    return head"
   ]
  },
  {
   "cell_type": "markdown",
   "id": "f411e954",
   "metadata": {},
   "source": [
    "### 20220119<a id='875'></a>\n",
    "<strong>875. Koko Eating Bananas</strong>\n",
    "[Quesiton List](#0)"
   ]
  },
  {
   "cell_type": "code",
   "execution_count": null,
   "id": "c88d435f",
   "metadata": {},
   "outputs": [],
   "source": [
    "# sort array\n",
    "# binary search to find i that does h\n",
    "# minimze between piles_sort[i-1] to piles_sort[i]\n",
    "def minEatingSpeed(piles, h):\n",
    "    piles = sorted(piles)\n",
    "    l = 0\n",
    "    r = len(piles)-1\n",
    "    check = -1\n",
    "    while l <= r:\n",
    "        mid = (l+r)//2\n",
    "        k = piles[mid]\n",
    "        total_h = mid + 1\n",
    "        for i in range(mid+1, len(piles)):\n",
    "            total_h += (-(-piles[i]//k))\n",
    "        if total_h == h:\n",
    "            check = mid\n",
    "            break\n",
    "        elif total_h > h:\n",
    "            check = mid + 1\n",
    "            l = mid + 1\n",
    "        else:\n",
    "            check = mid\n",
    "            r = mid - 1\n",
    "    ans = piles[check]-1\n",
    "    total_h = check\n",
    "    while True:\n",
    "        for i in range(check, len(piles)):\n",
    "            total_h += (-(-piles[i]//ans))\n",
    "        if total_h > h:\n",
    "            break\n",
    "        ans -= 1\n",
    "        total_h = check\n",
    "    return ans+1"
   ]
  },
  {
   "cell_type": "code",
   "execution_count": null,
   "id": "e0a51881",
   "metadata": {},
   "outputs": [],
   "source": [
    "def minEatingSpeed(piles, h):\n",
    "    low = 1\n",
    "    high = max(piles)\n",
    "    while low <= high:\n",
    "        k = (low+high)//2\n",
    "        total_h = sum([(-(-pile//k)) for pile in piles])\n",
    "        if total_h > h:\n",
    "            low = k + 1\n",
    "        else:\n",
    "            high = k - 1\n",
    "    return low"
   ]
  },
  {
   "cell_type": "code",
   "execution_count": null,
   "id": "e66c1851",
   "metadata": {},
   "outputs": [],
   "source": [
    "piles = [3,6,7,11]\n",
    "h = 8\n",
    "minEatingSpeed(piles, h)"
   ]
  },
  {
   "cell_type": "code",
   "execution_count": null,
   "id": "eabc1621",
   "metadata": {},
   "outputs": [],
   "source": [
    "piles = [30,11,23,4,20]\n",
    "h = 5\n",
    "minEatingSpeed(piles, h)"
   ]
  },
  {
   "cell_type": "code",
   "execution_count": null,
   "id": "9bd03067",
   "metadata": {},
   "outputs": [],
   "source": [
    "piles = [30,11,23,4,20]\n",
    "h = 6\n",
    "minEatingSpeed(piles, h)"
   ]
  },
  {
   "cell_type": "markdown",
   "id": "df1b63fd",
   "metadata": {},
   "source": [
    "### 20220121<a id='134'></a>\n",
    "<strong>134. Gas Station</strong>\n",
    "[Quesiton List](#0)\n"
   ]
  },
  {
   "cell_type": "code",
   "execution_count": null,
   "id": "bda313c1",
   "metadata": {},
   "outputs": [],
   "source": [
    "def canCompleteCircuit(gas, cost):\n",
    "    diff = [a-b for a,b in zip(gas, cost)]\n",
    "    if sum(diff) < 0:\n",
    "        return -1\n",
    "    for i in range(len(diff)):\n",
    "        if diff[i] < 0 or gas[i] == 0:\n",
    "            continue\n",
    "        temp = diff[i:len(diff)] + diff[0:i]\n",
    "        total = 0\n",
    "        flag = True\n",
    "        for j in range(len(temp)):\n",
    "            total += temp[j]\n",
    "            if total < 0:\n",
    "                flag = False\n",
    "                break\n",
    "        if flag: \n",
    "            return i\n",
    "    return -1"
   ]
  },
  {
   "cell_type": "code",
   "execution_count": null,
   "id": "494fd713",
   "metadata": {},
   "outputs": [],
   "source": [
    "gas = [1,2,3,4,5]\n",
    "cost = [3,4,5,1,2]\n",
    "diff = [a-b for a,b in zip(gas, cost)]\n",
    "canCompleteCircuit(gas, cost)"
   ]
  },
  {
   "cell_type": "code",
   "execution_count": null,
   "id": "768649ec",
   "metadata": {},
   "outputs": [],
   "source": [
    "gas = [2,3,4]\n",
    "cost = [3,4,3]\n",
    "diff = []\n",
    "for i in range(len(gas)):\n",
    "    if i != len(gas)-1:\n",
    "        j = i + 1\n",
    "    else:\n",
    "        j = 0\n",
    "    diff.append(gas[i]-cost[j])\n",
    "canCompleteCircuit(gas, cost)"
   ]
  },
  {
   "cell_type": "code",
   "execution_count": null,
   "id": "bb19ed8e",
   "metadata": {},
   "outputs": [],
   "source": [
    "gas = [5,1,2,3,4]\n",
    "cost = [4,4,1,5,1]\n",
    "diff = []\n",
    "for i in range(len(gas)):\n",
    "    if i != len(gas)-1:\n",
    "        j = i + 1\n",
    "    else:\n",
    "        j = 0\n",
    "    diff.append(gas[i]-cost[j])\n",
    "canCompleteCircuit(gas, cost)"
   ]
  },
  {
   "cell_type": "code",
   "execution_count": null,
   "id": "7d17a0d0",
   "metadata": {},
   "outputs": [],
   "source": [
    "gas = [5,8,2,8]\n",
    "cost = [6,5,6,6]\n",
    "diff = []\n",
    "for i in range(len(gas)):\n",
    "    if i != len(gas)-1:\n",
    "        j = i + 1\n",
    "    else:\n",
    "        j = 0\n",
    "    diff.append(gas[i]-cost[j])\n",
    "canCompleteCircuit(gas, cost)"
   ]
  },
  {
   "cell_type": "code",
   "execution_count": null,
   "id": "3fb8af71",
   "metadata": {},
   "outputs": [],
   "source": [
    "gas = [2]\n",
    "cost = [2]\n",
    "canCompleteCircuit(gas, cost)"
   ]
  },
  {
   "cell_type": "markdown",
   "id": "867120bd",
   "metadata": {},
   "source": [
    "### 20220122<a id='1510'></a>\n",
    "<strong>1510. Stone Game IV</strong>\n",
    "[Quesiton List](#0)\n"
   ]
  },
  {
   "cell_type": "code",
   "execution_count": null,
   "id": "29ad80ce",
   "metadata": {},
   "outputs": [],
   "source": [
    "def winnerSquareGame(n):\n",
    "    states = {0: False, 1: True}\n",
    "    \n",
    "    def dfs(remain):\n",
    "        if remain in states:\n",
    "            return states[remain]\n",
    "        k = int(remain**0.5)\n",
    "        for i in range(1,k+1):\n",
    "            result = dfs(remain - i*i)\n",
    "            if not result:\n",
    "                states[remain] = True\n",
    "                return True\n",
    "        states[remain] = False\n",
    "        return False\n",
    "    \n",
    "    return dfs(n)"
   ]
  },
  {
   "cell_type": "code",
   "execution_count": null,
   "id": "2b4c7a3c",
   "metadata": {},
   "outputs": [],
   "source": [
    "winnerSquareGame(2)"
   ]
  },
  {
   "cell_type": "code",
   "execution_count": null,
   "id": "6b4159f1",
   "metadata": {},
   "outputs": [],
   "source": [
    "winnerSquareGame(4)"
   ]
  },
  {
   "cell_type": "code",
   "execution_count": null,
   "id": "fb15480f",
   "metadata": {},
   "outputs": [],
   "source": [
    "winnerSquareGame(8)"
   ]
  },
  {
   "cell_type": "markdown",
   "id": "66a7cd45",
   "metadata": {},
   "source": [
    "### 20220124<a id='1291'></a>\n",
    "<strong>1291. Sequential Digits</strong>\n",
    "[Quesiton List](#0)\n"
   ]
  },
  {
   "cell_type": "code",
   "execution_count": null,
   "id": "7884e91a",
   "metadata": {},
   "outputs": [],
   "source": [
    "# create all the numbers have the same digit with low and high\n",
    "# filter out the ones is out of range\n",
    "def sequentialDigits(low, high):        \n",
    "    ans = []\n",
    "    n_low = len(str(low))\n",
    "    n_high = len(str(high))\n",
    "    for i in range(n_low, n_high+1):\n",
    "        first_mid = '1'\n",
    "        for j in range(i-1):\n",
    "            first_mid += str(j+2)\n",
    "        temp_mid = int(first_mid)\n",
    "        ans.append(temp_mid)\n",
    "        for j in range(1, 9-i+1):\n",
    "            for k in range(0, i):\n",
    "                temp_mid += 10**k\n",
    "            ans.append(temp_mid)\n",
    "    result = []\n",
    "    for num in ans:\n",
    "        if num >= low and num <= high:\n",
    "            result.append(num)\n",
    "    return result"
   ]
  },
  {
   "cell_type": "code",
   "execution_count": null,
   "id": "18aafac7",
   "metadata": {},
   "outputs": [],
   "source": [
    "# create full string '123456789'\n",
    "# move the window create the ans\n",
    "def sequentialDigits(low, high):\n",
    "    ans = []\n",
    "    n_low = len(str(low))\n",
    "    n_high = len(str(high))\n",
    "    full = '123456789'\n",
    "    for i in range(n_low, n_high+1):\n",
    "        for j in range(0, 9-i+1):\n",
    "            num = int(full[j:j+i])\n",
    "            if num >= low and num <= high:\n",
    "                ans.append(num)\n",
    "    return ans"
   ]
  },
  {
   "cell_type": "markdown",
   "id": "080bf20c",
   "metadata": {},
   "source": [
    "### 20220124<a id='520'></a>\n",
    "<strong>520. Detect Capital</strong>\n",
    "[Quesiton List](#0)\n"
   ]
  },
  {
   "cell_type": "code",
   "execution_count": null,
   "id": "ec5c983c",
   "metadata": {},
   "outputs": [],
   "source": [
    "def detectCapitalUse(word):        \n",
    "    if len(word) == 1:\n",
    "        return True\n",
    "    first_upper = True if ord(word[0]) - ord('a') < 0 else False\n",
    "    second_upper = True if ord(word[1]) - ord('a') < 0 else False\n",
    "    # first lower, second upper, return False\n",
    "    if not first_upper and second_upper:\n",
    "        return False\n",
    "    for wor in word[2:]:\n",
    "        # upper case\n",
    "        if ord(wor) - ord('a') < 0:\n",
    "            # if the either first two are not upper\n",
    "            if not first_upper or not second_upper:\n",
    "                return False\n",
    "        # lower case\n",
    "        if ord(wor) - ord('a') >= 0:\n",
    "            # the first doesnt matter, check if seoncd id upper\n",
    "            if second_upper:\n",
    "                return False\n",
    "    return True"
   ]
  },
  {
   "cell_type": "markdown",
   "id": "c014f8ff",
   "metadata": {},
   "source": [
    "### 20220125<a id='941'></a>\n",
    "<strong>941. Valid Mountain Array</strong>\n",
    "[Quesiton List](#0)"
   ]
  },
  {
   "cell_type": "code",
   "execution_count": null,
   "id": "f186f424",
   "metadata": {},
   "outputs": [],
   "source": [
    "def validMountainArray(arr):\n",
    "    if len(arr) < 3:\n",
    "        return False\n",
    "    if arr[0] >= arr[1]:\n",
    "        return False\n",
    "    up = 0\n",
    "    while up < len(arr)-1 and arr[up] < arr[up+1]:\n",
    "        up += 1\n",
    "    if up == len(arr)-1:\n",
    "        return False\n",
    "    for i in range(up, len(arr)-1):\n",
    "        if arr[i] <= arr[i+1]:\n",
    "            return False\n",
    "    return True"
   ]
  },
  {
   "cell_type": "code",
   "execution_count": null,
   "id": "aabcc226",
   "metadata": {},
   "outputs": [],
   "source": [
    "arr = [0,1,2,3,4,5,6,7,8,9]\n",
    "validMountainArray(arr)"
   ]
  },
  {
   "cell_type": "markdown",
   "id": "0b0df8d3",
   "metadata": {},
   "source": [
    "### 20220126<a id='1305'></a>\n",
    "<strong>1305. All Elements in Two Binary Search Trees</strong>\n",
    "[Quesiton List](#0)"
   ]
  },
  {
   "cell_type": "code",
   "execution_count": null,
   "id": "240058da",
   "metadata": {},
   "outputs": [],
   "source": [
    "# inorder traverse both tree and add to a list\n",
    "# sort the list\n",
    "def getAllElements(root1, root2):\n",
    "    ans = []\n",
    "    def in_order_travser(root):\n",
    "        if root:\n",
    "            in_order_travser(root.left)\n",
    "            ans.append(root.val)\n",
    "            in_order_travser(root.right)\n",
    "    in_order_travser(root1)\n",
    "    in_order_travser(root2)\n",
    "    return sorted(ans)"
   ]
  },
  {
   "cell_type": "code",
   "execution_count": null,
   "id": "78d8c7e7",
   "metadata": {},
   "outputs": [],
   "source": [
    "# inorder traverse both tree and add to two lists\n",
    "# merge two lists\n",
    "def getAllElements(root1, root2):\n",
    "    arr1 = []\n",
    "    arr2 = []\n",
    "    def in_order_travser(root, arr):\n",
    "        if root:\n",
    "            in_order_travser(root.left, arr)\n",
    "            arr.append(root.val)\n",
    "            in_order_travser(root.right, arr)\n",
    "    in_order_travser(root1, arr1)\n",
    "    in_order_travser(root2, arr2)\n",
    "    size_1 = len(arr1)\n",
    "    size_2 = len(arr2)\n",
    "\n",
    "    ans = []\n",
    "    i, j = 0, 0\n",
    "\n",
    "    while i < size_1 and j < size_2:\n",
    "        if arr1[i] < arr2[j]:\n",
    "            ans.append(arr1[i])\n",
    "            i += 1\n",
    "\n",
    "        else:\n",
    "            ans.append(arr2[j])\n",
    "            j += 1\n",
    "\n",
    "    ans = ans + arr1[i:] + arr2[j:]\n",
    "    return ans"
   ]
  },
  {
   "cell_type": "code",
   "execution_count": null,
   "id": "a553c679",
   "metadata": {},
   "outputs": [],
   "source": [
    "# stack operation\n",
    "def getAllElements(root1, root2):\n",
    "    stack1 = []\n",
    "    stack2 = []\n",
    "    ans = []\n",
    "    while root1 is not None or root2 is not None or len(stack1) > 0 or len(stack2) > 0:\n",
    "        # travese all root1 left subtree add to stack1 until reach to null\n",
    "        while root1 is not None:\n",
    "            stack1.append(root1)\n",
    "            root1 = root1.left\n",
    "        # travese all roo2 left subtree add to stack1 until reach to null\n",
    "        while root2 is not None:\n",
    "            stack2.append(root2)\n",
    "            root2 = root2.left\n",
    "        # ele in stack1 need to be added to ans\n",
    "        if len(stack2) == 0 or (len(stack1) > 0 and stack1[-1].val <= stack2[-1].val):\n",
    "            root1 = stack1.pop()\n",
    "            ans.append(root1.val)\n",
    "            root1 = root1.right\n",
    "        else:\n",
    "            root2 = stack2.pop()\n",
    "            ans.append(root2.val)\n",
    "            root2 = root2.right\n",
    "    return ans"
   ]
  },
  {
   "cell_type": "markdown",
   "id": "b91b28bd",
   "metadata": {},
   "source": [
    "### 20220126<a id='421'></a>\n",
    "<strong>421. Maximum XOR of Two Numbers in an Array</strong>\n",
    "[Quesiton List](#0)"
   ]
  },
  {
   "cell_type": "code",
   "execution_count": null,
   "id": "24cca43d",
   "metadata": {},
   "outputs": [],
   "source": [
    "def findMaximumXOR(nums):\n",
    "    \"\"\"\n",
    "    :type nums: List[int]\n",
    "    :rtype: int\n",
    "    \"\"\"\n",
    "    maxx = 0\n",
    "    mask = 0;\n",
    "\n",
    "    se = set()\n",
    "\n",
    "    for i in range(30, -1, -1):\n",
    "\n",
    "        # set the i'th bit in mask\n",
    "        # like 100000, 110000, 111000..\n",
    "        mask |= (1 << i)\n",
    "        newMaxx = maxx | (1 << i)\n",
    "\n",
    "        for i in range(len(nums)):\n",
    "\n",
    "            # Just keep the prefix till\n",
    "            # i'th bit neglecting all\n",
    "            # the bit's after i'th bit\n",
    "            se.add(nums[i] & mask)\n",
    "\n",
    "        for prefix in se:\n",
    "\n",
    "            # find two pair in set\n",
    "            # such that a^b = newMaxx\n",
    "            # which is the highest\n",
    "            # possible bit can be obtained\n",
    "            if (newMaxx ^ prefix) in se:\n",
    "                maxx = newMaxx\n",
    "                break\n",
    "\n",
    "        # clear the set for next\n",
    "        # iteration\n",
    "        se.clear()\n",
    "    return maxx"
   ]
  },
  {
   "cell_type": "markdown",
   "id": "59f463e9",
   "metadata": {},
   "source": [
    "### 20220127<a id='211'></a>\n",
    "<strong>211. Design Add and Search Words Data Structure</strong>\n",
    "[Quesiton List](#0)"
   ]
  },
  {
   "cell_type": "code",
   "execution_count": null,
   "id": "775722da",
   "metadata": {},
   "outputs": [],
   "source": [
    "# use trie to store all the words\n",
    "# for '.' use backtrack + DFS to search\n",
    "class WordDictionary(object):\n",
    "\n",
    "    def __init__(self):\n",
    "        self.children = [None]*26\n",
    "        self.is_end = False\n",
    "        \n",
    "\n",
    "    def addWord(self, word):\n",
    "        \"\"\"\n",
    "        :type word: str\n",
    "        :rtype: None\n",
    "        \"\"\"\n",
    "        current = self\n",
    "        for char in word:\n",
    "            if current.children[ord(char) - ord('a')] == None:\n",
    "                current.children[ord(char) - ord('a')] = WordDictionary()\n",
    "            current = current.children[ord(char) - ord('a')]\n",
    "        current.is_end = True\n",
    "        \n",
    "\n",
    "    def search(self, word):\n",
    "        \"\"\"\n",
    "        :type word: str\n",
    "        :rtype: bool\n",
    "        \"\"\"\n",
    "        current = self\n",
    "        for i, char in enumerate(word):\n",
    "            if char == '.':\n",
    "                for child in current.children:\n",
    "                    if child is not None and child.search(word[i+1:]):\n",
    "                        return True\n",
    "                return False\n",
    "            if current.children[ord(char) - ord('a')] == None:\n",
    "                return False\n",
    "            current = current.children[ord(char) - ord('a')]\n",
    "        return current is not None and current.is_end"
   ]
  },
  {
   "cell_type": "markdown",
   "id": "7ff8b7fc",
   "metadata": {},
   "source": [
    "### 20220129<a id='20'></a>\n",
    "<strong>20. Valid Parentheses</strong>\n",
    "[Quesiton List](#0)\n"
   ]
  },
  {
   "cell_type": "code",
   "execution_count": null,
   "id": "4fcab5ad",
   "metadata": {},
   "outputs": [],
   "source": [
    "def isValid(s):\n",
    "    \"\"\"\n",
    "    :type s: str\n",
    "    :rtype: bool\n",
    "    \"\"\"\n",
    "    stack = []\n",
    "    match = {')': '(', '}': '{', ']': '['}\n",
    "    for char in s:\n",
    "        if char in '({[':\n",
    "            stack.append(char)\n",
    "        else:\n",
    "            if len(stack) == 0 or match[char] != stack[-1]:\n",
    "                return False\n",
    "            else:\n",
    "                stack.pop()\n",
    "    return len(stack) == 0"
   ]
  },
  {
   "cell_type": "code",
   "execution_count": null,
   "id": "cbfc93f8",
   "metadata": {},
   "outputs": [],
   "source": [
    "s = \"()[]{}\"\n",
    "isValid(s)"
   ]
  },
  {
   "cell_type": "code",
   "execution_count": null,
   "id": "57dff614",
   "metadata": {},
   "outputs": [],
   "source": [
    "s = \"]\"\n",
    "isValid(s)"
   ]
  },
  {
   "cell_type": "markdown",
   "id": "890b9d59",
   "metadata": {},
   "source": [
    "### 20220129<a id='84'></a>\n",
    "<strong>84. Largest Rectangle in Histogram</strong>\n",
    "[Quesiton List](#0)\n"
   ]
  },
  {
   "cell_type": "code",
   "execution_count": null,
   "id": "db4cd8f7",
   "metadata": {},
   "outputs": [],
   "source": [
    "# doesnt work\n",
    "def largestRectangleArea(heights):\n",
    "    n = len(heights)\n",
    "    l = n//2\n",
    "    r = n//2\n",
    "    min_h = heights[l]\n",
    "    ans = min_h\n",
    "    while l > 0 and r < n-1:\n",
    "        print('-',l,r)\n",
    "        if heights[l-1] >= heights[r+1]:\n",
    "            l -= 1\n",
    "        else:\n",
    "            r += 1\n",
    "        min_h = min(heights[l], heights[r], min_h)\n",
    "        area = min_h*(r-l+1)\n",
    "        ans = max(area, ans)\n",
    "    while l > 0:\n",
    "        print('--',l,r)\n",
    "        l -= 1\n",
    "        min_h = min(heights[l], heights[r], min_h)\n",
    "        area = min_h*(r-l+1)\n",
    "        ans = max(area, ans)\n",
    "    while r < n-1:\n",
    "        print('---',l,r)\n",
    "        r += 1\n",
    "        min_h = min(heights[l], heights[r], min_h)\n",
    "        area = min_h*(r-l+1)\n",
    "        ans = max(area, ans)\n",
    "    return ans"
   ]
  },
  {
   "cell_type": "code",
   "execution_count": null,
   "id": "a816fc4c",
   "metadata": {},
   "outputs": [],
   "source": [
    "# doesnt work\n",
    "def largestRectangleArea(heights):\n",
    "    def find_largest(heights):\n",
    "        n = len(heights)\n",
    "        maxs = [i for i, x in enumerate(heights) if x == max(heights)]\n",
    "        result = 0\n",
    "        for i in maxs:\n",
    "            l = i\n",
    "            r = i\n",
    "            min_h = heights[l]\n",
    "            ans = min_h\n",
    "            while l > 0 and r < n-1:\n",
    "                if heights[l-1] >= heights[r+1]:\n",
    "                    l -= 1\n",
    "                else:\n",
    "                    r += 1\n",
    "                min_h = min(heights[l], heights[r], min_h)\n",
    "                area = min_h*(r-l+1)\n",
    "                ans = max(area, ans)\n",
    "            while l > 0:\n",
    "                l -= 1\n",
    "                min_h = min(heights[l], heights[r], min_h)\n",
    "                area = min_h*(r-l+1)\n",
    "                ans = max(area, ans)\n",
    "            while r < n-1:\n",
    "                r += 1\n",
    "                min_h = min(heights[l], heights[r], min_h)\n",
    "                area = min_h*(r-l+1)\n",
    "                ans = max(area, ans)\n",
    "            result = max(result, ans)\n",
    "        return result\n",
    "    if len(heights) == 1:\n",
    "        return heights[0]\n",
    "    zeros = [i for i, x in enumerate(heights) if x == 0]\n",
    "    if len(zeros) == len(heights):\n",
    "        return 0\n",
    "    if len(zeros) == 0:\n",
    "        return find_largest(heights)\n",
    "    else:\n",
    "        ans = 0\n",
    "        if zeros[0] != 0:\n",
    "            sub_heights = heights[0: zeros[0]]\n",
    "            ans = find_largest(sub_heights)\n",
    "        for i in range(len(zeros) - 1):\n",
    "            sub_heights = heights[zeros[i]+1: zeros[i+1]]\n",
    "            ans = max(ans, find_largest(sub_heights))\n",
    "        if zeros[-1] != len(heights)-1:\n",
    "            sub_heights = heights[zeros[-1]+1: len(heights)]\n",
    "            ans = max(ans, find_largest(sub_heights))\n",
    "        return ans"
   ]
  },
  {
   "cell_type": "code",
   "execution_count": null,
   "id": "92fedc6d",
   "metadata": {},
   "outputs": [],
   "source": [
    "# approach1: divide array into subarray\n",
    "# find the min of the array, compute area by the min of the array and the length of the list\n",
    "# recursively call the function of the left and right subarry of the min index\n",
    "def largestRectangleArea(heights):\n",
    "    def find_largest(heights):\n",
    "        if len(heights) == 0:\n",
    "            return 0\n",
    "        if len(heights) == 1:\n",
    "            return heights[0]\n",
    "        min_h = min(heights)\n",
    "        # optimization to make sure left and right are divided equally when there are multiple min indexs\n",
    "        indexs = [i for i, x in enumerate(heights) if x == min_h]\n",
    "        index = indexs[len(indexs)//2]\n",
    "        left = find_largest(heights[0:index]) if index > 0 else 0\n",
    "        right = find_largest(heights[index+1:len(heights)]) if index < len(heights) else 0\n",
    "        return max(min_h*len(heights), left, right)\n",
    "    ans = find_largest(heights)\n",
    "    return ans"
   ]
  },
  {
   "cell_type": "code",
   "execution_count": 13,
   "id": "4b1ea695",
   "metadata": {},
   "outputs": [],
   "source": [
    "# approach2: using stack\n",
    "# push index of height in to stack when height is increasing\n",
    "# pop stack until the height of the index is less than the current height\n",
    "# calculate max area among those poped index\n",
    "def largestRectangleArea(heights):\n",
    "    ans = 0\n",
    "    stack = [0]\n",
    "    # avoid no answer for increasing array\n",
    "    heights.append(-1)\n",
    "    for i in range(1, len(heights)):\n",
    "        while len(stack) > 0 and heights[stack[-1]] > heights[i]:\n",
    "            index = stack.pop()\n",
    "            height = heights[index]\n",
    "            width = i if len(stack) == 0 else i - stack[-1] - 1\n",
    "            ans = max(ans, height*width)\n",
    "        stack.append(i)\n",
    "    return ans"
   ]
  },
  {
   "cell_type": "code",
   "execution_count": 3,
   "id": "e870aa23",
   "metadata": {},
   "outputs": [
    {
     "data": {
      "text/plain": [
       "True"
      ]
     },
     "execution_count": 3,
     "metadata": {},
     "output_type": "execute_result"
    }
   ],
   "source": [
    "heights = [2,1,5,6,2,3]\n",
    "largestRectangleArea(heights) == 10"
   ]
  },
  {
   "cell_type": "code",
   "execution_count": 4,
   "id": "b4f28b69",
   "metadata": {},
   "outputs": [
    {
     "data": {
      "text/plain": [
       "True"
      ]
     },
     "execution_count": 4,
     "metadata": {},
     "output_type": "execute_result"
    }
   ],
   "source": [
    "heights = [20,5,5,6,2,3]\n",
    "largestRectangleArea(heights) == 20"
   ]
  },
  {
   "cell_type": "code",
   "execution_count": 5,
   "id": "f70a2c49",
   "metadata": {},
   "outputs": [
    {
     "data": {
      "text/plain": [
       "False"
      ]
     },
     "execution_count": 5,
     "metadata": {},
     "output_type": "execute_result"
    }
   ],
   "source": [
    "heights = [2,4]\n",
    "largestRectangleArea(heights) == 4"
   ]
  },
  {
   "cell_type": "code",
   "execution_count": 6,
   "id": "3f6f6865",
   "metadata": {},
   "outputs": [
    {
     "data": {
      "text/plain": [
       "True"
      ]
     },
     "execution_count": 6,
     "metadata": {},
     "output_type": "execute_result"
    }
   ],
   "source": [
    "heights = [9,0]\n",
    "largestRectangleArea(heights) == 9"
   ]
  },
  {
   "cell_type": "code",
   "execution_count": 7,
   "id": "f459cb2b",
   "metadata": {},
   "outputs": [
    {
     "data": {
      "text/plain": [
       "True"
      ]
     },
     "execution_count": 7,
     "metadata": {},
     "output_type": "execute_result"
    }
   ],
   "source": [
    "heights = [100,0,9,0]\n",
    "largestRectangleArea(heights) == 100"
   ]
  },
  {
   "cell_type": "code",
   "execution_count": 8,
   "id": "8a5f98fe",
   "metadata": {},
   "outputs": [
    {
     "data": {
      "text/plain": [
       "True"
      ]
     },
     "execution_count": 8,
     "metadata": {},
     "output_type": "execute_result"
    }
   ],
   "source": [
    "heights = [0]\n",
    "largestRectangleArea(heights) == 0"
   ]
  },
  {
   "cell_type": "code",
   "execution_count": 9,
   "id": "fe2bd727",
   "metadata": {},
   "outputs": [
    {
     "data": {
      "text/plain": [
       "False"
      ]
     },
     "execution_count": 9,
     "metadata": {},
     "output_type": "execute_result"
    }
   ],
   "source": [
    "heights = [0,9]\n",
    "largestRectangleArea(heights) == 9"
   ]
  },
  {
   "cell_type": "code",
   "execution_count": 10,
   "id": "e4811d6e",
   "metadata": {},
   "outputs": [
    {
     "data": {
      "text/plain": [
       "8"
      ]
     },
     "execution_count": 10,
     "metadata": {},
     "output_type": "execute_result"
    }
   ],
   "source": [
    "heights = [5,4,1,2]\n",
    "largestRectangleArea(heights)"
   ]
  },
  {
   "cell_type": "code",
   "execution_count": 11,
   "id": "6dddda25",
   "metadata": {},
   "outputs": [
    {
     "data": {
      "text/plain": [
       "10"
      ]
     },
     "execution_count": 11,
     "metadata": {},
     "output_type": "execute_result"
    }
   ],
   "source": [
    "heights = [5,5,1,7,1,1,5,2,7,6]\n",
    "largestRectangleArea(heights)"
   ]
  },
  {
   "cell_type": "code",
   "execution_count": 12,
   "id": "60ad654f",
   "metadata": {},
   "outputs": [
    {
     "data": {
      "text/plain": [
       "25"
      ]
     },
     "execution_count": 12,
     "metadata": {},
     "output_type": "execute_result"
    }
   ],
   "source": [
    "heights = [4,7,6,8,5,9,1,24]\n",
    "largestRectangleArea(heights)"
   ]
  }
 ],
 "metadata": {
  "kernelspec": {
   "display_name": "Python 3",
   "language": "python",
   "name": "python3"
  },
  "language_info": {
   "codemirror_mode": {
    "name": "ipython",
    "version": 3
   },
   "file_extension": ".py",
   "mimetype": "text/x-python",
   "name": "python",
   "nbconvert_exporter": "python",
   "pygments_lexer": "ipython3",
   "version": "3.8.8"
  }
 },
 "nbformat": 4,
 "nbformat_minor": 5
}
