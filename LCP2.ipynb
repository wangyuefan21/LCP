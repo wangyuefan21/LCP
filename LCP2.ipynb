{
 "cells": [
  {
   "cell_type": "markdown",
   "id": "a3ac4027",
   "metadata": {},
   "source": [
    "### Easy: <a id='0'></a>\n",
    "- [496. Next Greater Element](#496)\n",
    "- [155. Min Stack](#155)\n",
    "- [35. Search Insert Position](#35)\n",
    "- [404. Sum of Left Leaves](#404)\n",
    "- [1413. Minimum Value to Get Positive Step by Step Sum](#1413)\n",
    "- [203. Remove Linked List Elements](#203)\n",
    "- [448. Find All Numbers Disappeared in an Array](#448)\n",
    "- [461. Hamming Distance](#461)\n",
    "- [](#)\n",
    "- [](#)\n",
    "- [](#)\n",
    "- [](#)\n",
    "- [](#)\n",
    "\n",
    "### Medium\n",
    "- [151. Reverse Words in a String](#151)\n",
    "- [29. Divide Two Integers](#29)\n",
    "- [31. Next Permutation](#31)\n",
    "- [33. Search in Rotated Sorted Array](#33)\n",
    "- [34. Find First and Last Position of Element in Sorted Array](#34)\n",
    "- [75. Sort Colors](#75)\n",
    "- [994. Rotting Oranges](#994)\n",
    "- [130. Surrounded Regions](#130)\n",
    "- [122. Best Time to Buy and Sell Stock II](#122)\n",
    "- [62. Unique Paths](#62)\n",
    "- [540. Single Element in a Sorted Array](#540)\n",
    "- [](#)\n",
    "- [](#)\n",
    "- [](#)\n",
    "- [](#)\n",
    "\n",
    "\n",
    "### Hard\n",
    "- [30. Substring with Concatenation of All Words](#30)\n",
    "- [](#)\n",
    "\n",
    "- [](#)\n",
    "- [](#)\n",
    "- [](#)\n",
    "- [](#)\n",
    "- [](#)"
   ]
  },
  {
   "cell_type": "code",
   "execution_count": 21,
   "id": "3808a256",
   "metadata": {},
   "outputs": [],
   "source": [
    "from lolviz import *\n",
    "from dtreeviz.trees import *"
   ]
  },
  {
   "cell_type": "code",
   "execution_count": null,
   "id": "4155cdfb",
   "metadata": {},
   "outputs": [],
   "source": [
    "def printlistnode(head):\n",
    "    while head is not None:\n",
    "        print(head.val, end =' '),\n",
    "        head = head.next"
   ]
  },
  {
   "cell_type": "code",
   "execution_count": 3,
   "id": "58f65d38",
   "metadata": {},
   "outputs": [],
   "source": [
    "def printInorder(root):\n",
    "    if root:\n",
    "        # First recur on left child\n",
    "        printInorder(root.left)\n",
    "        # then print the data of node\n",
    "        print(root.val),\n",
    "        # now recur on right child\n",
    "        printInorder(root.right)\n",
    "        \n",
    "# A function to do postorder tree traversal\n",
    "def printPostorder(root):\n",
    "    if root:\n",
    "        # First recur on left child\n",
    "        printPostorder(root.left)\n",
    "        # the recur on right child\n",
    "        printPostorder(root.right)\n",
    "        # now print the data of node\n",
    "        print(root.val)\n",
    "        \n",
    "# A function to do preorder tree traversal\n",
    "def printPreorder(root):\n",
    "    if root:\n",
    "        # First print the data of node\n",
    "        print(root.val),\n",
    "        # Then recur on left child\n",
    "        printPreorder(root.left)\n",
    "        # Finally recur on right child\n",
    "        printPreorder(root.right)"
   ]
  },
  {
   "cell_type": "code",
   "execution_count": 19,
   "id": "1af48d52",
   "metadata": {},
   "outputs": [],
   "source": [
    "def printtree(root):\n",
    "     \n",
    "    # Base case\n",
    "    if root is None:\n",
    "        return\n",
    "    # Create an empty queue for level order traversal\n",
    "    q = []\n",
    "     \n",
    "    # Enqueue root and initialize height\n",
    "    q.append(root)\n",
    "         \n",
    "    while q:\n",
    "     \n",
    "        # nodeCount (queue size) indicates number\n",
    "        # of nodes at current level.\n",
    "        count = len(q)\n",
    "         \n",
    "        # Dequeue all nodes of current level and\n",
    "        # Enqueue all nodes of next level\n",
    "        while count > 0:\n",
    "            temp = q.pop(0)\n",
    "            if temp.val is None:\n",
    "                print('null', end = ' ')\n",
    "            else:\n",
    "                print(temp.val, end = ' ')\n",
    "            if temp.left:\n",
    "                q.append(temp.left)\n",
    "            if temp.right:\n",
    "                q.append(temp.right)\n",
    " \n",
    "            count -= 1"
   ]
  },
  {
   "cell_type": "markdown",
   "id": "56ae2aa9",
   "metadata": {},
   "source": [
    "### 20211020<a id='496'></a>\n",
    "<strong>496. Next Greater Element I</strong>\n",
    "\n",
    "The next greater element of some element x in an array is the first greater element that is to the right of x in the same array.\n",
    "\n",
    "You are given two distinct 0-indexed integer arrays nums1 and nums2, where nums1 is a subset of nums2.\n",
    "\n",
    "For each 0 <= i < nums1.length, find the index j such that nums1[i] == nums2[j] and determine the next greater element of nums2[j] in nums2. If there is no next greater element, then the answer for this query is -1.\n",
    "\n",
    "Return an array ans of length nums1.length such that ans[i] is the next greater element as described above."
   ]
  },
  {
   "cell_type": "code",
   "execution_count": null,
   "id": "0690c350",
   "metadata": {},
   "outputs": [],
   "source": [
    "# O(mn)\n",
    "def nextGreaterElement(nums1, nums2):\n",
    "    ans = []\n",
    "    for num in nums1:\n",
    "        greater = -1\n",
    "        for i in range(nums2.index(num) + 1, len(nums2)):\n",
    "            if num < nums2[i]:\n",
    "                greater = nums2[i]\n",
    "                break\n",
    "        ans.append(greater)\n",
    "\n",
    "    return ans"
   ]
  },
  {
   "cell_type": "code",
   "execution_count": null,
   "id": "60148f72",
   "metadata": {},
   "outputs": [],
   "source": [
    "# O(n)\n",
    "def nextGreaterElement(nums1, nums2):\n",
    "    dic = {}\n",
    "    stack = []\n",
    "    \n",
    "    for num in nums2[::-1]:\n",
    "        while stack and num > stack[-1]:\n",
    "            stack.pop()\n",
    "        if stack:\n",
    "            dic[num] = stack[-1]\n",
    "        stack.append(num)\n",
    "    \n",
    "    ans = [dic.get(num, -1) for num in nums1]\n",
    "    \n",
    "    return ans"
   ]
  },
  {
   "cell_type": "code",
   "execution_count": null,
   "id": "a4773e76",
   "metadata": {},
   "outputs": [],
   "source": [
    "nums1 = [4,1,2]\n",
    "nums2 = [1,3,4,2]\n",
    "nextGreaterElement(nums1, nums2)"
   ]
  },
  {
   "cell_type": "code",
   "execution_count": null,
   "id": "53b523ae",
   "metadata": {},
   "outputs": [],
   "source": [
    "nums1 = [2,4] \n",
    "nums2 = [1,2,3,4]\n",
    "nextGreaterElement(nums1, nums2)"
   ]
  },
  {
   "cell_type": "code",
   "execution_count": null,
   "id": "98d697d6",
   "metadata": {},
   "outputs": [],
   "source": [
    "nums2 = [1,3,4,2]\n",
    "dic, stack = {}, []\n",
    "\n",
    "for num in nums2[::-1]:\n",
    "    while stack and num > stack[-1]:\n",
    "        stack.pop()\n",
    "    if stack:\n",
    "        dic[num] = stack[-1]\n",
    "    stack.append(num)\n",
    "\n",
    "dic, stack"
   ]
  },
  {
   "cell_type": "code",
   "execution_count": null,
   "id": "bb8116b2",
   "metadata": {},
   "outputs": [],
   "source": [
    "nums2 = [1,3,4,2]\n",
    "dic, stack = {}, []\n",
    "\n",
    "for num in nums2:\n",
    "    while stack and num > stack[-1]:\n",
    "        stack.pop()\n",
    "    if stack:\n",
    "        dic[num] = stack[-1]\n",
    "    stack.append(num)\n",
    "\n",
    "dic, stack"
   ]
  },
  {
   "cell_type": "markdown",
   "id": "1724d4cc",
   "metadata": {},
   "source": [
    "### 20211020<a id='151'></a>\n",
    "<strong>151. Reverse Words in a Stringt I</strong>\n",
    "\n",
    "Given an input string s, reverse the order of the words.\n",
    "\n",
    "A word is defined as a sequence of non-space characters. The words in s will be separated by at least one space.\n",
    "\n",
    "Return a string of the words in reverse order concatenated by a single space.\n",
    "\n",
    "Note that s may contain leading or trailing spaces or multiple spaces between two words. The returned string should only have a single space separating the words. Do not include any extra spaces.\n"
   ]
  },
  {
   "cell_type": "code",
   "execution_count": null,
   "id": "26b5dd6c",
   "metadata": {},
   "outputs": [],
   "source": [
    "def reverseWords(s):\n",
    "    words = [string for string in s.split(' ') if string != '']\n",
    "    return ' '.join(words[::-1])"
   ]
  },
  {
   "cell_type": "code",
   "execution_count": null,
   "id": "fb5efcc6",
   "metadata": {},
   "outputs": [],
   "source": [
    "s = \"  Bob    Loves  Alice   \"\n",
    "reverseWords(s)"
   ]
  },
  {
   "cell_type": "code",
   "execution_count": null,
   "id": "a40247eb",
   "metadata": {},
   "outputs": [],
   "source": [
    "s = \"  hello world  \"\n",
    "reverseWords(s)"
   ]
  },
  {
   "cell_type": "code",
   "execution_count": null,
   "id": "b44e8f5c",
   "metadata": {},
   "outputs": [],
   "source": [
    "s = \"a good   example\"\n",
    "reverseWords(s)"
   ]
  },
  {
   "cell_type": "markdown",
   "id": "f3073683",
   "metadata": {},
   "source": [
    "### 20211020<a id='29'></a>\n",
    "<strong>29. Divide Two Integers</strong>\n",
    "\n",
    "Given two integers dividend and divisor, divide two integers without using multiplication, division, and mod operator.\n",
    "\n",
    "Return the quotient after dividing dividend by divisor.\n",
    "\n",
    "The integer division should truncate toward zero, which means losing its fractional part. For example, truncate(8.345) = 8 and truncate(-2.7335) = -2.\n",
    "\n",
    "Note: Assume we are dealing with an environment that could only store integers within the 32-bit signed integer range: [−231, 231 − 1]. For this problem, assume that your function returns 231 − 1 when the division result overflows."
   ]
  },
  {
   "cell_type": "code",
   "execution_count": null,
   "id": "b954d9cc",
   "metadata": {},
   "outputs": [],
   "source": [
    "def divide(dividend: int, divisor: int):\n",
    "    ans = 0\n",
    "    multiple = []\n",
    "    remain = abs(dividend)\n",
    "    div = abs(divisor)\n",
    "    \n",
    "    if (dividend >=0 and divisor > 0) or (dividend <=0 and divisor < 0):\n",
    "        while div <= remain:\n",
    "            multiple.append(div)\n",
    "            ans += 2**(len(multiple)-1)\n",
    "            remain -= div\n",
    "            div += div\n",
    "\n",
    "        while multiple and remain >= divisor:\n",
    "            if remain >= multiple[-1]:\n",
    "                ans += 2**(len(multiple)-1)\n",
    "                remain -= multiple[-1]\n",
    "            else:\n",
    "                multiple.pop() \n",
    "    else:\n",
    "        while div <= remain:\n",
    "            multiple.append(div)\n",
    "            ans -= 2**(len(multiple)-1)\n",
    "            remain -= div\n",
    "            div += div\n",
    "\n",
    "        while multiple and remain >= divisor:\n",
    "            if remain >= multiple[-1]:\n",
    "                ans -= 2**(len(multiple)-1)\n",
    "                remain -= multiple[-1]\n",
    "            else:\n",
    "                multiple.pop()\n",
    "    \n",
    "    if ans >= 2147483648:\n",
    "        ans = 2147483647\n",
    "\n",
    "    return ans"
   ]
  },
  {
   "cell_type": "code",
   "execution_count": null,
   "id": "65051771",
   "metadata": {},
   "outputs": [],
   "source": [
    "def divide(dividend, divisor):\n",
    "     \n",
    "    # Calculate sign of divisor\n",
    "    # i.e., sign will be negative\n",
    "    # either one of them is negative\n",
    "    # only iff otherwise it will be\n",
    "    # positive\n",
    "     \n",
    "    sign = (-1 if((dividend < 0) ^\n",
    "                  (divisor < 0)) else 1);\n",
    "     \n",
    "    # remove sign of operands\n",
    "    dividend = abs(dividend);\n",
    "    divisor = abs(divisor);\n",
    "     \n",
    "    # Initialize\n",
    "    # the quotient\n",
    "    quotient = 0;\n",
    "    temp = 0;\n",
    "     \n",
    "    # test down from the highest\n",
    "    # bit and accumulate the\n",
    "    # tentative value for valid bit\n",
    "    for i in range(31, -1, -1):\n",
    "        if (temp + (divisor << i) <= dividend):\n",
    "            temp += divisor << i;\n",
    "            quotient |= 1 << i;\n",
    "    #if the sign value computed earlier is -1 then negate the value of quotient\n",
    "    if sign ==-1 :\n",
    "        quotient=-quotient;\n",
    "    return quotient;"
   ]
  },
  {
   "cell_type": "code",
   "execution_count": null,
   "id": "a33cb1de",
   "metadata": {},
   "outputs": [],
   "source": [
    "dividend = -2147483650\n",
    "divisor = 1\n",
    "divide(dividend, divisor)"
   ]
  },
  {
   "cell_type": "code",
   "execution_count": null,
   "id": "c64e9521",
   "metadata": {},
   "outputs": [],
   "source": [
    "dividend = -2147483647\n",
    "divisor = 1\n",
    "divide(dividend, divisor)"
   ]
  },
  {
   "cell_type": "code",
   "execution_count": null,
   "id": "716eaa12",
   "metadata": {},
   "outputs": [],
   "source": [
    "dividend = 10\n",
    "divisor = 3\n",
    "divide(dividend, divisor)"
   ]
  },
  {
   "cell_type": "code",
   "execution_count": null,
   "id": "80f00445",
   "metadata": {},
   "outputs": [],
   "source": [
    "dividend = -214748365000\n",
    "divisor = 1\n",
    "divide(dividend, divisor)"
   ]
  },
  {
   "cell_type": "code",
   "execution_count": null,
   "id": "d204d4f3",
   "metadata": {},
   "outputs": [],
   "source": [
    "dividend = 3\n",
    "divisor = 10\n",
    "divide(dividend, divisor)"
   ]
  },
  {
   "cell_type": "code",
   "execution_count": null,
   "id": "ff917fc3",
   "metadata": {},
   "outputs": [],
   "source": [
    "dividend = 1\n",
    "divisor = 1\n",
    "divide(dividend, divisor)"
   ]
  },
  {
   "cell_type": "code",
   "execution_count": null,
   "id": "c1ed6ff8",
   "metadata": {},
   "outputs": [],
   "source": [
    "s = \"barfoothefoobarman\"\n",
    "words = [\"foo\",\"bar\"]\n",
    "word_list = [s[i:i+3] for i in range(0,len(s),3)]\n",
    "word_list"
   ]
  },
  {
   "cell_type": "markdown",
   "id": "037c6878",
   "metadata": {},
   "source": [
    "### 20211020<a id='30'></a>\n",
    "<strong>30. Substring with Concatenation of All Words</strong>\n",
    "\n",
    "You are given a string s and an array of strings words of the same length. Return all starting indices of substring(s) in s that is a concatenation of each word in words exactly once, in any order, and without any intervening characters.\n",
    "\n",
    "You can return the answer in any order."
   ]
  },
  {
   "cell_type": "code",
   "execution_count": null,
   "id": "c299a1ff",
   "metadata": {},
   "outputs": [],
   "source": [
    "def findSubstring(s, words):\n",
    "    \n",
    "    ans = []\n",
    "    len_word = len(words[0])\n",
    "    n_words = len(words)\n",
    "    total_len = len_word * n_words\n",
    "    hash_map = {}\n",
    "    \n",
    "    for word in words:\n",
    "        if word in hash_map:\n",
    "            hash_map[word] += 1\n",
    "        else:\n",
    "            hash_map[word] = 1\n",
    "                        \n",
    "    for i in range(len(s) - total_len + 1):\n",
    "        temp_hash = hash_map.copy()\n",
    "        j = i\n",
    "        count = n_words\n",
    "        \n",
    "        while j < i + total_len:\n",
    "            word = s[j:j+len_word]\n",
    "            \n",
    "            if word not in temp_hash or temp_hash[word] == 0:\n",
    "                break\n",
    "            else:\n",
    "                count -= 1\n",
    "                temp_hash[word] -= 1\n",
    "            \n",
    "            j += len_word\n",
    "            \n",
    "        if count == 0:\n",
    "            ans.append(i)\n",
    "    \n",
    "    return ans"
   ]
  },
  {
   "cell_type": "code",
   "execution_count": null,
   "id": "0a50a989",
   "metadata": {},
   "outputs": [],
   "source": [
    "s = \"barfoothefoobarman\"\n",
    "words = [\"foo\",\"bar\"]\n",
    "findSubstring(s, words)"
   ]
  },
  {
   "cell_type": "code",
   "execution_count": null,
   "id": "7d0fa3ce",
   "metadata": {},
   "outputs": [],
   "source": [
    "s = \"wordgoodgoodgoodbestword\"\n",
    "words = [\"word\",\"good\",\"best\",\"word\"]\n",
    "findSubstring(s, words)"
   ]
  },
  {
   "cell_type": "code",
   "execution_count": null,
   "id": "40d959e5",
   "metadata": {},
   "outputs": [],
   "source": [
    "s = \"barfoofoobarthefoobarman\"\n",
    "words = [\"bar\",\"foo\",\"the\"]\n",
    "findSubstring(s, words)"
   ]
  },
  {
   "cell_type": "markdown",
   "id": "1efc22d2",
   "metadata": {},
   "source": [
    "### 20211021<a id='380'></a>\n",
    "<strong>380. Insert Delete GetRandom O(1)</strong>\n",
    "\n",
    "Implement the RandomizedSet class:\n",
    "\n",
    "- RandomizedSet() Initializes the RandomizedSet object.\n",
    "- bool insert(int val) Inserts an item val into the set if not present. Returns true if the item was not present, false otherwise.\n",
    "- bool remove(int val) Removes an item val from the set if present. Returns true if the item was present, false otherwise.\n",
    "- int getRandom() Returns a random element from the current set of elements (it's guaranteed that at least one element exists when this method is called). Each element must have the same probability of being returned.\n",
    "\n",
    "You must implement the functions of the class such that each function works in average O(1) time complexity."
   ]
  },
  {
   "cell_type": "code",
   "execution_count": null,
   "id": "cee8870b",
   "metadata": {},
   "outputs": [],
   "source": [
    "import random\n",
    "class RandomizedSet:\n",
    "    \n",
    "    def __init__(self):\n",
    "        # dict to keep inserted val:index\n",
    "        self.indexs = {}\n",
    "        # list to keep all inserted val\n",
    "        self.numbers = []\n",
    "\n",
    "    def insert(self, val: int) -> bool:\n",
    "        if val in self.indexs:\n",
    "            return False\n",
    "        \n",
    "        self.numbers.append(val)\n",
    "        self.indexs[val] = len(self.numbers) - 1\n",
    "        return True\n",
    "\n",
    "    def remove(self, val: int) -> bool:\n",
    "        if val not in self.indexs:\n",
    "            return False\n",
    "        \n",
    "        # swap val with last element in the list, then pop\n",
    "        index = self.indexs[val]\n",
    "        last = self.numbers[-1]\n",
    "        self.indexs[last] = index\n",
    "        self.numbers[-1] = val\n",
    "        self.numbers[index] = last\n",
    "        self.numbers.pop()\n",
    "       \n",
    "        del self.indexs[val]\n",
    "        \n",
    "        return True\n",
    "\n",
    "    def getRandom(self) -> int:\n",
    "        return random.choice(self.numbers)"
   ]
  },
  {
   "cell_type": "code",
   "execution_count": null,
   "id": "7f615738",
   "metadata": {},
   "outputs": [],
   "source": [
    "obj = RandomizedSet()\n",
    "print(obj.insert(0))\n",
    "print(obj.insert(1))\n",
    "print(obj.remove(0))\n",
    "print(obj.insert(2))\n",
    "print(obj.remove(1))\n",
    "print(obj.getRandom())"
   ]
  },
  {
   "cell_type": "markdown",
   "id": "ec8c85f0",
   "metadata": {},
   "source": [
    "### 20211021<a id='451'></a>\n",
    "<strong>451. Sort Characters By Frequency</strong>\n",
    "\n",
    "Given a string s, sort it in decreasing order based on the frequency of the characters. The frequency of a character is the number of times it appears in the string.\n",
    "\n",
    "Return the sorted string. If there are multiple answers, return any of them."
   ]
  },
  {
   "cell_type": "code",
   "execution_count": null,
   "id": "0595d416",
   "metadata": {},
   "outputs": [],
   "source": [
    "def frequencySort(s):\n",
    "    dic = {}\n",
    "    \n",
    "    for char in s:\n",
    "        if char in dic:\n",
    "            dic[char] += 1\n",
    "        else:\n",
    "            dic[char] = 1\n",
    "            \n",
    "    sorted_char = sorted(dic.items(), key=lambda item: item[1], reverse = True)\n",
    "    \n",
    "    ans = ''\n",
    "    \n",
    "    for item in sorted_char:\n",
    "        ans += item[0] * item[1]\n",
    "        \n",
    "    return ans"
   ]
  },
  {
   "cell_type": "code",
   "execution_count": null,
   "id": "c728af6d",
   "metadata": {},
   "outputs": [],
   "source": [
    "s = \"tree\"\n",
    "frequencySort(s)"
   ]
  },
  {
   "cell_type": "code",
   "execution_count": null,
   "id": "a9e79dfe",
   "metadata": {},
   "outputs": [],
   "source": [
    "s = \"Aabb\"\n",
    "frequencySort(s)"
   ]
  },
  {
   "cell_type": "code",
   "execution_count": null,
   "id": "376f5bca",
   "metadata": {},
   "outputs": [],
   "source": [
    "dic = {'s':1, 'g':3, 'a':2}\n",
    "a = sorted(dic.items(), key=lambda item: item[1], reverse = True)[0]\n",
    "a[0]*a[1]"
   ]
  },
  {
   "cell_type": "markdown",
   "id": "a11bbafa",
   "metadata": {},
   "source": [
    "### 20211023<a id='222'></a>\n",
    "<strong>222. Count Complete Tree Nodes</strong>\n",
    "\n",
    "Given the root of a complete binary tree, return the number of the nodes in the tree.\n",
    "\n",
    "According to Wikipedia, every level, except possibly the last, is completely filled in a complete binary tree, and all nodes in the last level are as far left as possible. It can have between 1 and 2h nodes inclusive at the last level h.\n",
    "\n",
    "Design an algorithm that runs in less than O(n) time complexity.\n",
    "\n"
   ]
  },
  {
   "cell_type": "code",
   "execution_count": null,
   "id": "a531d3ac",
   "metadata": {},
   "outputs": [],
   "source": [
    "from lolviz import *\n",
    "from dtreeviz.trees import *\n",
    "\n",
    "class TreeNode:\n",
    "    def __init__(self, val=0, left=None, right=None):\n",
    "        self.val = val\n",
    "        self.left = left\n",
    "        self.right = right"
   ]
  },
  {
   "cell_type": "code",
   "execution_count": null,
   "id": "68f29a6d",
   "metadata": {},
   "outputs": [],
   "source": [
    "def countNodes(root):\n",
    "    \n",
    "    heights = []\n",
    "    \n",
    "    def find_height(root, h):\n",
    "        if root:\n",
    "        \n",
    "            rightans = find_height(root.right, h + 1)\n",
    "            if len(heights) == 0 or (len(heights) > 1 and rightans >= heights[-1] and heights[-2] == heights[-1]):\n",
    "                heights.append(rightans)\n",
    "\n",
    "            leftans = find_height(root.left, h + 1)\n",
    "            if (len(heights) == 1 and leftans >= heights[-1]) or (len(heights) > 1 and leftans >= heights[-1] and heights[-2] == heights[-1]):\n",
    "                heights.append(leftans)\n",
    "\n",
    "        return h\n",
    "    \n",
    "    find_height(root, -1)\n",
    "    n = len(heights)\n",
    "    \n",
    "    if n <= 1:\n",
    "        return n\n",
    "    if heights[-1] == heights[-2]:\n",
    "        return n -1\n",
    "    return 2**(heights[-1]+1) - n"
   ]
  },
  {
   "cell_type": "code",
   "execution_count": null,
   "id": "55da34c6",
   "metadata": {},
   "outputs": [],
   "source": [
    "def countNodes(root: TreeNode) -> int:\n",
    "    \n",
    "    def getLeftHeight(root):\n",
    "        count=1\n",
    "        while root.left:\n",
    "            count += 1\n",
    "            root = root.left\n",
    "        return count\n",
    "    \n",
    "    def getRightHeight(root):\n",
    "        count=1\n",
    "        while root.right:\n",
    "            count += 1\n",
    "            root = root.right\n",
    "        return count\n",
    "    \n",
    "    if not root:\n",
    "        return 0\n",
    "\n",
    "    left = getLeftHeight(root) #logn op\n",
    "    right = getRightHeight(root) #logn op\n",
    "\n",
    "    if left == right:\n",
    "        count = (2**left)-1 #if left == right then it's a complete BT. number of nodes in a comp BT is 2^h-1\n",
    "        return count\n",
    "    else:\n",
    "        #one subtree will always return immediately because it is complete. Hence time complexity is O(logn)\n",
    "        return countNodes(root.left) + countNodes(root.right) + 1 "
   ]
  },
  {
   "cell_type": "code",
   "execution_count": null,
   "id": "bcd554b7",
   "metadata": {},
   "outputs": [],
   "source": [
    "root = TreeNode(1)\n",
    "root.left = TreeNode(2)\n",
    "root.right = TreeNode(3)\n",
    "countNodes(root)"
   ]
  },
  {
   "cell_type": "code",
   "execution_count": null,
   "id": "4fd7d028",
   "metadata": {},
   "outputs": [],
   "source": [
    "root = TreeNode(1)\n",
    "root.left = TreeNode(2)\n",
    "root.right = TreeNode(3)\n",
    "root.left.left = TreeNode(4)\n",
    "countNodes(root)"
   ]
  },
  {
   "cell_type": "code",
   "execution_count": null,
   "id": "20a5f56f",
   "metadata": {},
   "outputs": [],
   "source": [
    "root = TreeNode(1)\n",
    "root.left = TreeNode(2)\n",
    "root.right = TreeNode(3)\n",
    "root.left.left = TreeNode(4)\n",
    "root.left.right = TreeNode(5)\n",
    "countNodes(root)"
   ]
  },
  {
   "cell_type": "code",
   "execution_count": null,
   "id": "1e6c0127",
   "metadata": {},
   "outputs": [],
   "source": [
    "root = TreeNode(1)\n",
    "root.left = TreeNode(2)\n",
    "root.right = TreeNode(3)\n",
    "root.left.left = TreeNode(4)\n",
    "root.left.right = TreeNode(5)\n",
    "root.right.left = TreeNode(6)\n",
    "countNodes(root)"
   ]
  },
  {
   "cell_type": "code",
   "execution_count": null,
   "id": "5b86ac22",
   "metadata": {},
   "outputs": [],
   "source": [
    "root = TreeNode(1)\n",
    "root.left = TreeNode(2)\n",
    "root.right = TreeNode(3)\n",
    "root.left.left = TreeNode(4)\n",
    "root.left.right = TreeNode(5)\n",
    "root.right.left = TreeNode(6)\n",
    "root.right.right = TreeNode(7)\n",
    "countNodes(root)"
   ]
  },
  {
   "cell_type": "code",
   "execution_count": null,
   "id": "31a43103",
   "metadata": {},
   "outputs": [],
   "source": [
    "root = TreeNode(1)\n",
    "root.left = TreeNode(2)\n",
    "root.right = TreeNode(3)\n",
    "root.left.left = TreeNode(4)\n",
    "root.left.right = TreeNode(5)\n",
    "root.right.left = TreeNode(6)\n",
    "root.right.right = TreeNode(7)\n",
    "root.left.left.left = TreeNode(8)\n",
    "countNodes(root)"
   ]
  },
  {
   "cell_type": "code",
   "execution_count": null,
   "id": "c152a725",
   "metadata": {},
   "outputs": [],
   "source": [
    "root = TreeNode(1)\n",
    "root.left = TreeNode(2)\n",
    "root.right = TreeNode(3)\n",
    "root.left.left = TreeNode(4)\n",
    "root.left.right = TreeNode(5)\n",
    "root.right.left = TreeNode(6)\n",
    "root.right.right = TreeNode(7)\n",
    "root.left.left.left = TreeNode(8)\n",
    "root.left.left.right = TreeNode(9)\n",
    "countNodes(root)"
   ]
  },
  {
   "cell_type": "markdown",
   "id": "952c61fe",
   "metadata": {},
   "source": [
    "### 20211024<a id='31'></a>\n",
    "<strong>31. Next Permutation</strong>\n",
    "\n",
    "Implement next permutation, which rearranges numbers into the lexicographically next greater permutation of numbers.\n",
    "\n",
    "If such an arrangement is not possible, it must rearrange it as the lowest possible order (i.e., sorted in ascending order).\n",
    "\n",
    "The replacement must be in place and use only constant extra memory."
   ]
  },
  {
   "cell_type": "code",
   "execution_count": 121,
   "id": "51dd7bb9",
   "metadata": {},
   "outputs": [],
   "source": [
    "# check from the end the nums\n",
    "# find a pair of smaller and swap that swap > smaller and with the smallest of \n",
    "# diff = number of digits * (swap - smaller)\n",
    "# insert the swap_v to the smaller_v's index smaller\n",
    "# then sort nums[smaller+1] to ascending order\n",
    "def nextPermutation(nums):\n",
    "    n = len(nums)\n",
    "    \n",
    "    if n > 1:\n",
    "        diff = -1\n",
    "        smaller = -1\n",
    "        smaller_v = 101\n",
    "        swap = -1\n",
    "        swap_v = 101\n",
    "        for i in range(n-1, 0, -1):\n",
    "            cur = nums[i]\n",
    "            for j in range(i-1, -1, -1):\n",
    "                temp = nums[j]\n",
    "                if temp < cur:\n",
    "                    temp_diff = 10 ** (n - j)\n",
    "                    if diff == -1 or temp_diff < diff:\n",
    "                        smaller = j\n",
    "                        smaller_v = temp\n",
    "                        swap = i\n",
    "                        swap_v = cur\n",
    "                        diff = temp_diff\n",
    "                        break\n",
    "        \n",
    "        if smaller != -1:\n",
    "            nums.pop(swap)\n",
    "            nums.insert(smaller, swap_v)\n",
    "        nums[smaller+1:] = sorted(nums[smaller+1:])"
   ]
  },
  {
   "cell_type": "code",
   "execution_count": 173,
   "id": "bd4fae12",
   "metadata": {},
   "outputs": [],
   "source": [
    "def nextPermutation(nums):\n",
    "    n = len(nums)\n",
    "    \n",
    "    # find descending sequence\n",
    "    swap = n - 1\n",
    "    while swap > 0 and nums[swap-1] >= nums[swap]:\n",
    "        swap-=1\n",
    "    # the number to swap is the i-1 before the desending sequence\n",
    "    swap -= 1\n",
    "        \n",
    "    # find smallest number that is bigger than swap\n",
    "    i = swap + 2\n",
    "    bigger = swap + 1\n",
    "    while i < len(nums):\n",
    "        if nums[i] > nums[swap] and nums[i] < nums[bigger]:\n",
    "            bigger = i\n",
    "        if nums[bigger] == nums[swap] + 1:\n",
    "            break\n",
    "        i+=1\n",
    "    \n",
    "    # swap with bigger\n",
    "    temp = nums[swap]\n",
    "    nums[swap] = nums[bigger]\n",
    "    nums[bigger] = temp\n",
    "    \n",
    "    # the rest of them sort in ascending order\n",
    "    nums[swap+1:] = sorted(nums[swap+1:])"
   ]
  },
  {
   "cell_type": "code",
   "execution_count": 164,
   "id": "4a29720c",
   "metadata": {},
   "outputs": [
    {
     "name": "stdout",
     "output_type": "stream",
     "text": [
      "[1, 3, 2]\n"
     ]
    },
    {
     "data": {
      "text/plain": [
       "True"
      ]
     },
     "execution_count": 164,
     "metadata": {},
     "output_type": "execute_result"
    }
   ],
   "source": [
    "nums = [1,2,3]\n",
    "nextPermutation(nums)\n",
    "print(nums)\n",
    "nums == [1, 3, 2]"
   ]
  },
  {
   "cell_type": "code",
   "execution_count": 165,
   "id": "d93d48b5",
   "metadata": {},
   "outputs": [
    {
     "name": "stdout",
     "output_type": "stream",
     "text": [
      "[1, 2, 3]\n"
     ]
    },
    {
     "data": {
      "text/plain": [
       "True"
      ]
     },
     "execution_count": 165,
     "metadata": {},
     "output_type": "execute_result"
    }
   ],
   "source": [
    "nums = [3,2,1]\n",
    "nextPermutation(nums)\n",
    "print(nums)\n",
    "nums == [1, 2, 3]"
   ]
  },
  {
   "cell_type": "code",
   "execution_count": 166,
   "id": "63d243ab",
   "metadata": {},
   "outputs": [
    {
     "data": {
      "text/plain": [
       "True"
      ]
     },
     "execution_count": 166,
     "metadata": {},
     "output_type": "execute_result"
    }
   ],
   "source": [
    "nums = [1,1,5]\n",
    "nextPermutation(nums)\n",
    "nums == [1, 5, 1]"
   ]
  },
  {
   "cell_type": "code",
   "execution_count": 167,
   "id": "ea543552",
   "metadata": {},
   "outputs": [
    {
     "data": {
      "text/plain": [
       "True"
      ]
     },
     "execution_count": 167,
     "metadata": {},
     "output_type": "execute_result"
    }
   ],
   "source": [
    "nums = [1]\n",
    "nextPermutation(nums)\n",
    "nums == [1]"
   ]
  },
  {
   "cell_type": "code",
   "execution_count": 168,
   "id": "8ccdf3e8",
   "metadata": {},
   "outputs": [
    {
     "name": "stdout",
     "output_type": "stream",
     "text": [
      "[2, 1, 3]\n"
     ]
    },
    {
     "data": {
      "text/plain": [
       "True"
      ]
     },
     "execution_count": 168,
     "metadata": {},
     "output_type": "execute_result"
    }
   ],
   "source": [
    "nums = [1,3,2]\n",
    "nextPermutation(nums)\n",
    "print(nums)\n",
    "nums == [2,1,3]"
   ]
  },
  {
   "cell_type": "code",
   "execution_count": 169,
   "id": "b5f4f268",
   "metadata": {},
   "outputs": [
    {
     "data": {
      "text/plain": [
       "True"
      ]
     },
     "execution_count": 169,
     "metadata": {},
     "output_type": "execute_result"
    }
   ],
   "source": [
    "nums = [2,1,3]\n",
    "nextPermutation(nums)\n",
    "nums == [2, 3, 1]"
   ]
  },
  {
   "cell_type": "code",
   "execution_count": 170,
   "id": "6a6959dc",
   "metadata": {},
   "outputs": [
    {
     "data": {
      "text/plain": [
       "True"
      ]
     },
     "execution_count": 170,
     "metadata": {},
     "output_type": "execute_result"
    }
   ],
   "source": [
    "nums = [2,3,1]\n",
    "nextPermutation(nums)\n",
    "nums == [3, 1, 2]"
   ]
  },
  {
   "cell_type": "code",
   "execution_count": 171,
   "id": "ac923307",
   "metadata": {},
   "outputs": [
    {
     "name": "stdout",
     "output_type": "stream",
     "text": [
      "[4, 2, 0, 3, 0, 2, 2]\n"
     ]
    },
    {
     "data": {
      "text/plain": [
       "True"
      ]
     },
     "execution_count": 171,
     "metadata": {},
     "output_type": "execute_result"
    }
   ],
   "source": [
    "nums = [4,2,0,2,3,2,0]\n",
    "nextPermutation(nums)\n",
    "print(nums)\n",
    "nums == [4,2,0,3,0,2,2]"
   ]
  },
  {
   "cell_type": "code",
   "execution_count": 172,
   "id": "f80515a3",
   "metadata": {},
   "outputs": [
    {
     "name": "stdout",
     "output_type": "stream",
     "text": [
      "[1, 2, 0, 3, 0, 1, 4, 2]\n"
     ]
    },
    {
     "data": {
      "text/plain": [
       "True"
      ]
     },
     "execution_count": 172,
     "metadata": {},
     "output_type": "execute_result"
    }
   ],
   "source": [
    "nums = [1,2,0,3,0,1,2,4]\n",
    "nextPermutation(nums)\n",
    "print(nums)\n",
    "nums == [1,2,0,3,0,1,4,2]"
   ]
  },
  {
   "cell_type": "markdown",
   "id": "c912d941",
   "metadata": {},
   "source": [
    "### 20211025<a id='155'></a>\n",
    "<strong>155. Min Stack</strong>\n",
    "\n",
    "Design a stack that supports push, pop, top, and retrieving the minimum element in constant time.\n",
    "\n",
    "Implement the MinStack class:\n",
    "\n",
    "MinStack() initializes the stack object.\n",
    "void push(int val) pushes the element val onto the stack.\n",
    "void pop() removes the element on the top of the stack.\n",
    "int top() gets the top element of the stack.\n",
    "int getMin() retrieves the minimum element in the stack."
   ]
  },
  {
   "cell_type": "code",
   "execution_count": 177,
   "id": "84fa7cbd",
   "metadata": {},
   "outputs": [],
   "source": [
    "class MinStack:\n",
    "\n",
    "    def __init__(self):\n",
    "        self.stack = []\n",
    "        \n",
    "\n",
    "    def push(self, val: int) -> None:\n",
    "        if self.stack:\n",
    "            self.stack.append((val, min(self.stack[-1][1], val)))\n",
    "        else:\n",
    "            self.stack.append((val, val))\n",
    "        \n",
    "\n",
    "    def pop(self) -> None:\n",
    "        self.stack.pop()\n",
    "        \n",
    "\n",
    "    def top(self) -> int:\n",
    "        if self.stack:\n",
    "            return self.stack[-1][0]\n",
    "        else:\n",
    "            return None\n",
    "        \n",
    "\n",
    "    def getMin(self) -> int:\n",
    "        if self.stack:\n",
    "            return self.stack[-1][1]\n",
    "        else:\n",
    "            return None"
   ]
  },
  {
   "cell_type": "code",
   "execution_count": 178,
   "id": "6988e603",
   "metadata": {},
   "outputs": [],
   "source": [
    "class MinStack:\n",
    "    \n",
    "    def __init__(self):\n",
    "        self.stack = []\n",
    "        self.min = []\n",
    "        \n",
    "\n",
    "    def push(self, val: int) -> None:\n",
    "        self.stack.append(val)\n",
    "        if not self.min or self.min[-1] >= val:\n",
    "            self.min.append(val)\n",
    "        \n",
    "\n",
    "    def pop(self) -> None:\n",
    "        last = self.stack[-1]\n",
    "        self.stack.pop()\n",
    "        if last == self.min[-1]:\n",
    "            self.min.pop()\n",
    "\n",
    "    def top(self) -> int:\n",
    "        return self.stack[-1]\n",
    "        \n",
    "\n",
    "    def getMin(self) -> int:\n",
    "        return self.min[-1]"
   ]
  },
  {
   "cell_type": "markdown",
   "id": "c572a26c",
   "metadata": {},
   "source": [
    "### 20211025<a id='33'></a>\n",
    "<strong>33. Search in Rotated Sorted Array</strong>\n",
    "\n",
    "There is an integer array nums sorted in ascending order (with distinct values).\n",
    "\n",
    "Prior to being passed to your function, nums is possibly rotated at an unknown pivot index k (1 <= k < nums.length) such that the resulting array is [nums[k], nums[k+1], ..., nums[n-1], nums[0], nums[1], ..., nums[k-1]] (0-indexed). For example, [0,1,2,4,5,6,7] might be rotated at pivot index 3 and become [4,5,6,7,0,1,2].\n",
    "\n",
    "Given the array nums after the possible rotation and an integer target, return the index of target if it is in nums, or -1 if it is not in nums.\n",
    "\n",
    "You must write an algorithm with O(log n) runtime complexity."
   ]
  },
  {
   "cell_type": "code",
   "execution_count": null,
   "id": "f14fc6d9",
   "metadata": {},
   "outputs": [],
   "source": [
    "# two pointer solution:\n",
    "# left and right at 1/3, 2/3  \n",
    "#Case1\n",
    "# num_left < num_right -> it is either the the ascending sequence left to the pivot or right to the pivot\n",
    "# [... left, ..., right, ..., pivot, ...] or [pivot, ... left, ..., right, ...]\n",
    "# target < num_left --> left to pivot -1 search\n",
    "# num_left < target < num_right --> left to right +1 search\n",
    "# target > num_right --> right to pivot +1 search\n",
    "\n",
    "# Case2\n",
    "# num_left > num_right -> left to the pivot and right to the pivot\n",
    "# [... left, ..., pivot, ..., right, ...]\n",
    "# target < num_right --> right to pivot -1 search\n",
    "# num_right < target < num_left --> right to left +1 search\n",
    "# target > num_left --> left to pivot +1 search"
   ]
  },
  {
   "cell_type": "code",
   "execution_count": 206,
   "id": "dda76916",
   "metadata": {},
   "outputs": [],
   "source": [
    "def search(nums, target):\n",
    "    def findnum(nums, start, end, step, target):\n",
    "        ans = -1\n",
    "        for i in range(start, end+step, step):\n",
    "            if nums[i] == target:\n",
    "                ans = i\n",
    "                break\n",
    "        return ans\n",
    "    \n",
    "    n = len(nums)\n",
    "    \n",
    "    if n == 1:\n",
    "        if nums[0] == target:\n",
    "            return 0\n",
    "        return -1\n",
    "    \n",
    "    l = n//3\n",
    "    r = 2*n//3\n",
    "    \n",
    "    if nums[l] < nums[r]:\n",
    "        if target <= nums[l]:\n",
    "            return findnum(nums,l,0,-1,target) if findnum(nums,l,0,-1,target)!=-1 else findnum(nums,n-1,r,-1,target)\n",
    "        elif target >= nums[r]:\n",
    "            return findnum(nums,r,n-1,1, target) if findnum(nums,r,n-1,1,target)!=-1 else findnum(nums,0,l,1,target)\n",
    "        else:\n",
    "            return findnum(nums,l,r,1,target)\n",
    "    else:\n",
    "        if target <= nums[r]:\n",
    "            return findnum(nums,r,l,-1,target)\n",
    "        elif target >= nums[l]:\n",
    "            return findnum(nums,l,r,1,target)\n",
    "        else:\n",
    "            return findnum(nums,r,n-1,1, target) if findnum(nums,r,n-1,1,target)!=-1 else findnum(nums,0,l,1,target)"
   ]
  },
  {
   "cell_type": "code",
   "execution_count": 277,
   "id": "9dd77797",
   "metadata": {},
   "outputs": [],
   "source": [
    "# binary search\n",
    "def search(nums, target):\n",
    "    s = 0\n",
    "    e = len(nums) - 1\n",
    "    while s <= e:\n",
    "        m = (s+e)//2\n",
    "        if target == nums[m]:\n",
    "            return m\n",
    "        # [s, m, p, e]\n",
    "        if nums[s] <= nums[m]:\n",
    "            if target >= nums[s] and target < nums[m]:\n",
    "                e = m - 1\n",
    "            else:\n",
    "                s = m + 1\n",
    "        #[s, p, m, e]\n",
    "        else:\n",
    "            if target > nums[m] and target <= nums[e]:\n",
    "                s = m + 1\n",
    "            else:\n",
    "                e = m - 1\n",
    "                \n",
    "    return -1"
   ]
  },
  {
   "cell_type": "code",
   "execution_count": 262,
   "id": "634d53d0",
   "metadata": {},
   "outputs": [
    {
     "data": {
      "text/plain": [
       "4"
      ]
     },
     "execution_count": 262,
     "metadata": {},
     "output_type": "execute_result"
    }
   ],
   "source": [
    "nums = [4,5,6,7,0,1,2]\n",
    "target = 0\n",
    "search(nums, target)"
   ]
  },
  {
   "cell_type": "code",
   "execution_count": 263,
   "id": "2f8f36ca",
   "metadata": {},
   "outputs": [
    {
     "data": {
      "text/plain": [
       "-1"
      ]
     },
     "execution_count": 263,
     "metadata": {},
     "output_type": "execute_result"
    }
   ],
   "source": [
    "nums = [4,5,6,7,0,1,2]\n",
    "target = 3\n",
    "search(nums, target)"
   ]
  },
  {
   "cell_type": "code",
   "execution_count": 264,
   "id": "0164644a",
   "metadata": {},
   "outputs": [
    {
     "data": {
      "text/plain": [
       "-1"
      ]
     },
     "execution_count": 264,
     "metadata": {},
     "output_type": "execute_result"
    }
   ],
   "source": [
    "nums = [1]\n",
    "target = 0\n",
    "search(nums, target)"
   ]
  },
  {
   "cell_type": "code",
   "execution_count": 270,
   "id": "cb18b0ed",
   "metadata": {},
   "outputs": [
    {
     "data": {
      "text/plain": [
       "1"
      ]
     },
     "execution_count": 270,
     "metadata": {},
     "output_type": "execute_result"
    }
   ],
   "source": [
    "nums = [1,3]\n",
    "target = 3\n",
    "search(nums, target)"
   ]
  },
  {
   "cell_type": "code",
   "execution_count": 278,
   "id": "4fe8c2b9",
   "metadata": {},
   "outputs": [
    {
     "data": {
      "text/plain": [
       "1"
      ]
     },
     "execution_count": 278,
     "metadata": {},
     "output_type": "execute_result"
    }
   ],
   "source": [
    "nums = [3,1]\n",
    "target = 1\n",
    "search(nums, target)"
   ]
  },
  {
   "cell_type": "markdown",
   "id": "1a866ff5",
   "metadata": {},
   "source": [
    "### 20211025<a id='35'></a>\n",
    "<strong>35. Search Insert Position</strong>\n",
    "\n",
    "Given a sorted array of distinct integers and a target value, return the index if the target is found. If not, return the index where it would be if it were inserted in order.\n",
    "\n",
    "You must write an algorithm with O(log n) runtime complexity.\n",
    "\n"
   ]
  },
  {
   "cell_type": "code",
   "execution_count": 284,
   "id": "5510da84",
   "metadata": {},
   "outputs": [],
   "source": [
    "def searchInsert(nums, target):\n",
    "    start = 0\n",
    "    end = len(nums) - 1\n",
    "    \n",
    "    while start <= end:\n",
    "        mid = (start+end)//2\n",
    "        if nums[mid] == target:\n",
    "            return mid\n",
    "        elif target < nums[mid]:\n",
    "            end = mid - 1\n",
    "        else:\n",
    "            start = mid + 1\n",
    "            \n",
    "    return start"
   ]
  },
  {
   "cell_type": "code",
   "execution_count": 288,
   "id": "7c32e07b",
   "metadata": {},
   "outputs": [
    {
     "data": {
      "text/plain": [
       "2"
      ]
     },
     "execution_count": 288,
     "metadata": {},
     "output_type": "execute_result"
    }
   ],
   "source": [
    "nums = [1,3,5,6]\n",
    "target = 5\n",
    "searchInsert(nums, target)"
   ]
  },
  {
   "cell_type": "code",
   "execution_count": 287,
   "id": "dc011e5f",
   "metadata": {},
   "outputs": [
    {
     "data": {
      "text/plain": [
       "1"
      ]
     },
     "execution_count": 287,
     "metadata": {},
     "output_type": "execute_result"
    }
   ],
   "source": [
    "nums = [1,3,5,6]\n",
    "target = 2\n",
    "searchInsert(nums, target)"
   ]
  },
  {
   "cell_type": "code",
   "execution_count": 285,
   "id": "e4fa0d87",
   "metadata": {},
   "outputs": [
    {
     "data": {
      "text/plain": [
       "4"
      ]
     },
     "execution_count": 285,
     "metadata": {},
     "output_type": "execute_result"
    }
   ],
   "source": [
    "nums = [1,3,5,6]\n",
    "target = 7\n",
    "searchInsert(nums, target)"
   ]
  },
  {
   "cell_type": "code",
   "execution_count": 286,
   "id": "d9f92a1f",
   "metadata": {},
   "outputs": [
    {
     "data": {
      "text/plain": [
       "0"
      ]
     },
     "execution_count": 286,
     "metadata": {},
     "output_type": "execute_result"
    }
   ],
   "source": [
    "nums = [1,3,5,6]\n",
    "target = 0\n",
    "searchInsert(nums, target)"
   ]
  },
  {
   "cell_type": "code",
   "execution_count": 282,
   "id": "5ba03c57",
   "metadata": {},
   "outputs": [
    {
     "data": {
      "text/plain": [
       "0"
      ]
     },
     "execution_count": 282,
     "metadata": {},
     "output_type": "execute_result"
    }
   ],
   "source": [
    "nums = [1]\n",
    "target = 0\n",
    "searchInsert(nums, target)"
   ]
  },
  {
   "cell_type": "markdown",
   "id": "71fd4ae5",
   "metadata": {},
   "source": [
    "### 20211025<a id='34'></a>\n",
    "<strong>34. Find First and Last Position of Element in Sorted Array</strong>\n",
    "\n",
    "Given an array of integers nums sorted in non-decreasing order, find the starting and ending position of a given target value.\n",
    "\n",
    "If target is not found in the array, return [-1, -1].\n",
    "\n",
    "You must write an algorithm with O(log n) runtime complexity."
   ]
  },
  {
   "cell_type": "code",
   "execution_count": 310,
   "id": "4819e024",
   "metadata": {},
   "outputs": [],
   "source": [
    "# find one target index first, then expand left and right\n",
    "def searchRange(nums, target):\n",
    "    start = 0\n",
    "    end = len(nums) - 1\n",
    "    \n",
    "    while start <= end:\n",
    "        mid = (start+end)//2\n",
    "        if nums[mid] == target:\n",
    "            left = mid\n",
    "            right = mid\n",
    "            while left > 0 and nums[left-1] == target or right < len(nums)-1 and nums[right+1] == target:\n",
    "                if left > 0 and nums[left-1] == target:\n",
    "                    left -= 1\n",
    "                if right < len(nums)-1 and nums[right+1] == target:\n",
    "                    right += 1\n",
    "            return [left, right]\n",
    "            \n",
    "        elif target < nums[mid]:\n",
    "            end = mid - 1\n",
    "        else:\n",
    "            start = mid + 1\n",
    "            \n",
    "    return [-1, -1]"
   ]
  },
  {
   "cell_type": "code",
   "execution_count": 324,
   "id": "e6f1afc1",
   "metadata": {},
   "outputs": [],
   "source": [
    "# find first target index, then find last target index\n",
    "def searchRange(nums, target):\n",
    "\n",
    "    start = 0\n",
    "    end = len(nums) - 1\n",
    "    first = -1\n",
    "    last = -1\n",
    "    \n",
    "    while start <= end:\n",
    "        mid = (start+end)//2\n",
    "        if nums[mid] == target:\n",
    "            first = mid\n",
    "            end = mid - 1\n",
    "        elif target < nums[mid]:\n",
    "            end = mid - 1\n",
    "        else:\n",
    "            start = mid + 1\n",
    "    \n",
    "    if first == -1:\n",
    "        return [first, last]\n",
    "    \n",
    "    start = first\n",
    "    end = len(nums) - 1\n",
    "    while start <= end:\n",
    "        mid = (start+end)//2\n",
    "        if nums[mid] == target:\n",
    "            last = mid\n",
    "            start = mid + 1\n",
    "        elif target < nums[mid]:\n",
    "            end = mid - 1\n",
    "        else:\n",
    "            start = mid + 1\n",
    "    return [first, last]"
   ]
  },
  {
   "cell_type": "code",
   "execution_count": 330,
   "id": "26eb2a25",
   "metadata": {},
   "outputs": [
    {
     "data": {
      "text/plain": [
       "[10, 17]"
      ]
     },
     "execution_count": 330,
     "metadata": {},
     "output_type": "execute_result"
    }
   ],
   "source": [
    "nums = [5,7,7,7,7,7,7,7,7,7,8,8,8,8,8,8,8,8,10]\n",
    "target = 8\n",
    "searchRange(nums, target)"
   ]
  },
  {
   "cell_type": "code",
   "execution_count": 326,
   "id": "e2c4bd4d",
   "metadata": {},
   "outputs": [
    {
     "data": {
      "text/plain": [
       "[3, 4]"
      ]
     },
     "execution_count": 326,
     "metadata": {},
     "output_type": "execute_result"
    }
   ],
   "source": [
    "nums = [5,7,7,8,8,10]\n",
    "target = 8\n",
    "searchRange(nums, target)"
   ]
  },
  {
   "cell_type": "code",
   "execution_count": 327,
   "id": "c50d190b",
   "metadata": {},
   "outputs": [
    {
     "data": {
      "text/plain": [
       "[-1, -1]"
      ]
     },
     "execution_count": 327,
     "metadata": {},
     "output_type": "execute_result"
    }
   ],
   "source": [
    "nums = []\n",
    "target = 6\n",
    "searchRange(nums, target)"
   ]
  },
  {
   "cell_type": "markdown",
   "id": "adf842a3",
   "metadata": {},
   "source": [
    "### 20211026<a id='226'></a>\n",
    "<strong>226. Invert Binary Tree</strong>\n",
    "\n",
    "Given the root of a binary tree, invert the tree, and return its root.\n",
    "\n"
   ]
  },
  {
   "cell_type": "code",
   "execution_count": 23,
   "id": "cb7788d7",
   "metadata": {},
   "outputs": [],
   "source": [
    "from lolviz import *\n",
    "from dtreeviz.trees import *\n",
    "\n",
    "class TreeNode:\n",
    "    def __init__(self, val=0, left=None, right=None):\n",
    "        self.val = val\n",
    "        self.left = left\n",
    "        self.right = right"
   ]
  },
  {
   "cell_type": "code",
   "execution_count": 24,
   "id": "ca8baf4a",
   "metadata": {},
   "outputs": [],
   "source": [
    "def invertTree(root):\n",
    "    if root is not None:\n",
    "        prev_left = root.left\n",
    "        root.left = root.right\n",
    "        root.right = prev_left\n",
    "        invertTree(root.left)\n",
    "        invertTree(root.right)\n",
    "    return root"
   ]
  },
  {
   "cell_type": "code",
   "execution_count": 25,
   "id": "65be404d",
   "metadata": {},
   "outputs": [],
   "source": [
    "def invertTree(root):\n",
    "    if root is not None:\n",
    "        root.left, root.right = root.right, root.left\n",
    "        invertTree(root.left)\n",
    "        invertTree(root.right)\n",
    "    return root"
   ]
  },
  {
   "cell_type": "code",
   "execution_count": 26,
   "id": "55cdf741",
   "metadata": {},
   "outputs": [
    {
     "name": "stdout",
     "output_type": "stream",
     "text": [
      "4 2 7 1 3 6 9 \n",
      "4 7 2 9 6 3 1 "
     ]
    }
   ],
   "source": [
    "root = TreeNode(4)\n",
    "root.left = TreeNode(2)\n",
    "root.right = TreeNode(7)\n",
    "root.left.left = TreeNode(1)\n",
    "root.left.right = TreeNode(3)\n",
    "root.right.left = TreeNode(6)\n",
    "root.right.right = TreeNode(9)\n",
    "printtree(root)\n",
    "print()\n",
    "printtree(invertTree(root))"
   ]
  },
  {
   "cell_type": "code",
   "execution_count": 27,
   "id": "810f18ff",
   "metadata": {},
   "outputs": [
    {
     "data": {
      "image/svg+xml": [
       "<?xml version=\"1.0\" encoding=\"UTF-8\" standalone=\"no\"?>\n",
       "<!DOCTYPE svg PUBLIC \"-//W3C//DTD SVG 1.1//EN\"\n",
       " \"http://www.w3.org/Graphics/SVG/1.1/DTD/svg11.dtd\">\n",
       "<!-- Generated by graphviz version 2.49.3 (20211023.0002)\n",
       " -->\n",
       "<!-- Title: G Pages: 1 -->\n",
       "<svg width=\"225pt\" height=\"220pt\"\n",
       " viewBox=\"0.00 0.00 225.00 220.00\" xmlns=\"http://www.w3.org/2000/svg\" xmlns:xlink=\"http://www.w3.org/1999/xlink\">\n",
       "<g id=\"graph0\" class=\"graph\" transform=\"scale(1 1) rotate(0) translate(4 216)\">\n",
       "<title>G</title>\n",
       "<polygon fill=\"white\" stroke=\"transparent\" points=\"-4,4 -4,-216 221,-216 221,4 -4,4\"/>\n",
       "<!-- node140549427665504 -->\n",
       "<g id=\"node1\" class=\"node\">\n",
       "<title>node140549427665504</title>\n",
       "<polygon fill=\"#fefecd\" stroke=\"#444443\" stroke-width=\"0.5\" points=\"129,-212 80,-212 80,-156 129,-156 129,-212\"/>\n",
       "<polygon fill=\"#fefecd\" stroke=\"transparent\" points=\"82.5,-196 82.5,-210 127.5,-210 127.5,-196 82.5,-196\"/>\n",
       "<polyline fill=\"none\" stroke=\"#444443\" points=\"82.5,-196 127.5,-196 \"/>\n",
       "<text text-anchor=\"start\" x=\"83.5\" y=\"-200.2\" font-family=\"Times,serif\" font-style=\"italic\" font-size=\"11.00\" fill=\"#444443\">TreeNode</text>\n",
       "<polygon fill=\"#fefecd\" stroke=\"transparent\" points=\"82.5,-194 82.5,-196 127.5,-196 127.5,-194 82.5,-194\"/>\n",
       "<polygon fill=\"#fefecd\" stroke=\"transparent\" points=\"82.5,-180 82.5,-194 106.5,-194 106.5,-180 82.5,-180\"/>\n",
       "<polyline fill=\"none\" stroke=\"#444443\" points=\"106.5,-180 106.5,-194 \"/>\n",
       "<text text-anchor=\"start\" x=\"87.5\" y=\"-184.2\" font-family=\"Helvetica,sans-Serif\" font-size=\"11.00\" fill=\"#444443\">val </text>\n",
       "<polygon fill=\"#fefecd\" stroke=\"transparent\" points=\"108.5,-180 108.5,-194 127.5,-194 127.5,-180 108.5,-180\"/>\n",
       "<text text-anchor=\"start\" x=\"109.5\" y=\"-184.2\" font-family=\"Helvetica,sans-Serif\" font-size=\"11.00\" fill=\"#444443\"> &#39;4&#39;</text>\n",
       "<polyline fill=\"none\" stroke=\"#444443\" points=\"82.5,-177 127.5,-177 \"/>\n",
       "<polygon fill=\"#fefecd\" stroke=\"transparent\" points=\"82.5,-175 82.5,-177 127.5,-177 127.5,-175 82.5,-175\"/>\n",
       "<polygon fill=\"#fefecd\" stroke=\"transparent\" points=\"82.5,-166 82.5,-175 106.5,-175 106.5,-166 82.5,-166\"/>\n",
       "<polyline fill=\"none\" stroke=\"#444443\" points=\"106.5,-166 106.5,-175 \"/>\n",
       "<text text-anchor=\"start\" x=\"83.5\" y=\"-169.2\" font-family=\"Helvetica,sans-Serif\" font-size=\"6.00\" fill=\"#444443\">left</text>\n",
       "<polygon fill=\"#fefecd\" stroke=\"transparent\" points=\"106.5,-166 106.5,-175 108.5,-175 108.5,-166 106.5,-166\"/>\n",
       "<polygon fill=\"#fefecd\" stroke=\"transparent\" points=\"108.5,-166 108.5,-175 127.5,-175 127.5,-166 108.5,-166\"/>\n",
       "<text text-anchor=\"start\" x=\"114.5\" y=\"-169.2\" font-family=\"Helvetica,sans-Serif\" font-size=\"6.00\" fill=\"#444443\">right</text>\n",
       "<polygon fill=\"#fefecd\" stroke=\"transparent\" points=\"82.5,-163 82.5,-166 106.5,-166 106.5,-163 82.5,-163\"/>\n",
       "<polyline fill=\"none\" stroke=\"#444443\" points=\"106.5,-163 106.5,-166 \"/>\n",
       "<text text-anchor=\"start\" x=\"94\" y=\"-164.2\" font-family=\"Helvetica,sans-Serif\" font-size=\"1.00\" fill=\"#444443\"> </text>\n",
       "<polygon fill=\"#fefecd\" stroke=\"transparent\" points=\"106.5,-163 106.5,-166 108.5,-166 108.5,-163 106.5,-163\"/>\n",
       "<polygon fill=\"#fefecd\" stroke=\"transparent\" points=\"108.5,-163 108.5,-166 127.5,-166 127.5,-163 108.5,-163\"/>\n",
       "<text text-anchor=\"start\" x=\"117.5\" y=\"-164.2\" font-family=\"Helvetica,sans-Serif\" font-size=\"1.00\" fill=\"#444443\"> </text>\n",
       "<polygon fill=\"#fefecd\" stroke=\"transparent\" points=\"82.5,-158 82.5,-163 106.5,-163 106.5,-158 82.5,-158\"/>\n",
       "<polyline fill=\"none\" stroke=\"#444443\" points=\"106.5,-158 106.5,-163 \"/>\n",
       "<text text-anchor=\"start\" x=\"94\" y=\"-159.6\" font-family=\"Helvetica,sans-Serif\" font-size=\"3.00\" fill=\"#444443\"> </text>\n",
       "<polygon fill=\"#fefecd\" stroke=\"transparent\" points=\"106.5,-158 106.5,-163 108.5,-163 108.5,-158 106.5,-158\"/>\n",
       "<polygon fill=\"#fefecd\" stroke=\"transparent\" points=\"108.5,-158 108.5,-163 127.5,-163 127.5,-158 108.5,-158\"/>\n",
       "<text text-anchor=\"start\" x=\"117.5\" y=\"-159.6\" font-family=\"Helvetica,sans-Serif\" font-size=\"3.00\" fill=\"#444443\"> </text>\n",
       "</g>\n",
       "<!-- node140549368811328 -->\n",
       "<g id=\"node2\" class=\"node\">\n",
       "<title>node140549368811328</title>\n",
       "<polygon fill=\"#fefecd\" stroke=\"#444443\" stroke-width=\"0.5\" points=\"91,-134 42,-134 42,-78 91,-78 91,-134\"/>\n",
       "<polygon fill=\"#fefecd\" stroke=\"transparent\" points=\"44.5,-118 44.5,-132 89.5,-132 89.5,-118 44.5,-118\"/>\n",
       "<polyline fill=\"none\" stroke=\"#444443\" points=\"44.5,-118 89.5,-118 \"/>\n",
       "<text text-anchor=\"start\" x=\"45.5\" y=\"-122.2\" font-family=\"Times,serif\" font-style=\"italic\" font-size=\"11.00\" fill=\"#444443\">TreeNode</text>\n",
       "<polygon fill=\"#fefecd\" stroke=\"transparent\" points=\"44.5,-116 44.5,-118 89.5,-118 89.5,-116 44.5,-116\"/>\n",
       "<polygon fill=\"#fefecd\" stroke=\"transparent\" points=\"44.5,-102 44.5,-116 68.5,-116 68.5,-102 44.5,-102\"/>\n",
       "<polyline fill=\"none\" stroke=\"#444443\" points=\"68.5,-102 68.5,-116 \"/>\n",
       "<text text-anchor=\"start\" x=\"49.5\" y=\"-106.2\" font-family=\"Helvetica,sans-Serif\" font-size=\"11.00\" fill=\"#444443\">val </text>\n",
       "<polygon fill=\"#fefecd\" stroke=\"transparent\" points=\"70.5,-102 70.5,-116 89.5,-116 89.5,-102 70.5,-102\"/>\n",
       "<text text-anchor=\"start\" x=\"71.5\" y=\"-106.2\" font-family=\"Helvetica,sans-Serif\" font-size=\"11.00\" fill=\"#444443\"> &#39;2&#39;</text>\n",
       "<polyline fill=\"none\" stroke=\"#444443\" points=\"44.5,-99 89.5,-99 \"/>\n",
       "<polygon fill=\"#fefecd\" stroke=\"transparent\" points=\"44.5,-97 44.5,-99 89.5,-99 89.5,-97 44.5,-97\"/>\n",
       "<polygon fill=\"#fefecd\" stroke=\"transparent\" points=\"44.5,-88 44.5,-97 68.5,-97 68.5,-88 44.5,-88\"/>\n",
       "<polyline fill=\"none\" stroke=\"#444443\" points=\"68.5,-88 68.5,-97 \"/>\n",
       "<text text-anchor=\"start\" x=\"45.5\" y=\"-91.2\" font-family=\"Helvetica,sans-Serif\" font-size=\"6.00\" fill=\"#444443\">left</text>\n",
       "<polygon fill=\"#fefecd\" stroke=\"transparent\" points=\"68.5,-88 68.5,-97 70.5,-97 70.5,-88 68.5,-88\"/>\n",
       "<polygon fill=\"#fefecd\" stroke=\"transparent\" points=\"70.5,-88 70.5,-97 89.5,-97 89.5,-88 70.5,-88\"/>\n",
       "<text text-anchor=\"start\" x=\"76.5\" y=\"-91.2\" font-family=\"Helvetica,sans-Serif\" font-size=\"6.00\" fill=\"#444443\">right</text>\n",
       "<polygon fill=\"#fefecd\" stroke=\"transparent\" points=\"44.5,-85 44.5,-88 68.5,-88 68.5,-85 44.5,-85\"/>\n",
       "<polyline fill=\"none\" stroke=\"#444443\" points=\"68.5,-85 68.5,-88 \"/>\n",
       "<text text-anchor=\"start\" x=\"56\" y=\"-86.2\" font-family=\"Helvetica,sans-Serif\" font-size=\"1.00\" fill=\"#444443\"> </text>\n",
       "<polygon fill=\"#fefecd\" stroke=\"transparent\" points=\"68.5,-85 68.5,-88 70.5,-88 70.5,-85 68.5,-85\"/>\n",
       "<polygon fill=\"#fefecd\" stroke=\"transparent\" points=\"70.5,-85 70.5,-88 89.5,-88 89.5,-85 70.5,-85\"/>\n",
       "<text text-anchor=\"start\" x=\"79.5\" y=\"-86.2\" font-family=\"Helvetica,sans-Serif\" font-size=\"1.00\" fill=\"#444443\"> </text>\n",
       "<polygon fill=\"#fefecd\" stroke=\"transparent\" points=\"44.5,-80 44.5,-85 68.5,-85 68.5,-80 44.5,-80\"/>\n",
       "<polyline fill=\"none\" stroke=\"#444443\" points=\"68.5,-80 68.5,-85 \"/>\n",
       "<text text-anchor=\"start\" x=\"56\" y=\"-81.6\" font-family=\"Helvetica,sans-Serif\" font-size=\"3.00\" fill=\"#444443\"> </text>\n",
       "<polygon fill=\"#fefecd\" stroke=\"transparent\" points=\"68.5,-80 68.5,-85 70.5,-85 70.5,-80 68.5,-80\"/>\n",
       "<polygon fill=\"#fefecd\" stroke=\"transparent\" points=\"70.5,-80 70.5,-85 89.5,-85 89.5,-80 70.5,-80\"/>\n",
       "<text text-anchor=\"start\" x=\"79.5\" y=\"-81.6\" font-family=\"Helvetica,sans-Serif\" font-size=\"3.00\" fill=\"#444443\"> </text>\n",
       "</g>\n",
       "<!-- node140549427665504&#45;&gt;node140549368811328 -->\n",
       "<g id=\"edge1\" class=\"edge\">\n",
       "<title>node140549427665504:c&#45;&gt;node140549368811328</title>\n",
       "<path fill=\"none\" stroke=\"#444443\" stroke-width=\"0.5\" d=\"M92.93,-159.85C90.71,-155.41 86.42,-146.84 81.94,-137.87\"/>\n",
       "<ellipse fill=\"#444443\" stroke=\"#444443\" stroke-width=\"0.5\" cx=\"93.78\" cy=\"-161.57\" rx=\"1.6\" ry=\"1.6\"/>\n",
       "<polygon fill=\"#444443\" stroke=\"#444443\" stroke-width=\"0.5\" points=\"83.05,-136.97 80.01,-134.02 80.54,-138.22 83.05,-136.97\"/>\n",
       "</g>\n",
       "<!-- node140549368214048 -->\n",
       "<g id=\"node5\" class=\"node\">\n",
       "<title>node140549368214048</title>\n",
       "<polygon fill=\"#fefecd\" stroke=\"#444443\" stroke-width=\"0.5\" points=\"171,-134 122,-134 122,-78 171,-78 171,-134\"/>\n",
       "<polygon fill=\"#fefecd\" stroke=\"transparent\" points=\"124.5,-118 124.5,-132 169.5,-132 169.5,-118 124.5,-118\"/>\n",
       "<polyline fill=\"none\" stroke=\"#444443\" points=\"124.5,-118 169.5,-118 \"/>\n",
       "<text text-anchor=\"start\" x=\"125.5\" y=\"-122.2\" font-family=\"Times,serif\" font-style=\"italic\" font-size=\"11.00\" fill=\"#444443\">TreeNode</text>\n",
       "<polygon fill=\"#fefecd\" stroke=\"transparent\" points=\"124.5,-116 124.5,-118 169.5,-118 169.5,-116 124.5,-116\"/>\n",
       "<polygon fill=\"#fefecd\" stroke=\"transparent\" points=\"124.5,-102 124.5,-116 148.5,-116 148.5,-102 124.5,-102\"/>\n",
       "<polyline fill=\"none\" stroke=\"#444443\" points=\"148.5,-102 148.5,-116 \"/>\n",
       "<text text-anchor=\"start\" x=\"129.5\" y=\"-106.2\" font-family=\"Helvetica,sans-Serif\" font-size=\"11.00\" fill=\"#444443\">val </text>\n",
       "<polygon fill=\"#fefecd\" stroke=\"transparent\" points=\"150.5,-102 150.5,-116 169.5,-116 169.5,-102 150.5,-102\"/>\n",
       "<text text-anchor=\"start\" x=\"151.5\" y=\"-106.2\" font-family=\"Helvetica,sans-Serif\" font-size=\"11.00\" fill=\"#444443\"> &#39;7&#39;</text>\n",
       "<polyline fill=\"none\" stroke=\"#444443\" points=\"124.5,-99 169.5,-99 \"/>\n",
       "<polygon fill=\"#fefecd\" stroke=\"transparent\" points=\"124.5,-97 124.5,-99 169.5,-99 169.5,-97 124.5,-97\"/>\n",
       "<polygon fill=\"#fefecd\" stroke=\"transparent\" points=\"124.5,-88 124.5,-97 148.5,-97 148.5,-88 124.5,-88\"/>\n",
       "<polyline fill=\"none\" stroke=\"#444443\" points=\"148.5,-88 148.5,-97 \"/>\n",
       "<text text-anchor=\"start\" x=\"125.5\" y=\"-91.2\" font-family=\"Helvetica,sans-Serif\" font-size=\"6.00\" fill=\"#444443\">left</text>\n",
       "<polygon fill=\"#fefecd\" stroke=\"transparent\" points=\"148.5,-88 148.5,-97 150.5,-97 150.5,-88 148.5,-88\"/>\n",
       "<polygon fill=\"#fefecd\" stroke=\"transparent\" points=\"150.5,-88 150.5,-97 169.5,-97 169.5,-88 150.5,-88\"/>\n",
       "<text text-anchor=\"start\" x=\"156.5\" y=\"-91.2\" font-family=\"Helvetica,sans-Serif\" font-size=\"6.00\" fill=\"#444443\">right</text>\n",
       "<polygon fill=\"#fefecd\" stroke=\"transparent\" points=\"124.5,-85 124.5,-88 148.5,-88 148.5,-85 124.5,-85\"/>\n",
       "<polyline fill=\"none\" stroke=\"#444443\" points=\"148.5,-85 148.5,-88 \"/>\n",
       "<text text-anchor=\"start\" x=\"136\" y=\"-86.2\" font-family=\"Helvetica,sans-Serif\" font-size=\"1.00\" fill=\"#444443\"> </text>\n",
       "<polygon fill=\"#fefecd\" stroke=\"transparent\" points=\"148.5,-85 148.5,-88 150.5,-88 150.5,-85 148.5,-85\"/>\n",
       "<polygon fill=\"#fefecd\" stroke=\"transparent\" points=\"150.5,-85 150.5,-88 169.5,-88 169.5,-85 150.5,-85\"/>\n",
       "<text text-anchor=\"start\" x=\"159.5\" y=\"-86.2\" font-family=\"Helvetica,sans-Serif\" font-size=\"1.00\" fill=\"#444443\"> </text>\n",
       "<polygon fill=\"#fefecd\" stroke=\"transparent\" points=\"124.5,-80 124.5,-85 148.5,-85 148.5,-80 124.5,-80\"/>\n",
       "<polyline fill=\"none\" stroke=\"#444443\" points=\"148.5,-80 148.5,-85 \"/>\n",
       "<text text-anchor=\"start\" x=\"136\" y=\"-81.6\" font-family=\"Helvetica,sans-Serif\" font-size=\"3.00\" fill=\"#444443\"> </text>\n",
       "<polygon fill=\"#fefecd\" stroke=\"transparent\" points=\"148.5,-80 148.5,-85 150.5,-85 150.5,-80 148.5,-80\"/>\n",
       "<polygon fill=\"#fefecd\" stroke=\"transparent\" points=\"150.5,-80 150.5,-85 169.5,-85 169.5,-80 150.5,-80\"/>\n",
       "<text text-anchor=\"start\" x=\"159.5\" y=\"-81.6\" font-family=\"Helvetica,sans-Serif\" font-size=\"3.00\" fill=\"#444443\"> </text>\n",
       "</g>\n",
       "<!-- node140549427665504&#45;&gt;node140549368214048 -->\n",
       "<g id=\"edge2\" class=\"edge\">\n",
       "<title>node140549427665504:c&#45;&gt;node140549368214048</title>\n",
       "<path fill=\"none\" stroke=\"#444443\" stroke-width=\"0.5\" d=\"M120.07,-159.85C122.29,-155.41 126.58,-146.84 131.06,-137.87\"/>\n",
       "<ellipse fill=\"#444443\" stroke=\"#444443\" stroke-width=\"0.5\" cx=\"119.22\" cy=\"-161.57\" rx=\"1.6\" ry=\"1.6\"/>\n",
       "<polygon fill=\"#444443\" stroke=\"#444443\" stroke-width=\"0.5\" points=\"132.46,-138.22 132.99,-134.02 129.95,-136.97 132.46,-138.22\"/>\n",
       "</g>\n",
       "<!-- node140549368809744 -->\n",
       "<g id=\"node3\" class=\"node\">\n",
       "<title>node140549368809744</title>\n",
       "<polygon fill=\"#fefecd\" stroke=\"#444443\" stroke-width=\"0.5\" points=\"49,-56 0,-56 0,0 49,0 49,-56\"/>\n",
       "<polygon fill=\"#fefecd\" stroke=\"transparent\" points=\"2.5,-40 2.5,-54 47.5,-54 47.5,-40 2.5,-40\"/>\n",
       "<polyline fill=\"none\" stroke=\"#444443\" points=\"2.5,-40 47.5,-40 \"/>\n",
       "<text text-anchor=\"start\" x=\"3.5\" y=\"-44.2\" font-family=\"Times,serif\" font-style=\"italic\" font-size=\"11.00\" fill=\"#444443\">TreeNode</text>\n",
       "<polygon fill=\"#fefecd\" stroke=\"transparent\" points=\"2.5,-38 2.5,-40 47.5,-40 47.5,-38 2.5,-38\"/>\n",
       "<polygon fill=\"#fefecd\" stroke=\"transparent\" points=\"2.5,-24 2.5,-38 26.5,-38 26.5,-24 2.5,-24\"/>\n",
       "<polyline fill=\"none\" stroke=\"#444443\" points=\"26.5,-24 26.5,-38 \"/>\n",
       "<text text-anchor=\"start\" x=\"7.5\" y=\"-28.2\" font-family=\"Helvetica,sans-Serif\" font-size=\"11.00\" fill=\"#444443\">val </text>\n",
       "<polygon fill=\"#fefecd\" stroke=\"transparent\" points=\"28.5,-24 28.5,-38 47.5,-38 47.5,-24 28.5,-24\"/>\n",
       "<text text-anchor=\"start\" x=\"29.5\" y=\"-28.2\" font-family=\"Helvetica,sans-Serif\" font-size=\"11.00\" fill=\"#444443\"> &#39;1&#39;</text>\n",
       "<polyline fill=\"none\" stroke=\"#444443\" points=\"2.5,-21 47.5,-21 \"/>\n",
       "<polygon fill=\"#fefecd\" stroke=\"transparent\" points=\"2.5,-19 2.5,-21 47.5,-21 47.5,-19 2.5,-19\"/>\n",
       "<polygon fill=\"#fefecd\" stroke=\"transparent\" points=\"2.5,-10 2.5,-19 26.5,-19 26.5,-10 2.5,-10\"/>\n",
       "<polyline fill=\"none\" stroke=\"#444443\" points=\"26.5,-10 26.5,-19 \"/>\n",
       "<text text-anchor=\"start\" x=\"3.5\" y=\"-13.2\" font-family=\"Helvetica,sans-Serif\" font-size=\"6.00\" fill=\"#444443\">left</text>\n",
       "<polygon fill=\"#fefecd\" stroke=\"transparent\" points=\"26.5,-10 26.5,-19 28.5,-19 28.5,-10 26.5,-10\"/>\n",
       "<polygon fill=\"#fefecd\" stroke=\"transparent\" points=\"28.5,-10 28.5,-19 47.5,-19 47.5,-10 28.5,-10\"/>\n",
       "<text text-anchor=\"start\" x=\"34.5\" y=\"-13.2\" font-family=\"Helvetica,sans-Serif\" font-size=\"6.00\" fill=\"#444443\">right</text>\n",
       "<polygon fill=\"#fefecd\" stroke=\"transparent\" points=\"2.5,-7 2.5,-10 26.5,-10 26.5,-7 2.5,-7\"/>\n",
       "<polyline fill=\"none\" stroke=\"#444443\" points=\"26.5,-7 26.5,-10 \"/>\n",
       "<text text-anchor=\"start\" x=\"14\" y=\"-8.2\" font-family=\"Helvetica,sans-Serif\" font-size=\"1.00\" fill=\"#444443\"> </text>\n",
       "<polygon fill=\"#fefecd\" stroke=\"transparent\" points=\"26.5,-7 26.5,-10 28.5,-10 28.5,-7 26.5,-7\"/>\n",
       "<polygon fill=\"#fefecd\" stroke=\"transparent\" points=\"28.5,-7 28.5,-10 47.5,-10 47.5,-7 28.5,-7\"/>\n",
       "<text text-anchor=\"start\" x=\"37.5\" y=\"-8.2\" font-family=\"Helvetica,sans-Serif\" font-size=\"1.00\" fill=\"#444443\"> </text>\n",
       "<polygon fill=\"#fefecd\" stroke=\"transparent\" points=\"2.5,-2 2.5,-7 26.5,-7 26.5,-2 2.5,-2\"/>\n",
       "<polyline fill=\"none\" stroke=\"#444443\" points=\"26.5,-2 26.5,-7 \"/>\n",
       "<text text-anchor=\"start\" x=\"14\" y=\"-3.6\" font-family=\"Helvetica,sans-Serif\" font-size=\"3.00\" fill=\"#444443\"> </text>\n",
       "<polygon fill=\"#fefecd\" stroke=\"transparent\" points=\"26.5,-2 26.5,-7 28.5,-7 28.5,-2 26.5,-2\"/>\n",
       "<polygon fill=\"#fefecd\" stroke=\"transparent\" points=\"28.5,-2 28.5,-7 47.5,-7 47.5,-2 28.5,-2\"/>\n",
       "<text text-anchor=\"start\" x=\"37.5\" y=\"-3.6\" font-family=\"Helvetica,sans-Serif\" font-size=\"3.00\" fill=\"#444443\"> </text>\n",
       "</g>\n",
       "<!-- node140549368811328&#45;&gt;node140549368809744 -->\n",
       "<g id=\"edge3\" class=\"edge\">\n",
       "<title>node140549368811328:c&#45;&gt;node140549368809744</title>\n",
       "<path fill=\"none\" stroke=\"#444443\" stroke-width=\"0.5\" d=\"M54.89,-82.18C52.42,-77.85 47.42,-69.12 42.19,-59.96\"/>\n",
       "<ellipse fill=\"#444443\" stroke=\"#444443\" stroke-width=\"0.5\" cx=\"55.71\" cy=\"-83.61\" rx=\"1.6\" ry=\"1.6\"/>\n",
       "<polygon fill=\"#444443\" stroke=\"#444443\" stroke-width=\"0.5\" points=\"43.14,-58.79 39.94,-56.02 40.71,-60.18 43.14,-58.79\"/>\n",
       "</g>\n",
       "<!-- node140549368807920 -->\n",
       "<g id=\"node4\" class=\"node\">\n",
       "<title>node140549368807920</title>\n",
       "<polygon fill=\"#fefecd\" stroke=\"#444443\" stroke-width=\"0.5\" points=\"105,-56 56,-56 56,0 105,0 105,-56\"/>\n",
       "<polygon fill=\"#fefecd\" stroke=\"transparent\" points=\"58.5,-40 58.5,-54 103.5,-54 103.5,-40 58.5,-40\"/>\n",
       "<polyline fill=\"none\" stroke=\"#444443\" points=\"58.5,-40 103.5,-40 \"/>\n",
       "<text text-anchor=\"start\" x=\"59.5\" y=\"-44.2\" font-family=\"Times,serif\" font-style=\"italic\" font-size=\"11.00\" fill=\"#444443\">TreeNode</text>\n",
       "<polygon fill=\"#fefecd\" stroke=\"transparent\" points=\"58.5,-38 58.5,-40 103.5,-40 103.5,-38 58.5,-38\"/>\n",
       "<polygon fill=\"#fefecd\" stroke=\"transparent\" points=\"58.5,-24 58.5,-38 82.5,-38 82.5,-24 58.5,-24\"/>\n",
       "<polyline fill=\"none\" stroke=\"#444443\" points=\"82.5,-24 82.5,-38 \"/>\n",
       "<text text-anchor=\"start\" x=\"63.5\" y=\"-28.2\" font-family=\"Helvetica,sans-Serif\" font-size=\"11.00\" fill=\"#444443\">val </text>\n",
       "<polygon fill=\"#fefecd\" stroke=\"transparent\" points=\"84.5,-24 84.5,-38 103.5,-38 103.5,-24 84.5,-24\"/>\n",
       "<text text-anchor=\"start\" x=\"85.5\" y=\"-28.2\" font-family=\"Helvetica,sans-Serif\" font-size=\"11.00\" fill=\"#444443\"> &#39;3&#39;</text>\n",
       "<polyline fill=\"none\" stroke=\"#444443\" points=\"58.5,-21 103.5,-21 \"/>\n",
       "<polygon fill=\"#fefecd\" stroke=\"transparent\" points=\"58.5,-19 58.5,-21 103.5,-21 103.5,-19 58.5,-19\"/>\n",
       "<polygon fill=\"#fefecd\" stroke=\"transparent\" points=\"58.5,-10 58.5,-19 82.5,-19 82.5,-10 58.5,-10\"/>\n",
       "<polyline fill=\"none\" stroke=\"#444443\" points=\"82.5,-10 82.5,-19 \"/>\n",
       "<text text-anchor=\"start\" x=\"59.5\" y=\"-13.2\" font-family=\"Helvetica,sans-Serif\" font-size=\"6.00\" fill=\"#444443\">left</text>\n",
       "<polygon fill=\"#fefecd\" stroke=\"transparent\" points=\"82.5,-10 82.5,-19 84.5,-19 84.5,-10 82.5,-10\"/>\n",
       "<polygon fill=\"#fefecd\" stroke=\"transparent\" points=\"84.5,-10 84.5,-19 103.5,-19 103.5,-10 84.5,-10\"/>\n",
       "<text text-anchor=\"start\" x=\"90.5\" y=\"-13.2\" font-family=\"Helvetica,sans-Serif\" font-size=\"6.00\" fill=\"#444443\">right</text>\n",
       "<polygon fill=\"#fefecd\" stroke=\"transparent\" points=\"58.5,-7 58.5,-10 82.5,-10 82.5,-7 58.5,-7\"/>\n",
       "<polyline fill=\"none\" stroke=\"#444443\" points=\"82.5,-7 82.5,-10 \"/>\n",
       "<text text-anchor=\"start\" x=\"70\" y=\"-8.2\" font-family=\"Helvetica,sans-Serif\" font-size=\"1.00\" fill=\"#444443\"> </text>\n",
       "<polygon fill=\"#fefecd\" stroke=\"transparent\" points=\"82.5,-7 82.5,-10 84.5,-10 84.5,-7 82.5,-7\"/>\n",
       "<polygon fill=\"#fefecd\" stroke=\"transparent\" points=\"84.5,-7 84.5,-10 103.5,-10 103.5,-7 84.5,-7\"/>\n",
       "<text text-anchor=\"start\" x=\"93.5\" y=\"-8.2\" font-family=\"Helvetica,sans-Serif\" font-size=\"1.00\" fill=\"#444443\"> </text>\n",
       "<polygon fill=\"#fefecd\" stroke=\"transparent\" points=\"58.5,-2 58.5,-7 82.5,-7 82.5,-2 58.5,-2\"/>\n",
       "<polyline fill=\"none\" stroke=\"#444443\" points=\"82.5,-2 82.5,-7 \"/>\n",
       "<text text-anchor=\"start\" x=\"70\" y=\"-3.6\" font-family=\"Helvetica,sans-Serif\" font-size=\"3.00\" fill=\"#444443\"> </text>\n",
       "<polygon fill=\"#fefecd\" stroke=\"transparent\" points=\"82.5,-2 82.5,-7 84.5,-7 84.5,-2 82.5,-2\"/>\n",
       "<polygon fill=\"#fefecd\" stroke=\"transparent\" points=\"84.5,-2 84.5,-7 103.5,-7 103.5,-2 84.5,-2\"/>\n",
       "<text text-anchor=\"start\" x=\"93.5\" y=\"-3.6\" font-family=\"Helvetica,sans-Serif\" font-size=\"3.00\" fill=\"#444443\"> </text>\n",
       "</g>\n",
       "<!-- node140549368811328&#45;&gt;node140549368807920 -->\n",
       "<g id=\"edge4\" class=\"edge\">\n",
       "<title>node140549368811328:c&#45;&gt;node140549368807920</title>\n",
       "<path fill=\"none\" stroke=\"#444443\" stroke-width=\"0.5\" d=\"M80.5,-81.52C80.5,-77.05 80.5,-68.86 80.5,-60.26\"/>\n",
       "<ellipse fill=\"#444443\" stroke=\"#444443\" stroke-width=\"0.5\" cx=\"80.5\" cy=\"-83.4\" rx=\"1.6\" ry=\"1.6\"/>\n",
       "<polygon fill=\"#444443\" stroke=\"#444443\" stroke-width=\"0.5\" points=\"81.9,-60.02 80.5,-56.02 79.1,-60.02 81.9,-60.02\"/>\n",
       "</g>\n",
       "<!-- node140549368807632 -->\n",
       "<g id=\"node6\" class=\"node\">\n",
       "<title>node140549368807632</title>\n",
       "<polygon fill=\"#fefecd\" stroke=\"#444443\" stroke-width=\"0.5\" points=\"161,-56 112,-56 112,0 161,0 161,-56\"/>\n",
       "<polygon fill=\"#fefecd\" stroke=\"transparent\" points=\"114.5,-40 114.5,-54 159.5,-54 159.5,-40 114.5,-40\"/>\n",
       "<polyline fill=\"none\" stroke=\"#444443\" points=\"114.5,-40 159.5,-40 \"/>\n",
       "<text text-anchor=\"start\" x=\"115.5\" y=\"-44.2\" font-family=\"Times,serif\" font-style=\"italic\" font-size=\"11.00\" fill=\"#444443\">TreeNode</text>\n",
       "<polygon fill=\"#fefecd\" stroke=\"transparent\" points=\"114.5,-38 114.5,-40 159.5,-40 159.5,-38 114.5,-38\"/>\n",
       "<polygon fill=\"#fefecd\" stroke=\"transparent\" points=\"114.5,-24 114.5,-38 138.5,-38 138.5,-24 114.5,-24\"/>\n",
       "<polyline fill=\"none\" stroke=\"#444443\" points=\"138.5,-24 138.5,-38 \"/>\n",
       "<text text-anchor=\"start\" x=\"119.5\" y=\"-28.2\" font-family=\"Helvetica,sans-Serif\" font-size=\"11.00\" fill=\"#444443\">val </text>\n",
       "<polygon fill=\"#fefecd\" stroke=\"transparent\" points=\"140.5,-24 140.5,-38 159.5,-38 159.5,-24 140.5,-24\"/>\n",
       "<text text-anchor=\"start\" x=\"141.5\" y=\"-28.2\" font-family=\"Helvetica,sans-Serif\" font-size=\"11.00\" fill=\"#444443\"> &#39;6&#39;</text>\n",
       "<polyline fill=\"none\" stroke=\"#444443\" points=\"114.5,-21 159.5,-21 \"/>\n",
       "<polygon fill=\"#fefecd\" stroke=\"transparent\" points=\"114.5,-19 114.5,-21 159.5,-21 159.5,-19 114.5,-19\"/>\n",
       "<polygon fill=\"#fefecd\" stroke=\"transparent\" points=\"114.5,-10 114.5,-19 138.5,-19 138.5,-10 114.5,-10\"/>\n",
       "<polyline fill=\"none\" stroke=\"#444443\" points=\"138.5,-10 138.5,-19 \"/>\n",
       "<text text-anchor=\"start\" x=\"115.5\" y=\"-13.2\" font-family=\"Helvetica,sans-Serif\" font-size=\"6.00\" fill=\"#444443\">left</text>\n",
       "<polygon fill=\"#fefecd\" stroke=\"transparent\" points=\"138.5,-10 138.5,-19 140.5,-19 140.5,-10 138.5,-10\"/>\n",
       "<polygon fill=\"#fefecd\" stroke=\"transparent\" points=\"140.5,-10 140.5,-19 159.5,-19 159.5,-10 140.5,-10\"/>\n",
       "<text text-anchor=\"start\" x=\"146.5\" y=\"-13.2\" font-family=\"Helvetica,sans-Serif\" font-size=\"6.00\" fill=\"#444443\">right</text>\n",
       "<polygon fill=\"#fefecd\" stroke=\"transparent\" points=\"114.5,-7 114.5,-10 138.5,-10 138.5,-7 114.5,-7\"/>\n",
       "<polyline fill=\"none\" stroke=\"#444443\" points=\"138.5,-7 138.5,-10 \"/>\n",
       "<text text-anchor=\"start\" x=\"126\" y=\"-8.2\" font-family=\"Helvetica,sans-Serif\" font-size=\"1.00\" fill=\"#444443\"> </text>\n",
       "<polygon fill=\"#fefecd\" stroke=\"transparent\" points=\"138.5,-7 138.5,-10 140.5,-10 140.5,-7 138.5,-7\"/>\n",
       "<polygon fill=\"#fefecd\" stroke=\"transparent\" points=\"140.5,-7 140.5,-10 159.5,-10 159.5,-7 140.5,-7\"/>\n",
       "<text text-anchor=\"start\" x=\"149.5\" y=\"-8.2\" font-family=\"Helvetica,sans-Serif\" font-size=\"1.00\" fill=\"#444443\"> </text>\n",
       "<polygon fill=\"#fefecd\" stroke=\"transparent\" points=\"114.5,-2 114.5,-7 138.5,-7 138.5,-2 114.5,-2\"/>\n",
       "<polyline fill=\"none\" stroke=\"#444443\" points=\"138.5,-2 138.5,-7 \"/>\n",
       "<text text-anchor=\"start\" x=\"126\" y=\"-3.6\" font-family=\"Helvetica,sans-Serif\" font-size=\"3.00\" fill=\"#444443\"> </text>\n",
       "<polygon fill=\"#fefecd\" stroke=\"transparent\" points=\"138.5,-2 138.5,-7 140.5,-7 140.5,-2 138.5,-2\"/>\n",
       "<polygon fill=\"#fefecd\" stroke=\"transparent\" points=\"140.5,-2 140.5,-7 159.5,-7 159.5,-2 140.5,-2\"/>\n",
       "<text text-anchor=\"start\" x=\"149.5\" y=\"-3.6\" font-family=\"Helvetica,sans-Serif\" font-size=\"3.00\" fill=\"#444443\"> </text>\n",
       "</g>\n",
       "<!-- node140549368214048&#45;&gt;node140549368807632 -->\n",
       "<g id=\"edge5\" class=\"edge\">\n",
       "<title>node140549368214048:c&#45;&gt;node140549368807632</title>\n",
       "<path fill=\"none\" stroke=\"#444443\" stroke-width=\"0.5\" d=\"M136.5,-81.52C136.5,-77.05 136.5,-68.86 136.5,-60.26\"/>\n",
       "<ellipse fill=\"#444443\" stroke=\"#444443\" stroke-width=\"0.5\" cx=\"136.5\" cy=\"-83.4\" rx=\"1.6\" ry=\"1.6\"/>\n",
       "<polygon fill=\"#444443\" stroke=\"#444443\" stroke-width=\"0.5\" points=\"137.9,-60.02 136.5,-56.02 135.1,-60.02 137.9,-60.02\"/>\n",
       "</g>\n",
       "<!-- node140549427663776 -->\n",
       "<g id=\"node7\" class=\"node\">\n",
       "<title>node140549427663776</title>\n",
       "<polygon fill=\"#fefecd\" stroke=\"#444443\" stroke-width=\"0.5\" points=\"217,-56 168,-56 168,0 217,0 217,-56\"/>\n",
       "<polygon fill=\"#fefecd\" stroke=\"transparent\" points=\"170.5,-40 170.5,-54 215.5,-54 215.5,-40 170.5,-40\"/>\n",
       "<polyline fill=\"none\" stroke=\"#444443\" points=\"170.5,-40 215.5,-40 \"/>\n",
       "<text text-anchor=\"start\" x=\"171.5\" y=\"-44.2\" font-family=\"Times,serif\" font-style=\"italic\" font-size=\"11.00\" fill=\"#444443\">TreeNode</text>\n",
       "<polygon fill=\"#fefecd\" stroke=\"transparent\" points=\"170.5,-38 170.5,-40 215.5,-40 215.5,-38 170.5,-38\"/>\n",
       "<polygon fill=\"#fefecd\" stroke=\"transparent\" points=\"170.5,-24 170.5,-38 194.5,-38 194.5,-24 170.5,-24\"/>\n",
       "<polyline fill=\"none\" stroke=\"#444443\" points=\"194.5,-24 194.5,-38 \"/>\n",
       "<text text-anchor=\"start\" x=\"175.5\" y=\"-28.2\" font-family=\"Helvetica,sans-Serif\" font-size=\"11.00\" fill=\"#444443\">val </text>\n",
       "<polygon fill=\"#fefecd\" stroke=\"transparent\" points=\"196.5,-24 196.5,-38 215.5,-38 215.5,-24 196.5,-24\"/>\n",
       "<text text-anchor=\"start\" x=\"197.5\" y=\"-28.2\" font-family=\"Helvetica,sans-Serif\" font-size=\"11.00\" fill=\"#444443\"> &#39;9&#39;</text>\n",
       "<polyline fill=\"none\" stroke=\"#444443\" points=\"170.5,-21 215.5,-21 \"/>\n",
       "<polygon fill=\"#fefecd\" stroke=\"transparent\" points=\"170.5,-19 170.5,-21 215.5,-21 215.5,-19 170.5,-19\"/>\n",
       "<polygon fill=\"#fefecd\" stroke=\"transparent\" points=\"170.5,-10 170.5,-19 194.5,-19 194.5,-10 170.5,-10\"/>\n",
       "<polyline fill=\"none\" stroke=\"#444443\" points=\"194.5,-10 194.5,-19 \"/>\n",
       "<text text-anchor=\"start\" x=\"171.5\" y=\"-13.2\" font-family=\"Helvetica,sans-Serif\" font-size=\"6.00\" fill=\"#444443\">left</text>\n",
       "<polygon fill=\"#fefecd\" stroke=\"transparent\" points=\"194.5,-10 194.5,-19 196.5,-19 196.5,-10 194.5,-10\"/>\n",
       "<polygon fill=\"#fefecd\" stroke=\"transparent\" points=\"196.5,-10 196.5,-19 215.5,-19 215.5,-10 196.5,-10\"/>\n",
       "<text text-anchor=\"start\" x=\"202.5\" y=\"-13.2\" font-family=\"Helvetica,sans-Serif\" font-size=\"6.00\" fill=\"#444443\">right</text>\n",
       "<polygon fill=\"#fefecd\" stroke=\"transparent\" points=\"170.5,-7 170.5,-10 194.5,-10 194.5,-7 170.5,-7\"/>\n",
       "<polyline fill=\"none\" stroke=\"#444443\" points=\"194.5,-7 194.5,-10 \"/>\n",
       "<text text-anchor=\"start\" x=\"182\" y=\"-8.2\" font-family=\"Helvetica,sans-Serif\" font-size=\"1.00\" fill=\"#444443\"> </text>\n",
       "<polygon fill=\"#fefecd\" stroke=\"transparent\" points=\"194.5,-7 194.5,-10 196.5,-10 196.5,-7 194.5,-7\"/>\n",
       "<polygon fill=\"#fefecd\" stroke=\"transparent\" points=\"196.5,-7 196.5,-10 215.5,-10 215.5,-7 196.5,-7\"/>\n",
       "<text text-anchor=\"start\" x=\"205.5\" y=\"-8.2\" font-family=\"Helvetica,sans-Serif\" font-size=\"1.00\" fill=\"#444443\"> </text>\n",
       "<polygon fill=\"#fefecd\" stroke=\"transparent\" points=\"170.5,-2 170.5,-7 194.5,-7 194.5,-2 170.5,-2\"/>\n",
       "<polyline fill=\"none\" stroke=\"#444443\" points=\"194.5,-2 194.5,-7 \"/>\n",
       "<text text-anchor=\"start\" x=\"182\" y=\"-3.6\" font-family=\"Helvetica,sans-Serif\" font-size=\"3.00\" fill=\"#444443\"> </text>\n",
       "<polygon fill=\"#fefecd\" stroke=\"transparent\" points=\"194.5,-2 194.5,-7 196.5,-7 196.5,-2 194.5,-2\"/>\n",
       "<polygon fill=\"#fefecd\" stroke=\"transparent\" points=\"196.5,-2 196.5,-7 215.5,-7 215.5,-2 196.5,-2\"/>\n",
       "<text text-anchor=\"start\" x=\"205.5\" y=\"-3.6\" font-family=\"Helvetica,sans-Serif\" font-size=\"3.00\" fill=\"#444443\"> </text>\n",
       "</g>\n",
       "<!-- node140549368214048&#45;&gt;node140549427663776 -->\n",
       "<g id=\"edge6\" class=\"edge\">\n",
       "<title>node140549368214048:c&#45;&gt;node140549427663776</title>\n",
       "<path fill=\"none\" stroke=\"#444443\" stroke-width=\"0.5\" d=\"M162.11,-82.18C164.58,-77.85 169.58,-69.12 174.81,-59.96\"/>\n",
       "<ellipse fill=\"#444443\" stroke=\"#444443\" stroke-width=\"0.5\" cx=\"161.29\" cy=\"-83.61\" rx=\"1.6\" ry=\"1.6\"/>\n",
       "<polygon fill=\"#444443\" stroke=\"#444443\" stroke-width=\"0.5\" points=\"176.29,-60.18 177.06,-56.02 173.86,-58.79 176.29,-60.18\"/>\n",
       "</g>\n",
       "</g>\n",
       "</svg>\n"
      ],
      "text/plain": [
       "<graphviz.sources.Source at 0x7fd436b598e0>"
      ]
     },
     "execution_count": 27,
     "metadata": {},
     "output_type": "execute_result"
    }
   ],
   "source": [
    "root = TreeNode(4)\n",
    "root.left = TreeNode(2)\n",
    "root.right = TreeNode(7)\n",
    "root.left.left = TreeNode(1)\n",
    "root.left.right = TreeNode(3)\n",
    "root.right.left = TreeNode(6)\n",
    "root.right.right = TreeNode(9)\n",
    "treeviz(root)"
   ]
  },
  {
   "cell_type": "code",
   "execution_count": 33,
   "id": "d4cea49b",
   "metadata": {},
   "outputs": [
    {
     "data": {
      "image/svg+xml": [
       "<?xml version=\"1.0\" encoding=\"UTF-8\" standalone=\"no\"?>\n",
       "<!DOCTYPE svg PUBLIC \"-//W3C//DTD SVG 1.1//EN\"\n",
       " \"http://www.w3.org/Graphics/SVG/1.1/DTD/svg11.dtd\">\n",
       "<!-- Generated by graphviz version 2.49.3 (20211023.0002)\n",
       " -->\n",
       "<!-- Title: G Pages: 1 -->\n",
       "<svg width=\"225pt\" height=\"220pt\"\n",
       " viewBox=\"0.00 0.00 225.00 220.00\" xmlns=\"http://www.w3.org/2000/svg\" xmlns:xlink=\"http://www.w3.org/1999/xlink\">\n",
       "<g id=\"graph0\" class=\"graph\" transform=\"scale(1 1) rotate(0) translate(4 216)\">\n",
       "<title>G</title>\n",
       "<polygon fill=\"white\" stroke=\"transparent\" points=\"-4,4 -4,-216 221,-216 221,4 -4,4\"/>\n",
       "<!-- node140203367739792 -->\n",
       "<g id=\"node1\" class=\"node\">\n",
       "<title>node140203367739792</title>\n",
       "<polygon fill=\"#fefecd\" stroke=\"#444443\" stroke-width=\"0.5\" points=\"129,-212 80,-212 80,-156 129,-156 129,-212\"/>\n",
       "<polygon fill=\"#fefecd\" stroke=\"transparent\" points=\"82.5,-196 82.5,-210 127.5,-210 127.5,-196 82.5,-196\"/>\n",
       "<polyline fill=\"none\" stroke=\"#444443\" points=\"82.5,-196 127.5,-196 \"/>\n",
       "<text text-anchor=\"start\" x=\"83.5\" y=\"-200.2\" font-family=\"Times,serif\" font-style=\"italic\" font-size=\"11.00\" fill=\"#444443\">TreeNode</text>\n",
       "<polygon fill=\"#fefecd\" stroke=\"transparent\" points=\"82.5,-194 82.5,-196 127.5,-196 127.5,-194 82.5,-194\"/>\n",
       "<polygon fill=\"#fefecd\" stroke=\"transparent\" points=\"82.5,-180 82.5,-194 106.5,-194 106.5,-180 82.5,-180\"/>\n",
       "<polyline fill=\"none\" stroke=\"#444443\" points=\"106.5,-180 106.5,-194 \"/>\n",
       "<text text-anchor=\"start\" x=\"87.5\" y=\"-184.2\" font-family=\"Helvetica,sans-Serif\" font-size=\"11.00\" fill=\"#444443\">val </text>\n",
       "<polygon fill=\"#fefecd\" stroke=\"transparent\" points=\"108.5,-180 108.5,-194 127.5,-194 127.5,-180 108.5,-180\"/>\n",
       "<text text-anchor=\"start\" x=\"109.5\" y=\"-184.2\" font-family=\"Helvetica,sans-Serif\" font-size=\"11.00\" fill=\"#444443\"> &#39;4&#39;</text>\n",
       "<polyline fill=\"none\" stroke=\"#444443\" points=\"82.5,-177 127.5,-177 \"/>\n",
       "<polygon fill=\"#fefecd\" stroke=\"transparent\" points=\"82.5,-175 82.5,-177 127.5,-177 127.5,-175 82.5,-175\"/>\n",
       "<polygon fill=\"#fefecd\" stroke=\"transparent\" points=\"82.5,-166 82.5,-175 106.5,-175 106.5,-166 82.5,-166\"/>\n",
       "<polyline fill=\"none\" stroke=\"#444443\" points=\"106.5,-166 106.5,-175 \"/>\n",
       "<text text-anchor=\"start\" x=\"83.5\" y=\"-169.2\" font-family=\"Helvetica,sans-Serif\" font-size=\"6.00\" fill=\"#444443\">left</text>\n",
       "<polygon fill=\"#fefecd\" stroke=\"transparent\" points=\"106.5,-166 106.5,-175 108.5,-175 108.5,-166 106.5,-166\"/>\n",
       "<polygon fill=\"#fefecd\" stroke=\"transparent\" points=\"108.5,-166 108.5,-175 127.5,-175 127.5,-166 108.5,-166\"/>\n",
       "<text text-anchor=\"start\" x=\"114.5\" y=\"-169.2\" font-family=\"Helvetica,sans-Serif\" font-size=\"6.00\" fill=\"#444443\">right</text>\n",
       "<polygon fill=\"#fefecd\" stroke=\"transparent\" points=\"82.5,-163 82.5,-166 106.5,-166 106.5,-163 82.5,-163\"/>\n",
       "<polyline fill=\"none\" stroke=\"#444443\" points=\"106.5,-163 106.5,-166 \"/>\n",
       "<text text-anchor=\"start\" x=\"94\" y=\"-164.2\" font-family=\"Helvetica,sans-Serif\" font-size=\"1.00\" fill=\"#444443\"> </text>\n",
       "<polygon fill=\"#fefecd\" stroke=\"transparent\" points=\"106.5,-163 106.5,-166 108.5,-166 108.5,-163 106.5,-163\"/>\n",
       "<polygon fill=\"#fefecd\" stroke=\"transparent\" points=\"108.5,-163 108.5,-166 127.5,-166 127.5,-163 108.5,-163\"/>\n",
       "<text text-anchor=\"start\" x=\"117.5\" y=\"-164.2\" font-family=\"Helvetica,sans-Serif\" font-size=\"1.00\" fill=\"#444443\"> </text>\n",
       "<polygon fill=\"#fefecd\" stroke=\"transparent\" points=\"82.5,-158 82.5,-163 106.5,-163 106.5,-158 82.5,-158\"/>\n",
       "<polyline fill=\"none\" stroke=\"#444443\" points=\"106.5,-158 106.5,-163 \"/>\n",
       "<text text-anchor=\"start\" x=\"94\" y=\"-159.6\" font-family=\"Helvetica,sans-Serif\" font-size=\"3.00\" fill=\"#444443\"> </text>\n",
       "<polygon fill=\"#fefecd\" stroke=\"transparent\" points=\"106.5,-158 106.5,-163 108.5,-163 108.5,-158 106.5,-158\"/>\n",
       "<polygon fill=\"#fefecd\" stroke=\"transparent\" points=\"108.5,-158 108.5,-163 127.5,-163 127.5,-158 108.5,-158\"/>\n",
       "<text text-anchor=\"start\" x=\"117.5\" y=\"-159.6\" font-family=\"Helvetica,sans-Serif\" font-size=\"3.00\" fill=\"#444443\"> </text>\n",
       "</g>\n",
       "<!-- node140203303778624 -->\n",
       "<g id=\"node2\" class=\"node\">\n",
       "<title>node140203303778624</title>\n",
       "<polygon fill=\"#fefecd\" stroke=\"#444443\" stroke-width=\"0.5\" points=\"91,-134 42,-134 42,-78 91,-78 91,-134\"/>\n",
       "<polygon fill=\"#fefecd\" stroke=\"transparent\" points=\"44.5,-118 44.5,-132 89.5,-132 89.5,-118 44.5,-118\"/>\n",
       "<polyline fill=\"none\" stroke=\"#444443\" points=\"44.5,-118 89.5,-118 \"/>\n",
       "<text text-anchor=\"start\" x=\"45.5\" y=\"-122.2\" font-family=\"Times,serif\" font-style=\"italic\" font-size=\"11.00\" fill=\"#444443\">TreeNode</text>\n",
       "<polygon fill=\"#fefecd\" stroke=\"transparent\" points=\"44.5,-116 44.5,-118 89.5,-118 89.5,-116 44.5,-116\"/>\n",
       "<polygon fill=\"#fefecd\" stroke=\"transparent\" points=\"44.5,-102 44.5,-116 68.5,-116 68.5,-102 44.5,-102\"/>\n",
       "<polyline fill=\"none\" stroke=\"#444443\" points=\"68.5,-102 68.5,-116 \"/>\n",
       "<text text-anchor=\"start\" x=\"49.5\" y=\"-106.2\" font-family=\"Helvetica,sans-Serif\" font-size=\"11.00\" fill=\"#444443\">val </text>\n",
       "<polygon fill=\"#fefecd\" stroke=\"transparent\" points=\"70.5,-102 70.5,-116 89.5,-116 89.5,-102 70.5,-102\"/>\n",
       "<text text-anchor=\"start\" x=\"71.5\" y=\"-106.2\" font-family=\"Helvetica,sans-Serif\" font-size=\"11.00\" fill=\"#444443\"> &#39;7&#39;</text>\n",
       "<polyline fill=\"none\" stroke=\"#444443\" points=\"44.5,-99 89.5,-99 \"/>\n",
       "<polygon fill=\"#fefecd\" stroke=\"transparent\" points=\"44.5,-97 44.5,-99 89.5,-99 89.5,-97 44.5,-97\"/>\n",
       "<polygon fill=\"#fefecd\" stroke=\"transparent\" points=\"44.5,-88 44.5,-97 68.5,-97 68.5,-88 44.5,-88\"/>\n",
       "<polyline fill=\"none\" stroke=\"#444443\" points=\"68.5,-88 68.5,-97 \"/>\n",
       "<text text-anchor=\"start\" x=\"45.5\" y=\"-91.2\" font-family=\"Helvetica,sans-Serif\" font-size=\"6.00\" fill=\"#444443\">left</text>\n",
       "<polygon fill=\"#fefecd\" stroke=\"transparent\" points=\"68.5,-88 68.5,-97 70.5,-97 70.5,-88 68.5,-88\"/>\n",
       "<polygon fill=\"#fefecd\" stroke=\"transparent\" points=\"70.5,-88 70.5,-97 89.5,-97 89.5,-88 70.5,-88\"/>\n",
       "<text text-anchor=\"start\" x=\"76.5\" y=\"-91.2\" font-family=\"Helvetica,sans-Serif\" font-size=\"6.00\" fill=\"#444443\">right</text>\n",
       "<polygon fill=\"#fefecd\" stroke=\"transparent\" points=\"44.5,-85 44.5,-88 68.5,-88 68.5,-85 44.5,-85\"/>\n",
       "<polyline fill=\"none\" stroke=\"#444443\" points=\"68.5,-85 68.5,-88 \"/>\n",
       "<text text-anchor=\"start\" x=\"56\" y=\"-86.2\" font-family=\"Helvetica,sans-Serif\" font-size=\"1.00\" fill=\"#444443\"> </text>\n",
       "<polygon fill=\"#fefecd\" stroke=\"transparent\" points=\"68.5,-85 68.5,-88 70.5,-88 70.5,-85 68.5,-85\"/>\n",
       "<polygon fill=\"#fefecd\" stroke=\"transparent\" points=\"70.5,-85 70.5,-88 89.5,-88 89.5,-85 70.5,-85\"/>\n",
       "<text text-anchor=\"start\" x=\"79.5\" y=\"-86.2\" font-family=\"Helvetica,sans-Serif\" font-size=\"1.00\" fill=\"#444443\"> </text>\n",
       "<polygon fill=\"#fefecd\" stroke=\"transparent\" points=\"44.5,-80 44.5,-85 68.5,-85 68.5,-80 44.5,-80\"/>\n",
       "<polyline fill=\"none\" stroke=\"#444443\" points=\"68.5,-80 68.5,-85 \"/>\n",
       "<text text-anchor=\"start\" x=\"56\" y=\"-81.6\" font-family=\"Helvetica,sans-Serif\" font-size=\"3.00\" fill=\"#444443\"> </text>\n",
       "<polygon fill=\"#fefecd\" stroke=\"transparent\" points=\"68.5,-80 68.5,-85 70.5,-85 70.5,-80 68.5,-80\"/>\n",
       "<polygon fill=\"#fefecd\" stroke=\"transparent\" points=\"70.5,-80 70.5,-85 89.5,-85 89.5,-80 70.5,-80\"/>\n",
       "<text text-anchor=\"start\" x=\"79.5\" y=\"-81.6\" font-family=\"Helvetica,sans-Serif\" font-size=\"3.00\" fill=\"#444443\"> </text>\n",
       "</g>\n",
       "<!-- node140203367739792&#45;&gt;node140203303778624 -->\n",
       "<g id=\"edge1\" class=\"edge\">\n",
       "<title>node140203367739792:c&#45;&gt;node140203303778624</title>\n",
       "<path fill=\"none\" stroke=\"#444443\" stroke-width=\"0.5\" d=\"M92.93,-159.85C90.71,-155.41 86.42,-146.84 81.94,-137.87\"/>\n",
       "<ellipse fill=\"#444443\" stroke=\"#444443\" stroke-width=\"0.5\" cx=\"93.78\" cy=\"-161.57\" rx=\"1.6\" ry=\"1.6\"/>\n",
       "<polygon fill=\"#444443\" stroke=\"#444443\" stroke-width=\"0.5\" points=\"83.05,-136.97 80.01,-134.02 80.54,-138.22 83.05,-136.97\"/>\n",
       "</g>\n",
       "<!-- node140203303917408 -->\n",
       "<g id=\"node5\" class=\"node\">\n",
       "<title>node140203303917408</title>\n",
       "<polygon fill=\"#fefecd\" stroke=\"#444443\" stroke-width=\"0.5\" points=\"171,-134 122,-134 122,-78 171,-78 171,-134\"/>\n",
       "<polygon fill=\"#fefecd\" stroke=\"transparent\" points=\"124.5,-118 124.5,-132 169.5,-132 169.5,-118 124.5,-118\"/>\n",
       "<polyline fill=\"none\" stroke=\"#444443\" points=\"124.5,-118 169.5,-118 \"/>\n",
       "<text text-anchor=\"start\" x=\"125.5\" y=\"-122.2\" font-family=\"Times,serif\" font-style=\"italic\" font-size=\"11.00\" fill=\"#444443\">TreeNode</text>\n",
       "<polygon fill=\"#fefecd\" stroke=\"transparent\" points=\"124.5,-116 124.5,-118 169.5,-118 169.5,-116 124.5,-116\"/>\n",
       "<polygon fill=\"#fefecd\" stroke=\"transparent\" points=\"124.5,-102 124.5,-116 148.5,-116 148.5,-102 124.5,-102\"/>\n",
       "<polyline fill=\"none\" stroke=\"#444443\" points=\"148.5,-102 148.5,-116 \"/>\n",
       "<text text-anchor=\"start\" x=\"129.5\" y=\"-106.2\" font-family=\"Helvetica,sans-Serif\" font-size=\"11.00\" fill=\"#444443\">val </text>\n",
       "<polygon fill=\"#fefecd\" stroke=\"transparent\" points=\"150.5,-102 150.5,-116 169.5,-116 169.5,-102 150.5,-102\"/>\n",
       "<text text-anchor=\"start\" x=\"151.5\" y=\"-106.2\" font-family=\"Helvetica,sans-Serif\" font-size=\"11.00\" fill=\"#444443\"> &#39;2&#39;</text>\n",
       "<polyline fill=\"none\" stroke=\"#444443\" points=\"124.5,-99 169.5,-99 \"/>\n",
       "<polygon fill=\"#fefecd\" stroke=\"transparent\" points=\"124.5,-97 124.5,-99 169.5,-99 169.5,-97 124.5,-97\"/>\n",
       "<polygon fill=\"#fefecd\" stroke=\"transparent\" points=\"124.5,-88 124.5,-97 148.5,-97 148.5,-88 124.5,-88\"/>\n",
       "<polyline fill=\"none\" stroke=\"#444443\" points=\"148.5,-88 148.5,-97 \"/>\n",
       "<text text-anchor=\"start\" x=\"125.5\" y=\"-91.2\" font-family=\"Helvetica,sans-Serif\" font-size=\"6.00\" fill=\"#444443\">left</text>\n",
       "<polygon fill=\"#fefecd\" stroke=\"transparent\" points=\"148.5,-88 148.5,-97 150.5,-97 150.5,-88 148.5,-88\"/>\n",
       "<polygon fill=\"#fefecd\" stroke=\"transparent\" points=\"150.5,-88 150.5,-97 169.5,-97 169.5,-88 150.5,-88\"/>\n",
       "<text text-anchor=\"start\" x=\"156.5\" y=\"-91.2\" font-family=\"Helvetica,sans-Serif\" font-size=\"6.00\" fill=\"#444443\">right</text>\n",
       "<polygon fill=\"#fefecd\" stroke=\"transparent\" points=\"124.5,-85 124.5,-88 148.5,-88 148.5,-85 124.5,-85\"/>\n",
       "<polyline fill=\"none\" stroke=\"#444443\" points=\"148.5,-85 148.5,-88 \"/>\n",
       "<text text-anchor=\"start\" x=\"136\" y=\"-86.2\" font-family=\"Helvetica,sans-Serif\" font-size=\"1.00\" fill=\"#444443\"> </text>\n",
       "<polygon fill=\"#fefecd\" stroke=\"transparent\" points=\"148.5,-85 148.5,-88 150.5,-88 150.5,-85 148.5,-85\"/>\n",
       "<polygon fill=\"#fefecd\" stroke=\"transparent\" points=\"150.5,-85 150.5,-88 169.5,-88 169.5,-85 150.5,-85\"/>\n",
       "<text text-anchor=\"start\" x=\"159.5\" y=\"-86.2\" font-family=\"Helvetica,sans-Serif\" font-size=\"1.00\" fill=\"#444443\"> </text>\n",
       "<polygon fill=\"#fefecd\" stroke=\"transparent\" points=\"124.5,-80 124.5,-85 148.5,-85 148.5,-80 124.5,-80\"/>\n",
       "<polyline fill=\"none\" stroke=\"#444443\" points=\"148.5,-80 148.5,-85 \"/>\n",
       "<text text-anchor=\"start\" x=\"136\" y=\"-81.6\" font-family=\"Helvetica,sans-Serif\" font-size=\"3.00\" fill=\"#444443\"> </text>\n",
       "<polygon fill=\"#fefecd\" stroke=\"transparent\" points=\"148.5,-80 148.5,-85 150.5,-85 150.5,-80 148.5,-80\"/>\n",
       "<polygon fill=\"#fefecd\" stroke=\"transparent\" points=\"150.5,-80 150.5,-85 169.5,-85 169.5,-80 150.5,-80\"/>\n",
       "<text text-anchor=\"start\" x=\"159.5\" y=\"-81.6\" font-family=\"Helvetica,sans-Serif\" font-size=\"3.00\" fill=\"#444443\"> </text>\n",
       "</g>\n",
       "<!-- node140203367739792&#45;&gt;node140203303917408 -->\n",
       "<g id=\"edge2\" class=\"edge\">\n",
       "<title>node140203367739792:c&#45;&gt;node140203303917408</title>\n",
       "<path fill=\"none\" stroke=\"#444443\" stroke-width=\"0.5\" d=\"M120.07,-159.85C122.29,-155.41 126.58,-146.84 131.06,-137.87\"/>\n",
       "<ellipse fill=\"#444443\" stroke=\"#444443\" stroke-width=\"0.5\" cx=\"119.22\" cy=\"-161.57\" rx=\"1.6\" ry=\"1.6\"/>\n",
       "<polygon fill=\"#444443\" stroke=\"#444443\" stroke-width=\"0.5\" points=\"132.46,-138.22 132.99,-134.02 129.95,-136.97 132.46,-138.22\"/>\n",
       "</g>\n",
       "<!-- node140203303917456 -->\n",
       "<g id=\"node3\" class=\"node\">\n",
       "<title>node140203303917456</title>\n",
       "<polygon fill=\"#fefecd\" stroke=\"#444443\" stroke-width=\"0.5\" points=\"49,-56 0,-56 0,0 49,0 49,-56\"/>\n",
       "<polygon fill=\"#fefecd\" stroke=\"transparent\" points=\"2.5,-40 2.5,-54 47.5,-54 47.5,-40 2.5,-40\"/>\n",
       "<polyline fill=\"none\" stroke=\"#444443\" points=\"2.5,-40 47.5,-40 \"/>\n",
       "<text text-anchor=\"start\" x=\"3.5\" y=\"-44.2\" font-family=\"Times,serif\" font-style=\"italic\" font-size=\"11.00\" fill=\"#444443\">TreeNode</text>\n",
       "<polygon fill=\"#fefecd\" stroke=\"transparent\" points=\"2.5,-38 2.5,-40 47.5,-40 47.5,-38 2.5,-38\"/>\n",
       "<polygon fill=\"#fefecd\" stroke=\"transparent\" points=\"2.5,-24 2.5,-38 26.5,-38 26.5,-24 2.5,-24\"/>\n",
       "<polyline fill=\"none\" stroke=\"#444443\" points=\"26.5,-24 26.5,-38 \"/>\n",
       "<text text-anchor=\"start\" x=\"7.5\" y=\"-28.2\" font-family=\"Helvetica,sans-Serif\" font-size=\"11.00\" fill=\"#444443\">val </text>\n",
       "<polygon fill=\"#fefecd\" stroke=\"transparent\" points=\"28.5,-24 28.5,-38 47.5,-38 47.5,-24 28.5,-24\"/>\n",
       "<text text-anchor=\"start\" x=\"29.5\" y=\"-28.2\" font-family=\"Helvetica,sans-Serif\" font-size=\"11.00\" fill=\"#444443\"> &#39;9&#39;</text>\n",
       "<polyline fill=\"none\" stroke=\"#444443\" points=\"2.5,-21 47.5,-21 \"/>\n",
       "<polygon fill=\"#fefecd\" stroke=\"transparent\" points=\"2.5,-19 2.5,-21 47.5,-21 47.5,-19 2.5,-19\"/>\n",
       "<polygon fill=\"#fefecd\" stroke=\"transparent\" points=\"2.5,-10 2.5,-19 26.5,-19 26.5,-10 2.5,-10\"/>\n",
       "<polyline fill=\"none\" stroke=\"#444443\" points=\"26.5,-10 26.5,-19 \"/>\n",
       "<text text-anchor=\"start\" x=\"3.5\" y=\"-13.2\" font-family=\"Helvetica,sans-Serif\" font-size=\"6.00\" fill=\"#444443\">left</text>\n",
       "<polygon fill=\"#fefecd\" stroke=\"transparent\" points=\"26.5,-10 26.5,-19 28.5,-19 28.5,-10 26.5,-10\"/>\n",
       "<polygon fill=\"#fefecd\" stroke=\"transparent\" points=\"28.5,-10 28.5,-19 47.5,-19 47.5,-10 28.5,-10\"/>\n",
       "<text text-anchor=\"start\" x=\"34.5\" y=\"-13.2\" font-family=\"Helvetica,sans-Serif\" font-size=\"6.00\" fill=\"#444443\">right</text>\n",
       "<polygon fill=\"#fefecd\" stroke=\"transparent\" points=\"2.5,-7 2.5,-10 26.5,-10 26.5,-7 2.5,-7\"/>\n",
       "<polyline fill=\"none\" stroke=\"#444443\" points=\"26.5,-7 26.5,-10 \"/>\n",
       "<text text-anchor=\"start\" x=\"14\" y=\"-8.2\" font-family=\"Helvetica,sans-Serif\" font-size=\"1.00\" fill=\"#444443\"> </text>\n",
       "<polygon fill=\"#fefecd\" stroke=\"transparent\" points=\"26.5,-7 26.5,-10 28.5,-10 28.5,-7 26.5,-7\"/>\n",
       "<polygon fill=\"#fefecd\" stroke=\"transparent\" points=\"28.5,-7 28.5,-10 47.5,-10 47.5,-7 28.5,-7\"/>\n",
       "<text text-anchor=\"start\" x=\"37.5\" y=\"-8.2\" font-family=\"Helvetica,sans-Serif\" font-size=\"1.00\" fill=\"#444443\"> </text>\n",
       "<polygon fill=\"#fefecd\" stroke=\"transparent\" points=\"2.5,-2 2.5,-7 26.5,-7 26.5,-2 2.5,-2\"/>\n",
       "<polyline fill=\"none\" stroke=\"#444443\" points=\"26.5,-2 26.5,-7 \"/>\n",
       "<text text-anchor=\"start\" x=\"14\" y=\"-3.6\" font-family=\"Helvetica,sans-Serif\" font-size=\"3.00\" fill=\"#444443\"> </text>\n",
       "<polygon fill=\"#fefecd\" stroke=\"transparent\" points=\"26.5,-2 26.5,-7 28.5,-7 28.5,-2 26.5,-2\"/>\n",
       "<polygon fill=\"#fefecd\" stroke=\"transparent\" points=\"28.5,-2 28.5,-7 47.5,-7 47.5,-2 28.5,-2\"/>\n",
       "<text text-anchor=\"start\" x=\"37.5\" y=\"-3.6\" font-family=\"Helvetica,sans-Serif\" font-size=\"3.00\" fill=\"#444443\"> </text>\n",
       "</g>\n",
       "<!-- node140203303778624&#45;&gt;node140203303917456 -->\n",
       "<g id=\"edge3\" class=\"edge\">\n",
       "<title>node140203303778624:c&#45;&gt;node140203303917456</title>\n",
       "<path fill=\"none\" stroke=\"#444443\" stroke-width=\"0.5\" d=\"M54.89,-82.18C52.42,-77.85 47.42,-69.12 42.19,-59.96\"/>\n",
       "<ellipse fill=\"#444443\" stroke=\"#444443\" stroke-width=\"0.5\" cx=\"55.71\" cy=\"-83.61\" rx=\"1.6\" ry=\"1.6\"/>\n",
       "<polygon fill=\"#444443\" stroke=\"#444443\" stroke-width=\"0.5\" points=\"43.14,-58.79 39.94,-56.02 40.71,-60.18 43.14,-58.79\"/>\n",
       "</g>\n",
       "<!-- node140203303915584 -->\n",
       "<g id=\"node4\" class=\"node\">\n",
       "<title>node140203303915584</title>\n",
       "<polygon fill=\"#fefecd\" stroke=\"#444443\" stroke-width=\"0.5\" points=\"105,-56 56,-56 56,0 105,0 105,-56\"/>\n",
       "<polygon fill=\"#fefecd\" stroke=\"transparent\" points=\"58.5,-40 58.5,-54 103.5,-54 103.5,-40 58.5,-40\"/>\n",
       "<polyline fill=\"none\" stroke=\"#444443\" points=\"58.5,-40 103.5,-40 \"/>\n",
       "<text text-anchor=\"start\" x=\"59.5\" y=\"-44.2\" font-family=\"Times,serif\" font-style=\"italic\" font-size=\"11.00\" fill=\"#444443\">TreeNode</text>\n",
       "<polygon fill=\"#fefecd\" stroke=\"transparent\" points=\"58.5,-38 58.5,-40 103.5,-40 103.5,-38 58.5,-38\"/>\n",
       "<polygon fill=\"#fefecd\" stroke=\"transparent\" points=\"58.5,-24 58.5,-38 82.5,-38 82.5,-24 58.5,-24\"/>\n",
       "<polyline fill=\"none\" stroke=\"#444443\" points=\"82.5,-24 82.5,-38 \"/>\n",
       "<text text-anchor=\"start\" x=\"63.5\" y=\"-28.2\" font-family=\"Helvetica,sans-Serif\" font-size=\"11.00\" fill=\"#444443\">val </text>\n",
       "<polygon fill=\"#fefecd\" stroke=\"transparent\" points=\"84.5,-24 84.5,-38 103.5,-38 103.5,-24 84.5,-24\"/>\n",
       "<text text-anchor=\"start\" x=\"85.5\" y=\"-28.2\" font-family=\"Helvetica,sans-Serif\" font-size=\"11.00\" fill=\"#444443\"> &#39;6&#39;</text>\n",
       "<polyline fill=\"none\" stroke=\"#444443\" points=\"58.5,-21 103.5,-21 \"/>\n",
       "<polygon fill=\"#fefecd\" stroke=\"transparent\" points=\"58.5,-19 58.5,-21 103.5,-21 103.5,-19 58.5,-19\"/>\n",
       "<polygon fill=\"#fefecd\" stroke=\"transparent\" points=\"58.5,-10 58.5,-19 82.5,-19 82.5,-10 58.5,-10\"/>\n",
       "<polyline fill=\"none\" stroke=\"#444443\" points=\"82.5,-10 82.5,-19 \"/>\n",
       "<text text-anchor=\"start\" x=\"59.5\" y=\"-13.2\" font-family=\"Helvetica,sans-Serif\" font-size=\"6.00\" fill=\"#444443\">left</text>\n",
       "<polygon fill=\"#fefecd\" stroke=\"transparent\" points=\"82.5,-10 82.5,-19 84.5,-19 84.5,-10 82.5,-10\"/>\n",
       "<polygon fill=\"#fefecd\" stroke=\"transparent\" points=\"84.5,-10 84.5,-19 103.5,-19 103.5,-10 84.5,-10\"/>\n",
       "<text text-anchor=\"start\" x=\"90.5\" y=\"-13.2\" font-family=\"Helvetica,sans-Serif\" font-size=\"6.00\" fill=\"#444443\">right</text>\n",
       "<polygon fill=\"#fefecd\" stroke=\"transparent\" points=\"58.5,-7 58.5,-10 82.5,-10 82.5,-7 58.5,-7\"/>\n",
       "<polyline fill=\"none\" stroke=\"#444443\" points=\"82.5,-7 82.5,-10 \"/>\n",
       "<text text-anchor=\"start\" x=\"70\" y=\"-8.2\" font-family=\"Helvetica,sans-Serif\" font-size=\"1.00\" fill=\"#444443\"> </text>\n",
       "<polygon fill=\"#fefecd\" stroke=\"transparent\" points=\"82.5,-7 82.5,-10 84.5,-10 84.5,-7 82.5,-7\"/>\n",
       "<polygon fill=\"#fefecd\" stroke=\"transparent\" points=\"84.5,-7 84.5,-10 103.5,-10 103.5,-7 84.5,-7\"/>\n",
       "<text text-anchor=\"start\" x=\"93.5\" y=\"-8.2\" font-family=\"Helvetica,sans-Serif\" font-size=\"1.00\" fill=\"#444443\"> </text>\n",
       "<polygon fill=\"#fefecd\" stroke=\"transparent\" points=\"58.5,-2 58.5,-7 82.5,-7 82.5,-2 58.5,-2\"/>\n",
       "<polyline fill=\"none\" stroke=\"#444443\" points=\"82.5,-2 82.5,-7 \"/>\n",
       "<text text-anchor=\"start\" x=\"70\" y=\"-3.6\" font-family=\"Helvetica,sans-Serif\" font-size=\"3.00\" fill=\"#444443\"> </text>\n",
       "<polygon fill=\"#fefecd\" stroke=\"transparent\" points=\"82.5,-2 82.5,-7 84.5,-7 84.5,-2 82.5,-2\"/>\n",
       "<polygon fill=\"#fefecd\" stroke=\"transparent\" points=\"84.5,-2 84.5,-7 103.5,-7 103.5,-2 84.5,-2\"/>\n",
       "<text text-anchor=\"start\" x=\"93.5\" y=\"-3.6\" font-family=\"Helvetica,sans-Serif\" font-size=\"3.00\" fill=\"#444443\"> </text>\n",
       "</g>\n",
       "<!-- node140203303778624&#45;&gt;node140203303915584 -->\n",
       "<g id=\"edge4\" class=\"edge\">\n",
       "<title>node140203303778624:c&#45;&gt;node140203303915584</title>\n",
       "<path fill=\"none\" stroke=\"#444443\" stroke-width=\"0.5\" d=\"M80.5,-81.52C80.5,-77.05 80.5,-68.86 80.5,-60.26\"/>\n",
       "<ellipse fill=\"#444443\" stroke=\"#444443\" stroke-width=\"0.5\" cx=\"80.5\" cy=\"-83.4\" rx=\"1.6\" ry=\"1.6\"/>\n",
       "<polygon fill=\"#444443\" stroke=\"#444443\" stroke-width=\"0.5\" points=\"81.9,-60.02 80.5,-56.02 79.1,-60.02 81.9,-60.02\"/>\n",
       "</g>\n",
       "<!-- node140203303917504 -->\n",
       "<g id=\"node6\" class=\"node\">\n",
       "<title>node140203303917504</title>\n",
       "<polygon fill=\"#fefecd\" stroke=\"#444443\" stroke-width=\"0.5\" points=\"161,-56 112,-56 112,0 161,0 161,-56\"/>\n",
       "<polygon fill=\"#fefecd\" stroke=\"transparent\" points=\"114.5,-40 114.5,-54 159.5,-54 159.5,-40 114.5,-40\"/>\n",
       "<polyline fill=\"none\" stroke=\"#444443\" points=\"114.5,-40 159.5,-40 \"/>\n",
       "<text text-anchor=\"start\" x=\"115.5\" y=\"-44.2\" font-family=\"Times,serif\" font-style=\"italic\" font-size=\"11.00\" fill=\"#444443\">TreeNode</text>\n",
       "<polygon fill=\"#fefecd\" stroke=\"transparent\" points=\"114.5,-38 114.5,-40 159.5,-40 159.5,-38 114.5,-38\"/>\n",
       "<polygon fill=\"#fefecd\" stroke=\"transparent\" points=\"114.5,-24 114.5,-38 138.5,-38 138.5,-24 114.5,-24\"/>\n",
       "<polyline fill=\"none\" stroke=\"#444443\" points=\"138.5,-24 138.5,-38 \"/>\n",
       "<text text-anchor=\"start\" x=\"119.5\" y=\"-28.2\" font-family=\"Helvetica,sans-Serif\" font-size=\"11.00\" fill=\"#444443\">val </text>\n",
       "<polygon fill=\"#fefecd\" stroke=\"transparent\" points=\"140.5,-24 140.5,-38 159.5,-38 159.5,-24 140.5,-24\"/>\n",
       "<text text-anchor=\"start\" x=\"141.5\" y=\"-28.2\" font-family=\"Helvetica,sans-Serif\" font-size=\"11.00\" fill=\"#444443\"> &#39;3&#39;</text>\n",
       "<polyline fill=\"none\" stroke=\"#444443\" points=\"114.5,-21 159.5,-21 \"/>\n",
       "<polygon fill=\"#fefecd\" stroke=\"transparent\" points=\"114.5,-19 114.5,-21 159.5,-21 159.5,-19 114.5,-19\"/>\n",
       "<polygon fill=\"#fefecd\" stroke=\"transparent\" points=\"114.5,-10 114.5,-19 138.5,-19 138.5,-10 114.5,-10\"/>\n",
       "<polyline fill=\"none\" stroke=\"#444443\" points=\"138.5,-10 138.5,-19 \"/>\n",
       "<text text-anchor=\"start\" x=\"115.5\" y=\"-13.2\" font-family=\"Helvetica,sans-Serif\" font-size=\"6.00\" fill=\"#444443\">left</text>\n",
       "<polygon fill=\"#fefecd\" stroke=\"transparent\" points=\"138.5,-10 138.5,-19 140.5,-19 140.5,-10 138.5,-10\"/>\n",
       "<polygon fill=\"#fefecd\" stroke=\"transparent\" points=\"140.5,-10 140.5,-19 159.5,-19 159.5,-10 140.5,-10\"/>\n",
       "<text text-anchor=\"start\" x=\"146.5\" y=\"-13.2\" font-family=\"Helvetica,sans-Serif\" font-size=\"6.00\" fill=\"#444443\">right</text>\n",
       "<polygon fill=\"#fefecd\" stroke=\"transparent\" points=\"114.5,-7 114.5,-10 138.5,-10 138.5,-7 114.5,-7\"/>\n",
       "<polyline fill=\"none\" stroke=\"#444443\" points=\"138.5,-7 138.5,-10 \"/>\n",
       "<text text-anchor=\"start\" x=\"126\" y=\"-8.2\" font-family=\"Helvetica,sans-Serif\" font-size=\"1.00\" fill=\"#444443\"> </text>\n",
       "<polygon fill=\"#fefecd\" stroke=\"transparent\" points=\"138.5,-7 138.5,-10 140.5,-10 140.5,-7 138.5,-7\"/>\n",
       "<polygon fill=\"#fefecd\" stroke=\"transparent\" points=\"140.5,-7 140.5,-10 159.5,-10 159.5,-7 140.5,-7\"/>\n",
       "<text text-anchor=\"start\" x=\"149.5\" y=\"-8.2\" font-family=\"Helvetica,sans-Serif\" font-size=\"1.00\" fill=\"#444443\"> </text>\n",
       "<polygon fill=\"#fefecd\" stroke=\"transparent\" points=\"114.5,-2 114.5,-7 138.5,-7 138.5,-2 114.5,-2\"/>\n",
       "<polyline fill=\"none\" stroke=\"#444443\" points=\"138.5,-2 138.5,-7 \"/>\n",
       "<text text-anchor=\"start\" x=\"126\" y=\"-3.6\" font-family=\"Helvetica,sans-Serif\" font-size=\"3.00\" fill=\"#444443\"> </text>\n",
       "<polygon fill=\"#fefecd\" stroke=\"transparent\" points=\"138.5,-2 138.5,-7 140.5,-7 140.5,-2 138.5,-2\"/>\n",
       "<polygon fill=\"#fefecd\" stroke=\"transparent\" points=\"140.5,-2 140.5,-7 159.5,-7 159.5,-2 140.5,-2\"/>\n",
       "<text text-anchor=\"start\" x=\"149.5\" y=\"-3.6\" font-family=\"Helvetica,sans-Serif\" font-size=\"3.00\" fill=\"#444443\"> </text>\n",
       "</g>\n",
       "<!-- node140203303917408&#45;&gt;node140203303917504 -->\n",
       "<g id=\"edge5\" class=\"edge\">\n",
       "<title>node140203303917408:c&#45;&gt;node140203303917504</title>\n",
       "<path fill=\"none\" stroke=\"#444443\" stroke-width=\"0.5\" d=\"M136.5,-81.52C136.5,-77.05 136.5,-68.86 136.5,-60.26\"/>\n",
       "<ellipse fill=\"#444443\" stroke=\"#444443\" stroke-width=\"0.5\" cx=\"136.5\" cy=\"-83.4\" rx=\"1.6\" ry=\"1.6\"/>\n",
       "<polygon fill=\"#444443\" stroke=\"#444443\" stroke-width=\"0.5\" points=\"137.9,-60.02 136.5,-56.02 135.1,-60.02 137.9,-60.02\"/>\n",
       "</g>\n",
       "<!-- node140203303916208 -->\n",
       "<g id=\"node7\" class=\"node\">\n",
       "<title>node140203303916208</title>\n",
       "<polygon fill=\"#fefecd\" stroke=\"#444443\" stroke-width=\"0.5\" points=\"217,-56 168,-56 168,0 217,0 217,-56\"/>\n",
       "<polygon fill=\"#fefecd\" stroke=\"transparent\" points=\"170.5,-40 170.5,-54 215.5,-54 215.5,-40 170.5,-40\"/>\n",
       "<polyline fill=\"none\" stroke=\"#444443\" points=\"170.5,-40 215.5,-40 \"/>\n",
       "<text text-anchor=\"start\" x=\"171.5\" y=\"-44.2\" font-family=\"Times,serif\" font-style=\"italic\" font-size=\"11.00\" fill=\"#444443\">TreeNode</text>\n",
       "<polygon fill=\"#fefecd\" stroke=\"transparent\" points=\"170.5,-38 170.5,-40 215.5,-40 215.5,-38 170.5,-38\"/>\n",
       "<polygon fill=\"#fefecd\" stroke=\"transparent\" points=\"170.5,-24 170.5,-38 194.5,-38 194.5,-24 170.5,-24\"/>\n",
       "<polyline fill=\"none\" stroke=\"#444443\" points=\"194.5,-24 194.5,-38 \"/>\n",
       "<text text-anchor=\"start\" x=\"175.5\" y=\"-28.2\" font-family=\"Helvetica,sans-Serif\" font-size=\"11.00\" fill=\"#444443\">val </text>\n",
       "<polygon fill=\"#fefecd\" stroke=\"transparent\" points=\"196.5,-24 196.5,-38 215.5,-38 215.5,-24 196.5,-24\"/>\n",
       "<text text-anchor=\"start\" x=\"197.5\" y=\"-28.2\" font-family=\"Helvetica,sans-Serif\" font-size=\"11.00\" fill=\"#444443\"> &#39;1&#39;</text>\n",
       "<polyline fill=\"none\" stroke=\"#444443\" points=\"170.5,-21 215.5,-21 \"/>\n",
       "<polygon fill=\"#fefecd\" stroke=\"transparent\" points=\"170.5,-19 170.5,-21 215.5,-21 215.5,-19 170.5,-19\"/>\n",
       "<polygon fill=\"#fefecd\" stroke=\"transparent\" points=\"170.5,-10 170.5,-19 194.5,-19 194.5,-10 170.5,-10\"/>\n",
       "<polyline fill=\"none\" stroke=\"#444443\" points=\"194.5,-10 194.5,-19 \"/>\n",
       "<text text-anchor=\"start\" x=\"171.5\" y=\"-13.2\" font-family=\"Helvetica,sans-Serif\" font-size=\"6.00\" fill=\"#444443\">left</text>\n",
       "<polygon fill=\"#fefecd\" stroke=\"transparent\" points=\"194.5,-10 194.5,-19 196.5,-19 196.5,-10 194.5,-10\"/>\n",
       "<polygon fill=\"#fefecd\" stroke=\"transparent\" points=\"196.5,-10 196.5,-19 215.5,-19 215.5,-10 196.5,-10\"/>\n",
       "<text text-anchor=\"start\" x=\"202.5\" y=\"-13.2\" font-family=\"Helvetica,sans-Serif\" font-size=\"6.00\" fill=\"#444443\">right</text>\n",
       "<polygon fill=\"#fefecd\" stroke=\"transparent\" points=\"170.5,-7 170.5,-10 194.5,-10 194.5,-7 170.5,-7\"/>\n",
       "<polyline fill=\"none\" stroke=\"#444443\" points=\"194.5,-7 194.5,-10 \"/>\n",
       "<text text-anchor=\"start\" x=\"182\" y=\"-8.2\" font-family=\"Helvetica,sans-Serif\" font-size=\"1.00\" fill=\"#444443\"> </text>\n",
       "<polygon fill=\"#fefecd\" stroke=\"transparent\" points=\"194.5,-7 194.5,-10 196.5,-10 196.5,-7 194.5,-7\"/>\n",
       "<polygon fill=\"#fefecd\" stroke=\"transparent\" points=\"196.5,-7 196.5,-10 215.5,-10 215.5,-7 196.5,-7\"/>\n",
       "<text text-anchor=\"start\" x=\"205.5\" y=\"-8.2\" font-family=\"Helvetica,sans-Serif\" font-size=\"1.00\" fill=\"#444443\"> </text>\n",
       "<polygon fill=\"#fefecd\" stroke=\"transparent\" points=\"170.5,-2 170.5,-7 194.5,-7 194.5,-2 170.5,-2\"/>\n",
       "<polyline fill=\"none\" stroke=\"#444443\" points=\"194.5,-2 194.5,-7 \"/>\n",
       "<text text-anchor=\"start\" x=\"182\" y=\"-3.6\" font-family=\"Helvetica,sans-Serif\" font-size=\"3.00\" fill=\"#444443\"> </text>\n",
       "<polygon fill=\"#fefecd\" stroke=\"transparent\" points=\"194.5,-2 194.5,-7 196.5,-7 196.5,-2 194.5,-2\"/>\n",
       "<polygon fill=\"#fefecd\" stroke=\"transparent\" points=\"196.5,-2 196.5,-7 215.5,-7 215.5,-2 196.5,-2\"/>\n",
       "<text text-anchor=\"start\" x=\"205.5\" y=\"-3.6\" font-family=\"Helvetica,sans-Serif\" font-size=\"3.00\" fill=\"#444443\"> </text>\n",
       "</g>\n",
       "<!-- node140203303917408&#45;&gt;node140203303916208 -->\n",
       "<g id=\"edge6\" class=\"edge\">\n",
       "<title>node140203303917408:c&#45;&gt;node140203303916208</title>\n",
       "<path fill=\"none\" stroke=\"#444443\" stroke-width=\"0.5\" d=\"M162.11,-82.18C164.58,-77.85 169.58,-69.12 174.81,-59.96\"/>\n",
       "<ellipse fill=\"#444443\" stroke=\"#444443\" stroke-width=\"0.5\" cx=\"161.29\" cy=\"-83.61\" rx=\"1.6\" ry=\"1.6\"/>\n",
       "<polygon fill=\"#444443\" stroke=\"#444443\" stroke-width=\"0.5\" points=\"176.29,-60.18 177.06,-56.02 173.86,-58.79 176.29,-60.18\"/>\n",
       "</g>\n",
       "</g>\n",
       "</svg>\n"
      ],
      "text/plain": [
       "<graphviz.files.Source at 0x7f83a02055e0>"
      ]
     },
     "execution_count": 33,
     "metadata": {},
     "output_type": "execute_result"
    }
   ],
   "source": [
    "treeviz(invertTree(root))"
   ]
  },
  {
   "cell_type": "markdown",
   "id": "29d8d108",
   "metadata": {},
   "source": [
    "### 20211027<a id='75'></a>\n",
    "<strong>75. Sort Colors</strong>\n",
    "\n",
    "Given an array nums with n objects colored red, white, or blue, sort them in-place so that objects of the same color are adjacent, with the colors in the order red, white, and blue.\n",
    "\n",
    "We will use the integers 0, 1, and 2 to represent the color red, white, and blue, respectively.\n",
    "\n",
    "You must solve this problem without using the library's sort function."
   ]
  },
  {
   "cell_type": "code",
   "execution_count": 1,
   "id": "767cafbf",
   "metadata": {},
   "outputs": [],
   "source": [
    "def sortColors(nums):\n",
    "    \n",
    "    def swap(nums, i, j):\n",
    "        temp = nums[i]\n",
    "        nums[i] = nums[j]\n",
    "        nums[j] = temp\n",
    "    \n",
    "    # set 3 pointers\n",
    "    red = -1\n",
    "    white = -1\n",
    "    blue = -1\n",
    "    for i, num in enumerate(nums):\n",
    "        # blue occurs\n",
    "        if num == 2:\n",
    "            # blue first occur, mark index\n",
    "            if blue == -1:\n",
    "                blue = i\n",
    "        \n",
    "        # white occurs\n",
    "        elif num == 1:\n",
    "            # no blue infront\n",
    "            if blue == -1:\n",
    "                # white first occur, mark index\n",
    "                if white == -1:\n",
    "                    white = i\n",
    "            \n",
    "            # blue infront, swap white with first blue\n",
    "            else:\n",
    "                swap(nums, i, blue)\n",
    "                # white first occur, mark index\n",
    "                if white == -1:\n",
    "                    white = blue\n",
    "                blue += 1\n",
    "        \n",
    "        # red occurs\n",
    "        else:\n",
    "            # no white and blue in front\n",
    "            if white == -1 and blue == -1:\n",
    "                # red first occur, mark index\n",
    "                if red == -1:\n",
    "                    red = i\n",
    "            \n",
    "            # blue but no white in front, swap red with first blue\n",
    "            elif white == -1 and blue != -1:\n",
    "                swap(nums, i, blue)\n",
    "                # red first occur, mark index\n",
    "                if red == -1:\n",
    "                    red = blue\n",
    "                blue += 1\n",
    "            \n",
    "            # white but no blue in front, swap red with first white\n",
    "            elif white != -1 and blue == -1:\n",
    "                swap(nums, i, white)\n",
    "                # red first occur, mark index\n",
    "                if red == -1:\n",
    "                    red = white\n",
    "                white += 1\n",
    "            \n",
    "            # both white and blue in front, swap red with first blue, swap red with first white\n",
    "            else:\n",
    "                swap(nums, i, blue)\n",
    "                temp_red = blue\n",
    "                blue += 1\n",
    "                swap(nums, temp_red, white)\n",
    "                if red == -1:\n",
    "                    red = white\n",
    "                white += 1"
   ]
  },
  {
   "cell_type": "code",
   "execution_count": 16,
   "id": "7add5cd5",
   "metadata": {},
   "outputs": [],
   "source": [
    "def sortColors(nums):\n",
    "    # idx_first_mid\n",
    "    left = 0\n",
    "    # idx_last_mid + 1\n",
    "    right = len(nums) - 1\n",
    "    i = 0\n",
    "    \n",
    "    while i <= right:\n",
    "        if nums[i] == 0:\n",
    "            nums[left], nums[i] = nums[i], nums[left]\n",
    "            left += 1\n",
    "            i += 1\n",
    "        elif nums[i]  == 2:\n",
    "            nums[right], nums[i] = nums[i], nums[right]\n",
    "            right -= 1\n",
    "        else:\n",
    "            i += 1"
   ]
  },
  {
   "cell_type": "code",
   "execution_count": 17,
   "id": "b7b3a56b",
   "metadata": {},
   "outputs": [
    {
     "name": "stdout",
     "output_type": "stream",
     "text": [
      "[2, 0, 1, 0, 2, 1, 1, 0] 0 0 7\n",
      "[0, 0, 1, 0, 2, 1, 1, 2] 0 0 6\n",
      "[0, 0, 1, 0, 2, 1, 1, 2] 1 1 6\n",
      "[0, 0, 1, 0, 2, 1, 1, 2] 2 2 6\n",
      "[0, 0, 1, 0, 2, 1, 1, 2] 3 2 6\n",
      "[0, 0, 0, 1, 2, 1, 1, 2] 4 3 6\n",
      "[0, 0, 0, 1, 1, 1, 2, 2] 4 3 5\n",
      "[0, 0, 0, 1, 1, 1, 2, 2] 5 3 5\n"
     ]
    },
    {
     "data": {
      "text/plain": [
       "[0, 0, 0, 1, 1, 1, 2, 2]"
      ]
     },
     "execution_count": 17,
     "metadata": {},
     "output_type": "execute_result"
    }
   ],
   "source": [
    "nums = [2,0,1,0,2,1,1,0]\n",
    "sortColors(nums)\n",
    "nums"
   ]
  },
  {
   "cell_type": "code",
   "execution_count": 3,
   "id": "8446034e",
   "metadata": {},
   "outputs": [
    {
     "data": {
      "text/plain": [
       "[0, 0, 1, 1, 2, 2]"
      ]
     },
     "execution_count": 3,
     "metadata": {},
     "output_type": "execute_result"
    }
   ],
   "source": [
    "nums = [2,0,2,1,1,0]\n",
    "sortColors(nums)\n",
    "nums"
   ]
  },
  {
   "cell_type": "code",
   "execution_count": 4,
   "id": "d3e032d6",
   "metadata": {},
   "outputs": [
    {
     "data": {
      "text/plain": [
       "[0, 1, 2]"
      ]
     },
     "execution_count": 4,
     "metadata": {},
     "output_type": "execute_result"
    }
   ],
   "source": [
    "nums = [2,0,1]\n",
    "sortColors(nums)\n",
    "nums"
   ]
  },
  {
   "cell_type": "code",
   "execution_count": 5,
   "id": "7532667e",
   "metadata": {},
   "outputs": [
    {
     "data": {
      "text/plain": [
       "[0]"
      ]
     },
     "execution_count": 5,
     "metadata": {},
     "output_type": "execute_result"
    }
   ],
   "source": [
    "nums = [0]\n",
    "sortColors(nums)\n",
    "nums"
   ]
  },
  {
   "cell_type": "code",
   "execution_count": 6,
   "id": "9fabf1bc",
   "metadata": {},
   "outputs": [
    {
     "data": {
      "text/plain": [
       "[1]"
      ]
     },
     "execution_count": 6,
     "metadata": {},
     "output_type": "execute_result"
    }
   ],
   "source": [
    "nums = [1]\n",
    "sortColors(nums)\n",
    "nums"
   ]
  },
  {
   "cell_type": "markdown",
   "id": "ef9d8112",
   "metadata": {},
   "source": [
    "### 20211029<a id='994'></a>\n",
    "<strong>994. Rotting Oranges</strong>\n",
    "\n",
    "You are given an m x n grid where each cell can have one of three values:\n",
    "\n",
    "- 0 representing an empty cell,\n",
    "- 1 representing a fresh orange, or\n",
    "- 2 representing a rotten orange.\n",
    "Every minute, any fresh orange that is 4-directionally adjacent to a rotten orange becomes rotten.\n",
    "\n",
    "Return the minimum number of minutes that must elapse until no cell has a fresh orange. If this is impossible, return -1."
   ]
  },
  {
   "cell_type": "code",
   "execution_count": 50,
   "id": "ac1a99f7",
   "metadata": {},
   "outputs": [],
   "source": [
    "def orangesRotting(grid):\n",
    "    m = len(grid)\n",
    "    n = len(grid[0])\n",
    "    fresh = []\n",
    "    rotten = []\n",
    "    for i in range(m):\n",
    "        for j in range(n):\n",
    "            if grid[i][j] == 1:\n",
    "                fresh.append((i,j))\n",
    "            if grid[i][j] == 2:\n",
    "                rotten.append((i,j))\n",
    "    \n",
    "    ans = 0\n",
    "    \n",
    "    while rotten and fresh:\n",
    "        new_rotten = []\n",
    "        for fruit in rotten:\n",
    "            if fruit[0] < m-1:\n",
    "                right = (fruit[0]+1, fruit[1]) \n",
    "                if right in fresh:\n",
    "                    new_rotten.append(right)\n",
    "                    fresh.remove(right)\n",
    "            \n",
    "            if fruit[0] > 0:\n",
    "                left = (fruit[0]-1, fruit[1]) \n",
    "                if left in fresh:\n",
    "                    new_rotten.append(left)\n",
    "                    fresh.remove(left)\n",
    "            \n",
    "            if fruit[1] < n-1:\n",
    "                down = (fruit[0], fruit[1]+1) \n",
    "                if down in fresh:\n",
    "                    new_rotten.append(down)\n",
    "                    fresh.remove(down)\n",
    "            \n",
    "            if fruit[1] > 0:\n",
    "                up = (fruit[0], fruit[1]-1) \n",
    "                if up in fresh:\n",
    "                    new_rotten.append(up)\n",
    "                    fresh.remove(up)\n",
    "        ans += 1\n",
    "        rotten = new_rotten\n",
    "    \n",
    "    if len(fresh) == 0:\n",
    "        return ans\n",
    "    \n",
    "    return -1"
   ]
  },
  {
   "cell_type": "code",
   "execution_count": 33,
   "id": "464a1c7a",
   "metadata": {},
   "outputs": [
    {
     "name": "stdout",
     "output_type": "stream",
     "text": [
      "0 [(0, 0)] [(0, 1), (0, 2), (1, 0), (1, 1), (2, 1), (2, 2)]\n",
      "1 [(1, 0), (0, 1)] [(0, 2), (1, 1), (2, 1), (2, 2)]\n",
      "2 [(1, 1), (0, 2)] [(2, 1), (2, 2)]\n",
      "3 [(2, 1)] [(2, 2)]\n"
     ]
    },
    {
     "data": {
      "text/plain": [
       "4"
      ]
     },
     "execution_count": 33,
     "metadata": {},
     "output_type": "execute_result"
    }
   ],
   "source": [
    "grid = [[2,1,1],[1,1,0],[0,1,1]]\n",
    "orangesRotting(grid)"
   ]
  },
  {
   "cell_type": "code",
   "execution_count": 36,
   "id": "e5d1f145",
   "metadata": {},
   "outputs": [
    {
     "data": {
      "text/plain": [
       "-1"
      ]
     },
     "execution_count": 36,
     "metadata": {},
     "output_type": "execute_result"
    }
   ],
   "source": [
    "grid = [[2,1,1],[0,1,1],[1,0,1]]\n",
    "orangesRotting(grid)"
   ]
  },
  {
   "cell_type": "code",
   "execution_count": 37,
   "id": "46096883",
   "metadata": {},
   "outputs": [
    {
     "data": {
      "text/plain": [
       "0"
      ]
     },
     "execution_count": 37,
     "metadata": {},
     "output_type": "execute_result"
    }
   ],
   "source": [
    "grid = [[0,2]]\n",
    "orangesRotting(grid)"
   ]
  },
  {
   "cell_type": "code",
   "execution_count": 51,
   "id": "217eed29",
   "metadata": {},
   "outputs": [
    {
     "data": {
      "text/plain": [
       "1"
      ]
     },
     "execution_count": 51,
     "metadata": {},
     "output_type": "execute_result"
    }
   ],
   "source": [
    "grid = [[2,1]]\n",
    "orangesRotting(grid)"
   ]
  },
  {
   "cell_type": "markdown",
   "id": "b228f891",
   "metadata": {},
   "source": [
    "### 20211101<a id='130'></a>\n",
    "<strong>130. Surrounded Regions</strong>\n",
    "\n",
    "Given an m x n matrix board containing 'X' and 'O', capture all regions that are 4-directionally surrounded by 'X'.\n",
    "\n",
    "A region is captured by flipping all 'O's into 'X's in that surrounded region."
   ]
  },
  {
   "cell_type": "code",
   "execution_count": 4,
   "id": "b2602030",
   "metadata": {},
   "outputs": [],
   "source": [
    "def solve(board):\n",
    "    m = len(board)\n",
    "    n = len(board[0])\n",
    "    \n",
    "    for i in range(m):\n",
    "        for j in range(n):\n",
    "            if board[i][j] == 'O':\n",
    "                board[i][j] = '-'\n",
    "                \n",
    "    def fill(i, j, replace, new):\n",
    "        if i < 0 or j < 0 or i > m-1 or j > n-1:\n",
    "            return\n",
    "        if board[i][j] == replace:\n",
    "            board[i][j] = new\n",
    "            fill(i-1,j,replace,new)\n",
    "            fill(i+1,j,replace,new)\n",
    "            fill(i,j-1,replace,new)\n",
    "            fill(i,j+1,replace,new)\n",
    "    \n",
    "    for i in range(m):\n",
    "        if board[i][0] == '-':\n",
    "            fill(i,0,'-','O')\n",
    "    \n",
    "    for i in range(m):\n",
    "        if board[i][n-1] == '-':\n",
    "            fill(i,n-1,'-','O')\n",
    "\n",
    "    for j in range(n):\n",
    "        if board[0][j] == '-':\n",
    "            fill(0,j,'-','O')\n",
    "    \n",
    "    for j in range(n):\n",
    "        if board[m-1][j] == '-':\n",
    "            fill(m-1,j,'-','O')\n",
    "    \n",
    "    for i in range(1,m-1):\n",
    "        for j in range(1,n-1):\n",
    "            if board[i][j] == '-':\n",
    "                board[i][j] = 'X'"
   ]
  },
  {
   "cell_type": "code",
   "execution_count": 5,
   "id": "764e7384",
   "metadata": {},
   "outputs": [
    {
     "data": {
      "text/plain": [
       "[['X', 'X', 'X', 'X'],\n",
       " ['X', 'X', 'X', 'X'],\n",
       " ['X', 'X', 'X', 'X'],\n",
       " ['X', 'O', 'X', 'X']]"
      ]
     },
     "execution_count": 5,
     "metadata": {},
     "output_type": "execute_result"
    }
   ],
   "source": [
    "board = [[\"X\",\"X\",\"X\",\"X\"],[\"X\",\"O\",\"O\",\"X\"],[\"X\",\"X\",\"O\",\"X\"],[\"X\",\"O\",\"X\",\"X\"]]\n",
    "solve(board)\n",
    "board"
   ]
  },
  {
   "cell_type": "code",
   "execution_count": 6,
   "id": "f5e0fcd9",
   "metadata": {},
   "outputs": [
    {
     "data": {
      "text/plain": [
       "[['X']]"
      ]
     },
     "execution_count": 6,
     "metadata": {},
     "output_type": "execute_result"
    }
   ],
   "source": [
    "board = [[\"X\"]]\n",
    "solve(board)\n",
    "board"
   ]
  },
  {
   "cell_type": "code",
   "execution_count": 7,
   "id": "1d2f77fc",
   "metadata": {},
   "outputs": [
    {
     "data": {
      "text/plain": [
       "[['X', 'O', 'X', 'O', 'X', 'X'],\n",
       " ['X', 'O', 'X', 'X', 'X', 'X'],\n",
       " ['X', 'X', 'X', 'X', 'X', 'X'],\n",
       " ['O', 'X', 'X', 'X', 'X', 'X'],\n",
       " ['X', 'X', 'X', 'O', 'X', 'O'],\n",
       " ['O', 'O', 'X', 'O', 'O', 'O']]"
      ]
     },
     "execution_count": 7,
     "metadata": {},
     "output_type": "execute_result"
    }
   ],
   "source": [
    "board =[ [ 'X', 'O', 'X', 'O', 'X', 'X' ],\n",
    "            [ 'X', 'O', 'X', 'X', 'O', 'X' ],\n",
    "            [ 'X', 'X', 'X', 'O', 'X', 'X' ],\n",
    "            [ 'O', 'X', 'X', 'X', 'X', 'X' ],\n",
    "            [ 'X', 'X', 'X', 'O', 'X', 'O' ],\n",
    "            [ 'O', 'O', 'X', 'O', 'O', 'O' ] ]\n",
    "solve(board)\n",
    "board"
   ]
  },
  {
   "cell_type": "markdown",
   "id": "b233efb0",
   "metadata": {},
   "source": [
    "### 20211101<a id='38'></a>\n",
    "<strong>38. Count and Say</strong>\n",
    "\n",
    "The count-and-say sequence is a sequence of digit strings defined by the recursive formula:\n",
    "\n",
    "countAndSay(1) = \"1\"\n",
    "countAndSay(n) is the way you would \"say\" the digit string from countAndSay(n-1), which is then converted into a different digit string.\n",
    "To determine how you \"say\" a digit string, split it into the minimal number of groups so that each group is a contiguous section all of the same character. Then for each group, say the number of characters, then say the character. To convert the saying into a digit string, replace the counts with a number and concatenate every saying.\n",
    "\n",
    "For example, the saying and conversion for digit string \"3322251\":\n",
    "\n",
    "\n",
    "Given a positive integer n, return the nth term of the count-and-say sequence."
   ]
  },
  {
   "cell_type": "code",
   "execution_count": 46,
   "id": "f3b8936e",
   "metadata": {},
   "outputs": [],
   "source": [
    "def countAndSay(n):\n",
    "    def countsay(number):\n",
    "        prev = ''\n",
    "        count = 0\n",
    "        ans = ''\n",
    "        for num in number:\n",
    "            if count == 0:\n",
    "                prev = num\n",
    "                count = 1\n",
    "            elif num == prev:\n",
    "                count += 1\n",
    "            else:\n",
    "                ans += str(count) + prev\n",
    "                prev = num\n",
    "                count = 1\n",
    "        ans += str(count) + prev\n",
    "        return ans\n",
    "    \n",
    "    ans = '1'\n",
    "    for i in range(1, n):\n",
    "        ans = countsay(ans)\n",
    "    \n",
    "    return ans"
   ]
  },
  {
   "cell_type": "code",
   "execution_count": 24,
   "id": "ce92991d",
   "metadata": {},
   "outputs": [
    {
     "data": {
      "text/plain": [
       "'1'"
      ]
     },
     "execution_count": 24,
     "metadata": {},
     "output_type": "execute_result"
    }
   ],
   "source": [
    "countAndSay(1)"
   ]
  },
  {
   "cell_type": "code",
   "execution_count": 47,
   "id": "0d1e082b",
   "metadata": {},
   "outputs": [
    {
     "data": {
      "text/plain": [
       "'1211'"
      ]
     },
     "execution_count": 47,
     "metadata": {},
     "output_type": "execute_result"
    }
   ],
   "source": [
    "countAndSay(4)"
   ]
  },
  {
   "cell_type": "markdown",
   "id": "7b1b4b38",
   "metadata": {},
   "source": [
    "### 20211103<a id='129'></a>\n",
    "<strong>129. Sum Root to Leaf Numbers</strong>\n",
    "\n",
    "You are given the root of a binary tree containing digits from 0 to 9 only.\n",
    "\n",
    "Each root-to-leaf path in the tree represents a number.\n",
    "\n",
    "For example, the root-to-leaf path 1 -> 2 -> 3 represents the number 123.\n",
    "Return the total sum of all root-to-leaf numbers. Test cases are generated so that the answer will fit in a 32-bit integer.\n",
    "\n",
    "A leaf node is a node with no children."
   ]
  },
  {
   "cell_type": "code",
   "execution_count": 1,
   "id": "7c48c96e",
   "metadata": {},
   "outputs": [],
   "source": [
    "class TreeNode:\n",
    "    def __init__(self, val=0, left=None, right=None):\n",
    "        self.val = val\n",
    "        self.left = left\n",
    "        self.right = right"
   ]
  },
  {
   "cell_type": "code",
   "execution_count": 23,
   "id": "53beeedc",
   "metadata": {},
   "outputs": [],
   "source": [
    "def sumNumbers(root):\n",
    "    nums = []\n",
    "    \n",
    "    def append_num(root, prev):\n",
    "        ans = prev * 10 + root.val\n",
    "        if root.left is None and root.right is None:\n",
    "            nums.append(ans)\n",
    "            return\n",
    "        if root.left is not None:\n",
    "            append_num(root.left, ans)\n",
    "        if root.right is not None:\n",
    "            append_num(root.right, ans)\n",
    "        \n",
    "    prev = 0\n",
    "    append_num(root, prev)\n",
    "    \n",
    "    return sum(nums)"
   ]
  },
  {
   "cell_type": "code",
   "execution_count": 4,
   "id": "d2f4c848",
   "metadata": {},
   "outputs": [],
   "source": [
    "def sumNumbers(root) -> int:\n",
    "    def helper(node, num):\n",
    "        if not node:\n",
    "            return 0\n",
    "        num = num * 10 + node.val\n",
    "        if node.left is None and node.right is None:\n",
    "            return num\n",
    "        return helper(node.left, num) + helper(node.right, num)\n",
    "\n",
    "    return helper(root, 0)"
   ]
  },
  {
   "cell_type": "code",
   "execution_count": 5,
   "id": "3496fc90",
   "metadata": {},
   "outputs": [
    {
     "data": {
      "text/plain": [
       "25"
      ]
     },
     "execution_count": 5,
     "metadata": {},
     "output_type": "execute_result"
    }
   ],
   "source": [
    "root = TreeNode(1)\n",
    "root.left = TreeNode(2)\n",
    "root.right = TreeNode(3)\n",
    "sumNumbers(root)"
   ]
  },
  {
   "cell_type": "code",
   "execution_count": 6,
   "id": "831694df",
   "metadata": {},
   "outputs": [
    {
     "data": {
      "text/plain": [
       "1026"
      ]
     },
     "execution_count": 6,
     "metadata": {},
     "output_type": "execute_result"
    }
   ],
   "source": [
    "root = TreeNode(4)\n",
    "root.left = TreeNode(9)\n",
    "root.right = TreeNode(0)\n",
    "root.left.left = TreeNode(5)\n",
    "root.left.right = TreeNode(1)\n",
    "sumNumbers(root)"
   ]
  },
  {
   "cell_type": "code",
   "execution_count": 7,
   "id": "21316794",
   "metadata": {},
   "outputs": [
    {
     "data": {
      "text/plain": [
       "531"
      ]
     },
     "execution_count": 7,
     "metadata": {},
     "output_type": "execute_result"
    }
   ],
   "source": [
    "root = TreeNode(4)\n",
    "root.left = TreeNode(9)\n",
    "root.right = TreeNode(0)\n",
    "root.left.right = TreeNode(1)\n",
    "sumNumbers(root)"
   ]
  },
  {
   "cell_type": "markdown",
   "id": "cc0a68ad",
   "metadata": {},
   "source": [
    "### 20211103<a id='404'></a>\n",
    "<strong>404. Sum of Left Leaves</strong>\n",
    "\n",
    "Given the root of a binary tree, return the sum of all left leaves."
   ]
  },
  {
   "cell_type": "code",
   "execution_count": 2,
   "id": "68026f3f",
   "metadata": {},
   "outputs": [],
   "source": [
    "class TreeNode:\n",
    "    def __init__(self, val=0, left=None, right=None):\n",
    "        self.val = val\n",
    "        self.left = left\n",
    "        self.right = right"
   ]
  },
  {
   "cell_type": "code",
   "execution_count": 35,
   "id": "ca28dd3a",
   "metadata": {},
   "outputs": [],
   "source": [
    "def sumOfLeftLeaves(root):\n",
    "    \n",
    "    def find_left(root, part):\n",
    "        if root is None:\n",
    "            return 0\n",
    "        if root.left is None and root.right is None:\n",
    "            if part == 'left':\n",
    "                return root.val\n",
    "            else:\n",
    "                return 0\n",
    "        return find_left(root.left,'left') + find_left(root.right, 'right')\n",
    "    \n",
    "    return find_left(root, 'inital')"
   ]
  },
  {
   "cell_type": "code",
   "execution_count": 32,
   "id": "f26201fb",
   "metadata": {},
   "outputs": [
    {
     "data": {
      "text/plain": [
       "24"
      ]
     },
     "execution_count": 32,
     "metadata": {},
     "output_type": "execute_result"
    }
   ],
   "source": [
    "root = TreeNode(3)\n",
    "root.left = TreeNode(9)\n",
    "root.right = TreeNode(20)\n",
    "root.right.left = TreeNode(15)\n",
    "root.right.right = TreeNode(7)\n",
    "sumOfLeftLeaves(root)"
   ]
  },
  {
   "cell_type": "code",
   "execution_count": 33,
   "id": "aa67accd",
   "metadata": {},
   "outputs": [
    {
     "data": {
      "text/plain": [
       "0"
      ]
     },
     "execution_count": 33,
     "metadata": {},
     "output_type": "execute_result"
    }
   ],
   "source": [
    "root = TreeNode(1)\n",
    "sumOfLeftLeaves(root)"
   ]
  },
  {
   "cell_type": "code",
   "execution_count": 36,
   "id": "058351ea",
   "metadata": {},
   "outputs": [
    {
     "data": {
      "text/plain": [
       "39"
      ]
     },
     "execution_count": 36,
     "metadata": {},
     "output_type": "execute_result"
    }
   ],
   "source": [
    "root = TreeNode(3)\n",
    "root.left = TreeNode(9)\n",
    "root.right = TreeNode(20)\n",
    "root.right.left = TreeNode(15)\n",
    "root.right.right = TreeNode(7)\n",
    "root.right.right.left = TreeNode(15)\n",
    "sumOfLeftLeaves(root)"
   ]
  },
  {
   "cell_type": "code",
   "execution_count": 37,
   "id": "3d6115eb",
   "metadata": {},
   "outputs": [
    {
     "data": {
      "text/plain": [
       "5"
      ]
     },
     "execution_count": 37,
     "metadata": {},
     "output_type": "execute_result"
    }
   ],
   "source": [
    "root = TreeNode(0)\n",
    "root.left = TreeNode(2)\n",
    "root.right = TreeNode(4)\n",
    "root.left.left = TreeNode(1)\n",
    "root.right.left = TreeNode(3)\n",
    "root.right.right = TreeNode(-1)\n",
    "root.left.left.left = TreeNode(5)\n",
    "root.left.left.right = TreeNode(1)\n",
    "root.right.left.right = TreeNode(6)\n",
    "root.right.right.right = TreeNode(8)\n",
    "sumOfLeftLeaves(root)"
   ]
  },
  {
   "cell_type": "markdown",
   "id": "f5b14ad7",
   "metadata": {},
   "source": [
    "### 20211105<a id='441'></a>\n",
    "<strong>441. Arranging Coins</strong>\n",
    "\n",
    "You have n coins and you want to build a staircase with these coins. The staircase consists of k rows where the ith row has exactly i coins. The last row of the staircase may be incomplete.\n",
    "\n",
    "Given the integer n, return the number of complete rows of the staircase you will build.\n",
    "\n"
   ]
  },
  {
   "cell_type": "code",
   "execution_count": 79,
   "id": "34c20cb1",
   "metadata": {},
   "outputs": [],
   "source": [
    "def arrangeCoins(n):\n",
    "    r = int((2*n)**0.5)+1\n",
    "    l = int(n**0.5)\n",
    "    \n",
    "    while r - l > 1:\n",
    "        mid = int((r+l)/2)\n",
    "        if (mid+1)*mid/2 <= n:\n",
    "            l = mid\n",
    "        else:\n",
    "            r = mid\n",
    "    if (r+1)*r/2 == n:\n",
    "        return r\n",
    "    \n",
    "    return l"
   ]
  },
  {
   "cell_type": "code",
   "execution_count": 60,
   "id": "51806d61",
   "metadata": {},
   "outputs": [
    {
     "data": {
      "text/plain": [
       "1"
      ]
     },
     "execution_count": 60,
     "metadata": {},
     "output_type": "execute_result"
    }
   ],
   "source": [
    "n = 2\n",
    "arrangeCoins(n)"
   ]
  },
  {
   "cell_type": "code",
   "execution_count": 63,
   "id": "37bc1e49",
   "metadata": {},
   "outputs": [
    {
     "data": {
      "text/plain": [
       "2"
      ]
     },
     "execution_count": 63,
     "metadata": {},
     "output_type": "execute_result"
    }
   ],
   "source": [
    "n = 3\n",
    "arrangeCoins(n)"
   ]
  },
  {
   "cell_type": "code",
   "execution_count": 52,
   "id": "4b1a2834",
   "metadata": {},
   "outputs": [
    {
     "data": {
      "text/plain": [
       "2"
      ]
     },
     "execution_count": 52,
     "metadata": {},
     "output_type": "execute_result"
    }
   ],
   "source": [
    "n = 5\n",
    "arrangeCoins(n)"
   ]
  },
  {
   "cell_type": "code",
   "execution_count": 71,
   "id": "84dbccc2",
   "metadata": {},
   "outputs": [
    {
     "data": {
      "text/plain": [
       "3"
      ]
     },
     "execution_count": 71,
     "metadata": {},
     "output_type": "execute_result"
    }
   ],
   "source": [
    "n = 6\n",
    "arrangeCoins(n)"
   ]
  },
  {
   "cell_type": "code",
   "execution_count": 80,
   "id": "8dc5f8bd",
   "metadata": {},
   "outputs": [
    {
     "data": {
      "text/plain": [
       "3"
      ]
     },
     "execution_count": 80,
     "metadata": {},
     "output_type": "execute_result"
    }
   ],
   "source": [
    "n = 7\n",
    "arrangeCoins(n)"
   ]
  },
  {
   "cell_type": "code",
   "execution_count": 70,
   "id": "6aa284fa",
   "metadata": {},
   "outputs": [
    {
     "data": {
      "text/plain": [
       "3"
      ]
     },
     "execution_count": 70,
     "metadata": {},
     "output_type": "execute_result"
    }
   ],
   "source": [
    "n = 8\n",
    "arrangeCoins(n)"
   ]
  },
  {
   "cell_type": "code",
   "execution_count": 45,
   "id": "96b8231b",
   "metadata": {},
   "outputs": [
    {
     "data": {
      "text/plain": [
       "65534"
      ]
     },
     "execution_count": 45,
     "metadata": {},
     "output_type": "execute_result"
    }
   ],
   "source": [
    "n = 2**31-1\n",
    "arrangeCoins(n)"
   ]
  },
  {
   "cell_type": "markdown",
   "id": "fc822f8b",
   "metadata": {},
   "source": [
    "### 20211105<a id='39'></a>\n",
    "<strong>39. Combination Sum</strong>\n",
    "\n",
    "Given an array of distinct integers candidates and a target integer target, return a list of all unique combinations of candidates where the chosen numbers sum to target. You may return the combinations in any order.\n",
    "\n",
    "The same number may be chosen from candidates an unlimited number of times. Two combinations are unique if the frequency of at least one of the chosen numbers is different.\n",
    "\n",
    "It is guaranteed that the number of unique combinations that sum up to target is less than 150 combinations for the given input."
   ]
  },
  {
   "cell_type": "code",
   "execution_count": 106,
   "id": "f8080602",
   "metadata": {},
   "outputs": [],
   "source": [
    "def combinationSum(candidates, target):\n",
    "    ans = []\n",
    "    \n",
    "    def find(candidates, target, path, ans):\n",
    "        if target < 0:\n",
    "            return\n",
    "        elif target == 0:\n",
    "            ans.append(path)\n",
    "            return\n",
    "        else:\n",
    "            for i in range(len(candidates)):\n",
    "                find(candidates[i:], target-candidates[i],path+[candidates[i]],ans)\n",
    "        \n",
    "    \n",
    "    find(candidates,target,[],ans)\n",
    "    \n",
    "    return ans       "
   ]
  },
  {
   "cell_type": "code",
   "execution_count": 102,
   "id": "f4b92e94",
   "metadata": {},
   "outputs": [],
   "source": [
    "def combinationSum(candidates, target):\n",
    "    def dfs(nums, target, path, ret):\n",
    "        if target < 0:\n",
    "            return \n",
    "        if target == 0:\n",
    "            ret.append(path)\n",
    "            return \n",
    "        for i in range(len(nums)):\n",
    "            dfs(nums[i:], target-nums[i], path+[nums[i]], ret)\n",
    "    \n",
    "    ret = []\n",
    "    dfs(candidates, target, [], ret)\n",
    "    return ret"
   ]
  },
  {
   "cell_type": "code",
   "execution_count": 107,
   "id": "35b813e7",
   "metadata": {},
   "outputs": [
    {
     "data": {
      "text/plain": [
       "[[2, 2, 3], [7]]"
      ]
     },
     "execution_count": 107,
     "metadata": {},
     "output_type": "execute_result"
    }
   ],
   "source": [
    "candidates = [2,3,6,7]\n",
    "target = 7\n",
    "combinationSum(candidates, target)"
   ]
  },
  {
   "cell_type": "markdown",
   "id": "23125d26",
   "metadata": {},
   "source": [
    "### 20211106<a id='260'></a>\n",
    "<strong>260. Single Number III</strong>\n",
    "\n",
    "Given an integer array nums, in which exactly two elements appear only once and all the other elements appear exactly twice. Find the two elements that appear only once. You can return the answer in any order.\n",
    "\n",
    "You must write an algorithm that runs in linear runtime complexity and uses only constant extra space."
   ]
  },
  {
   "cell_type": "code",
   "execution_count": 111,
   "id": "9828c5cd",
   "metadata": {},
   "outputs": [],
   "source": [
    "def singleNumber(nums):\n",
    "    ans = []\n",
    "    while len(ans) < 2:\n",
    "        temp = nums.pop()\n",
    "        try:\n",
    "            nums.remove(temp)\n",
    "        except:\n",
    "            ans.append(temp)\n",
    "    \n",
    "    return ans"
   ]
  },
  {
   "cell_type": "code",
   "execution_count": 121,
   "id": "2a18fe31",
   "metadata": {},
   "outputs": [],
   "source": [
    "def singleNumber(nums):\n",
    "    \"\"\"\n",
    "    :type nums: List[int]\n",
    "    :rtype: List[int]\n",
    "    \"\"\"\n",
    "    st = set(nums)\n",
    "\n",
    "    xor =0\n",
    "    for num in nums:\n",
    "        print('before',num,xor)\n",
    "        xor = xor^num\n",
    "        print('after',xor)\n",
    "    print(xor)\n",
    "    for item in nums:\n",
    "        if(item^xor in st):\n",
    "            ans = [item,item^xor]\n",
    "            return ans"
   ]
  },
  {
   "cell_type": "code",
   "execution_count": 13,
   "id": "91e41626",
   "metadata": {},
   "outputs": [
    {
     "data": {
      "text/plain": [
       "2"
      ]
     },
     "execution_count": 13,
     "metadata": {},
     "output_type": "execute_result"
    }
   ],
   "source": [
    "2^7^6^3^7^3^6"
   ]
  },
  {
   "cell_type": "code",
   "execution_count": 122,
   "id": "46f6a5ee",
   "metadata": {},
   "outputs": [
    {
     "name": "stdout",
     "output_type": "stream",
     "text": [
      "before 1 0\n",
      "after 1\n",
      "before 2 1\n",
      "after 3\n",
      "before 1 3\n",
      "after 2\n",
      "before 3 2\n",
      "after 1\n",
      "before 2 1\n",
      "after 3\n",
      "before 5 3\n",
      "after 6\n",
      "6\n"
     ]
    },
    {
     "data": {
      "text/plain": [
       "[3, 5]"
      ]
     },
     "execution_count": 122,
     "metadata": {},
     "output_type": "execute_result"
    }
   ],
   "source": [
    "nums = [1,2,1,3,2,5]\n",
    "singleNumber(nums)"
   ]
  },
  {
   "cell_type": "code",
   "execution_count": 120,
   "id": "8e6a08e9",
   "metadata": {},
   "outputs": [
    {
     "data": {
      "text/plain": [
       "4"
      ]
     },
     "execution_count": 120,
     "metadata": {},
     "output_type": "execute_result"
    }
   ],
   "source": [
    "2^6"
   ]
  },
  {
   "cell_type": "code",
   "execution_count": 113,
   "id": "badf54a7",
   "metadata": {},
   "outputs": [
    {
     "data": {
      "text/plain": [
       "[0, -1]"
      ]
     },
     "execution_count": 113,
     "metadata": {},
     "output_type": "execute_result"
    }
   ],
   "source": [
    "nums = [-1,0]\n",
    "singleNumber(nums)"
   ]
  },
  {
   "cell_type": "code",
   "execution_count": 108,
   "id": "8906dd5c",
   "metadata": {},
   "outputs": [
    {
     "data": {
      "text/plain": [
       "3"
      ]
     },
     "execution_count": 108,
     "metadata": {},
     "output_type": "execute_result"
    }
   ],
   "source": [
    "a = [1,2,3].pop()\n",
    "a"
   ]
  },
  {
   "cell_type": "markdown",
   "id": "94f87f2f",
   "metadata": {},
   "source": [
    "### 20211106<a id='260'></a>\n",
    "<strong>260. Single Number III</strong>\n",
    "\n",
    "Given two non-negative integers num1 and num2 represented as strings, return the product of num1 and num2, also represented as a string.\n",
    "\n",
    "Note: You must not use any built-in BigInteger library or convert the inputs to integer directly."
   ]
  },
  {
   "cell_type": "code",
   "execution_count": 158,
   "id": "aa1f35cd",
   "metadata": {},
   "outputs": [],
   "source": [
    "def multiply(num1, num2):\n",
    "    if len(num1) >= len(num2):\n",
    "        n1 = num1\n",
    "        n2 = num2\n",
    "    else:\n",
    "        n1 = num2\n",
    "        n2 = num1\n",
    "    \n",
    "    nums = []\n",
    "    for num in n2[::-1]:\n",
    "        current_num = 0\n",
    "        carry = 0\n",
    "        for i, mult in enumerate(n1[::-1]):\n",
    "            temp = int(num) * int(mult)\n",
    "            current_num += temp%10*10**i + carry*10**i\n",
    "            carry = temp//10\n",
    "        current_num += carry*10**(i+1)\n",
    "        nums.append(current_num)\n",
    "\n",
    "    ans = 0\n",
    "    for i, num in enumerate(nums):\n",
    "        ans += num * 10**i\n",
    "    \n",
    "    return str(ans)"
   ]
  },
  {
   "cell_type": "code",
   "execution_count": 159,
   "id": "a1df5746",
   "metadata": {},
   "outputs": [
    {
     "data": {
      "text/plain": [
       "'56088'"
      ]
     },
     "execution_count": 159,
     "metadata": {},
     "output_type": "execute_result"
    }
   ],
   "source": [
    "num1 = \"123\"\n",
    "num2 = \"456\"\n",
    "multiply(num1, num2)"
   ]
  },
  {
   "cell_type": "code",
   "execution_count": 160,
   "id": "1227bc6c",
   "metadata": {},
   "outputs": [
    {
     "data": {
      "text/plain": [
       "'6'"
      ]
     },
     "execution_count": 160,
     "metadata": {},
     "output_type": "execute_result"
    }
   ],
   "source": [
    "num1 = \"2\"\n",
    "num2 = '3'\n",
    "multiply(num1, num2)"
   ]
  },
  {
   "cell_type": "code",
   "execution_count": 163,
   "id": "448d9ead",
   "metadata": {},
   "outputs": [
    {
     "data": {
      "text/plain": [
       "'800'"
      ]
     },
     "execution_count": 163,
     "metadata": {},
     "output_type": "execute_result"
    }
   ],
   "source": [
    "num1 = \"200\"\n",
    "num2 = '4'\n",
    "multiply(num1, num2)"
   ]
  },
  {
   "cell_type": "code",
   "execution_count": 143,
   "id": "67fa027c",
   "metadata": {},
   "outputs": [
    {
     "name": "stdout",
     "output_type": "stream",
     "text": [
      "18 8 1\n",
      "12 38 1\n",
      "6 738 0\n"
     ]
    },
    {
     "data": {
      "text/plain": [
       "738"
      ]
     },
     "execution_count": 143,
     "metadata": {},
     "output_type": "execute_result"
    }
   ],
   "source": [
    "num='6'\n",
    "n1='123'\n",
    "current_num = 0\n",
    "carry = 0\n",
    "for i, mult in enumerate(n1[::-1]):\n",
    "    temp = int(num) * int(mult)\n",
    "    current_num += temp%10*10**i + carry*10**i\n",
    "    carry = temp//10\n",
    "    print(temp,current_num,carry)\n",
    "current_num += carry*10**(i+1)\n",
    "current_num"
   ]
  },
  {
   "cell_type": "code",
   "execution_count": 6,
   "id": "29e74a7b",
   "metadata": {},
   "outputs": [
    {
     "data": {
      "text/plain": [
       "1"
      ]
     },
     "execution_count": 6,
     "metadata": {},
     "output_type": "execute_result"
    }
   ],
   "source": [
    "3&1"
   ]
  },
  {
   "cell_type": "markdown",
   "id": "e55e8162",
   "metadata": {},
   "source": [
    "### 20211110<a id='96'></a>\n",
    "<strong>96. Unique Binary Search Trees</strong>\n",
    "[Quesiton List](#0)\n",
    "\n",
    "Given an integer n, return the number of structurally unique BST's (binary search trees) which has exactly n nodes of unique values from 1 to n."
   ]
  },
  {
   "cell_type": "code",
   "execution_count": 29,
   "id": "1af7a6fe",
   "metadata": {},
   "outputs": [],
   "source": [
    "#1.pick a root (DP)\n",
    "#2.left subtree equals to the number of remained node from root\n",
    "#3.right subtree equals to the number of remained node from root and left\n",
    "def numTrees(n: int) -> int:\n",
    "    res = [0] * (n+1)\n",
    "    res[0] = 1\n",
    "    for i in range(1, n+1):\n",
    "        for j in range(i):\n",
    "            res[i] += res[j] * res[i-1-j]\n",
    "    return res[n]"
   ]
  },
  {
   "cell_type": "code",
   "execution_count": 30,
   "id": "e06ca407",
   "metadata": {},
   "outputs": [
    {
     "data": {
      "text/plain": [
       "2"
      ]
     },
     "execution_count": 30,
     "metadata": {},
     "output_type": "execute_result"
    }
   ],
   "source": [
    "numTrees(2)"
   ]
  },
  {
   "cell_type": "markdown",
   "id": "c0d39e48",
   "metadata": {},
   "source": [
    "### 20211110<a id='122'></a>\n",
    "<strong>122. Best Time to Buy and Sell Stock II</strong>\n",
    "[Quesiton List](#0)\n",
    "\n",
    "You are given an integer array prices where prices[i] is the price of a given stock on the ith day.\n",
    "\n",
    "On each day, you may decide to buy and/or sell the stock. You can only hold at most one share of the stock at any time. However, you can buy it then immediately sell it on the same day.\n",
    "\n",
    "Find and return the maximum profit you can achieve."
   ]
  },
  {
   "cell_type": "code",
   "execution_count": 9,
   "id": "ca4e6adc",
   "metadata": {},
   "outputs": [],
   "source": [
    "def maxProfit(prices) -> int:\n",
    "    ans = 0\n",
    "    for i in range(1,len(prices)):\n",
    "        if prices[i] > prices[i-1]:\n",
    "            ans += prices[i] - prices[i-1]\n",
    "    return ans"
   ]
  },
  {
   "cell_type": "markdown",
   "id": "6d200fd5",
   "metadata": {},
   "source": [
    "### 20211111<a id='1413'></a>\n",
    "<strong>1413. Minimum Value to Get Positive Step by Step Sum</strong>\n",
    "[Quesiton List](#0)\n",
    "\n",
    "Given an array of integers nums, you start with an initial positive value startValue.\n",
    "\n",
    "In each iteration, you calculate the step by step sum of startValue plus elements in nums (from left to right).\n",
    "\n",
    "Return the minimum positive value of startValue such that the step by step sum is never less than 1."
   ]
  },
  {
   "cell_type": "code",
   "execution_count": 8,
   "id": "057309c8",
   "metadata": {},
   "outputs": [],
   "source": [
    "def minStartValue(nums) -> int:\n",
    "    ans = 100\n",
    "    total = 0\n",
    "    for num in nums:\n",
    "        total += num\n",
    "        if total < ans:\n",
    "            ans = total\n",
    "\n",
    "    return max(1, -ans+1)"
   ]
  },
  {
   "cell_type": "markdown",
   "id": "081614a4",
   "metadata": {},
   "source": [
    "### 20211112<a id='203'></a>\n",
    "<strong>203. Remove Linked List Elements</strong>\n",
    "[Quesiton List](#0)\n",
    "\n",
    "Given the head of a linked list and an integer val, remove all the nodes of the linked list that has Node.val == val, and return the new head.\n",
    "\n"
   ]
  },
  {
   "cell_type": "code",
   "execution_count": 2,
   "id": "34dddd6d",
   "metadata": {},
   "outputs": [],
   "source": [
    "# Definition for singly-linked list.\n",
    "class ListNode:\n",
    "    def __init__(self, val=0, next=None):\n",
    "        self.val = val\n",
    "        self.next = next"
   ]
  },
  {
   "cell_type": "code",
   "execution_count": 4,
   "id": "50b5c49c",
   "metadata": {},
   "outputs": [],
   "source": [
    "#1.Create a dummy node an connect to the orginal node\n",
    "#2.Create a pointer to raverse through the linked list\n",
    "#3.1.If find the next is val, link pointed node to its next.next\n",
    "#3.2.Else, move pointer to next\n",
    "#4.Return the next node of the dummy node\n",
    "def removeElements(head, val: int):\n",
    "    dummy = ListNode(0,head)\n",
    "    pointer = dummy\n",
    "\n",
    "    while pointer is not None:\n",
    "        if pointer.next is not None and pointer.next.val == val:\n",
    "            pointer.next = pointer.next.next\n",
    "        else:\n",
    "            pointer = pointer.next\n",
    "\n",
    "    return dummy.next"
   ]
  },
  {
   "cell_type": "markdown",
   "id": "abd53032",
   "metadata": {},
   "source": [
    "### 20211114<a id='1286'></a>\n",
    "<strong>1286. Iterator for Combination</strong>\n",
    "[Quesiton List](#0)\n",
    "\n",
    "Design the CombinationIterator class:\n",
    "\n",
    "- CombinationIterator(string characters, int combinationLength) Initializes the object with a string characters of sorted distinct lowercase English letters and a number combinationLength as arguments.\n",
    "- next() Returns the next combination of length combinationLength in lexicographical order.\n",
    "- hasNext() Returns true if and only if there exists a next combination.\n"
   ]
  },
  {
   "cell_type": "code",
   "execution_count": null,
   "id": "503d1230",
   "metadata": {},
   "outputs": [],
   "source": [
    "class CombinationIterator:\n",
    "\n",
    "    def __init__(self, characters: str, combinationLength: int):\n",
    "        self.combo = []\n",
    "        \n",
    "\n",
    "    def next(self) -> str:\n",
    "        \n",
    "\n",
    "    def hasNext(self) -> bool:"
   ]
  },
  {
   "cell_type": "code",
   "execution_count": 23,
   "id": "fb3443dd",
   "metadata": {},
   "outputs": [],
   "source": [
    "from os.path import commonprefix\n",
    "\n",
    "class CombinationIterator:\n",
    "\n",
    "    def __init__(self, characters, combinationLength):\n",
    "        self.c = characters\n",
    "        self.len = combinationLength\n",
    "        self.state = \"\"\n",
    "        \n",
    "    def next(self):\n",
    "        if self.state == \"\":\n",
    "            self.state = self.c[:self.len]\n",
    "        else:\n",
    "            end = len(commonprefix([self.c[::-1], self.state[::-1]]))\n",
    "            place = self.c.index(self.state[-end-1])\n",
    "            self.state = self.state[:-end-1] + self.c[place + 1: place + 2 + end]\n",
    "        return self.state\n",
    "\n",
    "    def hasNext(self):\n",
    "        return self.state != self.c[-self.len:]"
   ]
  },
  {
   "cell_type": "code",
   "execution_count": 17,
   "id": "22d63530",
   "metadata": {},
   "outputs": [
    {
     "data": {
      "text/plain": [
       "['a', 'b', 'c']"
      ]
     },
     "execution_count": 17,
     "metadata": {},
     "output_type": "execute_result"
    }
   ],
   "source": [
    "sorted(('c','a','b'))"
   ]
  },
  {
   "cell_type": "code",
   "execution_count": 22,
   "id": "a2e166ba",
   "metadata": {},
   "outputs": [
    {
     "name": "stdout",
     "output_type": "stream",
     "text": [
      "0\n",
      "1\n",
      "a c ac\n"
     ]
    }
   ],
   "source": [
    "from os.path import commonprefix\n",
    "state = 'ab'\n",
    "c = 'abcd'\n",
    "end = len(commonprefix([c[::-1], state[::-1]]))\n",
    "print(end)\n",
    "place = c.index(state[-end-1])\n",
    "print(place)\n",
    "state = state[:-end-1] + c[place + 1: place + 2 + end]\n",
    "print(state[:-end-1],c[place + 1: place + 2 + end],state)"
   ]
  },
  {
   "cell_type": "code",
   "execution_count": 18,
   "id": "904b2e90",
   "metadata": {},
   "outputs": [
    {
     "data": {
      "text/plain": [
       "'cba'"
      ]
     },
     "execution_count": 18,
     "metadata": {},
     "output_type": "execute_result"
    }
   ],
   "source": [
    "'abc'[::-1]"
   ]
  },
  {
   "cell_type": "markdown",
   "id": "906cc355",
   "metadata": {},
   "source": [
    "### 20211115<a id='368'></a>\n",
    "<strong>368. Largest Divisible Subset</strong>\n",
    "[Quesiton List](#0)\n",
    "\n",
    "Given a set of distinct positive integers nums, return the largest subset answer such that every pair (answer[i], answer[j]) of elements in this subset satisfies:\n",
    "\n",
    "- answer[i] % answer[j] == 0, or\n",
    "- answer[j] % answer[i] == 0\n",
    "\n",
    "If there are multiple solutions, return any of them."
   ]
  },
  {
   "cell_type": "code",
   "execution_count": 47,
   "id": "3b34767c",
   "metadata": {},
   "outputs": [],
   "source": [
    "#1.sort the list in ascending order\n",
    "#2.double loop to check if the prev numbers are the divisor of the current number\n",
    "#3.if it is, update the count and prev list \n",
    "#3.only if the current count is smaller than the prev count + 1 \n",
    "#3.(otherwise, it would overwrite the largest result)\n",
    "def largestDivisibleSubset(nums):\n",
    "    nums = sorted(nums)\n",
    "    count = [1]*len(nums)\n",
    "    prev = [-1]*len(nums)\n",
    "    max_idx = 0\n",
    "    \n",
    "    for i in range(len(nums)):\n",
    "        for j in range(i):\n",
    "            if nums[i]%nums[j] == 0:\n",
    "                 if count[i] < count[j] + 1:\n",
    "                    count[i] = count[j] + 1\n",
    "                    prev[i] = j\n",
    "        if count[max_idx] < count[i]:\n",
    "            max_idx = i\n",
    "            \n",
    "    \n",
    "    ans = []\n",
    "    k = max_idx\n",
    "    while k >= 0:\n",
    "        ans.append(nums[k])\n",
    "        k = prev[k]\n",
    "    \n",
    "    return ans"
   ]
  },
  {
   "cell_type": "code",
   "execution_count": 41,
   "id": "fc6d7008",
   "metadata": {},
   "outputs": [
    {
     "name": "stdout",
     "output_type": "stream",
     "text": [
      "[1, 2, 1] [-1, 0, -1]\n",
      "[1, 2, 2] [-1, 0, 0]\n"
     ]
    },
    {
     "data": {
      "text/plain": [
       "[2, 1]"
      ]
     },
     "execution_count": 41,
     "metadata": {},
     "output_type": "execute_result"
    }
   ],
   "source": [
    "nums = [1,2,3]\n",
    "largestDivisibleSubset(nums)"
   ]
  },
  {
   "cell_type": "code",
   "execution_count": 42,
   "id": "051a891a",
   "metadata": {},
   "outputs": [
    {
     "name": "stdout",
     "output_type": "stream",
     "text": [
      "[1, 2, 1, 1] [-1, 0, -1, -1]\n",
      "[1, 2, 2, 1] [-1, 0, 0, -1]\n",
      "[1, 2, 3, 1] [-1, 0, 1, -1]\n",
      "[1, 2, 3, 2] [-1, 0, 1, 0]\n",
      "[1, 2, 3, 3] [-1, 0, 1, 1]\n",
      "[1, 2, 3, 4] [-1, 0, 1, 2]\n"
     ]
    },
    {
     "data": {
      "text/plain": [
       "[8, 4, 2, 1]"
      ]
     },
     "execution_count": 42,
     "metadata": {},
     "output_type": "execute_result"
    }
   ],
   "source": [
    "nums = [1,2,4,8]\n",
    "largestDivisibleSubset(nums)"
   ]
  },
  {
   "cell_type": "code",
   "execution_count": 48,
   "id": "187be2ad",
   "metadata": {},
   "outputs": [
    {
     "data": {
      "text/plain": [
       "[240, 8, 4]"
      ]
     },
     "execution_count": 48,
     "metadata": {},
     "output_type": "execute_result"
    }
   ],
   "source": [
    "nums = [4,8,10,240]\n",
    "largestDivisibleSubset(nums)"
   ]
  },
  {
   "cell_type": "markdown",
   "id": "480c70fe",
   "metadata": {},
   "source": [
    "### 20211115<a id='45'></a>\n",
    "<strong>45. Jump Game II</strong>\n",
    "[Quesiton List](#0)\n",
    "\n",
    "Given an array of non-negative integers nums, you are initially positioned at the first index of the array.\n",
    "\n",
    "Each element in the array represents your maximum jump length at that position.\n",
    "\n",
    "Your goal is to reach the last index in the minimum number of jumps.\n",
    "\n",
    "You can assume that you can always reach the last index."
   ]
  },
  {
   "cell_type": "code",
   "execution_count": 78,
   "id": "2d82e946",
   "metadata": {},
   "outputs": [],
   "source": [
    "#O(n^2)find the minimum step to reach each index\n",
    "#1.double loop on each index step very big step\n",
    "#2.check if the previous index that can reach to the current index\n",
    "#3.update the minimum step if minimum step from previous index + 1 is smaller\n",
    "def jump(nums):\n",
    "    dp = [0]\n",
    "    for i in range(1,len(nums)):\n",
    "        min_step = 99999\n",
    "        for j in range(i):\n",
    "            if j + nums[j] >= i:\n",
    "                if dp[j] + 1 < min_step:\n",
    "                    min_step = dp[j] + 1\n",
    "        dp.append(min_step)\n",
    "    return dp[len(nums)-1]"
   ]
  },
  {
   "cell_type": "code",
   "execution_count": 85,
   "id": "e78185c1",
   "metadata": {},
   "outputs": [],
   "source": [
    "#O(n) keep two pointer that represent the range it can reach with a fixed number of step\n",
    "#1.set the left as the 0 index and right as the furthest the 0 index can reach and step = 1\n",
    "#2.find the max index this range can reach\n",
    "#2.1check if it exceeds the end of list\n",
    "#2.2if not, update left as right, right as the furthest\n",
    "def jump(nums):\n",
    "    if len(nums) <= 1:\n",
    "        return 0\n",
    "    left = 0\n",
    "    right = nums[0]\n",
    "    time = 1\n",
    "    while right < len(nums)-1:\n",
    "        temp = left\n",
    "        max_step = right\n",
    "        while temp <= right:\n",
    "            if temp + nums[temp] >= len(nums)-1:\n",
    "                return time + 1\n",
    "            if temp + nums[temp] > max_step:\n",
    "                max_step = temp + nums[temp] \n",
    "            temp += 1\n",
    "        left = right\n",
    "        right = max_step\n",
    "        time += 1\n",
    "    return time"
   ]
  },
  {
   "cell_type": "code",
   "execution_count": 93,
   "id": "15358ca1",
   "metadata": {},
   "outputs": [],
   "source": [
    "def jump(nums):\n",
    "    if len(nums) <= 1: return 0\n",
    "    l, r = 0, nums[0]\n",
    "    times = 1\n",
    "    while r < len(nums) - 1:\n",
    "        times += 1\n",
    "        nxt = max(i + nums[i] for i in range(l, r + 1))\n",
    "        l, r = r, nxt\n",
    "    return times"
   ]
  },
  {
   "cell_type": "code",
   "execution_count": 94,
   "id": "af438949",
   "metadata": {},
   "outputs": [
    {
     "name": "stdout",
     "output_type": "stream",
     "text": [
      "[2, 4, 3]\n"
     ]
    },
    {
     "data": {
      "text/plain": [
       "2"
      ]
     },
     "execution_count": 94,
     "metadata": {},
     "output_type": "execute_result"
    }
   ],
   "source": [
    "nums = [2,3,1,1,4]\n",
    "jump(nums)"
   ]
  },
  {
   "cell_type": "code",
   "execution_count": 87,
   "id": "53895800",
   "metadata": {},
   "outputs": [
    {
     "data": {
      "text/plain": [
       "2"
      ]
     },
     "execution_count": 87,
     "metadata": {},
     "output_type": "execute_result"
    }
   ],
   "source": [
    "nums = [2,3,0,1,4]\n",
    "jump(nums)"
   ]
  },
  {
   "cell_type": "code",
   "execution_count": 88,
   "id": "eccd13fd",
   "metadata": {},
   "outputs": [
    {
     "data": {
      "text/plain": [
       "3"
      ]
     },
     "execution_count": 88,
     "metadata": {},
     "output_type": "execute_result"
    }
   ],
   "source": [
    "nums = [1,2,1,1,1]\n",
    "jump(nums)"
   ]
  },
  {
   "cell_type": "code",
   "execution_count": 89,
   "id": "a96bad2e",
   "metadata": {},
   "outputs": [
    {
     "data": {
      "text/plain": [
       "5753"
      ]
     },
     "execution_count": 89,
     "metadata": {},
     "output_type": "execute_result"
    }
   ],
   "source": [
    "nums = [1,1,1,1,1,1,1,1,1,1,1,1,1,1,1,1,1,1,1,1,1,1,1,1,1,1,1,1,1,1,1,1,1,1,1,1,1,1,1,1,1,1,1,1,1,1,1,1,1,1,1,1,1,1,1,1,1,1,1,1,1,1,1,1,1,1,1,1,1,1,1,1,1,1,1,1,1,1,1,1,1,1,1,1,1,1,1,1,1,1,1,1,1,1,1,1,1,1,1,1,1,1,1,1,1,1,1,1,1,1,1,1,1,1,1,1,1,1,1,1,1,1,1,1,1,1,1,1,1,1,1,1,1,1,1,1,1,1,1,1,1,1,1,1,1,1,1,1,1,1,1,1,1,1,1,1,1,1,1,1,1,1,1,1,1,1,1,1,1,1,1,1,1,1,1,1,1,1,1,1,1,1,1,1,1,1,1,1,1,1,1,1,1,1,1,1,1,1,1,1,1,1,1,1,1,1,1,1,1,1,1,1,1,1,1,1,1,1,1,1,1,1,1,1,1,1,1,1,1,1,1,1,1,1,1,1,1,1,1,1,1,1,1,1,1,1,1,1,1,1,1,1,1,1,1,1,1,1,1,1,1,1,1,1,1,1,1,1,1,1,1,1,1,1,1,1,1,1,1,1,1,1,1,1,1,1,1,1,1,1,1,1,1,1,1,1,1,1,1,1,1,1,1,1,1,1,1,1,1,1,1,1,1,1,1,1,1,1,1,1,1,1,1,1,1,1,1,1,1,1,1,1,1,1,1,1,1,1,1,1,1,1,1,1,1,1,1,1,1,1,1,1,1,1,1,1,1,1,1,1,1,1,1,1,1,1,1,1,1,1,1,1,1,1,1,1,1,1,1,1,1,1,1,1,1,1,1,1,1,1,1,1,1,1,1,1,1,1,1,1,1,1,1,1,1,1,1,1,1,1,1,1,1,1,1,1,1,1,1,1,1,1,1,1,1,1,1,1,1,1,1,1,1,1,1,1,1,1,1,1,1,1,1,1,1,1,1,1,1,1,1,1,1,1,1,1,1,1,1,1,1,1,1,1,1,1,1,1,1,1,1,1,1,1,1,1,1,1,1,1,1,1,1,1,1,1,1,1,1,1,1,1,1,1,1,1,1,1,1,1,1,1,1,1,1,1,1,1,1,1,1,1,1,1,1,1,1,1,1,1,1,1,1,1,1,1,1,1,1,1,1,1,1,1,1,1,1,1,1,1,1,1,1,1,1,1,1,1,1,1,1,1,1,1,1,1,1,1,1,1,1,1,1,1,1,1,1,1,1,1,1,1,1,1,1,1,1,1,1,1,1,1,1,1,1,1,1,1,1,1,1,1,1,1,1,1,1,1,1,1,1,1,1,1,1,1,1,1,1,1,1,1,1,1,1,1,1,1,1,1,1,1,1,1,1,1,1,1,1,1,1,1,1,1,1,1,1,1,1,1,1,1,1,1,1,1,1,1,1,1,1,1,1,1,1,1,1,1,1,1,1,1,1,1,1,1,1,1,1,1,1,1,1,1,1,1,1,1,1,1,1,1,1,1,1,1,1,1,1,1,1,1,1,1,1,1,1,1,1,1,1,1,1,1,1,1,1,1,1,1,1,1,1,1,1,1,1,1,1,1,1,1,1,1,1,1,1,1,1,1,1,1,1,1,1,1,1,1,1,1,1,1,1,1,1,1,1,1,1,1,1,1,1,1,1,1,1,1,1,1,1,1,1,1,1,1,1,1,1,1,1,1,1,1,1,1,1,1,1,1,1,1,1,1,1,1,1,1,1,1,1,1,1,1,1,1,1,1,1,1,1,1,1,1,1,1,1,1,1,1,1,1,1,1,1,1,1,1,1,1,1,1,1,1,1,1,1,1,1,1,1,1,1,1,1,1,1,1,1,1,1,1,1,1,1,1,1,1,1,1,1,1,1,1,1,1,1,1,1,1,1,1,1,1,1,1,1,1,1,1,1,1,1,1,1,1,1,1,1,1,1,1,1,1,1,1,1,1,1,1,1,1,1,1,1,1,1,1,1,1,1,1,1,1,1,1,1,1,1,1,1,1,1,1,1,1,1,1,1,1,1,1,1,1,1,1,1,1,1,1,1,1,1,1,1,1,1,1,1,1,1,1,1,1,1,1,1,1,1,1,1,1,1,1,1,1,1,1,1,1,1,1,1,1,1,1,1,1,1,1,1,1,1,1,1,1,1,1,1,1,1,1,1,1,1,1,1,1,1,1,1,1,1,1,1,1,1,1,1,1,1,1,1,1,1,1,1,1,1,1,1,1,1,1,1,1,1,1,1,1,1,1,1,1,1,1,1,1,1,1,1,1,1,1,1,1,1,1,1,1,1,1,1,1,1,1,1,1,1,1,1,1,1,1,1,1,1,1,1,1,1,1,1,1,1,1,1,1,1,1,1,1,1,1,1,1,1,1,1,1,1,1,1,1,1,1,1,1,1,1,1,1,1,1,1,1,1,1,1,1,1,1,1,1,1,1,1,1,1,1,1,1,1,1,1,1,1,1,1,1,1,1,1,1,1,1,1,1,1,1,1,1,1,1,1,1,1,1,1,1,1,1,1,1,1,1,1,1,1,1,1,1,1,1,1,1,1,1,1,1,1,1,1,1,1,1,1,1,1,1,1,1,1,1,1,1,1,1,1,1,1,1,1,1,1,1,1,1,1,1,1,1,1,1,1,1,1,1,1,1,1,1,1,1,1,1,1,1,1,1,1,1,1,1,1,1,1,1,1,1,1,1,1,1,1,1,1,1,1,1,1,1,1,1,1,1,1,1,1,1,1,1,1,1,1,1,1,1,1,1,1,1,1,1,1,1,1,1,1,1,1,1,1,1,1,1,1,1,1,1,1,1,1,1,1,1,1,1,1,1,1,1,1,1,1,1,1,1,1,1,1,1,1,1,1,1,1,1,1,1,1,1,1,1,1,1,1,1,1,1,1,1,1,1,1,1,1,1,1,1,1,1,1,1,1,1,1,1,1,1,1,1,1,1,1,1,1,1,1,1,1,1,1,1,1,1,1,1,1,1,1,1,1,1,1,1,1,1,1,1,1,1,1,1,1,1,1,1,1,1,1,1,1,1,1,1,1,1,1,1,1,1,1,1,1,1,1,1,1,1,1,1,1,1,1,1,1,1,1,1,1,1,1,1,1,1,1,1,1,1,1,1,1,1,1,1,1,1,1,1,1,1,1,1,1,1,1,1,1,1,1,1,1,1,1,1,1,1,1,1,1,1,1,1,1,1,1,1,1,1,1,1,1,1,1,1,1,1,1,1,1,1,1,1,1,1,1,1,1,1,1,1,1,1,1,1,1,1,1,1,1,1,1,1,1,1,1,1,1,1,1,1,1,1,1,1,1,1,1,1,1,1,1,1,1,1,1,1,1,1,1,1,1,1,1,1,1,1,1,1,1,1,1,1,1,1,1,1,1,1,1,1,1,1,1,1,1,1,1,1,1,1,1,1,1,1,1,1,1,1,1,1,1,1,1,1,1,1,1,1,1,1,1,1,1,1,1,1,1,1,1,1,1,1,1,1,1,1,1,1,1,1,1,1,1,1,1,1,1,1,1,1,1,1,1,1,1,1,1,1,1,1,1,1,1,1,1,1,1,1,1,1,1,1,1,1,1,1,1,1,1,1,1,1,1,1,1,1,1,1,1,1,1,1,1,1,1,1,1,1,1,1,1,1,1,1,1,1,1,1,1,1,1,1,1,1,1,1,1,1,1,1,1,1,1,1,1,1,1,1,1,1,1,1,1,1,1,1,1,1,1,1,1,1,1,1,1,1,1,1,1,1,1,1,1,1,1,1,1,1,1,1,1,1,1,1,1,1,1,1,1,1,1,1,1,1,1,1,1,1,1,1,1,1,1,1,1,1,1,1,1,1,1,1,1,1,1,1,1,1,1,1,1,1,1,1,1,1,1,1,1,1,1,1,1,1,1,1,1,1,1,1,1,1,1,1,1,1,1,1,1,1,1,1,1,1,1,1,1,1,1,1,1,1,1,1,1,1,1,1,1,1,1,1,1,1,1,1,1,1,1,1,1,1,1,1,1,1,1,1,1,1,1,1,1,1,1,1,1,1,1,1,1,1,1,1,1,1,1,1,1,1,1,1,1,1,1,1,1,1,1,1,1,1,1,1,1,1,1,1,1,1,1,1,1,1,1,1,1,1,1,1,1,1,1,1,1,1,1,1,1,1,1,1,1,1,1,1,1,1,1,1,1,1,1,1,1,1,1,1,1,1,1,1,1,1,1,1,1,1,1,1,1,1,1,1,1,1,1,1,1,1,1,1,1,1,1,1,1,1,1,1,1,1,1,1,1,1,1,1,1,1,1,1,1,1,1,1,1,1,1,1,1,1,1,1,1,1,1,1,1,1,1,1,1,1,1,1,1,1,1,1,1,1,1,1,1,1,1,1,1,1,1,1,1,1,1,1,1,1,1,1,1,1,1,1,1,1,1,1,1,1,1,1,1,1,1,1,1,1,1,1,1,1,1,1,1,1,1,1,1,1,1,1,1,1,1,1,1,1,1,1,1,1,1,1,1,1,1,1,1,1,1,1,1,1,1,1,1,1,1,1,1,1,1,1,1,1,1,1,1,1,1,1,1,1,1,1,1,1,1,1,1,1,1,1,1,1,1,1,1,1,1,1,1,1,1,1,1,1,1,1,1,1,1,1,1,1,1,1,1,1,1,1,1,1,1,1,1,1,1,1,1,1,1,1,1,1,1,1,1,1,1,1,1,1,1,1,1,1,1,1,1,1,1,1,1,1,1,1,1,1,1,1,1,1,1,1,1,1,1,1,1,1,1,1,1,1,1,1,1,1,1,1,1,1,1,1,1,1,1,1,1,1,1,1,1,1,1,1,1,1,1,1,1,1,1,1,1,1,1,1,1,1,1,1,1,1,1,1,1,1,1,1,1,1,1,1,1,1,1,1,1,1,1,1,1,1,1,1,1,1,1,1,1,1,1,1,1,1,1,1,1,1,1,1,1,1,1,1,1,1,1,1,1,1,1,1,1,1,1,1,1,1,1,1,1,1,1,1,1,1,1,1,1,1,1,1,1,1,1,1,1,1,1,1,1,1,1,1,1,1,1,1,1,1,1,1,1,1,1,1,1,1,1,1,1,1,1,1,1,1,1,1,1,1,1,1,1,1,1,1,1,1,1,1,1,1,1,1,1,1,1,1,1,1,1,1,1,1,1,1,1,1,1,1,1,1,1,1,1,1,1,1,1,1,1,1,1,1,1,1,1,1,1,1,1,1,1,1,1,1,1,1,1,1,1,1,1,1,1,1,1,1,1,1,1,1,1,1,1,1,1,1,1,1,1,1,1,1,1,1,1,1,1,1,1,1,1,1,1,1,1,1,1,1,1,1,1,1,1,1,1,1,1,1,1,1,1,1,1,1,1,1,1,1,1,1,1,1,1,1,1,1,1,1,1,1,1,1,1,1,1,1,1,1,1,1,1,1,1,1,1,1,1,1,1,1,1,1,1,1,1,1,1,1,1,1,1,1,1,1,1,1,1,1,1,1,1,1,1,1,1,1,1,1,1,1,1,1,1,1,1,1,1,1,1,1,1,1,1,1,1,1,1,1,1,1,1,1,1,1,1,1,1,1,1,1,1,1,1,1,1,1,1,1,1,1,1,1,1,1,1,1,1,1,1,1,1,1,1,1,1,1,1,1,1,1,1,1,1,1,1,1,1,1,1,1,1,1,1,1,1,1,1,1,1,1,1,1,1,1,1,1,1,1,1,1,1,1,1,1,1,1,1,1,1,1,1,1,1,1,1,1,1,1,1,1,1,1,1,1,1,1,1,1,1,1,1,1,1,1,1,1,1,1,1,1,1,1,1,1,1,1,1,1,1,1,1,1,1,1,1,1,1,1,1,1,1,1,1,1,1,1,1,1,1,1,1,1,1,1,1,1,1,1,1,1,1,1,1,1,1,1,1,1,1,1,1,1,1,1,1,1,1,1,1,1,1,1,1,1,1,1,1,1,1,1,1,1,1,1,1,1,1,1,1,1,1,1,1,1,1,1,1,1,1,1,1,1,1,1,1,1,1,1,1,1,1,1,1,1,1,1,1,1,1,1,1,1,1,1,1,1,1,1,1,1,1,1,1,1,1,1,1,1,1,1,1,1,1,1,1,1,1,1,1,1,1,1,1,1,1,1,1,1,1,1,1,1,1,1,1,1,1,1,1,1,1,1,1,1,1,1,1,1,1,1,1,1,1,1,1,1,1,1,1,1,1,1,1,1,1,1,1,1,1,1,1,1,1,1,1,1,1,1,1,1,1,1,1,1,1,1,1,1,1,1,1,1,1,1,1,1,1,1,1,1,1,1,1,1,1,1,1,1,1,1,1,1,1,1,1,1,1,1,1,1,1,1,1,1,1,1,1,1,1,1,1,1,1,1,1,1,1,1,1,1,1,1,1,1,1,1,1,1,1,1,1,1,1,1,1,1,1,1,1,1,1,1,1,1,1,1,1,1,1,1,1,1,1,1,1,1,1,1,1,1,1,1,1,1,1,1,1,1,1,1,1,1,1,1,1,1,1,1,1,1,1,1,1,1,1,1,1,1,1,1,1,1,1,1,1,1,1,1,1,1,1,1,1,1,1,1,1,1,1,1,1,1,1,1,1,1,1,1,1,1,1,1,1,1,1,1,1,1,1,1,1,1,1,1,1,1,1,1,1,1,1,1,1,1,1,1,1,1,1,1,1,1,1,1,1,1,1,1,1,1,1,1,1,1,1,1,1,1,1,1,1,1,1,1,1,1,1,1,1,1,1,1,1,1,1,1,1,1,1,1,1,1,1,1,1,1,1,1,1,1,1,1,1,1,1,1,1,1,1,1,1,1,1,1,1,1,1,1,1,1,1,1,1,1,1,1,1,1,1,1,1,1,1,1,1,1,1,1,1,1,1,1,1,1,1,1,1,1,1,1,1,1,1,1,1,1,1,1,1,1,1,1,1,1,1,1,1,1,1,1,1,1,1,1,1,1,1,1,1,1,1,1,1,1,1,1,1,1,1,1,1,1,1,1,1,1,1,1,1,1,1,1,1,1,1,1,1,1,1,1,1,1,1,1,1,1,1,1,1,1,1,1,1,1,1,1,1,1,1,1,1,1,1,1,1,1,1,1,1,1,1,1,1,1,1,1,1,1,1,1,1,1,1,1,1,1,1,1,1,1,1,1,1,1,1,1,1,1,1,1,1,1,1,1,1,1,1,1,1,1,1,1,1,1,1,1,1,1,1,1,1,1,1,1,1,1,1,1,1,1,1,1,1,1,1,1,1,1,1,1,1,1,1,1,1,1,1,1,1,1,1,1,1,1,1,1,1,1,1,1,1,1,1,1,1,1,1,1,1,1,1,1,1,1,1,1,1,1,1,1,1,1,1,1,1,1,1,1,1,1,1,1,1,1,1,1,1,1,1,1,1,1,1,1,1,1,1,1,1,1,1,1,1,1,1,1,1,1,1,1,1,1,1,1,1,1,1,1,1,1,1,1,1,1,1,1,1,1,1,1,1,1,1,1,1,1,1,1,1,1,1,1,1,1,1,1,1,1,1,1,1,1,1,1,1,1,1,1,1,1,1,1,1,1,1,1,1,1,1,1,1,1,1,1,1,1,1,1,1,1,1,1,1,1,1,1,1,1,1,1,1,1,1,1,1,1,1,1,1,1,1,1,1,1,1,1,1,1,1,1,1,1,1,1,1,1,1,1,1,1,1,1,1,1,1,1,1,1,1,1,1,1,1,1,1,1,1,1,1,1,1,1,1,1,1,1,1,1,1,1,1,1,1,1,1,1,1,1,1,1,1,1,1,1,1,1,1,1,1,1,1,1,1,1,1,1,1,1,1,1,1,1,1,1,1,1,1,1,1,1,1,1,1,1,1,1,1,1,1,1,1,1,1,1,1,1,1,1,1,1,1,1,1,1,1,1,1,1,1,1,1,1,1,1,1,1,1,1,1,1,1,1,1,1,1,1,1,1,1,1,1,1,1,1,1,1,1,1,1,1,1,1,1,1,1,1,1,1,1,1,1,1,1,1,1,1,1,1,1,1,1,1,1,1,1,1,1,1,1,1,1,1,1,1,1,1,1,1,1,1,1,1,1,1,1,1,1,1,1,1,1,1,1,1,1,1,1,1,1,1,1,1,1,1,1,1,1,1,1,1,1,1,1,1,1,1,1,1,1,1,1,1,1,1,1,1,1,1,1,1,1,1,1,1,1,1,1,1,1,1,1,1,1,1,1,1,1,1,1,1,1,1,1,1,1,1,1,1,1,1,1,1,1,1,1,1,1,1,1,1,1,1,1,1,1,1,1,1,1,1,1,1,1,1,1,1,1,1,1,1,1,1,1,1,1,1,1,1,1,1,1,1,1,1,1,1,1,1,1,1,1,1,1,1,1,1,1,1,1,1,1,1,1,1,1,1,1,1,1,1,1,1,1,1,1,1,1,1,1,1,1,1,1,1,1,1,1,1,1,1,1,1,1,1,1,1,1,1,1,1,1,1,1,1,1,1,1,1,1,1,1,1,1,1,1,1,1,1,1,1,1,1,1,1,1,1,1,1,1,1,1,1,1,1,1,1,1,1,1,1,1,1,1,1,1,1,1,1,1,1,1,1,1,1,1,1,1,1,1,1,1,1,1,1,1,1,1,1,1,1,1,1,1,1,1,1,1,1,1,1,1,1,1,1,1,1,1,1,1,1,1,1,1,1,1,1,1,1,1,1,1,1,1,1,1,1,1,1,1,1,1,1,1,1,1,1,1,1,1,1,1,1,1,1,1,1,1,1,1,1,1,1,1,1,1,1,1,1,1,1,1,1,1,1,1,1,1,1,1,1,1,1,1,1,1,1,1,1,1,1,1,1,1,1,1,1,1,1,1,1,1,1,1,1,1,1,1,1,1,1,1,1,1,1,1,1,1,1,1,1,1,1,1,1,1,1,1,1,1,1,1,1,1,1,1,1,1,1,1,1,1,1,1,1,1,1,1,1,1,1,1,1,1,1,1,1,1,1,1,1,1,1,1,1,1,1,1,1,1,1,1,1,1,1,1,1,1,1,1,1,1,1,1,1,1,1,1,1,1,1,1,1,1,1,1,1,1,1,1,1,1,1,1,1,1,1,1,1,1,1,1,1,1,1,1,1,1,1,1,1,1,1,1,1,1,1,1,1,1,1,1,1,1,1,1,1,1,1,1,1,1,1,1,1,1,1,1,1,1,1,1,1,1,1,1,1,1,1,1,1,1,1,1,1,1,1,1,1,1,1,1,1,1,1,1,1,1,1,1,1,1,1,1,1,1,1,1,1,1,1,1,1,1,1,1,1,1,1,1,1,1,1,1,1,1,1,1,1,1,1,1,1,1,1,1,1,1,1,1,1,1,1,1,1,1,1,1,1,1,1,1,1,1,1,1,1,1,1,1,1,1,1,1,1,1,1,1,1,1,1,1,1,1,1,1,1,1,1,1,1,1,1,1,1,1,1,1,1,1,1,1,1,1,1,1,1,1,1,1,1,1,1,1,1,1,1,1,1,1,1,1,1,1,1,1,1,1,1,1,1,1,1,1,1,1,1,1,1,1,1,1,1,1,1,1,1,1,1,1,1,1,1,1,1,1,1,1,1,1,1,1,1,1,1,1,1,1,1,1,1,1,1,1,1,1,1,1,1,1,1,1,1,1,1,1,1,1,1,1,1,1,1,1,1,1,1,1,1,1,1,1,1,1,1,1,1,1,1,1,1,1,1,1,1,1,1,1,1,1,1,1,1,1,1,1,1,1,1,1,1,1,1,1,1,1,1,1,1,1,1,1,1,1,1,1,1,1,1,1,1,1,1,1,1,1,1,1,1,1,1,1,1,1,1,1,1,1,1,1,1,1,1,1,1,1,1,1,1,1,1,1,1,1,1,1,1,1,1,1,1,1,1,1,1,1,1,1,1,1,1,1,1,1,1,1,1,1,1,1,1,1,1,1,1,1,1,1,1,1,1,1,1,1,1,1,1,1,1,1,1,1,1,1,1,1,1,1,1,1,1,1,1,1,1,1,1,1,1,1,1,1,1,1,1,1,1,1,1,1,1,1,1,1,1,1,1,1,1,1,1,1,1,1,1,1,1,1,1,1,1,1,1,1,1,1,1,1,1,1,1,1,1,1,1,1,1,1,1,1,1,1,1,1,1,1,1,1,1,1,1,1,1,1,1,1,1,1,1,1,1,1,1,1,1,1,1,1,1,1,1,1,1,1,1,1,1,1,1,1,1,1,1,1,1,1,1,1,1,1,1,1,1,1,1,1,1,1,1,1,1,1,1,1,1,1,1,1,1,1,1,1,1,1,1,1,1,1,1,1,1,1,1,1,1,1,1,1,1,1,1,1,1,1,1,1,1,1,1,1,1,1,1,1,1,1,1,1,1,1,1,1,1,1,1,1,1,1,1,1,1,1,1,1,1,1,1,1,1,1,1,1,1,1,1,1,1,1,1,1,1,1,1,1,1,1,1,1,1,1,1,1,1,1,1,1,1,1,1,1,1,1,1,1,1,1,1,1,1,1,1,1,1,1,1,1,1,1,1,1,1,1,1,1,1,1,1,1,1,1,1,1,1,1,1,1,1,1,1,1,1,1,1,1,1,1,1,1,1,1,1,1,1,1,1,1,1,1,1,1,1,1,1,1,1,1,1,1,1,1,1,1,1,1,1,1,1,1,1,1,1,1,1,1,1,1,1,1,1,1,1,1,1,1,1,1,1,1,1,1,1,1,1,1,1,1,1,1,1,1,1,1,1,1,1,1,1,1,1,1,1,1,1,1,1,1,1,1,1,1,1,1,1,1,1,1,1,1,1,1,1,1,1,1,1,1,1,1,1,1,1,1,1,1,1,1,1,1,1,1,1,1,1,1,1,1,1,1,1,1,1,1,1,1,1,1,1,1,1,1,1,1,1,1,1,1,1,1,1,1,1,1,1,1,1,1,1,1,1,1,1,1,1,1,1,1,1,1,1,1,1,1,1,1,1,1,1,1,1,1,1,1,1,1,1,1,1,1,1,1,1,1,1,1,1,1,1,1,1,1,1,1,1,1,1,1,1,1,1,1,1,1,1,1,1,1,1,1,1,1,1,1,1,1,1,1,1,1,1,1,1,1,1,1,1,1,1,1,1,1,1,1,1,1,1,1,1,1,1,1,1,1,1,1,1,1,1,1,1,1,1,1,1,1,1,1,1,1,1,1,1,1,1,1,1,1,1,1,1,1,1,1,1,1,1,1,1,1,1,1,1,1,1,1,1,1,1,1,1,1,1,1,1,1,1,1,1,1,1,1,1,1,1,1,1,1,1,1,1,1,1,1,1,1,1,1,1,1,1,1,1,1,1,1,1,1,1,1,1,1,1,1,1,1,1,1,1,1,1,1,1,1,1,1,1,1,1,1,1,1,1,1,1,1,1,1,1,1,1,1,1,1,1,1,1,1,1,1,1,1,1,1,1,1,1,1,1,1,1,1,1,1,1,1,1,1,1,1,1,1,1,1,1,1,1,1,1,1,1,1,1,1,1,1,1,1,1,1,1,1,1,1,1,1,1,1,1,1,1,1,1,1,1,1,1,1,1,1,1,1,1,1,1,1,1,1,1,1,1,1,1,1,1,1,1,1,1,1,1,1,1,1,1,1,1,1,1,1,1,1,1,1,1,1,1,1,1,1,1,1,1,1,1,1,1,1,1,1,1,1,1,1,1,1,1,1,1,1,1,1,1,1,1,1,1,1,1,1,1,1,1,1,1,1,1,1,1,1,1,1,1,1,1,1,1,1,1,1,1,1,1,1,1,1,1,1,1,1,1,1,1,1,1,1,1,1,1,1,1,1,1,1,1,1,1,1,1,1,1,1,1,1,1,1,1,1,1,1,1,1,1,1,1,1,1,1,1,1,1,1,1,1,1,1,1,1,1,1,1,1,1,1,1,1,1,1,1,1,1,1,1,1,1,1,1,1,1,1,1,1,1,1,1,1,1,1,1,1,1,1,1,1,1,1,1,1,1,1,1,1,1,1,1,1,1,1,1,1,1,1,1,1,1,1,1,1,1,1,1,1,1,1,1,1,1,1,1,1,1,1,1,1,1,1,1,1,1,1,1,1,1,1,1,1,1,1,1,1,1,1,1,1,1,1,1,1,1,1,1,1,1,1,1,1,1,1,1,1,1,1,1,1,1,1,1,1,1,1,1,1,1,1,1,1,1,1,1,1,1,1,1,1,1,1,1,1,1,1,1,1,1,1,1,1,1,1,1,1,1,1,1,1,1,1,1,1,1,1,1,1,1,1,1,1,1,1,1,1,1,1,1,1,1,1,1,1,1,1,1,1,1,1,1,1,1,1,1,1,1,1,1,1,1,1,1,1,1,1,1,1,1,1,1,1,1,1,1,1,1,1,1,1,1,1,1,1,1,1,1,1,1,1,1,1,1,1,1,1,1,1,1,1,1,1,1,1,1,1,1,1,1,1,1,1,1,1,1,1,1,1,1,1,1,1,1,1,1,1,1,1,1,1,1,1,1,1,1,1,1,1,1,1,1,1,1,1,1,1,1,1,1,1,1,1,1,1,1,1,1,1,1,1,1,1,1,1,1,1,1,1,1,1,1,1,1,1,1,1,1,1,1,1,1,1,1,1,1,1,1,1,1,1,1,1,1,1,1,1,1,1,1,1,1,1,1,1,1,1,1,1,1,1,1,1,1,1,1,1,1,1,1,1,1,1,1,1,1,1,1,1,1,1,1,1,1,1,1,1,1,1,1,1,1,1,1,1,1,1,1,1,1,1,1,1,1,1,1,1,1,1,1,1,1,1,1,1,1,1,1,1,1,1,1,1,1,1,1,1,1,1,1,1,1,1,1,1,1,1,1,1,1,1,1,1,1,1,0]\n",
    "jump(nums)"
   ]
  },
  {
   "cell_type": "code",
   "execution_count": 90,
   "id": "5e0869ea",
   "metadata": {},
   "outputs": [
    {
     "name": "stdout",
     "output_type": "stream",
     "text": [
      "CPU times: user 2.83 ms, sys: 582 µs, total: 3.41 ms\n",
      "Wall time: 2.89 ms\n"
     ]
    },
    {
     "data": {
      "text/plain": [
       "11"
      ]
     },
     "execution_count": 90,
     "metadata": {},
     "output_type": "execute_result"
    }
   ],
   "source": [
    "nums = [758,938,802,664,189,622,571,88,719,520,970,640,243,326,82,359,589,602,399,316,794,774,928,395,362,962,135,230,985,844,435,220,111,565,472,472,171,973,17,931,850,116,499,296,891,750,635,493,1,487,904,588,769,64,412,979,671,961,756,280,140,535,485,130,334,825,847,199,417,370,196,950,153,287,951,818,242,411,307,726,11,14,756,303,68,358,315,958,548,384,960,867,530,125,292,629,985,601,183,760,377,718,574,970,933,852,929,565,370,201,13,351,854,536,646,90,8,659,39,756,2,174,479,98,444,823,682,786,292,916,705,881,597,113,189,820,812,954,72,688,472,182,962,105,355,327,125,165,765,399,911,287,445,141,467,412,841,665,660,868,746,127,355,346,142,870,550,139,8,449,139,594,601,437,374,65,512,494,550,343,204,240,763,540,221,486,896,149,829,431,710,341,434,836,213,628,286,958,774,278,551,700,326,313,141,286,511,3,925,644,595,169,447,620,421,208,709,508,769,135,900,856,267,242,538,665,662,590,907,876,228,105,58,984,300,456,13,693,791,836,300,695,933,30,980,243,424,982,448,19,130,739,626,633,164,998,887,707,322,933,852,703,269,542,348,134,246,921,166,624,57,858,31,587,785,378,322,644,646,900,396,114,555,272,909,605,10,905,741,425,789,926,627,334,674,363,501,416,571,593,181,930,624,474,507,716,995,124,304,893,566,248,591,490,10,840,498,210,952,683,250,444,703,120,938,213,44,74,252,731,152,892,180,445,13,487,477,915,439,304,323,212,730,794,745,604,222,801,443,993,142,146,209,612,149,888,646,540,349,5,92,598,929,794,35,82,435,819,591,589,330,748,993,672,685,191,391,33,961,738,815,309,428,415,604,387,292,948,699,674,553,959,620,226,956,959,8,180,938,743,271,742,690,902,421,819,990,955,668,444,634,214,658,33,198,897,782,28,71,116,292,589,73,406,616,168,496,517,253,491,987,23,652,202,701,4,863,982,899,839,542,143,545,858,953,324,898,842,992,776,202,580,794,585,734,542,123,20,923,261,644,63,30,509,26,370,56,119,206,482,239,237,547,344,15,69,323,138,741,555,494,301,2,685,924,953,679,751,357,962,227,726,917,67,988,221,858,36,759,457,921,57,77,383,37,366,700,423,579,113,397,362,769,94,801,57,41,351,276,166,512,363,370,996,718,458,326,744,701,90,279,538,29,90,24,536,8,216,180,967,643,959,829,435,901,620,912,206,302,205,381,760,415,947,705,198,443,786,232,217,26,873,109,98,735,551,746,360,788,821,139,169,246,730,383,822,128,531,201,398,801,890,516,618,24,918,513,185,590,369,15,663,961,618,430,874,938,159,757,73,27,461,701,501,332,830,446,189,117,185,327,915,127,609,968,73,684,110,912,628,975,405,525,607,920,59,194,462,735,613,911,520,17,292,710,755,794,108,337,604,127,908,51,242,314,308,171,792,557,242,493,719,331,301,648,524,581,713,466,459,253,567,717,517,136,494,613,556,486,756,329,142,125,987,635,993,452,322,554,498,833,492,579,687,307,50,147,727,314,274,379,244,53,800,98,297,193,748,80,293,657,149,145,586,255,934,577,298,778,38,857,641,346,93,413,309,904,864,300,702,928,262,704,676,688,17,765,753,332,869,560,45,730,234,433,720,77,683,208,837,955,909,207,160,604,562,667,925,768,383,593,717,672,38,519,350,786,977,95,194,148,937,36,894,384,402,234,275,604,96,104,582,175,105,68,63,353,772,253,74,769,866,415,672,203,701,444,790,609,499,37,958,224,967,106,939,199,949,821,170,706,83,406,13,628,843,833,1000,829,678,10,71,948,869,274,856,584,957,142,340,710,249,654,383,314,302,846,838,423,856,806,536,46,101,679,688,130,475,924,613,357,270,857,48,386,931,364,985,930,457,224,250,605,458,506,954,360,448,368,371,339,332,951,743,130,520,173,358,773,982,963,507,705,312,474,333,281,264,960,87,928,961,221,916,602,830,722,878,576,453,530,714,75,186,942,360,224,380,594,809,830,231,916,663,626,123,768,348,817,307,845,695,455,487,206,924,640,896,244,485,681,252,672,624,981,85,372,275,143,290,895,335,535,968,660,839,112,759,856,913,639,434,197,32,788,780,140,270,386,316,606,282,886,610,307,436,441,216,683,450,473,992,709,712,307,570,809,411,556,532,146,695,974,901,175,602,767,141,383,465,616,574,65,595,841,623,163,777,637,274,439,472,908,782,772,713,400,305,722,985,820,644,384,837,44,596,433,457,320,1,619,993,285,298,101,248,632,389,793,85,578,384,426,177,517,798,33,651,399,236,525,216,102,381,632,245,560,145,208,61,493,372,106,628,684,791,684,326,210,959,350,499,441,352,405,740,533,948,717,468,992,125,113,701,944,794,999,302,657,703,397,579,634,449,699,530,784,888,760,851,278,857,700,525,137,909,574,28,5,239,17,556,392,390,882,519,666,374,247,723,522,741,730,131,686,398,768,7,127,651,418,619,189,889,911,546,264,985,568,461,606,165,985,2,605,741,877,455,334,761,289,894,472,149,598,498,718,632,563,288,115,221,321,52,669,531,210,692,879,490,814,551,949,80,7,367,306,507,871,462,149,502,838,263,778,620,129,612,690,563,33,428,908,311,461,641,204,629,2,131,684,874,812,902,406,908,390,603,652,972,470,945,610,275,220,962,446,563,472,133,53,944,300,420,48,405,605,694,585,790,196,701,641,40,521,64,848,998,779,924,244,474,30,10,453,776,130,250,662,958,28,845,794,813,427,430,490,132,454,75,675,143,263,444,533,584,149,966,626,17,818,86,1,656,127,318,57,993,147,22,677,444,726,622,974,85,199,442,746,476,619,552,124,716,390,166,403,881,141,963,505,705,149,882,792,323,109,683,217,380,300,331,264,634,767,12,392,100,387,587,207,618,154,10,897,977,100,98,240,32,980,950,804,31,948,536,911,103,883,239,283,794,921,903,309,109,301,498,924,49,677,994,575,916,718,972,6,51,54,27,31,578,105,892,981,259,426,195,929,530,216,356,674,362,117,784,185,319,790,218,480,468,534,237,555,678,134,877,850,699,41,659,439,442,655,872,467,748,836,650,719,185,593,177,597,9,79,871,13,186,206,917,580,124,994,384,78,125,13,111,502,575,812,298,423,268,55,427,203,657,639,762,870,828,592,865,355,457,370,43,73,629,801,391,177,739,162,914,177,526,647,317,317,921,256,622,283,446,564,40,984,577,753,846,940,213,383,241,216,98,259,95,861,839,994,858,691,224,469,87,148,755,681,474,564,355,254,458,633,643,193,683,827,30,551,705,767,25,121,566,514,772,887,682,913,429,18,60,468,361,136,244,210,860,922,64,660,129,218,21,994,338,93,404,686,58,892,707,818,340,856,526,924,859,479,83,648,959,761,188,315,555,841,165,430,554,698,186,134,140,539,646,719,215,285,998,200,642,474,77,968,991,525,76,735,422,388,810,40,274,101,749,329,318,678,929,280,356,377,594,643,378,905,414,263,343,544,446,340,496,632,405,897,683,201,578,756,429,734,599,91,824,711,155,395,456,104,3,323,40,784,820,176,464,305,218,987,50,153,100,100,46,519,466,671,264,711,784,56,732,551,271,779,193,818,404,872,695,171,200,431,673,517,383,247,730,597,577,834,506,731,650,365,31,958,934,76,297,562,950,781,432,75,53,408,732,372,856,172,295,909,977,791,291,87,73,604,111,322,760,251,483,326,268,740,259,698,397,437,646,157,212,85,694,32,358,390,485,570,658,415,657,746,373,326,481,261,987,506,556,881,143,615,597,729,215,867,564,167,158,398,51,413,256,240,150,669,194,96,284,725,338,390,490,255,211,889,971,311,164,425,81,394,397,141,522,689,811,75,139,716,950,189,954,996,204,761,682,711,446,646,609,599,665,313,794,304,64,278,415,803,713,141,621,80,647,537,687,15,584,744,675,211,473,49,24,875,938,712,644,438,622,268,311,789,13,174,895,943,938,290,431,549,877,999,46,125,128,135,51,994,439,617,686,824,490,414,212,679,259,741,350,36,29,503,472,535,202,558,798,417,695,483,902,507,659,609,454,964,432,903,870,921,510,964,811,687,802,968,960,337,169,802,473,992,561,371,309,673,752,653,500,641,199,890,368,352,349,185,245,416,636,544,928,852,664,197,656,565,56,111,288,276,45,646,986,834,561,3,800,104,630,736,777,381,310,125,402,17,608,224,708,590,992,590,481,634,125,855,901,742,76,87,700,612,945,933,22,618,925,788,281,989,691,603,800,767,972,245,9,608,69,887,735,119,920,159,168,247,572,852,165,699,21,372,898,123,950,137,275,57,150,357,845,582,647,323,649,425,187,169,952,846,346,579,825,431,711,407,992,200,265,232,519,774,64,521,834,972,387,484,310,934,656,105,26,303,866,554,726,894,887,227,693,670,910,997,202,98,334,535,408,979,587,420,593,83,17,95,168,876,526,372,125,316,884,223,407,768,249,121,548,19,171,742,850,596,186,714,201,145,610,71,427,595,467,725,940,375,956,128,845,655,704,119,794,656,753,271,932,856,253,927,230,763,1000,30,776,721,361,410,113,694,269,816,341,156,516,302,433,649,969,972,736,147,134,758,994,967,510,844,218,437,70,792,998,254,660,689,14,645,149,757,601,237,400,47,94,562,698,335,394,804,61,505,437,993,786,218,666,221,74,567,287,194,548,635,674,167,80,712,657,408,786,694,320,467,203,355,605,915,510,220,438,252,347,390,76,418,40,540,107,823,670,875,455,532,874,862,385,648,971,29,1000,808,306,82,872,272,700,924,188,754,775,273,415,569,289,242,177,136,884,898,961,779,570,457,344,687,159,107,752,437,174,103,316,787,86,280,901,209,294,13,824,817,956,254,104,931,869,568,678,882,765,410,165,583,965,107,570,739,765,914,91,354,636,975,736,289,350,958,784,885,941,800,490,789,535,108,77,974,437,589,469,4,688,571,139,574,323,932,895,812,323,600,598,30,31,753,122,814,915,513,825,843,686,960,320,278,832,600,128,863,217,21,386,435,903,390,685,315,233,775,42,140,107,329,783,522,247,388,478,541,608,590,775,998,610,401,685,943,409,120,244,73,657,473,65,484,331,679,934,189,277,466,847,855,603,601,84,758,675,93,732,252,165,882,434,92,760,155,274,146,789,958,146,410,403,306,852,77,182,643,955,904,221,771,25,857,30,69,683,460,281,763,580,409,710,905,309,414,654,472,934,874,201,359,267,244,275,259,309,905,631,119,52,862,318,213,682,638,358,454,654,694,414,908,274,480,374,771,448,812,333,369,120,104,986,507,782,584,895,666,748,456,482,973,474,413,73,667,688,518,494,722,382,308,697,93,1000,833,282,255,501,202,902,292,410,155,606,18,811,516,571,348,515,267,36,505,791,342,873,378,812,868,810,900,107,293,463,817,740,187,775,531,710,854,599,911,512,88,560,106,898,417,921,271,545,941,190,445,375,320,638,224,380,903,423,84,404,282,670,829,495,69,965,365,833,563,355,490,214,656,784,281,611,861,276,826,95,437,581,156,847,856,661,369,996,285,49,127,256,272,694,269,520,804,837,291,859,651,199,148,268,153,914,547,998,227,864,613,720,551,379,334,563,877,263,844,902,690,358,202,914,938,822,363,9,426,20,653,217,308,698,511,494,567,922,453,735,53,923,735,797,783,940,348,803,267,776,413,344,16,402,971,912,878,231,469,906,344,276,60,100,881,713,130,861,908,161,990,151,136,712,254,485,603,91,882,381,545,357,151,628,890,703,785,628,625,754,991,199,840,647,5,559,69,139,184,681,864,278,662,34,39,995,279,519,581,20,103,503,947,503,434,672,283,324,719,362,986,894,430,154,822,924,609,146,144,399,540,823,221,428,89,62,673,979,182,995,593,735,584,212,210,289,343,240,788,308,534,860,775,589,267,760,745,27,755,368,607,615,740,983,13,61,579,868,88,16,540,228,147,841,191,143,362,671,22,726,7,298,348,873,156,547,895,613,130,482,780,918,569,550,90,850,919,3,708,372,969,989,721,293,651,361,587,929,522,420,664,201,587,508,107,462,783,947,946,787,538,571,397,525,563,496,908,494,84,362,402,427,819,896,749,557,917,503,979,218,49,615,997,305,643,185,898,73,114,897,428,719,691,56,785,480,631,958,581,491,844,25,11,956,189,886,37,661,626,947,596,796,62,367,706,681,514,212,359,766,542,459,328,160,320,957,252,292,862,783,902,828,813,699,656,306,366,867,568,499,133,945,92,879,146,423,891,109,700,75,592,434,9,286,946,88,486,625,360,228,889,140,837,978,309,684,457,916,291,747,338,11,290,446,789,245,518,301,752,177,197,269,372,621,199,96,365,289,677,720,67,836,805,750,391,412,967,867,691,342,680,980,189,881,583,521,643,188,425,96,734,413,910,637,373,105,347,311,506,902,792,440,664,828,393,831,487,440,384,453,756,32,321,912,574,473,339,667,789,448,552,343,329,899,472,749,758,676,294,872,690,756,493,638,10,998,861,299,951,360,415,696,751,59,412,96,549,797,419,28,266,362,446,522,929,931,740,40,817,404,780,997,877,74,465,635,583,667,673,215,800,656,594,552,798,895,267,104,511,850,8,65,598,562,999,823,588,514,862,335,700,34,1000,962,38,597,451,823,424,345,747,514,354,644,636,192,828,933,154,227,702,320,157,32,918,264,714,367,2,687,623,182,239,534,653,654,476,514,279,888,197,519,355,824,988,308,511,540,758,91,613,36,29,554,336,515,568,933,251,689,393,540,725,96,258,605,790,608,722,84,133,370,910,34,517,554,353,256,870,530,216,704,941,489,337,721,331,301,541,504,884,556,193,980,571,577,934,897,949,856,723,372,988,122,681,208,61,708,851,777,620,639,204,906,28,235,755,61,126,393,686,68,820,534,999,669,476,361,719,303,254,651,57,241,536,967,543,536,737,12,707,266,358,353,343,492,674,16,47,537,31,151,765,525,938,343,687,576,37,896,919,552,712,579,4,788,984,246,354,102,609,390,418,13,440,433,101,993,332,191,447,219,978,571,88,554,594,317,498,545,611,7,160,474,849,932,284,705,254,240,663,1000,128,3,907,783,812,87,161,729,661,375,24,501,133,388,179,869,857,715,424,372,687,231,234,518,223,142,474,883,776,886,241,969,510,285,184,161,223,558,418,276,309,571,597,630,182,140,763,997,730,359,622,678,781,79,577,163,599,160,930,938,352,511,665,792,517,162,850,908,807,700,24,522,660,9,670,573,32,526,279,115,560,53,639,881,957,156,494,842,442,628,430,172,226,509,226,243,153,861,733,839,797,625,691,86,420,321,102,217,195,645,237,313,758,217,371,903,164,647,57,520,593,550,149,17,702,248,476,196,463,467,963,820,973,270,58,780,240,62,224,841,562,359,637,306,745,822,384,841,224,308,544,430,937,827,830,29,472,807,587,192,874,349,291,680,840,384,314,107,526,286,253,121,638,159,110,883,935,84,552,471,94,926,730,474,229,83,546,534,878,120,922,275,621,320,820,542,31,730,447,574,788,530,70,625,799,789,967,447,431,763,65,871,393,295,700,847,50,956,91,705,835,976,899,478,989,12,50,575,286,117,244,738,339,22,668,273,893,24,572,724,654,817,274,249,421,211,206,854,489,314,770,531,642,353,276,10,510,180,228,877,710,26,913,361,739,733,484,956,428,998,750,15,526,623,580,687,495,304,756,355,922,187,971,470,241,761,226,746,942,400,674,762,468,839,842,231,322,897,982,644,783,719,6,21,628,823,708,387,218,253,309,45,578,377,254,488,305,867,831,531,311,152,501,308,257,305,352,447,821,377,400,684,219,415,506,955,924,897,915,277,472,362,92,977,920,927,597,617,116,824,143,43,347,692,103,918,86,73,751,527,883,983,833,783,974,736,569,982,376,813,464,466,655,728,746,543,650,708,526,633,189,647,466,953,822,122,695,505,175,109,924,46,610,443,348,699,13,386,340,525,471,582,423,298,552,274,463,382,970,663,742,790,177,11,547,917,538,984,598,845,935,85,685,374,870,81,153,454,716,11,41,142,647,339,775,429,168,866,364,99,730,564,39,385,618,411,216,664,11,271,65,282,439,913,937,941,148,580,417,941,671,355,385,301,271,625,683,965,322,578,756,111,168,676,799,112,595,132,148,964,647,885,577,503,720,512,907,918,412,294,19,822,583,466,522,959,332,676,789,776,994,415,143,510,735,940,958,917,113,356,33,408,379,80,772,618,835,543,840,684,467,388,608,569,124,33,247,13,322,387,930,277,724,434,999,134,68,937,441,794,963,674,416,311,882,664,102,949,647,911,288,751,609,581,149,253,926,358,930,583,42,575,279,544,878,782,756,188,605,747,227,783,909,209,97,313,163,858,348,463,143,165,52,860,831,538,605,878,272,385,738,678,895,946,28,518,131,67,18,228,107,680,638,922,802,181,536,8,96,433,659,364,682,912,428,548,641,371,884,71,691,24,585,505,929,321,217,534,855,206,903,1000,303,423,935,645,424,836,311,16,328,853,714,608,684,922,494,723,552,86,135,972,711,160,209,437,851,558,234,593,670,498,942,925,933,140,835,86,910,787,478,710,478,784,93,448,347,930,300,952,987,840,804,570,81,425,33,838,369,88,641,246,614,936,806,944,261,939,79,606,434,706,658,126,597,975,516,955,466,329,491,497,577,631,140,137,137,697,820,490,384,485,936,938,138,328,53,278,209,160,880,225,254,863,444,919,118,772,758,126,931,726,506,376,716,166,280,583,855,617,330,650,716,201,533,171,507,14,362,48,98,584,65,875,975,284,955,164,775,37,420,381,950,97,420,804,965,34,600,193,875,739,392,615,123,524,936,578,164,688,935,788,459,445,98,749,51,703,259,661,787,707,71,333,392,557,230,23,583,603,643,103,737,212,824,849,714,90,734,643,410,895,291,13,824,773,318,781,514,578,705,230,172,758,422,712,488,799,920,325,500,192,821,757,285,130,505,689,651,560,668,710,127,815,50,257,565,509,676,869,156,31,702,948,219,101,678,825,432,120,147,889,185,133,124,205,394,320,294,111,280,473,839,438,420,781,463,799,640,160,209,626,829,227,919,818,217,648,312,636,310,169,336,270,372,266,284,819,751,591,680,932,929,614,678,381,970,497,733,576,450,968,795,230,132,820,123,584,268,578,484,818,923,846,718,102,978,128,898,984,469,116,477,102,492,244,484,129,517,644,191,892,109,268,680,551,327,921,603,770,838,760,547,696,189,793,982,881,805,5,977,851,476,64,592,616,560,28,787,415,569,842,291,319,578,345,869,945,426,359,916,537,353,393,113,807,858,151,981,280,61,208,69,19,785,819,800,429,528,115,855,573,200,147,56,681,97,173,969,387,337,253,102,41,337,353,745,947,193,998,214,251,341,129,126,103,169,864,378,444,322,330,11,709,27,901,417,229,561,165,887,401,159,850,530,648,393,406,955,563,390,940,622,179,277,219,835,347,663,738,702,146,435,68,992,523,680,409,651,424,213,286,313,813,841,366,48,317,150,770,465,552,921,994,461,455,125,739,839,138,687,40,509,710,423,800,610,497,676,736,188,750,16,498,848,403,420,641,798,426,767,230,536,666,383,83,858,28,48,57,503,974,449,695,403,178,492,553,649,720,926,620,785,28,727,606,759,775,117,79,854,618,433,79,45,565,643,123,859,554,344,45,626,653,300,704,347,396,79,833,803,564,996,244,700,83,323,555,210,519,155,536,661,966,371,921,806,241,584,861,557,865,60,997,850,867,944,929,497,706,305,886,517,913,80,382,151,135,214,629,189,527,362,478,600,527,135,69,43,745,45,845,227,303,498,969,18,412,335,397,863,999,248,536,374,579,591,48,367,335,275,167,753,471,705,302,941,292,34,65,705,900,576,401,301,964,197,604,851,70,369,573,188,467,545,229,212,10,234,52,636,887,534,340,932,299,731,521,846,449,409,830,908,835,121,961,158,818,530,205,439,220,164,773,226,201,988,523,164,953,53,471,470,483,213,819,982,17,900,743,567,1,761,815,802,563,827,595,239,410,927,152,778,190,607,79,961,598,398,601,546,644,807,888,224,298,849,484,893,547,783,5,963,936,163,254,111,663,810,420,490,646,461,445,398,934,448,872,856,867,736,780,43,35,750,400,725,992,520,859,772,647,2,17,215,78,429,552,204,455,988,167,951,439,509,378,835,808,39,584,859,447,752,169,774,931,400,250,364,144,611,5,361,979,665,145,892,521,293,519,723,353,78,937,389,797,407,595,732,727,633,702,939,142,809,270,629,171,685,817,265,100,965,789,567,265,251,929,14,696,80,394,252,23,649,174,419,544,832,249,429,32,722,440,383,264,778,1000,885,153,991,158,428,215,626,908,510,62,679,205,177,654,125,565,732,686,954,495,513,41,575,940,722,59,11,866,120,187,554,569,861,567,10,608,696,235,45,825,54,555,587,482,664,41,301,944,146,430,992,107,714,32,725,198,301,788,347,493,41,625,497,486,138,194,14,529,249,437,342,757,461,984,142,432,42,673,386,557,716,761,283,753,994,77,571,116,426,644,572,41,846,16,314,218,292,423,241,442,857,800,677,331,575,58,687,813,69,512,483,311,314,880,354,786,176,332,26,270,193,879,618,740,379,991,995,755,560,794,776,304,323,778,159,975,331,410,446,404,689,38,802,430,549,111,570,520,118,504,469,518,51,613,983,337,253,624,925,255,127,357,829,733,694,272,419,713,475,319,634,3,993,793,714,335,54,453,616,447,614,143,664,396,591,309,985,609,875,426,311,913,266,518,135,316,793,996,909,191,771,255,632,835,95,621,576,130,50,692,859,930,325,695,948,925,769,923,939,11,222,602,357,761,785,673,243,60,4,715,863,690,975,399,262,395,13,750,91,796,682,598,826,696,11,181,876,958,595,644,31,243,680,462,334,274,952,1000,432,671,472,128,166,394,429,181,791,967,522,462,929,318,646,831,559,464,391,395,492,915,889,828,494,858,291,757,725,535,846,927,983,75,573,716,90,312,644,31,166,11,920,936,562,587,603,586,230,222,255,1,289,440,499,399,103,520,850,426,631,525,912,366,455,432,906,447,808,802,386,855,31,4,348,690,965,414,327,260,622,977,794,12,79,338,754,362,882,324,41,464,728,951,473,337,286,363,59,82,496,384,6,635,160,578,160,378,495,333,273,509,651,99,370,412,584,470,334,930,754,873,296,205,828,700,973,329,568,174,154,864,829,116,532,436,826,109,87,420,666,961,956,292,37,992,444,228,68,805,347,487,692,957,810,877,937,415,29,115,618,610,590,859,912,148,152,935,87,867,692,89,391,949,437,473,485,459,110,220,835,797,785,926,684,980,697,737,288,599,510,330,620,170,743,668,854,575,909,700,345,794,309,862,968,587,245,998,452,36,757,172,430,800,959,342,327,837,413,441,838,863,19,173,173,65,951,54,511,906,888,121,581,886,848,773,28,307,282,407,729,960,470,121,476,973,150,855,148,831,19,209,352,638,279,314,147,6,983,565,68,965,979,601,499,50,118,379,133,572,384,153,127,780,841,685,124,608,399,118,740,261,324,83,788,502,69,463,918,82,654,575,216,547,971,407,731,308,845,202,581,536,882,498,284,558,152,119,504,719,963,912,71,997,953,234,660,702,922,809,701,628,536,23,560,728,618,199,548,187,557,52,291,152,194,233,119,792,561,786,695,513,762,733,291,74,911,330,85,498,864,2,978,550,30,434,156,593,378,360,515,719,919,166,120,56,406,189,511,823,681,64,136,610,90,776,52,948,287,895,680,248,956,138,860,322,456,964,450,460,884,566,931,419,605,940,865,74,464,693,947,649,253,781,445,35,427,64,515,604,390,860,205,875,176,741,680,297,560,517,595,805,198,185,670,221,757,858,67,125,703,522,851,597,310,837,385,694,535,20,257,694,530,870,916,614,591,262,261,541,79,822,64,552,695,60,342,371,423,186,952,620,542,478,327,868,575,254,495,545,189,412,72,418,738,30,901,3,107,986,399,206,595,720,298,109,728,284,300,132,31,608,901,913,275,264,163,61,568,610,289,404,322,256,479,797,4,118,18,364,778,609,931,815,833,113,385,422,724,256,817,597,45,685,55,759,31,642,612,669,166,490,765,518,19,218,441,551,642,965,644,907,514,151,483,43,734,130,553,985,189,574,205,780,763,891,113,269,710,982,505,568,386,522,915,43,258,657,501,374,436,578,245,32,751,801,412,31,793,307,723,768,980,413,182,940,266,766,452,868,681,909,297,120,378,692,58,398,12,667,797,580,89,330,998,640,60,816,64,398,141,517,801,565,153,472,196,177,385,590,20,853,62,348,895,533,758,647,981,378,712,671,512,697,523,48,932,509,376,89,341,509,531,457,362,93,236,366,845,11,524,458,240,984,795,136,247,296,847,502,473,356,568,895,628,829,28,295,365,712,97,715,494,540,709,115,701,682,574,771,178,476,521,369,181,592,208,631,301,821,634,432,158,948,136,280,312,792,841,558,133,358,695,313,13,702,802,765,521,945,508,166,921,918,27,822,660,702,672,807,701,854,874,584,253,451,731,834,327,869,886,542,921,730,635,209,946,942,305,357,237,223,709,17,341,425,358,956,695,538,328,614,867,659,909,364,57,377,230,814,298,935,165,190,844,875,939,219,680,299,151,74,149,413,419,123,335,809,608,918,372,518,513,788,345,642,831,334,368,839,729,969,768,791,551,161,867,73,267,537,228,956,750,758,170,791,409,567,851,236,677,681,675,232,496,53,618,639,46,321,887,614,488,165,769,198,739,835,549,626,696,493,431,591,695,276,674,566,137,826,958,163,876,547,908,429,460,436,160,866,168,804,145,552,457,856,383,216,769,414,511,186,899,779,381,368,223,565,313,221,542,639,179,845,450,10,257,5,412,434,123,590,319,56,352,520,293,118,972,434,241,699,887,615,578,947,480,4,147,350,18,176,364,254,459,455,433,260,384,582,881,61,364,740,529,639,53,196,824,582,981,353,805,747,108,352,457,293,307,730,735,262,790,54,913,422,815,287,607,349,524,45,304,955,529,692,437,7,315,59,762,262,374,340,778,111,443,408,976,437,959,909,640,196,668,755,871,306,226,467,908,832,792,74,922,302,245,492,112,375,356,438,21,178,967,985,124,740,532,538,715,683,293,788,318,619,61,410,694,34,290,756,749,513,778,987,998,872,276,668,452,969,290,542,991,474,84,151,318,327,192,759,402,41,582,607,676,896,59,132,584,442,533,339,582,348,300,19,920,511,678,349,326,300,470,398,8,607,40,319,261,893,446,755,474,337,940,577,24,210,382,424,503,374,117,807,573,884,748,53,942,324,939,29,933,345,994,524,259,280,513,271,930,210,195,120,201,979,963,573,345,609,210,791,485,179,813,778,212,353,970,386,327,443,549,250,65,212,113,242,675,209,637,814,404,136,231,295,366,267,700,299,3,736,353,584,991,599,234,412,218,715,908,790,65,86,927,728,184,686,766,912,622,658,730,201,219,711,941,598,126,645,16,63,169,96,649,99,734,120,979,174,175,409,905,869,5,585,654,608,113,555,178,11,514,98,185,435,564,387,127,426,188,400,335,795,293,845,757,682,655,242,354,3,242,406,616,606,867,905,566,355,998,178,649,599,437,164,553,722,484,751,536,995,282,48,613,631,877,960,343,416,669,743,498,816,397,945,412,894,800,878,551,585,495,327,162,872,909,217,880,602,806,891,995,396,775,723,511,795,289,381,177,387,569,135,49,502,113,686,10,596,937,997,745,311,351,589,994,437,550,333,836,424,910,669,133,771,750,635,946,129,625,855,451,420,160,312,779,665,470,458,417,916,873,804,889,398,550,857,374,373,917,793,272,335,44,519,201,955,539,415,5,338,211,599,585,306,862,905,745,590,273,910,620,145,474,412,619,940,523,984,203,55,754,460,265,879,183,554,18,867,168,700,395,670,975,207,234,570,919,68,714,45,272,937,470,957,929,86,421,967,488,776,50,432,259,928,612,646,874,54,210,305,953,233,749,30,695,548,401,157,543,588,291,705,73,968,983,824,605,822,796,8,478,852,575,782,208,292,329,683,569,89,238,457,357,490,601,184,830,872,184,176,928,324,611,741,698,556,491,29,852,286,784,314,298,454,732,108,136,920,888,578,329,764,820,365,296,874,53,788,820,817,730,427,623,237,527,385,520,433,114,187,126,430,306,401,812,398,156,355,617,325,879,146,800,676,238,163,716,218,223,388,997,660,878,432,420,615,154,390,984,380,809,893,16,998,665,808,513,73,329,533,501,408,577,133,304,778,570,505,987,272,274,890,892,783,689,585,115,579,1000,224,325,654,369,283,596,209,80,560,749,391,388,183,825,837,970,345,434,998,359,632,697,880,595,452,950,66,279,420,624,266,649,604,426,385,769,161,474,257,387,782,654,793,276,843,997,989,577,487,824,557,534,820,181,40,504,434,879,815,445,224,763,90,966,815,55,342,254,705,408,442,117,601,279,566,313,549,116,962,180,347,460,613,299,399,626,398,970,241,312,912,317,624,1,119,585,240,878,271,899,947,105,995,322,507,488,551,111,358,69,885,250,409,788,696,91,616,598,90,623,931,87,646,820,764,872,535,480,573,786,849,415,441,145,120,760,844,89,878,498,824,406,809,957,226,711,350,194,822,297,577,820,950,937,743,953,848,788,520,155,834,916,303,559,259,596,355,169,969,418,84,694,183,358,889,550,330,610,998,637,515,779,280,427,93,186,304,41,824,21,477,636,514,991,671,727,23,970,856,203,615,50,158,529,609,655,577,379,413,237,951,862,264,390,141,203,421,987,720,641,286,551,618,151,799,109,192,553,404,28,757,853,668,376,523,275,488,917,743,339,708,472,153,17,607,160,997,163,734,151,177,787,859,426,379,503,721,885,726,625,528,199,65,8,312,532,955,304,755,324,277,903,7,375,671,383,742,77,712,152,812,649,329,5,502,881,517,935,382,619,334,584,23,643,766,56,553,663,205,776,521,992,328,651,295,259,737,164,662,925,537,654,102,962,337,185,818,520,751,583,429,9,886,327,844,671,268,769,93,722,798,351,631,619,623,754,951,584,161,519,155,492,96,665,981,982,635,402,204,487,685,393,553,372,859,355,931,946,670,236,22,885,542,291,352,615,167,744,657,715,23,44,640,423,631,278,611,300,175,769,523,327,780,490,206,927,723,787,698,724,400,531,79,531,813,868,406,157,503,786,375,285,776,301,173,689,740,180,213,773,264,645,364,184,972,180,959,165,673,20,830,976,188,269,626,175,185,497,400,965,971,725,737,183,202,101,621,902,318,857,558,934,317,95,426,281,921,369,128,275,664,796,226,65,421,991,139,745,68,958,867,946,285,627,675,300,841,419,842,692,375,291,751,438,264,752,569,121,252,298,684,967,301,963,58,737,431,435,90,564,744,224,588,334,797,399,445,836,700,703,783,721,928,586,295,639,101,211,733,368,2,199,26,162,987,542,814,125,30,265,544,201,110,772,317,237,415,623,543,864,693,967,302,860,844,226,552,88,28,520,492,842,395,552,12,861,989,174,858,736,686,628,640,507,592,267,259,345,960,223,36,489,996,517,370,673,178,362,779,15,585,926,90,528,760,532,793,270,552,886,375,559,556,665,195,418,643,598,570,55,824,558,241,930,198,32,329,787,626,504,620,745,169,857,398,70,493,215,289,198,361,664,636,997,925,767,650,421,469,396,548,989,667,903,903,56,221,329,229,136,686,859,997,66,894,249,821,831,524,298,372,271,186,434,178,913,787,911,583,603,466,226,106,755,246,211,246,9,506,722,413,833,901,674,525,494,189,5,779,781,223,666,19,261,333,764,336,936,32,41,562,152,497,990,416,116,468,897,148,930,902,468,607,684,843,645,544,120,793,597,830,704,375,450,992,847,402,592,409,74,697,146,486,104,665,339,595,5,8,299,411,168,8,598,10,821,894,309,709,980,923,673,389,504,970,933,624,213,333,204,829,58,921,309,244,91,48,636,632,966,751,446,576,393,686,751,166,529,196,35,484,782,296,462,215,425,160,142,119,759,867,758,691,625,443,195,88,278,456,535,578,301,127,704,590,647,347,329,83,99,815,477,449,567,566,578,898,968,597,209,849,16,969,204,322,317,24,964,678,340,533,870,1000,294,91,765,573,925,430,597,970,753,394,567,455,567,114,776,947,191,397,31,397,885,279,453,666,854,95,964,448,163,197,3,555,694,871,422,403,899,112,667,622,886,524,726,482,313,775,515,908,112,778,108,522,940,757,244,79,37,92,393,543,450,366,846,333,993,725,58,386,608,483,570,878,259,474,75,696,320,518,23,676,49,4,102,655,324,309,168,734,209,249,104,208,62,443,323,978,139,200,168,250,521,178,47,165,509,350,758,586,789,20,560,423,645,673,120,613,766,191,710,29,468,748,133,429,782,91,487,35,671,685,48,223,634,796,909,107,829,97,676,863,852,320,894,945,592,617,905,516,327,587,659,330,803,661,84,639,674,231,508,804,36,448,355,852,395,508,116,188,603,393,404,509,589,866,542,756,940,339,576,983,541,851,748,834,972,154,446,617,568,603,87,394,576,699,70,72,38,105,931,392,553,561,982,741,883,255,836,120,132,75,286,533,724,448,108,244,604,690,499,17,690,314,933,924,597,674,956,733,719,92,414,551,145,378,139,444,956,269,243,604,397,138,560,367,464,332,489,513,952,834,169,949,80,892,50,239,541,290,384,746,790,872,313,228,105,296,711,450,301,425,344,694,117,767,113,693,556,647,90,533,172,866,990,217,306,486,968,82,72,129,697,915,16,420,530,164,253,874,291,642,78,681,775,860,111,762,648,12,542,156,619,290,457,224,845,375,318,403,182,600,814,85,398,700,393,558,952,78,753,70,634,230,687,360,305,848,484,384,728,707,337,238,851,552,394,982,774,39,477,235,470,680,866,789,507,618,304,602,739,752,562,983,938,520,99,635,793,558,806,420,941,680,614,601,427,985,698,720,29,939,801,223,780,880,316,418,614,738,46,221,981,935,704,150,976,824,837,451,401,392,853,785,266,793,21,565,82,480,866,682,12,135,981,756,17,945,486,690,848,969,378,765,397,328,281,115,692,116,472,809,985,34,150,701,238,42,881,289,558,239,794,811,867,224,415,577,631,790,107,52,153,877,279,344,905,482,151,251,362,784,208,631,21,258,623,260,55,222,237,879,418,788,86,477,363,694,455,104,843,284,944,341,86,173,264,865,258,516,418,69,274,148,144,866,365,606,787,852,88,857,906,48,293,361,317,568,8,757,857,628,324,966,774,934,39,926,554,121,732,271,528,404,451,194,181,272,564,194,772,272,945,121,694,395,906,3,441,755,351,993,716,392,723,333,214,906,802,279,773,139,494,361,343,321,242,553,427,32,963,963,748,311,254,594,366,902,42,361,72,250,372,1000,869,4,851,661,422,989,363,163,999,684,876,977,902,905,239,846,534,663,55,428,504,983,784,775,408,803,805,487,9,457,528,272,86,496,692,191,965,752,506,459,68,194,749,245,535,838,937,354,430,121,9,693,491,8,227,901,211,912,907,706,291,933,657,941,190,78,372,730,85,174,164,727,229,361,342,429,347,241,884,689,340,443,424,555,264,420,805,392,391,75,74,752,740,894,210,983,86,614,548,265,455,539,29,233,14,310,499,910,265,609,923,167,26,212,155,277,49,123,470,372,334,510,933,840,968,612,595,555,654,223,492,698,959,359,593,606,162,508,380,284,538,692,983,441,585,3,15,33,709,70,158,995,770,617,589,155,172,978,62,692,35,270,82,811,92,616,393,358,909,581,439,317,497,814,425,794,705,225,548,224,618,512,661,144,54,144,962,207,295,970,309,354,647,428,655,119,971,432,724,297,651,250,569,75,262,280,82,418,510,825,906,534,150,198,63,687,307,452,767,365,934,876,729,570,737,195,150,817,143,30,766,308,101,298,816,642,99,491,566,761,631,299,502,59,918,463,10,344,248,220,388,325,574,339,882,684,198,918,879,404,892,483,347,478,48,681,913,590,526,516,210,961,951,398,964,836,804,182,648,746,768,737,134,432,575,275,188,513,12,749,160,630,784,768,295,371,162,184,526,620,513,991,393,613,336,806,548,869,456,74,281,583,81,226,583,960,664,181,265,818,714,82,976,631,698,66,191,579,909,844,937,539,632,639,308,454,212,533,311,300,699,85,449,609,405,90,21,317,57,674,600,130,631,241,303,672,282,97,93,22,886,544,391,323,221,19,974,209,555,317,568,164,623,439,329,128,937,875,909,479,554,112,150,673,359,418,395,281,845,94,321,125,902,30,757,100,382,936,97,398,376,199,350,152,663,272,626,261,768,533,598,397,492,474,826,738,992,294,965,702,700,431,211,840,193,970,129,455,628,561,697,843,276,1,701,606,397,74,151,118,439,407,190,41,537,514,517,567,561,610,732,479,142,639,22,833,140,864,167,480,790,974,342,808,298,82,38,157,180,513,828,776,150,761,529,249,158,392,100,283,875,480,555,416,703,789,291,521,625,586,469,867,514,838,532,584,52,960,127,259,464,949,12,438,447,799,197,116,242,976,645,79,567,496,330,287,237,579,255,593,378,880,671,505,666,549,689,70,290,356,926,721,848,593,137,420,852,700,969,943,227,347,825,158,875,360,191,31,683,798,545,563,23,507,355,379,132,652,886,830,589,710,907,942,152,222,387,73,511,578,23,161,51,963,707,455,653,412,667,755,763,722,651,909,10,237,971,869,196,517,84,814,947,284,958,643,444,546,810,201,423,820,102,571,385,599,615,458,371,413,190,481,645,116,503,542,923,505,459,522,288,218,267,855,533,892,935,916,175,251,398,147,793,510,516,273,785,736,356,791,508,342,610,27,254,666,440,284,519,252,167,486,490,420,275,908,43,367,552,702,581,79,529,480,863,603,9,470,802,547,301,256,192,6,436,674,294,615,800,265,632,559,74,158,762,62,407,632,644,705,531,467,123,596,74,761,653,178,208,69,65,313,316,14,664,800,819,943,900,638,616,476,553,43,531,260,197,98,18,588,352,254,849,407,23,63,101,497,955,945,674,665,966,61,218,527,603,275,445,192,499,468,956,417,435,713,191,485,947,224,256,650,5,295,392,668,678,886,503,126,263,786,567,6,241,142,748,803,1,489,558,139,580,141,938,686,257,938,143,98,299,585,320,699,636,711,960,538,722,598,684,494,545,527,236,800,533,967,839,541,797,868,800,353,791,606,615,987,384,157,645,253,463,446,648,658,22,932,941,457,325,56,707,676,33,634,426,731,811,778,408,903,502,974,215,964,224,447,439,79,299,975,970,262,392,604,155,555,681,564,491,223,371,726,265,324,562,349,318,697,42,667,346,642,69,994,2,215,447,18,494,729,555,438,619,793,725,885,484,706,168,564,500,797,325,778,710,116,596,392,417,472,274,337,916,765,533,666,553,777,22,374,460,529,2,370,473,607,698,526,939,850,203,403,143,59,976,648,148,456,362,21,789,101,33,653,770,894,184,786,329,784,12,181,740,295,345,596,801,256,802,261,565,861,866,384,614,245,98,711,797,983,791,793,689,854,988,874,717,393,10,938,309,337,837,1,447,48,643,705,456,970,249,72,382,602,524,286,460,982,353,364,270,598,462,318,444,271,725,235,646,67,833,847,412,766,68,509,910,785,863,716,931,534,717,848,299,794,553,475,231,348,113,815,480,313,798,909,807,694,538,167,705,437,810,565,388,49,760,759,174,727,332,165,274,94,690,383,354,824,789,780,784,449,82,596,722,305,906,244,563,536,652,655,156,938,743,733,659,720,61,850,245,814,795,971,594,404,755,228,5,990,771,299,291,324,547,613,174,844,235,586,229,541,965,250,18,550,323,281,912,981,611,283,3,607,738,852,397,347,602,945,262,876,313,359,771,132,225,75,377,460,434,497,386,801,597,783,307,590,286,249,396,370,660,118,948,831,251,661,202,221,540,747,180,107,670,656,119,71,943,925,800,749,418,56,719,284,804,51,524,112,304,5,477,958,626,640,518,878,196,568,150,550,621,999,238,847,467,67,510,151,115,256,293,721,897,522,792,937,131,803,775,279,893,305,893,666,54,162,67,709,637,805,960,36,950,286,550,237,799,484,100,503,413,828,389,198,686,295,934,196,7,955,574,741,927,41,267,805,873,126,156,907,655,804,351,521,557,601,407,885,695,166,521,710,780,324,512,432,909,739,207,116,77,882,786,986,975,646,102,902,493,449,723,250,776,743,355,116,929,360,546,771,612,363,859,185,957,584,856,285,16,298,522,956,175,952,463,759,987,370,982,410,634,529,401,506,327,259,4,171,192,899,561,436,3,47,396,511,922,114,44,466,95,611,336,89,651,438,303,52,956,297,892,61,44,876,178,288,953,731,287,143,364,386,117,951,925,649,412,683,177,888,375,848,415,540,758,515,655,858,944,922,766,96,202,917,161,273,8,946,108,970,620,701,942,577,982,85,425,12,944,749,459,607,402,857,985,631,37,337,24,685,701,246,936,960,540,946,143,483,831,187,587,432,179,481,653,128,826,446,987,5,485,195,991,96,707,870,299,181,673,951,947,1,557,604,285,929,124,974,950,955,302,688,120,94,513,606,188,798,546,762,970,837,44,55,256,771,321,650,729,322,172,463,294,204,410,275,175,644,808,753,833,924,221,509,326,476,190,575,897,147,703,726,773,124,820,599,809,703,731,647,119,187,591,157,408,291,560,534,951,632,651,15,424,192,965,360,491,901,429,24,472,385,471,227,750,76,696,281,428,444,375,808,117,557,235,948,247,522,693,16,655,266,860,901,523,672,121,921,874,674,596,180,235,270,725,409,223,141,515,23,898,127,171,701,762,870,484,585,909,659,809,547,526,601,365,624,119,215,19,221,896,587,838,543,425,941,68,789,6,176,193,220,295,926,380,397,59,491,9,77,729,760,674,706,560,677,303,443,436,881,557,846,534,896,187,904,396,326,532,653,790,587,952,181,409,497,875,922,199,238,822,44,272,959,327,349,373,370,36,548,816,277,893,596,934,3,595,729,599,591,999,780,567,192,215,577,169,401,850,701,271,529,863,562,430,766,762,296,362,450,165,906,28,151,428,154,142,787,223,248,201,664,69,678,358,850,847,283,670,54,842,609,814,154,226,248,103,842,703,281,623,466,552,705,229,856,893,361,730,401,740,278,293,483,331,553,753,489,985,350,696,987,776,585,309,350,545,154,552,851,63,620,535,736,550,906,105,203,551,214,676,525,268,689,261,632,25,337,424,887,957,143,436,173,448,784,699,223,867,206,195,258,474,514,794,825,909,748,43,501,91,152,435,232,732,992,168,103,182,825,80,43,632,569,431,93,231,914,542,858,103,491,817,743,875,353,950,602,234,994,70,103,415,326,417,657,216,851,757,758,613,505,732,721,337,328,206,812,807,384,815,872,976,568,634,615,205,304,904,684,364,205,258,777,196,729,741,291,593,905,914,327,882,988,26,259,711,876,95,429,922,87,390,124,971,79,960,115,203,384,24,182,97,117,924,396,987,787,314,786,651,521,399,574,646,739,650,648,835,330,607,783,969,146,741,278,708,453,781,234,115,9,267,640,76,121,397,766,960,482,395,283,526,667,399,808,254,810,517,546,24,838,93,995,501,55,372,496,854,613,365,638,907,22,493,722,842,305,813,80,914,180,726,197,549,68,96,699,228,678,265,846,223,971,486,680,620,932,401,586,455,166,757,209,942,838,461,867,791,573,479,750,805,805,1,503,866,697,552,876,146,860,272,665,352,898,521,309,213,724,65,959,894,398,8,977,763,517,654,237,888,12,704,552,931,42,304,43,677,527,131,924,497,938,289,31,507,681,363,29,421,224,70,31,183,727,616,138,399,283,900,449,818,259,431,67,446,692,793,161,675,767,96,652,232,99,867,461,603,21,795,34,995,91,922,817,530,318,611,43,96,397,721,275,666,939,252,600,9,744,143,396,196,789,771,870,51,951,309,71,714,976,163,600,957,948,178,539,701,630,720,678,197,141,337,920,225,49,468,730,503,867,595,784,327,3,546,157,314,709,230,507,972,341,245,724,732,120,779,589,403,952,25,322,793,418,188,760,248,988,126,338,983,472,235,353,544,302,221,352,357,667,310,258,403,791,826,637,993,710,749,626,154,533,247,421,935,832,691,456,497,876,633,4,548,268,826,41,839,998,40,814,617,423,965,393,11,37,953,776,103,586,972,347,865,150,353,678,207,698,155,624,110,832,595,796,209,664,446,308,1000,167,495,37,158,938,169,992,400,482,961,913,47,218,180,564,533,533,738,354,144,632,249,832,334,444,140,720,237,135,31,698,869,194,16,272,888,244,743,474,513,900,804,172,281,544,437,420,951,138,19,886,274,207,276,628,845,81,740,477,274,306,691,745,748,109,80,689,741,469]\n",
    "%time jump(nums)"
   ]
  },
  {
   "cell_type": "code",
   "execution_count": 95,
   "id": "c3a5bea3",
   "metadata": {},
   "outputs": [
    {
     "data": {
      "text/plain": [
       "4"
      ]
     },
     "execution_count": 95,
     "metadata": {},
     "output_type": "execute_result"
    }
   ],
   "source": [
    "9//2"
   ]
  },
  {
   "cell_type": "markdown",
   "id": "54c23b23",
   "metadata": {},
   "source": [
    "### 20211117<a id='62'></a>\n",
    "<strong>62. Unique Paths</strong>\n",
    "[Quesiton List](#0)\n",
    "\n",
    "A robot is located at the top-left corner of a m x n grid (marked 'Start' in the diagram below).\n",
    "\n",
    "The robot can only move either down or right at any point in time. The robot is trying to reach the bottom-right corner of the grid (marked 'Finish' in the diagram below).\n",
    "\n",
    "How many possible unique paths are there?"
   ]
  },
  {
   "cell_type": "code",
   "execution_count": null,
   "id": "c834a5ed",
   "metadata": {},
   "outputs": [],
   "source": [
    "def uniquePaths(m: int, n: int) -> int:\n",
    "    dp = [[-1]*n for i in range(m)]\n",
    "\n",
    "    def path_to(i,j):\n",
    "        if i == 0 and j == 0:\n",
    "            return 1\n",
    "        if dp[i][j] != -1:\n",
    "            return dp[i][j]\n",
    "        if i == 0 and j != 0:\n",
    "            dp[i][j] = path_to(i,j-1)\n",
    "            return path_to(i,j-1)\n",
    "        elif j==0 and i!=0:\n",
    "            dp[i][j] = path_to(i-1, j)\n",
    "            return path_to(i-1, j)\n",
    "        else:\n",
    "            dp[i][j] = path_to(i-1,j) + path_to(i,j-1)\n",
    "            return path_to(i-1,j) + path_to(i,j-1)\n",
    "\n",
    "    return path_to(m-1,n-1)"
   ]
  },
  {
   "cell_type": "markdown",
   "id": "5c181823",
   "metadata": {},
   "source": [
    "### 20211118<a id='448'></a>\n",
    "<strong>448. Find All Numbers Disappeared in an Array</strong>\n",
    "[Quesiton List](#0)\n",
    "    \n",
    "Given an array nums of n integers where nums[i] is in the range [1, n], return an array of all the integers in the range [1, n] that do not appear in nums."
   ]
  },
  {
   "cell_type": "code",
   "execution_count": null,
   "id": "737a43a4",
   "metadata": {},
   "outputs": [],
   "source": [
    "def findDisappearedNumbers(nums):\n",
    "    ans = list(range(1,len(nums)+1))\n",
    "    for num in nums:\n",
    "        ans[num-1] = 0\n",
    "    i = 0\n",
    "    while i < len(ans):\n",
    "        if ans[i] == 0:\n",
    "            ans.pop(i)\n",
    "        else:\n",
    "            i+=1\n",
    "    return ans"
   ]
  },
  {
   "cell_type": "markdown",
   "id": "23d513c9",
   "metadata": {},
   "source": [
    "### 20211119<a id='461'></a>\n",
    "<strong>461. Hamming Distance</strong>\n",
    "[Quesiton List](#0)\n",
    "    \n",
    "The Hamming distance between two integers is the number of positions at which the corresponding bits are different.\n",
    "\n",
    "Given two integers x and y, return the Hamming distance between them."
   ]
  },
  {
   "cell_type": "code",
   "execution_count": 17,
   "id": "416ae70b",
   "metadata": {},
   "outputs": [],
   "source": [
    "def hammingDistance(x, y):\n",
    "    l = bin(x)[2:]\n",
    "    s = bin(y)[2:]\n",
    "    \n",
    "    if len(s) > len(l):\n",
    "        temp = s\n",
    "        s = l\n",
    "        l = temp\n",
    "    \n",
    "    print(l,s)\n",
    "    diff = len(l) - len(s)\n",
    "    ans = 0\n",
    "    for i in range(diff):\n",
    "        if l[i] == '1':\n",
    "            ans += 1\n",
    "\n",
    "    for i in range(len(s)):\n",
    "        if l[i+diff] != s[i]:\n",
    "            ans += 1\n",
    "    \n",
    "    return ans"
   ]
  },
  {
   "cell_type": "code",
   "execution_count": 18,
   "id": "1d0e1f20",
   "metadata": {},
   "outputs": [
    {
     "name": "stdout",
     "output_type": "stream",
     "text": [
      "100 1\n"
     ]
    },
    {
     "data": {
      "text/plain": [
       "2"
      ]
     },
     "execution_count": 18,
     "metadata": {},
     "output_type": "execute_result"
    }
   ],
   "source": [
    "x = 1\n",
    "y = 4\n",
    "hammingDistance(x, y)"
   ]
  },
  {
   "cell_type": "code",
   "execution_count": 6,
   "id": "2aae7809",
   "metadata": {},
   "outputs": [
    {
     "data": {
      "text/plain": [
       "1"
      ]
     },
     "execution_count": 6,
     "metadata": {},
     "output_type": "execute_result"
    }
   ],
   "source": [
    "x = 3\n",
    "y = 1\n",
    "hammingDistance(x, y)"
   ]
  },
  {
   "cell_type": "markdown",
   "id": "d48dd5ed",
   "metadata": {},
   "source": [
    "### 20211121<a id='540'></a>\n",
    "<strong>540. Single Element in a Sorted Array</strong>\n",
    "[Quesiton List](#0)\n",
    "    \n",
    "\n",
    "You are given a sorted array consisting of only integers where every element appears exactly twice, except for one element which appears exactly once.\n",
    "\n",
    "Return the single element that appears only once.\n",
    "\n",
    "Your solution must run in O(log n) time and O(1) space."
   ]
  },
  {
   "cell_type": "code",
   "execution_count": 9,
   "id": "c879f44c",
   "metadata": {},
   "outputs": [],
   "source": [
    "def singleNonDuplicate(nums):\n",
    "    l = 0\n",
    "    r = len(nums) - 1\n",
    "    while l < r:\n",
    "        mid = (l + r) // 2\n",
    "        # nums[mid] is the single element\n",
    "        if nums[mid] != nums[mid-1] and nums[mid] != nums[mid+1]: \n",
    "            return nums[mid]\n",
    "        \n",
    "        # mid is even number\n",
    "        if mid % 2 == 0:\n",
    "            if nums[mid] == nums[mid+1]:\n",
    "                l = mid + 2\n",
    "            else:\n",
    "                r = mid - 2\n",
    "                \n",
    "        # mid is odd number\n",
    "        else:\n",
    "            if nums[mid] == nums[mid+1]:\n",
    "                r = mid - 1\n",
    "            else:\n",
    "                l = mid + 1\n",
    "    \n",
    "    return nums[l]    "
   ]
  },
  {
   "cell_type": "code",
   "execution_count": 13,
   "id": "d00c528d",
   "metadata": {},
   "outputs": [],
   "source": [
    "def singleNonDuplicate(nums):\n",
    "    l = 0\n",
    "    r = len(nums) - 1\n",
    "    while l < r:\n",
    "        mid = (l + r) // 2\n",
    "        \n",
    "        # mid is even number\n",
    "        if mid % 2 == 0:\n",
    "            if nums[mid] == nums[mid+1]:\n",
    "                l = mid + 2\n",
    "            else:\n",
    "                r = mid\n",
    "                \n",
    "        # mid is odd number\n",
    "        else:\n",
    "            if nums[mid] == nums[mid+1]:\n",
    "                r = mid - 1\n",
    "            else:\n",
    "                l = mid + 1\n",
    "    \n",
    "    return nums[l]    "
   ]
  },
  {
   "cell_type": "code",
   "execution_count": 14,
   "id": "509860c5",
   "metadata": {},
   "outputs": [
    {
     "data": {
      "text/plain": [
       "2"
      ]
     },
     "execution_count": 14,
     "metadata": {},
     "output_type": "execute_result"
    }
   ],
   "source": [
    "nums = [1,1,2,3,3,4,4,8,8]\n",
    "singleNonDuplicate(nums)"
   ]
  },
  {
   "cell_type": "code",
   "execution_count": 15,
   "id": "118a1227",
   "metadata": {},
   "outputs": [
    {
     "data": {
      "text/plain": [
       "10"
      ]
     },
     "execution_count": 15,
     "metadata": {},
     "output_type": "execute_result"
    }
   ],
   "source": [
    "nums = [3,3,7,7,10,11,11]\n",
    "singleNonDuplicate(nums)"
   ]
  },
  {
   "cell_type": "code",
   "execution_count": 16,
   "id": "68b83739",
   "metadata": {},
   "outputs": [
    {
     "data": {
      "text/plain": [
       "3"
      ]
     },
     "execution_count": 16,
     "metadata": {},
     "output_type": "execute_result"
    }
   ],
   "source": [
    "nums = [3]\n",
    "singleNonDuplicate(nums)"
   ]
  },
  {
   "cell_type": "markdown",
   "id": "17c9db8c",
   "metadata": {},
   "source": [
    "### 20211124<a id='450'></a>\n",
    "<strong>450. Delete Node in a BST</strong>\n",
    "[Quesiton List](#0)\n",
    "    \n",
    "Given a root node reference of a BST and a key, delete the node with the given key in the BST. Return the root node reference (possibly updated) of the BST.\n",
    "\n",
    "Basically, the deletion can be divided into two stages:\n",
    "\n",
    "- Search for a node to remove.\n",
    "- If the node is found, delete the node."
   ]
  },
  {
   "cell_type": "code",
   "execution_count": 5,
   "id": "7e68c702",
   "metadata": {},
   "outputs": [],
   "source": [
    "# Definition for a binary tree node.\n",
    "class TreeNode:\n",
    "    def __init__(self, val=0, left=None, right=None):\n",
    "        self.val = val\n",
    "        self.left = left\n",
    "        self.right = right"
   ]
  },
  {
   "cell_type": "code",
   "execution_count": 45,
   "id": "ea798a08",
   "metadata": {},
   "outputs": [],
   "source": [
    "## doesnt work\n",
    "# find the key in the BST\n",
    "# construct a new tree from the subtree of the deleted node\n",
    "# moving all left child up one (or right child up one)\n",
    "def deleteNode(root, key: int):\n",
    "    key_node = root\n",
    "    key_node_prev = key_node\n",
    "    prev_lr = ''\n",
    "    find = False\n",
    "    # travese BST to find the treeNode with key\n",
    "    while key_node is not None:\n",
    "        if key_node.val == key:\n",
    "            find = True\n",
    "            break\n",
    "        elif key_node.val > key:\n",
    "            key_node_prev = key_node\n",
    "            prev_lr = 'left'\n",
    "            key_node = key_node.left\n",
    "        else:\n",
    "            key_node_prev = key_node\n",
    "            prev_lr = 'right'\n",
    "            key_node = key_node.right\n",
    "    \n",
    "    # if not find return\n",
    "    if not find:\n",
    "        return root\n",
    "    \n",
    "    # if one subtree is empty, move the non-empty subtree up\n",
    "    if key_node.left is None:\n",
    "        if prev_lr == 'left':\n",
    "            key_node_prev.left = key_node.right\n",
    "        if prev_lr == 'right':\n",
    "            key_node_prev.right = key_node.right\n",
    "        return root\n",
    "    \n",
    "    if key_node.right is None:\n",
    "        if prev_lr == 'left':\n",
    "            key_node_prev.left = key_node.left\n",
    "        if prev_lr == 'right':\n",
    "            key_node_prev.right = key_node.left\n",
    "    \n",
    "    # if both subtree are not empty\n",
    "    # traverse down left tree and move all left node.val up and delete the last left node\n",
    "    cur = key_node\n",
    "    prev = key_node\n",
    "    while cur.left is not None:\n",
    "        cur.val = cur.left.val\n",
    "        prev = cur\n",
    "        cur = cur.left\n",
    "    prev.left = cur.right\n",
    "    \n",
    "    return root"
   ]
  },
  {
   "cell_type": "code",
   "execution_count": 93,
   "id": "21bf8a0a",
   "metadata": {},
   "outputs": [],
   "source": [
    "def deleteNode(root, key: int):\n",
    "    key_node = root\n",
    "    key_node_prev = key_node\n",
    "    prev_lr = ''\n",
    "    find = False\n",
    "    # travese BST to find the treeNode with key\n",
    "    while key_node is not None:\n",
    "        if key_node.val == key:\n",
    "            find = True\n",
    "            break\n",
    "        elif key_node.val > key:\n",
    "            key_node_prev = key_node\n",
    "            prev_lr = 'left'\n",
    "            key_node = key_node.left\n",
    "        else:\n",
    "            key_node_prev = key_node\n",
    "            prev_lr = 'right'\n",
    "            key_node = key_node.right\n",
    "    \n",
    "    # if not find return\n",
    "    if not find:\n",
    "        return root\n",
    "    \n",
    "    # no child, delete\n",
    "    if key_node.left is None and key_node.right is None:\n",
    "        if key_node != root:\n",
    "            if prev_lr == 'left':\n",
    "                key_node_prev.left = None\n",
    "            else:\n",
    "                key_node_prev.right = None\n",
    "        else:\n",
    "            root = None\n",
    "    # one child, replace\n",
    "    elif key_node.left is None:\n",
    "        if key_node != root:\n",
    "            if prev_lr == 'left':\n",
    "                key_node_prev.left = key_node.right\n",
    "            else:\n",
    "                key_node_prev.right = key_node.right\n",
    "        else:\n",
    "            root = key_node.right\n",
    "    elif key_node.right is None:\n",
    "        if key_node != root:\n",
    "            if prev_lr == 'left':\n",
    "                key_node_prev.left = key_node.left\n",
    "            else:\n",
    "                key_node_prev.right = key_node.left\n",
    "        else:\n",
    "            root = key_node.left\n",
    "            \n",
    "    # two children, find inorder successor node\n",
    "    else:\n",
    "        cur = key_node.left\n",
    "        while cur.right is not None:\n",
    "            cur = cur.right\n",
    "        temp = cur.val\n",
    "        deleteNode(root, temp)\n",
    "        key_node.val = temp\n",
    "    \n",
    "    return root"
   ]
  },
  {
   "cell_type": "code",
   "execution_count": 102,
   "id": "9a7929b3",
   "metadata": {},
   "outputs": [],
   "source": [
    "def deleteNode(root, key: int):\n",
    "    if root is not None:\n",
    "        if key > root.val:\n",
    "            root.right = deleteNode(root.right, key)\n",
    "        elif key < root.val:\n",
    "            root.left = deleteNode(root.left, key)\n",
    "        else:\n",
    "            # no child\n",
    "            if root.left is None and root.right is None:\n",
    "                return None\n",
    "            # one child\n",
    "            if root.left is None or root.right is None:\n",
    "                if root.left is None:\n",
    "                    return root.right\n",
    "                else:\n",
    "                    return root.left\n",
    "            # two children\n",
    "            else:\n",
    "                less_than_key = root.left\n",
    "                while less_than_key.right is not None:\n",
    "                    less_than_key = less_than_key.right\n",
    "                root.val = less_than_key.val\n",
    "                root.left = deleteNode(root.left, less_than_key.val)\n",
    "    return root"
   ]
  },
  {
   "cell_type": "code",
   "execution_count": 103,
   "id": "cecbc829",
   "metadata": {},
   "outputs": [
    {
     "data": {
      "image/svg+xml": [
       "<?xml version=\"1.0\" encoding=\"UTF-8\" standalone=\"no\"?>\n",
       "<!DOCTYPE svg PUBLIC \"-//W3C//DTD SVG 1.1//EN\"\n",
       " \"http://www.w3.org/Graphics/SVG/1.1/DTD/svg11.dtd\">\n",
       "<!-- Generated by graphviz version 2.49.3 (20211023.0002)\n",
       " -->\n",
       "<!-- Title: G Pages: 1 -->\n",
       "<svg width=\"57pt\" height=\"64pt\"\n",
       " viewBox=\"0.00 0.00 57.00 64.00\" xmlns=\"http://www.w3.org/2000/svg\" xmlns:xlink=\"http://www.w3.org/1999/xlink\">\n",
       "<g id=\"graph0\" class=\"graph\" transform=\"scale(1 1) rotate(0) translate(4 60)\">\n",
       "<title>G</title>\n",
       "<polygon fill=\"white\" stroke=\"transparent\" points=\"-4,4 -4,-60 53,-60 53,4 -4,4\"/>\n",
       "<!-- node140549427746944 -->\n",
       "<g id=\"node1\" class=\"node\">\n",
       "<title>node140549427746944</title>\n",
       "<polygon fill=\"#fefecd\" stroke=\"#444443\" stroke-width=\"0.5\" points=\"49,-56 0,-56 0,0 49,0 49,-56\"/>\n",
       "<polygon fill=\"#fefecd\" stroke=\"transparent\" points=\"2.5,-40 2.5,-54 47.5,-54 47.5,-40 2.5,-40\"/>\n",
       "<polyline fill=\"none\" stroke=\"#444443\" points=\"2.5,-40 47.5,-40 \"/>\n",
       "<text text-anchor=\"start\" x=\"3.5\" y=\"-44.2\" font-family=\"Times,serif\" font-style=\"italic\" font-size=\"11.00\" fill=\"#444443\">TreeNode</text>\n",
       "<polygon fill=\"#fefecd\" stroke=\"transparent\" points=\"2.5,-38 2.5,-40 47.5,-40 47.5,-38 2.5,-38\"/>\n",
       "<polygon fill=\"#fefecd\" stroke=\"transparent\" points=\"2.5,-24 2.5,-38 26.5,-38 26.5,-24 2.5,-24\"/>\n",
       "<polyline fill=\"none\" stroke=\"#444443\" points=\"26.5,-24 26.5,-38 \"/>\n",
       "<text text-anchor=\"start\" x=\"7.5\" y=\"-28.2\" font-family=\"Helvetica,sans-Serif\" font-size=\"11.00\" fill=\"#444443\">val </text>\n",
       "<polygon fill=\"#fefecd\" stroke=\"transparent\" points=\"28.5,-24 28.5,-38 47.5,-38 47.5,-24 28.5,-24\"/>\n",
       "<text text-anchor=\"start\" x=\"29.5\" y=\"-28.2\" font-family=\"Helvetica,sans-Serif\" font-size=\"11.00\" fill=\"#444443\"> &#39;0&#39;</text>\n",
       "<polyline fill=\"none\" stroke=\"#444443\" points=\"2.5,-21 47.5,-21 \"/>\n",
       "<polygon fill=\"#fefecd\" stroke=\"transparent\" points=\"2.5,-19 2.5,-21 47.5,-21 47.5,-19 2.5,-19\"/>\n",
       "<polygon fill=\"#fefecd\" stroke=\"transparent\" points=\"2.5,-10 2.5,-19 26.5,-19 26.5,-10 2.5,-10\"/>\n",
       "<polyline fill=\"none\" stroke=\"#444443\" points=\"26.5,-10 26.5,-19 \"/>\n",
       "<text text-anchor=\"start\" x=\"3.5\" y=\"-13.2\" font-family=\"Helvetica,sans-Serif\" font-size=\"6.00\" fill=\"#444443\">left</text>\n",
       "<polygon fill=\"#fefecd\" stroke=\"transparent\" points=\"26.5,-10 26.5,-19 28.5,-19 28.5,-10 26.5,-10\"/>\n",
       "<polygon fill=\"#fefecd\" stroke=\"transparent\" points=\"28.5,-10 28.5,-19 47.5,-19 47.5,-10 28.5,-10\"/>\n",
       "<text text-anchor=\"start\" x=\"34.5\" y=\"-13.2\" font-family=\"Helvetica,sans-Serif\" font-size=\"6.00\" fill=\"#444443\">right</text>\n",
       "<polygon fill=\"#fefecd\" stroke=\"transparent\" points=\"2.5,-7 2.5,-10 26.5,-10 26.5,-7 2.5,-7\"/>\n",
       "<polyline fill=\"none\" stroke=\"#444443\" points=\"26.5,-7 26.5,-10 \"/>\n",
       "<text text-anchor=\"start\" x=\"14\" y=\"-8.2\" font-family=\"Helvetica,sans-Serif\" font-size=\"1.00\" fill=\"#444443\"> </text>\n",
       "<polygon fill=\"#fefecd\" stroke=\"transparent\" points=\"26.5,-7 26.5,-10 28.5,-10 28.5,-7 26.5,-7\"/>\n",
       "<polygon fill=\"#fefecd\" stroke=\"transparent\" points=\"28.5,-7 28.5,-10 47.5,-10 47.5,-7 28.5,-7\"/>\n",
       "<text text-anchor=\"start\" x=\"37.5\" y=\"-8.2\" font-family=\"Helvetica,sans-Serif\" font-size=\"1.00\" fill=\"#444443\"> </text>\n",
       "<polygon fill=\"#fefecd\" stroke=\"transparent\" points=\"2.5,-2 2.5,-7 26.5,-7 26.5,-2 2.5,-2\"/>\n",
       "<polyline fill=\"none\" stroke=\"#444443\" points=\"26.5,-2 26.5,-7 \"/>\n",
       "<text text-anchor=\"start\" x=\"14\" y=\"-3.6\" font-family=\"Helvetica,sans-Serif\" font-size=\"3.00\" fill=\"#444443\"> </text>\n",
       "<polygon fill=\"#fefecd\" stroke=\"transparent\" points=\"26.5,-2 26.5,-7 28.5,-7 28.5,-2 26.5,-2\"/>\n",
       "<polygon fill=\"#fefecd\" stroke=\"transparent\" points=\"28.5,-2 28.5,-7 47.5,-7 47.5,-2 28.5,-2\"/>\n",
       "<text text-anchor=\"start\" x=\"37.5\" y=\"-3.6\" font-family=\"Helvetica,sans-Serif\" font-size=\"3.00\" fill=\"#444443\"> </text>\n",
       "</g>\n",
       "</g>\n",
       "</svg>\n"
      ],
      "text/plain": [
       "<graphviz.sources.Source at 0x7fd436b6db20>"
      ]
     },
     "execution_count": 103,
     "metadata": {},
     "output_type": "execute_result"
    }
   ],
   "source": [
    "root = TreeNode(0)\n",
    "key = 0\n",
    "deleteNode(root, key)\n",
    "treeviz(root)"
   ]
  },
  {
   "cell_type": "code",
   "execution_count": 104,
   "id": "a22c7492",
   "metadata": {},
   "outputs": [
    {
     "data": {
      "image/svg+xml": [
       "<?xml version=\"1.0\" encoding=\"UTF-8\" standalone=\"no\"?>\n",
       "<!DOCTYPE svg PUBLIC \"-//W3C//DTD SVG 1.1//EN\"\n",
       " \"http://www.w3.org/Graphics/SVG/1.1/DTD/svg11.dtd\">\n",
       "<!-- Generated by graphviz version 2.49.3 (20211023.0002)\n",
       " -->\n",
       "<!-- Title: G Pages: 1 -->\n",
       "<svg width=\"71pt\" height=\"142pt\"\n",
       " viewBox=\"0.00 0.00 71.00 142.00\" xmlns=\"http://www.w3.org/2000/svg\" xmlns:xlink=\"http://www.w3.org/1999/xlink\">\n",
       "<g id=\"graph0\" class=\"graph\" transform=\"scale(1 1) rotate(0) translate(4 138)\">\n",
       "<title>G</title>\n",
       "<polygon fill=\"white\" stroke=\"transparent\" points=\"-4,4 -4,-138 67,-138 67,4 -4,4\"/>\n",
       "<!-- node140549368807584 -->\n",
       "<g id=\"node1\" class=\"node\">\n",
       "<title>node140549368807584</title>\n",
       "<polygon fill=\"#fefecd\" stroke=\"#444443\" stroke-width=\"0.5\" points=\"49,-134 0,-134 0,-78 49,-78 49,-134\"/>\n",
       "<polygon fill=\"#fefecd\" stroke=\"transparent\" points=\"2.5,-118 2.5,-132 47.5,-132 47.5,-118 2.5,-118\"/>\n",
       "<polyline fill=\"none\" stroke=\"#444443\" points=\"2.5,-118 47.5,-118 \"/>\n",
       "<text text-anchor=\"start\" x=\"3.5\" y=\"-122.2\" font-family=\"Times,serif\" font-style=\"italic\" font-size=\"11.00\" fill=\"#444443\">TreeNode</text>\n",
       "<polygon fill=\"#fefecd\" stroke=\"transparent\" points=\"2.5,-116 2.5,-118 47.5,-118 47.5,-116 2.5,-116\"/>\n",
       "<polygon fill=\"#fefecd\" stroke=\"transparent\" points=\"2.5,-102 2.5,-116 26.5,-116 26.5,-102 2.5,-102\"/>\n",
       "<polyline fill=\"none\" stroke=\"#444443\" points=\"26.5,-102 26.5,-116 \"/>\n",
       "<text text-anchor=\"start\" x=\"7.5\" y=\"-106.2\" font-family=\"Helvetica,sans-Serif\" font-size=\"11.00\" fill=\"#444443\">val </text>\n",
       "<polygon fill=\"#fefecd\" stroke=\"transparent\" points=\"28.5,-102 28.5,-116 47.5,-116 47.5,-102 28.5,-102\"/>\n",
       "<text text-anchor=\"start\" x=\"29.5\" y=\"-106.2\" font-family=\"Helvetica,sans-Serif\" font-size=\"11.00\" fill=\"#444443\"> &#39;1&#39;</text>\n",
       "<polyline fill=\"none\" stroke=\"#444443\" points=\"2.5,-99 47.5,-99 \"/>\n",
       "<polygon fill=\"#fefecd\" stroke=\"transparent\" points=\"2.5,-97 2.5,-99 47.5,-99 47.5,-97 2.5,-97\"/>\n",
       "<polygon fill=\"#fefecd\" stroke=\"transparent\" points=\"2.5,-88 2.5,-97 26.5,-97 26.5,-88 2.5,-88\"/>\n",
       "<polyline fill=\"none\" stroke=\"#444443\" points=\"26.5,-88 26.5,-97 \"/>\n",
       "<text text-anchor=\"start\" x=\"3.5\" y=\"-91.2\" font-family=\"Helvetica,sans-Serif\" font-size=\"6.00\" fill=\"#444443\">left</text>\n",
       "<polygon fill=\"#fefecd\" stroke=\"transparent\" points=\"26.5,-88 26.5,-97 28.5,-97 28.5,-88 26.5,-88\"/>\n",
       "<polygon fill=\"#fefecd\" stroke=\"transparent\" points=\"28.5,-88 28.5,-97 47.5,-97 47.5,-88 28.5,-88\"/>\n",
       "<text text-anchor=\"start\" x=\"34.5\" y=\"-91.2\" font-family=\"Helvetica,sans-Serif\" font-size=\"6.00\" fill=\"#444443\">right</text>\n",
       "<polygon fill=\"#fefecd\" stroke=\"transparent\" points=\"2.5,-85 2.5,-88 26.5,-88 26.5,-85 2.5,-85\"/>\n",
       "<polyline fill=\"none\" stroke=\"#444443\" points=\"26.5,-85 26.5,-88 \"/>\n",
       "<text text-anchor=\"start\" x=\"14\" y=\"-86.2\" font-family=\"Helvetica,sans-Serif\" font-size=\"1.00\" fill=\"#444443\"> </text>\n",
       "<polygon fill=\"#fefecd\" stroke=\"transparent\" points=\"26.5,-85 26.5,-88 28.5,-88 28.5,-85 26.5,-85\"/>\n",
       "<polygon fill=\"#fefecd\" stroke=\"transparent\" points=\"28.5,-85 28.5,-88 47.5,-88 47.5,-85 28.5,-85\"/>\n",
       "<text text-anchor=\"start\" x=\"37.5\" y=\"-86.2\" font-family=\"Helvetica,sans-Serif\" font-size=\"1.00\" fill=\"#444443\"> </text>\n",
       "<polygon fill=\"#fefecd\" stroke=\"transparent\" points=\"2.5,-80 2.5,-85 26.5,-85 26.5,-80 2.5,-80\"/>\n",
       "<polyline fill=\"none\" stroke=\"#444443\" points=\"26.5,-80 26.5,-85 \"/>\n",
       "<text text-anchor=\"start\" x=\"14\" y=\"-81.6\" font-family=\"Helvetica,sans-Serif\" font-size=\"3.00\" fill=\"#444443\"> </text>\n",
       "<polygon fill=\"#fefecd\" stroke=\"transparent\" points=\"26.5,-80 26.5,-85 28.5,-85 28.5,-80 26.5,-80\"/>\n",
       "<polygon fill=\"#fefecd\" stroke=\"transparent\" points=\"28.5,-80 28.5,-85 47.5,-85 47.5,-80 28.5,-80\"/>\n",
       "<text text-anchor=\"start\" x=\"37.5\" y=\"-81.6\" font-family=\"Helvetica,sans-Serif\" font-size=\"3.00\" fill=\"#444443\"> </text>\n",
       "</g>\n",
       "<!-- node140549368811472 -->\n",
       "<g id=\"node2\" class=\"node\">\n",
       "<title>node140549368811472</title>\n",
       "<polygon fill=\"#fefecd\" stroke=\"#444443\" stroke-width=\"0.5\" points=\"63,-56 14,-56 14,0 63,0 63,-56\"/>\n",
       "<polygon fill=\"#fefecd\" stroke=\"transparent\" points=\"16.5,-40 16.5,-54 61.5,-54 61.5,-40 16.5,-40\"/>\n",
       "<polyline fill=\"none\" stroke=\"#444443\" points=\"16.5,-40 61.5,-40 \"/>\n",
       "<text text-anchor=\"start\" x=\"17.5\" y=\"-44.2\" font-family=\"Times,serif\" font-style=\"italic\" font-size=\"11.00\" fill=\"#444443\">TreeNode</text>\n",
       "<polygon fill=\"#fefecd\" stroke=\"transparent\" points=\"16.5,-38 16.5,-40 61.5,-40 61.5,-38 16.5,-38\"/>\n",
       "<polygon fill=\"#fefecd\" stroke=\"transparent\" points=\"16.5,-24 16.5,-38 40.5,-38 40.5,-24 16.5,-24\"/>\n",
       "<polyline fill=\"none\" stroke=\"#444443\" points=\"40.5,-24 40.5,-38 \"/>\n",
       "<text text-anchor=\"start\" x=\"21.5\" y=\"-28.2\" font-family=\"Helvetica,sans-Serif\" font-size=\"11.00\" fill=\"#444443\">val </text>\n",
       "<polygon fill=\"#fefecd\" stroke=\"transparent\" points=\"42.5,-24 42.5,-38 61.5,-38 61.5,-24 42.5,-24\"/>\n",
       "<text text-anchor=\"start\" x=\"43.5\" y=\"-28.2\" font-family=\"Helvetica,sans-Serif\" font-size=\"11.00\" fill=\"#444443\"> &#39;2&#39;</text>\n",
       "<polyline fill=\"none\" stroke=\"#444443\" points=\"16.5,-21 61.5,-21 \"/>\n",
       "<polygon fill=\"#fefecd\" stroke=\"transparent\" points=\"16.5,-19 16.5,-21 61.5,-21 61.5,-19 16.5,-19\"/>\n",
       "<polygon fill=\"#fefecd\" stroke=\"transparent\" points=\"16.5,-10 16.5,-19 40.5,-19 40.5,-10 16.5,-10\"/>\n",
       "<polyline fill=\"none\" stroke=\"#444443\" points=\"40.5,-10 40.5,-19 \"/>\n",
       "<text text-anchor=\"start\" x=\"17.5\" y=\"-13.2\" font-family=\"Helvetica,sans-Serif\" font-size=\"6.00\" fill=\"#444443\">left</text>\n",
       "<polygon fill=\"#fefecd\" stroke=\"transparent\" points=\"40.5,-10 40.5,-19 42.5,-19 42.5,-10 40.5,-10\"/>\n",
       "<polygon fill=\"#fefecd\" stroke=\"transparent\" points=\"42.5,-10 42.5,-19 61.5,-19 61.5,-10 42.5,-10\"/>\n",
       "<text text-anchor=\"start\" x=\"48.5\" y=\"-13.2\" font-family=\"Helvetica,sans-Serif\" font-size=\"6.00\" fill=\"#444443\">right</text>\n",
       "<polygon fill=\"#fefecd\" stroke=\"transparent\" points=\"16.5,-7 16.5,-10 40.5,-10 40.5,-7 16.5,-7\"/>\n",
       "<polyline fill=\"none\" stroke=\"#444443\" points=\"40.5,-7 40.5,-10 \"/>\n",
       "<text text-anchor=\"start\" x=\"28\" y=\"-8.2\" font-family=\"Helvetica,sans-Serif\" font-size=\"1.00\" fill=\"#444443\"> </text>\n",
       "<polygon fill=\"#fefecd\" stroke=\"transparent\" points=\"40.5,-7 40.5,-10 42.5,-10 42.5,-7 40.5,-7\"/>\n",
       "<polygon fill=\"#fefecd\" stroke=\"transparent\" points=\"42.5,-7 42.5,-10 61.5,-10 61.5,-7 42.5,-7\"/>\n",
       "<text text-anchor=\"start\" x=\"51.5\" y=\"-8.2\" font-family=\"Helvetica,sans-Serif\" font-size=\"1.00\" fill=\"#444443\"> </text>\n",
       "<polygon fill=\"#fefecd\" stroke=\"transparent\" points=\"16.5,-2 16.5,-7 40.5,-7 40.5,-2 16.5,-2\"/>\n",
       "<polyline fill=\"none\" stroke=\"#444443\" points=\"40.5,-2 40.5,-7 \"/>\n",
       "<text text-anchor=\"start\" x=\"28\" y=\"-3.6\" font-family=\"Helvetica,sans-Serif\" font-size=\"3.00\" fill=\"#444443\"> </text>\n",
       "<polygon fill=\"#fefecd\" stroke=\"transparent\" points=\"40.5,-2 40.5,-7 42.5,-7 42.5,-2 40.5,-2\"/>\n",
       "<polygon fill=\"#fefecd\" stroke=\"transparent\" points=\"42.5,-2 42.5,-7 61.5,-7 61.5,-2 42.5,-2\"/>\n",
       "<text text-anchor=\"start\" x=\"51.5\" y=\"-3.6\" font-family=\"Helvetica,sans-Serif\" font-size=\"3.00\" fill=\"#444443\"> </text>\n",
       "</g>\n",
       "<!-- node140549368807584&#45;&gt;node140549368811472 -->\n",
       "<g id=\"edge1\" class=\"edge\">\n",
       "<title>node140549368807584:c&#45;&gt;node140549368811472</title>\n",
       "<path fill=\"none\" stroke=\"#444443\" stroke-width=\"0.5\" d=\"M38.5,-81.52C38.5,-77.05 38.5,-68.86 38.5,-60.26\"/>\n",
       "<ellipse fill=\"#444443\" stroke=\"#444443\" stroke-width=\"0.5\" cx=\"38.5\" cy=\"-83.4\" rx=\"1.6\" ry=\"1.6\"/>\n",
       "<polygon fill=\"#444443\" stroke=\"#444443\" stroke-width=\"0.5\" points=\"39.9,-60.02 38.5,-56.02 37.1,-60.02 39.9,-60.02\"/>\n",
       "</g>\n",
       "</g>\n",
       "</svg>\n"
      ],
      "text/plain": [
       "<graphviz.sources.Source at 0x7fd436b6d880>"
      ]
     },
     "execution_count": 104,
     "metadata": {},
     "output_type": "execute_result"
    }
   ],
   "source": [
    "root = TreeNode(1)\n",
    "root.right = TreeNode(2)\n",
    "key = 1\n",
    "deleteNode(root, key)\n",
    "treeviz(root)"
   ]
  },
  {
   "cell_type": "code",
   "execution_count": 105,
   "id": "fa52d476",
   "metadata": {},
   "outputs": [
    {
     "data": {
      "image/svg+xml": [
       "<?xml version=\"1.0\" encoding=\"UTF-8\" standalone=\"no\"?>\n",
       "<!DOCTYPE svg PUBLIC \"-//W3C//DTD SVG 1.1//EN\"\n",
       " \"http://www.w3.org/Graphics/SVG/1.1/DTD/svg11.dtd\">\n",
       "<!-- Generated by graphviz version 2.49.3 (20211023.0002)\n",
       " -->\n",
       "<!-- Title: G Pages: 1 -->\n",
       "<svg width=\"127pt\" height=\"220pt\"\n",
       " viewBox=\"0.00 0.00 127.00 220.00\" xmlns=\"http://www.w3.org/2000/svg\" xmlns:xlink=\"http://www.w3.org/1999/xlink\">\n",
       "<g id=\"graph0\" class=\"graph\" transform=\"scale(1 1) rotate(0) translate(4 216)\">\n",
       "<title>G</title>\n",
       "<polygon fill=\"white\" stroke=\"transparent\" points=\"-4,4 -4,-216 123,-216 123,4 -4,4\"/>\n",
       "<!-- node140549427814208 -->\n",
       "<g id=\"node1\" class=\"node\">\n",
       "<title>node140549427814208</title>\n",
       "<polygon fill=\"#fefecd\" stroke=\"#444443\" stroke-width=\"0.5\" points=\"75,-212 26,-212 26,-156 75,-156 75,-212\"/>\n",
       "<polygon fill=\"#fefecd\" stroke=\"transparent\" points=\"28.5,-196 28.5,-210 73.5,-210 73.5,-196 28.5,-196\"/>\n",
       "<polyline fill=\"none\" stroke=\"#444443\" points=\"28.5,-196 73.5,-196 \"/>\n",
       "<text text-anchor=\"start\" x=\"29.5\" y=\"-200.2\" font-family=\"Times,serif\" font-style=\"italic\" font-size=\"11.00\" fill=\"#444443\">TreeNode</text>\n",
       "<polygon fill=\"#fefecd\" stroke=\"transparent\" points=\"28.5,-194 28.5,-196 73.5,-196 73.5,-194 28.5,-194\"/>\n",
       "<polygon fill=\"#fefecd\" stroke=\"transparent\" points=\"28.5,-180 28.5,-194 52.5,-194 52.5,-180 28.5,-180\"/>\n",
       "<polyline fill=\"none\" stroke=\"#444443\" points=\"52.5,-180 52.5,-194 \"/>\n",
       "<text text-anchor=\"start\" x=\"33.5\" y=\"-184.2\" font-family=\"Helvetica,sans-Serif\" font-size=\"11.00\" fill=\"#444443\">val </text>\n",
       "<polygon fill=\"#fefecd\" stroke=\"transparent\" points=\"54.5,-180 54.5,-194 73.5,-194 73.5,-180 54.5,-180\"/>\n",
       "<text text-anchor=\"start\" x=\"55.5\" y=\"-184.2\" font-family=\"Helvetica,sans-Serif\" font-size=\"11.00\" fill=\"#444443\"> &#39;5&#39;</text>\n",
       "<polyline fill=\"none\" stroke=\"#444443\" points=\"28.5,-177 73.5,-177 \"/>\n",
       "<polygon fill=\"#fefecd\" stroke=\"transparent\" points=\"28.5,-175 28.5,-177 73.5,-177 73.5,-175 28.5,-175\"/>\n",
       "<polygon fill=\"#fefecd\" stroke=\"transparent\" points=\"28.5,-166 28.5,-175 52.5,-175 52.5,-166 28.5,-166\"/>\n",
       "<polyline fill=\"none\" stroke=\"#444443\" points=\"52.5,-166 52.5,-175 \"/>\n",
       "<text text-anchor=\"start\" x=\"29.5\" y=\"-169.2\" font-family=\"Helvetica,sans-Serif\" font-size=\"6.00\" fill=\"#444443\">left</text>\n",
       "<polygon fill=\"#fefecd\" stroke=\"transparent\" points=\"52.5,-166 52.5,-175 54.5,-175 54.5,-166 52.5,-166\"/>\n",
       "<polygon fill=\"#fefecd\" stroke=\"transparent\" points=\"54.5,-166 54.5,-175 73.5,-175 73.5,-166 54.5,-166\"/>\n",
       "<text text-anchor=\"start\" x=\"60.5\" y=\"-169.2\" font-family=\"Helvetica,sans-Serif\" font-size=\"6.00\" fill=\"#444443\">right</text>\n",
       "<polygon fill=\"#fefecd\" stroke=\"transparent\" points=\"28.5,-163 28.5,-166 52.5,-166 52.5,-163 28.5,-163\"/>\n",
       "<polyline fill=\"none\" stroke=\"#444443\" points=\"52.5,-163 52.5,-166 \"/>\n",
       "<text text-anchor=\"start\" x=\"40\" y=\"-164.2\" font-family=\"Helvetica,sans-Serif\" font-size=\"1.00\" fill=\"#444443\"> </text>\n",
       "<polygon fill=\"#fefecd\" stroke=\"transparent\" points=\"52.5,-163 52.5,-166 54.5,-166 54.5,-163 52.5,-163\"/>\n",
       "<polygon fill=\"#fefecd\" stroke=\"transparent\" points=\"54.5,-163 54.5,-166 73.5,-166 73.5,-163 54.5,-163\"/>\n",
       "<text text-anchor=\"start\" x=\"63.5\" y=\"-164.2\" font-family=\"Helvetica,sans-Serif\" font-size=\"1.00\" fill=\"#444443\"> </text>\n",
       "<polygon fill=\"#fefecd\" stroke=\"transparent\" points=\"28.5,-158 28.5,-163 52.5,-163 52.5,-158 28.5,-158\"/>\n",
       "<polyline fill=\"none\" stroke=\"#444443\" points=\"52.5,-158 52.5,-163 \"/>\n",
       "<text text-anchor=\"start\" x=\"40\" y=\"-159.6\" font-family=\"Helvetica,sans-Serif\" font-size=\"3.00\" fill=\"#444443\"> </text>\n",
       "<polygon fill=\"#fefecd\" stroke=\"transparent\" points=\"52.5,-158 52.5,-163 54.5,-163 54.5,-158 52.5,-158\"/>\n",
       "<polygon fill=\"#fefecd\" stroke=\"transparent\" points=\"54.5,-158 54.5,-163 73.5,-163 73.5,-158 54.5,-158\"/>\n",
       "<text text-anchor=\"start\" x=\"63.5\" y=\"-159.6\" font-family=\"Helvetica,sans-Serif\" font-size=\"3.00\" fill=\"#444443\"> </text>\n",
       "</g>\n",
       "<!-- node140549368811472 -->\n",
       "<g id=\"node2\" class=\"node\">\n",
       "<title>node140549368811472</title>\n",
       "<polygon fill=\"#fefecd\" stroke=\"#444443\" stroke-width=\"0.5\" points=\"49,-134 0,-134 0,-78 49,-78 49,-134\"/>\n",
       "<polygon fill=\"#fefecd\" stroke=\"transparent\" points=\"2.5,-118 2.5,-132 47.5,-132 47.5,-118 2.5,-118\"/>\n",
       "<polyline fill=\"none\" stroke=\"#444443\" points=\"2.5,-118 47.5,-118 \"/>\n",
       "<text text-anchor=\"start\" x=\"3.5\" y=\"-122.2\" font-family=\"Times,serif\" font-style=\"italic\" font-size=\"11.00\" fill=\"#444443\">TreeNode</text>\n",
       "<polygon fill=\"#fefecd\" stroke=\"transparent\" points=\"2.5,-116 2.5,-118 47.5,-118 47.5,-116 2.5,-116\"/>\n",
       "<polygon fill=\"#fefecd\" stroke=\"transparent\" points=\"2.5,-102 2.5,-116 26.5,-116 26.5,-102 2.5,-102\"/>\n",
       "<polyline fill=\"none\" stroke=\"#444443\" points=\"26.5,-102 26.5,-116 \"/>\n",
       "<text text-anchor=\"start\" x=\"7.5\" y=\"-106.2\" font-family=\"Helvetica,sans-Serif\" font-size=\"11.00\" fill=\"#444443\">val </text>\n",
       "<polygon fill=\"#fefecd\" stroke=\"transparent\" points=\"28.5,-102 28.5,-116 47.5,-116 47.5,-102 28.5,-102\"/>\n",
       "<text text-anchor=\"start\" x=\"29.5\" y=\"-106.2\" font-family=\"Helvetica,sans-Serif\" font-size=\"11.00\" fill=\"#444443\"> &#39;2&#39;</text>\n",
       "<polyline fill=\"none\" stroke=\"#444443\" points=\"2.5,-99 47.5,-99 \"/>\n",
       "<polygon fill=\"#fefecd\" stroke=\"transparent\" points=\"2.5,-97 2.5,-99 47.5,-99 47.5,-97 2.5,-97\"/>\n",
       "<polygon fill=\"#fefecd\" stroke=\"transparent\" points=\"2.5,-88 2.5,-97 26.5,-97 26.5,-88 2.5,-88\"/>\n",
       "<polyline fill=\"none\" stroke=\"#444443\" points=\"26.5,-88 26.5,-97 \"/>\n",
       "<text text-anchor=\"start\" x=\"3.5\" y=\"-91.2\" font-family=\"Helvetica,sans-Serif\" font-size=\"6.00\" fill=\"#444443\">left</text>\n",
       "<polygon fill=\"#fefecd\" stroke=\"transparent\" points=\"26.5,-88 26.5,-97 28.5,-97 28.5,-88 26.5,-88\"/>\n",
       "<polygon fill=\"#fefecd\" stroke=\"transparent\" points=\"28.5,-88 28.5,-97 47.5,-97 47.5,-88 28.5,-88\"/>\n",
       "<text text-anchor=\"start\" x=\"34.5\" y=\"-91.2\" font-family=\"Helvetica,sans-Serif\" font-size=\"6.00\" fill=\"#444443\">right</text>\n",
       "<polygon fill=\"#fefecd\" stroke=\"transparent\" points=\"2.5,-85 2.5,-88 26.5,-88 26.5,-85 2.5,-85\"/>\n",
       "<polyline fill=\"none\" stroke=\"#444443\" points=\"26.5,-85 26.5,-88 \"/>\n",
       "<text text-anchor=\"start\" x=\"14\" y=\"-86.2\" font-family=\"Helvetica,sans-Serif\" font-size=\"1.00\" fill=\"#444443\"> </text>\n",
       "<polygon fill=\"#fefecd\" stroke=\"transparent\" points=\"26.5,-85 26.5,-88 28.5,-88 28.5,-85 26.5,-85\"/>\n",
       "<polygon fill=\"#fefecd\" stroke=\"transparent\" points=\"28.5,-85 28.5,-88 47.5,-88 47.5,-85 28.5,-85\"/>\n",
       "<text text-anchor=\"start\" x=\"37.5\" y=\"-86.2\" font-family=\"Helvetica,sans-Serif\" font-size=\"1.00\" fill=\"#444443\"> </text>\n",
       "<polygon fill=\"#fefecd\" stroke=\"transparent\" points=\"2.5,-80 2.5,-85 26.5,-85 26.5,-80 2.5,-80\"/>\n",
       "<polyline fill=\"none\" stroke=\"#444443\" points=\"26.5,-80 26.5,-85 \"/>\n",
       "<text text-anchor=\"start\" x=\"14\" y=\"-81.6\" font-family=\"Helvetica,sans-Serif\" font-size=\"3.00\" fill=\"#444443\"> </text>\n",
       "<polygon fill=\"#fefecd\" stroke=\"transparent\" points=\"26.5,-80 26.5,-85 28.5,-85 28.5,-80 26.5,-80\"/>\n",
       "<polygon fill=\"#fefecd\" stroke=\"transparent\" points=\"28.5,-80 28.5,-85 47.5,-85 47.5,-80 28.5,-80\"/>\n",
       "<text text-anchor=\"start\" x=\"37.5\" y=\"-81.6\" font-family=\"Helvetica,sans-Serif\" font-size=\"3.00\" fill=\"#444443\"> </text>\n",
       "</g>\n",
       "<!-- node140549427814208&#45;&gt;node140549368811472 -->\n",
       "<g id=\"edge1\" class=\"edge\">\n",
       "<title>node140549427814208:c&#45;&gt;node140549368811472</title>\n",
       "<path fill=\"none\" stroke=\"#444443\" stroke-width=\"0.5\" d=\"M39.6,-159.85C38.33,-155.41 35.88,-146.84 33.32,-137.87\"/>\n",
       "<ellipse fill=\"#444443\" stroke=\"#444443\" stroke-width=\"0.5\" cx=\"40.06\" cy=\"-161.46\" rx=\"1.6\" ry=\"1.6\"/>\n",
       "<polygon fill=\"#444443\" stroke=\"#444443\" stroke-width=\"0.5\" points=\"34.66,-137.48 32.22,-134.02 31.97,-138.25 34.66,-137.48\"/>\n",
       "</g>\n",
       "<!-- node140549368807584 -->\n",
       "<g id=\"node4\" class=\"node\">\n",
       "<title>node140549368807584</title>\n",
       "<polygon fill=\"#fefecd\" stroke=\"#444443\" stroke-width=\"0.5\" points=\"105,-134 56,-134 56,-78 105,-78 105,-134\"/>\n",
       "<polygon fill=\"#fefecd\" stroke=\"transparent\" points=\"58.5,-118 58.5,-132 103.5,-132 103.5,-118 58.5,-118\"/>\n",
       "<polyline fill=\"none\" stroke=\"#444443\" points=\"58.5,-118 103.5,-118 \"/>\n",
       "<text text-anchor=\"start\" x=\"59.5\" y=\"-122.2\" font-family=\"Times,serif\" font-style=\"italic\" font-size=\"11.00\" fill=\"#444443\">TreeNode</text>\n",
       "<polygon fill=\"#fefecd\" stroke=\"transparent\" points=\"58.5,-116 58.5,-118 103.5,-118 103.5,-116 58.5,-116\"/>\n",
       "<polygon fill=\"#fefecd\" stroke=\"transparent\" points=\"58.5,-102 58.5,-116 82.5,-116 82.5,-102 58.5,-102\"/>\n",
       "<polyline fill=\"none\" stroke=\"#444443\" points=\"82.5,-102 82.5,-116 \"/>\n",
       "<text text-anchor=\"start\" x=\"63.5\" y=\"-106.2\" font-family=\"Helvetica,sans-Serif\" font-size=\"11.00\" fill=\"#444443\">val </text>\n",
       "<polygon fill=\"#fefecd\" stroke=\"transparent\" points=\"84.5,-102 84.5,-116 103.5,-116 103.5,-102 84.5,-102\"/>\n",
       "<text text-anchor=\"start\" x=\"85.5\" y=\"-106.2\" font-family=\"Helvetica,sans-Serif\" font-size=\"11.00\" fill=\"#444443\"> &#39;6&#39;</text>\n",
       "<polyline fill=\"none\" stroke=\"#444443\" points=\"58.5,-99 103.5,-99 \"/>\n",
       "<polygon fill=\"#fefecd\" stroke=\"transparent\" points=\"58.5,-97 58.5,-99 103.5,-99 103.5,-97 58.5,-97\"/>\n",
       "<polygon fill=\"#fefecd\" stroke=\"transparent\" points=\"58.5,-88 58.5,-97 82.5,-97 82.5,-88 58.5,-88\"/>\n",
       "<polyline fill=\"none\" stroke=\"#444443\" points=\"82.5,-88 82.5,-97 \"/>\n",
       "<text text-anchor=\"start\" x=\"59.5\" y=\"-91.2\" font-family=\"Helvetica,sans-Serif\" font-size=\"6.00\" fill=\"#444443\">left</text>\n",
       "<polygon fill=\"#fefecd\" stroke=\"transparent\" points=\"82.5,-88 82.5,-97 84.5,-97 84.5,-88 82.5,-88\"/>\n",
       "<polygon fill=\"#fefecd\" stroke=\"transparent\" points=\"84.5,-88 84.5,-97 103.5,-97 103.5,-88 84.5,-88\"/>\n",
       "<text text-anchor=\"start\" x=\"90.5\" y=\"-91.2\" font-family=\"Helvetica,sans-Serif\" font-size=\"6.00\" fill=\"#444443\">right</text>\n",
       "<polygon fill=\"#fefecd\" stroke=\"transparent\" points=\"58.5,-85 58.5,-88 82.5,-88 82.5,-85 58.5,-85\"/>\n",
       "<polyline fill=\"none\" stroke=\"#444443\" points=\"82.5,-85 82.5,-88 \"/>\n",
       "<text text-anchor=\"start\" x=\"70\" y=\"-86.2\" font-family=\"Helvetica,sans-Serif\" font-size=\"1.00\" fill=\"#444443\"> </text>\n",
       "<polygon fill=\"#fefecd\" stroke=\"transparent\" points=\"82.5,-85 82.5,-88 84.5,-88 84.5,-85 82.5,-85\"/>\n",
       "<polygon fill=\"#fefecd\" stroke=\"transparent\" points=\"84.5,-85 84.5,-88 103.5,-88 103.5,-85 84.5,-85\"/>\n",
       "<text text-anchor=\"start\" x=\"93.5\" y=\"-86.2\" font-family=\"Helvetica,sans-Serif\" font-size=\"1.00\" fill=\"#444443\"> </text>\n",
       "<polygon fill=\"#fefecd\" stroke=\"transparent\" points=\"58.5,-80 58.5,-85 82.5,-85 82.5,-80 58.5,-80\"/>\n",
       "<polyline fill=\"none\" stroke=\"#444443\" points=\"82.5,-80 82.5,-85 \"/>\n",
       "<text text-anchor=\"start\" x=\"70\" y=\"-81.6\" font-family=\"Helvetica,sans-Serif\" font-size=\"3.00\" fill=\"#444443\"> </text>\n",
       "<polygon fill=\"#fefecd\" stroke=\"transparent\" points=\"82.5,-80 82.5,-85 84.5,-85 84.5,-80 82.5,-80\"/>\n",
       "<polygon fill=\"#fefecd\" stroke=\"transparent\" points=\"84.5,-80 84.5,-85 103.5,-85 103.5,-80 84.5,-80\"/>\n",
       "<text text-anchor=\"start\" x=\"93.5\" y=\"-81.6\" font-family=\"Helvetica,sans-Serif\" font-size=\"3.00\" fill=\"#444443\"> </text>\n",
       "</g>\n",
       "<!-- node140549427814208&#45;&gt;node140549368807584 -->\n",
       "<g id=\"edge2\" class=\"edge\">\n",
       "<title>node140549427814208:c&#45;&gt;node140549368807584</title>\n",
       "<path fill=\"none\" stroke=\"#444443\" stroke-width=\"0.5\" d=\"M65.4,-159.85C66.67,-155.41 69.12,-146.84 71.68,-137.87\"/>\n",
       "<ellipse fill=\"#444443\" stroke=\"#444443\" stroke-width=\"0.5\" cx=\"64.94\" cy=\"-161.46\" rx=\"1.6\" ry=\"1.6\"/>\n",
       "<polygon fill=\"#444443\" stroke=\"#444443\" stroke-width=\"0.5\" points=\"73.03,-138.25 72.78,-134.02 70.34,-137.48 73.03,-138.25\"/>\n",
       "</g>\n",
       "<!-- node140549427813824 -->\n",
       "<g id=\"node3\" class=\"node\">\n",
       "<title>node140549427813824</title>\n",
       "<polygon fill=\"#fefecd\" stroke=\"#444443\" stroke-width=\"0.5\" points=\"63,-56 14,-56 14,0 63,0 63,-56\"/>\n",
       "<polygon fill=\"#fefecd\" stroke=\"transparent\" points=\"16.5,-40 16.5,-54 61.5,-54 61.5,-40 16.5,-40\"/>\n",
       "<polyline fill=\"none\" stroke=\"#444443\" points=\"16.5,-40 61.5,-40 \"/>\n",
       "<text text-anchor=\"start\" x=\"17.5\" y=\"-44.2\" font-family=\"Times,serif\" font-style=\"italic\" font-size=\"11.00\" fill=\"#444443\">TreeNode</text>\n",
       "<polygon fill=\"#fefecd\" stroke=\"transparent\" points=\"16.5,-38 16.5,-40 61.5,-40 61.5,-38 16.5,-38\"/>\n",
       "<polygon fill=\"#fefecd\" stroke=\"transparent\" points=\"16.5,-24 16.5,-38 40.5,-38 40.5,-24 16.5,-24\"/>\n",
       "<polyline fill=\"none\" stroke=\"#444443\" points=\"40.5,-24 40.5,-38 \"/>\n",
       "<text text-anchor=\"start\" x=\"21.5\" y=\"-28.2\" font-family=\"Helvetica,sans-Serif\" font-size=\"11.00\" fill=\"#444443\">val </text>\n",
       "<polygon fill=\"#fefecd\" stroke=\"transparent\" points=\"42.5,-24 42.5,-38 61.5,-38 61.5,-24 42.5,-24\"/>\n",
       "<text text-anchor=\"start\" x=\"43.5\" y=\"-28.2\" font-family=\"Helvetica,sans-Serif\" font-size=\"11.00\" fill=\"#444443\"> &#39;4&#39;</text>\n",
       "<polyline fill=\"none\" stroke=\"#444443\" points=\"16.5,-21 61.5,-21 \"/>\n",
       "<polygon fill=\"#fefecd\" stroke=\"transparent\" points=\"16.5,-19 16.5,-21 61.5,-21 61.5,-19 16.5,-19\"/>\n",
       "<polygon fill=\"#fefecd\" stroke=\"transparent\" points=\"16.5,-10 16.5,-19 40.5,-19 40.5,-10 16.5,-10\"/>\n",
       "<polyline fill=\"none\" stroke=\"#444443\" points=\"40.5,-10 40.5,-19 \"/>\n",
       "<text text-anchor=\"start\" x=\"17.5\" y=\"-13.2\" font-family=\"Helvetica,sans-Serif\" font-size=\"6.00\" fill=\"#444443\">left</text>\n",
       "<polygon fill=\"#fefecd\" stroke=\"transparent\" points=\"40.5,-10 40.5,-19 42.5,-19 42.5,-10 40.5,-10\"/>\n",
       "<polygon fill=\"#fefecd\" stroke=\"transparent\" points=\"42.5,-10 42.5,-19 61.5,-19 61.5,-10 42.5,-10\"/>\n",
       "<text text-anchor=\"start\" x=\"48.5\" y=\"-13.2\" font-family=\"Helvetica,sans-Serif\" font-size=\"6.00\" fill=\"#444443\">right</text>\n",
       "<polygon fill=\"#fefecd\" stroke=\"transparent\" points=\"16.5,-7 16.5,-10 40.5,-10 40.5,-7 16.5,-7\"/>\n",
       "<polyline fill=\"none\" stroke=\"#444443\" points=\"40.5,-7 40.5,-10 \"/>\n",
       "<text text-anchor=\"start\" x=\"28\" y=\"-8.2\" font-family=\"Helvetica,sans-Serif\" font-size=\"1.00\" fill=\"#444443\"> </text>\n",
       "<polygon fill=\"#fefecd\" stroke=\"transparent\" points=\"40.5,-7 40.5,-10 42.5,-10 42.5,-7 40.5,-7\"/>\n",
       "<polygon fill=\"#fefecd\" stroke=\"transparent\" points=\"42.5,-7 42.5,-10 61.5,-10 61.5,-7 42.5,-7\"/>\n",
       "<text text-anchor=\"start\" x=\"51.5\" y=\"-8.2\" font-family=\"Helvetica,sans-Serif\" font-size=\"1.00\" fill=\"#444443\"> </text>\n",
       "<polygon fill=\"#fefecd\" stroke=\"transparent\" points=\"16.5,-2 16.5,-7 40.5,-7 40.5,-2 16.5,-2\"/>\n",
       "<polyline fill=\"none\" stroke=\"#444443\" points=\"40.5,-2 40.5,-7 \"/>\n",
       "<text text-anchor=\"start\" x=\"28\" y=\"-3.6\" font-family=\"Helvetica,sans-Serif\" font-size=\"3.00\" fill=\"#444443\"> </text>\n",
       "<polygon fill=\"#fefecd\" stroke=\"transparent\" points=\"40.5,-2 40.5,-7 42.5,-7 42.5,-2 40.5,-2\"/>\n",
       "<polygon fill=\"#fefecd\" stroke=\"transparent\" points=\"42.5,-2 42.5,-7 61.5,-7 61.5,-2 42.5,-2\"/>\n",
       "<text text-anchor=\"start\" x=\"51.5\" y=\"-3.6\" font-family=\"Helvetica,sans-Serif\" font-size=\"3.00\" fill=\"#444443\"> </text>\n",
       "</g>\n",
       "<!-- node140549368811472&#45;&gt;node140549427813824 -->\n",
       "<g id=\"edge3\" class=\"edge\">\n",
       "<title>node140549368811472:c&#45;&gt;node140549427813824</title>\n",
       "<path fill=\"none\" stroke=\"#444443\" stroke-width=\"0.5\" d=\"M38.5,-81.52C38.5,-77.05 38.5,-68.86 38.5,-60.26\"/>\n",
       "<ellipse fill=\"#444443\" stroke=\"#444443\" stroke-width=\"0.5\" cx=\"38.5\" cy=\"-83.4\" rx=\"1.6\" ry=\"1.6\"/>\n",
       "<polygon fill=\"#444443\" stroke=\"#444443\" stroke-width=\"0.5\" points=\"39.9,-60.02 38.5,-56.02 37.1,-60.02 39.9,-60.02\"/>\n",
       "</g>\n",
       "<!-- node140549427810944 -->\n",
       "<g id=\"node5\" class=\"node\">\n",
       "<title>node140549427810944</title>\n",
       "<polygon fill=\"#fefecd\" stroke=\"#444443\" stroke-width=\"0.5\" points=\"119,-56 70,-56 70,0 119,0 119,-56\"/>\n",
       "<polygon fill=\"#fefecd\" stroke=\"transparent\" points=\"72.5,-40 72.5,-54 117.5,-54 117.5,-40 72.5,-40\"/>\n",
       "<polyline fill=\"none\" stroke=\"#444443\" points=\"72.5,-40 117.5,-40 \"/>\n",
       "<text text-anchor=\"start\" x=\"73.5\" y=\"-44.2\" font-family=\"Times,serif\" font-style=\"italic\" font-size=\"11.00\" fill=\"#444443\">TreeNode</text>\n",
       "<polygon fill=\"#fefecd\" stroke=\"transparent\" points=\"72.5,-38 72.5,-40 117.5,-40 117.5,-38 72.5,-38\"/>\n",
       "<polygon fill=\"#fefecd\" stroke=\"transparent\" points=\"72.5,-24 72.5,-38 96.5,-38 96.5,-24 72.5,-24\"/>\n",
       "<polyline fill=\"none\" stroke=\"#444443\" points=\"96.5,-24 96.5,-38 \"/>\n",
       "<text text-anchor=\"start\" x=\"77.5\" y=\"-28.2\" font-family=\"Helvetica,sans-Serif\" font-size=\"11.00\" fill=\"#444443\">val </text>\n",
       "<polygon fill=\"#fefecd\" stroke=\"transparent\" points=\"98.5,-24 98.5,-38 117.5,-38 117.5,-24 98.5,-24\"/>\n",
       "<text text-anchor=\"start\" x=\"99.5\" y=\"-28.2\" font-family=\"Helvetica,sans-Serif\" font-size=\"11.00\" fill=\"#444443\"> &#39;7&#39;</text>\n",
       "<polyline fill=\"none\" stroke=\"#444443\" points=\"72.5,-21 117.5,-21 \"/>\n",
       "<polygon fill=\"#fefecd\" stroke=\"transparent\" points=\"72.5,-19 72.5,-21 117.5,-21 117.5,-19 72.5,-19\"/>\n",
       "<polygon fill=\"#fefecd\" stroke=\"transparent\" points=\"72.5,-10 72.5,-19 96.5,-19 96.5,-10 72.5,-10\"/>\n",
       "<polyline fill=\"none\" stroke=\"#444443\" points=\"96.5,-10 96.5,-19 \"/>\n",
       "<text text-anchor=\"start\" x=\"73.5\" y=\"-13.2\" font-family=\"Helvetica,sans-Serif\" font-size=\"6.00\" fill=\"#444443\">left</text>\n",
       "<polygon fill=\"#fefecd\" stroke=\"transparent\" points=\"96.5,-10 96.5,-19 98.5,-19 98.5,-10 96.5,-10\"/>\n",
       "<polygon fill=\"#fefecd\" stroke=\"transparent\" points=\"98.5,-10 98.5,-19 117.5,-19 117.5,-10 98.5,-10\"/>\n",
       "<text text-anchor=\"start\" x=\"104.5\" y=\"-13.2\" font-family=\"Helvetica,sans-Serif\" font-size=\"6.00\" fill=\"#444443\">right</text>\n",
       "<polygon fill=\"#fefecd\" stroke=\"transparent\" points=\"72.5,-7 72.5,-10 96.5,-10 96.5,-7 72.5,-7\"/>\n",
       "<polyline fill=\"none\" stroke=\"#444443\" points=\"96.5,-7 96.5,-10 \"/>\n",
       "<text text-anchor=\"start\" x=\"84\" y=\"-8.2\" font-family=\"Helvetica,sans-Serif\" font-size=\"1.00\" fill=\"#444443\"> </text>\n",
       "<polygon fill=\"#fefecd\" stroke=\"transparent\" points=\"96.5,-7 96.5,-10 98.5,-10 98.5,-7 96.5,-7\"/>\n",
       "<polygon fill=\"#fefecd\" stroke=\"transparent\" points=\"98.5,-7 98.5,-10 117.5,-10 117.5,-7 98.5,-7\"/>\n",
       "<text text-anchor=\"start\" x=\"107.5\" y=\"-8.2\" font-family=\"Helvetica,sans-Serif\" font-size=\"1.00\" fill=\"#444443\"> </text>\n",
       "<polygon fill=\"#fefecd\" stroke=\"transparent\" points=\"72.5,-2 72.5,-7 96.5,-7 96.5,-2 72.5,-2\"/>\n",
       "<polyline fill=\"none\" stroke=\"#444443\" points=\"96.5,-2 96.5,-7 \"/>\n",
       "<text text-anchor=\"start\" x=\"84\" y=\"-3.6\" font-family=\"Helvetica,sans-Serif\" font-size=\"3.00\" fill=\"#444443\"> </text>\n",
       "<polygon fill=\"#fefecd\" stroke=\"transparent\" points=\"96.5,-2 96.5,-7 98.5,-7 98.5,-2 96.5,-2\"/>\n",
       "<polygon fill=\"#fefecd\" stroke=\"transparent\" points=\"98.5,-2 98.5,-7 117.5,-7 117.5,-2 98.5,-2\"/>\n",
       "<text text-anchor=\"start\" x=\"107.5\" y=\"-3.6\" font-family=\"Helvetica,sans-Serif\" font-size=\"3.00\" fill=\"#444443\"> </text>\n",
       "</g>\n",
       "<!-- node140549368807584&#45;&gt;node140549427810944 -->\n",
       "<g id=\"edge4\" class=\"edge\">\n",
       "<title>node140549368807584:c&#45;&gt;node140549427810944</title>\n",
       "<path fill=\"none\" stroke=\"#444443\" stroke-width=\"0.5\" d=\"M94.5,-81.52C94.5,-77.05 94.5,-68.86 94.5,-60.26\"/>\n",
       "<ellipse fill=\"#444443\" stroke=\"#444443\" stroke-width=\"0.5\" cx=\"94.5\" cy=\"-83.4\" rx=\"1.6\" ry=\"1.6\"/>\n",
       "<polygon fill=\"#444443\" stroke=\"#444443\" stroke-width=\"0.5\" points=\"95.9,-60.02 94.5,-56.02 93.1,-60.02 95.9,-60.02\"/>\n",
       "</g>\n",
       "</g>\n",
       "</svg>\n"
      ],
      "text/plain": [
       "<graphviz.sources.Source at 0x7fd436b7de80>"
      ]
     },
     "execution_count": 105,
     "metadata": {},
     "output_type": "execute_result"
    }
   ],
   "source": [
    "root = TreeNode(5)\n",
    "root.left = TreeNode(3)\n",
    "root.right = TreeNode(6)\n",
    "root.left.left = TreeNode(2)\n",
    "root.left.right = TreeNode(4)\n",
    "root.right.right = TreeNode(7)\n",
    "treeviz(root)\n",
    "key = 3\n",
    "deleteNode(root, key)\n",
    "treeviz(root)"
   ]
  },
  {
   "cell_type": "code",
   "execution_count": 106,
   "id": "3589f26b",
   "metadata": {},
   "outputs": [
    {
     "name": "stdout",
     "output_type": "stream",
     "text": [
      "5 3 6 2 4 7 \n"
     ]
    },
    {
     "data": {
      "image/svg+xml": [
       "<?xml version=\"1.0\" encoding=\"UTF-8\" standalone=\"no\"?>\n",
       "<!DOCTYPE svg PUBLIC \"-//W3C//DTD SVG 1.1//EN\"\n",
       " \"http://www.w3.org/Graphics/SVG/1.1/DTD/svg11.dtd\">\n",
       "<!-- Generated by graphviz version 2.49.3 (20211023.0002)\n",
       " -->\n",
       "<!-- Title: G Pages: 1 -->\n",
       "<svg width=\"137pt\" height=\"220pt\"\n",
       " viewBox=\"0.00 0.00 137.00 220.00\" xmlns=\"http://www.w3.org/2000/svg\" xmlns:xlink=\"http://www.w3.org/1999/xlink\">\n",
       "<g id=\"graph0\" class=\"graph\" transform=\"scale(1 1) rotate(0) translate(4 216)\">\n",
       "<title>G</title>\n",
       "<polygon fill=\"white\" stroke=\"transparent\" points=\"-4,4 -4,-216 133,-216 133,4 -4,4\"/>\n",
       "<!-- node140549427811232 -->\n",
       "<g id=\"node1\" class=\"node\">\n",
       "<title>node140549427811232</title>\n",
       "<polygon fill=\"#fefecd\" stroke=\"#444443\" stroke-width=\"0.5\" points=\"85,-212 36,-212 36,-156 85,-156 85,-212\"/>\n",
       "<polygon fill=\"#fefecd\" stroke=\"transparent\" points=\"38.5,-196 38.5,-210 83.5,-210 83.5,-196 38.5,-196\"/>\n",
       "<polyline fill=\"none\" stroke=\"#444443\" points=\"38.5,-196 83.5,-196 \"/>\n",
       "<text text-anchor=\"start\" x=\"39.5\" y=\"-200.2\" font-family=\"Times,serif\" font-style=\"italic\" font-size=\"11.00\" fill=\"#444443\">TreeNode</text>\n",
       "<polygon fill=\"#fefecd\" stroke=\"transparent\" points=\"38.5,-194 38.5,-196 83.5,-196 83.5,-194 38.5,-194\"/>\n",
       "<polygon fill=\"#fefecd\" stroke=\"transparent\" points=\"38.5,-180 38.5,-194 62.5,-194 62.5,-180 38.5,-180\"/>\n",
       "<polyline fill=\"none\" stroke=\"#444443\" points=\"62.5,-180 62.5,-194 \"/>\n",
       "<text text-anchor=\"start\" x=\"43.5\" y=\"-184.2\" font-family=\"Helvetica,sans-Serif\" font-size=\"11.00\" fill=\"#444443\">val </text>\n",
       "<polygon fill=\"#fefecd\" stroke=\"transparent\" points=\"64.5,-180 64.5,-194 83.5,-194 83.5,-180 64.5,-180\"/>\n",
       "<text text-anchor=\"start\" x=\"65.5\" y=\"-184.2\" font-family=\"Helvetica,sans-Serif\" font-size=\"11.00\" fill=\"#444443\"> &#39;4&#39;</text>\n",
       "<polyline fill=\"none\" stroke=\"#444443\" points=\"38.5,-177 83.5,-177 \"/>\n",
       "<polygon fill=\"#fefecd\" stroke=\"transparent\" points=\"38.5,-175 38.5,-177 83.5,-177 83.5,-175 38.5,-175\"/>\n",
       "<polygon fill=\"#fefecd\" stroke=\"transparent\" points=\"38.5,-166 38.5,-175 62.5,-175 62.5,-166 38.5,-166\"/>\n",
       "<polyline fill=\"none\" stroke=\"#444443\" points=\"62.5,-166 62.5,-175 \"/>\n",
       "<text text-anchor=\"start\" x=\"39.5\" y=\"-169.2\" font-family=\"Helvetica,sans-Serif\" font-size=\"6.00\" fill=\"#444443\">left</text>\n",
       "<polygon fill=\"#fefecd\" stroke=\"transparent\" points=\"62.5,-166 62.5,-175 64.5,-175 64.5,-166 62.5,-166\"/>\n",
       "<polygon fill=\"#fefecd\" stroke=\"transparent\" points=\"64.5,-166 64.5,-175 83.5,-175 83.5,-166 64.5,-166\"/>\n",
       "<text text-anchor=\"start\" x=\"70.5\" y=\"-169.2\" font-family=\"Helvetica,sans-Serif\" font-size=\"6.00\" fill=\"#444443\">right</text>\n",
       "<polygon fill=\"#fefecd\" stroke=\"transparent\" points=\"38.5,-163 38.5,-166 62.5,-166 62.5,-163 38.5,-163\"/>\n",
       "<polyline fill=\"none\" stroke=\"#444443\" points=\"62.5,-163 62.5,-166 \"/>\n",
       "<text text-anchor=\"start\" x=\"50\" y=\"-164.2\" font-family=\"Helvetica,sans-Serif\" font-size=\"1.00\" fill=\"#444443\"> </text>\n",
       "<polygon fill=\"#fefecd\" stroke=\"transparent\" points=\"62.5,-163 62.5,-166 64.5,-166 64.5,-163 62.5,-163\"/>\n",
       "<polygon fill=\"#fefecd\" stroke=\"transparent\" points=\"64.5,-163 64.5,-166 83.5,-166 83.5,-163 64.5,-163\"/>\n",
       "<text text-anchor=\"start\" x=\"73.5\" y=\"-164.2\" font-family=\"Helvetica,sans-Serif\" font-size=\"1.00\" fill=\"#444443\"> </text>\n",
       "<polygon fill=\"#fefecd\" stroke=\"transparent\" points=\"38.5,-158 38.5,-163 62.5,-163 62.5,-158 38.5,-158\"/>\n",
       "<polyline fill=\"none\" stroke=\"#444443\" points=\"62.5,-158 62.5,-163 \"/>\n",
       "<text text-anchor=\"start\" x=\"50\" y=\"-159.6\" font-family=\"Helvetica,sans-Serif\" font-size=\"3.00\" fill=\"#444443\"> </text>\n",
       "<polygon fill=\"#fefecd\" stroke=\"transparent\" points=\"62.5,-158 62.5,-163 64.5,-163 64.5,-158 62.5,-158\"/>\n",
       "<polygon fill=\"#fefecd\" stroke=\"transparent\" points=\"64.5,-158 64.5,-163 83.5,-163 83.5,-158 64.5,-158\"/>\n",
       "<text text-anchor=\"start\" x=\"73.5\" y=\"-159.6\" font-family=\"Helvetica,sans-Serif\" font-size=\"3.00\" fill=\"#444443\"> </text>\n",
       "</g>\n",
       "<!-- node140549368811472 -->\n",
       "<g id=\"node2\" class=\"node\">\n",
       "<title>node140549368811472</title>\n",
       "<polygon fill=\"#fefecd\" stroke=\"#444443\" stroke-width=\"0.5\" points=\"59,-134 10,-134 10,-78 59,-78 59,-134\"/>\n",
       "<polygon fill=\"#fefecd\" stroke=\"transparent\" points=\"12.5,-118 12.5,-132 57.5,-132 57.5,-118 12.5,-118\"/>\n",
       "<polyline fill=\"none\" stroke=\"#444443\" points=\"12.5,-118 57.5,-118 \"/>\n",
       "<text text-anchor=\"start\" x=\"13.5\" y=\"-122.2\" font-family=\"Times,serif\" font-style=\"italic\" font-size=\"11.00\" fill=\"#444443\">TreeNode</text>\n",
       "<polygon fill=\"#fefecd\" stroke=\"transparent\" points=\"12.5,-116 12.5,-118 57.5,-118 57.5,-116 12.5,-116\"/>\n",
       "<polygon fill=\"#fefecd\" stroke=\"transparent\" points=\"12.5,-102 12.5,-116 36.5,-116 36.5,-102 12.5,-102\"/>\n",
       "<polyline fill=\"none\" stroke=\"#444443\" points=\"36.5,-102 36.5,-116 \"/>\n",
       "<text text-anchor=\"start\" x=\"17.5\" y=\"-106.2\" font-family=\"Helvetica,sans-Serif\" font-size=\"11.00\" fill=\"#444443\">val </text>\n",
       "<polygon fill=\"#fefecd\" stroke=\"transparent\" points=\"38.5,-102 38.5,-116 57.5,-116 57.5,-102 38.5,-102\"/>\n",
       "<text text-anchor=\"start\" x=\"39.5\" y=\"-106.2\" font-family=\"Helvetica,sans-Serif\" font-size=\"11.00\" fill=\"#444443\"> &#39;3&#39;</text>\n",
       "<polyline fill=\"none\" stroke=\"#444443\" points=\"12.5,-99 57.5,-99 \"/>\n",
       "<polygon fill=\"#fefecd\" stroke=\"transparent\" points=\"12.5,-97 12.5,-99 57.5,-99 57.5,-97 12.5,-97\"/>\n",
       "<polygon fill=\"#fefecd\" stroke=\"transparent\" points=\"12.5,-88 12.5,-97 36.5,-97 36.5,-88 12.5,-88\"/>\n",
       "<polyline fill=\"none\" stroke=\"#444443\" points=\"36.5,-88 36.5,-97 \"/>\n",
       "<text text-anchor=\"start\" x=\"13.5\" y=\"-91.2\" font-family=\"Helvetica,sans-Serif\" font-size=\"6.00\" fill=\"#444443\">left</text>\n",
       "<polygon fill=\"#fefecd\" stroke=\"transparent\" points=\"36.5,-88 36.5,-97 38.5,-97 38.5,-88 36.5,-88\"/>\n",
       "<polygon fill=\"#fefecd\" stroke=\"transparent\" points=\"38.5,-88 38.5,-97 57.5,-97 57.5,-88 38.5,-88\"/>\n",
       "<text text-anchor=\"start\" x=\"44.5\" y=\"-91.2\" font-family=\"Helvetica,sans-Serif\" font-size=\"6.00\" fill=\"#444443\">right</text>\n",
       "<polygon fill=\"#fefecd\" stroke=\"transparent\" points=\"12.5,-85 12.5,-88 36.5,-88 36.5,-85 12.5,-85\"/>\n",
       "<polyline fill=\"none\" stroke=\"#444443\" points=\"36.5,-85 36.5,-88 \"/>\n",
       "<text text-anchor=\"start\" x=\"24\" y=\"-86.2\" font-family=\"Helvetica,sans-Serif\" font-size=\"1.00\" fill=\"#444443\"> </text>\n",
       "<polygon fill=\"#fefecd\" stroke=\"transparent\" points=\"36.5,-85 36.5,-88 38.5,-88 38.5,-85 36.5,-85\"/>\n",
       "<polygon fill=\"#fefecd\" stroke=\"transparent\" points=\"38.5,-85 38.5,-88 57.5,-88 57.5,-85 38.5,-85\"/>\n",
       "<text text-anchor=\"start\" x=\"47.5\" y=\"-86.2\" font-family=\"Helvetica,sans-Serif\" font-size=\"1.00\" fill=\"#444443\"> </text>\n",
       "<polygon fill=\"#fefecd\" stroke=\"transparent\" points=\"12.5,-80 12.5,-85 36.5,-85 36.5,-80 12.5,-80\"/>\n",
       "<polyline fill=\"none\" stroke=\"#444443\" points=\"36.5,-80 36.5,-85 \"/>\n",
       "<text text-anchor=\"start\" x=\"24\" y=\"-81.6\" font-family=\"Helvetica,sans-Serif\" font-size=\"3.00\" fill=\"#444443\"> </text>\n",
       "<polygon fill=\"#fefecd\" stroke=\"transparent\" points=\"36.5,-80 36.5,-85 38.5,-85 38.5,-80 36.5,-80\"/>\n",
       "<polygon fill=\"#fefecd\" stroke=\"transparent\" points=\"38.5,-80 38.5,-85 57.5,-85 57.5,-80 38.5,-80\"/>\n",
       "<text text-anchor=\"start\" x=\"47.5\" y=\"-81.6\" font-family=\"Helvetica,sans-Serif\" font-size=\"3.00\" fill=\"#444443\"> </text>\n",
       "</g>\n",
       "<!-- node140549427811232&#45;&gt;node140549368811472 -->\n",
       "<g id=\"edge1\" class=\"edge\">\n",
       "<title>node140549427811232:c&#45;&gt;node140549368811472</title>\n",
       "<path fill=\"none\" stroke=\"#444443\" stroke-width=\"0.5\" d=\"M49.6,-159.85C48.33,-155.41 45.88,-146.84 43.32,-137.87\"/>\n",
       "<ellipse fill=\"#444443\" stroke=\"#444443\" stroke-width=\"0.5\" cx=\"50.06\" cy=\"-161.46\" rx=\"1.6\" ry=\"1.6\"/>\n",
       "<polygon fill=\"#444443\" stroke=\"#444443\" stroke-width=\"0.5\" points=\"44.66,-137.48 42.22,-134.02 41.97,-138.25 44.66,-137.48\"/>\n",
       "</g>\n",
       "<!-- node140549368807584 -->\n",
       "<g id=\"node4\" class=\"node\">\n",
       "<title>node140549368807584</title>\n",
       "<polygon fill=\"#fefecd\" stroke=\"#444443\" stroke-width=\"0.5\" points=\"115,-134 66,-134 66,-78 115,-78 115,-134\"/>\n",
       "<polygon fill=\"#fefecd\" stroke=\"transparent\" points=\"68.5,-118 68.5,-132 113.5,-132 113.5,-118 68.5,-118\"/>\n",
       "<polyline fill=\"none\" stroke=\"#444443\" points=\"68.5,-118 113.5,-118 \"/>\n",
       "<text text-anchor=\"start\" x=\"69.5\" y=\"-122.2\" font-family=\"Times,serif\" font-style=\"italic\" font-size=\"11.00\" fill=\"#444443\">TreeNode</text>\n",
       "<polygon fill=\"#fefecd\" stroke=\"transparent\" points=\"68.5,-116 68.5,-118 113.5,-118 113.5,-116 68.5,-116\"/>\n",
       "<polygon fill=\"#fefecd\" stroke=\"transparent\" points=\"68.5,-102 68.5,-116 92.5,-116 92.5,-102 68.5,-102\"/>\n",
       "<polyline fill=\"none\" stroke=\"#444443\" points=\"92.5,-102 92.5,-116 \"/>\n",
       "<text text-anchor=\"start\" x=\"73.5\" y=\"-106.2\" font-family=\"Helvetica,sans-Serif\" font-size=\"11.00\" fill=\"#444443\">val </text>\n",
       "<polygon fill=\"#fefecd\" stroke=\"transparent\" points=\"94.5,-102 94.5,-116 113.5,-116 113.5,-102 94.5,-102\"/>\n",
       "<text text-anchor=\"start\" x=\"95.5\" y=\"-106.2\" font-family=\"Helvetica,sans-Serif\" font-size=\"11.00\" fill=\"#444443\"> &#39;6&#39;</text>\n",
       "<polyline fill=\"none\" stroke=\"#444443\" points=\"68.5,-99 113.5,-99 \"/>\n",
       "<polygon fill=\"#fefecd\" stroke=\"transparent\" points=\"68.5,-97 68.5,-99 113.5,-99 113.5,-97 68.5,-97\"/>\n",
       "<polygon fill=\"#fefecd\" stroke=\"transparent\" points=\"68.5,-88 68.5,-97 92.5,-97 92.5,-88 68.5,-88\"/>\n",
       "<polyline fill=\"none\" stroke=\"#444443\" points=\"92.5,-88 92.5,-97 \"/>\n",
       "<text text-anchor=\"start\" x=\"69.5\" y=\"-91.2\" font-family=\"Helvetica,sans-Serif\" font-size=\"6.00\" fill=\"#444443\">left</text>\n",
       "<polygon fill=\"#fefecd\" stroke=\"transparent\" points=\"92.5,-88 92.5,-97 94.5,-97 94.5,-88 92.5,-88\"/>\n",
       "<polygon fill=\"#fefecd\" stroke=\"transparent\" points=\"94.5,-88 94.5,-97 113.5,-97 113.5,-88 94.5,-88\"/>\n",
       "<text text-anchor=\"start\" x=\"100.5\" y=\"-91.2\" font-family=\"Helvetica,sans-Serif\" font-size=\"6.00\" fill=\"#444443\">right</text>\n",
       "<polygon fill=\"#fefecd\" stroke=\"transparent\" points=\"68.5,-85 68.5,-88 92.5,-88 92.5,-85 68.5,-85\"/>\n",
       "<polyline fill=\"none\" stroke=\"#444443\" points=\"92.5,-85 92.5,-88 \"/>\n",
       "<text text-anchor=\"start\" x=\"80\" y=\"-86.2\" font-family=\"Helvetica,sans-Serif\" font-size=\"1.00\" fill=\"#444443\"> </text>\n",
       "<polygon fill=\"#fefecd\" stroke=\"transparent\" points=\"92.5,-85 92.5,-88 94.5,-88 94.5,-85 92.5,-85\"/>\n",
       "<polygon fill=\"#fefecd\" stroke=\"transparent\" points=\"94.5,-85 94.5,-88 113.5,-88 113.5,-85 94.5,-85\"/>\n",
       "<text text-anchor=\"start\" x=\"103.5\" y=\"-86.2\" font-family=\"Helvetica,sans-Serif\" font-size=\"1.00\" fill=\"#444443\"> </text>\n",
       "<polygon fill=\"#fefecd\" stroke=\"transparent\" points=\"68.5,-80 68.5,-85 92.5,-85 92.5,-80 68.5,-80\"/>\n",
       "<polyline fill=\"none\" stroke=\"#444443\" points=\"92.5,-80 92.5,-85 \"/>\n",
       "<text text-anchor=\"start\" x=\"80\" y=\"-81.6\" font-family=\"Helvetica,sans-Serif\" font-size=\"3.00\" fill=\"#444443\"> </text>\n",
       "<polygon fill=\"#fefecd\" stroke=\"transparent\" points=\"92.5,-80 92.5,-85 94.5,-85 94.5,-80 92.5,-80\"/>\n",
       "<polygon fill=\"#fefecd\" stroke=\"transparent\" points=\"94.5,-80 94.5,-85 113.5,-85 113.5,-80 94.5,-80\"/>\n",
       "<text text-anchor=\"start\" x=\"103.5\" y=\"-81.6\" font-family=\"Helvetica,sans-Serif\" font-size=\"3.00\" fill=\"#444443\"> </text>\n",
       "</g>\n",
       "<!-- node140549427811232&#45;&gt;node140549368807584 -->\n",
       "<g id=\"edge2\" class=\"edge\">\n",
       "<title>node140549427811232:c&#45;&gt;node140549368807584</title>\n",
       "<path fill=\"none\" stroke=\"#444443\" stroke-width=\"0.5\" d=\"M75.4,-159.85C76.67,-155.41 79.12,-146.84 81.68,-137.87\"/>\n",
       "<ellipse fill=\"#444443\" stroke=\"#444443\" stroke-width=\"0.5\" cx=\"74.94\" cy=\"-161.46\" rx=\"1.6\" ry=\"1.6\"/>\n",
       "<polygon fill=\"#444443\" stroke=\"#444443\" stroke-width=\"0.5\" points=\"83.03,-138.25 82.78,-134.02 80.34,-137.48 83.03,-138.25\"/>\n",
       "</g>\n",
       "<!-- node140549427812336 -->\n",
       "<g id=\"node3\" class=\"node\">\n",
       "<title>node140549427812336</title>\n",
       "<polygon fill=\"#fefecd\" stroke=\"#444443\" stroke-width=\"0.5\" points=\"49,-56 0,-56 0,0 49,0 49,-56\"/>\n",
       "<polygon fill=\"#fefecd\" stroke=\"transparent\" points=\"2.5,-40 2.5,-54 47.5,-54 47.5,-40 2.5,-40\"/>\n",
       "<polyline fill=\"none\" stroke=\"#444443\" points=\"2.5,-40 47.5,-40 \"/>\n",
       "<text text-anchor=\"start\" x=\"3.5\" y=\"-44.2\" font-family=\"Times,serif\" font-style=\"italic\" font-size=\"11.00\" fill=\"#444443\">TreeNode</text>\n",
       "<polygon fill=\"#fefecd\" stroke=\"transparent\" points=\"2.5,-38 2.5,-40 47.5,-40 47.5,-38 2.5,-38\"/>\n",
       "<polygon fill=\"#fefecd\" stroke=\"transparent\" points=\"2.5,-24 2.5,-38 26.5,-38 26.5,-24 2.5,-24\"/>\n",
       "<polyline fill=\"none\" stroke=\"#444443\" points=\"26.5,-24 26.5,-38 \"/>\n",
       "<text text-anchor=\"start\" x=\"7.5\" y=\"-28.2\" font-family=\"Helvetica,sans-Serif\" font-size=\"11.00\" fill=\"#444443\">val </text>\n",
       "<polygon fill=\"#fefecd\" stroke=\"transparent\" points=\"28.5,-24 28.5,-38 47.5,-38 47.5,-24 28.5,-24\"/>\n",
       "<text text-anchor=\"start\" x=\"29.5\" y=\"-28.2\" font-family=\"Helvetica,sans-Serif\" font-size=\"11.00\" fill=\"#444443\"> &#39;2&#39;</text>\n",
       "<polyline fill=\"none\" stroke=\"#444443\" points=\"2.5,-21 47.5,-21 \"/>\n",
       "<polygon fill=\"#fefecd\" stroke=\"transparent\" points=\"2.5,-19 2.5,-21 47.5,-21 47.5,-19 2.5,-19\"/>\n",
       "<polygon fill=\"#fefecd\" stroke=\"transparent\" points=\"2.5,-10 2.5,-19 26.5,-19 26.5,-10 2.5,-10\"/>\n",
       "<polyline fill=\"none\" stroke=\"#444443\" points=\"26.5,-10 26.5,-19 \"/>\n",
       "<text text-anchor=\"start\" x=\"3.5\" y=\"-13.2\" font-family=\"Helvetica,sans-Serif\" font-size=\"6.00\" fill=\"#444443\">left</text>\n",
       "<polygon fill=\"#fefecd\" stroke=\"transparent\" points=\"26.5,-10 26.5,-19 28.5,-19 28.5,-10 26.5,-10\"/>\n",
       "<polygon fill=\"#fefecd\" stroke=\"transparent\" points=\"28.5,-10 28.5,-19 47.5,-19 47.5,-10 28.5,-10\"/>\n",
       "<text text-anchor=\"start\" x=\"34.5\" y=\"-13.2\" font-family=\"Helvetica,sans-Serif\" font-size=\"6.00\" fill=\"#444443\">right</text>\n",
       "<polygon fill=\"#fefecd\" stroke=\"transparent\" points=\"2.5,-7 2.5,-10 26.5,-10 26.5,-7 2.5,-7\"/>\n",
       "<polyline fill=\"none\" stroke=\"#444443\" points=\"26.5,-7 26.5,-10 \"/>\n",
       "<text text-anchor=\"start\" x=\"14\" y=\"-8.2\" font-family=\"Helvetica,sans-Serif\" font-size=\"1.00\" fill=\"#444443\"> </text>\n",
       "<polygon fill=\"#fefecd\" stroke=\"transparent\" points=\"26.5,-7 26.5,-10 28.5,-10 28.5,-7 26.5,-7\"/>\n",
       "<polygon fill=\"#fefecd\" stroke=\"transparent\" points=\"28.5,-7 28.5,-10 47.5,-10 47.5,-7 28.5,-7\"/>\n",
       "<text text-anchor=\"start\" x=\"37.5\" y=\"-8.2\" font-family=\"Helvetica,sans-Serif\" font-size=\"1.00\" fill=\"#444443\"> </text>\n",
       "<polygon fill=\"#fefecd\" stroke=\"transparent\" points=\"2.5,-2 2.5,-7 26.5,-7 26.5,-2 2.5,-2\"/>\n",
       "<polyline fill=\"none\" stroke=\"#444443\" points=\"26.5,-2 26.5,-7 \"/>\n",
       "<text text-anchor=\"start\" x=\"14\" y=\"-3.6\" font-family=\"Helvetica,sans-Serif\" font-size=\"3.00\" fill=\"#444443\"> </text>\n",
       "<polygon fill=\"#fefecd\" stroke=\"transparent\" points=\"26.5,-2 26.5,-7 28.5,-7 28.5,-2 26.5,-2\"/>\n",
       "<polygon fill=\"#fefecd\" stroke=\"transparent\" points=\"28.5,-2 28.5,-7 47.5,-7 47.5,-2 28.5,-2\"/>\n",
       "<text text-anchor=\"start\" x=\"37.5\" y=\"-3.6\" font-family=\"Helvetica,sans-Serif\" font-size=\"3.00\" fill=\"#444443\"> </text>\n",
       "</g>\n",
       "<!-- node140549368811472&#45;&gt;node140549427812336 -->\n",
       "<g id=\"edge3\" class=\"edge\">\n",
       "<title>node140549368811472:c&#45;&gt;node140549427812336</title>\n",
       "<path fill=\"none\" stroke=\"#444443\" stroke-width=\"0.5\" d=\"M24.5,-81.52C24.5,-77.05 24.5,-68.86 24.5,-60.26\"/>\n",
       "<ellipse fill=\"#444443\" stroke=\"#444443\" stroke-width=\"0.5\" cx=\"24.5\" cy=\"-83.4\" rx=\"1.6\" ry=\"1.6\"/>\n",
       "<polygon fill=\"#444443\" stroke=\"#444443\" stroke-width=\"0.5\" points=\"25.9,-60.02 24.5,-56.02 23.1,-60.02 25.9,-60.02\"/>\n",
       "</g>\n",
       "<!-- node140549427813152 -->\n",
       "<g id=\"node5\" class=\"node\">\n",
       "<title>node140549427813152</title>\n",
       "<polygon fill=\"#fefecd\" stroke=\"#444443\" stroke-width=\"0.5\" points=\"129,-56 80,-56 80,0 129,0 129,-56\"/>\n",
       "<polygon fill=\"#fefecd\" stroke=\"transparent\" points=\"82.5,-40 82.5,-54 127.5,-54 127.5,-40 82.5,-40\"/>\n",
       "<polyline fill=\"none\" stroke=\"#444443\" points=\"82.5,-40 127.5,-40 \"/>\n",
       "<text text-anchor=\"start\" x=\"83.5\" y=\"-44.2\" font-family=\"Times,serif\" font-style=\"italic\" font-size=\"11.00\" fill=\"#444443\">TreeNode</text>\n",
       "<polygon fill=\"#fefecd\" stroke=\"transparent\" points=\"82.5,-38 82.5,-40 127.5,-40 127.5,-38 82.5,-38\"/>\n",
       "<polygon fill=\"#fefecd\" stroke=\"transparent\" points=\"82.5,-24 82.5,-38 106.5,-38 106.5,-24 82.5,-24\"/>\n",
       "<polyline fill=\"none\" stroke=\"#444443\" points=\"106.5,-24 106.5,-38 \"/>\n",
       "<text text-anchor=\"start\" x=\"87.5\" y=\"-28.2\" font-family=\"Helvetica,sans-Serif\" font-size=\"11.00\" fill=\"#444443\">val </text>\n",
       "<polygon fill=\"#fefecd\" stroke=\"transparent\" points=\"108.5,-24 108.5,-38 127.5,-38 127.5,-24 108.5,-24\"/>\n",
       "<text text-anchor=\"start\" x=\"109.5\" y=\"-28.2\" font-family=\"Helvetica,sans-Serif\" font-size=\"11.00\" fill=\"#444443\"> &#39;7&#39;</text>\n",
       "<polyline fill=\"none\" stroke=\"#444443\" points=\"82.5,-21 127.5,-21 \"/>\n",
       "<polygon fill=\"#fefecd\" stroke=\"transparent\" points=\"82.5,-19 82.5,-21 127.5,-21 127.5,-19 82.5,-19\"/>\n",
       "<polygon fill=\"#fefecd\" stroke=\"transparent\" points=\"82.5,-10 82.5,-19 106.5,-19 106.5,-10 82.5,-10\"/>\n",
       "<polyline fill=\"none\" stroke=\"#444443\" points=\"106.5,-10 106.5,-19 \"/>\n",
       "<text text-anchor=\"start\" x=\"83.5\" y=\"-13.2\" font-family=\"Helvetica,sans-Serif\" font-size=\"6.00\" fill=\"#444443\">left</text>\n",
       "<polygon fill=\"#fefecd\" stroke=\"transparent\" points=\"106.5,-10 106.5,-19 108.5,-19 108.5,-10 106.5,-10\"/>\n",
       "<polygon fill=\"#fefecd\" stroke=\"transparent\" points=\"108.5,-10 108.5,-19 127.5,-19 127.5,-10 108.5,-10\"/>\n",
       "<text text-anchor=\"start\" x=\"114.5\" y=\"-13.2\" font-family=\"Helvetica,sans-Serif\" font-size=\"6.00\" fill=\"#444443\">right</text>\n",
       "<polygon fill=\"#fefecd\" stroke=\"transparent\" points=\"82.5,-7 82.5,-10 106.5,-10 106.5,-7 82.5,-7\"/>\n",
       "<polyline fill=\"none\" stroke=\"#444443\" points=\"106.5,-7 106.5,-10 \"/>\n",
       "<text text-anchor=\"start\" x=\"94\" y=\"-8.2\" font-family=\"Helvetica,sans-Serif\" font-size=\"1.00\" fill=\"#444443\"> </text>\n",
       "<polygon fill=\"#fefecd\" stroke=\"transparent\" points=\"106.5,-7 106.5,-10 108.5,-10 108.5,-7 106.5,-7\"/>\n",
       "<polygon fill=\"#fefecd\" stroke=\"transparent\" points=\"108.5,-7 108.5,-10 127.5,-10 127.5,-7 108.5,-7\"/>\n",
       "<text text-anchor=\"start\" x=\"117.5\" y=\"-8.2\" font-family=\"Helvetica,sans-Serif\" font-size=\"1.00\" fill=\"#444443\"> </text>\n",
       "<polygon fill=\"#fefecd\" stroke=\"transparent\" points=\"82.5,-2 82.5,-7 106.5,-7 106.5,-2 82.5,-2\"/>\n",
       "<polyline fill=\"none\" stroke=\"#444443\" points=\"106.5,-2 106.5,-7 \"/>\n",
       "<text text-anchor=\"start\" x=\"94\" y=\"-3.6\" font-family=\"Helvetica,sans-Serif\" font-size=\"3.00\" fill=\"#444443\"> </text>\n",
       "<polygon fill=\"#fefecd\" stroke=\"transparent\" points=\"106.5,-2 106.5,-7 108.5,-7 108.5,-2 106.5,-2\"/>\n",
       "<polygon fill=\"#fefecd\" stroke=\"transparent\" points=\"108.5,-2 108.5,-7 127.5,-7 127.5,-2 108.5,-2\"/>\n",
       "<text text-anchor=\"start\" x=\"117.5\" y=\"-3.6\" font-family=\"Helvetica,sans-Serif\" font-size=\"3.00\" fill=\"#444443\"> </text>\n",
       "</g>\n",
       "<!-- node140549368807584&#45;&gt;node140549427813152 -->\n",
       "<g id=\"edge4\" class=\"edge\">\n",
       "<title>node140549368807584:c&#45;&gt;node140549427813152</title>\n",
       "<path fill=\"none\" stroke=\"#444443\" stroke-width=\"0.5\" d=\"M104.5,-81.52C104.5,-77.05 104.5,-68.86 104.5,-60.26\"/>\n",
       "<ellipse fill=\"#444443\" stroke=\"#444443\" stroke-width=\"0.5\" cx=\"104.5\" cy=\"-83.4\" rx=\"1.6\" ry=\"1.6\"/>\n",
       "<polygon fill=\"#444443\" stroke=\"#444443\" stroke-width=\"0.5\" points=\"105.9,-60.02 104.5,-56.02 103.1,-60.02 105.9,-60.02\"/>\n",
       "</g>\n",
       "</g>\n",
       "</svg>\n"
      ],
      "text/plain": [
       "<graphviz.sources.Source at 0x7fd436b7daf0>"
      ]
     },
     "execution_count": 106,
     "metadata": {},
     "output_type": "execute_result"
    }
   ],
   "source": [
    "root = TreeNode(5)\n",
    "root.left = TreeNode(3)\n",
    "root.right = TreeNode(6)\n",
    "root.left.left = TreeNode(2)\n",
    "root.left.right = TreeNode(4)\n",
    "root.right.right = TreeNode(7)\n",
    "printtree(root)\n",
    "print()\n",
    "key = 5\n",
    "deleteNode(root, key)\n",
    "treeviz(root)"
   ]
  },
  {
   "cell_type": "code",
   "execution_count": 107,
   "id": "1108bb5c",
   "metadata": {},
   "outputs": [
    {
     "data": {
      "image/svg+xml": [
       "<?xml version=\"1.0\" encoding=\"UTF-8\" standalone=\"no\"?>\n",
       "<!DOCTYPE svg PUBLIC \"-//W3C//DTD SVG 1.1//EN\"\n",
       " \"http://www.w3.org/Graphics/SVG/1.1/DTD/svg11.dtd\">\n",
       "<!-- Generated by graphviz version 2.49.3 (20211023.0002)\n",
       " -->\n",
       "<!-- Title: G Pages: 1 -->\n",
       "<svg width=\"261pt\" height=\"376pt\"\n",
       " viewBox=\"0.00 0.00 261.00 376.00\" xmlns=\"http://www.w3.org/2000/svg\" xmlns:xlink=\"http://www.w3.org/1999/xlink\">\n",
       "<g id=\"graph0\" class=\"graph\" transform=\"scale(1 1) rotate(0) translate(4 372)\">\n",
       "<title>G</title>\n",
       "<polygon fill=\"white\" stroke=\"transparent\" points=\"-4,4 -4,-372 257,-372 257,4 -4,4\"/>\n",
       "<!-- node140549429855040 -->\n",
       "<g id=\"node1\" class=\"node\">\n",
       "<title>node140549429855040</title>\n",
       "<polygon fill=\"#fefecd\" stroke=\"#444443\" stroke-width=\"0.5\" points=\"209,-368 160,-368 160,-312 209,-312 209,-368\"/>\n",
       "<polygon fill=\"#fefecd\" stroke=\"transparent\" points=\"162.5,-352 162.5,-366 207.5,-366 207.5,-352 162.5,-352\"/>\n",
       "<polyline fill=\"none\" stroke=\"#444443\" points=\"162.5,-352 207.5,-352 \"/>\n",
       "<text text-anchor=\"start\" x=\"163.5\" y=\"-356.2\" font-family=\"Times,serif\" font-style=\"italic\" font-size=\"11.00\" fill=\"#444443\">TreeNode</text>\n",
       "<polygon fill=\"#fefecd\" stroke=\"transparent\" points=\"162.5,-350 162.5,-352 207.5,-352 207.5,-350 162.5,-350\"/>\n",
       "<polygon fill=\"#fefecd\" stroke=\"transparent\" points=\"162.5,-336 162.5,-350 186.5,-350 186.5,-336 162.5,-336\"/>\n",
       "<polyline fill=\"none\" stroke=\"#444443\" points=\"186.5,-336 186.5,-350 \"/>\n",
       "<text text-anchor=\"start\" x=\"167.5\" y=\"-340.2\" font-family=\"Helvetica,sans-Serif\" font-size=\"11.00\" fill=\"#444443\">val </text>\n",
       "<polygon fill=\"#fefecd\" stroke=\"transparent\" points=\"188.5,-336 188.5,-350 207.5,-350 207.5,-336 188.5,-336\"/>\n",
       "<text text-anchor=\"start\" x=\"189.5\" y=\"-340.2\" font-family=\"Helvetica,sans-Serif\" font-size=\"11.00\" fill=\"#444443\"> &#39;5&#39;</text>\n",
       "<polyline fill=\"none\" stroke=\"#444443\" points=\"162.5,-333 207.5,-333 \"/>\n",
       "<polygon fill=\"#fefecd\" stroke=\"transparent\" points=\"162.5,-331 162.5,-333 207.5,-333 207.5,-331 162.5,-331\"/>\n",
       "<polygon fill=\"#fefecd\" stroke=\"transparent\" points=\"162.5,-322 162.5,-331 186.5,-331 186.5,-322 162.5,-322\"/>\n",
       "<polyline fill=\"none\" stroke=\"#444443\" points=\"186.5,-322 186.5,-331 \"/>\n",
       "<text text-anchor=\"start\" x=\"163.5\" y=\"-325.2\" font-family=\"Helvetica,sans-Serif\" font-size=\"6.00\" fill=\"#444443\">left</text>\n",
       "<polygon fill=\"#fefecd\" stroke=\"transparent\" points=\"186.5,-322 186.5,-331 188.5,-331 188.5,-322 186.5,-322\"/>\n",
       "<polygon fill=\"#fefecd\" stroke=\"transparent\" points=\"188.5,-322 188.5,-331 207.5,-331 207.5,-322 188.5,-322\"/>\n",
       "<text text-anchor=\"start\" x=\"194.5\" y=\"-325.2\" font-family=\"Helvetica,sans-Serif\" font-size=\"6.00\" fill=\"#444443\">right</text>\n",
       "<polygon fill=\"#fefecd\" stroke=\"transparent\" points=\"162.5,-319 162.5,-322 186.5,-322 186.5,-319 162.5,-319\"/>\n",
       "<polyline fill=\"none\" stroke=\"#444443\" points=\"186.5,-319 186.5,-322 \"/>\n",
       "<text text-anchor=\"start\" x=\"174\" y=\"-320.2\" font-family=\"Helvetica,sans-Serif\" font-size=\"1.00\" fill=\"#444443\"> </text>\n",
       "<polygon fill=\"#fefecd\" stroke=\"transparent\" points=\"186.5,-319 186.5,-322 188.5,-322 188.5,-319 186.5,-319\"/>\n",
       "<polygon fill=\"#fefecd\" stroke=\"transparent\" points=\"188.5,-319 188.5,-322 207.5,-322 207.5,-319 188.5,-319\"/>\n",
       "<text text-anchor=\"start\" x=\"197.5\" y=\"-320.2\" font-family=\"Helvetica,sans-Serif\" font-size=\"1.00\" fill=\"#444443\"> </text>\n",
       "<polygon fill=\"#fefecd\" stroke=\"transparent\" points=\"162.5,-314 162.5,-319 186.5,-319 186.5,-314 162.5,-314\"/>\n",
       "<polyline fill=\"none\" stroke=\"#444443\" points=\"186.5,-314 186.5,-319 \"/>\n",
       "<text text-anchor=\"start\" x=\"174\" y=\"-315.6\" font-family=\"Helvetica,sans-Serif\" font-size=\"3.00\" fill=\"#444443\"> </text>\n",
       "<polygon fill=\"#fefecd\" stroke=\"transparent\" points=\"186.5,-314 186.5,-319 188.5,-319 188.5,-314 186.5,-314\"/>\n",
       "<polygon fill=\"#fefecd\" stroke=\"transparent\" points=\"188.5,-314 188.5,-319 207.5,-319 207.5,-314 188.5,-314\"/>\n",
       "<text text-anchor=\"start\" x=\"197.5\" y=\"-315.6\" font-family=\"Helvetica,sans-Serif\" font-size=\"3.00\" fill=\"#444443\"> </text>\n",
       "</g>\n",
       "<!-- node140549368811472 -->\n",
       "<g id=\"node2\" class=\"node\">\n",
       "<title>node140549368811472</title>\n",
       "<polygon fill=\"#fefecd\" stroke=\"#444443\" stroke-width=\"0.5\" points=\"183,-290 134,-290 134,-234 183,-234 183,-290\"/>\n",
       "<polygon fill=\"#fefecd\" stroke=\"transparent\" points=\"136.5,-274 136.5,-288 181.5,-288 181.5,-274 136.5,-274\"/>\n",
       "<polyline fill=\"none\" stroke=\"#444443\" points=\"136.5,-274 181.5,-274 \"/>\n",
       "<text text-anchor=\"start\" x=\"137.5\" y=\"-278.2\" font-family=\"Times,serif\" font-style=\"italic\" font-size=\"11.00\" fill=\"#444443\">TreeNode</text>\n",
       "<polygon fill=\"#fefecd\" stroke=\"transparent\" points=\"136.5,-272 136.5,-274 181.5,-274 181.5,-272 136.5,-272\"/>\n",
       "<polygon fill=\"#fefecd\" stroke=\"transparent\" points=\"136.5,-258 136.5,-272 160.5,-272 160.5,-258 136.5,-258\"/>\n",
       "<polyline fill=\"none\" stroke=\"#444443\" points=\"160.5,-258 160.5,-272 \"/>\n",
       "<text text-anchor=\"start\" x=\"141.5\" y=\"-262.2\" font-family=\"Helvetica,sans-Serif\" font-size=\"11.00\" fill=\"#444443\">val </text>\n",
       "<polygon fill=\"#fefecd\" stroke=\"transparent\" points=\"162.5,-258 162.5,-272 181.5,-272 181.5,-258 162.5,-258\"/>\n",
       "<text text-anchor=\"start\" x=\"163.5\" y=\"-262.2\" font-family=\"Helvetica,sans-Serif\" font-size=\"11.00\" fill=\"#444443\"> &#39;3&#39;</text>\n",
       "<polyline fill=\"none\" stroke=\"#444443\" points=\"136.5,-255 181.5,-255 \"/>\n",
       "<polygon fill=\"#fefecd\" stroke=\"transparent\" points=\"136.5,-253 136.5,-255 181.5,-255 181.5,-253 136.5,-253\"/>\n",
       "<polygon fill=\"#fefecd\" stroke=\"transparent\" points=\"136.5,-244 136.5,-253 160.5,-253 160.5,-244 136.5,-244\"/>\n",
       "<polyline fill=\"none\" stroke=\"#444443\" points=\"160.5,-244 160.5,-253 \"/>\n",
       "<text text-anchor=\"start\" x=\"137.5\" y=\"-247.2\" font-family=\"Helvetica,sans-Serif\" font-size=\"6.00\" fill=\"#444443\">left</text>\n",
       "<polygon fill=\"#fefecd\" stroke=\"transparent\" points=\"160.5,-244 160.5,-253 162.5,-253 162.5,-244 160.5,-244\"/>\n",
       "<polygon fill=\"#fefecd\" stroke=\"transparent\" points=\"162.5,-244 162.5,-253 181.5,-253 181.5,-244 162.5,-244\"/>\n",
       "<text text-anchor=\"start\" x=\"168.5\" y=\"-247.2\" font-family=\"Helvetica,sans-Serif\" font-size=\"6.00\" fill=\"#444443\">right</text>\n",
       "<polygon fill=\"#fefecd\" stroke=\"transparent\" points=\"136.5,-241 136.5,-244 160.5,-244 160.5,-241 136.5,-241\"/>\n",
       "<polyline fill=\"none\" stroke=\"#444443\" points=\"160.5,-241 160.5,-244 \"/>\n",
       "<text text-anchor=\"start\" x=\"148\" y=\"-242.2\" font-family=\"Helvetica,sans-Serif\" font-size=\"1.00\" fill=\"#444443\"> </text>\n",
       "<polygon fill=\"#fefecd\" stroke=\"transparent\" points=\"160.5,-241 160.5,-244 162.5,-244 162.5,-241 160.5,-241\"/>\n",
       "<polygon fill=\"#fefecd\" stroke=\"transparent\" points=\"162.5,-241 162.5,-244 181.5,-244 181.5,-241 162.5,-241\"/>\n",
       "<text text-anchor=\"start\" x=\"171.5\" y=\"-242.2\" font-family=\"Helvetica,sans-Serif\" font-size=\"1.00\" fill=\"#444443\"> </text>\n",
       "<polygon fill=\"#fefecd\" stroke=\"transparent\" points=\"136.5,-236 136.5,-241 160.5,-241 160.5,-236 136.5,-236\"/>\n",
       "<polyline fill=\"none\" stroke=\"#444443\" points=\"160.5,-236 160.5,-241 \"/>\n",
       "<text text-anchor=\"start\" x=\"148\" y=\"-237.6\" font-family=\"Helvetica,sans-Serif\" font-size=\"3.00\" fill=\"#444443\"> </text>\n",
       "<polygon fill=\"#fefecd\" stroke=\"transparent\" points=\"160.5,-236 160.5,-241 162.5,-241 162.5,-236 160.5,-236\"/>\n",
       "<polygon fill=\"#fefecd\" stroke=\"transparent\" points=\"162.5,-236 162.5,-241 181.5,-241 181.5,-236 162.5,-236\"/>\n",
       "<text text-anchor=\"start\" x=\"171.5\" y=\"-237.6\" font-family=\"Helvetica,sans-Serif\" font-size=\"3.00\" fill=\"#444443\"> </text>\n",
       "</g>\n",
       "<!-- node140549429855040&#45;&gt;node140549368811472 -->\n",
       "<g id=\"edge1\" class=\"edge\">\n",
       "<title>node140549429855040:c&#45;&gt;node140549368811472</title>\n",
       "<path fill=\"none\" stroke=\"#444443\" stroke-width=\"0.5\" d=\"M173.6,-315.85C172.33,-311.41 169.88,-302.84 167.32,-293.87\"/>\n",
       "<ellipse fill=\"#444443\" stroke=\"#444443\" stroke-width=\"0.5\" cx=\"174.06\" cy=\"-317.46\" rx=\"1.6\" ry=\"1.6\"/>\n",
       "<polygon fill=\"#444443\" stroke=\"#444443\" stroke-width=\"0.5\" points=\"168.66,-293.48 166.22,-290.02 165.97,-294.25 168.66,-293.48\"/>\n",
       "</g>\n",
       "<!-- node140549368807584 -->\n",
       "<g id=\"node11\" class=\"node\">\n",
       "<title>node140549368807584</title>\n",
       "<polygon fill=\"#fefecd\" stroke=\"#444443\" stroke-width=\"0.5\" points=\"239,-290 190,-290 190,-234 239,-234 239,-290\"/>\n",
       "<polygon fill=\"#fefecd\" stroke=\"transparent\" points=\"192.5,-274 192.5,-288 237.5,-288 237.5,-274 192.5,-274\"/>\n",
       "<polyline fill=\"none\" stroke=\"#444443\" points=\"192.5,-274 237.5,-274 \"/>\n",
       "<text text-anchor=\"start\" x=\"193.5\" y=\"-278.2\" font-family=\"Times,serif\" font-style=\"italic\" font-size=\"11.00\" fill=\"#444443\">TreeNode</text>\n",
       "<polygon fill=\"#fefecd\" stroke=\"transparent\" points=\"192.5,-272 192.5,-274 237.5,-274 237.5,-272 192.5,-272\"/>\n",
       "<polygon fill=\"#fefecd\" stroke=\"transparent\" points=\"192.5,-258 192.5,-272 216.5,-272 216.5,-258 192.5,-258\"/>\n",
       "<polyline fill=\"none\" stroke=\"#444443\" points=\"216.5,-258 216.5,-272 \"/>\n",
       "<text text-anchor=\"start\" x=\"197.5\" y=\"-262.2\" font-family=\"Helvetica,sans-Serif\" font-size=\"11.00\" fill=\"#444443\">val </text>\n",
       "<polygon fill=\"#fefecd\" stroke=\"transparent\" points=\"218.5,-258 218.5,-272 237.5,-272 237.5,-258 218.5,-258\"/>\n",
       "<text text-anchor=\"start\" x=\"219.5\" y=\"-262.2\" font-family=\"Helvetica,sans-Serif\" font-size=\"11.00\" fill=\"#444443\"> &#39;6&#39;</text>\n",
       "<polyline fill=\"none\" stroke=\"#444443\" points=\"192.5,-255 237.5,-255 \"/>\n",
       "<polygon fill=\"#fefecd\" stroke=\"transparent\" points=\"192.5,-253 192.5,-255 237.5,-255 237.5,-253 192.5,-253\"/>\n",
       "<polygon fill=\"#fefecd\" stroke=\"transparent\" points=\"192.5,-244 192.5,-253 216.5,-253 216.5,-244 192.5,-244\"/>\n",
       "<polyline fill=\"none\" stroke=\"#444443\" points=\"216.5,-244 216.5,-253 \"/>\n",
       "<text text-anchor=\"start\" x=\"193.5\" y=\"-247.2\" font-family=\"Helvetica,sans-Serif\" font-size=\"6.00\" fill=\"#444443\">left</text>\n",
       "<polygon fill=\"#fefecd\" stroke=\"transparent\" points=\"216.5,-244 216.5,-253 218.5,-253 218.5,-244 216.5,-244\"/>\n",
       "<polygon fill=\"#fefecd\" stroke=\"transparent\" points=\"218.5,-244 218.5,-253 237.5,-253 237.5,-244 218.5,-244\"/>\n",
       "<text text-anchor=\"start\" x=\"224.5\" y=\"-247.2\" font-family=\"Helvetica,sans-Serif\" font-size=\"6.00\" fill=\"#444443\">right</text>\n",
       "<polygon fill=\"#fefecd\" stroke=\"transparent\" points=\"192.5,-241 192.5,-244 216.5,-244 216.5,-241 192.5,-241\"/>\n",
       "<polyline fill=\"none\" stroke=\"#444443\" points=\"216.5,-241 216.5,-244 \"/>\n",
       "<text text-anchor=\"start\" x=\"204\" y=\"-242.2\" font-family=\"Helvetica,sans-Serif\" font-size=\"1.00\" fill=\"#444443\"> </text>\n",
       "<polygon fill=\"#fefecd\" stroke=\"transparent\" points=\"216.5,-241 216.5,-244 218.5,-244 218.5,-241 216.5,-241\"/>\n",
       "<polygon fill=\"#fefecd\" stroke=\"transparent\" points=\"218.5,-241 218.5,-244 237.5,-244 237.5,-241 218.5,-241\"/>\n",
       "<text text-anchor=\"start\" x=\"227.5\" y=\"-242.2\" font-family=\"Helvetica,sans-Serif\" font-size=\"1.00\" fill=\"#444443\"> </text>\n",
       "<polygon fill=\"#fefecd\" stroke=\"transparent\" points=\"192.5,-236 192.5,-241 216.5,-241 216.5,-236 192.5,-236\"/>\n",
       "<polyline fill=\"none\" stroke=\"#444443\" points=\"216.5,-236 216.5,-241 \"/>\n",
       "<text text-anchor=\"start\" x=\"204\" y=\"-237.6\" font-family=\"Helvetica,sans-Serif\" font-size=\"3.00\" fill=\"#444443\"> </text>\n",
       "<polygon fill=\"#fefecd\" stroke=\"transparent\" points=\"216.5,-236 216.5,-241 218.5,-241 218.5,-236 216.5,-236\"/>\n",
       "<polygon fill=\"#fefecd\" stroke=\"transparent\" points=\"218.5,-236 218.5,-241 237.5,-241 237.5,-236 218.5,-236\"/>\n",
       "<text text-anchor=\"start\" x=\"227.5\" y=\"-237.6\" font-family=\"Helvetica,sans-Serif\" font-size=\"3.00\" fill=\"#444443\"> </text>\n",
       "</g>\n",
       "<!-- node140549429855040&#45;&gt;node140549368807584 -->\n",
       "<g id=\"edge2\" class=\"edge\">\n",
       "<title>node140549429855040:c&#45;&gt;node140549368807584</title>\n",
       "<path fill=\"none\" stroke=\"#444443\" stroke-width=\"0.5\" d=\"M199.4,-315.85C200.67,-311.41 203.12,-302.84 205.68,-293.87\"/>\n",
       "<ellipse fill=\"#444443\" stroke=\"#444443\" stroke-width=\"0.5\" cx=\"198.94\" cy=\"-317.46\" rx=\"1.6\" ry=\"1.6\"/>\n",
       "<polygon fill=\"#444443\" stroke=\"#444443\" stroke-width=\"0.5\" points=\"207.03,-294.25 206.78,-290.02 204.34,-293.48 207.03,-294.25\"/>\n",
       "</g>\n",
       "<!-- node140549427811232 -->\n",
       "<g id=\"node3\" class=\"node\">\n",
       "<title>node140549427811232</title>\n",
       "<polygon fill=\"#fefecd\" stroke=\"#444443\" stroke-width=\"0.5\" points=\"117,-212 68,-212 68,-156 117,-156 117,-212\"/>\n",
       "<polygon fill=\"#fefecd\" stroke=\"transparent\" points=\"70.5,-196 70.5,-210 115.5,-210 115.5,-196 70.5,-196\"/>\n",
       "<polyline fill=\"none\" stroke=\"#444443\" points=\"70.5,-196 115.5,-196 \"/>\n",
       "<text text-anchor=\"start\" x=\"71.5\" y=\"-200.2\" font-family=\"Times,serif\" font-style=\"italic\" font-size=\"11.00\" fill=\"#444443\">TreeNode</text>\n",
       "<polygon fill=\"#fefecd\" stroke=\"transparent\" points=\"70.5,-194 70.5,-196 115.5,-196 115.5,-194 70.5,-194\"/>\n",
       "<polygon fill=\"#fefecd\" stroke=\"transparent\" points=\"70.5,-180 70.5,-194 94.5,-194 94.5,-180 70.5,-180\"/>\n",
       "<polyline fill=\"none\" stroke=\"#444443\" points=\"94.5,-180 94.5,-194 \"/>\n",
       "<text text-anchor=\"start\" x=\"75.5\" y=\"-184.2\" font-family=\"Helvetica,sans-Serif\" font-size=\"11.00\" fill=\"#444443\">val </text>\n",
       "<polygon fill=\"#fefecd\" stroke=\"transparent\" points=\"96.5,-180 96.5,-194 115.5,-194 115.5,-180 96.5,-180\"/>\n",
       "<text text-anchor=\"start\" x=\"97.5\" y=\"-184.2\" font-family=\"Helvetica,sans-Serif\" font-size=\"11.00\" fill=\"#444443\"> &#39;2&#39;</text>\n",
       "<polyline fill=\"none\" stroke=\"#444443\" points=\"70.5,-177 115.5,-177 \"/>\n",
       "<polygon fill=\"#fefecd\" stroke=\"transparent\" points=\"70.5,-175 70.5,-177 115.5,-177 115.5,-175 70.5,-175\"/>\n",
       "<polygon fill=\"#fefecd\" stroke=\"transparent\" points=\"70.5,-166 70.5,-175 94.5,-175 94.5,-166 70.5,-166\"/>\n",
       "<polyline fill=\"none\" stroke=\"#444443\" points=\"94.5,-166 94.5,-175 \"/>\n",
       "<text text-anchor=\"start\" x=\"71.5\" y=\"-169.2\" font-family=\"Helvetica,sans-Serif\" font-size=\"6.00\" fill=\"#444443\">left</text>\n",
       "<polygon fill=\"#fefecd\" stroke=\"transparent\" points=\"94.5,-166 94.5,-175 96.5,-175 96.5,-166 94.5,-166\"/>\n",
       "<polygon fill=\"#fefecd\" stroke=\"transparent\" points=\"96.5,-166 96.5,-175 115.5,-175 115.5,-166 96.5,-166\"/>\n",
       "<text text-anchor=\"start\" x=\"102.5\" y=\"-169.2\" font-family=\"Helvetica,sans-Serif\" font-size=\"6.00\" fill=\"#444443\">right</text>\n",
       "<polygon fill=\"#fefecd\" stroke=\"transparent\" points=\"70.5,-163 70.5,-166 94.5,-166 94.5,-163 70.5,-163\"/>\n",
       "<polyline fill=\"none\" stroke=\"#444443\" points=\"94.5,-163 94.5,-166 \"/>\n",
       "<text text-anchor=\"start\" x=\"82\" y=\"-164.2\" font-family=\"Helvetica,sans-Serif\" font-size=\"1.00\" fill=\"#444443\"> </text>\n",
       "<polygon fill=\"#fefecd\" stroke=\"transparent\" points=\"94.5,-163 94.5,-166 96.5,-166 96.5,-163 94.5,-163\"/>\n",
       "<polygon fill=\"#fefecd\" stroke=\"transparent\" points=\"96.5,-163 96.5,-166 115.5,-166 115.5,-163 96.5,-163\"/>\n",
       "<text text-anchor=\"start\" x=\"105.5\" y=\"-164.2\" font-family=\"Helvetica,sans-Serif\" font-size=\"1.00\" fill=\"#444443\"> </text>\n",
       "<polygon fill=\"#fefecd\" stroke=\"transparent\" points=\"70.5,-158 70.5,-163 94.5,-163 94.5,-158 70.5,-158\"/>\n",
       "<polyline fill=\"none\" stroke=\"#444443\" points=\"94.5,-158 94.5,-163 \"/>\n",
       "<text text-anchor=\"start\" x=\"82\" y=\"-159.6\" font-family=\"Helvetica,sans-Serif\" font-size=\"3.00\" fill=\"#444443\"> </text>\n",
       "<polygon fill=\"#fefecd\" stroke=\"transparent\" points=\"94.5,-158 94.5,-163 96.5,-163 96.5,-158 94.5,-158\"/>\n",
       "<polygon fill=\"#fefecd\" stroke=\"transparent\" points=\"96.5,-158 96.5,-163 115.5,-163 115.5,-158 96.5,-158\"/>\n",
       "<text text-anchor=\"start\" x=\"105.5\" y=\"-159.6\" font-family=\"Helvetica,sans-Serif\" font-size=\"3.00\" fill=\"#444443\"> </text>\n",
       "</g>\n",
       "<!-- node140549368811472&#45;&gt;node140549427811232 -->\n",
       "<g id=\"edge3\" class=\"edge\">\n",
       "<title>node140549368811472:c&#45;&gt;node140549427811232</title>\n",
       "<path fill=\"none\" stroke=\"#444443\" stroke-width=\"0.5\" d=\"M146.04,-238.54C141.38,-233.88 130.76,-223.26 120.2,-212.7\"/>\n",
       "<ellipse fill=\"#444443\" stroke=\"#444443\" stroke-width=\"0.5\" cx=\"147.37\" cy=\"-239.87\" rx=\"1.6\" ry=\"1.6\"/>\n",
       "<polygon fill=\"#444443\" stroke=\"#444443\" stroke-width=\"0.5\" points=\"121.04,-211.56 117.23,-209.73 119.06,-213.54 121.04,-211.56\"/>\n",
       "</g>\n",
       "<!-- node140549429854992 -->\n",
       "<g id=\"node8\" class=\"node\">\n",
       "<title>node140549429854992</title>\n",
       "<polygon fill=\"#fefecd\" stroke=\"#444443\" stroke-width=\"0.5\" points=\"197,-212 148,-212 148,-156 197,-156 197,-212\"/>\n",
       "<polygon fill=\"#fefecd\" stroke=\"transparent\" points=\"150.5,-196 150.5,-210 195.5,-210 195.5,-196 150.5,-196\"/>\n",
       "<polyline fill=\"none\" stroke=\"#444443\" points=\"150.5,-196 195.5,-196 \"/>\n",
       "<text text-anchor=\"start\" x=\"151.5\" y=\"-200.2\" font-family=\"Times,serif\" font-style=\"italic\" font-size=\"11.00\" fill=\"#444443\">TreeNode</text>\n",
       "<polygon fill=\"#fefecd\" stroke=\"transparent\" points=\"150.5,-194 150.5,-196 195.5,-196 195.5,-194 150.5,-194\"/>\n",
       "<polygon fill=\"#fefecd\" stroke=\"transparent\" points=\"150.5,-180 150.5,-194 174.5,-194 174.5,-180 150.5,-180\"/>\n",
       "<polyline fill=\"none\" stroke=\"#444443\" points=\"174.5,-180 174.5,-194 \"/>\n",
       "<text text-anchor=\"start\" x=\"155.5\" y=\"-184.2\" font-family=\"Helvetica,sans-Serif\" font-size=\"11.00\" fill=\"#444443\">val </text>\n",
       "<polygon fill=\"#fefecd\" stroke=\"transparent\" points=\"176.5,-180 176.5,-194 195.5,-194 195.5,-180 176.5,-180\"/>\n",
       "<text text-anchor=\"start\" x=\"177.5\" y=\"-184.2\" font-family=\"Helvetica,sans-Serif\" font-size=\"11.00\" fill=\"#444443\"> &#39;4&#39;</text>\n",
       "<polyline fill=\"none\" stroke=\"#444443\" points=\"150.5,-177 195.5,-177 \"/>\n",
       "<polygon fill=\"#fefecd\" stroke=\"transparent\" points=\"150.5,-175 150.5,-177 195.5,-177 195.5,-175 150.5,-175\"/>\n",
       "<polygon fill=\"#fefecd\" stroke=\"transparent\" points=\"150.5,-166 150.5,-175 174.5,-175 174.5,-166 150.5,-166\"/>\n",
       "<polyline fill=\"none\" stroke=\"#444443\" points=\"174.5,-166 174.5,-175 \"/>\n",
       "<text text-anchor=\"start\" x=\"151.5\" y=\"-169.2\" font-family=\"Helvetica,sans-Serif\" font-size=\"6.00\" fill=\"#444443\">left</text>\n",
       "<polygon fill=\"#fefecd\" stroke=\"transparent\" points=\"174.5,-166 174.5,-175 176.5,-175 176.5,-166 174.5,-166\"/>\n",
       "<polygon fill=\"#fefecd\" stroke=\"transparent\" points=\"176.5,-166 176.5,-175 195.5,-175 195.5,-166 176.5,-166\"/>\n",
       "<text text-anchor=\"start\" x=\"182.5\" y=\"-169.2\" font-family=\"Helvetica,sans-Serif\" font-size=\"6.00\" fill=\"#444443\">right</text>\n",
       "<polygon fill=\"#fefecd\" stroke=\"transparent\" points=\"150.5,-163 150.5,-166 174.5,-166 174.5,-163 150.5,-163\"/>\n",
       "<polyline fill=\"none\" stroke=\"#444443\" points=\"174.5,-163 174.5,-166 \"/>\n",
       "<text text-anchor=\"start\" x=\"162\" y=\"-164.2\" font-family=\"Helvetica,sans-Serif\" font-size=\"1.00\" fill=\"#444443\"> </text>\n",
       "<polygon fill=\"#fefecd\" stroke=\"transparent\" points=\"174.5,-163 174.5,-166 176.5,-166 176.5,-163 174.5,-163\"/>\n",
       "<polygon fill=\"#fefecd\" stroke=\"transparent\" points=\"176.5,-163 176.5,-166 195.5,-166 195.5,-163 176.5,-163\"/>\n",
       "<text text-anchor=\"start\" x=\"185.5\" y=\"-164.2\" font-family=\"Helvetica,sans-Serif\" font-size=\"1.00\" fill=\"#444443\"> </text>\n",
       "<polygon fill=\"#fefecd\" stroke=\"transparent\" points=\"150.5,-158 150.5,-163 174.5,-163 174.5,-158 150.5,-158\"/>\n",
       "<polyline fill=\"none\" stroke=\"#444443\" points=\"174.5,-158 174.5,-163 \"/>\n",
       "<text text-anchor=\"start\" x=\"162\" y=\"-159.6\" font-family=\"Helvetica,sans-Serif\" font-size=\"3.00\" fill=\"#444443\"> </text>\n",
       "<polygon fill=\"#fefecd\" stroke=\"transparent\" points=\"174.5,-158 174.5,-163 176.5,-163 176.5,-158 174.5,-158\"/>\n",
       "<polygon fill=\"#fefecd\" stroke=\"transparent\" points=\"176.5,-158 176.5,-163 195.5,-163 195.5,-158 176.5,-158\"/>\n",
       "<text text-anchor=\"start\" x=\"185.5\" y=\"-159.6\" font-family=\"Helvetica,sans-Serif\" font-size=\"3.00\" fill=\"#444443\"> </text>\n",
       "</g>\n",
       "<!-- node140549368811472&#45;&gt;node140549429854992 -->\n",
       "<g id=\"edge4\" class=\"edge\">\n",
       "<title>node140549368811472:c&#45;&gt;node140549429854992</title>\n",
       "<path fill=\"none\" stroke=\"#444443\" stroke-width=\"0.5\" d=\"M172.5,-237.52C172.5,-233.05 172.5,-224.86 172.5,-216.26\"/>\n",
       "<ellipse fill=\"#444443\" stroke=\"#444443\" stroke-width=\"0.5\" cx=\"172.5\" cy=\"-239.4\" rx=\"1.6\" ry=\"1.6\"/>\n",
       "<polygon fill=\"#444443\" stroke=\"#444443\" stroke-width=\"0.5\" points=\"173.9,-216.02 172.5,-212.02 171.1,-216.02 173.9,-216.02\"/>\n",
       "</g>\n",
       "<!-- node140549427813152 -->\n",
       "<g id=\"node4\" class=\"node\">\n",
       "<title>node140549427813152</title>\n",
       "<polygon fill=\"#fefecd\" stroke=\"#444443\" stroke-width=\"0.5\" points=\"75,-134 26,-134 26,-78 75,-78 75,-134\"/>\n",
       "<polygon fill=\"#fefecd\" stroke=\"transparent\" points=\"28.5,-118 28.5,-132 73.5,-132 73.5,-118 28.5,-118\"/>\n",
       "<polyline fill=\"none\" stroke=\"#444443\" points=\"28.5,-118 73.5,-118 \"/>\n",
       "<text text-anchor=\"start\" x=\"29.5\" y=\"-122.2\" font-family=\"Times,serif\" font-style=\"italic\" font-size=\"11.00\" fill=\"#444443\">TreeNode</text>\n",
       "<polygon fill=\"#fefecd\" stroke=\"transparent\" points=\"28.5,-116 28.5,-118 73.5,-118 73.5,-116 28.5,-116\"/>\n",
       "<polygon fill=\"#fefecd\" stroke=\"transparent\" points=\"28.5,-102 28.5,-116 52.5,-116 52.5,-102 28.5,-102\"/>\n",
       "<polyline fill=\"none\" stroke=\"#444443\" points=\"52.5,-102 52.5,-116 \"/>\n",
       "<text text-anchor=\"start\" x=\"33.5\" y=\"-106.2\" font-family=\"Helvetica,sans-Serif\" font-size=\"11.00\" fill=\"#444443\">val </text>\n",
       "<polygon fill=\"#fefecd\" stroke=\"transparent\" points=\"54.5,-102 54.5,-116 73.5,-116 73.5,-102 54.5,-102\"/>\n",
       "<text text-anchor=\"start\" x=\"55.5\" y=\"-106.2\" font-family=\"Helvetica,sans-Serif\" font-size=\"11.00\" fill=\"#444443\"> &#39;1&#39;</text>\n",
       "<polyline fill=\"none\" stroke=\"#444443\" points=\"28.5,-99 73.5,-99 \"/>\n",
       "<polygon fill=\"#fefecd\" stroke=\"transparent\" points=\"28.5,-97 28.5,-99 73.5,-99 73.5,-97 28.5,-97\"/>\n",
       "<polygon fill=\"#fefecd\" stroke=\"transparent\" points=\"28.5,-88 28.5,-97 52.5,-97 52.5,-88 28.5,-88\"/>\n",
       "<polyline fill=\"none\" stroke=\"#444443\" points=\"52.5,-88 52.5,-97 \"/>\n",
       "<text text-anchor=\"start\" x=\"29.5\" y=\"-91.2\" font-family=\"Helvetica,sans-Serif\" font-size=\"6.00\" fill=\"#444443\">left</text>\n",
       "<polygon fill=\"#fefecd\" stroke=\"transparent\" points=\"52.5,-88 52.5,-97 54.5,-97 54.5,-88 52.5,-88\"/>\n",
       "<polygon fill=\"#fefecd\" stroke=\"transparent\" points=\"54.5,-88 54.5,-97 73.5,-97 73.5,-88 54.5,-88\"/>\n",
       "<text text-anchor=\"start\" x=\"60.5\" y=\"-91.2\" font-family=\"Helvetica,sans-Serif\" font-size=\"6.00\" fill=\"#444443\">right</text>\n",
       "<polygon fill=\"#fefecd\" stroke=\"transparent\" points=\"28.5,-85 28.5,-88 52.5,-88 52.5,-85 28.5,-85\"/>\n",
       "<polyline fill=\"none\" stroke=\"#444443\" points=\"52.5,-85 52.5,-88 \"/>\n",
       "<text text-anchor=\"start\" x=\"40\" y=\"-86.2\" font-family=\"Helvetica,sans-Serif\" font-size=\"1.00\" fill=\"#444443\"> </text>\n",
       "<polygon fill=\"#fefecd\" stroke=\"transparent\" points=\"52.5,-85 52.5,-88 54.5,-88 54.5,-85 52.5,-85\"/>\n",
       "<polygon fill=\"#fefecd\" stroke=\"transparent\" points=\"54.5,-85 54.5,-88 73.5,-88 73.5,-85 54.5,-85\"/>\n",
       "<text text-anchor=\"start\" x=\"63.5\" y=\"-86.2\" font-family=\"Helvetica,sans-Serif\" font-size=\"1.00\" fill=\"#444443\"> </text>\n",
       "<polygon fill=\"#fefecd\" stroke=\"transparent\" points=\"28.5,-80 28.5,-85 52.5,-85 52.5,-80 28.5,-80\"/>\n",
       "<polyline fill=\"none\" stroke=\"#444443\" points=\"52.5,-80 52.5,-85 \"/>\n",
       "<text text-anchor=\"start\" x=\"40\" y=\"-81.6\" font-family=\"Helvetica,sans-Serif\" font-size=\"3.00\" fill=\"#444443\"> </text>\n",
       "<polygon fill=\"#fefecd\" stroke=\"transparent\" points=\"52.5,-80 52.5,-85 54.5,-85 54.5,-80 52.5,-80\"/>\n",
       "<polygon fill=\"#fefecd\" stroke=\"transparent\" points=\"54.5,-80 54.5,-85 73.5,-85 73.5,-80 54.5,-80\"/>\n",
       "<text text-anchor=\"start\" x=\"63.5\" y=\"-81.6\" font-family=\"Helvetica,sans-Serif\" font-size=\"3.00\" fill=\"#444443\"> </text>\n",
       "</g>\n",
       "<!-- node140549427811232&#45;&gt;node140549427813152 -->\n",
       "<g id=\"edge5\" class=\"edge\">\n",
       "<title>node140549427811232:c&#45;&gt;node140549427813152</title>\n",
       "<path fill=\"none\" stroke=\"#444443\" stroke-width=\"0.5\" d=\"M80.89,-160.18C78.42,-155.85 73.42,-147.12 68.19,-137.96\"/>\n",
       "<ellipse fill=\"#444443\" stroke=\"#444443\" stroke-width=\"0.5\" cx=\"81.71\" cy=\"-161.61\" rx=\"1.6\" ry=\"1.6\"/>\n",
       "<polygon fill=\"#444443\" stroke=\"#444443\" stroke-width=\"0.5\" points=\"69.14,-136.79 65.94,-134.02 66.71,-138.18 69.14,-136.79\"/>\n",
       "</g>\n",
       "<!-- node140549427811568 -->\n",
       "<g id=\"node7\" class=\"node\">\n",
       "<title>node140549427811568</title>\n",
       "<polygon fill=\"#fefecd\" stroke=\"#444443\" stroke-width=\"0.5\" points=\"131,-134 82,-134 82,-78 131,-78 131,-134\"/>\n",
       "<polygon fill=\"#fefecd\" stroke=\"transparent\" points=\"84.5,-118 84.5,-132 129.5,-132 129.5,-118 84.5,-118\"/>\n",
       "<polyline fill=\"none\" stroke=\"#444443\" points=\"84.5,-118 129.5,-118 \"/>\n",
       "<text text-anchor=\"start\" x=\"85.5\" y=\"-122.2\" font-family=\"Times,serif\" font-style=\"italic\" font-size=\"11.00\" fill=\"#444443\">TreeNode</text>\n",
       "<polygon fill=\"#fefecd\" stroke=\"transparent\" points=\"84.5,-116 84.5,-118 129.5,-118 129.5,-116 84.5,-116\"/>\n",
       "<polygon fill=\"#fefecd\" stroke=\"transparent\" points=\"84.5,-102 84.5,-116 104.5,-116 104.5,-102 84.5,-102\"/>\n",
       "<polyline fill=\"none\" stroke=\"#444443\" points=\"104.5,-102 104.5,-116 \"/>\n",
       "<text text-anchor=\"start\" x=\"85.5\" y=\"-106.2\" font-family=\"Helvetica,sans-Serif\" font-size=\"11.00\" fill=\"#444443\">val </text>\n",
       "<polygon fill=\"#fefecd\" stroke=\"transparent\" points=\"104.5,-102 104.5,-116 129.5,-116 129.5,-102 104.5,-102\"/>\n",
       "<text text-anchor=\"start\" x=\"105.5\" y=\"-106.2\" font-family=\"Helvetica,sans-Serif\" font-size=\"11.00\" fill=\"#444443\"> &#39;2.5&#39;</text>\n",
       "<polyline fill=\"none\" stroke=\"#444443\" points=\"84.5,-99 129.5,-99 \"/>\n",
       "<polygon fill=\"#fefecd\" stroke=\"transparent\" points=\"84.5,-97 84.5,-99 129.5,-99 129.5,-97 84.5,-97\"/>\n",
       "<polygon fill=\"#fefecd\" stroke=\"transparent\" points=\"84.5,-88 84.5,-97 104.5,-97 104.5,-88 84.5,-88\"/>\n",
       "<polyline fill=\"none\" stroke=\"#444443\" points=\"104.5,-88 104.5,-97 \"/>\n",
       "<text text-anchor=\"start\" x=\"85.5\" y=\"-91.2\" font-family=\"Helvetica,sans-Serif\" font-size=\"6.00\" fill=\"#444443\">left</text>\n",
       "<polygon fill=\"#fefecd\" stroke=\"transparent\" points=\"104.5,-88 104.5,-97 104.5,-97 104.5,-88 104.5,-88\"/>\n",
       "<polygon fill=\"#fefecd\" stroke=\"transparent\" points=\"104.5,-88 104.5,-97 129.5,-97 129.5,-88 104.5,-88\"/>\n",
       "<text text-anchor=\"start\" x=\"116.5\" y=\"-91.2\" font-family=\"Helvetica,sans-Serif\" font-size=\"6.00\" fill=\"#444443\">right</text>\n",
       "<polygon fill=\"#fefecd\" stroke=\"transparent\" points=\"84.5,-85 84.5,-88 104.5,-88 104.5,-85 84.5,-85\"/>\n",
       "<polyline fill=\"none\" stroke=\"#444443\" points=\"104.5,-85 104.5,-88 \"/>\n",
       "<text text-anchor=\"start\" x=\"94\" y=\"-86.2\" font-family=\"Helvetica,sans-Serif\" font-size=\"1.00\" fill=\"#444443\"> </text>\n",
       "<polygon fill=\"#fefecd\" stroke=\"transparent\" points=\"104.5,-85 104.5,-88 104.5,-88 104.5,-85 104.5,-85\"/>\n",
       "<polygon fill=\"#fefecd\" stroke=\"transparent\" points=\"104.5,-85 104.5,-88 129.5,-88 129.5,-85 104.5,-85\"/>\n",
       "<text text-anchor=\"start\" x=\"116.5\" y=\"-86.2\" font-family=\"Helvetica,sans-Serif\" font-size=\"1.00\" fill=\"#444443\"> </text>\n",
       "<polygon fill=\"#fefecd\" stroke=\"transparent\" points=\"84.5,-80 84.5,-85 104.5,-85 104.5,-80 84.5,-80\"/>\n",
       "<polyline fill=\"none\" stroke=\"#444443\" points=\"104.5,-80 104.5,-85 \"/>\n",
       "<text text-anchor=\"start\" x=\"94\" y=\"-81.6\" font-family=\"Helvetica,sans-Serif\" font-size=\"3.00\" fill=\"#444443\"> </text>\n",
       "<polygon fill=\"#fefecd\" stroke=\"transparent\" points=\"104.5,-80 104.5,-85 104.5,-85 104.5,-80 104.5,-80\"/>\n",
       "<polygon fill=\"#fefecd\" stroke=\"transparent\" points=\"104.5,-80 104.5,-85 129.5,-85 129.5,-80 104.5,-80\"/>\n",
       "<text text-anchor=\"start\" x=\"116.5\" y=\"-81.6\" font-family=\"Helvetica,sans-Serif\" font-size=\"3.00\" fill=\"#444443\"> </text>\n",
       "</g>\n",
       "<!-- node140549427811232&#45;&gt;node140549427811568 -->\n",
       "<g id=\"edge6\" class=\"edge\">\n",
       "<title>node140549427811232:c&#45;&gt;node140549427811568</title>\n",
       "<path fill=\"none\" stroke=\"#444443\" stroke-width=\"0.5\" d=\"M106.5,-159.52C106.5,-155.05 106.5,-146.86 106.5,-138.26\"/>\n",
       "<ellipse fill=\"#444443\" stroke=\"#444443\" stroke-width=\"0.5\" cx=\"106.5\" cy=\"-161.4\" rx=\"1.6\" ry=\"1.6\"/>\n",
       "<polygon fill=\"#444443\" stroke=\"#444443\" stroke-width=\"0.5\" points=\"107.9,-138.02 106.5,-134.02 105.1,-138.02 107.9,-138.02\"/>\n",
       "</g>\n",
       "<!-- node140549429854944 -->\n",
       "<g id=\"node5\" class=\"node\">\n",
       "<title>node140549429854944</title>\n",
       "<polygon fill=\"#fefecd\" stroke=\"#444443\" stroke-width=\"0.5\" points=\"49,-56 0,-56 0,0 49,0 49,-56\"/>\n",
       "<polygon fill=\"#fefecd\" stroke=\"transparent\" points=\"2.5,-40 2.5,-54 47.5,-54 47.5,-40 2.5,-40\"/>\n",
       "<polyline fill=\"none\" stroke=\"#444443\" points=\"2.5,-40 47.5,-40 \"/>\n",
       "<text text-anchor=\"start\" x=\"3.5\" y=\"-44.2\" font-family=\"Times,serif\" font-style=\"italic\" font-size=\"11.00\" fill=\"#444443\">TreeNode</text>\n",
       "<polygon fill=\"#fefecd\" stroke=\"transparent\" points=\"2.5,-38 2.5,-40 47.5,-40 47.5,-38 2.5,-38\"/>\n",
       "<polygon fill=\"#fefecd\" stroke=\"transparent\" points=\"2.5,-24 2.5,-38 24.5,-38 24.5,-24 2.5,-24\"/>\n",
       "<polyline fill=\"none\" stroke=\"#444443\" points=\"24.5,-24 24.5,-38 \"/>\n",
       "<text text-anchor=\"start\" x=\"5.5\" y=\"-28.2\" font-family=\"Helvetica,sans-Serif\" font-size=\"11.00\" fill=\"#444443\">val </text>\n",
       "<polygon fill=\"#fefecd\" stroke=\"transparent\" points=\"25.5,-24 25.5,-38 47.5,-38 47.5,-24 25.5,-24\"/>\n",
       "<text text-anchor=\"start\" x=\"26.5\" y=\"-28.2\" font-family=\"Helvetica,sans-Serif\" font-size=\"11.00\" fill=\"#444443\"> &#39;&#45;1&#39;</text>\n",
       "<polyline fill=\"none\" stroke=\"#444443\" points=\"2.5,-21 47.5,-21 \"/>\n",
       "<polygon fill=\"#fefecd\" stroke=\"transparent\" points=\"2.5,-19 2.5,-21 47.5,-21 47.5,-19 2.5,-19\"/>\n",
       "<polygon fill=\"#fefecd\" stroke=\"transparent\" points=\"2.5,-10 2.5,-19 24.5,-19 24.5,-10 2.5,-10\"/>\n",
       "<polyline fill=\"none\" stroke=\"#444443\" points=\"24.5,-10 24.5,-19 \"/>\n",
       "<text text-anchor=\"start\" x=\"3.5\" y=\"-13.2\" font-family=\"Helvetica,sans-Serif\" font-size=\"6.00\" fill=\"#444443\">left</text>\n",
       "<polygon fill=\"#fefecd\" stroke=\"transparent\" points=\"24.5,-10 24.5,-19 25.5,-19 25.5,-10 24.5,-10\"/>\n",
       "<polygon fill=\"#fefecd\" stroke=\"transparent\" points=\"25.5,-10 25.5,-19 47.5,-19 47.5,-10 25.5,-10\"/>\n",
       "<text text-anchor=\"start\" x=\"34.5\" y=\"-13.2\" font-family=\"Helvetica,sans-Serif\" font-size=\"6.00\" fill=\"#444443\">right</text>\n",
       "<polygon fill=\"#fefecd\" stroke=\"transparent\" points=\"2.5,-7 2.5,-10 24.5,-10 24.5,-7 2.5,-7\"/>\n",
       "<polyline fill=\"none\" stroke=\"#444443\" points=\"24.5,-7 24.5,-10 \"/>\n",
       "<text text-anchor=\"start\" x=\"13\" y=\"-8.2\" font-family=\"Helvetica,sans-Serif\" font-size=\"1.00\" fill=\"#444443\"> </text>\n",
       "<polygon fill=\"#fefecd\" stroke=\"transparent\" points=\"24.5,-7 24.5,-10 25.5,-10 25.5,-7 24.5,-7\"/>\n",
       "<polygon fill=\"#fefecd\" stroke=\"transparent\" points=\"25.5,-7 25.5,-10 47.5,-10 47.5,-7 25.5,-7\"/>\n",
       "<text text-anchor=\"start\" x=\"36\" y=\"-8.2\" font-family=\"Helvetica,sans-Serif\" font-size=\"1.00\" fill=\"#444443\"> </text>\n",
       "<polygon fill=\"#fefecd\" stroke=\"transparent\" points=\"2.5,-2 2.5,-7 24.5,-7 24.5,-2 2.5,-2\"/>\n",
       "<polyline fill=\"none\" stroke=\"#444443\" points=\"24.5,-2 24.5,-7 \"/>\n",
       "<text text-anchor=\"start\" x=\"13\" y=\"-3.6\" font-family=\"Helvetica,sans-Serif\" font-size=\"3.00\" fill=\"#444443\"> </text>\n",
       "<polygon fill=\"#fefecd\" stroke=\"transparent\" points=\"24.5,-2 24.5,-7 25.5,-7 25.5,-2 24.5,-2\"/>\n",
       "<polygon fill=\"#fefecd\" stroke=\"transparent\" points=\"25.5,-2 25.5,-7 47.5,-7 47.5,-2 25.5,-2\"/>\n",
       "<text text-anchor=\"start\" x=\"36\" y=\"-3.6\" font-family=\"Helvetica,sans-Serif\" font-size=\"3.00\" fill=\"#444443\"> </text>\n",
       "</g>\n",
       "<!-- node140549427813152&#45;&gt;node140549429854944 -->\n",
       "<g id=\"edge7\" class=\"edge\">\n",
       "<title>node140549427813152:c&#45;&gt;node140549429854944</title>\n",
       "<path fill=\"none\" stroke=\"#444443\" stroke-width=\"0.5\" d=\"M39.6,-81.85C38.33,-77.41 35.88,-68.84 33.32,-59.87\"/>\n",
       "<ellipse fill=\"#444443\" stroke=\"#444443\" stroke-width=\"0.5\" cx=\"40.06\" cy=\"-83.46\" rx=\"1.6\" ry=\"1.6\"/>\n",
       "<polygon fill=\"#444443\" stroke=\"#444443\" stroke-width=\"0.5\" points=\"34.66,-59.48 32.22,-56.02 31.97,-60.25 34.66,-59.48\"/>\n",
       "</g>\n",
       "<!-- node140549429857440 -->\n",
       "<g id=\"node6\" class=\"node\">\n",
       "<title>node140549429857440</title>\n",
       "<polygon fill=\"#fefecd\" stroke=\"#444443\" stroke-width=\"0.5\" points=\"105,-56 56,-56 56,0 105,0 105,-56\"/>\n",
       "<polygon fill=\"#fefecd\" stroke=\"transparent\" points=\"58.5,-40 58.5,-54 103.5,-54 103.5,-40 58.5,-40\"/>\n",
       "<polyline fill=\"none\" stroke=\"#444443\" points=\"58.5,-40 103.5,-40 \"/>\n",
       "<text text-anchor=\"start\" x=\"59.5\" y=\"-44.2\" font-family=\"Times,serif\" font-style=\"italic\" font-size=\"11.00\" fill=\"#444443\">TreeNode</text>\n",
       "<polygon fill=\"#fefecd\" stroke=\"transparent\" points=\"58.5,-38 58.5,-40 103.5,-40 103.5,-38 58.5,-38\"/>\n",
       "<polygon fill=\"#fefecd\" stroke=\"transparent\" points=\"58.5,-24 58.5,-38 78.5,-38 78.5,-24 58.5,-24\"/>\n",
       "<polyline fill=\"none\" stroke=\"#444443\" points=\"78.5,-24 78.5,-38 \"/>\n",
       "<text text-anchor=\"start\" x=\"59.5\" y=\"-28.2\" font-family=\"Helvetica,sans-Serif\" font-size=\"11.00\" fill=\"#444443\">val </text>\n",
       "<polygon fill=\"#fefecd\" stroke=\"transparent\" points=\"78.5,-24 78.5,-38 103.5,-38 103.5,-24 78.5,-24\"/>\n",
       "<text text-anchor=\"start\" x=\"79.5\" y=\"-28.2\" font-family=\"Helvetica,sans-Serif\" font-size=\"11.00\" fill=\"#444443\"> &#39;1.5&#39;</text>\n",
       "<polyline fill=\"none\" stroke=\"#444443\" points=\"58.5,-21 103.5,-21 \"/>\n",
       "<polygon fill=\"#fefecd\" stroke=\"transparent\" points=\"58.5,-19 58.5,-21 103.5,-21 103.5,-19 58.5,-19\"/>\n",
       "<polygon fill=\"#fefecd\" stroke=\"transparent\" points=\"58.5,-10 58.5,-19 78.5,-19 78.5,-10 58.5,-10\"/>\n",
       "<polyline fill=\"none\" stroke=\"#444443\" points=\"78.5,-10 78.5,-19 \"/>\n",
       "<text text-anchor=\"start\" x=\"59.5\" y=\"-13.2\" font-family=\"Helvetica,sans-Serif\" font-size=\"6.00\" fill=\"#444443\">left</text>\n",
       "<polygon fill=\"#fefecd\" stroke=\"transparent\" points=\"78.5,-10 78.5,-19 78.5,-19 78.5,-10 78.5,-10\"/>\n",
       "<polygon fill=\"#fefecd\" stroke=\"transparent\" points=\"78.5,-10 78.5,-19 103.5,-19 103.5,-10 78.5,-10\"/>\n",
       "<text text-anchor=\"start\" x=\"90.5\" y=\"-13.2\" font-family=\"Helvetica,sans-Serif\" font-size=\"6.00\" fill=\"#444443\">right</text>\n",
       "<polygon fill=\"#fefecd\" stroke=\"transparent\" points=\"58.5,-7 58.5,-10 78.5,-10 78.5,-7 58.5,-7\"/>\n",
       "<polyline fill=\"none\" stroke=\"#444443\" points=\"78.5,-7 78.5,-10 \"/>\n",
       "<text text-anchor=\"start\" x=\"68\" y=\"-8.2\" font-family=\"Helvetica,sans-Serif\" font-size=\"1.00\" fill=\"#444443\"> </text>\n",
       "<polygon fill=\"#fefecd\" stroke=\"transparent\" points=\"78.5,-7 78.5,-10 78.5,-10 78.5,-7 78.5,-7\"/>\n",
       "<polygon fill=\"#fefecd\" stroke=\"transparent\" points=\"78.5,-7 78.5,-10 103.5,-10 103.5,-7 78.5,-7\"/>\n",
       "<text text-anchor=\"start\" x=\"90.5\" y=\"-8.2\" font-family=\"Helvetica,sans-Serif\" font-size=\"1.00\" fill=\"#444443\"> </text>\n",
       "<polygon fill=\"#fefecd\" stroke=\"transparent\" points=\"58.5,-2 58.5,-7 78.5,-7 78.5,-2 58.5,-2\"/>\n",
       "<polyline fill=\"none\" stroke=\"#444443\" points=\"78.5,-2 78.5,-7 \"/>\n",
       "<text text-anchor=\"start\" x=\"68\" y=\"-3.6\" font-family=\"Helvetica,sans-Serif\" font-size=\"3.00\" fill=\"#444443\"> </text>\n",
       "<polygon fill=\"#fefecd\" stroke=\"transparent\" points=\"78.5,-2 78.5,-7 78.5,-7 78.5,-2 78.5,-2\"/>\n",
       "<polygon fill=\"#fefecd\" stroke=\"transparent\" points=\"78.5,-2 78.5,-7 103.5,-7 103.5,-2 78.5,-2\"/>\n",
       "<text text-anchor=\"start\" x=\"90.5\" y=\"-3.6\" font-family=\"Helvetica,sans-Serif\" font-size=\"3.00\" fill=\"#444443\"> </text>\n",
       "</g>\n",
       "<!-- node140549427813152&#45;&gt;node140549429857440 -->\n",
       "<g id=\"edge8\" class=\"edge\">\n",
       "<title>node140549427813152:c&#45;&gt;node140549429857440</title>\n",
       "<path fill=\"none\" stroke=\"#444443\" stroke-width=\"0.5\" d=\"M65.4,-81.85C66.67,-77.41 69.12,-68.84 71.68,-59.87\"/>\n",
       "<ellipse fill=\"#444443\" stroke=\"#444443\" stroke-width=\"0.5\" cx=\"64.94\" cy=\"-83.46\" rx=\"1.6\" ry=\"1.6\"/>\n",
       "<polygon fill=\"#444443\" stroke=\"#444443\" stroke-width=\"0.5\" points=\"73.03,-60.25 72.78,-56.02 70.34,-59.48 73.03,-60.25\"/>\n",
       "</g>\n",
       "<!-- node140549429858208 -->\n",
       "<g id=\"node9\" class=\"node\">\n",
       "<title>node140549429858208</title>\n",
       "<polygon fill=\"#fefecd\" stroke=\"#444443\" stroke-width=\"0.5\" points=\"187,-134 138,-134 138,-78 187,-78 187,-134\"/>\n",
       "<polygon fill=\"#fefecd\" stroke=\"transparent\" points=\"140.5,-118 140.5,-132 185.5,-132 185.5,-118 140.5,-118\"/>\n",
       "<polyline fill=\"none\" stroke=\"#444443\" points=\"140.5,-118 185.5,-118 \"/>\n",
       "<text text-anchor=\"start\" x=\"141.5\" y=\"-122.2\" font-family=\"Times,serif\" font-style=\"italic\" font-size=\"11.00\" fill=\"#444443\">TreeNode</text>\n",
       "<polygon fill=\"#fefecd\" stroke=\"transparent\" points=\"140.5,-116 140.5,-118 185.5,-118 185.5,-116 140.5,-116\"/>\n",
       "<polygon fill=\"#fefecd\" stroke=\"transparent\" points=\"140.5,-102 140.5,-116 160.5,-116 160.5,-102 140.5,-102\"/>\n",
       "<polyline fill=\"none\" stroke=\"#444443\" points=\"160.5,-102 160.5,-116 \"/>\n",
       "<text text-anchor=\"start\" x=\"141.5\" y=\"-106.2\" font-family=\"Helvetica,sans-Serif\" font-size=\"11.00\" fill=\"#444443\">val </text>\n",
       "<polygon fill=\"#fefecd\" stroke=\"transparent\" points=\"160.5,-102 160.5,-116 185.5,-116 185.5,-102 160.5,-102\"/>\n",
       "<text text-anchor=\"start\" x=\"161.5\" y=\"-106.2\" font-family=\"Helvetica,sans-Serif\" font-size=\"11.00\" fill=\"#444443\"> &#39;3.5&#39;</text>\n",
       "<polyline fill=\"none\" stroke=\"#444443\" points=\"140.5,-99 185.5,-99 \"/>\n",
       "<polygon fill=\"#fefecd\" stroke=\"transparent\" points=\"140.5,-97 140.5,-99 185.5,-99 185.5,-97 140.5,-97\"/>\n",
       "<polygon fill=\"#fefecd\" stroke=\"transparent\" points=\"140.5,-88 140.5,-97 160.5,-97 160.5,-88 140.5,-88\"/>\n",
       "<polyline fill=\"none\" stroke=\"#444443\" points=\"160.5,-88 160.5,-97 \"/>\n",
       "<text text-anchor=\"start\" x=\"141.5\" y=\"-91.2\" font-family=\"Helvetica,sans-Serif\" font-size=\"6.00\" fill=\"#444443\">left</text>\n",
       "<polygon fill=\"#fefecd\" stroke=\"transparent\" points=\"160.5,-88 160.5,-97 160.5,-97 160.5,-88 160.5,-88\"/>\n",
       "<polygon fill=\"#fefecd\" stroke=\"transparent\" points=\"160.5,-88 160.5,-97 185.5,-97 185.5,-88 160.5,-88\"/>\n",
       "<text text-anchor=\"start\" x=\"172.5\" y=\"-91.2\" font-family=\"Helvetica,sans-Serif\" font-size=\"6.00\" fill=\"#444443\">right</text>\n",
       "<polygon fill=\"#fefecd\" stroke=\"transparent\" points=\"140.5,-85 140.5,-88 160.5,-88 160.5,-85 140.5,-85\"/>\n",
       "<polyline fill=\"none\" stroke=\"#444443\" points=\"160.5,-85 160.5,-88 \"/>\n",
       "<text text-anchor=\"start\" x=\"150\" y=\"-86.2\" font-family=\"Helvetica,sans-Serif\" font-size=\"1.00\" fill=\"#444443\"> </text>\n",
       "<polygon fill=\"#fefecd\" stroke=\"transparent\" points=\"160.5,-85 160.5,-88 160.5,-88 160.5,-85 160.5,-85\"/>\n",
       "<polygon fill=\"#fefecd\" stroke=\"transparent\" points=\"160.5,-85 160.5,-88 185.5,-88 185.5,-85 160.5,-85\"/>\n",
       "<text text-anchor=\"start\" x=\"172.5\" y=\"-86.2\" font-family=\"Helvetica,sans-Serif\" font-size=\"1.00\" fill=\"#444443\"> </text>\n",
       "<polygon fill=\"#fefecd\" stroke=\"transparent\" points=\"140.5,-80 140.5,-85 160.5,-85 160.5,-80 140.5,-80\"/>\n",
       "<polyline fill=\"none\" stroke=\"#444443\" points=\"160.5,-80 160.5,-85 \"/>\n",
       "<text text-anchor=\"start\" x=\"150\" y=\"-81.6\" font-family=\"Helvetica,sans-Serif\" font-size=\"3.00\" fill=\"#444443\"> </text>\n",
       "<polygon fill=\"#fefecd\" stroke=\"transparent\" points=\"160.5,-80 160.5,-85 160.5,-85 160.5,-80 160.5,-80\"/>\n",
       "<polygon fill=\"#fefecd\" stroke=\"transparent\" points=\"160.5,-80 160.5,-85 185.5,-85 185.5,-80 160.5,-80\"/>\n",
       "<text text-anchor=\"start\" x=\"172.5\" y=\"-81.6\" font-family=\"Helvetica,sans-Serif\" font-size=\"3.00\" fill=\"#444443\"> </text>\n",
       "</g>\n",
       "<!-- node140549429854992&#45;&gt;node140549429858208 -->\n",
       "<g id=\"edge9\" class=\"edge\">\n",
       "<title>node140549429854992:c&#45;&gt;node140549429858208</title>\n",
       "<path fill=\"none\" stroke=\"#444443\" stroke-width=\"0.5\" d=\"M162.5,-159.52C162.5,-155.05 162.5,-146.86 162.5,-138.26\"/>\n",
       "<ellipse fill=\"#444443\" stroke=\"#444443\" stroke-width=\"0.5\" cx=\"162.5\" cy=\"-161.4\" rx=\"1.6\" ry=\"1.6\"/>\n",
       "<polygon fill=\"#444443\" stroke=\"#444443\" stroke-width=\"0.5\" points=\"163.9,-138.02 162.5,-134.02 161.1,-138.02 163.9,-138.02\"/>\n",
       "</g>\n",
       "<!-- node140549429858256 -->\n",
       "<g id=\"node10\" class=\"node\">\n",
       "<title>node140549429858256</title>\n",
       "<polygon fill=\"#fefecd\" stroke=\"#444443\" stroke-width=\"0.5\" points=\"243,-134 194,-134 194,-78 243,-78 243,-134\"/>\n",
       "<polygon fill=\"#fefecd\" stroke=\"transparent\" points=\"196.5,-118 196.5,-132 241.5,-132 241.5,-118 196.5,-118\"/>\n",
       "<polyline fill=\"none\" stroke=\"#444443\" points=\"196.5,-118 241.5,-118 \"/>\n",
       "<text text-anchor=\"start\" x=\"197.5\" y=\"-122.2\" font-family=\"Times,serif\" font-style=\"italic\" font-size=\"11.00\" fill=\"#444443\">TreeNode</text>\n",
       "<polygon fill=\"#fefecd\" stroke=\"transparent\" points=\"196.5,-116 196.5,-118 241.5,-118 241.5,-116 196.5,-116\"/>\n",
       "<polygon fill=\"#fefecd\" stroke=\"transparent\" points=\"196.5,-102 196.5,-116 216.5,-116 216.5,-102 196.5,-102\"/>\n",
       "<polyline fill=\"none\" stroke=\"#444443\" points=\"216.5,-102 216.5,-116 \"/>\n",
       "<text text-anchor=\"start\" x=\"197.5\" y=\"-106.2\" font-family=\"Helvetica,sans-Serif\" font-size=\"11.00\" fill=\"#444443\">val </text>\n",
       "<polygon fill=\"#fefecd\" stroke=\"transparent\" points=\"216.5,-102 216.5,-116 241.5,-116 241.5,-102 216.5,-102\"/>\n",
       "<text text-anchor=\"start\" x=\"217.5\" y=\"-106.2\" font-family=\"Helvetica,sans-Serif\" font-size=\"11.00\" fill=\"#444443\"> &#39;4.5&#39;</text>\n",
       "<polyline fill=\"none\" stroke=\"#444443\" points=\"196.5,-99 241.5,-99 \"/>\n",
       "<polygon fill=\"#fefecd\" stroke=\"transparent\" points=\"196.5,-97 196.5,-99 241.5,-99 241.5,-97 196.5,-97\"/>\n",
       "<polygon fill=\"#fefecd\" stroke=\"transparent\" points=\"196.5,-88 196.5,-97 216.5,-97 216.5,-88 196.5,-88\"/>\n",
       "<polyline fill=\"none\" stroke=\"#444443\" points=\"216.5,-88 216.5,-97 \"/>\n",
       "<text text-anchor=\"start\" x=\"197.5\" y=\"-91.2\" font-family=\"Helvetica,sans-Serif\" font-size=\"6.00\" fill=\"#444443\">left</text>\n",
       "<polygon fill=\"#fefecd\" stroke=\"transparent\" points=\"216.5,-88 216.5,-97 216.5,-97 216.5,-88 216.5,-88\"/>\n",
       "<polygon fill=\"#fefecd\" stroke=\"transparent\" points=\"216.5,-88 216.5,-97 241.5,-97 241.5,-88 216.5,-88\"/>\n",
       "<text text-anchor=\"start\" x=\"228.5\" y=\"-91.2\" font-family=\"Helvetica,sans-Serif\" font-size=\"6.00\" fill=\"#444443\">right</text>\n",
       "<polygon fill=\"#fefecd\" stroke=\"transparent\" points=\"196.5,-85 196.5,-88 216.5,-88 216.5,-85 196.5,-85\"/>\n",
       "<polyline fill=\"none\" stroke=\"#444443\" points=\"216.5,-85 216.5,-88 \"/>\n",
       "<text text-anchor=\"start\" x=\"206\" y=\"-86.2\" font-family=\"Helvetica,sans-Serif\" font-size=\"1.00\" fill=\"#444443\"> </text>\n",
       "<polygon fill=\"#fefecd\" stroke=\"transparent\" points=\"216.5,-85 216.5,-88 216.5,-88 216.5,-85 216.5,-85\"/>\n",
       "<polygon fill=\"#fefecd\" stroke=\"transparent\" points=\"216.5,-85 216.5,-88 241.5,-88 241.5,-85 216.5,-85\"/>\n",
       "<text text-anchor=\"start\" x=\"228.5\" y=\"-86.2\" font-family=\"Helvetica,sans-Serif\" font-size=\"1.00\" fill=\"#444443\"> </text>\n",
       "<polygon fill=\"#fefecd\" stroke=\"transparent\" points=\"196.5,-80 196.5,-85 216.5,-85 216.5,-80 196.5,-80\"/>\n",
       "<polyline fill=\"none\" stroke=\"#444443\" points=\"216.5,-80 216.5,-85 \"/>\n",
       "<text text-anchor=\"start\" x=\"206\" y=\"-81.6\" font-family=\"Helvetica,sans-Serif\" font-size=\"3.00\" fill=\"#444443\"> </text>\n",
       "<polygon fill=\"#fefecd\" stroke=\"transparent\" points=\"216.5,-80 216.5,-85 216.5,-85 216.5,-80 216.5,-80\"/>\n",
       "<polygon fill=\"#fefecd\" stroke=\"transparent\" points=\"216.5,-80 216.5,-85 241.5,-85 241.5,-80 216.5,-80\"/>\n",
       "<text text-anchor=\"start\" x=\"228.5\" y=\"-81.6\" font-family=\"Helvetica,sans-Serif\" font-size=\"3.00\" fill=\"#444443\"> </text>\n",
       "</g>\n",
       "<!-- node140549429854992&#45;&gt;node140549429858256 -->\n",
       "<g id=\"edge10\" class=\"edge\">\n",
       "<title>node140549429854992:c&#45;&gt;node140549429858256</title>\n",
       "<path fill=\"none\" stroke=\"#444443\" stroke-width=\"0.5\" d=\"M188.11,-160.18C190.58,-155.85 195.58,-147.12 200.81,-137.96\"/>\n",
       "<ellipse fill=\"#444443\" stroke=\"#444443\" stroke-width=\"0.5\" cx=\"187.29\" cy=\"-161.61\" rx=\"1.6\" ry=\"1.6\"/>\n",
       "<polygon fill=\"#444443\" stroke=\"#444443\" stroke-width=\"0.5\" points=\"202.29,-138.18 203.06,-134.02 199.86,-136.79 202.29,-138.18\"/>\n",
       "</g>\n",
       "<!-- node140549429857680 -->\n",
       "<g id=\"node12\" class=\"node\">\n",
       "<title>node140549429857680</title>\n",
       "<polygon fill=\"#fefecd\" stroke=\"#444443\" stroke-width=\"0.5\" points=\"253,-212 204,-212 204,-156 253,-156 253,-212\"/>\n",
       "<polygon fill=\"#fefecd\" stroke=\"transparent\" points=\"206.5,-196 206.5,-210 251.5,-210 251.5,-196 206.5,-196\"/>\n",
       "<polyline fill=\"none\" stroke=\"#444443\" points=\"206.5,-196 251.5,-196 \"/>\n",
       "<text text-anchor=\"start\" x=\"207.5\" y=\"-200.2\" font-family=\"Times,serif\" font-style=\"italic\" font-size=\"11.00\" fill=\"#444443\">TreeNode</text>\n",
       "<polygon fill=\"#fefecd\" stroke=\"transparent\" points=\"206.5,-194 206.5,-196 251.5,-196 251.5,-194 206.5,-194\"/>\n",
       "<polygon fill=\"#fefecd\" stroke=\"transparent\" points=\"206.5,-180 206.5,-194 230.5,-194 230.5,-180 206.5,-180\"/>\n",
       "<polyline fill=\"none\" stroke=\"#444443\" points=\"230.5,-180 230.5,-194 \"/>\n",
       "<text text-anchor=\"start\" x=\"211.5\" y=\"-184.2\" font-family=\"Helvetica,sans-Serif\" font-size=\"11.00\" fill=\"#444443\">val </text>\n",
       "<polygon fill=\"#fefecd\" stroke=\"transparent\" points=\"232.5,-180 232.5,-194 251.5,-194 251.5,-180 232.5,-180\"/>\n",
       "<text text-anchor=\"start\" x=\"233.5\" y=\"-184.2\" font-family=\"Helvetica,sans-Serif\" font-size=\"11.00\" fill=\"#444443\"> &#39;7&#39;</text>\n",
       "<polyline fill=\"none\" stroke=\"#444443\" points=\"206.5,-177 251.5,-177 \"/>\n",
       "<polygon fill=\"#fefecd\" stroke=\"transparent\" points=\"206.5,-175 206.5,-177 251.5,-177 251.5,-175 206.5,-175\"/>\n",
       "<polygon fill=\"#fefecd\" stroke=\"transparent\" points=\"206.5,-166 206.5,-175 230.5,-175 230.5,-166 206.5,-166\"/>\n",
       "<polyline fill=\"none\" stroke=\"#444443\" points=\"230.5,-166 230.5,-175 \"/>\n",
       "<text text-anchor=\"start\" x=\"207.5\" y=\"-169.2\" font-family=\"Helvetica,sans-Serif\" font-size=\"6.00\" fill=\"#444443\">left</text>\n",
       "<polygon fill=\"#fefecd\" stroke=\"transparent\" points=\"230.5,-166 230.5,-175 232.5,-175 232.5,-166 230.5,-166\"/>\n",
       "<polygon fill=\"#fefecd\" stroke=\"transparent\" points=\"232.5,-166 232.5,-175 251.5,-175 251.5,-166 232.5,-166\"/>\n",
       "<text text-anchor=\"start\" x=\"238.5\" y=\"-169.2\" font-family=\"Helvetica,sans-Serif\" font-size=\"6.00\" fill=\"#444443\">right</text>\n",
       "<polygon fill=\"#fefecd\" stroke=\"transparent\" points=\"206.5,-163 206.5,-166 230.5,-166 230.5,-163 206.5,-163\"/>\n",
       "<polyline fill=\"none\" stroke=\"#444443\" points=\"230.5,-163 230.5,-166 \"/>\n",
       "<text text-anchor=\"start\" x=\"218\" y=\"-164.2\" font-family=\"Helvetica,sans-Serif\" font-size=\"1.00\" fill=\"#444443\"> </text>\n",
       "<polygon fill=\"#fefecd\" stroke=\"transparent\" points=\"230.5,-163 230.5,-166 232.5,-166 232.5,-163 230.5,-163\"/>\n",
       "<polygon fill=\"#fefecd\" stroke=\"transparent\" points=\"232.5,-163 232.5,-166 251.5,-166 251.5,-163 232.5,-163\"/>\n",
       "<text text-anchor=\"start\" x=\"241.5\" y=\"-164.2\" font-family=\"Helvetica,sans-Serif\" font-size=\"1.00\" fill=\"#444443\"> </text>\n",
       "<polygon fill=\"#fefecd\" stroke=\"transparent\" points=\"206.5,-158 206.5,-163 230.5,-163 230.5,-158 206.5,-158\"/>\n",
       "<polyline fill=\"none\" stroke=\"#444443\" points=\"230.5,-158 230.5,-163 \"/>\n",
       "<text text-anchor=\"start\" x=\"218\" y=\"-159.6\" font-family=\"Helvetica,sans-Serif\" font-size=\"3.00\" fill=\"#444443\"> </text>\n",
       "<polygon fill=\"#fefecd\" stroke=\"transparent\" points=\"230.5,-158 230.5,-163 232.5,-163 232.5,-158 230.5,-158\"/>\n",
       "<polygon fill=\"#fefecd\" stroke=\"transparent\" points=\"232.5,-158 232.5,-163 251.5,-163 251.5,-158 232.5,-158\"/>\n",
       "<text text-anchor=\"start\" x=\"241.5\" y=\"-159.6\" font-family=\"Helvetica,sans-Serif\" font-size=\"3.00\" fill=\"#444443\"> </text>\n",
       "</g>\n",
       "<!-- node140549368807584&#45;&gt;node140549429857680 -->\n",
       "<g id=\"edge11\" class=\"edge\">\n",
       "<title>node140549368807584:c&#45;&gt;node140549429857680</title>\n",
       "<path fill=\"none\" stroke=\"#444443\" stroke-width=\"0.5\" d=\"M228.5,-237.52C228.5,-233.05 228.5,-224.86 228.5,-216.26\"/>\n",
       "<ellipse fill=\"#444443\" stroke=\"#444443\" stroke-width=\"0.5\" cx=\"228.5\" cy=\"-239.4\" rx=\"1.6\" ry=\"1.6\"/>\n",
       "<polygon fill=\"#444443\" stroke=\"#444443\" stroke-width=\"0.5\" points=\"229.9,-216.02 228.5,-212.02 227.1,-216.02 229.9,-216.02\"/>\n",
       "</g>\n",
       "</g>\n",
       "</svg>\n"
      ],
      "text/plain": [
       "<graphviz.sources.Source at 0x7fd436d708e0>"
      ]
     },
     "execution_count": 107,
     "metadata": {},
     "output_type": "execute_result"
    }
   ],
   "source": [
    "root = TreeNode(5)\n",
    "root.left = TreeNode(3)\n",
    "root.right = TreeNode(6)\n",
    "root.left.left = TreeNode(2)\n",
    "root.left.left.left = TreeNode(1)\n",
    "root.left.left.right = TreeNode(2.5)\n",
    "root.left.left.left.left = TreeNode(-1)\n",
    "root.left.left.left.right = TreeNode(1.5)\n",
    "root.left.right = TreeNode(4)\n",
    "root.left.right.left = TreeNode(3.5)\n",
    "root.left.right.right = TreeNode(4.5)\n",
    "root.right.right = TreeNode(7)\n",
    "treeviz(root)"
   ]
  },
  {
   "cell_type": "code",
   "execution_count": 108,
   "id": "911080f6",
   "metadata": {},
   "outputs": [
    {
     "data": {
      "image/svg+xml": [
       "<?xml version=\"1.0\" encoding=\"UTF-8\" standalone=\"no\"?>\n",
       "<!DOCTYPE svg PUBLIC \"-//W3C//DTD SVG 1.1//EN\"\n",
       " \"http://www.w3.org/Graphics/SVG/1.1/DTD/svg11.dtd\">\n",
       "<!-- Generated by graphviz version 2.49.3 (20211023.0002)\n",
       " -->\n",
       "<!-- Title: G Pages: 1 -->\n",
       "<svg width=\"206pt\" height=\"376pt\"\n",
       " viewBox=\"0.00 0.00 206.00 376.00\" xmlns=\"http://www.w3.org/2000/svg\" xmlns:xlink=\"http://www.w3.org/1999/xlink\">\n",
       "<g id=\"graph0\" class=\"graph\" transform=\"scale(1 1) rotate(0) translate(4 372)\">\n",
       "<title>G</title>\n",
       "<polygon fill=\"white\" stroke=\"transparent\" points=\"-4,4 -4,-372 202,-372 202,4 -4,4\"/>\n",
       "<!-- node140549429855040 -->\n",
       "<g id=\"node1\" class=\"node\">\n",
       "<title>node140549429855040</title>\n",
       "<polygon fill=\"#fefecd\" stroke=\"#444443\" stroke-width=\"0.5\" points=\"154,-368 105,-368 105,-312 154,-312 154,-368\"/>\n",
       "<polygon fill=\"#fefecd\" stroke=\"transparent\" points=\"107.5,-352 107.5,-366 152.5,-366 152.5,-352 107.5,-352\"/>\n",
       "<polyline fill=\"none\" stroke=\"#444443\" points=\"107.5,-352 152.5,-352 \"/>\n",
       "<text text-anchor=\"start\" x=\"108.5\" y=\"-356.2\" font-family=\"Times,serif\" font-style=\"italic\" font-size=\"11.00\" fill=\"#444443\">TreeNode</text>\n",
       "<polygon fill=\"#fefecd\" stroke=\"transparent\" points=\"107.5,-350 107.5,-352 152.5,-352 152.5,-350 107.5,-350\"/>\n",
       "<polygon fill=\"#fefecd\" stroke=\"transparent\" points=\"107.5,-336 107.5,-350 131.5,-350 131.5,-336 107.5,-336\"/>\n",
       "<polyline fill=\"none\" stroke=\"#444443\" points=\"131.5,-336 131.5,-350 \"/>\n",
       "<text text-anchor=\"start\" x=\"112.5\" y=\"-340.2\" font-family=\"Helvetica,sans-Serif\" font-size=\"11.00\" fill=\"#444443\">val </text>\n",
       "<polygon fill=\"#fefecd\" stroke=\"transparent\" points=\"133.5,-336 133.5,-350 152.5,-350 152.5,-336 133.5,-336\"/>\n",
       "<text text-anchor=\"start\" x=\"134.5\" y=\"-340.2\" font-family=\"Helvetica,sans-Serif\" font-size=\"11.00\" fill=\"#444443\"> &#39;5&#39;</text>\n",
       "<polyline fill=\"none\" stroke=\"#444443\" points=\"107.5,-333 152.5,-333 \"/>\n",
       "<polygon fill=\"#fefecd\" stroke=\"transparent\" points=\"107.5,-331 107.5,-333 152.5,-333 152.5,-331 107.5,-331\"/>\n",
       "<polygon fill=\"#fefecd\" stroke=\"transparent\" points=\"107.5,-322 107.5,-331 131.5,-331 131.5,-322 107.5,-322\"/>\n",
       "<polyline fill=\"none\" stroke=\"#444443\" points=\"131.5,-322 131.5,-331 \"/>\n",
       "<text text-anchor=\"start\" x=\"108.5\" y=\"-325.2\" font-family=\"Helvetica,sans-Serif\" font-size=\"6.00\" fill=\"#444443\">left</text>\n",
       "<polygon fill=\"#fefecd\" stroke=\"transparent\" points=\"131.5,-322 131.5,-331 133.5,-331 133.5,-322 131.5,-322\"/>\n",
       "<polygon fill=\"#fefecd\" stroke=\"transparent\" points=\"133.5,-322 133.5,-331 152.5,-331 152.5,-322 133.5,-322\"/>\n",
       "<text text-anchor=\"start\" x=\"139.5\" y=\"-325.2\" font-family=\"Helvetica,sans-Serif\" font-size=\"6.00\" fill=\"#444443\">right</text>\n",
       "<polygon fill=\"#fefecd\" stroke=\"transparent\" points=\"107.5,-319 107.5,-322 131.5,-322 131.5,-319 107.5,-319\"/>\n",
       "<polyline fill=\"none\" stroke=\"#444443\" points=\"131.5,-319 131.5,-322 \"/>\n",
       "<text text-anchor=\"start\" x=\"119\" y=\"-320.2\" font-family=\"Helvetica,sans-Serif\" font-size=\"1.00\" fill=\"#444443\"> </text>\n",
       "<polygon fill=\"#fefecd\" stroke=\"transparent\" points=\"131.5,-319 131.5,-322 133.5,-322 133.5,-319 131.5,-319\"/>\n",
       "<polygon fill=\"#fefecd\" stroke=\"transparent\" points=\"133.5,-319 133.5,-322 152.5,-322 152.5,-319 133.5,-319\"/>\n",
       "<text text-anchor=\"start\" x=\"142.5\" y=\"-320.2\" font-family=\"Helvetica,sans-Serif\" font-size=\"1.00\" fill=\"#444443\"> </text>\n",
       "<polygon fill=\"#fefecd\" stroke=\"transparent\" points=\"107.5,-314 107.5,-319 131.5,-319 131.5,-314 107.5,-314\"/>\n",
       "<polyline fill=\"none\" stroke=\"#444443\" points=\"131.5,-314 131.5,-319 \"/>\n",
       "<text text-anchor=\"start\" x=\"119\" y=\"-315.6\" font-family=\"Helvetica,sans-Serif\" font-size=\"3.00\" fill=\"#444443\"> </text>\n",
       "<polygon fill=\"#fefecd\" stroke=\"transparent\" points=\"131.5,-314 131.5,-319 133.5,-319 133.5,-314 131.5,-314\"/>\n",
       "<polygon fill=\"#fefecd\" stroke=\"transparent\" points=\"133.5,-314 133.5,-319 152.5,-319 152.5,-314 133.5,-314\"/>\n",
       "<text text-anchor=\"start\" x=\"142.5\" y=\"-315.6\" font-family=\"Helvetica,sans-Serif\" font-size=\"3.00\" fill=\"#444443\"> </text>\n",
       "</g>\n",
       "<!-- node140549368811472 -->\n",
       "<g id=\"node2\" class=\"node\">\n",
       "<title>node140549368811472</title>\n",
       "<polygon fill=\"#fefecd\" stroke=\"#444443\" stroke-width=\"0.5\" points=\"128,-290 79,-290 79,-234 128,-234 128,-290\"/>\n",
       "<polygon fill=\"#fefecd\" stroke=\"transparent\" points=\"81.5,-274 81.5,-288 126.5,-288 126.5,-274 81.5,-274\"/>\n",
       "<polyline fill=\"none\" stroke=\"#444443\" points=\"81.5,-274 126.5,-274 \"/>\n",
       "<text text-anchor=\"start\" x=\"82.5\" y=\"-278.2\" font-family=\"Times,serif\" font-style=\"italic\" font-size=\"11.00\" fill=\"#444443\">TreeNode</text>\n",
       "<polygon fill=\"#fefecd\" stroke=\"transparent\" points=\"81.5,-272 81.5,-274 126.5,-274 126.5,-272 81.5,-272\"/>\n",
       "<polygon fill=\"#fefecd\" stroke=\"transparent\" points=\"81.5,-258 81.5,-272 101.5,-272 101.5,-258 81.5,-258\"/>\n",
       "<polyline fill=\"none\" stroke=\"#444443\" points=\"101.5,-258 101.5,-272 \"/>\n",
       "<text text-anchor=\"start\" x=\"82.5\" y=\"-262.2\" font-family=\"Helvetica,sans-Serif\" font-size=\"11.00\" fill=\"#444443\">val </text>\n",
       "<polygon fill=\"#fefecd\" stroke=\"transparent\" points=\"101.5,-258 101.5,-272 126.5,-272 126.5,-258 101.5,-258\"/>\n",
       "<text text-anchor=\"start\" x=\"102.5\" y=\"-262.2\" font-family=\"Helvetica,sans-Serif\" font-size=\"11.00\" fill=\"#444443\"> &#39;2.5&#39;</text>\n",
       "<polyline fill=\"none\" stroke=\"#444443\" points=\"81.5,-255 126.5,-255 \"/>\n",
       "<polygon fill=\"#fefecd\" stroke=\"transparent\" points=\"81.5,-253 81.5,-255 126.5,-255 126.5,-253 81.5,-253\"/>\n",
       "<polygon fill=\"#fefecd\" stroke=\"transparent\" points=\"81.5,-244 81.5,-253 101.5,-253 101.5,-244 81.5,-244\"/>\n",
       "<polyline fill=\"none\" stroke=\"#444443\" points=\"101.5,-244 101.5,-253 \"/>\n",
       "<text text-anchor=\"start\" x=\"82.5\" y=\"-247.2\" font-family=\"Helvetica,sans-Serif\" font-size=\"6.00\" fill=\"#444443\">left</text>\n",
       "<polygon fill=\"#fefecd\" stroke=\"transparent\" points=\"101.5,-244 101.5,-253 101.5,-253 101.5,-244 101.5,-244\"/>\n",
       "<polygon fill=\"#fefecd\" stroke=\"transparent\" points=\"101.5,-244 101.5,-253 126.5,-253 126.5,-244 101.5,-244\"/>\n",
       "<text text-anchor=\"start\" x=\"113.5\" y=\"-247.2\" font-family=\"Helvetica,sans-Serif\" font-size=\"6.00\" fill=\"#444443\">right</text>\n",
       "<polygon fill=\"#fefecd\" stroke=\"transparent\" points=\"81.5,-241 81.5,-244 101.5,-244 101.5,-241 81.5,-241\"/>\n",
       "<polyline fill=\"none\" stroke=\"#444443\" points=\"101.5,-241 101.5,-244 \"/>\n",
       "<text text-anchor=\"start\" x=\"91\" y=\"-242.2\" font-family=\"Helvetica,sans-Serif\" font-size=\"1.00\" fill=\"#444443\"> </text>\n",
       "<polygon fill=\"#fefecd\" stroke=\"transparent\" points=\"101.5,-241 101.5,-244 101.5,-244 101.5,-241 101.5,-241\"/>\n",
       "<polygon fill=\"#fefecd\" stroke=\"transparent\" points=\"101.5,-241 101.5,-244 126.5,-244 126.5,-241 101.5,-241\"/>\n",
       "<text text-anchor=\"start\" x=\"113.5\" y=\"-242.2\" font-family=\"Helvetica,sans-Serif\" font-size=\"1.00\" fill=\"#444443\"> </text>\n",
       "<polygon fill=\"#fefecd\" stroke=\"transparent\" points=\"81.5,-236 81.5,-241 101.5,-241 101.5,-236 81.5,-236\"/>\n",
       "<polyline fill=\"none\" stroke=\"#444443\" points=\"101.5,-236 101.5,-241 \"/>\n",
       "<text text-anchor=\"start\" x=\"91\" y=\"-237.6\" font-family=\"Helvetica,sans-Serif\" font-size=\"3.00\" fill=\"#444443\"> </text>\n",
       "<polygon fill=\"#fefecd\" stroke=\"transparent\" points=\"101.5,-236 101.5,-241 101.5,-241 101.5,-236 101.5,-236\"/>\n",
       "<polygon fill=\"#fefecd\" stroke=\"transparent\" points=\"101.5,-236 101.5,-241 126.5,-241 126.5,-236 101.5,-236\"/>\n",
       "<text text-anchor=\"start\" x=\"113.5\" y=\"-237.6\" font-family=\"Helvetica,sans-Serif\" font-size=\"3.00\" fill=\"#444443\"> </text>\n",
       "</g>\n",
       "<!-- node140549429855040&#45;&gt;node140549368811472 -->\n",
       "<g id=\"edge1\" class=\"edge\">\n",
       "<title>node140549429855040:c&#45;&gt;node140549368811472</title>\n",
       "<path fill=\"none\" stroke=\"#444443\" stroke-width=\"0.5\" d=\"M118.6,-315.85C117.33,-311.41 114.88,-302.84 112.32,-293.87\"/>\n",
       "<ellipse fill=\"#444443\" stroke=\"#444443\" stroke-width=\"0.5\" cx=\"119.06\" cy=\"-317.46\" rx=\"1.6\" ry=\"1.6\"/>\n",
       "<polygon fill=\"#444443\" stroke=\"#444443\" stroke-width=\"0.5\" points=\"113.66,-293.48 111.22,-290.02 110.97,-294.25 113.66,-293.48\"/>\n",
       "</g>\n",
       "<!-- node140549368807584 -->\n",
       "<g id=\"node10\" class=\"node\">\n",
       "<title>node140549368807584</title>\n",
       "<polygon fill=\"#fefecd\" stroke=\"#444443\" stroke-width=\"0.5\" points=\"184,-290 135,-290 135,-234 184,-234 184,-290\"/>\n",
       "<polygon fill=\"#fefecd\" stroke=\"transparent\" points=\"137.5,-274 137.5,-288 182.5,-288 182.5,-274 137.5,-274\"/>\n",
       "<polyline fill=\"none\" stroke=\"#444443\" points=\"137.5,-274 182.5,-274 \"/>\n",
       "<text text-anchor=\"start\" x=\"138.5\" y=\"-278.2\" font-family=\"Times,serif\" font-style=\"italic\" font-size=\"11.00\" fill=\"#444443\">TreeNode</text>\n",
       "<polygon fill=\"#fefecd\" stroke=\"transparent\" points=\"137.5,-272 137.5,-274 182.5,-274 182.5,-272 137.5,-272\"/>\n",
       "<polygon fill=\"#fefecd\" stroke=\"transparent\" points=\"137.5,-258 137.5,-272 161.5,-272 161.5,-258 137.5,-258\"/>\n",
       "<polyline fill=\"none\" stroke=\"#444443\" points=\"161.5,-258 161.5,-272 \"/>\n",
       "<text text-anchor=\"start\" x=\"142.5\" y=\"-262.2\" font-family=\"Helvetica,sans-Serif\" font-size=\"11.00\" fill=\"#444443\">val </text>\n",
       "<polygon fill=\"#fefecd\" stroke=\"transparent\" points=\"163.5,-258 163.5,-272 182.5,-272 182.5,-258 163.5,-258\"/>\n",
       "<text text-anchor=\"start\" x=\"164.5\" y=\"-262.2\" font-family=\"Helvetica,sans-Serif\" font-size=\"11.00\" fill=\"#444443\"> &#39;6&#39;</text>\n",
       "<polyline fill=\"none\" stroke=\"#444443\" points=\"137.5,-255 182.5,-255 \"/>\n",
       "<polygon fill=\"#fefecd\" stroke=\"transparent\" points=\"137.5,-253 137.5,-255 182.5,-255 182.5,-253 137.5,-253\"/>\n",
       "<polygon fill=\"#fefecd\" stroke=\"transparent\" points=\"137.5,-244 137.5,-253 161.5,-253 161.5,-244 137.5,-244\"/>\n",
       "<polyline fill=\"none\" stroke=\"#444443\" points=\"161.5,-244 161.5,-253 \"/>\n",
       "<text text-anchor=\"start\" x=\"138.5\" y=\"-247.2\" font-family=\"Helvetica,sans-Serif\" font-size=\"6.00\" fill=\"#444443\">left</text>\n",
       "<polygon fill=\"#fefecd\" stroke=\"transparent\" points=\"161.5,-244 161.5,-253 163.5,-253 163.5,-244 161.5,-244\"/>\n",
       "<polygon fill=\"#fefecd\" stroke=\"transparent\" points=\"163.5,-244 163.5,-253 182.5,-253 182.5,-244 163.5,-244\"/>\n",
       "<text text-anchor=\"start\" x=\"169.5\" y=\"-247.2\" font-family=\"Helvetica,sans-Serif\" font-size=\"6.00\" fill=\"#444443\">right</text>\n",
       "<polygon fill=\"#fefecd\" stroke=\"transparent\" points=\"137.5,-241 137.5,-244 161.5,-244 161.5,-241 137.5,-241\"/>\n",
       "<polyline fill=\"none\" stroke=\"#444443\" points=\"161.5,-241 161.5,-244 \"/>\n",
       "<text text-anchor=\"start\" x=\"149\" y=\"-242.2\" font-family=\"Helvetica,sans-Serif\" font-size=\"1.00\" fill=\"#444443\"> </text>\n",
       "<polygon fill=\"#fefecd\" stroke=\"transparent\" points=\"161.5,-241 161.5,-244 163.5,-244 163.5,-241 161.5,-241\"/>\n",
       "<polygon fill=\"#fefecd\" stroke=\"transparent\" points=\"163.5,-241 163.5,-244 182.5,-244 182.5,-241 163.5,-241\"/>\n",
       "<text text-anchor=\"start\" x=\"172.5\" y=\"-242.2\" font-family=\"Helvetica,sans-Serif\" font-size=\"1.00\" fill=\"#444443\"> </text>\n",
       "<polygon fill=\"#fefecd\" stroke=\"transparent\" points=\"137.5,-236 137.5,-241 161.5,-241 161.5,-236 137.5,-236\"/>\n",
       "<polyline fill=\"none\" stroke=\"#444443\" points=\"161.5,-236 161.5,-241 \"/>\n",
       "<text text-anchor=\"start\" x=\"149\" y=\"-237.6\" font-family=\"Helvetica,sans-Serif\" font-size=\"3.00\" fill=\"#444443\"> </text>\n",
       "<polygon fill=\"#fefecd\" stroke=\"transparent\" points=\"161.5,-236 161.5,-241 163.5,-241 163.5,-236 161.5,-236\"/>\n",
       "<polygon fill=\"#fefecd\" stroke=\"transparent\" points=\"163.5,-236 163.5,-241 182.5,-241 182.5,-236 163.5,-236\"/>\n",
       "<text text-anchor=\"start\" x=\"172.5\" y=\"-237.6\" font-family=\"Helvetica,sans-Serif\" font-size=\"3.00\" fill=\"#444443\"> </text>\n",
       "</g>\n",
       "<!-- node140549429855040&#45;&gt;node140549368807584 -->\n",
       "<g id=\"edge2\" class=\"edge\">\n",
       "<title>node140549429855040:c&#45;&gt;node140549368807584</title>\n",
       "<path fill=\"none\" stroke=\"#444443\" stroke-width=\"0.5\" d=\"M144.4,-315.85C145.67,-311.41 148.12,-302.84 150.68,-293.87\"/>\n",
       "<ellipse fill=\"#444443\" stroke=\"#444443\" stroke-width=\"0.5\" cx=\"143.94\" cy=\"-317.46\" rx=\"1.6\" ry=\"1.6\"/>\n",
       "<polygon fill=\"#444443\" stroke=\"#444443\" stroke-width=\"0.5\" points=\"152.03,-294.25 151.78,-290.02 149.34,-293.48 152.03,-294.25\"/>\n",
       "</g>\n",
       "<!-- node140549427811232 -->\n",
       "<g id=\"node3\" class=\"node\">\n",
       "<title>node140549427811232</title>\n",
       "<polygon fill=\"#fefecd\" stroke=\"#444443\" stroke-width=\"0.5\" points=\"85,-212 36,-212 36,-156 85,-156 85,-212\"/>\n",
       "<polygon fill=\"#fefecd\" stroke=\"transparent\" points=\"38.5,-196 38.5,-210 83.5,-210 83.5,-196 38.5,-196\"/>\n",
       "<polyline fill=\"none\" stroke=\"#444443\" points=\"38.5,-196 83.5,-196 \"/>\n",
       "<text text-anchor=\"start\" x=\"39.5\" y=\"-200.2\" font-family=\"Times,serif\" font-style=\"italic\" font-size=\"11.00\" fill=\"#444443\">TreeNode</text>\n",
       "<polygon fill=\"#fefecd\" stroke=\"transparent\" points=\"38.5,-194 38.5,-196 83.5,-196 83.5,-194 38.5,-194\"/>\n",
       "<polygon fill=\"#fefecd\" stroke=\"transparent\" points=\"38.5,-180 38.5,-194 62.5,-194 62.5,-180 38.5,-180\"/>\n",
       "<polyline fill=\"none\" stroke=\"#444443\" points=\"62.5,-180 62.5,-194 \"/>\n",
       "<text text-anchor=\"start\" x=\"43.5\" y=\"-184.2\" font-family=\"Helvetica,sans-Serif\" font-size=\"11.00\" fill=\"#444443\">val </text>\n",
       "<polygon fill=\"#fefecd\" stroke=\"transparent\" points=\"64.5,-180 64.5,-194 83.5,-194 83.5,-180 64.5,-180\"/>\n",
       "<text text-anchor=\"start\" x=\"65.5\" y=\"-184.2\" font-family=\"Helvetica,sans-Serif\" font-size=\"11.00\" fill=\"#444443\"> &#39;2&#39;</text>\n",
       "<polyline fill=\"none\" stroke=\"#444443\" points=\"38.5,-177 83.5,-177 \"/>\n",
       "<polygon fill=\"#fefecd\" stroke=\"transparent\" points=\"38.5,-175 38.5,-177 83.5,-177 83.5,-175 38.5,-175\"/>\n",
       "<polygon fill=\"#fefecd\" stroke=\"transparent\" points=\"38.5,-166 38.5,-175 62.5,-175 62.5,-166 38.5,-166\"/>\n",
       "<polyline fill=\"none\" stroke=\"#444443\" points=\"62.5,-166 62.5,-175 \"/>\n",
       "<text text-anchor=\"start\" x=\"39.5\" y=\"-169.2\" font-family=\"Helvetica,sans-Serif\" font-size=\"6.00\" fill=\"#444443\">left</text>\n",
       "<polygon fill=\"#fefecd\" stroke=\"transparent\" points=\"62.5,-166 62.5,-175 64.5,-175 64.5,-166 62.5,-166\"/>\n",
       "<polygon fill=\"#fefecd\" stroke=\"transparent\" points=\"64.5,-166 64.5,-175 83.5,-175 83.5,-166 64.5,-166\"/>\n",
       "<text text-anchor=\"start\" x=\"70.5\" y=\"-169.2\" font-family=\"Helvetica,sans-Serif\" font-size=\"6.00\" fill=\"#444443\">right</text>\n",
       "<polygon fill=\"#fefecd\" stroke=\"transparent\" points=\"38.5,-163 38.5,-166 62.5,-166 62.5,-163 38.5,-163\"/>\n",
       "<polyline fill=\"none\" stroke=\"#444443\" points=\"62.5,-163 62.5,-166 \"/>\n",
       "<text text-anchor=\"start\" x=\"50\" y=\"-164.2\" font-family=\"Helvetica,sans-Serif\" font-size=\"1.00\" fill=\"#444443\"> </text>\n",
       "<polygon fill=\"#fefecd\" stroke=\"transparent\" points=\"62.5,-163 62.5,-166 64.5,-166 64.5,-163 62.5,-163\"/>\n",
       "<polygon fill=\"#fefecd\" stroke=\"transparent\" points=\"64.5,-163 64.5,-166 83.5,-166 83.5,-163 64.5,-163\"/>\n",
       "<text text-anchor=\"start\" x=\"73.5\" y=\"-164.2\" font-family=\"Helvetica,sans-Serif\" font-size=\"1.00\" fill=\"#444443\"> </text>\n",
       "<polygon fill=\"#fefecd\" stroke=\"transparent\" points=\"38.5,-158 38.5,-163 62.5,-163 62.5,-158 38.5,-158\"/>\n",
       "<polyline fill=\"none\" stroke=\"#444443\" points=\"62.5,-158 62.5,-163 \"/>\n",
       "<text text-anchor=\"start\" x=\"50\" y=\"-159.6\" font-family=\"Helvetica,sans-Serif\" font-size=\"3.00\" fill=\"#444443\"> </text>\n",
       "<polygon fill=\"#fefecd\" stroke=\"transparent\" points=\"62.5,-158 62.5,-163 64.5,-163 64.5,-158 62.5,-158\"/>\n",
       "<polygon fill=\"#fefecd\" stroke=\"transparent\" points=\"64.5,-158 64.5,-163 83.5,-163 83.5,-158 64.5,-158\"/>\n",
       "<text text-anchor=\"start\" x=\"73.5\" y=\"-159.6\" font-family=\"Helvetica,sans-Serif\" font-size=\"3.00\" fill=\"#444443\"> </text>\n",
       "</g>\n",
       "<!-- node140549368811472&#45;&gt;node140549427811232 -->\n",
       "<g id=\"edge3\" class=\"edge\">\n",
       "<title>node140549368811472:c&#45;&gt;node140549427811232</title>\n",
       "<path fill=\"none\" stroke=\"#444443\" stroke-width=\"0.5\" d=\"M89.94,-238.18C87.54,-233.85 82.71,-225.12 77.64,-215.96\"/>\n",
       "<ellipse fill=\"#444443\" stroke=\"#444443\" stroke-width=\"0.5\" cx=\"90.73\" cy=\"-239.6\" rx=\"1.6\" ry=\"1.6\"/>\n",
       "<polygon fill=\"#444443\" stroke=\"#444443\" stroke-width=\"0.5\" points=\"78.62,-214.84 75.46,-212.02 76.17,-216.19 78.62,-214.84\"/>\n",
       "</g>\n",
       "<!-- node140549429854992 -->\n",
       "<g id=\"node7\" class=\"node\">\n",
       "<title>node140549429854992</title>\n",
       "<polygon fill=\"#fefecd\" stroke=\"#444443\" stroke-width=\"0.5\" points=\"141,-212 92,-212 92,-156 141,-156 141,-212\"/>\n",
       "<polygon fill=\"#fefecd\" stroke=\"transparent\" points=\"94.5,-196 94.5,-210 139.5,-210 139.5,-196 94.5,-196\"/>\n",
       "<polyline fill=\"none\" stroke=\"#444443\" points=\"94.5,-196 139.5,-196 \"/>\n",
       "<text text-anchor=\"start\" x=\"95.5\" y=\"-200.2\" font-family=\"Times,serif\" font-style=\"italic\" font-size=\"11.00\" fill=\"#444443\">TreeNode</text>\n",
       "<polygon fill=\"#fefecd\" stroke=\"transparent\" points=\"94.5,-194 94.5,-196 139.5,-196 139.5,-194 94.5,-194\"/>\n",
       "<polygon fill=\"#fefecd\" stroke=\"transparent\" points=\"94.5,-180 94.5,-194 118.5,-194 118.5,-180 94.5,-180\"/>\n",
       "<polyline fill=\"none\" stroke=\"#444443\" points=\"118.5,-180 118.5,-194 \"/>\n",
       "<text text-anchor=\"start\" x=\"99.5\" y=\"-184.2\" font-family=\"Helvetica,sans-Serif\" font-size=\"11.00\" fill=\"#444443\">val </text>\n",
       "<polygon fill=\"#fefecd\" stroke=\"transparent\" points=\"120.5,-180 120.5,-194 139.5,-194 139.5,-180 120.5,-180\"/>\n",
       "<text text-anchor=\"start\" x=\"121.5\" y=\"-184.2\" font-family=\"Helvetica,sans-Serif\" font-size=\"11.00\" fill=\"#444443\"> &#39;4&#39;</text>\n",
       "<polyline fill=\"none\" stroke=\"#444443\" points=\"94.5,-177 139.5,-177 \"/>\n",
       "<polygon fill=\"#fefecd\" stroke=\"transparent\" points=\"94.5,-175 94.5,-177 139.5,-177 139.5,-175 94.5,-175\"/>\n",
       "<polygon fill=\"#fefecd\" stroke=\"transparent\" points=\"94.5,-166 94.5,-175 118.5,-175 118.5,-166 94.5,-166\"/>\n",
       "<polyline fill=\"none\" stroke=\"#444443\" points=\"118.5,-166 118.5,-175 \"/>\n",
       "<text text-anchor=\"start\" x=\"95.5\" y=\"-169.2\" font-family=\"Helvetica,sans-Serif\" font-size=\"6.00\" fill=\"#444443\">left</text>\n",
       "<polygon fill=\"#fefecd\" stroke=\"transparent\" points=\"118.5,-166 118.5,-175 120.5,-175 120.5,-166 118.5,-166\"/>\n",
       "<polygon fill=\"#fefecd\" stroke=\"transparent\" points=\"120.5,-166 120.5,-175 139.5,-175 139.5,-166 120.5,-166\"/>\n",
       "<text text-anchor=\"start\" x=\"126.5\" y=\"-169.2\" font-family=\"Helvetica,sans-Serif\" font-size=\"6.00\" fill=\"#444443\">right</text>\n",
       "<polygon fill=\"#fefecd\" stroke=\"transparent\" points=\"94.5,-163 94.5,-166 118.5,-166 118.5,-163 94.5,-163\"/>\n",
       "<polyline fill=\"none\" stroke=\"#444443\" points=\"118.5,-163 118.5,-166 \"/>\n",
       "<text text-anchor=\"start\" x=\"106\" y=\"-164.2\" font-family=\"Helvetica,sans-Serif\" font-size=\"1.00\" fill=\"#444443\"> </text>\n",
       "<polygon fill=\"#fefecd\" stroke=\"transparent\" points=\"118.5,-163 118.5,-166 120.5,-166 120.5,-163 118.5,-163\"/>\n",
       "<polygon fill=\"#fefecd\" stroke=\"transparent\" points=\"120.5,-163 120.5,-166 139.5,-166 139.5,-163 120.5,-163\"/>\n",
       "<text text-anchor=\"start\" x=\"129.5\" y=\"-164.2\" font-family=\"Helvetica,sans-Serif\" font-size=\"1.00\" fill=\"#444443\"> </text>\n",
       "<polygon fill=\"#fefecd\" stroke=\"transparent\" points=\"94.5,-158 94.5,-163 118.5,-163 118.5,-158 94.5,-158\"/>\n",
       "<polyline fill=\"none\" stroke=\"#444443\" points=\"118.5,-158 118.5,-163 \"/>\n",
       "<text text-anchor=\"start\" x=\"106\" y=\"-159.6\" font-family=\"Helvetica,sans-Serif\" font-size=\"3.00\" fill=\"#444443\"> </text>\n",
       "<polygon fill=\"#fefecd\" stroke=\"transparent\" points=\"118.5,-158 118.5,-163 120.5,-163 120.5,-158 118.5,-158\"/>\n",
       "<polygon fill=\"#fefecd\" stroke=\"transparent\" points=\"120.5,-158 120.5,-163 139.5,-163 139.5,-158 120.5,-158\"/>\n",
       "<text text-anchor=\"start\" x=\"129.5\" y=\"-159.6\" font-family=\"Helvetica,sans-Serif\" font-size=\"3.00\" fill=\"#444443\"> </text>\n",
       "</g>\n",
       "<!-- node140549368811472&#45;&gt;node140549429854992 -->\n",
       "<g id=\"edge4\" class=\"edge\">\n",
       "<title>node140549368811472:c&#45;&gt;node140549429854992</title>\n",
       "<path fill=\"none\" stroke=\"#444443\" stroke-width=\"0.5\" d=\"M114.62,-237.52C114.78,-233.05 115.08,-224.86 115.38,-216.26\"/>\n",
       "<ellipse fill=\"#444443\" stroke=\"#444443\" stroke-width=\"0.5\" cx=\"114.56\" cy=\"-239.4\" rx=\"1.6\" ry=\"1.6\"/>\n",
       "<polygon fill=\"#444443\" stroke=\"#444443\" stroke-width=\"0.5\" points=\"116.79,-216.06 115.54,-212.02 113.99,-215.96 116.79,-216.06\"/>\n",
       "</g>\n",
       "<!-- node140549427813152 -->\n",
       "<g id=\"node4\" class=\"node\">\n",
       "<title>node140549427813152</title>\n",
       "<polygon fill=\"#fefecd\" stroke=\"#444443\" stroke-width=\"0.5\" points=\"75,-134 26,-134 26,-78 75,-78 75,-134\"/>\n",
       "<polygon fill=\"#fefecd\" stroke=\"transparent\" points=\"28.5,-118 28.5,-132 73.5,-132 73.5,-118 28.5,-118\"/>\n",
       "<polyline fill=\"none\" stroke=\"#444443\" points=\"28.5,-118 73.5,-118 \"/>\n",
       "<text text-anchor=\"start\" x=\"29.5\" y=\"-122.2\" font-family=\"Times,serif\" font-style=\"italic\" font-size=\"11.00\" fill=\"#444443\">TreeNode</text>\n",
       "<polygon fill=\"#fefecd\" stroke=\"transparent\" points=\"28.5,-116 28.5,-118 73.5,-118 73.5,-116 28.5,-116\"/>\n",
       "<polygon fill=\"#fefecd\" stroke=\"transparent\" points=\"28.5,-102 28.5,-116 52.5,-116 52.5,-102 28.5,-102\"/>\n",
       "<polyline fill=\"none\" stroke=\"#444443\" points=\"52.5,-102 52.5,-116 \"/>\n",
       "<text text-anchor=\"start\" x=\"33.5\" y=\"-106.2\" font-family=\"Helvetica,sans-Serif\" font-size=\"11.00\" fill=\"#444443\">val </text>\n",
       "<polygon fill=\"#fefecd\" stroke=\"transparent\" points=\"54.5,-102 54.5,-116 73.5,-116 73.5,-102 54.5,-102\"/>\n",
       "<text text-anchor=\"start\" x=\"55.5\" y=\"-106.2\" font-family=\"Helvetica,sans-Serif\" font-size=\"11.00\" fill=\"#444443\"> &#39;1&#39;</text>\n",
       "<polyline fill=\"none\" stroke=\"#444443\" points=\"28.5,-99 73.5,-99 \"/>\n",
       "<polygon fill=\"#fefecd\" stroke=\"transparent\" points=\"28.5,-97 28.5,-99 73.5,-99 73.5,-97 28.5,-97\"/>\n",
       "<polygon fill=\"#fefecd\" stroke=\"transparent\" points=\"28.5,-88 28.5,-97 52.5,-97 52.5,-88 28.5,-88\"/>\n",
       "<polyline fill=\"none\" stroke=\"#444443\" points=\"52.5,-88 52.5,-97 \"/>\n",
       "<text text-anchor=\"start\" x=\"29.5\" y=\"-91.2\" font-family=\"Helvetica,sans-Serif\" font-size=\"6.00\" fill=\"#444443\">left</text>\n",
       "<polygon fill=\"#fefecd\" stroke=\"transparent\" points=\"52.5,-88 52.5,-97 54.5,-97 54.5,-88 52.5,-88\"/>\n",
       "<polygon fill=\"#fefecd\" stroke=\"transparent\" points=\"54.5,-88 54.5,-97 73.5,-97 73.5,-88 54.5,-88\"/>\n",
       "<text text-anchor=\"start\" x=\"60.5\" y=\"-91.2\" font-family=\"Helvetica,sans-Serif\" font-size=\"6.00\" fill=\"#444443\">right</text>\n",
       "<polygon fill=\"#fefecd\" stroke=\"transparent\" points=\"28.5,-85 28.5,-88 52.5,-88 52.5,-85 28.5,-85\"/>\n",
       "<polyline fill=\"none\" stroke=\"#444443\" points=\"52.5,-85 52.5,-88 \"/>\n",
       "<text text-anchor=\"start\" x=\"40\" y=\"-86.2\" font-family=\"Helvetica,sans-Serif\" font-size=\"1.00\" fill=\"#444443\"> </text>\n",
       "<polygon fill=\"#fefecd\" stroke=\"transparent\" points=\"52.5,-85 52.5,-88 54.5,-88 54.5,-85 52.5,-85\"/>\n",
       "<polygon fill=\"#fefecd\" stroke=\"transparent\" points=\"54.5,-85 54.5,-88 73.5,-88 73.5,-85 54.5,-85\"/>\n",
       "<text text-anchor=\"start\" x=\"63.5\" y=\"-86.2\" font-family=\"Helvetica,sans-Serif\" font-size=\"1.00\" fill=\"#444443\"> </text>\n",
       "<polygon fill=\"#fefecd\" stroke=\"transparent\" points=\"28.5,-80 28.5,-85 52.5,-85 52.5,-80 28.5,-80\"/>\n",
       "<polyline fill=\"none\" stroke=\"#444443\" points=\"52.5,-80 52.5,-85 \"/>\n",
       "<text text-anchor=\"start\" x=\"40\" y=\"-81.6\" font-family=\"Helvetica,sans-Serif\" font-size=\"3.00\" fill=\"#444443\"> </text>\n",
       "<polygon fill=\"#fefecd\" stroke=\"transparent\" points=\"52.5,-80 52.5,-85 54.5,-85 54.5,-80 52.5,-80\"/>\n",
       "<polygon fill=\"#fefecd\" stroke=\"transparent\" points=\"54.5,-80 54.5,-85 73.5,-85 73.5,-80 54.5,-80\"/>\n",
       "<text text-anchor=\"start\" x=\"63.5\" y=\"-81.6\" font-family=\"Helvetica,sans-Serif\" font-size=\"3.00\" fill=\"#444443\"> </text>\n",
       "</g>\n",
       "<!-- node140549427811232&#45;&gt;node140549427813152 -->\n",
       "<g id=\"edge5\" class=\"edge\">\n",
       "<title>node140549427811232:c&#45;&gt;node140549427813152</title>\n",
       "<path fill=\"none\" stroke=\"#444443\" stroke-width=\"0.5\" d=\"M50.5,-159.52C50.5,-155.05 50.5,-146.86 50.5,-138.26\"/>\n",
       "<ellipse fill=\"#444443\" stroke=\"#444443\" stroke-width=\"0.5\" cx=\"50.5\" cy=\"-161.4\" rx=\"1.6\" ry=\"1.6\"/>\n",
       "<polygon fill=\"#444443\" stroke=\"#444443\" stroke-width=\"0.5\" points=\"51.9,-138.02 50.5,-134.02 49.1,-138.02 51.9,-138.02\"/>\n",
       "</g>\n",
       "<!-- node140549429854944 -->\n",
       "<g id=\"node5\" class=\"node\">\n",
       "<title>node140549429854944</title>\n",
       "<polygon fill=\"#fefecd\" stroke=\"#444443\" stroke-width=\"0.5\" points=\"49,-56 0,-56 0,0 49,0 49,-56\"/>\n",
       "<polygon fill=\"#fefecd\" stroke=\"transparent\" points=\"2.5,-40 2.5,-54 47.5,-54 47.5,-40 2.5,-40\"/>\n",
       "<polyline fill=\"none\" stroke=\"#444443\" points=\"2.5,-40 47.5,-40 \"/>\n",
       "<text text-anchor=\"start\" x=\"3.5\" y=\"-44.2\" font-family=\"Times,serif\" font-style=\"italic\" font-size=\"11.00\" fill=\"#444443\">TreeNode</text>\n",
       "<polygon fill=\"#fefecd\" stroke=\"transparent\" points=\"2.5,-38 2.5,-40 47.5,-40 47.5,-38 2.5,-38\"/>\n",
       "<polygon fill=\"#fefecd\" stroke=\"transparent\" points=\"2.5,-24 2.5,-38 24.5,-38 24.5,-24 2.5,-24\"/>\n",
       "<polyline fill=\"none\" stroke=\"#444443\" points=\"24.5,-24 24.5,-38 \"/>\n",
       "<text text-anchor=\"start\" x=\"5.5\" y=\"-28.2\" font-family=\"Helvetica,sans-Serif\" font-size=\"11.00\" fill=\"#444443\">val </text>\n",
       "<polygon fill=\"#fefecd\" stroke=\"transparent\" points=\"25.5,-24 25.5,-38 47.5,-38 47.5,-24 25.5,-24\"/>\n",
       "<text text-anchor=\"start\" x=\"26.5\" y=\"-28.2\" font-family=\"Helvetica,sans-Serif\" font-size=\"11.00\" fill=\"#444443\"> &#39;&#45;1&#39;</text>\n",
       "<polyline fill=\"none\" stroke=\"#444443\" points=\"2.5,-21 47.5,-21 \"/>\n",
       "<polygon fill=\"#fefecd\" stroke=\"transparent\" points=\"2.5,-19 2.5,-21 47.5,-21 47.5,-19 2.5,-19\"/>\n",
       "<polygon fill=\"#fefecd\" stroke=\"transparent\" points=\"2.5,-10 2.5,-19 24.5,-19 24.5,-10 2.5,-10\"/>\n",
       "<polyline fill=\"none\" stroke=\"#444443\" points=\"24.5,-10 24.5,-19 \"/>\n",
       "<text text-anchor=\"start\" x=\"3.5\" y=\"-13.2\" font-family=\"Helvetica,sans-Serif\" font-size=\"6.00\" fill=\"#444443\">left</text>\n",
       "<polygon fill=\"#fefecd\" stroke=\"transparent\" points=\"24.5,-10 24.5,-19 25.5,-19 25.5,-10 24.5,-10\"/>\n",
       "<polygon fill=\"#fefecd\" stroke=\"transparent\" points=\"25.5,-10 25.5,-19 47.5,-19 47.5,-10 25.5,-10\"/>\n",
       "<text text-anchor=\"start\" x=\"34.5\" y=\"-13.2\" font-family=\"Helvetica,sans-Serif\" font-size=\"6.00\" fill=\"#444443\">right</text>\n",
       "<polygon fill=\"#fefecd\" stroke=\"transparent\" points=\"2.5,-7 2.5,-10 24.5,-10 24.5,-7 2.5,-7\"/>\n",
       "<polyline fill=\"none\" stroke=\"#444443\" points=\"24.5,-7 24.5,-10 \"/>\n",
       "<text text-anchor=\"start\" x=\"13\" y=\"-8.2\" font-family=\"Helvetica,sans-Serif\" font-size=\"1.00\" fill=\"#444443\"> </text>\n",
       "<polygon fill=\"#fefecd\" stroke=\"transparent\" points=\"24.5,-7 24.5,-10 25.5,-10 25.5,-7 24.5,-7\"/>\n",
       "<polygon fill=\"#fefecd\" stroke=\"transparent\" points=\"25.5,-7 25.5,-10 47.5,-10 47.5,-7 25.5,-7\"/>\n",
       "<text text-anchor=\"start\" x=\"36\" y=\"-8.2\" font-family=\"Helvetica,sans-Serif\" font-size=\"1.00\" fill=\"#444443\"> </text>\n",
       "<polygon fill=\"#fefecd\" stroke=\"transparent\" points=\"2.5,-2 2.5,-7 24.5,-7 24.5,-2 2.5,-2\"/>\n",
       "<polyline fill=\"none\" stroke=\"#444443\" points=\"24.5,-2 24.5,-7 \"/>\n",
       "<text text-anchor=\"start\" x=\"13\" y=\"-3.6\" font-family=\"Helvetica,sans-Serif\" font-size=\"3.00\" fill=\"#444443\"> </text>\n",
       "<polygon fill=\"#fefecd\" stroke=\"transparent\" points=\"24.5,-2 24.5,-7 25.5,-7 25.5,-2 24.5,-2\"/>\n",
       "<polygon fill=\"#fefecd\" stroke=\"transparent\" points=\"25.5,-2 25.5,-7 47.5,-7 47.5,-2 25.5,-2\"/>\n",
       "<text text-anchor=\"start\" x=\"36\" y=\"-3.6\" font-family=\"Helvetica,sans-Serif\" font-size=\"3.00\" fill=\"#444443\"> </text>\n",
       "</g>\n",
       "<!-- node140549427813152&#45;&gt;node140549429854944 -->\n",
       "<g id=\"edge6\" class=\"edge\">\n",
       "<title>node140549427813152:c&#45;&gt;node140549429854944</title>\n",
       "<path fill=\"none\" stroke=\"#444443\" stroke-width=\"0.5\" d=\"M39.6,-81.85C38.33,-77.41 35.88,-68.84 33.32,-59.87\"/>\n",
       "<ellipse fill=\"#444443\" stroke=\"#444443\" stroke-width=\"0.5\" cx=\"40.06\" cy=\"-83.46\" rx=\"1.6\" ry=\"1.6\"/>\n",
       "<polygon fill=\"#444443\" stroke=\"#444443\" stroke-width=\"0.5\" points=\"34.66,-59.48 32.22,-56.02 31.97,-60.25 34.66,-59.48\"/>\n",
       "</g>\n",
       "<!-- node140549429857440 -->\n",
       "<g id=\"node6\" class=\"node\">\n",
       "<title>node140549429857440</title>\n",
       "<polygon fill=\"#fefecd\" stroke=\"#444443\" stroke-width=\"0.5\" points=\"105,-56 56,-56 56,0 105,0 105,-56\"/>\n",
       "<polygon fill=\"#fefecd\" stroke=\"transparent\" points=\"58.5,-40 58.5,-54 103.5,-54 103.5,-40 58.5,-40\"/>\n",
       "<polyline fill=\"none\" stroke=\"#444443\" points=\"58.5,-40 103.5,-40 \"/>\n",
       "<text text-anchor=\"start\" x=\"59.5\" y=\"-44.2\" font-family=\"Times,serif\" font-style=\"italic\" font-size=\"11.00\" fill=\"#444443\">TreeNode</text>\n",
       "<polygon fill=\"#fefecd\" stroke=\"transparent\" points=\"58.5,-38 58.5,-40 103.5,-40 103.5,-38 58.5,-38\"/>\n",
       "<polygon fill=\"#fefecd\" stroke=\"transparent\" points=\"58.5,-24 58.5,-38 78.5,-38 78.5,-24 58.5,-24\"/>\n",
       "<polyline fill=\"none\" stroke=\"#444443\" points=\"78.5,-24 78.5,-38 \"/>\n",
       "<text text-anchor=\"start\" x=\"59.5\" y=\"-28.2\" font-family=\"Helvetica,sans-Serif\" font-size=\"11.00\" fill=\"#444443\">val </text>\n",
       "<polygon fill=\"#fefecd\" stroke=\"transparent\" points=\"78.5,-24 78.5,-38 103.5,-38 103.5,-24 78.5,-24\"/>\n",
       "<text text-anchor=\"start\" x=\"79.5\" y=\"-28.2\" font-family=\"Helvetica,sans-Serif\" font-size=\"11.00\" fill=\"#444443\"> &#39;1.5&#39;</text>\n",
       "<polyline fill=\"none\" stroke=\"#444443\" points=\"58.5,-21 103.5,-21 \"/>\n",
       "<polygon fill=\"#fefecd\" stroke=\"transparent\" points=\"58.5,-19 58.5,-21 103.5,-21 103.5,-19 58.5,-19\"/>\n",
       "<polygon fill=\"#fefecd\" stroke=\"transparent\" points=\"58.5,-10 58.5,-19 78.5,-19 78.5,-10 58.5,-10\"/>\n",
       "<polyline fill=\"none\" stroke=\"#444443\" points=\"78.5,-10 78.5,-19 \"/>\n",
       "<text text-anchor=\"start\" x=\"59.5\" y=\"-13.2\" font-family=\"Helvetica,sans-Serif\" font-size=\"6.00\" fill=\"#444443\">left</text>\n",
       "<polygon fill=\"#fefecd\" stroke=\"transparent\" points=\"78.5,-10 78.5,-19 78.5,-19 78.5,-10 78.5,-10\"/>\n",
       "<polygon fill=\"#fefecd\" stroke=\"transparent\" points=\"78.5,-10 78.5,-19 103.5,-19 103.5,-10 78.5,-10\"/>\n",
       "<text text-anchor=\"start\" x=\"90.5\" y=\"-13.2\" font-family=\"Helvetica,sans-Serif\" font-size=\"6.00\" fill=\"#444443\">right</text>\n",
       "<polygon fill=\"#fefecd\" stroke=\"transparent\" points=\"58.5,-7 58.5,-10 78.5,-10 78.5,-7 58.5,-7\"/>\n",
       "<polyline fill=\"none\" stroke=\"#444443\" points=\"78.5,-7 78.5,-10 \"/>\n",
       "<text text-anchor=\"start\" x=\"68\" y=\"-8.2\" font-family=\"Helvetica,sans-Serif\" font-size=\"1.00\" fill=\"#444443\"> </text>\n",
       "<polygon fill=\"#fefecd\" stroke=\"transparent\" points=\"78.5,-7 78.5,-10 78.5,-10 78.5,-7 78.5,-7\"/>\n",
       "<polygon fill=\"#fefecd\" stroke=\"transparent\" points=\"78.5,-7 78.5,-10 103.5,-10 103.5,-7 78.5,-7\"/>\n",
       "<text text-anchor=\"start\" x=\"90.5\" y=\"-8.2\" font-family=\"Helvetica,sans-Serif\" font-size=\"1.00\" fill=\"#444443\"> </text>\n",
       "<polygon fill=\"#fefecd\" stroke=\"transparent\" points=\"58.5,-2 58.5,-7 78.5,-7 78.5,-2 58.5,-2\"/>\n",
       "<polyline fill=\"none\" stroke=\"#444443\" points=\"78.5,-2 78.5,-7 \"/>\n",
       "<text text-anchor=\"start\" x=\"68\" y=\"-3.6\" font-family=\"Helvetica,sans-Serif\" font-size=\"3.00\" fill=\"#444443\"> </text>\n",
       "<polygon fill=\"#fefecd\" stroke=\"transparent\" points=\"78.5,-2 78.5,-7 78.5,-7 78.5,-2 78.5,-2\"/>\n",
       "<polygon fill=\"#fefecd\" stroke=\"transparent\" points=\"78.5,-2 78.5,-7 103.5,-7 103.5,-2 78.5,-2\"/>\n",
       "<text text-anchor=\"start\" x=\"90.5\" y=\"-3.6\" font-family=\"Helvetica,sans-Serif\" font-size=\"3.00\" fill=\"#444443\"> </text>\n",
       "</g>\n",
       "<!-- node140549427813152&#45;&gt;node140549429857440 -->\n",
       "<g id=\"edge7\" class=\"edge\">\n",
       "<title>node140549427813152:c&#45;&gt;node140549429857440</title>\n",
       "<path fill=\"none\" stroke=\"#444443\" stroke-width=\"0.5\" d=\"M65.4,-81.85C66.67,-77.41 69.12,-68.84 71.68,-59.87\"/>\n",
       "<ellipse fill=\"#444443\" stroke=\"#444443\" stroke-width=\"0.5\" cx=\"64.94\" cy=\"-83.46\" rx=\"1.6\" ry=\"1.6\"/>\n",
       "<polygon fill=\"#444443\" stroke=\"#444443\" stroke-width=\"0.5\" points=\"73.03,-60.25 72.78,-56.02 70.34,-59.48 73.03,-60.25\"/>\n",
       "</g>\n",
       "<!-- node140549429858208 -->\n",
       "<g id=\"node8\" class=\"node\">\n",
       "<title>node140549429858208</title>\n",
       "<polygon fill=\"#fefecd\" stroke=\"#444443\" stroke-width=\"0.5\" points=\"131,-134 82,-134 82,-78 131,-78 131,-134\"/>\n",
       "<polygon fill=\"#fefecd\" stroke=\"transparent\" points=\"84.5,-118 84.5,-132 129.5,-132 129.5,-118 84.5,-118\"/>\n",
       "<polyline fill=\"none\" stroke=\"#444443\" points=\"84.5,-118 129.5,-118 \"/>\n",
       "<text text-anchor=\"start\" x=\"85.5\" y=\"-122.2\" font-family=\"Times,serif\" font-style=\"italic\" font-size=\"11.00\" fill=\"#444443\">TreeNode</text>\n",
       "<polygon fill=\"#fefecd\" stroke=\"transparent\" points=\"84.5,-116 84.5,-118 129.5,-118 129.5,-116 84.5,-116\"/>\n",
       "<polygon fill=\"#fefecd\" stroke=\"transparent\" points=\"84.5,-102 84.5,-116 104.5,-116 104.5,-102 84.5,-102\"/>\n",
       "<polyline fill=\"none\" stroke=\"#444443\" points=\"104.5,-102 104.5,-116 \"/>\n",
       "<text text-anchor=\"start\" x=\"85.5\" y=\"-106.2\" font-family=\"Helvetica,sans-Serif\" font-size=\"11.00\" fill=\"#444443\">val </text>\n",
       "<polygon fill=\"#fefecd\" stroke=\"transparent\" points=\"104.5,-102 104.5,-116 129.5,-116 129.5,-102 104.5,-102\"/>\n",
       "<text text-anchor=\"start\" x=\"105.5\" y=\"-106.2\" font-family=\"Helvetica,sans-Serif\" font-size=\"11.00\" fill=\"#444443\"> &#39;3.5&#39;</text>\n",
       "<polyline fill=\"none\" stroke=\"#444443\" points=\"84.5,-99 129.5,-99 \"/>\n",
       "<polygon fill=\"#fefecd\" stroke=\"transparent\" points=\"84.5,-97 84.5,-99 129.5,-99 129.5,-97 84.5,-97\"/>\n",
       "<polygon fill=\"#fefecd\" stroke=\"transparent\" points=\"84.5,-88 84.5,-97 104.5,-97 104.5,-88 84.5,-88\"/>\n",
       "<polyline fill=\"none\" stroke=\"#444443\" points=\"104.5,-88 104.5,-97 \"/>\n",
       "<text text-anchor=\"start\" x=\"85.5\" y=\"-91.2\" font-family=\"Helvetica,sans-Serif\" font-size=\"6.00\" fill=\"#444443\">left</text>\n",
       "<polygon fill=\"#fefecd\" stroke=\"transparent\" points=\"104.5,-88 104.5,-97 104.5,-97 104.5,-88 104.5,-88\"/>\n",
       "<polygon fill=\"#fefecd\" stroke=\"transparent\" points=\"104.5,-88 104.5,-97 129.5,-97 129.5,-88 104.5,-88\"/>\n",
       "<text text-anchor=\"start\" x=\"116.5\" y=\"-91.2\" font-family=\"Helvetica,sans-Serif\" font-size=\"6.00\" fill=\"#444443\">right</text>\n",
       "<polygon fill=\"#fefecd\" stroke=\"transparent\" points=\"84.5,-85 84.5,-88 104.5,-88 104.5,-85 84.5,-85\"/>\n",
       "<polyline fill=\"none\" stroke=\"#444443\" points=\"104.5,-85 104.5,-88 \"/>\n",
       "<text text-anchor=\"start\" x=\"94\" y=\"-86.2\" font-family=\"Helvetica,sans-Serif\" font-size=\"1.00\" fill=\"#444443\"> </text>\n",
       "<polygon fill=\"#fefecd\" stroke=\"transparent\" points=\"104.5,-85 104.5,-88 104.5,-88 104.5,-85 104.5,-85\"/>\n",
       "<polygon fill=\"#fefecd\" stroke=\"transparent\" points=\"104.5,-85 104.5,-88 129.5,-88 129.5,-85 104.5,-85\"/>\n",
       "<text text-anchor=\"start\" x=\"116.5\" y=\"-86.2\" font-family=\"Helvetica,sans-Serif\" font-size=\"1.00\" fill=\"#444443\"> </text>\n",
       "<polygon fill=\"#fefecd\" stroke=\"transparent\" points=\"84.5,-80 84.5,-85 104.5,-85 104.5,-80 84.5,-80\"/>\n",
       "<polyline fill=\"none\" stroke=\"#444443\" points=\"104.5,-80 104.5,-85 \"/>\n",
       "<text text-anchor=\"start\" x=\"94\" y=\"-81.6\" font-family=\"Helvetica,sans-Serif\" font-size=\"3.00\" fill=\"#444443\"> </text>\n",
       "<polygon fill=\"#fefecd\" stroke=\"transparent\" points=\"104.5,-80 104.5,-85 104.5,-85 104.5,-80 104.5,-80\"/>\n",
       "<polygon fill=\"#fefecd\" stroke=\"transparent\" points=\"104.5,-80 104.5,-85 129.5,-85 129.5,-80 104.5,-80\"/>\n",
       "<text text-anchor=\"start\" x=\"116.5\" y=\"-81.6\" font-family=\"Helvetica,sans-Serif\" font-size=\"3.00\" fill=\"#444443\"> </text>\n",
       "</g>\n",
       "<!-- node140549429854992&#45;&gt;node140549429858208 -->\n",
       "<g id=\"edge8\" class=\"edge\">\n",
       "<title>node140549429854992:c&#45;&gt;node140549429858208</title>\n",
       "<path fill=\"none\" stroke=\"#444443\" stroke-width=\"0.5\" d=\"M106.5,-159.52C106.5,-155.05 106.5,-146.86 106.5,-138.26\"/>\n",
       "<ellipse fill=\"#444443\" stroke=\"#444443\" stroke-width=\"0.5\" cx=\"106.5\" cy=\"-161.4\" rx=\"1.6\" ry=\"1.6\"/>\n",
       "<polygon fill=\"#444443\" stroke=\"#444443\" stroke-width=\"0.5\" points=\"107.9,-138.02 106.5,-134.02 105.1,-138.02 107.9,-138.02\"/>\n",
       "</g>\n",
       "<!-- node140549429858256 -->\n",
       "<g id=\"node9\" class=\"node\">\n",
       "<title>node140549429858256</title>\n",
       "<polygon fill=\"#fefecd\" stroke=\"#444443\" stroke-width=\"0.5\" points=\"187,-134 138,-134 138,-78 187,-78 187,-134\"/>\n",
       "<polygon fill=\"#fefecd\" stroke=\"transparent\" points=\"140.5,-118 140.5,-132 185.5,-132 185.5,-118 140.5,-118\"/>\n",
       "<polyline fill=\"none\" stroke=\"#444443\" points=\"140.5,-118 185.5,-118 \"/>\n",
       "<text text-anchor=\"start\" x=\"141.5\" y=\"-122.2\" font-family=\"Times,serif\" font-style=\"italic\" font-size=\"11.00\" fill=\"#444443\">TreeNode</text>\n",
       "<polygon fill=\"#fefecd\" stroke=\"transparent\" points=\"140.5,-116 140.5,-118 185.5,-118 185.5,-116 140.5,-116\"/>\n",
       "<polygon fill=\"#fefecd\" stroke=\"transparent\" points=\"140.5,-102 140.5,-116 160.5,-116 160.5,-102 140.5,-102\"/>\n",
       "<polyline fill=\"none\" stroke=\"#444443\" points=\"160.5,-102 160.5,-116 \"/>\n",
       "<text text-anchor=\"start\" x=\"141.5\" y=\"-106.2\" font-family=\"Helvetica,sans-Serif\" font-size=\"11.00\" fill=\"#444443\">val </text>\n",
       "<polygon fill=\"#fefecd\" stroke=\"transparent\" points=\"160.5,-102 160.5,-116 185.5,-116 185.5,-102 160.5,-102\"/>\n",
       "<text text-anchor=\"start\" x=\"161.5\" y=\"-106.2\" font-family=\"Helvetica,sans-Serif\" font-size=\"11.00\" fill=\"#444443\"> &#39;4.5&#39;</text>\n",
       "<polyline fill=\"none\" stroke=\"#444443\" points=\"140.5,-99 185.5,-99 \"/>\n",
       "<polygon fill=\"#fefecd\" stroke=\"transparent\" points=\"140.5,-97 140.5,-99 185.5,-99 185.5,-97 140.5,-97\"/>\n",
       "<polygon fill=\"#fefecd\" stroke=\"transparent\" points=\"140.5,-88 140.5,-97 160.5,-97 160.5,-88 140.5,-88\"/>\n",
       "<polyline fill=\"none\" stroke=\"#444443\" points=\"160.5,-88 160.5,-97 \"/>\n",
       "<text text-anchor=\"start\" x=\"141.5\" y=\"-91.2\" font-family=\"Helvetica,sans-Serif\" font-size=\"6.00\" fill=\"#444443\">left</text>\n",
       "<polygon fill=\"#fefecd\" stroke=\"transparent\" points=\"160.5,-88 160.5,-97 160.5,-97 160.5,-88 160.5,-88\"/>\n",
       "<polygon fill=\"#fefecd\" stroke=\"transparent\" points=\"160.5,-88 160.5,-97 185.5,-97 185.5,-88 160.5,-88\"/>\n",
       "<text text-anchor=\"start\" x=\"172.5\" y=\"-91.2\" font-family=\"Helvetica,sans-Serif\" font-size=\"6.00\" fill=\"#444443\">right</text>\n",
       "<polygon fill=\"#fefecd\" stroke=\"transparent\" points=\"140.5,-85 140.5,-88 160.5,-88 160.5,-85 140.5,-85\"/>\n",
       "<polyline fill=\"none\" stroke=\"#444443\" points=\"160.5,-85 160.5,-88 \"/>\n",
       "<text text-anchor=\"start\" x=\"150\" y=\"-86.2\" font-family=\"Helvetica,sans-Serif\" font-size=\"1.00\" fill=\"#444443\"> </text>\n",
       "<polygon fill=\"#fefecd\" stroke=\"transparent\" points=\"160.5,-85 160.5,-88 160.5,-88 160.5,-85 160.5,-85\"/>\n",
       "<polygon fill=\"#fefecd\" stroke=\"transparent\" points=\"160.5,-85 160.5,-88 185.5,-88 185.5,-85 160.5,-85\"/>\n",
       "<text text-anchor=\"start\" x=\"172.5\" y=\"-86.2\" font-family=\"Helvetica,sans-Serif\" font-size=\"1.00\" fill=\"#444443\"> </text>\n",
       "<polygon fill=\"#fefecd\" stroke=\"transparent\" points=\"140.5,-80 140.5,-85 160.5,-85 160.5,-80 140.5,-80\"/>\n",
       "<polyline fill=\"none\" stroke=\"#444443\" points=\"160.5,-80 160.5,-85 \"/>\n",
       "<text text-anchor=\"start\" x=\"150\" y=\"-81.6\" font-family=\"Helvetica,sans-Serif\" font-size=\"3.00\" fill=\"#444443\"> </text>\n",
       "<polygon fill=\"#fefecd\" stroke=\"transparent\" points=\"160.5,-80 160.5,-85 160.5,-85 160.5,-80 160.5,-80\"/>\n",
       "<polygon fill=\"#fefecd\" stroke=\"transparent\" points=\"160.5,-80 160.5,-85 185.5,-85 185.5,-80 160.5,-80\"/>\n",
       "<text text-anchor=\"start\" x=\"172.5\" y=\"-81.6\" font-family=\"Helvetica,sans-Serif\" font-size=\"3.00\" fill=\"#444443\"> </text>\n",
       "</g>\n",
       "<!-- node140549429854992&#45;&gt;node140549429858256 -->\n",
       "<g id=\"edge9\" class=\"edge\">\n",
       "<title>node140549429854992:c&#45;&gt;node140549429858256</title>\n",
       "<path fill=\"none\" stroke=\"#444443\" stroke-width=\"0.5\" d=\"M132.11,-160.18C134.58,-155.85 139.58,-147.12 144.81,-137.96\"/>\n",
       "<ellipse fill=\"#444443\" stroke=\"#444443\" stroke-width=\"0.5\" cx=\"131.29\" cy=\"-161.61\" rx=\"1.6\" ry=\"1.6\"/>\n",
       "<polygon fill=\"#444443\" stroke=\"#444443\" stroke-width=\"0.5\" points=\"146.29,-138.18 147.06,-134.02 143.86,-136.79 146.29,-138.18\"/>\n",
       "</g>\n",
       "<!-- node140549429857680 -->\n",
       "<g id=\"node11\" class=\"node\">\n",
       "<title>node140549429857680</title>\n",
       "<polygon fill=\"#fefecd\" stroke=\"#444443\" stroke-width=\"0.5\" points=\"198,-212 149,-212 149,-156 198,-156 198,-212\"/>\n",
       "<polygon fill=\"#fefecd\" stroke=\"transparent\" points=\"151.5,-196 151.5,-210 196.5,-210 196.5,-196 151.5,-196\"/>\n",
       "<polyline fill=\"none\" stroke=\"#444443\" points=\"151.5,-196 196.5,-196 \"/>\n",
       "<text text-anchor=\"start\" x=\"152.5\" y=\"-200.2\" font-family=\"Times,serif\" font-style=\"italic\" font-size=\"11.00\" fill=\"#444443\">TreeNode</text>\n",
       "<polygon fill=\"#fefecd\" stroke=\"transparent\" points=\"151.5,-194 151.5,-196 196.5,-196 196.5,-194 151.5,-194\"/>\n",
       "<polygon fill=\"#fefecd\" stroke=\"transparent\" points=\"151.5,-180 151.5,-194 175.5,-194 175.5,-180 151.5,-180\"/>\n",
       "<polyline fill=\"none\" stroke=\"#444443\" points=\"175.5,-180 175.5,-194 \"/>\n",
       "<text text-anchor=\"start\" x=\"156.5\" y=\"-184.2\" font-family=\"Helvetica,sans-Serif\" font-size=\"11.00\" fill=\"#444443\">val </text>\n",
       "<polygon fill=\"#fefecd\" stroke=\"transparent\" points=\"177.5,-180 177.5,-194 196.5,-194 196.5,-180 177.5,-180\"/>\n",
       "<text text-anchor=\"start\" x=\"178.5\" y=\"-184.2\" font-family=\"Helvetica,sans-Serif\" font-size=\"11.00\" fill=\"#444443\"> &#39;7&#39;</text>\n",
       "<polyline fill=\"none\" stroke=\"#444443\" points=\"151.5,-177 196.5,-177 \"/>\n",
       "<polygon fill=\"#fefecd\" stroke=\"transparent\" points=\"151.5,-175 151.5,-177 196.5,-177 196.5,-175 151.5,-175\"/>\n",
       "<polygon fill=\"#fefecd\" stroke=\"transparent\" points=\"151.5,-166 151.5,-175 175.5,-175 175.5,-166 151.5,-166\"/>\n",
       "<polyline fill=\"none\" stroke=\"#444443\" points=\"175.5,-166 175.5,-175 \"/>\n",
       "<text text-anchor=\"start\" x=\"152.5\" y=\"-169.2\" font-family=\"Helvetica,sans-Serif\" font-size=\"6.00\" fill=\"#444443\">left</text>\n",
       "<polygon fill=\"#fefecd\" stroke=\"transparent\" points=\"175.5,-166 175.5,-175 177.5,-175 177.5,-166 175.5,-166\"/>\n",
       "<polygon fill=\"#fefecd\" stroke=\"transparent\" points=\"177.5,-166 177.5,-175 196.5,-175 196.5,-166 177.5,-166\"/>\n",
       "<text text-anchor=\"start\" x=\"183.5\" y=\"-169.2\" font-family=\"Helvetica,sans-Serif\" font-size=\"6.00\" fill=\"#444443\">right</text>\n",
       "<polygon fill=\"#fefecd\" stroke=\"transparent\" points=\"151.5,-163 151.5,-166 175.5,-166 175.5,-163 151.5,-163\"/>\n",
       "<polyline fill=\"none\" stroke=\"#444443\" points=\"175.5,-163 175.5,-166 \"/>\n",
       "<text text-anchor=\"start\" x=\"163\" y=\"-164.2\" font-family=\"Helvetica,sans-Serif\" font-size=\"1.00\" fill=\"#444443\"> </text>\n",
       "<polygon fill=\"#fefecd\" stroke=\"transparent\" points=\"175.5,-163 175.5,-166 177.5,-166 177.5,-163 175.5,-163\"/>\n",
       "<polygon fill=\"#fefecd\" stroke=\"transparent\" points=\"177.5,-163 177.5,-166 196.5,-166 196.5,-163 177.5,-163\"/>\n",
       "<text text-anchor=\"start\" x=\"186.5\" y=\"-164.2\" font-family=\"Helvetica,sans-Serif\" font-size=\"1.00\" fill=\"#444443\"> </text>\n",
       "<polygon fill=\"#fefecd\" stroke=\"transparent\" points=\"151.5,-158 151.5,-163 175.5,-163 175.5,-158 151.5,-158\"/>\n",
       "<polyline fill=\"none\" stroke=\"#444443\" points=\"175.5,-158 175.5,-163 \"/>\n",
       "<text text-anchor=\"start\" x=\"163\" y=\"-159.6\" font-family=\"Helvetica,sans-Serif\" font-size=\"3.00\" fill=\"#444443\"> </text>\n",
       "<polygon fill=\"#fefecd\" stroke=\"transparent\" points=\"175.5,-158 175.5,-163 177.5,-163 177.5,-158 175.5,-158\"/>\n",
       "<polygon fill=\"#fefecd\" stroke=\"transparent\" points=\"177.5,-158 177.5,-163 196.5,-163 196.5,-158 177.5,-158\"/>\n",
       "<text text-anchor=\"start\" x=\"186.5\" y=\"-159.6\" font-family=\"Helvetica,sans-Serif\" font-size=\"3.00\" fill=\"#444443\"> </text>\n",
       "</g>\n",
       "<!-- node140549368807584&#45;&gt;node140549429857680 -->\n",
       "<g id=\"edge10\" class=\"edge\">\n",
       "<title>node140549368807584:c&#45;&gt;node140549429857680</title>\n",
       "<path fill=\"none\" stroke=\"#444443\" stroke-width=\"0.5\" d=\"M173.5,-237.52C173.5,-233.05 173.5,-224.86 173.5,-216.26\"/>\n",
       "<ellipse fill=\"#444443\" stroke=\"#444443\" stroke-width=\"0.5\" cx=\"173.5\" cy=\"-239.4\" rx=\"1.6\" ry=\"1.6\"/>\n",
       "<polygon fill=\"#444443\" stroke=\"#444443\" stroke-width=\"0.5\" points=\"174.9,-216.02 173.5,-212.02 172.1,-216.02 174.9,-216.02\"/>\n",
       "</g>\n",
       "</g>\n",
       "</svg>\n"
      ],
      "text/plain": [
       "<graphviz.sources.Source at 0x7fd436b6d4c0>"
      ]
     },
     "execution_count": 108,
     "metadata": {},
     "output_type": "execute_result"
    }
   ],
   "source": [
    "key = 3\n",
    "deleteNode(root, key)\n",
    "treeviz(root)"
   ]
  },
  {
   "cell_type": "markdown",
   "id": "73bb7f26",
   "metadata": {},
   "source": [
    "### 20211129<a id='986'></a>\n",
    "<strong>986. Interval List Intersections</strong>\n",
    "[Quesiton List](#0)\n",
    "    \n",
    "You are given two lists of closed intervals, firstList and secondList, where firstList[i] = [starti, endi] and secondList[j] = [startj, endj]. Each list of intervals is pairwise disjoint and in sorted order.\n",
    "\n",
    "Return the intersection of these two interval lists.\n",
    "\n",
    "A closed interval [a, b] (with a <= b) denotes the set of real numbers x with a <= x <= b.\n",
    "\n",
    "The intersection of two closed intervals is a set of real numbers that are either empty or represented as a closed interval. For example, the intersection of [1, 3] and [2, 4] is [2, 3]."
   ]
  },
  {
   "cell_type": "code",
   "execution_count": 125,
   "id": "0f01e418",
   "metadata": {},
   "outputs": [],
   "source": [
    "def intervalIntersection(firstList, secondList):\n",
    "    m = len(firstList)\n",
    "    n = len(secondList)\n",
    "    if m * n == 0:\n",
    "        return []\n",
    "    \n",
    "    ans = []\n",
    "    i = 0\n",
    "    j = 0\n",
    "    while i < m and j < n:\n",
    "        # two interval doesnt match at all\n",
    "        if firstList[i][1] < secondList[j][0]:\n",
    "            i += 1\n",
    "        elif firstList[i][0] > secondList[j][1]:\n",
    "            j += 1\n",
    "        \n",
    "        # one cover the other\n",
    "        elif firstList[i][0] >= secondList[j][0] and firstList[i][1] <= secondList[j][1]:\n",
    "            ans.append([firstList[i][0], firstList[i][1]])\n",
    "            i += 1\n",
    "        elif secondList[j][0] >= firstList[i][0] and secondList[j][1] <= firstList[i][1]:\n",
    "            ans.append([secondList[j][0], secondList[j][1]])\n",
    "            j += 1\n",
    "        \n",
    "        # two intervals has intersection\n",
    "        elif firstList[i][1] >= secondList[j][0] and firstList[i][1] <= secondList[j][1]:\n",
    "            ans.append([secondList[j][0], firstList[i][1]])\n",
    "            i += 1\n",
    "        elif secondList[j][1] >= firstList[i][0] and secondList[j][1] <= firstList[i][1]:\n",
    "            ans.append([firstList[i][0], secondList[j][1]])\n",
    "            j += 1\n",
    "\n",
    "    return ans"
   ]
  },
  {
   "cell_type": "code",
   "execution_count": 130,
   "id": "36758a94",
   "metadata": {},
   "outputs": [],
   "source": [
    "def intervalIntersection(firstList, secondList):\n",
    "    ans = []\n",
    "    i = 0\n",
    "    j = 0\n",
    "    while i < len(firstList) and j < len(secondList):\n",
    "        low = max(firstList[i][0], secondList[j][0])\n",
    "        high = min(firstList[i][1], secondList[j][1])\n",
    "        \n",
    "        # two intervals overlap, get answer\n",
    "        if low <= high:\n",
    "            ans.append([low, high])\n",
    "        \n",
    "        if firstList[i][1] <= secondList[j][1]:\n",
    "            i += 1\n",
    "        else:\n",
    "            j += 1\n",
    "    \n",
    "    return ans    "
   ]
  },
  {
   "cell_type": "code",
   "execution_count": 131,
   "id": "fb03d9b7",
   "metadata": {},
   "outputs": [
    {
     "data": {
      "text/plain": [
       "[[1, 2], [5, 5], [8, 10], [15, 23], [24, 24], [25, 25]]"
      ]
     },
     "execution_count": 131,
     "metadata": {},
     "output_type": "execute_result"
    }
   ],
   "source": [
    "firstList = [[0,2],[5,10],[13,23],[24,25]]\n",
    "secondList = [[1,5],[8,12],[15,24],[25,26]]\n",
    "intervalIntersection(firstList, secondList)"
   ]
  },
  {
   "cell_type": "code",
   "execution_count": 132,
   "id": "ecd83b8d",
   "metadata": {},
   "outputs": [
    {
     "data": {
      "text/plain": [
       "[]"
      ]
     },
     "execution_count": 132,
     "metadata": {},
     "output_type": "execute_result"
    }
   ],
   "source": [
    "firstList = [[1,3],[5,9]]\n",
    "secondList = []\n",
    "intervalIntersection(firstList, secondList)"
   ]
  },
  {
   "cell_type": "code",
   "execution_count": 133,
   "id": "8dc8a497",
   "metadata": {},
   "outputs": [
    {
     "data": {
      "text/plain": [
       "[[3, 7]]"
      ]
     },
     "execution_count": 133,
     "metadata": {},
     "output_type": "execute_result"
    }
   ],
   "source": [
    "firstList = [[1,7]]\n",
    "secondList = [[3,10]]\n",
    "intervalIntersection(firstList, secondList)"
   ]
  },
  {
   "cell_type": "code",
   "execution_count": 179,
   "id": "88d4f376",
   "metadata": {},
   "outputs": [],
   "source": [
    "## has flaw\n",
    "# having an email lookup dict to keet track where to add the email\n",
    "# having a list of set to add all the email occurs and keep the index as the corresponding person\n",
    "def accountsMerge(accounts):\n",
    "    lookup = {}\n",
    "    emails = [set()] * len(accounts)\n",
    "    for i, account in enumerate(accounts):\n",
    "        email_to_add = []\n",
    "        same = -1\n",
    "        email_list = account[1:]\n",
    "        for email in email_list:\n",
    "            # the email occurs before\n",
    "            if email in lookup:\n",
    "                same = lookup[email]\n",
    "                continue\n",
    "            email_to_add.append(email)\n",
    "        \n",
    "        if same == -1:\n",
    "            index = i\n",
    "        else:\n",
    "            index = same\n",
    "        print(index,email_to_add)\n",
    "        emails[index] = emails[index].union(set(email_to_add))\n",
    "        for email in email_to_add:\n",
    "            lookup[email] = index\n",
    "            \n",
    "    ans = []\n",
    "    for idx, email in enumerate(emails):\n",
    "        if len(email) != 0:\n",
    "            ans.append([accounts[idx][0]] + list(sorted(email)))\n",
    "    \n",
    "    return ans"
   ]
  },
  {
   "cell_type": "code",
   "execution_count": 173,
   "id": "774bbdee",
   "metadata": {},
   "outputs": [
    {
     "name": "stdout",
     "output_type": "stream",
     "text": [
      "[{'john_newyork@mail.com', 'john00@mail.com', 'johnsmith@mail.com'}, set(), {'mary@mail.com'}, {'johnnybravo@mail.com'}]\n"
     ]
    },
    {
     "data": {
      "text/plain": [
       "[['John', 'john00@mail.com', 'john_newyork@mail.com', 'johnsmith@mail.com'],\n",
       " ['Mary', 'mary@mail.com'],\n",
       " ['John', 'johnnybravo@mail.com']]"
      ]
     },
     "execution_count": 173,
     "metadata": {},
     "output_type": "execute_result"
    }
   ],
   "source": [
    "accounts = [[\"John\",\"johnsmith@mail.com\",\"john_newyork@mail.com\"],[\"John\",\"johnsmith@mail.com\",\"john00@mail.com\"],[\"Mary\",\"mary@mail.com\"],[\"John\",\"johnnybravo@mail.com\"]]\n",
    "accountsMerge(accounts)"
   ]
  },
  {
   "cell_type": "code",
   "execution_count": 168,
   "id": "ce00e75f",
   "metadata": {},
   "outputs": [
    {
     "data": {
      "text/plain": [
       "[['Gabe', 'Gabe3@m.co', 'Gabe1@m.co', 'Gabe0@m.co'],\n",
       " ['Kevin', 'Kevin3@m.co', 'Kevin0@m.co', 'Kevin5@m.co'],\n",
       " ['Ethan', 'Ethan5@m.co', 'Ethan0@m.co', 'Ethan4@m.co'],\n",
       " ['Hanzo', 'Hanzo0@m.co', 'Hanzo3@m.co', 'Hanzo1@m.co'],\n",
       " ['Fern', 'Fern5@m.co', 'Fern1@m.co', 'Fern0@m.co']]"
      ]
     },
     "execution_count": 168,
     "metadata": {},
     "output_type": "execute_result"
    }
   ],
   "source": [
    "accounts = [[\"Gabe\",\"Gabe0@m.co\",\"Gabe3@m.co\",\"Gabe1@m.co\"],[\"Kevin\",\"Kevin3@m.co\",\"Kevin5@m.co\",\"Kevin0@m.co\"],[\"Ethan\",\"Ethan5@m.co\",\"Ethan4@m.co\",\"Ethan0@m.co\"],[\"Hanzo\",\"Hanzo3@m.co\",\"Hanzo1@m.co\",\"Hanzo0@m.co\"],[\"Fern\",\"Fern5@m.co\",\"Fern1@m.co\",\"Fern0@m.co\"]]\n",
    "accountsMerge(accounts)"
   ]
  },
  {
   "cell_type": "code",
   "execution_count": 180,
   "id": "f2c7386c",
   "metadata": {},
   "outputs": [
    {
     "name": "stdout",
     "output_type": "stream",
     "text": [
      "0 ['David0@m.co', 'David1@m.co']\n",
      "1 ['David3@m.co', 'David4@m.co']\n",
      "1 ['David5@m.co']\n",
      "1 ['David2@m.co']\n",
      "1 []\n"
     ]
    },
    {
     "data": {
      "text/plain": [
       "[['David', 'David0@m.co', 'David1@m.co'],\n",
       " ['David', 'David2@m.co', 'David3@m.co', 'David4@m.co', 'David5@m.co']]"
      ]
     },
     "execution_count": 180,
     "metadata": {},
     "output_type": "execute_result"
    }
   ],
   "source": [
    "accounts = [[\"David\",\"David0@m.co\",\"David1@m.co\"],[\"David\",\"David3@m.co\",\"David4@m.co\"],[\"David\",\"David4@m.co\",\"David5@m.co\"],[\"David\",\"David2@m.co\",\"David3@m.co\"],[\"David\",\"David1@m.co\",\"David2@m.co\"]]\n",
    "accountsMerge(accounts)"
   ]
  }
 ],
 "metadata": {
  "kernelspec": {
   "display_name": "Python 3",
   "language": "python",
   "name": "python3"
  },
  "language_info": {
   "codemirror_mode": {
    "name": "ipython",
    "version": 3
   },
   "file_extension": ".py",
   "mimetype": "text/x-python",
   "name": "python",
   "nbconvert_exporter": "python",
   "pygments_lexer": "ipython3",
   "version": "3.8.8"
  }
 },
 "nbformat": 4,
 "nbformat_minor": 5
}
